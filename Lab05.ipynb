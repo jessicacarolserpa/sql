{
    "metadata": {
        "kernelspec": {
            "name": "SQL",
            "display_name": "SQL",
            "language": "sql"
        },
        "language_info": {
            "name": "sql",
            "version": ""
        },
        "extensions": {
            "azuredatastudio": {
                "version": 1,
                "views": []
            }
        }
    },
    "nbformat_minor": 2,
    "nbformat": 4,
    "cells": [
        {
            "cell_type": "markdown",
            "source": [
                "**<u>Lab05</u>**"
            ],
            "metadata": {
                "azdata_cell_guid": "a4d3ce10-edb2-4b83-a6e1-f4e0ca1c9b57"
            },
            "attachments": {}
        },
        {
            "cell_type": "markdown",
            "source": [
                "**Challenge 1**\n",
                "\n",
                "  \n",
                "\n",
                "**1.** Retrieve the name and approximate weight of each product Write a query to return the product ID of each product, together with the product name formatted as upper case and a column named ApproxWeight with the weight of each product rounded to the nearest whole unit."
            ],
            "metadata": {
                "azdata_cell_guid": "5736c8b3-7515-4021-a190-d97df91c4a1b"
            },
            "attachments": {}
        },
        {
            "cell_type": "code",
            "source": [
                "SELECT ProductID, \r\n",
                "UPPER(Name) AS ProductName, \r\n",
                "ROUND(Weight, 0) AS ApproxWeight\r\n",
                "FROM Product;"
            ],
            "metadata": {
                "azdata_cell_guid": "4abdd014-9ddf-4e72-8265-a154dc17cbe2"
            },
            "outputs": [
                {
                    "output_type": "display_data",
                    "data": {
                        "text/html": "(299 rows affected)"
                    },
                    "metadata": {}
                },
                {
                    "output_type": "display_data",
                    "data": {
                        "text/html": "Total execution time: 00:00:00.112"
                    },
                    "metadata": {}
                },
                {
                    "output_type": "execute_result",
                    "metadata": {},
                    "execution_count": 1,
                    "data": {
                        "application/vnd.dataresource+json": {
                            "schema": {
                                "fields": [
                                    {
                                        "name": "ProductID"
                                    },
                                    {
                                        "name": "ProductName"
                                    },
                                    {
                                        "name": "ApproxWeight"
                                    }
                                ]
                            },
                            "data": [
                                {
                                    "0": "680",
                                    "1": "HL ROAD FRAME - BLACK, 58",
                                    "2": "1016.00"
                                },
                                {
                                    "0": "706",
                                    "1": "HL ROAD FRAME - RED, 58",
                                    "2": "1016.00"
                                },
                                {
                                    "0": "707",
                                    "1": "SPORT-100 HELMET, RED",
                                    "2": "NULL"
                                },
                                {
                                    "0": "708",
                                    "1": "SPORT-100 HELMET, BLACK",
                                    "2": "NULL"
                                },
                                {
                                    "0": "709",
                                    "1": "MOUNTAIN BIKE SOCKS, M",
                                    "2": "NULL"
                                },
                                {
                                    "0": "710",
                                    "1": "MOUNTAIN BIKE SOCKS, L",
                                    "2": "NULL"
                                },
                                {
                                    "0": "711",
                                    "1": "SPORT-100 HELMET, BLUE",
                                    "2": "NULL"
                                },
                                {
                                    "0": "712",
                                    "1": "AWC LOGO CAP",
                                    "2": "NULL"
                                },
                                {
                                    "0": "713",
                                    "1": "LONG-SLEEVE LOGO JERSEY, S",
                                    "2": "NULL"
                                },
                                {
                                    "0": "714",
                                    "1": "LONG-SLEEVE LOGO JERSEY, M",
                                    "2": "NULL"
                                },
                                {
                                    "0": "715",
                                    "1": "LONG-SLEEVE LOGO JERSEY, L",
                                    "2": "NULL"
                                },
                                {
                                    "0": "716",
                                    "1": "LONG-SLEEVE LOGO JERSEY, XL",
                                    "2": "NULL"
                                },
                                {
                                    "0": "717",
                                    "1": "HL ROAD FRAME - RED, 62",
                                    "2": "1043.00"
                                },
                                {
                                    "0": "718",
                                    "1": "HL ROAD FRAME - RED, 44",
                                    "2": "962.00"
                                },
                                {
                                    "0": "719",
                                    "1": "HL ROAD FRAME - RED, 48",
                                    "2": "980.00"
                                },
                                {
                                    "0": "720",
                                    "1": "HL ROAD FRAME - RED, 52",
                                    "2": "998.00"
                                },
                                {
                                    "0": "721",
                                    "1": "HL ROAD FRAME - RED, 56",
                                    "2": "1016.00"
                                },
                                {
                                    "0": "722",
                                    "1": "LL ROAD FRAME - BLACK, 58",
                                    "2": "1116.00"
                                },
                                {
                                    "0": "723",
                                    "1": "LL ROAD FRAME - BLACK, 60",
                                    "2": "1125.00"
                                },
                                {
                                    "0": "724",
                                    "1": "LL ROAD FRAME - BLACK, 62",
                                    "2": "1134.00"
                                },
                                {
                                    "0": "725",
                                    "1": "LL ROAD FRAME - RED, 44",
                                    "2": "1052.00"
                                },
                                {
                                    "0": "726",
                                    "1": "LL ROAD FRAME - RED, 48",
                                    "2": "1070.00"
                                },
                                {
                                    "0": "727",
                                    "1": "LL ROAD FRAME - RED, 52",
                                    "2": "1089.00"
                                },
                                {
                                    "0": "728",
                                    "1": "LL ROAD FRAME - RED, 58",
                                    "2": "1116.00"
                                },
                                {
                                    "0": "729",
                                    "1": "LL ROAD FRAME - RED, 60",
                                    "2": "1125.00"
                                },
                                {
                                    "0": "730",
                                    "1": "LL ROAD FRAME - RED, 62",
                                    "2": "1134.00"
                                },
                                {
                                    "0": "731",
                                    "1": "ML ROAD FRAME - RED, 44",
                                    "2": "1007.00"
                                },
                                {
                                    "0": "732",
                                    "1": "ML ROAD FRAME - RED, 48",
                                    "2": "1025.00"
                                },
                                {
                                    "0": "733",
                                    "1": "ML ROAD FRAME - RED, 52",
                                    "2": "1043.00"
                                },
                                {
                                    "0": "734",
                                    "1": "ML ROAD FRAME - RED, 58",
                                    "2": "1070.00"
                                },
                                {
                                    "0": "735",
                                    "1": "ML ROAD FRAME - RED, 60",
                                    "2": "1080.00"
                                },
                                {
                                    "0": "736",
                                    "1": "LL ROAD FRAME - BLACK, 44",
                                    "2": "1052.00"
                                },
                                {
                                    "0": "737",
                                    "1": "LL ROAD FRAME - BLACK, 48",
                                    "2": "1070.00"
                                },
                                {
                                    "0": "738",
                                    "1": "LL ROAD FRAME - BLACK, 52",
                                    "2": "1089.00"
                                },
                                {
                                    "0": "739",
                                    "1": "HL MOUNTAIN FRAME - SILVER, 42",
                                    "2": "1234.00"
                                },
                                {
                                    "0": "740",
                                    "1": "HL MOUNTAIN FRAME - SILVER, 44",
                                    "2": "1252.00"
                                },
                                {
                                    "0": "741",
                                    "1": "HL MOUNTAIN FRAME - SILVER, 48",
                                    "2": "1270.00"
                                },
                                {
                                    "0": "742",
                                    "1": "HL MOUNTAIN FRAME - SILVER, 46",
                                    "2": "1288.00"
                                },
                                {
                                    "0": "743",
                                    "1": "HL MOUNTAIN FRAME - BLACK, 42",
                                    "2": "1234.00"
                                },
                                {
                                    "0": "744",
                                    "1": "HL MOUNTAIN FRAME - BLACK, 44",
                                    "2": "1252.00"
                                },
                                {
                                    "0": "745",
                                    "1": "HL MOUNTAIN FRAME - BLACK, 48",
                                    "2": "1270.00"
                                },
                                {
                                    "0": "746",
                                    "1": "HL MOUNTAIN FRAME - BLACK, 46",
                                    "2": "1288.00"
                                },
                                {
                                    "0": "747",
                                    "1": "HL MOUNTAIN FRAME - BLACK, 38",
                                    "2": "1216.00"
                                },
                                {
                                    "0": "748",
                                    "1": "HL MOUNTAIN FRAME - SILVER, 38",
                                    "2": "1216.00"
                                },
                                {
                                    "0": "749",
                                    "1": "ROAD-150 RED, 62",
                                    "2": "6804.00"
                                },
                                {
                                    "0": "750",
                                    "1": "ROAD-150 RED, 44",
                                    "2": "6246.00"
                                },
                                {
                                    "0": "751",
                                    "1": "ROAD-150 RED, 48",
                                    "2": "6409.00"
                                },
                                {
                                    "0": "752",
                                    "1": "ROAD-150 RED, 52",
                                    "2": "6541.00"
                                },
                                {
                                    "0": "753",
                                    "1": "ROAD-150 RED, 56",
                                    "2": "6659.00"
                                },
                                {
                                    "0": "754",
                                    "1": "ROAD-450 RED, 58",
                                    "2": "8069.00"
                                },
                                {
                                    "0": "755",
                                    "1": "ROAD-450 RED, 60",
                                    "2": "8119.00"
                                },
                                {
                                    "0": "756",
                                    "1": "ROAD-450 RED, 44",
                                    "2": "7607.00"
                                },
                                {
                                    "0": "757",
                                    "1": "ROAD-450 RED, 48",
                                    "2": "7770.00"
                                },
                                {
                                    "0": "758",
                                    "1": "ROAD-450 RED, 52",
                                    "2": "7902.00"
                                },
                                {
                                    "0": "759",
                                    "1": "ROAD-650 RED, 58",
                                    "2": "8977.00"
                                },
                                {
                                    "0": "760",
                                    "1": "ROAD-650 RED, 60",
                                    "2": "9026.00"
                                },
                                {
                                    "0": "761",
                                    "1": "ROAD-650 RED, 62",
                                    "2": "9072.00"
                                },
                                {
                                    "0": "762",
                                    "1": "ROAD-650 RED, 44",
                                    "2": "8514.00"
                                },
                                {
                                    "0": "763",
                                    "1": "ROAD-650 RED, 48",
                                    "2": "8677.00"
                                },
                                {
                                    "0": "764",
                                    "1": "ROAD-650 RED, 52",
                                    "2": "8809.00"
                                },
                                {
                                    "0": "765",
                                    "1": "ROAD-650 BLACK, 58",
                                    "2": "8977.00"
                                },
                                {
                                    "0": "766",
                                    "1": "ROAD-650 BLACK, 60",
                                    "2": "9026.00"
                                },
                                {
                                    "0": "767",
                                    "1": "ROAD-650 BLACK, 62",
                                    "2": "9072.00"
                                },
                                {
                                    "0": "768",
                                    "1": "ROAD-650 BLACK, 44",
                                    "2": "8514.00"
                                },
                                {
                                    "0": "769",
                                    "1": "ROAD-650 BLACK, 48",
                                    "2": "8677.00"
                                },
                                {
                                    "0": "770",
                                    "1": "ROAD-650 BLACK, 52",
                                    "2": "8809.00"
                                },
                                {
                                    "0": "771",
                                    "1": "MOUNTAIN-100 SILVER, 38",
                                    "2": "9231.00"
                                },
                                {
                                    "0": "772",
                                    "1": "MOUNTAIN-100 SILVER, 42",
                                    "2": "9421.00"
                                },
                                {
                                    "0": "773",
                                    "1": "MOUNTAIN-100 SILVER, 44",
                                    "2": "9584.00"
                                },
                                {
                                    "0": "774",
                                    "1": "MOUNTAIN-100 SILVER, 48",
                                    "2": "9716.00"
                                },
                                {
                                    "0": "775",
                                    "1": "MOUNTAIN-100 BLACK, 38",
                                    "2": "9231.00"
                                },
                                {
                                    "0": "776",
                                    "1": "MOUNTAIN-100 BLACK, 42",
                                    "2": "9421.00"
                                },
                                {
                                    "0": "777",
                                    "1": "MOUNTAIN-100 BLACK, 44",
                                    "2": "9584.00"
                                },
                                {
                                    "0": "778",
                                    "1": "MOUNTAIN-100 BLACK, 48",
                                    "2": "9716.00"
                                },
                                {
                                    "0": "779",
                                    "1": "MOUNTAIN-200 SILVER, 38",
                                    "2": "10591.00"
                                },
                                {
                                    "0": "780",
                                    "1": "MOUNTAIN-200 SILVER, 42",
                                    "2": "10782.00"
                                },
                                {
                                    "0": "781",
                                    "1": "MOUNTAIN-200 SILVER, 46",
                                    "2": "10945.00"
                                },
                                {
                                    "0": "782",
                                    "1": "MOUNTAIN-200 BLACK, 38",
                                    "2": "10591.00"
                                },
                                {
                                    "0": "783",
                                    "1": "MOUNTAIN-200 BLACK, 42",
                                    "2": "10782.00"
                                },
                                {
                                    "0": "784",
                                    "1": "MOUNTAIN-200 BLACK, 46",
                                    "2": "10945.00"
                                },
                                {
                                    "0": "785",
                                    "1": "MOUNTAIN-300 BLACK, 38",
                                    "2": "11499.00"
                                },
                                {
                                    "0": "786",
                                    "1": "MOUNTAIN-300 BLACK, 40",
                                    "2": "11689.00"
                                },
                                {
                                    "0": "787",
                                    "1": "MOUNTAIN-300 BLACK, 44",
                                    "2": "11852.00"
                                },
                                {
                                    "0": "788",
                                    "1": "MOUNTAIN-300 BLACK, 48",
                                    "2": "11984.00"
                                },
                                {
                                    "0": "789",
                                    "1": "ROAD-250 RED, 44",
                                    "2": "6700.00"
                                },
                                {
                                    "0": "790",
                                    "1": "ROAD-250 RED, 48",
                                    "2": "6863.00"
                                },
                                {
                                    "0": "791",
                                    "1": "ROAD-250 RED, 52",
                                    "2": "6994.00"
                                },
                                {
                                    "0": "792",
                                    "1": "ROAD-250 RED, 58",
                                    "2": "7162.00"
                                },
                                {
                                    "0": "793",
                                    "1": "ROAD-250 BLACK, 44",
                                    "2": "6700.00"
                                },
                                {
                                    "0": "794",
                                    "1": "ROAD-250 BLACK, 48",
                                    "2": "6863.00"
                                },
                                {
                                    "0": "795",
                                    "1": "ROAD-250 BLACK, 52",
                                    "2": "6994.00"
                                },
                                {
                                    "0": "796",
                                    "1": "ROAD-250 BLACK, 58",
                                    "2": "7112.00"
                                },
                                {
                                    "0": "797",
                                    "1": "ROAD-550-W YELLOW, 38",
                                    "2": "7870.00"
                                },
                                {
                                    "0": "798",
                                    "1": "ROAD-550-W YELLOW, 40",
                                    "2": "8060.00"
                                },
                                {
                                    "0": "799",
                                    "1": "ROAD-550-W YELLOW, 42",
                                    "2": "8224.00"
                                },
                                {
                                    "0": "800",
                                    "1": "ROAD-550-W YELLOW, 44",
                                    "2": "8355.00"
                                },
                                {
                                    "0": "801",
                                    "1": "ROAD-550-W YELLOW, 48",
                                    "2": "8473.00"
                                },
                                {
                                    "0": "802",
                                    "1": "LL FORK",
                                    "2": "NULL"
                                },
                                {
                                    "0": "803",
                                    "1": "ML FORK",
                                    "2": "NULL"
                                },
                                {
                                    "0": "804",
                                    "1": "HL FORK",
                                    "2": "NULL"
                                },
                                {
                                    "0": "805",
                                    "1": "LL HEADSET",
                                    "2": "NULL"
                                },
                                {
                                    "0": "806",
                                    "1": "ML HEADSET",
                                    "2": "NULL"
                                },
                                {
                                    "0": "807",
                                    "1": "HL HEADSET",
                                    "2": "NULL"
                                },
                                {
                                    "0": "808",
                                    "1": "LL MOUNTAIN HANDLEBARS",
                                    "2": "NULL"
                                },
                                {
                                    "0": "809",
                                    "1": "ML MOUNTAIN HANDLEBARS",
                                    "2": "NULL"
                                },
                                {
                                    "0": "810",
                                    "1": "HL MOUNTAIN HANDLEBARS",
                                    "2": "NULL"
                                },
                                {
                                    "0": "811",
                                    "1": "LL ROAD HANDLEBARS",
                                    "2": "NULL"
                                },
                                {
                                    "0": "812",
                                    "1": "ML ROAD HANDLEBARS",
                                    "2": "NULL"
                                },
                                {
                                    "0": "813",
                                    "1": "HL ROAD HANDLEBARS",
                                    "2": "NULL"
                                },
                                {
                                    "0": "814",
                                    "1": "ML MOUNTAIN FRAME - BLACK, 38",
                                    "2": "1238.00"
                                },
                                {
                                    "0": "815",
                                    "1": "LL MOUNTAIN FRONT WHEEL",
                                    "2": "NULL"
                                },
                                {
                                    "0": "816",
                                    "1": "ML MOUNTAIN FRONT WHEEL",
                                    "2": "NULL"
                                },
                                {
                                    "0": "817",
                                    "1": "HL MOUNTAIN FRONT WHEEL",
                                    "2": "NULL"
                                },
                                {
                                    "0": "818",
                                    "1": "LL ROAD FRONT WHEEL",
                                    "2": "900.00"
                                },
                                {
                                    "0": "819",
                                    "1": "ML ROAD FRONT WHEEL",
                                    "2": "850.00"
                                },
                                {
                                    "0": "820",
                                    "1": "HL ROAD FRONT WHEEL",
                                    "2": "650.00"
                                },
                                {
                                    "0": "821",
                                    "1": "TOURING FRONT WHEEL",
                                    "2": "NULL"
                                },
                                {
                                    "0": "822",
                                    "1": "ML ROAD FRAME-W - YELLOW, 38",
                                    "2": "989.00"
                                },
                                {
                                    "0": "823",
                                    "1": "LL MOUNTAIN REAR WHEEL",
                                    "2": "NULL"
                                },
                                {
                                    "0": "824",
                                    "1": "ML MOUNTAIN REAR WHEEL",
                                    "2": "NULL"
                                },
                                {
                                    "0": "825",
                                    "1": "HL MOUNTAIN REAR WHEEL",
                                    "2": "NULL"
                                },
                                {
                                    "0": "826",
                                    "1": "LL ROAD REAR WHEEL",
                                    "2": "1050.00"
                                },
                                {
                                    "0": "827",
                                    "1": "ML ROAD REAR WHEEL",
                                    "2": "1000.00"
                                },
                                {
                                    "0": "828",
                                    "1": "HL ROAD REAR WHEEL",
                                    "2": "890.00"
                                },
                                {
                                    "0": "829",
                                    "1": "TOURING REAR WHEEL",
                                    "2": "NULL"
                                },
                                {
                                    "0": "830",
                                    "1": "ML MOUNTAIN FRAME - BLACK, 40",
                                    "2": "1256.00"
                                },
                                {
                                    "0": "831",
                                    "1": "ML MOUNTAIN FRAME - BLACK, 44",
                                    "2": "1275.00"
                                },
                                {
                                    "0": "832",
                                    "1": "ML MOUNTAIN FRAME - BLACK, 48",
                                    "2": "1293.00"
                                },
                                {
                                    "0": "833",
                                    "1": "ML ROAD FRAME-W - YELLOW, 40",
                                    "2": "1007.00"
                                },
                                {
                                    "0": "834",
                                    "1": "ML ROAD FRAME-W - YELLOW, 42",
                                    "2": "1025.00"
                                },
                                {
                                    "0": "835",
                                    "1": "ML ROAD FRAME-W - YELLOW, 44",
                                    "2": "1043.00"
                                },
                                {
                                    "0": "836",
                                    "1": "ML ROAD FRAME-W - YELLOW, 48",
                                    "2": "1061.00"
                                },
                                {
                                    "0": "837",
                                    "1": "HL ROAD FRAME - BLACK, 62",
                                    "2": "1043.00"
                                },
                                {
                                    "0": "838",
                                    "1": "HL ROAD FRAME - BLACK, 44",
                                    "2": "962.00"
                                },
                                {
                                    "0": "839",
                                    "1": "HL ROAD FRAME - BLACK, 48",
                                    "2": "980.00"
                                },
                                {
                                    "0": "840",
                                    "1": "HL ROAD FRAME - BLACK, 52",
                                    "2": "998.00"
                                },
                                {
                                    "0": "841",
                                    "1": "MEN'S SPORTS SHORTS, S",
                                    "2": "NULL"
                                },
                                {
                                    "0": "842",
                                    "1": "TOURING-PANNIERS, LARGE",
                                    "2": "NULL"
                                },
                                {
                                    "0": "843",
                                    "1": "CABLE LOCK",
                                    "2": "NULL"
                                },
                                {
                                    "0": "844",
                                    "1": "MINIPUMP",
                                    "2": "NULL"
                                },
                                {
                                    "0": "845",
                                    "1": "MOUNTAIN PUMP",
                                    "2": "NULL"
                                },
                                {
                                    "0": "846",
                                    "1": "TAILLIGHTS - BATTERY-POWERED",
                                    "2": "NULL"
                                },
                                {
                                    "0": "847",
                                    "1": "HEADLIGHTS - DUAL-BEAM",
                                    "2": "NULL"
                                },
                                {
                                    "0": "848",
                                    "1": "HEADLIGHTS - WEATHERPROOF",
                                    "2": "NULL"
                                },
                                {
                                    "0": "849",
                                    "1": "MEN'S SPORTS SHORTS, M",
                                    "2": "NULL"
                                },
                                {
                                    "0": "850",
                                    "1": "MEN'S SPORTS SHORTS, L",
                                    "2": "NULL"
                                },
                                {
                                    "0": "851",
                                    "1": "MEN'S SPORTS SHORTS, XL",
                                    "2": "NULL"
                                },
                                {
                                    "0": "852",
                                    "1": "WOMEN'S TIGHTS, S",
                                    "2": "NULL"
                                },
                                {
                                    "0": "853",
                                    "1": "WOMEN'S TIGHTS, M",
                                    "2": "NULL"
                                },
                                {
                                    "0": "854",
                                    "1": "WOMEN'S TIGHTS, L",
                                    "2": "NULL"
                                },
                                {
                                    "0": "855",
                                    "1": "MEN'S BIB-SHORTS, S",
                                    "2": "NULL"
                                },
                                {
                                    "0": "856",
                                    "1": "MEN'S BIB-SHORTS, M",
                                    "2": "NULL"
                                },
                                {
                                    "0": "857",
                                    "1": "MEN'S BIB-SHORTS, L",
                                    "2": "NULL"
                                },
                                {
                                    "0": "858",
                                    "1": "HALF-FINGER GLOVES, S",
                                    "2": "NULL"
                                },
                                {
                                    "0": "859",
                                    "1": "HALF-FINGER GLOVES, M",
                                    "2": "NULL"
                                },
                                {
                                    "0": "860",
                                    "1": "HALF-FINGER GLOVES, L",
                                    "2": "NULL"
                                },
                                {
                                    "0": "861",
                                    "1": "FULL-FINGER GLOVES, S",
                                    "2": "NULL"
                                },
                                {
                                    "0": "862",
                                    "1": "FULL-FINGER GLOVES, M",
                                    "2": "NULL"
                                },
                                {
                                    "0": "863",
                                    "1": "FULL-FINGER GLOVES, L",
                                    "2": "NULL"
                                },
                                {
                                    "0": "864",
                                    "1": "CLASSIC VEST, S",
                                    "2": "NULL"
                                },
                                {
                                    "0": "865",
                                    "1": "CLASSIC VEST, M",
                                    "2": "NULL"
                                },
                                {
                                    "0": "866",
                                    "1": "CLASSIC VEST, L",
                                    "2": "NULL"
                                },
                                {
                                    "0": "867",
                                    "1": "WOMEN'S MOUNTAIN SHORTS, S",
                                    "2": "NULL"
                                },
                                {
                                    "0": "868",
                                    "1": "WOMEN'S MOUNTAIN SHORTS, M",
                                    "2": "NULL"
                                },
                                {
                                    "0": "869",
                                    "1": "WOMEN'S MOUNTAIN SHORTS, L",
                                    "2": "NULL"
                                },
                                {
                                    "0": "870",
                                    "1": "WATER BOTTLE - 30 OZ.",
                                    "2": "NULL"
                                },
                                {
                                    "0": "871",
                                    "1": "MOUNTAIN BOTTLE CAGE",
                                    "2": "NULL"
                                },
                                {
                                    "0": "872",
                                    "1": "ROAD BOTTLE CAGE",
                                    "2": "NULL"
                                },
                                {
                                    "0": "873",
                                    "1": "PATCH KIT/8 PATCHES",
                                    "2": "NULL"
                                },
                                {
                                    "0": "874",
                                    "1": "RACING SOCKS, M",
                                    "2": "NULL"
                                },
                                {
                                    "0": "875",
                                    "1": "RACING SOCKS, L",
                                    "2": "NULL"
                                },
                                {
                                    "0": "876",
                                    "1": "HITCH RACK - 4-BIKE",
                                    "2": "NULL"
                                },
                                {
                                    "0": "877",
                                    "1": "BIKE WASH - DISSOLVER",
                                    "2": "NULL"
                                },
                                {
                                    "0": "878",
                                    "1": "FENDER SET - MOUNTAIN",
                                    "2": "NULL"
                                },
                                {
                                    "0": "879",
                                    "1": "ALL-PURPOSE BIKE STAND",
                                    "2": "NULL"
                                },
                                {
                                    "0": "880",
                                    "1": "HYDRATION PACK - 70 OZ.",
                                    "2": "NULL"
                                },
                                {
                                    "0": "881",
                                    "1": "SHORT-SLEEVE CLASSIC JERSEY, S",
                                    "2": "NULL"
                                },
                                {
                                    "0": "882",
                                    "1": "SHORT-SLEEVE CLASSIC JERSEY, M",
                                    "2": "NULL"
                                },
                                {
                                    "0": "883",
                                    "1": "SHORT-SLEEVE CLASSIC JERSEY, L",
                                    "2": "NULL"
                                },
                                {
                                    "0": "884",
                                    "1": "SHORT-SLEEVE CLASSIC JERSEY, XL",
                                    "2": "NULL"
                                },
                                {
                                    "0": "885",
                                    "1": "HL TOURING FRAME - YELLOW, 60",
                                    "2": "1397.00"
                                },
                                {
                                    "0": "886",
                                    "1": "LL TOURING FRAME - YELLOW, 62",
                                    "2": "1451.00"
                                },
                                {
                                    "0": "887",
                                    "1": "HL TOURING FRAME - YELLOW, 46",
                                    "2": "1343.00"
                                },
                                {
                                    "0": "888",
                                    "1": "HL TOURING FRAME - YELLOW, 50",
                                    "2": "1361.00"
                                },
                                {
                                    "0": "889",
                                    "1": "HL TOURING FRAME - YELLOW, 54",
                                    "2": "1379.00"
                                },
                                {
                                    "0": "890",
                                    "1": "HL TOURING FRAME - BLUE, 46",
                                    "2": "1343.00"
                                },
                                {
                                    "0": "891",
                                    "1": "HL TOURING FRAME - BLUE, 50",
                                    "2": "1361.00"
                                },
                                {
                                    "0": "892",
                                    "1": "HL TOURING FRAME - BLUE, 54",
                                    "2": "1379.00"
                                },
                                {
                                    "0": "893",
                                    "1": "HL TOURING FRAME - BLUE, 60",
                                    "2": "1397.00"
                                },
                                {
                                    "0": "894",
                                    "1": "REAR DERAILLEUR",
                                    "2": "215.00"
                                },
                                {
                                    "0": "895",
                                    "1": "LL TOURING FRAME - BLUE, 50",
                                    "2": "1406.00"
                                },
                                {
                                    "0": "896",
                                    "1": "LL TOURING FRAME - BLUE, 54",
                                    "2": "1424.00"
                                },
                                {
                                    "0": "897",
                                    "1": "LL TOURING FRAME - BLUE, 58",
                                    "2": "1433.00"
                                },
                                {
                                    "0": "898",
                                    "1": "LL TOURING FRAME - BLUE, 62",
                                    "2": "1451.00"
                                },
                                {
                                    "0": "899",
                                    "1": "LL TOURING FRAME - YELLOW, 44",
                                    "2": "1370.00"
                                },
                                {
                                    "0": "900",
                                    "1": "LL TOURING FRAME - YELLOW, 50",
                                    "2": "1406.00"
                                },
                                {
                                    "0": "901",
                                    "1": "LL TOURING FRAME - YELLOW, 54",
                                    "2": "1424.00"
                                },
                                {
                                    "0": "902",
                                    "1": "LL TOURING FRAME - YELLOW, 58",
                                    "2": "1433.00"
                                },
                                {
                                    "0": "903",
                                    "1": "LL TOURING FRAME - BLUE, 44",
                                    "2": "1370.00"
                                },
                                {
                                    "0": "904",
                                    "1": "ML MOUNTAIN FRAME-W - SILVER, 40",
                                    "2": "1256.00"
                                },
                                {
                                    "0": "905",
                                    "1": "ML MOUNTAIN FRAME-W - SILVER, 42",
                                    "2": "1275.00"
                                },
                                {
                                    "0": "906",
                                    "1": "ML MOUNTAIN FRAME-W - SILVER, 46",
                                    "2": "1293.00"
                                },
                                {
                                    "0": "907",
                                    "1": "REAR BRAKES",
                                    "2": "317.00"
                                },
                                {
                                    "0": "908",
                                    "1": "LL MOUNTAIN SEAT/SADDLE",
                                    "2": "NULL"
                                },
                                {
                                    "0": "909",
                                    "1": "ML MOUNTAIN SEAT/SADDLE",
                                    "2": "NULL"
                                },
                                {
                                    "0": "910",
                                    "1": "HL MOUNTAIN SEAT/SADDLE",
                                    "2": "NULL"
                                },
                                {
                                    "0": "911",
                                    "1": "LL ROAD SEAT/SADDLE",
                                    "2": "NULL"
                                },
                                {
                                    "0": "912",
                                    "1": "ML ROAD SEAT/SADDLE",
                                    "2": "NULL"
                                },
                                {
                                    "0": "913",
                                    "1": "HL ROAD SEAT/SADDLE",
                                    "2": "NULL"
                                },
                                {
                                    "0": "914",
                                    "1": "LL TOURING SEAT/SADDLE",
                                    "2": "NULL"
                                },
                                {
                                    "0": "915",
                                    "1": "ML TOURING SEAT/SADDLE",
                                    "2": "NULL"
                                },
                                {
                                    "0": "916",
                                    "1": "HL TOURING SEAT/SADDLE",
                                    "2": "NULL"
                                },
                                {
                                    "0": "917",
                                    "1": "LL MOUNTAIN FRAME - SILVER, 42",
                                    "2": "1324.00"
                                },
                                {
                                    "0": "918",
                                    "1": "LL MOUNTAIN FRAME - SILVER, 44",
                                    "2": "1343.00"
                                },
                                {
                                    "0": "919",
                                    "1": "LL MOUNTAIN FRAME - SILVER, 48",
                                    "2": "1361.00"
                                },
                                {
                                    "0": "920",
                                    "1": "LL MOUNTAIN FRAME - SILVER, 52",
                                    "2": "1379.00"
                                },
                                {
                                    "0": "921",
                                    "1": "MOUNTAIN TIRE TUBE",
                                    "2": "NULL"
                                },
                                {
                                    "0": "922",
                                    "1": "ROAD TIRE TUBE",
                                    "2": "NULL"
                                },
                                {
                                    "0": "923",
                                    "1": "TOURING TIRE TUBE",
                                    "2": "NULL"
                                },
                                {
                                    "0": "924",
                                    "1": "LL MOUNTAIN FRAME - BLACK, 42",
                                    "2": "1324.00"
                                },
                                {
                                    "0": "925",
                                    "1": "LL MOUNTAIN FRAME - BLACK, 44",
                                    "2": "1343.00"
                                },
                                {
                                    "0": "926",
                                    "1": "LL MOUNTAIN FRAME - BLACK, 48",
                                    "2": "1361.00"
                                },
                                {
                                    "0": "927",
                                    "1": "LL MOUNTAIN FRAME - BLACK, 52",
                                    "2": "1379.00"
                                },
                                {
                                    "0": "928",
                                    "1": "LL MOUNTAIN TIRE",
                                    "2": "NULL"
                                },
                                {
                                    "0": "929",
                                    "1": "ML MOUNTAIN TIRE",
                                    "2": "NULL"
                                },
                                {
                                    "0": "930",
                                    "1": "HL MOUNTAIN TIRE",
                                    "2": "NULL"
                                },
                                {
                                    "0": "931",
                                    "1": "LL ROAD TIRE",
                                    "2": "NULL"
                                },
                                {
                                    "0": "932",
                                    "1": "ML ROAD TIRE",
                                    "2": "NULL"
                                },
                                {
                                    "0": "933",
                                    "1": "HL ROAD TIRE",
                                    "2": "NULL"
                                },
                                {
                                    "0": "934",
                                    "1": "TOURING TIRE",
                                    "2": "NULL"
                                },
                                {
                                    "0": "935",
                                    "1": "LL MOUNTAIN PEDAL",
                                    "2": "218.00"
                                },
                                {
                                    "0": "936",
                                    "1": "ML MOUNTAIN PEDAL",
                                    "2": "215.00"
                                },
                                {
                                    "0": "937",
                                    "1": "HL MOUNTAIN PEDAL",
                                    "2": "185.00"
                                },
                                {
                                    "0": "938",
                                    "1": "LL ROAD PEDAL",
                                    "2": "189.00"
                                },
                                {
                                    "0": "939",
                                    "1": "ML ROAD PEDAL",
                                    "2": "168.00"
                                },
                                {
                                    "0": "940",
                                    "1": "HL ROAD PEDAL",
                                    "2": "149.00"
                                },
                                {
                                    "0": "941",
                                    "1": "TOURING PEDAL",
                                    "2": "NULL"
                                },
                                {
                                    "0": "942",
                                    "1": "ML MOUNTAIN FRAME-W - SILVER, 38",
                                    "2": "1238.00"
                                },
                                {
                                    "0": "943",
                                    "1": "LL MOUNTAIN FRAME - BLACK, 40",
                                    "2": "1306.00"
                                },
                                {
                                    "0": "944",
                                    "1": "LL MOUNTAIN FRAME - SILVER, 40",
                                    "2": "1306.00"
                                },
                                {
                                    "0": "945",
                                    "1": "FRONT DERAILLEUR",
                                    "2": "88.00"
                                },
                                {
                                    "0": "946",
                                    "1": "LL TOURING HANDLEBARS",
                                    "2": "NULL"
                                },
                                {
                                    "0": "947",
                                    "1": "HL TOURING HANDLEBARS",
                                    "2": "NULL"
                                },
                                {
                                    "0": "948",
                                    "1": "FRONT BRAKES",
                                    "2": "317.00"
                                },
                                {
                                    "0": "949",
                                    "1": "LL CRANKSET",
                                    "2": "600.00"
                                },
                                {
                                    "0": "950",
                                    "1": "ML CRANKSET",
                                    "2": "635.00"
                                },
                                {
                                    "0": "951",
                                    "1": "HL CRANKSET",
                                    "2": "575.00"
                                },
                                {
                                    "0": "952",
                                    "1": "CHAIN",
                                    "2": "NULL"
                                },
                                {
                                    "0": "953",
                                    "1": "TOURING-2000 BLUE, 60",
                                    "2": "12655.00"
                                },
                                {
                                    "0": "954",
                                    "1": "TOURING-1000 YELLOW, 46",
                                    "2": "11399.00"
                                },
                                {
                                    "0": "955",
                                    "1": "TOURING-1000 YELLOW, 50",
                                    "2": "11530.00"
                                },
                                {
                                    "0": "956",
                                    "1": "TOURING-1000 YELLOW, 54",
                                    "2": "11648.00"
                                },
                                {
                                    "0": "957",
                                    "1": "TOURING-1000 YELLOW, 60",
                                    "2": "11748.00"
                                },
                                {
                                    "0": "958",
                                    "1": "TOURING-3000 BLUE, 54",
                                    "2": "13463.00"
                                },
                                {
                                    "0": "959",
                                    "1": "TOURING-3000 BLUE, 58",
                                    "2": "13562.00"
                                },
                                {
                                    "0": "960",
                                    "1": "TOURING-3000 BLUE, 62",
                                    "2": "13608.00"
                                },
                                {
                                    "0": "961",
                                    "1": "TOURING-3000 YELLOW, 44",
                                    "2": "13050.00"
                                },
                                {
                                    "0": "962",
                                    "1": "TOURING-3000 YELLOW, 50",
                                    "2": "13213.00"
                                },
                                {
                                    "0": "963",
                                    "1": "TOURING-3000 YELLOW, 54",
                                    "2": "13345.00"
                                },
                                {
                                    "0": "964",
                                    "1": "TOURING-3000 YELLOW, 58",
                                    "2": "13512.00"
                                },
                                {
                                    "0": "965",
                                    "1": "TOURING-3000 YELLOW, 62",
                                    "2": "13608.00"
                                },
                                {
                                    "0": "966",
                                    "1": "TOURING-1000 BLUE, 46",
                                    "2": "11399.00"
                                },
                                {
                                    "0": "967",
                                    "1": "TOURING-1000 BLUE, 50",
                                    "2": "11530.00"
                                },
                                {
                                    "0": "968",
                                    "1": "TOURING-1000 BLUE, 54",
                                    "2": "11648.00"
                                },
                                {
                                    "0": "969",
                                    "1": "TOURING-1000 BLUE, 60",
                                    "2": "11748.00"
                                },
                                {
                                    "0": "970",
                                    "1": "TOURING-2000 BLUE, 46",
                                    "2": "12306.00"
                                },
                                {
                                    "0": "971",
                                    "1": "TOURING-2000 BLUE, 50",
                                    "2": "12437.00"
                                },
                                {
                                    "0": "972",
                                    "1": "TOURING-2000 BLUE, 54",
                                    "2": "12555.00"
                                },
                                {
                                    "0": "973",
                                    "1": "ROAD-350-W YELLOW, 40",
                                    "2": "6963.00"
                                },
                                {
                                    "0": "974",
                                    "1": "ROAD-350-W YELLOW, 42",
                                    "2": "7153.00"
                                },
                                {
                                    "0": "975",
                                    "1": "ROAD-350-W YELLOW, 44",
                                    "2": "7316.00"
                                },
                                {
                                    "0": "976",
                                    "1": "ROAD-350-W YELLOW, 48",
                                    "2": "7448.00"
                                },
                                {
                                    "0": "977",
                                    "1": "ROAD-750 BLACK, 58",
                                    "2": "9430.00"
                                },
                                {
                                    "0": "978",
                                    "1": "TOURING-3000 BLUE, 44",
                                    "2": "13050.00"
                                },
                                {
                                    "0": "979",
                                    "1": "TOURING-3000 BLUE, 50",
                                    "2": "13213.00"
                                },
                                {
                                    "0": "980",
                                    "1": "MOUNTAIN-400-W SILVER, 38",
                                    "2": "11952.00"
                                },
                                {
                                    "0": "981",
                                    "1": "MOUNTAIN-400-W SILVER, 40",
                                    "2": "12143.00"
                                },
                                {
                                    "0": "982",
                                    "1": "MOUNTAIN-400-W SILVER, 42",
                                    "2": "12306.00"
                                },
                                {
                                    "0": "983",
                                    "1": "MOUNTAIN-400-W SILVER, 46",
                                    "2": "12437.00"
                                },
                                {
                                    "0": "984",
                                    "1": "MOUNTAIN-500 SILVER, 40",
                                    "2": "12406.00"
                                },
                                {
                                    "0": "985",
                                    "1": "MOUNTAIN-500 SILVER, 42",
                                    "2": "12596.00"
                                },
                                {
                                    "0": "986",
                                    "1": "MOUNTAIN-500 SILVER, 44",
                                    "2": "12759.00"
                                },
                                {
                                    "0": "987",
                                    "1": "MOUNTAIN-500 SILVER, 48",
                                    "2": "12891.00"
                                },
                                {
                                    "0": "988",
                                    "1": "MOUNTAIN-500 SILVER, 52",
                                    "2": "13009.00"
                                },
                                {
                                    "0": "989",
                                    "1": "MOUNTAIN-500 BLACK, 40",
                                    "2": "12406.00"
                                },
                                {
                                    "0": "990",
                                    "1": "MOUNTAIN-500 BLACK, 42",
                                    "2": "12596.00"
                                },
                                {
                                    "0": "991",
                                    "1": "MOUNTAIN-500 BLACK, 44",
                                    "2": "12759.00"
                                },
                                {
                                    "0": "992",
                                    "1": "MOUNTAIN-500 BLACK, 48",
                                    "2": "12891.00"
                                },
                                {
                                    "0": "993",
                                    "1": "MOUNTAIN-500 BLACK, 52",
                                    "2": "13009.00"
                                },
                                {
                                    "0": "994",
                                    "1": "LL BOTTOM BRACKET",
                                    "2": "223.00"
                                },
                                {
                                    "0": "995",
                                    "1": "ML BOTTOM BRACKET",
                                    "2": "168.00"
                                },
                                {
                                    "0": "996",
                                    "1": "HL BOTTOM BRACKET",
                                    "2": "170.00"
                                },
                                {
                                    "0": "997",
                                    "1": "ROAD-750 BLACK, 44",
                                    "2": "8967.00"
                                },
                                {
                                    "0": "998",
                                    "1": "ROAD-750 BLACK, 48",
                                    "2": "9131.00"
                                },
                                {
                                    "0": "999",
                                    "1": "ROAD-750 BLACK, 52",
                                    "2": "9262.00"
                                },
                                {
                                    "0": "1000",
                                    "1": "LED LIGHTS",
                                    "2": "NULL"
                                },
                                {
                                    "0": "1001",
                                    "1": "LED LIGHTSX",
                                    "2": "NULL"
                                },
                                {
                                    "0": "1002",
                                    "1": "LED LIGHTS2",
                                    "2": "NULL"
                                },
                                {
                                    "0": "1005",
                                    "1": "BICYCLE BELL10",
                                    "2": "NULL"
                                }
                            ]
                        },
                        "text/html": [
                            "<table>",
                            "<tr><th>ProductID</th><th>ProductName</th><th>ApproxWeight</th></tr>",
                            "<tr><td>680</td><td>HL ROAD FRAME - BLACK, 58</td><td>1016.00</td></tr>",
                            "<tr><td>706</td><td>HL ROAD FRAME - RED, 58</td><td>1016.00</td></tr>",
                            "<tr><td>707</td><td>SPORT-100 HELMET, RED</td><td>NULL</td></tr>",
                            "<tr><td>708</td><td>SPORT-100 HELMET, BLACK</td><td>NULL</td></tr>",
                            "<tr><td>709</td><td>MOUNTAIN BIKE SOCKS, M</td><td>NULL</td></tr>",
                            "<tr><td>710</td><td>MOUNTAIN BIKE SOCKS, L</td><td>NULL</td></tr>",
                            "<tr><td>711</td><td>SPORT-100 HELMET, BLUE</td><td>NULL</td></tr>",
                            "<tr><td>712</td><td>AWC LOGO CAP</td><td>NULL</td></tr>",
                            "<tr><td>713</td><td>LONG-SLEEVE LOGO JERSEY, S</td><td>NULL</td></tr>",
                            "<tr><td>714</td><td>LONG-SLEEVE LOGO JERSEY, M</td><td>NULL</td></tr>",
                            "<tr><td>715</td><td>LONG-SLEEVE LOGO JERSEY, L</td><td>NULL</td></tr>",
                            "<tr><td>716</td><td>LONG-SLEEVE LOGO JERSEY, XL</td><td>NULL</td></tr>",
                            "<tr><td>717</td><td>HL ROAD FRAME - RED, 62</td><td>1043.00</td></tr>",
                            "<tr><td>718</td><td>HL ROAD FRAME - RED, 44</td><td>962.00</td></tr>",
                            "<tr><td>719</td><td>HL ROAD FRAME - RED, 48</td><td>980.00</td></tr>",
                            "<tr><td>720</td><td>HL ROAD FRAME - RED, 52</td><td>998.00</td></tr>",
                            "<tr><td>721</td><td>HL ROAD FRAME - RED, 56</td><td>1016.00</td></tr>",
                            "<tr><td>722</td><td>LL ROAD FRAME - BLACK, 58</td><td>1116.00</td></tr>",
                            "<tr><td>723</td><td>LL ROAD FRAME - BLACK, 60</td><td>1125.00</td></tr>",
                            "<tr><td>724</td><td>LL ROAD FRAME - BLACK, 62</td><td>1134.00</td></tr>",
                            "<tr><td>725</td><td>LL ROAD FRAME - RED, 44</td><td>1052.00</td></tr>",
                            "<tr><td>726</td><td>LL ROAD FRAME - RED, 48</td><td>1070.00</td></tr>",
                            "<tr><td>727</td><td>LL ROAD FRAME - RED, 52</td><td>1089.00</td></tr>",
                            "<tr><td>728</td><td>LL ROAD FRAME - RED, 58</td><td>1116.00</td></tr>",
                            "<tr><td>729</td><td>LL ROAD FRAME - RED, 60</td><td>1125.00</td></tr>",
                            "<tr><td>730</td><td>LL ROAD FRAME - RED, 62</td><td>1134.00</td></tr>",
                            "<tr><td>731</td><td>ML ROAD FRAME - RED, 44</td><td>1007.00</td></tr>",
                            "<tr><td>732</td><td>ML ROAD FRAME - RED, 48</td><td>1025.00</td></tr>",
                            "<tr><td>733</td><td>ML ROAD FRAME - RED, 52</td><td>1043.00</td></tr>",
                            "<tr><td>734</td><td>ML ROAD FRAME - RED, 58</td><td>1070.00</td></tr>",
                            "<tr><td>735</td><td>ML ROAD FRAME - RED, 60</td><td>1080.00</td></tr>",
                            "<tr><td>736</td><td>LL ROAD FRAME - BLACK, 44</td><td>1052.00</td></tr>",
                            "<tr><td>737</td><td>LL ROAD FRAME - BLACK, 48</td><td>1070.00</td></tr>",
                            "<tr><td>738</td><td>LL ROAD FRAME - BLACK, 52</td><td>1089.00</td></tr>",
                            "<tr><td>739</td><td>HL MOUNTAIN FRAME - SILVER, 42</td><td>1234.00</td></tr>",
                            "<tr><td>740</td><td>HL MOUNTAIN FRAME - SILVER, 44</td><td>1252.00</td></tr>",
                            "<tr><td>741</td><td>HL MOUNTAIN FRAME - SILVER, 48</td><td>1270.00</td></tr>",
                            "<tr><td>742</td><td>HL MOUNTAIN FRAME - SILVER, 46</td><td>1288.00</td></tr>",
                            "<tr><td>743</td><td>HL MOUNTAIN FRAME - BLACK, 42</td><td>1234.00</td></tr>",
                            "<tr><td>744</td><td>HL MOUNTAIN FRAME - BLACK, 44</td><td>1252.00</td></tr>",
                            "<tr><td>745</td><td>HL MOUNTAIN FRAME - BLACK, 48</td><td>1270.00</td></tr>",
                            "<tr><td>746</td><td>HL MOUNTAIN FRAME - BLACK, 46</td><td>1288.00</td></tr>",
                            "<tr><td>747</td><td>HL MOUNTAIN FRAME - BLACK, 38</td><td>1216.00</td></tr>",
                            "<tr><td>748</td><td>HL MOUNTAIN FRAME - SILVER, 38</td><td>1216.00</td></tr>",
                            "<tr><td>749</td><td>ROAD-150 RED, 62</td><td>6804.00</td></tr>",
                            "<tr><td>750</td><td>ROAD-150 RED, 44</td><td>6246.00</td></tr>",
                            "<tr><td>751</td><td>ROAD-150 RED, 48</td><td>6409.00</td></tr>",
                            "<tr><td>752</td><td>ROAD-150 RED, 52</td><td>6541.00</td></tr>",
                            "<tr><td>753</td><td>ROAD-150 RED, 56</td><td>6659.00</td></tr>",
                            "<tr><td>754</td><td>ROAD-450 RED, 58</td><td>8069.00</td></tr>",
                            "<tr><td>755</td><td>ROAD-450 RED, 60</td><td>8119.00</td></tr>",
                            "<tr><td>756</td><td>ROAD-450 RED, 44</td><td>7607.00</td></tr>",
                            "<tr><td>757</td><td>ROAD-450 RED, 48</td><td>7770.00</td></tr>",
                            "<tr><td>758</td><td>ROAD-450 RED, 52</td><td>7902.00</td></tr>",
                            "<tr><td>759</td><td>ROAD-650 RED, 58</td><td>8977.00</td></tr>",
                            "<tr><td>760</td><td>ROAD-650 RED, 60</td><td>9026.00</td></tr>",
                            "<tr><td>761</td><td>ROAD-650 RED, 62</td><td>9072.00</td></tr>",
                            "<tr><td>762</td><td>ROAD-650 RED, 44</td><td>8514.00</td></tr>",
                            "<tr><td>763</td><td>ROAD-650 RED, 48</td><td>8677.00</td></tr>",
                            "<tr><td>764</td><td>ROAD-650 RED, 52</td><td>8809.00</td></tr>",
                            "<tr><td>765</td><td>ROAD-650 BLACK, 58</td><td>8977.00</td></tr>",
                            "<tr><td>766</td><td>ROAD-650 BLACK, 60</td><td>9026.00</td></tr>",
                            "<tr><td>767</td><td>ROAD-650 BLACK, 62</td><td>9072.00</td></tr>",
                            "<tr><td>768</td><td>ROAD-650 BLACK, 44</td><td>8514.00</td></tr>",
                            "<tr><td>769</td><td>ROAD-650 BLACK, 48</td><td>8677.00</td></tr>",
                            "<tr><td>770</td><td>ROAD-650 BLACK, 52</td><td>8809.00</td></tr>",
                            "<tr><td>771</td><td>MOUNTAIN-100 SILVER, 38</td><td>9231.00</td></tr>",
                            "<tr><td>772</td><td>MOUNTAIN-100 SILVER, 42</td><td>9421.00</td></tr>",
                            "<tr><td>773</td><td>MOUNTAIN-100 SILVER, 44</td><td>9584.00</td></tr>",
                            "<tr><td>774</td><td>MOUNTAIN-100 SILVER, 48</td><td>9716.00</td></tr>",
                            "<tr><td>775</td><td>MOUNTAIN-100 BLACK, 38</td><td>9231.00</td></tr>",
                            "<tr><td>776</td><td>MOUNTAIN-100 BLACK, 42</td><td>9421.00</td></tr>",
                            "<tr><td>777</td><td>MOUNTAIN-100 BLACK, 44</td><td>9584.00</td></tr>",
                            "<tr><td>778</td><td>MOUNTAIN-100 BLACK, 48</td><td>9716.00</td></tr>",
                            "<tr><td>779</td><td>MOUNTAIN-200 SILVER, 38</td><td>10591.00</td></tr>",
                            "<tr><td>780</td><td>MOUNTAIN-200 SILVER, 42</td><td>10782.00</td></tr>",
                            "<tr><td>781</td><td>MOUNTAIN-200 SILVER, 46</td><td>10945.00</td></tr>",
                            "<tr><td>782</td><td>MOUNTAIN-200 BLACK, 38</td><td>10591.00</td></tr>",
                            "<tr><td>783</td><td>MOUNTAIN-200 BLACK, 42</td><td>10782.00</td></tr>",
                            "<tr><td>784</td><td>MOUNTAIN-200 BLACK, 46</td><td>10945.00</td></tr>",
                            "<tr><td>785</td><td>MOUNTAIN-300 BLACK, 38</td><td>11499.00</td></tr>",
                            "<tr><td>786</td><td>MOUNTAIN-300 BLACK, 40</td><td>11689.00</td></tr>",
                            "<tr><td>787</td><td>MOUNTAIN-300 BLACK, 44</td><td>11852.00</td></tr>",
                            "<tr><td>788</td><td>MOUNTAIN-300 BLACK, 48</td><td>11984.00</td></tr>",
                            "<tr><td>789</td><td>ROAD-250 RED, 44</td><td>6700.00</td></tr>",
                            "<tr><td>790</td><td>ROAD-250 RED, 48</td><td>6863.00</td></tr>",
                            "<tr><td>791</td><td>ROAD-250 RED, 52</td><td>6994.00</td></tr>",
                            "<tr><td>792</td><td>ROAD-250 RED, 58</td><td>7162.00</td></tr>",
                            "<tr><td>793</td><td>ROAD-250 BLACK, 44</td><td>6700.00</td></tr>",
                            "<tr><td>794</td><td>ROAD-250 BLACK, 48</td><td>6863.00</td></tr>",
                            "<tr><td>795</td><td>ROAD-250 BLACK, 52</td><td>6994.00</td></tr>",
                            "<tr><td>796</td><td>ROAD-250 BLACK, 58</td><td>7112.00</td></tr>",
                            "<tr><td>797</td><td>ROAD-550-W YELLOW, 38</td><td>7870.00</td></tr>",
                            "<tr><td>798</td><td>ROAD-550-W YELLOW, 40</td><td>8060.00</td></tr>",
                            "<tr><td>799</td><td>ROAD-550-W YELLOW, 42</td><td>8224.00</td></tr>",
                            "<tr><td>800</td><td>ROAD-550-W YELLOW, 44</td><td>8355.00</td></tr>",
                            "<tr><td>801</td><td>ROAD-550-W YELLOW, 48</td><td>8473.00</td></tr>",
                            "<tr><td>802</td><td>LL FORK</td><td>NULL</td></tr>",
                            "<tr><td>803</td><td>ML FORK</td><td>NULL</td></tr>",
                            "<tr><td>804</td><td>HL FORK</td><td>NULL</td></tr>",
                            "<tr><td>805</td><td>LL HEADSET</td><td>NULL</td></tr>",
                            "<tr><td>806</td><td>ML HEADSET</td><td>NULL</td></tr>",
                            "<tr><td>807</td><td>HL HEADSET</td><td>NULL</td></tr>",
                            "<tr><td>808</td><td>LL MOUNTAIN HANDLEBARS</td><td>NULL</td></tr>",
                            "<tr><td>809</td><td>ML MOUNTAIN HANDLEBARS</td><td>NULL</td></tr>",
                            "<tr><td>810</td><td>HL MOUNTAIN HANDLEBARS</td><td>NULL</td></tr>",
                            "<tr><td>811</td><td>LL ROAD HANDLEBARS</td><td>NULL</td></tr>",
                            "<tr><td>812</td><td>ML ROAD HANDLEBARS</td><td>NULL</td></tr>",
                            "<tr><td>813</td><td>HL ROAD HANDLEBARS</td><td>NULL</td></tr>",
                            "<tr><td>814</td><td>ML MOUNTAIN FRAME - BLACK, 38</td><td>1238.00</td></tr>",
                            "<tr><td>815</td><td>LL MOUNTAIN FRONT WHEEL</td><td>NULL</td></tr>",
                            "<tr><td>816</td><td>ML MOUNTAIN FRONT WHEEL</td><td>NULL</td></tr>",
                            "<tr><td>817</td><td>HL MOUNTAIN FRONT WHEEL</td><td>NULL</td></tr>",
                            "<tr><td>818</td><td>LL ROAD FRONT WHEEL</td><td>900.00</td></tr>",
                            "<tr><td>819</td><td>ML ROAD FRONT WHEEL</td><td>850.00</td></tr>",
                            "<tr><td>820</td><td>HL ROAD FRONT WHEEL</td><td>650.00</td></tr>",
                            "<tr><td>821</td><td>TOURING FRONT WHEEL</td><td>NULL</td></tr>",
                            "<tr><td>822</td><td>ML ROAD FRAME-W - YELLOW, 38</td><td>989.00</td></tr>",
                            "<tr><td>823</td><td>LL MOUNTAIN REAR WHEEL</td><td>NULL</td></tr>",
                            "<tr><td>824</td><td>ML MOUNTAIN REAR WHEEL</td><td>NULL</td></tr>",
                            "<tr><td>825</td><td>HL MOUNTAIN REAR WHEEL</td><td>NULL</td></tr>",
                            "<tr><td>826</td><td>LL ROAD REAR WHEEL</td><td>1050.00</td></tr>",
                            "<tr><td>827</td><td>ML ROAD REAR WHEEL</td><td>1000.00</td></tr>",
                            "<tr><td>828</td><td>HL ROAD REAR WHEEL</td><td>890.00</td></tr>",
                            "<tr><td>829</td><td>TOURING REAR WHEEL</td><td>NULL</td></tr>",
                            "<tr><td>830</td><td>ML MOUNTAIN FRAME - BLACK, 40</td><td>1256.00</td></tr>",
                            "<tr><td>831</td><td>ML MOUNTAIN FRAME - BLACK, 44</td><td>1275.00</td></tr>",
                            "<tr><td>832</td><td>ML MOUNTAIN FRAME - BLACK, 48</td><td>1293.00</td></tr>",
                            "<tr><td>833</td><td>ML ROAD FRAME-W - YELLOW, 40</td><td>1007.00</td></tr>",
                            "<tr><td>834</td><td>ML ROAD FRAME-W - YELLOW, 42</td><td>1025.00</td></tr>",
                            "<tr><td>835</td><td>ML ROAD FRAME-W - YELLOW, 44</td><td>1043.00</td></tr>",
                            "<tr><td>836</td><td>ML ROAD FRAME-W - YELLOW, 48</td><td>1061.00</td></tr>",
                            "<tr><td>837</td><td>HL ROAD FRAME - BLACK, 62</td><td>1043.00</td></tr>",
                            "<tr><td>838</td><td>HL ROAD FRAME - BLACK, 44</td><td>962.00</td></tr>",
                            "<tr><td>839</td><td>HL ROAD FRAME - BLACK, 48</td><td>980.00</td></tr>",
                            "<tr><td>840</td><td>HL ROAD FRAME - BLACK, 52</td><td>998.00</td></tr>",
                            "<tr><td>841</td><td>MEN'S SPORTS SHORTS, S</td><td>NULL</td></tr>",
                            "<tr><td>842</td><td>TOURING-PANNIERS, LARGE</td><td>NULL</td></tr>",
                            "<tr><td>843</td><td>CABLE LOCK</td><td>NULL</td></tr>",
                            "<tr><td>844</td><td>MINIPUMP</td><td>NULL</td></tr>",
                            "<tr><td>845</td><td>MOUNTAIN PUMP</td><td>NULL</td></tr>",
                            "<tr><td>846</td><td>TAILLIGHTS - BATTERY-POWERED</td><td>NULL</td></tr>",
                            "<tr><td>847</td><td>HEADLIGHTS - DUAL-BEAM</td><td>NULL</td></tr>",
                            "<tr><td>848</td><td>HEADLIGHTS - WEATHERPROOF</td><td>NULL</td></tr>",
                            "<tr><td>849</td><td>MEN'S SPORTS SHORTS, M</td><td>NULL</td></tr>",
                            "<tr><td>850</td><td>MEN'S SPORTS SHORTS, L</td><td>NULL</td></tr>",
                            "<tr><td>851</td><td>MEN'S SPORTS SHORTS, XL</td><td>NULL</td></tr>",
                            "<tr><td>852</td><td>WOMEN'S TIGHTS, S</td><td>NULL</td></tr>",
                            "<tr><td>853</td><td>WOMEN'S TIGHTS, M</td><td>NULL</td></tr>",
                            "<tr><td>854</td><td>WOMEN'S TIGHTS, L</td><td>NULL</td></tr>",
                            "<tr><td>855</td><td>MEN'S BIB-SHORTS, S</td><td>NULL</td></tr>",
                            "<tr><td>856</td><td>MEN'S BIB-SHORTS, M</td><td>NULL</td></tr>",
                            "<tr><td>857</td><td>MEN'S BIB-SHORTS, L</td><td>NULL</td></tr>",
                            "<tr><td>858</td><td>HALF-FINGER GLOVES, S</td><td>NULL</td></tr>",
                            "<tr><td>859</td><td>HALF-FINGER GLOVES, M</td><td>NULL</td></tr>",
                            "<tr><td>860</td><td>HALF-FINGER GLOVES, L</td><td>NULL</td></tr>",
                            "<tr><td>861</td><td>FULL-FINGER GLOVES, S</td><td>NULL</td></tr>",
                            "<tr><td>862</td><td>FULL-FINGER GLOVES, M</td><td>NULL</td></tr>",
                            "<tr><td>863</td><td>FULL-FINGER GLOVES, L</td><td>NULL</td></tr>",
                            "<tr><td>864</td><td>CLASSIC VEST, S</td><td>NULL</td></tr>",
                            "<tr><td>865</td><td>CLASSIC VEST, M</td><td>NULL</td></tr>",
                            "<tr><td>866</td><td>CLASSIC VEST, L</td><td>NULL</td></tr>",
                            "<tr><td>867</td><td>WOMEN'S MOUNTAIN SHORTS, S</td><td>NULL</td></tr>",
                            "<tr><td>868</td><td>WOMEN'S MOUNTAIN SHORTS, M</td><td>NULL</td></tr>",
                            "<tr><td>869</td><td>WOMEN'S MOUNTAIN SHORTS, L</td><td>NULL</td></tr>",
                            "<tr><td>870</td><td>WATER BOTTLE - 30 OZ.</td><td>NULL</td></tr>",
                            "<tr><td>871</td><td>MOUNTAIN BOTTLE CAGE</td><td>NULL</td></tr>",
                            "<tr><td>872</td><td>ROAD BOTTLE CAGE</td><td>NULL</td></tr>",
                            "<tr><td>873</td><td>PATCH KIT/8 PATCHES</td><td>NULL</td></tr>",
                            "<tr><td>874</td><td>RACING SOCKS, M</td><td>NULL</td></tr>",
                            "<tr><td>875</td><td>RACING SOCKS, L</td><td>NULL</td></tr>",
                            "<tr><td>876</td><td>HITCH RACK - 4-BIKE</td><td>NULL</td></tr>",
                            "<tr><td>877</td><td>BIKE WASH - DISSOLVER</td><td>NULL</td></tr>",
                            "<tr><td>878</td><td>FENDER SET - MOUNTAIN</td><td>NULL</td></tr>",
                            "<tr><td>879</td><td>ALL-PURPOSE BIKE STAND</td><td>NULL</td></tr>",
                            "<tr><td>880</td><td>HYDRATION PACK - 70 OZ.</td><td>NULL</td></tr>",
                            "<tr><td>881</td><td>SHORT-SLEEVE CLASSIC JERSEY, S</td><td>NULL</td></tr>",
                            "<tr><td>882</td><td>SHORT-SLEEVE CLASSIC JERSEY, M</td><td>NULL</td></tr>",
                            "<tr><td>883</td><td>SHORT-SLEEVE CLASSIC JERSEY, L</td><td>NULL</td></tr>",
                            "<tr><td>884</td><td>SHORT-SLEEVE CLASSIC JERSEY, XL</td><td>NULL</td></tr>",
                            "<tr><td>885</td><td>HL TOURING FRAME - YELLOW, 60</td><td>1397.00</td></tr>",
                            "<tr><td>886</td><td>LL TOURING FRAME - YELLOW, 62</td><td>1451.00</td></tr>",
                            "<tr><td>887</td><td>HL TOURING FRAME - YELLOW, 46</td><td>1343.00</td></tr>",
                            "<tr><td>888</td><td>HL TOURING FRAME - YELLOW, 50</td><td>1361.00</td></tr>",
                            "<tr><td>889</td><td>HL TOURING FRAME - YELLOW, 54</td><td>1379.00</td></tr>",
                            "<tr><td>890</td><td>HL TOURING FRAME - BLUE, 46</td><td>1343.00</td></tr>",
                            "<tr><td>891</td><td>HL TOURING FRAME - BLUE, 50</td><td>1361.00</td></tr>",
                            "<tr><td>892</td><td>HL TOURING FRAME - BLUE, 54</td><td>1379.00</td></tr>",
                            "<tr><td>893</td><td>HL TOURING FRAME - BLUE, 60</td><td>1397.00</td></tr>",
                            "<tr><td>894</td><td>REAR DERAILLEUR</td><td>215.00</td></tr>",
                            "<tr><td>895</td><td>LL TOURING FRAME - BLUE, 50</td><td>1406.00</td></tr>",
                            "<tr><td>896</td><td>LL TOURING FRAME - BLUE, 54</td><td>1424.00</td></tr>",
                            "<tr><td>897</td><td>LL TOURING FRAME - BLUE, 58</td><td>1433.00</td></tr>",
                            "<tr><td>898</td><td>LL TOURING FRAME - BLUE, 62</td><td>1451.00</td></tr>",
                            "<tr><td>899</td><td>LL TOURING FRAME - YELLOW, 44</td><td>1370.00</td></tr>",
                            "<tr><td>900</td><td>LL TOURING FRAME - YELLOW, 50</td><td>1406.00</td></tr>",
                            "<tr><td>901</td><td>LL TOURING FRAME - YELLOW, 54</td><td>1424.00</td></tr>",
                            "<tr><td>902</td><td>LL TOURING FRAME - YELLOW, 58</td><td>1433.00</td></tr>",
                            "<tr><td>903</td><td>LL TOURING FRAME - BLUE, 44</td><td>1370.00</td></tr>",
                            "<tr><td>904</td><td>ML MOUNTAIN FRAME-W - SILVER, 40</td><td>1256.00</td></tr>",
                            "<tr><td>905</td><td>ML MOUNTAIN FRAME-W - SILVER, 42</td><td>1275.00</td></tr>",
                            "<tr><td>906</td><td>ML MOUNTAIN FRAME-W - SILVER, 46</td><td>1293.00</td></tr>",
                            "<tr><td>907</td><td>REAR BRAKES</td><td>317.00</td></tr>",
                            "<tr><td>908</td><td>LL MOUNTAIN SEAT/SADDLE</td><td>NULL</td></tr>",
                            "<tr><td>909</td><td>ML MOUNTAIN SEAT/SADDLE</td><td>NULL</td></tr>",
                            "<tr><td>910</td><td>HL MOUNTAIN SEAT/SADDLE</td><td>NULL</td></tr>",
                            "<tr><td>911</td><td>LL ROAD SEAT/SADDLE</td><td>NULL</td></tr>",
                            "<tr><td>912</td><td>ML ROAD SEAT/SADDLE</td><td>NULL</td></tr>",
                            "<tr><td>913</td><td>HL ROAD SEAT/SADDLE</td><td>NULL</td></tr>",
                            "<tr><td>914</td><td>LL TOURING SEAT/SADDLE</td><td>NULL</td></tr>",
                            "<tr><td>915</td><td>ML TOURING SEAT/SADDLE</td><td>NULL</td></tr>",
                            "<tr><td>916</td><td>HL TOURING SEAT/SADDLE</td><td>NULL</td></tr>",
                            "<tr><td>917</td><td>LL MOUNTAIN FRAME - SILVER, 42</td><td>1324.00</td></tr>",
                            "<tr><td>918</td><td>LL MOUNTAIN FRAME - SILVER, 44</td><td>1343.00</td></tr>",
                            "<tr><td>919</td><td>LL MOUNTAIN FRAME - SILVER, 48</td><td>1361.00</td></tr>",
                            "<tr><td>920</td><td>LL MOUNTAIN FRAME - SILVER, 52</td><td>1379.00</td></tr>",
                            "<tr><td>921</td><td>MOUNTAIN TIRE TUBE</td><td>NULL</td></tr>",
                            "<tr><td>922</td><td>ROAD TIRE TUBE</td><td>NULL</td></tr>",
                            "<tr><td>923</td><td>TOURING TIRE TUBE</td><td>NULL</td></tr>",
                            "<tr><td>924</td><td>LL MOUNTAIN FRAME - BLACK, 42</td><td>1324.00</td></tr>",
                            "<tr><td>925</td><td>LL MOUNTAIN FRAME - BLACK, 44</td><td>1343.00</td></tr>",
                            "<tr><td>926</td><td>LL MOUNTAIN FRAME - BLACK, 48</td><td>1361.00</td></tr>",
                            "<tr><td>927</td><td>LL MOUNTAIN FRAME - BLACK, 52</td><td>1379.00</td></tr>",
                            "<tr><td>928</td><td>LL MOUNTAIN TIRE</td><td>NULL</td></tr>",
                            "<tr><td>929</td><td>ML MOUNTAIN TIRE</td><td>NULL</td></tr>",
                            "<tr><td>930</td><td>HL MOUNTAIN TIRE</td><td>NULL</td></tr>",
                            "<tr><td>931</td><td>LL ROAD TIRE</td><td>NULL</td></tr>",
                            "<tr><td>932</td><td>ML ROAD TIRE</td><td>NULL</td></tr>",
                            "<tr><td>933</td><td>HL ROAD TIRE</td><td>NULL</td></tr>",
                            "<tr><td>934</td><td>TOURING TIRE</td><td>NULL</td></tr>",
                            "<tr><td>935</td><td>LL MOUNTAIN PEDAL</td><td>218.00</td></tr>",
                            "<tr><td>936</td><td>ML MOUNTAIN PEDAL</td><td>215.00</td></tr>",
                            "<tr><td>937</td><td>HL MOUNTAIN PEDAL</td><td>185.00</td></tr>",
                            "<tr><td>938</td><td>LL ROAD PEDAL</td><td>189.00</td></tr>",
                            "<tr><td>939</td><td>ML ROAD PEDAL</td><td>168.00</td></tr>",
                            "<tr><td>940</td><td>HL ROAD PEDAL</td><td>149.00</td></tr>",
                            "<tr><td>941</td><td>TOURING PEDAL</td><td>NULL</td></tr>",
                            "<tr><td>942</td><td>ML MOUNTAIN FRAME-W - SILVER, 38</td><td>1238.00</td></tr>",
                            "<tr><td>943</td><td>LL MOUNTAIN FRAME - BLACK, 40</td><td>1306.00</td></tr>",
                            "<tr><td>944</td><td>LL MOUNTAIN FRAME - SILVER, 40</td><td>1306.00</td></tr>",
                            "<tr><td>945</td><td>FRONT DERAILLEUR</td><td>88.00</td></tr>",
                            "<tr><td>946</td><td>LL TOURING HANDLEBARS</td><td>NULL</td></tr>",
                            "<tr><td>947</td><td>HL TOURING HANDLEBARS</td><td>NULL</td></tr>",
                            "<tr><td>948</td><td>FRONT BRAKES</td><td>317.00</td></tr>",
                            "<tr><td>949</td><td>LL CRANKSET</td><td>600.00</td></tr>",
                            "<tr><td>950</td><td>ML CRANKSET</td><td>635.00</td></tr>",
                            "<tr><td>951</td><td>HL CRANKSET</td><td>575.00</td></tr>",
                            "<tr><td>952</td><td>CHAIN</td><td>NULL</td></tr>",
                            "<tr><td>953</td><td>TOURING-2000 BLUE, 60</td><td>12655.00</td></tr>",
                            "<tr><td>954</td><td>TOURING-1000 YELLOW, 46</td><td>11399.00</td></tr>",
                            "<tr><td>955</td><td>TOURING-1000 YELLOW, 50</td><td>11530.00</td></tr>",
                            "<tr><td>956</td><td>TOURING-1000 YELLOW, 54</td><td>11648.00</td></tr>",
                            "<tr><td>957</td><td>TOURING-1000 YELLOW, 60</td><td>11748.00</td></tr>",
                            "<tr><td>958</td><td>TOURING-3000 BLUE, 54</td><td>13463.00</td></tr>",
                            "<tr><td>959</td><td>TOURING-3000 BLUE, 58</td><td>13562.00</td></tr>",
                            "<tr><td>960</td><td>TOURING-3000 BLUE, 62</td><td>13608.00</td></tr>",
                            "<tr><td>961</td><td>TOURING-3000 YELLOW, 44</td><td>13050.00</td></tr>",
                            "<tr><td>962</td><td>TOURING-3000 YELLOW, 50</td><td>13213.00</td></tr>",
                            "<tr><td>963</td><td>TOURING-3000 YELLOW, 54</td><td>13345.00</td></tr>",
                            "<tr><td>964</td><td>TOURING-3000 YELLOW, 58</td><td>13512.00</td></tr>",
                            "<tr><td>965</td><td>TOURING-3000 YELLOW, 62</td><td>13608.00</td></tr>",
                            "<tr><td>966</td><td>TOURING-1000 BLUE, 46</td><td>11399.00</td></tr>",
                            "<tr><td>967</td><td>TOURING-1000 BLUE, 50</td><td>11530.00</td></tr>",
                            "<tr><td>968</td><td>TOURING-1000 BLUE, 54</td><td>11648.00</td></tr>",
                            "<tr><td>969</td><td>TOURING-1000 BLUE, 60</td><td>11748.00</td></tr>",
                            "<tr><td>970</td><td>TOURING-2000 BLUE, 46</td><td>12306.00</td></tr>",
                            "<tr><td>971</td><td>TOURING-2000 BLUE, 50</td><td>12437.00</td></tr>",
                            "<tr><td>972</td><td>TOURING-2000 BLUE, 54</td><td>12555.00</td></tr>",
                            "<tr><td>973</td><td>ROAD-350-W YELLOW, 40</td><td>6963.00</td></tr>",
                            "<tr><td>974</td><td>ROAD-350-W YELLOW, 42</td><td>7153.00</td></tr>",
                            "<tr><td>975</td><td>ROAD-350-W YELLOW, 44</td><td>7316.00</td></tr>",
                            "<tr><td>976</td><td>ROAD-350-W YELLOW, 48</td><td>7448.00</td></tr>",
                            "<tr><td>977</td><td>ROAD-750 BLACK, 58</td><td>9430.00</td></tr>",
                            "<tr><td>978</td><td>TOURING-3000 BLUE, 44</td><td>13050.00</td></tr>",
                            "<tr><td>979</td><td>TOURING-3000 BLUE, 50</td><td>13213.00</td></tr>",
                            "<tr><td>980</td><td>MOUNTAIN-400-W SILVER, 38</td><td>11952.00</td></tr>",
                            "<tr><td>981</td><td>MOUNTAIN-400-W SILVER, 40</td><td>12143.00</td></tr>",
                            "<tr><td>982</td><td>MOUNTAIN-400-W SILVER, 42</td><td>12306.00</td></tr>",
                            "<tr><td>983</td><td>MOUNTAIN-400-W SILVER, 46</td><td>12437.00</td></tr>",
                            "<tr><td>984</td><td>MOUNTAIN-500 SILVER, 40</td><td>12406.00</td></tr>",
                            "<tr><td>985</td><td>MOUNTAIN-500 SILVER, 42</td><td>12596.00</td></tr>",
                            "<tr><td>986</td><td>MOUNTAIN-500 SILVER, 44</td><td>12759.00</td></tr>",
                            "<tr><td>987</td><td>MOUNTAIN-500 SILVER, 48</td><td>12891.00</td></tr>",
                            "<tr><td>988</td><td>MOUNTAIN-500 SILVER, 52</td><td>13009.00</td></tr>",
                            "<tr><td>989</td><td>MOUNTAIN-500 BLACK, 40</td><td>12406.00</td></tr>",
                            "<tr><td>990</td><td>MOUNTAIN-500 BLACK, 42</td><td>12596.00</td></tr>",
                            "<tr><td>991</td><td>MOUNTAIN-500 BLACK, 44</td><td>12759.00</td></tr>",
                            "<tr><td>992</td><td>MOUNTAIN-500 BLACK, 48</td><td>12891.00</td></tr>",
                            "<tr><td>993</td><td>MOUNTAIN-500 BLACK, 52</td><td>13009.00</td></tr>",
                            "<tr><td>994</td><td>LL BOTTOM BRACKET</td><td>223.00</td></tr>",
                            "<tr><td>995</td><td>ML BOTTOM BRACKET</td><td>168.00</td></tr>",
                            "<tr><td>996</td><td>HL BOTTOM BRACKET</td><td>170.00</td></tr>",
                            "<tr><td>997</td><td>ROAD-750 BLACK, 44</td><td>8967.00</td></tr>",
                            "<tr><td>998</td><td>ROAD-750 BLACK, 48</td><td>9131.00</td></tr>",
                            "<tr><td>999</td><td>ROAD-750 BLACK, 52</td><td>9262.00</td></tr>",
                            "<tr><td>1000</td><td>LED LIGHTS</td><td>NULL</td></tr>",
                            "<tr><td>1001</td><td>LED LIGHTSX</td><td>NULL</td></tr>",
                            "<tr><td>1002</td><td>LED LIGHTS2</td><td>NULL</td></tr>",
                            "<tr><td>1005</td><td>BICYCLE BELL10</td><td>NULL</td></tr>",
                            "</table>"
                        ]
                    }
                }
            ],
            "execution_count": 1
        },
        {
            "cell_type": "markdown",
            "source": [
                "**2**. Retrieve the year and month in which products were first sold Extend your query to include columns named SellStartYear and SellStartMonth containing the year and month in which Adventure Works started selling each product. The month should be displayed as the month name (for example, ‘January’)."
            ],
            "metadata": {
                "azdata_cell_guid": "f06b4828-8ed3-484f-9b1b-0111dce6c8c1"
            },
            "attachments": {}
        },
        {
            "cell_type": "code",
            "source": [
                "SELECT ProductID,\r\n",
                "UPPER(Name) AS ProductName,\r\n",
                "ROUND(Weight, 0) AS ApproxWeight,\r\n",
                "DATENAME(YYYY, SellStartDate) AS SellStartYear, \r\n",
                "DATENAME(MM, SellStartDate) AS SellStartMonth\r\n",
                "FROM Product;"
            ],
            "metadata": {
                "azdata_cell_guid": "63286b91-b01b-4275-a889-289be7db151d"
            },
            "outputs": [
                {
                    "output_type": "display_data",
                    "data": {
                        "text/html": "(299 rows affected)"
                    },
                    "metadata": {}
                },
                {
                    "output_type": "display_data",
                    "data": {
                        "text/html": "Total execution time: 00:00:00.117"
                    },
                    "metadata": {}
                },
                {
                    "output_type": "execute_result",
                    "metadata": {},
                    "execution_count": 5,
                    "data": {
                        "application/vnd.dataresource+json": {
                            "schema": {
                                "fields": [
                                    {
                                        "name": "ProductID"
                                    },
                                    {
                                        "name": "ProductName"
                                    },
                                    {
                                        "name": "ApproxWeight"
                                    },
                                    {
                                        "name": "SellStartYear"
                                    },
                                    {
                                        "name": "SellStartMonth"
                                    }
                                ]
                            },
                            "data": [
                                {
                                    "0": "680",
                                    "1": "HL ROAD FRAME - BLACK, 58",
                                    "2": "1016.00",
                                    "3": "2002",
                                    "4": "June"
                                },
                                {
                                    "0": "706",
                                    "1": "HL ROAD FRAME - RED, 58",
                                    "2": "1016.00",
                                    "3": "2002",
                                    "4": "June"
                                },
                                {
                                    "0": "707",
                                    "1": "SPORT-100 HELMET, RED",
                                    "2": "NULL",
                                    "3": "2005",
                                    "4": "July"
                                },
                                {
                                    "0": "708",
                                    "1": "SPORT-100 HELMET, BLACK",
                                    "2": "NULL",
                                    "3": "2005",
                                    "4": "July"
                                },
                                {
                                    "0": "709",
                                    "1": "MOUNTAIN BIKE SOCKS, M",
                                    "2": "NULL",
                                    "3": "2005",
                                    "4": "July"
                                },
                                {
                                    "0": "710",
                                    "1": "MOUNTAIN BIKE SOCKS, L",
                                    "2": "NULL",
                                    "3": "2005",
                                    "4": "July"
                                },
                                {
                                    "0": "711",
                                    "1": "SPORT-100 HELMET, BLUE",
                                    "2": "NULL",
                                    "3": "2005",
                                    "4": "July"
                                },
                                {
                                    "0": "712",
                                    "1": "AWC LOGO CAP",
                                    "2": "NULL",
                                    "3": "2005",
                                    "4": "July"
                                },
                                {
                                    "0": "713",
                                    "1": "LONG-SLEEVE LOGO JERSEY, S",
                                    "2": "NULL",
                                    "3": "2005",
                                    "4": "July"
                                },
                                {
                                    "0": "714",
                                    "1": "LONG-SLEEVE LOGO JERSEY, M",
                                    "2": "NULL",
                                    "3": "2005",
                                    "4": "July"
                                },
                                {
                                    "0": "715",
                                    "1": "LONG-SLEEVE LOGO JERSEY, L",
                                    "2": "NULL",
                                    "3": "2005",
                                    "4": "July"
                                },
                                {
                                    "0": "716",
                                    "1": "LONG-SLEEVE LOGO JERSEY, XL",
                                    "2": "NULL",
                                    "3": "2005",
                                    "4": "July"
                                },
                                {
                                    "0": "717",
                                    "1": "HL ROAD FRAME - RED, 62",
                                    "2": "1043.00",
                                    "3": "2005",
                                    "4": "July"
                                },
                                {
                                    "0": "718",
                                    "1": "HL ROAD FRAME - RED, 44",
                                    "2": "962.00",
                                    "3": "2005",
                                    "4": "July"
                                },
                                {
                                    "0": "719",
                                    "1": "HL ROAD FRAME - RED, 48",
                                    "2": "980.00",
                                    "3": "2005",
                                    "4": "July"
                                },
                                {
                                    "0": "720",
                                    "1": "HL ROAD FRAME - RED, 52",
                                    "2": "998.00",
                                    "3": "2005",
                                    "4": "July"
                                },
                                {
                                    "0": "721",
                                    "1": "HL ROAD FRAME - RED, 56",
                                    "2": "1016.00",
                                    "3": "2005",
                                    "4": "July"
                                },
                                {
                                    "0": "722",
                                    "1": "LL ROAD FRAME - BLACK, 58",
                                    "2": "1116.00",
                                    "3": "2005",
                                    "4": "July"
                                },
                                {
                                    "0": "723",
                                    "1": "LL ROAD FRAME - BLACK, 60",
                                    "2": "1125.00",
                                    "3": "2005",
                                    "4": "July"
                                },
                                {
                                    "0": "724",
                                    "1": "LL ROAD FRAME - BLACK, 62",
                                    "2": "1134.00",
                                    "3": "2005",
                                    "4": "July"
                                },
                                {
                                    "0": "725",
                                    "1": "LL ROAD FRAME - RED, 44",
                                    "2": "1052.00",
                                    "3": "2005",
                                    "4": "July"
                                },
                                {
                                    "0": "726",
                                    "1": "LL ROAD FRAME - RED, 48",
                                    "2": "1070.00",
                                    "3": "2005",
                                    "4": "July"
                                },
                                {
                                    "0": "727",
                                    "1": "LL ROAD FRAME - RED, 52",
                                    "2": "1089.00",
                                    "3": "2005",
                                    "4": "July"
                                },
                                {
                                    "0": "728",
                                    "1": "LL ROAD FRAME - RED, 58",
                                    "2": "1116.00",
                                    "3": "2005",
                                    "4": "July"
                                },
                                {
                                    "0": "729",
                                    "1": "LL ROAD FRAME - RED, 60",
                                    "2": "1125.00",
                                    "3": "2005",
                                    "4": "July"
                                },
                                {
                                    "0": "730",
                                    "1": "LL ROAD FRAME - RED, 62",
                                    "2": "1134.00",
                                    "3": "2005",
                                    "4": "July"
                                },
                                {
                                    "0": "731",
                                    "1": "ML ROAD FRAME - RED, 44",
                                    "2": "1007.00",
                                    "3": "2005",
                                    "4": "July"
                                },
                                {
                                    "0": "732",
                                    "1": "ML ROAD FRAME - RED, 48",
                                    "2": "1025.00",
                                    "3": "2005",
                                    "4": "July"
                                },
                                {
                                    "0": "733",
                                    "1": "ML ROAD FRAME - RED, 52",
                                    "2": "1043.00",
                                    "3": "2005",
                                    "4": "July"
                                },
                                {
                                    "0": "734",
                                    "1": "ML ROAD FRAME - RED, 58",
                                    "2": "1070.00",
                                    "3": "2005",
                                    "4": "July"
                                },
                                {
                                    "0": "735",
                                    "1": "ML ROAD FRAME - RED, 60",
                                    "2": "1080.00",
                                    "3": "2005",
                                    "4": "July"
                                },
                                {
                                    "0": "736",
                                    "1": "LL ROAD FRAME - BLACK, 44",
                                    "2": "1052.00",
                                    "3": "2005",
                                    "4": "July"
                                },
                                {
                                    "0": "737",
                                    "1": "LL ROAD FRAME - BLACK, 48",
                                    "2": "1070.00",
                                    "3": "2005",
                                    "4": "July"
                                },
                                {
                                    "0": "738",
                                    "1": "LL ROAD FRAME - BLACK, 52",
                                    "2": "1089.00",
                                    "3": "2005",
                                    "4": "July"
                                },
                                {
                                    "0": "739",
                                    "1": "HL MOUNTAIN FRAME - SILVER, 42",
                                    "2": "1234.00",
                                    "3": "2005",
                                    "4": "July"
                                },
                                {
                                    "0": "740",
                                    "1": "HL MOUNTAIN FRAME - SILVER, 44",
                                    "2": "1252.00",
                                    "3": "2005",
                                    "4": "July"
                                },
                                {
                                    "0": "741",
                                    "1": "HL MOUNTAIN FRAME - SILVER, 48",
                                    "2": "1270.00",
                                    "3": "2005",
                                    "4": "July"
                                },
                                {
                                    "0": "742",
                                    "1": "HL MOUNTAIN FRAME - SILVER, 46",
                                    "2": "1288.00",
                                    "3": "2005",
                                    "4": "July"
                                },
                                {
                                    "0": "743",
                                    "1": "HL MOUNTAIN FRAME - BLACK, 42",
                                    "2": "1234.00",
                                    "3": "2005",
                                    "4": "July"
                                },
                                {
                                    "0": "744",
                                    "1": "HL MOUNTAIN FRAME - BLACK, 44",
                                    "2": "1252.00",
                                    "3": "2005",
                                    "4": "July"
                                },
                                {
                                    "0": "745",
                                    "1": "HL MOUNTAIN FRAME - BLACK, 48",
                                    "2": "1270.00",
                                    "3": "2005",
                                    "4": "July"
                                },
                                {
                                    "0": "746",
                                    "1": "HL MOUNTAIN FRAME - BLACK, 46",
                                    "2": "1288.00",
                                    "3": "2005",
                                    "4": "July"
                                },
                                {
                                    "0": "747",
                                    "1": "HL MOUNTAIN FRAME - BLACK, 38",
                                    "2": "1216.00",
                                    "3": "2005",
                                    "4": "July"
                                },
                                {
                                    "0": "748",
                                    "1": "HL MOUNTAIN FRAME - SILVER, 38",
                                    "2": "1216.00",
                                    "3": "2005",
                                    "4": "July"
                                },
                                {
                                    "0": "749",
                                    "1": "ROAD-150 RED, 62",
                                    "2": "6804.00",
                                    "3": "2005",
                                    "4": "July"
                                },
                                {
                                    "0": "750",
                                    "1": "ROAD-150 RED, 44",
                                    "2": "6246.00",
                                    "3": "2005",
                                    "4": "July"
                                },
                                {
                                    "0": "751",
                                    "1": "ROAD-150 RED, 48",
                                    "2": "6409.00",
                                    "3": "2005",
                                    "4": "July"
                                },
                                {
                                    "0": "752",
                                    "1": "ROAD-150 RED, 52",
                                    "2": "6541.00",
                                    "3": "2005",
                                    "4": "July"
                                },
                                {
                                    "0": "753",
                                    "1": "ROAD-150 RED, 56",
                                    "2": "6659.00",
                                    "3": "2005",
                                    "4": "July"
                                },
                                {
                                    "0": "754",
                                    "1": "ROAD-450 RED, 58",
                                    "2": "8069.00",
                                    "3": "2005",
                                    "4": "July"
                                },
                                {
                                    "0": "755",
                                    "1": "ROAD-450 RED, 60",
                                    "2": "8119.00",
                                    "3": "2005",
                                    "4": "July"
                                },
                                {
                                    "0": "756",
                                    "1": "ROAD-450 RED, 44",
                                    "2": "7607.00",
                                    "3": "2005",
                                    "4": "July"
                                },
                                {
                                    "0": "757",
                                    "1": "ROAD-450 RED, 48",
                                    "2": "7770.00",
                                    "3": "2005",
                                    "4": "July"
                                },
                                {
                                    "0": "758",
                                    "1": "ROAD-450 RED, 52",
                                    "2": "7902.00",
                                    "3": "2005",
                                    "4": "July"
                                },
                                {
                                    "0": "759",
                                    "1": "ROAD-650 RED, 58",
                                    "2": "8977.00",
                                    "3": "2005",
                                    "4": "July"
                                },
                                {
                                    "0": "760",
                                    "1": "ROAD-650 RED, 60",
                                    "2": "9026.00",
                                    "3": "2005",
                                    "4": "July"
                                },
                                {
                                    "0": "761",
                                    "1": "ROAD-650 RED, 62",
                                    "2": "9072.00",
                                    "3": "2005",
                                    "4": "July"
                                },
                                {
                                    "0": "762",
                                    "1": "ROAD-650 RED, 44",
                                    "2": "8514.00",
                                    "3": "2005",
                                    "4": "July"
                                },
                                {
                                    "0": "763",
                                    "1": "ROAD-650 RED, 48",
                                    "2": "8677.00",
                                    "3": "2005",
                                    "4": "July"
                                },
                                {
                                    "0": "764",
                                    "1": "ROAD-650 RED, 52",
                                    "2": "8809.00",
                                    "3": "2005",
                                    "4": "July"
                                },
                                {
                                    "0": "765",
                                    "1": "ROAD-650 BLACK, 58",
                                    "2": "8977.00",
                                    "3": "2005",
                                    "4": "July"
                                },
                                {
                                    "0": "766",
                                    "1": "ROAD-650 BLACK, 60",
                                    "2": "9026.00",
                                    "3": "2005",
                                    "4": "July"
                                },
                                {
                                    "0": "767",
                                    "1": "ROAD-650 BLACK, 62",
                                    "2": "9072.00",
                                    "3": "2005",
                                    "4": "July"
                                },
                                {
                                    "0": "768",
                                    "1": "ROAD-650 BLACK, 44",
                                    "2": "8514.00",
                                    "3": "2005",
                                    "4": "July"
                                },
                                {
                                    "0": "769",
                                    "1": "ROAD-650 BLACK, 48",
                                    "2": "8677.00",
                                    "3": "2005",
                                    "4": "July"
                                },
                                {
                                    "0": "770",
                                    "1": "ROAD-650 BLACK, 52",
                                    "2": "8809.00",
                                    "3": "2005",
                                    "4": "July"
                                },
                                {
                                    "0": "771",
                                    "1": "MOUNTAIN-100 SILVER, 38",
                                    "2": "9231.00",
                                    "3": "2005",
                                    "4": "July"
                                },
                                {
                                    "0": "772",
                                    "1": "MOUNTAIN-100 SILVER, 42",
                                    "2": "9421.00",
                                    "3": "2005",
                                    "4": "July"
                                },
                                {
                                    "0": "773",
                                    "1": "MOUNTAIN-100 SILVER, 44",
                                    "2": "9584.00",
                                    "3": "2005",
                                    "4": "July"
                                },
                                {
                                    "0": "774",
                                    "1": "MOUNTAIN-100 SILVER, 48",
                                    "2": "9716.00",
                                    "3": "2005",
                                    "4": "July"
                                },
                                {
                                    "0": "775",
                                    "1": "MOUNTAIN-100 BLACK, 38",
                                    "2": "9231.00",
                                    "3": "2005",
                                    "4": "July"
                                },
                                {
                                    "0": "776",
                                    "1": "MOUNTAIN-100 BLACK, 42",
                                    "2": "9421.00",
                                    "3": "2005",
                                    "4": "July"
                                },
                                {
                                    "0": "777",
                                    "1": "MOUNTAIN-100 BLACK, 44",
                                    "2": "9584.00",
                                    "3": "2005",
                                    "4": "July"
                                },
                                {
                                    "0": "778",
                                    "1": "MOUNTAIN-100 BLACK, 48",
                                    "2": "9716.00",
                                    "3": "2005",
                                    "4": "July"
                                },
                                {
                                    "0": "779",
                                    "1": "MOUNTAIN-200 SILVER, 38",
                                    "2": "10591.00",
                                    "3": "2006",
                                    "4": "July"
                                },
                                {
                                    "0": "780",
                                    "1": "MOUNTAIN-200 SILVER, 42",
                                    "2": "10782.00",
                                    "3": "2006",
                                    "4": "July"
                                },
                                {
                                    "0": "781",
                                    "1": "MOUNTAIN-200 SILVER, 46",
                                    "2": "10945.00",
                                    "3": "2006",
                                    "4": "July"
                                },
                                {
                                    "0": "782",
                                    "1": "MOUNTAIN-200 BLACK, 38",
                                    "2": "10591.00",
                                    "3": "2006",
                                    "4": "July"
                                },
                                {
                                    "0": "783",
                                    "1": "MOUNTAIN-200 BLACK, 42",
                                    "2": "10782.00",
                                    "3": "2006",
                                    "4": "July"
                                },
                                {
                                    "0": "784",
                                    "1": "MOUNTAIN-200 BLACK, 46",
                                    "2": "10945.00",
                                    "3": "2006",
                                    "4": "July"
                                },
                                {
                                    "0": "785",
                                    "1": "MOUNTAIN-300 BLACK, 38",
                                    "2": "11499.00",
                                    "3": "2006",
                                    "4": "July"
                                },
                                {
                                    "0": "786",
                                    "1": "MOUNTAIN-300 BLACK, 40",
                                    "2": "11689.00",
                                    "3": "2006",
                                    "4": "July"
                                },
                                {
                                    "0": "787",
                                    "1": "MOUNTAIN-300 BLACK, 44",
                                    "2": "11852.00",
                                    "3": "2006",
                                    "4": "July"
                                },
                                {
                                    "0": "788",
                                    "1": "MOUNTAIN-300 BLACK, 48",
                                    "2": "11984.00",
                                    "3": "2006",
                                    "4": "July"
                                },
                                {
                                    "0": "789",
                                    "1": "ROAD-250 RED, 44",
                                    "2": "6700.00",
                                    "3": "2006",
                                    "4": "July"
                                },
                                {
                                    "0": "790",
                                    "1": "ROAD-250 RED, 48",
                                    "2": "6863.00",
                                    "3": "2006",
                                    "4": "July"
                                },
                                {
                                    "0": "791",
                                    "1": "ROAD-250 RED, 52",
                                    "2": "6994.00",
                                    "3": "2006",
                                    "4": "July"
                                },
                                {
                                    "0": "792",
                                    "1": "ROAD-250 RED, 58",
                                    "2": "7162.00",
                                    "3": "2006",
                                    "4": "July"
                                },
                                {
                                    "0": "793",
                                    "1": "ROAD-250 BLACK, 44",
                                    "2": "6700.00",
                                    "3": "2006",
                                    "4": "July"
                                },
                                {
                                    "0": "794",
                                    "1": "ROAD-250 BLACK, 48",
                                    "2": "6863.00",
                                    "3": "2006",
                                    "4": "July"
                                },
                                {
                                    "0": "795",
                                    "1": "ROAD-250 BLACK, 52",
                                    "2": "6994.00",
                                    "3": "2006",
                                    "4": "July"
                                },
                                {
                                    "0": "796",
                                    "1": "ROAD-250 BLACK, 58",
                                    "2": "7112.00",
                                    "3": "2006",
                                    "4": "July"
                                },
                                {
                                    "0": "797",
                                    "1": "ROAD-550-W YELLOW, 38",
                                    "2": "7870.00",
                                    "3": "2006",
                                    "4": "July"
                                },
                                {
                                    "0": "798",
                                    "1": "ROAD-550-W YELLOW, 40",
                                    "2": "8060.00",
                                    "3": "2006",
                                    "4": "July"
                                },
                                {
                                    "0": "799",
                                    "1": "ROAD-550-W YELLOW, 42",
                                    "2": "8224.00",
                                    "3": "2006",
                                    "4": "July"
                                },
                                {
                                    "0": "800",
                                    "1": "ROAD-550-W YELLOW, 44",
                                    "2": "8355.00",
                                    "3": "2006",
                                    "4": "July"
                                },
                                {
                                    "0": "801",
                                    "1": "ROAD-550-W YELLOW, 48",
                                    "2": "8473.00",
                                    "3": "2006",
                                    "4": "July"
                                },
                                {
                                    "0": "802",
                                    "1": "LL FORK",
                                    "2": "NULL",
                                    "3": "2006",
                                    "4": "July"
                                },
                                {
                                    "0": "803",
                                    "1": "ML FORK",
                                    "2": "NULL",
                                    "3": "2006",
                                    "4": "July"
                                },
                                {
                                    "0": "804",
                                    "1": "HL FORK",
                                    "2": "NULL",
                                    "3": "2006",
                                    "4": "July"
                                },
                                {
                                    "0": "805",
                                    "1": "LL HEADSET",
                                    "2": "NULL",
                                    "3": "2006",
                                    "4": "July"
                                },
                                {
                                    "0": "806",
                                    "1": "ML HEADSET",
                                    "2": "NULL",
                                    "3": "2006",
                                    "4": "July"
                                },
                                {
                                    "0": "807",
                                    "1": "HL HEADSET",
                                    "2": "NULL",
                                    "3": "2006",
                                    "4": "July"
                                },
                                {
                                    "0": "808",
                                    "1": "LL MOUNTAIN HANDLEBARS",
                                    "2": "NULL",
                                    "3": "2006",
                                    "4": "July"
                                },
                                {
                                    "0": "809",
                                    "1": "ML MOUNTAIN HANDLEBARS",
                                    "2": "NULL",
                                    "3": "2006",
                                    "4": "July"
                                },
                                {
                                    "0": "810",
                                    "1": "HL MOUNTAIN HANDLEBARS",
                                    "2": "NULL",
                                    "3": "2006",
                                    "4": "July"
                                },
                                {
                                    "0": "811",
                                    "1": "LL ROAD HANDLEBARS",
                                    "2": "NULL",
                                    "3": "2006",
                                    "4": "July"
                                },
                                {
                                    "0": "812",
                                    "1": "ML ROAD HANDLEBARS",
                                    "2": "NULL",
                                    "3": "2006",
                                    "4": "July"
                                },
                                {
                                    "0": "813",
                                    "1": "HL ROAD HANDLEBARS",
                                    "2": "NULL",
                                    "3": "2006",
                                    "4": "July"
                                },
                                {
                                    "0": "814",
                                    "1": "ML MOUNTAIN FRAME - BLACK, 38",
                                    "2": "1238.00",
                                    "3": "2006",
                                    "4": "July"
                                },
                                {
                                    "0": "815",
                                    "1": "LL MOUNTAIN FRONT WHEEL",
                                    "2": "NULL",
                                    "3": "2006",
                                    "4": "July"
                                },
                                {
                                    "0": "816",
                                    "1": "ML MOUNTAIN FRONT WHEEL",
                                    "2": "NULL",
                                    "3": "2006",
                                    "4": "July"
                                },
                                {
                                    "0": "817",
                                    "1": "HL MOUNTAIN FRONT WHEEL",
                                    "2": "NULL",
                                    "3": "2006",
                                    "4": "July"
                                },
                                {
                                    "0": "818",
                                    "1": "LL ROAD FRONT WHEEL",
                                    "2": "900.00",
                                    "3": "2006",
                                    "4": "July"
                                },
                                {
                                    "0": "819",
                                    "1": "ML ROAD FRONT WHEEL",
                                    "2": "850.00",
                                    "3": "2006",
                                    "4": "July"
                                },
                                {
                                    "0": "820",
                                    "1": "HL ROAD FRONT WHEEL",
                                    "2": "650.00",
                                    "3": "2006",
                                    "4": "July"
                                },
                                {
                                    "0": "821",
                                    "1": "TOURING FRONT WHEEL",
                                    "2": "NULL",
                                    "3": "2006",
                                    "4": "July"
                                },
                                {
                                    "0": "822",
                                    "1": "ML ROAD FRAME-W - YELLOW, 38",
                                    "2": "989.00",
                                    "3": "2006",
                                    "4": "July"
                                },
                                {
                                    "0": "823",
                                    "1": "LL MOUNTAIN REAR WHEEL",
                                    "2": "NULL",
                                    "3": "2006",
                                    "4": "July"
                                },
                                {
                                    "0": "824",
                                    "1": "ML MOUNTAIN REAR WHEEL",
                                    "2": "NULL",
                                    "3": "2006",
                                    "4": "July"
                                },
                                {
                                    "0": "825",
                                    "1": "HL MOUNTAIN REAR WHEEL",
                                    "2": "NULL",
                                    "3": "2006",
                                    "4": "July"
                                },
                                {
                                    "0": "826",
                                    "1": "LL ROAD REAR WHEEL",
                                    "2": "1050.00",
                                    "3": "2006",
                                    "4": "July"
                                },
                                {
                                    "0": "827",
                                    "1": "ML ROAD REAR WHEEL",
                                    "2": "1000.00",
                                    "3": "2006",
                                    "4": "July"
                                },
                                {
                                    "0": "828",
                                    "1": "HL ROAD REAR WHEEL",
                                    "2": "890.00",
                                    "3": "2006",
                                    "4": "July"
                                },
                                {
                                    "0": "829",
                                    "1": "TOURING REAR WHEEL",
                                    "2": "NULL",
                                    "3": "2006",
                                    "4": "July"
                                },
                                {
                                    "0": "830",
                                    "1": "ML MOUNTAIN FRAME - BLACK, 40",
                                    "2": "1256.00",
                                    "3": "2006",
                                    "4": "July"
                                },
                                {
                                    "0": "831",
                                    "1": "ML MOUNTAIN FRAME - BLACK, 44",
                                    "2": "1275.00",
                                    "3": "2006",
                                    "4": "July"
                                },
                                {
                                    "0": "832",
                                    "1": "ML MOUNTAIN FRAME - BLACK, 48",
                                    "2": "1293.00",
                                    "3": "2006",
                                    "4": "July"
                                },
                                {
                                    "0": "833",
                                    "1": "ML ROAD FRAME-W - YELLOW, 40",
                                    "2": "1007.00",
                                    "3": "2006",
                                    "4": "July"
                                },
                                {
                                    "0": "834",
                                    "1": "ML ROAD FRAME-W - YELLOW, 42",
                                    "2": "1025.00",
                                    "3": "2006",
                                    "4": "July"
                                },
                                {
                                    "0": "835",
                                    "1": "ML ROAD FRAME-W - YELLOW, 44",
                                    "2": "1043.00",
                                    "3": "2006",
                                    "4": "July"
                                },
                                {
                                    "0": "836",
                                    "1": "ML ROAD FRAME-W - YELLOW, 48",
                                    "2": "1061.00",
                                    "3": "2006",
                                    "4": "July"
                                },
                                {
                                    "0": "837",
                                    "1": "HL ROAD FRAME - BLACK, 62",
                                    "2": "1043.00",
                                    "3": "2006",
                                    "4": "July"
                                },
                                {
                                    "0": "838",
                                    "1": "HL ROAD FRAME - BLACK, 44",
                                    "2": "962.00",
                                    "3": "2006",
                                    "4": "July"
                                },
                                {
                                    "0": "839",
                                    "1": "HL ROAD FRAME - BLACK, 48",
                                    "2": "980.00",
                                    "3": "2006",
                                    "4": "July"
                                },
                                {
                                    "0": "840",
                                    "1": "HL ROAD FRAME - BLACK, 52",
                                    "2": "998.00",
                                    "3": "2006",
                                    "4": "July"
                                },
                                {
                                    "0": "841",
                                    "1": "MEN'S SPORTS SHORTS, S",
                                    "2": "NULL",
                                    "3": "2006",
                                    "4": "July"
                                },
                                {
                                    "0": "842",
                                    "1": "TOURING-PANNIERS, LARGE",
                                    "2": "NULL",
                                    "3": "2006",
                                    "4": "July"
                                },
                                {
                                    "0": "843",
                                    "1": "CABLE LOCK",
                                    "2": "NULL",
                                    "3": "2006",
                                    "4": "July"
                                },
                                {
                                    "0": "844",
                                    "1": "MINIPUMP",
                                    "2": "NULL",
                                    "3": "2006",
                                    "4": "July"
                                },
                                {
                                    "0": "845",
                                    "1": "MOUNTAIN PUMP",
                                    "2": "NULL",
                                    "3": "2006",
                                    "4": "July"
                                },
                                {
                                    "0": "846",
                                    "1": "TAILLIGHTS - BATTERY-POWERED",
                                    "2": "NULL",
                                    "3": "2006",
                                    "4": "July"
                                },
                                {
                                    "0": "847",
                                    "1": "HEADLIGHTS - DUAL-BEAM",
                                    "2": "NULL",
                                    "3": "2006",
                                    "4": "July"
                                },
                                {
                                    "0": "848",
                                    "1": "HEADLIGHTS - WEATHERPROOF",
                                    "2": "NULL",
                                    "3": "2006",
                                    "4": "July"
                                },
                                {
                                    "0": "849",
                                    "1": "MEN'S SPORTS SHORTS, M",
                                    "2": "NULL",
                                    "3": "2006",
                                    "4": "July"
                                },
                                {
                                    "0": "850",
                                    "1": "MEN'S SPORTS SHORTS, L",
                                    "2": "NULL",
                                    "3": "2006",
                                    "4": "July"
                                },
                                {
                                    "0": "851",
                                    "1": "MEN'S SPORTS SHORTS, XL",
                                    "2": "NULL",
                                    "3": "2006",
                                    "4": "July"
                                },
                                {
                                    "0": "852",
                                    "1": "WOMEN'S TIGHTS, S",
                                    "2": "NULL",
                                    "3": "2006",
                                    "4": "July"
                                },
                                {
                                    "0": "853",
                                    "1": "WOMEN'S TIGHTS, M",
                                    "2": "NULL",
                                    "3": "2006",
                                    "4": "July"
                                },
                                {
                                    "0": "854",
                                    "1": "WOMEN'S TIGHTS, L",
                                    "2": "NULL",
                                    "3": "2006",
                                    "4": "July"
                                },
                                {
                                    "0": "855",
                                    "1": "MEN'S BIB-SHORTS, S",
                                    "2": "NULL",
                                    "3": "2006",
                                    "4": "July"
                                },
                                {
                                    "0": "856",
                                    "1": "MEN'S BIB-SHORTS, M",
                                    "2": "NULL",
                                    "3": "2006",
                                    "4": "July"
                                },
                                {
                                    "0": "857",
                                    "1": "MEN'S BIB-SHORTS, L",
                                    "2": "NULL",
                                    "3": "2006",
                                    "4": "July"
                                },
                                {
                                    "0": "858",
                                    "1": "HALF-FINGER GLOVES, S",
                                    "2": "NULL",
                                    "3": "2006",
                                    "4": "July"
                                },
                                {
                                    "0": "859",
                                    "1": "HALF-FINGER GLOVES, M",
                                    "2": "NULL",
                                    "3": "2006",
                                    "4": "July"
                                },
                                {
                                    "0": "860",
                                    "1": "HALF-FINGER GLOVES, L",
                                    "2": "NULL",
                                    "3": "2006",
                                    "4": "July"
                                },
                                {
                                    "0": "861",
                                    "1": "FULL-FINGER GLOVES, S",
                                    "2": "NULL",
                                    "3": "2006",
                                    "4": "July"
                                },
                                {
                                    "0": "862",
                                    "1": "FULL-FINGER GLOVES, M",
                                    "2": "NULL",
                                    "3": "2006",
                                    "4": "July"
                                },
                                {
                                    "0": "863",
                                    "1": "FULL-FINGER GLOVES, L",
                                    "2": "NULL",
                                    "3": "2006",
                                    "4": "July"
                                },
                                {
                                    "0": "864",
                                    "1": "CLASSIC VEST, S",
                                    "2": "NULL",
                                    "3": "2007",
                                    "4": "July"
                                },
                                {
                                    "0": "865",
                                    "1": "CLASSIC VEST, M",
                                    "2": "NULL",
                                    "3": "2007",
                                    "4": "July"
                                },
                                {
                                    "0": "866",
                                    "1": "CLASSIC VEST, L",
                                    "2": "NULL",
                                    "3": "2007",
                                    "4": "July"
                                },
                                {
                                    "0": "867",
                                    "1": "WOMEN'S MOUNTAIN SHORTS, S",
                                    "2": "NULL",
                                    "3": "2007",
                                    "4": "July"
                                },
                                {
                                    "0": "868",
                                    "1": "WOMEN'S MOUNTAIN SHORTS, M",
                                    "2": "NULL",
                                    "3": "2007",
                                    "4": "July"
                                },
                                {
                                    "0": "869",
                                    "1": "WOMEN'S MOUNTAIN SHORTS, L",
                                    "2": "NULL",
                                    "3": "2007",
                                    "4": "July"
                                },
                                {
                                    "0": "870",
                                    "1": "WATER BOTTLE - 30 OZ.",
                                    "2": "NULL",
                                    "3": "2007",
                                    "4": "July"
                                },
                                {
                                    "0": "871",
                                    "1": "MOUNTAIN BOTTLE CAGE",
                                    "2": "NULL",
                                    "3": "2007",
                                    "4": "July"
                                },
                                {
                                    "0": "872",
                                    "1": "ROAD BOTTLE CAGE",
                                    "2": "NULL",
                                    "3": "2007",
                                    "4": "July"
                                },
                                {
                                    "0": "873",
                                    "1": "PATCH KIT/8 PATCHES",
                                    "2": "NULL",
                                    "3": "2007",
                                    "4": "July"
                                },
                                {
                                    "0": "874",
                                    "1": "RACING SOCKS, M",
                                    "2": "NULL",
                                    "3": "2007",
                                    "4": "July"
                                },
                                {
                                    "0": "875",
                                    "1": "RACING SOCKS, L",
                                    "2": "NULL",
                                    "3": "2007",
                                    "4": "July"
                                },
                                {
                                    "0": "876",
                                    "1": "HITCH RACK - 4-BIKE",
                                    "2": "NULL",
                                    "3": "2007",
                                    "4": "July"
                                },
                                {
                                    "0": "877",
                                    "1": "BIKE WASH - DISSOLVER",
                                    "2": "NULL",
                                    "3": "2007",
                                    "4": "July"
                                },
                                {
                                    "0": "878",
                                    "1": "FENDER SET - MOUNTAIN",
                                    "2": "NULL",
                                    "3": "2007",
                                    "4": "July"
                                },
                                {
                                    "0": "879",
                                    "1": "ALL-PURPOSE BIKE STAND",
                                    "2": "NULL",
                                    "3": "2007",
                                    "4": "July"
                                },
                                {
                                    "0": "880",
                                    "1": "HYDRATION PACK - 70 OZ.",
                                    "2": "NULL",
                                    "3": "2007",
                                    "4": "July"
                                },
                                {
                                    "0": "881",
                                    "1": "SHORT-SLEEVE CLASSIC JERSEY, S",
                                    "2": "NULL",
                                    "3": "2007",
                                    "4": "July"
                                },
                                {
                                    "0": "882",
                                    "1": "SHORT-SLEEVE CLASSIC JERSEY, M",
                                    "2": "NULL",
                                    "3": "2007",
                                    "4": "July"
                                },
                                {
                                    "0": "883",
                                    "1": "SHORT-SLEEVE CLASSIC JERSEY, L",
                                    "2": "NULL",
                                    "3": "2007",
                                    "4": "July"
                                },
                                {
                                    "0": "884",
                                    "1": "SHORT-SLEEVE CLASSIC JERSEY, XL",
                                    "2": "NULL",
                                    "3": "2007",
                                    "4": "July"
                                },
                                {
                                    "0": "885",
                                    "1": "HL TOURING FRAME - YELLOW, 60",
                                    "2": "1397.00",
                                    "3": "2007",
                                    "4": "July"
                                },
                                {
                                    "0": "886",
                                    "1": "LL TOURING FRAME - YELLOW, 62",
                                    "2": "1451.00",
                                    "3": "2007",
                                    "4": "July"
                                },
                                {
                                    "0": "887",
                                    "1": "HL TOURING FRAME - YELLOW, 46",
                                    "2": "1343.00",
                                    "3": "2007",
                                    "4": "July"
                                },
                                {
                                    "0": "888",
                                    "1": "HL TOURING FRAME - YELLOW, 50",
                                    "2": "1361.00",
                                    "3": "2007",
                                    "4": "July"
                                },
                                {
                                    "0": "889",
                                    "1": "HL TOURING FRAME - YELLOW, 54",
                                    "2": "1379.00",
                                    "3": "2007",
                                    "4": "July"
                                },
                                {
                                    "0": "890",
                                    "1": "HL TOURING FRAME - BLUE, 46",
                                    "2": "1343.00",
                                    "3": "2007",
                                    "4": "July"
                                },
                                {
                                    "0": "891",
                                    "1": "HL TOURING FRAME - BLUE, 50",
                                    "2": "1361.00",
                                    "3": "2007",
                                    "4": "July"
                                },
                                {
                                    "0": "892",
                                    "1": "HL TOURING FRAME - BLUE, 54",
                                    "2": "1379.00",
                                    "3": "2007",
                                    "4": "July"
                                },
                                {
                                    "0": "893",
                                    "1": "HL TOURING FRAME - BLUE, 60",
                                    "2": "1397.00",
                                    "3": "2007",
                                    "4": "July"
                                },
                                {
                                    "0": "894",
                                    "1": "REAR DERAILLEUR",
                                    "2": "215.00",
                                    "3": "2007",
                                    "4": "July"
                                },
                                {
                                    "0": "895",
                                    "1": "LL TOURING FRAME - BLUE, 50",
                                    "2": "1406.00",
                                    "3": "2007",
                                    "4": "July"
                                },
                                {
                                    "0": "896",
                                    "1": "LL TOURING FRAME - BLUE, 54",
                                    "2": "1424.00",
                                    "3": "2007",
                                    "4": "July"
                                },
                                {
                                    "0": "897",
                                    "1": "LL TOURING FRAME - BLUE, 58",
                                    "2": "1433.00",
                                    "3": "2007",
                                    "4": "July"
                                },
                                {
                                    "0": "898",
                                    "1": "LL TOURING FRAME - BLUE, 62",
                                    "2": "1451.00",
                                    "3": "2007",
                                    "4": "July"
                                },
                                {
                                    "0": "899",
                                    "1": "LL TOURING FRAME - YELLOW, 44",
                                    "2": "1370.00",
                                    "3": "2007",
                                    "4": "July"
                                },
                                {
                                    "0": "900",
                                    "1": "LL TOURING FRAME - YELLOW, 50",
                                    "2": "1406.00",
                                    "3": "2007",
                                    "4": "July"
                                },
                                {
                                    "0": "901",
                                    "1": "LL TOURING FRAME - YELLOW, 54",
                                    "2": "1424.00",
                                    "3": "2007",
                                    "4": "July"
                                },
                                {
                                    "0": "902",
                                    "1": "LL TOURING FRAME - YELLOW, 58",
                                    "2": "1433.00",
                                    "3": "2007",
                                    "4": "July"
                                },
                                {
                                    "0": "903",
                                    "1": "LL TOURING FRAME - BLUE, 44",
                                    "2": "1370.00",
                                    "3": "2007",
                                    "4": "July"
                                },
                                {
                                    "0": "904",
                                    "1": "ML MOUNTAIN FRAME-W - SILVER, 40",
                                    "2": "1256.00",
                                    "3": "2007",
                                    "4": "July"
                                },
                                {
                                    "0": "905",
                                    "1": "ML MOUNTAIN FRAME-W - SILVER, 42",
                                    "2": "1275.00",
                                    "3": "2007",
                                    "4": "July"
                                },
                                {
                                    "0": "906",
                                    "1": "ML MOUNTAIN FRAME-W - SILVER, 46",
                                    "2": "1293.00",
                                    "3": "2007",
                                    "4": "July"
                                },
                                {
                                    "0": "907",
                                    "1": "REAR BRAKES",
                                    "2": "317.00",
                                    "3": "2007",
                                    "4": "July"
                                },
                                {
                                    "0": "908",
                                    "1": "LL MOUNTAIN SEAT/SADDLE",
                                    "2": "NULL",
                                    "3": "2007",
                                    "4": "July"
                                },
                                {
                                    "0": "909",
                                    "1": "ML MOUNTAIN SEAT/SADDLE",
                                    "2": "NULL",
                                    "3": "2007",
                                    "4": "July"
                                },
                                {
                                    "0": "910",
                                    "1": "HL MOUNTAIN SEAT/SADDLE",
                                    "2": "NULL",
                                    "3": "2007",
                                    "4": "July"
                                },
                                {
                                    "0": "911",
                                    "1": "LL ROAD SEAT/SADDLE",
                                    "2": "NULL",
                                    "3": "2007",
                                    "4": "July"
                                },
                                {
                                    "0": "912",
                                    "1": "ML ROAD SEAT/SADDLE",
                                    "2": "NULL",
                                    "3": "2007",
                                    "4": "July"
                                },
                                {
                                    "0": "913",
                                    "1": "HL ROAD SEAT/SADDLE",
                                    "2": "NULL",
                                    "3": "2007",
                                    "4": "July"
                                },
                                {
                                    "0": "914",
                                    "1": "LL TOURING SEAT/SADDLE",
                                    "2": "NULL",
                                    "3": "2007",
                                    "4": "July"
                                },
                                {
                                    "0": "915",
                                    "1": "ML TOURING SEAT/SADDLE",
                                    "2": "NULL",
                                    "3": "2007",
                                    "4": "July"
                                },
                                {
                                    "0": "916",
                                    "1": "HL TOURING SEAT/SADDLE",
                                    "2": "NULL",
                                    "3": "2007",
                                    "4": "July"
                                },
                                {
                                    "0": "917",
                                    "1": "LL MOUNTAIN FRAME - SILVER, 42",
                                    "2": "1324.00",
                                    "3": "2007",
                                    "4": "July"
                                },
                                {
                                    "0": "918",
                                    "1": "LL MOUNTAIN FRAME - SILVER, 44",
                                    "2": "1343.00",
                                    "3": "2007",
                                    "4": "July"
                                },
                                {
                                    "0": "919",
                                    "1": "LL MOUNTAIN FRAME - SILVER, 48",
                                    "2": "1361.00",
                                    "3": "2007",
                                    "4": "July"
                                },
                                {
                                    "0": "920",
                                    "1": "LL MOUNTAIN FRAME - SILVER, 52",
                                    "2": "1379.00",
                                    "3": "2007",
                                    "4": "July"
                                },
                                {
                                    "0": "921",
                                    "1": "MOUNTAIN TIRE TUBE",
                                    "2": "NULL",
                                    "3": "2007",
                                    "4": "July"
                                },
                                {
                                    "0": "922",
                                    "1": "ROAD TIRE TUBE",
                                    "2": "NULL",
                                    "3": "2007",
                                    "4": "July"
                                },
                                {
                                    "0": "923",
                                    "1": "TOURING TIRE TUBE",
                                    "2": "NULL",
                                    "3": "2007",
                                    "4": "July"
                                },
                                {
                                    "0": "924",
                                    "1": "LL MOUNTAIN FRAME - BLACK, 42",
                                    "2": "1324.00",
                                    "3": "2007",
                                    "4": "July"
                                },
                                {
                                    "0": "925",
                                    "1": "LL MOUNTAIN FRAME - BLACK, 44",
                                    "2": "1343.00",
                                    "3": "2007",
                                    "4": "July"
                                },
                                {
                                    "0": "926",
                                    "1": "LL MOUNTAIN FRAME - BLACK, 48",
                                    "2": "1361.00",
                                    "3": "2007",
                                    "4": "July"
                                },
                                {
                                    "0": "927",
                                    "1": "LL MOUNTAIN FRAME - BLACK, 52",
                                    "2": "1379.00",
                                    "3": "2007",
                                    "4": "July"
                                },
                                {
                                    "0": "928",
                                    "1": "LL MOUNTAIN TIRE",
                                    "2": "NULL",
                                    "3": "2007",
                                    "4": "July"
                                },
                                {
                                    "0": "929",
                                    "1": "ML MOUNTAIN TIRE",
                                    "2": "NULL",
                                    "3": "2007",
                                    "4": "July"
                                },
                                {
                                    "0": "930",
                                    "1": "HL MOUNTAIN TIRE",
                                    "2": "NULL",
                                    "3": "2007",
                                    "4": "July"
                                },
                                {
                                    "0": "931",
                                    "1": "LL ROAD TIRE",
                                    "2": "NULL",
                                    "3": "2007",
                                    "4": "July"
                                },
                                {
                                    "0": "932",
                                    "1": "ML ROAD TIRE",
                                    "2": "NULL",
                                    "3": "2007",
                                    "4": "July"
                                },
                                {
                                    "0": "933",
                                    "1": "HL ROAD TIRE",
                                    "2": "NULL",
                                    "3": "2007",
                                    "4": "July"
                                },
                                {
                                    "0": "934",
                                    "1": "TOURING TIRE",
                                    "2": "NULL",
                                    "3": "2007",
                                    "4": "July"
                                },
                                {
                                    "0": "935",
                                    "1": "LL MOUNTAIN PEDAL",
                                    "2": "218.00",
                                    "3": "2007",
                                    "4": "July"
                                },
                                {
                                    "0": "936",
                                    "1": "ML MOUNTAIN PEDAL",
                                    "2": "215.00",
                                    "3": "2007",
                                    "4": "July"
                                },
                                {
                                    "0": "937",
                                    "1": "HL MOUNTAIN PEDAL",
                                    "2": "185.00",
                                    "3": "2007",
                                    "4": "July"
                                },
                                {
                                    "0": "938",
                                    "1": "LL ROAD PEDAL",
                                    "2": "189.00",
                                    "3": "2007",
                                    "4": "July"
                                },
                                {
                                    "0": "939",
                                    "1": "ML ROAD PEDAL",
                                    "2": "168.00",
                                    "3": "2007",
                                    "4": "July"
                                },
                                {
                                    "0": "940",
                                    "1": "HL ROAD PEDAL",
                                    "2": "149.00",
                                    "3": "2007",
                                    "4": "July"
                                },
                                {
                                    "0": "941",
                                    "1": "TOURING PEDAL",
                                    "2": "NULL",
                                    "3": "2007",
                                    "4": "July"
                                },
                                {
                                    "0": "942",
                                    "1": "ML MOUNTAIN FRAME-W - SILVER, 38",
                                    "2": "1238.00",
                                    "3": "2007",
                                    "4": "July"
                                },
                                {
                                    "0": "943",
                                    "1": "LL MOUNTAIN FRAME - BLACK, 40",
                                    "2": "1306.00",
                                    "3": "2007",
                                    "4": "July"
                                },
                                {
                                    "0": "944",
                                    "1": "LL MOUNTAIN FRAME - SILVER, 40",
                                    "2": "1306.00",
                                    "3": "2007",
                                    "4": "July"
                                },
                                {
                                    "0": "945",
                                    "1": "FRONT DERAILLEUR",
                                    "2": "88.00",
                                    "3": "2007",
                                    "4": "July"
                                },
                                {
                                    "0": "946",
                                    "1": "LL TOURING HANDLEBARS",
                                    "2": "NULL",
                                    "3": "2007",
                                    "4": "July"
                                },
                                {
                                    "0": "947",
                                    "1": "HL TOURING HANDLEBARS",
                                    "2": "NULL",
                                    "3": "2007",
                                    "4": "July"
                                },
                                {
                                    "0": "948",
                                    "1": "FRONT BRAKES",
                                    "2": "317.00",
                                    "3": "2007",
                                    "4": "July"
                                },
                                {
                                    "0": "949",
                                    "1": "LL CRANKSET",
                                    "2": "600.00",
                                    "3": "2007",
                                    "4": "July"
                                },
                                {
                                    "0": "950",
                                    "1": "ML CRANKSET",
                                    "2": "635.00",
                                    "3": "2007",
                                    "4": "July"
                                },
                                {
                                    "0": "951",
                                    "1": "HL CRANKSET",
                                    "2": "575.00",
                                    "3": "2007",
                                    "4": "July"
                                },
                                {
                                    "0": "952",
                                    "1": "CHAIN",
                                    "2": "NULL",
                                    "3": "2007",
                                    "4": "July"
                                },
                                {
                                    "0": "953",
                                    "1": "TOURING-2000 BLUE, 60",
                                    "2": "12655.00",
                                    "3": "2007",
                                    "4": "July"
                                },
                                {
                                    "0": "954",
                                    "1": "TOURING-1000 YELLOW, 46",
                                    "2": "11399.00",
                                    "3": "2007",
                                    "4": "July"
                                },
                                {
                                    "0": "955",
                                    "1": "TOURING-1000 YELLOW, 50",
                                    "2": "11530.00",
                                    "3": "2007",
                                    "4": "July"
                                },
                                {
                                    "0": "956",
                                    "1": "TOURING-1000 YELLOW, 54",
                                    "2": "11648.00",
                                    "3": "2007",
                                    "4": "July"
                                },
                                {
                                    "0": "957",
                                    "1": "TOURING-1000 YELLOW, 60",
                                    "2": "11748.00",
                                    "3": "2007",
                                    "4": "July"
                                },
                                {
                                    "0": "958",
                                    "1": "TOURING-3000 BLUE, 54",
                                    "2": "13463.00",
                                    "3": "2007",
                                    "4": "July"
                                },
                                {
                                    "0": "959",
                                    "1": "TOURING-3000 BLUE, 58",
                                    "2": "13562.00",
                                    "3": "2007",
                                    "4": "July"
                                },
                                {
                                    "0": "960",
                                    "1": "TOURING-3000 BLUE, 62",
                                    "2": "13608.00",
                                    "3": "2007",
                                    "4": "July"
                                },
                                {
                                    "0": "961",
                                    "1": "TOURING-3000 YELLOW, 44",
                                    "2": "13050.00",
                                    "3": "2007",
                                    "4": "July"
                                },
                                {
                                    "0": "962",
                                    "1": "TOURING-3000 YELLOW, 50",
                                    "2": "13213.00",
                                    "3": "2007",
                                    "4": "July"
                                },
                                {
                                    "0": "963",
                                    "1": "TOURING-3000 YELLOW, 54",
                                    "2": "13345.00",
                                    "3": "2007",
                                    "4": "July"
                                },
                                {
                                    "0": "964",
                                    "1": "TOURING-3000 YELLOW, 58",
                                    "2": "13512.00",
                                    "3": "2007",
                                    "4": "July"
                                },
                                {
                                    "0": "965",
                                    "1": "TOURING-3000 YELLOW, 62",
                                    "2": "13608.00",
                                    "3": "2007",
                                    "4": "July"
                                },
                                {
                                    "0": "966",
                                    "1": "TOURING-1000 BLUE, 46",
                                    "2": "11399.00",
                                    "3": "2007",
                                    "4": "July"
                                },
                                {
                                    "0": "967",
                                    "1": "TOURING-1000 BLUE, 50",
                                    "2": "11530.00",
                                    "3": "2007",
                                    "4": "July"
                                },
                                {
                                    "0": "968",
                                    "1": "TOURING-1000 BLUE, 54",
                                    "2": "11648.00",
                                    "3": "2007",
                                    "4": "July"
                                },
                                {
                                    "0": "969",
                                    "1": "TOURING-1000 BLUE, 60",
                                    "2": "11748.00",
                                    "3": "2007",
                                    "4": "July"
                                },
                                {
                                    "0": "970",
                                    "1": "TOURING-2000 BLUE, 46",
                                    "2": "12306.00",
                                    "3": "2007",
                                    "4": "July"
                                },
                                {
                                    "0": "971",
                                    "1": "TOURING-2000 BLUE, 50",
                                    "2": "12437.00",
                                    "3": "2007",
                                    "4": "July"
                                },
                                {
                                    "0": "972",
                                    "1": "TOURING-2000 BLUE, 54",
                                    "2": "12555.00",
                                    "3": "2007",
                                    "4": "July"
                                },
                                {
                                    "0": "973",
                                    "1": "ROAD-350-W YELLOW, 40",
                                    "2": "6963.00",
                                    "3": "2007",
                                    "4": "July"
                                },
                                {
                                    "0": "974",
                                    "1": "ROAD-350-W YELLOW, 42",
                                    "2": "7153.00",
                                    "3": "2007",
                                    "4": "July"
                                },
                                {
                                    "0": "975",
                                    "1": "ROAD-350-W YELLOW, 44",
                                    "2": "7316.00",
                                    "3": "2007",
                                    "4": "July"
                                },
                                {
                                    "0": "976",
                                    "1": "ROAD-350-W YELLOW, 48",
                                    "2": "7448.00",
                                    "3": "2007",
                                    "4": "July"
                                },
                                {
                                    "0": "977",
                                    "1": "ROAD-750 BLACK, 58",
                                    "2": "9430.00",
                                    "3": "2007",
                                    "4": "July"
                                },
                                {
                                    "0": "978",
                                    "1": "TOURING-3000 BLUE, 44",
                                    "2": "13050.00",
                                    "3": "2007",
                                    "4": "July"
                                },
                                {
                                    "0": "979",
                                    "1": "TOURING-3000 BLUE, 50",
                                    "2": "13213.00",
                                    "3": "2007",
                                    "4": "July"
                                },
                                {
                                    "0": "980",
                                    "1": "MOUNTAIN-400-W SILVER, 38",
                                    "2": "11952.00",
                                    "3": "2007",
                                    "4": "July"
                                },
                                {
                                    "0": "981",
                                    "1": "MOUNTAIN-400-W SILVER, 40",
                                    "2": "12143.00",
                                    "3": "2007",
                                    "4": "July"
                                },
                                {
                                    "0": "982",
                                    "1": "MOUNTAIN-400-W SILVER, 42",
                                    "2": "12306.00",
                                    "3": "2007",
                                    "4": "July"
                                },
                                {
                                    "0": "983",
                                    "1": "MOUNTAIN-400-W SILVER, 46",
                                    "2": "12437.00",
                                    "3": "2007",
                                    "4": "July"
                                },
                                {
                                    "0": "984",
                                    "1": "MOUNTAIN-500 SILVER, 40",
                                    "2": "12406.00",
                                    "3": "2007",
                                    "4": "July"
                                },
                                {
                                    "0": "985",
                                    "1": "MOUNTAIN-500 SILVER, 42",
                                    "2": "12596.00",
                                    "3": "2007",
                                    "4": "July"
                                },
                                {
                                    "0": "986",
                                    "1": "MOUNTAIN-500 SILVER, 44",
                                    "2": "12759.00",
                                    "3": "2007",
                                    "4": "July"
                                },
                                {
                                    "0": "987",
                                    "1": "MOUNTAIN-500 SILVER, 48",
                                    "2": "12891.00",
                                    "3": "2007",
                                    "4": "July"
                                },
                                {
                                    "0": "988",
                                    "1": "MOUNTAIN-500 SILVER, 52",
                                    "2": "13009.00",
                                    "3": "2007",
                                    "4": "July"
                                },
                                {
                                    "0": "989",
                                    "1": "MOUNTAIN-500 BLACK, 40",
                                    "2": "12406.00",
                                    "3": "2007",
                                    "4": "July"
                                },
                                {
                                    "0": "990",
                                    "1": "MOUNTAIN-500 BLACK, 42",
                                    "2": "12596.00",
                                    "3": "2007",
                                    "4": "July"
                                },
                                {
                                    "0": "991",
                                    "1": "MOUNTAIN-500 BLACK, 44",
                                    "2": "12759.00",
                                    "3": "2007",
                                    "4": "July"
                                },
                                {
                                    "0": "992",
                                    "1": "MOUNTAIN-500 BLACK, 48",
                                    "2": "12891.00",
                                    "3": "2007",
                                    "4": "July"
                                },
                                {
                                    "0": "993",
                                    "1": "MOUNTAIN-500 BLACK, 52",
                                    "2": "13009.00",
                                    "3": "2007",
                                    "4": "July"
                                },
                                {
                                    "0": "994",
                                    "1": "LL BOTTOM BRACKET",
                                    "2": "223.00",
                                    "3": "2007",
                                    "4": "July"
                                },
                                {
                                    "0": "995",
                                    "1": "ML BOTTOM BRACKET",
                                    "2": "168.00",
                                    "3": "2007",
                                    "4": "July"
                                },
                                {
                                    "0": "996",
                                    "1": "HL BOTTOM BRACKET",
                                    "2": "170.00",
                                    "3": "2007",
                                    "4": "July"
                                },
                                {
                                    "0": "997",
                                    "1": "ROAD-750 BLACK, 44",
                                    "2": "8967.00",
                                    "3": "2007",
                                    "4": "July"
                                },
                                {
                                    "0": "998",
                                    "1": "ROAD-750 BLACK, 48",
                                    "2": "9131.00",
                                    "3": "2007",
                                    "4": "July"
                                },
                                {
                                    "0": "999",
                                    "1": "ROAD-750 BLACK, 52",
                                    "2": "9262.00",
                                    "3": "2007",
                                    "4": "July"
                                },
                                {
                                    "0": "1000",
                                    "1": "LED LIGHTS",
                                    "2": "NULL",
                                    "3": "2021",
                                    "4": "October"
                                },
                                {
                                    "0": "1001",
                                    "1": "LED LIGHTSX",
                                    "2": "NULL",
                                    "3": "2021",
                                    "4": "October"
                                },
                                {
                                    "0": "1002",
                                    "1": "LED LIGHTS2",
                                    "2": "NULL",
                                    "3": "2021",
                                    "4": "October"
                                },
                                {
                                    "0": "1005",
                                    "1": "BICYCLE BELL10",
                                    "2": "NULL",
                                    "3": "2021",
                                    "4": "October"
                                }
                            ]
                        },
                        "text/html": [
                            "<table>",
                            "<tr><th>ProductID</th><th>ProductName</th><th>ApproxWeight</th><th>SellStartYear</th><th>SellStartMonth</th></tr>",
                            "<tr><td>680</td><td>HL ROAD FRAME - BLACK, 58</td><td>1016.00</td><td>2002</td><td>June</td></tr>",
                            "<tr><td>706</td><td>HL ROAD FRAME - RED, 58</td><td>1016.00</td><td>2002</td><td>June</td></tr>",
                            "<tr><td>707</td><td>SPORT-100 HELMET, RED</td><td>NULL</td><td>2005</td><td>July</td></tr>",
                            "<tr><td>708</td><td>SPORT-100 HELMET, BLACK</td><td>NULL</td><td>2005</td><td>July</td></tr>",
                            "<tr><td>709</td><td>MOUNTAIN BIKE SOCKS, M</td><td>NULL</td><td>2005</td><td>July</td></tr>",
                            "<tr><td>710</td><td>MOUNTAIN BIKE SOCKS, L</td><td>NULL</td><td>2005</td><td>July</td></tr>",
                            "<tr><td>711</td><td>SPORT-100 HELMET, BLUE</td><td>NULL</td><td>2005</td><td>July</td></tr>",
                            "<tr><td>712</td><td>AWC LOGO CAP</td><td>NULL</td><td>2005</td><td>July</td></tr>",
                            "<tr><td>713</td><td>LONG-SLEEVE LOGO JERSEY, S</td><td>NULL</td><td>2005</td><td>July</td></tr>",
                            "<tr><td>714</td><td>LONG-SLEEVE LOGO JERSEY, M</td><td>NULL</td><td>2005</td><td>July</td></tr>",
                            "<tr><td>715</td><td>LONG-SLEEVE LOGO JERSEY, L</td><td>NULL</td><td>2005</td><td>July</td></tr>",
                            "<tr><td>716</td><td>LONG-SLEEVE LOGO JERSEY, XL</td><td>NULL</td><td>2005</td><td>July</td></tr>",
                            "<tr><td>717</td><td>HL ROAD FRAME - RED, 62</td><td>1043.00</td><td>2005</td><td>July</td></tr>",
                            "<tr><td>718</td><td>HL ROAD FRAME - RED, 44</td><td>962.00</td><td>2005</td><td>July</td></tr>",
                            "<tr><td>719</td><td>HL ROAD FRAME - RED, 48</td><td>980.00</td><td>2005</td><td>July</td></tr>",
                            "<tr><td>720</td><td>HL ROAD FRAME - RED, 52</td><td>998.00</td><td>2005</td><td>July</td></tr>",
                            "<tr><td>721</td><td>HL ROAD FRAME - RED, 56</td><td>1016.00</td><td>2005</td><td>July</td></tr>",
                            "<tr><td>722</td><td>LL ROAD FRAME - BLACK, 58</td><td>1116.00</td><td>2005</td><td>July</td></tr>",
                            "<tr><td>723</td><td>LL ROAD FRAME - BLACK, 60</td><td>1125.00</td><td>2005</td><td>July</td></tr>",
                            "<tr><td>724</td><td>LL ROAD FRAME - BLACK, 62</td><td>1134.00</td><td>2005</td><td>July</td></tr>",
                            "<tr><td>725</td><td>LL ROAD FRAME - RED, 44</td><td>1052.00</td><td>2005</td><td>July</td></tr>",
                            "<tr><td>726</td><td>LL ROAD FRAME - RED, 48</td><td>1070.00</td><td>2005</td><td>July</td></tr>",
                            "<tr><td>727</td><td>LL ROAD FRAME - RED, 52</td><td>1089.00</td><td>2005</td><td>July</td></tr>",
                            "<tr><td>728</td><td>LL ROAD FRAME - RED, 58</td><td>1116.00</td><td>2005</td><td>July</td></tr>",
                            "<tr><td>729</td><td>LL ROAD FRAME - RED, 60</td><td>1125.00</td><td>2005</td><td>July</td></tr>",
                            "<tr><td>730</td><td>LL ROAD FRAME - RED, 62</td><td>1134.00</td><td>2005</td><td>July</td></tr>",
                            "<tr><td>731</td><td>ML ROAD FRAME - RED, 44</td><td>1007.00</td><td>2005</td><td>July</td></tr>",
                            "<tr><td>732</td><td>ML ROAD FRAME - RED, 48</td><td>1025.00</td><td>2005</td><td>July</td></tr>",
                            "<tr><td>733</td><td>ML ROAD FRAME - RED, 52</td><td>1043.00</td><td>2005</td><td>July</td></tr>",
                            "<tr><td>734</td><td>ML ROAD FRAME - RED, 58</td><td>1070.00</td><td>2005</td><td>July</td></tr>",
                            "<tr><td>735</td><td>ML ROAD FRAME - RED, 60</td><td>1080.00</td><td>2005</td><td>July</td></tr>",
                            "<tr><td>736</td><td>LL ROAD FRAME - BLACK, 44</td><td>1052.00</td><td>2005</td><td>July</td></tr>",
                            "<tr><td>737</td><td>LL ROAD FRAME - BLACK, 48</td><td>1070.00</td><td>2005</td><td>July</td></tr>",
                            "<tr><td>738</td><td>LL ROAD FRAME - BLACK, 52</td><td>1089.00</td><td>2005</td><td>July</td></tr>",
                            "<tr><td>739</td><td>HL MOUNTAIN FRAME - SILVER, 42</td><td>1234.00</td><td>2005</td><td>July</td></tr>",
                            "<tr><td>740</td><td>HL MOUNTAIN FRAME - SILVER, 44</td><td>1252.00</td><td>2005</td><td>July</td></tr>",
                            "<tr><td>741</td><td>HL MOUNTAIN FRAME - SILVER, 48</td><td>1270.00</td><td>2005</td><td>July</td></tr>",
                            "<tr><td>742</td><td>HL MOUNTAIN FRAME - SILVER, 46</td><td>1288.00</td><td>2005</td><td>July</td></tr>",
                            "<tr><td>743</td><td>HL MOUNTAIN FRAME - BLACK, 42</td><td>1234.00</td><td>2005</td><td>July</td></tr>",
                            "<tr><td>744</td><td>HL MOUNTAIN FRAME - BLACK, 44</td><td>1252.00</td><td>2005</td><td>July</td></tr>",
                            "<tr><td>745</td><td>HL MOUNTAIN FRAME - BLACK, 48</td><td>1270.00</td><td>2005</td><td>July</td></tr>",
                            "<tr><td>746</td><td>HL MOUNTAIN FRAME - BLACK, 46</td><td>1288.00</td><td>2005</td><td>July</td></tr>",
                            "<tr><td>747</td><td>HL MOUNTAIN FRAME - BLACK, 38</td><td>1216.00</td><td>2005</td><td>July</td></tr>",
                            "<tr><td>748</td><td>HL MOUNTAIN FRAME - SILVER, 38</td><td>1216.00</td><td>2005</td><td>July</td></tr>",
                            "<tr><td>749</td><td>ROAD-150 RED, 62</td><td>6804.00</td><td>2005</td><td>July</td></tr>",
                            "<tr><td>750</td><td>ROAD-150 RED, 44</td><td>6246.00</td><td>2005</td><td>July</td></tr>",
                            "<tr><td>751</td><td>ROAD-150 RED, 48</td><td>6409.00</td><td>2005</td><td>July</td></tr>",
                            "<tr><td>752</td><td>ROAD-150 RED, 52</td><td>6541.00</td><td>2005</td><td>July</td></tr>",
                            "<tr><td>753</td><td>ROAD-150 RED, 56</td><td>6659.00</td><td>2005</td><td>July</td></tr>",
                            "<tr><td>754</td><td>ROAD-450 RED, 58</td><td>8069.00</td><td>2005</td><td>July</td></tr>",
                            "<tr><td>755</td><td>ROAD-450 RED, 60</td><td>8119.00</td><td>2005</td><td>July</td></tr>",
                            "<tr><td>756</td><td>ROAD-450 RED, 44</td><td>7607.00</td><td>2005</td><td>July</td></tr>",
                            "<tr><td>757</td><td>ROAD-450 RED, 48</td><td>7770.00</td><td>2005</td><td>July</td></tr>",
                            "<tr><td>758</td><td>ROAD-450 RED, 52</td><td>7902.00</td><td>2005</td><td>July</td></tr>",
                            "<tr><td>759</td><td>ROAD-650 RED, 58</td><td>8977.00</td><td>2005</td><td>July</td></tr>",
                            "<tr><td>760</td><td>ROAD-650 RED, 60</td><td>9026.00</td><td>2005</td><td>July</td></tr>",
                            "<tr><td>761</td><td>ROAD-650 RED, 62</td><td>9072.00</td><td>2005</td><td>July</td></tr>",
                            "<tr><td>762</td><td>ROAD-650 RED, 44</td><td>8514.00</td><td>2005</td><td>July</td></tr>",
                            "<tr><td>763</td><td>ROAD-650 RED, 48</td><td>8677.00</td><td>2005</td><td>July</td></tr>",
                            "<tr><td>764</td><td>ROAD-650 RED, 52</td><td>8809.00</td><td>2005</td><td>July</td></tr>",
                            "<tr><td>765</td><td>ROAD-650 BLACK, 58</td><td>8977.00</td><td>2005</td><td>July</td></tr>",
                            "<tr><td>766</td><td>ROAD-650 BLACK, 60</td><td>9026.00</td><td>2005</td><td>July</td></tr>",
                            "<tr><td>767</td><td>ROAD-650 BLACK, 62</td><td>9072.00</td><td>2005</td><td>July</td></tr>",
                            "<tr><td>768</td><td>ROAD-650 BLACK, 44</td><td>8514.00</td><td>2005</td><td>July</td></tr>",
                            "<tr><td>769</td><td>ROAD-650 BLACK, 48</td><td>8677.00</td><td>2005</td><td>July</td></tr>",
                            "<tr><td>770</td><td>ROAD-650 BLACK, 52</td><td>8809.00</td><td>2005</td><td>July</td></tr>",
                            "<tr><td>771</td><td>MOUNTAIN-100 SILVER, 38</td><td>9231.00</td><td>2005</td><td>July</td></tr>",
                            "<tr><td>772</td><td>MOUNTAIN-100 SILVER, 42</td><td>9421.00</td><td>2005</td><td>July</td></tr>",
                            "<tr><td>773</td><td>MOUNTAIN-100 SILVER, 44</td><td>9584.00</td><td>2005</td><td>July</td></tr>",
                            "<tr><td>774</td><td>MOUNTAIN-100 SILVER, 48</td><td>9716.00</td><td>2005</td><td>July</td></tr>",
                            "<tr><td>775</td><td>MOUNTAIN-100 BLACK, 38</td><td>9231.00</td><td>2005</td><td>July</td></tr>",
                            "<tr><td>776</td><td>MOUNTAIN-100 BLACK, 42</td><td>9421.00</td><td>2005</td><td>July</td></tr>",
                            "<tr><td>777</td><td>MOUNTAIN-100 BLACK, 44</td><td>9584.00</td><td>2005</td><td>July</td></tr>",
                            "<tr><td>778</td><td>MOUNTAIN-100 BLACK, 48</td><td>9716.00</td><td>2005</td><td>July</td></tr>",
                            "<tr><td>779</td><td>MOUNTAIN-200 SILVER, 38</td><td>10591.00</td><td>2006</td><td>July</td></tr>",
                            "<tr><td>780</td><td>MOUNTAIN-200 SILVER, 42</td><td>10782.00</td><td>2006</td><td>July</td></tr>",
                            "<tr><td>781</td><td>MOUNTAIN-200 SILVER, 46</td><td>10945.00</td><td>2006</td><td>July</td></tr>",
                            "<tr><td>782</td><td>MOUNTAIN-200 BLACK, 38</td><td>10591.00</td><td>2006</td><td>July</td></tr>",
                            "<tr><td>783</td><td>MOUNTAIN-200 BLACK, 42</td><td>10782.00</td><td>2006</td><td>July</td></tr>",
                            "<tr><td>784</td><td>MOUNTAIN-200 BLACK, 46</td><td>10945.00</td><td>2006</td><td>July</td></tr>",
                            "<tr><td>785</td><td>MOUNTAIN-300 BLACK, 38</td><td>11499.00</td><td>2006</td><td>July</td></tr>",
                            "<tr><td>786</td><td>MOUNTAIN-300 BLACK, 40</td><td>11689.00</td><td>2006</td><td>July</td></tr>",
                            "<tr><td>787</td><td>MOUNTAIN-300 BLACK, 44</td><td>11852.00</td><td>2006</td><td>July</td></tr>",
                            "<tr><td>788</td><td>MOUNTAIN-300 BLACK, 48</td><td>11984.00</td><td>2006</td><td>July</td></tr>",
                            "<tr><td>789</td><td>ROAD-250 RED, 44</td><td>6700.00</td><td>2006</td><td>July</td></tr>",
                            "<tr><td>790</td><td>ROAD-250 RED, 48</td><td>6863.00</td><td>2006</td><td>July</td></tr>",
                            "<tr><td>791</td><td>ROAD-250 RED, 52</td><td>6994.00</td><td>2006</td><td>July</td></tr>",
                            "<tr><td>792</td><td>ROAD-250 RED, 58</td><td>7162.00</td><td>2006</td><td>July</td></tr>",
                            "<tr><td>793</td><td>ROAD-250 BLACK, 44</td><td>6700.00</td><td>2006</td><td>July</td></tr>",
                            "<tr><td>794</td><td>ROAD-250 BLACK, 48</td><td>6863.00</td><td>2006</td><td>July</td></tr>",
                            "<tr><td>795</td><td>ROAD-250 BLACK, 52</td><td>6994.00</td><td>2006</td><td>July</td></tr>",
                            "<tr><td>796</td><td>ROAD-250 BLACK, 58</td><td>7112.00</td><td>2006</td><td>July</td></tr>",
                            "<tr><td>797</td><td>ROAD-550-W YELLOW, 38</td><td>7870.00</td><td>2006</td><td>July</td></tr>",
                            "<tr><td>798</td><td>ROAD-550-W YELLOW, 40</td><td>8060.00</td><td>2006</td><td>July</td></tr>",
                            "<tr><td>799</td><td>ROAD-550-W YELLOW, 42</td><td>8224.00</td><td>2006</td><td>July</td></tr>",
                            "<tr><td>800</td><td>ROAD-550-W YELLOW, 44</td><td>8355.00</td><td>2006</td><td>July</td></tr>",
                            "<tr><td>801</td><td>ROAD-550-W YELLOW, 48</td><td>8473.00</td><td>2006</td><td>July</td></tr>",
                            "<tr><td>802</td><td>LL FORK</td><td>NULL</td><td>2006</td><td>July</td></tr>",
                            "<tr><td>803</td><td>ML FORK</td><td>NULL</td><td>2006</td><td>July</td></tr>",
                            "<tr><td>804</td><td>HL FORK</td><td>NULL</td><td>2006</td><td>July</td></tr>",
                            "<tr><td>805</td><td>LL HEADSET</td><td>NULL</td><td>2006</td><td>July</td></tr>",
                            "<tr><td>806</td><td>ML HEADSET</td><td>NULL</td><td>2006</td><td>July</td></tr>",
                            "<tr><td>807</td><td>HL HEADSET</td><td>NULL</td><td>2006</td><td>July</td></tr>",
                            "<tr><td>808</td><td>LL MOUNTAIN HANDLEBARS</td><td>NULL</td><td>2006</td><td>July</td></tr>",
                            "<tr><td>809</td><td>ML MOUNTAIN HANDLEBARS</td><td>NULL</td><td>2006</td><td>July</td></tr>",
                            "<tr><td>810</td><td>HL MOUNTAIN HANDLEBARS</td><td>NULL</td><td>2006</td><td>July</td></tr>",
                            "<tr><td>811</td><td>LL ROAD HANDLEBARS</td><td>NULL</td><td>2006</td><td>July</td></tr>",
                            "<tr><td>812</td><td>ML ROAD HANDLEBARS</td><td>NULL</td><td>2006</td><td>July</td></tr>",
                            "<tr><td>813</td><td>HL ROAD HANDLEBARS</td><td>NULL</td><td>2006</td><td>July</td></tr>",
                            "<tr><td>814</td><td>ML MOUNTAIN FRAME - BLACK, 38</td><td>1238.00</td><td>2006</td><td>July</td></tr>",
                            "<tr><td>815</td><td>LL MOUNTAIN FRONT WHEEL</td><td>NULL</td><td>2006</td><td>July</td></tr>",
                            "<tr><td>816</td><td>ML MOUNTAIN FRONT WHEEL</td><td>NULL</td><td>2006</td><td>July</td></tr>",
                            "<tr><td>817</td><td>HL MOUNTAIN FRONT WHEEL</td><td>NULL</td><td>2006</td><td>July</td></tr>",
                            "<tr><td>818</td><td>LL ROAD FRONT WHEEL</td><td>900.00</td><td>2006</td><td>July</td></tr>",
                            "<tr><td>819</td><td>ML ROAD FRONT WHEEL</td><td>850.00</td><td>2006</td><td>July</td></tr>",
                            "<tr><td>820</td><td>HL ROAD FRONT WHEEL</td><td>650.00</td><td>2006</td><td>July</td></tr>",
                            "<tr><td>821</td><td>TOURING FRONT WHEEL</td><td>NULL</td><td>2006</td><td>July</td></tr>",
                            "<tr><td>822</td><td>ML ROAD FRAME-W - YELLOW, 38</td><td>989.00</td><td>2006</td><td>July</td></tr>",
                            "<tr><td>823</td><td>LL MOUNTAIN REAR WHEEL</td><td>NULL</td><td>2006</td><td>July</td></tr>",
                            "<tr><td>824</td><td>ML MOUNTAIN REAR WHEEL</td><td>NULL</td><td>2006</td><td>July</td></tr>",
                            "<tr><td>825</td><td>HL MOUNTAIN REAR WHEEL</td><td>NULL</td><td>2006</td><td>July</td></tr>",
                            "<tr><td>826</td><td>LL ROAD REAR WHEEL</td><td>1050.00</td><td>2006</td><td>July</td></tr>",
                            "<tr><td>827</td><td>ML ROAD REAR WHEEL</td><td>1000.00</td><td>2006</td><td>July</td></tr>",
                            "<tr><td>828</td><td>HL ROAD REAR WHEEL</td><td>890.00</td><td>2006</td><td>July</td></tr>",
                            "<tr><td>829</td><td>TOURING REAR WHEEL</td><td>NULL</td><td>2006</td><td>July</td></tr>",
                            "<tr><td>830</td><td>ML MOUNTAIN FRAME - BLACK, 40</td><td>1256.00</td><td>2006</td><td>July</td></tr>",
                            "<tr><td>831</td><td>ML MOUNTAIN FRAME - BLACK, 44</td><td>1275.00</td><td>2006</td><td>July</td></tr>",
                            "<tr><td>832</td><td>ML MOUNTAIN FRAME - BLACK, 48</td><td>1293.00</td><td>2006</td><td>July</td></tr>",
                            "<tr><td>833</td><td>ML ROAD FRAME-W - YELLOW, 40</td><td>1007.00</td><td>2006</td><td>July</td></tr>",
                            "<tr><td>834</td><td>ML ROAD FRAME-W - YELLOW, 42</td><td>1025.00</td><td>2006</td><td>July</td></tr>",
                            "<tr><td>835</td><td>ML ROAD FRAME-W - YELLOW, 44</td><td>1043.00</td><td>2006</td><td>July</td></tr>",
                            "<tr><td>836</td><td>ML ROAD FRAME-W - YELLOW, 48</td><td>1061.00</td><td>2006</td><td>July</td></tr>",
                            "<tr><td>837</td><td>HL ROAD FRAME - BLACK, 62</td><td>1043.00</td><td>2006</td><td>July</td></tr>",
                            "<tr><td>838</td><td>HL ROAD FRAME - BLACK, 44</td><td>962.00</td><td>2006</td><td>July</td></tr>",
                            "<tr><td>839</td><td>HL ROAD FRAME - BLACK, 48</td><td>980.00</td><td>2006</td><td>July</td></tr>",
                            "<tr><td>840</td><td>HL ROAD FRAME - BLACK, 52</td><td>998.00</td><td>2006</td><td>July</td></tr>",
                            "<tr><td>841</td><td>MEN'S SPORTS SHORTS, S</td><td>NULL</td><td>2006</td><td>July</td></tr>",
                            "<tr><td>842</td><td>TOURING-PANNIERS, LARGE</td><td>NULL</td><td>2006</td><td>July</td></tr>",
                            "<tr><td>843</td><td>CABLE LOCK</td><td>NULL</td><td>2006</td><td>July</td></tr>",
                            "<tr><td>844</td><td>MINIPUMP</td><td>NULL</td><td>2006</td><td>July</td></tr>",
                            "<tr><td>845</td><td>MOUNTAIN PUMP</td><td>NULL</td><td>2006</td><td>July</td></tr>",
                            "<tr><td>846</td><td>TAILLIGHTS - BATTERY-POWERED</td><td>NULL</td><td>2006</td><td>July</td></tr>",
                            "<tr><td>847</td><td>HEADLIGHTS - DUAL-BEAM</td><td>NULL</td><td>2006</td><td>July</td></tr>",
                            "<tr><td>848</td><td>HEADLIGHTS - WEATHERPROOF</td><td>NULL</td><td>2006</td><td>July</td></tr>",
                            "<tr><td>849</td><td>MEN'S SPORTS SHORTS, M</td><td>NULL</td><td>2006</td><td>July</td></tr>",
                            "<tr><td>850</td><td>MEN'S SPORTS SHORTS, L</td><td>NULL</td><td>2006</td><td>July</td></tr>",
                            "<tr><td>851</td><td>MEN'S SPORTS SHORTS, XL</td><td>NULL</td><td>2006</td><td>July</td></tr>",
                            "<tr><td>852</td><td>WOMEN'S TIGHTS, S</td><td>NULL</td><td>2006</td><td>July</td></tr>",
                            "<tr><td>853</td><td>WOMEN'S TIGHTS, M</td><td>NULL</td><td>2006</td><td>July</td></tr>",
                            "<tr><td>854</td><td>WOMEN'S TIGHTS, L</td><td>NULL</td><td>2006</td><td>July</td></tr>",
                            "<tr><td>855</td><td>MEN'S BIB-SHORTS, S</td><td>NULL</td><td>2006</td><td>July</td></tr>",
                            "<tr><td>856</td><td>MEN'S BIB-SHORTS, M</td><td>NULL</td><td>2006</td><td>July</td></tr>",
                            "<tr><td>857</td><td>MEN'S BIB-SHORTS, L</td><td>NULL</td><td>2006</td><td>July</td></tr>",
                            "<tr><td>858</td><td>HALF-FINGER GLOVES, S</td><td>NULL</td><td>2006</td><td>July</td></tr>",
                            "<tr><td>859</td><td>HALF-FINGER GLOVES, M</td><td>NULL</td><td>2006</td><td>July</td></tr>",
                            "<tr><td>860</td><td>HALF-FINGER GLOVES, L</td><td>NULL</td><td>2006</td><td>July</td></tr>",
                            "<tr><td>861</td><td>FULL-FINGER GLOVES, S</td><td>NULL</td><td>2006</td><td>July</td></tr>",
                            "<tr><td>862</td><td>FULL-FINGER GLOVES, M</td><td>NULL</td><td>2006</td><td>July</td></tr>",
                            "<tr><td>863</td><td>FULL-FINGER GLOVES, L</td><td>NULL</td><td>2006</td><td>July</td></tr>",
                            "<tr><td>864</td><td>CLASSIC VEST, S</td><td>NULL</td><td>2007</td><td>July</td></tr>",
                            "<tr><td>865</td><td>CLASSIC VEST, M</td><td>NULL</td><td>2007</td><td>July</td></tr>",
                            "<tr><td>866</td><td>CLASSIC VEST, L</td><td>NULL</td><td>2007</td><td>July</td></tr>",
                            "<tr><td>867</td><td>WOMEN'S MOUNTAIN SHORTS, S</td><td>NULL</td><td>2007</td><td>July</td></tr>",
                            "<tr><td>868</td><td>WOMEN'S MOUNTAIN SHORTS, M</td><td>NULL</td><td>2007</td><td>July</td></tr>",
                            "<tr><td>869</td><td>WOMEN'S MOUNTAIN SHORTS, L</td><td>NULL</td><td>2007</td><td>July</td></tr>",
                            "<tr><td>870</td><td>WATER BOTTLE - 30 OZ.</td><td>NULL</td><td>2007</td><td>July</td></tr>",
                            "<tr><td>871</td><td>MOUNTAIN BOTTLE CAGE</td><td>NULL</td><td>2007</td><td>July</td></tr>",
                            "<tr><td>872</td><td>ROAD BOTTLE CAGE</td><td>NULL</td><td>2007</td><td>July</td></tr>",
                            "<tr><td>873</td><td>PATCH KIT/8 PATCHES</td><td>NULL</td><td>2007</td><td>July</td></tr>",
                            "<tr><td>874</td><td>RACING SOCKS, M</td><td>NULL</td><td>2007</td><td>July</td></tr>",
                            "<tr><td>875</td><td>RACING SOCKS, L</td><td>NULL</td><td>2007</td><td>July</td></tr>",
                            "<tr><td>876</td><td>HITCH RACK - 4-BIKE</td><td>NULL</td><td>2007</td><td>July</td></tr>",
                            "<tr><td>877</td><td>BIKE WASH - DISSOLVER</td><td>NULL</td><td>2007</td><td>July</td></tr>",
                            "<tr><td>878</td><td>FENDER SET - MOUNTAIN</td><td>NULL</td><td>2007</td><td>July</td></tr>",
                            "<tr><td>879</td><td>ALL-PURPOSE BIKE STAND</td><td>NULL</td><td>2007</td><td>July</td></tr>",
                            "<tr><td>880</td><td>HYDRATION PACK - 70 OZ.</td><td>NULL</td><td>2007</td><td>July</td></tr>",
                            "<tr><td>881</td><td>SHORT-SLEEVE CLASSIC JERSEY, S</td><td>NULL</td><td>2007</td><td>July</td></tr>",
                            "<tr><td>882</td><td>SHORT-SLEEVE CLASSIC JERSEY, M</td><td>NULL</td><td>2007</td><td>July</td></tr>",
                            "<tr><td>883</td><td>SHORT-SLEEVE CLASSIC JERSEY, L</td><td>NULL</td><td>2007</td><td>July</td></tr>",
                            "<tr><td>884</td><td>SHORT-SLEEVE CLASSIC JERSEY, XL</td><td>NULL</td><td>2007</td><td>July</td></tr>",
                            "<tr><td>885</td><td>HL TOURING FRAME - YELLOW, 60</td><td>1397.00</td><td>2007</td><td>July</td></tr>",
                            "<tr><td>886</td><td>LL TOURING FRAME - YELLOW, 62</td><td>1451.00</td><td>2007</td><td>July</td></tr>",
                            "<tr><td>887</td><td>HL TOURING FRAME - YELLOW, 46</td><td>1343.00</td><td>2007</td><td>July</td></tr>",
                            "<tr><td>888</td><td>HL TOURING FRAME - YELLOW, 50</td><td>1361.00</td><td>2007</td><td>July</td></tr>",
                            "<tr><td>889</td><td>HL TOURING FRAME - YELLOW, 54</td><td>1379.00</td><td>2007</td><td>July</td></tr>",
                            "<tr><td>890</td><td>HL TOURING FRAME - BLUE, 46</td><td>1343.00</td><td>2007</td><td>July</td></tr>",
                            "<tr><td>891</td><td>HL TOURING FRAME - BLUE, 50</td><td>1361.00</td><td>2007</td><td>July</td></tr>",
                            "<tr><td>892</td><td>HL TOURING FRAME - BLUE, 54</td><td>1379.00</td><td>2007</td><td>July</td></tr>",
                            "<tr><td>893</td><td>HL TOURING FRAME - BLUE, 60</td><td>1397.00</td><td>2007</td><td>July</td></tr>",
                            "<tr><td>894</td><td>REAR DERAILLEUR</td><td>215.00</td><td>2007</td><td>July</td></tr>",
                            "<tr><td>895</td><td>LL TOURING FRAME - BLUE, 50</td><td>1406.00</td><td>2007</td><td>July</td></tr>",
                            "<tr><td>896</td><td>LL TOURING FRAME - BLUE, 54</td><td>1424.00</td><td>2007</td><td>July</td></tr>",
                            "<tr><td>897</td><td>LL TOURING FRAME - BLUE, 58</td><td>1433.00</td><td>2007</td><td>July</td></tr>",
                            "<tr><td>898</td><td>LL TOURING FRAME - BLUE, 62</td><td>1451.00</td><td>2007</td><td>July</td></tr>",
                            "<tr><td>899</td><td>LL TOURING FRAME - YELLOW, 44</td><td>1370.00</td><td>2007</td><td>July</td></tr>",
                            "<tr><td>900</td><td>LL TOURING FRAME - YELLOW, 50</td><td>1406.00</td><td>2007</td><td>July</td></tr>",
                            "<tr><td>901</td><td>LL TOURING FRAME - YELLOW, 54</td><td>1424.00</td><td>2007</td><td>July</td></tr>",
                            "<tr><td>902</td><td>LL TOURING FRAME - YELLOW, 58</td><td>1433.00</td><td>2007</td><td>July</td></tr>",
                            "<tr><td>903</td><td>LL TOURING FRAME - BLUE, 44</td><td>1370.00</td><td>2007</td><td>July</td></tr>",
                            "<tr><td>904</td><td>ML MOUNTAIN FRAME-W - SILVER, 40</td><td>1256.00</td><td>2007</td><td>July</td></tr>",
                            "<tr><td>905</td><td>ML MOUNTAIN FRAME-W - SILVER, 42</td><td>1275.00</td><td>2007</td><td>July</td></tr>",
                            "<tr><td>906</td><td>ML MOUNTAIN FRAME-W - SILVER, 46</td><td>1293.00</td><td>2007</td><td>July</td></tr>",
                            "<tr><td>907</td><td>REAR BRAKES</td><td>317.00</td><td>2007</td><td>July</td></tr>",
                            "<tr><td>908</td><td>LL MOUNTAIN SEAT/SADDLE</td><td>NULL</td><td>2007</td><td>July</td></tr>",
                            "<tr><td>909</td><td>ML MOUNTAIN SEAT/SADDLE</td><td>NULL</td><td>2007</td><td>July</td></tr>",
                            "<tr><td>910</td><td>HL MOUNTAIN SEAT/SADDLE</td><td>NULL</td><td>2007</td><td>July</td></tr>",
                            "<tr><td>911</td><td>LL ROAD SEAT/SADDLE</td><td>NULL</td><td>2007</td><td>July</td></tr>",
                            "<tr><td>912</td><td>ML ROAD SEAT/SADDLE</td><td>NULL</td><td>2007</td><td>July</td></tr>",
                            "<tr><td>913</td><td>HL ROAD SEAT/SADDLE</td><td>NULL</td><td>2007</td><td>July</td></tr>",
                            "<tr><td>914</td><td>LL TOURING SEAT/SADDLE</td><td>NULL</td><td>2007</td><td>July</td></tr>",
                            "<tr><td>915</td><td>ML TOURING SEAT/SADDLE</td><td>NULL</td><td>2007</td><td>July</td></tr>",
                            "<tr><td>916</td><td>HL TOURING SEAT/SADDLE</td><td>NULL</td><td>2007</td><td>July</td></tr>",
                            "<tr><td>917</td><td>LL MOUNTAIN FRAME - SILVER, 42</td><td>1324.00</td><td>2007</td><td>July</td></tr>",
                            "<tr><td>918</td><td>LL MOUNTAIN FRAME - SILVER, 44</td><td>1343.00</td><td>2007</td><td>July</td></tr>",
                            "<tr><td>919</td><td>LL MOUNTAIN FRAME - SILVER, 48</td><td>1361.00</td><td>2007</td><td>July</td></tr>",
                            "<tr><td>920</td><td>LL MOUNTAIN FRAME - SILVER, 52</td><td>1379.00</td><td>2007</td><td>July</td></tr>",
                            "<tr><td>921</td><td>MOUNTAIN TIRE TUBE</td><td>NULL</td><td>2007</td><td>July</td></tr>",
                            "<tr><td>922</td><td>ROAD TIRE TUBE</td><td>NULL</td><td>2007</td><td>July</td></tr>",
                            "<tr><td>923</td><td>TOURING TIRE TUBE</td><td>NULL</td><td>2007</td><td>July</td></tr>",
                            "<tr><td>924</td><td>LL MOUNTAIN FRAME - BLACK, 42</td><td>1324.00</td><td>2007</td><td>July</td></tr>",
                            "<tr><td>925</td><td>LL MOUNTAIN FRAME - BLACK, 44</td><td>1343.00</td><td>2007</td><td>July</td></tr>",
                            "<tr><td>926</td><td>LL MOUNTAIN FRAME - BLACK, 48</td><td>1361.00</td><td>2007</td><td>July</td></tr>",
                            "<tr><td>927</td><td>LL MOUNTAIN FRAME - BLACK, 52</td><td>1379.00</td><td>2007</td><td>July</td></tr>",
                            "<tr><td>928</td><td>LL MOUNTAIN TIRE</td><td>NULL</td><td>2007</td><td>July</td></tr>",
                            "<tr><td>929</td><td>ML MOUNTAIN TIRE</td><td>NULL</td><td>2007</td><td>July</td></tr>",
                            "<tr><td>930</td><td>HL MOUNTAIN TIRE</td><td>NULL</td><td>2007</td><td>July</td></tr>",
                            "<tr><td>931</td><td>LL ROAD TIRE</td><td>NULL</td><td>2007</td><td>July</td></tr>",
                            "<tr><td>932</td><td>ML ROAD TIRE</td><td>NULL</td><td>2007</td><td>July</td></tr>",
                            "<tr><td>933</td><td>HL ROAD TIRE</td><td>NULL</td><td>2007</td><td>July</td></tr>",
                            "<tr><td>934</td><td>TOURING TIRE</td><td>NULL</td><td>2007</td><td>July</td></tr>",
                            "<tr><td>935</td><td>LL MOUNTAIN PEDAL</td><td>218.00</td><td>2007</td><td>July</td></tr>",
                            "<tr><td>936</td><td>ML MOUNTAIN PEDAL</td><td>215.00</td><td>2007</td><td>July</td></tr>",
                            "<tr><td>937</td><td>HL MOUNTAIN PEDAL</td><td>185.00</td><td>2007</td><td>July</td></tr>",
                            "<tr><td>938</td><td>LL ROAD PEDAL</td><td>189.00</td><td>2007</td><td>July</td></tr>",
                            "<tr><td>939</td><td>ML ROAD PEDAL</td><td>168.00</td><td>2007</td><td>July</td></tr>",
                            "<tr><td>940</td><td>HL ROAD PEDAL</td><td>149.00</td><td>2007</td><td>July</td></tr>",
                            "<tr><td>941</td><td>TOURING PEDAL</td><td>NULL</td><td>2007</td><td>July</td></tr>",
                            "<tr><td>942</td><td>ML MOUNTAIN FRAME-W - SILVER, 38</td><td>1238.00</td><td>2007</td><td>July</td></tr>",
                            "<tr><td>943</td><td>LL MOUNTAIN FRAME - BLACK, 40</td><td>1306.00</td><td>2007</td><td>July</td></tr>",
                            "<tr><td>944</td><td>LL MOUNTAIN FRAME - SILVER, 40</td><td>1306.00</td><td>2007</td><td>July</td></tr>",
                            "<tr><td>945</td><td>FRONT DERAILLEUR</td><td>88.00</td><td>2007</td><td>July</td></tr>",
                            "<tr><td>946</td><td>LL TOURING HANDLEBARS</td><td>NULL</td><td>2007</td><td>July</td></tr>",
                            "<tr><td>947</td><td>HL TOURING HANDLEBARS</td><td>NULL</td><td>2007</td><td>July</td></tr>",
                            "<tr><td>948</td><td>FRONT BRAKES</td><td>317.00</td><td>2007</td><td>July</td></tr>",
                            "<tr><td>949</td><td>LL CRANKSET</td><td>600.00</td><td>2007</td><td>July</td></tr>",
                            "<tr><td>950</td><td>ML CRANKSET</td><td>635.00</td><td>2007</td><td>July</td></tr>",
                            "<tr><td>951</td><td>HL CRANKSET</td><td>575.00</td><td>2007</td><td>July</td></tr>",
                            "<tr><td>952</td><td>CHAIN</td><td>NULL</td><td>2007</td><td>July</td></tr>",
                            "<tr><td>953</td><td>TOURING-2000 BLUE, 60</td><td>12655.00</td><td>2007</td><td>July</td></tr>",
                            "<tr><td>954</td><td>TOURING-1000 YELLOW, 46</td><td>11399.00</td><td>2007</td><td>July</td></tr>",
                            "<tr><td>955</td><td>TOURING-1000 YELLOW, 50</td><td>11530.00</td><td>2007</td><td>July</td></tr>",
                            "<tr><td>956</td><td>TOURING-1000 YELLOW, 54</td><td>11648.00</td><td>2007</td><td>July</td></tr>",
                            "<tr><td>957</td><td>TOURING-1000 YELLOW, 60</td><td>11748.00</td><td>2007</td><td>July</td></tr>",
                            "<tr><td>958</td><td>TOURING-3000 BLUE, 54</td><td>13463.00</td><td>2007</td><td>July</td></tr>",
                            "<tr><td>959</td><td>TOURING-3000 BLUE, 58</td><td>13562.00</td><td>2007</td><td>July</td></tr>",
                            "<tr><td>960</td><td>TOURING-3000 BLUE, 62</td><td>13608.00</td><td>2007</td><td>July</td></tr>",
                            "<tr><td>961</td><td>TOURING-3000 YELLOW, 44</td><td>13050.00</td><td>2007</td><td>July</td></tr>",
                            "<tr><td>962</td><td>TOURING-3000 YELLOW, 50</td><td>13213.00</td><td>2007</td><td>July</td></tr>",
                            "<tr><td>963</td><td>TOURING-3000 YELLOW, 54</td><td>13345.00</td><td>2007</td><td>July</td></tr>",
                            "<tr><td>964</td><td>TOURING-3000 YELLOW, 58</td><td>13512.00</td><td>2007</td><td>July</td></tr>",
                            "<tr><td>965</td><td>TOURING-3000 YELLOW, 62</td><td>13608.00</td><td>2007</td><td>July</td></tr>",
                            "<tr><td>966</td><td>TOURING-1000 BLUE, 46</td><td>11399.00</td><td>2007</td><td>July</td></tr>",
                            "<tr><td>967</td><td>TOURING-1000 BLUE, 50</td><td>11530.00</td><td>2007</td><td>July</td></tr>",
                            "<tr><td>968</td><td>TOURING-1000 BLUE, 54</td><td>11648.00</td><td>2007</td><td>July</td></tr>",
                            "<tr><td>969</td><td>TOURING-1000 BLUE, 60</td><td>11748.00</td><td>2007</td><td>July</td></tr>",
                            "<tr><td>970</td><td>TOURING-2000 BLUE, 46</td><td>12306.00</td><td>2007</td><td>July</td></tr>",
                            "<tr><td>971</td><td>TOURING-2000 BLUE, 50</td><td>12437.00</td><td>2007</td><td>July</td></tr>",
                            "<tr><td>972</td><td>TOURING-2000 BLUE, 54</td><td>12555.00</td><td>2007</td><td>July</td></tr>",
                            "<tr><td>973</td><td>ROAD-350-W YELLOW, 40</td><td>6963.00</td><td>2007</td><td>July</td></tr>",
                            "<tr><td>974</td><td>ROAD-350-W YELLOW, 42</td><td>7153.00</td><td>2007</td><td>July</td></tr>",
                            "<tr><td>975</td><td>ROAD-350-W YELLOW, 44</td><td>7316.00</td><td>2007</td><td>July</td></tr>",
                            "<tr><td>976</td><td>ROAD-350-W YELLOW, 48</td><td>7448.00</td><td>2007</td><td>July</td></tr>",
                            "<tr><td>977</td><td>ROAD-750 BLACK, 58</td><td>9430.00</td><td>2007</td><td>July</td></tr>",
                            "<tr><td>978</td><td>TOURING-3000 BLUE, 44</td><td>13050.00</td><td>2007</td><td>July</td></tr>",
                            "<tr><td>979</td><td>TOURING-3000 BLUE, 50</td><td>13213.00</td><td>2007</td><td>July</td></tr>",
                            "<tr><td>980</td><td>MOUNTAIN-400-W SILVER, 38</td><td>11952.00</td><td>2007</td><td>July</td></tr>",
                            "<tr><td>981</td><td>MOUNTAIN-400-W SILVER, 40</td><td>12143.00</td><td>2007</td><td>July</td></tr>",
                            "<tr><td>982</td><td>MOUNTAIN-400-W SILVER, 42</td><td>12306.00</td><td>2007</td><td>July</td></tr>",
                            "<tr><td>983</td><td>MOUNTAIN-400-W SILVER, 46</td><td>12437.00</td><td>2007</td><td>July</td></tr>",
                            "<tr><td>984</td><td>MOUNTAIN-500 SILVER, 40</td><td>12406.00</td><td>2007</td><td>July</td></tr>",
                            "<tr><td>985</td><td>MOUNTAIN-500 SILVER, 42</td><td>12596.00</td><td>2007</td><td>July</td></tr>",
                            "<tr><td>986</td><td>MOUNTAIN-500 SILVER, 44</td><td>12759.00</td><td>2007</td><td>July</td></tr>",
                            "<tr><td>987</td><td>MOUNTAIN-500 SILVER, 48</td><td>12891.00</td><td>2007</td><td>July</td></tr>",
                            "<tr><td>988</td><td>MOUNTAIN-500 SILVER, 52</td><td>13009.00</td><td>2007</td><td>July</td></tr>",
                            "<tr><td>989</td><td>MOUNTAIN-500 BLACK, 40</td><td>12406.00</td><td>2007</td><td>July</td></tr>",
                            "<tr><td>990</td><td>MOUNTAIN-500 BLACK, 42</td><td>12596.00</td><td>2007</td><td>July</td></tr>",
                            "<tr><td>991</td><td>MOUNTAIN-500 BLACK, 44</td><td>12759.00</td><td>2007</td><td>July</td></tr>",
                            "<tr><td>992</td><td>MOUNTAIN-500 BLACK, 48</td><td>12891.00</td><td>2007</td><td>July</td></tr>",
                            "<tr><td>993</td><td>MOUNTAIN-500 BLACK, 52</td><td>13009.00</td><td>2007</td><td>July</td></tr>",
                            "<tr><td>994</td><td>LL BOTTOM BRACKET</td><td>223.00</td><td>2007</td><td>July</td></tr>",
                            "<tr><td>995</td><td>ML BOTTOM BRACKET</td><td>168.00</td><td>2007</td><td>July</td></tr>",
                            "<tr><td>996</td><td>HL BOTTOM BRACKET</td><td>170.00</td><td>2007</td><td>July</td></tr>",
                            "<tr><td>997</td><td>ROAD-750 BLACK, 44</td><td>8967.00</td><td>2007</td><td>July</td></tr>",
                            "<tr><td>998</td><td>ROAD-750 BLACK, 48</td><td>9131.00</td><td>2007</td><td>July</td></tr>",
                            "<tr><td>999</td><td>ROAD-750 BLACK, 52</td><td>9262.00</td><td>2007</td><td>July</td></tr>",
                            "<tr><td>1000</td><td>LED LIGHTS</td><td>NULL</td><td>2021</td><td>October</td></tr>",
                            "<tr><td>1001</td><td>LED LIGHTSX</td><td>NULL</td><td>2021</td><td>October</td></tr>",
                            "<tr><td>1002</td><td>LED LIGHTS2</td><td>NULL</td><td>2021</td><td>October</td></tr>",
                            "<tr><td>1005</td><td>BICYCLE BELL10</td><td>NULL</td><td>2021</td><td>October</td></tr>",
                            "</table>"
                        ]
                    }
                }
            ],
            "execution_count": 5
        },
        {
            "cell_type": "markdown",
            "source": [
                "**3\\.** Extract product types from product numbers Extend your query to include a column named ProductType that contains the leftmost two characters from the product number"
            ],
            "metadata": {
                "azdata_cell_guid": "a51b4b83-75e1-435f-a521-350a0a4ec66b"
            },
            "attachments": {}
        },
        {
            "cell_type": "code",
            "source": [
                "SELECT ProductID, \r\n",
                "UPPER(Name) AS ProductName,\r\n",
                "ROUND(Weight, 0) AS ApproxWeight,\r\n",
                "DATENAME(YYYY, SellStartDate) AS SellStartYear, \r\n",
                "DATENAME(MM, SellStartDate) AS SellStartMonth, \r\n",
                "LEFT(ProductNumber, 2) AS ProductType\r\n",
                "FROM Product;"
            ],
            "metadata": {
                "azdata_cell_guid": "dc5ff1c2-c466-4865-b26e-5c555e5c2bcb"
            },
            "outputs": [
                {
                    "output_type": "display_data",
                    "data": {
                        "text/html": "(299 rows affected)"
                    },
                    "metadata": {}
                },
                {
                    "output_type": "display_data",
                    "data": {
                        "text/html": "Total execution time: 00:00:00.150"
                    },
                    "metadata": {}
                },
                {
                    "output_type": "execute_result",
                    "metadata": {},
                    "execution_count": 7,
                    "data": {
                        "application/vnd.dataresource+json": {
                            "schema": {
                                "fields": [
                                    {
                                        "name": "ProductID"
                                    },
                                    {
                                        "name": "ProductName"
                                    },
                                    {
                                        "name": "ApproxWeight"
                                    },
                                    {
                                        "name": "SellStartYear"
                                    },
                                    {
                                        "name": "SellStartMonth"
                                    },
                                    {
                                        "name": "ProductType"
                                    }
                                ]
                            },
                            "data": [
                                {
                                    "0": "680",
                                    "1": "HL ROAD FRAME - BLACK, 58",
                                    "2": "1016.00",
                                    "3": "2002",
                                    "4": "June",
                                    "5": "FR"
                                },
                                {
                                    "0": "706",
                                    "1": "HL ROAD FRAME - RED, 58",
                                    "2": "1016.00",
                                    "3": "2002",
                                    "4": "June",
                                    "5": "FR"
                                },
                                {
                                    "0": "707",
                                    "1": "SPORT-100 HELMET, RED",
                                    "2": "NULL",
                                    "3": "2005",
                                    "4": "July",
                                    "5": "HL"
                                },
                                {
                                    "0": "708",
                                    "1": "SPORT-100 HELMET, BLACK",
                                    "2": "NULL",
                                    "3": "2005",
                                    "4": "July",
                                    "5": "HL"
                                },
                                {
                                    "0": "709",
                                    "1": "MOUNTAIN BIKE SOCKS, M",
                                    "2": "NULL",
                                    "3": "2005",
                                    "4": "July",
                                    "5": "SO"
                                },
                                {
                                    "0": "710",
                                    "1": "MOUNTAIN BIKE SOCKS, L",
                                    "2": "NULL",
                                    "3": "2005",
                                    "4": "July",
                                    "5": "SO"
                                },
                                {
                                    "0": "711",
                                    "1": "SPORT-100 HELMET, BLUE",
                                    "2": "NULL",
                                    "3": "2005",
                                    "4": "July",
                                    "5": "HL"
                                },
                                {
                                    "0": "712",
                                    "1": "AWC LOGO CAP",
                                    "2": "NULL",
                                    "3": "2005",
                                    "4": "July",
                                    "5": "CA"
                                },
                                {
                                    "0": "713",
                                    "1": "LONG-SLEEVE LOGO JERSEY, S",
                                    "2": "NULL",
                                    "3": "2005",
                                    "4": "July",
                                    "5": "LJ"
                                },
                                {
                                    "0": "714",
                                    "1": "LONG-SLEEVE LOGO JERSEY, M",
                                    "2": "NULL",
                                    "3": "2005",
                                    "4": "July",
                                    "5": "LJ"
                                },
                                {
                                    "0": "715",
                                    "1": "LONG-SLEEVE LOGO JERSEY, L",
                                    "2": "NULL",
                                    "3": "2005",
                                    "4": "July",
                                    "5": "LJ"
                                },
                                {
                                    "0": "716",
                                    "1": "LONG-SLEEVE LOGO JERSEY, XL",
                                    "2": "NULL",
                                    "3": "2005",
                                    "4": "July",
                                    "5": "LJ"
                                },
                                {
                                    "0": "717",
                                    "1": "HL ROAD FRAME - RED, 62",
                                    "2": "1043.00",
                                    "3": "2005",
                                    "4": "July",
                                    "5": "FR"
                                },
                                {
                                    "0": "718",
                                    "1": "HL ROAD FRAME - RED, 44",
                                    "2": "962.00",
                                    "3": "2005",
                                    "4": "July",
                                    "5": "FR"
                                },
                                {
                                    "0": "719",
                                    "1": "HL ROAD FRAME - RED, 48",
                                    "2": "980.00",
                                    "3": "2005",
                                    "4": "July",
                                    "5": "FR"
                                },
                                {
                                    "0": "720",
                                    "1": "HL ROAD FRAME - RED, 52",
                                    "2": "998.00",
                                    "3": "2005",
                                    "4": "July",
                                    "5": "FR"
                                },
                                {
                                    "0": "721",
                                    "1": "HL ROAD FRAME - RED, 56",
                                    "2": "1016.00",
                                    "3": "2005",
                                    "4": "July",
                                    "5": "FR"
                                },
                                {
                                    "0": "722",
                                    "1": "LL ROAD FRAME - BLACK, 58",
                                    "2": "1116.00",
                                    "3": "2005",
                                    "4": "July",
                                    "5": "FR"
                                },
                                {
                                    "0": "723",
                                    "1": "LL ROAD FRAME - BLACK, 60",
                                    "2": "1125.00",
                                    "3": "2005",
                                    "4": "July",
                                    "5": "FR"
                                },
                                {
                                    "0": "724",
                                    "1": "LL ROAD FRAME - BLACK, 62",
                                    "2": "1134.00",
                                    "3": "2005",
                                    "4": "July",
                                    "5": "FR"
                                },
                                {
                                    "0": "725",
                                    "1": "LL ROAD FRAME - RED, 44",
                                    "2": "1052.00",
                                    "3": "2005",
                                    "4": "July",
                                    "5": "FR"
                                },
                                {
                                    "0": "726",
                                    "1": "LL ROAD FRAME - RED, 48",
                                    "2": "1070.00",
                                    "3": "2005",
                                    "4": "July",
                                    "5": "FR"
                                },
                                {
                                    "0": "727",
                                    "1": "LL ROAD FRAME - RED, 52",
                                    "2": "1089.00",
                                    "3": "2005",
                                    "4": "July",
                                    "5": "FR"
                                },
                                {
                                    "0": "728",
                                    "1": "LL ROAD FRAME - RED, 58",
                                    "2": "1116.00",
                                    "3": "2005",
                                    "4": "July",
                                    "5": "FR"
                                },
                                {
                                    "0": "729",
                                    "1": "LL ROAD FRAME - RED, 60",
                                    "2": "1125.00",
                                    "3": "2005",
                                    "4": "July",
                                    "5": "FR"
                                },
                                {
                                    "0": "730",
                                    "1": "LL ROAD FRAME - RED, 62",
                                    "2": "1134.00",
                                    "3": "2005",
                                    "4": "July",
                                    "5": "FR"
                                },
                                {
                                    "0": "731",
                                    "1": "ML ROAD FRAME - RED, 44",
                                    "2": "1007.00",
                                    "3": "2005",
                                    "4": "July",
                                    "5": "FR"
                                },
                                {
                                    "0": "732",
                                    "1": "ML ROAD FRAME - RED, 48",
                                    "2": "1025.00",
                                    "3": "2005",
                                    "4": "July",
                                    "5": "FR"
                                },
                                {
                                    "0": "733",
                                    "1": "ML ROAD FRAME - RED, 52",
                                    "2": "1043.00",
                                    "3": "2005",
                                    "4": "July",
                                    "5": "FR"
                                },
                                {
                                    "0": "734",
                                    "1": "ML ROAD FRAME - RED, 58",
                                    "2": "1070.00",
                                    "3": "2005",
                                    "4": "July",
                                    "5": "FR"
                                },
                                {
                                    "0": "735",
                                    "1": "ML ROAD FRAME - RED, 60",
                                    "2": "1080.00",
                                    "3": "2005",
                                    "4": "July",
                                    "5": "FR"
                                },
                                {
                                    "0": "736",
                                    "1": "LL ROAD FRAME - BLACK, 44",
                                    "2": "1052.00",
                                    "3": "2005",
                                    "4": "July",
                                    "5": "FR"
                                },
                                {
                                    "0": "737",
                                    "1": "LL ROAD FRAME - BLACK, 48",
                                    "2": "1070.00",
                                    "3": "2005",
                                    "4": "July",
                                    "5": "FR"
                                },
                                {
                                    "0": "738",
                                    "1": "LL ROAD FRAME - BLACK, 52",
                                    "2": "1089.00",
                                    "3": "2005",
                                    "4": "July",
                                    "5": "FR"
                                },
                                {
                                    "0": "739",
                                    "1": "HL MOUNTAIN FRAME - SILVER, 42",
                                    "2": "1234.00",
                                    "3": "2005",
                                    "4": "July",
                                    "5": "FR"
                                },
                                {
                                    "0": "740",
                                    "1": "HL MOUNTAIN FRAME - SILVER, 44",
                                    "2": "1252.00",
                                    "3": "2005",
                                    "4": "July",
                                    "5": "FR"
                                },
                                {
                                    "0": "741",
                                    "1": "HL MOUNTAIN FRAME - SILVER, 48",
                                    "2": "1270.00",
                                    "3": "2005",
                                    "4": "July",
                                    "5": "FR"
                                },
                                {
                                    "0": "742",
                                    "1": "HL MOUNTAIN FRAME - SILVER, 46",
                                    "2": "1288.00",
                                    "3": "2005",
                                    "4": "July",
                                    "5": "FR"
                                },
                                {
                                    "0": "743",
                                    "1": "HL MOUNTAIN FRAME - BLACK, 42",
                                    "2": "1234.00",
                                    "3": "2005",
                                    "4": "July",
                                    "5": "FR"
                                },
                                {
                                    "0": "744",
                                    "1": "HL MOUNTAIN FRAME - BLACK, 44",
                                    "2": "1252.00",
                                    "3": "2005",
                                    "4": "July",
                                    "5": "FR"
                                },
                                {
                                    "0": "745",
                                    "1": "HL MOUNTAIN FRAME - BLACK, 48",
                                    "2": "1270.00",
                                    "3": "2005",
                                    "4": "July",
                                    "5": "FR"
                                },
                                {
                                    "0": "746",
                                    "1": "HL MOUNTAIN FRAME - BLACK, 46",
                                    "2": "1288.00",
                                    "3": "2005",
                                    "4": "July",
                                    "5": "FR"
                                },
                                {
                                    "0": "747",
                                    "1": "HL MOUNTAIN FRAME - BLACK, 38",
                                    "2": "1216.00",
                                    "3": "2005",
                                    "4": "July",
                                    "5": "FR"
                                },
                                {
                                    "0": "748",
                                    "1": "HL MOUNTAIN FRAME - SILVER, 38",
                                    "2": "1216.00",
                                    "3": "2005",
                                    "4": "July",
                                    "5": "FR"
                                },
                                {
                                    "0": "749",
                                    "1": "ROAD-150 RED, 62",
                                    "2": "6804.00",
                                    "3": "2005",
                                    "4": "July",
                                    "5": "BK"
                                },
                                {
                                    "0": "750",
                                    "1": "ROAD-150 RED, 44",
                                    "2": "6246.00",
                                    "3": "2005",
                                    "4": "July",
                                    "5": "BK"
                                },
                                {
                                    "0": "751",
                                    "1": "ROAD-150 RED, 48",
                                    "2": "6409.00",
                                    "3": "2005",
                                    "4": "July",
                                    "5": "BK"
                                },
                                {
                                    "0": "752",
                                    "1": "ROAD-150 RED, 52",
                                    "2": "6541.00",
                                    "3": "2005",
                                    "4": "July",
                                    "5": "BK"
                                },
                                {
                                    "0": "753",
                                    "1": "ROAD-150 RED, 56",
                                    "2": "6659.00",
                                    "3": "2005",
                                    "4": "July",
                                    "5": "BK"
                                },
                                {
                                    "0": "754",
                                    "1": "ROAD-450 RED, 58",
                                    "2": "8069.00",
                                    "3": "2005",
                                    "4": "July",
                                    "5": "BK"
                                },
                                {
                                    "0": "755",
                                    "1": "ROAD-450 RED, 60",
                                    "2": "8119.00",
                                    "3": "2005",
                                    "4": "July",
                                    "5": "BK"
                                },
                                {
                                    "0": "756",
                                    "1": "ROAD-450 RED, 44",
                                    "2": "7607.00",
                                    "3": "2005",
                                    "4": "July",
                                    "5": "BK"
                                },
                                {
                                    "0": "757",
                                    "1": "ROAD-450 RED, 48",
                                    "2": "7770.00",
                                    "3": "2005",
                                    "4": "July",
                                    "5": "BK"
                                },
                                {
                                    "0": "758",
                                    "1": "ROAD-450 RED, 52",
                                    "2": "7902.00",
                                    "3": "2005",
                                    "4": "July",
                                    "5": "BK"
                                },
                                {
                                    "0": "759",
                                    "1": "ROAD-650 RED, 58",
                                    "2": "8977.00",
                                    "3": "2005",
                                    "4": "July",
                                    "5": "BK"
                                },
                                {
                                    "0": "760",
                                    "1": "ROAD-650 RED, 60",
                                    "2": "9026.00",
                                    "3": "2005",
                                    "4": "July",
                                    "5": "BK"
                                },
                                {
                                    "0": "761",
                                    "1": "ROAD-650 RED, 62",
                                    "2": "9072.00",
                                    "3": "2005",
                                    "4": "July",
                                    "5": "BK"
                                },
                                {
                                    "0": "762",
                                    "1": "ROAD-650 RED, 44",
                                    "2": "8514.00",
                                    "3": "2005",
                                    "4": "July",
                                    "5": "BK"
                                },
                                {
                                    "0": "763",
                                    "1": "ROAD-650 RED, 48",
                                    "2": "8677.00",
                                    "3": "2005",
                                    "4": "July",
                                    "5": "BK"
                                },
                                {
                                    "0": "764",
                                    "1": "ROAD-650 RED, 52",
                                    "2": "8809.00",
                                    "3": "2005",
                                    "4": "July",
                                    "5": "BK"
                                },
                                {
                                    "0": "765",
                                    "1": "ROAD-650 BLACK, 58",
                                    "2": "8977.00",
                                    "3": "2005",
                                    "4": "July",
                                    "5": "BK"
                                },
                                {
                                    "0": "766",
                                    "1": "ROAD-650 BLACK, 60",
                                    "2": "9026.00",
                                    "3": "2005",
                                    "4": "July",
                                    "5": "BK"
                                },
                                {
                                    "0": "767",
                                    "1": "ROAD-650 BLACK, 62",
                                    "2": "9072.00",
                                    "3": "2005",
                                    "4": "July",
                                    "5": "BK"
                                },
                                {
                                    "0": "768",
                                    "1": "ROAD-650 BLACK, 44",
                                    "2": "8514.00",
                                    "3": "2005",
                                    "4": "July",
                                    "5": "BK"
                                },
                                {
                                    "0": "769",
                                    "1": "ROAD-650 BLACK, 48",
                                    "2": "8677.00",
                                    "3": "2005",
                                    "4": "July",
                                    "5": "BK"
                                },
                                {
                                    "0": "770",
                                    "1": "ROAD-650 BLACK, 52",
                                    "2": "8809.00",
                                    "3": "2005",
                                    "4": "July",
                                    "5": "BK"
                                },
                                {
                                    "0": "771",
                                    "1": "MOUNTAIN-100 SILVER, 38",
                                    "2": "9231.00",
                                    "3": "2005",
                                    "4": "July",
                                    "5": "BK"
                                },
                                {
                                    "0": "772",
                                    "1": "MOUNTAIN-100 SILVER, 42",
                                    "2": "9421.00",
                                    "3": "2005",
                                    "4": "July",
                                    "5": "BK"
                                },
                                {
                                    "0": "773",
                                    "1": "MOUNTAIN-100 SILVER, 44",
                                    "2": "9584.00",
                                    "3": "2005",
                                    "4": "July",
                                    "5": "BK"
                                },
                                {
                                    "0": "774",
                                    "1": "MOUNTAIN-100 SILVER, 48",
                                    "2": "9716.00",
                                    "3": "2005",
                                    "4": "July",
                                    "5": "BK"
                                },
                                {
                                    "0": "775",
                                    "1": "MOUNTAIN-100 BLACK, 38",
                                    "2": "9231.00",
                                    "3": "2005",
                                    "4": "July",
                                    "5": "BK"
                                },
                                {
                                    "0": "776",
                                    "1": "MOUNTAIN-100 BLACK, 42",
                                    "2": "9421.00",
                                    "3": "2005",
                                    "4": "July",
                                    "5": "BK"
                                },
                                {
                                    "0": "777",
                                    "1": "MOUNTAIN-100 BLACK, 44",
                                    "2": "9584.00",
                                    "3": "2005",
                                    "4": "July",
                                    "5": "BK"
                                },
                                {
                                    "0": "778",
                                    "1": "MOUNTAIN-100 BLACK, 48",
                                    "2": "9716.00",
                                    "3": "2005",
                                    "4": "July",
                                    "5": "BK"
                                },
                                {
                                    "0": "779",
                                    "1": "MOUNTAIN-200 SILVER, 38",
                                    "2": "10591.00",
                                    "3": "2006",
                                    "4": "July",
                                    "5": "BK"
                                },
                                {
                                    "0": "780",
                                    "1": "MOUNTAIN-200 SILVER, 42",
                                    "2": "10782.00",
                                    "3": "2006",
                                    "4": "July",
                                    "5": "BK"
                                },
                                {
                                    "0": "781",
                                    "1": "MOUNTAIN-200 SILVER, 46",
                                    "2": "10945.00",
                                    "3": "2006",
                                    "4": "July",
                                    "5": "BK"
                                },
                                {
                                    "0": "782",
                                    "1": "MOUNTAIN-200 BLACK, 38",
                                    "2": "10591.00",
                                    "3": "2006",
                                    "4": "July",
                                    "5": "BK"
                                },
                                {
                                    "0": "783",
                                    "1": "MOUNTAIN-200 BLACK, 42",
                                    "2": "10782.00",
                                    "3": "2006",
                                    "4": "July",
                                    "5": "BK"
                                },
                                {
                                    "0": "784",
                                    "1": "MOUNTAIN-200 BLACK, 46",
                                    "2": "10945.00",
                                    "3": "2006",
                                    "4": "July",
                                    "5": "BK"
                                },
                                {
                                    "0": "785",
                                    "1": "MOUNTAIN-300 BLACK, 38",
                                    "2": "11499.00",
                                    "3": "2006",
                                    "4": "July",
                                    "5": "BK"
                                },
                                {
                                    "0": "786",
                                    "1": "MOUNTAIN-300 BLACK, 40",
                                    "2": "11689.00",
                                    "3": "2006",
                                    "4": "July",
                                    "5": "BK"
                                },
                                {
                                    "0": "787",
                                    "1": "MOUNTAIN-300 BLACK, 44",
                                    "2": "11852.00",
                                    "3": "2006",
                                    "4": "July",
                                    "5": "BK"
                                },
                                {
                                    "0": "788",
                                    "1": "MOUNTAIN-300 BLACK, 48",
                                    "2": "11984.00",
                                    "3": "2006",
                                    "4": "July",
                                    "5": "BK"
                                },
                                {
                                    "0": "789",
                                    "1": "ROAD-250 RED, 44",
                                    "2": "6700.00",
                                    "3": "2006",
                                    "4": "July",
                                    "5": "BK"
                                },
                                {
                                    "0": "790",
                                    "1": "ROAD-250 RED, 48",
                                    "2": "6863.00",
                                    "3": "2006",
                                    "4": "July",
                                    "5": "BK"
                                },
                                {
                                    "0": "791",
                                    "1": "ROAD-250 RED, 52",
                                    "2": "6994.00",
                                    "3": "2006",
                                    "4": "July",
                                    "5": "BK"
                                },
                                {
                                    "0": "792",
                                    "1": "ROAD-250 RED, 58",
                                    "2": "7162.00",
                                    "3": "2006",
                                    "4": "July",
                                    "5": "BK"
                                },
                                {
                                    "0": "793",
                                    "1": "ROAD-250 BLACK, 44",
                                    "2": "6700.00",
                                    "3": "2006",
                                    "4": "July",
                                    "5": "BK"
                                },
                                {
                                    "0": "794",
                                    "1": "ROAD-250 BLACK, 48",
                                    "2": "6863.00",
                                    "3": "2006",
                                    "4": "July",
                                    "5": "BK"
                                },
                                {
                                    "0": "795",
                                    "1": "ROAD-250 BLACK, 52",
                                    "2": "6994.00",
                                    "3": "2006",
                                    "4": "July",
                                    "5": "BK"
                                },
                                {
                                    "0": "796",
                                    "1": "ROAD-250 BLACK, 58",
                                    "2": "7112.00",
                                    "3": "2006",
                                    "4": "July",
                                    "5": "BK"
                                },
                                {
                                    "0": "797",
                                    "1": "ROAD-550-W YELLOW, 38",
                                    "2": "7870.00",
                                    "3": "2006",
                                    "4": "July",
                                    "5": "BK"
                                },
                                {
                                    "0": "798",
                                    "1": "ROAD-550-W YELLOW, 40",
                                    "2": "8060.00",
                                    "3": "2006",
                                    "4": "July",
                                    "5": "BK"
                                },
                                {
                                    "0": "799",
                                    "1": "ROAD-550-W YELLOW, 42",
                                    "2": "8224.00",
                                    "3": "2006",
                                    "4": "July",
                                    "5": "BK"
                                },
                                {
                                    "0": "800",
                                    "1": "ROAD-550-W YELLOW, 44",
                                    "2": "8355.00",
                                    "3": "2006",
                                    "4": "July",
                                    "5": "BK"
                                },
                                {
                                    "0": "801",
                                    "1": "ROAD-550-W YELLOW, 48",
                                    "2": "8473.00",
                                    "3": "2006",
                                    "4": "July",
                                    "5": "BK"
                                },
                                {
                                    "0": "802",
                                    "1": "LL FORK",
                                    "2": "NULL",
                                    "3": "2006",
                                    "4": "July",
                                    "5": "FK"
                                },
                                {
                                    "0": "803",
                                    "1": "ML FORK",
                                    "2": "NULL",
                                    "3": "2006",
                                    "4": "July",
                                    "5": "FK"
                                },
                                {
                                    "0": "804",
                                    "1": "HL FORK",
                                    "2": "NULL",
                                    "3": "2006",
                                    "4": "July",
                                    "5": "FK"
                                },
                                {
                                    "0": "805",
                                    "1": "LL HEADSET",
                                    "2": "NULL",
                                    "3": "2006",
                                    "4": "July",
                                    "5": "HS"
                                },
                                {
                                    "0": "806",
                                    "1": "ML HEADSET",
                                    "2": "NULL",
                                    "3": "2006",
                                    "4": "July",
                                    "5": "HS"
                                },
                                {
                                    "0": "807",
                                    "1": "HL HEADSET",
                                    "2": "NULL",
                                    "3": "2006",
                                    "4": "July",
                                    "5": "HS"
                                },
                                {
                                    "0": "808",
                                    "1": "LL MOUNTAIN HANDLEBARS",
                                    "2": "NULL",
                                    "3": "2006",
                                    "4": "July",
                                    "5": "HB"
                                },
                                {
                                    "0": "809",
                                    "1": "ML MOUNTAIN HANDLEBARS",
                                    "2": "NULL",
                                    "3": "2006",
                                    "4": "July",
                                    "5": "HB"
                                },
                                {
                                    "0": "810",
                                    "1": "HL MOUNTAIN HANDLEBARS",
                                    "2": "NULL",
                                    "3": "2006",
                                    "4": "July",
                                    "5": "HB"
                                },
                                {
                                    "0": "811",
                                    "1": "LL ROAD HANDLEBARS",
                                    "2": "NULL",
                                    "3": "2006",
                                    "4": "July",
                                    "5": "HB"
                                },
                                {
                                    "0": "812",
                                    "1": "ML ROAD HANDLEBARS",
                                    "2": "NULL",
                                    "3": "2006",
                                    "4": "July",
                                    "5": "HB"
                                },
                                {
                                    "0": "813",
                                    "1": "HL ROAD HANDLEBARS",
                                    "2": "NULL",
                                    "3": "2006",
                                    "4": "July",
                                    "5": "HB"
                                },
                                {
                                    "0": "814",
                                    "1": "ML MOUNTAIN FRAME - BLACK, 38",
                                    "2": "1238.00",
                                    "3": "2006",
                                    "4": "July",
                                    "5": "FR"
                                },
                                {
                                    "0": "815",
                                    "1": "LL MOUNTAIN FRONT WHEEL",
                                    "2": "NULL",
                                    "3": "2006",
                                    "4": "July",
                                    "5": "FW"
                                },
                                {
                                    "0": "816",
                                    "1": "ML MOUNTAIN FRONT WHEEL",
                                    "2": "NULL",
                                    "3": "2006",
                                    "4": "July",
                                    "5": "FW"
                                },
                                {
                                    "0": "817",
                                    "1": "HL MOUNTAIN FRONT WHEEL",
                                    "2": "NULL",
                                    "3": "2006",
                                    "4": "July",
                                    "5": "FW"
                                },
                                {
                                    "0": "818",
                                    "1": "LL ROAD FRONT WHEEL",
                                    "2": "900.00",
                                    "3": "2006",
                                    "4": "July",
                                    "5": "FW"
                                },
                                {
                                    "0": "819",
                                    "1": "ML ROAD FRONT WHEEL",
                                    "2": "850.00",
                                    "3": "2006",
                                    "4": "July",
                                    "5": "FW"
                                },
                                {
                                    "0": "820",
                                    "1": "HL ROAD FRONT WHEEL",
                                    "2": "650.00",
                                    "3": "2006",
                                    "4": "July",
                                    "5": "FW"
                                },
                                {
                                    "0": "821",
                                    "1": "TOURING FRONT WHEEL",
                                    "2": "NULL",
                                    "3": "2006",
                                    "4": "July",
                                    "5": "FW"
                                },
                                {
                                    "0": "822",
                                    "1": "ML ROAD FRAME-W - YELLOW, 38",
                                    "2": "989.00",
                                    "3": "2006",
                                    "4": "July",
                                    "5": "FR"
                                },
                                {
                                    "0": "823",
                                    "1": "LL MOUNTAIN REAR WHEEL",
                                    "2": "NULL",
                                    "3": "2006",
                                    "4": "July",
                                    "5": "RW"
                                },
                                {
                                    "0": "824",
                                    "1": "ML MOUNTAIN REAR WHEEL",
                                    "2": "NULL",
                                    "3": "2006",
                                    "4": "July",
                                    "5": "RW"
                                },
                                {
                                    "0": "825",
                                    "1": "HL MOUNTAIN REAR WHEEL",
                                    "2": "NULL",
                                    "3": "2006",
                                    "4": "July",
                                    "5": "RW"
                                },
                                {
                                    "0": "826",
                                    "1": "LL ROAD REAR WHEEL",
                                    "2": "1050.00",
                                    "3": "2006",
                                    "4": "July",
                                    "5": "RW"
                                },
                                {
                                    "0": "827",
                                    "1": "ML ROAD REAR WHEEL",
                                    "2": "1000.00",
                                    "3": "2006",
                                    "4": "July",
                                    "5": "RW"
                                },
                                {
                                    "0": "828",
                                    "1": "HL ROAD REAR WHEEL",
                                    "2": "890.00",
                                    "3": "2006",
                                    "4": "July",
                                    "5": "RW"
                                },
                                {
                                    "0": "829",
                                    "1": "TOURING REAR WHEEL",
                                    "2": "NULL",
                                    "3": "2006",
                                    "4": "July",
                                    "5": "RW"
                                },
                                {
                                    "0": "830",
                                    "1": "ML MOUNTAIN FRAME - BLACK, 40",
                                    "2": "1256.00",
                                    "3": "2006",
                                    "4": "July",
                                    "5": "FR"
                                },
                                {
                                    "0": "831",
                                    "1": "ML MOUNTAIN FRAME - BLACK, 44",
                                    "2": "1275.00",
                                    "3": "2006",
                                    "4": "July",
                                    "5": "FR"
                                },
                                {
                                    "0": "832",
                                    "1": "ML MOUNTAIN FRAME - BLACK, 48",
                                    "2": "1293.00",
                                    "3": "2006",
                                    "4": "July",
                                    "5": "FR"
                                },
                                {
                                    "0": "833",
                                    "1": "ML ROAD FRAME-W - YELLOW, 40",
                                    "2": "1007.00",
                                    "3": "2006",
                                    "4": "July",
                                    "5": "FR"
                                },
                                {
                                    "0": "834",
                                    "1": "ML ROAD FRAME-W - YELLOW, 42",
                                    "2": "1025.00",
                                    "3": "2006",
                                    "4": "July",
                                    "5": "FR"
                                },
                                {
                                    "0": "835",
                                    "1": "ML ROAD FRAME-W - YELLOW, 44",
                                    "2": "1043.00",
                                    "3": "2006",
                                    "4": "July",
                                    "5": "FR"
                                },
                                {
                                    "0": "836",
                                    "1": "ML ROAD FRAME-W - YELLOW, 48",
                                    "2": "1061.00",
                                    "3": "2006",
                                    "4": "July",
                                    "5": "FR"
                                },
                                {
                                    "0": "837",
                                    "1": "HL ROAD FRAME - BLACK, 62",
                                    "2": "1043.00",
                                    "3": "2006",
                                    "4": "July",
                                    "5": "FR"
                                },
                                {
                                    "0": "838",
                                    "1": "HL ROAD FRAME - BLACK, 44",
                                    "2": "962.00",
                                    "3": "2006",
                                    "4": "July",
                                    "5": "FR"
                                },
                                {
                                    "0": "839",
                                    "1": "HL ROAD FRAME - BLACK, 48",
                                    "2": "980.00",
                                    "3": "2006",
                                    "4": "July",
                                    "5": "FR"
                                },
                                {
                                    "0": "840",
                                    "1": "HL ROAD FRAME - BLACK, 52",
                                    "2": "998.00",
                                    "3": "2006",
                                    "4": "July",
                                    "5": "FR"
                                },
                                {
                                    "0": "841",
                                    "1": "MEN'S SPORTS SHORTS, S",
                                    "2": "NULL",
                                    "3": "2006",
                                    "4": "July",
                                    "5": "SH"
                                },
                                {
                                    "0": "842",
                                    "1": "TOURING-PANNIERS, LARGE",
                                    "2": "NULL",
                                    "3": "2006",
                                    "4": "July",
                                    "5": "PA"
                                },
                                {
                                    "0": "843",
                                    "1": "CABLE LOCK",
                                    "2": "NULL",
                                    "3": "2006",
                                    "4": "July",
                                    "5": "LO"
                                },
                                {
                                    "0": "844",
                                    "1": "MINIPUMP",
                                    "2": "NULL",
                                    "3": "2006",
                                    "4": "July",
                                    "5": "PU"
                                },
                                {
                                    "0": "845",
                                    "1": "MOUNTAIN PUMP",
                                    "2": "NULL",
                                    "3": "2006",
                                    "4": "July",
                                    "5": "PU"
                                },
                                {
                                    "0": "846",
                                    "1": "TAILLIGHTS - BATTERY-POWERED",
                                    "2": "NULL",
                                    "3": "2006",
                                    "4": "July",
                                    "5": "LT"
                                },
                                {
                                    "0": "847",
                                    "1": "HEADLIGHTS - DUAL-BEAM",
                                    "2": "NULL",
                                    "3": "2006",
                                    "4": "July",
                                    "5": "LT"
                                },
                                {
                                    "0": "848",
                                    "1": "HEADLIGHTS - WEATHERPROOF",
                                    "2": "NULL",
                                    "3": "2006",
                                    "4": "July",
                                    "5": "LT"
                                },
                                {
                                    "0": "849",
                                    "1": "MEN'S SPORTS SHORTS, M",
                                    "2": "NULL",
                                    "3": "2006",
                                    "4": "July",
                                    "5": "SH"
                                },
                                {
                                    "0": "850",
                                    "1": "MEN'S SPORTS SHORTS, L",
                                    "2": "NULL",
                                    "3": "2006",
                                    "4": "July",
                                    "5": "SH"
                                },
                                {
                                    "0": "851",
                                    "1": "MEN'S SPORTS SHORTS, XL",
                                    "2": "NULL",
                                    "3": "2006",
                                    "4": "July",
                                    "5": "SH"
                                },
                                {
                                    "0": "852",
                                    "1": "WOMEN'S TIGHTS, S",
                                    "2": "NULL",
                                    "3": "2006",
                                    "4": "July",
                                    "5": "TG"
                                },
                                {
                                    "0": "853",
                                    "1": "WOMEN'S TIGHTS, M",
                                    "2": "NULL",
                                    "3": "2006",
                                    "4": "July",
                                    "5": "TG"
                                },
                                {
                                    "0": "854",
                                    "1": "WOMEN'S TIGHTS, L",
                                    "2": "NULL",
                                    "3": "2006",
                                    "4": "July",
                                    "5": "TG"
                                },
                                {
                                    "0": "855",
                                    "1": "MEN'S BIB-SHORTS, S",
                                    "2": "NULL",
                                    "3": "2006",
                                    "4": "July",
                                    "5": "SB"
                                },
                                {
                                    "0": "856",
                                    "1": "MEN'S BIB-SHORTS, M",
                                    "2": "NULL",
                                    "3": "2006",
                                    "4": "July",
                                    "5": "SB"
                                },
                                {
                                    "0": "857",
                                    "1": "MEN'S BIB-SHORTS, L",
                                    "2": "NULL",
                                    "3": "2006",
                                    "4": "July",
                                    "5": "SB"
                                },
                                {
                                    "0": "858",
                                    "1": "HALF-FINGER GLOVES, S",
                                    "2": "NULL",
                                    "3": "2006",
                                    "4": "July",
                                    "5": "GL"
                                },
                                {
                                    "0": "859",
                                    "1": "HALF-FINGER GLOVES, M",
                                    "2": "NULL",
                                    "3": "2006",
                                    "4": "July",
                                    "5": "GL"
                                },
                                {
                                    "0": "860",
                                    "1": "HALF-FINGER GLOVES, L",
                                    "2": "NULL",
                                    "3": "2006",
                                    "4": "July",
                                    "5": "GL"
                                },
                                {
                                    "0": "861",
                                    "1": "FULL-FINGER GLOVES, S",
                                    "2": "NULL",
                                    "3": "2006",
                                    "4": "July",
                                    "5": "GL"
                                },
                                {
                                    "0": "862",
                                    "1": "FULL-FINGER GLOVES, M",
                                    "2": "NULL",
                                    "3": "2006",
                                    "4": "July",
                                    "5": "GL"
                                },
                                {
                                    "0": "863",
                                    "1": "FULL-FINGER GLOVES, L",
                                    "2": "NULL",
                                    "3": "2006",
                                    "4": "July",
                                    "5": "GL"
                                },
                                {
                                    "0": "864",
                                    "1": "CLASSIC VEST, S",
                                    "2": "NULL",
                                    "3": "2007",
                                    "4": "July",
                                    "5": "VE"
                                },
                                {
                                    "0": "865",
                                    "1": "CLASSIC VEST, M",
                                    "2": "NULL",
                                    "3": "2007",
                                    "4": "July",
                                    "5": "VE"
                                },
                                {
                                    "0": "866",
                                    "1": "CLASSIC VEST, L",
                                    "2": "NULL",
                                    "3": "2007",
                                    "4": "July",
                                    "5": "VE"
                                },
                                {
                                    "0": "867",
                                    "1": "WOMEN'S MOUNTAIN SHORTS, S",
                                    "2": "NULL",
                                    "3": "2007",
                                    "4": "July",
                                    "5": "SH"
                                },
                                {
                                    "0": "868",
                                    "1": "WOMEN'S MOUNTAIN SHORTS, M",
                                    "2": "NULL",
                                    "3": "2007",
                                    "4": "July",
                                    "5": "SH"
                                },
                                {
                                    "0": "869",
                                    "1": "WOMEN'S MOUNTAIN SHORTS, L",
                                    "2": "NULL",
                                    "3": "2007",
                                    "4": "July",
                                    "5": "SH"
                                },
                                {
                                    "0": "870",
                                    "1": "WATER BOTTLE - 30 OZ.",
                                    "2": "NULL",
                                    "3": "2007",
                                    "4": "July",
                                    "5": "WB"
                                },
                                {
                                    "0": "871",
                                    "1": "MOUNTAIN BOTTLE CAGE",
                                    "2": "NULL",
                                    "3": "2007",
                                    "4": "July",
                                    "5": "BC"
                                },
                                {
                                    "0": "872",
                                    "1": "ROAD BOTTLE CAGE",
                                    "2": "NULL",
                                    "3": "2007",
                                    "4": "July",
                                    "5": "BC"
                                },
                                {
                                    "0": "873",
                                    "1": "PATCH KIT/8 PATCHES",
                                    "2": "NULL",
                                    "3": "2007",
                                    "4": "July",
                                    "5": "PK"
                                },
                                {
                                    "0": "874",
                                    "1": "RACING SOCKS, M",
                                    "2": "NULL",
                                    "3": "2007",
                                    "4": "July",
                                    "5": "SO"
                                },
                                {
                                    "0": "875",
                                    "1": "RACING SOCKS, L",
                                    "2": "NULL",
                                    "3": "2007",
                                    "4": "July",
                                    "5": "SO"
                                },
                                {
                                    "0": "876",
                                    "1": "HITCH RACK - 4-BIKE",
                                    "2": "NULL",
                                    "3": "2007",
                                    "4": "July",
                                    "5": "RA"
                                },
                                {
                                    "0": "877",
                                    "1": "BIKE WASH - DISSOLVER",
                                    "2": "NULL",
                                    "3": "2007",
                                    "4": "July",
                                    "5": "CL"
                                },
                                {
                                    "0": "878",
                                    "1": "FENDER SET - MOUNTAIN",
                                    "2": "NULL",
                                    "3": "2007",
                                    "4": "July",
                                    "5": "FE"
                                },
                                {
                                    "0": "879",
                                    "1": "ALL-PURPOSE BIKE STAND",
                                    "2": "NULL",
                                    "3": "2007",
                                    "4": "July",
                                    "5": "ST"
                                },
                                {
                                    "0": "880",
                                    "1": "HYDRATION PACK - 70 OZ.",
                                    "2": "NULL",
                                    "3": "2007",
                                    "4": "July",
                                    "5": "HY"
                                },
                                {
                                    "0": "881",
                                    "1": "SHORT-SLEEVE CLASSIC JERSEY, S",
                                    "2": "NULL",
                                    "3": "2007",
                                    "4": "July",
                                    "5": "SJ"
                                },
                                {
                                    "0": "882",
                                    "1": "SHORT-SLEEVE CLASSIC JERSEY, M",
                                    "2": "NULL",
                                    "3": "2007",
                                    "4": "July",
                                    "5": "SJ"
                                },
                                {
                                    "0": "883",
                                    "1": "SHORT-SLEEVE CLASSIC JERSEY, L",
                                    "2": "NULL",
                                    "3": "2007",
                                    "4": "July",
                                    "5": "SJ"
                                },
                                {
                                    "0": "884",
                                    "1": "SHORT-SLEEVE CLASSIC JERSEY, XL",
                                    "2": "NULL",
                                    "3": "2007",
                                    "4": "July",
                                    "5": "SJ"
                                },
                                {
                                    "0": "885",
                                    "1": "HL TOURING FRAME - YELLOW, 60",
                                    "2": "1397.00",
                                    "3": "2007",
                                    "4": "July",
                                    "5": "FR"
                                },
                                {
                                    "0": "886",
                                    "1": "LL TOURING FRAME - YELLOW, 62",
                                    "2": "1451.00",
                                    "3": "2007",
                                    "4": "July",
                                    "5": "FR"
                                },
                                {
                                    "0": "887",
                                    "1": "HL TOURING FRAME - YELLOW, 46",
                                    "2": "1343.00",
                                    "3": "2007",
                                    "4": "July",
                                    "5": "FR"
                                },
                                {
                                    "0": "888",
                                    "1": "HL TOURING FRAME - YELLOW, 50",
                                    "2": "1361.00",
                                    "3": "2007",
                                    "4": "July",
                                    "5": "FR"
                                },
                                {
                                    "0": "889",
                                    "1": "HL TOURING FRAME - YELLOW, 54",
                                    "2": "1379.00",
                                    "3": "2007",
                                    "4": "July",
                                    "5": "FR"
                                },
                                {
                                    "0": "890",
                                    "1": "HL TOURING FRAME - BLUE, 46",
                                    "2": "1343.00",
                                    "3": "2007",
                                    "4": "July",
                                    "5": "FR"
                                },
                                {
                                    "0": "891",
                                    "1": "HL TOURING FRAME - BLUE, 50",
                                    "2": "1361.00",
                                    "3": "2007",
                                    "4": "July",
                                    "5": "FR"
                                },
                                {
                                    "0": "892",
                                    "1": "HL TOURING FRAME - BLUE, 54",
                                    "2": "1379.00",
                                    "3": "2007",
                                    "4": "July",
                                    "5": "FR"
                                },
                                {
                                    "0": "893",
                                    "1": "HL TOURING FRAME - BLUE, 60",
                                    "2": "1397.00",
                                    "3": "2007",
                                    "4": "July",
                                    "5": "FR"
                                },
                                {
                                    "0": "894",
                                    "1": "REAR DERAILLEUR",
                                    "2": "215.00",
                                    "3": "2007",
                                    "4": "July",
                                    "5": "RD"
                                },
                                {
                                    "0": "895",
                                    "1": "LL TOURING FRAME - BLUE, 50",
                                    "2": "1406.00",
                                    "3": "2007",
                                    "4": "July",
                                    "5": "FR"
                                },
                                {
                                    "0": "896",
                                    "1": "LL TOURING FRAME - BLUE, 54",
                                    "2": "1424.00",
                                    "3": "2007",
                                    "4": "July",
                                    "5": "FR"
                                },
                                {
                                    "0": "897",
                                    "1": "LL TOURING FRAME - BLUE, 58",
                                    "2": "1433.00",
                                    "3": "2007",
                                    "4": "July",
                                    "5": "FR"
                                },
                                {
                                    "0": "898",
                                    "1": "LL TOURING FRAME - BLUE, 62",
                                    "2": "1451.00",
                                    "3": "2007",
                                    "4": "July",
                                    "5": "FR"
                                },
                                {
                                    "0": "899",
                                    "1": "LL TOURING FRAME - YELLOW, 44",
                                    "2": "1370.00",
                                    "3": "2007",
                                    "4": "July",
                                    "5": "FR"
                                },
                                {
                                    "0": "900",
                                    "1": "LL TOURING FRAME - YELLOW, 50",
                                    "2": "1406.00",
                                    "3": "2007",
                                    "4": "July",
                                    "5": "FR"
                                },
                                {
                                    "0": "901",
                                    "1": "LL TOURING FRAME - YELLOW, 54",
                                    "2": "1424.00",
                                    "3": "2007",
                                    "4": "July",
                                    "5": "FR"
                                },
                                {
                                    "0": "902",
                                    "1": "LL TOURING FRAME - YELLOW, 58",
                                    "2": "1433.00",
                                    "3": "2007",
                                    "4": "July",
                                    "5": "FR"
                                },
                                {
                                    "0": "903",
                                    "1": "LL TOURING FRAME - BLUE, 44",
                                    "2": "1370.00",
                                    "3": "2007",
                                    "4": "July",
                                    "5": "FR"
                                },
                                {
                                    "0": "904",
                                    "1": "ML MOUNTAIN FRAME-W - SILVER, 40",
                                    "2": "1256.00",
                                    "3": "2007",
                                    "4": "July",
                                    "5": "FR"
                                },
                                {
                                    "0": "905",
                                    "1": "ML MOUNTAIN FRAME-W - SILVER, 42",
                                    "2": "1275.00",
                                    "3": "2007",
                                    "4": "July",
                                    "5": "FR"
                                },
                                {
                                    "0": "906",
                                    "1": "ML MOUNTAIN FRAME-W - SILVER, 46",
                                    "2": "1293.00",
                                    "3": "2007",
                                    "4": "July",
                                    "5": "FR"
                                },
                                {
                                    "0": "907",
                                    "1": "REAR BRAKES",
                                    "2": "317.00",
                                    "3": "2007",
                                    "4": "July",
                                    "5": "RB"
                                },
                                {
                                    "0": "908",
                                    "1": "LL MOUNTAIN SEAT/SADDLE",
                                    "2": "NULL",
                                    "3": "2007",
                                    "4": "July",
                                    "5": "SE"
                                },
                                {
                                    "0": "909",
                                    "1": "ML MOUNTAIN SEAT/SADDLE",
                                    "2": "NULL",
                                    "3": "2007",
                                    "4": "July",
                                    "5": "SE"
                                },
                                {
                                    "0": "910",
                                    "1": "HL MOUNTAIN SEAT/SADDLE",
                                    "2": "NULL",
                                    "3": "2007",
                                    "4": "July",
                                    "5": "SE"
                                },
                                {
                                    "0": "911",
                                    "1": "LL ROAD SEAT/SADDLE",
                                    "2": "NULL",
                                    "3": "2007",
                                    "4": "July",
                                    "5": "SE"
                                },
                                {
                                    "0": "912",
                                    "1": "ML ROAD SEAT/SADDLE",
                                    "2": "NULL",
                                    "3": "2007",
                                    "4": "July",
                                    "5": "SE"
                                },
                                {
                                    "0": "913",
                                    "1": "HL ROAD SEAT/SADDLE",
                                    "2": "NULL",
                                    "3": "2007",
                                    "4": "July",
                                    "5": "SE"
                                },
                                {
                                    "0": "914",
                                    "1": "LL TOURING SEAT/SADDLE",
                                    "2": "NULL",
                                    "3": "2007",
                                    "4": "July",
                                    "5": "SE"
                                },
                                {
                                    "0": "915",
                                    "1": "ML TOURING SEAT/SADDLE",
                                    "2": "NULL",
                                    "3": "2007",
                                    "4": "July",
                                    "5": "SE"
                                },
                                {
                                    "0": "916",
                                    "1": "HL TOURING SEAT/SADDLE",
                                    "2": "NULL",
                                    "3": "2007",
                                    "4": "July",
                                    "5": "SE"
                                },
                                {
                                    "0": "917",
                                    "1": "LL MOUNTAIN FRAME - SILVER, 42",
                                    "2": "1324.00",
                                    "3": "2007",
                                    "4": "July",
                                    "5": "FR"
                                },
                                {
                                    "0": "918",
                                    "1": "LL MOUNTAIN FRAME - SILVER, 44",
                                    "2": "1343.00",
                                    "3": "2007",
                                    "4": "July",
                                    "5": "FR"
                                },
                                {
                                    "0": "919",
                                    "1": "LL MOUNTAIN FRAME - SILVER, 48",
                                    "2": "1361.00",
                                    "3": "2007",
                                    "4": "July",
                                    "5": "FR"
                                },
                                {
                                    "0": "920",
                                    "1": "LL MOUNTAIN FRAME - SILVER, 52",
                                    "2": "1379.00",
                                    "3": "2007",
                                    "4": "July",
                                    "5": "FR"
                                },
                                {
                                    "0": "921",
                                    "1": "MOUNTAIN TIRE TUBE",
                                    "2": "NULL",
                                    "3": "2007",
                                    "4": "July",
                                    "5": "TT"
                                },
                                {
                                    "0": "922",
                                    "1": "ROAD TIRE TUBE",
                                    "2": "NULL",
                                    "3": "2007",
                                    "4": "July",
                                    "5": "TT"
                                },
                                {
                                    "0": "923",
                                    "1": "TOURING TIRE TUBE",
                                    "2": "NULL",
                                    "3": "2007",
                                    "4": "July",
                                    "5": "TT"
                                },
                                {
                                    "0": "924",
                                    "1": "LL MOUNTAIN FRAME - BLACK, 42",
                                    "2": "1324.00",
                                    "3": "2007",
                                    "4": "July",
                                    "5": "FR"
                                },
                                {
                                    "0": "925",
                                    "1": "LL MOUNTAIN FRAME - BLACK, 44",
                                    "2": "1343.00",
                                    "3": "2007",
                                    "4": "July",
                                    "5": "FR"
                                },
                                {
                                    "0": "926",
                                    "1": "LL MOUNTAIN FRAME - BLACK, 48",
                                    "2": "1361.00",
                                    "3": "2007",
                                    "4": "July",
                                    "5": "FR"
                                },
                                {
                                    "0": "927",
                                    "1": "LL MOUNTAIN FRAME - BLACK, 52",
                                    "2": "1379.00",
                                    "3": "2007",
                                    "4": "July",
                                    "5": "FR"
                                },
                                {
                                    "0": "928",
                                    "1": "LL MOUNTAIN TIRE",
                                    "2": "NULL",
                                    "3": "2007",
                                    "4": "July",
                                    "5": "TI"
                                },
                                {
                                    "0": "929",
                                    "1": "ML MOUNTAIN TIRE",
                                    "2": "NULL",
                                    "3": "2007",
                                    "4": "July",
                                    "5": "TI"
                                },
                                {
                                    "0": "930",
                                    "1": "HL MOUNTAIN TIRE",
                                    "2": "NULL",
                                    "3": "2007",
                                    "4": "July",
                                    "5": "TI"
                                },
                                {
                                    "0": "931",
                                    "1": "LL ROAD TIRE",
                                    "2": "NULL",
                                    "3": "2007",
                                    "4": "July",
                                    "5": "TI"
                                },
                                {
                                    "0": "932",
                                    "1": "ML ROAD TIRE",
                                    "2": "NULL",
                                    "3": "2007",
                                    "4": "July",
                                    "5": "TI"
                                },
                                {
                                    "0": "933",
                                    "1": "HL ROAD TIRE",
                                    "2": "NULL",
                                    "3": "2007",
                                    "4": "July",
                                    "5": "TI"
                                },
                                {
                                    "0": "934",
                                    "1": "TOURING TIRE",
                                    "2": "NULL",
                                    "3": "2007",
                                    "4": "July",
                                    "5": "TI"
                                },
                                {
                                    "0": "935",
                                    "1": "LL MOUNTAIN PEDAL",
                                    "2": "218.00",
                                    "3": "2007",
                                    "4": "July",
                                    "5": "PD"
                                },
                                {
                                    "0": "936",
                                    "1": "ML MOUNTAIN PEDAL",
                                    "2": "215.00",
                                    "3": "2007",
                                    "4": "July",
                                    "5": "PD"
                                },
                                {
                                    "0": "937",
                                    "1": "HL MOUNTAIN PEDAL",
                                    "2": "185.00",
                                    "3": "2007",
                                    "4": "July",
                                    "5": "PD"
                                },
                                {
                                    "0": "938",
                                    "1": "LL ROAD PEDAL",
                                    "2": "189.00",
                                    "3": "2007",
                                    "4": "July",
                                    "5": "PD"
                                },
                                {
                                    "0": "939",
                                    "1": "ML ROAD PEDAL",
                                    "2": "168.00",
                                    "3": "2007",
                                    "4": "July",
                                    "5": "PD"
                                },
                                {
                                    "0": "940",
                                    "1": "HL ROAD PEDAL",
                                    "2": "149.00",
                                    "3": "2007",
                                    "4": "July",
                                    "5": "PD"
                                },
                                {
                                    "0": "941",
                                    "1": "TOURING PEDAL",
                                    "2": "NULL",
                                    "3": "2007",
                                    "4": "July",
                                    "5": "PD"
                                },
                                {
                                    "0": "942",
                                    "1": "ML MOUNTAIN FRAME-W - SILVER, 38",
                                    "2": "1238.00",
                                    "3": "2007",
                                    "4": "July",
                                    "5": "FR"
                                },
                                {
                                    "0": "943",
                                    "1": "LL MOUNTAIN FRAME - BLACK, 40",
                                    "2": "1306.00",
                                    "3": "2007",
                                    "4": "July",
                                    "5": "FR"
                                },
                                {
                                    "0": "944",
                                    "1": "LL MOUNTAIN FRAME - SILVER, 40",
                                    "2": "1306.00",
                                    "3": "2007",
                                    "4": "July",
                                    "5": "FR"
                                },
                                {
                                    "0": "945",
                                    "1": "FRONT DERAILLEUR",
                                    "2": "88.00",
                                    "3": "2007",
                                    "4": "July",
                                    "5": "FD"
                                },
                                {
                                    "0": "946",
                                    "1": "LL TOURING HANDLEBARS",
                                    "2": "NULL",
                                    "3": "2007",
                                    "4": "July",
                                    "5": "HB"
                                },
                                {
                                    "0": "947",
                                    "1": "HL TOURING HANDLEBARS",
                                    "2": "NULL",
                                    "3": "2007",
                                    "4": "July",
                                    "5": "HB"
                                },
                                {
                                    "0": "948",
                                    "1": "FRONT BRAKES",
                                    "2": "317.00",
                                    "3": "2007",
                                    "4": "July",
                                    "5": "FB"
                                },
                                {
                                    "0": "949",
                                    "1": "LL CRANKSET",
                                    "2": "600.00",
                                    "3": "2007",
                                    "4": "July",
                                    "5": "CS"
                                },
                                {
                                    "0": "950",
                                    "1": "ML CRANKSET",
                                    "2": "635.00",
                                    "3": "2007",
                                    "4": "July",
                                    "5": "CS"
                                },
                                {
                                    "0": "951",
                                    "1": "HL CRANKSET",
                                    "2": "575.00",
                                    "3": "2007",
                                    "4": "July",
                                    "5": "CS"
                                },
                                {
                                    "0": "952",
                                    "1": "CHAIN",
                                    "2": "NULL",
                                    "3": "2007",
                                    "4": "July",
                                    "5": "CH"
                                },
                                {
                                    "0": "953",
                                    "1": "TOURING-2000 BLUE, 60",
                                    "2": "12655.00",
                                    "3": "2007",
                                    "4": "July",
                                    "5": "BK"
                                },
                                {
                                    "0": "954",
                                    "1": "TOURING-1000 YELLOW, 46",
                                    "2": "11399.00",
                                    "3": "2007",
                                    "4": "July",
                                    "5": "BK"
                                },
                                {
                                    "0": "955",
                                    "1": "TOURING-1000 YELLOW, 50",
                                    "2": "11530.00",
                                    "3": "2007",
                                    "4": "July",
                                    "5": "BK"
                                },
                                {
                                    "0": "956",
                                    "1": "TOURING-1000 YELLOW, 54",
                                    "2": "11648.00",
                                    "3": "2007",
                                    "4": "July",
                                    "5": "BK"
                                },
                                {
                                    "0": "957",
                                    "1": "TOURING-1000 YELLOW, 60",
                                    "2": "11748.00",
                                    "3": "2007",
                                    "4": "July",
                                    "5": "BK"
                                },
                                {
                                    "0": "958",
                                    "1": "TOURING-3000 BLUE, 54",
                                    "2": "13463.00",
                                    "3": "2007",
                                    "4": "July",
                                    "5": "BK"
                                },
                                {
                                    "0": "959",
                                    "1": "TOURING-3000 BLUE, 58",
                                    "2": "13562.00",
                                    "3": "2007",
                                    "4": "July",
                                    "5": "BK"
                                },
                                {
                                    "0": "960",
                                    "1": "TOURING-3000 BLUE, 62",
                                    "2": "13608.00",
                                    "3": "2007",
                                    "4": "July",
                                    "5": "BK"
                                },
                                {
                                    "0": "961",
                                    "1": "TOURING-3000 YELLOW, 44",
                                    "2": "13050.00",
                                    "3": "2007",
                                    "4": "July",
                                    "5": "BK"
                                },
                                {
                                    "0": "962",
                                    "1": "TOURING-3000 YELLOW, 50",
                                    "2": "13213.00",
                                    "3": "2007",
                                    "4": "July",
                                    "5": "BK"
                                },
                                {
                                    "0": "963",
                                    "1": "TOURING-3000 YELLOW, 54",
                                    "2": "13345.00",
                                    "3": "2007",
                                    "4": "July",
                                    "5": "BK"
                                },
                                {
                                    "0": "964",
                                    "1": "TOURING-3000 YELLOW, 58",
                                    "2": "13512.00",
                                    "3": "2007",
                                    "4": "July",
                                    "5": "BK"
                                },
                                {
                                    "0": "965",
                                    "1": "TOURING-3000 YELLOW, 62",
                                    "2": "13608.00",
                                    "3": "2007",
                                    "4": "July",
                                    "5": "BK"
                                },
                                {
                                    "0": "966",
                                    "1": "TOURING-1000 BLUE, 46",
                                    "2": "11399.00",
                                    "3": "2007",
                                    "4": "July",
                                    "5": "BK"
                                },
                                {
                                    "0": "967",
                                    "1": "TOURING-1000 BLUE, 50",
                                    "2": "11530.00",
                                    "3": "2007",
                                    "4": "July",
                                    "5": "BK"
                                },
                                {
                                    "0": "968",
                                    "1": "TOURING-1000 BLUE, 54",
                                    "2": "11648.00",
                                    "3": "2007",
                                    "4": "July",
                                    "5": "BK"
                                },
                                {
                                    "0": "969",
                                    "1": "TOURING-1000 BLUE, 60",
                                    "2": "11748.00",
                                    "3": "2007",
                                    "4": "July",
                                    "5": "BK"
                                },
                                {
                                    "0": "970",
                                    "1": "TOURING-2000 BLUE, 46",
                                    "2": "12306.00",
                                    "3": "2007",
                                    "4": "July",
                                    "5": "BK"
                                },
                                {
                                    "0": "971",
                                    "1": "TOURING-2000 BLUE, 50",
                                    "2": "12437.00",
                                    "3": "2007",
                                    "4": "July",
                                    "5": "BK"
                                },
                                {
                                    "0": "972",
                                    "1": "TOURING-2000 BLUE, 54",
                                    "2": "12555.00",
                                    "3": "2007",
                                    "4": "July",
                                    "5": "BK"
                                },
                                {
                                    "0": "973",
                                    "1": "ROAD-350-W YELLOW, 40",
                                    "2": "6963.00",
                                    "3": "2007",
                                    "4": "July",
                                    "5": "BK"
                                },
                                {
                                    "0": "974",
                                    "1": "ROAD-350-W YELLOW, 42",
                                    "2": "7153.00",
                                    "3": "2007",
                                    "4": "July",
                                    "5": "BK"
                                },
                                {
                                    "0": "975",
                                    "1": "ROAD-350-W YELLOW, 44",
                                    "2": "7316.00",
                                    "3": "2007",
                                    "4": "July",
                                    "5": "BK"
                                },
                                {
                                    "0": "976",
                                    "1": "ROAD-350-W YELLOW, 48",
                                    "2": "7448.00",
                                    "3": "2007",
                                    "4": "July",
                                    "5": "BK"
                                },
                                {
                                    "0": "977",
                                    "1": "ROAD-750 BLACK, 58",
                                    "2": "9430.00",
                                    "3": "2007",
                                    "4": "July",
                                    "5": "BK"
                                },
                                {
                                    "0": "978",
                                    "1": "TOURING-3000 BLUE, 44",
                                    "2": "13050.00",
                                    "3": "2007",
                                    "4": "July",
                                    "5": "BK"
                                },
                                {
                                    "0": "979",
                                    "1": "TOURING-3000 BLUE, 50",
                                    "2": "13213.00",
                                    "3": "2007",
                                    "4": "July",
                                    "5": "BK"
                                },
                                {
                                    "0": "980",
                                    "1": "MOUNTAIN-400-W SILVER, 38",
                                    "2": "11952.00",
                                    "3": "2007",
                                    "4": "July",
                                    "5": "BK"
                                },
                                {
                                    "0": "981",
                                    "1": "MOUNTAIN-400-W SILVER, 40",
                                    "2": "12143.00",
                                    "3": "2007",
                                    "4": "July",
                                    "5": "BK"
                                },
                                {
                                    "0": "982",
                                    "1": "MOUNTAIN-400-W SILVER, 42",
                                    "2": "12306.00",
                                    "3": "2007",
                                    "4": "July",
                                    "5": "BK"
                                },
                                {
                                    "0": "983",
                                    "1": "MOUNTAIN-400-W SILVER, 46",
                                    "2": "12437.00",
                                    "3": "2007",
                                    "4": "July",
                                    "5": "BK"
                                },
                                {
                                    "0": "984",
                                    "1": "MOUNTAIN-500 SILVER, 40",
                                    "2": "12406.00",
                                    "3": "2007",
                                    "4": "July",
                                    "5": "BK"
                                },
                                {
                                    "0": "985",
                                    "1": "MOUNTAIN-500 SILVER, 42",
                                    "2": "12596.00",
                                    "3": "2007",
                                    "4": "July",
                                    "5": "BK"
                                },
                                {
                                    "0": "986",
                                    "1": "MOUNTAIN-500 SILVER, 44",
                                    "2": "12759.00",
                                    "3": "2007",
                                    "4": "July",
                                    "5": "BK"
                                },
                                {
                                    "0": "987",
                                    "1": "MOUNTAIN-500 SILVER, 48",
                                    "2": "12891.00",
                                    "3": "2007",
                                    "4": "July",
                                    "5": "BK"
                                },
                                {
                                    "0": "988",
                                    "1": "MOUNTAIN-500 SILVER, 52",
                                    "2": "13009.00",
                                    "3": "2007",
                                    "4": "July",
                                    "5": "BK"
                                },
                                {
                                    "0": "989",
                                    "1": "MOUNTAIN-500 BLACK, 40",
                                    "2": "12406.00",
                                    "3": "2007",
                                    "4": "July",
                                    "5": "BK"
                                },
                                {
                                    "0": "990",
                                    "1": "MOUNTAIN-500 BLACK, 42",
                                    "2": "12596.00",
                                    "3": "2007",
                                    "4": "July",
                                    "5": "BK"
                                },
                                {
                                    "0": "991",
                                    "1": "MOUNTAIN-500 BLACK, 44",
                                    "2": "12759.00",
                                    "3": "2007",
                                    "4": "July",
                                    "5": "BK"
                                },
                                {
                                    "0": "992",
                                    "1": "MOUNTAIN-500 BLACK, 48",
                                    "2": "12891.00",
                                    "3": "2007",
                                    "4": "July",
                                    "5": "BK"
                                },
                                {
                                    "0": "993",
                                    "1": "MOUNTAIN-500 BLACK, 52",
                                    "2": "13009.00",
                                    "3": "2007",
                                    "4": "July",
                                    "5": "BK"
                                },
                                {
                                    "0": "994",
                                    "1": "LL BOTTOM BRACKET",
                                    "2": "223.00",
                                    "3": "2007",
                                    "4": "July",
                                    "5": "BB"
                                },
                                {
                                    "0": "995",
                                    "1": "ML BOTTOM BRACKET",
                                    "2": "168.00",
                                    "3": "2007",
                                    "4": "July",
                                    "5": "BB"
                                },
                                {
                                    "0": "996",
                                    "1": "HL BOTTOM BRACKET",
                                    "2": "170.00",
                                    "3": "2007",
                                    "4": "July",
                                    "5": "BB"
                                },
                                {
                                    "0": "997",
                                    "1": "ROAD-750 BLACK, 44",
                                    "2": "8967.00",
                                    "3": "2007",
                                    "4": "July",
                                    "5": "BK"
                                },
                                {
                                    "0": "998",
                                    "1": "ROAD-750 BLACK, 48",
                                    "2": "9131.00",
                                    "3": "2007",
                                    "4": "July",
                                    "5": "BK"
                                },
                                {
                                    "0": "999",
                                    "1": "ROAD-750 BLACK, 52",
                                    "2": "9262.00",
                                    "3": "2007",
                                    "4": "July",
                                    "5": "BK"
                                },
                                {
                                    "0": "1000",
                                    "1": "LED LIGHTS",
                                    "2": "NULL",
                                    "3": "2021",
                                    "4": "October",
                                    "5": "LT"
                                },
                                {
                                    "0": "1001",
                                    "1": "LED LIGHTSX",
                                    "2": "NULL",
                                    "3": "2021",
                                    "4": "October",
                                    "5": "LT"
                                },
                                {
                                    "0": "1002",
                                    "1": "LED LIGHTS2",
                                    "2": "NULL",
                                    "3": "2021",
                                    "4": "October",
                                    "5": "LT"
                                },
                                {
                                    "0": "1005",
                                    "1": "BICYCLE BELL10",
                                    "2": "NULL",
                                    "3": "2021",
                                    "4": "October",
                                    "5": "BB"
                                }
                            ]
                        },
                        "text/html": [
                            "<table>",
                            "<tr><th>ProductID</th><th>ProductName</th><th>ApproxWeight</th><th>SellStartYear</th><th>SellStartMonth</th><th>ProductType</th></tr>",
                            "<tr><td>680</td><td>HL ROAD FRAME - BLACK, 58</td><td>1016.00</td><td>2002</td><td>June</td><td>FR</td></tr>",
                            "<tr><td>706</td><td>HL ROAD FRAME - RED, 58</td><td>1016.00</td><td>2002</td><td>June</td><td>FR</td></tr>",
                            "<tr><td>707</td><td>SPORT-100 HELMET, RED</td><td>NULL</td><td>2005</td><td>July</td><td>HL</td></tr>",
                            "<tr><td>708</td><td>SPORT-100 HELMET, BLACK</td><td>NULL</td><td>2005</td><td>July</td><td>HL</td></tr>",
                            "<tr><td>709</td><td>MOUNTAIN BIKE SOCKS, M</td><td>NULL</td><td>2005</td><td>July</td><td>SO</td></tr>",
                            "<tr><td>710</td><td>MOUNTAIN BIKE SOCKS, L</td><td>NULL</td><td>2005</td><td>July</td><td>SO</td></tr>",
                            "<tr><td>711</td><td>SPORT-100 HELMET, BLUE</td><td>NULL</td><td>2005</td><td>July</td><td>HL</td></tr>",
                            "<tr><td>712</td><td>AWC LOGO CAP</td><td>NULL</td><td>2005</td><td>July</td><td>CA</td></tr>",
                            "<tr><td>713</td><td>LONG-SLEEVE LOGO JERSEY, S</td><td>NULL</td><td>2005</td><td>July</td><td>LJ</td></tr>",
                            "<tr><td>714</td><td>LONG-SLEEVE LOGO JERSEY, M</td><td>NULL</td><td>2005</td><td>July</td><td>LJ</td></tr>",
                            "<tr><td>715</td><td>LONG-SLEEVE LOGO JERSEY, L</td><td>NULL</td><td>2005</td><td>July</td><td>LJ</td></tr>",
                            "<tr><td>716</td><td>LONG-SLEEVE LOGO JERSEY, XL</td><td>NULL</td><td>2005</td><td>July</td><td>LJ</td></tr>",
                            "<tr><td>717</td><td>HL ROAD FRAME - RED, 62</td><td>1043.00</td><td>2005</td><td>July</td><td>FR</td></tr>",
                            "<tr><td>718</td><td>HL ROAD FRAME - RED, 44</td><td>962.00</td><td>2005</td><td>July</td><td>FR</td></tr>",
                            "<tr><td>719</td><td>HL ROAD FRAME - RED, 48</td><td>980.00</td><td>2005</td><td>July</td><td>FR</td></tr>",
                            "<tr><td>720</td><td>HL ROAD FRAME - RED, 52</td><td>998.00</td><td>2005</td><td>July</td><td>FR</td></tr>",
                            "<tr><td>721</td><td>HL ROAD FRAME - RED, 56</td><td>1016.00</td><td>2005</td><td>July</td><td>FR</td></tr>",
                            "<tr><td>722</td><td>LL ROAD FRAME - BLACK, 58</td><td>1116.00</td><td>2005</td><td>July</td><td>FR</td></tr>",
                            "<tr><td>723</td><td>LL ROAD FRAME - BLACK, 60</td><td>1125.00</td><td>2005</td><td>July</td><td>FR</td></tr>",
                            "<tr><td>724</td><td>LL ROAD FRAME - BLACK, 62</td><td>1134.00</td><td>2005</td><td>July</td><td>FR</td></tr>",
                            "<tr><td>725</td><td>LL ROAD FRAME - RED, 44</td><td>1052.00</td><td>2005</td><td>July</td><td>FR</td></tr>",
                            "<tr><td>726</td><td>LL ROAD FRAME - RED, 48</td><td>1070.00</td><td>2005</td><td>July</td><td>FR</td></tr>",
                            "<tr><td>727</td><td>LL ROAD FRAME - RED, 52</td><td>1089.00</td><td>2005</td><td>July</td><td>FR</td></tr>",
                            "<tr><td>728</td><td>LL ROAD FRAME - RED, 58</td><td>1116.00</td><td>2005</td><td>July</td><td>FR</td></tr>",
                            "<tr><td>729</td><td>LL ROAD FRAME - RED, 60</td><td>1125.00</td><td>2005</td><td>July</td><td>FR</td></tr>",
                            "<tr><td>730</td><td>LL ROAD FRAME - RED, 62</td><td>1134.00</td><td>2005</td><td>July</td><td>FR</td></tr>",
                            "<tr><td>731</td><td>ML ROAD FRAME - RED, 44</td><td>1007.00</td><td>2005</td><td>July</td><td>FR</td></tr>",
                            "<tr><td>732</td><td>ML ROAD FRAME - RED, 48</td><td>1025.00</td><td>2005</td><td>July</td><td>FR</td></tr>",
                            "<tr><td>733</td><td>ML ROAD FRAME - RED, 52</td><td>1043.00</td><td>2005</td><td>July</td><td>FR</td></tr>",
                            "<tr><td>734</td><td>ML ROAD FRAME - RED, 58</td><td>1070.00</td><td>2005</td><td>July</td><td>FR</td></tr>",
                            "<tr><td>735</td><td>ML ROAD FRAME - RED, 60</td><td>1080.00</td><td>2005</td><td>July</td><td>FR</td></tr>",
                            "<tr><td>736</td><td>LL ROAD FRAME - BLACK, 44</td><td>1052.00</td><td>2005</td><td>July</td><td>FR</td></tr>",
                            "<tr><td>737</td><td>LL ROAD FRAME - BLACK, 48</td><td>1070.00</td><td>2005</td><td>July</td><td>FR</td></tr>",
                            "<tr><td>738</td><td>LL ROAD FRAME - BLACK, 52</td><td>1089.00</td><td>2005</td><td>July</td><td>FR</td></tr>",
                            "<tr><td>739</td><td>HL MOUNTAIN FRAME - SILVER, 42</td><td>1234.00</td><td>2005</td><td>July</td><td>FR</td></tr>",
                            "<tr><td>740</td><td>HL MOUNTAIN FRAME - SILVER, 44</td><td>1252.00</td><td>2005</td><td>July</td><td>FR</td></tr>",
                            "<tr><td>741</td><td>HL MOUNTAIN FRAME - SILVER, 48</td><td>1270.00</td><td>2005</td><td>July</td><td>FR</td></tr>",
                            "<tr><td>742</td><td>HL MOUNTAIN FRAME - SILVER, 46</td><td>1288.00</td><td>2005</td><td>July</td><td>FR</td></tr>",
                            "<tr><td>743</td><td>HL MOUNTAIN FRAME - BLACK, 42</td><td>1234.00</td><td>2005</td><td>July</td><td>FR</td></tr>",
                            "<tr><td>744</td><td>HL MOUNTAIN FRAME - BLACK, 44</td><td>1252.00</td><td>2005</td><td>July</td><td>FR</td></tr>",
                            "<tr><td>745</td><td>HL MOUNTAIN FRAME - BLACK, 48</td><td>1270.00</td><td>2005</td><td>July</td><td>FR</td></tr>",
                            "<tr><td>746</td><td>HL MOUNTAIN FRAME - BLACK, 46</td><td>1288.00</td><td>2005</td><td>July</td><td>FR</td></tr>",
                            "<tr><td>747</td><td>HL MOUNTAIN FRAME - BLACK, 38</td><td>1216.00</td><td>2005</td><td>July</td><td>FR</td></tr>",
                            "<tr><td>748</td><td>HL MOUNTAIN FRAME - SILVER, 38</td><td>1216.00</td><td>2005</td><td>July</td><td>FR</td></tr>",
                            "<tr><td>749</td><td>ROAD-150 RED, 62</td><td>6804.00</td><td>2005</td><td>July</td><td>BK</td></tr>",
                            "<tr><td>750</td><td>ROAD-150 RED, 44</td><td>6246.00</td><td>2005</td><td>July</td><td>BK</td></tr>",
                            "<tr><td>751</td><td>ROAD-150 RED, 48</td><td>6409.00</td><td>2005</td><td>July</td><td>BK</td></tr>",
                            "<tr><td>752</td><td>ROAD-150 RED, 52</td><td>6541.00</td><td>2005</td><td>July</td><td>BK</td></tr>",
                            "<tr><td>753</td><td>ROAD-150 RED, 56</td><td>6659.00</td><td>2005</td><td>July</td><td>BK</td></tr>",
                            "<tr><td>754</td><td>ROAD-450 RED, 58</td><td>8069.00</td><td>2005</td><td>July</td><td>BK</td></tr>",
                            "<tr><td>755</td><td>ROAD-450 RED, 60</td><td>8119.00</td><td>2005</td><td>July</td><td>BK</td></tr>",
                            "<tr><td>756</td><td>ROAD-450 RED, 44</td><td>7607.00</td><td>2005</td><td>July</td><td>BK</td></tr>",
                            "<tr><td>757</td><td>ROAD-450 RED, 48</td><td>7770.00</td><td>2005</td><td>July</td><td>BK</td></tr>",
                            "<tr><td>758</td><td>ROAD-450 RED, 52</td><td>7902.00</td><td>2005</td><td>July</td><td>BK</td></tr>",
                            "<tr><td>759</td><td>ROAD-650 RED, 58</td><td>8977.00</td><td>2005</td><td>July</td><td>BK</td></tr>",
                            "<tr><td>760</td><td>ROAD-650 RED, 60</td><td>9026.00</td><td>2005</td><td>July</td><td>BK</td></tr>",
                            "<tr><td>761</td><td>ROAD-650 RED, 62</td><td>9072.00</td><td>2005</td><td>July</td><td>BK</td></tr>",
                            "<tr><td>762</td><td>ROAD-650 RED, 44</td><td>8514.00</td><td>2005</td><td>July</td><td>BK</td></tr>",
                            "<tr><td>763</td><td>ROAD-650 RED, 48</td><td>8677.00</td><td>2005</td><td>July</td><td>BK</td></tr>",
                            "<tr><td>764</td><td>ROAD-650 RED, 52</td><td>8809.00</td><td>2005</td><td>July</td><td>BK</td></tr>",
                            "<tr><td>765</td><td>ROAD-650 BLACK, 58</td><td>8977.00</td><td>2005</td><td>July</td><td>BK</td></tr>",
                            "<tr><td>766</td><td>ROAD-650 BLACK, 60</td><td>9026.00</td><td>2005</td><td>July</td><td>BK</td></tr>",
                            "<tr><td>767</td><td>ROAD-650 BLACK, 62</td><td>9072.00</td><td>2005</td><td>July</td><td>BK</td></tr>",
                            "<tr><td>768</td><td>ROAD-650 BLACK, 44</td><td>8514.00</td><td>2005</td><td>July</td><td>BK</td></tr>",
                            "<tr><td>769</td><td>ROAD-650 BLACK, 48</td><td>8677.00</td><td>2005</td><td>July</td><td>BK</td></tr>",
                            "<tr><td>770</td><td>ROAD-650 BLACK, 52</td><td>8809.00</td><td>2005</td><td>July</td><td>BK</td></tr>",
                            "<tr><td>771</td><td>MOUNTAIN-100 SILVER, 38</td><td>9231.00</td><td>2005</td><td>July</td><td>BK</td></tr>",
                            "<tr><td>772</td><td>MOUNTAIN-100 SILVER, 42</td><td>9421.00</td><td>2005</td><td>July</td><td>BK</td></tr>",
                            "<tr><td>773</td><td>MOUNTAIN-100 SILVER, 44</td><td>9584.00</td><td>2005</td><td>July</td><td>BK</td></tr>",
                            "<tr><td>774</td><td>MOUNTAIN-100 SILVER, 48</td><td>9716.00</td><td>2005</td><td>July</td><td>BK</td></tr>",
                            "<tr><td>775</td><td>MOUNTAIN-100 BLACK, 38</td><td>9231.00</td><td>2005</td><td>July</td><td>BK</td></tr>",
                            "<tr><td>776</td><td>MOUNTAIN-100 BLACK, 42</td><td>9421.00</td><td>2005</td><td>July</td><td>BK</td></tr>",
                            "<tr><td>777</td><td>MOUNTAIN-100 BLACK, 44</td><td>9584.00</td><td>2005</td><td>July</td><td>BK</td></tr>",
                            "<tr><td>778</td><td>MOUNTAIN-100 BLACK, 48</td><td>9716.00</td><td>2005</td><td>July</td><td>BK</td></tr>",
                            "<tr><td>779</td><td>MOUNTAIN-200 SILVER, 38</td><td>10591.00</td><td>2006</td><td>July</td><td>BK</td></tr>",
                            "<tr><td>780</td><td>MOUNTAIN-200 SILVER, 42</td><td>10782.00</td><td>2006</td><td>July</td><td>BK</td></tr>",
                            "<tr><td>781</td><td>MOUNTAIN-200 SILVER, 46</td><td>10945.00</td><td>2006</td><td>July</td><td>BK</td></tr>",
                            "<tr><td>782</td><td>MOUNTAIN-200 BLACK, 38</td><td>10591.00</td><td>2006</td><td>July</td><td>BK</td></tr>",
                            "<tr><td>783</td><td>MOUNTAIN-200 BLACK, 42</td><td>10782.00</td><td>2006</td><td>July</td><td>BK</td></tr>",
                            "<tr><td>784</td><td>MOUNTAIN-200 BLACK, 46</td><td>10945.00</td><td>2006</td><td>July</td><td>BK</td></tr>",
                            "<tr><td>785</td><td>MOUNTAIN-300 BLACK, 38</td><td>11499.00</td><td>2006</td><td>July</td><td>BK</td></tr>",
                            "<tr><td>786</td><td>MOUNTAIN-300 BLACK, 40</td><td>11689.00</td><td>2006</td><td>July</td><td>BK</td></tr>",
                            "<tr><td>787</td><td>MOUNTAIN-300 BLACK, 44</td><td>11852.00</td><td>2006</td><td>July</td><td>BK</td></tr>",
                            "<tr><td>788</td><td>MOUNTAIN-300 BLACK, 48</td><td>11984.00</td><td>2006</td><td>July</td><td>BK</td></tr>",
                            "<tr><td>789</td><td>ROAD-250 RED, 44</td><td>6700.00</td><td>2006</td><td>July</td><td>BK</td></tr>",
                            "<tr><td>790</td><td>ROAD-250 RED, 48</td><td>6863.00</td><td>2006</td><td>July</td><td>BK</td></tr>",
                            "<tr><td>791</td><td>ROAD-250 RED, 52</td><td>6994.00</td><td>2006</td><td>July</td><td>BK</td></tr>",
                            "<tr><td>792</td><td>ROAD-250 RED, 58</td><td>7162.00</td><td>2006</td><td>July</td><td>BK</td></tr>",
                            "<tr><td>793</td><td>ROAD-250 BLACK, 44</td><td>6700.00</td><td>2006</td><td>July</td><td>BK</td></tr>",
                            "<tr><td>794</td><td>ROAD-250 BLACK, 48</td><td>6863.00</td><td>2006</td><td>July</td><td>BK</td></tr>",
                            "<tr><td>795</td><td>ROAD-250 BLACK, 52</td><td>6994.00</td><td>2006</td><td>July</td><td>BK</td></tr>",
                            "<tr><td>796</td><td>ROAD-250 BLACK, 58</td><td>7112.00</td><td>2006</td><td>July</td><td>BK</td></tr>",
                            "<tr><td>797</td><td>ROAD-550-W YELLOW, 38</td><td>7870.00</td><td>2006</td><td>July</td><td>BK</td></tr>",
                            "<tr><td>798</td><td>ROAD-550-W YELLOW, 40</td><td>8060.00</td><td>2006</td><td>July</td><td>BK</td></tr>",
                            "<tr><td>799</td><td>ROAD-550-W YELLOW, 42</td><td>8224.00</td><td>2006</td><td>July</td><td>BK</td></tr>",
                            "<tr><td>800</td><td>ROAD-550-W YELLOW, 44</td><td>8355.00</td><td>2006</td><td>July</td><td>BK</td></tr>",
                            "<tr><td>801</td><td>ROAD-550-W YELLOW, 48</td><td>8473.00</td><td>2006</td><td>July</td><td>BK</td></tr>",
                            "<tr><td>802</td><td>LL FORK</td><td>NULL</td><td>2006</td><td>July</td><td>FK</td></tr>",
                            "<tr><td>803</td><td>ML FORK</td><td>NULL</td><td>2006</td><td>July</td><td>FK</td></tr>",
                            "<tr><td>804</td><td>HL FORK</td><td>NULL</td><td>2006</td><td>July</td><td>FK</td></tr>",
                            "<tr><td>805</td><td>LL HEADSET</td><td>NULL</td><td>2006</td><td>July</td><td>HS</td></tr>",
                            "<tr><td>806</td><td>ML HEADSET</td><td>NULL</td><td>2006</td><td>July</td><td>HS</td></tr>",
                            "<tr><td>807</td><td>HL HEADSET</td><td>NULL</td><td>2006</td><td>July</td><td>HS</td></tr>",
                            "<tr><td>808</td><td>LL MOUNTAIN HANDLEBARS</td><td>NULL</td><td>2006</td><td>July</td><td>HB</td></tr>",
                            "<tr><td>809</td><td>ML MOUNTAIN HANDLEBARS</td><td>NULL</td><td>2006</td><td>July</td><td>HB</td></tr>",
                            "<tr><td>810</td><td>HL MOUNTAIN HANDLEBARS</td><td>NULL</td><td>2006</td><td>July</td><td>HB</td></tr>",
                            "<tr><td>811</td><td>LL ROAD HANDLEBARS</td><td>NULL</td><td>2006</td><td>July</td><td>HB</td></tr>",
                            "<tr><td>812</td><td>ML ROAD HANDLEBARS</td><td>NULL</td><td>2006</td><td>July</td><td>HB</td></tr>",
                            "<tr><td>813</td><td>HL ROAD HANDLEBARS</td><td>NULL</td><td>2006</td><td>July</td><td>HB</td></tr>",
                            "<tr><td>814</td><td>ML MOUNTAIN FRAME - BLACK, 38</td><td>1238.00</td><td>2006</td><td>July</td><td>FR</td></tr>",
                            "<tr><td>815</td><td>LL MOUNTAIN FRONT WHEEL</td><td>NULL</td><td>2006</td><td>July</td><td>FW</td></tr>",
                            "<tr><td>816</td><td>ML MOUNTAIN FRONT WHEEL</td><td>NULL</td><td>2006</td><td>July</td><td>FW</td></tr>",
                            "<tr><td>817</td><td>HL MOUNTAIN FRONT WHEEL</td><td>NULL</td><td>2006</td><td>July</td><td>FW</td></tr>",
                            "<tr><td>818</td><td>LL ROAD FRONT WHEEL</td><td>900.00</td><td>2006</td><td>July</td><td>FW</td></tr>",
                            "<tr><td>819</td><td>ML ROAD FRONT WHEEL</td><td>850.00</td><td>2006</td><td>July</td><td>FW</td></tr>",
                            "<tr><td>820</td><td>HL ROAD FRONT WHEEL</td><td>650.00</td><td>2006</td><td>July</td><td>FW</td></tr>",
                            "<tr><td>821</td><td>TOURING FRONT WHEEL</td><td>NULL</td><td>2006</td><td>July</td><td>FW</td></tr>",
                            "<tr><td>822</td><td>ML ROAD FRAME-W - YELLOW, 38</td><td>989.00</td><td>2006</td><td>July</td><td>FR</td></tr>",
                            "<tr><td>823</td><td>LL MOUNTAIN REAR WHEEL</td><td>NULL</td><td>2006</td><td>July</td><td>RW</td></tr>",
                            "<tr><td>824</td><td>ML MOUNTAIN REAR WHEEL</td><td>NULL</td><td>2006</td><td>July</td><td>RW</td></tr>",
                            "<tr><td>825</td><td>HL MOUNTAIN REAR WHEEL</td><td>NULL</td><td>2006</td><td>July</td><td>RW</td></tr>",
                            "<tr><td>826</td><td>LL ROAD REAR WHEEL</td><td>1050.00</td><td>2006</td><td>July</td><td>RW</td></tr>",
                            "<tr><td>827</td><td>ML ROAD REAR WHEEL</td><td>1000.00</td><td>2006</td><td>July</td><td>RW</td></tr>",
                            "<tr><td>828</td><td>HL ROAD REAR WHEEL</td><td>890.00</td><td>2006</td><td>July</td><td>RW</td></tr>",
                            "<tr><td>829</td><td>TOURING REAR WHEEL</td><td>NULL</td><td>2006</td><td>July</td><td>RW</td></tr>",
                            "<tr><td>830</td><td>ML MOUNTAIN FRAME - BLACK, 40</td><td>1256.00</td><td>2006</td><td>July</td><td>FR</td></tr>",
                            "<tr><td>831</td><td>ML MOUNTAIN FRAME - BLACK, 44</td><td>1275.00</td><td>2006</td><td>July</td><td>FR</td></tr>",
                            "<tr><td>832</td><td>ML MOUNTAIN FRAME - BLACK, 48</td><td>1293.00</td><td>2006</td><td>July</td><td>FR</td></tr>",
                            "<tr><td>833</td><td>ML ROAD FRAME-W - YELLOW, 40</td><td>1007.00</td><td>2006</td><td>July</td><td>FR</td></tr>",
                            "<tr><td>834</td><td>ML ROAD FRAME-W - YELLOW, 42</td><td>1025.00</td><td>2006</td><td>July</td><td>FR</td></tr>",
                            "<tr><td>835</td><td>ML ROAD FRAME-W - YELLOW, 44</td><td>1043.00</td><td>2006</td><td>July</td><td>FR</td></tr>",
                            "<tr><td>836</td><td>ML ROAD FRAME-W - YELLOW, 48</td><td>1061.00</td><td>2006</td><td>July</td><td>FR</td></tr>",
                            "<tr><td>837</td><td>HL ROAD FRAME - BLACK, 62</td><td>1043.00</td><td>2006</td><td>July</td><td>FR</td></tr>",
                            "<tr><td>838</td><td>HL ROAD FRAME - BLACK, 44</td><td>962.00</td><td>2006</td><td>July</td><td>FR</td></tr>",
                            "<tr><td>839</td><td>HL ROAD FRAME - BLACK, 48</td><td>980.00</td><td>2006</td><td>July</td><td>FR</td></tr>",
                            "<tr><td>840</td><td>HL ROAD FRAME - BLACK, 52</td><td>998.00</td><td>2006</td><td>July</td><td>FR</td></tr>",
                            "<tr><td>841</td><td>MEN'S SPORTS SHORTS, S</td><td>NULL</td><td>2006</td><td>July</td><td>SH</td></tr>",
                            "<tr><td>842</td><td>TOURING-PANNIERS, LARGE</td><td>NULL</td><td>2006</td><td>July</td><td>PA</td></tr>",
                            "<tr><td>843</td><td>CABLE LOCK</td><td>NULL</td><td>2006</td><td>July</td><td>LO</td></tr>",
                            "<tr><td>844</td><td>MINIPUMP</td><td>NULL</td><td>2006</td><td>July</td><td>PU</td></tr>",
                            "<tr><td>845</td><td>MOUNTAIN PUMP</td><td>NULL</td><td>2006</td><td>July</td><td>PU</td></tr>",
                            "<tr><td>846</td><td>TAILLIGHTS - BATTERY-POWERED</td><td>NULL</td><td>2006</td><td>July</td><td>LT</td></tr>",
                            "<tr><td>847</td><td>HEADLIGHTS - DUAL-BEAM</td><td>NULL</td><td>2006</td><td>July</td><td>LT</td></tr>",
                            "<tr><td>848</td><td>HEADLIGHTS - WEATHERPROOF</td><td>NULL</td><td>2006</td><td>July</td><td>LT</td></tr>",
                            "<tr><td>849</td><td>MEN'S SPORTS SHORTS, M</td><td>NULL</td><td>2006</td><td>July</td><td>SH</td></tr>",
                            "<tr><td>850</td><td>MEN'S SPORTS SHORTS, L</td><td>NULL</td><td>2006</td><td>July</td><td>SH</td></tr>",
                            "<tr><td>851</td><td>MEN'S SPORTS SHORTS, XL</td><td>NULL</td><td>2006</td><td>July</td><td>SH</td></tr>",
                            "<tr><td>852</td><td>WOMEN'S TIGHTS, S</td><td>NULL</td><td>2006</td><td>July</td><td>TG</td></tr>",
                            "<tr><td>853</td><td>WOMEN'S TIGHTS, M</td><td>NULL</td><td>2006</td><td>July</td><td>TG</td></tr>",
                            "<tr><td>854</td><td>WOMEN'S TIGHTS, L</td><td>NULL</td><td>2006</td><td>July</td><td>TG</td></tr>",
                            "<tr><td>855</td><td>MEN'S BIB-SHORTS, S</td><td>NULL</td><td>2006</td><td>July</td><td>SB</td></tr>",
                            "<tr><td>856</td><td>MEN'S BIB-SHORTS, M</td><td>NULL</td><td>2006</td><td>July</td><td>SB</td></tr>",
                            "<tr><td>857</td><td>MEN'S BIB-SHORTS, L</td><td>NULL</td><td>2006</td><td>July</td><td>SB</td></tr>",
                            "<tr><td>858</td><td>HALF-FINGER GLOVES, S</td><td>NULL</td><td>2006</td><td>July</td><td>GL</td></tr>",
                            "<tr><td>859</td><td>HALF-FINGER GLOVES, M</td><td>NULL</td><td>2006</td><td>July</td><td>GL</td></tr>",
                            "<tr><td>860</td><td>HALF-FINGER GLOVES, L</td><td>NULL</td><td>2006</td><td>July</td><td>GL</td></tr>",
                            "<tr><td>861</td><td>FULL-FINGER GLOVES, S</td><td>NULL</td><td>2006</td><td>July</td><td>GL</td></tr>",
                            "<tr><td>862</td><td>FULL-FINGER GLOVES, M</td><td>NULL</td><td>2006</td><td>July</td><td>GL</td></tr>",
                            "<tr><td>863</td><td>FULL-FINGER GLOVES, L</td><td>NULL</td><td>2006</td><td>July</td><td>GL</td></tr>",
                            "<tr><td>864</td><td>CLASSIC VEST, S</td><td>NULL</td><td>2007</td><td>July</td><td>VE</td></tr>",
                            "<tr><td>865</td><td>CLASSIC VEST, M</td><td>NULL</td><td>2007</td><td>July</td><td>VE</td></tr>",
                            "<tr><td>866</td><td>CLASSIC VEST, L</td><td>NULL</td><td>2007</td><td>July</td><td>VE</td></tr>",
                            "<tr><td>867</td><td>WOMEN'S MOUNTAIN SHORTS, S</td><td>NULL</td><td>2007</td><td>July</td><td>SH</td></tr>",
                            "<tr><td>868</td><td>WOMEN'S MOUNTAIN SHORTS, M</td><td>NULL</td><td>2007</td><td>July</td><td>SH</td></tr>",
                            "<tr><td>869</td><td>WOMEN'S MOUNTAIN SHORTS, L</td><td>NULL</td><td>2007</td><td>July</td><td>SH</td></tr>",
                            "<tr><td>870</td><td>WATER BOTTLE - 30 OZ.</td><td>NULL</td><td>2007</td><td>July</td><td>WB</td></tr>",
                            "<tr><td>871</td><td>MOUNTAIN BOTTLE CAGE</td><td>NULL</td><td>2007</td><td>July</td><td>BC</td></tr>",
                            "<tr><td>872</td><td>ROAD BOTTLE CAGE</td><td>NULL</td><td>2007</td><td>July</td><td>BC</td></tr>",
                            "<tr><td>873</td><td>PATCH KIT/8 PATCHES</td><td>NULL</td><td>2007</td><td>July</td><td>PK</td></tr>",
                            "<tr><td>874</td><td>RACING SOCKS, M</td><td>NULL</td><td>2007</td><td>July</td><td>SO</td></tr>",
                            "<tr><td>875</td><td>RACING SOCKS, L</td><td>NULL</td><td>2007</td><td>July</td><td>SO</td></tr>",
                            "<tr><td>876</td><td>HITCH RACK - 4-BIKE</td><td>NULL</td><td>2007</td><td>July</td><td>RA</td></tr>",
                            "<tr><td>877</td><td>BIKE WASH - DISSOLVER</td><td>NULL</td><td>2007</td><td>July</td><td>CL</td></tr>",
                            "<tr><td>878</td><td>FENDER SET - MOUNTAIN</td><td>NULL</td><td>2007</td><td>July</td><td>FE</td></tr>",
                            "<tr><td>879</td><td>ALL-PURPOSE BIKE STAND</td><td>NULL</td><td>2007</td><td>July</td><td>ST</td></tr>",
                            "<tr><td>880</td><td>HYDRATION PACK - 70 OZ.</td><td>NULL</td><td>2007</td><td>July</td><td>HY</td></tr>",
                            "<tr><td>881</td><td>SHORT-SLEEVE CLASSIC JERSEY, S</td><td>NULL</td><td>2007</td><td>July</td><td>SJ</td></tr>",
                            "<tr><td>882</td><td>SHORT-SLEEVE CLASSIC JERSEY, M</td><td>NULL</td><td>2007</td><td>July</td><td>SJ</td></tr>",
                            "<tr><td>883</td><td>SHORT-SLEEVE CLASSIC JERSEY, L</td><td>NULL</td><td>2007</td><td>July</td><td>SJ</td></tr>",
                            "<tr><td>884</td><td>SHORT-SLEEVE CLASSIC JERSEY, XL</td><td>NULL</td><td>2007</td><td>July</td><td>SJ</td></tr>",
                            "<tr><td>885</td><td>HL TOURING FRAME - YELLOW, 60</td><td>1397.00</td><td>2007</td><td>July</td><td>FR</td></tr>",
                            "<tr><td>886</td><td>LL TOURING FRAME - YELLOW, 62</td><td>1451.00</td><td>2007</td><td>July</td><td>FR</td></tr>",
                            "<tr><td>887</td><td>HL TOURING FRAME - YELLOW, 46</td><td>1343.00</td><td>2007</td><td>July</td><td>FR</td></tr>",
                            "<tr><td>888</td><td>HL TOURING FRAME - YELLOW, 50</td><td>1361.00</td><td>2007</td><td>July</td><td>FR</td></tr>",
                            "<tr><td>889</td><td>HL TOURING FRAME - YELLOW, 54</td><td>1379.00</td><td>2007</td><td>July</td><td>FR</td></tr>",
                            "<tr><td>890</td><td>HL TOURING FRAME - BLUE, 46</td><td>1343.00</td><td>2007</td><td>July</td><td>FR</td></tr>",
                            "<tr><td>891</td><td>HL TOURING FRAME - BLUE, 50</td><td>1361.00</td><td>2007</td><td>July</td><td>FR</td></tr>",
                            "<tr><td>892</td><td>HL TOURING FRAME - BLUE, 54</td><td>1379.00</td><td>2007</td><td>July</td><td>FR</td></tr>",
                            "<tr><td>893</td><td>HL TOURING FRAME - BLUE, 60</td><td>1397.00</td><td>2007</td><td>July</td><td>FR</td></tr>",
                            "<tr><td>894</td><td>REAR DERAILLEUR</td><td>215.00</td><td>2007</td><td>July</td><td>RD</td></tr>",
                            "<tr><td>895</td><td>LL TOURING FRAME - BLUE, 50</td><td>1406.00</td><td>2007</td><td>July</td><td>FR</td></tr>",
                            "<tr><td>896</td><td>LL TOURING FRAME - BLUE, 54</td><td>1424.00</td><td>2007</td><td>July</td><td>FR</td></tr>",
                            "<tr><td>897</td><td>LL TOURING FRAME - BLUE, 58</td><td>1433.00</td><td>2007</td><td>July</td><td>FR</td></tr>",
                            "<tr><td>898</td><td>LL TOURING FRAME - BLUE, 62</td><td>1451.00</td><td>2007</td><td>July</td><td>FR</td></tr>",
                            "<tr><td>899</td><td>LL TOURING FRAME - YELLOW, 44</td><td>1370.00</td><td>2007</td><td>July</td><td>FR</td></tr>",
                            "<tr><td>900</td><td>LL TOURING FRAME - YELLOW, 50</td><td>1406.00</td><td>2007</td><td>July</td><td>FR</td></tr>",
                            "<tr><td>901</td><td>LL TOURING FRAME - YELLOW, 54</td><td>1424.00</td><td>2007</td><td>July</td><td>FR</td></tr>",
                            "<tr><td>902</td><td>LL TOURING FRAME - YELLOW, 58</td><td>1433.00</td><td>2007</td><td>July</td><td>FR</td></tr>",
                            "<tr><td>903</td><td>LL TOURING FRAME - BLUE, 44</td><td>1370.00</td><td>2007</td><td>July</td><td>FR</td></tr>",
                            "<tr><td>904</td><td>ML MOUNTAIN FRAME-W - SILVER, 40</td><td>1256.00</td><td>2007</td><td>July</td><td>FR</td></tr>",
                            "<tr><td>905</td><td>ML MOUNTAIN FRAME-W - SILVER, 42</td><td>1275.00</td><td>2007</td><td>July</td><td>FR</td></tr>",
                            "<tr><td>906</td><td>ML MOUNTAIN FRAME-W - SILVER, 46</td><td>1293.00</td><td>2007</td><td>July</td><td>FR</td></tr>",
                            "<tr><td>907</td><td>REAR BRAKES</td><td>317.00</td><td>2007</td><td>July</td><td>RB</td></tr>",
                            "<tr><td>908</td><td>LL MOUNTAIN SEAT/SADDLE</td><td>NULL</td><td>2007</td><td>July</td><td>SE</td></tr>",
                            "<tr><td>909</td><td>ML MOUNTAIN SEAT/SADDLE</td><td>NULL</td><td>2007</td><td>July</td><td>SE</td></tr>",
                            "<tr><td>910</td><td>HL MOUNTAIN SEAT/SADDLE</td><td>NULL</td><td>2007</td><td>July</td><td>SE</td></tr>",
                            "<tr><td>911</td><td>LL ROAD SEAT/SADDLE</td><td>NULL</td><td>2007</td><td>July</td><td>SE</td></tr>",
                            "<tr><td>912</td><td>ML ROAD SEAT/SADDLE</td><td>NULL</td><td>2007</td><td>July</td><td>SE</td></tr>",
                            "<tr><td>913</td><td>HL ROAD SEAT/SADDLE</td><td>NULL</td><td>2007</td><td>July</td><td>SE</td></tr>",
                            "<tr><td>914</td><td>LL TOURING SEAT/SADDLE</td><td>NULL</td><td>2007</td><td>July</td><td>SE</td></tr>",
                            "<tr><td>915</td><td>ML TOURING SEAT/SADDLE</td><td>NULL</td><td>2007</td><td>July</td><td>SE</td></tr>",
                            "<tr><td>916</td><td>HL TOURING SEAT/SADDLE</td><td>NULL</td><td>2007</td><td>July</td><td>SE</td></tr>",
                            "<tr><td>917</td><td>LL MOUNTAIN FRAME - SILVER, 42</td><td>1324.00</td><td>2007</td><td>July</td><td>FR</td></tr>",
                            "<tr><td>918</td><td>LL MOUNTAIN FRAME - SILVER, 44</td><td>1343.00</td><td>2007</td><td>July</td><td>FR</td></tr>",
                            "<tr><td>919</td><td>LL MOUNTAIN FRAME - SILVER, 48</td><td>1361.00</td><td>2007</td><td>July</td><td>FR</td></tr>",
                            "<tr><td>920</td><td>LL MOUNTAIN FRAME - SILVER, 52</td><td>1379.00</td><td>2007</td><td>July</td><td>FR</td></tr>",
                            "<tr><td>921</td><td>MOUNTAIN TIRE TUBE</td><td>NULL</td><td>2007</td><td>July</td><td>TT</td></tr>",
                            "<tr><td>922</td><td>ROAD TIRE TUBE</td><td>NULL</td><td>2007</td><td>July</td><td>TT</td></tr>",
                            "<tr><td>923</td><td>TOURING TIRE TUBE</td><td>NULL</td><td>2007</td><td>July</td><td>TT</td></tr>",
                            "<tr><td>924</td><td>LL MOUNTAIN FRAME - BLACK, 42</td><td>1324.00</td><td>2007</td><td>July</td><td>FR</td></tr>",
                            "<tr><td>925</td><td>LL MOUNTAIN FRAME - BLACK, 44</td><td>1343.00</td><td>2007</td><td>July</td><td>FR</td></tr>",
                            "<tr><td>926</td><td>LL MOUNTAIN FRAME - BLACK, 48</td><td>1361.00</td><td>2007</td><td>July</td><td>FR</td></tr>",
                            "<tr><td>927</td><td>LL MOUNTAIN FRAME - BLACK, 52</td><td>1379.00</td><td>2007</td><td>July</td><td>FR</td></tr>",
                            "<tr><td>928</td><td>LL MOUNTAIN TIRE</td><td>NULL</td><td>2007</td><td>July</td><td>TI</td></tr>",
                            "<tr><td>929</td><td>ML MOUNTAIN TIRE</td><td>NULL</td><td>2007</td><td>July</td><td>TI</td></tr>",
                            "<tr><td>930</td><td>HL MOUNTAIN TIRE</td><td>NULL</td><td>2007</td><td>July</td><td>TI</td></tr>",
                            "<tr><td>931</td><td>LL ROAD TIRE</td><td>NULL</td><td>2007</td><td>July</td><td>TI</td></tr>",
                            "<tr><td>932</td><td>ML ROAD TIRE</td><td>NULL</td><td>2007</td><td>July</td><td>TI</td></tr>",
                            "<tr><td>933</td><td>HL ROAD TIRE</td><td>NULL</td><td>2007</td><td>July</td><td>TI</td></tr>",
                            "<tr><td>934</td><td>TOURING TIRE</td><td>NULL</td><td>2007</td><td>July</td><td>TI</td></tr>",
                            "<tr><td>935</td><td>LL MOUNTAIN PEDAL</td><td>218.00</td><td>2007</td><td>July</td><td>PD</td></tr>",
                            "<tr><td>936</td><td>ML MOUNTAIN PEDAL</td><td>215.00</td><td>2007</td><td>July</td><td>PD</td></tr>",
                            "<tr><td>937</td><td>HL MOUNTAIN PEDAL</td><td>185.00</td><td>2007</td><td>July</td><td>PD</td></tr>",
                            "<tr><td>938</td><td>LL ROAD PEDAL</td><td>189.00</td><td>2007</td><td>July</td><td>PD</td></tr>",
                            "<tr><td>939</td><td>ML ROAD PEDAL</td><td>168.00</td><td>2007</td><td>July</td><td>PD</td></tr>",
                            "<tr><td>940</td><td>HL ROAD PEDAL</td><td>149.00</td><td>2007</td><td>July</td><td>PD</td></tr>",
                            "<tr><td>941</td><td>TOURING PEDAL</td><td>NULL</td><td>2007</td><td>July</td><td>PD</td></tr>",
                            "<tr><td>942</td><td>ML MOUNTAIN FRAME-W - SILVER, 38</td><td>1238.00</td><td>2007</td><td>July</td><td>FR</td></tr>",
                            "<tr><td>943</td><td>LL MOUNTAIN FRAME - BLACK, 40</td><td>1306.00</td><td>2007</td><td>July</td><td>FR</td></tr>",
                            "<tr><td>944</td><td>LL MOUNTAIN FRAME - SILVER, 40</td><td>1306.00</td><td>2007</td><td>July</td><td>FR</td></tr>",
                            "<tr><td>945</td><td>FRONT DERAILLEUR</td><td>88.00</td><td>2007</td><td>July</td><td>FD</td></tr>",
                            "<tr><td>946</td><td>LL TOURING HANDLEBARS</td><td>NULL</td><td>2007</td><td>July</td><td>HB</td></tr>",
                            "<tr><td>947</td><td>HL TOURING HANDLEBARS</td><td>NULL</td><td>2007</td><td>July</td><td>HB</td></tr>",
                            "<tr><td>948</td><td>FRONT BRAKES</td><td>317.00</td><td>2007</td><td>July</td><td>FB</td></tr>",
                            "<tr><td>949</td><td>LL CRANKSET</td><td>600.00</td><td>2007</td><td>July</td><td>CS</td></tr>",
                            "<tr><td>950</td><td>ML CRANKSET</td><td>635.00</td><td>2007</td><td>July</td><td>CS</td></tr>",
                            "<tr><td>951</td><td>HL CRANKSET</td><td>575.00</td><td>2007</td><td>July</td><td>CS</td></tr>",
                            "<tr><td>952</td><td>CHAIN</td><td>NULL</td><td>2007</td><td>July</td><td>CH</td></tr>",
                            "<tr><td>953</td><td>TOURING-2000 BLUE, 60</td><td>12655.00</td><td>2007</td><td>July</td><td>BK</td></tr>",
                            "<tr><td>954</td><td>TOURING-1000 YELLOW, 46</td><td>11399.00</td><td>2007</td><td>July</td><td>BK</td></tr>",
                            "<tr><td>955</td><td>TOURING-1000 YELLOW, 50</td><td>11530.00</td><td>2007</td><td>July</td><td>BK</td></tr>",
                            "<tr><td>956</td><td>TOURING-1000 YELLOW, 54</td><td>11648.00</td><td>2007</td><td>July</td><td>BK</td></tr>",
                            "<tr><td>957</td><td>TOURING-1000 YELLOW, 60</td><td>11748.00</td><td>2007</td><td>July</td><td>BK</td></tr>",
                            "<tr><td>958</td><td>TOURING-3000 BLUE, 54</td><td>13463.00</td><td>2007</td><td>July</td><td>BK</td></tr>",
                            "<tr><td>959</td><td>TOURING-3000 BLUE, 58</td><td>13562.00</td><td>2007</td><td>July</td><td>BK</td></tr>",
                            "<tr><td>960</td><td>TOURING-3000 BLUE, 62</td><td>13608.00</td><td>2007</td><td>July</td><td>BK</td></tr>",
                            "<tr><td>961</td><td>TOURING-3000 YELLOW, 44</td><td>13050.00</td><td>2007</td><td>July</td><td>BK</td></tr>",
                            "<tr><td>962</td><td>TOURING-3000 YELLOW, 50</td><td>13213.00</td><td>2007</td><td>July</td><td>BK</td></tr>",
                            "<tr><td>963</td><td>TOURING-3000 YELLOW, 54</td><td>13345.00</td><td>2007</td><td>July</td><td>BK</td></tr>",
                            "<tr><td>964</td><td>TOURING-3000 YELLOW, 58</td><td>13512.00</td><td>2007</td><td>July</td><td>BK</td></tr>",
                            "<tr><td>965</td><td>TOURING-3000 YELLOW, 62</td><td>13608.00</td><td>2007</td><td>July</td><td>BK</td></tr>",
                            "<tr><td>966</td><td>TOURING-1000 BLUE, 46</td><td>11399.00</td><td>2007</td><td>July</td><td>BK</td></tr>",
                            "<tr><td>967</td><td>TOURING-1000 BLUE, 50</td><td>11530.00</td><td>2007</td><td>July</td><td>BK</td></tr>",
                            "<tr><td>968</td><td>TOURING-1000 BLUE, 54</td><td>11648.00</td><td>2007</td><td>July</td><td>BK</td></tr>",
                            "<tr><td>969</td><td>TOURING-1000 BLUE, 60</td><td>11748.00</td><td>2007</td><td>July</td><td>BK</td></tr>",
                            "<tr><td>970</td><td>TOURING-2000 BLUE, 46</td><td>12306.00</td><td>2007</td><td>July</td><td>BK</td></tr>",
                            "<tr><td>971</td><td>TOURING-2000 BLUE, 50</td><td>12437.00</td><td>2007</td><td>July</td><td>BK</td></tr>",
                            "<tr><td>972</td><td>TOURING-2000 BLUE, 54</td><td>12555.00</td><td>2007</td><td>July</td><td>BK</td></tr>",
                            "<tr><td>973</td><td>ROAD-350-W YELLOW, 40</td><td>6963.00</td><td>2007</td><td>July</td><td>BK</td></tr>",
                            "<tr><td>974</td><td>ROAD-350-W YELLOW, 42</td><td>7153.00</td><td>2007</td><td>July</td><td>BK</td></tr>",
                            "<tr><td>975</td><td>ROAD-350-W YELLOW, 44</td><td>7316.00</td><td>2007</td><td>July</td><td>BK</td></tr>",
                            "<tr><td>976</td><td>ROAD-350-W YELLOW, 48</td><td>7448.00</td><td>2007</td><td>July</td><td>BK</td></tr>",
                            "<tr><td>977</td><td>ROAD-750 BLACK, 58</td><td>9430.00</td><td>2007</td><td>July</td><td>BK</td></tr>",
                            "<tr><td>978</td><td>TOURING-3000 BLUE, 44</td><td>13050.00</td><td>2007</td><td>July</td><td>BK</td></tr>",
                            "<tr><td>979</td><td>TOURING-3000 BLUE, 50</td><td>13213.00</td><td>2007</td><td>July</td><td>BK</td></tr>",
                            "<tr><td>980</td><td>MOUNTAIN-400-W SILVER, 38</td><td>11952.00</td><td>2007</td><td>July</td><td>BK</td></tr>",
                            "<tr><td>981</td><td>MOUNTAIN-400-W SILVER, 40</td><td>12143.00</td><td>2007</td><td>July</td><td>BK</td></tr>",
                            "<tr><td>982</td><td>MOUNTAIN-400-W SILVER, 42</td><td>12306.00</td><td>2007</td><td>July</td><td>BK</td></tr>",
                            "<tr><td>983</td><td>MOUNTAIN-400-W SILVER, 46</td><td>12437.00</td><td>2007</td><td>July</td><td>BK</td></tr>",
                            "<tr><td>984</td><td>MOUNTAIN-500 SILVER, 40</td><td>12406.00</td><td>2007</td><td>July</td><td>BK</td></tr>",
                            "<tr><td>985</td><td>MOUNTAIN-500 SILVER, 42</td><td>12596.00</td><td>2007</td><td>July</td><td>BK</td></tr>",
                            "<tr><td>986</td><td>MOUNTAIN-500 SILVER, 44</td><td>12759.00</td><td>2007</td><td>July</td><td>BK</td></tr>",
                            "<tr><td>987</td><td>MOUNTAIN-500 SILVER, 48</td><td>12891.00</td><td>2007</td><td>July</td><td>BK</td></tr>",
                            "<tr><td>988</td><td>MOUNTAIN-500 SILVER, 52</td><td>13009.00</td><td>2007</td><td>July</td><td>BK</td></tr>",
                            "<tr><td>989</td><td>MOUNTAIN-500 BLACK, 40</td><td>12406.00</td><td>2007</td><td>July</td><td>BK</td></tr>",
                            "<tr><td>990</td><td>MOUNTAIN-500 BLACK, 42</td><td>12596.00</td><td>2007</td><td>July</td><td>BK</td></tr>",
                            "<tr><td>991</td><td>MOUNTAIN-500 BLACK, 44</td><td>12759.00</td><td>2007</td><td>July</td><td>BK</td></tr>",
                            "<tr><td>992</td><td>MOUNTAIN-500 BLACK, 48</td><td>12891.00</td><td>2007</td><td>July</td><td>BK</td></tr>",
                            "<tr><td>993</td><td>MOUNTAIN-500 BLACK, 52</td><td>13009.00</td><td>2007</td><td>July</td><td>BK</td></tr>",
                            "<tr><td>994</td><td>LL BOTTOM BRACKET</td><td>223.00</td><td>2007</td><td>July</td><td>BB</td></tr>",
                            "<tr><td>995</td><td>ML BOTTOM BRACKET</td><td>168.00</td><td>2007</td><td>July</td><td>BB</td></tr>",
                            "<tr><td>996</td><td>HL BOTTOM BRACKET</td><td>170.00</td><td>2007</td><td>July</td><td>BB</td></tr>",
                            "<tr><td>997</td><td>ROAD-750 BLACK, 44</td><td>8967.00</td><td>2007</td><td>July</td><td>BK</td></tr>",
                            "<tr><td>998</td><td>ROAD-750 BLACK, 48</td><td>9131.00</td><td>2007</td><td>July</td><td>BK</td></tr>",
                            "<tr><td>999</td><td>ROAD-750 BLACK, 52</td><td>9262.00</td><td>2007</td><td>July</td><td>BK</td></tr>",
                            "<tr><td>1000</td><td>LED LIGHTS</td><td>NULL</td><td>2021</td><td>October</td><td>LT</td></tr>",
                            "<tr><td>1001</td><td>LED LIGHTSX</td><td>NULL</td><td>2021</td><td>October</td><td>LT</td></tr>",
                            "<tr><td>1002</td><td>LED LIGHTS2</td><td>NULL</td><td>2021</td><td>October</td><td>LT</td></tr>",
                            "<tr><td>1005</td><td>BICYCLE BELL10</td><td>NULL</td><td>2021</td><td>October</td><td>BB</td></tr>",
                            "</table>"
                        ]
                    }
                }
            ],
            "execution_count": 7
        },
        {
            "cell_type": "markdown",
            "source": [
                "**4\\.** Retrieve only products with a numeric size Extend your query to filter the product returned so that only products with a numeric size are included."
            ],
            "metadata": {
                "azdata_cell_guid": "c6c49651-1a6b-4e2a-8cad-da3cab5e2530"
            },
            "attachments": {}
        },
        {
            "cell_type": "code",
            "source": [
                "SELECT ProductID, \r\n",
                "UPPER(Name) AS ProductName, \r\n",
                "ROUND(Weight, 0) AS ApproxWeight,\r\n",
                "DATENAME(YYYY, SellStartDate) AS SellStartYear, \r\n",
                "DATENAME(MM, SellStartDate) AS SellStartMonth, \r\n",
                "LEFT(ProductNumber, 2) AS ProductType\r\n",
                "FROM Product\r\n",
                "WHERE ISNUMERIC(Size) = 1;"
            ],
            "metadata": {
                "azdata_cell_guid": "9ea4b2ed-68c5-4225-9e41-3cf23b07874c",
                "tags": []
            },
            "outputs": [
                {
                    "output_type": "display_data",
                    "data": {
                        "text/html": "(177 rows affected)"
                    },
                    "metadata": {}
                },
                {
                    "output_type": "display_data",
                    "data": {
                        "text/html": "Total execution time: 00:00:00.120"
                    },
                    "metadata": {}
                },
                {
                    "output_type": "execute_result",
                    "metadata": {},
                    "execution_count": 8,
                    "data": {
                        "application/vnd.dataresource+json": {
                            "schema": {
                                "fields": [
                                    {
                                        "name": "ProductID"
                                    },
                                    {
                                        "name": "ProductName"
                                    },
                                    {
                                        "name": "ApproxWeight"
                                    },
                                    {
                                        "name": "SellStartYear"
                                    },
                                    {
                                        "name": "SellStartMonth"
                                    },
                                    {
                                        "name": "ProductType"
                                    }
                                ]
                            },
                            "data": [
                                {
                                    "0": "680",
                                    "1": "HL ROAD FRAME - BLACK, 58",
                                    "2": "1016.00",
                                    "3": "2002",
                                    "4": "June",
                                    "5": "FR"
                                },
                                {
                                    "0": "706",
                                    "1": "HL ROAD FRAME - RED, 58",
                                    "2": "1016.00",
                                    "3": "2002",
                                    "4": "June",
                                    "5": "FR"
                                },
                                {
                                    "0": "717",
                                    "1": "HL ROAD FRAME - RED, 62",
                                    "2": "1043.00",
                                    "3": "2005",
                                    "4": "July",
                                    "5": "FR"
                                },
                                {
                                    "0": "718",
                                    "1": "HL ROAD FRAME - RED, 44",
                                    "2": "962.00",
                                    "3": "2005",
                                    "4": "July",
                                    "5": "FR"
                                },
                                {
                                    "0": "719",
                                    "1": "HL ROAD FRAME - RED, 48",
                                    "2": "980.00",
                                    "3": "2005",
                                    "4": "July",
                                    "5": "FR"
                                },
                                {
                                    "0": "720",
                                    "1": "HL ROAD FRAME - RED, 52",
                                    "2": "998.00",
                                    "3": "2005",
                                    "4": "July",
                                    "5": "FR"
                                },
                                {
                                    "0": "721",
                                    "1": "HL ROAD FRAME - RED, 56",
                                    "2": "1016.00",
                                    "3": "2005",
                                    "4": "July",
                                    "5": "FR"
                                },
                                {
                                    "0": "722",
                                    "1": "LL ROAD FRAME - BLACK, 58",
                                    "2": "1116.00",
                                    "3": "2005",
                                    "4": "July",
                                    "5": "FR"
                                },
                                {
                                    "0": "723",
                                    "1": "LL ROAD FRAME - BLACK, 60",
                                    "2": "1125.00",
                                    "3": "2005",
                                    "4": "July",
                                    "5": "FR"
                                },
                                {
                                    "0": "724",
                                    "1": "LL ROAD FRAME - BLACK, 62",
                                    "2": "1134.00",
                                    "3": "2005",
                                    "4": "July",
                                    "5": "FR"
                                },
                                {
                                    "0": "725",
                                    "1": "LL ROAD FRAME - RED, 44",
                                    "2": "1052.00",
                                    "3": "2005",
                                    "4": "July",
                                    "5": "FR"
                                },
                                {
                                    "0": "726",
                                    "1": "LL ROAD FRAME - RED, 48",
                                    "2": "1070.00",
                                    "3": "2005",
                                    "4": "July",
                                    "5": "FR"
                                },
                                {
                                    "0": "727",
                                    "1": "LL ROAD FRAME - RED, 52",
                                    "2": "1089.00",
                                    "3": "2005",
                                    "4": "July",
                                    "5": "FR"
                                },
                                {
                                    "0": "728",
                                    "1": "LL ROAD FRAME - RED, 58",
                                    "2": "1116.00",
                                    "3": "2005",
                                    "4": "July",
                                    "5": "FR"
                                },
                                {
                                    "0": "729",
                                    "1": "LL ROAD FRAME - RED, 60",
                                    "2": "1125.00",
                                    "3": "2005",
                                    "4": "July",
                                    "5": "FR"
                                },
                                {
                                    "0": "730",
                                    "1": "LL ROAD FRAME - RED, 62",
                                    "2": "1134.00",
                                    "3": "2005",
                                    "4": "July",
                                    "5": "FR"
                                },
                                {
                                    "0": "731",
                                    "1": "ML ROAD FRAME - RED, 44",
                                    "2": "1007.00",
                                    "3": "2005",
                                    "4": "July",
                                    "5": "FR"
                                },
                                {
                                    "0": "732",
                                    "1": "ML ROAD FRAME - RED, 48",
                                    "2": "1025.00",
                                    "3": "2005",
                                    "4": "July",
                                    "5": "FR"
                                },
                                {
                                    "0": "733",
                                    "1": "ML ROAD FRAME - RED, 52",
                                    "2": "1043.00",
                                    "3": "2005",
                                    "4": "July",
                                    "5": "FR"
                                },
                                {
                                    "0": "734",
                                    "1": "ML ROAD FRAME - RED, 58",
                                    "2": "1070.00",
                                    "3": "2005",
                                    "4": "July",
                                    "5": "FR"
                                },
                                {
                                    "0": "735",
                                    "1": "ML ROAD FRAME - RED, 60",
                                    "2": "1080.00",
                                    "3": "2005",
                                    "4": "July",
                                    "5": "FR"
                                },
                                {
                                    "0": "736",
                                    "1": "LL ROAD FRAME - BLACK, 44",
                                    "2": "1052.00",
                                    "3": "2005",
                                    "4": "July",
                                    "5": "FR"
                                },
                                {
                                    "0": "737",
                                    "1": "LL ROAD FRAME - BLACK, 48",
                                    "2": "1070.00",
                                    "3": "2005",
                                    "4": "July",
                                    "5": "FR"
                                },
                                {
                                    "0": "738",
                                    "1": "LL ROAD FRAME - BLACK, 52",
                                    "2": "1089.00",
                                    "3": "2005",
                                    "4": "July",
                                    "5": "FR"
                                },
                                {
                                    "0": "739",
                                    "1": "HL MOUNTAIN FRAME - SILVER, 42",
                                    "2": "1234.00",
                                    "3": "2005",
                                    "4": "July",
                                    "5": "FR"
                                },
                                {
                                    "0": "740",
                                    "1": "HL MOUNTAIN FRAME - SILVER, 44",
                                    "2": "1252.00",
                                    "3": "2005",
                                    "4": "July",
                                    "5": "FR"
                                },
                                {
                                    "0": "741",
                                    "1": "HL MOUNTAIN FRAME - SILVER, 48",
                                    "2": "1270.00",
                                    "3": "2005",
                                    "4": "July",
                                    "5": "FR"
                                },
                                {
                                    "0": "742",
                                    "1": "HL MOUNTAIN FRAME - SILVER, 46",
                                    "2": "1288.00",
                                    "3": "2005",
                                    "4": "July",
                                    "5": "FR"
                                },
                                {
                                    "0": "743",
                                    "1": "HL MOUNTAIN FRAME - BLACK, 42",
                                    "2": "1234.00",
                                    "3": "2005",
                                    "4": "July",
                                    "5": "FR"
                                },
                                {
                                    "0": "744",
                                    "1": "HL MOUNTAIN FRAME - BLACK, 44",
                                    "2": "1252.00",
                                    "3": "2005",
                                    "4": "July",
                                    "5": "FR"
                                },
                                {
                                    "0": "745",
                                    "1": "HL MOUNTAIN FRAME - BLACK, 48",
                                    "2": "1270.00",
                                    "3": "2005",
                                    "4": "July",
                                    "5": "FR"
                                },
                                {
                                    "0": "746",
                                    "1": "HL MOUNTAIN FRAME - BLACK, 46",
                                    "2": "1288.00",
                                    "3": "2005",
                                    "4": "July",
                                    "5": "FR"
                                },
                                {
                                    "0": "747",
                                    "1": "HL MOUNTAIN FRAME - BLACK, 38",
                                    "2": "1216.00",
                                    "3": "2005",
                                    "4": "July",
                                    "5": "FR"
                                },
                                {
                                    "0": "748",
                                    "1": "HL MOUNTAIN FRAME - SILVER, 38",
                                    "2": "1216.00",
                                    "3": "2005",
                                    "4": "July",
                                    "5": "FR"
                                },
                                {
                                    "0": "749",
                                    "1": "ROAD-150 RED, 62",
                                    "2": "6804.00",
                                    "3": "2005",
                                    "4": "July",
                                    "5": "BK"
                                },
                                {
                                    "0": "750",
                                    "1": "ROAD-150 RED, 44",
                                    "2": "6246.00",
                                    "3": "2005",
                                    "4": "July",
                                    "5": "BK"
                                },
                                {
                                    "0": "751",
                                    "1": "ROAD-150 RED, 48",
                                    "2": "6409.00",
                                    "3": "2005",
                                    "4": "July",
                                    "5": "BK"
                                },
                                {
                                    "0": "752",
                                    "1": "ROAD-150 RED, 52",
                                    "2": "6541.00",
                                    "3": "2005",
                                    "4": "July",
                                    "5": "BK"
                                },
                                {
                                    "0": "753",
                                    "1": "ROAD-150 RED, 56",
                                    "2": "6659.00",
                                    "3": "2005",
                                    "4": "July",
                                    "5": "BK"
                                },
                                {
                                    "0": "754",
                                    "1": "ROAD-450 RED, 58",
                                    "2": "8069.00",
                                    "3": "2005",
                                    "4": "July",
                                    "5": "BK"
                                },
                                {
                                    "0": "755",
                                    "1": "ROAD-450 RED, 60",
                                    "2": "8119.00",
                                    "3": "2005",
                                    "4": "July",
                                    "5": "BK"
                                },
                                {
                                    "0": "756",
                                    "1": "ROAD-450 RED, 44",
                                    "2": "7607.00",
                                    "3": "2005",
                                    "4": "July",
                                    "5": "BK"
                                },
                                {
                                    "0": "757",
                                    "1": "ROAD-450 RED, 48",
                                    "2": "7770.00",
                                    "3": "2005",
                                    "4": "July",
                                    "5": "BK"
                                },
                                {
                                    "0": "758",
                                    "1": "ROAD-450 RED, 52",
                                    "2": "7902.00",
                                    "3": "2005",
                                    "4": "July",
                                    "5": "BK"
                                },
                                {
                                    "0": "759",
                                    "1": "ROAD-650 RED, 58",
                                    "2": "8977.00",
                                    "3": "2005",
                                    "4": "July",
                                    "5": "BK"
                                },
                                {
                                    "0": "760",
                                    "1": "ROAD-650 RED, 60",
                                    "2": "9026.00",
                                    "3": "2005",
                                    "4": "July",
                                    "5": "BK"
                                },
                                {
                                    "0": "761",
                                    "1": "ROAD-650 RED, 62",
                                    "2": "9072.00",
                                    "3": "2005",
                                    "4": "July",
                                    "5": "BK"
                                },
                                {
                                    "0": "762",
                                    "1": "ROAD-650 RED, 44",
                                    "2": "8514.00",
                                    "3": "2005",
                                    "4": "July",
                                    "5": "BK"
                                },
                                {
                                    "0": "763",
                                    "1": "ROAD-650 RED, 48",
                                    "2": "8677.00",
                                    "3": "2005",
                                    "4": "July",
                                    "5": "BK"
                                },
                                {
                                    "0": "764",
                                    "1": "ROAD-650 RED, 52",
                                    "2": "8809.00",
                                    "3": "2005",
                                    "4": "July",
                                    "5": "BK"
                                },
                                {
                                    "0": "765",
                                    "1": "ROAD-650 BLACK, 58",
                                    "2": "8977.00",
                                    "3": "2005",
                                    "4": "July",
                                    "5": "BK"
                                },
                                {
                                    "0": "766",
                                    "1": "ROAD-650 BLACK, 60",
                                    "2": "9026.00",
                                    "3": "2005",
                                    "4": "July",
                                    "5": "BK"
                                },
                                {
                                    "0": "767",
                                    "1": "ROAD-650 BLACK, 62",
                                    "2": "9072.00",
                                    "3": "2005",
                                    "4": "July",
                                    "5": "BK"
                                },
                                {
                                    "0": "768",
                                    "1": "ROAD-650 BLACK, 44",
                                    "2": "8514.00",
                                    "3": "2005",
                                    "4": "July",
                                    "5": "BK"
                                },
                                {
                                    "0": "769",
                                    "1": "ROAD-650 BLACK, 48",
                                    "2": "8677.00",
                                    "3": "2005",
                                    "4": "July",
                                    "5": "BK"
                                },
                                {
                                    "0": "770",
                                    "1": "ROAD-650 BLACK, 52",
                                    "2": "8809.00",
                                    "3": "2005",
                                    "4": "July",
                                    "5": "BK"
                                },
                                {
                                    "0": "771",
                                    "1": "MOUNTAIN-100 SILVER, 38",
                                    "2": "9231.00",
                                    "3": "2005",
                                    "4": "July",
                                    "5": "BK"
                                },
                                {
                                    "0": "772",
                                    "1": "MOUNTAIN-100 SILVER, 42",
                                    "2": "9421.00",
                                    "3": "2005",
                                    "4": "July",
                                    "5": "BK"
                                },
                                {
                                    "0": "773",
                                    "1": "MOUNTAIN-100 SILVER, 44",
                                    "2": "9584.00",
                                    "3": "2005",
                                    "4": "July",
                                    "5": "BK"
                                },
                                {
                                    "0": "774",
                                    "1": "MOUNTAIN-100 SILVER, 48",
                                    "2": "9716.00",
                                    "3": "2005",
                                    "4": "July",
                                    "5": "BK"
                                },
                                {
                                    "0": "775",
                                    "1": "MOUNTAIN-100 BLACK, 38",
                                    "2": "9231.00",
                                    "3": "2005",
                                    "4": "July",
                                    "5": "BK"
                                },
                                {
                                    "0": "776",
                                    "1": "MOUNTAIN-100 BLACK, 42",
                                    "2": "9421.00",
                                    "3": "2005",
                                    "4": "July",
                                    "5": "BK"
                                },
                                {
                                    "0": "777",
                                    "1": "MOUNTAIN-100 BLACK, 44",
                                    "2": "9584.00",
                                    "3": "2005",
                                    "4": "July",
                                    "5": "BK"
                                },
                                {
                                    "0": "778",
                                    "1": "MOUNTAIN-100 BLACK, 48",
                                    "2": "9716.00",
                                    "3": "2005",
                                    "4": "July",
                                    "5": "BK"
                                },
                                {
                                    "0": "779",
                                    "1": "MOUNTAIN-200 SILVER, 38",
                                    "2": "10591.00",
                                    "3": "2006",
                                    "4": "July",
                                    "5": "BK"
                                },
                                {
                                    "0": "780",
                                    "1": "MOUNTAIN-200 SILVER, 42",
                                    "2": "10782.00",
                                    "3": "2006",
                                    "4": "July",
                                    "5": "BK"
                                },
                                {
                                    "0": "781",
                                    "1": "MOUNTAIN-200 SILVER, 46",
                                    "2": "10945.00",
                                    "3": "2006",
                                    "4": "July",
                                    "5": "BK"
                                },
                                {
                                    "0": "782",
                                    "1": "MOUNTAIN-200 BLACK, 38",
                                    "2": "10591.00",
                                    "3": "2006",
                                    "4": "July",
                                    "5": "BK"
                                },
                                {
                                    "0": "783",
                                    "1": "MOUNTAIN-200 BLACK, 42",
                                    "2": "10782.00",
                                    "3": "2006",
                                    "4": "July",
                                    "5": "BK"
                                },
                                {
                                    "0": "784",
                                    "1": "MOUNTAIN-200 BLACK, 46",
                                    "2": "10945.00",
                                    "3": "2006",
                                    "4": "July",
                                    "5": "BK"
                                },
                                {
                                    "0": "785",
                                    "1": "MOUNTAIN-300 BLACK, 38",
                                    "2": "11499.00",
                                    "3": "2006",
                                    "4": "July",
                                    "5": "BK"
                                },
                                {
                                    "0": "786",
                                    "1": "MOUNTAIN-300 BLACK, 40",
                                    "2": "11689.00",
                                    "3": "2006",
                                    "4": "July",
                                    "5": "BK"
                                },
                                {
                                    "0": "787",
                                    "1": "MOUNTAIN-300 BLACK, 44",
                                    "2": "11852.00",
                                    "3": "2006",
                                    "4": "July",
                                    "5": "BK"
                                },
                                {
                                    "0": "788",
                                    "1": "MOUNTAIN-300 BLACK, 48",
                                    "2": "11984.00",
                                    "3": "2006",
                                    "4": "July",
                                    "5": "BK"
                                },
                                {
                                    "0": "789",
                                    "1": "ROAD-250 RED, 44",
                                    "2": "6700.00",
                                    "3": "2006",
                                    "4": "July",
                                    "5": "BK"
                                },
                                {
                                    "0": "790",
                                    "1": "ROAD-250 RED, 48",
                                    "2": "6863.00",
                                    "3": "2006",
                                    "4": "July",
                                    "5": "BK"
                                },
                                {
                                    "0": "791",
                                    "1": "ROAD-250 RED, 52",
                                    "2": "6994.00",
                                    "3": "2006",
                                    "4": "July",
                                    "5": "BK"
                                },
                                {
                                    "0": "792",
                                    "1": "ROAD-250 RED, 58",
                                    "2": "7162.00",
                                    "3": "2006",
                                    "4": "July",
                                    "5": "BK"
                                },
                                {
                                    "0": "793",
                                    "1": "ROAD-250 BLACK, 44",
                                    "2": "6700.00",
                                    "3": "2006",
                                    "4": "July",
                                    "5": "BK"
                                },
                                {
                                    "0": "794",
                                    "1": "ROAD-250 BLACK, 48",
                                    "2": "6863.00",
                                    "3": "2006",
                                    "4": "July",
                                    "5": "BK"
                                },
                                {
                                    "0": "795",
                                    "1": "ROAD-250 BLACK, 52",
                                    "2": "6994.00",
                                    "3": "2006",
                                    "4": "July",
                                    "5": "BK"
                                },
                                {
                                    "0": "796",
                                    "1": "ROAD-250 BLACK, 58",
                                    "2": "7112.00",
                                    "3": "2006",
                                    "4": "July",
                                    "5": "BK"
                                },
                                {
                                    "0": "797",
                                    "1": "ROAD-550-W YELLOW, 38",
                                    "2": "7870.00",
                                    "3": "2006",
                                    "4": "July",
                                    "5": "BK"
                                },
                                {
                                    "0": "798",
                                    "1": "ROAD-550-W YELLOW, 40",
                                    "2": "8060.00",
                                    "3": "2006",
                                    "4": "July",
                                    "5": "BK"
                                },
                                {
                                    "0": "799",
                                    "1": "ROAD-550-W YELLOW, 42",
                                    "2": "8224.00",
                                    "3": "2006",
                                    "4": "July",
                                    "5": "BK"
                                },
                                {
                                    "0": "800",
                                    "1": "ROAD-550-W YELLOW, 44",
                                    "2": "8355.00",
                                    "3": "2006",
                                    "4": "July",
                                    "5": "BK"
                                },
                                {
                                    "0": "801",
                                    "1": "ROAD-550-W YELLOW, 48",
                                    "2": "8473.00",
                                    "3": "2006",
                                    "4": "July",
                                    "5": "BK"
                                },
                                {
                                    "0": "814",
                                    "1": "ML MOUNTAIN FRAME - BLACK, 38",
                                    "2": "1238.00",
                                    "3": "2006",
                                    "4": "July",
                                    "5": "FR"
                                },
                                {
                                    "0": "822",
                                    "1": "ML ROAD FRAME-W - YELLOW, 38",
                                    "2": "989.00",
                                    "3": "2006",
                                    "4": "July",
                                    "5": "FR"
                                },
                                {
                                    "0": "830",
                                    "1": "ML MOUNTAIN FRAME - BLACK, 40",
                                    "2": "1256.00",
                                    "3": "2006",
                                    "4": "July",
                                    "5": "FR"
                                },
                                {
                                    "0": "831",
                                    "1": "ML MOUNTAIN FRAME - BLACK, 44",
                                    "2": "1275.00",
                                    "3": "2006",
                                    "4": "July",
                                    "5": "FR"
                                },
                                {
                                    "0": "832",
                                    "1": "ML MOUNTAIN FRAME - BLACK, 48",
                                    "2": "1293.00",
                                    "3": "2006",
                                    "4": "July",
                                    "5": "FR"
                                },
                                {
                                    "0": "833",
                                    "1": "ML ROAD FRAME-W - YELLOW, 40",
                                    "2": "1007.00",
                                    "3": "2006",
                                    "4": "July",
                                    "5": "FR"
                                },
                                {
                                    "0": "834",
                                    "1": "ML ROAD FRAME-W - YELLOW, 42",
                                    "2": "1025.00",
                                    "3": "2006",
                                    "4": "July",
                                    "5": "FR"
                                },
                                {
                                    "0": "835",
                                    "1": "ML ROAD FRAME-W - YELLOW, 44",
                                    "2": "1043.00",
                                    "3": "2006",
                                    "4": "July",
                                    "5": "FR"
                                },
                                {
                                    "0": "836",
                                    "1": "ML ROAD FRAME-W - YELLOW, 48",
                                    "2": "1061.00",
                                    "3": "2006",
                                    "4": "July",
                                    "5": "FR"
                                },
                                {
                                    "0": "837",
                                    "1": "HL ROAD FRAME - BLACK, 62",
                                    "2": "1043.00",
                                    "3": "2006",
                                    "4": "July",
                                    "5": "FR"
                                },
                                {
                                    "0": "838",
                                    "1": "HL ROAD FRAME - BLACK, 44",
                                    "2": "962.00",
                                    "3": "2006",
                                    "4": "July",
                                    "5": "FR"
                                },
                                {
                                    "0": "839",
                                    "1": "HL ROAD FRAME - BLACK, 48",
                                    "2": "980.00",
                                    "3": "2006",
                                    "4": "July",
                                    "5": "FR"
                                },
                                {
                                    "0": "840",
                                    "1": "HL ROAD FRAME - BLACK, 52",
                                    "2": "998.00",
                                    "3": "2006",
                                    "4": "July",
                                    "5": "FR"
                                },
                                {
                                    "0": "880",
                                    "1": "HYDRATION PACK - 70 OZ.",
                                    "2": "NULL",
                                    "3": "2007",
                                    "4": "July",
                                    "5": "HY"
                                },
                                {
                                    "0": "885",
                                    "1": "HL TOURING FRAME - YELLOW, 60",
                                    "2": "1397.00",
                                    "3": "2007",
                                    "4": "July",
                                    "5": "FR"
                                },
                                {
                                    "0": "886",
                                    "1": "LL TOURING FRAME - YELLOW, 62",
                                    "2": "1451.00",
                                    "3": "2007",
                                    "4": "July",
                                    "5": "FR"
                                },
                                {
                                    "0": "887",
                                    "1": "HL TOURING FRAME - YELLOW, 46",
                                    "2": "1343.00",
                                    "3": "2007",
                                    "4": "July",
                                    "5": "FR"
                                },
                                {
                                    "0": "888",
                                    "1": "HL TOURING FRAME - YELLOW, 50",
                                    "2": "1361.00",
                                    "3": "2007",
                                    "4": "July",
                                    "5": "FR"
                                },
                                {
                                    "0": "889",
                                    "1": "HL TOURING FRAME - YELLOW, 54",
                                    "2": "1379.00",
                                    "3": "2007",
                                    "4": "July",
                                    "5": "FR"
                                },
                                {
                                    "0": "890",
                                    "1": "HL TOURING FRAME - BLUE, 46",
                                    "2": "1343.00",
                                    "3": "2007",
                                    "4": "July",
                                    "5": "FR"
                                },
                                {
                                    "0": "891",
                                    "1": "HL TOURING FRAME - BLUE, 50",
                                    "2": "1361.00",
                                    "3": "2007",
                                    "4": "July",
                                    "5": "FR"
                                },
                                {
                                    "0": "892",
                                    "1": "HL TOURING FRAME - BLUE, 54",
                                    "2": "1379.00",
                                    "3": "2007",
                                    "4": "July",
                                    "5": "FR"
                                },
                                {
                                    "0": "893",
                                    "1": "HL TOURING FRAME - BLUE, 60",
                                    "2": "1397.00",
                                    "3": "2007",
                                    "4": "July",
                                    "5": "FR"
                                },
                                {
                                    "0": "895",
                                    "1": "LL TOURING FRAME - BLUE, 50",
                                    "2": "1406.00",
                                    "3": "2007",
                                    "4": "July",
                                    "5": "FR"
                                },
                                {
                                    "0": "896",
                                    "1": "LL TOURING FRAME - BLUE, 54",
                                    "2": "1424.00",
                                    "3": "2007",
                                    "4": "July",
                                    "5": "FR"
                                },
                                {
                                    "0": "897",
                                    "1": "LL TOURING FRAME - BLUE, 58",
                                    "2": "1433.00",
                                    "3": "2007",
                                    "4": "July",
                                    "5": "FR"
                                },
                                {
                                    "0": "898",
                                    "1": "LL TOURING FRAME - BLUE, 62",
                                    "2": "1451.00",
                                    "3": "2007",
                                    "4": "July",
                                    "5": "FR"
                                },
                                {
                                    "0": "899",
                                    "1": "LL TOURING FRAME - YELLOW, 44",
                                    "2": "1370.00",
                                    "3": "2007",
                                    "4": "July",
                                    "5": "FR"
                                },
                                {
                                    "0": "900",
                                    "1": "LL TOURING FRAME - YELLOW, 50",
                                    "2": "1406.00",
                                    "3": "2007",
                                    "4": "July",
                                    "5": "FR"
                                },
                                {
                                    "0": "901",
                                    "1": "LL TOURING FRAME - YELLOW, 54",
                                    "2": "1424.00",
                                    "3": "2007",
                                    "4": "July",
                                    "5": "FR"
                                },
                                {
                                    "0": "902",
                                    "1": "LL TOURING FRAME - YELLOW, 58",
                                    "2": "1433.00",
                                    "3": "2007",
                                    "4": "July",
                                    "5": "FR"
                                },
                                {
                                    "0": "903",
                                    "1": "LL TOURING FRAME - BLUE, 44",
                                    "2": "1370.00",
                                    "3": "2007",
                                    "4": "July",
                                    "5": "FR"
                                },
                                {
                                    "0": "904",
                                    "1": "ML MOUNTAIN FRAME-W - SILVER, 40",
                                    "2": "1256.00",
                                    "3": "2007",
                                    "4": "July",
                                    "5": "FR"
                                },
                                {
                                    "0": "905",
                                    "1": "ML MOUNTAIN FRAME-W - SILVER, 42",
                                    "2": "1275.00",
                                    "3": "2007",
                                    "4": "July",
                                    "5": "FR"
                                },
                                {
                                    "0": "906",
                                    "1": "ML MOUNTAIN FRAME-W - SILVER, 46",
                                    "2": "1293.00",
                                    "3": "2007",
                                    "4": "July",
                                    "5": "FR"
                                },
                                {
                                    "0": "917",
                                    "1": "LL MOUNTAIN FRAME - SILVER, 42",
                                    "2": "1324.00",
                                    "3": "2007",
                                    "4": "July",
                                    "5": "FR"
                                },
                                {
                                    "0": "918",
                                    "1": "LL MOUNTAIN FRAME - SILVER, 44",
                                    "2": "1343.00",
                                    "3": "2007",
                                    "4": "July",
                                    "5": "FR"
                                },
                                {
                                    "0": "919",
                                    "1": "LL MOUNTAIN FRAME - SILVER, 48",
                                    "2": "1361.00",
                                    "3": "2007",
                                    "4": "July",
                                    "5": "FR"
                                },
                                {
                                    "0": "920",
                                    "1": "LL MOUNTAIN FRAME - SILVER, 52",
                                    "2": "1379.00",
                                    "3": "2007",
                                    "4": "July",
                                    "5": "FR"
                                },
                                {
                                    "0": "924",
                                    "1": "LL MOUNTAIN FRAME - BLACK, 42",
                                    "2": "1324.00",
                                    "3": "2007",
                                    "4": "July",
                                    "5": "FR"
                                },
                                {
                                    "0": "925",
                                    "1": "LL MOUNTAIN FRAME - BLACK, 44",
                                    "2": "1343.00",
                                    "3": "2007",
                                    "4": "July",
                                    "5": "FR"
                                },
                                {
                                    "0": "926",
                                    "1": "LL MOUNTAIN FRAME - BLACK, 48",
                                    "2": "1361.00",
                                    "3": "2007",
                                    "4": "July",
                                    "5": "FR"
                                },
                                {
                                    "0": "927",
                                    "1": "LL MOUNTAIN FRAME - BLACK, 52",
                                    "2": "1379.00",
                                    "3": "2007",
                                    "4": "July",
                                    "5": "FR"
                                },
                                {
                                    "0": "942",
                                    "1": "ML MOUNTAIN FRAME-W - SILVER, 38",
                                    "2": "1238.00",
                                    "3": "2007",
                                    "4": "July",
                                    "5": "FR"
                                },
                                {
                                    "0": "943",
                                    "1": "LL MOUNTAIN FRAME - BLACK, 40",
                                    "2": "1306.00",
                                    "3": "2007",
                                    "4": "July",
                                    "5": "FR"
                                },
                                {
                                    "0": "944",
                                    "1": "LL MOUNTAIN FRAME - SILVER, 40",
                                    "2": "1306.00",
                                    "3": "2007",
                                    "4": "July",
                                    "5": "FR"
                                },
                                {
                                    "0": "953",
                                    "1": "TOURING-2000 BLUE, 60",
                                    "2": "12655.00",
                                    "3": "2007",
                                    "4": "July",
                                    "5": "BK"
                                },
                                {
                                    "0": "954",
                                    "1": "TOURING-1000 YELLOW, 46",
                                    "2": "11399.00",
                                    "3": "2007",
                                    "4": "July",
                                    "5": "BK"
                                },
                                {
                                    "0": "955",
                                    "1": "TOURING-1000 YELLOW, 50",
                                    "2": "11530.00",
                                    "3": "2007",
                                    "4": "July",
                                    "5": "BK"
                                },
                                {
                                    "0": "956",
                                    "1": "TOURING-1000 YELLOW, 54",
                                    "2": "11648.00",
                                    "3": "2007",
                                    "4": "July",
                                    "5": "BK"
                                },
                                {
                                    "0": "957",
                                    "1": "TOURING-1000 YELLOW, 60",
                                    "2": "11748.00",
                                    "3": "2007",
                                    "4": "July",
                                    "5": "BK"
                                },
                                {
                                    "0": "958",
                                    "1": "TOURING-3000 BLUE, 54",
                                    "2": "13463.00",
                                    "3": "2007",
                                    "4": "July",
                                    "5": "BK"
                                },
                                {
                                    "0": "959",
                                    "1": "TOURING-3000 BLUE, 58",
                                    "2": "13562.00",
                                    "3": "2007",
                                    "4": "July",
                                    "5": "BK"
                                },
                                {
                                    "0": "960",
                                    "1": "TOURING-3000 BLUE, 62",
                                    "2": "13608.00",
                                    "3": "2007",
                                    "4": "July",
                                    "5": "BK"
                                },
                                {
                                    "0": "961",
                                    "1": "TOURING-3000 YELLOW, 44",
                                    "2": "13050.00",
                                    "3": "2007",
                                    "4": "July",
                                    "5": "BK"
                                },
                                {
                                    "0": "962",
                                    "1": "TOURING-3000 YELLOW, 50",
                                    "2": "13213.00",
                                    "3": "2007",
                                    "4": "July",
                                    "5": "BK"
                                },
                                {
                                    "0": "963",
                                    "1": "TOURING-3000 YELLOW, 54",
                                    "2": "13345.00",
                                    "3": "2007",
                                    "4": "July",
                                    "5": "BK"
                                },
                                {
                                    "0": "964",
                                    "1": "TOURING-3000 YELLOW, 58",
                                    "2": "13512.00",
                                    "3": "2007",
                                    "4": "July",
                                    "5": "BK"
                                },
                                {
                                    "0": "965",
                                    "1": "TOURING-3000 YELLOW, 62",
                                    "2": "13608.00",
                                    "3": "2007",
                                    "4": "July",
                                    "5": "BK"
                                },
                                {
                                    "0": "966",
                                    "1": "TOURING-1000 BLUE, 46",
                                    "2": "11399.00",
                                    "3": "2007",
                                    "4": "July",
                                    "5": "BK"
                                },
                                {
                                    "0": "967",
                                    "1": "TOURING-1000 BLUE, 50",
                                    "2": "11530.00",
                                    "3": "2007",
                                    "4": "July",
                                    "5": "BK"
                                },
                                {
                                    "0": "968",
                                    "1": "TOURING-1000 BLUE, 54",
                                    "2": "11648.00",
                                    "3": "2007",
                                    "4": "July",
                                    "5": "BK"
                                },
                                {
                                    "0": "969",
                                    "1": "TOURING-1000 BLUE, 60",
                                    "2": "11748.00",
                                    "3": "2007",
                                    "4": "July",
                                    "5": "BK"
                                },
                                {
                                    "0": "970",
                                    "1": "TOURING-2000 BLUE, 46",
                                    "2": "12306.00",
                                    "3": "2007",
                                    "4": "July",
                                    "5": "BK"
                                },
                                {
                                    "0": "971",
                                    "1": "TOURING-2000 BLUE, 50",
                                    "2": "12437.00",
                                    "3": "2007",
                                    "4": "July",
                                    "5": "BK"
                                },
                                {
                                    "0": "972",
                                    "1": "TOURING-2000 BLUE, 54",
                                    "2": "12555.00",
                                    "3": "2007",
                                    "4": "July",
                                    "5": "BK"
                                },
                                {
                                    "0": "973",
                                    "1": "ROAD-350-W YELLOW, 40",
                                    "2": "6963.00",
                                    "3": "2007",
                                    "4": "July",
                                    "5": "BK"
                                },
                                {
                                    "0": "974",
                                    "1": "ROAD-350-W YELLOW, 42",
                                    "2": "7153.00",
                                    "3": "2007",
                                    "4": "July",
                                    "5": "BK"
                                },
                                {
                                    "0": "975",
                                    "1": "ROAD-350-W YELLOW, 44",
                                    "2": "7316.00",
                                    "3": "2007",
                                    "4": "July",
                                    "5": "BK"
                                },
                                {
                                    "0": "976",
                                    "1": "ROAD-350-W YELLOW, 48",
                                    "2": "7448.00",
                                    "3": "2007",
                                    "4": "July",
                                    "5": "BK"
                                },
                                {
                                    "0": "977",
                                    "1": "ROAD-750 BLACK, 58",
                                    "2": "9430.00",
                                    "3": "2007",
                                    "4": "July",
                                    "5": "BK"
                                },
                                {
                                    "0": "978",
                                    "1": "TOURING-3000 BLUE, 44",
                                    "2": "13050.00",
                                    "3": "2007",
                                    "4": "July",
                                    "5": "BK"
                                },
                                {
                                    "0": "979",
                                    "1": "TOURING-3000 BLUE, 50",
                                    "2": "13213.00",
                                    "3": "2007",
                                    "4": "July",
                                    "5": "BK"
                                },
                                {
                                    "0": "980",
                                    "1": "MOUNTAIN-400-W SILVER, 38",
                                    "2": "11952.00",
                                    "3": "2007",
                                    "4": "July",
                                    "5": "BK"
                                },
                                {
                                    "0": "981",
                                    "1": "MOUNTAIN-400-W SILVER, 40",
                                    "2": "12143.00",
                                    "3": "2007",
                                    "4": "July",
                                    "5": "BK"
                                },
                                {
                                    "0": "982",
                                    "1": "MOUNTAIN-400-W SILVER, 42",
                                    "2": "12306.00",
                                    "3": "2007",
                                    "4": "July",
                                    "5": "BK"
                                },
                                {
                                    "0": "983",
                                    "1": "MOUNTAIN-400-W SILVER, 46",
                                    "2": "12437.00",
                                    "3": "2007",
                                    "4": "July",
                                    "5": "BK"
                                },
                                {
                                    "0": "984",
                                    "1": "MOUNTAIN-500 SILVER, 40",
                                    "2": "12406.00",
                                    "3": "2007",
                                    "4": "July",
                                    "5": "BK"
                                },
                                {
                                    "0": "985",
                                    "1": "MOUNTAIN-500 SILVER, 42",
                                    "2": "12596.00",
                                    "3": "2007",
                                    "4": "July",
                                    "5": "BK"
                                },
                                {
                                    "0": "986",
                                    "1": "MOUNTAIN-500 SILVER, 44",
                                    "2": "12759.00",
                                    "3": "2007",
                                    "4": "July",
                                    "5": "BK"
                                },
                                {
                                    "0": "987",
                                    "1": "MOUNTAIN-500 SILVER, 48",
                                    "2": "12891.00",
                                    "3": "2007",
                                    "4": "July",
                                    "5": "BK"
                                },
                                {
                                    "0": "988",
                                    "1": "MOUNTAIN-500 SILVER, 52",
                                    "2": "13009.00",
                                    "3": "2007",
                                    "4": "July",
                                    "5": "BK"
                                },
                                {
                                    "0": "989",
                                    "1": "MOUNTAIN-500 BLACK, 40",
                                    "2": "12406.00",
                                    "3": "2007",
                                    "4": "July",
                                    "5": "BK"
                                },
                                {
                                    "0": "990",
                                    "1": "MOUNTAIN-500 BLACK, 42",
                                    "2": "12596.00",
                                    "3": "2007",
                                    "4": "July",
                                    "5": "BK"
                                },
                                {
                                    "0": "991",
                                    "1": "MOUNTAIN-500 BLACK, 44",
                                    "2": "12759.00",
                                    "3": "2007",
                                    "4": "July",
                                    "5": "BK"
                                },
                                {
                                    "0": "992",
                                    "1": "MOUNTAIN-500 BLACK, 48",
                                    "2": "12891.00",
                                    "3": "2007",
                                    "4": "July",
                                    "5": "BK"
                                },
                                {
                                    "0": "993",
                                    "1": "MOUNTAIN-500 BLACK, 52",
                                    "2": "13009.00",
                                    "3": "2007",
                                    "4": "July",
                                    "5": "BK"
                                },
                                {
                                    "0": "997",
                                    "1": "ROAD-750 BLACK, 44",
                                    "2": "8967.00",
                                    "3": "2007",
                                    "4": "July",
                                    "5": "BK"
                                },
                                {
                                    "0": "998",
                                    "1": "ROAD-750 BLACK, 48",
                                    "2": "9131.00",
                                    "3": "2007",
                                    "4": "July",
                                    "5": "BK"
                                },
                                {
                                    "0": "999",
                                    "1": "ROAD-750 BLACK, 52",
                                    "2": "9262.00",
                                    "3": "2007",
                                    "4": "July",
                                    "5": "BK"
                                }
                            ]
                        },
                        "text/html": [
                            "<table>",
                            "<tr><th>ProductID</th><th>ProductName</th><th>ApproxWeight</th><th>SellStartYear</th><th>SellStartMonth</th><th>ProductType</th></tr>",
                            "<tr><td>680</td><td>HL ROAD FRAME - BLACK, 58</td><td>1016.00</td><td>2002</td><td>June</td><td>FR</td></tr>",
                            "<tr><td>706</td><td>HL ROAD FRAME - RED, 58</td><td>1016.00</td><td>2002</td><td>June</td><td>FR</td></tr>",
                            "<tr><td>717</td><td>HL ROAD FRAME - RED, 62</td><td>1043.00</td><td>2005</td><td>July</td><td>FR</td></tr>",
                            "<tr><td>718</td><td>HL ROAD FRAME - RED, 44</td><td>962.00</td><td>2005</td><td>July</td><td>FR</td></tr>",
                            "<tr><td>719</td><td>HL ROAD FRAME - RED, 48</td><td>980.00</td><td>2005</td><td>July</td><td>FR</td></tr>",
                            "<tr><td>720</td><td>HL ROAD FRAME - RED, 52</td><td>998.00</td><td>2005</td><td>July</td><td>FR</td></tr>",
                            "<tr><td>721</td><td>HL ROAD FRAME - RED, 56</td><td>1016.00</td><td>2005</td><td>July</td><td>FR</td></tr>",
                            "<tr><td>722</td><td>LL ROAD FRAME - BLACK, 58</td><td>1116.00</td><td>2005</td><td>July</td><td>FR</td></tr>",
                            "<tr><td>723</td><td>LL ROAD FRAME - BLACK, 60</td><td>1125.00</td><td>2005</td><td>July</td><td>FR</td></tr>",
                            "<tr><td>724</td><td>LL ROAD FRAME - BLACK, 62</td><td>1134.00</td><td>2005</td><td>July</td><td>FR</td></tr>",
                            "<tr><td>725</td><td>LL ROAD FRAME - RED, 44</td><td>1052.00</td><td>2005</td><td>July</td><td>FR</td></tr>",
                            "<tr><td>726</td><td>LL ROAD FRAME - RED, 48</td><td>1070.00</td><td>2005</td><td>July</td><td>FR</td></tr>",
                            "<tr><td>727</td><td>LL ROAD FRAME - RED, 52</td><td>1089.00</td><td>2005</td><td>July</td><td>FR</td></tr>",
                            "<tr><td>728</td><td>LL ROAD FRAME - RED, 58</td><td>1116.00</td><td>2005</td><td>July</td><td>FR</td></tr>",
                            "<tr><td>729</td><td>LL ROAD FRAME - RED, 60</td><td>1125.00</td><td>2005</td><td>July</td><td>FR</td></tr>",
                            "<tr><td>730</td><td>LL ROAD FRAME - RED, 62</td><td>1134.00</td><td>2005</td><td>July</td><td>FR</td></tr>",
                            "<tr><td>731</td><td>ML ROAD FRAME - RED, 44</td><td>1007.00</td><td>2005</td><td>July</td><td>FR</td></tr>",
                            "<tr><td>732</td><td>ML ROAD FRAME - RED, 48</td><td>1025.00</td><td>2005</td><td>July</td><td>FR</td></tr>",
                            "<tr><td>733</td><td>ML ROAD FRAME - RED, 52</td><td>1043.00</td><td>2005</td><td>July</td><td>FR</td></tr>",
                            "<tr><td>734</td><td>ML ROAD FRAME - RED, 58</td><td>1070.00</td><td>2005</td><td>July</td><td>FR</td></tr>",
                            "<tr><td>735</td><td>ML ROAD FRAME - RED, 60</td><td>1080.00</td><td>2005</td><td>July</td><td>FR</td></tr>",
                            "<tr><td>736</td><td>LL ROAD FRAME - BLACK, 44</td><td>1052.00</td><td>2005</td><td>July</td><td>FR</td></tr>",
                            "<tr><td>737</td><td>LL ROAD FRAME - BLACK, 48</td><td>1070.00</td><td>2005</td><td>July</td><td>FR</td></tr>",
                            "<tr><td>738</td><td>LL ROAD FRAME - BLACK, 52</td><td>1089.00</td><td>2005</td><td>July</td><td>FR</td></tr>",
                            "<tr><td>739</td><td>HL MOUNTAIN FRAME - SILVER, 42</td><td>1234.00</td><td>2005</td><td>July</td><td>FR</td></tr>",
                            "<tr><td>740</td><td>HL MOUNTAIN FRAME - SILVER, 44</td><td>1252.00</td><td>2005</td><td>July</td><td>FR</td></tr>",
                            "<tr><td>741</td><td>HL MOUNTAIN FRAME - SILVER, 48</td><td>1270.00</td><td>2005</td><td>July</td><td>FR</td></tr>",
                            "<tr><td>742</td><td>HL MOUNTAIN FRAME - SILVER, 46</td><td>1288.00</td><td>2005</td><td>July</td><td>FR</td></tr>",
                            "<tr><td>743</td><td>HL MOUNTAIN FRAME - BLACK, 42</td><td>1234.00</td><td>2005</td><td>July</td><td>FR</td></tr>",
                            "<tr><td>744</td><td>HL MOUNTAIN FRAME - BLACK, 44</td><td>1252.00</td><td>2005</td><td>July</td><td>FR</td></tr>",
                            "<tr><td>745</td><td>HL MOUNTAIN FRAME - BLACK, 48</td><td>1270.00</td><td>2005</td><td>July</td><td>FR</td></tr>",
                            "<tr><td>746</td><td>HL MOUNTAIN FRAME - BLACK, 46</td><td>1288.00</td><td>2005</td><td>July</td><td>FR</td></tr>",
                            "<tr><td>747</td><td>HL MOUNTAIN FRAME - BLACK, 38</td><td>1216.00</td><td>2005</td><td>July</td><td>FR</td></tr>",
                            "<tr><td>748</td><td>HL MOUNTAIN FRAME - SILVER, 38</td><td>1216.00</td><td>2005</td><td>July</td><td>FR</td></tr>",
                            "<tr><td>749</td><td>ROAD-150 RED, 62</td><td>6804.00</td><td>2005</td><td>July</td><td>BK</td></tr>",
                            "<tr><td>750</td><td>ROAD-150 RED, 44</td><td>6246.00</td><td>2005</td><td>July</td><td>BK</td></tr>",
                            "<tr><td>751</td><td>ROAD-150 RED, 48</td><td>6409.00</td><td>2005</td><td>July</td><td>BK</td></tr>",
                            "<tr><td>752</td><td>ROAD-150 RED, 52</td><td>6541.00</td><td>2005</td><td>July</td><td>BK</td></tr>",
                            "<tr><td>753</td><td>ROAD-150 RED, 56</td><td>6659.00</td><td>2005</td><td>July</td><td>BK</td></tr>",
                            "<tr><td>754</td><td>ROAD-450 RED, 58</td><td>8069.00</td><td>2005</td><td>July</td><td>BK</td></tr>",
                            "<tr><td>755</td><td>ROAD-450 RED, 60</td><td>8119.00</td><td>2005</td><td>July</td><td>BK</td></tr>",
                            "<tr><td>756</td><td>ROAD-450 RED, 44</td><td>7607.00</td><td>2005</td><td>July</td><td>BK</td></tr>",
                            "<tr><td>757</td><td>ROAD-450 RED, 48</td><td>7770.00</td><td>2005</td><td>July</td><td>BK</td></tr>",
                            "<tr><td>758</td><td>ROAD-450 RED, 52</td><td>7902.00</td><td>2005</td><td>July</td><td>BK</td></tr>",
                            "<tr><td>759</td><td>ROAD-650 RED, 58</td><td>8977.00</td><td>2005</td><td>July</td><td>BK</td></tr>",
                            "<tr><td>760</td><td>ROAD-650 RED, 60</td><td>9026.00</td><td>2005</td><td>July</td><td>BK</td></tr>",
                            "<tr><td>761</td><td>ROAD-650 RED, 62</td><td>9072.00</td><td>2005</td><td>July</td><td>BK</td></tr>",
                            "<tr><td>762</td><td>ROAD-650 RED, 44</td><td>8514.00</td><td>2005</td><td>July</td><td>BK</td></tr>",
                            "<tr><td>763</td><td>ROAD-650 RED, 48</td><td>8677.00</td><td>2005</td><td>July</td><td>BK</td></tr>",
                            "<tr><td>764</td><td>ROAD-650 RED, 52</td><td>8809.00</td><td>2005</td><td>July</td><td>BK</td></tr>",
                            "<tr><td>765</td><td>ROAD-650 BLACK, 58</td><td>8977.00</td><td>2005</td><td>July</td><td>BK</td></tr>",
                            "<tr><td>766</td><td>ROAD-650 BLACK, 60</td><td>9026.00</td><td>2005</td><td>July</td><td>BK</td></tr>",
                            "<tr><td>767</td><td>ROAD-650 BLACK, 62</td><td>9072.00</td><td>2005</td><td>July</td><td>BK</td></tr>",
                            "<tr><td>768</td><td>ROAD-650 BLACK, 44</td><td>8514.00</td><td>2005</td><td>July</td><td>BK</td></tr>",
                            "<tr><td>769</td><td>ROAD-650 BLACK, 48</td><td>8677.00</td><td>2005</td><td>July</td><td>BK</td></tr>",
                            "<tr><td>770</td><td>ROAD-650 BLACK, 52</td><td>8809.00</td><td>2005</td><td>July</td><td>BK</td></tr>",
                            "<tr><td>771</td><td>MOUNTAIN-100 SILVER, 38</td><td>9231.00</td><td>2005</td><td>July</td><td>BK</td></tr>",
                            "<tr><td>772</td><td>MOUNTAIN-100 SILVER, 42</td><td>9421.00</td><td>2005</td><td>July</td><td>BK</td></tr>",
                            "<tr><td>773</td><td>MOUNTAIN-100 SILVER, 44</td><td>9584.00</td><td>2005</td><td>July</td><td>BK</td></tr>",
                            "<tr><td>774</td><td>MOUNTAIN-100 SILVER, 48</td><td>9716.00</td><td>2005</td><td>July</td><td>BK</td></tr>",
                            "<tr><td>775</td><td>MOUNTAIN-100 BLACK, 38</td><td>9231.00</td><td>2005</td><td>July</td><td>BK</td></tr>",
                            "<tr><td>776</td><td>MOUNTAIN-100 BLACK, 42</td><td>9421.00</td><td>2005</td><td>July</td><td>BK</td></tr>",
                            "<tr><td>777</td><td>MOUNTAIN-100 BLACK, 44</td><td>9584.00</td><td>2005</td><td>July</td><td>BK</td></tr>",
                            "<tr><td>778</td><td>MOUNTAIN-100 BLACK, 48</td><td>9716.00</td><td>2005</td><td>July</td><td>BK</td></tr>",
                            "<tr><td>779</td><td>MOUNTAIN-200 SILVER, 38</td><td>10591.00</td><td>2006</td><td>July</td><td>BK</td></tr>",
                            "<tr><td>780</td><td>MOUNTAIN-200 SILVER, 42</td><td>10782.00</td><td>2006</td><td>July</td><td>BK</td></tr>",
                            "<tr><td>781</td><td>MOUNTAIN-200 SILVER, 46</td><td>10945.00</td><td>2006</td><td>July</td><td>BK</td></tr>",
                            "<tr><td>782</td><td>MOUNTAIN-200 BLACK, 38</td><td>10591.00</td><td>2006</td><td>July</td><td>BK</td></tr>",
                            "<tr><td>783</td><td>MOUNTAIN-200 BLACK, 42</td><td>10782.00</td><td>2006</td><td>July</td><td>BK</td></tr>",
                            "<tr><td>784</td><td>MOUNTAIN-200 BLACK, 46</td><td>10945.00</td><td>2006</td><td>July</td><td>BK</td></tr>",
                            "<tr><td>785</td><td>MOUNTAIN-300 BLACK, 38</td><td>11499.00</td><td>2006</td><td>July</td><td>BK</td></tr>",
                            "<tr><td>786</td><td>MOUNTAIN-300 BLACK, 40</td><td>11689.00</td><td>2006</td><td>July</td><td>BK</td></tr>",
                            "<tr><td>787</td><td>MOUNTAIN-300 BLACK, 44</td><td>11852.00</td><td>2006</td><td>July</td><td>BK</td></tr>",
                            "<tr><td>788</td><td>MOUNTAIN-300 BLACK, 48</td><td>11984.00</td><td>2006</td><td>July</td><td>BK</td></tr>",
                            "<tr><td>789</td><td>ROAD-250 RED, 44</td><td>6700.00</td><td>2006</td><td>July</td><td>BK</td></tr>",
                            "<tr><td>790</td><td>ROAD-250 RED, 48</td><td>6863.00</td><td>2006</td><td>July</td><td>BK</td></tr>",
                            "<tr><td>791</td><td>ROAD-250 RED, 52</td><td>6994.00</td><td>2006</td><td>July</td><td>BK</td></tr>",
                            "<tr><td>792</td><td>ROAD-250 RED, 58</td><td>7162.00</td><td>2006</td><td>July</td><td>BK</td></tr>",
                            "<tr><td>793</td><td>ROAD-250 BLACK, 44</td><td>6700.00</td><td>2006</td><td>July</td><td>BK</td></tr>",
                            "<tr><td>794</td><td>ROAD-250 BLACK, 48</td><td>6863.00</td><td>2006</td><td>July</td><td>BK</td></tr>",
                            "<tr><td>795</td><td>ROAD-250 BLACK, 52</td><td>6994.00</td><td>2006</td><td>July</td><td>BK</td></tr>",
                            "<tr><td>796</td><td>ROAD-250 BLACK, 58</td><td>7112.00</td><td>2006</td><td>July</td><td>BK</td></tr>",
                            "<tr><td>797</td><td>ROAD-550-W YELLOW, 38</td><td>7870.00</td><td>2006</td><td>July</td><td>BK</td></tr>",
                            "<tr><td>798</td><td>ROAD-550-W YELLOW, 40</td><td>8060.00</td><td>2006</td><td>July</td><td>BK</td></tr>",
                            "<tr><td>799</td><td>ROAD-550-W YELLOW, 42</td><td>8224.00</td><td>2006</td><td>July</td><td>BK</td></tr>",
                            "<tr><td>800</td><td>ROAD-550-W YELLOW, 44</td><td>8355.00</td><td>2006</td><td>July</td><td>BK</td></tr>",
                            "<tr><td>801</td><td>ROAD-550-W YELLOW, 48</td><td>8473.00</td><td>2006</td><td>July</td><td>BK</td></tr>",
                            "<tr><td>814</td><td>ML MOUNTAIN FRAME - BLACK, 38</td><td>1238.00</td><td>2006</td><td>July</td><td>FR</td></tr>",
                            "<tr><td>822</td><td>ML ROAD FRAME-W - YELLOW, 38</td><td>989.00</td><td>2006</td><td>July</td><td>FR</td></tr>",
                            "<tr><td>830</td><td>ML MOUNTAIN FRAME - BLACK, 40</td><td>1256.00</td><td>2006</td><td>July</td><td>FR</td></tr>",
                            "<tr><td>831</td><td>ML MOUNTAIN FRAME - BLACK, 44</td><td>1275.00</td><td>2006</td><td>July</td><td>FR</td></tr>",
                            "<tr><td>832</td><td>ML MOUNTAIN FRAME - BLACK, 48</td><td>1293.00</td><td>2006</td><td>July</td><td>FR</td></tr>",
                            "<tr><td>833</td><td>ML ROAD FRAME-W - YELLOW, 40</td><td>1007.00</td><td>2006</td><td>July</td><td>FR</td></tr>",
                            "<tr><td>834</td><td>ML ROAD FRAME-W - YELLOW, 42</td><td>1025.00</td><td>2006</td><td>July</td><td>FR</td></tr>",
                            "<tr><td>835</td><td>ML ROAD FRAME-W - YELLOW, 44</td><td>1043.00</td><td>2006</td><td>July</td><td>FR</td></tr>",
                            "<tr><td>836</td><td>ML ROAD FRAME-W - YELLOW, 48</td><td>1061.00</td><td>2006</td><td>July</td><td>FR</td></tr>",
                            "<tr><td>837</td><td>HL ROAD FRAME - BLACK, 62</td><td>1043.00</td><td>2006</td><td>July</td><td>FR</td></tr>",
                            "<tr><td>838</td><td>HL ROAD FRAME - BLACK, 44</td><td>962.00</td><td>2006</td><td>July</td><td>FR</td></tr>",
                            "<tr><td>839</td><td>HL ROAD FRAME - BLACK, 48</td><td>980.00</td><td>2006</td><td>July</td><td>FR</td></tr>",
                            "<tr><td>840</td><td>HL ROAD FRAME - BLACK, 52</td><td>998.00</td><td>2006</td><td>July</td><td>FR</td></tr>",
                            "<tr><td>880</td><td>HYDRATION PACK - 70 OZ.</td><td>NULL</td><td>2007</td><td>July</td><td>HY</td></tr>",
                            "<tr><td>885</td><td>HL TOURING FRAME - YELLOW, 60</td><td>1397.00</td><td>2007</td><td>July</td><td>FR</td></tr>",
                            "<tr><td>886</td><td>LL TOURING FRAME - YELLOW, 62</td><td>1451.00</td><td>2007</td><td>July</td><td>FR</td></tr>",
                            "<tr><td>887</td><td>HL TOURING FRAME - YELLOW, 46</td><td>1343.00</td><td>2007</td><td>July</td><td>FR</td></tr>",
                            "<tr><td>888</td><td>HL TOURING FRAME - YELLOW, 50</td><td>1361.00</td><td>2007</td><td>July</td><td>FR</td></tr>",
                            "<tr><td>889</td><td>HL TOURING FRAME - YELLOW, 54</td><td>1379.00</td><td>2007</td><td>July</td><td>FR</td></tr>",
                            "<tr><td>890</td><td>HL TOURING FRAME - BLUE, 46</td><td>1343.00</td><td>2007</td><td>July</td><td>FR</td></tr>",
                            "<tr><td>891</td><td>HL TOURING FRAME - BLUE, 50</td><td>1361.00</td><td>2007</td><td>July</td><td>FR</td></tr>",
                            "<tr><td>892</td><td>HL TOURING FRAME - BLUE, 54</td><td>1379.00</td><td>2007</td><td>July</td><td>FR</td></tr>",
                            "<tr><td>893</td><td>HL TOURING FRAME - BLUE, 60</td><td>1397.00</td><td>2007</td><td>July</td><td>FR</td></tr>",
                            "<tr><td>895</td><td>LL TOURING FRAME - BLUE, 50</td><td>1406.00</td><td>2007</td><td>July</td><td>FR</td></tr>",
                            "<tr><td>896</td><td>LL TOURING FRAME - BLUE, 54</td><td>1424.00</td><td>2007</td><td>July</td><td>FR</td></tr>",
                            "<tr><td>897</td><td>LL TOURING FRAME - BLUE, 58</td><td>1433.00</td><td>2007</td><td>July</td><td>FR</td></tr>",
                            "<tr><td>898</td><td>LL TOURING FRAME - BLUE, 62</td><td>1451.00</td><td>2007</td><td>July</td><td>FR</td></tr>",
                            "<tr><td>899</td><td>LL TOURING FRAME - YELLOW, 44</td><td>1370.00</td><td>2007</td><td>July</td><td>FR</td></tr>",
                            "<tr><td>900</td><td>LL TOURING FRAME - YELLOW, 50</td><td>1406.00</td><td>2007</td><td>July</td><td>FR</td></tr>",
                            "<tr><td>901</td><td>LL TOURING FRAME - YELLOW, 54</td><td>1424.00</td><td>2007</td><td>July</td><td>FR</td></tr>",
                            "<tr><td>902</td><td>LL TOURING FRAME - YELLOW, 58</td><td>1433.00</td><td>2007</td><td>July</td><td>FR</td></tr>",
                            "<tr><td>903</td><td>LL TOURING FRAME - BLUE, 44</td><td>1370.00</td><td>2007</td><td>July</td><td>FR</td></tr>",
                            "<tr><td>904</td><td>ML MOUNTAIN FRAME-W - SILVER, 40</td><td>1256.00</td><td>2007</td><td>July</td><td>FR</td></tr>",
                            "<tr><td>905</td><td>ML MOUNTAIN FRAME-W - SILVER, 42</td><td>1275.00</td><td>2007</td><td>July</td><td>FR</td></tr>",
                            "<tr><td>906</td><td>ML MOUNTAIN FRAME-W - SILVER, 46</td><td>1293.00</td><td>2007</td><td>July</td><td>FR</td></tr>",
                            "<tr><td>917</td><td>LL MOUNTAIN FRAME - SILVER, 42</td><td>1324.00</td><td>2007</td><td>July</td><td>FR</td></tr>",
                            "<tr><td>918</td><td>LL MOUNTAIN FRAME - SILVER, 44</td><td>1343.00</td><td>2007</td><td>July</td><td>FR</td></tr>",
                            "<tr><td>919</td><td>LL MOUNTAIN FRAME - SILVER, 48</td><td>1361.00</td><td>2007</td><td>July</td><td>FR</td></tr>",
                            "<tr><td>920</td><td>LL MOUNTAIN FRAME - SILVER, 52</td><td>1379.00</td><td>2007</td><td>July</td><td>FR</td></tr>",
                            "<tr><td>924</td><td>LL MOUNTAIN FRAME - BLACK, 42</td><td>1324.00</td><td>2007</td><td>July</td><td>FR</td></tr>",
                            "<tr><td>925</td><td>LL MOUNTAIN FRAME - BLACK, 44</td><td>1343.00</td><td>2007</td><td>July</td><td>FR</td></tr>",
                            "<tr><td>926</td><td>LL MOUNTAIN FRAME - BLACK, 48</td><td>1361.00</td><td>2007</td><td>July</td><td>FR</td></tr>",
                            "<tr><td>927</td><td>LL MOUNTAIN FRAME - BLACK, 52</td><td>1379.00</td><td>2007</td><td>July</td><td>FR</td></tr>",
                            "<tr><td>942</td><td>ML MOUNTAIN FRAME-W - SILVER, 38</td><td>1238.00</td><td>2007</td><td>July</td><td>FR</td></tr>",
                            "<tr><td>943</td><td>LL MOUNTAIN FRAME - BLACK, 40</td><td>1306.00</td><td>2007</td><td>July</td><td>FR</td></tr>",
                            "<tr><td>944</td><td>LL MOUNTAIN FRAME - SILVER, 40</td><td>1306.00</td><td>2007</td><td>July</td><td>FR</td></tr>",
                            "<tr><td>953</td><td>TOURING-2000 BLUE, 60</td><td>12655.00</td><td>2007</td><td>July</td><td>BK</td></tr>",
                            "<tr><td>954</td><td>TOURING-1000 YELLOW, 46</td><td>11399.00</td><td>2007</td><td>July</td><td>BK</td></tr>",
                            "<tr><td>955</td><td>TOURING-1000 YELLOW, 50</td><td>11530.00</td><td>2007</td><td>July</td><td>BK</td></tr>",
                            "<tr><td>956</td><td>TOURING-1000 YELLOW, 54</td><td>11648.00</td><td>2007</td><td>July</td><td>BK</td></tr>",
                            "<tr><td>957</td><td>TOURING-1000 YELLOW, 60</td><td>11748.00</td><td>2007</td><td>July</td><td>BK</td></tr>",
                            "<tr><td>958</td><td>TOURING-3000 BLUE, 54</td><td>13463.00</td><td>2007</td><td>July</td><td>BK</td></tr>",
                            "<tr><td>959</td><td>TOURING-3000 BLUE, 58</td><td>13562.00</td><td>2007</td><td>July</td><td>BK</td></tr>",
                            "<tr><td>960</td><td>TOURING-3000 BLUE, 62</td><td>13608.00</td><td>2007</td><td>July</td><td>BK</td></tr>",
                            "<tr><td>961</td><td>TOURING-3000 YELLOW, 44</td><td>13050.00</td><td>2007</td><td>July</td><td>BK</td></tr>",
                            "<tr><td>962</td><td>TOURING-3000 YELLOW, 50</td><td>13213.00</td><td>2007</td><td>July</td><td>BK</td></tr>",
                            "<tr><td>963</td><td>TOURING-3000 YELLOW, 54</td><td>13345.00</td><td>2007</td><td>July</td><td>BK</td></tr>",
                            "<tr><td>964</td><td>TOURING-3000 YELLOW, 58</td><td>13512.00</td><td>2007</td><td>July</td><td>BK</td></tr>",
                            "<tr><td>965</td><td>TOURING-3000 YELLOW, 62</td><td>13608.00</td><td>2007</td><td>July</td><td>BK</td></tr>",
                            "<tr><td>966</td><td>TOURING-1000 BLUE, 46</td><td>11399.00</td><td>2007</td><td>July</td><td>BK</td></tr>",
                            "<tr><td>967</td><td>TOURING-1000 BLUE, 50</td><td>11530.00</td><td>2007</td><td>July</td><td>BK</td></tr>",
                            "<tr><td>968</td><td>TOURING-1000 BLUE, 54</td><td>11648.00</td><td>2007</td><td>July</td><td>BK</td></tr>",
                            "<tr><td>969</td><td>TOURING-1000 BLUE, 60</td><td>11748.00</td><td>2007</td><td>July</td><td>BK</td></tr>",
                            "<tr><td>970</td><td>TOURING-2000 BLUE, 46</td><td>12306.00</td><td>2007</td><td>July</td><td>BK</td></tr>",
                            "<tr><td>971</td><td>TOURING-2000 BLUE, 50</td><td>12437.00</td><td>2007</td><td>July</td><td>BK</td></tr>",
                            "<tr><td>972</td><td>TOURING-2000 BLUE, 54</td><td>12555.00</td><td>2007</td><td>July</td><td>BK</td></tr>",
                            "<tr><td>973</td><td>ROAD-350-W YELLOW, 40</td><td>6963.00</td><td>2007</td><td>July</td><td>BK</td></tr>",
                            "<tr><td>974</td><td>ROAD-350-W YELLOW, 42</td><td>7153.00</td><td>2007</td><td>July</td><td>BK</td></tr>",
                            "<tr><td>975</td><td>ROAD-350-W YELLOW, 44</td><td>7316.00</td><td>2007</td><td>July</td><td>BK</td></tr>",
                            "<tr><td>976</td><td>ROAD-350-W YELLOW, 48</td><td>7448.00</td><td>2007</td><td>July</td><td>BK</td></tr>",
                            "<tr><td>977</td><td>ROAD-750 BLACK, 58</td><td>9430.00</td><td>2007</td><td>July</td><td>BK</td></tr>",
                            "<tr><td>978</td><td>TOURING-3000 BLUE, 44</td><td>13050.00</td><td>2007</td><td>July</td><td>BK</td></tr>",
                            "<tr><td>979</td><td>TOURING-3000 BLUE, 50</td><td>13213.00</td><td>2007</td><td>July</td><td>BK</td></tr>",
                            "<tr><td>980</td><td>MOUNTAIN-400-W SILVER, 38</td><td>11952.00</td><td>2007</td><td>July</td><td>BK</td></tr>",
                            "<tr><td>981</td><td>MOUNTAIN-400-W SILVER, 40</td><td>12143.00</td><td>2007</td><td>July</td><td>BK</td></tr>",
                            "<tr><td>982</td><td>MOUNTAIN-400-W SILVER, 42</td><td>12306.00</td><td>2007</td><td>July</td><td>BK</td></tr>",
                            "<tr><td>983</td><td>MOUNTAIN-400-W SILVER, 46</td><td>12437.00</td><td>2007</td><td>July</td><td>BK</td></tr>",
                            "<tr><td>984</td><td>MOUNTAIN-500 SILVER, 40</td><td>12406.00</td><td>2007</td><td>July</td><td>BK</td></tr>",
                            "<tr><td>985</td><td>MOUNTAIN-500 SILVER, 42</td><td>12596.00</td><td>2007</td><td>July</td><td>BK</td></tr>",
                            "<tr><td>986</td><td>MOUNTAIN-500 SILVER, 44</td><td>12759.00</td><td>2007</td><td>July</td><td>BK</td></tr>",
                            "<tr><td>987</td><td>MOUNTAIN-500 SILVER, 48</td><td>12891.00</td><td>2007</td><td>July</td><td>BK</td></tr>",
                            "<tr><td>988</td><td>MOUNTAIN-500 SILVER, 52</td><td>13009.00</td><td>2007</td><td>July</td><td>BK</td></tr>",
                            "<tr><td>989</td><td>MOUNTAIN-500 BLACK, 40</td><td>12406.00</td><td>2007</td><td>July</td><td>BK</td></tr>",
                            "<tr><td>990</td><td>MOUNTAIN-500 BLACK, 42</td><td>12596.00</td><td>2007</td><td>July</td><td>BK</td></tr>",
                            "<tr><td>991</td><td>MOUNTAIN-500 BLACK, 44</td><td>12759.00</td><td>2007</td><td>July</td><td>BK</td></tr>",
                            "<tr><td>992</td><td>MOUNTAIN-500 BLACK, 48</td><td>12891.00</td><td>2007</td><td>July</td><td>BK</td></tr>",
                            "<tr><td>993</td><td>MOUNTAIN-500 BLACK, 52</td><td>13009.00</td><td>2007</td><td>July</td><td>BK</td></tr>",
                            "<tr><td>997</td><td>ROAD-750 BLACK, 44</td><td>8967.00</td><td>2007</td><td>July</td><td>BK</td></tr>",
                            "<tr><td>998</td><td>ROAD-750 BLACK, 48</td><td>9131.00</td><td>2007</td><td>July</td><td>BK</td></tr>",
                            "<tr><td>999</td><td>ROAD-750 BLACK, 52</td><td>9262.00</td><td>2007</td><td>July</td><td>BK</td></tr>",
                            "</table>"
                        ]
                    }
                }
            ],
            "execution_count": 8
        },
        {
            "cell_type": "markdown",
            "source": [
                "**Challenge 2**\n",
                "\n",
                "  \n",
                "\n",
                "**1\\.** Retrieve companies ranked by sales totals Write a query that returns a list of company names with a ranking of their place in a list of highest TotalDue values from the SalesOrderHeader table"
            ],
            "metadata": {
                "azdata_cell_guid": "8db99168-2e81-47d9-ad2d-cde5f37a7aa1"
            },
            "attachments": {}
        },
        {
            "cell_type": "code",
            "source": [
                "SELECT C.CompanyName, SH.TotalDue, \r\n",
                "RANK()OVER(ORDER BY SH.TotalDue DESC) AS TotalDueRank\r\n",
                "FROM Customer AS C\r\n",
                "JOIN SalesOrderHeader AS SH\r\n",
                "ON C.CustomerID = SH.CustomerID;"
            ],
            "metadata": {
                "azdata_cell_guid": "940e7218-ec65-4786-baaf-7e84c327a207"
            },
            "outputs": [
                {
                    "output_type": "display_data",
                    "data": {
                        "text/html": "(32 rows affected)"
                    },
                    "metadata": {}
                },
                {
                    "output_type": "display_data",
                    "data": {
                        "text/html": "Total execution time: 00:00:00.160"
                    },
                    "metadata": {}
                },
                {
                    "output_type": "execute_result",
                    "metadata": {},
                    "execution_count": 12,
                    "data": {
                        "application/vnd.dataresource+json": {
                            "schema": {
                                "fields": [
                                    {
                                        "name": "CompanyName"
                                    },
                                    {
                                        "name": "TotalDue"
                                    },
                                    {
                                        "name": "TotalDueRank"
                                    }
                                ]
                            },
                            "data": [
                                {
                                    "0": "Action Bicycle Specialists",
                                    "1": "119960.8240",
                                    "2": "1"
                                },
                                {
                                    "0": "Metropolitan Bicycle Supply",
                                    "1": "108597.9536",
                                    "2": "2"
                                },
                                {
                                    "0": "Bulk Discount Store",
                                    "1": "98138.2131",
                                    "2": "3"
                                },
                                {
                                    "0": "Eastside Department Store",
                                    "1": "92663.5609",
                                    "2": "4"
                                },
                                {
                                    "0": "Riding Cycles",
                                    "1": "86222.8072",
                                    "2": "5"
                                },
                                {
                                    "0": "Many Bikes Store",
                                    "1": "81834.9826",
                                    "2": "6"
                                },
                                {
                                    "0": "Instruments and Parts Company",
                                    "1": "70698.9922",
                                    "2": "7"
                                },
                                {
                                    "0": "Extreme Riding Supplies",
                                    "1": "63686.2708",
                                    "2": "8"
                                },
                                {
                                    "0": "Trailblazing Sports",
                                    "1": "45992.3665",
                                    "2": "9"
                                },
                                {
                                    "0": "Professional Sales and Service",
                                    "1": "43962.7901",
                                    "2": "10"
                                },
                                {
                                    "0": "Nearby Cycle Shop",
                                    "1": "42452.6519",
                                    "2": "11"
                                },
                                {
                                    "0": "Closest Bicycle Store",
                                    "1": "39531.6085",
                                    "2": "12"
                                },
                                {
                                    "0": "Thrilling Bike Tours",
                                    "1": "15275.1977",
                                    "2": "13"
                                },
                                {
                                    "0": "Paints and Solvents Company",
                                    "1": "14017.9083",
                                    "2": "14"
                                },
                                {
                                    "0": "Remarkable Bike Store",
                                    "1": "7330.8972",
                                    "2": "15"
                                },
                                {
                                    "0": "Engineered Bike Systems",
                                    "1": "3754.9733",
                                    "2": "16"
                                },
                                {
                                    "0": "Sports Products Store",
                                    "1": "3673.3249",
                                    "2": "17"
                                },
                                {
                                    "0": "Discount Tours",
                                    "1": "3293.7761",
                                    "2": "18"
                                },
                                {
                                    "0": "Sports Store",
                                    "1": "2711.4098",
                                    "2": "19"
                                },
                                {
                                    "0": "Coalition Bike Company",
                                    "1": "2669.3183",
                                    "2": "20"
                                },
                                {
                                    "0": "Aerobic Exercise Company",
                                    "1": "2361.6403",
                                    "2": "21"
                                },
                                {
                                    "0": "Tachometers and Accessories",
                                    "1": "2228.0566",
                                    "2": "22"
                                },
                                {
                                    "0": "Thrifty Parts and Sales",
                                    "1": "1261.4440",
                                    "2": "23"
                                },
                                {
                                    "0": "Vigorous Sports Store",
                                    "1": "1170.5376",
                                    "2": "24"
                                },
                                {
                                    "0": "Good Toys",
                                    "1": "972.7850",
                                    "2": "25"
                                },
                                {
                                    "0": "Transport Bikes",
                                    "1": "665.4251",
                                    "2": "26"
                                },
                                {
                                    "0": "Channel Outlet",
                                    "1": "608.1766",
                                    "2": "27"
                                },
                                {
                                    "0": "Futuristic Bikes",
                                    "1": "272.6468",
                                    "2": "28"
                                },
                                {
                                    "0": "The Bicycle Accessories Company",
                                    "1": "117.7276",
                                    "2": "29"
                                },
                                {
                                    "0": "West Side Mart",
                                    "1": "87.0851",
                                    "2": "30"
                                },
                                {
                                    "0": "Essential Bike Works",
                                    "1": "45.1995",
                                    "2": "31"
                                },
                                {
                                    "0": "Central Bicycle Specialists",
                                    "1": "43.0437",
                                    "2": "32"
                                }
                            ]
                        },
                        "text/html": [
                            "<table>",
                            "<tr><th>CompanyName</th><th>TotalDue</th><th>TotalDueRank</th></tr>",
                            "<tr><td>Action Bicycle Specialists</td><td>119960.8240</td><td>1</td></tr>",
                            "<tr><td>Metropolitan Bicycle Supply</td><td>108597.9536</td><td>2</td></tr>",
                            "<tr><td>Bulk Discount Store</td><td>98138.2131</td><td>3</td></tr>",
                            "<tr><td>Eastside Department Store</td><td>92663.5609</td><td>4</td></tr>",
                            "<tr><td>Riding Cycles</td><td>86222.8072</td><td>5</td></tr>",
                            "<tr><td>Many Bikes Store</td><td>81834.9826</td><td>6</td></tr>",
                            "<tr><td>Instruments and Parts Company</td><td>70698.9922</td><td>7</td></tr>",
                            "<tr><td>Extreme Riding Supplies</td><td>63686.2708</td><td>8</td></tr>",
                            "<tr><td>Trailblazing Sports</td><td>45992.3665</td><td>9</td></tr>",
                            "<tr><td>Professional Sales and Service</td><td>43962.7901</td><td>10</td></tr>",
                            "<tr><td>Nearby Cycle Shop</td><td>42452.6519</td><td>11</td></tr>",
                            "<tr><td>Closest Bicycle Store</td><td>39531.6085</td><td>12</td></tr>",
                            "<tr><td>Thrilling Bike Tours</td><td>15275.1977</td><td>13</td></tr>",
                            "<tr><td>Paints and Solvents Company</td><td>14017.9083</td><td>14</td></tr>",
                            "<tr><td>Remarkable Bike Store</td><td>7330.8972</td><td>15</td></tr>",
                            "<tr><td>Engineered Bike Systems</td><td>3754.9733</td><td>16</td></tr>",
                            "<tr><td>Sports Products Store</td><td>3673.3249</td><td>17</td></tr>",
                            "<tr><td>Discount Tours</td><td>3293.7761</td><td>18</td></tr>",
                            "<tr><td>Sports Store</td><td>2711.4098</td><td>19</td></tr>",
                            "<tr><td>Coalition Bike Company</td><td>2669.3183</td><td>20</td></tr>",
                            "<tr><td>Aerobic Exercise Company</td><td>2361.6403</td><td>21</td></tr>",
                            "<tr><td>Tachometers and Accessories</td><td>2228.0566</td><td>22</td></tr>",
                            "<tr><td>Thrifty Parts and Sales</td><td>1261.4440</td><td>23</td></tr>",
                            "<tr><td>Vigorous Sports Store</td><td>1170.5376</td><td>24</td></tr>",
                            "<tr><td>Good Toys</td><td>972.7850</td><td>25</td></tr>",
                            "<tr><td>Transport Bikes</td><td>665.4251</td><td>26</td></tr>",
                            "<tr><td>Channel Outlet</td><td>608.1766</td><td>27</td></tr>",
                            "<tr><td>Futuristic Bikes</td><td>272.6468</td><td>28</td></tr>",
                            "<tr><td>The Bicycle Accessories Company</td><td>117.7276</td><td>29</td></tr>",
                            "<tr><td>West Side Mart</td><td>87.0851</td><td>30</td></tr>",
                            "<tr><td>Essential Bike Works</td><td>45.1995</td><td>31</td></tr>",
                            "<tr><td>Central Bicycle Specialists</td><td>43.0437</td><td>32</td></tr>",
                            "</table>"
                        ]
                    }
                }
            ],
            "execution_count": 12
        },
        {
            "cell_type": "markdown",
            "source": [
                "**Challenge 3**\n",
                "\n",
                "**1.** Retrieve total sales by product Write a query to retrieve a list of the product names and the total revenue calculated as the sum of the LineTotal from the SalesLT.SalesOrderDetail table, with the results sorted in descending order of total revenue"
            ],
            "metadata": {
                "azdata_cell_guid": "bdf3135f-6b50-4db4-9a3b-6930c6abc158"
            },
            "attachments": {}
        },
        {
            "cell_type": "code",
            "source": [
                "SELECT P.Name, SUM(SD.LineTotal) AS TotalRevenue\r\n",
                "FROM SalesOrderDetail AS SD\r\n",
                "JOIN Product AS P\r\n",
                "ON P.ProductID = SD.ProductID\r\n",
                "GROUP BY P.Name\r\n",
                "ORDER BY TotalRevenue DESC;"
            ],
            "metadata": {
                "azdata_cell_guid": "31809de2-d9f7-4a77-aec6-2034721c61fb"
            },
            "outputs": [
                {
                    "output_type": "display_data",
                    "data": {
                        "text/html": "(142 rows affected)"
                    },
                    "metadata": {}
                },
                {
                    "output_type": "display_data",
                    "data": {
                        "text/html": "Total execution time: 00:00:00.119"
                    },
                    "metadata": {}
                },
                {
                    "output_type": "execute_result",
                    "metadata": {},
                    "execution_count": 14,
                    "data": {
                        "application/vnd.dataresource+json": {
                            "schema": {
                                "fields": [
                                    {
                                        "name": "Name"
                                    },
                                    {
                                        "name": "TotalRevenue"
                                    }
                                ]
                            },
                            "data": [
                                {
                                    "0": "Touring-1000 Blue, 60",
                                    "1": "37191.492000"
                                },
                                {
                                    "0": "Mountain-200 Black, 42",
                                    "1": "37178.838000"
                                },
                                {
                                    "0": "Road-350-W Yellow, 48",
                                    "1": "36486.235500"
                                },
                                {
                                    "0": "Mountain-200 Black, 38",
                                    "1": "35801.844000"
                                },
                                {
                                    "0": "Touring-1000 Yellow, 60",
                                    "1": "23413.474656"
                                },
                                {
                                    "0": "Touring-1000 Blue, 50",
                                    "1": "22887.072000"
                                },
                                {
                                    "0": "Mountain-200 Silver, 42",
                                    "1": "20879.910000"
                                },
                                {
                                    "0": "Road-350-W Yellow, 40",
                                    "1": "20411.880000"
                                },
                                {
                                    "0": "Mountain-200 Black, 46",
                                    "1": "19277.916000"
                                },
                                {
                                    "0": "Road-350-W Yellow, 42",
                                    "1": "18692.519308"
                                },
                                {
                                    "0": "Mountain-200 Silver, 46",
                                    "1": "18095.922000"
                                },
                                {
                                    "0": "Road-250 Black, 44",
                                    "1": "17592.120000"
                                },
                                {
                                    "0": "Road-250 Black, 48",
                                    "1": "17592.120000"
                                },
                                {
                                    "0": "Touring-1000 Yellow, 46",
                                    "1": "17165.304000"
                                },
                                {
                                    "0": "Touring-1000 Blue, 46",
                                    "1": "17165.304000"
                                },
                                {
                                    "0": "Mountain-200 Silver, 38",
                                    "1": "15311.934000"
                                },
                                {
                                    "0": "Touring-2000 Blue, 54",
                                    "1": "13120.380000"
                                },
                                {
                                    "0": "HL Mountain Frame - Silver, 38",
                                    "1": "13099.200000"
                                },
                                {
                                    "0": "Road-550-W Yellow, 38",
                                    "1": "12773.586000"
                                },
                                {
                                    "0": "Road-250 Black, 52",
                                    "1": "11728.080000"
                                },
                                {
                                    "0": "Touring-3000 Blue, 50",
                                    "1": "10244.430000"
                                },
                                {
                                    "0": "HL Mountain Frame - Black, 42",
                                    "1": "9717.120000"
                                },
                                {
                                    "0": "Touring-3000 Yellow, 62",
                                    "1": "8650.159140"
                                },
                                {
                                    "0": "Touring-1000 Blue, 54",
                                    "1": "8582.652000"
                                },
                                {
                                    "0": "HL Mountain Frame - Silver, 46",
                                    "1": "8187.000000"
                                },
                                {
                                    "0": "Touring-3000 Yellow, 44",
                                    "1": "8017.380000"
                                },
                                {
                                    "0": "Touring-2000 Blue, 60",
                                    "1": "7289.100000"
                                },
                                {
                                    "0": "HL Touring Frame - Yellow, 60",
                                    "1": "7228.152000"
                                },
                                {
                                    "0": "Touring-1000 Yellow, 50",
                                    "1": "7152.210000"
                                },
                                {
                                    "0": "Road-750 Black, 48",
                                    "1": "6803.874000"
                                },
                                {
                                    "0": "Touring-3000 Blue, 54",
                                    "1": "6681.150000"
                                },
                                {
                                    "0": "Touring-2000 Blue, 46",
                                    "1": "6560.190000"
                                },
                                {
                                    "0": "Touring-2000 Blue, 50",
                                    "1": "6560.190000"
                                },
                                {
                                    "0": "Touring-1000 Yellow, 54",
                                    "1": "5721.768000"
                                },
                                {
                                    "0": "HL Mountain Frame - Black, 38",
                                    "1": "5668.320000"
                                },
                                {
                                    "0": "Road-550-W Yellow, 48",
                                    "1": "5378.352000"
                                },
                                {
                                    "0": "Road-550-W Yellow, 40",
                                    "1": "5378.352000"
                                },
                                {
                                    "0": "Road-750 Black, 52",
                                    "1": "5183.904000"
                                },
                                {
                                    "0": "HL Road Frame - Black, 44",
                                    "1": "5153.400000"
                                },
                                {
                                    "0": "Road-350-W Yellow, 44",
                                    "1": "5102.970000"
                                },
                                {
                                    "0": "HL Mountain Frame - Silver, 42",
                                    "1": "4912.200000"
                                },
                                {
                                    "0": "Road-750 Black, 58",
                                    "1": "4859.910000"
                                },
                                {
                                    "0": "Road-250 Black, 58",
                                    "1": "4398.030000"
                                },
                                {
                                    "0": "Road-250 Red, 58",
                                    "1": "4398.030000"
                                },
                                {
                                    "0": "ML Road Frame-W - Yellow, 44",
                                    "1": "4282.776000"
                                },
                                {
                                    "0": "ML Road Frame-W - Yellow, 48",
                                    "1": "4282.776000"
                                },
                                {
                                    "0": "HL Touring Frame - Blue, 54",
                                    "1": "4216.422000"
                                },
                                {
                                    "0": "Mountain-400-W Silver, 40",
                                    "1": "4155.246000"
                                },
                                {
                                    "0": "Mountain-400-W Silver, 46",
                                    "1": "4155.246000"
                                },
                                {
                                    "0": "Touring-3000 Yellow, 50",
                                    "1": "4008.690000"
                                },
                                {
                                    "0": "Mountain-500 Black, 48",
                                    "1": "3887.928000"
                                },
                                {
                                    "0": "Road-550-W Yellow, 42",
                                    "1": "3361.470000"
                                },
                                {
                                    "0": "Classic Vest, S",
                                    "1": "3014.503750"
                                },
                                {
                                    "0": "HL Touring Frame - Yellow, 54",
                                    "1": "3011.730000"
                                },
                                {
                                    "0": "HL Crankset",
                                    "1": "2915.928000"
                                },
                                {
                                    "0": "Touring-3000 Yellow, 54",
                                    "1": "2672.460000"
                                },
                                {
                                    "0": "Touring-3000 Blue, 58",
                                    "1": "2672.460000"
                                },
                                {
                                    "0": "ML Mountain Frame-W - Silver, 40",
                                    "1": "2621.448000"
                                },
                                {
                                    "0": "HL Road Frame - Red, 44",
                                    "1": "2576.700000"
                                },
                                {
                                    "0": "HL Road Frame - Red, 62",
                                    "1": "2576.700000"
                                },
                                {
                                    "0": "ML Mountain Frame-W - Silver, 42",
                                    "1": "2402.994000"
                                },
                                {
                                    "0": "Mountain-400-W Silver, 42",
                                    "1": "2308.470000"
                                },
                                {
                                    "0": "Hitch Rack - 4-Bike",
                                    "1": "2304.000000"
                                },
                                {
                                    "0": "Touring-3000 Blue, 44",
                                    "1": "2227.050000"
                                },
                                {
                                    "0": "LL Road Frame - Black, 52",
                                    "1": "2225.652000"
                                },
                                {
                                    "0": "Road-550-W Yellow, 44",
                                    "1": "2016.882000"
                                },
                                {
                                    "0": "Women's Mountain Shorts, S",
                                    "1": "1955.996532"
                                },
                                {
                                    "0": "Mountain-400-W Silver, 38",
                                    "1": "1846.776000"
                                },
                                {
                                    "0": "LL Road Frame - Black, 58",
                                    "1": "1820.988000"
                                },
                                {
                                    "0": "HL Touring Frame - Blue, 60",
                                    "1": "1807.038000"
                                },
                                {
                                    "0": "LL Mountain Frame - Black, 44",
                                    "1": "1798.488000"
                                },
                                {
                                    "0": "Short-Sleeve Classic Jersey, XL",
                                    "1": "1783.694625"
                                },
                                {
                                    "0": "Hydration Pack - 70 oz.",
                                    "1": "1649.700000"
                                },
                                {
                                    "0": "Mountain-500 Black, 44",
                                    "1": "1619.970000"
                                },
                                {
                                    "0": "Short-Sleeve Classic Jersey, L",
                                    "1": "1566.379476"
                                },
                                {
                                    "0": "Long-Sleeve Logo Jersey, L",
                                    "1": "1463.832175"
                                },
                                {
                                    "0": "ML Road Frame-W - Yellow, 38",
                                    "1": "1427.592000"
                                },
                                {
                                    "0": "LL Mountain Frame - Silver, 40",
                                    "1": "1425.870000"
                                },
                                {
                                    "0": "LL Mountain Frame - Silver, 44",
                                    "1": "1425.870000"
                                },
                                {
                                    "0": "LL Mountain Frame - Black, 42",
                                    "1": "1348.866000"
                                },
                                {
                                    "0": "Touring-3000 Blue, 62",
                                    "1": "1336.230000"
                                },
                                {
                                    "0": "Touring-3000 Yellow, 58",
                                    "1": "1336.230000"
                                },
                                {
                                    "0": "Classic Vest, M",
                                    "1": "1295.400000"
                                },
                                {
                                    "0": "LL Mountain Frame - Silver, 42",
                                    "1": "1267.440000"
                                },
                                {
                                    "0": "Mountain-500 Silver, 52",
                                    "1": "1152.579600"
                                },
                                {
                                    "0": "Women's Mountain Shorts, L",
                                    "1": "1133.838000"
                                },
                                {
                                    "0": "HL Bottom Bracket",
                                    "1": "1093.410000"
                                },
                                {
                                    "0": "LL Crankset",
                                    "1": "1052.940000"
                                },
                                {
                                    "0": "Sport-100 Helmet, Black",
                                    "1": "1031.995060"
                                },
                                {
                                    "0": "Short-Sleeve Classic Jersey, S",
                                    "1": "1004.214000"
                                },
                                {
                                    "0": "Mountain-500 Black, 52",
                                    "1": "971.982000"
                                },
                                {
                                    "0": "Mountain-500 Black, 40",
                                    "1": "971.982000"
                                },
                                {
                                    "0": "Mountain-500 Black, 42",
                                    "1": "971.982000"
                                },
                                {
                                    "0": "Road-750 Black, 44",
                                    "1": "971.982000"
                                },
                                {
                                    "0": "Mountain-500 Silver, 42",
                                    "1": "813.585600"
                                },
                                {
                                    "0": "Long-Sleeve Logo Jersey, M",
                                    "1": "779.844000"
                                },
                                {
                                    "0": "Front Brakes",
                                    "1": "766.800000"
                                },
                                {
                                    "0": "Sport-100 Helmet, Blue",
                                    "1": "757.096125"
                                },
                                {
                                    "0": "Mountain-500 Silver, 40",
                                    "1": "745.786800"
                                },
                                {
                                    "0": "Sport-100 Helmet, Red",
                                    "1": "734.790000"
                                },
                                {
                                    "0": "Front Derailleur",
                                    "1": "713.622000"
                                },
                                {
                                    "0": "ML Road Pedal",
                                    "1": "707.826000"
                                },
                                {
                                    "0": "HL Road Pedal",
                                    "1": "680.316000"
                                },
                                {
                                    "0": "HL Touring Frame - Blue, 50",
                                    "1": "602.346000"
                                },
                                {
                                    "0": "LL Touring Frame - Blue, 54",
                                    "1": "600.156000"
                                },
                                {
                                    "0": "LL Touring Frame - Yellow, 44",
                                    "1": "600.156000"
                                },
                                {
                                    "0": "LL Mountain Frame - Black, 48",
                                    "1": "599.496000"
                                },
                                {
                                    "0": "HL Mountain Pedal",
                                    "1": "583.128000"
                                },
                                {
                                    "0": "Rear Derailleur",
                                    "1": "583.008000"
                                },
                                {
                                    "0": "LL Road Pedal",
                                    "1": "510.174000"
                                },
                                {
                                    "0": "LL Mountain Frame - Silver, 52",
                                    "1": "475.290000"
                                },
                                {
                                    "0": "ML Mountain Handlebars",
                                    "1": "445.824000"
                                },
                                {
                                    "0": "Long-Sleeve Logo Jersey, XL",
                                    "1": "419.916000"
                                },
                                {
                                    "0": "Mountain-500 Silver, 48",
                                    "1": "406.792800"
                                },
                                {
                                    "0": "LL Touring Frame - Yellow, 50",
                                    "1": "400.104000"
                                },
                                {
                                    "0": "LL Touring Frame - Blue, 50",
                                    "1": "400.104000"
                                },
                                {
                                    "0": "Half-Finger Gloves, M",
                                    "1": "382.044000"
                                },
                                {
                                    "0": "ML Mountain Seat/Saddle",
                                    "1": "375.744000"
                                },
                                {
                                    "0": "LL Mountain Pedal",
                                    "1": "291.528000"
                                },
                                {
                                    "0": "HL Road Handlebars",
                                    "1": "288.648000"
                                },
                                {
                                    "0": "Half-Finger Gloves, L",
                                    "1": "279.186000"
                                },
                                {
                                    "0": "AWC Logo Cap",
                                    "1": "277.363076"
                                },
                                {
                                    "0": "Mountain-500 Silver, 44",
                                    "1": "271.195200"
                                },
                                {
                                    "0": "Racing Socks, L",
                                    "1": "264.298808"
                                },
                                {
                                    "0": "HL Touring Seat/Saddle",
                                    "1": "252.672000"
                                },
                                {
                                    "0": "Bike Wash - Dissolver",
                                    "1": "251.875875"
                                },
                                {
                                    "0": "LL Bottom Bracket",
                                    "1": "226.758000"
                                },
                                {
                                    "0": "ML Mountain Pedal",
                                    "1": "223.524000"
                                },
                                {
                                    "0": "HL Mountain Seat/Saddle",
                                    "1": "221.088000"
                                },
                                {
                                    "0": "HL Mountain Handlebars",
                                    "1": "216.486000"
                                },
                                {
                                    "0": "Women's Mountain Shorts, M",
                                    "1": "209.970000"
                                },
                                {
                                    "0": "LL Touring Frame - Yellow, 62",
                                    "1": "200.052000"
                                },
                                {
                                    "0": "LL Mountain Handlebars",
                                    "1": "187.068000"
                                },
                                {
                                    "0": "Half-Finger Gloves, S",
                                    "1": "176.328000"
                                },
                                {
                                    "0": "Water Bottle - 30 oz.",
                                    "1": "158.206952"
                                },
                                {
                                    "0": "LL Mountain Seat/Saddle",
                                    "1": "97.632000"
                                },
                                {
                                    "0": "Chain",
                                    "1": "97.152000"
                                },
                                {
                                    "0": "Racing Socks, M",
                                    "1": "80.910000"
                                },
                                {
                                    "0": "Rear Brakes",
                                    "1": "63.900000"
                                },
                                {
                                    "0": "HL Road Seat/Saddle",
                                    "1": "63.168000"
                                },
                                {
                                    "0": "HL Touring Handlebars",
                                    "1": "54.942000"
                                },
                                {
                                    "0": "Patch Kit/8 Patches",
                                    "1": "27.480000"
                                }
                            ]
                        },
                        "text/html": [
                            "<table>",
                            "<tr><th>Name</th><th>TotalRevenue</th></tr>",
                            "<tr><td>Touring-1000 Blue, 60</td><td>37191.492000</td></tr>",
                            "<tr><td>Mountain-200 Black, 42</td><td>37178.838000</td></tr>",
                            "<tr><td>Road-350-W Yellow, 48</td><td>36486.235500</td></tr>",
                            "<tr><td>Mountain-200 Black, 38</td><td>35801.844000</td></tr>",
                            "<tr><td>Touring-1000 Yellow, 60</td><td>23413.474656</td></tr>",
                            "<tr><td>Touring-1000 Blue, 50</td><td>22887.072000</td></tr>",
                            "<tr><td>Mountain-200 Silver, 42</td><td>20879.910000</td></tr>",
                            "<tr><td>Road-350-W Yellow, 40</td><td>20411.880000</td></tr>",
                            "<tr><td>Mountain-200 Black, 46</td><td>19277.916000</td></tr>",
                            "<tr><td>Road-350-W Yellow, 42</td><td>18692.519308</td></tr>",
                            "<tr><td>Mountain-200 Silver, 46</td><td>18095.922000</td></tr>",
                            "<tr><td>Road-250 Black, 44</td><td>17592.120000</td></tr>",
                            "<tr><td>Road-250 Black, 48</td><td>17592.120000</td></tr>",
                            "<tr><td>Touring-1000 Yellow, 46</td><td>17165.304000</td></tr>",
                            "<tr><td>Touring-1000 Blue, 46</td><td>17165.304000</td></tr>",
                            "<tr><td>Mountain-200 Silver, 38</td><td>15311.934000</td></tr>",
                            "<tr><td>Touring-2000 Blue, 54</td><td>13120.380000</td></tr>",
                            "<tr><td>HL Mountain Frame - Silver, 38</td><td>13099.200000</td></tr>",
                            "<tr><td>Road-550-W Yellow, 38</td><td>12773.586000</td></tr>",
                            "<tr><td>Road-250 Black, 52</td><td>11728.080000</td></tr>",
                            "<tr><td>Touring-3000 Blue, 50</td><td>10244.430000</td></tr>",
                            "<tr><td>HL Mountain Frame - Black, 42</td><td>9717.120000</td></tr>",
                            "<tr><td>Touring-3000 Yellow, 62</td><td>8650.159140</td></tr>",
                            "<tr><td>Touring-1000 Blue, 54</td><td>8582.652000</td></tr>",
                            "<tr><td>HL Mountain Frame - Silver, 46</td><td>8187.000000</td></tr>",
                            "<tr><td>Touring-3000 Yellow, 44</td><td>8017.380000</td></tr>",
                            "<tr><td>Touring-2000 Blue, 60</td><td>7289.100000</td></tr>",
                            "<tr><td>HL Touring Frame - Yellow, 60</td><td>7228.152000</td></tr>",
                            "<tr><td>Touring-1000 Yellow, 50</td><td>7152.210000</td></tr>",
                            "<tr><td>Road-750 Black, 48</td><td>6803.874000</td></tr>",
                            "<tr><td>Touring-3000 Blue, 54</td><td>6681.150000</td></tr>",
                            "<tr><td>Touring-2000 Blue, 46</td><td>6560.190000</td></tr>",
                            "<tr><td>Touring-2000 Blue, 50</td><td>6560.190000</td></tr>",
                            "<tr><td>Touring-1000 Yellow, 54</td><td>5721.768000</td></tr>",
                            "<tr><td>HL Mountain Frame - Black, 38</td><td>5668.320000</td></tr>",
                            "<tr><td>Road-550-W Yellow, 48</td><td>5378.352000</td></tr>",
                            "<tr><td>Road-550-W Yellow, 40</td><td>5378.352000</td></tr>",
                            "<tr><td>Road-750 Black, 52</td><td>5183.904000</td></tr>",
                            "<tr><td>HL Road Frame - Black, 44</td><td>5153.400000</td></tr>",
                            "<tr><td>Road-350-W Yellow, 44</td><td>5102.970000</td></tr>",
                            "<tr><td>HL Mountain Frame - Silver, 42</td><td>4912.200000</td></tr>",
                            "<tr><td>Road-750 Black, 58</td><td>4859.910000</td></tr>",
                            "<tr><td>Road-250 Black, 58</td><td>4398.030000</td></tr>",
                            "<tr><td>Road-250 Red, 58</td><td>4398.030000</td></tr>",
                            "<tr><td>ML Road Frame-W - Yellow, 44</td><td>4282.776000</td></tr>",
                            "<tr><td>ML Road Frame-W - Yellow, 48</td><td>4282.776000</td></tr>",
                            "<tr><td>HL Touring Frame - Blue, 54</td><td>4216.422000</td></tr>",
                            "<tr><td>Mountain-400-W Silver, 40</td><td>4155.246000</td></tr>",
                            "<tr><td>Mountain-400-W Silver, 46</td><td>4155.246000</td></tr>",
                            "<tr><td>Touring-3000 Yellow, 50</td><td>4008.690000</td></tr>",
                            "<tr><td>Mountain-500 Black, 48</td><td>3887.928000</td></tr>",
                            "<tr><td>Road-550-W Yellow, 42</td><td>3361.470000</td></tr>",
                            "<tr><td>Classic Vest, S</td><td>3014.503750</td></tr>",
                            "<tr><td>HL Touring Frame - Yellow, 54</td><td>3011.730000</td></tr>",
                            "<tr><td>HL Crankset</td><td>2915.928000</td></tr>",
                            "<tr><td>Touring-3000 Yellow, 54</td><td>2672.460000</td></tr>",
                            "<tr><td>Touring-3000 Blue, 58</td><td>2672.460000</td></tr>",
                            "<tr><td>ML Mountain Frame-W - Silver, 40</td><td>2621.448000</td></tr>",
                            "<tr><td>HL Road Frame - Red, 44</td><td>2576.700000</td></tr>",
                            "<tr><td>HL Road Frame - Red, 62</td><td>2576.700000</td></tr>",
                            "<tr><td>ML Mountain Frame-W - Silver, 42</td><td>2402.994000</td></tr>",
                            "<tr><td>Mountain-400-W Silver, 42</td><td>2308.470000</td></tr>",
                            "<tr><td>Hitch Rack - 4-Bike</td><td>2304.000000</td></tr>",
                            "<tr><td>Touring-3000 Blue, 44</td><td>2227.050000</td></tr>",
                            "<tr><td>LL Road Frame - Black, 52</td><td>2225.652000</td></tr>",
                            "<tr><td>Road-550-W Yellow, 44</td><td>2016.882000</td></tr>",
                            "<tr><td>Women's Mountain Shorts, S</td><td>1955.996532</td></tr>",
                            "<tr><td>Mountain-400-W Silver, 38</td><td>1846.776000</td></tr>",
                            "<tr><td>LL Road Frame - Black, 58</td><td>1820.988000</td></tr>",
                            "<tr><td>HL Touring Frame - Blue, 60</td><td>1807.038000</td></tr>",
                            "<tr><td>LL Mountain Frame - Black, 44</td><td>1798.488000</td></tr>",
                            "<tr><td>Short-Sleeve Classic Jersey, XL</td><td>1783.694625</td></tr>",
                            "<tr><td>Hydration Pack - 70 oz.</td><td>1649.700000</td></tr>",
                            "<tr><td>Mountain-500 Black, 44</td><td>1619.970000</td></tr>",
                            "<tr><td>Short-Sleeve Classic Jersey, L</td><td>1566.379476</td></tr>",
                            "<tr><td>Long-Sleeve Logo Jersey, L</td><td>1463.832175</td></tr>",
                            "<tr><td>ML Road Frame-W - Yellow, 38</td><td>1427.592000</td></tr>",
                            "<tr><td>LL Mountain Frame - Silver, 40</td><td>1425.870000</td></tr>",
                            "<tr><td>LL Mountain Frame - Silver, 44</td><td>1425.870000</td></tr>",
                            "<tr><td>LL Mountain Frame - Black, 42</td><td>1348.866000</td></tr>",
                            "<tr><td>Touring-3000 Blue, 62</td><td>1336.230000</td></tr>",
                            "<tr><td>Touring-3000 Yellow, 58</td><td>1336.230000</td></tr>",
                            "<tr><td>Classic Vest, M</td><td>1295.400000</td></tr>",
                            "<tr><td>LL Mountain Frame - Silver, 42</td><td>1267.440000</td></tr>",
                            "<tr><td>Mountain-500 Silver, 52</td><td>1152.579600</td></tr>",
                            "<tr><td>Women's Mountain Shorts, L</td><td>1133.838000</td></tr>",
                            "<tr><td>HL Bottom Bracket</td><td>1093.410000</td></tr>",
                            "<tr><td>LL Crankset</td><td>1052.940000</td></tr>",
                            "<tr><td>Sport-100 Helmet, Black</td><td>1031.995060</td></tr>",
                            "<tr><td>Short-Sleeve Classic Jersey, S</td><td>1004.214000</td></tr>",
                            "<tr><td>Mountain-500 Black, 52</td><td>971.982000</td></tr>",
                            "<tr><td>Mountain-500 Black, 40</td><td>971.982000</td></tr>",
                            "<tr><td>Mountain-500 Black, 42</td><td>971.982000</td></tr>",
                            "<tr><td>Road-750 Black, 44</td><td>971.982000</td></tr>",
                            "<tr><td>Mountain-500 Silver, 42</td><td>813.585600</td></tr>",
                            "<tr><td>Long-Sleeve Logo Jersey, M</td><td>779.844000</td></tr>",
                            "<tr><td>Front Brakes</td><td>766.800000</td></tr>",
                            "<tr><td>Sport-100 Helmet, Blue</td><td>757.096125</td></tr>",
                            "<tr><td>Mountain-500 Silver, 40</td><td>745.786800</td></tr>",
                            "<tr><td>Sport-100 Helmet, Red</td><td>734.790000</td></tr>",
                            "<tr><td>Front Derailleur</td><td>713.622000</td></tr>",
                            "<tr><td>ML Road Pedal</td><td>707.826000</td></tr>",
                            "<tr><td>HL Road Pedal</td><td>680.316000</td></tr>",
                            "<tr><td>HL Touring Frame - Blue, 50</td><td>602.346000</td></tr>",
                            "<tr><td>LL Touring Frame - Blue, 54</td><td>600.156000</td></tr>",
                            "<tr><td>LL Touring Frame - Yellow, 44</td><td>600.156000</td></tr>",
                            "<tr><td>LL Mountain Frame - Black, 48</td><td>599.496000</td></tr>",
                            "<tr><td>HL Mountain Pedal</td><td>583.128000</td></tr>",
                            "<tr><td>Rear Derailleur</td><td>583.008000</td></tr>",
                            "<tr><td>LL Road Pedal</td><td>510.174000</td></tr>",
                            "<tr><td>LL Mountain Frame - Silver, 52</td><td>475.290000</td></tr>",
                            "<tr><td>ML Mountain Handlebars</td><td>445.824000</td></tr>",
                            "<tr><td>Long-Sleeve Logo Jersey, XL</td><td>419.916000</td></tr>",
                            "<tr><td>Mountain-500 Silver, 48</td><td>406.792800</td></tr>",
                            "<tr><td>LL Touring Frame - Yellow, 50</td><td>400.104000</td></tr>",
                            "<tr><td>LL Touring Frame - Blue, 50</td><td>400.104000</td></tr>",
                            "<tr><td>Half-Finger Gloves, M</td><td>382.044000</td></tr>",
                            "<tr><td>ML Mountain Seat/Saddle</td><td>375.744000</td></tr>",
                            "<tr><td>LL Mountain Pedal</td><td>291.528000</td></tr>",
                            "<tr><td>HL Road Handlebars</td><td>288.648000</td></tr>",
                            "<tr><td>Half-Finger Gloves, L</td><td>279.186000</td></tr>",
                            "<tr><td>AWC Logo Cap</td><td>277.363076</td></tr>",
                            "<tr><td>Mountain-500 Silver, 44</td><td>271.195200</td></tr>",
                            "<tr><td>Racing Socks, L</td><td>264.298808</td></tr>",
                            "<tr><td>HL Touring Seat/Saddle</td><td>252.672000</td></tr>",
                            "<tr><td>Bike Wash - Dissolver</td><td>251.875875</td></tr>",
                            "<tr><td>LL Bottom Bracket</td><td>226.758000</td></tr>",
                            "<tr><td>ML Mountain Pedal</td><td>223.524000</td></tr>",
                            "<tr><td>HL Mountain Seat/Saddle</td><td>221.088000</td></tr>",
                            "<tr><td>HL Mountain Handlebars</td><td>216.486000</td></tr>",
                            "<tr><td>Women's Mountain Shorts, M</td><td>209.970000</td></tr>",
                            "<tr><td>LL Touring Frame - Yellow, 62</td><td>200.052000</td></tr>",
                            "<tr><td>LL Mountain Handlebars</td><td>187.068000</td></tr>",
                            "<tr><td>Half-Finger Gloves, S</td><td>176.328000</td></tr>",
                            "<tr><td>Water Bottle - 30 oz.</td><td>158.206952</td></tr>",
                            "<tr><td>LL Mountain Seat/Saddle</td><td>97.632000</td></tr>",
                            "<tr><td>Chain</td><td>97.152000</td></tr>",
                            "<tr><td>Racing Socks, M</td><td>80.910000</td></tr>",
                            "<tr><td>Rear Brakes</td><td>63.900000</td></tr>",
                            "<tr><td>HL Road Seat/Saddle</td><td>63.168000</td></tr>",
                            "<tr><td>HL Touring Handlebars</td><td>54.942000</td></tr>",
                            "<tr><td>Patch Kit/8 Patches</td><td>27.480000</td></tr>",
                            "</table>"
                        ]
                    }
                }
            ],
            "execution_count": 14
        },
        {
            "cell_type": "markdown",
            "source": [
                "**2**. Filter the product sales list to include only products that cost over $1,000 Modify the previous query to include sales totals for products that have a list price of more than $1000."
            ],
            "metadata": {
                "azdata_cell_guid": "09a61882-296c-4f43-bdc0-57065018eca7"
            },
            "attachments": {}
        },
        {
            "cell_type": "code",
            "source": [
                "SELECT P.Name, SUM(SD.LineTotal) AS TotalRevenue\r\n",
                "FROM SalesOrderDetail AS SD\r\n",
                "JOIN Product AS P\r\n",
                "ON P.ProductID = SD.ProductID\r\n",
                "WHERE P.ListPrice > 1000\r\n",
                "GROUP BY P.Name\r\n",
                "ORDER BY TotalRevenue DESC;"
            ],
            "metadata": {
                "azdata_cell_guid": "fe6cc48d-8e06-4b33-a4a8-2778609d2461"
            },
            "outputs": [
                {
                    "output_type": "display_data",
                    "data": {
                        "text/html": "(45 rows affected)"
                    },
                    "metadata": {}
                },
                {
                    "output_type": "display_data",
                    "data": {
                        "text/html": "Total execution time: 00:00:00.107"
                    },
                    "metadata": {}
                },
                {
                    "output_type": "execute_result",
                    "metadata": {},
                    "execution_count": 18,
                    "data": {
                        "application/vnd.dataresource+json": {
                            "schema": {
                                "fields": [
                                    {
                                        "name": "Name"
                                    },
                                    {
                                        "name": "TotalRevenue"
                                    }
                                ]
                            },
                            "data": [
                                {
                                    "0": "Touring-1000 Blue, 60",
                                    "1": "37191.492000"
                                },
                                {
                                    "0": "Mountain-200 Black, 42",
                                    "1": "37178.838000"
                                },
                                {
                                    "0": "Road-350-W Yellow, 48",
                                    "1": "36486.235500"
                                },
                                {
                                    "0": "Mountain-200 Black, 38",
                                    "1": "35801.844000"
                                },
                                {
                                    "0": "Touring-1000 Yellow, 60",
                                    "1": "23413.474656"
                                },
                                {
                                    "0": "Touring-1000 Blue, 50",
                                    "1": "22887.072000"
                                },
                                {
                                    "0": "Mountain-200 Silver, 42",
                                    "1": "20879.910000"
                                },
                                {
                                    "0": "Road-350-W Yellow, 40",
                                    "1": "20411.880000"
                                },
                                {
                                    "0": "Mountain-200 Black, 46",
                                    "1": "19277.916000"
                                },
                                {
                                    "0": "Road-350-W Yellow, 42",
                                    "1": "18692.519308"
                                },
                                {
                                    "0": "Mountain-200 Silver, 46",
                                    "1": "18095.922000"
                                },
                                {
                                    "0": "Road-250 Black, 44",
                                    "1": "17592.120000"
                                },
                                {
                                    "0": "Road-250 Black, 48",
                                    "1": "17592.120000"
                                },
                                {
                                    "0": "Touring-1000 Blue, 46",
                                    "1": "17165.304000"
                                },
                                {
                                    "0": "Touring-1000 Yellow, 46",
                                    "1": "17165.304000"
                                },
                                {
                                    "0": "Mountain-200 Silver, 38",
                                    "1": "15311.934000"
                                },
                                {
                                    "0": "Touring-2000 Blue, 54",
                                    "1": "13120.380000"
                                },
                                {
                                    "0": "HL Mountain Frame - Silver, 38",
                                    "1": "13099.200000"
                                },
                                {
                                    "0": "Road-550-W Yellow, 38",
                                    "1": "12773.586000"
                                },
                                {
                                    "0": "Road-250 Black, 52",
                                    "1": "11728.080000"
                                },
                                {
                                    "0": "HL Mountain Frame - Black, 42",
                                    "1": "9717.120000"
                                },
                                {
                                    "0": "Touring-1000 Blue, 54",
                                    "1": "8582.652000"
                                },
                                {
                                    "0": "HL Mountain Frame - Silver, 46",
                                    "1": "8187.000000"
                                },
                                {
                                    "0": "Touring-2000 Blue, 60",
                                    "1": "7289.100000"
                                },
                                {
                                    "0": "HL Touring Frame - Yellow, 60",
                                    "1": "7228.152000"
                                },
                                {
                                    "0": "Touring-1000 Yellow, 50",
                                    "1": "7152.210000"
                                },
                                {
                                    "0": "Touring-2000 Blue, 46",
                                    "1": "6560.190000"
                                },
                                {
                                    "0": "Touring-2000 Blue, 50",
                                    "1": "6560.190000"
                                },
                                {
                                    "0": "Touring-1000 Yellow, 54",
                                    "1": "5721.768000"
                                },
                                {
                                    "0": "HL Mountain Frame - Black, 38",
                                    "1": "5668.320000"
                                },
                                {
                                    "0": "Road-550-W Yellow, 48",
                                    "1": "5378.352000"
                                },
                                {
                                    "0": "Road-550-W Yellow, 40",
                                    "1": "5378.352000"
                                },
                                {
                                    "0": "HL Road Frame - Black, 44",
                                    "1": "5153.400000"
                                },
                                {
                                    "0": "Road-350-W Yellow, 44",
                                    "1": "5102.970000"
                                },
                                {
                                    "0": "HL Mountain Frame - Silver, 42",
                                    "1": "4912.200000"
                                },
                                {
                                    "0": "Road-250 Black, 58",
                                    "1": "4398.030000"
                                },
                                {
                                    "0": "Road-250 Red, 58",
                                    "1": "4398.030000"
                                },
                                {
                                    "0": "HL Touring Frame - Blue, 54",
                                    "1": "4216.422000"
                                },
                                {
                                    "0": "Road-550-W Yellow, 42",
                                    "1": "3361.470000"
                                },
                                {
                                    "0": "HL Touring Frame - Yellow, 54",
                                    "1": "3011.730000"
                                },
                                {
                                    "0": "HL Road Frame - Red, 62",
                                    "1": "2576.700000"
                                },
                                {
                                    "0": "HL Road Frame - Red, 44",
                                    "1": "2576.700000"
                                },
                                {
                                    "0": "Road-550-W Yellow, 44",
                                    "1": "2016.882000"
                                },
                                {
                                    "0": "HL Touring Frame - Blue, 60",
                                    "1": "1807.038000"
                                },
                                {
                                    "0": "HL Touring Frame - Blue, 50",
                                    "1": "602.346000"
                                }
                            ]
                        },
                        "text/html": [
                            "<table>",
                            "<tr><th>Name</th><th>TotalRevenue</th></tr>",
                            "<tr><td>Touring-1000 Blue, 60</td><td>37191.492000</td></tr>",
                            "<tr><td>Mountain-200 Black, 42</td><td>37178.838000</td></tr>",
                            "<tr><td>Road-350-W Yellow, 48</td><td>36486.235500</td></tr>",
                            "<tr><td>Mountain-200 Black, 38</td><td>35801.844000</td></tr>",
                            "<tr><td>Touring-1000 Yellow, 60</td><td>23413.474656</td></tr>",
                            "<tr><td>Touring-1000 Blue, 50</td><td>22887.072000</td></tr>",
                            "<tr><td>Mountain-200 Silver, 42</td><td>20879.910000</td></tr>",
                            "<tr><td>Road-350-W Yellow, 40</td><td>20411.880000</td></tr>",
                            "<tr><td>Mountain-200 Black, 46</td><td>19277.916000</td></tr>",
                            "<tr><td>Road-350-W Yellow, 42</td><td>18692.519308</td></tr>",
                            "<tr><td>Mountain-200 Silver, 46</td><td>18095.922000</td></tr>",
                            "<tr><td>Road-250 Black, 44</td><td>17592.120000</td></tr>",
                            "<tr><td>Road-250 Black, 48</td><td>17592.120000</td></tr>",
                            "<tr><td>Touring-1000 Blue, 46</td><td>17165.304000</td></tr>",
                            "<tr><td>Touring-1000 Yellow, 46</td><td>17165.304000</td></tr>",
                            "<tr><td>Mountain-200 Silver, 38</td><td>15311.934000</td></tr>",
                            "<tr><td>Touring-2000 Blue, 54</td><td>13120.380000</td></tr>",
                            "<tr><td>HL Mountain Frame - Silver, 38</td><td>13099.200000</td></tr>",
                            "<tr><td>Road-550-W Yellow, 38</td><td>12773.586000</td></tr>",
                            "<tr><td>Road-250 Black, 52</td><td>11728.080000</td></tr>",
                            "<tr><td>HL Mountain Frame - Black, 42</td><td>9717.120000</td></tr>",
                            "<tr><td>Touring-1000 Blue, 54</td><td>8582.652000</td></tr>",
                            "<tr><td>HL Mountain Frame - Silver, 46</td><td>8187.000000</td></tr>",
                            "<tr><td>Touring-2000 Blue, 60</td><td>7289.100000</td></tr>",
                            "<tr><td>HL Touring Frame - Yellow, 60</td><td>7228.152000</td></tr>",
                            "<tr><td>Touring-1000 Yellow, 50</td><td>7152.210000</td></tr>",
                            "<tr><td>Touring-2000 Blue, 46</td><td>6560.190000</td></tr>",
                            "<tr><td>Touring-2000 Blue, 50</td><td>6560.190000</td></tr>",
                            "<tr><td>Touring-1000 Yellow, 54</td><td>5721.768000</td></tr>",
                            "<tr><td>HL Mountain Frame - Black, 38</td><td>5668.320000</td></tr>",
                            "<tr><td>Road-550-W Yellow, 48</td><td>5378.352000</td></tr>",
                            "<tr><td>Road-550-W Yellow, 40</td><td>5378.352000</td></tr>",
                            "<tr><td>HL Road Frame - Black, 44</td><td>5153.400000</td></tr>",
                            "<tr><td>Road-350-W Yellow, 44</td><td>5102.970000</td></tr>",
                            "<tr><td>HL Mountain Frame - Silver, 42</td><td>4912.200000</td></tr>",
                            "<tr><td>Road-250 Black, 58</td><td>4398.030000</td></tr>",
                            "<tr><td>Road-250 Red, 58</td><td>4398.030000</td></tr>",
                            "<tr><td>HL Touring Frame - Blue, 54</td><td>4216.422000</td></tr>",
                            "<tr><td>Road-550-W Yellow, 42</td><td>3361.470000</td></tr>",
                            "<tr><td>HL Touring Frame - Yellow, 54</td><td>3011.730000</td></tr>",
                            "<tr><td>HL Road Frame - Red, 62</td><td>2576.700000</td></tr>",
                            "<tr><td>HL Road Frame - Red, 44</td><td>2576.700000</td></tr>",
                            "<tr><td>Road-550-W Yellow, 44</td><td>2016.882000</td></tr>",
                            "<tr><td>HL Touring Frame - Blue, 60</td><td>1807.038000</td></tr>",
                            "<tr><td>HL Touring Frame - Blue, 50</td><td>602.346000</td></tr>",
                            "</table>"
                        ]
                    }
                }
            ],
            "execution_count": 18
        },
        {
            "cell_type": "markdown",
            "source": [
                "**3\\.** Filter the product sales groups to include only total sales over $20,000 Modify the previous query to only include only product groups with a total sales value greater than $20,000"
            ],
            "metadata": {
                "azdata_cell_guid": "8d70b50b-f69e-4149-a8e1-42fd2587d919"
            },
            "attachments": {}
        },
        {
            "cell_type": "code",
            "source": [
                "SELECT P.Name, SUM(SD.LineTotal) AS TotalRevenue\r\n",
                "FROM SalesOrderDetail AS SD\r\n",
                "JOIN Product AS P\r\n",
                "ON P.ProductID = SD.ProductID\r\n",
                "GROUP BY P.Name\r\n",
                "HAVING SUM(SD.LineTotal) > 20000\r\n",
                "ORDER BY TotalRevenue DESC;"
            ],
            "metadata": {
                "azdata_cell_guid": "69b64218-88a8-4a0f-9620-7a68327755e1"
            },
            "outputs": [
                {
                    "output_type": "display_data",
                    "data": {
                        "text/html": "(8 rows affected)"
                    },
                    "metadata": {}
                },
                {
                    "output_type": "display_data",
                    "data": {
                        "text/html": "Total execution time: 00:00:00.111"
                    },
                    "metadata": {}
                },
                {
                    "output_type": "execute_result",
                    "metadata": {},
                    "execution_count": 19,
                    "data": {
                        "application/vnd.dataresource+json": {
                            "schema": {
                                "fields": [
                                    {
                                        "name": "Name"
                                    },
                                    {
                                        "name": "TotalRevenue"
                                    }
                                ]
                            },
                            "data": [
                                {
                                    "0": "Touring-1000 Blue, 60",
                                    "1": "37191.492000"
                                },
                                {
                                    "0": "Mountain-200 Black, 42",
                                    "1": "37178.838000"
                                },
                                {
                                    "0": "Road-350-W Yellow, 48",
                                    "1": "36486.235500"
                                },
                                {
                                    "0": "Mountain-200 Black, 38",
                                    "1": "35801.844000"
                                },
                                {
                                    "0": "Touring-1000 Yellow, 60",
                                    "1": "23413.474656"
                                },
                                {
                                    "0": "Touring-1000 Blue, 50",
                                    "1": "22887.072000"
                                },
                                {
                                    "0": "Mountain-200 Silver, 42",
                                    "1": "20879.910000"
                                },
                                {
                                    "0": "Road-350-W Yellow, 40",
                                    "1": "20411.880000"
                                }
                            ]
                        },
                        "text/html": [
                            "<table>",
                            "<tr><th>Name</th><th>TotalRevenue</th></tr>",
                            "<tr><td>Touring-1000 Blue, 60</td><td>37191.492000</td></tr>",
                            "<tr><td>Mountain-200 Black, 42</td><td>37178.838000</td></tr>",
                            "<tr><td>Road-350-W Yellow, 48</td><td>36486.235500</td></tr>",
                            "<tr><td>Mountain-200 Black, 38</td><td>35801.844000</td></tr>",
                            "<tr><td>Touring-1000 Yellow, 60</td><td>23413.474656</td></tr>",
                            "<tr><td>Touring-1000 Blue, 50</td><td>22887.072000</td></tr>",
                            "<tr><td>Mountain-200 Silver, 42</td><td>20879.910000</td></tr>",
                            "<tr><td>Road-350-W Yellow, 40</td><td>20411.880000</td></tr>",
                            "</table>"
                        ]
                    }
                }
            ],
            "execution_count": 19
        }
    ]
}