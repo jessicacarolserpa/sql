{
    "metadata": {
        "kernelspec": {
            "name": "SQL",
            "display_name": "SQL",
            "language": "sql"
        },
        "language_info": {
            "name": "sql",
            "version": ""
        },
        "extensions": {
            "azuredatastudio": {
                "version": 1,
                "views": []
            }
        }
    },
    "nbformat_minor": 2,
    "nbformat": 4,
    "cells": [
        {
            "cell_type": "markdown",
            "source": [
                "**<u>Lab07</u>**"
            ],
            "metadata": {
                "azdata_cell_guid": "2485fdf1-8d8f-4645-b388-1f99fb350b58"
            }
        },
        {
            "cell_type": "markdown",
            "source": [
                "**Challenge 1**\n",
                "\n",
                "**1.** Retrieve product model descriptions Retrieve the product ID, product name, product model name, and product model summary for each product from the SalesLT.Product table and the SalesLT.vProductModelCatalogDescription view."
            ],
            "metadata": {
                "azdata_cell_guid": "f6c5b4fa-34b7-4703-9bcf-fe675ad83e06"
            },
            "attachments": {}
        },
        {
            "cell_type": "code",
            "source": [
                "SELECT p.ProductID, p.Name AS ProductName, pmcd.Name AS ProductModelName, pmcd.Summary AS ProductModelSummary\r\n",
                "FROM Product AS p\r\n",
                "JOIN vProductModelCatalogDescription AS pmcd\r\n",
                "ON p.ProductModelID = pmcd.ProductModelID\r\n",
                "ORDER BY p.ProductID;"
            ],
            "metadata": {
                "azdata_cell_guid": "5b4d9cc2-8375-4ff9-b2d1-113322e0f331"
            },
            "outputs": [
                {
                    "output_type": "error",
                    "evalue": "Msg 208, Level 16, State 1, Line 1\r\nInvalid object name 'vProductModelCatalogDescription'.",
                    "ename": "",
                    "traceback": []
                },
                {
                    "output_type": "display_data",
                    "data": {
                        "text/html": "Total execution time: 00:00:00.189"
                    },
                    "metadata": {}
                }
            ],
            "execution_count": 1
        },
        {
            "cell_type": "markdown",
            "source": [
                "**2**. Create a table of distinct colors Tip: Review the documentation for Variables in Transact-SQL Language Reference. Create a table variable and populate it with a list of distinct colors from the SalesLT.Product table. Then use the table variable to filter a query that returns the product ID, name, and color from the SalesLT.Product table so that only products with a color listed in the table variable are returned."
            ],
            "metadata": {
                "azdata_cell_guid": "1bab23cd-38a5-4376-b07a-64e45ba508e5"
            },
            "attachments": {}
        },
        {
            "cell_type": "code",
            "source": [
                "DECLARE @Colors AS TABLE(Color varchar(15));\r\n",
                "INSERT INTO @Colors\r\n",
                "SELECT DISTINCT Color FROM Product;\r\n",
                "\r\n",
                "SELECT ProductID, Name AS ProductName, Color\r\n",
                "FROM SalesLT.Product\r\n",
                "WHERE Color IN (SELECT * FROM @Colors);"
            ],
            "metadata": {
                "azdata_cell_guid": "13eaeb78-7440-4eb3-bb9d-08b679a508a1",
                "tags": []
            },
            "outputs": [
                {
                    "output_type": "display_data",
                    "data": {
                        "text/html": "(10 rows affected)"
                    },
                    "metadata": {}
                },
                {
                    "output_type": "display_data",
                    "data": {
                        "text/html": "Total execution time: 00:00:00.101"
                    },
                    "metadata": {}
                }
            ],
            "execution_count": 2
        },
        {
            "cell_type": "markdown",
            "source": [
                "**3\\.** Retrieve product parent categories The AdventureWorksLT database includes a table-valued function named dbo.ufnGetAllCategories, which returns a table of product categories (for example ‘Road Bikes’) and parent categories (for example ‘Bikes’). Write a query that uses this function to return a list of all products including their parent category and category"
            ],
            "metadata": {
                "azdata_cell_guid": "c1215bd2-8c88-44f8-b433-627c3b3a00bf"
            },
            "attachments": {}
        },
        {
            "cell_type": "code",
            "source": [
                "SELECT p.ProductID, p.Name, ac.ParentProductCategoryName, ac.ProductCategoryName\r\n",
                "FROM Product AS p\r\n",
                "JOIN dbo.ufnGetAllCategories() AS ac\r\n",
                "ON p.ProductCategoryID = ac.ProductCategoryID\r\n",
                "ORDER BY p.ProductID;"
            ],
            "metadata": {
                "azdata_cell_guid": "865d7deb-9f85-40eb-815e-77f81657d44d"
            },
            "outputs": [],
            "execution_count": null
        },
        {
            "cell_type": "markdown",
            "source": [
                "**Challenge 2**\n",
                "\n",
                "  \n",
                "\n",
                "**1.** Retrieve sales revenue by customer and contact Retrieve a list of customers in the format Company (Contact Name) together with the total revenue for that customer. Use a derived table or a common table expression to retrieve the details for each sales order, and then query the derived table or CTE to aggregate and group the data."
            ],
            "metadata": {
                "azdata_cell_guid": "67c5e832-53b1-45c0-a377-f65f0f3949cd"
            },
            "attachments": {}
        },
        {
            "cell_type": "code",
            "source": [
                "WITH SoSummary(ContactName, TotalDue)\r\n",
                "AS\r\n",
                "(\r\n",
                "SELECT CONCAT(c.CompanyName, ' ('+c.FirstName+' '+c.LastName+') '), soh.TotalDue\r\n",
                "FROM SalesOrderHeader AS soh\r\n",
                "JOIN Customer AS c\r\n",
                "ON soh.CustomerID = c.CustomerID\r\n",
                ")\r\n",
                "SELECT ContactName, SUM(TotalDue) AS TotalRevenue\r\n",
                "FROM SoSummary\r\n",
                "GROUP BY ContactName\r\n",
                "ORDER BY ContactName;"
            ],
            "metadata": {
                "azdata_cell_guid": "32c09df8-e5d6-47c5-a509-1c5a3611aa3c"
            },
            "outputs": [],
            "execution_count": null
        }
    ]
}