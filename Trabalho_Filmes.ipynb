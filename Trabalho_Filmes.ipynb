{
    "metadata": {
        "kernelspec": {
            "name": "SQL",
            "display_name": "SQL",
            "language": "sql"
        },
        "language_info": {
            "name": "sql",
            "version": ""
        },
        "extensions": {
            "azuredatastudio": {
                "version": 1,
                "views": []
            }
        }
    },
    "nbformat_minor": 2,
    "nbformat": 4,
    "cells": [
        {
            "cell_type": "markdown",
            "source": [
                "1\\. Listar os títulos de todos os filmes dirigidos por Steven Spielberg"
            ],
            "metadata": {
                "azdata_cell_guid": "1f40e7e5-3585-4c5a-b16b-62db051c6ad1"
            },
            "attachments": {}
        },
        {
            "cell_type": "code",
            "source": [
                "SELECT titulo\r\n",
                "FROM filme \r\n",
                "WHERE realizador = 'Steven Spielberg'"
            ],
            "metadata": {
                "azdata_cell_guid": "b61a41c9-b46c-4ccf-ac72-38deea0ed448"
            },
            "outputs": [
                {
                    "output_type": "display_data",
                    "data": {
                        "text/html": "(2 rows affected)"
                    },
                    "metadata": {}
                },
                {
                    "output_type": "display_data",
                    "data": {
                        "text/html": "Total execution time: 00:00:00.140"
                    },
                    "metadata": {}
                },
                {
                    "output_type": "execute_result",
                    "metadata": {},
                    "execution_count": 2,
                    "data": {
                        "application/vnd.dataresource+json": {
                            "schema": {
                                "fields": [
                                    {
                                        "name": "titulo"
                                    }
                                ]
                            },
                            "data": [
                                {
                                    "0": "E.T."
                                },
                                {
                                    "0": "Raiders of the Lost Ark"
                                }
                            ]
                        },
                        "text/html": [
                            "<table>",
                            "<tr><th>titulo</th></tr>",
                            "<tr><td>E.T.</td></tr>",
                            "<tr><td>Raiders of the Lost Ark</td></tr>",
                            "</table>"
                        ]
                    }
                }
            ],
            "execution_count": 2
        },
        {
            "cell_type": "markdown",
            "source": [
                "2\\. Listar todos os anos em que foi produzido um filme que recebeu uma classificação de 4 ou 5, e ordene-os por ordem crescente."
            ],
            "metadata": {
                "azdata_cell_guid": "674c4abb-a036-46fc-b1f5-ad2acf3f3d2f"
            },
            "attachments": {}
        },
        {
            "cell_type": "code",
            "source": [
                "SELECT DISTINCT ano \r\n",
                "FROM Filme f\r\n",
                "JOIN Classificacao c\r\n",
                "ON f.fID = c.fid \r\n",
                "WHERE estrelas IN (4, 5)\r\n",
                "ORDER BY ano "
            ],
            "metadata": {
                "azdata_cell_guid": "36aa616c-40e9-46a7-a3b0-34ce411cc1b4"
            },
            "outputs": [
                {
                    "output_type": "display_data",
                    "data": {
                        "text/html": "(4 rows affected)"
                    },
                    "metadata": {}
                },
                {
                    "output_type": "display_data",
                    "data": {
                        "text/html": "Total execution time: 00:00:00.102"
                    },
                    "metadata": {}
                },
                {
                    "output_type": "execute_result",
                    "metadata": {},
                    "execution_count": 209,
                    "data": {
                        "application/vnd.dataresource+json": {
                            "schema": {
                                "fields": [
                                    {
                                        "name": "ano"
                                    }
                                ]
                            },
                            "data": [
                                {
                                    "0": "1937"
                                },
                                {
                                    "0": "1939"
                                },
                                {
                                    "0": "1981"
                                },
                                {
                                    "0": "2009"
                                }
                            ]
                        },
                        "text/html": [
                            "<table>",
                            "<tr><th>ano</th></tr>",
                            "<tr><td>1937</td></tr>",
                            "<tr><td>1939</td></tr>",
                            "<tr><td>1981</td></tr>",
                            "<tr><td>2009</td></tr>",
                            "</table>"
                        ]
                    }
                }
            ],
            "execution_count": 209
        },
        {
            "cell_type": "markdown",
            "source": [
                "3\\. Listar os títulos de todos os filmes que não têm nenhuma classificação."
            ],
            "metadata": {
                "azdata_cell_guid": "9ae3fc08-ea22-4acf-be85-3a62df1bfce6"
            },
            "attachments": {}
        },
        {
            "cell_type": "code",
            "source": [
                "SELECT titulo AS 'Filmes sem classificação'\r\n",
                "FROM Filme f\r\n",
                "LEFT JOIN Classificacao c\r\n",
                "ON f.fID = c.fid \r\n",
                "WHERE estrelas IS NULL"
            ],
            "metadata": {
                "azdata_cell_guid": "fee6971c-989f-4f19-bf19-b4b4d228675e"
            },
            "outputs": [
                {
                    "output_type": "display_data",
                    "data": {
                        "text/html": "(2 rows affected)"
                    },
                    "metadata": {}
                },
                {
                    "output_type": "display_data",
                    "data": {
                        "text/html": "Total execution time: 00:00:00.094"
                    },
                    "metadata": {}
                },
                {
                    "output_type": "execute_result",
                    "metadata": {},
                    "execution_count": 7,
                    "data": {
                        "application/vnd.dataresource+json": {
                            "schema": {
                                "fields": [
                                    {
                                        "name": "Filmes sem classificação"
                                    }
                                ]
                            },
                            "data": [
                                {
                                    "0": "Star Wars"
                                },
                                {
                                    "0": "Titanic"
                                }
                            ]
                        },
                        "text/html": [
                            "<table>",
                            "<tr><th>Filmes sem classificação</th></tr>",
                            "<tr><td>Star Wars</td></tr>",
                            "<tr><td>Titanic</td></tr>",
                            "</table>"
                        ]
                    }
                }
            ],
            "execution_count": 7
        },
        {
            "cell_type": "markdown",
            "source": [
                "4\\. Alguns críticos não inseriram a data correspondente à sua classificação. Listar os nomes de todos os críticos que têm classificações em que a correspondente data é NULL."
            ],
            "metadata": {
                "azdata_cell_guid": "5e8e0e2b-9945-4f40-89fa-f65164e6d532"
            },
            "attachments": {}
        },
        {
            "cell_type": "code",
            "source": [
                "SELECT nome AS 'Criticos'\r\n",
                "FROM Classificacao c\r\n",
                "JOIN Critico cr\r\n",
                "ON c.cID = cr.cID\r\n",
                "WHERE dataClassificacao IS NULL"
            ],
            "metadata": {
                "azdata_cell_guid": "a20c9f8c-a084-4234-8797-5a3d7c3b5c0d"
            },
            "outputs": [
                {
                    "output_type": "display_data",
                    "data": {
                        "text/html": "(2 rows affected)"
                    },
                    "metadata": {}
                },
                {
                    "output_type": "display_data",
                    "data": {
                        "text/html": "Total execution time: 00:00:00.094"
                    },
                    "metadata": {}
                },
                {
                    "output_type": "execute_result",
                    "metadata": {},
                    "execution_count": 10,
                    "data": {
                        "application/vnd.dataresource+json": {
                            "schema": {
                                "fields": [
                                    {
                                        "name": "Criticos"
                                    }
                                ]
                            },
                            "data": [
                                {
                                    "0": "Daniel Morgado"
                                },
                                {
                                    "0": "Maria Cravo"
                                }
                            ]
                        },
                        "text/html": [
                            "<table>",
                            "<tr><th>Criticos</th></tr>",
                            "<tr><td>Daniel Morgado</td></tr>",
                            "<tr><td>Maria Cravo</td></tr>",
                            "</table>"
                        ]
                    }
                }
            ],
            "execution_count": 10
        },
        {
            "cell_type": "markdown",
            "source": [
                "5\\. Escrever uma query que apresenta as classificações no seguinte formato: nome do crítico, título do filme, nº de estrelas e data da classificação. Ordene o resultado por esta ordem: nome do crítico, título do filme, nº de estrelas."
            ],
            "metadata": {
                "azdata_cell_guid": "74171e94-1d5e-45b8-aed8-c3785e866e8a"
            },
            "attachments": {}
        },
        {
            "cell_type": "code",
            "source": [
                "SELECT cr.nome, f.titulo, c.estrelas, c.dataClassificacao\r\n",
                "FROM Classificacao c\r\n",
                "JOIN  filme f \r\n",
                "ON f.fID = c.fID \r\n",
                "JOIN Critico cr \r\n",
                "ON c.cID = cr.cID \r\n",
                "ORDER BY cr.nome, f.titulo, c.estrelas"
            ],
            "metadata": {
                "azdata_cell_guid": "c22ff894-5e40-4918-867c-1d36fceaf65a"
            },
            "outputs": [
                {
                    "output_type": "display_data",
                    "data": {
                        "text/html": "(14 rows affected)"
                    },
                    "metadata": {}
                },
                {
                    "output_type": "display_data",
                    "data": {
                        "text/html": "Total execution time: 00:00:00.115"
                    },
                    "metadata": {}
                },
                {
                    "output_type": "execute_result",
                    "metadata": {},
                    "execution_count": 15,
                    "data": {
                        "application/vnd.dataresource+json": {
                            "schema": {
                                "fields": [
                                    {
                                        "name": "nome"
                                    },
                                    {
                                        "name": "titulo"
                                    },
                                    {
                                        "name": "estrelas"
                                    },
                                    {
                                        "name": "dataClassificacao"
                                    }
                                ]
                            },
                            "data": [
                                {
                                    "0": "Ana Santos",
                                    "1": "Avatar",
                                    "2": "5",
                                    "3": "2011-01-20"
                                },
                                {
                                    "0": "Beatriz Costa",
                                    "1": "Raiders of the Lost Ark",
                                    "2": "2",
                                    "3": "2011-01-30"
                                },
                                {
                                    "0": "Beatriz Costa",
                                    "1": "Raiders of the Lost Ark",
                                    "2": "4",
                                    "3": "2011-01-12"
                                },
                                {
                                    "0": "Beatriz Costa",
                                    "1": "The Sound of Music",
                                    "2": "2",
                                    "3": "2011-01-20"
                                },
                                {
                                    "0": "Carolina Branco",
                                    "1": "E.T.",
                                    "2": "3",
                                    "3": "2011-01-02"
                                },
                                {
                                    "0": "Daniel Morgado",
                                    "1": "Snow White",
                                    "2": "4",
                                    "3": "NULL"
                                },
                                {
                                    "0": "Isabel Silva",
                                    "1": "Avatar",
                                    "2": "3",
                                    "3": "2011-01-15"
                                },
                                {
                                    "0": "Isabel Silva",
                                    "1": "Snow White",
                                    "2": "5",
                                    "3": "2011-01-19"
                                },
                                {
                                    "0": "Maria Cravo",
                                    "1": "E.T.",
                                    "2": "2",
                                    "3": "2011-01-22"
                                },
                                {
                                    "0": "Maria Cravo",
                                    "1": "Raiders of the Lost Ark",
                                    "2": "4",
                                    "3": "NULL"
                                },
                                {
                                    "0": "Maria Cravo",
                                    "1": "The Sound of Music",
                                    "2": "3",
                                    "3": "2011-01-27"
                                },
                                {
                                    "0": "Sara Martins",
                                    "1": "Gone with the Wind",
                                    "2": "2",
                                    "3": "2011-01-22"
                                },
                                {
                                    "0": "Sara Martins",
                                    "1": "Gone with the Wind",
                                    "2": "4",
                                    "3": "2011-01-27"
                                },
                                {
                                    "0": "Tiago Gamboa",
                                    "1": "Gone with the Wind",
                                    "2": "3",
                                    "3": "2011-01-09"
                                }
                            ]
                        },
                        "text/html": [
                            "<table>",
                            "<tr><th>nome</th><th>titulo</th><th>estrelas</th><th>dataClassificacao</th></tr>",
                            "<tr><td>Ana Santos</td><td>Avatar</td><td>5</td><td>2011-01-20</td></tr>",
                            "<tr><td>Beatriz Costa</td><td>Raiders of the Lost Ark</td><td>2</td><td>2011-01-30</td></tr>",
                            "<tr><td>Beatriz Costa</td><td>Raiders of the Lost Ark</td><td>4</td><td>2011-01-12</td></tr>",
                            "<tr><td>Beatriz Costa</td><td>The Sound of Music</td><td>2</td><td>2011-01-20</td></tr>",
                            "<tr><td>Carolina Branco</td><td>E.T.</td><td>3</td><td>2011-01-02</td></tr>",
                            "<tr><td>Daniel Morgado</td><td>Snow White</td><td>4</td><td>NULL</td></tr>",
                            "<tr><td>Isabel Silva</td><td>Avatar</td><td>3</td><td>2011-01-15</td></tr>",
                            "<tr><td>Isabel Silva</td><td>Snow White</td><td>5</td><td>2011-01-19</td></tr>",
                            "<tr><td>Maria Cravo</td><td>E.T.</td><td>2</td><td>2011-01-22</td></tr>",
                            "<tr><td>Maria Cravo</td><td>Raiders of the Lost Ark</td><td>4</td><td>NULL</td></tr>",
                            "<tr><td>Maria Cravo</td><td>The Sound of Music</td><td>3</td><td>2011-01-27</td></tr>",
                            "<tr><td>Sara Martins</td><td>Gone with the Wind</td><td>2</td><td>2011-01-22</td></tr>",
                            "<tr><td>Sara Martins</td><td>Gone with the Wind</td><td>4</td><td>2011-01-27</td></tr>",
                            "<tr><td>Tiago Gamboa</td><td>Gone with the Wind</td><td>3</td><td>2011-01-09</td></tr>",
                            "</table>"
                        ]
                    }
                }
            ],
            "execution_count": 15
        },
        {
            "cell_type": "markdown",
            "source": [
                "6\\. Em todos os casos em que o mesmo crítico classificou o mesmo filme mais do que uma vez, sendo uma classificação posterior superior a uma anterior, listar o nome do crítico e o título do filme."
            ],
            "metadata": {
                "azdata_cell_guid": "f9a3df11-bcd3-415b-aa86-b09f636e5561"
            },
            "attachments": {}
        },
        {
            "cell_type": "markdown",
            "source": [
                "Fizemos subquery na clausula FROM para podermos \"criar\" uma tabela que cruze a Tabela Classificação com ela propria (Tabela pai C, com a tabela filha C2) e podermos retirar apenas as classificações superiores, e com data mais recente, chamando a esta tabela tabela Maximo, a partir daqui fizemos JOIN com as outras duas tabelas para retirarmos o nome do filme e o nome do critico"
            ],
            "metadata": {
                "azdata_cell_guid": "6597b8f7-507f-40af-8a8f-4e1b79804395"
            },
            "attachments": {}
        },
        {
            "cell_type": "code",
            "source": [
                "SELECT cr.nome, f.titulo\r\n",
                "FROM\r\n",
                "    (SELECT c.cid,c.fid\r\n",
                "    FROM Classificacao C \r\n",
                "    JOIN Classificacao AS C2\r\n",
                "    ON c.cID = C2.cID\r\n",
                "    AND c.fID = C2.fID\r\n",
                "    AND C.estrelas < C2.estrelas\r\n",
                "    AND c.dataClassificacao < c2.dataClassificacao\r\n",
                "GROUP BY c.cID, c.fID) Maximo\r\n",
                "JOIN Critico CR \r\n",
                "ON Maximo.cID = cr.cID\r\n",
                "JOIN Filme F \r\n",
                "ON Maximo.fID=f.fID"
            ],
            "metadata": {
                "azdata_cell_guid": "02fe8be2-8b35-4d4f-b5dd-471fcd5bce77"
            },
            "outputs": [
                {
                    "output_type": "display_data",
                    "data": {
                        "text/html": "(1 row affected)"
                    },
                    "metadata": {}
                },
                {
                    "output_type": "display_data",
                    "data": {
                        "text/html": "Total execution time: 00:00:00.098"
                    },
                    "metadata": {}
                },
                {
                    "output_type": "execute_result",
                    "metadata": {},
                    "execution_count": 206,
                    "data": {
                        "application/vnd.dataresource+json": {
                            "schema": {
                                "fields": [
                                    {
                                        "name": "nome"
                                    },
                                    {
                                        "name": "titulo"
                                    }
                                ]
                            },
                            "data": [
                                {
                                    "0": "Sara Martins",
                                    "1": "Gone with the Wind"
                                }
                            ]
                        },
                        "text/html": [
                            "<table>",
                            "<tr><th>nome</th><th>titulo</th></tr>",
                            "<tr><td>Sara Martins</td><td>Gone with the Wind</td></tr>",
                            "</table>"
                        ]
                    }
                }
            ],
            "execution_count": 206
        },
        {
            "cell_type": "markdown",
            "source": [
                "7\\. Para cada filme com pelo menos uma classificação, pesquisar a classificação máxima que lhe foi atribuída. Listar o título do filme e a classificação máxima, ordenando por título do filme."
            ],
            "metadata": {
                "azdata_cell_guid": "dd356646-8871-4071-8853-b02a7cf4d7d5"
            },
            "attachments": {}
        },
        {
            "cell_type": "code",
            "source": [
                "SELECT f.titulo, MAX(estrelas) AS 'Classificação Máxima'\r\n",
                "FROM filme f \r\n",
                "JOIN Classificacao c\r\n",
                "ON f.fID = c.fID\r\n",
                "GROUP BY titulo\r\n",
                "ORDER BY titulo"
            ],
            "metadata": {
                "azdata_cell_guid": "9c9f1732-afe9-425c-b1ba-b3d625441857"
            },
            "outputs": [
                {
                    "output_type": "display_data",
                    "data": {
                        "text/html": "(6 rows affected)"
                    },
                    "metadata": {}
                },
                {
                    "output_type": "display_data",
                    "data": {
                        "text/html": "Total execution time: 00:00:00.126"
                    },
                    "metadata": {}
                },
                {
                    "output_type": "execute_result",
                    "metadata": {},
                    "execution_count": 210,
                    "data": {
                        "application/vnd.dataresource+json": {
                            "schema": {
                                "fields": [
                                    {
                                        "name": "titulo"
                                    },
                                    {
                                        "name": "Classificação Máxima"
                                    }
                                ]
                            },
                            "data": [
                                {
                                    "0": "Avatar",
                                    "1": "5"
                                },
                                {
                                    "0": "E.T.",
                                    "1": "3"
                                },
                                {
                                    "0": "Gone with the Wind",
                                    "1": "4"
                                },
                                {
                                    "0": "Raiders of the Lost Ark",
                                    "1": "4"
                                },
                                {
                                    "0": "Snow White",
                                    "1": "5"
                                },
                                {
                                    "0": "The Sound of Music",
                                    "1": "3"
                                }
                            ]
                        },
                        "text/html": [
                            "<table>",
                            "<tr><th>titulo</th><th>Classificação Máxima</th></tr>",
                            "<tr><td>Avatar</td><td>5</td></tr>",
                            "<tr><td>E.T.</td><td>3</td></tr>",
                            "<tr><td>Gone with the Wind</td><td>4</td></tr>",
                            "<tr><td>Raiders of the Lost Ark</td><td>4</td></tr>",
                            "<tr><td>Snow White</td><td>5</td></tr>",
                            "<tr><td>The Sound of Music</td><td>3</td></tr>",
                            "</table>"
                        ]
                    }
                }
            ],
            "execution_count": 210
        },
        {
            "cell_type": "markdown",
            "source": [
                "8\\. Para cada filme com pelo menos uma classificação, listar os seus títulos e as médias das classificações por ordem decrescente destas últimas. Listar por ordem alfabética os filmes com as mesmas médias."
            ],
            "metadata": {
                "azdata_cell_guid": "6e7cae0b-8376-4c33-ad12-eb7dc9818269"
            },
            "attachments": {}
        },
        {
            "cell_type": "code",
            "source": [
                "SELECT f.titulo, AVG(estrelas) AS 'Média de Classificações'\r\n",
                "FROM filme f \r\n",
                "JOIN Classificacao c\r\n",
                "ON f.fID = c.fID\r\n",
                "GROUP BY titulo \r\n",
                "HAVING EXISTS \r\n",
                "    (SELECT * \r\n",
                "    FROM Classificacao\r\n",
                "    WHERE estrelas IS NOT NULL)\r\n",
                "ORDER BY 'Média de Classificações' DESC, titulo"
            ],
            "metadata": {
                "azdata_cell_guid": "13fb9d30-bc2a-4f05-9243-a106e750cad5",
                "tags": []
            },
            "outputs": [
                {
                    "output_type": "display_data",
                    "data": {
                        "text/html": "(6 rows affected)"
                    },
                    "metadata": {}
                },
                {
                    "output_type": "display_data",
                    "data": {
                        "text/html": "Total execution time: 00:00:00.095"
                    },
                    "metadata": {}
                },
                {
                    "output_type": "execute_result",
                    "metadata": {},
                    "execution_count": 211,
                    "data": {
                        "application/vnd.dataresource+json": {
                            "schema": {
                                "fields": [
                                    {
                                        "name": "titulo"
                                    },
                                    {
                                        "name": "Média de Classificações"
                                    }
                                ]
                            },
                            "data": [
                                {
                                    "0": "Avatar",
                                    "1": "4"
                                },
                                {
                                    "0": "Snow White",
                                    "1": "4"
                                },
                                {
                                    "0": "Gone with the Wind",
                                    "1": "3"
                                },
                                {
                                    "0": "Raiders of the Lost Ark",
                                    "1": "3"
                                },
                                {
                                    "0": "E.T.",
                                    "1": "2"
                                },
                                {
                                    "0": "The Sound of Music",
                                    "1": "2"
                                }
                            ]
                        },
                        "text/html": [
                            "<table>",
                            "<tr><th>titulo</th><th>Média de Classificações</th></tr>",
                            "<tr><td>Avatar</td><td>4</td></tr>",
                            "<tr><td>Snow White</td><td>4</td></tr>",
                            "<tr><td>Gone with the Wind</td><td>3</td></tr>",
                            "<tr><td>Raiders of the Lost Ark</td><td>3</td></tr>",
                            "<tr><td>E.T.</td><td>2</td></tr>",
                            "<tr><td>The Sound of Music</td><td>2</td></tr>",
                            "</table>"
                        ]
                    }
                }
            ],
            "execution_count": 211
        },
        {
            "cell_type": "markdown",
            "source": [
                "9\\. Listar os nomes de todos os críticos que contribuíram com 3 ou mais classificações."
            ],
            "metadata": {
                "azdata_cell_guid": "5f0e8a80-a75d-46d5-b911-e08fce21c6b0"
            },
            "attachments": {}
        },
        {
            "cell_type": "code",
            "source": [
                "SELECT cr.nome\r\n",
                "FROM Classificacao c\r\n",
                "JOIN Critico cr \r\n",
                "ON c.cID = cr.cID\r\n",
                "GROUP BY cr.nome \r\n",
                "HAVING COUNT(c.cID) >=3"
            ],
            "metadata": {
                "azdata_cell_guid": "29dadf3e-9ca2-4d5a-80a9-5dc28dbb41ca"
            },
            "outputs": [
                {
                    "output_type": "display_data",
                    "data": {
                        "text/html": "(2 rows affected)"
                    },
                    "metadata": {}
                },
                {
                    "output_type": "display_data",
                    "data": {
                        "text/html": "Total execution time: 00:00:00.103"
                    },
                    "metadata": {}
                },
                {
                    "output_type": "execute_result",
                    "metadata": {},
                    "execution_count": 44,
                    "data": {
                        "application/vnd.dataresource+json": {
                            "schema": {
                                "fields": [
                                    {
                                        "name": "nome"
                                    }
                                ]
                            },
                            "data": [
                                {
                                    "0": "Beatriz Costa"
                                },
                                {
                                    "0": "Maria Cravo"
                                }
                            ]
                        },
                        "text/html": [
                            "<table>",
                            "<tr><th>nome</th></tr>",
                            "<tr><td>Beatriz Costa</td></tr>",
                            "<tr><td>Maria Cravo</td></tr>",
                            "</table>"
                        ]
                    }
                }
            ],
            "execution_count": 44
        },
        {
            "cell_type": "markdown",
            "source": [
                "10\\. Adicione à base de dados o crítico Diogo Silva, com um cID=209."
            ],
            "metadata": {
                "azdata_cell_guid": "8b82fc6d-0fd8-4c9f-9375-25250ef698b9"
            },
            "attachments": {}
        },
        {
            "cell_type": "code",
            "source": [
                "INSERT INTO critico (CID, nome)\r\n",
                "VALUES (209, 'Diogo Silva')"
            ],
            "metadata": {
                "azdata_cell_guid": "55285f37-ebfc-494d-9284-660b74b781b3"
            },
            "outputs": [
                {
                    "output_type": "display_data",
                    "data": {
                        "text/html": "(1 row affected)"
                    },
                    "metadata": {}
                },
                {
                    "output_type": "display_data",
                    "data": {
                        "text/html": "Total execution time: 00:00:00.106"
                    },
                    "metadata": {}
                }
            ],
            "execution_count": 48
        },
        {
            "cell_type": "markdown",
            "source": [
                "11\\. Para cada filme, listar o seu título e a diferença entre a classificação mais alta e mais baixa que lhe foram atribuídas. Ordenar por ordem descendente da diferença de classificações e depois pelo título do filme."
            ],
            "metadata": {
                "azdata_cell_guid": "87ebbce7-8f6a-4f6e-836d-e89d9bc4bfbc"
            },
            "attachments": {}
        },
        {
            "cell_type": "code",
            "source": [
                "SELECT f.titulo, MAX(estrelas) - MIN(estrelas) AS 'Diferença entre Classificações'\r\n",
                "FROM filme f \r\n",
                "JOIN Classificacao c \r\n",
                "ON f.fID = c.fID\r\n",
                "GROUP BY titulo \r\n",
                "ORDER BY 'Diferença entre Classificações'DESC, titulo\r\n",
                ""
            ],
            "metadata": {
                "azdata_cell_guid": "e76d7386-73d1-4cb2-bf3c-360be3de5d25"
            },
            "outputs": [
                {
                    "output_type": "display_data",
                    "data": {
                        "text/html": "(6 rows affected)"
                    },
                    "metadata": {}
                },
                {
                    "output_type": "display_data",
                    "data": {
                        "text/html": "Total execution time: 00:00:00.101"
                    },
                    "metadata": {}
                },
                {
                    "output_type": "execute_result",
                    "metadata": {},
                    "execution_count": 52,
                    "data": {
                        "application/vnd.dataresource+json": {
                            "schema": {
                                "fields": [
                                    {
                                        "name": "titulo"
                                    },
                                    {
                                        "name": "Diferença entre Classificações"
                                    }
                                ]
                            },
                            "data": [
                                {
                                    "0": "Avatar",
                                    "1": "2"
                                },
                                {
                                    "0": "Gone with the Wind",
                                    "1": "2"
                                },
                                {
                                    "0": "Raiders of the Lost Ark",
                                    "1": "2"
                                },
                                {
                                    "0": "E.T.",
                                    "1": "1"
                                },
                                {
                                    "0": "Snow White",
                                    "1": "1"
                                },
                                {
                                    "0": "The Sound of Music",
                                    "1": "1"
                                }
                            ]
                        },
                        "text/html": [
                            "<table>",
                            "<tr><th>titulo</th><th>Diferença entre Classificações</th></tr>",
                            "<tr><td>Avatar</td><td>2</td></tr>",
                            "<tr><td>Gone with the Wind</td><td>2</td></tr>",
                            "<tr><td>Raiders of the Lost Ark</td><td>2</td></tr>",
                            "<tr><td>E.T.</td><td>1</td></tr>",
                            "<tr><td>Snow White</td><td>1</td></tr>",
                            "<tr><td>The Sound of Music</td><td>1</td></tr>",
                            "</table>"
                        ]
                    }
                }
            ],
            "execution_count": 52
        },
        {
            "cell_type": "markdown",
            "source": [
                "12\\. Listar a diferença entre as médias das classificações dos filmes produzidos antes de 1980 e no ano de 1980 e seguintes. Deve ser calculada a média da classificação para cada filme e depois calculada a média das médias para os filmes anteriores a 1980 e os produzidos nos anos de 1980 e seguintes"
            ],
            "metadata": {
                "azdata_cell_guid": "1fb06623-7660-4329-bfa5-3292223775df"
            },
            "attachments": {}
        },
        {
            "cell_type": "code",
            "source": [
                "SELECT (SELECT AVG(estrelas) \r\n",
                "FROM Classificacao C \r\n",
                "JOIN Filme F \r\n",
                "ON f.fid=c.fid \r\n",
                "WHERE YEAR (ano) <1980) - \r\n",
                "ISNull((SELECT AVG(estrelas)\r\n",
                "FROM Classificacao C\r\n",
                "JOIN Filme F \r\n",
                "ON f.fid=c.fid \r\n",
                "WHERE YEAR (ano) >=1980),0) AS 'Diferença média 1980'"
            ],
            "metadata": {
                "azdata_cell_guid": "9a233def-d4e8-425b-80e8-9b3352520443",
                "tags": []
            },
            "outputs": [
                {
                    "output_type": "display_data",
                    "data": {
                        "text/html": "(1 row affected)"
                    },
                    "metadata": {}
                },
                {
                    "output_type": "display_data",
                    "data": {
                        "text/html": "Total execution time: 00:00:00.097"
                    },
                    "metadata": {}
                },
                {
                    "output_type": "execute_result",
                    "metadata": {},
                    "execution_count": 61,
                    "data": {
                        "application/vnd.dataresource+json": {
                            "schema": {
                                "fields": [
                                    {
                                        "name": "Diferença média 1980"
                                    }
                                ]
                            },
                            "data": [
                                {
                                    "0": "3"
                                }
                            ]
                        },
                        "text/html": [
                            "<table>",
                            "<tr><th>Diferença média 1980</th></tr>",
                            "<tr><td>3</td></tr>",
                            "</table>"
                        ]
                    }
                }
            ],
            "execution_count": 61
        },
        {
            "cell_type": "markdown",
            "source": [
                "13\\. Para todos os realizadores de mais de um filme, listar o seu nome e os títulos dos filmes que realizaram, ordenados por nome do realizador, título do filme"
            ],
            "metadata": {
                "azdata_cell_guid": "21b2b3b2-3541-40c2-ae47-6097c3811bd1"
            },
            "attachments": {}
        },
        {
            "cell_type": "code",
            "source": [
                "SELECT realizador, COUNT (titulo) AS 'Nº de filmes'\r\n",
                "FROM filme \r\n",
                "GROUP BY realizador\r\n",
                "HAVING COUNT(titulo) > 1"
            ],
            "metadata": {
                "azdata_cell_guid": "aa89f59f-6484-4e6c-935e-069e00cc2c4d"
            },
            "outputs": [
                {
                    "output_type": "display_data",
                    "data": {
                        "text/html": "(2 rows affected)"
                    },
                    "metadata": {}
                },
                {
                    "output_type": "display_data",
                    "data": {
                        "text/html": "Total execution time: 00:00:00.093"
                    },
                    "metadata": {}
                },
                {
                    "output_type": "execute_result",
                    "metadata": {},
                    "execution_count": 71,
                    "data": {
                        "application/vnd.dataresource+json": {
                            "schema": {
                                "fields": [
                                    {
                                        "name": "realizador"
                                    },
                                    {
                                        "name": "Nº de filmes"
                                    }
                                ]
                            },
                            "data": [
                                {
                                    "0": "James Cameron",
                                    "1": "2"
                                },
                                {
                                    "0": "Steven Spielberg",
                                    "1": "2"
                                }
                            ]
                        },
                        "text/html": [
                            "<table>",
                            "<tr><th>realizador</th><th>Nº de filmes</th></tr>",
                            "<tr><td>James Cameron</td><td>2</td></tr>",
                            "<tr><td>Steven Spielberg</td><td>2</td></tr>",
                            "</table>"
                        ]
                    }
                }
            ],
            "execution_count": 71
        },
        {
            "cell_type": "markdown",
            "source": [
                "14\\. Listar o(s) título(s) do(s)filme(s) com a maior média de classificações, bem como essa média."
            ],
            "metadata": {
                "azdata_cell_guid": "4187a153-56d6-4a4e-9fd8-facf108f3ca0"
            },
            "attachments": {}
        },
        {
            "cell_type": "markdown",
            "source": [
                "Criamos uma view da tabela Classificação, para obtermos as médias de cada filme.A partir daí usamos a VIEW para selecionar apenas o máximo das médias"
            ],
            "metadata": {
                "azdata_cell_guid": "ba13cec2-dfbb-4dc2-ac04-6217d5123518"
            },
            "attachments": {}
        },
        {
            "cell_type": "code",
            "source": [
                "CREATE VIEW Médias AS\r\n",
                "SELECT f.titulo AS titulo, AVG(c.estrelas) AS media\r\n",
                "FROM filme f \r\n",
                "JOIN Classificacao c \r\n",
                "ON f.fid = c.fid \r\n",
                "GROUP BY f.titulo"
            ],
            "metadata": {
                "azdata_cell_guid": "9f346bb2-4f7a-4365-aa65-527b28d37823"
            },
            "outputs": [
                {
                    "output_type": "display_data",
                    "data": {
                        "text/html": "Commands completed successfully."
                    },
                    "metadata": {}
                },
                {
                    "output_type": "display_data",
                    "data": {
                        "text/html": "Total execution time: 00:00:00.112"
                    },
                    "metadata": {}
                }
            ],
            "execution_count": 95
        },
        {
            "cell_type": "code",
            "source": [
                "SELECT titulo, media\r\n",
                "FROM médias\r\n",
                "WHERE media = (SELECT MAX(media) FROM médias)"
            ],
            "metadata": {
                "azdata_cell_guid": "c09963fa-bb02-42f4-82bc-3f47bcafe058",
                "tags": []
            },
            "outputs": [
                {
                    "output_type": "display_data",
                    "data": {
                        "text/html": "(2 rows affected)"
                    },
                    "metadata": {}
                },
                {
                    "output_type": "display_data",
                    "data": {
                        "text/html": "Total execution time: 00:00:00.099"
                    },
                    "metadata": {}
                },
                {
                    "output_type": "execute_result",
                    "metadata": {},
                    "execution_count": 158,
                    "data": {
                        "application/vnd.dataresource+json": {
                            "schema": {
                                "fields": [
                                    {
                                        "name": "titulo"
                                    },
                                    {
                                        "name": "media"
                                    }
                                ]
                            },
                            "data": [
                                {
                                    "0": "Avatar",
                                    "1": "4"
                                },
                                {
                                    "0": "Snow White",
                                    "1": "4"
                                }
                            ]
                        },
                        "text/html": [
                            "<table>",
                            "<tr><th>titulo</th><th>media</th></tr>",
                            "<tr><td>Avatar</td><td>4</td></tr>",
                            "<tr><td>Snow White</td><td>4</td></tr>",
                            "</table>"
                        ]
                    }
                }
            ],
            "execution_count": 158
        },
        {
            "cell_type": "markdown",
            "source": [
                "15\\. Para cada par filme, crítico (título do filme e nome do crítico) liste o nº de classificações (um filme pode ser avaliado mais do que uma vez por um crítico, em datas diferentes). Listar também o nº de classificações por filme e por crítico, bem como o nº total de classificações."
            ],
            "metadata": {
                "azdata_cell_guid": "a0616455-842a-4913-b26f-22da397c4b6d"
            },
            "attachments": {}
        },
        {
            "cell_type": "code",
            "source": [
                "SELECT titulo, nome AS Critico, COUNT(estrelas) 'Nº avaliações'\r\n",
                "FROM filme f \r\n",
                "JOIN classificacao c \r\n",
                "ON f.fid = c.fid\r\n",
                "JOIN Critico cr \r\n",
                "ON c.cid=cr.cid\r\n",
                "GROUP BY CUBE (titulo,nome)\r\n",
                "ORDER BY titulo, nome"
            ],
            "metadata": {
                "azdata_cell_guid": "132978f4-5114-456e-8782-9bf8d216be39"
            },
            "outputs": [
                {
                    "output_type": "display_data",
                    "data": {
                        "text/html": "(27 rows affected)"
                    },
                    "metadata": {}
                },
                {
                    "output_type": "display_data",
                    "data": {
                        "text/html": "Total execution time: 00:00:00.112"
                    },
                    "metadata": {}
                },
                {
                    "output_type": "execute_result",
                    "metadata": {},
                    "execution_count": 159,
                    "data": {
                        "application/vnd.dataresource+json": {
                            "schema": {
                                "fields": [
                                    {
                                        "name": "titulo"
                                    },
                                    {
                                        "name": "Critico"
                                    },
                                    {
                                        "name": "Nº avaliações"
                                    }
                                ]
                            },
                            "data": [
                                {
                                    "0": "NULL",
                                    "1": "NULL",
                                    "2": "14"
                                },
                                {
                                    "0": "NULL",
                                    "1": "Ana Santos",
                                    "2": "1"
                                },
                                {
                                    "0": "NULL",
                                    "1": "Beatriz Costa",
                                    "2": "3"
                                },
                                {
                                    "0": "NULL",
                                    "1": "Carolina Branco",
                                    "2": "1"
                                },
                                {
                                    "0": "NULL",
                                    "1": "Daniel Morgado",
                                    "2": "1"
                                },
                                {
                                    "0": "NULL",
                                    "1": "Isabel Silva",
                                    "2": "2"
                                },
                                {
                                    "0": "NULL",
                                    "1": "Maria Cravo",
                                    "2": "3"
                                },
                                {
                                    "0": "NULL",
                                    "1": "Sara Martins",
                                    "2": "2"
                                },
                                {
                                    "0": "NULL",
                                    "1": "Tiago Gamboa",
                                    "2": "1"
                                },
                                {
                                    "0": "Avatar",
                                    "1": "NULL",
                                    "2": "2"
                                },
                                {
                                    "0": "Avatar",
                                    "1": "Ana Santos",
                                    "2": "1"
                                },
                                {
                                    "0": "Avatar",
                                    "1": "Isabel Silva",
                                    "2": "1"
                                },
                                {
                                    "0": "E.T.",
                                    "1": "NULL",
                                    "2": "2"
                                },
                                {
                                    "0": "E.T.",
                                    "1": "Carolina Branco",
                                    "2": "1"
                                },
                                {
                                    "0": "E.T.",
                                    "1": "Maria Cravo",
                                    "2": "1"
                                },
                                {
                                    "0": "Gone with the Wind",
                                    "1": "NULL",
                                    "2": "3"
                                },
                                {
                                    "0": "Gone with the Wind",
                                    "1": "Sara Martins",
                                    "2": "2"
                                },
                                {
                                    "0": "Gone with the Wind",
                                    "1": "Tiago Gamboa",
                                    "2": "1"
                                },
                                {
                                    "0": "Raiders of the Lost Ark",
                                    "1": "NULL",
                                    "2": "3"
                                },
                                {
                                    "0": "Raiders of the Lost Ark",
                                    "1": "Beatriz Costa",
                                    "2": "2"
                                },
                                {
                                    "0": "Raiders of the Lost Ark",
                                    "1": "Maria Cravo",
                                    "2": "1"
                                },
                                {
                                    "0": "Snow White",
                                    "1": "NULL",
                                    "2": "2"
                                },
                                {
                                    "0": "Snow White",
                                    "1": "Daniel Morgado",
                                    "2": "1"
                                },
                                {
                                    "0": "Snow White",
                                    "1": "Isabel Silva",
                                    "2": "1"
                                },
                                {
                                    "0": "The Sound of Music",
                                    "1": "NULL",
                                    "2": "2"
                                },
                                {
                                    "0": "The Sound of Music",
                                    "1": "Beatriz Costa",
                                    "2": "1"
                                },
                                {
                                    "0": "The Sound of Music",
                                    "1": "Maria Cravo",
                                    "2": "1"
                                }
                            ]
                        },
                        "text/html": [
                            "<table>",
                            "<tr><th>titulo</th><th>Critico</th><th>Nº avaliações</th></tr>",
                            "<tr><td>NULL</td><td>NULL</td><td>14</td></tr>",
                            "<tr><td>NULL</td><td>Ana Santos</td><td>1</td></tr>",
                            "<tr><td>NULL</td><td>Beatriz Costa</td><td>3</td></tr>",
                            "<tr><td>NULL</td><td>Carolina Branco</td><td>1</td></tr>",
                            "<tr><td>NULL</td><td>Daniel Morgado</td><td>1</td></tr>",
                            "<tr><td>NULL</td><td>Isabel Silva</td><td>2</td></tr>",
                            "<tr><td>NULL</td><td>Maria Cravo</td><td>3</td></tr>",
                            "<tr><td>NULL</td><td>Sara Martins</td><td>2</td></tr>",
                            "<tr><td>NULL</td><td>Tiago Gamboa</td><td>1</td></tr>",
                            "<tr><td>Avatar</td><td>NULL</td><td>2</td></tr>",
                            "<tr><td>Avatar</td><td>Ana Santos</td><td>1</td></tr>",
                            "<tr><td>Avatar</td><td>Isabel Silva</td><td>1</td></tr>",
                            "<tr><td>E.T.</td><td>NULL</td><td>2</td></tr>",
                            "<tr><td>E.T.</td><td>Carolina Branco</td><td>1</td></tr>",
                            "<tr><td>E.T.</td><td>Maria Cravo</td><td>1</td></tr>",
                            "<tr><td>Gone with the Wind</td><td>NULL</td><td>3</td></tr>",
                            "<tr><td>Gone with the Wind</td><td>Sara Martins</td><td>2</td></tr>",
                            "<tr><td>Gone with the Wind</td><td>Tiago Gamboa</td><td>1</td></tr>",
                            "<tr><td>Raiders of the Lost Ark</td><td>NULL</td><td>3</td></tr>",
                            "<tr><td>Raiders of the Lost Ark</td><td>Beatriz Costa</td><td>2</td></tr>",
                            "<tr><td>Raiders of the Lost Ark</td><td>Maria Cravo</td><td>1</td></tr>",
                            "<tr><td>Snow White</td><td>NULL</td><td>2</td></tr>",
                            "<tr><td>Snow White</td><td>Daniel Morgado</td><td>1</td></tr>",
                            "<tr><td>Snow White</td><td>Isabel Silva</td><td>1</td></tr>",
                            "<tr><td>The Sound of Music</td><td>NULL</td><td>2</td></tr>",
                            "<tr><td>The Sound of Music</td><td>Beatriz Costa</td><td>1</td></tr>",
                            "<tr><td>The Sound of Music</td><td>Maria Cravo</td><td>1</td></tr>",
                            "</table>"
                        ]
                    }
                }
            ],
            "execution_count": 159
        },
        {
            "cell_type": "markdown",
            "source": [
                "16\\. Apresente o ranking dos filmes por ordem descendente de média de classificação."
            ],
            "metadata": {
                "azdata_cell_guid": "7d2d90da-4ac6-46a8-9233-0e664dc5c14a"
            },
            "attachments": {}
        },
        {
            "cell_type": "code",
            "source": [
                "SELECT f.titulo, AVG(estrelas) AS MédiaClassificação,\r\n",
                "RANK() OVER(ORDER BY AVG(estrelas) DESC) 'Rank Classificação'\r\n",
                "FROM filme f JOIN classificacao c\r\n",
                "ON f.fid = c.fid\r\n",
                "GROUP BY f.titulo"
            ],
            "metadata": {
                "azdata_cell_guid": "8eee39e1-d592-4031-861d-ded11d2a8642"
            },
            "outputs": [
                {
                    "output_type": "display_data",
                    "data": {
                        "text/html": "(6 rows affected)"
                    },
                    "metadata": {}
                },
                {
                    "output_type": "display_data",
                    "data": {
                        "text/html": "Total execution time: 00:00:00.125"
                    },
                    "metadata": {}
                },
                {
                    "output_type": "execute_result",
                    "metadata": {},
                    "execution_count": 73,
                    "data": {
                        "application/vnd.dataresource+json": {
                            "schema": {
                                "fields": [
                                    {
                                        "name": "titulo"
                                    },
                                    {
                                        "name": "MédiaClassificação"
                                    },
                                    {
                                        "name": "Rank Classificação"
                                    }
                                ]
                            },
                            "data": [
                                {
                                    "0": "Avatar",
                                    "1": "4",
                                    "2": "1"
                                },
                                {
                                    "0": "Snow White",
                                    "1": "4",
                                    "2": "1"
                                },
                                {
                                    "0": "Gone with the Wind",
                                    "1": "3",
                                    "2": "3"
                                },
                                {
                                    "0": "Raiders of the Lost Ark",
                                    "1": "3",
                                    "2": "3"
                                },
                                {
                                    "0": "E.T.",
                                    "1": "2",
                                    "2": "5"
                                },
                                {
                                    "0": "The Sound of Music",
                                    "1": "2",
                                    "2": "5"
                                }
                            ]
                        },
                        "text/html": [
                            "<table>",
                            "<tr><th>titulo</th><th>MédiaClassificação</th><th>Rank Classificação</th></tr>",
                            "<tr><td>Avatar</td><td>4</td><td>1</td></tr>",
                            "<tr><td>Snow White</td><td>4</td><td>1</td></tr>",
                            "<tr><td>Gone with the Wind</td><td>3</td><td>3</td></tr>",
                            "<tr><td>Raiders of the Lost Ark</td><td>3</td><td>3</td></tr>",
                            "<tr><td>E.T.</td><td>2</td><td>5</td></tr>",
                            "<tr><td>The Sound of Music</td><td>2</td><td>5</td></tr>",
                            "</table>"
                        ]
                    }
                }
            ],
            "execution_count": 73
        },
        {
            "cell_type": "markdown",
            "source": [
                "17\\. Para cada realizador, apresente o ranking dos seus filmes por ordem descendente de média de classificação."
            ],
            "metadata": {
                "azdata_cell_guid": "cf1137c9-6160-46bc-86e4-39cd46485588"
            },
            "attachments": {}
        },
        {
            "cell_type": "code",
            "source": [
                "SELECT f.realizador, f.titulo, AVG(estrelas) AS MédiaClassificação,\r\n",
                "RANK() OVER(PARTITION BY realizador ORDER BY AVG(estrelas) DESC) 'Rank Classificação'\r\n",
                "FROM filme f JOIN classificacao c\r\n",
                "ON f.fid = c.fid\r\n",
                "WHERE realizador IS NOT NULL\r\n",
                "GROUP BY f.realizador, f.titulo \r\n",
                "ORDER BY f.realizador, f.titulo"
            ],
            "metadata": {
                "azdata_cell_guid": "906370b8-6ae0-407d-a48e-e8774b148367"
            },
            "outputs": [
                {
                    "output_type": "display_data",
                    "data": {
                        "text/html": "(5 rows affected)"
                    },
                    "metadata": {}
                },
                {
                    "output_type": "display_data",
                    "data": {
                        "text/html": "Total execution time: 00:00:00.102"
                    },
                    "metadata": {}
                },
                {
                    "output_type": "execute_result",
                    "metadata": {},
                    "execution_count": 74,
                    "data": {
                        "application/vnd.dataresource+json": {
                            "schema": {
                                "fields": [
                                    {
                                        "name": "realizador"
                                    },
                                    {
                                        "name": "titulo"
                                    },
                                    {
                                        "name": "MédiaClassificação"
                                    },
                                    {
                                        "name": "Rank Classificação"
                                    }
                                ]
                            },
                            "data": [
                                {
                                    "0": "James Cameron",
                                    "1": "Avatar",
                                    "2": "4",
                                    "3": "1"
                                },
                                {
                                    "0": "Robert Wise",
                                    "1": "The Sound of Music",
                                    "2": "2",
                                    "3": "1"
                                },
                                {
                                    "0": "Steven Spielberg",
                                    "1": "E.T.",
                                    "2": "2",
                                    "3": "2"
                                },
                                {
                                    "0": "Steven Spielberg",
                                    "1": "Raiders of the Lost Ark",
                                    "2": "3",
                                    "3": "1"
                                },
                                {
                                    "0": "Victor Fleming",
                                    "1": "Gone with the Wind",
                                    "2": "3",
                                    "3": "1"
                                }
                            ]
                        },
                        "text/html": [
                            "<table>",
                            "<tr><th>realizador</th><th>titulo</th><th>MédiaClassificação</th><th>Rank Classificação</th></tr>",
                            "<tr><td>James Cameron</td><td>Avatar</td><td>4</td><td>1</td></tr>",
                            "<tr><td>Robert Wise</td><td>The Sound of Music</td><td>2</td><td>1</td></tr>",
                            "<tr><td>Steven Spielberg</td><td>E.T.</td><td>2</td><td>2</td></tr>",
                            "<tr><td>Steven Spielberg</td><td>Raiders of the Lost Ark</td><td>3</td><td>1</td></tr>",
                            "<tr><td>Victor Fleming</td><td>Gone with the Wind</td><td>3</td><td>1</td></tr>",
                            "</table>"
                        ]
                    }
                }
            ],
            "execution_count": 74
        }
    ]
}