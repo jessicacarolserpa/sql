{
    "metadata": {
        "kernelspec": {
            "name": "SQL",
            "display_name": "SQL",
            "language": "sql"
        },
        "language_info": {
            "name": "sql",
            "version": ""
        },
        "extensions": {
            "azuredatastudio": {
                "version": 1,
                "views": []
            }
        }
    },
    "nbformat_minor": 2,
    "nbformat": 4,
    "cells": [
        {
            "cell_type": "markdown",
            "source": [
                "**<u>Lab04</u>**"
            ],
            "metadata": {
                "azdata_cell_guid": "72a84431-979f-48ed-813e-c7a18db9aa2d"
            },
            "attachments": {}
        },
        {
            "cell_type": "markdown",
            "source": [
                "**Challenge 1**\n",
                "\n",
                "  \n",
                "\n",
                "**1\\.** Retrieve billing addresses Write a query that retrieves the company name, first line of the street address, city, and a column named AddressType with the value ‘Billing’ for customers where the address type in the SalesLT.CustomerAddress table is ‘Main Office’"
            ],
            "metadata": {
                "azdata_cell_guid": "4f0a7d0c-6bda-47fd-bd01-164f0e062ca5"
            },
            "attachments": {}
        },
        {
            "cell_type": "code",
            "source": [
                "SELECT C.CompanyName, A.AddressLine1, A.City, 'Billing' AS AddressType\r\n",
                "FROM Customer AS C\r\n",
                "JOIN CustomerAddress AS CA\r\n",
                "ON C.CustomerID = CA.CustomerID AND CA.AddressType = 'Main Office'\r\n",
                "JOIN Address AS A\r\n",
                "ON A.addressID = CA.AddressID;"
            ],
            "metadata": {
                "azdata_cell_guid": "ed2386f3-234f-4028-aa15-c3be653ba123"
            },
            "outputs": [
                {
                    "output_type": "display_data",
                    "data": {
                        "text/html": "(407 rows affected)"
                    },
                    "metadata": {}
                },
                {
                    "output_type": "display_data",
                    "data": {
                        "text/html": "Total execution time: 00:00:00.194"
                    },
                    "metadata": {}
                },
                {
                    "output_type": "execute_result",
                    "execution_count": 1,
                    "data": {
                        "application/vnd.dataresource+json": {
                            "schema": {
                                "fields": [
                                    {
                                        "name": "CompanyName"
                                    },
                                    {
                                        "name": "AddressLine1"
                                    },
                                    {
                                        "name": "City"
                                    },
                                    {
                                        "name": "AddressType"
                                    }
                                ]
                            },
                            "data": [
                                {
                                    "0": "Professional Sales and Service",
                                    "1": "57251 Serene Blvd",
                                    "2": "Van Nuys",
                                    "3": "Billing"
                                },
                                {
                                    "0": "Riders Company",
                                    "1": "Tanger Factory",
                                    "2": "Branch",
                                    "3": "Billing"
                                },
                                {
                                    "0": "Area Bike Accessories",
                                    "1": "6900 Sisk Road",
                                    "2": "Modesto",
                                    "3": "Billing"
                                },
                                {
                                    "0": "Bicycle Accessories and Kits",
                                    "1": "Lewiston Mall",
                                    "2": "Lewiston",
                                    "3": "Billing"
                                },
                                {
                                    "0": "Valley Bicycle Specialists",
                                    "1": "Blue Ridge Mall",
                                    "2": "Kansas City",
                                    "3": "Billing"
                                },
                                {
                                    "0": "Vinyl and Plastic Goods Corporation",
                                    "1": "No. 25800-130 King Street West",
                                    "2": "Toronto",
                                    "3": "Billing"
                                },
                                {
                                    "0": "Fun Toys and Bikes",
                                    "1": "6500 East Grant Road",
                                    "2": "Tucson",
                                    "3": "Billing"
                                },
                                {
                                    "0": "Great Bikes ",
                                    "1": "Eastridge Mall",
                                    "2": "Casper",
                                    "3": "Billing"
                                },
                                {
                                    "0": "Valley Toy Store",
                                    "1": "252851 Rowan Place",
                                    "2": "Richmond",
                                    "3": "Billing"
                                },
                                {
                                    "0": "Major Sport Suppliers",
                                    "1": "White Mountain Mall",
                                    "2": "Rock Springs",
                                    "3": "Billing"
                                },
                                {
                                    "0": "Family's Favorite Bike Shop",
                                    "1": "25981 College Street",
                                    "2": "Montreal",
                                    "3": "Billing"
                                },
                                {
                                    "0": "Imported and Domestic Cycles",
                                    "1": "22589 West Craig Road",
                                    "2": "North Las Vegas",
                                    "3": "Billing"
                                },
                                {
                                    "0": "Systematic Sales",
                                    "1": "2551 East Warner Road",
                                    "2": "Gilbert",
                                    "3": "Billing"
                                },
                                {
                                    "0": "Mountain Toy Store",
                                    "1": "First Colony Mall",
                                    "2": "Sugar Land",
                                    "3": "Billing"
                                },
                                {
                                    "0": "Designated Distributors",
                                    "1": "254 Colonnade Road",
                                    "2": "Nepean",
                                    "3": "Billing"
                                },
                                {
                                    "0": "Bold Bike Accessories",
                                    "1": "Rocky Mountain Pines Outlet",
                                    "2": "Loveland",
                                    "3": "Billing"
                                },
                                {
                                    "0": "Serious Cycles",
                                    "1": "Suite 99320 255 - 510th Avenue S.W.",
                                    "2": "Calgary",
                                    "3": "Billing"
                                },
                                {
                                    "0": "Novelty Bikes",
                                    "1": "998 Forest Road",
                                    "2": "Saginaw",
                                    "3": "Billing"
                                },
                                {
                                    "0": "Brightwork Company",
                                    "1": "Belz Factory Outlet",
                                    "2": "Las Vegas",
                                    "3": "Billing"
                                },
                                {
                                    "0": "Resale Services",
                                    "1": "Fox Hills",
                                    "2": "Culver City",
                                    "3": "Billing"
                                },
                                {
                                    "0": "The Gear Store",
                                    "1": "2345 North Freeway",
                                    "2": "Houston",
                                    "3": "Billing"
                                },
                                {
                                    "0": "Immense Manufacturing Company",
                                    "1": "70 N.W. Plaza",
                                    "2": "Saint Ann",
                                    "3": "Billing"
                                },
                                {
                                    "0": "Extended Bike Sales",
                                    "1": "The Citadel Commerce Plaza",
                                    "2": "City Of Commerce",
                                    "3": "Billing"
                                },
                                {
                                    "0": "Workout Emporium",
                                    "1": "700 Bureau Road",
                                    "2": "Montreal",
                                    "3": "Billing"
                                },
                                {
                                    "0": "Work and Play Association",
                                    "1": "2533 Eureka Rd.",
                                    "2": "Southgate",
                                    "3": "Billing"
                                },
                                {
                                    "0": "Nice Bikes",
                                    "1": "Suite 800 2530 Slater Street",
                                    "2": "Ottawa",
                                    "3": "Billing"
                                },
                                {
                                    "0": "Remarkable Bike Store",
                                    "1": "Eastern Beltway Center",
                                    "2": "Las Vegas",
                                    "3": "Billing"
                                },
                                {
                                    "0": "Road-Way Mart",
                                    "1": "Southgate Mall",
                                    "2": "Missoula",
                                    "3": "Billing"
                                },
                                {
                                    "0": "Small Cycle Store",
                                    "1": "Horizon Outlet Center",
                                    "2": "Holland",
                                    "3": "Billing"
                                },
                                {
                                    "0": "Grand Bicycle Stores",
                                    "1": "48255 I-10 E. @ Eastpoint Blvd.",
                                    "2": "Baytown",
                                    "3": "Billing"
                                },
                                {
                                    "0": "Kickstand Sellers",
                                    "1": "6789 Warren Road",
                                    "2": "Westland",
                                    "3": "Billing"
                                },
                                {
                                    "0": "Gasless Cycle Shop",
                                    "1": "25 First Canadian Place",
                                    "2": "Toronto",
                                    "3": "Billing"
                                },
                                {
                                    "0": "Transportation Options",
                                    "1": "25900-700-9th Ave S.W.",
                                    "2": "Calgary",
                                    "3": "Billing"
                                },
                                {
                                    "0": "Finer Cycle Shop",
                                    "1": "2500-622 5th Ave Sw",
                                    "2": "Calgary",
                                    "3": "Billing"
                                },
                                {
                                    "0": "Center Cycle Shop",
                                    "1": "99300 223rd Southeast",
                                    "2": "Bothell",
                                    "3": "Billing"
                                },
                                {
                                    "0": "Bulk Discount Store",
                                    "1": "93-2501, Blackfriars Road,",
                                    "2": "London",
                                    "3": "Billing"
                                },
                                {
                                    "0": "First-Rate Outlet",
                                    "1": "25537 Hillside Avenue",
                                    "2": "Victoria",
                                    "3": "Billing"
                                },
                                {
                                    "0": "Another Bicycle Company",
                                    "1": "567 Sw Mcloughlin Blvd",
                                    "2": "Milwaukie",
                                    "3": "Billing"
                                },
                                {
                                    "0": "Unsurpassed Bikes",
                                    "1": "Po Box 8035996",
                                    "2": "Dallas",
                                    "3": "Billing"
                                },
                                {
                                    "0": "Field Trip Inc",
                                    "1": "997000 Telegraph Rd.",
                                    "2": "Southfield",
                                    "3": "Billing"
                                },
                                {
                                    "0": "Odometers and Accessories Company",
                                    "1": "253711 Mayfield Place, Unit 150",
                                    "2": "Richmond",
                                    "3": "Billing"
                                },
                                {
                                    "0": "Scratch-Resistant Finishes Company",
                                    "1": "5700 Explorer Drive",
                                    "2": "Mississauga",
                                    "3": "Billing"
                                },
                                {
                                    "0": "Safe Cycles Shop",
                                    "1": "25915 140th Ave Ne",
                                    "2": "Bellevue",
                                    "3": "Billing"
                                },
                                {
                                    "0": "Number 1 Supply",
                                    "1": "Escondido",
                                    "2": "Escondido",
                                    "3": "Billing"
                                },
                                {
                                    "0": "Golf and Cycle Store",
                                    "1": "5500 Grossmont Center Drive",
                                    "2": "La Mesa",
                                    "3": "Billing"
                                },
                                {
                                    "0": "World Bike Discount Store",
                                    "1": "3065 Santa Margarita Parkway",
                                    "2": "Trabuco Canyon",
                                    "3": "Billing"
                                },
                                {
                                    "0": "Historic Bicycle Sales",
                                    "1": "Redford Plaza",
                                    "2": "Redford",
                                    "3": "Billing"
                                },
                                {
                                    "0": "Commuter Bicycle Store",
                                    "1": "2575 Bloor Street East",
                                    "2": "Toronto",
                                    "3": "Billing"
                                },
                                {
                                    "0": "Coalition Bike Company",
                                    "1": "Corporate Office",
                                    "2": "El Segundo",
                                    "3": "Billing"
                                },
                                {
                                    "0": "Travel Systems",
                                    "1": "2505 Gateway Drive",
                                    "2": "North Sioux City",
                                    "3": "Billing"
                                },
                                {
                                    "0": "Grease and Oil Products Company",
                                    "1": "9903 Highway 6 South",
                                    "2": "Houston",
                                    "3": "Billing"
                                },
                                {
                                    "0": "Moderately-Priced Bikes Store",
                                    "1": "67 Rainer Ave S",
                                    "2": "Renton",
                                    "3": "Billing"
                                },
                                {
                                    "0": "Economy Bikes Company",
                                    "1": "72502 Eastern Ave.",
                                    "2": "Bell Gardens",
                                    "3": "Billing"
                                },
                                {
                                    "0": "Third Bike Store",
                                    "1": "2500 North Stemmons Freeway",
                                    "2": "Dallas",
                                    "3": "Billing"
                                },
                                {
                                    "0": "Bikes for Two",
                                    "1": "63 West Beaver Creek",
                                    "2": "Richmond Hill",
                                    "3": "Billing"
                                },
                                {
                                    "0": "Metal Processing Company",
                                    "1": "770 Notre Datme Quest Bureau 800",
                                    "2": "Montreal",
                                    "3": "Billing"
                                },
                                {
                                    "0": "Initial Bike Company",
                                    "1": "789 West Alameda",
                                    "2": "Westminster",
                                    "3": "Billing"
                                },
                                {
                                    "0": "Latest Sports Equipment",
                                    "1": "4251 First Avenue",
                                    "2": "Seattle",
                                    "3": "Billing"
                                },
                                {
                                    "0": "Raw Materials Inc",
                                    "1": "Bldg. 9n/99298",
                                    "2": "Redmond",
                                    "3": "Billing"
                                },
                                {
                                    "0": "Lots of Bikes Storehouse",
                                    "1": "4255 East Lies Road",
                                    "2": "Carol Stream",
                                    "3": "Billing"
                                },
                                {
                                    "0": "Futuristic Bikes",
                                    "1": "25136 Jefferson Blvd.",
                                    "2": "Culver City",
                                    "3": "Billing"
                                },
                                {
                                    "0": "Parcel Express Delivery Service",
                                    "1": "Washington Square",
                                    "2": "Portland",
                                    "3": "Billing"
                                },
                                {
                                    "0": "Prosperous Tours",
                                    "1": "99-3 Forest Works",
                                    "2": "London",
                                    "3": "Billing"
                                },
                                {
                                    "0": "Nonskid Tire Company",
                                    "1": "Holiday Village Mall",
                                    "2": "Great Falls",
                                    "3": "Billing"
                                },
                                {
                                    "0": "Metro Bike Works",
                                    "1": "250000 Eight Mile Road",
                                    "2": "Detroit",
                                    "3": "Billing"
                                },
                                {
                                    "0": "Best o' Bikes",
                                    "1": "250880 Baur Blvd",
                                    "2": "Saint Louis",
                                    "3": "Billing"
                                },
                                {
                                    "0": "Client Discount Store",
                                    "1": "Noah Lane",
                                    "2": "Chicago",
                                    "3": "Billing"
                                },
                                {
                                    "0": "Requisite Part Supply",
                                    "1": "600 Slater Street",
                                    "2": "Ottawa",
                                    "3": "Billing"
                                },
                                {
                                    "0": "Mechanical Products Ltd.",
                                    "1": "22555 Paseo De Las Americas",
                                    "2": "San Diego",
                                    "3": "Billing"
                                },
                                {
                                    "0": "Commendable Bikes",
                                    "1": "4781 Highway 95",
                                    "2": "Sandpoint",
                                    "3": "Billing"
                                },
                                {
                                    "0": "Online Bike Sellers",
                                    "1": "678 Eastman Ave.",
                                    "2": "Midland",
                                    "3": "Billing"
                                },
                                {
                                    "0": "Custom Accessories Company",
                                    "1": "251 Indell Lane",
                                    "2": "Brampton",
                                    "3": "Billing"
                                },
                                {
                                    "0": "Courteous Bicycle Specialists",
                                    "1": "995 Crescent",
                                    "2": "Richmond Hill",
                                    "3": "Billing"
                                },
                                {
                                    "0": "Professional Cycle Store",
                                    "1": "Arcadia Crossing",
                                    "2": "Phoenix",
                                    "3": "Billing"
                                },
                                {
                                    "0": "Fifth Bike Store",
                                    "1": "2502 Evergreen Ste E",
                                    "2": "Everett",
                                    "3": "Billing"
                                },
                                {
                                    "0": "Farthest Bike Store",
                                    "1": "45259 Canada Way",
                                    "2": "Burnaby",
                                    "3": "Billing"
                                },
                                {
                                    "0": "Alternative Vehicles",
                                    "1": "3307 Evergreen Blvd",
                                    "2": "Washougal",
                                    "3": "Billing"
                                },
                                {
                                    "0": "Channel Outlet",
                                    "1": "Knaves Beech Ind.",
                                    "2": "High Wycombe",
                                    "3": "Billing"
                                },
                                {
                                    "0": "Retail Mall",
                                    "1": "254480 River Rd",
                                    "2": "Richmond",
                                    "3": "Billing"
                                },
                                {
                                    "0": "Metro Metals Co.",
                                    "1": "2524 Barlby Road",
                                    "2": "London",
                                    "3": "Billing"
                                },
                                {
                                    "0": "Sheet Metal Manufacturing",
                                    "1": "25306 Harvey Rd.",
                                    "2": "College Station",
                                    "3": "Billing"
                                },
                                {
                                    "0": "Thorough Parts and Repair Services",
                                    "1": "S Sound Ctr Suite 25300",
                                    "2": "Lacey",
                                    "3": "Billing"
                                },
                                {
                                    "0": "Uttermost Bike Shop",
                                    "1": "Ellesfield Ave",
                                    "2": "Bracknell",
                                    "3": "Billing"
                                },
                                {
                                    "0": "Two-Wheeled Transit Company",
                                    "1": "P.O. Box 44000",
                                    "2": "Winnipeg",
                                    "3": "Billing"
                                },
                                {
                                    "0": "Metro Cycle Shop",
                                    "1": "2507 Pacific Ave S",
                                    "2": "Tacoma",
                                    "3": "Billing"
                                },
                                {
                                    "0": "Outdoor Sporting Goods",
                                    "1": "Lakewood Mall",
                                    "2": "Lakewood",
                                    "3": "Billing"
                                },
                                {
                                    "0": "Petroleum Products Distributors",
                                    "1": "20225 Lansing Ave",
                                    "2": "Montreal",
                                    "3": "Billing"
                                },
                                {
                                    "0": "Bikes and Motorbikes",
                                    "1": "22580 Free Street",
                                    "2": "Toronto",
                                    "3": "Billing"
                                },
                                {
                                    "0": "Camping and Sports Store",
                                    "1": "400-25155 West Pender St",
                                    "2": "Vancouver",
                                    "3": "Billing"
                                },
                                {
                                    "0": "Rural Department Store",
                                    "1": "5967 W Las Positas Blvd",
                                    "2": "Pleasanton",
                                    "3": "Billing"
                                },
                                {
                                    "0": "Sports Commodities",
                                    "1": "253950 N.E. 178th Place",
                                    "2": "Woodinville",
                                    "3": "Billing"
                                },
                                {
                                    "0": "Responsible Bike Dealers",
                                    "1": "Ward Parkway Center",
                                    "2": "Kansas City",
                                    "3": "Billing"
                                },
                                {
                                    "0": "Western Bike Supplies",
                                    "1": "566 S. Main",
                                    "2": "Cedar City",
                                    "3": "Billing"
                                },
                                {
                                    "0": "Advanced Bike Components",
                                    "1": "12345 Sterling Avenue",
                                    "2": "Irving",
                                    "3": "Billing"
                                },
                                {
                                    "0": "Aerobic Exercise Company",
                                    "1": "39933 Mission Oaks Blvd",
                                    "2": "Camarillo",
                                    "3": "Billing"
                                },
                                {
                                    "0": "Corner Bicycle Supply",
                                    "1": "2511 Baker Road",
                                    "2": "Toronto",
                                    "3": "Billing"
                                },
                                {
                                    "0": "Westside Plaza",
                                    "1": "99040 California Avenue",
                                    "2": "Sand City",
                                    "3": "Billing"
                                },
                                {
                                    "0": "Outstanding Cycles",
                                    "1": "North 93270 Newport Highway",
                                    "2": "Spokane",
                                    "3": "Billing"
                                },
                                {
                                    "0": "Vigorous Sports Store",
                                    "1": "Banbury",
                                    "2": "Oxon",
                                    "3": "Billing"
                                },
                                {
                                    "0": "Sports Merchandise",
                                    "1": "558 S 6th St",
                                    "2": "Klamath Falls",
                                    "3": "Billing"
                                },
                                {
                                    "0": "Fitness Toy Store",
                                    "1": "220 Mercy Drive",
                                    "2": "Garland",
                                    "3": "Billing"
                                },
                                {
                                    "0": "General Cycle Storehouse",
                                    "1": "30025 Wayburne Drive, Suite 275",
                                    "2": "Burnaby",
                                    "3": "Billing"
                                },
                                {
                                    "0": "Fitness Cycling",
                                    "1": "The Quad @ WestView",
                                    "2": "Whittier",
                                    "3": "Billing"
                                },
                                {
                                    "0": "Good Bike Shop",
                                    "1": "99433 S. Greenbay Rd.",
                                    "2": "Racine",
                                    "3": "Billing"
                                },
                                {
                                    "0": "Thrilling Bike Tours",
                                    "1": "4660 Rodeo Road",
                                    "2": "Santa Fe",
                                    "3": "Billing"
                                },
                                {
                                    "0": "This Area Sporting Goods",
                                    "1": "25 N State St",
                                    "2": "Chicago",
                                    "3": "Billing"
                                },
                                {
                                    "0": "Full-Service Bike Store",
                                    "1": "9920 North Telegraph Rd.",
                                    "2": "Pontiac",
                                    "3": "Billing"
                                },
                                {
                                    "0": "Genuine Bike Shop",
                                    "1": "7760 N. Pan Am Expwy",
                                    "2": "San Antonio",
                                    "3": "Billing"
                                },
                                {
                                    "0": "Extreme Riding Supplies",
                                    "1": "Riverside",
                                    "2": "Sherman Oaks",
                                    "3": "Billing"
                                },
                                {
                                    "0": "Fleet Bikes",
                                    "1": "54254 Pacific Ave.",
                                    "2": "Stockton",
                                    "3": "Billing"
                                },
                                {
                                    "0": "Local Hardware Factory",
                                    "1": "42500 W 76th St",
                                    "2": "Chicago",
                                    "3": "Billing"
                                },
                                {
                                    "0": "South Bike Company",
                                    "1": "Po Box 83270",
                                    "2": "Vancouver",
                                    "3": "Billing"
                                },
                                {
                                    "0": "Discount Bicycle Specialists",
                                    "1": "25269 Wood Dale Rd.",
                                    "2": "Wood Dale",
                                    "3": "Billing"
                                },
                                {
                                    "0": "Machines & Cycles Store",
                                    "1": "25245 Rue Sherbrooke Ouest",
                                    "2": "Montreal",
                                    "3": "Billing"
                                },
                                {
                                    "0": "Two Wheels Cycle Store",
                                    "1": "77 Beale Street",
                                    "2": "San Francisco",
                                    "3": "Billing"
                                },
                                {
                                    "0": "Westside Cycle Store",
                                    "1": "25550 Executive Dr",
                                    "2": "Elgin",
                                    "3": "Billing"
                                },
                                {
                                    "0": "Urban Sports Emporium",
                                    "1": "2560 Bay Street",
                                    "2": "Toronto",
                                    "3": "Billing"
                                },
                                {
                                    "0": "Sixth Bike Store",
                                    "1": "Suite 25800 3401 - 10810th Avenue",
                                    "2": "Surrey",
                                    "3": "Billing"
                                },
                                {
                                    "0": "Vehicle Shop",
                                    "1": "Pavillion @ Redlands",
                                    "2": "Redlands",
                                    "3": "Billing"
                                },
                                {
                                    "0": "First Department Stores",
                                    "1": "2540 Dell Range Blvd",
                                    "2": "Cheyenne",
                                    "3": "Billing"
                                },
                                {
                                    "0": "Grand Sport Boutique",
                                    "1": "99800 Tittabawasee Rd.",
                                    "2": "Saginaw",
                                    "3": "Billing"
                                },
                                {
                                    "0": "Distinctive Store",
                                    "1": "Factory Merchants",
                                    "2": "Barstow",
                                    "3": "Billing"
                                },
                                {
                                    "0": "Handy Bike Services",
                                    "1": "399700 John R. Rd.",
                                    "2": "Madison Heights",
                                    "3": "Billing"
                                },
                                {
                                    "0": "Friendly Bike Shop",
                                    "1": "750 Lakeway Dr",
                                    "2": "Bellingham",
                                    "3": "Billing"
                                },
                                {
                                    "0": "Fashionable Bikes and Accessories",
                                    "1": "Sports Store At Park City",
                                    "2": "Park City",
                                    "3": "Billing"
                                },
                                {
                                    "0": "Citywide Service and Repair",
                                    "1": "Box 99354 300 Union Street",
                                    "2": "Saint John",
                                    "3": "Billing"
                                },
                                {
                                    "0": "Rugged Bikes",
                                    "1": "48995 Evergreen Wy.",
                                    "2": "Everett",
                                    "3": "Billing"
                                },
                                {
                                    "0": "Principal Bike Company",
                                    "1": "Mountain Square",
                                    "2": "Upland",
                                    "3": "Billing"
                                },
                                {
                                    "0": "Finer Riding Supplies",
                                    "1": "#9900 2700 Production Way",
                                    "2": "Burnaby",
                                    "3": "Billing"
                                },
                                {
                                    "0": "Neighborhood Store",
                                    "1": "6777 Kingsway",
                                    "2": "Burnaby",
                                    "3": "Billing"
                                },
                                {
                                    "0": "Paint Supply",
                                    "1": "Corporate Office",
                                    "2": "Garland",
                                    "3": "Billing"
                                },
                                {
                                    "0": "Preferred Bikes",
                                    "1": "Incom Sports Center",
                                    "2": "Ontario",
                                    "3": "Billing"
                                },
                                {
                                    "0": "Rewarding Activities Company",
                                    "1": "25575 The Queensway",
                                    "2": "Etobicoke",
                                    "3": "Billing"
                                },
                                {
                                    "0": "Stationary Bikes and Stands",
                                    "1": "Sapp Road West",
                                    "2": "Round Rock",
                                    "3": "Billing"
                                },
                                {
                                    "0": "Successful Sales Company",
                                    "1": "7009 Sw Hall Blvd.",
                                    "2": "Tigard",
                                    "3": "Billing"
                                },
                                {
                                    "0": "Downtown Hotel",
                                    "1": "2560 E. Newlands Dr",
                                    "2": "Fernley",
                                    "3": "Billing"
                                },
                                {
                                    "0": "Certified Sports Supply",
                                    "1": "250551 Shellbridge Way",
                                    "2": "Richmond",
                                    "3": "Billing"
                                },
                                {
                                    "0": "Rampart Amusement Company",
                                    "1": "Bradford",
                                    "2": "W. York",
                                    "3": "Billing"
                                },
                                {
                                    "0": "Sundry Sporting Goods",
                                    "1": "595 Burning Street",
                                    "2": "Vancouver",
                                    "3": "Billing"
                                },
                                {
                                    "0": "Farthermost Bike Shop",
                                    "1": "99000 S. Avalon Blvd. Suite 750",
                                    "2": "Carson",
                                    "3": "Billing"
                                },
                                {
                                    "0": "Suburban Cycle Shop",
                                    "1": "994 Sw Cherry Park Rd",
                                    "2": "Troutdale",
                                    "3": "Billing"
                                },
                                {
                                    "0": "Racing Bike Outlet",
                                    "1": "225 South 314th Street",
                                    "2": "Federal Way",
                                    "3": "Billing"
                                },
                                {
                                    "0": "Utilitarian Sporting Goods",
                                    "1": "4635 S. Harrison Blvd.",
                                    "2": "Ogden",
                                    "3": "Billing"
                                },
                                {
                                    "0": "Vigorous Exercise Company",
                                    "1": "9950 Ferrand Drive, 9th Floor",
                                    "2": "Toronto",
                                    "3": "Billing"
                                },
                                {
                                    "0": "Stock Parts and Supplies",
                                    "1": "99295 S.e. Tualatin Valley_hwy.",
                                    "2": "Hillsboro",
                                    "3": "Billing"
                                },
                                {
                                    "0": "Roadway Supplies",
                                    "1": "2564 S. Redwood Rd.",
                                    "2": "Riverton",
                                    "3": "Billing"
                                },
                                {
                                    "0": "Future Bikes",
                                    "1": "67255 - 8th Street N.E., Suite 350",
                                    "2": "Calgary",
                                    "3": "Billing"
                                },
                                {
                                    "0": "Satin Finish Company",
                                    "1": "25220 Airline Road",
                                    "2": "Corpus Christi",
                                    "3": "Billing"
                                },
                                {
                                    "0": "Regional Manufacturing",
                                    "1": "Factory Stores/tucson",
                                    "2": "Tucson",
                                    "3": "Billing"
                                },
                                {
                                    "0": "Original Bicycle Supply Company",
                                    "1": "2573 Dufferin Street",
                                    "2": "Toronto",
                                    "3": "Billing"
                                },
                                {
                                    "0": "Action Bicycle Specialists",
                                    "1": "Warrington Ldc Unit 25/2",
                                    "2": "Woolston",
                                    "3": "Billing"
                                },
                                {
                                    "0": "Roadway Bike Emporium",
                                    "1": "Medford",
                                    "2": "Medford",
                                    "3": "Billing"
                                },
                                {
                                    "0": "Sleek Bikes ",
                                    "1": "44025 W. Empire",
                                    "2": "Denby",
                                    "3": "Billing"
                                },
                                {
                                    "0": "Retail Sporting Equipment",
                                    "1": "Factory Stores Of America",
                                    "2": "Mesa",
                                    "3": "Billing"
                                },
                                {
                                    "0": "Price-Cutter Discount Bikes",
                                    "1": "6700 Boul Taschereau",
                                    "2": "Brossard",
                                    "3": "Billing"
                                },
                                {
                                    "0": "Central Bicycle Specialists",
                                    "1": "6 The Farm, Liberty Road",
                                    "2": "Maidenhead",
                                    "3": "Billing"
                                },
                                {
                                    "0": "Vast Bike Sales and Rental",
                                    "1": "Lewis County Mall",
                                    "2": "Chehalis",
                                    "3": "Billing"
                                },
                                {
                                    "0": "Summer Sports Place",
                                    "1": "Ring Plaza",
                                    "2": "Norridge",
                                    "3": "Billing"
                                },
                                {
                                    "0": "Real Sporting Goods",
                                    "1": "7709 West Virginia Avenue",
                                    "2": "Phoenix",
                                    "3": "Billing"
                                },
                                {
                                    "0": "The Bike Shop",
                                    "1": "3250 South Meridian",
                                    "2": "Puyallup",
                                    "3": "Billing"
                                },
                                {
                                    "0": "Safe Toys",
                                    "1": "49925 Crestview Drive N.E.",
                                    "2": "Rio Rancho",
                                    "3": "Billing"
                                },
                                {
                                    "0": "Our Sporting Goods Store",
                                    "1": "6030 Conroy Road",
                                    "2": "Ottawa",
                                    "3": "Billing"
                                },
                                {
                                    "0": "Coho Sports",
                                    "1": "705 SE Mall Parkway",
                                    "2": "Everett",
                                    "3": "Billing"
                                },
                                {
                                    "0": "Quick Delivery Service",
                                    "1": "5990 Avebury Road",
                                    "2": "Mississauga",
                                    "3": "Billing"
                                },
                                {
                                    "0": "Basic Sports Equipment",
                                    "1": "3250 Baldwin Park Blvd",
                                    "2": "Baldwin Park",
                                    "3": "Billing"
                                },
                                {
                                    "0": "Cash & Carry Bikes",
                                    "1": "Lakeline Mall",
                                    "2": "Cedar Park",
                                    "3": "Billing"
                                },
                                {
                                    "0": "General Bike Corporation",
                                    "1": "69251 Creditview Road",
                                    "2": "Mississauga",
                                    "3": "Billing"
                                },
                                {
                                    "0": "Retail Cycle Shop",
                                    "1": "Bayshore Mall",
                                    "2": "Eureka",
                                    "3": "Billing"
                                },
                                {
                                    "0": "Social Activities Club",
                                    "1": "23025 S.W. Military Rd.",
                                    "2": "San Antonio",
                                    "3": "Billing"
                                },
                                {
                                    "0": "Blue Bicycle Company",
                                    "1": "Horizon Outlet Center",
                                    "2": "Monroe",
                                    "3": "Billing"
                                },
                                {
                                    "0": "General Riding Supplies",
                                    "1": "43251 Viking Way, Unit 130",
                                    "2": "Richmond",
                                    "3": "Billing"
                                },
                                {
                                    "0": "Riding Excursions",
                                    "1": "West Park Plaza",
                                    "2": "Irvine",
                                    "3": "Billing"
                                },
                                {
                                    "0": "Unique Bikes",
                                    "1": "3900 S. 997th St.",
                                    "2": "Milwaukee",
                                    "3": "Billing"
                                },
                                {
                                    "0": "Rural Cycle Emporium",
                                    "1": "6388 Lake City Way",
                                    "2": "Burnaby",
                                    "3": "Billing"
                                },
                                {
                                    "0": "Associated Bikes",
                                    "1": "5420 West 22500 South",
                                    "2": "Salt Lake City",
                                    "3": "Billing"
                                },
                                {
                                    "0": "Modular Cycle Systems",
                                    "1": "800 Interchange Blvd.",
                                    "2": "Austin",
                                    "3": "Billing"
                                },
                                {
                                    "0": "A Bike Store",
                                    "1": "2251 Elliot Avenue",
                                    "2": "Seattle",
                                    "3": "Billing"
                                },
                                {
                                    "0": "Journey Sporting Goods",
                                    "1": "509 Nafta Boulevard",
                                    "2": "Laredo",
                                    "3": "Billing"
                                },
                                {
                                    "0": "Two Bike Shops",
                                    "1": "35525-9th Street Sw",
                                    "2": "Puyallup",
                                    "3": "Billing"
                                },
                                {
                                    "0": "Cycles Wholesaler & Mfg.",
                                    "1": "Science Park South, Birchwood",
                                    "2": "Warrington",
                                    "3": "Billing"
                                },
                                {
                                    "0": "Number One Bike Co.",
                                    "1": "Elmhurst Road, Goring",
                                    "2": "Reading",
                                    "3": "Billing"
                                },
                                {
                                    "0": "Standard Bikes",
                                    "1": "9979 Bayview Drive",
                                    "2": "Barrie",
                                    "3": "Billing"
                                },
                                {
                                    "0": "The Bicycle Accessories Company",
                                    "1": "Vista Marketplace",
                                    "2": "Alhambra",
                                    "3": "Billing"
                                },
                                {
                                    "0": "Active Systems",
                                    "1": "9995 West Central Entrance",
                                    "2": "Duluth",
                                    "3": "Billing"
                                },
                                {
                                    "0": "Futuristic Sport Distributors",
                                    "1": "5525 South Hover Road",
                                    "2": "Longmont",
                                    "3": "Billing"
                                },
                                {
                                    "0": "Big-Time Bike Store",
                                    "1": "9909 W. Ventura Boulevard",
                                    "2": "Camarillo",
                                    "3": "Billing"
                                },
                                {
                                    "0": "The Showroom",
                                    "1": "4400 March Road",
                                    "2": "Kanata",
                                    "3": "Billing"
                                },
                                {
                                    "0": "Year-Round Sports",
                                    "1": "2583 Se 272nd St",
                                    "2": "Kent",
                                    "3": "Billing"
                                },
                                {
                                    "0": "The New Bike Store",
                                    "1": "Hanford Mall",
                                    "2": "Hanford",
                                    "3": "Billing"
                                },
                                {
                                    "0": "Primary Bike Distributors",
                                    "1": "965 De La Gauchetiere West",
                                    "2": "Montreal",
                                    "3": "Billing"
                                },
                                {
                                    "0": "Genial Bike Associates",
                                    "1": "99450 Highway 59 North",
                                    "2": "Humble",
                                    "3": "Billing"
                                },
                                {
                                    "0": "Commercial Sporting Goods",
                                    "1": "9700 Sisk Road",
                                    "2": "Modesto",
                                    "3": "Billing"
                                },
                                {
                                    "0": "Wholesale Parts",
                                    "1": "655-4th Ave S.W.",
                                    "2": "Calgary",
                                    "3": "Billing"
                                },
                                {
                                    "0": "Riding Cycles",
                                    "1": "Galashiels",
                                    "2": "Liverpool",
                                    "3": "Billing"
                                },
                                {
                                    "0": "Metro Manufacturing",
                                    "1": "2550 Signet Drive",
                                    "2": "Weston",
                                    "3": "Billing"
                                },
                                {
                                    "0": "Locks Company",
                                    "1": "70259 West Sunnyview Ave",
                                    "2": "Visalia",
                                    "3": "Billing"
                                },
                                {
                                    "0": "Latest Accessories Sales",
                                    "1": "Gateway",
                                    "2": "Portland",
                                    "3": "Billing"
                                },
                                {
                                    "0": "Greater Bike Store",
                                    "1": "55 Lakeshore Blvd East",
                                    "2": "Toronto",
                                    "3": "Billing"
                                },
                                {
                                    "0": "Distant Inn",
                                    "1": "25001 Montague Expressway",
                                    "2": "Milpitas",
                                    "3": "Billing"
                                },
                                {
                                    "0": "Finer Mart",
                                    "1": "640 South 994th St. W.",
                                    "2": "Billings",
                                    "3": "Billing"
                                },
                                {
                                    "0": "Cross-Country Riding Supplies",
                                    "1": "Station E",
                                    "2": "Chalk Riber",
                                    "3": "Billing"
                                },
                                {
                                    "0": "Bike World",
                                    "1": "60025 Bollinger Canyon Road",
                                    "2": "San Ramon",
                                    "3": "Billing"
                                },
                                {
                                    "0": "Central Discount Store",
                                    "1": "259826 Russell Rd. South",
                                    "2": "Kent",
                                    "3": "Billing"
                                },
                                {
                                    "0": "Sharp Bikes",
                                    "1": "52560 Free Street",
                                    "2": "Toronto",
                                    "3": "Billing"
                                },
                                {
                                    "0": "Metropolitan Sports Supply",
                                    "1": "482505 Warm Springs Blvd.",
                                    "2": "Fremont",
                                    "3": "Billing"
                                },
                                {
                                    "0": "Progressive Sports",
                                    "1": "3207 S Grady Way",
                                    "2": "Renton",
                                    "3": "Billing"
                                },
                                {
                                    "0": "Brakes and Gears",
                                    "1": "9927 N. Main St.",
                                    "2": "Tooele",
                                    "3": "Billing"
                                },
                                {
                                    "0": "The Accessories Store",
                                    "1": "Medford Outlet Center",
                                    "2": "Medford",
                                    "3": "Billing"
                                },
                                {
                                    "0": "Family Cycle Store",
                                    "1": "660 Saint-Jacques, Bureau 400",
                                    "2": "Montreal",
                                    "3": "Billing"
                                },
                                {
                                    "0": "Superb Sales and Repair",
                                    "1": "990th Floor 700 De La GauchetiSre Ou",
                                    "2": "Montreal",
                                    "3": "Billing"
                                },
                                {
                                    "0": "Countryside Company",
                                    "1": "825 W 500 S",
                                    "2": "Bountiful",
                                    "3": "Billing"
                                },
                                {
                                    "0": "First Bike Store",
                                    "1": "Kansas City Factory Outlet",
                                    "2": "Odessa",
                                    "3": "Billing"
                                },
                                {
                                    "0": "General Department Stores",
                                    "1": "253131 Lake Frasier Drive, Office No. 2",
                                    "2": "Calgary",
                                    "3": "Billing"
                                },
                                {
                                    "0": "Operational Manufacturing",
                                    "1": "25730, boul. St-Régis",
                                    "2": "Dorval",
                                    "3": "Billing"
                                },
                                {
                                    "0": "Online Bike Warehouse",
                                    "1": "32605 West 252 Mile Road, Suite 250",
                                    "2": "Aurora",
                                    "3": "Billing"
                                },
                                {
                                    "0": "Small Bike Shop",
                                    "1": "Corp Ofc Accts Payable",
                                    "2": "El Segundo",
                                    "3": "Billing"
                                },
                                {
                                    "0": "Superior Hardware Distributors",
                                    "1": "250775 SW Hillsdale Hwy",
                                    "2": "Beaverton",
                                    "3": "Billing"
                                },
                                {
                                    "0": "Eastside Parts Shop",
                                    "1": "7000 Victoria Park Avenue",
                                    "2": "Toronto",
                                    "3": "Billing"
                                },
                                {
                                    "0": "First Cycle Store",
                                    "1": "25250 N 90th St",
                                    "2": "Scottsdale",
                                    "3": "Billing"
                                },
                                {
                                    "0": "Running and Cycling Gear",
                                    "1": "No. 60 Bellis Fair Parkway",
                                    "2": "Bellingham",
                                    "3": "Billing"
                                },
                                {
                                    "0": "Good Toys",
                                    "1": "99700 Bell Road",
                                    "2": "Auburn",
                                    "3": "Billing"
                                },
                                {
                                    "0": "Little Bicycle Supply Shop",
                                    "1": "Cedar Creek Stores",
                                    "2": "Mosinee",
                                    "3": "Billing"
                                },
                                {
                                    "0": "All Seasons Sports Supply",
                                    "1": "Ohms Road",
                                    "2": "Houston",
                                    "3": "Billing"
                                },
                                {
                                    "0": "Leisure Clearing House",
                                    "1": "Unit 99a Battery Retail Pk",
                                    "2": "Birmingham",
                                    "3": "Billing"
                                },
                                {
                                    "0": "The Commissary",
                                    "1": "Bureau 9900 825, Avenue Querbes",
                                    "2": "Outremont",
                                    "3": "Billing"
                                },
                                {
                                    "0": "Affordable Sports Equipment",
                                    "1": "Lake Elisnor Place",
                                    "2": "Lake Elsinore",
                                    "3": "Billing"
                                },
                                {
                                    "0": "Local Sales and Rental",
                                    "1": "1200 First Ave.",
                                    "2": "Joliet",
                                    "3": "Billing"
                                },
                                {
                                    "0": "Economy Center",
                                    "1": "6th Floor, 25st Canadian Place",
                                    "2": "Toronto",
                                    "3": "Billing"
                                },
                                {
                                    "0": "Area Sheet Metal Supply",
                                    "1": "399 Clearing Green",
                                    "2": "London",
                                    "3": "Billing"
                                },
                                {
                                    "0": "Synthetic Materials Manufacturing",
                                    "1": "3390 South 23rd St.",
                                    "2": "Tacoma",
                                    "3": "Billing"
                                },
                                {
                                    "0": "Rural Sales and Service",
                                    "1": "Management Mall",
                                    "2": "San Antonio",
                                    "3": "Billing"
                                },
                                {
                                    "0": "Tubeless Tire Company",
                                    "1": "2574 Milton Park",
                                    "2": "Oxford",
                                    "3": "Billing"
                                },
                                {
                                    "0": "Hardware Components",
                                    "1": "City Center",
                                    "2": "Minneapolis",
                                    "3": "Billing"
                                },
                                {
                                    "0": "Retail Sporting Goods",
                                    "1": "6753 Howard Hughes Parkway",
                                    "2": "Las Vegas",
                                    "3": "Billing"
                                },
                                {
                                    "0": "Efficient Cycling",
                                    "1": "250333 Southport Road, S.W.",
                                    "2": "Calgary",
                                    "3": "Billing"
                                },
                                {
                                    "0": "General Industries",
                                    "1": "9259 - 1110th Avenue Sw",
                                    "2": "Calgary",
                                    "3": "Billing"
                                },
                                {
                                    "0": "Highway Bike Shop",
                                    "1": "Simi @ The Plaza",
                                    "2": "Simi Valley",
                                    "3": "Billing"
                                },
                                {
                                    "0": "Rental Bikes",
                                    "1": "99828 Routh Street, Suite 825",
                                    "2": "Dallas",
                                    "3": "Billing"
                                },
                                {
                                    "0": "Roving Sports",
                                    "1": "4927 S Meridian Ave Ste D",
                                    "2": "Puyallup",
                                    "3": "Billing"
                                },
                                {
                                    "0": "Express Bike Services",
                                    "1": "586 Fulham Road,",
                                    "2": "London",
                                    "3": "Billing"
                                },
                                {
                                    "0": "Retail Discount Store",
                                    "1": "2510 Crew Court",
                                    "2": "Montreal",
                                    "3": "Billing"
                                },
                                {
                                    "0": "Vale Riding Supplies",
                                    "1": "Topanga Plaza",
                                    "2": "Canoga Park",
                                    "3": "Billing"
                                },
                                {
                                    "0": "A Great Bicycle Company",
                                    "1": "6030 Robinson Road",
                                    "2": "Jefferson City",
                                    "3": "Billing"
                                },
                                {
                                    "0": "Certified Bicycle Supply",
                                    "1": "2345 West Spencer Road",
                                    "2": "Lynnwood",
                                    "3": "Billing"
                                },
                                {
                                    "0": "Exceptional Cycle Services",
                                    "1": "Wade Road",
                                    "2": "Basingstoke Hants",
                                    "3": "Billing"
                                },
                                {
                                    "0": "Leisure Activities",
                                    "1": "65 Gamelin Street",
                                    "2": "Hull",
                                    "3": "Billing"
                                },
                                {
                                    "0": "Paints and Solvents Company",
                                    "1": "955 E. County Line Rd.",
                                    "2": "Englewood",
                                    "3": "Billing"
                                },
                                {
                                    "0": "Bikes for Kids and Adults",
                                    "1": "9900 Ronson Drive",
                                    "2": "Etobicoke",
                                    "3": "Billing"
                                },
                                {
                                    "0": "Home Town Bike Store",
                                    "1": "955 Green Valley Crescent",
                                    "2": "Ottawa",
                                    "3": "Billing"
                                },
                                {
                                    "0": "Sample Bike Store",
                                    "1": "2530 South Colorado Blvd.",
                                    "2": "Denver",
                                    "3": "Billing"
                                },
                                {
                                    "0": "Extras Sporting Goods",
                                    "1": "625 W Jackson Blvd. Unit 2502",
                                    "2": "Chicago",
                                    "3": "Billing"
                                },
                                {
                                    "0": "Sure & Reliable Sporting Goods",
                                    "1": "7990 Ocean Beach Hwy.",
                                    "2": "Longview",
                                    "3": "Billing"
                                },
                                {
                                    "0": "Separate Parts Corporation",
                                    "1": "440 West Huntington Dr.",
                                    "2": "Monrovia",
                                    "3": "Billing"
                                },
                                {
                                    "0": "Basic Bike Company",
                                    "1": "15 East Main",
                                    "2": "Port Orchard",
                                    "3": "Billing"
                                },
                                {
                                    "0": "Fabrikam Inc., West",
                                    "1": "46460 West Oaks Drive",
                                    "2": "Novi",
                                    "3": "Billing"
                                },
                                {
                                    "0": "Non-Slip Pedal Company",
                                    "1": "258 King Street East",
                                    "2": "Toronto",
                                    "3": "Billing"
                                },
                                {
                                    "0": "Weekend Bike Tours",
                                    "1": "630 N. Capitol Ave.",
                                    "2": "San Jose",
                                    "3": "Billing"
                                },
                                {
                                    "0": "General Supplies",
                                    "1": "9693 Louis H Lafontaine",
                                    "2": "Ville De'anjou",
                                    "3": "Billing"
                                },
                                {
                                    "0": "Racing Toys",
                                    "1": "Prime Outlets",
                                    "2": "Phoenix",
                                    "3": "Billing"
                                },
                                {
                                    "0": "Capable Sales and Service",
                                    "1": "765 Delridge Way Sw",
                                    "2": "Seattle",
                                    "3": "Billing"
                                },
                                {
                                    "0": "Road Way Sales and Rental",
                                    "1": "2900 - 25055 Dunning Street",
                                    "2": "Vancouver",
                                    "3": "Billing"
                                },
                                {
                                    "0": "Sturdy Toys",
                                    "1": "Pacific West Outlet",
                                    "2": "Gilroy",
                                    "3": "Billing"
                                },
                                {
                                    "0": "Beneficial Exercises and Activities",
                                    "1": "6425 Nw Loop 410",
                                    "2": "San Antonio",
                                    "3": "Billing"
                                },
                                {
                                    "0": "Fad Outlet",
                                    "1": "2550 Ne Sandy Blvd",
                                    "2": "Portland",
                                    "3": "Billing"
                                },
                                {
                                    "0": "Commerce Bicycle Specialists",
                                    "1": "Wharfdale Road",
                                    "2": "Berkshire",
                                    "3": "Billing"
                                },
                                {
                                    "0": "Acceptable Sales & Service",
                                    "1": "6400, 888 - 3rd Avenue",
                                    "2": "Calgary",
                                    "3": "Billing"
                                },
                                {
                                    "0": "District Mall",
                                    "1": "25095 W. Florissant",
                                    "2": "Ferguson",
                                    "3": "Billing"
                                },
                                {
                                    "0": "Fitness Supplies",
                                    "1": "755 W Washington Ave Ste D",
                                    "2": "Sequim",
                                    "3": "Billing"
                                },
                                {
                                    "0": "Mail Market",
                                    "1": "308-3250 Casting Road",
                                    "2": "York",
                                    "3": "Billing"
                                },
                                {
                                    "0": "Twelfth Bike Store",
                                    "1": "No. 25400 10665 Jasper Avenue",
                                    "2": "Edmonton",
                                    "3": "Billing"
                                },
                                {
                                    "0": "Consolidated Messenger",
                                    "1": "25 Danger Street West",
                                    "2": "Toronto",
                                    "3": "Billing"
                                },
                                {
                                    "0": "Field Trip Store",
                                    "1": "2575 Rocky Mountain Ave.",
                                    "2": "Loveland",
                                    "3": "Billing"
                                },
                                {
                                    "0": "Finish and Sealant Products",
                                    "1": "25150 El Camino Real",
                                    "2": "San Bruno",
                                    "3": "Billing"
                                },
                                {
                                    "0": "Finer Parts Shop",
                                    "1": "2526a Tri-Lake Blvd Ne",
                                    "2": "Kirkland",
                                    "3": "Billing"
                                },
                                {
                                    "0": "Up-To-Date Sports",
                                    "1": "2521 McPherson Street",
                                    "2": "Markham",
                                    "3": "Billing"
                                },
                                {
                                    "0": "Mountain Bike Center",
                                    "1": "6756 Mowry",
                                    "2": "Newark",
                                    "3": "Billing"
                                },
                                {
                                    "0": "Specialty Sports Store",
                                    "1": "52500 Liberty Way",
                                    "2": "Fort Worth",
                                    "3": "Billing"
                                },
                                {
                                    "0": "Scooters and Bikes Store",
                                    "1": "258101 Nw Evergreen Parkway",
                                    "2": "Beaverton",
                                    "3": "Billing"
                                },
                                {
                                    "0": "Closest Bicycle Store",
                                    "1": "Garamonde Drive, Wymbush",
                                    "2": "Milton Keynes",
                                    "3": "Billing"
                                },
                                {
                                    "0": "Reasonable Bicycle Sales",
                                    "1": "C/O Starpak, Inc.",
                                    "2": "Greeley",
                                    "3": "Billing"
                                },
                                {
                                    "0": "Outdoor Sports Supply",
                                    "1": "Great Northwestern",
                                    "2": "North Bend",
                                    "3": "Billing"
                                },
                                {
                                    "0": "Outdoor Aerobic Systems Company",
                                    "1": "255 Irving Street",
                                    "2": "London",
                                    "3": "Billing"
                                },
                                {
                                    "0": "Metal Clearing House",
                                    "1": "3255 Front Street West",
                                    "2": "Toronto",
                                    "3": "Billing"
                                },
                                {
                                    "0": "Many Bikes Store",
                                    "1": "Receiving",
                                    "2": "Fullerton",
                                    "3": "Billing"
                                },
                                {
                                    "0": "Largest Bike Store",
                                    "1": "63 W Monroe",
                                    "2": "Chicago",
                                    "3": "Billing"
                                },
                                {
                                    "0": "Kickstands and Accessories Company",
                                    "1": "25300 Biddle Road",
                                    "2": "Medford",
                                    "3": "Billing"
                                },
                                {
                                    "0": "Instruments and Parts Company",
                                    "1": "Phoenix Way, Cirencester",
                                    "2": "Gloucestershire",
                                    "3": "Billing"
                                },
                                {
                                    "0": "Gear-Shift Bikes Limited",
                                    "1": "2512-4th Ave Sw",
                                    "2": "Calgary",
                                    "3": "Billing"
                                },
                                {
                                    "0": "Frugal Bike Shop",
                                    "1": "2575 West 2700 South",
                                    "2": "Salt Lake City",
                                    "3": "Billing"
                                },
                                {
                                    "0": "Family Entertainment Center",
                                    "1": "25718 Se Sunnyside Rd",
                                    "2": "Clackamas",
                                    "3": "Billing"
                                },
                                {
                                    "0": "Go-cart and Bike Specialists",
                                    "1": "2509 W. Frankford",
                                    "2": "Carrollton",
                                    "3": "Billing"
                                },
                                {
                                    "0": "Trailblazing Sports",
                                    "1": "251340 E. South St.",
                                    "2": "Cerritos",
                                    "3": "Billing"
                                },
                                {
                                    "0": "Racing Partners",
                                    "1": "2512-410th Avenue S.W.",
                                    "2": "Calgary",
                                    "3": "Billing"
                                },
                                {
                                    "0": "Exhibition Showroom",
                                    "1": "Garamonde Drive, Wymbush",
                                    "2": "Milton Keynes",
                                    "3": "Billing"
                                },
                                {
                                    "0": "Authorized Bike Sales and Rental",
                                    "1": "490 Ne 4th St",
                                    "2": "Renton",
                                    "3": "Billing"
                                },
                                {
                                    "0": "Two-Seater Bikes",
                                    "1": "5700 Legacy Dr",
                                    "2": "Plano",
                                    "3": "Billing"
                                },
                                {
                                    "0": "More Bikes!",
                                    "1": "25600 E St Andrews Pl",
                                    "2": "Santa Ana",
                                    "3": "Billing"
                                },
                                {
                                    "0": "National Manufacturing",
                                    "1": "630 University Avenue",
                                    "2": "Toronto",
                                    "3": "Billing"
                                },
                                {
                                    "0": "Town Industries",
                                    "1": "P.O. Box 6256916",
                                    "2": "Dallas",
                                    "3": "Billing"
                                },
                                {
                                    "0": "Security Racks and Locks Wholesalers",
                                    "1": "910 Main Street.",
                                    "2": "Sparks",
                                    "3": "Billing"
                                },
                                {
                                    "0": "Rapid Bikes",
                                    "1": "992 St Clair Ave East",
                                    "2": "Toronto",
                                    "3": "Billing"
                                },
                                {
                                    "0": "Nearby Sporting Goods",
                                    "1": "Bradford",
                                    "2": "W. York",
                                    "3": "Billing"
                                },
                                {
                                    "0": "Front Sporting Goods",
                                    "1": "257700 Ne 76th Street",
                                    "2": "Redmond",
                                    "3": "Billing"
                                },
                                {
                                    "0": "Elite Bikes",
                                    "1": "Po Box 8259024",
                                    "2": "Dallas",
                                    "3": "Billing"
                                },
                                {
                                    "0": "Catalog Store",
                                    "1": "855 East Main Avenue",
                                    "2": "Zeeland",
                                    "3": "Billing"
                                },
                                {
                                    "0": "Chic Department Stores",
                                    "1": "90025 Sterling St",
                                    "2": "Irving",
                                    "3": "Billing"
                                },
                                {
                                    "0": "Eastside Department Store",
                                    "1": "9992 Whipple Rd",
                                    "2": "Union City",
                                    "3": "Billing"
                                },
                                {
                                    "0": "Cycle Merchants",
                                    "1": "575 Rue St Amable",
                                    "2": "Quebec",
                                    "3": "Billing"
                                },
                                {
                                    "0": "Fitness Hotel",
                                    "1": "74400 France Avenue South",
                                    "2": "Edina",
                                    "3": "Billing"
                                },
                                {
                                    "0": "Grand Industries",
                                    "1": "6333 Cote Vertu",
                                    "2": "Montreal",
                                    "3": "Billing"
                                },
                                {
                                    "0": "Leading Sales & Repair",
                                    "1": "25149 Howard Dr",
                                    "2": "West Chicago",
                                    "3": "Billing"
                                },
                                {
                                    "0": "Tandem Sales and Service",
                                    "1": "63 Free St.",
                                    "2": "Toronto",
                                    "3": "Billing"
                                },
                                {
                                    "0": "Reliable Retail Center",
                                    "1": "609 Evans Avenue",
                                    "2": "Toronto",
                                    "3": "Billing"
                                },
                                {
                                    "0": "Friendly Bike Shop",
                                    "1": "Port Huron",
                                    "2": "Port Huron",
                                    "3": "Billing"
                                },
                                {
                                    "0": "Yellow Bicycle Company",
                                    "1": "St. Louis Marketplace",
                                    "2": "Saint Louis",
                                    "3": "Billing"
                                },
                                {
                                    "0": "Sports Products Store",
                                    "1": "Po Box 252525",
                                    "2": "Santa Ana",
                                    "3": "Billing"
                                },
                                {
                                    "0": "Shipping Specialists",
                                    "1": "25 Hartfield Road, Wimbledon",
                                    "2": "London",
                                    "3": "Billing"
                                },
                                {
                                    "0": "Authentic Sales and Service",
                                    "1": "99 Dean Street, Soho",
                                    "2": "London",
                                    "3": "Billing"
                                },
                                {
                                    "0": "Official Parts Shop",
                                    "1": "9905 Three Rivers Drive",
                                    "2": "Kelso",
                                    "3": "Billing"
                                },
                                {
                                    "0": "Discount Tours",
                                    "1": "603 Gellert Blvd",
                                    "2": "Daly City",
                                    "3": "Billing"
                                },
                                {
                                    "0": "Tire Exchange",
                                    "1": "9984 Wellington Street",
                                    "2": "Ottawa",
                                    "3": "Billing"
                                },
                                {
                                    "0": "Oils and Fluids Warehouse",
                                    "1": "Park House-4th Floor, 2516 Park St.",
                                    "2": "London",
                                    "3": "Billing"
                                },
                                {
                                    "0": "Rally Master Company Inc",
                                    "1": "870 N. 54th Ave.",
                                    "2": "Chandler",
                                    "3": "Billing"
                                },
                                {
                                    "0": "Professional Cyclists",
                                    "1": "2545 King Street West",
                                    "2": "Toronto",
                                    "3": "Billing"
                                },
                                {
                                    "0": "Exclusive Bicycle Mart",
                                    "1": "Butterfield Hse, 7-251 Chapel St",
                                    "2": "Lancaster",
                                    "3": "Billing"
                                },
                                {
                                    "0": "City Manufacturing",
                                    "1": "3025 E Waterway Blvd",
                                    "2": "Shelton",
                                    "3": "Billing"
                                },
                                {
                                    "0": "Bike Dealers Association",
                                    "1": "9952 E. Lohman Ave.",
                                    "2": "Las Cruces",
                                    "3": "Billing"
                                },
                                {
                                    "0": "Health Spa, Limited",
                                    "1": "2500 University Avenue",
                                    "2": "Toronto",
                                    "3": "Billing"
                                },
                                {
                                    "0": "Closeout Boutique",
                                    "1": "1050 Oak Street",
                                    "2": "Seattle",
                                    "3": "Billing"
                                },
                                {
                                    "0": "Bicycle Merchandise Warehouse",
                                    "1": "409 Santa Monica Blvd.",
                                    "2": "Santa Monica",
                                    "3": "Billing"
                                },
                                {
                                    "0": "Leather Seat Factory",
                                    "1": "9900-6400 Boul, Taschereau",
                                    "2": "Brossard",
                                    "3": "Billing"
                                },
                                {
                                    "0": "Practical Bike Supply Company",
                                    "1": "Horizon Outlet",
                                    "2": "Woodbury",
                                    "3": "Billing"
                                },
                                {
                                    "0": "Some Discount Store",
                                    "1": "Frontier Mall",
                                    "2": "Cheyenne",
                                    "3": "Billing"
                                },
                                {
                                    "0": "Variety Cycling",
                                    "1": "46-44 Albemarle Street",
                                    "2": "London",
                                    "3": "Billing"
                                },
                                {
                                    "0": "Remote Bicycle Specialists",
                                    "1": "No. 2000-25080 Beaver Hall Hill",
                                    "2": "Quebec",
                                    "3": "Billing"
                                },
                                {
                                    "0": "Friendly Neighborhood Bikes",
                                    "1": "Johnson Creek",
                                    "2": "Johnson Creek",
                                    "3": "Billing"
                                },
                                {
                                    "0": "Recommended Bicycles",
                                    "1": "250 Kingsbridge Garden Circle",
                                    "2": "Mississauga",
                                    "3": "Billing"
                                },
                                {
                                    "0": "Alpine Ski House",
                                    "1": "7505 Laguna Boulevard",
                                    "2": "Elk Grove",
                                    "3": "Billing"
                                },
                                {
                                    "0": "Seats and Saddles Company",
                                    "1": "5th Floor, 79 Place D'armes",
                                    "2": "Kingston",
                                    "3": "Billing"
                                },
                                {
                                    "0": "All Cycle Shop",
                                    "1": "25111 228th St Sw",
                                    "2": "Bothell",
                                    "3": "Billing"
                                },
                                {
                                    "0": "Tachometers and Accessories",
                                    "1": "Wymbush",
                                    "2": "Milton Keynes",
                                    "3": "Billing"
                                },
                                {
                                    "0": "Low Price Cycles",
                                    "1": "Suite 500 995 W. 11th Avenue",
                                    "2": "Mississauga",
                                    "3": "Billing"
                                },
                                {
                                    "0": "Metropolitan Manufacturing",
                                    "1": "Parkway Plaza",
                                    "2": "El Cajon",
                                    "3": "Billing"
                                },
                                {
                                    "0": "Orange Bicycle Company",
                                    "1": "123 W. Lake Ave.",
                                    "2": "Peoria",
                                    "3": "Billing"
                                },
                                {
                                    "0": "Riding Associates",
                                    "1": "2528 Meridian E",
                                    "2": "Puyallup",
                                    "3": "Billing"
                                },
                                {
                                    "0": "Essential Bike Works",
                                    "1": "New Millhouse, 2583 Milton Park",
                                    "2": "Abingdon",
                                    "3": "Billing"
                                },
                                {
                                    "0": "Engineered Bike Systems",
                                    "1": "123 Camelia Avenue",
                                    "2": "Oxnard",
                                    "3": "Billing"
                                },
                                {
                                    "0": "Professional Containers and Packaging Co.",
                                    "1": "253731 West Bell Road",
                                    "2": "Surprise",
                                    "3": "Billing"
                                },
                                {
                                    "0": "One Bike Company",
                                    "1": "5 place Ville-Marie",
                                    "2": "Montreal",
                                    "3": "Billing"
                                },
                                {
                                    "0": "Cycling Goods",
                                    "1": "997b Tradescant Road",
                                    "2": "London",
                                    "3": "Billing"
                                },
                                {
                                    "0": "Cycle Clearance",
                                    "1": "2255 254th Avenue Se",
                                    "2": "Albany",
                                    "3": "Billing"
                                },
                                {
                                    "0": "Black Bicycle Company",
                                    "1": "Factory Merchants",
                                    "2": "Branson",
                                    "3": "Billing"
                                },
                                {
                                    "0": "Transport Bikes",
                                    "1": "25130 South State Street",
                                    "2": "Sandy",
                                    "3": "Billing"
                                },
                                {
                                    "0": "Sellers of Cycles",
                                    "1": "700 Se Sunnyside Road",
                                    "2": "Clackamas",
                                    "3": "Billing"
                                },
                                {
                                    "0": "Maintenance and Repair for Bicycles",
                                    "1": "Lone Star Factory",
                                    "2": "La Marque",
                                    "3": "Billing"
                                },
                                {
                                    "0": "Fitness Department Stores",
                                    "1": "7750 E Marching Rd",
                                    "2": "Scottsdale",
                                    "3": "Billing"
                                },
                                {
                                    "0": "Famous Bike Shop",
                                    "1": "999 West Georgia St.",
                                    "2": "Vancouver",
                                    "3": "Billing"
                                },
                                {
                                    "0": "Gift and Toy Store",
                                    "1": "Sports Stores @ Tuscola",
                                    "2": "Tuscola",
                                    "3": "Billing"
                                },
                                {
                                    "0": "Major Sporting Goods",
                                    "1": "9980 S Alma School Road",
                                    "2": "Chandler",
                                    "3": "Billing"
                                },
                                {
                                    "0": "Major Cycling",
                                    "1": "46990 Viking Way",
                                    "2": "Richmond",
                                    "3": "Billing"
                                },
                                {
                                    "0": "Downhill Bicycle Specialists",
                                    "1": "725a The Arches",
                                    "2": "Berks",
                                    "3": "Billing"
                                },
                                {
                                    "0": "Bike Experts",
                                    "1": "Lancaster Mall",
                                    "2": "Salem",
                                    "3": "Billing"
                                },
                                {
                                    "0": "Extraordinary Bike Works",
                                    "1": "Town East Center",
                                    "2": "Mesquite",
                                    "3": "Billing"
                                },
                                {
                                    "0": "Valley Bicycle Distributors",
                                    "1": "5867 Sunrise Boulevard",
                                    "2": "Citrus Heights",
                                    "3": "Billing"
                                },
                                {
                                    "0": "Top Sports Supply",
                                    "1": "251420a 170th Street",
                                    "2": "Edmonton",
                                    "3": "Billing"
                                },
                                {
                                    "0": "Metropolitan Bicycle Supply",
                                    "1": "Paramount House",
                                    "2": "London",
                                    "3": "Billing"
                                },
                                {
                                    "0": "Honest Repair Service",
                                    "1": "Three Rivers Mall",
                                    "2": "Kelso",
                                    "3": "Billing"
                                },
                                {
                                    "0": "Wheel Gallery",
                                    "1": "9920 Bridgepointe Parkway",
                                    "2": "San Mateo",
                                    "3": "Billing"
                                },
                                {
                                    "0": "Top Bike Market",
                                    "1": "975 Princess Street",
                                    "2": "Kingston",
                                    "3": "Billing"
                                },
                                {
                                    "0": "Bicycle Lines Distributors",
                                    "1": "6996 South Lindbergh",
                                    "2": "Saint Louis",
                                    "3": "Billing"
                                },
                                {
                                    "0": "Sparkling Paint and Finishes",
                                    "1": "San Diego Factory",
                                    "2": "San Ysidro",
                                    "3": "Billing"
                                },
                                {
                                    "0": "Plastic Parts Company",
                                    "1": "750 Philip Street",
                                    "2": "Waterloo",
                                    "3": "Billing"
                                },
                                {
                                    "0": "Big Cycle Mall",
                                    "1": "9500b E. Central Texas Expressway",
                                    "2": "Killeen",
                                    "3": "Billing"
                                },
                                {
                                    "0": "Eighth Bike Store",
                                    "1": "2500 N Serene Blvd",
                                    "2": "El Segundo",
                                    "3": "Billing"
                                },
                                {
                                    "0": "Demand Distributors",
                                    "1": "25102 Springwater",
                                    "2": "Wenatchee",
                                    "3": "Billing"
                                },
                                {
                                    "0": "Red Bicycle Company",
                                    "1": "99, Rue Saint-pierre",
                                    "2": "Pnot-Rouge",
                                    "3": "Billing"
                                },
                                {
                                    "0": "Trendy Department Stores",
                                    "1": "25472 Marlay Ave",
                                    "2": "Fontana",
                                    "3": "Billing"
                                },
                                {
                                    "0": "Vintage Sport Boutique",
                                    "1": "22571 South 2500 East",
                                    "2": "Idaho Falls",
                                    "3": "Billing"
                                },
                                {
                                    "0": "Travel Sports",
                                    "1": "755 Nw Grandstand",
                                    "2": "Issaquah",
                                    "3": "Billing"
                                },
                                {
                                    "0": "West Side Mart",
                                    "1": "251 The Metro Center",
                                    "2": "Wokingham",
                                    "3": "Billing"
                                },
                                {
                                    "0": "Tenth Bike Store",
                                    "1": "Depot 80",
                                    "2": "Sillery",
                                    "3": "Billing"
                                },
                                {
                                    "0": "Fun Times Club",
                                    "1": "8525 South Parker Road",
                                    "2": "Parker",
                                    "3": "Billing"
                                },
                                {
                                    "0": "Wingtip Toys",
                                    "1": "755 Columbia Ctr Blvd",
                                    "2": "Kennewick",
                                    "3": "Billing"
                                },
                                {
                                    "0": "Active Life Toys",
                                    "1": "55 Standish Court",
                                    "2": "Mississauga",
                                    "3": "Billing"
                                },
                                {
                                    "0": "Quick Parts and Service",
                                    "1": "99954 Boul. Laurier, Local 060, Place",
                                    "2": "Sainte-Foy",
                                    "3": "Billing"
                                },
                                {
                                    "0": "Thrifty Parts and Sales",
                                    "1": "Oxnard Outlet",
                                    "2": "Oxnard",
                                    "3": "Billing"
                                },
                                {
                                    "0": "A Typical Bike Shop",
                                    "1": "One Dancing, Rr No. 25",
                                    "2": "Round Rock",
                                    "3": "Billing"
                                },
                                {
                                    "0": "Fasteners & Bolts Outlet",
                                    "1": "9960 King Street E.",
                                    "2": "Toronto",
                                    "3": "Billing"
                                },
                                {
                                    "0": "Quantity Discounts",
                                    "1": "Natomas Marketplace",
                                    "2": "Sacramento",
                                    "3": "Billing"
                                },
                                {
                                    "0": "Swift Cycles",
                                    "1": "25500 Old Spanish Trail",
                                    "2": "Houston",
                                    "3": "Billing"
                                },
                                {
                                    "0": "Large Bike Shop",
                                    "1": "600 Boul. Rene-levesque Ouest",
                                    "2": "Montreal",
                                    "3": "Billing"
                                },
                                {
                                    "0": "Wire Baskets and Parts",
                                    "1": "Mall Of Orange",
                                    "2": "Orange",
                                    "3": "Billing"
                                },
                                {
                                    "0": "Sports Store",
                                    "1": "Internet House, 3399 Science Park",
                                    "2": "Cambridge",
                                    "3": "Billing"
                                },
                                {
                                    "0": "Extended Tours",
                                    "1": "7 Garden House Cloisters, 8 Batters",
                                    "2": "London",
                                    "3": "Billing"
                                },
                                {
                                    "0": "Convenient Sales and Service",
                                    "1": "950 Gateway Street",
                                    "2": "Springfield",
                                    "3": "Billing"
                                },
                                {
                                    "0": "Solid Bike Parts",
                                    "1": "Lincoln Square",
                                    "2": "Arlington",
                                    "3": "Billing"
                                },
                                {
                                    "0": "Permanent Finish Products",
                                    "1": "62500 Neil Road",
                                    "2": "Reno",
                                    "3": "Billing"
                                },
                                {
                                    "0": "Mercantile Outlet",
                                    "1": "2520 Flanders Road",
                                    "2": "Toronto",
                                    "3": "Billing"
                                },
                                {
                                    "0": "Exhilarating Cycles",
                                    "1": "Kensington Valley Shops",
                                    "2": "Howell",
                                    "3": "Billing"
                                },
                                {
                                    "0": "Exercise Center",
                                    "1": "Stevens Creek Shopping Center",
                                    "2": "San Jose",
                                    "3": "Billing"
                                },
                                {
                                    "0": "Great Bicycle Supply",
                                    "1": "455 256th St.",
                                    "2": "Moline",
                                    "3": "Billing"
                                },
                                {
                                    "0": "Mail-Order Outlet",
                                    "1": "409 S. Main Ste. 25",
                                    "2": "Ellensburg",
                                    "3": "Billing"
                                },
                                {
                                    "0": "Nearby Cycle Shop",
                                    "1": "Burgess Hill",
                                    "2": "West Sussex",
                                    "3": "Billing"
                                },
                                {
                                    "0": "Retreat Inn",
                                    "1": "Suite 2502 410 Albert Street",
                                    "2": "Waterloo",
                                    "3": "Billing"
                                },
                                {
                                    "0": "Technical Parts Manufacturing",
                                    "1": "Ontario Mills",
                                    "2": "Ontario",
                                    "3": "Billing"
                                },
                                {
                                    "0": "Totes & Baskets Company",
                                    "1": "72540 Blanco Rd.",
                                    "2": "San Antonio",
                                    "3": "Billing"
                                },
                                {
                                    "0": "World of Bikes",
                                    "1": "660 Lindbergh",
                                    "2": "Saint Louis",
                                    "3": "Billing"
                                }
                            ]
                        },
                        "text/html": "<table><tr><th>CompanyName</th><th>AddressLine1</th><th>City</th><th>AddressType</th></tr><tr><td>Professional Sales and Service</td><td>57251 Serene Blvd</td><td>Van Nuys</td><td>Billing</td></tr><tr><td>Riders Company</td><td>Tanger Factory</td><td>Branch</td><td>Billing</td></tr><tr><td>Area Bike Accessories</td><td>6900 Sisk Road</td><td>Modesto</td><td>Billing</td></tr><tr><td>Bicycle Accessories and Kits</td><td>Lewiston Mall</td><td>Lewiston</td><td>Billing</td></tr><tr><td>Valley Bicycle Specialists</td><td>Blue Ridge Mall</td><td>Kansas City</td><td>Billing</td></tr><tr><td>Vinyl and Plastic Goods Corporation</td><td>No. 25800-130 King Street West</td><td>Toronto</td><td>Billing</td></tr><tr><td>Fun Toys and Bikes</td><td>6500 East Grant Road</td><td>Tucson</td><td>Billing</td></tr><tr><td>Great Bikes </td><td>Eastridge Mall</td><td>Casper</td><td>Billing</td></tr><tr><td>Valley Toy Store</td><td>252851 Rowan Place</td><td>Richmond</td><td>Billing</td></tr><tr><td>Major Sport Suppliers</td><td>White Mountain Mall</td><td>Rock Springs</td><td>Billing</td></tr><tr><td>Family's Favorite Bike Shop</td><td>25981 College Street</td><td>Montreal</td><td>Billing</td></tr><tr><td>Imported and Domestic Cycles</td><td>22589 West Craig Road</td><td>North Las Vegas</td><td>Billing</td></tr><tr><td>Systematic Sales</td><td>2551 East Warner Road</td><td>Gilbert</td><td>Billing</td></tr><tr><td>Mountain Toy Store</td><td>First Colony Mall</td><td>Sugar Land</td><td>Billing</td></tr><tr><td>Designated Distributors</td><td>254 Colonnade Road</td><td>Nepean</td><td>Billing</td></tr><tr><td>Bold Bike Accessories</td><td>Rocky Mountain Pines Outlet</td><td>Loveland</td><td>Billing</td></tr><tr><td>Serious Cycles</td><td>Suite 99320 255 - 510th Avenue S.W.</td><td>Calgary</td><td>Billing</td></tr><tr><td>Novelty Bikes</td><td>998 Forest Road</td><td>Saginaw</td><td>Billing</td></tr><tr><td>Brightwork Company</td><td>Belz Factory Outlet</td><td>Las Vegas</td><td>Billing</td></tr><tr><td>Resale Services</td><td>Fox Hills</td><td>Culver City</td><td>Billing</td></tr><tr><td>The Gear Store</td><td>2345 North Freeway</td><td>Houston</td><td>Billing</td></tr><tr><td>Immense Manufacturing Company</td><td>70 N.W. Plaza</td><td>Saint Ann</td><td>Billing</td></tr><tr><td>Extended Bike Sales</td><td>The Citadel Commerce Plaza</td><td>City Of Commerce</td><td>Billing</td></tr><tr><td>Workout Emporium</td><td>700 Bureau Road</td><td>Montreal</td><td>Billing</td></tr><tr><td>Work and Play Association</td><td>2533 Eureka Rd.</td><td>Southgate</td><td>Billing</td></tr><tr><td>Nice Bikes</td><td>Suite 800 2530 Slater Street</td><td>Ottawa</td><td>Billing</td></tr><tr><td>Remarkable Bike Store</td><td>Eastern Beltway Center</td><td>Las Vegas</td><td>Billing</td></tr><tr><td>Road-Way Mart</td><td>Southgate Mall</td><td>Missoula</td><td>Billing</td></tr><tr><td>Small Cycle Store</td><td>Horizon Outlet Center</td><td>Holland</td><td>Billing</td></tr><tr><td>Grand Bicycle Stores</td><td>48255 I-10 E. @ Eastpoint Blvd.</td><td>Baytown</td><td>Billing</td></tr><tr><td>Kickstand Sellers</td><td>6789 Warren Road</td><td>Westland</td><td>Billing</td></tr><tr><td>Gasless Cycle Shop</td><td>25 First Canadian Place</td><td>Toronto</td><td>Billing</td></tr><tr><td>Transportation Options</td><td>25900-700-9th Ave S.W.</td><td>Calgary</td><td>Billing</td></tr><tr><td>Finer Cycle Shop</td><td>2500-622 5th Ave Sw</td><td>Calgary</td><td>Billing</td></tr><tr><td>Center Cycle Shop</td><td>99300 223rd Southeast</td><td>Bothell</td><td>Billing</td></tr><tr><td>Bulk Discount Store</td><td>93-2501, Blackfriars Road,</td><td>London</td><td>Billing</td></tr><tr><td>First-Rate Outlet</td><td>25537 Hillside Avenue</td><td>Victoria</td><td>Billing</td></tr><tr><td>Another Bicycle Company</td><td>567 Sw Mcloughlin Blvd</td><td>Milwaukie</td><td>Billing</td></tr><tr><td>Unsurpassed Bikes</td><td>Po Box 8035996</td><td>Dallas</td><td>Billing</td></tr><tr><td>Field Trip Inc</td><td>997000 Telegraph Rd.</td><td>Southfield</td><td>Billing</td></tr><tr><td>Odometers and Accessories Company</td><td>253711 Mayfield Place, Unit 150</td><td>Richmond</td><td>Billing</td></tr><tr><td>Scratch-Resistant Finishes Company</td><td>5700 Explorer Drive</td><td>Mississauga</td><td>Billing</td></tr><tr><td>Safe Cycles Shop</td><td>25915 140th Ave Ne</td><td>Bellevue</td><td>Billing</td></tr><tr><td>Number 1 Supply</td><td>Escondido</td><td>Escondido</td><td>Billing</td></tr><tr><td>Golf and Cycle Store</td><td>5500 Grossmont Center Drive</td><td>La Mesa</td><td>Billing</td></tr><tr><td>World Bike Discount Store</td><td>3065 Santa Margarita Parkway</td><td>Trabuco Canyon</td><td>Billing</td></tr><tr><td>Historic Bicycle Sales</td><td>Redford Plaza</td><td>Redford</td><td>Billing</td></tr><tr><td>Commuter Bicycle Store</td><td>2575 Bloor Street East</td><td>Toronto</td><td>Billing</td></tr><tr><td>Coalition Bike Company</td><td>Corporate Office</td><td>El Segundo</td><td>Billing</td></tr><tr><td>Travel Systems</td><td>2505 Gateway Drive</td><td>North Sioux City</td><td>Billing</td></tr><tr><td>Grease and Oil Products Company</td><td>9903 Highway 6 South</td><td>Houston</td><td>Billing</td></tr><tr><td>Moderately-Priced Bikes Store</td><td>67 Rainer Ave S</td><td>Renton</td><td>Billing</td></tr><tr><td>Economy Bikes Company</td><td>72502 Eastern Ave.</td><td>Bell Gardens</td><td>Billing</td></tr><tr><td>Third Bike Store</td><td>2500 North Stemmons Freeway</td><td>Dallas</td><td>Billing</td></tr><tr><td>Bikes for Two</td><td>63 West Beaver Creek</td><td>Richmond Hill</td><td>Billing</td></tr><tr><td>Metal Processing Company</td><td>770 Notre Datme Quest Bureau 800</td><td>Montreal</td><td>Billing</td></tr><tr><td>Initial Bike Company</td><td>789 West Alameda</td><td>Westminster</td><td>Billing</td></tr><tr><td>Latest Sports Equipment</td><td>4251 First Avenue</td><td>Seattle</td><td>Billing</td></tr><tr><td>Raw Materials Inc</td><td>Bldg. 9n/99298</td><td>Redmond</td><td>Billing</td></tr><tr><td>Lots of Bikes Storehouse</td><td>4255 East Lies Road</td><td>Carol Stream</td><td>Billing</td></tr><tr><td>Futuristic Bikes</td><td>25136 Jefferson Blvd.</td><td>Culver City</td><td>Billing</td></tr><tr><td>Parcel Express Delivery Service</td><td>Washington Square</td><td>Portland</td><td>Billing</td></tr><tr><td>Prosperous Tours</td><td>99-3 Forest Works</td><td>London</td><td>Billing</td></tr><tr><td>Nonskid Tire Company</td><td>Holiday Village Mall</td><td>Great Falls</td><td>Billing</td></tr><tr><td>Metro Bike Works</td><td>250000 Eight Mile Road</td><td>Detroit</td><td>Billing</td></tr><tr><td>Best o' Bikes</td><td>250880 Baur Blvd</td><td>Saint Louis</td><td>Billing</td></tr><tr><td>Client Discount Store</td><td>Noah Lane</td><td>Chicago</td><td>Billing</td></tr><tr><td>Requisite Part Supply</td><td>600 Slater Street</td><td>Ottawa</td><td>Billing</td></tr><tr><td>Mechanical Products Ltd.</td><td>22555 Paseo De Las Americas</td><td>San Diego</td><td>Billing</td></tr><tr><td>Commendable Bikes</td><td>4781 Highway 95</td><td>Sandpoint</td><td>Billing</td></tr><tr><td>Online Bike Sellers</td><td>678 Eastman Ave.</td><td>Midland</td><td>Billing</td></tr><tr><td>Custom Accessories Company</td><td>251 Indell Lane</td><td>Brampton</td><td>Billing</td></tr><tr><td>Courteous Bicycle Specialists</td><td>995 Crescent</td><td>Richmond Hill</td><td>Billing</td></tr><tr><td>Professional Cycle Store</td><td>Arcadia Crossing</td><td>Phoenix</td><td>Billing</td></tr><tr><td>Fifth Bike Store</td><td>2502 Evergreen Ste E</td><td>Everett</td><td>Billing</td></tr><tr><td>Farthest Bike Store</td><td>45259 Canada Way</td><td>Burnaby</td><td>Billing</td></tr><tr><td>Alternative Vehicles</td><td>3307 Evergreen Blvd</td><td>Washougal</td><td>Billing</td></tr><tr><td>Channel Outlet</td><td>Knaves Beech Ind.</td><td>High Wycombe</td><td>Billing</td></tr><tr><td>Retail Mall</td><td>254480 River Rd</td><td>Richmond</td><td>Billing</td></tr><tr><td>Metro Metals Co.</td><td>2524 Barlby Road</td><td>London</td><td>Billing</td></tr><tr><td>Sheet Metal Manufacturing</td><td>25306 Harvey Rd.</td><td>College Station</td><td>Billing</td></tr><tr><td>Thorough Parts and Repair Services</td><td>S Sound Ctr Suite 25300</td><td>Lacey</td><td>Billing</td></tr><tr><td>Uttermost Bike Shop</td><td>Ellesfield Ave</td><td>Bracknell</td><td>Billing</td></tr><tr><td>Two-Wheeled Transit Company</td><td>P.O. Box 44000</td><td>Winnipeg</td><td>Billing</td></tr><tr><td>Metro Cycle Shop</td><td>2507 Pacific Ave S</td><td>Tacoma</td><td>Billing</td></tr><tr><td>Outdoor Sporting Goods</td><td>Lakewood Mall</td><td>Lakewood</td><td>Billing</td></tr><tr><td>Petroleum Products Distributors</td><td>20225 Lansing Ave</td><td>Montreal</td><td>Billing</td></tr><tr><td>Bikes and Motorbikes</td><td>22580 Free Street</td><td>Toronto</td><td>Billing</td></tr><tr><td>Camping and Sports Store</td><td>400-25155 West Pender St</td><td>Vancouver</td><td>Billing</td></tr><tr><td>Rural Department Store</td><td>5967 W Las Positas Blvd</td><td>Pleasanton</td><td>Billing</td></tr><tr><td>Sports Commodities</td><td>253950 N.E. 178th Place</td><td>Woodinville</td><td>Billing</td></tr><tr><td>Responsible Bike Dealers</td><td>Ward Parkway Center</td><td>Kansas City</td><td>Billing</td></tr><tr><td>Western Bike Supplies</td><td>566 S. Main</td><td>Cedar City</td><td>Billing</td></tr><tr><td>Advanced Bike Components</td><td>12345 Sterling Avenue</td><td>Irving</td><td>Billing</td></tr><tr><td>Aerobic Exercise Company</td><td>39933 Mission Oaks Blvd</td><td>Camarillo</td><td>Billing</td></tr><tr><td>Corner Bicycle Supply</td><td>2511 Baker Road</td><td>Toronto</td><td>Billing</td></tr><tr><td>Westside Plaza</td><td>99040 California Avenue</td><td>Sand City</td><td>Billing</td></tr><tr><td>Outstanding Cycles</td><td>North 93270 Newport Highway</td><td>Spokane</td><td>Billing</td></tr><tr><td>Vigorous Sports Store</td><td>Banbury</td><td>Oxon</td><td>Billing</td></tr><tr><td>Sports Merchandise</td><td>558 S 6th St</td><td>Klamath Falls</td><td>Billing</td></tr><tr><td>Fitness Toy Store</td><td>220 Mercy Drive</td><td>Garland</td><td>Billing</td></tr><tr><td>General Cycle Storehouse</td><td>30025 Wayburne Drive, Suite 275</td><td>Burnaby</td><td>Billing</td></tr><tr><td>Fitness Cycling</td><td>The Quad @ WestView</td><td>Whittier</td><td>Billing</td></tr><tr><td>Good Bike Shop</td><td>99433 S. Greenbay Rd.</td><td>Racine</td><td>Billing</td></tr><tr><td>Thrilling Bike Tours</td><td>4660 Rodeo Road</td><td>Santa Fe</td><td>Billing</td></tr><tr><td>This Area Sporting Goods</td><td>25 N State St</td><td>Chicago</td><td>Billing</td></tr><tr><td>Full-Service Bike Store</td><td>9920 North Telegraph Rd.</td><td>Pontiac</td><td>Billing</td></tr><tr><td>Genuine Bike Shop</td><td>7760 N. Pan Am Expwy</td><td>San Antonio</td><td>Billing</td></tr><tr><td>Extreme Riding Supplies</td><td>Riverside</td><td>Sherman Oaks</td><td>Billing</td></tr><tr><td>Fleet Bikes</td><td>54254 Pacific Ave.</td><td>Stockton</td><td>Billing</td></tr><tr><td>Local Hardware Factory</td><td>42500 W 76th St</td><td>Chicago</td><td>Billing</td></tr><tr><td>South Bike Company</td><td>Po Box 83270</td><td>Vancouver</td><td>Billing</td></tr><tr><td>Discount Bicycle Specialists</td><td>25269 Wood Dale Rd.</td><td>Wood Dale</td><td>Billing</td></tr><tr><td>Machines &amp; Cycles Store</td><td>25245 Rue Sherbrooke Ouest</td><td>Montreal</td><td>Billing</td></tr><tr><td>Two Wheels Cycle Store</td><td>77 Beale Street</td><td>San Francisco</td><td>Billing</td></tr><tr><td>Westside Cycle Store</td><td>25550 Executive Dr</td><td>Elgin</td><td>Billing</td></tr><tr><td>Urban Sports Emporium</td><td>2560 Bay Street</td><td>Toronto</td><td>Billing</td></tr><tr><td>Sixth Bike Store</td><td>Suite 25800 3401 - 10810th Avenue</td><td>Surrey</td><td>Billing</td></tr><tr><td>Vehicle Shop</td><td>Pavillion @ Redlands</td><td>Redlands</td><td>Billing</td></tr><tr><td>First Department Stores</td><td>2540 Dell Range Blvd</td><td>Cheyenne</td><td>Billing</td></tr><tr><td>Grand Sport Boutique</td><td>99800 Tittabawasee Rd.</td><td>Saginaw</td><td>Billing</td></tr><tr><td>Distinctive Store</td><td>Factory Merchants</td><td>Barstow</td><td>Billing</td></tr><tr><td>Handy Bike Services</td><td>399700 John R. Rd.</td><td>Madison Heights</td><td>Billing</td></tr><tr><td>Friendly Bike Shop</td><td>750 Lakeway Dr</td><td>Bellingham</td><td>Billing</td></tr><tr><td>Fashionable Bikes and Accessories</td><td>Sports Store At Park City</td><td>Park City</td><td>Billing</td></tr><tr><td>Citywide Service and Repair</td><td>Box 99354 300 Union Street</td><td>Saint John</td><td>Billing</td></tr><tr><td>Rugged Bikes</td><td>48995 Evergreen Wy.</td><td>Everett</td><td>Billing</td></tr><tr><td>Principal Bike Company</td><td>Mountain Square</td><td>Upland</td><td>Billing</td></tr><tr><td>Finer Riding Supplies</td><td>#9900 2700 Production Way</td><td>Burnaby</td><td>Billing</td></tr><tr><td>Neighborhood Store</td><td>6777 Kingsway</td><td>Burnaby</td><td>Billing</td></tr><tr><td>Paint Supply</td><td>Corporate Office</td><td>Garland</td><td>Billing</td></tr><tr><td>Preferred Bikes</td><td>Incom Sports Center</td><td>Ontario</td><td>Billing</td></tr><tr><td>Rewarding Activities Company</td><td>25575 The Queensway</td><td>Etobicoke</td><td>Billing</td></tr><tr><td>Stationary Bikes and Stands</td><td>Sapp Road West</td><td>Round Rock</td><td>Billing</td></tr><tr><td>Successful Sales Company</td><td>7009 Sw Hall Blvd.</td><td>Tigard</td><td>Billing</td></tr><tr><td>Downtown Hotel</td><td>2560 E. Newlands Dr</td><td>Fernley</td><td>Billing</td></tr><tr><td>Certified Sports Supply</td><td>250551 Shellbridge Way</td><td>Richmond</td><td>Billing</td></tr><tr><td>Rampart Amusement Company</td><td>Bradford</td><td>W. York</td><td>Billing</td></tr><tr><td>Sundry Sporting Goods</td><td>595 Burning Street</td><td>Vancouver</td><td>Billing</td></tr><tr><td>Farthermost Bike Shop</td><td>99000 S. Avalon Blvd. Suite 750</td><td>Carson</td><td>Billing</td></tr><tr><td>Suburban Cycle Shop</td><td>994 Sw Cherry Park Rd</td><td>Troutdale</td><td>Billing</td></tr><tr><td>Racing Bike Outlet</td><td>225 South 314th Street</td><td>Federal Way</td><td>Billing</td></tr><tr><td>Utilitarian Sporting Goods</td><td>4635 S. Harrison Blvd.</td><td>Ogden</td><td>Billing</td></tr><tr><td>Vigorous Exercise Company</td><td>9950 Ferrand Drive, 9th Floor</td><td>Toronto</td><td>Billing</td></tr><tr><td>Stock Parts and Supplies</td><td>99295 S.e. Tualatin Valley_hwy.</td><td>Hillsboro</td><td>Billing</td></tr><tr><td>Roadway Supplies</td><td>2564 S. Redwood Rd.</td><td>Riverton</td><td>Billing</td></tr><tr><td>Future Bikes</td><td>67255 - 8th Street N.E., Suite 350</td><td>Calgary</td><td>Billing</td></tr><tr><td>Satin Finish Company</td><td>25220 Airline Road</td><td>Corpus Christi</td><td>Billing</td></tr><tr><td>Regional Manufacturing</td><td>Factory Stores/tucson</td><td>Tucson</td><td>Billing</td></tr><tr><td>Original Bicycle Supply Company</td><td>2573 Dufferin Street</td><td>Toronto</td><td>Billing</td></tr><tr><td>Action Bicycle Specialists</td><td>Warrington Ldc Unit 25/2</td><td>Woolston</td><td>Billing</td></tr><tr><td>Roadway Bike Emporium</td><td>Medford</td><td>Medford</td><td>Billing</td></tr><tr><td>Sleek Bikes </td><td>44025 W. Empire</td><td>Denby</td><td>Billing</td></tr><tr><td>Retail Sporting Equipment</td><td>Factory Stores Of America</td><td>Mesa</td><td>Billing</td></tr><tr><td>Price-Cutter Discount Bikes</td><td>6700 Boul Taschereau</td><td>Brossard</td><td>Billing</td></tr><tr><td>Central Bicycle Specialists</td><td>6 The Farm, Liberty Road</td><td>Maidenhead</td><td>Billing</td></tr><tr><td>Vast Bike Sales and Rental</td><td>Lewis County Mall</td><td>Chehalis</td><td>Billing</td></tr><tr><td>Summer Sports Place</td><td>Ring Plaza</td><td>Norridge</td><td>Billing</td></tr><tr><td>Real Sporting Goods</td><td>7709 West Virginia Avenue</td><td>Phoenix</td><td>Billing</td></tr><tr><td>The Bike Shop</td><td>3250 South Meridian</td><td>Puyallup</td><td>Billing</td></tr><tr><td>Safe Toys</td><td>49925 Crestview Drive N.E.</td><td>Rio Rancho</td><td>Billing</td></tr><tr><td>Our Sporting Goods Store</td><td>6030 Conroy Road</td><td>Ottawa</td><td>Billing</td></tr><tr><td>Coho Sports</td><td>705 SE Mall Parkway</td><td>Everett</td><td>Billing</td></tr><tr><td>Quick Delivery Service</td><td>5990 Avebury Road</td><td>Mississauga</td><td>Billing</td></tr><tr><td>Basic Sports Equipment</td><td>3250 Baldwin Park Blvd</td><td>Baldwin Park</td><td>Billing</td></tr><tr><td>Cash &amp; Carry Bikes</td><td>Lakeline Mall</td><td>Cedar Park</td><td>Billing</td></tr><tr><td>General Bike Corporation</td><td>69251 Creditview Road</td><td>Mississauga</td><td>Billing</td></tr><tr><td>Retail Cycle Shop</td><td>Bayshore Mall</td><td>Eureka</td><td>Billing</td></tr><tr><td>Social Activities Club</td><td>23025 S.W. Military Rd.</td><td>San Antonio</td><td>Billing</td></tr><tr><td>Blue Bicycle Company</td><td>Horizon Outlet Center</td><td>Monroe</td><td>Billing</td></tr><tr><td>General Riding Supplies</td><td>43251 Viking Way, Unit 130</td><td>Richmond</td><td>Billing</td></tr><tr><td>Riding Excursions</td><td>West Park Plaza</td><td>Irvine</td><td>Billing</td></tr><tr><td>Unique Bikes</td><td>3900 S. 997th St.</td><td>Milwaukee</td><td>Billing</td></tr><tr><td>Rural Cycle Emporium</td><td>6388 Lake City Way</td><td>Burnaby</td><td>Billing</td></tr><tr><td>Associated Bikes</td><td>5420 West 22500 South</td><td>Salt Lake City</td><td>Billing</td></tr><tr><td>Modular Cycle Systems</td><td>800 Interchange Blvd.</td><td>Austin</td><td>Billing</td></tr><tr><td>A Bike Store</td><td>2251 Elliot Avenue</td><td>Seattle</td><td>Billing</td></tr><tr><td>Journey Sporting Goods</td><td>509 Nafta Boulevard</td><td>Laredo</td><td>Billing</td></tr><tr><td>Two Bike Shops</td><td>35525-9th Street Sw</td><td>Puyallup</td><td>Billing</td></tr><tr><td>Cycles Wholesaler &amp; Mfg.</td><td>Science Park South, Birchwood</td><td>Warrington</td><td>Billing</td></tr><tr><td>Number One Bike Co.</td><td>Elmhurst Road, Goring</td><td>Reading</td><td>Billing</td></tr><tr><td>Standard Bikes</td><td>9979 Bayview Drive</td><td>Barrie</td><td>Billing</td></tr><tr><td>The Bicycle Accessories Company</td><td>Vista Marketplace</td><td>Alhambra</td><td>Billing</td></tr><tr><td>Active Systems</td><td>9995 West Central Entrance</td><td>Duluth</td><td>Billing</td></tr><tr><td>Futuristic Sport Distributors</td><td>5525 South Hover Road</td><td>Longmont</td><td>Billing</td></tr><tr><td>Big-Time Bike Store</td><td>9909 W. Ventura Boulevard</td><td>Camarillo</td><td>Billing</td></tr><tr><td>The Showroom</td><td>4400 March Road</td><td>Kanata</td><td>Billing</td></tr><tr><td>Year-Round Sports</td><td>2583 Se 272nd St</td><td>Kent</td><td>Billing</td></tr><tr><td>The New Bike Store</td><td>Hanford Mall</td><td>Hanford</td><td>Billing</td></tr><tr><td>Primary Bike Distributors</td><td>965 De La Gauchetiere West</td><td>Montreal</td><td>Billing</td></tr><tr><td>Genial Bike Associates</td><td>99450 Highway 59 North</td><td>Humble</td><td>Billing</td></tr><tr><td>Commercial Sporting Goods</td><td>9700 Sisk Road</td><td>Modesto</td><td>Billing</td></tr><tr><td>Wholesale Parts</td><td>655-4th Ave S.W.</td><td>Calgary</td><td>Billing</td></tr><tr><td>Riding Cycles</td><td>Galashiels</td><td>Liverpool</td><td>Billing</td></tr><tr><td>Metro Manufacturing</td><td>2550 Signet Drive</td><td>Weston</td><td>Billing</td></tr><tr><td>Locks Company</td><td>70259 West Sunnyview Ave</td><td>Visalia</td><td>Billing</td></tr><tr><td>Latest Accessories Sales</td><td>Gateway</td><td>Portland</td><td>Billing</td></tr><tr><td>Greater Bike Store</td><td>55 Lakeshore Blvd East</td><td>Toronto</td><td>Billing</td></tr><tr><td>Distant Inn</td><td>25001 Montague Expressway</td><td>Milpitas</td><td>Billing</td></tr><tr><td>Finer Mart</td><td>640 South 994th St. W.</td><td>Billings</td><td>Billing</td></tr><tr><td>Cross-Country Riding Supplies</td><td>Station E</td><td>Chalk Riber</td><td>Billing</td></tr><tr><td>Bike World</td><td>60025 Bollinger Canyon Road</td><td>San Ramon</td><td>Billing</td></tr><tr><td>Central Discount Store</td><td>259826 Russell Rd. South</td><td>Kent</td><td>Billing</td></tr><tr><td>Sharp Bikes</td><td>52560 Free Street</td><td>Toronto</td><td>Billing</td></tr><tr><td>Metropolitan Sports Supply</td><td>482505 Warm Springs Blvd.</td><td>Fremont</td><td>Billing</td></tr><tr><td>Progressive Sports</td><td>3207 S Grady Way</td><td>Renton</td><td>Billing</td></tr><tr><td>Brakes and Gears</td><td>9927 N. Main St.</td><td>Tooele</td><td>Billing</td></tr><tr><td>The Accessories Store</td><td>Medford Outlet Center</td><td>Medford</td><td>Billing</td></tr><tr><td>Family Cycle Store</td><td>660 Saint-Jacques, Bureau 400</td><td>Montreal</td><td>Billing</td></tr><tr><td>Superb Sales and Repair</td><td>990th Floor 700 De La GauchetiSre Ou</td><td>Montreal</td><td>Billing</td></tr><tr><td>Countryside Company</td><td>825 W 500 S</td><td>Bountiful</td><td>Billing</td></tr><tr><td>First Bike Store</td><td>Kansas City Factory Outlet</td><td>Odessa</td><td>Billing</td></tr><tr><td>General Department Stores</td><td>253131 Lake Frasier Drive, Office No. 2</td><td>Calgary</td><td>Billing</td></tr><tr><td>Operational Manufacturing</td><td>25730, boul. St-Régis</td><td>Dorval</td><td>Billing</td></tr><tr><td>Online Bike Warehouse</td><td>32605 West 252 Mile Road, Suite 250</td><td>Aurora</td><td>Billing</td></tr><tr><td>Small Bike Shop</td><td>Corp Ofc Accts Payable</td><td>El Segundo</td><td>Billing</td></tr><tr><td>Superior Hardware Distributors</td><td>250775 SW Hillsdale Hwy</td><td>Beaverton</td><td>Billing</td></tr><tr><td>Eastside Parts Shop</td><td>7000 Victoria Park Avenue</td><td>Toronto</td><td>Billing</td></tr><tr><td>First Cycle Store</td><td>25250 N 90th St</td><td>Scottsdale</td><td>Billing</td></tr><tr><td>Running and Cycling Gear</td><td>No. 60 Bellis Fair Parkway</td><td>Bellingham</td><td>Billing</td></tr><tr><td>Good Toys</td><td>99700 Bell Road</td><td>Auburn</td><td>Billing</td></tr><tr><td>Little Bicycle Supply Shop</td><td>Cedar Creek Stores</td><td>Mosinee</td><td>Billing</td></tr><tr><td>All Seasons Sports Supply</td><td>Ohms Road</td><td>Houston</td><td>Billing</td></tr><tr><td>Leisure Clearing House</td><td>Unit 99a Battery Retail Pk</td><td>Birmingham</td><td>Billing</td></tr><tr><td>The Commissary</td><td>Bureau 9900 825, Avenue Querbes</td><td>Outremont</td><td>Billing</td></tr><tr><td>Affordable Sports Equipment</td><td>Lake Elisnor Place</td><td>Lake Elsinore</td><td>Billing</td></tr><tr><td>Local Sales and Rental</td><td>1200 First Ave.</td><td>Joliet</td><td>Billing</td></tr><tr><td>Economy Center</td><td>6th Floor, 25st Canadian Place</td><td>Toronto</td><td>Billing</td></tr><tr><td>Area Sheet Metal Supply</td><td>399 Clearing Green</td><td>London</td><td>Billing</td></tr><tr><td>Synthetic Materials Manufacturing</td><td>3390 South 23rd St.</td><td>Tacoma</td><td>Billing</td></tr><tr><td>Rural Sales and Service</td><td>Management Mall</td><td>San Antonio</td><td>Billing</td></tr><tr><td>Tubeless Tire Company</td><td>2574 Milton Park</td><td>Oxford</td><td>Billing</td></tr><tr><td>Hardware Components</td><td>City Center</td><td>Minneapolis</td><td>Billing</td></tr><tr><td>Retail Sporting Goods</td><td>6753 Howard Hughes Parkway</td><td>Las Vegas</td><td>Billing</td></tr><tr><td>Efficient Cycling</td><td>250333 Southport Road, S.W.</td><td>Calgary</td><td>Billing</td></tr><tr><td>General Industries</td><td>9259 - 1110th Avenue Sw</td><td>Calgary</td><td>Billing</td></tr><tr><td>Highway Bike Shop</td><td>Simi @ The Plaza</td><td>Simi Valley</td><td>Billing</td></tr><tr><td>Rental Bikes</td><td>99828 Routh Street, Suite 825</td><td>Dallas</td><td>Billing</td></tr><tr><td>Roving Sports</td><td>4927 S Meridian Ave Ste D</td><td>Puyallup</td><td>Billing</td></tr><tr><td>Express Bike Services</td><td>586 Fulham Road,</td><td>London</td><td>Billing</td></tr><tr><td>Retail Discount Store</td><td>2510 Crew Court</td><td>Montreal</td><td>Billing</td></tr><tr><td>Vale Riding Supplies</td><td>Topanga Plaza</td><td>Canoga Park</td><td>Billing</td></tr><tr><td>A Great Bicycle Company</td><td>6030 Robinson Road</td><td>Jefferson City</td><td>Billing</td></tr><tr><td>Certified Bicycle Supply</td><td>2345 West Spencer Road</td><td>Lynnwood</td><td>Billing</td></tr><tr><td>Exceptional Cycle Services</td><td>Wade Road</td><td>Basingstoke Hants</td><td>Billing</td></tr><tr><td>Leisure Activities</td><td>65 Gamelin Street</td><td>Hull</td><td>Billing</td></tr><tr><td>Paints and Solvents Company</td><td>955 E. County Line Rd.</td><td>Englewood</td><td>Billing</td></tr><tr><td>Bikes for Kids and Adults</td><td>9900 Ronson Drive</td><td>Etobicoke</td><td>Billing</td></tr><tr><td>Home Town Bike Store</td><td>955 Green Valley Crescent</td><td>Ottawa</td><td>Billing</td></tr><tr><td>Sample Bike Store</td><td>2530 South Colorado Blvd.</td><td>Denver</td><td>Billing</td></tr><tr><td>Extras Sporting Goods</td><td>625 W Jackson Blvd. Unit 2502</td><td>Chicago</td><td>Billing</td></tr><tr><td>Sure &amp; Reliable Sporting Goods</td><td>7990 Ocean Beach Hwy.</td><td>Longview</td><td>Billing</td></tr><tr><td>Separate Parts Corporation</td><td>440 West Huntington Dr.</td><td>Monrovia</td><td>Billing</td></tr><tr><td>Basic Bike Company</td><td>15 East Main</td><td>Port Orchard</td><td>Billing</td></tr><tr><td>Fabrikam Inc., West</td><td>46460 West Oaks Drive</td><td>Novi</td><td>Billing</td></tr><tr><td>Non-Slip Pedal Company</td><td>258 King Street East</td><td>Toronto</td><td>Billing</td></tr><tr><td>Weekend Bike Tours</td><td>630 N. Capitol Ave.</td><td>San Jose</td><td>Billing</td></tr><tr><td>General Supplies</td><td>9693 Louis H Lafontaine</td><td>Ville De'anjou</td><td>Billing</td></tr><tr><td>Racing Toys</td><td>Prime Outlets</td><td>Phoenix</td><td>Billing</td></tr><tr><td>Capable Sales and Service</td><td>765 Delridge Way Sw</td><td>Seattle</td><td>Billing</td></tr><tr><td>Road Way Sales and Rental</td><td>2900 - 25055 Dunning Street</td><td>Vancouver</td><td>Billing</td></tr><tr><td>Sturdy Toys</td><td>Pacific West Outlet</td><td>Gilroy</td><td>Billing</td></tr><tr><td>Beneficial Exercises and Activities</td><td>6425 Nw Loop 410</td><td>San Antonio</td><td>Billing</td></tr><tr><td>Fad Outlet</td><td>2550 Ne Sandy Blvd</td><td>Portland</td><td>Billing</td></tr><tr><td>Commerce Bicycle Specialists</td><td>Wharfdale Road</td><td>Berkshire</td><td>Billing</td></tr><tr><td>Acceptable Sales &amp; Service</td><td>6400, 888 - 3rd Avenue</td><td>Calgary</td><td>Billing</td></tr><tr><td>District Mall</td><td>25095 W. Florissant</td><td>Ferguson</td><td>Billing</td></tr><tr><td>Fitness Supplies</td><td>755 W Washington Ave Ste D</td><td>Sequim</td><td>Billing</td></tr><tr><td>Mail Market</td><td>308-3250 Casting Road</td><td>York</td><td>Billing</td></tr><tr><td>Twelfth Bike Store</td><td>No. 25400 10665 Jasper Avenue</td><td>Edmonton</td><td>Billing</td></tr><tr><td>Consolidated Messenger</td><td>25 Danger Street West</td><td>Toronto</td><td>Billing</td></tr><tr><td>Field Trip Store</td><td>2575 Rocky Mountain Ave.</td><td>Loveland</td><td>Billing</td></tr><tr><td>Finish and Sealant Products</td><td>25150 El Camino Real</td><td>San Bruno</td><td>Billing</td></tr><tr><td>Finer Parts Shop</td><td>2526a Tri-Lake Blvd Ne</td><td>Kirkland</td><td>Billing</td></tr><tr><td>Up-To-Date Sports</td><td>2521 McPherson Street</td><td>Markham</td><td>Billing</td></tr><tr><td>Mountain Bike Center</td><td>6756 Mowry</td><td>Newark</td><td>Billing</td></tr><tr><td>Specialty Sports Store</td><td>52500 Liberty Way</td><td>Fort Worth</td><td>Billing</td></tr><tr><td>Scooters and Bikes Store</td><td>258101 Nw Evergreen Parkway</td><td>Beaverton</td><td>Billing</td></tr><tr><td>Closest Bicycle Store</td><td>Garamonde Drive, Wymbush</td><td>Milton Keynes</td><td>Billing</td></tr><tr><td>Reasonable Bicycle Sales</td><td>C/O Starpak, Inc.</td><td>Greeley</td><td>Billing</td></tr><tr><td>Outdoor Sports Supply</td><td>Great Northwestern</td><td>North Bend</td><td>Billing</td></tr><tr><td>Outdoor Aerobic Systems Company</td><td>255 Irving Street</td><td>London</td><td>Billing</td></tr><tr><td>Metal Clearing House</td><td>3255 Front Street West</td><td>Toronto</td><td>Billing</td></tr><tr><td>Many Bikes Store</td><td>Receiving</td><td>Fullerton</td><td>Billing</td></tr><tr><td>Largest Bike Store</td><td>63 W Monroe</td><td>Chicago</td><td>Billing</td></tr><tr><td>Kickstands and Accessories Company</td><td>25300 Biddle Road</td><td>Medford</td><td>Billing</td></tr><tr><td>Instruments and Parts Company</td><td>Phoenix Way, Cirencester</td><td>Gloucestershire</td><td>Billing</td></tr><tr><td>Gear-Shift Bikes Limited</td><td>2512-4th Ave Sw</td><td>Calgary</td><td>Billing</td></tr><tr><td>Frugal Bike Shop</td><td>2575 West 2700 South</td><td>Salt Lake City</td><td>Billing</td></tr><tr><td>Family Entertainment Center</td><td>25718 Se Sunnyside Rd</td><td>Clackamas</td><td>Billing</td></tr><tr><td>Go-cart and Bike Specialists</td><td>2509 W. Frankford</td><td>Carrollton</td><td>Billing</td></tr><tr><td>Trailblazing Sports</td><td>251340 E. South St.</td><td>Cerritos</td><td>Billing</td></tr><tr><td>Racing Partners</td><td>2512-410th Avenue S.W.</td><td>Calgary</td><td>Billing</td></tr><tr><td>Exhibition Showroom</td><td>Garamonde Drive, Wymbush</td><td>Milton Keynes</td><td>Billing</td></tr><tr><td>Authorized Bike Sales and Rental</td><td>490 Ne 4th St</td><td>Renton</td><td>Billing</td></tr><tr><td>Two-Seater Bikes</td><td>5700 Legacy Dr</td><td>Plano</td><td>Billing</td></tr><tr><td>More Bikes!</td><td>25600 E St Andrews Pl</td><td>Santa Ana</td><td>Billing</td></tr><tr><td>National Manufacturing</td><td>630 University Avenue</td><td>Toronto</td><td>Billing</td></tr><tr><td>Town Industries</td><td>P.O. Box 6256916</td><td>Dallas</td><td>Billing</td></tr><tr><td>Security Racks and Locks Wholesalers</td><td>910 Main Street.</td><td>Sparks</td><td>Billing</td></tr><tr><td>Rapid Bikes</td><td>992 St Clair Ave East</td><td>Toronto</td><td>Billing</td></tr><tr><td>Nearby Sporting Goods</td><td>Bradford</td><td>W. York</td><td>Billing</td></tr><tr><td>Front Sporting Goods</td><td>257700 Ne 76th Street</td><td>Redmond</td><td>Billing</td></tr><tr><td>Elite Bikes</td><td>Po Box 8259024</td><td>Dallas</td><td>Billing</td></tr><tr><td>Catalog Store</td><td>855 East Main Avenue</td><td>Zeeland</td><td>Billing</td></tr><tr><td>Chic Department Stores</td><td>90025 Sterling St</td><td>Irving</td><td>Billing</td></tr><tr><td>Eastside Department Store</td><td>9992 Whipple Rd</td><td>Union City</td><td>Billing</td></tr><tr><td>Cycle Merchants</td><td>575 Rue St Amable</td><td>Quebec</td><td>Billing</td></tr><tr><td>Fitness Hotel</td><td>74400 France Avenue South</td><td>Edina</td><td>Billing</td></tr><tr><td>Grand Industries</td><td>6333 Cote Vertu</td><td>Montreal</td><td>Billing</td></tr><tr><td>Leading Sales &amp; Repair</td><td>25149 Howard Dr</td><td>West Chicago</td><td>Billing</td></tr><tr><td>Tandem Sales and Service</td><td>63 Free St.</td><td>Toronto</td><td>Billing</td></tr><tr><td>Reliable Retail Center</td><td>609 Evans Avenue</td><td>Toronto</td><td>Billing</td></tr><tr><td>Friendly Bike Shop</td><td>Port Huron</td><td>Port Huron</td><td>Billing</td></tr><tr><td>Yellow Bicycle Company</td><td>St. Louis Marketplace</td><td>Saint Louis</td><td>Billing</td></tr><tr><td>Sports Products Store</td><td>Po Box 252525</td><td>Santa Ana</td><td>Billing</td></tr><tr><td>Shipping Specialists</td><td>25 Hartfield Road, Wimbledon</td><td>London</td><td>Billing</td></tr><tr><td>Authentic Sales and Service</td><td>99 Dean Street, Soho</td><td>London</td><td>Billing</td></tr><tr><td>Official Parts Shop</td><td>9905 Three Rivers Drive</td><td>Kelso</td><td>Billing</td></tr><tr><td>Discount Tours</td><td>603 Gellert Blvd</td><td>Daly City</td><td>Billing</td></tr><tr><td>Tire Exchange</td><td>9984 Wellington Street</td><td>Ottawa</td><td>Billing</td></tr><tr><td>Oils and Fluids Warehouse</td><td>Park House-4th Floor, 2516 Park St.</td><td>London</td><td>Billing</td></tr><tr><td>Rally Master Company Inc</td><td>870 N. 54th Ave.</td><td>Chandler</td><td>Billing</td></tr><tr><td>Professional Cyclists</td><td>2545 King Street West</td><td>Toronto</td><td>Billing</td></tr><tr><td>Exclusive Bicycle Mart</td><td>Butterfield Hse, 7-251 Chapel St</td><td>Lancaster</td><td>Billing</td></tr><tr><td>City Manufacturing</td><td>3025 E Waterway Blvd</td><td>Shelton</td><td>Billing</td></tr><tr><td>Bike Dealers Association</td><td>9952 E. Lohman Ave.</td><td>Las Cruces</td><td>Billing</td></tr><tr><td>Health Spa, Limited</td><td>2500 University Avenue</td><td>Toronto</td><td>Billing</td></tr><tr><td>Closeout Boutique</td><td>1050 Oak Street</td><td>Seattle</td><td>Billing</td></tr><tr><td>Bicycle Merchandise Warehouse</td><td>409 Santa Monica Blvd.</td><td>Santa Monica</td><td>Billing</td></tr><tr><td>Leather Seat Factory</td><td>9900-6400 Boul, Taschereau</td><td>Brossard</td><td>Billing</td></tr><tr><td>Practical Bike Supply Company</td><td>Horizon Outlet</td><td>Woodbury</td><td>Billing</td></tr><tr><td>Some Discount Store</td><td>Frontier Mall</td><td>Cheyenne</td><td>Billing</td></tr><tr><td>Variety Cycling</td><td>46-44 Albemarle Street</td><td>London</td><td>Billing</td></tr><tr><td>Remote Bicycle Specialists</td><td>No. 2000-25080 Beaver Hall Hill</td><td>Quebec</td><td>Billing</td></tr><tr><td>Friendly Neighborhood Bikes</td><td>Johnson Creek</td><td>Johnson Creek</td><td>Billing</td></tr><tr><td>Recommended Bicycles</td><td>250 Kingsbridge Garden Circle</td><td>Mississauga</td><td>Billing</td></tr><tr><td>Alpine Ski House</td><td>7505 Laguna Boulevard</td><td>Elk Grove</td><td>Billing</td></tr><tr><td>Seats and Saddles Company</td><td>5th Floor, 79 Place D'armes</td><td>Kingston</td><td>Billing</td></tr><tr><td>All Cycle Shop</td><td>25111 228th St Sw</td><td>Bothell</td><td>Billing</td></tr><tr><td>Tachometers and Accessories</td><td>Wymbush</td><td>Milton Keynes</td><td>Billing</td></tr><tr><td>Low Price Cycles</td><td>Suite 500 995 W. 11th Avenue</td><td>Mississauga</td><td>Billing</td></tr><tr><td>Metropolitan Manufacturing</td><td>Parkway Plaza</td><td>El Cajon</td><td>Billing</td></tr><tr><td>Orange Bicycle Company</td><td>123 W. Lake Ave.</td><td>Peoria</td><td>Billing</td></tr><tr><td>Riding Associates</td><td>2528 Meridian E</td><td>Puyallup</td><td>Billing</td></tr><tr><td>Essential Bike Works</td><td>New Millhouse, 2583 Milton Park</td><td>Abingdon</td><td>Billing</td></tr><tr><td>Engineered Bike Systems</td><td>123 Camelia Avenue</td><td>Oxnard</td><td>Billing</td></tr><tr><td>Professional Containers and Packaging Co.</td><td>253731 West Bell Road</td><td>Surprise</td><td>Billing</td></tr><tr><td>One Bike Company</td><td>5 place Ville-Marie</td><td>Montreal</td><td>Billing</td></tr><tr><td>Cycling Goods</td><td>997b Tradescant Road</td><td>London</td><td>Billing</td></tr><tr><td>Cycle Clearance</td><td>2255 254th Avenue Se</td><td>Albany</td><td>Billing</td></tr><tr><td>Black Bicycle Company</td><td>Factory Merchants</td><td>Branson</td><td>Billing</td></tr><tr><td>Transport Bikes</td><td>25130 South State Street</td><td>Sandy</td><td>Billing</td></tr><tr><td>Sellers of Cycles</td><td>700 Se Sunnyside Road</td><td>Clackamas</td><td>Billing</td></tr><tr><td>Maintenance and Repair for Bicycles</td><td>Lone Star Factory</td><td>La Marque</td><td>Billing</td></tr><tr><td>Fitness Department Stores</td><td>7750 E Marching Rd</td><td>Scottsdale</td><td>Billing</td></tr><tr><td>Famous Bike Shop</td><td>999 West Georgia St.</td><td>Vancouver</td><td>Billing</td></tr><tr><td>Gift and Toy Store</td><td>Sports Stores @ Tuscola</td><td>Tuscola</td><td>Billing</td></tr><tr><td>Major Sporting Goods</td><td>9980 S Alma School Road</td><td>Chandler</td><td>Billing</td></tr><tr><td>Major Cycling</td><td>46990 Viking Way</td><td>Richmond</td><td>Billing</td></tr><tr><td>Downhill Bicycle Specialists</td><td>725a The Arches</td><td>Berks</td><td>Billing</td></tr><tr><td>Bike Experts</td><td>Lancaster Mall</td><td>Salem</td><td>Billing</td></tr><tr><td>Extraordinary Bike Works</td><td>Town East Center</td><td>Mesquite</td><td>Billing</td></tr><tr><td>Valley Bicycle Distributors</td><td>5867 Sunrise Boulevard</td><td>Citrus Heights</td><td>Billing</td></tr><tr><td>Top Sports Supply</td><td>251420a 170th Street</td><td>Edmonton</td><td>Billing</td></tr><tr><td>Metropolitan Bicycle Supply</td><td>Paramount House</td><td>London</td><td>Billing</td></tr><tr><td>Honest Repair Service</td><td>Three Rivers Mall</td><td>Kelso</td><td>Billing</td></tr><tr><td>Wheel Gallery</td><td>9920 Bridgepointe Parkway</td><td>San Mateo</td><td>Billing</td></tr><tr><td>Top Bike Market</td><td>975 Princess Street</td><td>Kingston</td><td>Billing</td></tr><tr><td>Bicycle Lines Distributors</td><td>6996 South Lindbergh</td><td>Saint Louis</td><td>Billing</td></tr><tr><td>Sparkling Paint and Finishes</td><td>San Diego Factory</td><td>San Ysidro</td><td>Billing</td></tr><tr><td>Plastic Parts Company</td><td>750 Philip Street</td><td>Waterloo</td><td>Billing</td></tr><tr><td>Big Cycle Mall</td><td>9500b E. Central Texas Expressway</td><td>Killeen</td><td>Billing</td></tr><tr><td>Eighth Bike Store</td><td>2500 N Serene Blvd</td><td>El Segundo</td><td>Billing</td></tr><tr><td>Demand Distributors</td><td>25102 Springwater</td><td>Wenatchee</td><td>Billing</td></tr><tr><td>Red Bicycle Company</td><td>99, Rue Saint-pierre</td><td>Pnot-Rouge</td><td>Billing</td></tr><tr><td>Trendy Department Stores</td><td>25472 Marlay Ave</td><td>Fontana</td><td>Billing</td></tr><tr><td>Vintage Sport Boutique</td><td>22571 South 2500 East</td><td>Idaho Falls</td><td>Billing</td></tr><tr><td>Travel Sports</td><td>755 Nw Grandstand</td><td>Issaquah</td><td>Billing</td></tr><tr><td>West Side Mart</td><td>251 The Metro Center</td><td>Wokingham</td><td>Billing</td></tr><tr><td>Tenth Bike Store</td><td>Depot 80</td><td>Sillery</td><td>Billing</td></tr><tr><td>Fun Times Club</td><td>8525 South Parker Road</td><td>Parker</td><td>Billing</td></tr><tr><td>Wingtip Toys</td><td>755 Columbia Ctr Blvd</td><td>Kennewick</td><td>Billing</td></tr><tr><td>Active Life Toys</td><td>55 Standish Court</td><td>Mississauga</td><td>Billing</td></tr><tr><td>Quick Parts and Service</td><td>99954 Boul. Laurier, Local 060, Place</td><td>Sainte-Foy</td><td>Billing</td></tr><tr><td>Thrifty Parts and Sales</td><td>Oxnard Outlet</td><td>Oxnard</td><td>Billing</td></tr><tr><td>A Typical Bike Shop</td><td>One Dancing, Rr No. 25</td><td>Round Rock</td><td>Billing</td></tr><tr><td>Fasteners &amp; Bolts Outlet</td><td>9960 King Street E.</td><td>Toronto</td><td>Billing</td></tr><tr><td>Quantity Discounts</td><td>Natomas Marketplace</td><td>Sacramento</td><td>Billing</td></tr><tr><td>Swift Cycles</td><td>25500 Old Spanish Trail</td><td>Houston</td><td>Billing</td></tr><tr><td>Large Bike Shop</td><td>600 Boul. Rene-levesque Ouest</td><td>Montreal</td><td>Billing</td></tr><tr><td>Wire Baskets and Parts</td><td>Mall Of Orange</td><td>Orange</td><td>Billing</td></tr><tr><td>Sports Store</td><td>Internet House, 3399 Science Park</td><td>Cambridge</td><td>Billing</td></tr><tr><td>Extended Tours</td><td>7 Garden House Cloisters, 8 Batters</td><td>London</td><td>Billing</td></tr><tr><td>Convenient Sales and Service</td><td>950 Gateway Street</td><td>Springfield</td><td>Billing</td></tr><tr><td>Solid Bike Parts</td><td>Lincoln Square</td><td>Arlington</td><td>Billing</td></tr><tr><td>Permanent Finish Products</td><td>62500 Neil Road</td><td>Reno</td><td>Billing</td></tr><tr><td>Mercantile Outlet</td><td>2520 Flanders Road</td><td>Toronto</td><td>Billing</td></tr><tr><td>Exhilarating Cycles</td><td>Kensington Valley Shops</td><td>Howell</td><td>Billing</td></tr><tr><td>Exercise Center</td><td>Stevens Creek Shopping Center</td><td>San Jose</td><td>Billing</td></tr><tr><td>Great Bicycle Supply</td><td>455 256th St.</td><td>Moline</td><td>Billing</td></tr><tr><td>Mail-Order Outlet</td><td>409 S. Main Ste. 25</td><td>Ellensburg</td><td>Billing</td></tr><tr><td>Nearby Cycle Shop</td><td>Burgess Hill</td><td>West Sussex</td><td>Billing</td></tr><tr><td>Retreat Inn</td><td>Suite 2502 410 Albert Street</td><td>Waterloo</td><td>Billing</td></tr><tr><td>Technical Parts Manufacturing</td><td>Ontario Mills</td><td>Ontario</td><td>Billing</td></tr><tr><td>Totes &amp; Baskets Company</td><td>72540 Blanco Rd.</td><td>San Antonio</td><td>Billing</td></tr><tr><td>World of Bikes</td><td>660 Lindbergh</td><td>Saint Louis</td><td>Billing</td></tr></table>"
                    },
                    "metadata": {}
                }
            ],
            "execution_count": 1
        },
        {
            "cell_type": "markdown",
            "source": [
                "**2\\.** Retrieve shipping addresses Write a similar query that retrieves the company name, first line of the street address, city, and a column named AddressType with the value ‘Shipping’ for customers where the address type in the SalesLT.CustomerAddress table is ‘Shipping’."
            ],
            "metadata": {
                "azdata_cell_guid": "720a5d72-3a17-42de-b623-4bf51b509cc1"
            },
            "attachments": {}
        },
        {
            "cell_type": "code",
            "source": [
                "SELECT C.CompanyName, A.AddressLine1, A.City, 'Shipping' AS AddressType\r\n",
                "FROM Customer AS C\r\n",
                "JOIN CustomerAddress AS CA\r\n",
                "ON C.CustomerID = CA.CustomerID AND CA.AddressType = 'Shipping'\r\n",
                "JOIN Address AS A\r\n",
                "ON A.AddressID = CA.AddressID;"
            ],
            "metadata": {
                "azdata_cell_guid": "e9fe632a-84ae-4896-a9cd-fb952092108d"
            },
            "outputs": [
                {
                    "output_type": "display_data",
                    "data": {
                        "text/html": "(10 rows affected)"
                    },
                    "metadata": {}
                },
                {
                    "output_type": "display_data",
                    "data": {
                        "text/html": "Total execution time: 00:00:00.132"
                    },
                    "metadata": {}
                },
                {
                    "output_type": "execute_result",
                    "execution_count": 3,
                    "data": {
                        "application/vnd.dataresource+json": {
                            "schema": {
                                "fields": [
                                    {
                                        "name": "CompanyName"
                                    },
                                    {
                                        "name": "AddressLine1"
                                    },
                                    {
                                        "name": "City"
                                    },
                                    {
                                        "name": "AddressType"
                                    }
                                ]
                            },
                            "data": [
                                {
                                    "0": "Family's Favorite Bike Shop",
                                    "1": "26910 Indela Road",
                                    "2": "Montreal",
                                    "3": "Shipping"
                                },
                                {
                                    "0": "Center Cycle Shop",
                                    "1": "1318 Lasalle Street",
                                    "2": "Bothell",
                                    "3": "Shipping"
                                },
                                {
                                    "0": "Safe Cycles Shop",
                                    "1": "2681 Eagle Peak",
                                    "2": "Bellevue",
                                    "3": "Shipping"
                                },
                                {
                                    "0": "Modular Cycle Systems",
                                    "1": "165 North Main",
                                    "2": "Austin",
                                    "3": "Shipping"
                                },
                                {
                                    "0": "Progressive Sports",
                                    "1": "7943 Walnut Ave",
                                    "2": "Renton",
                                    "3": "Shipping"
                                },
                                {
                                    "0": "Hardware Components",
                                    "1": "99 Front Street",
                                    "2": "Minneapolis",
                                    "3": "Shipping"
                                },
                                {
                                    "0": "Sample Bike Store",
                                    "1": "2000 300th Street",
                                    "2": "Denver",
                                    "3": "Shipping"
                                },
                                {
                                    "0": "Racing Toys",
                                    "1": "9228 Via Del Sol",
                                    "2": "Phoenix",
                                    "3": "Shipping"
                                },
                                {
                                    "0": "Elite Bikes",
                                    "1": "9178 Jumping St.",
                                    "2": "Dallas",
                                    "3": "Shipping"
                                },
                                {
                                    "0": "All Cycle Shop",
                                    "1": "8713 Yosemite Ct.",
                                    "2": "Bothell",
                                    "3": "Shipping"
                                }
                            ]
                        },
                        "text/html": "<table><tr><th>CompanyName</th><th>AddressLine1</th><th>City</th><th>AddressType</th></tr><tr><td>Family's Favorite Bike Shop</td><td>26910 Indela Road</td><td>Montreal</td><td>Shipping</td></tr><tr><td>Center Cycle Shop</td><td>1318 Lasalle Street</td><td>Bothell</td><td>Shipping</td></tr><tr><td>Safe Cycles Shop</td><td>2681 Eagle Peak</td><td>Bellevue</td><td>Shipping</td></tr><tr><td>Modular Cycle Systems</td><td>165 North Main</td><td>Austin</td><td>Shipping</td></tr><tr><td>Progressive Sports</td><td>7943 Walnut Ave</td><td>Renton</td><td>Shipping</td></tr><tr><td>Hardware Components</td><td>99 Front Street</td><td>Minneapolis</td><td>Shipping</td></tr><tr><td>Sample Bike Store</td><td>2000 300th Street</td><td>Denver</td><td>Shipping</td></tr><tr><td>Racing Toys</td><td>9228 Via Del Sol</td><td>Phoenix</td><td>Shipping</td></tr><tr><td>Elite Bikes</td><td>9178 Jumping St.</td><td>Dallas</td><td>Shipping</td></tr><tr><td>All Cycle Shop</td><td>8713 Yosemite Ct.</td><td>Bothell</td><td>Shipping</td></tr></table>"
                    },
                    "metadata": {}
                }
            ],
            "execution_count": 3
        },
        {
            "cell_type": "markdown",
            "source": [
                "**3.** Combine billing and shipping addresses Combine the results returned by the two queries to create a list of all customer addresses that is sorted by company name and then address type."
            ],
            "metadata": {
                "azdata_cell_guid": "1ff95f0b-e066-4ed5-b5c1-6aeed47d4601"
            },
            "attachments": {}
        },
        {
            "cell_type": "code",
            "source": [
                "SELECT C.CompanyName, A.AddressLine1, A.City, 'Billing' AS AddressType\r\n",
                "FROM Customer AS C\r\n",
                "JOIN CustomerAddress AS CA\r\n",
                "ON C.CustomerID = CA.CustomerID AND CA.AddressType = 'Main Office'\r\n",
                "JOIN Address AS A\r\n",
                "ON A.AddressID = CA.AddressID\r\n",
                "UNION ALL\r\n",
                "SELECT C.CompanyName, A.AddressLine1, A.City, 'Shipping' AS AddressType\r\n",
                "FROM Customer AS C \r\n",
                "JOIN CustomerAddress AS CA\r\n",
                "ON C.CustomerID = CA.CustomerID AND CA.AddressType = 'Shipping'\r\n",
                "JOIN Address AS A\r\n",
                "ON A.AddressID = CA.AddressID\r\n",
                "ORDER BY CompanyName, AddressType;"
            ],
            "metadata": {
                "azdata_cell_guid": "a119c1fc-27c8-433f-877a-3c5c4624e1c0"
            },
            "outputs": [
                {
                    "output_type": "display_data",
                    "data": {
                        "text/html": "(417 rows affected)"
                    },
                    "metadata": {}
                },
                {
                    "output_type": "display_data",
                    "data": {
                        "text/html": "Total execution time: 00:00:00.114"
                    },
                    "metadata": {}
                },
                {
                    "output_type": "execute_result",
                    "execution_count": 4,
                    "data": {
                        "application/vnd.dataresource+json": {
                            "schema": {
                                "fields": [
                                    {
                                        "name": "CompanyName"
                                    },
                                    {
                                        "name": "AddressLine1"
                                    },
                                    {
                                        "name": "City"
                                    },
                                    {
                                        "name": "AddressType"
                                    }
                                ]
                            },
                            "data": [
                                {
                                    "0": "A Bike Store",
                                    "1": "2251 Elliot Avenue",
                                    "2": "Seattle",
                                    "3": "Billing"
                                },
                                {
                                    "0": "A Great Bicycle Company",
                                    "1": "6030 Robinson Road",
                                    "2": "Jefferson City",
                                    "3": "Billing"
                                },
                                {
                                    "0": "A Typical Bike Shop",
                                    "1": "One Dancing, Rr No. 25",
                                    "2": "Round Rock",
                                    "3": "Billing"
                                },
                                {
                                    "0": "Acceptable Sales & Service",
                                    "1": "6400, 888 - 3rd Avenue",
                                    "2": "Calgary",
                                    "3": "Billing"
                                },
                                {
                                    "0": "Action Bicycle Specialists",
                                    "1": "Warrington Ldc Unit 25/2",
                                    "2": "Woolston",
                                    "3": "Billing"
                                },
                                {
                                    "0": "Active Life Toys",
                                    "1": "55 Standish Court",
                                    "2": "Mississauga",
                                    "3": "Billing"
                                },
                                {
                                    "0": "Active Systems",
                                    "1": "9995 West Central Entrance",
                                    "2": "Duluth",
                                    "3": "Billing"
                                },
                                {
                                    "0": "Advanced Bike Components",
                                    "1": "12345 Sterling Avenue",
                                    "2": "Irving",
                                    "3": "Billing"
                                },
                                {
                                    "0": "Aerobic Exercise Company",
                                    "1": "39933 Mission Oaks Blvd",
                                    "2": "Camarillo",
                                    "3": "Billing"
                                },
                                {
                                    "0": "Affordable Sports Equipment",
                                    "1": "Lake Elisnor Place",
                                    "2": "Lake Elsinore",
                                    "3": "Billing"
                                },
                                {
                                    "0": "All Cycle Shop",
                                    "1": "25111 228th St Sw",
                                    "2": "Bothell",
                                    "3": "Billing"
                                },
                                {
                                    "0": "All Cycle Shop",
                                    "1": "8713 Yosemite Ct.",
                                    "2": "Bothell",
                                    "3": "Shipping"
                                },
                                {
                                    "0": "All Seasons Sports Supply",
                                    "1": "Ohms Road",
                                    "2": "Houston",
                                    "3": "Billing"
                                },
                                {
                                    "0": "Alpine Ski House",
                                    "1": "7505 Laguna Boulevard",
                                    "2": "Elk Grove",
                                    "3": "Billing"
                                },
                                {
                                    "0": "Alternative Vehicles",
                                    "1": "3307 Evergreen Blvd",
                                    "2": "Washougal",
                                    "3": "Billing"
                                },
                                {
                                    "0": "Another Bicycle Company",
                                    "1": "567 Sw Mcloughlin Blvd",
                                    "2": "Milwaukie",
                                    "3": "Billing"
                                },
                                {
                                    "0": "Area Bike Accessories",
                                    "1": "6900 Sisk Road",
                                    "2": "Modesto",
                                    "3": "Billing"
                                },
                                {
                                    "0": "Area Sheet Metal Supply",
                                    "1": "399 Clearing Green",
                                    "2": "London",
                                    "3": "Billing"
                                },
                                {
                                    "0": "Associated Bikes",
                                    "1": "5420 West 22500 South",
                                    "2": "Salt Lake City",
                                    "3": "Billing"
                                },
                                {
                                    "0": "Authentic Sales and Service",
                                    "1": "99 Dean Street, Soho",
                                    "2": "London",
                                    "3": "Billing"
                                },
                                {
                                    "0": "Authorized Bike Sales and Rental",
                                    "1": "490 Ne 4th St",
                                    "2": "Renton",
                                    "3": "Billing"
                                },
                                {
                                    "0": "Basic Bike Company",
                                    "1": "15 East Main",
                                    "2": "Port Orchard",
                                    "3": "Billing"
                                },
                                {
                                    "0": "Basic Sports Equipment",
                                    "1": "3250 Baldwin Park Blvd",
                                    "2": "Baldwin Park",
                                    "3": "Billing"
                                },
                                {
                                    "0": "Beneficial Exercises and Activities",
                                    "1": "6425 Nw Loop 410",
                                    "2": "San Antonio",
                                    "3": "Billing"
                                },
                                {
                                    "0": "Best o' Bikes",
                                    "1": "250880 Baur Blvd",
                                    "2": "Saint Louis",
                                    "3": "Billing"
                                },
                                {
                                    "0": "Bicycle Accessories and Kits",
                                    "1": "Lewiston Mall",
                                    "2": "Lewiston",
                                    "3": "Billing"
                                },
                                {
                                    "0": "Bicycle Lines Distributors",
                                    "1": "6996 South Lindbergh",
                                    "2": "Saint Louis",
                                    "3": "Billing"
                                },
                                {
                                    "0": "Bicycle Merchandise Warehouse",
                                    "1": "409 Santa Monica Blvd.",
                                    "2": "Santa Monica",
                                    "3": "Billing"
                                },
                                {
                                    "0": "Big Cycle Mall",
                                    "1": "9500b E. Central Texas Expressway",
                                    "2": "Killeen",
                                    "3": "Billing"
                                },
                                {
                                    "0": "Big-Time Bike Store",
                                    "1": "9909 W. Ventura Boulevard",
                                    "2": "Camarillo",
                                    "3": "Billing"
                                },
                                {
                                    "0": "Bike Dealers Association",
                                    "1": "9952 E. Lohman Ave.",
                                    "2": "Las Cruces",
                                    "3": "Billing"
                                },
                                {
                                    "0": "Bike Experts",
                                    "1": "Lancaster Mall",
                                    "2": "Salem",
                                    "3": "Billing"
                                },
                                {
                                    "0": "Bike World",
                                    "1": "60025 Bollinger Canyon Road",
                                    "2": "San Ramon",
                                    "3": "Billing"
                                },
                                {
                                    "0": "Bikes and Motorbikes",
                                    "1": "22580 Free Street",
                                    "2": "Toronto",
                                    "3": "Billing"
                                },
                                {
                                    "0": "Bikes for Kids and Adults",
                                    "1": "9900 Ronson Drive",
                                    "2": "Etobicoke",
                                    "3": "Billing"
                                },
                                {
                                    "0": "Bikes for Two",
                                    "1": "63 West Beaver Creek",
                                    "2": "Richmond Hill",
                                    "3": "Billing"
                                },
                                {
                                    "0": "Black Bicycle Company",
                                    "1": "Factory Merchants",
                                    "2": "Branson",
                                    "3": "Billing"
                                },
                                {
                                    "0": "Blue Bicycle Company",
                                    "1": "Horizon Outlet Center",
                                    "2": "Monroe",
                                    "3": "Billing"
                                },
                                {
                                    "0": "Bold Bike Accessories",
                                    "1": "Rocky Mountain Pines Outlet",
                                    "2": "Loveland",
                                    "3": "Billing"
                                },
                                {
                                    "0": "Brakes and Gears",
                                    "1": "9927 N. Main St.",
                                    "2": "Tooele",
                                    "3": "Billing"
                                },
                                {
                                    "0": "Brightwork Company",
                                    "1": "Belz Factory Outlet",
                                    "2": "Las Vegas",
                                    "3": "Billing"
                                },
                                {
                                    "0": "Bulk Discount Store",
                                    "1": "93-2501, Blackfriars Road,",
                                    "2": "London",
                                    "3": "Billing"
                                },
                                {
                                    "0": "Camping and Sports Store",
                                    "1": "400-25155 West Pender St",
                                    "2": "Vancouver",
                                    "3": "Billing"
                                },
                                {
                                    "0": "Capable Sales and Service",
                                    "1": "765 Delridge Way Sw",
                                    "2": "Seattle",
                                    "3": "Billing"
                                },
                                {
                                    "0": "Cash & Carry Bikes",
                                    "1": "Lakeline Mall",
                                    "2": "Cedar Park",
                                    "3": "Billing"
                                },
                                {
                                    "0": "Catalog Store",
                                    "1": "855 East Main Avenue",
                                    "2": "Zeeland",
                                    "3": "Billing"
                                },
                                {
                                    "0": "Center Cycle Shop",
                                    "1": "99300 223rd Southeast",
                                    "2": "Bothell",
                                    "3": "Billing"
                                },
                                {
                                    "0": "Center Cycle Shop",
                                    "1": "1318 Lasalle Street",
                                    "2": "Bothell",
                                    "3": "Shipping"
                                },
                                {
                                    "0": "Central Bicycle Specialists",
                                    "1": "6 The Farm, Liberty Road",
                                    "2": "Maidenhead",
                                    "3": "Billing"
                                },
                                {
                                    "0": "Central Discount Store",
                                    "1": "259826 Russell Rd. South",
                                    "2": "Kent",
                                    "3": "Billing"
                                },
                                {
                                    "0": "Certified Bicycle Supply",
                                    "1": "2345 West Spencer Road",
                                    "2": "Lynnwood",
                                    "3": "Billing"
                                },
                                {
                                    "0": "Certified Sports Supply",
                                    "1": "250551 Shellbridge Way",
                                    "2": "Richmond",
                                    "3": "Billing"
                                },
                                {
                                    "0": "Channel Outlet",
                                    "1": "Knaves Beech Ind.",
                                    "2": "High Wycombe",
                                    "3": "Billing"
                                },
                                {
                                    "0": "Chic Department Stores",
                                    "1": "90025 Sterling St",
                                    "2": "Irving",
                                    "3": "Billing"
                                },
                                {
                                    "0": "City Manufacturing",
                                    "1": "3025 E Waterway Blvd",
                                    "2": "Shelton",
                                    "3": "Billing"
                                },
                                {
                                    "0": "Citywide Service and Repair",
                                    "1": "Box 99354 300 Union Street",
                                    "2": "Saint John",
                                    "3": "Billing"
                                },
                                {
                                    "0": "Client Discount Store",
                                    "1": "Noah Lane",
                                    "2": "Chicago",
                                    "3": "Billing"
                                },
                                {
                                    "0": "Closeout Boutique",
                                    "1": "1050 Oak Street",
                                    "2": "Seattle",
                                    "3": "Billing"
                                },
                                {
                                    "0": "Closest Bicycle Store",
                                    "1": "Garamonde Drive, Wymbush",
                                    "2": "Milton Keynes",
                                    "3": "Billing"
                                },
                                {
                                    "0": "Coalition Bike Company",
                                    "1": "Corporate Office",
                                    "2": "El Segundo",
                                    "3": "Billing"
                                },
                                {
                                    "0": "Coho Sports",
                                    "1": "705 SE Mall Parkway",
                                    "2": "Everett",
                                    "3": "Billing"
                                },
                                {
                                    "0": "Commendable Bikes",
                                    "1": "4781 Highway 95",
                                    "2": "Sandpoint",
                                    "3": "Billing"
                                },
                                {
                                    "0": "Commerce Bicycle Specialists",
                                    "1": "Wharfdale Road",
                                    "2": "Berkshire",
                                    "3": "Billing"
                                },
                                {
                                    "0": "Commercial Sporting Goods",
                                    "1": "9700 Sisk Road",
                                    "2": "Modesto",
                                    "3": "Billing"
                                },
                                {
                                    "0": "Commuter Bicycle Store",
                                    "1": "2575 Bloor Street East",
                                    "2": "Toronto",
                                    "3": "Billing"
                                },
                                {
                                    "0": "Consolidated Messenger",
                                    "1": "25 Danger Street West",
                                    "2": "Toronto",
                                    "3": "Billing"
                                },
                                {
                                    "0": "Convenient Sales and Service",
                                    "1": "950 Gateway Street",
                                    "2": "Springfield",
                                    "3": "Billing"
                                },
                                {
                                    "0": "Corner Bicycle Supply",
                                    "1": "2511 Baker Road",
                                    "2": "Toronto",
                                    "3": "Billing"
                                },
                                {
                                    "0": "Countryside Company",
                                    "1": "825 W 500 S",
                                    "2": "Bountiful",
                                    "3": "Billing"
                                },
                                {
                                    "0": "Courteous Bicycle Specialists",
                                    "1": "995 Crescent",
                                    "2": "Richmond Hill",
                                    "3": "Billing"
                                },
                                {
                                    "0": "Cross-Country Riding Supplies",
                                    "1": "Station E",
                                    "2": "Chalk Riber",
                                    "3": "Billing"
                                },
                                {
                                    "0": "Custom Accessories Company",
                                    "1": "251 Indell Lane",
                                    "2": "Brampton",
                                    "3": "Billing"
                                },
                                {
                                    "0": "Cycle Clearance",
                                    "1": "2255 254th Avenue Se",
                                    "2": "Albany",
                                    "3": "Billing"
                                },
                                {
                                    "0": "Cycle Merchants",
                                    "1": "575 Rue St Amable",
                                    "2": "Quebec",
                                    "3": "Billing"
                                },
                                {
                                    "0": "Cycles Wholesaler & Mfg.",
                                    "1": "Science Park South, Birchwood",
                                    "2": "Warrington",
                                    "3": "Billing"
                                },
                                {
                                    "0": "Cycling Goods",
                                    "1": "997b Tradescant Road",
                                    "2": "London",
                                    "3": "Billing"
                                },
                                {
                                    "0": "Demand Distributors",
                                    "1": "25102 Springwater",
                                    "2": "Wenatchee",
                                    "3": "Billing"
                                },
                                {
                                    "0": "Designated Distributors",
                                    "1": "254 Colonnade Road",
                                    "2": "Nepean",
                                    "3": "Billing"
                                },
                                {
                                    "0": "Discount Bicycle Specialists",
                                    "1": "25269 Wood Dale Rd.",
                                    "2": "Wood Dale",
                                    "3": "Billing"
                                },
                                {
                                    "0": "Discount Tours",
                                    "1": "603 Gellert Blvd",
                                    "2": "Daly City",
                                    "3": "Billing"
                                },
                                {
                                    "0": "Distant Inn",
                                    "1": "25001 Montague Expressway",
                                    "2": "Milpitas",
                                    "3": "Billing"
                                },
                                {
                                    "0": "Distinctive Store",
                                    "1": "Factory Merchants",
                                    "2": "Barstow",
                                    "3": "Billing"
                                },
                                {
                                    "0": "District Mall",
                                    "1": "25095 W. Florissant",
                                    "2": "Ferguson",
                                    "3": "Billing"
                                },
                                {
                                    "0": "Downhill Bicycle Specialists",
                                    "1": "725a The Arches",
                                    "2": "Berks",
                                    "3": "Billing"
                                },
                                {
                                    "0": "Downtown Hotel",
                                    "1": "2560 E. Newlands Dr",
                                    "2": "Fernley",
                                    "3": "Billing"
                                },
                                {
                                    "0": "Eastside Department Store",
                                    "1": "9992 Whipple Rd",
                                    "2": "Union City",
                                    "3": "Billing"
                                },
                                {
                                    "0": "Eastside Parts Shop",
                                    "1": "7000 Victoria Park Avenue",
                                    "2": "Toronto",
                                    "3": "Billing"
                                },
                                {
                                    "0": "Economy Bikes Company",
                                    "1": "72502 Eastern Ave.",
                                    "2": "Bell Gardens",
                                    "3": "Billing"
                                },
                                {
                                    "0": "Economy Center",
                                    "1": "6th Floor, 25st Canadian Place",
                                    "2": "Toronto",
                                    "3": "Billing"
                                },
                                {
                                    "0": "Efficient Cycling",
                                    "1": "250333 Southport Road, S.W.",
                                    "2": "Calgary",
                                    "3": "Billing"
                                },
                                {
                                    "0": "Eighth Bike Store",
                                    "1": "2500 N Serene Blvd",
                                    "2": "El Segundo",
                                    "3": "Billing"
                                },
                                {
                                    "0": "Elite Bikes",
                                    "1": "Po Box 8259024",
                                    "2": "Dallas",
                                    "3": "Billing"
                                },
                                {
                                    "0": "Elite Bikes",
                                    "1": "9178 Jumping St.",
                                    "2": "Dallas",
                                    "3": "Shipping"
                                },
                                {
                                    "0": "Engineered Bike Systems",
                                    "1": "123 Camelia Avenue",
                                    "2": "Oxnard",
                                    "3": "Billing"
                                },
                                {
                                    "0": "Essential Bike Works",
                                    "1": "New Millhouse, 2583 Milton Park",
                                    "2": "Abingdon",
                                    "3": "Billing"
                                },
                                {
                                    "0": "Exceptional Cycle Services",
                                    "1": "Wade Road",
                                    "2": "Basingstoke Hants",
                                    "3": "Billing"
                                },
                                {
                                    "0": "Exclusive Bicycle Mart",
                                    "1": "Butterfield Hse, 7-251 Chapel St",
                                    "2": "Lancaster",
                                    "3": "Billing"
                                },
                                {
                                    "0": "Exercise Center",
                                    "1": "Stevens Creek Shopping Center",
                                    "2": "San Jose",
                                    "3": "Billing"
                                },
                                {
                                    "0": "Exhibition Showroom",
                                    "1": "Garamonde Drive, Wymbush",
                                    "2": "Milton Keynes",
                                    "3": "Billing"
                                },
                                {
                                    "0": "Exhilarating Cycles",
                                    "1": "Kensington Valley Shops",
                                    "2": "Howell",
                                    "3": "Billing"
                                },
                                {
                                    "0": "Express Bike Services",
                                    "1": "586 Fulham Road,",
                                    "2": "London",
                                    "3": "Billing"
                                },
                                {
                                    "0": "Extended Bike Sales",
                                    "1": "The Citadel Commerce Plaza",
                                    "2": "City Of Commerce",
                                    "3": "Billing"
                                },
                                {
                                    "0": "Extended Tours",
                                    "1": "7 Garden House Cloisters, 8 Batters",
                                    "2": "London",
                                    "3": "Billing"
                                },
                                {
                                    "0": "Extraordinary Bike Works",
                                    "1": "Town East Center",
                                    "2": "Mesquite",
                                    "3": "Billing"
                                },
                                {
                                    "0": "Extras Sporting Goods",
                                    "1": "625 W Jackson Blvd. Unit 2502",
                                    "2": "Chicago",
                                    "3": "Billing"
                                },
                                {
                                    "0": "Extreme Riding Supplies",
                                    "1": "Riverside",
                                    "2": "Sherman Oaks",
                                    "3": "Billing"
                                },
                                {
                                    "0": "Fabrikam Inc., West",
                                    "1": "46460 West Oaks Drive",
                                    "2": "Novi",
                                    "3": "Billing"
                                },
                                {
                                    "0": "Fad Outlet",
                                    "1": "2550 Ne Sandy Blvd",
                                    "2": "Portland",
                                    "3": "Billing"
                                },
                                {
                                    "0": "Family Cycle Store",
                                    "1": "660 Saint-Jacques, Bureau 400",
                                    "2": "Montreal",
                                    "3": "Billing"
                                },
                                {
                                    "0": "Family Entertainment Center",
                                    "1": "25718 Se Sunnyside Rd",
                                    "2": "Clackamas",
                                    "3": "Billing"
                                },
                                {
                                    "0": "Family's Favorite Bike Shop",
                                    "1": "25981 College Street",
                                    "2": "Montreal",
                                    "3": "Billing"
                                },
                                {
                                    "0": "Family's Favorite Bike Shop",
                                    "1": "26910 Indela Road",
                                    "2": "Montreal",
                                    "3": "Shipping"
                                },
                                {
                                    "0": "Famous Bike Shop",
                                    "1": "999 West Georgia St.",
                                    "2": "Vancouver",
                                    "3": "Billing"
                                },
                                {
                                    "0": "Farthermost Bike Shop",
                                    "1": "99000 S. Avalon Blvd. Suite 750",
                                    "2": "Carson",
                                    "3": "Billing"
                                },
                                {
                                    "0": "Farthest Bike Store",
                                    "1": "45259 Canada Way",
                                    "2": "Burnaby",
                                    "3": "Billing"
                                },
                                {
                                    "0": "Fashionable Bikes and Accessories",
                                    "1": "Sports Store At Park City",
                                    "2": "Park City",
                                    "3": "Billing"
                                },
                                {
                                    "0": "Fasteners & Bolts Outlet",
                                    "1": "9960 King Street E.",
                                    "2": "Toronto",
                                    "3": "Billing"
                                },
                                {
                                    "0": "Field Trip Inc",
                                    "1": "997000 Telegraph Rd.",
                                    "2": "Southfield",
                                    "3": "Billing"
                                },
                                {
                                    "0": "Field Trip Store",
                                    "1": "2575 Rocky Mountain Ave.",
                                    "2": "Loveland",
                                    "3": "Billing"
                                },
                                {
                                    "0": "Fifth Bike Store",
                                    "1": "2502 Evergreen Ste E",
                                    "2": "Everett",
                                    "3": "Billing"
                                },
                                {
                                    "0": "Finer Cycle Shop",
                                    "1": "2500-622 5th Ave Sw",
                                    "2": "Calgary",
                                    "3": "Billing"
                                },
                                {
                                    "0": "Finer Mart",
                                    "1": "640 South 994th St. W.",
                                    "2": "Billings",
                                    "3": "Billing"
                                },
                                {
                                    "0": "Finer Parts Shop",
                                    "1": "2526a Tri-Lake Blvd Ne",
                                    "2": "Kirkland",
                                    "3": "Billing"
                                },
                                {
                                    "0": "Finer Riding Supplies",
                                    "1": "#9900 2700 Production Way",
                                    "2": "Burnaby",
                                    "3": "Billing"
                                },
                                {
                                    "0": "Finish and Sealant Products",
                                    "1": "25150 El Camino Real",
                                    "2": "San Bruno",
                                    "3": "Billing"
                                },
                                {
                                    "0": "First Bike Store",
                                    "1": "Kansas City Factory Outlet",
                                    "2": "Odessa",
                                    "3": "Billing"
                                },
                                {
                                    "0": "First Cycle Store",
                                    "1": "25250 N 90th St",
                                    "2": "Scottsdale",
                                    "3": "Billing"
                                },
                                {
                                    "0": "First Department Stores",
                                    "1": "2540 Dell Range Blvd",
                                    "2": "Cheyenne",
                                    "3": "Billing"
                                },
                                {
                                    "0": "First-Rate Outlet",
                                    "1": "25537 Hillside Avenue",
                                    "2": "Victoria",
                                    "3": "Billing"
                                },
                                {
                                    "0": "Fitness Cycling",
                                    "1": "The Quad @ WestView",
                                    "2": "Whittier",
                                    "3": "Billing"
                                },
                                {
                                    "0": "Fitness Department Stores",
                                    "1": "7750 E Marching Rd",
                                    "2": "Scottsdale",
                                    "3": "Billing"
                                },
                                {
                                    "0": "Fitness Hotel",
                                    "1": "74400 France Avenue South",
                                    "2": "Edina",
                                    "3": "Billing"
                                },
                                {
                                    "0": "Fitness Supplies",
                                    "1": "755 W Washington Ave Ste D",
                                    "2": "Sequim",
                                    "3": "Billing"
                                },
                                {
                                    "0": "Fitness Toy Store",
                                    "1": "220 Mercy Drive",
                                    "2": "Garland",
                                    "3": "Billing"
                                },
                                {
                                    "0": "Fleet Bikes",
                                    "1": "54254 Pacific Ave.",
                                    "2": "Stockton",
                                    "3": "Billing"
                                },
                                {
                                    "0": "Friendly Bike Shop",
                                    "1": "750 Lakeway Dr",
                                    "2": "Bellingham",
                                    "3": "Billing"
                                },
                                {
                                    "0": "Friendly Bike Shop",
                                    "1": "Port Huron",
                                    "2": "Port Huron",
                                    "3": "Billing"
                                },
                                {
                                    "0": "Friendly Neighborhood Bikes",
                                    "1": "Johnson Creek",
                                    "2": "Johnson Creek",
                                    "3": "Billing"
                                },
                                {
                                    "0": "Front Sporting Goods",
                                    "1": "257700 Ne 76th Street",
                                    "2": "Redmond",
                                    "3": "Billing"
                                },
                                {
                                    "0": "Frugal Bike Shop",
                                    "1": "2575 West 2700 South",
                                    "2": "Salt Lake City",
                                    "3": "Billing"
                                },
                                {
                                    "0": "Full-Service Bike Store",
                                    "1": "9920 North Telegraph Rd.",
                                    "2": "Pontiac",
                                    "3": "Billing"
                                },
                                {
                                    "0": "Fun Times Club",
                                    "1": "8525 South Parker Road",
                                    "2": "Parker",
                                    "3": "Billing"
                                },
                                {
                                    "0": "Fun Toys and Bikes",
                                    "1": "6500 East Grant Road",
                                    "2": "Tucson",
                                    "3": "Billing"
                                },
                                {
                                    "0": "Future Bikes",
                                    "1": "67255 - 8th Street N.E., Suite 350",
                                    "2": "Calgary",
                                    "3": "Billing"
                                },
                                {
                                    "0": "Futuristic Bikes",
                                    "1": "25136 Jefferson Blvd.",
                                    "2": "Culver City",
                                    "3": "Billing"
                                },
                                {
                                    "0": "Futuristic Sport Distributors",
                                    "1": "5525 South Hover Road",
                                    "2": "Longmont",
                                    "3": "Billing"
                                },
                                {
                                    "0": "Gasless Cycle Shop",
                                    "1": "25 First Canadian Place",
                                    "2": "Toronto",
                                    "3": "Billing"
                                },
                                {
                                    "0": "Gear-Shift Bikes Limited",
                                    "1": "2512-4th Ave Sw",
                                    "2": "Calgary",
                                    "3": "Billing"
                                },
                                {
                                    "0": "General Bike Corporation",
                                    "1": "69251 Creditview Road",
                                    "2": "Mississauga",
                                    "3": "Billing"
                                },
                                {
                                    "0": "General Cycle Storehouse",
                                    "1": "30025 Wayburne Drive, Suite 275",
                                    "2": "Burnaby",
                                    "3": "Billing"
                                },
                                {
                                    "0": "General Department Stores",
                                    "1": "253131 Lake Frasier Drive, Office No. 2",
                                    "2": "Calgary",
                                    "3": "Billing"
                                },
                                {
                                    "0": "General Industries",
                                    "1": "9259 - 1110th Avenue Sw",
                                    "2": "Calgary",
                                    "3": "Billing"
                                },
                                {
                                    "0": "General Riding Supplies",
                                    "1": "43251 Viking Way, Unit 130",
                                    "2": "Richmond",
                                    "3": "Billing"
                                },
                                {
                                    "0": "General Supplies",
                                    "1": "9693 Louis H Lafontaine",
                                    "2": "Ville De'anjou",
                                    "3": "Billing"
                                },
                                {
                                    "0": "Genial Bike Associates",
                                    "1": "99450 Highway 59 North",
                                    "2": "Humble",
                                    "3": "Billing"
                                },
                                {
                                    "0": "Genuine Bike Shop",
                                    "1": "7760 N. Pan Am Expwy",
                                    "2": "San Antonio",
                                    "3": "Billing"
                                },
                                {
                                    "0": "Gift and Toy Store",
                                    "1": "Sports Stores @ Tuscola",
                                    "2": "Tuscola",
                                    "3": "Billing"
                                },
                                {
                                    "0": "Go-cart and Bike Specialists",
                                    "1": "2509 W. Frankford",
                                    "2": "Carrollton",
                                    "3": "Billing"
                                },
                                {
                                    "0": "Golf and Cycle Store",
                                    "1": "5500 Grossmont Center Drive",
                                    "2": "La Mesa",
                                    "3": "Billing"
                                },
                                {
                                    "0": "Good Bike Shop",
                                    "1": "99433 S. Greenbay Rd.",
                                    "2": "Racine",
                                    "3": "Billing"
                                },
                                {
                                    "0": "Good Toys",
                                    "1": "99700 Bell Road",
                                    "2": "Auburn",
                                    "3": "Billing"
                                },
                                {
                                    "0": "Grand Bicycle Stores",
                                    "1": "48255 I-10 E. @ Eastpoint Blvd.",
                                    "2": "Baytown",
                                    "3": "Billing"
                                },
                                {
                                    "0": "Grand Industries",
                                    "1": "6333 Cote Vertu",
                                    "2": "Montreal",
                                    "3": "Billing"
                                },
                                {
                                    "0": "Grand Sport Boutique",
                                    "1": "99800 Tittabawasee Rd.",
                                    "2": "Saginaw",
                                    "3": "Billing"
                                },
                                {
                                    "0": "Grease and Oil Products Company",
                                    "1": "9903 Highway 6 South",
                                    "2": "Houston",
                                    "3": "Billing"
                                },
                                {
                                    "0": "Great Bicycle Supply",
                                    "1": "455 256th St.",
                                    "2": "Moline",
                                    "3": "Billing"
                                },
                                {
                                    "0": "Great Bikes ",
                                    "1": "Eastridge Mall",
                                    "2": "Casper",
                                    "3": "Billing"
                                },
                                {
                                    "0": "Greater Bike Store",
                                    "1": "55 Lakeshore Blvd East",
                                    "2": "Toronto",
                                    "3": "Billing"
                                },
                                {
                                    "0": "Handy Bike Services",
                                    "1": "399700 John R. Rd.",
                                    "2": "Madison Heights",
                                    "3": "Billing"
                                },
                                {
                                    "0": "Hardware Components",
                                    "1": "City Center",
                                    "2": "Minneapolis",
                                    "3": "Billing"
                                },
                                {
                                    "0": "Hardware Components",
                                    "1": "99 Front Street",
                                    "2": "Minneapolis",
                                    "3": "Shipping"
                                },
                                {
                                    "0": "Health Spa, Limited",
                                    "1": "2500 University Avenue",
                                    "2": "Toronto",
                                    "3": "Billing"
                                },
                                {
                                    "0": "Highway Bike Shop",
                                    "1": "Simi @ The Plaza",
                                    "2": "Simi Valley",
                                    "3": "Billing"
                                },
                                {
                                    "0": "Historic Bicycle Sales",
                                    "1": "Redford Plaza",
                                    "2": "Redford",
                                    "3": "Billing"
                                },
                                {
                                    "0": "Home Town Bike Store",
                                    "1": "955 Green Valley Crescent",
                                    "2": "Ottawa",
                                    "3": "Billing"
                                },
                                {
                                    "0": "Honest Repair Service",
                                    "1": "Three Rivers Mall",
                                    "2": "Kelso",
                                    "3": "Billing"
                                },
                                {
                                    "0": "Immense Manufacturing Company",
                                    "1": "70 N.W. Plaza",
                                    "2": "Saint Ann",
                                    "3": "Billing"
                                },
                                {
                                    "0": "Imported and Domestic Cycles",
                                    "1": "22589 West Craig Road",
                                    "2": "North Las Vegas",
                                    "3": "Billing"
                                },
                                {
                                    "0": "Initial Bike Company",
                                    "1": "789 West Alameda",
                                    "2": "Westminster",
                                    "3": "Billing"
                                },
                                {
                                    "0": "Instruments and Parts Company",
                                    "1": "Phoenix Way, Cirencester",
                                    "2": "Gloucestershire",
                                    "3": "Billing"
                                },
                                {
                                    "0": "Journey Sporting Goods",
                                    "1": "509 Nafta Boulevard",
                                    "2": "Laredo",
                                    "3": "Billing"
                                },
                                {
                                    "0": "Kickstand Sellers",
                                    "1": "6789 Warren Road",
                                    "2": "Westland",
                                    "3": "Billing"
                                },
                                {
                                    "0": "Kickstands and Accessories Company",
                                    "1": "25300 Biddle Road",
                                    "2": "Medford",
                                    "3": "Billing"
                                },
                                {
                                    "0": "Large Bike Shop",
                                    "1": "600 Boul. Rene-levesque Ouest",
                                    "2": "Montreal",
                                    "3": "Billing"
                                },
                                {
                                    "0": "Largest Bike Store",
                                    "1": "63 W Monroe",
                                    "2": "Chicago",
                                    "3": "Billing"
                                },
                                {
                                    "0": "Latest Accessories Sales",
                                    "1": "Gateway",
                                    "2": "Portland",
                                    "3": "Billing"
                                },
                                {
                                    "0": "Latest Sports Equipment",
                                    "1": "4251 First Avenue",
                                    "2": "Seattle",
                                    "3": "Billing"
                                },
                                {
                                    "0": "Leading Sales & Repair",
                                    "1": "25149 Howard Dr",
                                    "2": "West Chicago",
                                    "3": "Billing"
                                },
                                {
                                    "0": "Leather Seat Factory",
                                    "1": "9900-6400 Boul, Taschereau",
                                    "2": "Brossard",
                                    "3": "Billing"
                                },
                                {
                                    "0": "Leisure Activities",
                                    "1": "65 Gamelin Street",
                                    "2": "Hull",
                                    "3": "Billing"
                                },
                                {
                                    "0": "Leisure Clearing House",
                                    "1": "Unit 99a Battery Retail Pk",
                                    "2": "Birmingham",
                                    "3": "Billing"
                                },
                                {
                                    "0": "Little Bicycle Supply Shop",
                                    "1": "Cedar Creek Stores",
                                    "2": "Mosinee",
                                    "3": "Billing"
                                },
                                {
                                    "0": "Local Hardware Factory",
                                    "1": "42500 W 76th St",
                                    "2": "Chicago",
                                    "3": "Billing"
                                },
                                {
                                    "0": "Local Sales and Rental",
                                    "1": "1200 First Ave.",
                                    "2": "Joliet",
                                    "3": "Billing"
                                },
                                {
                                    "0": "Locks Company",
                                    "1": "70259 West Sunnyview Ave",
                                    "2": "Visalia",
                                    "3": "Billing"
                                },
                                {
                                    "0": "Lots of Bikes Storehouse",
                                    "1": "4255 East Lies Road",
                                    "2": "Carol Stream",
                                    "3": "Billing"
                                },
                                {
                                    "0": "Low Price Cycles",
                                    "1": "Suite 500 995 W. 11th Avenue",
                                    "2": "Mississauga",
                                    "3": "Billing"
                                },
                                {
                                    "0": "Machines & Cycles Store",
                                    "1": "25245 Rue Sherbrooke Ouest",
                                    "2": "Montreal",
                                    "3": "Billing"
                                },
                                {
                                    "0": "Mail Market",
                                    "1": "308-3250 Casting Road",
                                    "2": "York",
                                    "3": "Billing"
                                },
                                {
                                    "0": "Mail-Order Outlet",
                                    "1": "409 S. Main Ste. 25",
                                    "2": "Ellensburg",
                                    "3": "Billing"
                                },
                                {
                                    "0": "Maintenance and Repair for Bicycles",
                                    "1": "Lone Star Factory",
                                    "2": "La Marque",
                                    "3": "Billing"
                                },
                                {
                                    "0": "Major Cycling",
                                    "1": "46990 Viking Way",
                                    "2": "Richmond",
                                    "3": "Billing"
                                },
                                {
                                    "0": "Major Sport Suppliers",
                                    "1": "White Mountain Mall",
                                    "2": "Rock Springs",
                                    "3": "Billing"
                                },
                                {
                                    "0": "Major Sporting Goods",
                                    "1": "9980 S Alma School Road",
                                    "2": "Chandler",
                                    "3": "Billing"
                                },
                                {
                                    "0": "Many Bikes Store",
                                    "1": "Receiving",
                                    "2": "Fullerton",
                                    "3": "Billing"
                                },
                                {
                                    "0": "Mechanical Products Ltd.",
                                    "1": "22555 Paseo De Las Americas",
                                    "2": "San Diego",
                                    "3": "Billing"
                                },
                                {
                                    "0": "Mercantile Outlet",
                                    "1": "2520 Flanders Road",
                                    "2": "Toronto",
                                    "3": "Billing"
                                },
                                {
                                    "0": "Metal Clearing House",
                                    "1": "3255 Front Street West",
                                    "2": "Toronto",
                                    "3": "Billing"
                                },
                                {
                                    "0": "Metal Processing Company",
                                    "1": "770 Notre Datme Quest Bureau 800",
                                    "2": "Montreal",
                                    "3": "Billing"
                                },
                                {
                                    "0": "Metro Bike Works",
                                    "1": "250000 Eight Mile Road",
                                    "2": "Detroit",
                                    "3": "Billing"
                                },
                                {
                                    "0": "Metro Cycle Shop",
                                    "1": "2507 Pacific Ave S",
                                    "2": "Tacoma",
                                    "3": "Billing"
                                },
                                {
                                    "0": "Metro Manufacturing",
                                    "1": "2550 Signet Drive",
                                    "2": "Weston",
                                    "3": "Billing"
                                },
                                {
                                    "0": "Metro Metals Co.",
                                    "1": "2524 Barlby Road",
                                    "2": "London",
                                    "3": "Billing"
                                },
                                {
                                    "0": "Metropolitan Bicycle Supply",
                                    "1": "Paramount House",
                                    "2": "London",
                                    "3": "Billing"
                                },
                                {
                                    "0": "Metropolitan Manufacturing",
                                    "1": "Parkway Plaza",
                                    "2": "El Cajon",
                                    "3": "Billing"
                                },
                                {
                                    "0": "Metropolitan Sports Supply",
                                    "1": "482505 Warm Springs Blvd.",
                                    "2": "Fremont",
                                    "3": "Billing"
                                },
                                {
                                    "0": "Moderately-Priced Bikes Store",
                                    "1": "67 Rainer Ave S",
                                    "2": "Renton",
                                    "3": "Billing"
                                },
                                {
                                    "0": "Modular Cycle Systems",
                                    "1": "800 Interchange Blvd.",
                                    "2": "Austin",
                                    "3": "Billing"
                                },
                                {
                                    "0": "Modular Cycle Systems",
                                    "1": "165 North Main",
                                    "2": "Austin",
                                    "3": "Shipping"
                                },
                                {
                                    "0": "More Bikes!",
                                    "1": "25600 E St Andrews Pl",
                                    "2": "Santa Ana",
                                    "3": "Billing"
                                },
                                {
                                    "0": "Mountain Bike Center",
                                    "1": "6756 Mowry",
                                    "2": "Newark",
                                    "3": "Billing"
                                },
                                {
                                    "0": "Mountain Toy Store",
                                    "1": "First Colony Mall",
                                    "2": "Sugar Land",
                                    "3": "Billing"
                                },
                                {
                                    "0": "National Manufacturing",
                                    "1": "630 University Avenue",
                                    "2": "Toronto",
                                    "3": "Billing"
                                },
                                {
                                    "0": "Nearby Cycle Shop",
                                    "1": "Burgess Hill",
                                    "2": "West Sussex",
                                    "3": "Billing"
                                },
                                {
                                    "0": "Nearby Sporting Goods",
                                    "1": "Bradford",
                                    "2": "W. York",
                                    "3": "Billing"
                                },
                                {
                                    "0": "Neighborhood Store",
                                    "1": "6777 Kingsway",
                                    "2": "Burnaby",
                                    "3": "Billing"
                                },
                                {
                                    "0": "Nice Bikes",
                                    "1": "Suite 800 2530 Slater Street",
                                    "2": "Ottawa",
                                    "3": "Billing"
                                },
                                {
                                    "0": "Nonskid Tire Company",
                                    "1": "Holiday Village Mall",
                                    "2": "Great Falls",
                                    "3": "Billing"
                                },
                                {
                                    "0": "Non-Slip Pedal Company",
                                    "1": "258 King Street East",
                                    "2": "Toronto",
                                    "3": "Billing"
                                },
                                {
                                    "0": "Novelty Bikes",
                                    "1": "998 Forest Road",
                                    "2": "Saginaw",
                                    "3": "Billing"
                                },
                                {
                                    "0": "Number 1 Supply",
                                    "1": "Escondido",
                                    "2": "Escondido",
                                    "3": "Billing"
                                },
                                {
                                    "0": "Number One Bike Co.",
                                    "1": "Elmhurst Road, Goring",
                                    "2": "Reading",
                                    "3": "Billing"
                                },
                                {
                                    "0": "Odometers and Accessories Company",
                                    "1": "253711 Mayfield Place, Unit 150",
                                    "2": "Richmond",
                                    "3": "Billing"
                                },
                                {
                                    "0": "Official Parts Shop",
                                    "1": "9905 Three Rivers Drive",
                                    "2": "Kelso",
                                    "3": "Billing"
                                },
                                {
                                    "0": "Oils and Fluids Warehouse",
                                    "1": "Park House-4th Floor, 2516 Park St.",
                                    "2": "London",
                                    "3": "Billing"
                                },
                                {
                                    "0": "One Bike Company",
                                    "1": "5 place Ville-Marie",
                                    "2": "Montreal",
                                    "3": "Billing"
                                },
                                {
                                    "0": "Online Bike Sellers",
                                    "1": "678 Eastman Ave.",
                                    "2": "Midland",
                                    "3": "Billing"
                                },
                                {
                                    "0": "Online Bike Warehouse",
                                    "1": "32605 West 252 Mile Road, Suite 250",
                                    "2": "Aurora",
                                    "3": "Billing"
                                },
                                {
                                    "0": "Operational Manufacturing",
                                    "1": "25730, boul. St-Régis",
                                    "2": "Dorval",
                                    "3": "Billing"
                                },
                                {
                                    "0": "Orange Bicycle Company",
                                    "1": "123 W. Lake Ave.",
                                    "2": "Peoria",
                                    "3": "Billing"
                                },
                                {
                                    "0": "Original Bicycle Supply Company",
                                    "1": "2573 Dufferin Street",
                                    "2": "Toronto",
                                    "3": "Billing"
                                },
                                {
                                    "0": "Our Sporting Goods Store",
                                    "1": "6030 Conroy Road",
                                    "2": "Ottawa",
                                    "3": "Billing"
                                },
                                {
                                    "0": "Outdoor Aerobic Systems Company",
                                    "1": "255 Irving Street",
                                    "2": "London",
                                    "3": "Billing"
                                },
                                {
                                    "0": "Outdoor Sporting Goods",
                                    "1": "Lakewood Mall",
                                    "2": "Lakewood",
                                    "3": "Billing"
                                },
                                {
                                    "0": "Outdoor Sports Supply",
                                    "1": "Great Northwestern",
                                    "2": "North Bend",
                                    "3": "Billing"
                                },
                                {
                                    "0": "Outstanding Cycles",
                                    "1": "North 93270 Newport Highway",
                                    "2": "Spokane",
                                    "3": "Billing"
                                },
                                {
                                    "0": "Paint Supply",
                                    "1": "Corporate Office",
                                    "2": "Garland",
                                    "3": "Billing"
                                },
                                {
                                    "0": "Paints and Solvents Company",
                                    "1": "955 E. County Line Rd.",
                                    "2": "Englewood",
                                    "3": "Billing"
                                },
                                {
                                    "0": "Parcel Express Delivery Service",
                                    "1": "Washington Square",
                                    "2": "Portland",
                                    "3": "Billing"
                                },
                                {
                                    "0": "Permanent Finish Products",
                                    "1": "62500 Neil Road",
                                    "2": "Reno",
                                    "3": "Billing"
                                },
                                {
                                    "0": "Petroleum Products Distributors",
                                    "1": "20225 Lansing Ave",
                                    "2": "Montreal",
                                    "3": "Billing"
                                },
                                {
                                    "0": "Plastic Parts Company",
                                    "1": "750 Philip Street",
                                    "2": "Waterloo",
                                    "3": "Billing"
                                },
                                {
                                    "0": "Practical Bike Supply Company",
                                    "1": "Horizon Outlet",
                                    "2": "Woodbury",
                                    "3": "Billing"
                                },
                                {
                                    "0": "Preferred Bikes",
                                    "1": "Incom Sports Center",
                                    "2": "Ontario",
                                    "3": "Billing"
                                },
                                {
                                    "0": "Price-Cutter Discount Bikes",
                                    "1": "6700 Boul Taschereau",
                                    "2": "Brossard",
                                    "3": "Billing"
                                },
                                {
                                    "0": "Primary Bike Distributors",
                                    "1": "965 De La Gauchetiere West",
                                    "2": "Montreal",
                                    "3": "Billing"
                                },
                                {
                                    "0": "Principal Bike Company",
                                    "1": "Mountain Square",
                                    "2": "Upland",
                                    "3": "Billing"
                                },
                                {
                                    "0": "Professional Containers and Packaging Co.",
                                    "1": "253731 West Bell Road",
                                    "2": "Surprise",
                                    "3": "Billing"
                                },
                                {
                                    "0": "Professional Cycle Store",
                                    "1": "Arcadia Crossing",
                                    "2": "Phoenix",
                                    "3": "Billing"
                                },
                                {
                                    "0": "Professional Cyclists",
                                    "1": "2545 King Street West",
                                    "2": "Toronto",
                                    "3": "Billing"
                                },
                                {
                                    "0": "Professional Sales and Service",
                                    "1": "57251 Serene Blvd",
                                    "2": "Van Nuys",
                                    "3": "Billing"
                                },
                                {
                                    "0": "Progressive Sports",
                                    "1": "3207 S Grady Way",
                                    "2": "Renton",
                                    "3": "Billing"
                                },
                                {
                                    "0": "Progressive Sports",
                                    "1": "7943 Walnut Ave",
                                    "2": "Renton",
                                    "3": "Shipping"
                                },
                                {
                                    "0": "Prosperous Tours",
                                    "1": "99-3 Forest Works",
                                    "2": "London",
                                    "3": "Billing"
                                },
                                {
                                    "0": "Quantity Discounts",
                                    "1": "Natomas Marketplace",
                                    "2": "Sacramento",
                                    "3": "Billing"
                                },
                                {
                                    "0": "Quick Delivery Service",
                                    "1": "5990 Avebury Road",
                                    "2": "Mississauga",
                                    "3": "Billing"
                                },
                                {
                                    "0": "Quick Parts and Service",
                                    "1": "99954 Boul. Laurier, Local 060, Place",
                                    "2": "Sainte-Foy",
                                    "3": "Billing"
                                },
                                {
                                    "0": "Racing Bike Outlet",
                                    "1": "225 South 314th Street",
                                    "2": "Federal Way",
                                    "3": "Billing"
                                },
                                {
                                    "0": "Racing Partners",
                                    "1": "2512-410th Avenue S.W.",
                                    "2": "Calgary",
                                    "3": "Billing"
                                },
                                {
                                    "0": "Racing Toys",
                                    "1": "Prime Outlets",
                                    "2": "Phoenix",
                                    "3": "Billing"
                                },
                                {
                                    "0": "Racing Toys",
                                    "1": "9228 Via Del Sol",
                                    "2": "Phoenix",
                                    "3": "Shipping"
                                },
                                {
                                    "0": "Rally Master Company Inc",
                                    "1": "870 N. 54th Ave.",
                                    "2": "Chandler",
                                    "3": "Billing"
                                },
                                {
                                    "0": "Rampart Amusement Company",
                                    "1": "Bradford",
                                    "2": "W. York",
                                    "3": "Billing"
                                },
                                {
                                    "0": "Rapid Bikes",
                                    "1": "992 St Clair Ave East",
                                    "2": "Toronto",
                                    "3": "Billing"
                                },
                                {
                                    "0": "Raw Materials Inc",
                                    "1": "Bldg. 9n/99298",
                                    "2": "Redmond",
                                    "3": "Billing"
                                },
                                {
                                    "0": "Real Sporting Goods",
                                    "1": "7709 West Virginia Avenue",
                                    "2": "Phoenix",
                                    "3": "Billing"
                                },
                                {
                                    "0": "Reasonable Bicycle Sales",
                                    "1": "C/O Starpak, Inc.",
                                    "2": "Greeley",
                                    "3": "Billing"
                                },
                                {
                                    "0": "Recommended Bicycles",
                                    "1": "250 Kingsbridge Garden Circle",
                                    "2": "Mississauga",
                                    "3": "Billing"
                                },
                                {
                                    "0": "Red Bicycle Company",
                                    "1": "99, Rue Saint-pierre",
                                    "2": "Pnot-Rouge",
                                    "3": "Billing"
                                },
                                {
                                    "0": "Regional Manufacturing",
                                    "1": "Factory Stores/tucson",
                                    "2": "Tucson",
                                    "3": "Billing"
                                },
                                {
                                    "0": "Reliable Retail Center",
                                    "1": "609 Evans Avenue",
                                    "2": "Toronto",
                                    "3": "Billing"
                                },
                                {
                                    "0": "Remarkable Bike Store",
                                    "1": "Eastern Beltway Center",
                                    "2": "Las Vegas",
                                    "3": "Billing"
                                },
                                {
                                    "0": "Remote Bicycle Specialists",
                                    "1": "No. 2000-25080 Beaver Hall Hill",
                                    "2": "Quebec",
                                    "3": "Billing"
                                },
                                {
                                    "0": "Rental Bikes",
                                    "1": "99828 Routh Street, Suite 825",
                                    "2": "Dallas",
                                    "3": "Billing"
                                },
                                {
                                    "0": "Requisite Part Supply",
                                    "1": "600 Slater Street",
                                    "2": "Ottawa",
                                    "3": "Billing"
                                },
                                {
                                    "0": "Resale Services",
                                    "1": "Fox Hills",
                                    "2": "Culver City",
                                    "3": "Billing"
                                },
                                {
                                    "0": "Responsible Bike Dealers",
                                    "1": "Ward Parkway Center",
                                    "2": "Kansas City",
                                    "3": "Billing"
                                },
                                {
                                    "0": "Retail Cycle Shop",
                                    "1": "Bayshore Mall",
                                    "2": "Eureka",
                                    "3": "Billing"
                                },
                                {
                                    "0": "Retail Discount Store",
                                    "1": "2510 Crew Court",
                                    "2": "Montreal",
                                    "3": "Billing"
                                },
                                {
                                    "0": "Retail Mall",
                                    "1": "254480 River Rd",
                                    "2": "Richmond",
                                    "3": "Billing"
                                },
                                {
                                    "0": "Retail Sporting Equipment",
                                    "1": "Factory Stores Of America",
                                    "2": "Mesa",
                                    "3": "Billing"
                                },
                                {
                                    "0": "Retail Sporting Goods",
                                    "1": "6753 Howard Hughes Parkway",
                                    "2": "Las Vegas",
                                    "3": "Billing"
                                },
                                {
                                    "0": "Retreat Inn",
                                    "1": "Suite 2502 410 Albert Street",
                                    "2": "Waterloo",
                                    "3": "Billing"
                                },
                                {
                                    "0": "Rewarding Activities Company",
                                    "1": "25575 The Queensway",
                                    "2": "Etobicoke",
                                    "3": "Billing"
                                },
                                {
                                    "0": "Riders Company",
                                    "1": "Tanger Factory",
                                    "2": "Branch",
                                    "3": "Billing"
                                },
                                {
                                    "0": "Riding Associates",
                                    "1": "2528 Meridian E",
                                    "2": "Puyallup",
                                    "3": "Billing"
                                },
                                {
                                    "0": "Riding Cycles",
                                    "1": "Galashiels",
                                    "2": "Liverpool",
                                    "3": "Billing"
                                },
                                {
                                    "0": "Riding Excursions",
                                    "1": "West Park Plaza",
                                    "2": "Irvine",
                                    "3": "Billing"
                                },
                                {
                                    "0": "Road Way Sales and Rental",
                                    "1": "2900 - 25055 Dunning Street",
                                    "2": "Vancouver",
                                    "3": "Billing"
                                },
                                {
                                    "0": "Roadway Bike Emporium",
                                    "1": "Medford",
                                    "2": "Medford",
                                    "3": "Billing"
                                },
                                {
                                    "0": "Road-Way Mart",
                                    "1": "Southgate Mall",
                                    "2": "Missoula",
                                    "3": "Billing"
                                },
                                {
                                    "0": "Roadway Supplies",
                                    "1": "2564 S. Redwood Rd.",
                                    "2": "Riverton",
                                    "3": "Billing"
                                },
                                {
                                    "0": "Roving Sports",
                                    "1": "4927 S Meridian Ave Ste D",
                                    "2": "Puyallup",
                                    "3": "Billing"
                                },
                                {
                                    "0": "Rugged Bikes",
                                    "1": "48995 Evergreen Wy.",
                                    "2": "Everett",
                                    "3": "Billing"
                                },
                                {
                                    "0": "Running and Cycling Gear",
                                    "1": "No. 60 Bellis Fair Parkway",
                                    "2": "Bellingham",
                                    "3": "Billing"
                                },
                                {
                                    "0": "Rural Cycle Emporium",
                                    "1": "6388 Lake City Way",
                                    "2": "Burnaby",
                                    "3": "Billing"
                                },
                                {
                                    "0": "Rural Department Store",
                                    "1": "5967 W Las Positas Blvd",
                                    "2": "Pleasanton",
                                    "3": "Billing"
                                },
                                {
                                    "0": "Rural Sales and Service",
                                    "1": "Management Mall",
                                    "2": "San Antonio",
                                    "3": "Billing"
                                },
                                {
                                    "0": "Safe Cycles Shop",
                                    "1": "25915 140th Ave Ne",
                                    "2": "Bellevue",
                                    "3": "Billing"
                                },
                                {
                                    "0": "Safe Cycles Shop",
                                    "1": "2681 Eagle Peak",
                                    "2": "Bellevue",
                                    "3": "Shipping"
                                },
                                {
                                    "0": "Safe Toys",
                                    "1": "49925 Crestview Drive N.E.",
                                    "2": "Rio Rancho",
                                    "3": "Billing"
                                },
                                {
                                    "0": "Sample Bike Store",
                                    "1": "2530 South Colorado Blvd.",
                                    "2": "Denver",
                                    "3": "Billing"
                                },
                                {
                                    "0": "Sample Bike Store",
                                    "1": "2000 300th Street",
                                    "2": "Denver",
                                    "3": "Shipping"
                                },
                                {
                                    "0": "Satin Finish Company",
                                    "1": "25220 Airline Road",
                                    "2": "Corpus Christi",
                                    "3": "Billing"
                                },
                                {
                                    "0": "Scooters and Bikes Store",
                                    "1": "258101 Nw Evergreen Parkway",
                                    "2": "Beaverton",
                                    "3": "Billing"
                                },
                                {
                                    "0": "Scratch-Resistant Finishes Company",
                                    "1": "5700 Explorer Drive",
                                    "2": "Mississauga",
                                    "3": "Billing"
                                },
                                {
                                    "0": "Seats and Saddles Company",
                                    "1": "5th Floor, 79 Place D'armes",
                                    "2": "Kingston",
                                    "3": "Billing"
                                },
                                {
                                    "0": "Security Racks and Locks Wholesalers",
                                    "1": "910 Main Street.",
                                    "2": "Sparks",
                                    "3": "Billing"
                                },
                                {
                                    "0": "Sellers of Cycles",
                                    "1": "700 Se Sunnyside Road",
                                    "2": "Clackamas",
                                    "3": "Billing"
                                },
                                {
                                    "0": "Separate Parts Corporation",
                                    "1": "440 West Huntington Dr.",
                                    "2": "Monrovia",
                                    "3": "Billing"
                                },
                                {
                                    "0": "Serious Cycles",
                                    "1": "Suite 99320 255 - 510th Avenue S.W.",
                                    "2": "Calgary",
                                    "3": "Billing"
                                },
                                {
                                    "0": "Sharp Bikes",
                                    "1": "52560 Free Street",
                                    "2": "Toronto",
                                    "3": "Billing"
                                },
                                {
                                    "0": "Sheet Metal Manufacturing",
                                    "1": "25306 Harvey Rd.",
                                    "2": "College Station",
                                    "3": "Billing"
                                },
                                {
                                    "0": "Shipping Specialists",
                                    "1": "25 Hartfield Road, Wimbledon",
                                    "2": "London",
                                    "3": "Billing"
                                },
                                {
                                    "0": "Sixth Bike Store",
                                    "1": "Suite 25800 3401 - 10810th Avenue",
                                    "2": "Surrey",
                                    "3": "Billing"
                                },
                                {
                                    "0": "Sleek Bikes ",
                                    "1": "44025 W. Empire",
                                    "2": "Denby",
                                    "3": "Billing"
                                },
                                {
                                    "0": "Small Bike Shop",
                                    "1": "Corp Ofc Accts Payable",
                                    "2": "El Segundo",
                                    "3": "Billing"
                                },
                                {
                                    "0": "Small Cycle Store",
                                    "1": "Horizon Outlet Center",
                                    "2": "Holland",
                                    "3": "Billing"
                                },
                                {
                                    "0": "Social Activities Club",
                                    "1": "23025 S.W. Military Rd.",
                                    "2": "San Antonio",
                                    "3": "Billing"
                                },
                                {
                                    "0": "Solid Bike Parts",
                                    "1": "Lincoln Square",
                                    "2": "Arlington",
                                    "3": "Billing"
                                },
                                {
                                    "0": "Some Discount Store",
                                    "1": "Frontier Mall",
                                    "2": "Cheyenne",
                                    "3": "Billing"
                                },
                                {
                                    "0": "South Bike Company",
                                    "1": "Po Box 83270",
                                    "2": "Vancouver",
                                    "3": "Billing"
                                },
                                {
                                    "0": "Sparkling Paint and Finishes",
                                    "1": "San Diego Factory",
                                    "2": "San Ysidro",
                                    "3": "Billing"
                                },
                                {
                                    "0": "Specialty Sports Store",
                                    "1": "52500 Liberty Way",
                                    "2": "Fort Worth",
                                    "3": "Billing"
                                },
                                {
                                    "0": "Sports Commodities",
                                    "1": "253950 N.E. 178th Place",
                                    "2": "Woodinville",
                                    "3": "Billing"
                                },
                                {
                                    "0": "Sports Merchandise",
                                    "1": "558 S 6th St",
                                    "2": "Klamath Falls",
                                    "3": "Billing"
                                },
                                {
                                    "0": "Sports Products Store",
                                    "1": "Po Box 252525",
                                    "2": "Santa Ana",
                                    "3": "Billing"
                                },
                                {
                                    "0": "Sports Store",
                                    "1": "Internet House, 3399 Science Park",
                                    "2": "Cambridge",
                                    "3": "Billing"
                                },
                                {
                                    "0": "Standard Bikes",
                                    "1": "9979 Bayview Drive",
                                    "2": "Barrie",
                                    "3": "Billing"
                                },
                                {
                                    "0": "Stationary Bikes and Stands",
                                    "1": "Sapp Road West",
                                    "2": "Round Rock",
                                    "3": "Billing"
                                },
                                {
                                    "0": "Stock Parts and Supplies",
                                    "1": "99295 S.e. Tualatin Valley_hwy.",
                                    "2": "Hillsboro",
                                    "3": "Billing"
                                },
                                {
                                    "0": "Sturdy Toys",
                                    "1": "Pacific West Outlet",
                                    "2": "Gilroy",
                                    "3": "Billing"
                                },
                                {
                                    "0": "Suburban Cycle Shop",
                                    "1": "994 Sw Cherry Park Rd",
                                    "2": "Troutdale",
                                    "3": "Billing"
                                },
                                {
                                    "0": "Successful Sales Company",
                                    "1": "7009 Sw Hall Blvd.",
                                    "2": "Tigard",
                                    "3": "Billing"
                                },
                                {
                                    "0": "Summer Sports Place",
                                    "1": "Ring Plaza",
                                    "2": "Norridge",
                                    "3": "Billing"
                                },
                                {
                                    "0": "Sundry Sporting Goods",
                                    "1": "595 Burning Street",
                                    "2": "Vancouver",
                                    "3": "Billing"
                                },
                                {
                                    "0": "Superb Sales and Repair",
                                    "1": "990th Floor 700 De La GauchetiSre Ou",
                                    "2": "Montreal",
                                    "3": "Billing"
                                },
                                {
                                    "0": "Superior Hardware Distributors",
                                    "1": "250775 SW Hillsdale Hwy",
                                    "2": "Beaverton",
                                    "3": "Billing"
                                },
                                {
                                    "0": "Sure & Reliable Sporting Goods",
                                    "1": "7990 Ocean Beach Hwy.",
                                    "2": "Longview",
                                    "3": "Billing"
                                },
                                {
                                    "0": "Swift Cycles",
                                    "1": "25500 Old Spanish Trail",
                                    "2": "Houston",
                                    "3": "Billing"
                                },
                                {
                                    "0": "Synthetic Materials Manufacturing",
                                    "1": "3390 South 23rd St.",
                                    "2": "Tacoma",
                                    "3": "Billing"
                                },
                                {
                                    "0": "Systematic Sales",
                                    "1": "2551 East Warner Road",
                                    "2": "Gilbert",
                                    "3": "Billing"
                                },
                                {
                                    "0": "Tachometers and Accessories",
                                    "1": "Wymbush",
                                    "2": "Milton Keynes",
                                    "3": "Billing"
                                },
                                {
                                    "0": "Tandem Sales and Service",
                                    "1": "63 Free St.",
                                    "2": "Toronto",
                                    "3": "Billing"
                                },
                                {
                                    "0": "Technical Parts Manufacturing",
                                    "1": "Ontario Mills",
                                    "2": "Ontario",
                                    "3": "Billing"
                                },
                                {
                                    "0": "Tenth Bike Store",
                                    "1": "Depot 80",
                                    "2": "Sillery",
                                    "3": "Billing"
                                },
                                {
                                    "0": "The Accessories Store",
                                    "1": "Medford Outlet Center",
                                    "2": "Medford",
                                    "3": "Billing"
                                },
                                {
                                    "0": "The Bicycle Accessories Company",
                                    "1": "Vista Marketplace",
                                    "2": "Alhambra",
                                    "3": "Billing"
                                },
                                {
                                    "0": "The Bike Shop",
                                    "1": "3250 South Meridian",
                                    "2": "Puyallup",
                                    "3": "Billing"
                                },
                                {
                                    "0": "The Commissary",
                                    "1": "Bureau 9900 825, Avenue Querbes",
                                    "2": "Outremont",
                                    "3": "Billing"
                                },
                                {
                                    "0": "The Gear Store",
                                    "1": "2345 North Freeway",
                                    "2": "Houston",
                                    "3": "Billing"
                                },
                                {
                                    "0": "The New Bike Store",
                                    "1": "Hanford Mall",
                                    "2": "Hanford",
                                    "3": "Billing"
                                },
                                {
                                    "0": "The Showroom",
                                    "1": "4400 March Road",
                                    "2": "Kanata",
                                    "3": "Billing"
                                },
                                {
                                    "0": "Third Bike Store",
                                    "1": "2500 North Stemmons Freeway",
                                    "2": "Dallas",
                                    "3": "Billing"
                                },
                                {
                                    "0": "This Area Sporting Goods",
                                    "1": "25 N State St",
                                    "2": "Chicago",
                                    "3": "Billing"
                                },
                                {
                                    "0": "Thorough Parts and Repair Services",
                                    "1": "S Sound Ctr Suite 25300",
                                    "2": "Lacey",
                                    "3": "Billing"
                                },
                                {
                                    "0": "Thrifty Parts and Sales",
                                    "1": "Oxnard Outlet",
                                    "2": "Oxnard",
                                    "3": "Billing"
                                },
                                {
                                    "0": "Thrilling Bike Tours",
                                    "1": "4660 Rodeo Road",
                                    "2": "Santa Fe",
                                    "3": "Billing"
                                },
                                {
                                    "0": "Tire Exchange",
                                    "1": "9984 Wellington Street",
                                    "2": "Ottawa",
                                    "3": "Billing"
                                },
                                {
                                    "0": "Top Bike Market",
                                    "1": "975 Princess Street",
                                    "2": "Kingston",
                                    "3": "Billing"
                                },
                                {
                                    "0": "Top Sports Supply",
                                    "1": "251420a 170th Street",
                                    "2": "Edmonton",
                                    "3": "Billing"
                                },
                                {
                                    "0": "Totes & Baskets Company",
                                    "1": "72540 Blanco Rd.",
                                    "2": "San Antonio",
                                    "3": "Billing"
                                },
                                {
                                    "0": "Town Industries",
                                    "1": "P.O. Box 6256916",
                                    "2": "Dallas",
                                    "3": "Billing"
                                },
                                {
                                    "0": "Trailblazing Sports",
                                    "1": "251340 E. South St.",
                                    "2": "Cerritos",
                                    "3": "Billing"
                                },
                                {
                                    "0": "Transport Bikes",
                                    "1": "25130 South State Street",
                                    "2": "Sandy",
                                    "3": "Billing"
                                },
                                {
                                    "0": "Transportation Options",
                                    "1": "25900-700-9th Ave S.W.",
                                    "2": "Calgary",
                                    "3": "Billing"
                                },
                                {
                                    "0": "Travel Sports",
                                    "1": "755 Nw Grandstand",
                                    "2": "Issaquah",
                                    "3": "Billing"
                                },
                                {
                                    "0": "Travel Systems",
                                    "1": "2505 Gateway Drive",
                                    "2": "North Sioux City",
                                    "3": "Billing"
                                },
                                {
                                    "0": "Trendy Department Stores",
                                    "1": "25472 Marlay Ave",
                                    "2": "Fontana",
                                    "3": "Billing"
                                },
                                {
                                    "0": "Tubeless Tire Company",
                                    "1": "2574 Milton Park",
                                    "2": "Oxford",
                                    "3": "Billing"
                                },
                                {
                                    "0": "Twelfth Bike Store",
                                    "1": "No. 25400 10665 Jasper Avenue",
                                    "2": "Edmonton",
                                    "3": "Billing"
                                },
                                {
                                    "0": "Two Bike Shops",
                                    "1": "35525-9th Street Sw",
                                    "2": "Puyallup",
                                    "3": "Billing"
                                },
                                {
                                    "0": "Two Wheels Cycle Store",
                                    "1": "77 Beale Street",
                                    "2": "San Francisco",
                                    "3": "Billing"
                                },
                                {
                                    "0": "Two-Seater Bikes",
                                    "1": "5700 Legacy Dr",
                                    "2": "Plano",
                                    "3": "Billing"
                                },
                                {
                                    "0": "Two-Wheeled Transit Company",
                                    "1": "P.O. Box 44000",
                                    "2": "Winnipeg",
                                    "3": "Billing"
                                },
                                {
                                    "0": "Unique Bikes",
                                    "1": "3900 S. 997th St.",
                                    "2": "Milwaukee",
                                    "3": "Billing"
                                },
                                {
                                    "0": "Unsurpassed Bikes",
                                    "1": "Po Box 8035996",
                                    "2": "Dallas",
                                    "3": "Billing"
                                },
                                {
                                    "0": "Up-To-Date Sports",
                                    "1": "2521 McPherson Street",
                                    "2": "Markham",
                                    "3": "Billing"
                                },
                                {
                                    "0": "Urban Sports Emporium",
                                    "1": "2560 Bay Street",
                                    "2": "Toronto",
                                    "3": "Billing"
                                },
                                {
                                    "0": "Utilitarian Sporting Goods",
                                    "1": "4635 S. Harrison Blvd.",
                                    "2": "Ogden",
                                    "3": "Billing"
                                },
                                {
                                    "0": "Uttermost Bike Shop",
                                    "1": "Ellesfield Ave",
                                    "2": "Bracknell",
                                    "3": "Billing"
                                },
                                {
                                    "0": "Vale Riding Supplies",
                                    "1": "Topanga Plaza",
                                    "2": "Canoga Park",
                                    "3": "Billing"
                                },
                                {
                                    "0": "Valley Bicycle Distributors",
                                    "1": "5867 Sunrise Boulevard",
                                    "2": "Citrus Heights",
                                    "3": "Billing"
                                },
                                {
                                    "0": "Valley Bicycle Specialists",
                                    "1": "Blue Ridge Mall",
                                    "2": "Kansas City",
                                    "3": "Billing"
                                },
                                {
                                    "0": "Valley Toy Store",
                                    "1": "252851 Rowan Place",
                                    "2": "Richmond",
                                    "3": "Billing"
                                },
                                {
                                    "0": "Variety Cycling",
                                    "1": "46-44 Albemarle Street",
                                    "2": "London",
                                    "3": "Billing"
                                },
                                {
                                    "0": "Vast Bike Sales and Rental",
                                    "1": "Lewis County Mall",
                                    "2": "Chehalis",
                                    "3": "Billing"
                                },
                                {
                                    "0": "Vehicle Shop",
                                    "1": "Pavillion @ Redlands",
                                    "2": "Redlands",
                                    "3": "Billing"
                                },
                                {
                                    "0": "Vigorous Exercise Company",
                                    "1": "9950 Ferrand Drive, 9th Floor",
                                    "2": "Toronto",
                                    "3": "Billing"
                                },
                                {
                                    "0": "Vigorous Sports Store",
                                    "1": "Banbury",
                                    "2": "Oxon",
                                    "3": "Billing"
                                },
                                {
                                    "0": "Vintage Sport Boutique",
                                    "1": "22571 South 2500 East",
                                    "2": "Idaho Falls",
                                    "3": "Billing"
                                },
                                {
                                    "0": "Vinyl and Plastic Goods Corporation",
                                    "1": "No. 25800-130 King Street West",
                                    "2": "Toronto",
                                    "3": "Billing"
                                },
                                {
                                    "0": "Weekend Bike Tours",
                                    "1": "630 N. Capitol Ave.",
                                    "2": "San Jose",
                                    "3": "Billing"
                                },
                                {
                                    "0": "West Side Mart",
                                    "1": "251 The Metro Center",
                                    "2": "Wokingham",
                                    "3": "Billing"
                                },
                                {
                                    "0": "Western Bike Supplies",
                                    "1": "566 S. Main",
                                    "2": "Cedar City",
                                    "3": "Billing"
                                },
                                {
                                    "0": "Westside Cycle Store",
                                    "1": "25550 Executive Dr",
                                    "2": "Elgin",
                                    "3": "Billing"
                                },
                                {
                                    "0": "Westside Plaza",
                                    "1": "99040 California Avenue",
                                    "2": "Sand City",
                                    "3": "Billing"
                                },
                                {
                                    "0": "Wheel Gallery",
                                    "1": "9920 Bridgepointe Parkway",
                                    "2": "San Mateo",
                                    "3": "Billing"
                                },
                                {
                                    "0": "Wholesale Parts",
                                    "1": "655-4th Ave S.W.",
                                    "2": "Calgary",
                                    "3": "Billing"
                                },
                                {
                                    "0": "Wingtip Toys",
                                    "1": "755 Columbia Ctr Blvd",
                                    "2": "Kennewick",
                                    "3": "Billing"
                                },
                                {
                                    "0": "Wire Baskets and Parts",
                                    "1": "Mall Of Orange",
                                    "2": "Orange",
                                    "3": "Billing"
                                },
                                {
                                    "0": "Work and Play Association",
                                    "1": "2533 Eureka Rd.",
                                    "2": "Southgate",
                                    "3": "Billing"
                                },
                                {
                                    "0": "Workout Emporium",
                                    "1": "700 Bureau Road",
                                    "2": "Montreal",
                                    "3": "Billing"
                                },
                                {
                                    "0": "World Bike Discount Store",
                                    "1": "3065 Santa Margarita Parkway",
                                    "2": "Trabuco Canyon",
                                    "3": "Billing"
                                },
                                {
                                    "0": "World of Bikes",
                                    "1": "660 Lindbergh",
                                    "2": "Saint Louis",
                                    "3": "Billing"
                                },
                                {
                                    "0": "Year-Round Sports",
                                    "1": "2583 Se 272nd St",
                                    "2": "Kent",
                                    "3": "Billing"
                                },
                                {
                                    "0": "Yellow Bicycle Company",
                                    "1": "St. Louis Marketplace",
                                    "2": "Saint Louis",
                                    "3": "Billing"
                                }
                            ]
                        },
                        "text/html": "<table><tr><th>CompanyName</th><th>AddressLine1</th><th>City</th><th>AddressType</th></tr><tr><td>A Bike Store</td><td>2251 Elliot Avenue</td><td>Seattle</td><td>Billing</td></tr><tr><td>A Great Bicycle Company</td><td>6030 Robinson Road</td><td>Jefferson City</td><td>Billing</td></tr><tr><td>A Typical Bike Shop</td><td>One Dancing, Rr No. 25</td><td>Round Rock</td><td>Billing</td></tr><tr><td>Acceptable Sales &amp; Service</td><td>6400, 888 - 3rd Avenue</td><td>Calgary</td><td>Billing</td></tr><tr><td>Action Bicycle Specialists</td><td>Warrington Ldc Unit 25/2</td><td>Woolston</td><td>Billing</td></tr><tr><td>Active Life Toys</td><td>55 Standish Court</td><td>Mississauga</td><td>Billing</td></tr><tr><td>Active Systems</td><td>9995 West Central Entrance</td><td>Duluth</td><td>Billing</td></tr><tr><td>Advanced Bike Components</td><td>12345 Sterling Avenue</td><td>Irving</td><td>Billing</td></tr><tr><td>Aerobic Exercise Company</td><td>39933 Mission Oaks Blvd</td><td>Camarillo</td><td>Billing</td></tr><tr><td>Affordable Sports Equipment</td><td>Lake Elisnor Place</td><td>Lake Elsinore</td><td>Billing</td></tr><tr><td>All Cycle Shop</td><td>25111 228th St Sw</td><td>Bothell</td><td>Billing</td></tr><tr><td>All Cycle Shop</td><td>8713 Yosemite Ct.</td><td>Bothell</td><td>Shipping</td></tr><tr><td>All Seasons Sports Supply</td><td>Ohms Road</td><td>Houston</td><td>Billing</td></tr><tr><td>Alpine Ski House</td><td>7505 Laguna Boulevard</td><td>Elk Grove</td><td>Billing</td></tr><tr><td>Alternative Vehicles</td><td>3307 Evergreen Blvd</td><td>Washougal</td><td>Billing</td></tr><tr><td>Another Bicycle Company</td><td>567 Sw Mcloughlin Blvd</td><td>Milwaukie</td><td>Billing</td></tr><tr><td>Area Bike Accessories</td><td>6900 Sisk Road</td><td>Modesto</td><td>Billing</td></tr><tr><td>Area Sheet Metal Supply</td><td>399 Clearing Green</td><td>London</td><td>Billing</td></tr><tr><td>Associated Bikes</td><td>5420 West 22500 South</td><td>Salt Lake City</td><td>Billing</td></tr><tr><td>Authentic Sales and Service</td><td>99 Dean Street, Soho</td><td>London</td><td>Billing</td></tr><tr><td>Authorized Bike Sales and Rental</td><td>490 Ne 4th St</td><td>Renton</td><td>Billing</td></tr><tr><td>Basic Bike Company</td><td>15 East Main</td><td>Port Orchard</td><td>Billing</td></tr><tr><td>Basic Sports Equipment</td><td>3250 Baldwin Park Blvd</td><td>Baldwin Park</td><td>Billing</td></tr><tr><td>Beneficial Exercises and Activities</td><td>6425 Nw Loop 410</td><td>San Antonio</td><td>Billing</td></tr><tr><td>Best o' Bikes</td><td>250880 Baur Blvd</td><td>Saint Louis</td><td>Billing</td></tr><tr><td>Bicycle Accessories and Kits</td><td>Lewiston Mall</td><td>Lewiston</td><td>Billing</td></tr><tr><td>Bicycle Lines Distributors</td><td>6996 South Lindbergh</td><td>Saint Louis</td><td>Billing</td></tr><tr><td>Bicycle Merchandise Warehouse</td><td>409 Santa Monica Blvd.</td><td>Santa Monica</td><td>Billing</td></tr><tr><td>Big Cycle Mall</td><td>9500b E. Central Texas Expressway</td><td>Killeen</td><td>Billing</td></tr><tr><td>Big-Time Bike Store</td><td>9909 W. Ventura Boulevard</td><td>Camarillo</td><td>Billing</td></tr><tr><td>Bike Dealers Association</td><td>9952 E. Lohman Ave.</td><td>Las Cruces</td><td>Billing</td></tr><tr><td>Bike Experts</td><td>Lancaster Mall</td><td>Salem</td><td>Billing</td></tr><tr><td>Bike World</td><td>60025 Bollinger Canyon Road</td><td>San Ramon</td><td>Billing</td></tr><tr><td>Bikes and Motorbikes</td><td>22580 Free Street</td><td>Toronto</td><td>Billing</td></tr><tr><td>Bikes for Kids and Adults</td><td>9900 Ronson Drive</td><td>Etobicoke</td><td>Billing</td></tr><tr><td>Bikes for Two</td><td>63 West Beaver Creek</td><td>Richmond Hill</td><td>Billing</td></tr><tr><td>Black Bicycle Company</td><td>Factory Merchants</td><td>Branson</td><td>Billing</td></tr><tr><td>Blue Bicycle Company</td><td>Horizon Outlet Center</td><td>Monroe</td><td>Billing</td></tr><tr><td>Bold Bike Accessories</td><td>Rocky Mountain Pines Outlet</td><td>Loveland</td><td>Billing</td></tr><tr><td>Brakes and Gears</td><td>9927 N. Main St.</td><td>Tooele</td><td>Billing</td></tr><tr><td>Brightwork Company</td><td>Belz Factory Outlet</td><td>Las Vegas</td><td>Billing</td></tr><tr><td>Bulk Discount Store</td><td>93-2501, Blackfriars Road,</td><td>London</td><td>Billing</td></tr><tr><td>Camping and Sports Store</td><td>400-25155 West Pender St</td><td>Vancouver</td><td>Billing</td></tr><tr><td>Capable Sales and Service</td><td>765 Delridge Way Sw</td><td>Seattle</td><td>Billing</td></tr><tr><td>Cash &amp; Carry Bikes</td><td>Lakeline Mall</td><td>Cedar Park</td><td>Billing</td></tr><tr><td>Catalog Store</td><td>855 East Main Avenue</td><td>Zeeland</td><td>Billing</td></tr><tr><td>Center Cycle Shop</td><td>99300 223rd Southeast</td><td>Bothell</td><td>Billing</td></tr><tr><td>Center Cycle Shop</td><td>1318 Lasalle Street</td><td>Bothell</td><td>Shipping</td></tr><tr><td>Central Bicycle Specialists</td><td>6 The Farm, Liberty Road</td><td>Maidenhead</td><td>Billing</td></tr><tr><td>Central Discount Store</td><td>259826 Russell Rd. South</td><td>Kent</td><td>Billing</td></tr><tr><td>Certified Bicycle Supply</td><td>2345 West Spencer Road</td><td>Lynnwood</td><td>Billing</td></tr><tr><td>Certified Sports Supply</td><td>250551 Shellbridge Way</td><td>Richmond</td><td>Billing</td></tr><tr><td>Channel Outlet</td><td>Knaves Beech Ind.</td><td>High Wycombe</td><td>Billing</td></tr><tr><td>Chic Department Stores</td><td>90025 Sterling St</td><td>Irving</td><td>Billing</td></tr><tr><td>City Manufacturing</td><td>3025 E Waterway Blvd</td><td>Shelton</td><td>Billing</td></tr><tr><td>Citywide Service and Repair</td><td>Box 99354 300 Union Street</td><td>Saint John</td><td>Billing</td></tr><tr><td>Client Discount Store</td><td>Noah Lane</td><td>Chicago</td><td>Billing</td></tr><tr><td>Closeout Boutique</td><td>1050 Oak Street</td><td>Seattle</td><td>Billing</td></tr><tr><td>Closest Bicycle Store</td><td>Garamonde Drive, Wymbush</td><td>Milton Keynes</td><td>Billing</td></tr><tr><td>Coalition Bike Company</td><td>Corporate Office</td><td>El Segundo</td><td>Billing</td></tr><tr><td>Coho Sports</td><td>705 SE Mall Parkway</td><td>Everett</td><td>Billing</td></tr><tr><td>Commendable Bikes</td><td>4781 Highway 95</td><td>Sandpoint</td><td>Billing</td></tr><tr><td>Commerce Bicycle Specialists</td><td>Wharfdale Road</td><td>Berkshire</td><td>Billing</td></tr><tr><td>Commercial Sporting Goods</td><td>9700 Sisk Road</td><td>Modesto</td><td>Billing</td></tr><tr><td>Commuter Bicycle Store</td><td>2575 Bloor Street East</td><td>Toronto</td><td>Billing</td></tr><tr><td>Consolidated Messenger</td><td>25 Danger Street West</td><td>Toronto</td><td>Billing</td></tr><tr><td>Convenient Sales and Service</td><td>950 Gateway Street</td><td>Springfield</td><td>Billing</td></tr><tr><td>Corner Bicycle Supply</td><td>2511 Baker Road</td><td>Toronto</td><td>Billing</td></tr><tr><td>Countryside Company</td><td>825 W 500 S</td><td>Bountiful</td><td>Billing</td></tr><tr><td>Courteous Bicycle Specialists</td><td>995 Crescent</td><td>Richmond Hill</td><td>Billing</td></tr><tr><td>Cross-Country Riding Supplies</td><td>Station E</td><td>Chalk Riber</td><td>Billing</td></tr><tr><td>Custom Accessories Company</td><td>251 Indell Lane</td><td>Brampton</td><td>Billing</td></tr><tr><td>Cycle Clearance</td><td>2255 254th Avenue Se</td><td>Albany</td><td>Billing</td></tr><tr><td>Cycle Merchants</td><td>575 Rue St Amable</td><td>Quebec</td><td>Billing</td></tr><tr><td>Cycles Wholesaler &amp; Mfg.</td><td>Science Park South, Birchwood</td><td>Warrington</td><td>Billing</td></tr><tr><td>Cycling Goods</td><td>997b Tradescant Road</td><td>London</td><td>Billing</td></tr><tr><td>Demand Distributors</td><td>25102 Springwater</td><td>Wenatchee</td><td>Billing</td></tr><tr><td>Designated Distributors</td><td>254 Colonnade Road</td><td>Nepean</td><td>Billing</td></tr><tr><td>Discount Bicycle Specialists</td><td>25269 Wood Dale Rd.</td><td>Wood Dale</td><td>Billing</td></tr><tr><td>Discount Tours</td><td>603 Gellert Blvd</td><td>Daly City</td><td>Billing</td></tr><tr><td>Distant Inn</td><td>25001 Montague Expressway</td><td>Milpitas</td><td>Billing</td></tr><tr><td>Distinctive Store</td><td>Factory Merchants</td><td>Barstow</td><td>Billing</td></tr><tr><td>District Mall</td><td>25095 W. Florissant</td><td>Ferguson</td><td>Billing</td></tr><tr><td>Downhill Bicycle Specialists</td><td>725a The Arches</td><td>Berks</td><td>Billing</td></tr><tr><td>Downtown Hotel</td><td>2560 E. Newlands Dr</td><td>Fernley</td><td>Billing</td></tr><tr><td>Eastside Department Store</td><td>9992 Whipple Rd</td><td>Union City</td><td>Billing</td></tr><tr><td>Eastside Parts Shop</td><td>7000 Victoria Park Avenue</td><td>Toronto</td><td>Billing</td></tr><tr><td>Economy Bikes Company</td><td>72502 Eastern Ave.</td><td>Bell Gardens</td><td>Billing</td></tr><tr><td>Economy Center</td><td>6th Floor, 25st Canadian Place</td><td>Toronto</td><td>Billing</td></tr><tr><td>Efficient Cycling</td><td>250333 Southport Road, S.W.</td><td>Calgary</td><td>Billing</td></tr><tr><td>Eighth Bike Store</td><td>2500 N Serene Blvd</td><td>El Segundo</td><td>Billing</td></tr><tr><td>Elite Bikes</td><td>Po Box 8259024</td><td>Dallas</td><td>Billing</td></tr><tr><td>Elite Bikes</td><td>9178 Jumping St.</td><td>Dallas</td><td>Shipping</td></tr><tr><td>Engineered Bike Systems</td><td>123 Camelia Avenue</td><td>Oxnard</td><td>Billing</td></tr><tr><td>Essential Bike Works</td><td>New Millhouse, 2583 Milton Park</td><td>Abingdon</td><td>Billing</td></tr><tr><td>Exceptional Cycle Services</td><td>Wade Road</td><td>Basingstoke Hants</td><td>Billing</td></tr><tr><td>Exclusive Bicycle Mart</td><td>Butterfield Hse, 7-251 Chapel St</td><td>Lancaster</td><td>Billing</td></tr><tr><td>Exercise Center</td><td>Stevens Creek Shopping Center</td><td>San Jose</td><td>Billing</td></tr><tr><td>Exhibition Showroom</td><td>Garamonde Drive, Wymbush</td><td>Milton Keynes</td><td>Billing</td></tr><tr><td>Exhilarating Cycles</td><td>Kensington Valley Shops</td><td>Howell</td><td>Billing</td></tr><tr><td>Express Bike Services</td><td>586 Fulham Road,</td><td>London</td><td>Billing</td></tr><tr><td>Extended Bike Sales</td><td>The Citadel Commerce Plaza</td><td>City Of Commerce</td><td>Billing</td></tr><tr><td>Extended Tours</td><td>7 Garden House Cloisters, 8 Batters</td><td>London</td><td>Billing</td></tr><tr><td>Extraordinary Bike Works</td><td>Town East Center</td><td>Mesquite</td><td>Billing</td></tr><tr><td>Extras Sporting Goods</td><td>625 W Jackson Blvd. Unit 2502</td><td>Chicago</td><td>Billing</td></tr><tr><td>Extreme Riding Supplies</td><td>Riverside</td><td>Sherman Oaks</td><td>Billing</td></tr><tr><td>Fabrikam Inc., West</td><td>46460 West Oaks Drive</td><td>Novi</td><td>Billing</td></tr><tr><td>Fad Outlet</td><td>2550 Ne Sandy Blvd</td><td>Portland</td><td>Billing</td></tr><tr><td>Family Cycle Store</td><td>660 Saint-Jacques, Bureau 400</td><td>Montreal</td><td>Billing</td></tr><tr><td>Family Entertainment Center</td><td>25718 Se Sunnyside Rd</td><td>Clackamas</td><td>Billing</td></tr><tr><td>Family's Favorite Bike Shop</td><td>25981 College Street</td><td>Montreal</td><td>Billing</td></tr><tr><td>Family's Favorite Bike Shop</td><td>26910 Indela Road</td><td>Montreal</td><td>Shipping</td></tr><tr><td>Famous Bike Shop</td><td>999 West Georgia St.</td><td>Vancouver</td><td>Billing</td></tr><tr><td>Farthermost Bike Shop</td><td>99000 S. Avalon Blvd. Suite 750</td><td>Carson</td><td>Billing</td></tr><tr><td>Farthest Bike Store</td><td>45259 Canada Way</td><td>Burnaby</td><td>Billing</td></tr><tr><td>Fashionable Bikes and Accessories</td><td>Sports Store At Park City</td><td>Park City</td><td>Billing</td></tr><tr><td>Fasteners &amp; Bolts Outlet</td><td>9960 King Street E.</td><td>Toronto</td><td>Billing</td></tr><tr><td>Field Trip Inc</td><td>997000 Telegraph Rd.</td><td>Southfield</td><td>Billing</td></tr><tr><td>Field Trip Store</td><td>2575 Rocky Mountain Ave.</td><td>Loveland</td><td>Billing</td></tr><tr><td>Fifth Bike Store</td><td>2502 Evergreen Ste E</td><td>Everett</td><td>Billing</td></tr><tr><td>Finer Cycle Shop</td><td>2500-622 5th Ave Sw</td><td>Calgary</td><td>Billing</td></tr><tr><td>Finer Mart</td><td>640 South 994th St. W.</td><td>Billings</td><td>Billing</td></tr><tr><td>Finer Parts Shop</td><td>2526a Tri-Lake Blvd Ne</td><td>Kirkland</td><td>Billing</td></tr><tr><td>Finer Riding Supplies</td><td>#9900 2700 Production Way</td><td>Burnaby</td><td>Billing</td></tr><tr><td>Finish and Sealant Products</td><td>25150 El Camino Real</td><td>San Bruno</td><td>Billing</td></tr><tr><td>First Bike Store</td><td>Kansas City Factory Outlet</td><td>Odessa</td><td>Billing</td></tr><tr><td>First Cycle Store</td><td>25250 N 90th St</td><td>Scottsdale</td><td>Billing</td></tr><tr><td>First Department Stores</td><td>2540 Dell Range Blvd</td><td>Cheyenne</td><td>Billing</td></tr><tr><td>First-Rate Outlet</td><td>25537 Hillside Avenue</td><td>Victoria</td><td>Billing</td></tr><tr><td>Fitness Cycling</td><td>The Quad @ WestView</td><td>Whittier</td><td>Billing</td></tr><tr><td>Fitness Department Stores</td><td>7750 E Marching Rd</td><td>Scottsdale</td><td>Billing</td></tr><tr><td>Fitness Hotel</td><td>74400 France Avenue South</td><td>Edina</td><td>Billing</td></tr><tr><td>Fitness Supplies</td><td>755 W Washington Ave Ste D</td><td>Sequim</td><td>Billing</td></tr><tr><td>Fitness Toy Store</td><td>220 Mercy Drive</td><td>Garland</td><td>Billing</td></tr><tr><td>Fleet Bikes</td><td>54254 Pacific Ave.</td><td>Stockton</td><td>Billing</td></tr><tr><td>Friendly Bike Shop</td><td>750 Lakeway Dr</td><td>Bellingham</td><td>Billing</td></tr><tr><td>Friendly Bike Shop</td><td>Port Huron</td><td>Port Huron</td><td>Billing</td></tr><tr><td>Friendly Neighborhood Bikes</td><td>Johnson Creek</td><td>Johnson Creek</td><td>Billing</td></tr><tr><td>Front Sporting Goods</td><td>257700 Ne 76th Street</td><td>Redmond</td><td>Billing</td></tr><tr><td>Frugal Bike Shop</td><td>2575 West 2700 South</td><td>Salt Lake City</td><td>Billing</td></tr><tr><td>Full-Service Bike Store</td><td>9920 North Telegraph Rd.</td><td>Pontiac</td><td>Billing</td></tr><tr><td>Fun Times Club</td><td>8525 South Parker Road</td><td>Parker</td><td>Billing</td></tr><tr><td>Fun Toys and Bikes</td><td>6500 East Grant Road</td><td>Tucson</td><td>Billing</td></tr><tr><td>Future Bikes</td><td>67255 - 8th Street N.E., Suite 350</td><td>Calgary</td><td>Billing</td></tr><tr><td>Futuristic Bikes</td><td>25136 Jefferson Blvd.</td><td>Culver City</td><td>Billing</td></tr><tr><td>Futuristic Sport Distributors</td><td>5525 South Hover Road</td><td>Longmont</td><td>Billing</td></tr><tr><td>Gasless Cycle Shop</td><td>25 First Canadian Place</td><td>Toronto</td><td>Billing</td></tr><tr><td>Gear-Shift Bikes Limited</td><td>2512-4th Ave Sw</td><td>Calgary</td><td>Billing</td></tr><tr><td>General Bike Corporation</td><td>69251 Creditview Road</td><td>Mississauga</td><td>Billing</td></tr><tr><td>General Cycle Storehouse</td><td>30025 Wayburne Drive, Suite 275</td><td>Burnaby</td><td>Billing</td></tr><tr><td>General Department Stores</td><td>253131 Lake Frasier Drive, Office No. 2</td><td>Calgary</td><td>Billing</td></tr><tr><td>General Industries</td><td>9259 - 1110th Avenue Sw</td><td>Calgary</td><td>Billing</td></tr><tr><td>General Riding Supplies</td><td>43251 Viking Way, Unit 130</td><td>Richmond</td><td>Billing</td></tr><tr><td>General Supplies</td><td>9693 Louis H Lafontaine</td><td>Ville De'anjou</td><td>Billing</td></tr><tr><td>Genial Bike Associates</td><td>99450 Highway 59 North</td><td>Humble</td><td>Billing</td></tr><tr><td>Genuine Bike Shop</td><td>7760 N. Pan Am Expwy</td><td>San Antonio</td><td>Billing</td></tr><tr><td>Gift and Toy Store</td><td>Sports Stores @ Tuscola</td><td>Tuscola</td><td>Billing</td></tr><tr><td>Go-cart and Bike Specialists</td><td>2509 W. Frankford</td><td>Carrollton</td><td>Billing</td></tr><tr><td>Golf and Cycle Store</td><td>5500 Grossmont Center Drive</td><td>La Mesa</td><td>Billing</td></tr><tr><td>Good Bike Shop</td><td>99433 S. Greenbay Rd.</td><td>Racine</td><td>Billing</td></tr><tr><td>Good Toys</td><td>99700 Bell Road</td><td>Auburn</td><td>Billing</td></tr><tr><td>Grand Bicycle Stores</td><td>48255 I-10 E. @ Eastpoint Blvd.</td><td>Baytown</td><td>Billing</td></tr><tr><td>Grand Industries</td><td>6333 Cote Vertu</td><td>Montreal</td><td>Billing</td></tr><tr><td>Grand Sport Boutique</td><td>99800 Tittabawasee Rd.</td><td>Saginaw</td><td>Billing</td></tr><tr><td>Grease and Oil Products Company</td><td>9903 Highway 6 South</td><td>Houston</td><td>Billing</td></tr><tr><td>Great Bicycle Supply</td><td>455 256th St.</td><td>Moline</td><td>Billing</td></tr><tr><td>Great Bikes </td><td>Eastridge Mall</td><td>Casper</td><td>Billing</td></tr><tr><td>Greater Bike Store</td><td>55 Lakeshore Blvd East</td><td>Toronto</td><td>Billing</td></tr><tr><td>Handy Bike Services</td><td>399700 John R. Rd.</td><td>Madison Heights</td><td>Billing</td></tr><tr><td>Hardware Components</td><td>City Center</td><td>Minneapolis</td><td>Billing</td></tr><tr><td>Hardware Components</td><td>99 Front Street</td><td>Minneapolis</td><td>Shipping</td></tr><tr><td>Health Spa, Limited</td><td>2500 University Avenue</td><td>Toronto</td><td>Billing</td></tr><tr><td>Highway Bike Shop</td><td>Simi @ The Plaza</td><td>Simi Valley</td><td>Billing</td></tr><tr><td>Historic Bicycle Sales</td><td>Redford Plaza</td><td>Redford</td><td>Billing</td></tr><tr><td>Home Town Bike Store</td><td>955 Green Valley Crescent</td><td>Ottawa</td><td>Billing</td></tr><tr><td>Honest Repair Service</td><td>Three Rivers Mall</td><td>Kelso</td><td>Billing</td></tr><tr><td>Immense Manufacturing Company</td><td>70 N.W. Plaza</td><td>Saint Ann</td><td>Billing</td></tr><tr><td>Imported and Domestic Cycles</td><td>22589 West Craig Road</td><td>North Las Vegas</td><td>Billing</td></tr><tr><td>Initial Bike Company</td><td>789 West Alameda</td><td>Westminster</td><td>Billing</td></tr><tr><td>Instruments and Parts Company</td><td>Phoenix Way, Cirencester</td><td>Gloucestershire</td><td>Billing</td></tr><tr><td>Journey Sporting Goods</td><td>509 Nafta Boulevard</td><td>Laredo</td><td>Billing</td></tr><tr><td>Kickstand Sellers</td><td>6789 Warren Road</td><td>Westland</td><td>Billing</td></tr><tr><td>Kickstands and Accessories Company</td><td>25300 Biddle Road</td><td>Medford</td><td>Billing</td></tr><tr><td>Large Bike Shop</td><td>600 Boul. Rene-levesque Ouest</td><td>Montreal</td><td>Billing</td></tr><tr><td>Largest Bike Store</td><td>63 W Monroe</td><td>Chicago</td><td>Billing</td></tr><tr><td>Latest Accessories Sales</td><td>Gateway</td><td>Portland</td><td>Billing</td></tr><tr><td>Latest Sports Equipment</td><td>4251 First Avenue</td><td>Seattle</td><td>Billing</td></tr><tr><td>Leading Sales &amp; Repair</td><td>25149 Howard Dr</td><td>West Chicago</td><td>Billing</td></tr><tr><td>Leather Seat Factory</td><td>9900-6400 Boul, Taschereau</td><td>Brossard</td><td>Billing</td></tr><tr><td>Leisure Activities</td><td>65 Gamelin Street</td><td>Hull</td><td>Billing</td></tr><tr><td>Leisure Clearing House</td><td>Unit 99a Battery Retail Pk</td><td>Birmingham</td><td>Billing</td></tr><tr><td>Little Bicycle Supply Shop</td><td>Cedar Creek Stores</td><td>Mosinee</td><td>Billing</td></tr><tr><td>Local Hardware Factory</td><td>42500 W 76th St</td><td>Chicago</td><td>Billing</td></tr><tr><td>Local Sales and Rental</td><td>1200 First Ave.</td><td>Joliet</td><td>Billing</td></tr><tr><td>Locks Company</td><td>70259 West Sunnyview Ave</td><td>Visalia</td><td>Billing</td></tr><tr><td>Lots of Bikes Storehouse</td><td>4255 East Lies Road</td><td>Carol Stream</td><td>Billing</td></tr><tr><td>Low Price Cycles</td><td>Suite 500 995 W. 11th Avenue</td><td>Mississauga</td><td>Billing</td></tr><tr><td>Machines &amp; Cycles Store</td><td>25245 Rue Sherbrooke Ouest</td><td>Montreal</td><td>Billing</td></tr><tr><td>Mail Market</td><td>308-3250 Casting Road</td><td>York</td><td>Billing</td></tr><tr><td>Mail-Order Outlet</td><td>409 S. Main Ste. 25</td><td>Ellensburg</td><td>Billing</td></tr><tr><td>Maintenance and Repair for Bicycles</td><td>Lone Star Factory</td><td>La Marque</td><td>Billing</td></tr><tr><td>Major Cycling</td><td>46990 Viking Way</td><td>Richmond</td><td>Billing</td></tr><tr><td>Major Sport Suppliers</td><td>White Mountain Mall</td><td>Rock Springs</td><td>Billing</td></tr><tr><td>Major Sporting Goods</td><td>9980 S Alma School Road</td><td>Chandler</td><td>Billing</td></tr><tr><td>Many Bikes Store</td><td>Receiving</td><td>Fullerton</td><td>Billing</td></tr><tr><td>Mechanical Products Ltd.</td><td>22555 Paseo De Las Americas</td><td>San Diego</td><td>Billing</td></tr><tr><td>Mercantile Outlet</td><td>2520 Flanders Road</td><td>Toronto</td><td>Billing</td></tr><tr><td>Metal Clearing House</td><td>3255 Front Street West</td><td>Toronto</td><td>Billing</td></tr><tr><td>Metal Processing Company</td><td>770 Notre Datme Quest Bureau 800</td><td>Montreal</td><td>Billing</td></tr><tr><td>Metro Bike Works</td><td>250000 Eight Mile Road</td><td>Detroit</td><td>Billing</td></tr><tr><td>Metro Cycle Shop</td><td>2507 Pacific Ave S</td><td>Tacoma</td><td>Billing</td></tr><tr><td>Metro Manufacturing</td><td>2550 Signet Drive</td><td>Weston</td><td>Billing</td></tr><tr><td>Metro Metals Co.</td><td>2524 Barlby Road</td><td>London</td><td>Billing</td></tr><tr><td>Metropolitan Bicycle Supply</td><td>Paramount House</td><td>London</td><td>Billing</td></tr><tr><td>Metropolitan Manufacturing</td><td>Parkway Plaza</td><td>El Cajon</td><td>Billing</td></tr><tr><td>Metropolitan Sports Supply</td><td>482505 Warm Springs Blvd.</td><td>Fremont</td><td>Billing</td></tr><tr><td>Moderately-Priced Bikes Store</td><td>67 Rainer Ave S</td><td>Renton</td><td>Billing</td></tr><tr><td>Modular Cycle Systems</td><td>800 Interchange Blvd.</td><td>Austin</td><td>Billing</td></tr><tr><td>Modular Cycle Systems</td><td>165 North Main</td><td>Austin</td><td>Shipping</td></tr><tr><td>More Bikes!</td><td>25600 E St Andrews Pl</td><td>Santa Ana</td><td>Billing</td></tr><tr><td>Mountain Bike Center</td><td>6756 Mowry</td><td>Newark</td><td>Billing</td></tr><tr><td>Mountain Toy Store</td><td>First Colony Mall</td><td>Sugar Land</td><td>Billing</td></tr><tr><td>National Manufacturing</td><td>630 University Avenue</td><td>Toronto</td><td>Billing</td></tr><tr><td>Nearby Cycle Shop</td><td>Burgess Hill</td><td>West Sussex</td><td>Billing</td></tr><tr><td>Nearby Sporting Goods</td><td>Bradford</td><td>W. York</td><td>Billing</td></tr><tr><td>Neighborhood Store</td><td>6777 Kingsway</td><td>Burnaby</td><td>Billing</td></tr><tr><td>Nice Bikes</td><td>Suite 800 2530 Slater Street</td><td>Ottawa</td><td>Billing</td></tr><tr><td>Nonskid Tire Company</td><td>Holiday Village Mall</td><td>Great Falls</td><td>Billing</td></tr><tr><td>Non-Slip Pedal Company</td><td>258 King Street East</td><td>Toronto</td><td>Billing</td></tr><tr><td>Novelty Bikes</td><td>998 Forest Road</td><td>Saginaw</td><td>Billing</td></tr><tr><td>Number 1 Supply</td><td>Escondido</td><td>Escondido</td><td>Billing</td></tr><tr><td>Number One Bike Co.</td><td>Elmhurst Road, Goring</td><td>Reading</td><td>Billing</td></tr><tr><td>Odometers and Accessories Company</td><td>253711 Mayfield Place, Unit 150</td><td>Richmond</td><td>Billing</td></tr><tr><td>Official Parts Shop</td><td>9905 Three Rivers Drive</td><td>Kelso</td><td>Billing</td></tr><tr><td>Oils and Fluids Warehouse</td><td>Park House-4th Floor, 2516 Park St.</td><td>London</td><td>Billing</td></tr><tr><td>One Bike Company</td><td>5 place Ville-Marie</td><td>Montreal</td><td>Billing</td></tr><tr><td>Online Bike Sellers</td><td>678 Eastman Ave.</td><td>Midland</td><td>Billing</td></tr><tr><td>Online Bike Warehouse</td><td>32605 West 252 Mile Road, Suite 250</td><td>Aurora</td><td>Billing</td></tr><tr><td>Operational Manufacturing</td><td>25730, boul. St-Régis</td><td>Dorval</td><td>Billing</td></tr><tr><td>Orange Bicycle Company</td><td>123 W. Lake Ave.</td><td>Peoria</td><td>Billing</td></tr><tr><td>Original Bicycle Supply Company</td><td>2573 Dufferin Street</td><td>Toronto</td><td>Billing</td></tr><tr><td>Our Sporting Goods Store</td><td>6030 Conroy Road</td><td>Ottawa</td><td>Billing</td></tr><tr><td>Outdoor Aerobic Systems Company</td><td>255 Irving Street</td><td>London</td><td>Billing</td></tr><tr><td>Outdoor Sporting Goods</td><td>Lakewood Mall</td><td>Lakewood</td><td>Billing</td></tr><tr><td>Outdoor Sports Supply</td><td>Great Northwestern</td><td>North Bend</td><td>Billing</td></tr><tr><td>Outstanding Cycles</td><td>North 93270 Newport Highway</td><td>Spokane</td><td>Billing</td></tr><tr><td>Paint Supply</td><td>Corporate Office</td><td>Garland</td><td>Billing</td></tr><tr><td>Paints and Solvents Company</td><td>955 E. County Line Rd.</td><td>Englewood</td><td>Billing</td></tr><tr><td>Parcel Express Delivery Service</td><td>Washington Square</td><td>Portland</td><td>Billing</td></tr><tr><td>Permanent Finish Products</td><td>62500 Neil Road</td><td>Reno</td><td>Billing</td></tr><tr><td>Petroleum Products Distributors</td><td>20225 Lansing Ave</td><td>Montreal</td><td>Billing</td></tr><tr><td>Plastic Parts Company</td><td>750 Philip Street</td><td>Waterloo</td><td>Billing</td></tr><tr><td>Practical Bike Supply Company</td><td>Horizon Outlet</td><td>Woodbury</td><td>Billing</td></tr><tr><td>Preferred Bikes</td><td>Incom Sports Center</td><td>Ontario</td><td>Billing</td></tr><tr><td>Price-Cutter Discount Bikes</td><td>6700 Boul Taschereau</td><td>Brossard</td><td>Billing</td></tr><tr><td>Primary Bike Distributors</td><td>965 De La Gauchetiere West</td><td>Montreal</td><td>Billing</td></tr><tr><td>Principal Bike Company</td><td>Mountain Square</td><td>Upland</td><td>Billing</td></tr><tr><td>Professional Containers and Packaging Co.</td><td>253731 West Bell Road</td><td>Surprise</td><td>Billing</td></tr><tr><td>Professional Cycle Store</td><td>Arcadia Crossing</td><td>Phoenix</td><td>Billing</td></tr><tr><td>Professional Cyclists</td><td>2545 King Street West</td><td>Toronto</td><td>Billing</td></tr><tr><td>Professional Sales and Service</td><td>57251 Serene Blvd</td><td>Van Nuys</td><td>Billing</td></tr><tr><td>Progressive Sports</td><td>3207 S Grady Way</td><td>Renton</td><td>Billing</td></tr><tr><td>Progressive Sports</td><td>7943 Walnut Ave</td><td>Renton</td><td>Shipping</td></tr><tr><td>Prosperous Tours</td><td>99-3 Forest Works</td><td>London</td><td>Billing</td></tr><tr><td>Quantity Discounts</td><td>Natomas Marketplace</td><td>Sacramento</td><td>Billing</td></tr><tr><td>Quick Delivery Service</td><td>5990 Avebury Road</td><td>Mississauga</td><td>Billing</td></tr><tr><td>Quick Parts and Service</td><td>99954 Boul. Laurier, Local 060, Place</td><td>Sainte-Foy</td><td>Billing</td></tr><tr><td>Racing Bike Outlet</td><td>225 South 314th Street</td><td>Federal Way</td><td>Billing</td></tr><tr><td>Racing Partners</td><td>2512-410th Avenue S.W.</td><td>Calgary</td><td>Billing</td></tr><tr><td>Racing Toys</td><td>Prime Outlets</td><td>Phoenix</td><td>Billing</td></tr><tr><td>Racing Toys</td><td>9228 Via Del Sol</td><td>Phoenix</td><td>Shipping</td></tr><tr><td>Rally Master Company Inc</td><td>870 N. 54th Ave.</td><td>Chandler</td><td>Billing</td></tr><tr><td>Rampart Amusement Company</td><td>Bradford</td><td>W. York</td><td>Billing</td></tr><tr><td>Rapid Bikes</td><td>992 St Clair Ave East</td><td>Toronto</td><td>Billing</td></tr><tr><td>Raw Materials Inc</td><td>Bldg. 9n/99298</td><td>Redmond</td><td>Billing</td></tr><tr><td>Real Sporting Goods</td><td>7709 West Virginia Avenue</td><td>Phoenix</td><td>Billing</td></tr><tr><td>Reasonable Bicycle Sales</td><td>C/O Starpak, Inc.</td><td>Greeley</td><td>Billing</td></tr><tr><td>Recommended Bicycles</td><td>250 Kingsbridge Garden Circle</td><td>Mississauga</td><td>Billing</td></tr><tr><td>Red Bicycle Company</td><td>99, Rue Saint-pierre</td><td>Pnot-Rouge</td><td>Billing</td></tr><tr><td>Regional Manufacturing</td><td>Factory Stores/tucson</td><td>Tucson</td><td>Billing</td></tr><tr><td>Reliable Retail Center</td><td>609 Evans Avenue</td><td>Toronto</td><td>Billing</td></tr><tr><td>Remarkable Bike Store</td><td>Eastern Beltway Center</td><td>Las Vegas</td><td>Billing</td></tr><tr><td>Remote Bicycle Specialists</td><td>No. 2000-25080 Beaver Hall Hill</td><td>Quebec</td><td>Billing</td></tr><tr><td>Rental Bikes</td><td>99828 Routh Street, Suite 825</td><td>Dallas</td><td>Billing</td></tr><tr><td>Requisite Part Supply</td><td>600 Slater Street</td><td>Ottawa</td><td>Billing</td></tr><tr><td>Resale Services</td><td>Fox Hills</td><td>Culver City</td><td>Billing</td></tr><tr><td>Responsible Bike Dealers</td><td>Ward Parkway Center</td><td>Kansas City</td><td>Billing</td></tr><tr><td>Retail Cycle Shop</td><td>Bayshore Mall</td><td>Eureka</td><td>Billing</td></tr><tr><td>Retail Discount Store</td><td>2510 Crew Court</td><td>Montreal</td><td>Billing</td></tr><tr><td>Retail Mall</td><td>254480 River Rd</td><td>Richmond</td><td>Billing</td></tr><tr><td>Retail Sporting Equipment</td><td>Factory Stores Of America</td><td>Mesa</td><td>Billing</td></tr><tr><td>Retail Sporting Goods</td><td>6753 Howard Hughes Parkway</td><td>Las Vegas</td><td>Billing</td></tr><tr><td>Retreat Inn</td><td>Suite 2502 410 Albert Street</td><td>Waterloo</td><td>Billing</td></tr><tr><td>Rewarding Activities Company</td><td>25575 The Queensway</td><td>Etobicoke</td><td>Billing</td></tr><tr><td>Riders Company</td><td>Tanger Factory</td><td>Branch</td><td>Billing</td></tr><tr><td>Riding Associates</td><td>2528 Meridian E</td><td>Puyallup</td><td>Billing</td></tr><tr><td>Riding Cycles</td><td>Galashiels</td><td>Liverpool</td><td>Billing</td></tr><tr><td>Riding Excursions</td><td>West Park Plaza</td><td>Irvine</td><td>Billing</td></tr><tr><td>Road Way Sales and Rental</td><td>2900 - 25055 Dunning Street</td><td>Vancouver</td><td>Billing</td></tr><tr><td>Roadway Bike Emporium</td><td>Medford</td><td>Medford</td><td>Billing</td></tr><tr><td>Road-Way Mart</td><td>Southgate Mall</td><td>Missoula</td><td>Billing</td></tr><tr><td>Roadway Supplies</td><td>2564 S. Redwood Rd.</td><td>Riverton</td><td>Billing</td></tr><tr><td>Roving Sports</td><td>4927 S Meridian Ave Ste D</td><td>Puyallup</td><td>Billing</td></tr><tr><td>Rugged Bikes</td><td>48995 Evergreen Wy.</td><td>Everett</td><td>Billing</td></tr><tr><td>Running and Cycling Gear</td><td>No. 60 Bellis Fair Parkway</td><td>Bellingham</td><td>Billing</td></tr><tr><td>Rural Cycle Emporium</td><td>6388 Lake City Way</td><td>Burnaby</td><td>Billing</td></tr><tr><td>Rural Department Store</td><td>5967 W Las Positas Blvd</td><td>Pleasanton</td><td>Billing</td></tr><tr><td>Rural Sales and Service</td><td>Management Mall</td><td>San Antonio</td><td>Billing</td></tr><tr><td>Safe Cycles Shop</td><td>25915 140th Ave Ne</td><td>Bellevue</td><td>Billing</td></tr><tr><td>Safe Cycles Shop</td><td>2681 Eagle Peak</td><td>Bellevue</td><td>Shipping</td></tr><tr><td>Safe Toys</td><td>49925 Crestview Drive N.E.</td><td>Rio Rancho</td><td>Billing</td></tr><tr><td>Sample Bike Store</td><td>2530 South Colorado Blvd.</td><td>Denver</td><td>Billing</td></tr><tr><td>Sample Bike Store</td><td>2000 300th Street</td><td>Denver</td><td>Shipping</td></tr><tr><td>Satin Finish Company</td><td>25220 Airline Road</td><td>Corpus Christi</td><td>Billing</td></tr><tr><td>Scooters and Bikes Store</td><td>258101 Nw Evergreen Parkway</td><td>Beaverton</td><td>Billing</td></tr><tr><td>Scratch-Resistant Finishes Company</td><td>5700 Explorer Drive</td><td>Mississauga</td><td>Billing</td></tr><tr><td>Seats and Saddles Company</td><td>5th Floor, 79 Place D'armes</td><td>Kingston</td><td>Billing</td></tr><tr><td>Security Racks and Locks Wholesalers</td><td>910 Main Street.</td><td>Sparks</td><td>Billing</td></tr><tr><td>Sellers of Cycles</td><td>700 Se Sunnyside Road</td><td>Clackamas</td><td>Billing</td></tr><tr><td>Separate Parts Corporation</td><td>440 West Huntington Dr.</td><td>Monrovia</td><td>Billing</td></tr><tr><td>Serious Cycles</td><td>Suite 99320 255 - 510th Avenue S.W.</td><td>Calgary</td><td>Billing</td></tr><tr><td>Sharp Bikes</td><td>52560 Free Street</td><td>Toronto</td><td>Billing</td></tr><tr><td>Sheet Metal Manufacturing</td><td>25306 Harvey Rd.</td><td>College Station</td><td>Billing</td></tr><tr><td>Shipping Specialists</td><td>25 Hartfield Road, Wimbledon</td><td>London</td><td>Billing</td></tr><tr><td>Sixth Bike Store</td><td>Suite 25800 3401 - 10810th Avenue</td><td>Surrey</td><td>Billing</td></tr><tr><td>Sleek Bikes </td><td>44025 W. Empire</td><td>Denby</td><td>Billing</td></tr><tr><td>Small Bike Shop</td><td>Corp Ofc Accts Payable</td><td>El Segundo</td><td>Billing</td></tr><tr><td>Small Cycle Store</td><td>Horizon Outlet Center</td><td>Holland</td><td>Billing</td></tr><tr><td>Social Activities Club</td><td>23025 S.W. Military Rd.</td><td>San Antonio</td><td>Billing</td></tr><tr><td>Solid Bike Parts</td><td>Lincoln Square</td><td>Arlington</td><td>Billing</td></tr><tr><td>Some Discount Store</td><td>Frontier Mall</td><td>Cheyenne</td><td>Billing</td></tr><tr><td>South Bike Company</td><td>Po Box 83270</td><td>Vancouver</td><td>Billing</td></tr><tr><td>Sparkling Paint and Finishes</td><td>San Diego Factory</td><td>San Ysidro</td><td>Billing</td></tr><tr><td>Specialty Sports Store</td><td>52500 Liberty Way</td><td>Fort Worth</td><td>Billing</td></tr><tr><td>Sports Commodities</td><td>253950 N.E. 178th Place</td><td>Woodinville</td><td>Billing</td></tr><tr><td>Sports Merchandise</td><td>558 S 6th St</td><td>Klamath Falls</td><td>Billing</td></tr><tr><td>Sports Products Store</td><td>Po Box 252525</td><td>Santa Ana</td><td>Billing</td></tr><tr><td>Sports Store</td><td>Internet House, 3399 Science Park</td><td>Cambridge</td><td>Billing</td></tr><tr><td>Standard Bikes</td><td>9979 Bayview Drive</td><td>Barrie</td><td>Billing</td></tr><tr><td>Stationary Bikes and Stands</td><td>Sapp Road West</td><td>Round Rock</td><td>Billing</td></tr><tr><td>Stock Parts and Supplies</td><td>99295 S.e. Tualatin Valley_hwy.</td><td>Hillsboro</td><td>Billing</td></tr><tr><td>Sturdy Toys</td><td>Pacific West Outlet</td><td>Gilroy</td><td>Billing</td></tr><tr><td>Suburban Cycle Shop</td><td>994 Sw Cherry Park Rd</td><td>Troutdale</td><td>Billing</td></tr><tr><td>Successful Sales Company</td><td>7009 Sw Hall Blvd.</td><td>Tigard</td><td>Billing</td></tr><tr><td>Summer Sports Place</td><td>Ring Plaza</td><td>Norridge</td><td>Billing</td></tr><tr><td>Sundry Sporting Goods</td><td>595 Burning Street</td><td>Vancouver</td><td>Billing</td></tr><tr><td>Superb Sales and Repair</td><td>990th Floor 700 De La GauchetiSre Ou</td><td>Montreal</td><td>Billing</td></tr><tr><td>Superior Hardware Distributors</td><td>250775 SW Hillsdale Hwy</td><td>Beaverton</td><td>Billing</td></tr><tr><td>Sure &amp; Reliable Sporting Goods</td><td>7990 Ocean Beach Hwy.</td><td>Longview</td><td>Billing</td></tr><tr><td>Swift Cycles</td><td>25500 Old Spanish Trail</td><td>Houston</td><td>Billing</td></tr><tr><td>Synthetic Materials Manufacturing</td><td>3390 South 23rd St.</td><td>Tacoma</td><td>Billing</td></tr><tr><td>Systematic Sales</td><td>2551 East Warner Road</td><td>Gilbert</td><td>Billing</td></tr><tr><td>Tachometers and Accessories</td><td>Wymbush</td><td>Milton Keynes</td><td>Billing</td></tr><tr><td>Tandem Sales and Service</td><td>63 Free St.</td><td>Toronto</td><td>Billing</td></tr><tr><td>Technical Parts Manufacturing</td><td>Ontario Mills</td><td>Ontario</td><td>Billing</td></tr><tr><td>Tenth Bike Store</td><td>Depot 80</td><td>Sillery</td><td>Billing</td></tr><tr><td>The Accessories Store</td><td>Medford Outlet Center</td><td>Medford</td><td>Billing</td></tr><tr><td>The Bicycle Accessories Company</td><td>Vista Marketplace</td><td>Alhambra</td><td>Billing</td></tr><tr><td>The Bike Shop</td><td>3250 South Meridian</td><td>Puyallup</td><td>Billing</td></tr><tr><td>The Commissary</td><td>Bureau 9900 825, Avenue Querbes</td><td>Outremont</td><td>Billing</td></tr><tr><td>The Gear Store</td><td>2345 North Freeway</td><td>Houston</td><td>Billing</td></tr><tr><td>The New Bike Store</td><td>Hanford Mall</td><td>Hanford</td><td>Billing</td></tr><tr><td>The Showroom</td><td>4400 March Road</td><td>Kanata</td><td>Billing</td></tr><tr><td>Third Bike Store</td><td>2500 North Stemmons Freeway</td><td>Dallas</td><td>Billing</td></tr><tr><td>This Area Sporting Goods</td><td>25 N State St</td><td>Chicago</td><td>Billing</td></tr><tr><td>Thorough Parts and Repair Services</td><td>S Sound Ctr Suite 25300</td><td>Lacey</td><td>Billing</td></tr><tr><td>Thrifty Parts and Sales</td><td>Oxnard Outlet</td><td>Oxnard</td><td>Billing</td></tr><tr><td>Thrilling Bike Tours</td><td>4660 Rodeo Road</td><td>Santa Fe</td><td>Billing</td></tr><tr><td>Tire Exchange</td><td>9984 Wellington Street</td><td>Ottawa</td><td>Billing</td></tr><tr><td>Top Bike Market</td><td>975 Princess Street</td><td>Kingston</td><td>Billing</td></tr><tr><td>Top Sports Supply</td><td>251420a 170th Street</td><td>Edmonton</td><td>Billing</td></tr><tr><td>Totes &amp; Baskets Company</td><td>72540 Blanco Rd.</td><td>San Antonio</td><td>Billing</td></tr><tr><td>Town Industries</td><td>P.O. Box 6256916</td><td>Dallas</td><td>Billing</td></tr><tr><td>Trailblazing Sports</td><td>251340 E. South St.</td><td>Cerritos</td><td>Billing</td></tr><tr><td>Transport Bikes</td><td>25130 South State Street</td><td>Sandy</td><td>Billing</td></tr><tr><td>Transportation Options</td><td>25900-700-9th Ave S.W.</td><td>Calgary</td><td>Billing</td></tr><tr><td>Travel Sports</td><td>755 Nw Grandstand</td><td>Issaquah</td><td>Billing</td></tr><tr><td>Travel Systems</td><td>2505 Gateway Drive</td><td>North Sioux City</td><td>Billing</td></tr><tr><td>Trendy Department Stores</td><td>25472 Marlay Ave</td><td>Fontana</td><td>Billing</td></tr><tr><td>Tubeless Tire Company</td><td>2574 Milton Park</td><td>Oxford</td><td>Billing</td></tr><tr><td>Twelfth Bike Store</td><td>No. 25400 10665 Jasper Avenue</td><td>Edmonton</td><td>Billing</td></tr><tr><td>Two Bike Shops</td><td>35525-9th Street Sw</td><td>Puyallup</td><td>Billing</td></tr><tr><td>Two Wheels Cycle Store</td><td>77 Beale Street</td><td>San Francisco</td><td>Billing</td></tr><tr><td>Two-Seater Bikes</td><td>5700 Legacy Dr</td><td>Plano</td><td>Billing</td></tr><tr><td>Two-Wheeled Transit Company</td><td>P.O. Box 44000</td><td>Winnipeg</td><td>Billing</td></tr><tr><td>Unique Bikes</td><td>3900 S. 997th St.</td><td>Milwaukee</td><td>Billing</td></tr><tr><td>Unsurpassed Bikes</td><td>Po Box 8035996</td><td>Dallas</td><td>Billing</td></tr><tr><td>Up-To-Date Sports</td><td>2521 McPherson Street</td><td>Markham</td><td>Billing</td></tr><tr><td>Urban Sports Emporium</td><td>2560 Bay Street</td><td>Toronto</td><td>Billing</td></tr><tr><td>Utilitarian Sporting Goods</td><td>4635 S. Harrison Blvd.</td><td>Ogden</td><td>Billing</td></tr><tr><td>Uttermost Bike Shop</td><td>Ellesfield Ave</td><td>Bracknell</td><td>Billing</td></tr><tr><td>Vale Riding Supplies</td><td>Topanga Plaza</td><td>Canoga Park</td><td>Billing</td></tr><tr><td>Valley Bicycle Distributors</td><td>5867 Sunrise Boulevard</td><td>Citrus Heights</td><td>Billing</td></tr><tr><td>Valley Bicycle Specialists</td><td>Blue Ridge Mall</td><td>Kansas City</td><td>Billing</td></tr><tr><td>Valley Toy Store</td><td>252851 Rowan Place</td><td>Richmond</td><td>Billing</td></tr><tr><td>Variety Cycling</td><td>46-44 Albemarle Street</td><td>London</td><td>Billing</td></tr><tr><td>Vast Bike Sales and Rental</td><td>Lewis County Mall</td><td>Chehalis</td><td>Billing</td></tr><tr><td>Vehicle Shop</td><td>Pavillion @ Redlands</td><td>Redlands</td><td>Billing</td></tr><tr><td>Vigorous Exercise Company</td><td>9950 Ferrand Drive, 9th Floor</td><td>Toronto</td><td>Billing</td></tr><tr><td>Vigorous Sports Store</td><td>Banbury</td><td>Oxon</td><td>Billing</td></tr><tr><td>Vintage Sport Boutique</td><td>22571 South 2500 East</td><td>Idaho Falls</td><td>Billing</td></tr><tr><td>Vinyl and Plastic Goods Corporation</td><td>No. 25800-130 King Street West</td><td>Toronto</td><td>Billing</td></tr><tr><td>Weekend Bike Tours</td><td>630 N. Capitol Ave.</td><td>San Jose</td><td>Billing</td></tr><tr><td>West Side Mart</td><td>251 The Metro Center</td><td>Wokingham</td><td>Billing</td></tr><tr><td>Western Bike Supplies</td><td>566 S. Main</td><td>Cedar City</td><td>Billing</td></tr><tr><td>Westside Cycle Store</td><td>25550 Executive Dr</td><td>Elgin</td><td>Billing</td></tr><tr><td>Westside Plaza</td><td>99040 California Avenue</td><td>Sand City</td><td>Billing</td></tr><tr><td>Wheel Gallery</td><td>9920 Bridgepointe Parkway</td><td>San Mateo</td><td>Billing</td></tr><tr><td>Wholesale Parts</td><td>655-4th Ave S.W.</td><td>Calgary</td><td>Billing</td></tr><tr><td>Wingtip Toys</td><td>755 Columbia Ctr Blvd</td><td>Kennewick</td><td>Billing</td></tr><tr><td>Wire Baskets and Parts</td><td>Mall Of Orange</td><td>Orange</td><td>Billing</td></tr><tr><td>Work and Play Association</td><td>2533 Eureka Rd.</td><td>Southgate</td><td>Billing</td></tr><tr><td>Workout Emporium</td><td>700 Bureau Road</td><td>Montreal</td><td>Billing</td></tr><tr><td>World Bike Discount Store</td><td>3065 Santa Margarita Parkway</td><td>Trabuco Canyon</td><td>Billing</td></tr><tr><td>World of Bikes</td><td>660 Lindbergh</td><td>Saint Louis</td><td>Billing</td></tr><tr><td>Year-Round Sports</td><td>2583 Se 272nd St</td><td>Kent</td><td>Billing</td></tr><tr><td>Yellow Bicycle Company</td><td>St. Louis Marketplace</td><td>Saint Louis</td><td>Billing</td></tr></table>"
                    },
                    "metadata": {}
                }
            ],
            "execution_count": 4
        },
        {
            "cell_type": "markdown",
            "source": [
                "**Challenge 2**\n",
                "\n",
                "  \n",
                "\n",
                "**1.** Retrieve customers with only a main office address Write a query that returns the company name of each company that appears in a table of customers with a ‘Main Office’ address, but not in a table of customers with a ‘Shipping’ address."
            ],
            "metadata": {
                "azdata_cell_guid": "82507701-af7f-4b26-b56d-d47aaad8f37f"
            },
            "attachments": {}
        },
        {
            "cell_type": "code",
            "source": [
                "SELECT C.CompanyName\r\n",
                "FROM Customer AS C\r\n",
                "JOIN CustomerAddress AS CA\r\n",
                "ON C.CustomerID = CA.CustomerID AND CA.AddressType = 'Main Office'\r\n",
                "JOIN Address AS A\r\n",
                "ON A.AddressID = CA.AddressID\r\n",
                "EXCEPT\r\n",
                "SELECT C.CompanyName\r\n",
                "FROM Customer AS C\r\n",
                "JOIN CustomerAddress AS CA\r\n",
                "ON C.CustomerID = CA.CustomerID AND CA.AddressType = 'Shipping'\r\n",
                "JOIN Address AS A\r\n",
                "ON A.AddressID = CA.AddressID\r\n",
                "ORDER BY CompanyName;"
            ],
            "metadata": {
                "azdata_cell_guid": "80d0f449-fed1-4e55-97b5-b83321abcec0"
            },
            "outputs": [
                {
                    "output_type": "display_data",
                    "data": {
                        "text/html": "(396 rows affected)"
                    },
                    "metadata": {}
                },
                {
                    "output_type": "display_data",
                    "data": {
                        "text/html": "Total execution time: 00:00:00.113"
                    },
                    "metadata": {}
                },
                {
                    "output_type": "execute_result",
                    "execution_count": 5,
                    "data": {
                        "application/vnd.dataresource+json": {
                            "schema": {
                                "fields": [
                                    {
                                        "name": "CompanyName"
                                    }
                                ]
                            },
                            "data": [
                                {
                                    "0": "A Bike Store"
                                },
                                {
                                    "0": "A Great Bicycle Company"
                                },
                                {
                                    "0": "A Typical Bike Shop"
                                },
                                {
                                    "0": "Acceptable Sales & Service"
                                },
                                {
                                    "0": "Action Bicycle Specialists"
                                },
                                {
                                    "0": "Active Life Toys"
                                },
                                {
                                    "0": "Active Systems"
                                },
                                {
                                    "0": "Advanced Bike Components"
                                },
                                {
                                    "0": "Aerobic Exercise Company"
                                },
                                {
                                    "0": "Affordable Sports Equipment"
                                },
                                {
                                    "0": "All Seasons Sports Supply"
                                },
                                {
                                    "0": "Alpine Ski House"
                                },
                                {
                                    "0": "Alternative Vehicles"
                                },
                                {
                                    "0": "Another Bicycle Company"
                                },
                                {
                                    "0": "Area Bike Accessories"
                                },
                                {
                                    "0": "Area Sheet Metal Supply"
                                },
                                {
                                    "0": "Associated Bikes"
                                },
                                {
                                    "0": "Authentic Sales and Service"
                                },
                                {
                                    "0": "Authorized Bike Sales and Rental"
                                },
                                {
                                    "0": "Basic Bike Company"
                                },
                                {
                                    "0": "Basic Sports Equipment"
                                },
                                {
                                    "0": "Beneficial Exercises and Activities"
                                },
                                {
                                    "0": "Best o' Bikes"
                                },
                                {
                                    "0": "Bicycle Accessories and Kits"
                                },
                                {
                                    "0": "Bicycle Lines Distributors"
                                },
                                {
                                    "0": "Bicycle Merchandise Warehouse"
                                },
                                {
                                    "0": "Big Cycle Mall"
                                },
                                {
                                    "0": "Big-Time Bike Store"
                                },
                                {
                                    "0": "Bike Dealers Association"
                                },
                                {
                                    "0": "Bike Experts"
                                },
                                {
                                    "0": "Bike World"
                                },
                                {
                                    "0": "Bikes and Motorbikes"
                                },
                                {
                                    "0": "Bikes for Kids and Adults"
                                },
                                {
                                    "0": "Bikes for Two"
                                },
                                {
                                    "0": "Black Bicycle Company"
                                },
                                {
                                    "0": "Blue Bicycle Company"
                                },
                                {
                                    "0": "Bold Bike Accessories"
                                },
                                {
                                    "0": "Brakes and Gears"
                                },
                                {
                                    "0": "Brightwork Company"
                                },
                                {
                                    "0": "Bulk Discount Store"
                                },
                                {
                                    "0": "Camping and Sports Store"
                                },
                                {
                                    "0": "Capable Sales and Service"
                                },
                                {
                                    "0": "Cash & Carry Bikes"
                                },
                                {
                                    "0": "Catalog Store"
                                },
                                {
                                    "0": "Central Bicycle Specialists"
                                },
                                {
                                    "0": "Central Discount Store"
                                },
                                {
                                    "0": "Certified Bicycle Supply"
                                },
                                {
                                    "0": "Certified Sports Supply"
                                },
                                {
                                    "0": "Channel Outlet"
                                },
                                {
                                    "0": "Chic Department Stores"
                                },
                                {
                                    "0": "City Manufacturing"
                                },
                                {
                                    "0": "Citywide Service and Repair"
                                },
                                {
                                    "0": "Client Discount Store"
                                },
                                {
                                    "0": "Closeout Boutique"
                                },
                                {
                                    "0": "Closest Bicycle Store"
                                },
                                {
                                    "0": "Coalition Bike Company"
                                },
                                {
                                    "0": "Coho Sports"
                                },
                                {
                                    "0": "Commendable Bikes"
                                },
                                {
                                    "0": "Commerce Bicycle Specialists"
                                },
                                {
                                    "0": "Commercial Sporting Goods"
                                },
                                {
                                    "0": "Commuter Bicycle Store"
                                },
                                {
                                    "0": "Consolidated Messenger"
                                },
                                {
                                    "0": "Convenient Sales and Service"
                                },
                                {
                                    "0": "Corner Bicycle Supply"
                                },
                                {
                                    "0": "Countryside Company"
                                },
                                {
                                    "0": "Courteous Bicycle Specialists"
                                },
                                {
                                    "0": "Cross-Country Riding Supplies"
                                },
                                {
                                    "0": "Custom Accessories Company"
                                },
                                {
                                    "0": "Cycle Clearance"
                                },
                                {
                                    "0": "Cycle Merchants"
                                },
                                {
                                    "0": "Cycles Wholesaler & Mfg."
                                },
                                {
                                    "0": "Cycling Goods"
                                },
                                {
                                    "0": "Demand Distributors"
                                },
                                {
                                    "0": "Designated Distributors"
                                },
                                {
                                    "0": "Discount Bicycle Specialists"
                                },
                                {
                                    "0": "Discount Tours"
                                },
                                {
                                    "0": "Distant Inn"
                                },
                                {
                                    "0": "Distinctive Store"
                                },
                                {
                                    "0": "District Mall"
                                },
                                {
                                    "0": "Downhill Bicycle Specialists"
                                },
                                {
                                    "0": "Downtown Hotel"
                                },
                                {
                                    "0": "Eastside Department Store"
                                },
                                {
                                    "0": "Eastside Parts Shop"
                                },
                                {
                                    "0": "Economy Bikes Company"
                                },
                                {
                                    "0": "Economy Center"
                                },
                                {
                                    "0": "Efficient Cycling"
                                },
                                {
                                    "0": "Eighth Bike Store"
                                },
                                {
                                    "0": "Engineered Bike Systems"
                                },
                                {
                                    "0": "Essential Bike Works"
                                },
                                {
                                    "0": "Exceptional Cycle Services"
                                },
                                {
                                    "0": "Exclusive Bicycle Mart"
                                },
                                {
                                    "0": "Exercise Center"
                                },
                                {
                                    "0": "Exhibition Showroom"
                                },
                                {
                                    "0": "Exhilarating Cycles"
                                },
                                {
                                    "0": "Express Bike Services"
                                },
                                {
                                    "0": "Extended Bike Sales"
                                },
                                {
                                    "0": "Extended Tours"
                                },
                                {
                                    "0": "Extraordinary Bike Works"
                                },
                                {
                                    "0": "Extras Sporting Goods"
                                },
                                {
                                    "0": "Extreme Riding Supplies"
                                },
                                {
                                    "0": "Fabrikam Inc., West"
                                },
                                {
                                    "0": "Fad Outlet"
                                },
                                {
                                    "0": "Family Cycle Store"
                                },
                                {
                                    "0": "Family Entertainment Center"
                                },
                                {
                                    "0": "Famous Bike Shop"
                                },
                                {
                                    "0": "Farthermost Bike Shop"
                                },
                                {
                                    "0": "Farthest Bike Store"
                                },
                                {
                                    "0": "Fashionable Bikes and Accessories"
                                },
                                {
                                    "0": "Fasteners & Bolts Outlet"
                                },
                                {
                                    "0": "Field Trip Inc"
                                },
                                {
                                    "0": "Field Trip Store"
                                },
                                {
                                    "0": "Fifth Bike Store"
                                },
                                {
                                    "0": "Finer Cycle Shop"
                                },
                                {
                                    "0": "Finer Mart"
                                },
                                {
                                    "0": "Finer Parts Shop"
                                },
                                {
                                    "0": "Finer Riding Supplies"
                                },
                                {
                                    "0": "Finish and Sealant Products"
                                },
                                {
                                    "0": "First Bike Store"
                                },
                                {
                                    "0": "First Cycle Store"
                                },
                                {
                                    "0": "First Department Stores"
                                },
                                {
                                    "0": "First-Rate Outlet"
                                },
                                {
                                    "0": "Fitness Cycling"
                                },
                                {
                                    "0": "Fitness Department Stores"
                                },
                                {
                                    "0": "Fitness Hotel"
                                },
                                {
                                    "0": "Fitness Supplies"
                                },
                                {
                                    "0": "Fitness Toy Store"
                                },
                                {
                                    "0": "Fleet Bikes"
                                },
                                {
                                    "0": "Friendly Bike Shop"
                                },
                                {
                                    "0": "Friendly Neighborhood Bikes"
                                },
                                {
                                    "0": "Front Sporting Goods"
                                },
                                {
                                    "0": "Frugal Bike Shop"
                                },
                                {
                                    "0": "Full-Service Bike Store"
                                },
                                {
                                    "0": "Fun Times Club"
                                },
                                {
                                    "0": "Fun Toys and Bikes"
                                },
                                {
                                    "0": "Future Bikes"
                                },
                                {
                                    "0": "Futuristic Bikes"
                                },
                                {
                                    "0": "Futuristic Sport Distributors"
                                },
                                {
                                    "0": "Gasless Cycle Shop"
                                },
                                {
                                    "0": "Gear-Shift Bikes Limited"
                                },
                                {
                                    "0": "General Bike Corporation"
                                },
                                {
                                    "0": "General Cycle Storehouse"
                                },
                                {
                                    "0": "General Department Stores"
                                },
                                {
                                    "0": "General Industries"
                                },
                                {
                                    "0": "General Riding Supplies"
                                },
                                {
                                    "0": "General Supplies"
                                },
                                {
                                    "0": "Genial Bike Associates"
                                },
                                {
                                    "0": "Genuine Bike Shop"
                                },
                                {
                                    "0": "Gift and Toy Store"
                                },
                                {
                                    "0": "Go-cart and Bike Specialists"
                                },
                                {
                                    "0": "Golf and Cycle Store"
                                },
                                {
                                    "0": "Good Bike Shop"
                                },
                                {
                                    "0": "Good Toys"
                                },
                                {
                                    "0": "Grand Bicycle Stores"
                                },
                                {
                                    "0": "Grand Industries"
                                },
                                {
                                    "0": "Grand Sport Boutique"
                                },
                                {
                                    "0": "Grease and Oil Products Company"
                                },
                                {
                                    "0": "Great Bicycle Supply"
                                },
                                {
                                    "0": "Great Bikes "
                                },
                                {
                                    "0": "Greater Bike Store"
                                },
                                {
                                    "0": "Handy Bike Services"
                                },
                                {
                                    "0": "Health Spa, Limited"
                                },
                                {
                                    "0": "Highway Bike Shop"
                                },
                                {
                                    "0": "Historic Bicycle Sales"
                                },
                                {
                                    "0": "Home Town Bike Store"
                                },
                                {
                                    "0": "Honest Repair Service"
                                },
                                {
                                    "0": "Immense Manufacturing Company"
                                },
                                {
                                    "0": "Imported and Domestic Cycles"
                                },
                                {
                                    "0": "Initial Bike Company"
                                },
                                {
                                    "0": "Instruments and Parts Company"
                                },
                                {
                                    "0": "Journey Sporting Goods"
                                },
                                {
                                    "0": "Kickstand Sellers"
                                },
                                {
                                    "0": "Kickstands and Accessories Company"
                                },
                                {
                                    "0": "Large Bike Shop"
                                },
                                {
                                    "0": "Largest Bike Store"
                                },
                                {
                                    "0": "Latest Accessories Sales"
                                },
                                {
                                    "0": "Latest Sports Equipment"
                                },
                                {
                                    "0": "Leading Sales & Repair"
                                },
                                {
                                    "0": "Leather Seat Factory"
                                },
                                {
                                    "0": "Leisure Activities"
                                },
                                {
                                    "0": "Leisure Clearing House"
                                },
                                {
                                    "0": "Little Bicycle Supply Shop"
                                },
                                {
                                    "0": "Local Hardware Factory"
                                },
                                {
                                    "0": "Local Sales and Rental"
                                },
                                {
                                    "0": "Locks Company"
                                },
                                {
                                    "0": "Lots of Bikes Storehouse"
                                },
                                {
                                    "0": "Low Price Cycles"
                                },
                                {
                                    "0": "Machines & Cycles Store"
                                },
                                {
                                    "0": "Mail Market"
                                },
                                {
                                    "0": "Mail-Order Outlet"
                                },
                                {
                                    "0": "Maintenance and Repair for Bicycles"
                                },
                                {
                                    "0": "Major Cycling"
                                },
                                {
                                    "0": "Major Sport Suppliers"
                                },
                                {
                                    "0": "Major Sporting Goods"
                                },
                                {
                                    "0": "Many Bikes Store"
                                },
                                {
                                    "0": "Mechanical Products Ltd."
                                },
                                {
                                    "0": "Mercantile Outlet"
                                },
                                {
                                    "0": "Metal Clearing House"
                                },
                                {
                                    "0": "Metal Processing Company"
                                },
                                {
                                    "0": "Metro Bike Works"
                                },
                                {
                                    "0": "Metro Cycle Shop"
                                },
                                {
                                    "0": "Metro Manufacturing"
                                },
                                {
                                    "0": "Metro Metals Co."
                                },
                                {
                                    "0": "Metropolitan Bicycle Supply"
                                },
                                {
                                    "0": "Metropolitan Manufacturing"
                                },
                                {
                                    "0": "Metropolitan Sports Supply"
                                },
                                {
                                    "0": "Moderately-Priced Bikes Store"
                                },
                                {
                                    "0": "More Bikes!"
                                },
                                {
                                    "0": "Mountain Bike Center"
                                },
                                {
                                    "0": "Mountain Toy Store"
                                },
                                {
                                    "0": "National Manufacturing"
                                },
                                {
                                    "0": "Nearby Cycle Shop"
                                },
                                {
                                    "0": "Nearby Sporting Goods"
                                },
                                {
                                    "0": "Neighborhood Store"
                                },
                                {
                                    "0": "Nice Bikes"
                                },
                                {
                                    "0": "Nonskid Tire Company"
                                },
                                {
                                    "0": "Non-Slip Pedal Company"
                                },
                                {
                                    "0": "Novelty Bikes"
                                },
                                {
                                    "0": "Number 1 Supply"
                                },
                                {
                                    "0": "Number One Bike Co."
                                },
                                {
                                    "0": "Odometers and Accessories Company"
                                },
                                {
                                    "0": "Official Parts Shop"
                                },
                                {
                                    "0": "Oils and Fluids Warehouse"
                                },
                                {
                                    "0": "One Bike Company"
                                },
                                {
                                    "0": "Online Bike Sellers"
                                },
                                {
                                    "0": "Online Bike Warehouse"
                                },
                                {
                                    "0": "Operational Manufacturing"
                                },
                                {
                                    "0": "Orange Bicycle Company"
                                },
                                {
                                    "0": "Original Bicycle Supply Company"
                                },
                                {
                                    "0": "Our Sporting Goods Store"
                                },
                                {
                                    "0": "Outdoor Aerobic Systems Company"
                                },
                                {
                                    "0": "Outdoor Sporting Goods"
                                },
                                {
                                    "0": "Outdoor Sports Supply"
                                },
                                {
                                    "0": "Outstanding Cycles"
                                },
                                {
                                    "0": "Paint Supply"
                                },
                                {
                                    "0": "Paints and Solvents Company"
                                },
                                {
                                    "0": "Parcel Express Delivery Service"
                                },
                                {
                                    "0": "Permanent Finish Products"
                                },
                                {
                                    "0": "Petroleum Products Distributors"
                                },
                                {
                                    "0": "Plastic Parts Company"
                                },
                                {
                                    "0": "Practical Bike Supply Company"
                                },
                                {
                                    "0": "Preferred Bikes"
                                },
                                {
                                    "0": "Price-Cutter Discount Bikes"
                                },
                                {
                                    "0": "Primary Bike Distributors"
                                },
                                {
                                    "0": "Principal Bike Company"
                                },
                                {
                                    "0": "Professional Containers and Packaging Co."
                                },
                                {
                                    "0": "Professional Cycle Store"
                                },
                                {
                                    "0": "Professional Cyclists"
                                },
                                {
                                    "0": "Professional Sales and Service"
                                },
                                {
                                    "0": "Prosperous Tours"
                                },
                                {
                                    "0": "Quantity Discounts"
                                },
                                {
                                    "0": "Quick Delivery Service"
                                },
                                {
                                    "0": "Quick Parts and Service"
                                },
                                {
                                    "0": "Racing Bike Outlet"
                                },
                                {
                                    "0": "Racing Partners"
                                },
                                {
                                    "0": "Rally Master Company Inc"
                                },
                                {
                                    "0": "Rampart Amusement Company"
                                },
                                {
                                    "0": "Rapid Bikes"
                                },
                                {
                                    "0": "Raw Materials Inc"
                                },
                                {
                                    "0": "Real Sporting Goods"
                                },
                                {
                                    "0": "Reasonable Bicycle Sales"
                                },
                                {
                                    "0": "Recommended Bicycles"
                                },
                                {
                                    "0": "Red Bicycle Company"
                                },
                                {
                                    "0": "Regional Manufacturing"
                                },
                                {
                                    "0": "Reliable Retail Center"
                                },
                                {
                                    "0": "Remarkable Bike Store"
                                },
                                {
                                    "0": "Remote Bicycle Specialists"
                                },
                                {
                                    "0": "Rental Bikes"
                                },
                                {
                                    "0": "Requisite Part Supply"
                                },
                                {
                                    "0": "Resale Services"
                                },
                                {
                                    "0": "Responsible Bike Dealers"
                                },
                                {
                                    "0": "Retail Cycle Shop"
                                },
                                {
                                    "0": "Retail Discount Store"
                                },
                                {
                                    "0": "Retail Mall"
                                },
                                {
                                    "0": "Retail Sporting Equipment"
                                },
                                {
                                    "0": "Retail Sporting Goods"
                                },
                                {
                                    "0": "Retreat Inn"
                                },
                                {
                                    "0": "Rewarding Activities Company"
                                },
                                {
                                    "0": "Riders Company"
                                },
                                {
                                    "0": "Riding Associates"
                                },
                                {
                                    "0": "Riding Cycles"
                                },
                                {
                                    "0": "Riding Excursions"
                                },
                                {
                                    "0": "Road Way Sales and Rental"
                                },
                                {
                                    "0": "Roadway Bike Emporium"
                                },
                                {
                                    "0": "Road-Way Mart"
                                },
                                {
                                    "0": "Roadway Supplies"
                                },
                                {
                                    "0": "Roving Sports"
                                },
                                {
                                    "0": "Rugged Bikes"
                                },
                                {
                                    "0": "Running and Cycling Gear"
                                },
                                {
                                    "0": "Rural Cycle Emporium"
                                },
                                {
                                    "0": "Rural Department Store"
                                },
                                {
                                    "0": "Rural Sales and Service"
                                },
                                {
                                    "0": "Safe Toys"
                                },
                                {
                                    "0": "Satin Finish Company"
                                },
                                {
                                    "0": "Scooters and Bikes Store"
                                },
                                {
                                    "0": "Scratch-Resistant Finishes Company"
                                },
                                {
                                    "0": "Seats and Saddles Company"
                                },
                                {
                                    "0": "Security Racks and Locks Wholesalers"
                                },
                                {
                                    "0": "Sellers of Cycles"
                                },
                                {
                                    "0": "Separate Parts Corporation"
                                },
                                {
                                    "0": "Serious Cycles"
                                },
                                {
                                    "0": "Sharp Bikes"
                                },
                                {
                                    "0": "Sheet Metal Manufacturing"
                                },
                                {
                                    "0": "Shipping Specialists"
                                },
                                {
                                    "0": "Sixth Bike Store"
                                },
                                {
                                    "0": "Sleek Bikes "
                                },
                                {
                                    "0": "Small Bike Shop"
                                },
                                {
                                    "0": "Small Cycle Store"
                                },
                                {
                                    "0": "Social Activities Club"
                                },
                                {
                                    "0": "Solid Bike Parts"
                                },
                                {
                                    "0": "Some Discount Store"
                                },
                                {
                                    "0": "South Bike Company"
                                },
                                {
                                    "0": "Sparkling Paint and Finishes"
                                },
                                {
                                    "0": "Specialty Sports Store"
                                },
                                {
                                    "0": "Sports Commodities"
                                },
                                {
                                    "0": "Sports Merchandise"
                                },
                                {
                                    "0": "Sports Products Store"
                                },
                                {
                                    "0": "Sports Store"
                                },
                                {
                                    "0": "Standard Bikes"
                                },
                                {
                                    "0": "Stationary Bikes and Stands"
                                },
                                {
                                    "0": "Stock Parts and Supplies"
                                },
                                {
                                    "0": "Sturdy Toys"
                                },
                                {
                                    "0": "Suburban Cycle Shop"
                                },
                                {
                                    "0": "Successful Sales Company"
                                },
                                {
                                    "0": "Summer Sports Place"
                                },
                                {
                                    "0": "Sundry Sporting Goods"
                                },
                                {
                                    "0": "Superb Sales and Repair"
                                },
                                {
                                    "0": "Superior Hardware Distributors"
                                },
                                {
                                    "0": "Sure & Reliable Sporting Goods"
                                },
                                {
                                    "0": "Swift Cycles"
                                },
                                {
                                    "0": "Synthetic Materials Manufacturing"
                                },
                                {
                                    "0": "Systematic Sales"
                                },
                                {
                                    "0": "Tachometers and Accessories"
                                },
                                {
                                    "0": "Tandem Sales and Service"
                                },
                                {
                                    "0": "Technical Parts Manufacturing"
                                },
                                {
                                    "0": "Tenth Bike Store"
                                },
                                {
                                    "0": "The Accessories Store"
                                },
                                {
                                    "0": "The Bicycle Accessories Company"
                                },
                                {
                                    "0": "The Bike Shop"
                                },
                                {
                                    "0": "The Commissary"
                                },
                                {
                                    "0": "The Gear Store"
                                },
                                {
                                    "0": "The New Bike Store"
                                },
                                {
                                    "0": "The Showroom"
                                },
                                {
                                    "0": "Third Bike Store"
                                },
                                {
                                    "0": "This Area Sporting Goods"
                                },
                                {
                                    "0": "Thorough Parts and Repair Services"
                                },
                                {
                                    "0": "Thrifty Parts and Sales"
                                },
                                {
                                    "0": "Thrilling Bike Tours"
                                },
                                {
                                    "0": "Tire Exchange"
                                },
                                {
                                    "0": "Top Bike Market"
                                },
                                {
                                    "0": "Top Sports Supply"
                                },
                                {
                                    "0": "Totes & Baskets Company"
                                },
                                {
                                    "0": "Town Industries"
                                },
                                {
                                    "0": "Trailblazing Sports"
                                },
                                {
                                    "0": "Transport Bikes"
                                },
                                {
                                    "0": "Transportation Options"
                                },
                                {
                                    "0": "Travel Sports"
                                },
                                {
                                    "0": "Travel Systems"
                                },
                                {
                                    "0": "Trendy Department Stores"
                                },
                                {
                                    "0": "Tubeless Tire Company"
                                },
                                {
                                    "0": "Twelfth Bike Store"
                                },
                                {
                                    "0": "Two Bike Shops"
                                },
                                {
                                    "0": "Two Wheels Cycle Store"
                                },
                                {
                                    "0": "Two-Seater Bikes"
                                },
                                {
                                    "0": "Two-Wheeled Transit Company"
                                },
                                {
                                    "0": "Unique Bikes"
                                },
                                {
                                    "0": "Unsurpassed Bikes"
                                },
                                {
                                    "0": "Up-To-Date Sports"
                                },
                                {
                                    "0": "Urban Sports Emporium"
                                },
                                {
                                    "0": "Utilitarian Sporting Goods"
                                },
                                {
                                    "0": "Uttermost Bike Shop"
                                },
                                {
                                    "0": "Vale Riding Supplies"
                                },
                                {
                                    "0": "Valley Bicycle Distributors"
                                },
                                {
                                    "0": "Valley Bicycle Specialists"
                                },
                                {
                                    "0": "Valley Toy Store"
                                },
                                {
                                    "0": "Variety Cycling"
                                },
                                {
                                    "0": "Vast Bike Sales and Rental"
                                },
                                {
                                    "0": "Vehicle Shop"
                                },
                                {
                                    "0": "Vigorous Exercise Company"
                                },
                                {
                                    "0": "Vigorous Sports Store"
                                },
                                {
                                    "0": "Vintage Sport Boutique"
                                },
                                {
                                    "0": "Vinyl and Plastic Goods Corporation"
                                },
                                {
                                    "0": "Weekend Bike Tours"
                                },
                                {
                                    "0": "West Side Mart"
                                },
                                {
                                    "0": "Western Bike Supplies"
                                },
                                {
                                    "0": "Westside Cycle Store"
                                },
                                {
                                    "0": "Westside Plaza"
                                },
                                {
                                    "0": "Wheel Gallery"
                                },
                                {
                                    "0": "Wholesale Parts"
                                },
                                {
                                    "0": "Wingtip Toys"
                                },
                                {
                                    "0": "Wire Baskets and Parts"
                                },
                                {
                                    "0": "Work and Play Association"
                                },
                                {
                                    "0": "Workout Emporium"
                                },
                                {
                                    "0": "World Bike Discount Store"
                                },
                                {
                                    "0": "World of Bikes"
                                },
                                {
                                    "0": "Year-Round Sports"
                                },
                                {
                                    "0": "Yellow Bicycle Company"
                                }
                            ]
                        },
                        "text/html": "<table><tr><th>CompanyName</th></tr><tr><td>A Bike Store</td></tr><tr><td>A Great Bicycle Company</td></tr><tr><td>A Typical Bike Shop</td></tr><tr><td>Acceptable Sales &amp; Service</td></tr><tr><td>Action Bicycle Specialists</td></tr><tr><td>Active Life Toys</td></tr><tr><td>Active Systems</td></tr><tr><td>Advanced Bike Components</td></tr><tr><td>Aerobic Exercise Company</td></tr><tr><td>Affordable Sports Equipment</td></tr><tr><td>All Seasons Sports Supply</td></tr><tr><td>Alpine Ski House</td></tr><tr><td>Alternative Vehicles</td></tr><tr><td>Another Bicycle Company</td></tr><tr><td>Area Bike Accessories</td></tr><tr><td>Area Sheet Metal Supply</td></tr><tr><td>Associated Bikes</td></tr><tr><td>Authentic Sales and Service</td></tr><tr><td>Authorized Bike Sales and Rental</td></tr><tr><td>Basic Bike Company</td></tr><tr><td>Basic Sports Equipment</td></tr><tr><td>Beneficial Exercises and Activities</td></tr><tr><td>Best o' Bikes</td></tr><tr><td>Bicycle Accessories and Kits</td></tr><tr><td>Bicycle Lines Distributors</td></tr><tr><td>Bicycle Merchandise Warehouse</td></tr><tr><td>Big Cycle Mall</td></tr><tr><td>Big-Time Bike Store</td></tr><tr><td>Bike Dealers Association</td></tr><tr><td>Bike Experts</td></tr><tr><td>Bike World</td></tr><tr><td>Bikes and Motorbikes</td></tr><tr><td>Bikes for Kids and Adults</td></tr><tr><td>Bikes for Two</td></tr><tr><td>Black Bicycle Company</td></tr><tr><td>Blue Bicycle Company</td></tr><tr><td>Bold Bike Accessories</td></tr><tr><td>Brakes and Gears</td></tr><tr><td>Brightwork Company</td></tr><tr><td>Bulk Discount Store</td></tr><tr><td>Camping and Sports Store</td></tr><tr><td>Capable Sales and Service</td></tr><tr><td>Cash &amp; Carry Bikes</td></tr><tr><td>Catalog Store</td></tr><tr><td>Central Bicycle Specialists</td></tr><tr><td>Central Discount Store</td></tr><tr><td>Certified Bicycle Supply</td></tr><tr><td>Certified Sports Supply</td></tr><tr><td>Channel Outlet</td></tr><tr><td>Chic Department Stores</td></tr><tr><td>City Manufacturing</td></tr><tr><td>Citywide Service and Repair</td></tr><tr><td>Client Discount Store</td></tr><tr><td>Closeout Boutique</td></tr><tr><td>Closest Bicycle Store</td></tr><tr><td>Coalition Bike Company</td></tr><tr><td>Coho Sports</td></tr><tr><td>Commendable Bikes</td></tr><tr><td>Commerce Bicycle Specialists</td></tr><tr><td>Commercial Sporting Goods</td></tr><tr><td>Commuter Bicycle Store</td></tr><tr><td>Consolidated Messenger</td></tr><tr><td>Convenient Sales and Service</td></tr><tr><td>Corner Bicycle Supply</td></tr><tr><td>Countryside Company</td></tr><tr><td>Courteous Bicycle Specialists</td></tr><tr><td>Cross-Country Riding Supplies</td></tr><tr><td>Custom Accessories Company</td></tr><tr><td>Cycle Clearance</td></tr><tr><td>Cycle Merchants</td></tr><tr><td>Cycles Wholesaler &amp; Mfg.</td></tr><tr><td>Cycling Goods</td></tr><tr><td>Demand Distributors</td></tr><tr><td>Designated Distributors</td></tr><tr><td>Discount Bicycle Specialists</td></tr><tr><td>Discount Tours</td></tr><tr><td>Distant Inn</td></tr><tr><td>Distinctive Store</td></tr><tr><td>District Mall</td></tr><tr><td>Downhill Bicycle Specialists</td></tr><tr><td>Downtown Hotel</td></tr><tr><td>Eastside Department Store</td></tr><tr><td>Eastside Parts Shop</td></tr><tr><td>Economy Bikes Company</td></tr><tr><td>Economy Center</td></tr><tr><td>Efficient Cycling</td></tr><tr><td>Eighth Bike Store</td></tr><tr><td>Engineered Bike Systems</td></tr><tr><td>Essential Bike Works</td></tr><tr><td>Exceptional Cycle Services</td></tr><tr><td>Exclusive Bicycle Mart</td></tr><tr><td>Exercise Center</td></tr><tr><td>Exhibition Showroom</td></tr><tr><td>Exhilarating Cycles</td></tr><tr><td>Express Bike Services</td></tr><tr><td>Extended Bike Sales</td></tr><tr><td>Extended Tours</td></tr><tr><td>Extraordinary Bike Works</td></tr><tr><td>Extras Sporting Goods</td></tr><tr><td>Extreme Riding Supplies</td></tr><tr><td>Fabrikam Inc., West</td></tr><tr><td>Fad Outlet</td></tr><tr><td>Family Cycle Store</td></tr><tr><td>Family Entertainment Center</td></tr><tr><td>Famous Bike Shop</td></tr><tr><td>Farthermost Bike Shop</td></tr><tr><td>Farthest Bike Store</td></tr><tr><td>Fashionable Bikes and Accessories</td></tr><tr><td>Fasteners &amp; Bolts Outlet</td></tr><tr><td>Field Trip Inc</td></tr><tr><td>Field Trip Store</td></tr><tr><td>Fifth Bike Store</td></tr><tr><td>Finer Cycle Shop</td></tr><tr><td>Finer Mart</td></tr><tr><td>Finer Parts Shop</td></tr><tr><td>Finer Riding Supplies</td></tr><tr><td>Finish and Sealant Products</td></tr><tr><td>First Bike Store</td></tr><tr><td>First Cycle Store</td></tr><tr><td>First Department Stores</td></tr><tr><td>First-Rate Outlet</td></tr><tr><td>Fitness Cycling</td></tr><tr><td>Fitness Department Stores</td></tr><tr><td>Fitness Hotel</td></tr><tr><td>Fitness Supplies</td></tr><tr><td>Fitness Toy Store</td></tr><tr><td>Fleet Bikes</td></tr><tr><td>Friendly Bike Shop</td></tr><tr><td>Friendly Neighborhood Bikes</td></tr><tr><td>Front Sporting Goods</td></tr><tr><td>Frugal Bike Shop</td></tr><tr><td>Full-Service Bike Store</td></tr><tr><td>Fun Times Club</td></tr><tr><td>Fun Toys and Bikes</td></tr><tr><td>Future Bikes</td></tr><tr><td>Futuristic Bikes</td></tr><tr><td>Futuristic Sport Distributors</td></tr><tr><td>Gasless Cycle Shop</td></tr><tr><td>Gear-Shift Bikes Limited</td></tr><tr><td>General Bike Corporation</td></tr><tr><td>General Cycle Storehouse</td></tr><tr><td>General Department Stores</td></tr><tr><td>General Industries</td></tr><tr><td>General Riding Supplies</td></tr><tr><td>General Supplies</td></tr><tr><td>Genial Bike Associates</td></tr><tr><td>Genuine Bike Shop</td></tr><tr><td>Gift and Toy Store</td></tr><tr><td>Go-cart and Bike Specialists</td></tr><tr><td>Golf and Cycle Store</td></tr><tr><td>Good Bike Shop</td></tr><tr><td>Good Toys</td></tr><tr><td>Grand Bicycle Stores</td></tr><tr><td>Grand Industries</td></tr><tr><td>Grand Sport Boutique</td></tr><tr><td>Grease and Oil Products Company</td></tr><tr><td>Great Bicycle Supply</td></tr><tr><td>Great Bikes </td></tr><tr><td>Greater Bike Store</td></tr><tr><td>Handy Bike Services</td></tr><tr><td>Health Spa, Limited</td></tr><tr><td>Highway Bike Shop</td></tr><tr><td>Historic Bicycle Sales</td></tr><tr><td>Home Town Bike Store</td></tr><tr><td>Honest Repair Service</td></tr><tr><td>Immense Manufacturing Company</td></tr><tr><td>Imported and Domestic Cycles</td></tr><tr><td>Initial Bike Company</td></tr><tr><td>Instruments and Parts Company</td></tr><tr><td>Journey Sporting Goods</td></tr><tr><td>Kickstand Sellers</td></tr><tr><td>Kickstands and Accessories Company</td></tr><tr><td>Large Bike Shop</td></tr><tr><td>Largest Bike Store</td></tr><tr><td>Latest Accessories Sales</td></tr><tr><td>Latest Sports Equipment</td></tr><tr><td>Leading Sales &amp; Repair</td></tr><tr><td>Leather Seat Factory</td></tr><tr><td>Leisure Activities</td></tr><tr><td>Leisure Clearing House</td></tr><tr><td>Little Bicycle Supply Shop</td></tr><tr><td>Local Hardware Factory</td></tr><tr><td>Local Sales and Rental</td></tr><tr><td>Locks Company</td></tr><tr><td>Lots of Bikes Storehouse</td></tr><tr><td>Low Price Cycles</td></tr><tr><td>Machines &amp; Cycles Store</td></tr><tr><td>Mail Market</td></tr><tr><td>Mail-Order Outlet</td></tr><tr><td>Maintenance and Repair for Bicycles</td></tr><tr><td>Major Cycling</td></tr><tr><td>Major Sport Suppliers</td></tr><tr><td>Major Sporting Goods</td></tr><tr><td>Many Bikes Store</td></tr><tr><td>Mechanical Products Ltd.</td></tr><tr><td>Mercantile Outlet</td></tr><tr><td>Metal Clearing House</td></tr><tr><td>Metal Processing Company</td></tr><tr><td>Metro Bike Works</td></tr><tr><td>Metro Cycle Shop</td></tr><tr><td>Metro Manufacturing</td></tr><tr><td>Metro Metals Co.</td></tr><tr><td>Metropolitan Bicycle Supply</td></tr><tr><td>Metropolitan Manufacturing</td></tr><tr><td>Metropolitan Sports Supply</td></tr><tr><td>Moderately-Priced Bikes Store</td></tr><tr><td>More Bikes!</td></tr><tr><td>Mountain Bike Center</td></tr><tr><td>Mountain Toy Store</td></tr><tr><td>National Manufacturing</td></tr><tr><td>Nearby Cycle Shop</td></tr><tr><td>Nearby Sporting Goods</td></tr><tr><td>Neighborhood Store</td></tr><tr><td>Nice Bikes</td></tr><tr><td>Nonskid Tire Company</td></tr><tr><td>Non-Slip Pedal Company</td></tr><tr><td>Novelty Bikes</td></tr><tr><td>Number 1 Supply</td></tr><tr><td>Number One Bike Co.</td></tr><tr><td>Odometers and Accessories Company</td></tr><tr><td>Official Parts Shop</td></tr><tr><td>Oils and Fluids Warehouse</td></tr><tr><td>One Bike Company</td></tr><tr><td>Online Bike Sellers</td></tr><tr><td>Online Bike Warehouse</td></tr><tr><td>Operational Manufacturing</td></tr><tr><td>Orange Bicycle Company</td></tr><tr><td>Original Bicycle Supply Company</td></tr><tr><td>Our Sporting Goods Store</td></tr><tr><td>Outdoor Aerobic Systems Company</td></tr><tr><td>Outdoor Sporting Goods</td></tr><tr><td>Outdoor Sports Supply</td></tr><tr><td>Outstanding Cycles</td></tr><tr><td>Paint Supply</td></tr><tr><td>Paints and Solvents Company</td></tr><tr><td>Parcel Express Delivery Service</td></tr><tr><td>Permanent Finish Products</td></tr><tr><td>Petroleum Products Distributors</td></tr><tr><td>Plastic Parts Company</td></tr><tr><td>Practical Bike Supply Company</td></tr><tr><td>Preferred Bikes</td></tr><tr><td>Price-Cutter Discount Bikes</td></tr><tr><td>Primary Bike Distributors</td></tr><tr><td>Principal Bike Company</td></tr><tr><td>Professional Containers and Packaging Co.</td></tr><tr><td>Professional Cycle Store</td></tr><tr><td>Professional Cyclists</td></tr><tr><td>Professional Sales and Service</td></tr><tr><td>Prosperous Tours</td></tr><tr><td>Quantity Discounts</td></tr><tr><td>Quick Delivery Service</td></tr><tr><td>Quick Parts and Service</td></tr><tr><td>Racing Bike Outlet</td></tr><tr><td>Racing Partners</td></tr><tr><td>Rally Master Company Inc</td></tr><tr><td>Rampart Amusement Company</td></tr><tr><td>Rapid Bikes</td></tr><tr><td>Raw Materials Inc</td></tr><tr><td>Real Sporting Goods</td></tr><tr><td>Reasonable Bicycle Sales</td></tr><tr><td>Recommended Bicycles</td></tr><tr><td>Red Bicycle Company</td></tr><tr><td>Regional Manufacturing</td></tr><tr><td>Reliable Retail Center</td></tr><tr><td>Remarkable Bike Store</td></tr><tr><td>Remote Bicycle Specialists</td></tr><tr><td>Rental Bikes</td></tr><tr><td>Requisite Part Supply</td></tr><tr><td>Resale Services</td></tr><tr><td>Responsible Bike Dealers</td></tr><tr><td>Retail Cycle Shop</td></tr><tr><td>Retail Discount Store</td></tr><tr><td>Retail Mall</td></tr><tr><td>Retail Sporting Equipment</td></tr><tr><td>Retail Sporting Goods</td></tr><tr><td>Retreat Inn</td></tr><tr><td>Rewarding Activities Company</td></tr><tr><td>Riders Company</td></tr><tr><td>Riding Associates</td></tr><tr><td>Riding Cycles</td></tr><tr><td>Riding Excursions</td></tr><tr><td>Road Way Sales and Rental</td></tr><tr><td>Roadway Bike Emporium</td></tr><tr><td>Road-Way Mart</td></tr><tr><td>Roadway Supplies</td></tr><tr><td>Roving Sports</td></tr><tr><td>Rugged Bikes</td></tr><tr><td>Running and Cycling Gear</td></tr><tr><td>Rural Cycle Emporium</td></tr><tr><td>Rural Department Store</td></tr><tr><td>Rural Sales and Service</td></tr><tr><td>Safe Toys</td></tr><tr><td>Satin Finish Company</td></tr><tr><td>Scooters and Bikes Store</td></tr><tr><td>Scratch-Resistant Finishes Company</td></tr><tr><td>Seats and Saddles Company</td></tr><tr><td>Security Racks and Locks Wholesalers</td></tr><tr><td>Sellers of Cycles</td></tr><tr><td>Separate Parts Corporation</td></tr><tr><td>Serious Cycles</td></tr><tr><td>Sharp Bikes</td></tr><tr><td>Sheet Metal Manufacturing</td></tr><tr><td>Shipping Specialists</td></tr><tr><td>Sixth Bike Store</td></tr><tr><td>Sleek Bikes </td></tr><tr><td>Small Bike Shop</td></tr><tr><td>Small Cycle Store</td></tr><tr><td>Social Activities Club</td></tr><tr><td>Solid Bike Parts</td></tr><tr><td>Some Discount Store</td></tr><tr><td>South Bike Company</td></tr><tr><td>Sparkling Paint and Finishes</td></tr><tr><td>Specialty Sports Store</td></tr><tr><td>Sports Commodities</td></tr><tr><td>Sports Merchandise</td></tr><tr><td>Sports Products Store</td></tr><tr><td>Sports Store</td></tr><tr><td>Standard Bikes</td></tr><tr><td>Stationary Bikes and Stands</td></tr><tr><td>Stock Parts and Supplies</td></tr><tr><td>Sturdy Toys</td></tr><tr><td>Suburban Cycle Shop</td></tr><tr><td>Successful Sales Company</td></tr><tr><td>Summer Sports Place</td></tr><tr><td>Sundry Sporting Goods</td></tr><tr><td>Superb Sales and Repair</td></tr><tr><td>Superior Hardware Distributors</td></tr><tr><td>Sure &amp; Reliable Sporting Goods</td></tr><tr><td>Swift Cycles</td></tr><tr><td>Synthetic Materials Manufacturing</td></tr><tr><td>Systematic Sales</td></tr><tr><td>Tachometers and Accessories</td></tr><tr><td>Tandem Sales and Service</td></tr><tr><td>Technical Parts Manufacturing</td></tr><tr><td>Tenth Bike Store</td></tr><tr><td>The Accessories Store</td></tr><tr><td>The Bicycle Accessories Company</td></tr><tr><td>The Bike Shop</td></tr><tr><td>The Commissary</td></tr><tr><td>The Gear Store</td></tr><tr><td>The New Bike Store</td></tr><tr><td>The Showroom</td></tr><tr><td>Third Bike Store</td></tr><tr><td>This Area Sporting Goods</td></tr><tr><td>Thorough Parts and Repair Services</td></tr><tr><td>Thrifty Parts and Sales</td></tr><tr><td>Thrilling Bike Tours</td></tr><tr><td>Tire Exchange</td></tr><tr><td>Top Bike Market</td></tr><tr><td>Top Sports Supply</td></tr><tr><td>Totes &amp; Baskets Company</td></tr><tr><td>Town Industries</td></tr><tr><td>Trailblazing Sports</td></tr><tr><td>Transport Bikes</td></tr><tr><td>Transportation Options</td></tr><tr><td>Travel Sports</td></tr><tr><td>Travel Systems</td></tr><tr><td>Trendy Department Stores</td></tr><tr><td>Tubeless Tire Company</td></tr><tr><td>Twelfth Bike Store</td></tr><tr><td>Two Bike Shops</td></tr><tr><td>Two Wheels Cycle Store</td></tr><tr><td>Two-Seater Bikes</td></tr><tr><td>Two-Wheeled Transit Company</td></tr><tr><td>Unique Bikes</td></tr><tr><td>Unsurpassed Bikes</td></tr><tr><td>Up-To-Date Sports</td></tr><tr><td>Urban Sports Emporium</td></tr><tr><td>Utilitarian Sporting Goods</td></tr><tr><td>Uttermost Bike Shop</td></tr><tr><td>Vale Riding Supplies</td></tr><tr><td>Valley Bicycle Distributors</td></tr><tr><td>Valley Bicycle Specialists</td></tr><tr><td>Valley Toy Store</td></tr><tr><td>Variety Cycling</td></tr><tr><td>Vast Bike Sales and Rental</td></tr><tr><td>Vehicle Shop</td></tr><tr><td>Vigorous Exercise Company</td></tr><tr><td>Vigorous Sports Store</td></tr><tr><td>Vintage Sport Boutique</td></tr><tr><td>Vinyl and Plastic Goods Corporation</td></tr><tr><td>Weekend Bike Tours</td></tr><tr><td>West Side Mart</td></tr><tr><td>Western Bike Supplies</td></tr><tr><td>Westside Cycle Store</td></tr><tr><td>Westside Plaza</td></tr><tr><td>Wheel Gallery</td></tr><tr><td>Wholesale Parts</td></tr><tr><td>Wingtip Toys</td></tr><tr><td>Wire Baskets and Parts</td></tr><tr><td>Work and Play Association</td></tr><tr><td>Workout Emporium</td></tr><tr><td>World Bike Discount Store</td></tr><tr><td>World of Bikes</td></tr><tr><td>Year-Round Sports</td></tr><tr><td>Yellow Bicycle Company</td></tr></table>"
                    },
                    "metadata": {}
                }
            ],
            "execution_count": 5
        },
        {
            "cell_type": "markdown",
            "source": [
                "**2.** Retrieve only customers with both a main office address and a shipping address Write a query that returns the company name of each company that appears in a table of customers with a ‘Main Office’ address, and also in a table of customers with a ‘Shipping’ address."
            ],
            "metadata": {
                "azdata_cell_guid": "db2720e2-5fae-4709-8ac1-5b98b4ef929f"
            },
            "attachments": {}
        },
        {
            "cell_type": "code",
            "source": [
                "SELECT C.CompanyName\r\n",
                "FROM Customer AS C\r\n",
                "JOIN CustomerAddress AS CA\r\n",
                "ON C.CustomerID = CA.CustomerID AND CA.AddressType = 'Main Office'\r\n",
                "JOIN Address AS A\r\n",
                "ON A.AddressID = CA.AddressID\r\n",
                "INTERSECT\r\n",
                "SELECT C.CompanyName\r\n",
                "FROM Customer AS C\r\n",
                "JOIN CustomerAddress AS CA\r\n",
                "ON C.CustomerID = CA.CustomerID AND CA.AddressType = 'Shipping'\r\n",
                "JOIN Address AS A\r\n",
                "ON A.AddressID = CA.AddressID;"
            ],
            "metadata": {
                "azdata_cell_guid": "10e0445c-881d-434f-a374-52a5defe7ca3"
            },
            "outputs": [
                {
                    "output_type": "display_data",
                    "data": {
                        "text/html": "(10 rows affected)"
                    },
                    "metadata": {}
                },
                {
                    "output_type": "display_data",
                    "data": {
                        "text/html": "Total execution time: 00:00:00.121"
                    },
                    "metadata": {}
                },
                {
                    "output_type": "execute_result",
                    "execution_count": 6,
                    "data": {
                        "application/vnd.dataresource+json": {
                            "schema": {
                                "fields": [
                                    {
                                        "name": "CompanyName"
                                    }
                                ]
                            },
                            "data": [
                                {
                                    "0": "All Cycle Shop"
                                },
                                {
                                    "0": "Center Cycle Shop"
                                },
                                {
                                    "0": "Elite Bikes"
                                },
                                {
                                    "0": "Family's Favorite Bike Shop"
                                },
                                {
                                    "0": "Hardware Components"
                                },
                                {
                                    "0": "Modular Cycle Systems"
                                },
                                {
                                    "0": "Progressive Sports"
                                },
                                {
                                    "0": "Racing Toys"
                                },
                                {
                                    "0": "Safe Cycles Shop"
                                },
                                {
                                    "0": "Sample Bike Store"
                                }
                            ]
                        },
                        "text/html": "<table><tr><th>CompanyName</th></tr><tr><td>All Cycle Shop</td></tr><tr><td>Center Cycle Shop</td></tr><tr><td>Elite Bikes</td></tr><tr><td>Family's Favorite Bike Shop</td></tr><tr><td>Hardware Components</td></tr><tr><td>Modular Cycle Systems</td></tr><tr><td>Progressive Sports</td></tr><tr><td>Racing Toys</td></tr><tr><td>Safe Cycles Shop</td></tr><tr><td>Sample Bike Store</td></tr></table>"
                    },
                    "metadata": {}
                }
            ],
            "execution_count": 6
        }
    ]
}