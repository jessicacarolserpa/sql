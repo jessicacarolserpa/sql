{
    "metadata": {
        "kernelspec": {
            "name": "SQL",
            "display_name": "SQL",
            "language": "sql"
        },
        "language_info": {
            "name": "sql",
            "version": ""
        },
        "extensions": {
            "azuredatastudio": {
                "version": 1,
                "views": []
            }
        }
    },
    "nbformat_minor": 2,
    "nbformat": 4,
    "cells": [
        {
            "cell_type": "markdown",
            "source": [
                "**<u>Lab06</u>**"
            ],
            "metadata": {
                "azdata_cell_guid": "d980388c-b3c9-47e3-9d2d-bf91a3cf937e"
            },
            "attachments": {}
        },
        {
            "cell_type": "markdown",
            "source": [
                "**Challenge 1**\n",
                "\n",
                "  \n",
                "\n",
                "**1\\.** Retrieve products whose list price is higher than the average unit price Retrieve the product ID, name, and list price for each product where the list price is higher than the average unit price for all products that have been sold."
            ],
            "metadata": {
                "azdata_cell_guid": "45fb33e2-1511-421f-b632-f0676a5040ab"
            },
            "attachments": {}
        },
        {
            "cell_type": "code",
            "source": [
                "SELECT ProductID, Name, ListPrice \r\n",
                "FROM Product\r\n",
                "WHERE ListPrice > \r\n",
                "(SELECT AVG(UnitPrice) \r\n",
                "FROM SalesOrderDetail); /* COMO ELE CONSEGUE VER A MÉDIA DE OUTRA TABELA SEM FAZER JOIN? USANDO SUB CONSULTAS */ "
            ],
            "metadata": {
                "azdata_cell_guid": "84d3dc68-4e63-4216-9d90-5075e8ee2091"
            },
            "outputs": [
                {
                    "output_type": "display_data",
                    "data": {
                        "text/html": "(137 rows affected)"
                    },
                    "metadata": {}
                },
                {
                    "output_type": "display_data",
                    "data": {
                        "text/html": "Total execution time: 00:00:00.190"
                    },
                    "metadata": {}
                },
                {
                    "output_type": "execute_result",
                    "metadata": {},
                    "execution_count": 2,
                    "data": {
                        "application/vnd.dataresource+json": {
                            "schema": {
                                "fields": [
                                    {
                                        "name": "ProductID"
                                    },
                                    {
                                        "name": "Name"
                                    },
                                    {
                                        "name": "ListPrice"
                                    }
                                ]
                            },
                            "data": [
                                {
                                    "0": "680",
                                    "1": "HL Road Frame - Black, 58",
                                    "2": "1431.5000"
                                },
                                {
                                    "0": "706",
                                    "1": "HL Road Frame - Red, 58",
                                    "2": "1431.5000"
                                },
                                {
                                    "0": "717",
                                    "1": "HL Road Frame - Red, 62",
                                    "2": "1431.5000"
                                },
                                {
                                    "0": "718",
                                    "1": "HL Road Frame - Red, 44",
                                    "2": "1431.5000"
                                },
                                {
                                    "0": "719",
                                    "1": "HL Road Frame - Red, 48",
                                    "2": "1431.5000"
                                },
                                {
                                    "0": "720",
                                    "1": "HL Road Frame - Red, 52",
                                    "2": "1431.5000"
                                },
                                {
                                    "0": "721",
                                    "1": "HL Road Frame - Red, 56",
                                    "2": "1431.5000"
                                },
                                {
                                    "0": "731",
                                    "1": "ML Road Frame - Red, 44",
                                    "2": "594.8300"
                                },
                                {
                                    "0": "732",
                                    "1": "ML Road Frame - Red, 48",
                                    "2": "594.8300"
                                },
                                {
                                    "0": "733",
                                    "1": "ML Road Frame - Red, 52",
                                    "2": "594.8300"
                                },
                                {
                                    "0": "734",
                                    "1": "ML Road Frame - Red, 58",
                                    "2": "594.8300"
                                },
                                {
                                    "0": "735",
                                    "1": "ML Road Frame - Red, 60",
                                    "2": "594.8300"
                                },
                                {
                                    "0": "739",
                                    "1": "HL Mountain Frame - Silver, 42",
                                    "2": "1364.5000"
                                },
                                {
                                    "0": "740",
                                    "1": "HL Mountain Frame - Silver, 44",
                                    "2": "1364.5000"
                                },
                                {
                                    "0": "741",
                                    "1": "HL Mountain Frame - Silver, 48",
                                    "2": "1364.5000"
                                },
                                {
                                    "0": "742",
                                    "1": "HL Mountain Frame - Silver, 46",
                                    "2": "1364.5000"
                                },
                                {
                                    "0": "743",
                                    "1": "HL Mountain Frame - Black, 42",
                                    "2": "1349.6000"
                                },
                                {
                                    "0": "744",
                                    "1": "HL Mountain Frame - Black, 44",
                                    "2": "1349.6000"
                                },
                                {
                                    "0": "745",
                                    "1": "HL Mountain Frame - Black, 48",
                                    "2": "1349.6000"
                                },
                                {
                                    "0": "746",
                                    "1": "HL Mountain Frame - Black, 46",
                                    "2": "1349.6000"
                                },
                                {
                                    "0": "747",
                                    "1": "HL Mountain Frame - Black, 38",
                                    "2": "1349.6000"
                                },
                                {
                                    "0": "748",
                                    "1": "HL Mountain Frame - Silver, 38",
                                    "2": "1364.5000"
                                },
                                {
                                    "0": "749",
                                    "1": "Road-150 Red, 62",
                                    "2": "3578.2700"
                                },
                                {
                                    "0": "750",
                                    "1": "Road-150 Red, 44",
                                    "2": "3578.2700"
                                },
                                {
                                    "0": "751",
                                    "1": "Road-150 Red, 48",
                                    "2": "3578.2700"
                                },
                                {
                                    "0": "752",
                                    "1": "Road-150 Red, 52",
                                    "2": "3578.2700"
                                },
                                {
                                    "0": "753",
                                    "1": "Road-150 Red, 56",
                                    "2": "3578.2700"
                                },
                                {
                                    "0": "754",
                                    "1": "Road-450 Red, 58",
                                    "2": "1457.9900"
                                },
                                {
                                    "0": "755",
                                    "1": "Road-450 Red, 60",
                                    "2": "1457.9900"
                                },
                                {
                                    "0": "756",
                                    "1": "Road-450 Red, 44",
                                    "2": "1457.9900"
                                },
                                {
                                    "0": "757",
                                    "1": "Road-450 Red, 48",
                                    "2": "1457.9900"
                                },
                                {
                                    "0": "758",
                                    "1": "Road-450 Red, 52",
                                    "2": "1457.9900"
                                },
                                {
                                    "0": "759",
                                    "1": "Road-650 Red, 58",
                                    "2": "782.9900"
                                },
                                {
                                    "0": "760",
                                    "1": "Road-650 Red, 60",
                                    "2": "782.9900"
                                },
                                {
                                    "0": "761",
                                    "1": "Road-650 Red, 62",
                                    "2": "782.9900"
                                },
                                {
                                    "0": "762",
                                    "1": "Road-650 Red, 44",
                                    "2": "782.9900"
                                },
                                {
                                    "0": "763",
                                    "1": "Road-650 Red, 48",
                                    "2": "782.9900"
                                },
                                {
                                    "0": "764",
                                    "1": "Road-650 Red, 52",
                                    "2": "782.9900"
                                },
                                {
                                    "0": "765",
                                    "1": "Road-650 Black, 58",
                                    "2": "782.9900"
                                },
                                {
                                    "0": "766",
                                    "1": "Road-650 Black, 60",
                                    "2": "782.9900"
                                },
                                {
                                    "0": "767",
                                    "1": "Road-650 Black, 62",
                                    "2": "782.9900"
                                },
                                {
                                    "0": "768",
                                    "1": "Road-650 Black, 44",
                                    "2": "782.9900"
                                },
                                {
                                    "0": "769",
                                    "1": "Road-650 Black, 48",
                                    "2": "782.9900"
                                },
                                {
                                    "0": "770",
                                    "1": "Road-650 Black, 52",
                                    "2": "782.9900"
                                },
                                {
                                    "0": "771",
                                    "1": "Mountain-100 Silver, 38",
                                    "2": "3399.9900"
                                },
                                {
                                    "0": "772",
                                    "1": "Mountain-100 Silver, 42",
                                    "2": "3399.9900"
                                },
                                {
                                    "0": "773",
                                    "1": "Mountain-100 Silver, 44",
                                    "2": "3399.9900"
                                },
                                {
                                    "0": "774",
                                    "1": "Mountain-100 Silver, 48",
                                    "2": "3399.9900"
                                },
                                {
                                    "0": "775",
                                    "1": "Mountain-100 Black, 38",
                                    "2": "3374.9900"
                                },
                                {
                                    "0": "776",
                                    "1": "Mountain-100 Black, 42",
                                    "2": "3374.9900"
                                },
                                {
                                    "0": "777",
                                    "1": "Mountain-100 Black, 44",
                                    "2": "3374.9900"
                                },
                                {
                                    "0": "778",
                                    "1": "Mountain-100 Black, 48",
                                    "2": "3374.9900"
                                },
                                {
                                    "0": "779",
                                    "1": "Mountain-200 Silver, 38",
                                    "2": "2319.9900"
                                },
                                {
                                    "0": "780",
                                    "1": "Mountain-200 Silver, 42",
                                    "2": "2319.9900"
                                },
                                {
                                    "0": "781",
                                    "1": "Mountain-200 Silver, 46",
                                    "2": "2319.9900"
                                },
                                {
                                    "0": "782",
                                    "1": "Mountain-200 Black, 38",
                                    "2": "2294.9900"
                                },
                                {
                                    "0": "783",
                                    "1": "Mountain-200 Black, 42",
                                    "2": "2294.9900"
                                },
                                {
                                    "0": "784",
                                    "1": "Mountain-200 Black, 46",
                                    "2": "2294.9900"
                                },
                                {
                                    "0": "785",
                                    "1": "Mountain-300 Black, 38",
                                    "2": "1079.9900"
                                },
                                {
                                    "0": "786",
                                    "1": "Mountain-300 Black, 40",
                                    "2": "1079.9900"
                                },
                                {
                                    "0": "787",
                                    "1": "Mountain-300 Black, 44",
                                    "2": "1079.9900"
                                },
                                {
                                    "0": "788",
                                    "1": "Mountain-300 Black, 48",
                                    "2": "1079.9900"
                                },
                                {
                                    "0": "789",
                                    "1": "Road-250 Red, 44",
                                    "2": "2443.3500"
                                },
                                {
                                    "0": "790",
                                    "1": "Road-250 Red, 48",
                                    "2": "2443.3500"
                                },
                                {
                                    "0": "791",
                                    "1": "Road-250 Red, 52",
                                    "2": "2443.3500"
                                },
                                {
                                    "0": "792",
                                    "1": "Road-250 Red, 58",
                                    "2": "2443.3500"
                                },
                                {
                                    "0": "793",
                                    "1": "Road-250 Black, 44",
                                    "2": "2443.3500"
                                },
                                {
                                    "0": "794",
                                    "1": "Road-250 Black, 48",
                                    "2": "2443.3500"
                                },
                                {
                                    "0": "795",
                                    "1": "Road-250 Black, 52",
                                    "2": "2443.3500"
                                },
                                {
                                    "0": "796",
                                    "1": "Road-250 Black, 58",
                                    "2": "2443.3500"
                                },
                                {
                                    "0": "797",
                                    "1": "Road-550-W Yellow, 38",
                                    "2": "1120.4900"
                                },
                                {
                                    "0": "798",
                                    "1": "Road-550-W Yellow, 40",
                                    "2": "1120.4900"
                                },
                                {
                                    "0": "799",
                                    "1": "Road-550-W Yellow, 42",
                                    "2": "1120.4900"
                                },
                                {
                                    "0": "800",
                                    "1": "Road-550-W Yellow, 44",
                                    "2": "1120.4900"
                                },
                                {
                                    "0": "801",
                                    "1": "Road-550-W Yellow, 48",
                                    "2": "1120.4900"
                                },
                                {
                                    "0": "822",
                                    "1": "ML Road Frame-W - Yellow, 38",
                                    "2": "594.8300"
                                },
                                {
                                    "0": "833",
                                    "1": "ML Road Frame-W - Yellow, 40",
                                    "2": "594.8300"
                                },
                                {
                                    "0": "834",
                                    "1": "ML Road Frame-W - Yellow, 42",
                                    "2": "594.8300"
                                },
                                {
                                    "0": "835",
                                    "1": "ML Road Frame-W - Yellow, 44",
                                    "2": "594.8300"
                                },
                                {
                                    "0": "836",
                                    "1": "ML Road Frame-W - Yellow, 48",
                                    "2": "594.8300"
                                },
                                {
                                    "0": "837",
                                    "1": "HL Road Frame - Black, 62",
                                    "2": "1431.5000"
                                },
                                {
                                    "0": "838",
                                    "1": "HL Road Frame - Black, 44",
                                    "2": "1431.5000"
                                },
                                {
                                    "0": "839",
                                    "1": "HL Road Frame - Black, 48",
                                    "2": "1431.5000"
                                },
                                {
                                    "0": "840",
                                    "1": "HL Road Frame - Black, 52",
                                    "2": "1431.5000"
                                },
                                {
                                    "0": "885",
                                    "1": "HL Touring Frame - Yellow, 60",
                                    "2": "1003.9100"
                                },
                                {
                                    "0": "887",
                                    "1": "HL Touring Frame - Yellow, 46",
                                    "2": "1003.9100"
                                },
                                {
                                    "0": "888",
                                    "1": "HL Touring Frame - Yellow, 50",
                                    "2": "1003.9100"
                                },
                                {
                                    "0": "889",
                                    "1": "HL Touring Frame - Yellow, 54",
                                    "2": "1003.9100"
                                },
                                {
                                    "0": "890",
                                    "1": "HL Touring Frame - Blue, 46",
                                    "2": "1003.9100"
                                },
                                {
                                    "0": "891",
                                    "1": "HL Touring Frame - Blue, 50",
                                    "2": "1003.9100"
                                },
                                {
                                    "0": "892",
                                    "1": "HL Touring Frame - Blue, 54",
                                    "2": "1003.9100"
                                },
                                {
                                    "0": "893",
                                    "1": "HL Touring Frame - Blue, 60",
                                    "2": "1003.9100"
                                },
                                {
                                    "0": "951",
                                    "1": "HL Crankset",
                                    "2": "404.9900"
                                },
                                {
                                    "0": "953",
                                    "1": "Touring-2000 Blue, 60",
                                    "2": "1214.8500"
                                },
                                {
                                    "0": "954",
                                    "1": "Touring-1000 Yellow, 46",
                                    "2": "2384.0700"
                                },
                                {
                                    "0": "955",
                                    "1": "Touring-1000 Yellow, 50",
                                    "2": "2384.0700"
                                },
                                {
                                    "0": "956",
                                    "1": "Touring-1000 Yellow, 54",
                                    "2": "2384.0700"
                                },
                                {
                                    "0": "957",
                                    "1": "Touring-1000 Yellow, 60",
                                    "2": "2384.0700"
                                },
                                {
                                    "0": "958",
                                    "1": "Touring-3000 Blue, 54",
                                    "2": "742.3500"
                                },
                                {
                                    "0": "959",
                                    "1": "Touring-3000 Blue, 58",
                                    "2": "742.3500"
                                },
                                {
                                    "0": "960",
                                    "1": "Touring-3000 Blue, 62",
                                    "2": "742.3500"
                                },
                                {
                                    "0": "961",
                                    "1": "Touring-3000 Yellow, 44",
                                    "2": "742.3500"
                                },
                                {
                                    "0": "962",
                                    "1": "Touring-3000 Yellow, 50",
                                    "2": "742.3500"
                                },
                                {
                                    "0": "963",
                                    "1": "Touring-3000 Yellow, 54",
                                    "2": "742.3500"
                                },
                                {
                                    "0": "964",
                                    "1": "Touring-3000 Yellow, 58",
                                    "2": "742.3500"
                                },
                                {
                                    "0": "965",
                                    "1": "Touring-3000 Yellow, 62",
                                    "2": "742.3500"
                                },
                                {
                                    "0": "966",
                                    "1": "Touring-1000 Blue, 46",
                                    "2": "2384.0700"
                                },
                                {
                                    "0": "967",
                                    "1": "Touring-1000 Blue, 50",
                                    "2": "2384.0700"
                                },
                                {
                                    "0": "968",
                                    "1": "Touring-1000 Blue, 54",
                                    "2": "2384.0700"
                                },
                                {
                                    "0": "969",
                                    "1": "Touring-1000 Blue, 60",
                                    "2": "2384.0700"
                                },
                                {
                                    "0": "970",
                                    "1": "Touring-2000 Blue, 46",
                                    "2": "1214.8500"
                                },
                                {
                                    "0": "971",
                                    "1": "Touring-2000 Blue, 50",
                                    "2": "1214.8500"
                                },
                                {
                                    "0": "972",
                                    "1": "Touring-2000 Blue, 54",
                                    "2": "1214.8500"
                                },
                                {
                                    "0": "973",
                                    "1": "Road-350-W Yellow, 40",
                                    "2": "1700.9900"
                                },
                                {
                                    "0": "974",
                                    "1": "Road-350-W Yellow, 42",
                                    "2": "1700.9900"
                                },
                                {
                                    "0": "975",
                                    "1": "Road-350-W Yellow, 44",
                                    "2": "1700.9900"
                                },
                                {
                                    "0": "976",
                                    "1": "Road-350-W Yellow, 48",
                                    "2": "1700.9900"
                                },
                                {
                                    "0": "977",
                                    "1": "Road-750 Black, 58",
                                    "2": "539.9900"
                                },
                                {
                                    "0": "978",
                                    "1": "Touring-3000 Blue, 44",
                                    "2": "742.3500"
                                },
                                {
                                    "0": "979",
                                    "1": "Touring-3000 Blue, 50",
                                    "2": "742.3500"
                                },
                                {
                                    "0": "980",
                                    "1": "Mountain-400-W Silver, 38",
                                    "2": "769.4900"
                                },
                                {
                                    "0": "981",
                                    "1": "Mountain-400-W Silver, 40",
                                    "2": "769.4900"
                                },
                                {
                                    "0": "982",
                                    "1": "Mountain-400-W Silver, 42",
                                    "2": "769.4900"
                                },
                                {
                                    "0": "983",
                                    "1": "Mountain-400-W Silver, 46",
                                    "2": "769.4900"
                                },
                                {
                                    "0": "984",
                                    "1": "Mountain-500 Silver, 40",
                                    "2": "564.9900"
                                },
                                {
                                    "0": "985",
                                    "1": "Mountain-500 Silver, 42",
                                    "2": "564.9900"
                                },
                                {
                                    "0": "986",
                                    "1": "Mountain-500 Silver, 44",
                                    "2": "564.9900"
                                },
                                {
                                    "0": "987",
                                    "1": "Mountain-500 Silver, 48",
                                    "2": "564.9900"
                                },
                                {
                                    "0": "988",
                                    "1": "Mountain-500 Silver, 52",
                                    "2": "564.9900"
                                },
                                {
                                    "0": "989",
                                    "1": "Mountain-500 Black, 40",
                                    "2": "539.9900"
                                },
                                {
                                    "0": "990",
                                    "1": "Mountain-500 Black, 42",
                                    "2": "539.9900"
                                },
                                {
                                    "0": "991",
                                    "1": "Mountain-500 Black, 44",
                                    "2": "539.9900"
                                },
                                {
                                    "0": "992",
                                    "1": "Mountain-500 Black, 48",
                                    "2": "539.9900"
                                },
                                {
                                    "0": "993",
                                    "1": "Mountain-500 Black, 52",
                                    "2": "539.9900"
                                },
                                {
                                    "0": "997",
                                    "1": "Road-750 Black, 44",
                                    "2": "539.9900"
                                },
                                {
                                    "0": "998",
                                    "1": "Road-750 Black, 48",
                                    "2": "539.9900"
                                },
                                {
                                    "0": "999",
                                    "1": "Road-750 Black, 52",
                                    "2": "539.9900"
                                }
                            ]
                        },
                        "text/html": [
                            "<table>",
                            "<tr><th>ProductID</th><th>Name</th><th>ListPrice</th></tr>",
                            "<tr><td>680</td><td>HL Road Frame - Black, 58</td><td>1431.5000</td></tr>",
                            "<tr><td>706</td><td>HL Road Frame - Red, 58</td><td>1431.5000</td></tr>",
                            "<tr><td>717</td><td>HL Road Frame - Red, 62</td><td>1431.5000</td></tr>",
                            "<tr><td>718</td><td>HL Road Frame - Red, 44</td><td>1431.5000</td></tr>",
                            "<tr><td>719</td><td>HL Road Frame - Red, 48</td><td>1431.5000</td></tr>",
                            "<tr><td>720</td><td>HL Road Frame - Red, 52</td><td>1431.5000</td></tr>",
                            "<tr><td>721</td><td>HL Road Frame - Red, 56</td><td>1431.5000</td></tr>",
                            "<tr><td>731</td><td>ML Road Frame - Red, 44</td><td>594.8300</td></tr>",
                            "<tr><td>732</td><td>ML Road Frame - Red, 48</td><td>594.8300</td></tr>",
                            "<tr><td>733</td><td>ML Road Frame - Red, 52</td><td>594.8300</td></tr>",
                            "<tr><td>734</td><td>ML Road Frame - Red, 58</td><td>594.8300</td></tr>",
                            "<tr><td>735</td><td>ML Road Frame - Red, 60</td><td>594.8300</td></tr>",
                            "<tr><td>739</td><td>HL Mountain Frame - Silver, 42</td><td>1364.5000</td></tr>",
                            "<tr><td>740</td><td>HL Mountain Frame - Silver, 44</td><td>1364.5000</td></tr>",
                            "<tr><td>741</td><td>HL Mountain Frame - Silver, 48</td><td>1364.5000</td></tr>",
                            "<tr><td>742</td><td>HL Mountain Frame - Silver, 46</td><td>1364.5000</td></tr>",
                            "<tr><td>743</td><td>HL Mountain Frame - Black, 42</td><td>1349.6000</td></tr>",
                            "<tr><td>744</td><td>HL Mountain Frame - Black, 44</td><td>1349.6000</td></tr>",
                            "<tr><td>745</td><td>HL Mountain Frame - Black, 48</td><td>1349.6000</td></tr>",
                            "<tr><td>746</td><td>HL Mountain Frame - Black, 46</td><td>1349.6000</td></tr>",
                            "<tr><td>747</td><td>HL Mountain Frame - Black, 38</td><td>1349.6000</td></tr>",
                            "<tr><td>748</td><td>HL Mountain Frame - Silver, 38</td><td>1364.5000</td></tr>",
                            "<tr><td>749</td><td>Road-150 Red, 62</td><td>3578.2700</td></tr>",
                            "<tr><td>750</td><td>Road-150 Red, 44</td><td>3578.2700</td></tr>",
                            "<tr><td>751</td><td>Road-150 Red, 48</td><td>3578.2700</td></tr>",
                            "<tr><td>752</td><td>Road-150 Red, 52</td><td>3578.2700</td></tr>",
                            "<tr><td>753</td><td>Road-150 Red, 56</td><td>3578.2700</td></tr>",
                            "<tr><td>754</td><td>Road-450 Red, 58</td><td>1457.9900</td></tr>",
                            "<tr><td>755</td><td>Road-450 Red, 60</td><td>1457.9900</td></tr>",
                            "<tr><td>756</td><td>Road-450 Red, 44</td><td>1457.9900</td></tr>",
                            "<tr><td>757</td><td>Road-450 Red, 48</td><td>1457.9900</td></tr>",
                            "<tr><td>758</td><td>Road-450 Red, 52</td><td>1457.9900</td></tr>",
                            "<tr><td>759</td><td>Road-650 Red, 58</td><td>782.9900</td></tr>",
                            "<tr><td>760</td><td>Road-650 Red, 60</td><td>782.9900</td></tr>",
                            "<tr><td>761</td><td>Road-650 Red, 62</td><td>782.9900</td></tr>",
                            "<tr><td>762</td><td>Road-650 Red, 44</td><td>782.9900</td></tr>",
                            "<tr><td>763</td><td>Road-650 Red, 48</td><td>782.9900</td></tr>",
                            "<tr><td>764</td><td>Road-650 Red, 52</td><td>782.9900</td></tr>",
                            "<tr><td>765</td><td>Road-650 Black, 58</td><td>782.9900</td></tr>",
                            "<tr><td>766</td><td>Road-650 Black, 60</td><td>782.9900</td></tr>",
                            "<tr><td>767</td><td>Road-650 Black, 62</td><td>782.9900</td></tr>",
                            "<tr><td>768</td><td>Road-650 Black, 44</td><td>782.9900</td></tr>",
                            "<tr><td>769</td><td>Road-650 Black, 48</td><td>782.9900</td></tr>",
                            "<tr><td>770</td><td>Road-650 Black, 52</td><td>782.9900</td></tr>",
                            "<tr><td>771</td><td>Mountain-100 Silver, 38</td><td>3399.9900</td></tr>",
                            "<tr><td>772</td><td>Mountain-100 Silver, 42</td><td>3399.9900</td></tr>",
                            "<tr><td>773</td><td>Mountain-100 Silver, 44</td><td>3399.9900</td></tr>",
                            "<tr><td>774</td><td>Mountain-100 Silver, 48</td><td>3399.9900</td></tr>",
                            "<tr><td>775</td><td>Mountain-100 Black, 38</td><td>3374.9900</td></tr>",
                            "<tr><td>776</td><td>Mountain-100 Black, 42</td><td>3374.9900</td></tr>",
                            "<tr><td>777</td><td>Mountain-100 Black, 44</td><td>3374.9900</td></tr>",
                            "<tr><td>778</td><td>Mountain-100 Black, 48</td><td>3374.9900</td></tr>",
                            "<tr><td>779</td><td>Mountain-200 Silver, 38</td><td>2319.9900</td></tr>",
                            "<tr><td>780</td><td>Mountain-200 Silver, 42</td><td>2319.9900</td></tr>",
                            "<tr><td>781</td><td>Mountain-200 Silver, 46</td><td>2319.9900</td></tr>",
                            "<tr><td>782</td><td>Mountain-200 Black, 38</td><td>2294.9900</td></tr>",
                            "<tr><td>783</td><td>Mountain-200 Black, 42</td><td>2294.9900</td></tr>",
                            "<tr><td>784</td><td>Mountain-200 Black, 46</td><td>2294.9900</td></tr>",
                            "<tr><td>785</td><td>Mountain-300 Black, 38</td><td>1079.9900</td></tr>",
                            "<tr><td>786</td><td>Mountain-300 Black, 40</td><td>1079.9900</td></tr>",
                            "<tr><td>787</td><td>Mountain-300 Black, 44</td><td>1079.9900</td></tr>",
                            "<tr><td>788</td><td>Mountain-300 Black, 48</td><td>1079.9900</td></tr>",
                            "<tr><td>789</td><td>Road-250 Red, 44</td><td>2443.3500</td></tr>",
                            "<tr><td>790</td><td>Road-250 Red, 48</td><td>2443.3500</td></tr>",
                            "<tr><td>791</td><td>Road-250 Red, 52</td><td>2443.3500</td></tr>",
                            "<tr><td>792</td><td>Road-250 Red, 58</td><td>2443.3500</td></tr>",
                            "<tr><td>793</td><td>Road-250 Black, 44</td><td>2443.3500</td></tr>",
                            "<tr><td>794</td><td>Road-250 Black, 48</td><td>2443.3500</td></tr>",
                            "<tr><td>795</td><td>Road-250 Black, 52</td><td>2443.3500</td></tr>",
                            "<tr><td>796</td><td>Road-250 Black, 58</td><td>2443.3500</td></tr>",
                            "<tr><td>797</td><td>Road-550-W Yellow, 38</td><td>1120.4900</td></tr>",
                            "<tr><td>798</td><td>Road-550-W Yellow, 40</td><td>1120.4900</td></tr>",
                            "<tr><td>799</td><td>Road-550-W Yellow, 42</td><td>1120.4900</td></tr>",
                            "<tr><td>800</td><td>Road-550-W Yellow, 44</td><td>1120.4900</td></tr>",
                            "<tr><td>801</td><td>Road-550-W Yellow, 48</td><td>1120.4900</td></tr>",
                            "<tr><td>822</td><td>ML Road Frame-W - Yellow, 38</td><td>594.8300</td></tr>",
                            "<tr><td>833</td><td>ML Road Frame-W - Yellow, 40</td><td>594.8300</td></tr>",
                            "<tr><td>834</td><td>ML Road Frame-W - Yellow, 42</td><td>594.8300</td></tr>",
                            "<tr><td>835</td><td>ML Road Frame-W - Yellow, 44</td><td>594.8300</td></tr>",
                            "<tr><td>836</td><td>ML Road Frame-W - Yellow, 48</td><td>594.8300</td></tr>",
                            "<tr><td>837</td><td>HL Road Frame - Black, 62</td><td>1431.5000</td></tr>",
                            "<tr><td>838</td><td>HL Road Frame - Black, 44</td><td>1431.5000</td></tr>",
                            "<tr><td>839</td><td>HL Road Frame - Black, 48</td><td>1431.5000</td></tr>",
                            "<tr><td>840</td><td>HL Road Frame - Black, 52</td><td>1431.5000</td></tr>",
                            "<tr><td>885</td><td>HL Touring Frame - Yellow, 60</td><td>1003.9100</td></tr>",
                            "<tr><td>887</td><td>HL Touring Frame - Yellow, 46</td><td>1003.9100</td></tr>",
                            "<tr><td>888</td><td>HL Touring Frame - Yellow, 50</td><td>1003.9100</td></tr>",
                            "<tr><td>889</td><td>HL Touring Frame - Yellow, 54</td><td>1003.9100</td></tr>",
                            "<tr><td>890</td><td>HL Touring Frame - Blue, 46</td><td>1003.9100</td></tr>",
                            "<tr><td>891</td><td>HL Touring Frame - Blue, 50</td><td>1003.9100</td></tr>",
                            "<tr><td>892</td><td>HL Touring Frame - Blue, 54</td><td>1003.9100</td></tr>",
                            "<tr><td>893</td><td>HL Touring Frame - Blue, 60</td><td>1003.9100</td></tr>",
                            "<tr><td>951</td><td>HL Crankset</td><td>404.9900</td></tr>",
                            "<tr><td>953</td><td>Touring-2000 Blue, 60</td><td>1214.8500</td></tr>",
                            "<tr><td>954</td><td>Touring-1000 Yellow, 46</td><td>2384.0700</td></tr>",
                            "<tr><td>955</td><td>Touring-1000 Yellow, 50</td><td>2384.0700</td></tr>",
                            "<tr><td>956</td><td>Touring-1000 Yellow, 54</td><td>2384.0700</td></tr>",
                            "<tr><td>957</td><td>Touring-1000 Yellow, 60</td><td>2384.0700</td></tr>",
                            "<tr><td>958</td><td>Touring-3000 Blue, 54</td><td>742.3500</td></tr>",
                            "<tr><td>959</td><td>Touring-3000 Blue, 58</td><td>742.3500</td></tr>",
                            "<tr><td>960</td><td>Touring-3000 Blue, 62</td><td>742.3500</td></tr>",
                            "<tr><td>961</td><td>Touring-3000 Yellow, 44</td><td>742.3500</td></tr>",
                            "<tr><td>962</td><td>Touring-3000 Yellow, 50</td><td>742.3500</td></tr>",
                            "<tr><td>963</td><td>Touring-3000 Yellow, 54</td><td>742.3500</td></tr>",
                            "<tr><td>964</td><td>Touring-3000 Yellow, 58</td><td>742.3500</td></tr>",
                            "<tr><td>965</td><td>Touring-3000 Yellow, 62</td><td>742.3500</td></tr>",
                            "<tr><td>966</td><td>Touring-1000 Blue, 46</td><td>2384.0700</td></tr>",
                            "<tr><td>967</td><td>Touring-1000 Blue, 50</td><td>2384.0700</td></tr>",
                            "<tr><td>968</td><td>Touring-1000 Blue, 54</td><td>2384.0700</td></tr>",
                            "<tr><td>969</td><td>Touring-1000 Blue, 60</td><td>2384.0700</td></tr>",
                            "<tr><td>970</td><td>Touring-2000 Blue, 46</td><td>1214.8500</td></tr>",
                            "<tr><td>971</td><td>Touring-2000 Blue, 50</td><td>1214.8500</td></tr>",
                            "<tr><td>972</td><td>Touring-2000 Blue, 54</td><td>1214.8500</td></tr>",
                            "<tr><td>973</td><td>Road-350-W Yellow, 40</td><td>1700.9900</td></tr>",
                            "<tr><td>974</td><td>Road-350-W Yellow, 42</td><td>1700.9900</td></tr>",
                            "<tr><td>975</td><td>Road-350-W Yellow, 44</td><td>1700.9900</td></tr>",
                            "<tr><td>976</td><td>Road-350-W Yellow, 48</td><td>1700.9900</td></tr>",
                            "<tr><td>977</td><td>Road-750 Black, 58</td><td>539.9900</td></tr>",
                            "<tr><td>978</td><td>Touring-3000 Blue, 44</td><td>742.3500</td></tr>",
                            "<tr><td>979</td><td>Touring-3000 Blue, 50</td><td>742.3500</td></tr>",
                            "<tr><td>980</td><td>Mountain-400-W Silver, 38</td><td>769.4900</td></tr>",
                            "<tr><td>981</td><td>Mountain-400-W Silver, 40</td><td>769.4900</td></tr>",
                            "<tr><td>982</td><td>Mountain-400-W Silver, 42</td><td>769.4900</td></tr>",
                            "<tr><td>983</td><td>Mountain-400-W Silver, 46</td><td>769.4900</td></tr>",
                            "<tr><td>984</td><td>Mountain-500 Silver, 40</td><td>564.9900</td></tr>",
                            "<tr><td>985</td><td>Mountain-500 Silver, 42</td><td>564.9900</td></tr>",
                            "<tr><td>986</td><td>Mountain-500 Silver, 44</td><td>564.9900</td></tr>",
                            "<tr><td>987</td><td>Mountain-500 Silver, 48</td><td>564.9900</td></tr>",
                            "<tr><td>988</td><td>Mountain-500 Silver, 52</td><td>564.9900</td></tr>",
                            "<tr><td>989</td><td>Mountain-500 Black, 40</td><td>539.9900</td></tr>",
                            "<tr><td>990</td><td>Mountain-500 Black, 42</td><td>539.9900</td></tr>",
                            "<tr><td>991</td><td>Mountain-500 Black, 44</td><td>539.9900</td></tr>",
                            "<tr><td>992</td><td>Mountain-500 Black, 48</td><td>539.9900</td></tr>",
                            "<tr><td>993</td><td>Mountain-500 Black, 52</td><td>539.9900</td></tr>",
                            "<tr><td>997</td><td>Road-750 Black, 44</td><td>539.9900</td></tr>",
                            "<tr><td>998</td><td>Road-750 Black, 48</td><td>539.9900</td></tr>",
                            "<tr><td>999</td><td>Road-750 Black, 52</td><td>539.9900</td></tr>",
                            "</table>"
                        ]
                    }
                }
            ],
            "execution_count": 2
        },
        {
            "cell_type": "markdown",
            "source": [
                "**2.** Retrieve Products with a list price of $100 or more that have been sold for less than $100 Retrieve the product ID, name, and list price for each product where the list price is $100 or more, and the product has been sold for less than $100."
            ],
            "metadata": {
                "azdata_cell_guid": "586ffe5f-5e9a-49b4-9ede-2e29df58aeb3"
            },
            "attachments": {}
        },
        {
            "cell_type": "code",
            "source": [
                "SELECT ProductID, Name, ListPrice \r\n",
                "FROM Product\r\n",
                "WHERE ListPrice >= 100\r\n",
                "AND ProductID IN \r\n",
                "(SELECT ProductID\r\n",
                "FROM SalesOrderDetail\r\n",
                "WHERE UnitPrice < 100);"
            ],
            "metadata": {
                "azdata_cell_guid": "e26cc13e-9ad1-4ea2-8594-3bc47813b47d"
            },
            "outputs": [
                {
                    "output_type": "display_data",
                    "data": {
                        "text/html": "(7 rows affected)"
                    },
                    "metadata": {}
                },
                {
                    "output_type": "display_data",
                    "data": {
                        "text/html": "Total execution time: 00:00:00.114"
                    },
                    "metadata": {}
                },
                {
                    "output_type": "execute_result",
                    "metadata": {},
                    "execution_count": 3,
                    "data": {
                        "application/vnd.dataresource+json": {
                            "schema": {
                                "fields": [
                                    {
                                        "name": "ProductID"
                                    },
                                    {
                                        "name": "Name"
                                    },
                                    {
                                        "name": "ListPrice"
                                    }
                                ]
                            },
                            "data": [
                                {
                                    "0": "810",
                                    "1": "HL Mountain Handlebars",
                                    "2": "120.2700"
                                },
                                {
                                    "0": "813",
                                    "1": "HL Road Handlebars",
                                    "2": "120.2700"
                                },
                                {
                                    "0": "876",
                                    "1": "Hitch Rack - 4-Bike",
                                    "2": "120.0000"
                                },
                                {
                                    "0": "894",
                                    "1": "Rear Derailleur",
                                    "2": "121.4600"
                                },
                                {
                                    "0": "907",
                                    "1": "Rear Brakes",
                                    "2": "106.5000"
                                },
                                {
                                    "0": "948",
                                    "1": "Front Brakes",
                                    "2": "106.5000"
                                },
                                {
                                    "0": "996",
                                    "1": "HL Bottom Bracket",
                                    "2": "121.4900"
                                }
                            ]
                        },
                        "text/html": [
                            "<table>",
                            "<tr><th>ProductID</th><th>Name</th><th>ListPrice</th></tr>",
                            "<tr><td>810</td><td>HL Mountain Handlebars</td><td>120.2700</td></tr>",
                            "<tr><td>813</td><td>HL Road Handlebars</td><td>120.2700</td></tr>",
                            "<tr><td>876</td><td>Hitch Rack - 4-Bike</td><td>120.0000</td></tr>",
                            "<tr><td>894</td><td>Rear Derailleur</td><td>121.4600</td></tr>",
                            "<tr><td>907</td><td>Rear Brakes</td><td>106.5000</td></tr>",
                            "<tr><td>948</td><td>Front Brakes</td><td>106.5000</td></tr>",
                            "<tr><td>996</td><td>HL Bottom Bracket</td><td>121.4900</td></tr>",
                            "</table>"
                        ]
                    }
                }
            ],
            "execution_count": 3
        },
        {
            "cell_type": "markdown",
            "source": [
                "**3**. Retrieve the cost, list price, and average selling price for each product Retrieve the product ID, name, cost, and list price for each product along with the average unit price for which that product has been sold."
            ],
            "metadata": {
                "azdata_cell_guid": "207f93ea-5fe4-4575-aa2b-446ba6bc0fd0"
            },
            "attachments": {}
        },
        {
            "cell_type": "code",
            "source": [
                "SELECT P.ProductID, P.Name, P.StandardCost, P.ListPrice, \r\n",
                "(SELECT AVG(SD.UnitPrice) \r\n",
                "FROM SalesOrderDetail AS SD\r\n",
                "WHERE SD.ProductID = P.ProductID) AS AverageUnitPrice\r\n",
                "FROM Product AS P;"
            ],
            "metadata": {
                "azdata_cell_guid": "e979d659-15f1-4ec5-95af-ac087e5778fe"
            },
            "outputs": [
                {
                    "output_type": "display_data",
                    "data": {
                        "text/html": "(299 rows affected)"
                    },
                    "metadata": {}
                },
                {
                    "output_type": "display_data",
                    "data": {
                        "text/html": "Total execution time: 00:00:00.216"
                    },
                    "metadata": {}
                },
                {
                    "output_type": "execute_result",
                    "metadata": {},
                    "execution_count": 4,
                    "data": {
                        "application/vnd.dataresource+json": {
                            "schema": {
                                "fields": [
                                    {
                                        "name": "ProductID"
                                    },
                                    {
                                        "name": "Name"
                                    },
                                    {
                                        "name": "StandardCost"
                                    },
                                    {
                                        "name": "ListPrice"
                                    },
                                    {
                                        "name": "AverageUnitPrice"
                                    }
                                ]
                            },
                            "data": [
                                {
                                    "0": "680",
                                    "1": "HL Road Frame - Black, 58",
                                    "2": "1059.3100",
                                    "3": "1431.5000",
                                    "4": "NULL"
                                },
                                {
                                    "0": "706",
                                    "1": "HL Road Frame - Red, 58",
                                    "2": "1059.3100",
                                    "3": "1431.5000",
                                    "4": "NULL"
                                },
                                {
                                    "0": "707",
                                    "1": "Sport-100 Helmet, Red",
                                    "2": "13.0863",
                                    "3": "34.9900",
                                    "4": "20.9940"
                                },
                                {
                                    "0": "708",
                                    "1": "Sport-100 Helmet, Black",
                                    "2": "13.0863",
                                    "3": "34.9900",
                                    "4": "20.6441"
                                },
                                {
                                    "0": "709",
                                    "1": "Mountain Bike Socks, M",
                                    "2": "3.3963",
                                    "3": "9.5000",
                                    "4": "NULL"
                                },
                                {
                                    "0": "710",
                                    "1": "Mountain Bike Socks, L",
                                    "2": "3.3963",
                                    "3": "9.5000",
                                    "4": "NULL"
                                },
                                {
                                    "0": "711",
                                    "1": "Sport-100 Helmet, Blue",
                                    "2": "13.0863",
                                    "3": "34.9900",
                                    "4": "20.7440"
                                },
                                {
                                    "0": "712",
                                    "1": "AWC Logo Cap",
                                    "2": "6.9223",
                                    "3": "8.9900",
                                    "4": "5.3740"
                                },
                                {
                                    "0": "713",
                                    "1": "Long-Sleeve Logo Jersey, S",
                                    "2": "38.4923",
                                    "3": "49.9900",
                                    "4": "NULL"
                                },
                                {
                                    "0": "714",
                                    "1": "Long-Sleeve Logo Jersey, M",
                                    "2": "38.4923",
                                    "3": "49.9900",
                                    "4": "29.9940"
                                },
                                {
                                    "0": "715",
                                    "1": "Long-Sleeve Logo Jersey, L",
                                    "2": "38.4923",
                                    "3": "49.9900",
                                    "4": "29.7440"
                                },
                                {
                                    "0": "716",
                                    "1": "Long-Sleeve Logo Jersey, XL",
                                    "2": "38.4923",
                                    "3": "49.9900",
                                    "4": "29.9940"
                                },
                                {
                                    "0": "717",
                                    "1": "HL Road Frame - Red, 62",
                                    "2": "868.6342",
                                    "3": "1431.5000",
                                    "4": "858.9000"
                                },
                                {
                                    "0": "718",
                                    "1": "HL Road Frame - Red, 44",
                                    "2": "868.6342",
                                    "3": "1431.5000",
                                    "4": "858.9000"
                                },
                                {
                                    "0": "719",
                                    "1": "HL Road Frame - Red, 48",
                                    "2": "868.6342",
                                    "3": "1431.5000",
                                    "4": "NULL"
                                },
                                {
                                    "0": "720",
                                    "1": "HL Road Frame - Red, 52",
                                    "2": "868.6342",
                                    "3": "1431.5000",
                                    "4": "NULL"
                                },
                                {
                                    "0": "721",
                                    "1": "HL Road Frame - Red, 56",
                                    "2": "868.6342",
                                    "3": "1431.5000",
                                    "4": "NULL"
                                },
                                {
                                    "0": "722",
                                    "1": "LL Road Frame - Black, 58",
                                    "2": "204.6251",
                                    "3": "337.2200",
                                    "4": "202.3320"
                                },
                                {
                                    "0": "723",
                                    "1": "LL Road Frame - Black, 60",
                                    "2": "204.6251",
                                    "3": "337.2200",
                                    "4": "NULL"
                                },
                                {
                                    "0": "724",
                                    "1": "LL Road Frame - Black, 62",
                                    "2": "204.6251",
                                    "3": "337.2200",
                                    "4": "NULL"
                                },
                                {
                                    "0": "725",
                                    "1": "LL Road Frame - Red, 44",
                                    "2": "187.1571",
                                    "3": "337.2200",
                                    "4": "NULL"
                                },
                                {
                                    "0": "726",
                                    "1": "LL Road Frame - Red, 48",
                                    "2": "187.1571",
                                    "3": "337.2200",
                                    "4": "NULL"
                                },
                                {
                                    "0": "727",
                                    "1": "LL Road Frame - Red, 52",
                                    "2": "187.1571",
                                    "3": "337.2200",
                                    "4": "NULL"
                                },
                                {
                                    "0": "728",
                                    "1": "LL Road Frame - Red, 58",
                                    "2": "187.1571",
                                    "3": "337.2200",
                                    "4": "NULL"
                                },
                                {
                                    "0": "729",
                                    "1": "LL Road Frame - Red, 60",
                                    "2": "187.1571",
                                    "3": "337.2200",
                                    "4": "NULL"
                                },
                                {
                                    "0": "730",
                                    "1": "LL Road Frame - Red, 62",
                                    "2": "187.1571",
                                    "3": "337.2200",
                                    "4": "NULL"
                                },
                                {
                                    "0": "731",
                                    "1": "ML Road Frame - Red, 44",
                                    "2": "352.1394",
                                    "3": "594.8300",
                                    "4": "NULL"
                                },
                                {
                                    "0": "732",
                                    "1": "ML Road Frame - Red, 48",
                                    "2": "352.1394",
                                    "3": "594.8300",
                                    "4": "NULL"
                                },
                                {
                                    "0": "733",
                                    "1": "ML Road Frame - Red, 52",
                                    "2": "352.1394",
                                    "3": "594.8300",
                                    "4": "NULL"
                                },
                                {
                                    "0": "734",
                                    "1": "ML Road Frame - Red, 58",
                                    "2": "352.1394",
                                    "3": "594.8300",
                                    "4": "NULL"
                                },
                                {
                                    "0": "735",
                                    "1": "ML Road Frame - Red, 60",
                                    "2": "352.1394",
                                    "3": "594.8300",
                                    "4": "NULL"
                                },
                                {
                                    "0": "736",
                                    "1": "LL Road Frame - Black, 44",
                                    "2": "204.6251",
                                    "3": "337.2200",
                                    "4": "NULL"
                                },
                                {
                                    "0": "737",
                                    "1": "LL Road Frame - Black, 48",
                                    "2": "204.6251",
                                    "3": "337.2200",
                                    "4": "NULL"
                                },
                                {
                                    "0": "738",
                                    "1": "LL Road Frame - Black, 52",
                                    "2": "204.6251",
                                    "3": "337.2200",
                                    "4": "202.3320"
                                },
                                {
                                    "0": "739",
                                    "1": "HL Mountain Frame - Silver, 42",
                                    "2": "747.2002",
                                    "3": "1364.5000",
                                    "4": "818.7000"
                                },
                                {
                                    "0": "740",
                                    "1": "HL Mountain Frame - Silver, 44",
                                    "2": "706.8110",
                                    "3": "1364.5000",
                                    "4": "NULL"
                                },
                                {
                                    "0": "741",
                                    "1": "HL Mountain Frame - Silver, 48",
                                    "2": "706.8110",
                                    "3": "1364.5000",
                                    "4": "NULL"
                                },
                                {
                                    "0": "742",
                                    "1": "HL Mountain Frame - Silver, 46",
                                    "2": "747.2002",
                                    "3": "1364.5000",
                                    "4": "818.7000"
                                },
                                {
                                    "0": "743",
                                    "1": "HL Mountain Frame - Black, 42",
                                    "2": "739.0410",
                                    "3": "1349.6000",
                                    "4": "809.7600"
                                },
                                {
                                    "0": "744",
                                    "1": "HL Mountain Frame - Black, 44",
                                    "2": "699.0928",
                                    "3": "1349.6000",
                                    "4": "NULL"
                                },
                                {
                                    "0": "745",
                                    "1": "HL Mountain Frame - Black, 48",
                                    "2": "699.0928",
                                    "3": "1349.6000",
                                    "4": "NULL"
                                },
                                {
                                    "0": "746",
                                    "1": "HL Mountain Frame - Black, 46",
                                    "2": "739.0410",
                                    "3": "1349.6000",
                                    "4": "NULL"
                                },
                                {
                                    "0": "747",
                                    "1": "HL Mountain Frame - Black, 38",
                                    "2": "739.0410",
                                    "3": "1349.6000",
                                    "4": "809.7600"
                                },
                                {
                                    "0": "748",
                                    "1": "HL Mountain Frame - Silver, 38",
                                    "2": "747.2002",
                                    "3": "1364.5000",
                                    "4": "818.7000"
                                },
                                {
                                    "0": "749",
                                    "1": "Road-150 Red, 62",
                                    "2": "2171.2942",
                                    "3": "3578.2700",
                                    "4": "NULL"
                                },
                                {
                                    "0": "750",
                                    "1": "Road-150 Red, 44",
                                    "2": "2171.2942",
                                    "3": "3578.2700",
                                    "4": "NULL"
                                },
                                {
                                    "0": "751",
                                    "1": "Road-150 Red, 48",
                                    "2": "2171.2942",
                                    "3": "3578.2700",
                                    "4": "NULL"
                                },
                                {
                                    "0": "752",
                                    "1": "Road-150 Red, 52",
                                    "2": "2171.2942",
                                    "3": "3578.2700",
                                    "4": "NULL"
                                },
                                {
                                    "0": "753",
                                    "1": "Road-150 Red, 56",
                                    "2": "2171.2942",
                                    "3": "3578.2700",
                                    "4": "NULL"
                                },
                                {
                                    "0": "754",
                                    "1": "Road-450 Red, 58",
                                    "2": "884.7083",
                                    "3": "1457.9900",
                                    "4": "NULL"
                                },
                                {
                                    "0": "755",
                                    "1": "Road-450 Red, 60",
                                    "2": "884.7083",
                                    "3": "1457.9900",
                                    "4": "NULL"
                                },
                                {
                                    "0": "756",
                                    "1": "Road-450 Red, 44",
                                    "2": "884.7083",
                                    "3": "1457.9900",
                                    "4": "NULL"
                                },
                                {
                                    "0": "757",
                                    "1": "Road-450 Red, 48",
                                    "2": "884.7083",
                                    "3": "1457.9900",
                                    "4": "NULL"
                                },
                                {
                                    "0": "758",
                                    "1": "Road-450 Red, 52",
                                    "2": "884.7083",
                                    "3": "1457.9900",
                                    "4": "NULL"
                                },
                                {
                                    "0": "759",
                                    "1": "Road-650 Red, 58",
                                    "2": "486.7066",
                                    "3": "782.9900",
                                    "4": "NULL"
                                },
                                {
                                    "0": "760",
                                    "1": "Road-650 Red, 60",
                                    "2": "486.7066",
                                    "3": "782.9900",
                                    "4": "NULL"
                                },
                                {
                                    "0": "761",
                                    "1": "Road-650 Red, 62",
                                    "2": "486.7066",
                                    "3": "782.9900",
                                    "4": "NULL"
                                },
                                {
                                    "0": "762",
                                    "1": "Road-650 Red, 44",
                                    "2": "486.7066",
                                    "3": "782.9900",
                                    "4": "NULL"
                                },
                                {
                                    "0": "763",
                                    "1": "Road-650 Red, 48",
                                    "2": "486.7066",
                                    "3": "782.9900",
                                    "4": "NULL"
                                },
                                {
                                    "0": "764",
                                    "1": "Road-650 Red, 52",
                                    "2": "486.7066",
                                    "3": "782.9900",
                                    "4": "NULL"
                                },
                                {
                                    "0": "765",
                                    "1": "Road-650 Black, 58",
                                    "2": "486.7066",
                                    "3": "782.9900",
                                    "4": "NULL"
                                },
                                {
                                    "0": "766",
                                    "1": "Road-650 Black, 60",
                                    "2": "486.7066",
                                    "3": "782.9900",
                                    "4": "NULL"
                                },
                                {
                                    "0": "767",
                                    "1": "Road-650 Black, 62",
                                    "2": "486.7066",
                                    "3": "782.9900",
                                    "4": "NULL"
                                },
                                {
                                    "0": "768",
                                    "1": "Road-650 Black, 44",
                                    "2": "486.7066",
                                    "3": "782.9900",
                                    "4": "NULL"
                                },
                                {
                                    "0": "769",
                                    "1": "Road-650 Black, 48",
                                    "2": "486.7066",
                                    "3": "782.9900",
                                    "4": "NULL"
                                },
                                {
                                    "0": "770",
                                    "1": "Road-650 Black, 52",
                                    "2": "486.7066",
                                    "3": "782.9900",
                                    "4": "NULL"
                                },
                                {
                                    "0": "771",
                                    "1": "Mountain-100 Silver, 38",
                                    "2": "1912.1544",
                                    "3": "3399.9900",
                                    "4": "NULL"
                                },
                                {
                                    "0": "772",
                                    "1": "Mountain-100 Silver, 42",
                                    "2": "1912.1544",
                                    "3": "3399.9900",
                                    "4": "NULL"
                                },
                                {
                                    "0": "773",
                                    "1": "Mountain-100 Silver, 44",
                                    "2": "1912.1544",
                                    "3": "3399.9900",
                                    "4": "NULL"
                                },
                                {
                                    "0": "774",
                                    "1": "Mountain-100 Silver, 48",
                                    "2": "1912.1544",
                                    "3": "3399.9900",
                                    "4": "NULL"
                                },
                                {
                                    "0": "775",
                                    "1": "Mountain-100 Black, 38",
                                    "2": "1898.0944",
                                    "3": "3374.9900",
                                    "4": "NULL"
                                },
                                {
                                    "0": "776",
                                    "1": "Mountain-100 Black, 42",
                                    "2": "1898.0944",
                                    "3": "3374.9900",
                                    "4": "NULL"
                                },
                                {
                                    "0": "777",
                                    "1": "Mountain-100 Black, 44",
                                    "2": "1898.0944",
                                    "3": "3374.9900",
                                    "4": "NULL"
                                },
                                {
                                    "0": "778",
                                    "1": "Mountain-100 Black, 48",
                                    "2": "1898.0944",
                                    "3": "3374.9900",
                                    "4": "NULL"
                                },
                                {
                                    "0": "779",
                                    "1": "Mountain-200 Silver, 38",
                                    "2": "1265.6195",
                                    "3": "2319.9900",
                                    "4": "1391.9940"
                                },
                                {
                                    "0": "780",
                                    "1": "Mountain-200 Silver, 42",
                                    "2": "1265.6195",
                                    "3": "2319.9900",
                                    "4": "1391.9940"
                                },
                                {
                                    "0": "781",
                                    "1": "Mountain-200 Silver, 46",
                                    "2": "1265.6195",
                                    "3": "2319.9900",
                                    "4": "1391.9940"
                                },
                                {
                                    "0": "782",
                                    "1": "Mountain-200 Black, 38",
                                    "2": "1251.9813",
                                    "3": "2294.9900",
                                    "4": "1376.9940"
                                },
                                {
                                    "0": "783",
                                    "1": "Mountain-200 Black, 42",
                                    "2": "1251.9813",
                                    "3": "2294.9900",
                                    "4": "1376.9940"
                                },
                                {
                                    "0": "784",
                                    "1": "Mountain-200 Black, 46",
                                    "2": "1251.9813",
                                    "3": "2294.9900",
                                    "4": "1376.9940"
                                },
                                {
                                    "0": "785",
                                    "1": "Mountain-300 Black, 38",
                                    "2": "598.4354",
                                    "3": "1079.9900",
                                    "4": "NULL"
                                },
                                {
                                    "0": "786",
                                    "1": "Mountain-300 Black, 40",
                                    "2": "598.4354",
                                    "3": "1079.9900",
                                    "4": "NULL"
                                },
                                {
                                    "0": "787",
                                    "1": "Mountain-300 Black, 44",
                                    "2": "598.4354",
                                    "3": "1079.9900",
                                    "4": "NULL"
                                },
                                {
                                    "0": "788",
                                    "1": "Mountain-300 Black, 48",
                                    "2": "598.4354",
                                    "3": "1079.9900",
                                    "4": "NULL"
                                },
                                {
                                    "0": "789",
                                    "1": "Road-250 Red, 44",
                                    "2": "1518.7864",
                                    "3": "2443.3500",
                                    "4": "NULL"
                                },
                                {
                                    "0": "790",
                                    "1": "Road-250 Red, 48",
                                    "2": "1518.7864",
                                    "3": "2443.3500",
                                    "4": "NULL"
                                },
                                {
                                    "0": "791",
                                    "1": "Road-250 Red, 52",
                                    "2": "1518.7864",
                                    "3": "2443.3500",
                                    "4": "NULL"
                                },
                                {
                                    "0": "792",
                                    "1": "Road-250 Red, 58",
                                    "2": "1554.9479",
                                    "3": "2443.3500",
                                    "4": "1466.0100"
                                },
                                {
                                    "0": "793",
                                    "1": "Road-250 Black, 44",
                                    "2": "1554.9479",
                                    "3": "2443.3500",
                                    "4": "1466.0100"
                                },
                                {
                                    "0": "794",
                                    "1": "Road-250 Black, 48",
                                    "2": "1554.9479",
                                    "3": "2443.3500",
                                    "4": "1466.0100"
                                },
                                {
                                    "0": "795",
                                    "1": "Road-250 Black, 52",
                                    "2": "1554.9479",
                                    "3": "2443.3500",
                                    "4": "1466.0100"
                                },
                                {
                                    "0": "796",
                                    "1": "Road-250 Black, 58",
                                    "2": "1554.9479",
                                    "3": "2443.3500",
                                    "4": "1466.0100"
                                },
                                {
                                    "0": "797",
                                    "1": "Road-550-W Yellow, 38",
                                    "2": "713.0798",
                                    "3": "1120.4900",
                                    "4": "672.2940"
                                },
                                {
                                    "0": "798",
                                    "1": "Road-550-W Yellow, 40",
                                    "2": "713.0798",
                                    "3": "1120.4900",
                                    "4": "672.2940"
                                },
                                {
                                    "0": "799",
                                    "1": "Road-550-W Yellow, 42",
                                    "2": "713.0798",
                                    "3": "1120.4900",
                                    "4": "672.2940"
                                },
                                {
                                    "0": "800",
                                    "1": "Road-550-W Yellow, 44",
                                    "2": "713.0798",
                                    "3": "1120.4900",
                                    "4": "672.2940"
                                },
                                {
                                    "0": "801",
                                    "1": "Road-550-W Yellow, 48",
                                    "2": "713.0798",
                                    "3": "1120.4900",
                                    "4": "672.2940"
                                },
                                {
                                    "0": "802",
                                    "1": "LL Fork",
                                    "2": "65.8097",
                                    "3": "148.2200",
                                    "4": "NULL"
                                },
                                {
                                    "0": "803",
                                    "1": "ML Fork",
                                    "2": "77.9176",
                                    "3": "175.4900",
                                    "4": "NULL"
                                },
                                {
                                    "0": "804",
                                    "1": "HL Fork",
                                    "2": "101.8936",
                                    "3": "229.4900",
                                    "4": "NULL"
                                },
                                {
                                    "0": "805",
                                    "1": "LL Headset",
                                    "2": "15.1848",
                                    "3": "34.2000",
                                    "4": "NULL"
                                },
                                {
                                    "0": "806",
                                    "1": "ML Headset",
                                    "2": "45.4168",
                                    "3": "102.2900",
                                    "4": "NULL"
                                },
                                {
                                    "0": "807",
                                    "1": "HL Headset",
                                    "2": "55.3801",
                                    "3": "124.7300",
                                    "4": "NULL"
                                },
                                {
                                    "0": "808",
                                    "1": "LL Mountain Handlebars",
                                    "2": "19.7758",
                                    "3": "44.5400",
                                    "4": "26.7240"
                                },
                                {
                                    "0": "809",
                                    "1": "ML Mountain Handlebars",
                                    "2": "27.4925",
                                    "3": "61.9200",
                                    "4": "37.1520"
                                },
                                {
                                    "0": "810",
                                    "1": "HL Mountain Handlebars",
                                    "2": "53.3999",
                                    "3": "120.2700",
                                    "4": "72.1620"
                                },
                                {
                                    "0": "811",
                                    "1": "LL Road Handlebars",
                                    "2": "19.7758",
                                    "3": "44.5400",
                                    "4": "NULL"
                                },
                                {
                                    "0": "812",
                                    "1": "ML Road Handlebars",
                                    "2": "27.4925",
                                    "3": "61.9200",
                                    "4": "NULL"
                                },
                                {
                                    "0": "813",
                                    "1": "HL Road Handlebars",
                                    "2": "53.3999",
                                    "3": "120.2700",
                                    "4": "72.1620"
                                },
                                {
                                    "0": "814",
                                    "1": "ML Mountain Frame - Black, 38",
                                    "2": "185.8193",
                                    "3": "348.7600",
                                    "4": "NULL"
                                },
                                {
                                    "0": "815",
                                    "1": "LL Mountain Front Wheel",
                                    "2": "26.9708",
                                    "3": "60.7450",
                                    "4": "NULL"
                                },
                                {
                                    "0": "816",
                                    "1": "ML Mountain Front Wheel",
                                    "2": "92.8071",
                                    "3": "209.0250",
                                    "4": "NULL"
                                },
                                {
                                    "0": "817",
                                    "1": "HL Mountain Front Wheel",
                                    "2": "133.2955",
                                    "3": "300.2150",
                                    "4": "NULL"
                                },
                                {
                                    "0": "818",
                                    "1": "LL Road Front Wheel",
                                    "2": "37.9909",
                                    "3": "85.5650",
                                    "4": "NULL"
                                },
                                {
                                    "0": "819",
                                    "1": "ML Road Front Wheel",
                                    "2": "110.2829",
                                    "3": "248.3850",
                                    "4": "NULL"
                                },
                                {
                                    "0": "820",
                                    "1": "HL Road Front Wheel",
                                    "2": "146.5466",
                                    "3": "330.0600",
                                    "4": "NULL"
                                },
                                {
                                    "0": "821",
                                    "1": "Touring Front Wheel",
                                    "2": "96.7964",
                                    "3": "218.0100",
                                    "4": "NULL"
                                },
                                {
                                    "0": "822",
                                    "1": "ML Road Frame-W - Yellow, 38",
                                    "2": "360.9428",
                                    "3": "594.8300",
                                    "4": "356.8980"
                                },
                                {
                                    "0": "823",
                                    "1": "LL Mountain Rear Wheel",
                                    "2": "38.9588",
                                    "3": "87.7450",
                                    "4": "NULL"
                                },
                                {
                                    "0": "824",
                                    "1": "ML Mountain Rear Wheel",
                                    "2": "104.7951",
                                    "3": "236.0250",
                                    "4": "NULL"
                                },
                                {
                                    "0": "825",
                                    "1": "HL Mountain Rear Wheel",
                                    "2": "145.2835",
                                    "3": "327.2150",
                                    "4": "NULL"
                                },
                                {
                                    "0": "826",
                                    "1": "LL Road Rear Wheel",
                                    "2": "49.9789",
                                    "3": "112.5650",
                                    "4": "NULL"
                                },
                                {
                                    "0": "827",
                                    "1": "ML Road Rear Wheel",
                                    "2": "122.2709",
                                    "3": "275.3850",
                                    "4": "NULL"
                                },
                                {
                                    "0": "828",
                                    "1": "HL Road Rear Wheel",
                                    "2": "158.5346",
                                    "3": "357.0600",
                                    "4": "NULL"
                                },
                                {
                                    "0": "829",
                                    "1": "Touring Rear Wheel",
                                    "2": "108.7844",
                                    "3": "245.0100",
                                    "4": "NULL"
                                },
                                {
                                    "0": "830",
                                    "1": "ML Mountain Frame - Black, 40",
                                    "2": "185.8193",
                                    "3": "348.7600",
                                    "4": "NULL"
                                },
                                {
                                    "0": "831",
                                    "1": "ML Mountain Frame - Black, 44",
                                    "2": "185.8193",
                                    "3": "348.7600",
                                    "4": "NULL"
                                },
                                {
                                    "0": "832",
                                    "1": "ML Mountain Frame - Black, 48",
                                    "2": "185.8193",
                                    "3": "348.7600",
                                    "4": "NULL"
                                },
                                {
                                    "0": "833",
                                    "1": "ML Road Frame-W - Yellow, 40",
                                    "2": "360.9428",
                                    "3": "594.8300",
                                    "4": "NULL"
                                },
                                {
                                    "0": "834",
                                    "1": "ML Road Frame-W - Yellow, 42",
                                    "2": "360.9428",
                                    "3": "594.8300",
                                    "4": "NULL"
                                },
                                {
                                    "0": "835",
                                    "1": "ML Road Frame-W - Yellow, 44",
                                    "2": "360.9428",
                                    "3": "594.8300",
                                    "4": "356.8980"
                                },
                                {
                                    "0": "836",
                                    "1": "ML Road Frame-W - Yellow, 48",
                                    "2": "360.9428",
                                    "3": "594.8300",
                                    "4": "356.8980"
                                },
                                {
                                    "0": "837",
                                    "1": "HL Road Frame - Black, 62",
                                    "2": "868.6342",
                                    "3": "1431.5000",
                                    "4": "NULL"
                                },
                                {
                                    "0": "838",
                                    "1": "HL Road Frame - Black, 44",
                                    "2": "868.6342",
                                    "3": "1431.5000",
                                    "4": "858.9000"
                                },
                                {
                                    "0": "839",
                                    "1": "HL Road Frame - Black, 48",
                                    "2": "868.6342",
                                    "3": "1431.5000",
                                    "4": "NULL"
                                },
                                {
                                    "0": "840",
                                    "1": "HL Road Frame - Black, 52",
                                    "2": "868.6342",
                                    "3": "1431.5000",
                                    "4": "NULL"
                                },
                                {
                                    "0": "841",
                                    "1": "Men's Sports Shorts, S",
                                    "2": "24.7459",
                                    "3": "59.9900",
                                    "4": "NULL"
                                },
                                {
                                    "0": "842",
                                    "1": "Touring-Panniers, Large",
                                    "2": "51.5625",
                                    "3": "125.0000",
                                    "4": "NULL"
                                },
                                {
                                    "0": "843",
                                    "1": "Cable Lock",
                                    "2": "10.3125",
                                    "3": "25.0000",
                                    "4": "NULL"
                                },
                                {
                                    "0": "844",
                                    "1": "Minipump",
                                    "2": "8.2459",
                                    "3": "19.9900",
                                    "4": "NULL"
                                },
                                {
                                    "0": "845",
                                    "1": "Mountain Pump",
                                    "2": "10.3084",
                                    "3": "24.9900",
                                    "4": "NULL"
                                },
                                {
                                    "0": "846",
                                    "1": "Taillights - Battery-Powered",
                                    "2": "5.7709",
                                    "3": "13.9900",
                                    "4": "NULL"
                                },
                                {
                                    "0": "847",
                                    "1": "Headlights - Dual-Beam",
                                    "2": "14.4334",
                                    "3": "34.9900",
                                    "4": "NULL"
                                },
                                {
                                    "0": "848",
                                    "1": "Headlights - Weatherproof",
                                    "2": "18.5584",
                                    "3": "44.9900",
                                    "4": "NULL"
                                },
                                {
                                    "0": "849",
                                    "1": "Men's Sports Shorts, M",
                                    "2": "24.7459",
                                    "3": "59.9900",
                                    "4": "NULL"
                                },
                                {
                                    "0": "850",
                                    "1": "Men's Sports Shorts, L",
                                    "2": "24.7459",
                                    "3": "59.9900",
                                    "4": "NULL"
                                },
                                {
                                    "0": "851",
                                    "1": "Men's Sports Shorts, XL",
                                    "2": "24.7459",
                                    "3": "59.9900",
                                    "4": "NULL"
                                },
                                {
                                    "0": "852",
                                    "1": "Women's Tights, S",
                                    "2": "30.9334",
                                    "3": "74.9900",
                                    "4": "NULL"
                                },
                                {
                                    "0": "853",
                                    "1": "Women's Tights, M",
                                    "2": "30.9334",
                                    "3": "74.9900",
                                    "4": "NULL"
                                },
                                {
                                    "0": "854",
                                    "1": "Women's Tights, L",
                                    "2": "30.9334",
                                    "3": "74.9900",
                                    "4": "NULL"
                                },
                                {
                                    "0": "855",
                                    "1": "Men's Bib-Shorts, S",
                                    "2": "37.1209",
                                    "3": "89.9900",
                                    "4": "NULL"
                                },
                                {
                                    "0": "856",
                                    "1": "Men's Bib-Shorts, M",
                                    "2": "37.1209",
                                    "3": "89.9900",
                                    "4": "NULL"
                                },
                                {
                                    "0": "857",
                                    "1": "Men's Bib-Shorts, L",
                                    "2": "37.1209",
                                    "3": "89.9900",
                                    "4": "NULL"
                                },
                                {
                                    "0": "858",
                                    "1": "Half-Finger Gloves, S",
                                    "2": "9.1593",
                                    "3": "24.4900",
                                    "4": "14.6940"
                                },
                                {
                                    "0": "859",
                                    "1": "Half-Finger Gloves, M",
                                    "2": "9.1593",
                                    "3": "24.4900",
                                    "4": "14.6940"
                                },
                                {
                                    "0": "860",
                                    "1": "Half-Finger Gloves, L",
                                    "2": "9.1593",
                                    "3": "24.4900",
                                    "4": "14.6940"
                                },
                                {
                                    "0": "861",
                                    "1": "Full-Finger Gloves, S",
                                    "2": "15.6709",
                                    "3": "37.9900",
                                    "4": "NULL"
                                },
                                {
                                    "0": "862",
                                    "1": "Full-Finger Gloves, M",
                                    "2": "15.6709",
                                    "3": "37.9900",
                                    "4": "NULL"
                                },
                                {
                                    "0": "863",
                                    "1": "Full-Finger Gloves, L",
                                    "2": "15.6709",
                                    "3": "37.9900",
                                    "4": "NULL"
                                },
                                {
                                    "0": "864",
                                    "1": "Classic Vest, S",
                                    "2": "23.7490",
                                    "3": "63.5000",
                                    "4": "37.1475"
                                },
                                {
                                    "0": "865",
                                    "1": "Classic Vest, M",
                                    "2": "23.7490",
                                    "3": "63.5000",
                                    "4": "38.1000"
                                },
                                {
                                    "0": "866",
                                    "1": "Classic Vest, L",
                                    "2": "23.7490",
                                    "3": "63.5000",
                                    "4": "NULL"
                                },
                                {
                                    "0": "867",
                                    "1": "Women's Mountain Shorts, S",
                                    "2": "26.1763",
                                    "3": "69.9900",
                                    "4": "41.5274"
                                },
                                {
                                    "0": "868",
                                    "1": "Women's Mountain Shorts, M",
                                    "2": "26.1763",
                                    "3": "69.9900",
                                    "4": "41.9940"
                                },
                                {
                                    "0": "869",
                                    "1": "Women's Mountain Shorts, L",
                                    "2": "26.1763",
                                    "3": "69.9900",
                                    "4": "41.9940"
                                },
                                {
                                    "0": "870",
                                    "1": "Water Bottle - 30 oz.",
                                    "2": "1.8663",
                                    "3": "4.9900",
                                    "4": "2.9654"
                                },
                                {
                                    "0": "871",
                                    "1": "Mountain Bottle Cage",
                                    "2": "3.7363",
                                    "3": "9.9900",
                                    "4": "NULL"
                                },
                                {
                                    "0": "872",
                                    "1": "Road Bottle Cage",
                                    "2": "3.3623",
                                    "3": "8.9900",
                                    "4": "NULL"
                                },
                                {
                                    "0": "873",
                                    "1": "Patch Kit/8 Patches",
                                    "2": "0.8565",
                                    "3": "2.2900",
                                    "4": "1.3740"
                                },
                                {
                                    "0": "874",
                                    "1": "Racing Socks, M",
                                    "2": "3.3623",
                                    "3": "8.9900",
                                    "4": "5.3940"
                                },
                                {
                                    "0": "875",
                                    "1": "Racing Socks, L",
                                    "2": "3.3623",
                                    "3": "8.9900",
                                    "4": "5.3169"
                                },
                                {
                                    "0": "876",
                                    "1": "Hitch Rack - 4-Bike",
                                    "2": "44.8800",
                                    "3": "120.0000",
                                    "4": "72.0000"
                                },
                                {
                                    "0": "877",
                                    "1": "Bike Wash - Dissolver",
                                    "2": "2.9733",
                                    "3": "7.9500",
                                    "4": "4.7132"
                                },
                                {
                                    "0": "878",
                                    "1": "Fender Set - Mountain",
                                    "2": "8.2205",
                                    "3": "21.9800",
                                    "4": "NULL"
                                },
                                {
                                    "0": "879",
                                    "1": "All-Purpose Bike Stand",
                                    "2": "59.4660",
                                    "3": "159.0000",
                                    "4": "NULL"
                                },
                                {
                                    "0": "880",
                                    "1": "Hydration Pack - 70 oz.",
                                    "2": "20.5663",
                                    "3": "54.9900",
                                    "4": "32.9940"
                                },
                                {
                                    "0": "881",
                                    "1": "Short-Sleeve Classic Jersey, S",
                                    "2": "41.5723",
                                    "3": "53.9900",
                                    "4": "32.3940"
                                },
                                {
                                    "0": "882",
                                    "1": "Short-Sleeve Classic Jersey, M",
                                    "2": "41.5723",
                                    "3": "53.9900",
                                    "4": "NULL"
                                },
                                {
                                    "0": "883",
                                    "1": "Short-Sleeve Classic Jersey, L",
                                    "2": "41.5723",
                                    "3": "53.9900",
                                    "4": "31.9215"
                                },
                                {
                                    "0": "884",
                                    "1": "Short-Sleeve Classic Jersey, XL",
                                    "2": "41.5723",
                                    "3": "53.9900",
                                    "4": "32.0940"
                                },
                                {
                                    "0": "885",
                                    "1": "HL Touring Frame - Yellow, 60",
                                    "2": "601.7437",
                                    "3": "1003.9100",
                                    "4": "602.3460"
                                },
                                {
                                    "0": "886",
                                    "1": "LL Touring Frame - Yellow, 62",
                                    "2": "199.8519",
                                    "3": "333.4200",
                                    "4": "200.0520"
                                },
                                {
                                    "0": "887",
                                    "1": "HL Touring Frame - Yellow, 46",
                                    "2": "601.7437",
                                    "3": "1003.9100",
                                    "4": "NULL"
                                },
                                {
                                    "0": "888",
                                    "1": "HL Touring Frame - Yellow, 50",
                                    "2": "601.7437",
                                    "3": "1003.9100",
                                    "4": "NULL"
                                },
                                {
                                    "0": "889",
                                    "1": "HL Touring Frame - Yellow, 54",
                                    "2": "601.7437",
                                    "3": "1003.9100",
                                    "4": "602.3460"
                                },
                                {
                                    "0": "890",
                                    "1": "HL Touring Frame - Blue, 46",
                                    "2": "601.7437",
                                    "3": "1003.9100",
                                    "4": "NULL"
                                },
                                {
                                    "0": "891",
                                    "1": "HL Touring Frame - Blue, 50",
                                    "2": "601.7437",
                                    "3": "1003.9100",
                                    "4": "602.3460"
                                },
                                {
                                    "0": "892",
                                    "1": "HL Touring Frame - Blue, 54",
                                    "2": "601.7437",
                                    "3": "1003.9100",
                                    "4": "602.3460"
                                },
                                {
                                    "0": "893",
                                    "1": "HL Touring Frame - Blue, 60",
                                    "2": "601.7437",
                                    "3": "1003.9100",
                                    "4": "602.3460"
                                },
                                {
                                    "0": "894",
                                    "1": "Rear Derailleur",
                                    "2": "53.9282",
                                    "3": "121.4600",
                                    "4": "72.8760"
                                },
                                {
                                    "0": "895",
                                    "1": "LL Touring Frame - Blue, 50",
                                    "2": "199.8519",
                                    "3": "333.4200",
                                    "4": "200.0520"
                                },
                                {
                                    "0": "896",
                                    "1": "LL Touring Frame - Blue, 54",
                                    "2": "199.8519",
                                    "3": "333.4200",
                                    "4": "200.0520"
                                },
                                {
                                    "0": "897",
                                    "1": "LL Touring Frame - Blue, 58",
                                    "2": "199.8519",
                                    "3": "333.4200",
                                    "4": "NULL"
                                },
                                {
                                    "0": "898",
                                    "1": "LL Touring Frame - Blue, 62",
                                    "2": "199.8519",
                                    "3": "333.4200",
                                    "4": "NULL"
                                },
                                {
                                    "0": "899",
                                    "1": "LL Touring Frame - Yellow, 44",
                                    "2": "199.8519",
                                    "3": "333.4200",
                                    "4": "200.0520"
                                },
                                {
                                    "0": "900",
                                    "1": "LL Touring Frame - Yellow, 50",
                                    "2": "199.8519",
                                    "3": "333.4200",
                                    "4": "200.0520"
                                },
                                {
                                    "0": "901",
                                    "1": "LL Touring Frame - Yellow, 54",
                                    "2": "199.8519",
                                    "3": "333.4200",
                                    "4": "NULL"
                                },
                                {
                                    "0": "902",
                                    "1": "LL Touring Frame - Yellow, 58",
                                    "2": "199.8519",
                                    "3": "333.4200",
                                    "4": "NULL"
                                },
                                {
                                    "0": "903",
                                    "1": "LL Touring Frame - Blue, 44",
                                    "2": "199.8519",
                                    "3": "333.4200",
                                    "4": "NULL"
                                },
                                {
                                    "0": "904",
                                    "1": "ML Mountain Frame-W - Silver, 40",
                                    "2": "199.3757",
                                    "3": "364.0900",
                                    "4": "218.4540"
                                },
                                {
                                    "0": "905",
                                    "1": "ML Mountain Frame-W - Silver, 42",
                                    "2": "199.3757",
                                    "3": "364.0900",
                                    "4": "218.4540"
                                },
                                {
                                    "0": "906",
                                    "1": "ML Mountain Frame-W - Silver, 46",
                                    "2": "199.3757",
                                    "3": "364.0900",
                                    "4": "NULL"
                                },
                                {
                                    "0": "907",
                                    "1": "Rear Brakes",
                                    "2": "47.2860",
                                    "3": "106.5000",
                                    "4": "63.9000"
                                },
                                {
                                    "0": "908",
                                    "1": "LL Mountain Seat/Saddle",
                                    "2": "12.0413",
                                    "3": "27.1200",
                                    "4": "16.2720"
                                },
                                {
                                    "0": "909",
                                    "1": "ML Mountain Seat/Saddle",
                                    "2": "17.3782",
                                    "3": "39.1400",
                                    "4": "23.4840"
                                },
                                {
                                    "0": "910",
                                    "1": "HL Mountain Seat/Saddle",
                                    "2": "23.3722",
                                    "3": "52.6400",
                                    "4": "31.5840"
                                },
                                {
                                    "0": "911",
                                    "1": "LL Road Seat/Saddle",
                                    "2": "12.0413",
                                    "3": "27.1200",
                                    "4": "NULL"
                                },
                                {
                                    "0": "912",
                                    "1": "ML Road Seat/Saddle",
                                    "2": "17.3782",
                                    "3": "39.1400",
                                    "4": "NULL"
                                },
                                {
                                    "0": "913",
                                    "1": "HL Road Seat/Saddle",
                                    "2": "23.3722",
                                    "3": "52.6400",
                                    "4": "31.5840"
                                },
                                {
                                    "0": "914",
                                    "1": "LL Touring Seat/Saddle",
                                    "2": "12.0413",
                                    "3": "27.1200",
                                    "4": "NULL"
                                },
                                {
                                    "0": "915",
                                    "1": "ML Touring Seat/Saddle",
                                    "2": "17.3782",
                                    "3": "39.1400",
                                    "4": "NULL"
                                },
                                {
                                    "0": "916",
                                    "1": "HL Touring Seat/Saddle",
                                    "2": "23.3722",
                                    "3": "52.6400",
                                    "4": "31.5840"
                                },
                                {
                                    "0": "917",
                                    "1": "LL Mountain Frame - Silver, 42",
                                    "2": "144.5938",
                                    "3": "264.0500",
                                    "4": "158.4300"
                                },
                                {
                                    "0": "918",
                                    "1": "LL Mountain Frame - Silver, 44",
                                    "2": "144.5938",
                                    "3": "264.0500",
                                    "4": "158.4300"
                                },
                                {
                                    "0": "919",
                                    "1": "LL Mountain Frame - Silver, 48",
                                    "2": "144.5938",
                                    "3": "264.0500",
                                    "4": "NULL"
                                },
                                {
                                    "0": "920",
                                    "1": "LL Mountain Frame - Silver, 52",
                                    "2": "144.5938",
                                    "3": "264.0500",
                                    "4": "158.4300"
                                },
                                {
                                    "0": "921",
                                    "1": "Mountain Tire Tube",
                                    "2": "1.8663",
                                    "3": "4.9900",
                                    "4": "NULL"
                                },
                                {
                                    "0": "922",
                                    "1": "Road Tire Tube",
                                    "2": "1.4923",
                                    "3": "3.9900",
                                    "4": "NULL"
                                },
                                {
                                    "0": "923",
                                    "1": "Touring Tire Tube",
                                    "2": "1.8663",
                                    "3": "4.9900",
                                    "4": "NULL"
                                },
                                {
                                    "0": "924",
                                    "1": "LL Mountain Frame - Black, 42",
                                    "2": "136.7850",
                                    "3": "249.7900",
                                    "4": "149.8740"
                                },
                                {
                                    "0": "925",
                                    "1": "LL Mountain Frame - Black, 44",
                                    "2": "136.7850",
                                    "3": "249.7900",
                                    "4": "149.8740"
                                },
                                {
                                    "0": "926",
                                    "1": "LL Mountain Frame - Black, 48",
                                    "2": "136.7850",
                                    "3": "249.7900",
                                    "4": "149.8740"
                                },
                                {
                                    "0": "927",
                                    "1": "LL Mountain Frame - Black, 52",
                                    "2": "136.7850",
                                    "3": "249.7900",
                                    "4": "NULL"
                                },
                                {
                                    "0": "928",
                                    "1": "LL Mountain Tire",
                                    "2": "9.3463",
                                    "3": "24.9900",
                                    "4": "NULL"
                                },
                                {
                                    "0": "929",
                                    "1": "ML Mountain Tire",
                                    "2": "11.2163",
                                    "3": "29.9900",
                                    "4": "NULL"
                                },
                                {
                                    "0": "930",
                                    "1": "HL Mountain Tire",
                                    "2": "13.0900",
                                    "3": "35.0000",
                                    "4": "NULL"
                                },
                                {
                                    "0": "931",
                                    "1": "LL Road Tire",
                                    "2": "8.0373",
                                    "3": "21.4900",
                                    "4": "NULL"
                                },
                                {
                                    "0": "932",
                                    "1": "ML Road Tire",
                                    "2": "9.3463",
                                    "3": "24.9900",
                                    "4": "NULL"
                                },
                                {
                                    "0": "933",
                                    "1": "HL Road Tire",
                                    "2": "12.1924",
                                    "3": "32.6000",
                                    "4": "NULL"
                                },
                                {
                                    "0": "934",
                                    "1": "Touring Tire",
                                    "2": "10.8423",
                                    "3": "28.9900",
                                    "4": "NULL"
                                },
                                {
                                    "0": "935",
                                    "1": "LL Mountain Pedal",
                                    "2": "17.9776",
                                    "3": "40.4900",
                                    "4": "24.2940"
                                },
                                {
                                    "0": "936",
                                    "1": "ML Mountain Pedal",
                                    "2": "27.5680",
                                    "3": "62.0900",
                                    "4": "37.2540"
                                },
                                {
                                    "0": "937",
                                    "1": "HL Mountain Pedal",
                                    "2": "35.9596",
                                    "3": "80.9900",
                                    "4": "48.5940"
                                },
                                {
                                    "0": "938",
                                    "1": "LL Road Pedal",
                                    "2": "17.9776",
                                    "3": "40.4900",
                                    "4": "24.2940"
                                },
                                {
                                    "0": "939",
                                    "1": "ML Road Pedal",
                                    "2": "27.5680",
                                    "3": "62.0900",
                                    "4": "37.2540"
                                },
                                {
                                    "0": "940",
                                    "1": "HL Road Pedal",
                                    "2": "35.9596",
                                    "3": "80.9900",
                                    "4": "48.5940"
                                },
                                {
                                    "0": "941",
                                    "1": "Touring Pedal",
                                    "2": "35.9596",
                                    "3": "80.9900",
                                    "4": "NULL"
                                },
                                {
                                    "0": "942",
                                    "1": "ML Mountain Frame-W - Silver, 38",
                                    "2": "199.3757",
                                    "3": "364.0900",
                                    "4": "NULL"
                                },
                                {
                                    "0": "943",
                                    "1": "LL Mountain Frame - Black, 40",
                                    "2": "136.7850",
                                    "3": "249.7900",
                                    "4": "NULL"
                                },
                                {
                                    "0": "944",
                                    "1": "LL Mountain Frame - Silver, 40",
                                    "2": "144.5938",
                                    "3": "264.0500",
                                    "4": "158.4300"
                                },
                                {
                                    "0": "945",
                                    "1": "Front Derailleur",
                                    "2": "40.6216",
                                    "3": "91.4900",
                                    "4": "54.8940"
                                },
                                {
                                    "0": "946",
                                    "1": "LL Touring Handlebars",
                                    "2": "20.4640",
                                    "3": "46.0900",
                                    "4": "NULL"
                                },
                                {
                                    "0": "947",
                                    "1": "HL Touring Handlebars",
                                    "2": "40.6571",
                                    "3": "91.5700",
                                    "4": "54.9420"
                                },
                                {
                                    "0": "948",
                                    "1": "Front Brakes",
                                    "2": "47.2860",
                                    "3": "106.5000",
                                    "4": "63.9000"
                                },
                                {
                                    "0": "949",
                                    "1": "LL Crankset",
                                    "2": "77.9176",
                                    "3": "175.4900",
                                    "4": "105.2940"
                                },
                                {
                                    "0": "950",
                                    "1": "ML Crankset",
                                    "2": "113.8816",
                                    "3": "256.4900",
                                    "4": "NULL"
                                },
                                {
                                    "0": "951",
                                    "1": "HL Crankset",
                                    "2": "179.8156",
                                    "3": "404.9900",
                                    "4": "242.9940"
                                },
                                {
                                    "0": "952",
                                    "1": "Chain",
                                    "2": "8.9866",
                                    "3": "20.2400",
                                    "4": "12.1440"
                                },
                                {
                                    "0": "953",
                                    "1": "Touring-2000 Blue, 60",
                                    "2": "755.1508",
                                    "3": "1214.8500",
                                    "4": "728.9100"
                                },
                                {
                                    "0": "954",
                                    "1": "Touring-1000 Yellow, 46",
                                    "2": "1481.9379",
                                    "3": "2384.0700",
                                    "4": "1430.4420"
                                },
                                {
                                    "0": "955",
                                    "1": "Touring-1000 Yellow, 50",
                                    "2": "1481.9379",
                                    "3": "2384.0700",
                                    "4": "1430.4420"
                                },
                                {
                                    "0": "956",
                                    "1": "Touring-1000 Yellow, 54",
                                    "2": "1481.9379",
                                    "3": "2384.0700",
                                    "4": "1430.4420"
                                },
                                {
                                    "0": "957",
                                    "1": "Touring-1000 Yellow, 60",
                                    "2": "1481.9379",
                                    "3": "2384.0700",
                                    "4": "1418.5216"
                                },
                                {
                                    "0": "958",
                                    "1": "Touring-3000 Blue, 54",
                                    "2": "461.4448",
                                    "3": "742.3500",
                                    "4": "445.4100"
                                },
                                {
                                    "0": "959",
                                    "1": "Touring-3000 Blue, 58",
                                    "2": "461.4448",
                                    "3": "742.3500",
                                    "4": "445.4100"
                                },
                                {
                                    "0": "960",
                                    "1": "Touring-3000 Blue, 62",
                                    "2": "461.4448",
                                    "3": "742.3500",
                                    "4": "445.4100"
                                },
                                {
                                    "0": "961",
                                    "1": "Touring-3000 Yellow, 44",
                                    "2": "461.4448",
                                    "3": "742.3500",
                                    "4": "445.4100"
                                },
                                {
                                    "0": "962",
                                    "1": "Touring-3000 Yellow, 50",
                                    "2": "461.4448",
                                    "3": "742.3500",
                                    "4": "445.4100"
                                },
                                {
                                    "0": "963",
                                    "1": "Touring-3000 Yellow, 54",
                                    "2": "461.4448",
                                    "3": "742.3500",
                                    "4": "445.4100"
                                },
                                {
                                    "0": "964",
                                    "1": "Touring-3000 Yellow, 58",
                                    "2": "461.4448",
                                    "3": "742.3500",
                                    "4": "445.4100"
                                },
                                {
                                    "0": "965",
                                    "1": "Touring-3000 Yellow, 62",
                                    "2": "461.4448",
                                    "3": "742.3500",
                                    "4": "441.6982"
                                },
                                {
                                    "0": "966",
                                    "1": "Touring-1000 Blue, 46",
                                    "2": "1481.9379",
                                    "3": "2384.0700",
                                    "4": "1430.4420"
                                },
                                {
                                    "0": "967",
                                    "1": "Touring-1000 Blue, 50",
                                    "2": "1481.9379",
                                    "3": "2384.0700",
                                    "4": "1430.4420"
                                },
                                {
                                    "0": "968",
                                    "1": "Touring-1000 Blue, 54",
                                    "2": "1481.9379",
                                    "3": "2384.0700",
                                    "4": "1430.4420"
                                },
                                {
                                    "0": "969",
                                    "1": "Touring-1000 Blue, 60",
                                    "2": "1481.9379",
                                    "3": "2384.0700",
                                    "4": "1430.4420"
                                },
                                {
                                    "0": "970",
                                    "1": "Touring-2000 Blue, 46",
                                    "2": "755.1508",
                                    "3": "1214.8500",
                                    "4": "728.9100"
                                },
                                {
                                    "0": "971",
                                    "1": "Touring-2000 Blue, 50",
                                    "2": "755.1508",
                                    "3": "1214.8500",
                                    "4": "728.9100"
                                },
                                {
                                    "0": "972",
                                    "1": "Touring-2000 Blue, 54",
                                    "2": "755.1508",
                                    "3": "1214.8500",
                                    "4": "728.9100"
                                },
                                {
                                    "0": "973",
                                    "1": "Road-350-W Yellow, 40",
                                    "2": "1082.5100",
                                    "3": "1700.9900",
                                    "4": "1020.5940"
                                },
                                {
                                    "0": "974",
                                    "1": "Road-350-W Yellow, 42",
                                    "2": "1082.5100",
                                    "3": "1700.9900",
                                    "4": "1009.2540"
                                },
                                {
                                    "0": "975",
                                    "1": "Road-350-W Yellow, 44",
                                    "2": "1082.5100",
                                    "3": "1700.9900",
                                    "4": "1020.5940"
                                },
                                {
                                    "0": "976",
                                    "1": "Road-350-W Yellow, 48",
                                    "2": "1082.5100",
                                    "3": "1700.9900",
                                    "4": "986.5742"
                                },
                                {
                                    "0": "977",
                                    "1": "Road-750 Black, 58",
                                    "2": "343.6496",
                                    "3": "539.9900",
                                    "4": "323.9940"
                                },
                                {
                                    "0": "978",
                                    "1": "Touring-3000 Blue, 44",
                                    "2": "461.4448",
                                    "3": "742.3500",
                                    "4": "445.4100"
                                },
                                {
                                    "0": "979",
                                    "1": "Touring-3000 Blue, 50",
                                    "2": "461.4448",
                                    "3": "742.3500",
                                    "4": "445.4100"
                                },
                                {
                                    "0": "980",
                                    "1": "Mountain-400-W Silver, 38",
                                    "2": "419.7784",
                                    "3": "769.4900",
                                    "4": "461.6940"
                                },
                                {
                                    "0": "981",
                                    "1": "Mountain-400-W Silver, 40",
                                    "2": "419.7784",
                                    "3": "769.4900",
                                    "4": "461.6940"
                                },
                                {
                                    "0": "982",
                                    "1": "Mountain-400-W Silver, 42",
                                    "2": "419.7784",
                                    "3": "769.4900",
                                    "4": "461.6940"
                                },
                                {
                                    "0": "983",
                                    "1": "Mountain-400-W Silver, 46",
                                    "2": "419.7784",
                                    "3": "769.4900",
                                    "4": "461.6940"
                                },
                                {
                                    "0": "984",
                                    "1": "Mountain-500 Silver, 40",
                                    "2": "308.2179",
                                    "3": "564.9900",
                                    "4": "112.9980"
                                },
                                {
                                    "0": "985",
                                    "1": "Mountain-500 Silver, 42",
                                    "2": "308.2179",
                                    "3": "564.9900",
                                    "4": "112.9980"
                                },
                                {
                                    "0": "986",
                                    "1": "Mountain-500 Silver, 44",
                                    "2": "308.2179",
                                    "3": "564.9900",
                                    "4": "112.9980"
                                },
                                {
                                    "0": "987",
                                    "1": "Mountain-500 Silver, 48",
                                    "2": "308.2179",
                                    "3": "564.9900",
                                    "4": "112.9980"
                                },
                                {
                                    "0": "988",
                                    "1": "Mountain-500 Silver, 52",
                                    "2": "308.2179",
                                    "3": "564.9900",
                                    "4": "112.9980"
                                },
                                {
                                    "0": "989",
                                    "1": "Mountain-500 Black, 40",
                                    "2": "294.5797",
                                    "3": "539.9900",
                                    "4": "323.9940"
                                },
                                {
                                    "0": "990",
                                    "1": "Mountain-500 Black, 42",
                                    "2": "294.5797",
                                    "3": "539.9900",
                                    "4": "323.9940"
                                },
                                {
                                    "0": "991",
                                    "1": "Mountain-500 Black, 44",
                                    "2": "294.5797",
                                    "3": "539.9900",
                                    "4": "323.9940"
                                },
                                {
                                    "0": "992",
                                    "1": "Mountain-500 Black, 48",
                                    "2": "294.5797",
                                    "3": "539.9900",
                                    "4": "323.9940"
                                },
                                {
                                    "0": "993",
                                    "1": "Mountain-500 Black, 52",
                                    "2": "294.5797",
                                    "3": "539.9900",
                                    "4": "323.9940"
                                },
                                {
                                    "0": "994",
                                    "1": "LL Bottom Bracket",
                                    "2": "23.9716",
                                    "3": "53.9900",
                                    "4": "32.3940"
                                },
                                {
                                    "0": "995",
                                    "1": "ML Bottom Bracket",
                                    "2": "44.9506",
                                    "3": "101.2400",
                                    "4": "NULL"
                                },
                                {
                                    "0": "996",
                                    "1": "HL Bottom Bracket",
                                    "2": "53.9416",
                                    "3": "121.4900",
                                    "4": "72.8940"
                                },
                                {
                                    "0": "997",
                                    "1": "Road-750 Black, 44",
                                    "2": "343.6496",
                                    "3": "539.9900",
                                    "4": "323.9940"
                                },
                                {
                                    "0": "998",
                                    "1": "Road-750 Black, 48",
                                    "2": "343.6496",
                                    "3": "539.9900",
                                    "4": "323.9940"
                                },
                                {
                                    "0": "999",
                                    "1": "Road-750 Black, 52",
                                    "2": "343.6496",
                                    "3": "539.9900",
                                    "4": "323.9940"
                                },
                                {
                                    "0": "1000",
                                    "1": "Led Lights",
                                    "2": "2.5600",
                                    "3": "12.9900",
                                    "4": "NULL"
                                },
                                {
                                    "0": "1001",
                                    "1": "LED LightsX",
                                    "2": "2.5600",
                                    "3": "12.9900",
                                    "4": "NULL"
                                },
                                {
                                    "0": "1002",
                                    "1": "LED Lights2",
                                    "2": "2.5600",
                                    "3": "12.9900",
                                    "4": "NULL"
                                },
                                {
                                    "0": "1005",
                                    "1": "Bicycle Bell10",
                                    "2": "2.4700",
                                    "3": "4.9900",
                                    "4": "NULL"
                                }
                            ]
                        },
                        "text/html": [
                            "<table>",
                            "<tr><th>ProductID</th><th>Name</th><th>StandardCost</th><th>ListPrice</th><th>AverageUnitPrice</th></tr>",
                            "<tr><td>680</td><td>HL Road Frame - Black, 58</td><td>1059.3100</td><td>1431.5000</td><td>NULL</td></tr>",
                            "<tr><td>706</td><td>HL Road Frame - Red, 58</td><td>1059.3100</td><td>1431.5000</td><td>NULL</td></tr>",
                            "<tr><td>707</td><td>Sport-100 Helmet, Red</td><td>13.0863</td><td>34.9900</td><td>20.9940</td></tr>",
                            "<tr><td>708</td><td>Sport-100 Helmet, Black</td><td>13.0863</td><td>34.9900</td><td>20.6441</td></tr>",
                            "<tr><td>709</td><td>Mountain Bike Socks, M</td><td>3.3963</td><td>9.5000</td><td>NULL</td></tr>",
                            "<tr><td>710</td><td>Mountain Bike Socks, L</td><td>3.3963</td><td>9.5000</td><td>NULL</td></tr>",
                            "<tr><td>711</td><td>Sport-100 Helmet, Blue</td><td>13.0863</td><td>34.9900</td><td>20.7440</td></tr>",
                            "<tr><td>712</td><td>AWC Logo Cap</td><td>6.9223</td><td>8.9900</td><td>5.3740</td></tr>",
                            "<tr><td>713</td><td>Long-Sleeve Logo Jersey, S</td><td>38.4923</td><td>49.9900</td><td>NULL</td></tr>",
                            "<tr><td>714</td><td>Long-Sleeve Logo Jersey, M</td><td>38.4923</td><td>49.9900</td><td>29.9940</td></tr>",
                            "<tr><td>715</td><td>Long-Sleeve Logo Jersey, L</td><td>38.4923</td><td>49.9900</td><td>29.7440</td></tr>",
                            "<tr><td>716</td><td>Long-Sleeve Logo Jersey, XL</td><td>38.4923</td><td>49.9900</td><td>29.9940</td></tr>",
                            "<tr><td>717</td><td>HL Road Frame - Red, 62</td><td>868.6342</td><td>1431.5000</td><td>858.9000</td></tr>",
                            "<tr><td>718</td><td>HL Road Frame - Red, 44</td><td>868.6342</td><td>1431.5000</td><td>858.9000</td></tr>",
                            "<tr><td>719</td><td>HL Road Frame - Red, 48</td><td>868.6342</td><td>1431.5000</td><td>NULL</td></tr>",
                            "<tr><td>720</td><td>HL Road Frame - Red, 52</td><td>868.6342</td><td>1431.5000</td><td>NULL</td></tr>",
                            "<tr><td>721</td><td>HL Road Frame - Red, 56</td><td>868.6342</td><td>1431.5000</td><td>NULL</td></tr>",
                            "<tr><td>722</td><td>LL Road Frame - Black, 58</td><td>204.6251</td><td>337.2200</td><td>202.3320</td></tr>",
                            "<tr><td>723</td><td>LL Road Frame - Black, 60</td><td>204.6251</td><td>337.2200</td><td>NULL</td></tr>",
                            "<tr><td>724</td><td>LL Road Frame - Black, 62</td><td>204.6251</td><td>337.2200</td><td>NULL</td></tr>",
                            "<tr><td>725</td><td>LL Road Frame - Red, 44</td><td>187.1571</td><td>337.2200</td><td>NULL</td></tr>",
                            "<tr><td>726</td><td>LL Road Frame - Red, 48</td><td>187.1571</td><td>337.2200</td><td>NULL</td></tr>",
                            "<tr><td>727</td><td>LL Road Frame - Red, 52</td><td>187.1571</td><td>337.2200</td><td>NULL</td></tr>",
                            "<tr><td>728</td><td>LL Road Frame - Red, 58</td><td>187.1571</td><td>337.2200</td><td>NULL</td></tr>",
                            "<tr><td>729</td><td>LL Road Frame - Red, 60</td><td>187.1571</td><td>337.2200</td><td>NULL</td></tr>",
                            "<tr><td>730</td><td>LL Road Frame - Red, 62</td><td>187.1571</td><td>337.2200</td><td>NULL</td></tr>",
                            "<tr><td>731</td><td>ML Road Frame - Red, 44</td><td>352.1394</td><td>594.8300</td><td>NULL</td></tr>",
                            "<tr><td>732</td><td>ML Road Frame - Red, 48</td><td>352.1394</td><td>594.8300</td><td>NULL</td></tr>",
                            "<tr><td>733</td><td>ML Road Frame - Red, 52</td><td>352.1394</td><td>594.8300</td><td>NULL</td></tr>",
                            "<tr><td>734</td><td>ML Road Frame - Red, 58</td><td>352.1394</td><td>594.8300</td><td>NULL</td></tr>",
                            "<tr><td>735</td><td>ML Road Frame - Red, 60</td><td>352.1394</td><td>594.8300</td><td>NULL</td></tr>",
                            "<tr><td>736</td><td>LL Road Frame - Black, 44</td><td>204.6251</td><td>337.2200</td><td>NULL</td></tr>",
                            "<tr><td>737</td><td>LL Road Frame - Black, 48</td><td>204.6251</td><td>337.2200</td><td>NULL</td></tr>",
                            "<tr><td>738</td><td>LL Road Frame - Black, 52</td><td>204.6251</td><td>337.2200</td><td>202.3320</td></tr>",
                            "<tr><td>739</td><td>HL Mountain Frame - Silver, 42</td><td>747.2002</td><td>1364.5000</td><td>818.7000</td></tr>",
                            "<tr><td>740</td><td>HL Mountain Frame - Silver, 44</td><td>706.8110</td><td>1364.5000</td><td>NULL</td></tr>",
                            "<tr><td>741</td><td>HL Mountain Frame - Silver, 48</td><td>706.8110</td><td>1364.5000</td><td>NULL</td></tr>",
                            "<tr><td>742</td><td>HL Mountain Frame - Silver, 46</td><td>747.2002</td><td>1364.5000</td><td>818.7000</td></tr>",
                            "<tr><td>743</td><td>HL Mountain Frame - Black, 42</td><td>739.0410</td><td>1349.6000</td><td>809.7600</td></tr>",
                            "<tr><td>744</td><td>HL Mountain Frame - Black, 44</td><td>699.0928</td><td>1349.6000</td><td>NULL</td></tr>",
                            "<tr><td>745</td><td>HL Mountain Frame - Black, 48</td><td>699.0928</td><td>1349.6000</td><td>NULL</td></tr>",
                            "<tr><td>746</td><td>HL Mountain Frame - Black, 46</td><td>739.0410</td><td>1349.6000</td><td>NULL</td></tr>",
                            "<tr><td>747</td><td>HL Mountain Frame - Black, 38</td><td>739.0410</td><td>1349.6000</td><td>809.7600</td></tr>",
                            "<tr><td>748</td><td>HL Mountain Frame - Silver, 38</td><td>747.2002</td><td>1364.5000</td><td>818.7000</td></tr>",
                            "<tr><td>749</td><td>Road-150 Red, 62</td><td>2171.2942</td><td>3578.2700</td><td>NULL</td></tr>",
                            "<tr><td>750</td><td>Road-150 Red, 44</td><td>2171.2942</td><td>3578.2700</td><td>NULL</td></tr>",
                            "<tr><td>751</td><td>Road-150 Red, 48</td><td>2171.2942</td><td>3578.2700</td><td>NULL</td></tr>",
                            "<tr><td>752</td><td>Road-150 Red, 52</td><td>2171.2942</td><td>3578.2700</td><td>NULL</td></tr>",
                            "<tr><td>753</td><td>Road-150 Red, 56</td><td>2171.2942</td><td>3578.2700</td><td>NULL</td></tr>",
                            "<tr><td>754</td><td>Road-450 Red, 58</td><td>884.7083</td><td>1457.9900</td><td>NULL</td></tr>",
                            "<tr><td>755</td><td>Road-450 Red, 60</td><td>884.7083</td><td>1457.9900</td><td>NULL</td></tr>",
                            "<tr><td>756</td><td>Road-450 Red, 44</td><td>884.7083</td><td>1457.9900</td><td>NULL</td></tr>",
                            "<tr><td>757</td><td>Road-450 Red, 48</td><td>884.7083</td><td>1457.9900</td><td>NULL</td></tr>",
                            "<tr><td>758</td><td>Road-450 Red, 52</td><td>884.7083</td><td>1457.9900</td><td>NULL</td></tr>",
                            "<tr><td>759</td><td>Road-650 Red, 58</td><td>486.7066</td><td>782.9900</td><td>NULL</td></tr>",
                            "<tr><td>760</td><td>Road-650 Red, 60</td><td>486.7066</td><td>782.9900</td><td>NULL</td></tr>",
                            "<tr><td>761</td><td>Road-650 Red, 62</td><td>486.7066</td><td>782.9900</td><td>NULL</td></tr>",
                            "<tr><td>762</td><td>Road-650 Red, 44</td><td>486.7066</td><td>782.9900</td><td>NULL</td></tr>",
                            "<tr><td>763</td><td>Road-650 Red, 48</td><td>486.7066</td><td>782.9900</td><td>NULL</td></tr>",
                            "<tr><td>764</td><td>Road-650 Red, 52</td><td>486.7066</td><td>782.9900</td><td>NULL</td></tr>",
                            "<tr><td>765</td><td>Road-650 Black, 58</td><td>486.7066</td><td>782.9900</td><td>NULL</td></tr>",
                            "<tr><td>766</td><td>Road-650 Black, 60</td><td>486.7066</td><td>782.9900</td><td>NULL</td></tr>",
                            "<tr><td>767</td><td>Road-650 Black, 62</td><td>486.7066</td><td>782.9900</td><td>NULL</td></tr>",
                            "<tr><td>768</td><td>Road-650 Black, 44</td><td>486.7066</td><td>782.9900</td><td>NULL</td></tr>",
                            "<tr><td>769</td><td>Road-650 Black, 48</td><td>486.7066</td><td>782.9900</td><td>NULL</td></tr>",
                            "<tr><td>770</td><td>Road-650 Black, 52</td><td>486.7066</td><td>782.9900</td><td>NULL</td></tr>",
                            "<tr><td>771</td><td>Mountain-100 Silver, 38</td><td>1912.1544</td><td>3399.9900</td><td>NULL</td></tr>",
                            "<tr><td>772</td><td>Mountain-100 Silver, 42</td><td>1912.1544</td><td>3399.9900</td><td>NULL</td></tr>",
                            "<tr><td>773</td><td>Mountain-100 Silver, 44</td><td>1912.1544</td><td>3399.9900</td><td>NULL</td></tr>",
                            "<tr><td>774</td><td>Mountain-100 Silver, 48</td><td>1912.1544</td><td>3399.9900</td><td>NULL</td></tr>",
                            "<tr><td>775</td><td>Mountain-100 Black, 38</td><td>1898.0944</td><td>3374.9900</td><td>NULL</td></tr>",
                            "<tr><td>776</td><td>Mountain-100 Black, 42</td><td>1898.0944</td><td>3374.9900</td><td>NULL</td></tr>",
                            "<tr><td>777</td><td>Mountain-100 Black, 44</td><td>1898.0944</td><td>3374.9900</td><td>NULL</td></tr>",
                            "<tr><td>778</td><td>Mountain-100 Black, 48</td><td>1898.0944</td><td>3374.9900</td><td>NULL</td></tr>",
                            "<tr><td>779</td><td>Mountain-200 Silver, 38</td><td>1265.6195</td><td>2319.9900</td><td>1391.9940</td></tr>",
                            "<tr><td>780</td><td>Mountain-200 Silver, 42</td><td>1265.6195</td><td>2319.9900</td><td>1391.9940</td></tr>",
                            "<tr><td>781</td><td>Mountain-200 Silver, 46</td><td>1265.6195</td><td>2319.9900</td><td>1391.9940</td></tr>",
                            "<tr><td>782</td><td>Mountain-200 Black, 38</td><td>1251.9813</td><td>2294.9900</td><td>1376.9940</td></tr>",
                            "<tr><td>783</td><td>Mountain-200 Black, 42</td><td>1251.9813</td><td>2294.9900</td><td>1376.9940</td></tr>",
                            "<tr><td>784</td><td>Mountain-200 Black, 46</td><td>1251.9813</td><td>2294.9900</td><td>1376.9940</td></tr>",
                            "<tr><td>785</td><td>Mountain-300 Black, 38</td><td>598.4354</td><td>1079.9900</td><td>NULL</td></tr>",
                            "<tr><td>786</td><td>Mountain-300 Black, 40</td><td>598.4354</td><td>1079.9900</td><td>NULL</td></tr>",
                            "<tr><td>787</td><td>Mountain-300 Black, 44</td><td>598.4354</td><td>1079.9900</td><td>NULL</td></tr>",
                            "<tr><td>788</td><td>Mountain-300 Black, 48</td><td>598.4354</td><td>1079.9900</td><td>NULL</td></tr>",
                            "<tr><td>789</td><td>Road-250 Red, 44</td><td>1518.7864</td><td>2443.3500</td><td>NULL</td></tr>",
                            "<tr><td>790</td><td>Road-250 Red, 48</td><td>1518.7864</td><td>2443.3500</td><td>NULL</td></tr>",
                            "<tr><td>791</td><td>Road-250 Red, 52</td><td>1518.7864</td><td>2443.3500</td><td>NULL</td></tr>",
                            "<tr><td>792</td><td>Road-250 Red, 58</td><td>1554.9479</td><td>2443.3500</td><td>1466.0100</td></tr>",
                            "<tr><td>793</td><td>Road-250 Black, 44</td><td>1554.9479</td><td>2443.3500</td><td>1466.0100</td></tr>",
                            "<tr><td>794</td><td>Road-250 Black, 48</td><td>1554.9479</td><td>2443.3500</td><td>1466.0100</td></tr>",
                            "<tr><td>795</td><td>Road-250 Black, 52</td><td>1554.9479</td><td>2443.3500</td><td>1466.0100</td></tr>",
                            "<tr><td>796</td><td>Road-250 Black, 58</td><td>1554.9479</td><td>2443.3500</td><td>1466.0100</td></tr>",
                            "<tr><td>797</td><td>Road-550-W Yellow, 38</td><td>713.0798</td><td>1120.4900</td><td>672.2940</td></tr>",
                            "<tr><td>798</td><td>Road-550-W Yellow, 40</td><td>713.0798</td><td>1120.4900</td><td>672.2940</td></tr>",
                            "<tr><td>799</td><td>Road-550-W Yellow, 42</td><td>713.0798</td><td>1120.4900</td><td>672.2940</td></tr>",
                            "<tr><td>800</td><td>Road-550-W Yellow, 44</td><td>713.0798</td><td>1120.4900</td><td>672.2940</td></tr>",
                            "<tr><td>801</td><td>Road-550-W Yellow, 48</td><td>713.0798</td><td>1120.4900</td><td>672.2940</td></tr>",
                            "<tr><td>802</td><td>LL Fork</td><td>65.8097</td><td>148.2200</td><td>NULL</td></tr>",
                            "<tr><td>803</td><td>ML Fork</td><td>77.9176</td><td>175.4900</td><td>NULL</td></tr>",
                            "<tr><td>804</td><td>HL Fork</td><td>101.8936</td><td>229.4900</td><td>NULL</td></tr>",
                            "<tr><td>805</td><td>LL Headset</td><td>15.1848</td><td>34.2000</td><td>NULL</td></tr>",
                            "<tr><td>806</td><td>ML Headset</td><td>45.4168</td><td>102.2900</td><td>NULL</td></tr>",
                            "<tr><td>807</td><td>HL Headset</td><td>55.3801</td><td>124.7300</td><td>NULL</td></tr>",
                            "<tr><td>808</td><td>LL Mountain Handlebars</td><td>19.7758</td><td>44.5400</td><td>26.7240</td></tr>",
                            "<tr><td>809</td><td>ML Mountain Handlebars</td><td>27.4925</td><td>61.9200</td><td>37.1520</td></tr>",
                            "<tr><td>810</td><td>HL Mountain Handlebars</td><td>53.3999</td><td>120.2700</td><td>72.1620</td></tr>",
                            "<tr><td>811</td><td>LL Road Handlebars</td><td>19.7758</td><td>44.5400</td><td>NULL</td></tr>",
                            "<tr><td>812</td><td>ML Road Handlebars</td><td>27.4925</td><td>61.9200</td><td>NULL</td></tr>",
                            "<tr><td>813</td><td>HL Road Handlebars</td><td>53.3999</td><td>120.2700</td><td>72.1620</td></tr>",
                            "<tr><td>814</td><td>ML Mountain Frame - Black, 38</td><td>185.8193</td><td>348.7600</td><td>NULL</td></tr>",
                            "<tr><td>815</td><td>LL Mountain Front Wheel</td><td>26.9708</td><td>60.7450</td><td>NULL</td></tr>",
                            "<tr><td>816</td><td>ML Mountain Front Wheel</td><td>92.8071</td><td>209.0250</td><td>NULL</td></tr>",
                            "<tr><td>817</td><td>HL Mountain Front Wheel</td><td>133.2955</td><td>300.2150</td><td>NULL</td></tr>",
                            "<tr><td>818</td><td>LL Road Front Wheel</td><td>37.9909</td><td>85.5650</td><td>NULL</td></tr>",
                            "<tr><td>819</td><td>ML Road Front Wheel</td><td>110.2829</td><td>248.3850</td><td>NULL</td></tr>",
                            "<tr><td>820</td><td>HL Road Front Wheel</td><td>146.5466</td><td>330.0600</td><td>NULL</td></tr>",
                            "<tr><td>821</td><td>Touring Front Wheel</td><td>96.7964</td><td>218.0100</td><td>NULL</td></tr>",
                            "<tr><td>822</td><td>ML Road Frame-W - Yellow, 38</td><td>360.9428</td><td>594.8300</td><td>356.8980</td></tr>",
                            "<tr><td>823</td><td>LL Mountain Rear Wheel</td><td>38.9588</td><td>87.7450</td><td>NULL</td></tr>",
                            "<tr><td>824</td><td>ML Mountain Rear Wheel</td><td>104.7951</td><td>236.0250</td><td>NULL</td></tr>",
                            "<tr><td>825</td><td>HL Mountain Rear Wheel</td><td>145.2835</td><td>327.2150</td><td>NULL</td></tr>",
                            "<tr><td>826</td><td>LL Road Rear Wheel</td><td>49.9789</td><td>112.5650</td><td>NULL</td></tr>",
                            "<tr><td>827</td><td>ML Road Rear Wheel</td><td>122.2709</td><td>275.3850</td><td>NULL</td></tr>",
                            "<tr><td>828</td><td>HL Road Rear Wheel</td><td>158.5346</td><td>357.0600</td><td>NULL</td></tr>",
                            "<tr><td>829</td><td>Touring Rear Wheel</td><td>108.7844</td><td>245.0100</td><td>NULL</td></tr>",
                            "<tr><td>830</td><td>ML Mountain Frame - Black, 40</td><td>185.8193</td><td>348.7600</td><td>NULL</td></tr>",
                            "<tr><td>831</td><td>ML Mountain Frame - Black, 44</td><td>185.8193</td><td>348.7600</td><td>NULL</td></tr>",
                            "<tr><td>832</td><td>ML Mountain Frame - Black, 48</td><td>185.8193</td><td>348.7600</td><td>NULL</td></tr>",
                            "<tr><td>833</td><td>ML Road Frame-W - Yellow, 40</td><td>360.9428</td><td>594.8300</td><td>NULL</td></tr>",
                            "<tr><td>834</td><td>ML Road Frame-W - Yellow, 42</td><td>360.9428</td><td>594.8300</td><td>NULL</td></tr>",
                            "<tr><td>835</td><td>ML Road Frame-W - Yellow, 44</td><td>360.9428</td><td>594.8300</td><td>356.8980</td></tr>",
                            "<tr><td>836</td><td>ML Road Frame-W - Yellow, 48</td><td>360.9428</td><td>594.8300</td><td>356.8980</td></tr>",
                            "<tr><td>837</td><td>HL Road Frame - Black, 62</td><td>868.6342</td><td>1431.5000</td><td>NULL</td></tr>",
                            "<tr><td>838</td><td>HL Road Frame - Black, 44</td><td>868.6342</td><td>1431.5000</td><td>858.9000</td></tr>",
                            "<tr><td>839</td><td>HL Road Frame - Black, 48</td><td>868.6342</td><td>1431.5000</td><td>NULL</td></tr>",
                            "<tr><td>840</td><td>HL Road Frame - Black, 52</td><td>868.6342</td><td>1431.5000</td><td>NULL</td></tr>",
                            "<tr><td>841</td><td>Men's Sports Shorts, S</td><td>24.7459</td><td>59.9900</td><td>NULL</td></tr>",
                            "<tr><td>842</td><td>Touring-Panniers, Large</td><td>51.5625</td><td>125.0000</td><td>NULL</td></tr>",
                            "<tr><td>843</td><td>Cable Lock</td><td>10.3125</td><td>25.0000</td><td>NULL</td></tr>",
                            "<tr><td>844</td><td>Minipump</td><td>8.2459</td><td>19.9900</td><td>NULL</td></tr>",
                            "<tr><td>845</td><td>Mountain Pump</td><td>10.3084</td><td>24.9900</td><td>NULL</td></tr>",
                            "<tr><td>846</td><td>Taillights - Battery-Powered</td><td>5.7709</td><td>13.9900</td><td>NULL</td></tr>",
                            "<tr><td>847</td><td>Headlights - Dual-Beam</td><td>14.4334</td><td>34.9900</td><td>NULL</td></tr>",
                            "<tr><td>848</td><td>Headlights - Weatherproof</td><td>18.5584</td><td>44.9900</td><td>NULL</td></tr>",
                            "<tr><td>849</td><td>Men's Sports Shorts, M</td><td>24.7459</td><td>59.9900</td><td>NULL</td></tr>",
                            "<tr><td>850</td><td>Men's Sports Shorts, L</td><td>24.7459</td><td>59.9900</td><td>NULL</td></tr>",
                            "<tr><td>851</td><td>Men's Sports Shorts, XL</td><td>24.7459</td><td>59.9900</td><td>NULL</td></tr>",
                            "<tr><td>852</td><td>Women's Tights, S</td><td>30.9334</td><td>74.9900</td><td>NULL</td></tr>",
                            "<tr><td>853</td><td>Women's Tights, M</td><td>30.9334</td><td>74.9900</td><td>NULL</td></tr>",
                            "<tr><td>854</td><td>Women's Tights, L</td><td>30.9334</td><td>74.9900</td><td>NULL</td></tr>",
                            "<tr><td>855</td><td>Men's Bib-Shorts, S</td><td>37.1209</td><td>89.9900</td><td>NULL</td></tr>",
                            "<tr><td>856</td><td>Men's Bib-Shorts, M</td><td>37.1209</td><td>89.9900</td><td>NULL</td></tr>",
                            "<tr><td>857</td><td>Men's Bib-Shorts, L</td><td>37.1209</td><td>89.9900</td><td>NULL</td></tr>",
                            "<tr><td>858</td><td>Half-Finger Gloves, S</td><td>9.1593</td><td>24.4900</td><td>14.6940</td></tr>",
                            "<tr><td>859</td><td>Half-Finger Gloves, M</td><td>9.1593</td><td>24.4900</td><td>14.6940</td></tr>",
                            "<tr><td>860</td><td>Half-Finger Gloves, L</td><td>9.1593</td><td>24.4900</td><td>14.6940</td></tr>",
                            "<tr><td>861</td><td>Full-Finger Gloves, S</td><td>15.6709</td><td>37.9900</td><td>NULL</td></tr>",
                            "<tr><td>862</td><td>Full-Finger Gloves, M</td><td>15.6709</td><td>37.9900</td><td>NULL</td></tr>",
                            "<tr><td>863</td><td>Full-Finger Gloves, L</td><td>15.6709</td><td>37.9900</td><td>NULL</td></tr>",
                            "<tr><td>864</td><td>Classic Vest, S</td><td>23.7490</td><td>63.5000</td><td>37.1475</td></tr>",
                            "<tr><td>865</td><td>Classic Vest, M</td><td>23.7490</td><td>63.5000</td><td>38.1000</td></tr>",
                            "<tr><td>866</td><td>Classic Vest, L</td><td>23.7490</td><td>63.5000</td><td>NULL</td></tr>",
                            "<tr><td>867</td><td>Women's Mountain Shorts, S</td><td>26.1763</td><td>69.9900</td><td>41.5274</td></tr>",
                            "<tr><td>868</td><td>Women's Mountain Shorts, M</td><td>26.1763</td><td>69.9900</td><td>41.9940</td></tr>",
                            "<tr><td>869</td><td>Women's Mountain Shorts, L</td><td>26.1763</td><td>69.9900</td><td>41.9940</td></tr>",
                            "<tr><td>870</td><td>Water Bottle - 30 oz.</td><td>1.8663</td><td>4.9900</td><td>2.9654</td></tr>",
                            "<tr><td>871</td><td>Mountain Bottle Cage</td><td>3.7363</td><td>9.9900</td><td>NULL</td></tr>",
                            "<tr><td>872</td><td>Road Bottle Cage</td><td>3.3623</td><td>8.9900</td><td>NULL</td></tr>",
                            "<tr><td>873</td><td>Patch Kit/8 Patches</td><td>0.8565</td><td>2.2900</td><td>1.3740</td></tr>",
                            "<tr><td>874</td><td>Racing Socks, M</td><td>3.3623</td><td>8.9900</td><td>5.3940</td></tr>",
                            "<tr><td>875</td><td>Racing Socks, L</td><td>3.3623</td><td>8.9900</td><td>5.3169</td></tr>",
                            "<tr><td>876</td><td>Hitch Rack - 4-Bike</td><td>44.8800</td><td>120.0000</td><td>72.0000</td></tr>",
                            "<tr><td>877</td><td>Bike Wash - Dissolver</td><td>2.9733</td><td>7.9500</td><td>4.7132</td></tr>",
                            "<tr><td>878</td><td>Fender Set - Mountain</td><td>8.2205</td><td>21.9800</td><td>NULL</td></tr>",
                            "<tr><td>879</td><td>All-Purpose Bike Stand</td><td>59.4660</td><td>159.0000</td><td>NULL</td></tr>",
                            "<tr><td>880</td><td>Hydration Pack - 70 oz.</td><td>20.5663</td><td>54.9900</td><td>32.9940</td></tr>",
                            "<tr><td>881</td><td>Short-Sleeve Classic Jersey, S</td><td>41.5723</td><td>53.9900</td><td>32.3940</td></tr>",
                            "<tr><td>882</td><td>Short-Sleeve Classic Jersey, M</td><td>41.5723</td><td>53.9900</td><td>NULL</td></tr>",
                            "<tr><td>883</td><td>Short-Sleeve Classic Jersey, L</td><td>41.5723</td><td>53.9900</td><td>31.9215</td></tr>",
                            "<tr><td>884</td><td>Short-Sleeve Classic Jersey, XL</td><td>41.5723</td><td>53.9900</td><td>32.0940</td></tr>",
                            "<tr><td>885</td><td>HL Touring Frame - Yellow, 60</td><td>601.7437</td><td>1003.9100</td><td>602.3460</td></tr>",
                            "<tr><td>886</td><td>LL Touring Frame - Yellow, 62</td><td>199.8519</td><td>333.4200</td><td>200.0520</td></tr>",
                            "<tr><td>887</td><td>HL Touring Frame - Yellow, 46</td><td>601.7437</td><td>1003.9100</td><td>NULL</td></tr>",
                            "<tr><td>888</td><td>HL Touring Frame - Yellow, 50</td><td>601.7437</td><td>1003.9100</td><td>NULL</td></tr>",
                            "<tr><td>889</td><td>HL Touring Frame - Yellow, 54</td><td>601.7437</td><td>1003.9100</td><td>602.3460</td></tr>",
                            "<tr><td>890</td><td>HL Touring Frame - Blue, 46</td><td>601.7437</td><td>1003.9100</td><td>NULL</td></tr>",
                            "<tr><td>891</td><td>HL Touring Frame - Blue, 50</td><td>601.7437</td><td>1003.9100</td><td>602.3460</td></tr>",
                            "<tr><td>892</td><td>HL Touring Frame - Blue, 54</td><td>601.7437</td><td>1003.9100</td><td>602.3460</td></tr>",
                            "<tr><td>893</td><td>HL Touring Frame - Blue, 60</td><td>601.7437</td><td>1003.9100</td><td>602.3460</td></tr>",
                            "<tr><td>894</td><td>Rear Derailleur</td><td>53.9282</td><td>121.4600</td><td>72.8760</td></tr>",
                            "<tr><td>895</td><td>LL Touring Frame - Blue, 50</td><td>199.8519</td><td>333.4200</td><td>200.0520</td></tr>",
                            "<tr><td>896</td><td>LL Touring Frame - Blue, 54</td><td>199.8519</td><td>333.4200</td><td>200.0520</td></tr>",
                            "<tr><td>897</td><td>LL Touring Frame - Blue, 58</td><td>199.8519</td><td>333.4200</td><td>NULL</td></tr>",
                            "<tr><td>898</td><td>LL Touring Frame - Blue, 62</td><td>199.8519</td><td>333.4200</td><td>NULL</td></tr>",
                            "<tr><td>899</td><td>LL Touring Frame - Yellow, 44</td><td>199.8519</td><td>333.4200</td><td>200.0520</td></tr>",
                            "<tr><td>900</td><td>LL Touring Frame - Yellow, 50</td><td>199.8519</td><td>333.4200</td><td>200.0520</td></tr>",
                            "<tr><td>901</td><td>LL Touring Frame - Yellow, 54</td><td>199.8519</td><td>333.4200</td><td>NULL</td></tr>",
                            "<tr><td>902</td><td>LL Touring Frame - Yellow, 58</td><td>199.8519</td><td>333.4200</td><td>NULL</td></tr>",
                            "<tr><td>903</td><td>LL Touring Frame - Blue, 44</td><td>199.8519</td><td>333.4200</td><td>NULL</td></tr>",
                            "<tr><td>904</td><td>ML Mountain Frame-W - Silver, 40</td><td>199.3757</td><td>364.0900</td><td>218.4540</td></tr>",
                            "<tr><td>905</td><td>ML Mountain Frame-W - Silver, 42</td><td>199.3757</td><td>364.0900</td><td>218.4540</td></tr>",
                            "<tr><td>906</td><td>ML Mountain Frame-W - Silver, 46</td><td>199.3757</td><td>364.0900</td><td>NULL</td></tr>",
                            "<tr><td>907</td><td>Rear Brakes</td><td>47.2860</td><td>106.5000</td><td>63.9000</td></tr>",
                            "<tr><td>908</td><td>LL Mountain Seat/Saddle</td><td>12.0413</td><td>27.1200</td><td>16.2720</td></tr>",
                            "<tr><td>909</td><td>ML Mountain Seat/Saddle</td><td>17.3782</td><td>39.1400</td><td>23.4840</td></tr>",
                            "<tr><td>910</td><td>HL Mountain Seat/Saddle</td><td>23.3722</td><td>52.6400</td><td>31.5840</td></tr>",
                            "<tr><td>911</td><td>LL Road Seat/Saddle</td><td>12.0413</td><td>27.1200</td><td>NULL</td></tr>",
                            "<tr><td>912</td><td>ML Road Seat/Saddle</td><td>17.3782</td><td>39.1400</td><td>NULL</td></tr>",
                            "<tr><td>913</td><td>HL Road Seat/Saddle</td><td>23.3722</td><td>52.6400</td><td>31.5840</td></tr>",
                            "<tr><td>914</td><td>LL Touring Seat/Saddle</td><td>12.0413</td><td>27.1200</td><td>NULL</td></tr>",
                            "<tr><td>915</td><td>ML Touring Seat/Saddle</td><td>17.3782</td><td>39.1400</td><td>NULL</td></tr>",
                            "<tr><td>916</td><td>HL Touring Seat/Saddle</td><td>23.3722</td><td>52.6400</td><td>31.5840</td></tr>",
                            "<tr><td>917</td><td>LL Mountain Frame - Silver, 42</td><td>144.5938</td><td>264.0500</td><td>158.4300</td></tr>",
                            "<tr><td>918</td><td>LL Mountain Frame - Silver, 44</td><td>144.5938</td><td>264.0500</td><td>158.4300</td></tr>",
                            "<tr><td>919</td><td>LL Mountain Frame - Silver, 48</td><td>144.5938</td><td>264.0500</td><td>NULL</td></tr>",
                            "<tr><td>920</td><td>LL Mountain Frame - Silver, 52</td><td>144.5938</td><td>264.0500</td><td>158.4300</td></tr>",
                            "<tr><td>921</td><td>Mountain Tire Tube</td><td>1.8663</td><td>4.9900</td><td>NULL</td></tr>",
                            "<tr><td>922</td><td>Road Tire Tube</td><td>1.4923</td><td>3.9900</td><td>NULL</td></tr>",
                            "<tr><td>923</td><td>Touring Tire Tube</td><td>1.8663</td><td>4.9900</td><td>NULL</td></tr>",
                            "<tr><td>924</td><td>LL Mountain Frame - Black, 42</td><td>136.7850</td><td>249.7900</td><td>149.8740</td></tr>",
                            "<tr><td>925</td><td>LL Mountain Frame - Black, 44</td><td>136.7850</td><td>249.7900</td><td>149.8740</td></tr>",
                            "<tr><td>926</td><td>LL Mountain Frame - Black, 48</td><td>136.7850</td><td>249.7900</td><td>149.8740</td></tr>",
                            "<tr><td>927</td><td>LL Mountain Frame - Black, 52</td><td>136.7850</td><td>249.7900</td><td>NULL</td></tr>",
                            "<tr><td>928</td><td>LL Mountain Tire</td><td>9.3463</td><td>24.9900</td><td>NULL</td></tr>",
                            "<tr><td>929</td><td>ML Mountain Tire</td><td>11.2163</td><td>29.9900</td><td>NULL</td></tr>",
                            "<tr><td>930</td><td>HL Mountain Tire</td><td>13.0900</td><td>35.0000</td><td>NULL</td></tr>",
                            "<tr><td>931</td><td>LL Road Tire</td><td>8.0373</td><td>21.4900</td><td>NULL</td></tr>",
                            "<tr><td>932</td><td>ML Road Tire</td><td>9.3463</td><td>24.9900</td><td>NULL</td></tr>",
                            "<tr><td>933</td><td>HL Road Tire</td><td>12.1924</td><td>32.6000</td><td>NULL</td></tr>",
                            "<tr><td>934</td><td>Touring Tire</td><td>10.8423</td><td>28.9900</td><td>NULL</td></tr>",
                            "<tr><td>935</td><td>LL Mountain Pedal</td><td>17.9776</td><td>40.4900</td><td>24.2940</td></tr>",
                            "<tr><td>936</td><td>ML Mountain Pedal</td><td>27.5680</td><td>62.0900</td><td>37.2540</td></tr>",
                            "<tr><td>937</td><td>HL Mountain Pedal</td><td>35.9596</td><td>80.9900</td><td>48.5940</td></tr>",
                            "<tr><td>938</td><td>LL Road Pedal</td><td>17.9776</td><td>40.4900</td><td>24.2940</td></tr>",
                            "<tr><td>939</td><td>ML Road Pedal</td><td>27.5680</td><td>62.0900</td><td>37.2540</td></tr>",
                            "<tr><td>940</td><td>HL Road Pedal</td><td>35.9596</td><td>80.9900</td><td>48.5940</td></tr>",
                            "<tr><td>941</td><td>Touring Pedal</td><td>35.9596</td><td>80.9900</td><td>NULL</td></tr>",
                            "<tr><td>942</td><td>ML Mountain Frame-W - Silver, 38</td><td>199.3757</td><td>364.0900</td><td>NULL</td></tr>",
                            "<tr><td>943</td><td>LL Mountain Frame - Black, 40</td><td>136.7850</td><td>249.7900</td><td>NULL</td></tr>",
                            "<tr><td>944</td><td>LL Mountain Frame - Silver, 40</td><td>144.5938</td><td>264.0500</td><td>158.4300</td></tr>",
                            "<tr><td>945</td><td>Front Derailleur</td><td>40.6216</td><td>91.4900</td><td>54.8940</td></tr>",
                            "<tr><td>946</td><td>LL Touring Handlebars</td><td>20.4640</td><td>46.0900</td><td>NULL</td></tr>",
                            "<tr><td>947</td><td>HL Touring Handlebars</td><td>40.6571</td><td>91.5700</td><td>54.9420</td></tr>",
                            "<tr><td>948</td><td>Front Brakes</td><td>47.2860</td><td>106.5000</td><td>63.9000</td></tr>",
                            "<tr><td>949</td><td>LL Crankset</td><td>77.9176</td><td>175.4900</td><td>105.2940</td></tr>",
                            "<tr><td>950</td><td>ML Crankset</td><td>113.8816</td><td>256.4900</td><td>NULL</td></tr>",
                            "<tr><td>951</td><td>HL Crankset</td><td>179.8156</td><td>404.9900</td><td>242.9940</td></tr>",
                            "<tr><td>952</td><td>Chain</td><td>8.9866</td><td>20.2400</td><td>12.1440</td></tr>",
                            "<tr><td>953</td><td>Touring-2000 Blue, 60</td><td>755.1508</td><td>1214.8500</td><td>728.9100</td></tr>",
                            "<tr><td>954</td><td>Touring-1000 Yellow, 46</td><td>1481.9379</td><td>2384.0700</td><td>1430.4420</td></tr>",
                            "<tr><td>955</td><td>Touring-1000 Yellow, 50</td><td>1481.9379</td><td>2384.0700</td><td>1430.4420</td></tr>",
                            "<tr><td>956</td><td>Touring-1000 Yellow, 54</td><td>1481.9379</td><td>2384.0700</td><td>1430.4420</td></tr>",
                            "<tr><td>957</td><td>Touring-1000 Yellow, 60</td><td>1481.9379</td><td>2384.0700</td><td>1418.5216</td></tr>",
                            "<tr><td>958</td><td>Touring-3000 Blue, 54</td><td>461.4448</td><td>742.3500</td><td>445.4100</td></tr>",
                            "<tr><td>959</td><td>Touring-3000 Blue, 58</td><td>461.4448</td><td>742.3500</td><td>445.4100</td></tr>",
                            "<tr><td>960</td><td>Touring-3000 Blue, 62</td><td>461.4448</td><td>742.3500</td><td>445.4100</td></tr>",
                            "<tr><td>961</td><td>Touring-3000 Yellow, 44</td><td>461.4448</td><td>742.3500</td><td>445.4100</td></tr>",
                            "<tr><td>962</td><td>Touring-3000 Yellow, 50</td><td>461.4448</td><td>742.3500</td><td>445.4100</td></tr>",
                            "<tr><td>963</td><td>Touring-3000 Yellow, 54</td><td>461.4448</td><td>742.3500</td><td>445.4100</td></tr>",
                            "<tr><td>964</td><td>Touring-3000 Yellow, 58</td><td>461.4448</td><td>742.3500</td><td>445.4100</td></tr>",
                            "<tr><td>965</td><td>Touring-3000 Yellow, 62</td><td>461.4448</td><td>742.3500</td><td>441.6982</td></tr>",
                            "<tr><td>966</td><td>Touring-1000 Blue, 46</td><td>1481.9379</td><td>2384.0700</td><td>1430.4420</td></tr>",
                            "<tr><td>967</td><td>Touring-1000 Blue, 50</td><td>1481.9379</td><td>2384.0700</td><td>1430.4420</td></tr>",
                            "<tr><td>968</td><td>Touring-1000 Blue, 54</td><td>1481.9379</td><td>2384.0700</td><td>1430.4420</td></tr>",
                            "<tr><td>969</td><td>Touring-1000 Blue, 60</td><td>1481.9379</td><td>2384.0700</td><td>1430.4420</td></tr>",
                            "<tr><td>970</td><td>Touring-2000 Blue, 46</td><td>755.1508</td><td>1214.8500</td><td>728.9100</td></tr>",
                            "<tr><td>971</td><td>Touring-2000 Blue, 50</td><td>755.1508</td><td>1214.8500</td><td>728.9100</td></tr>",
                            "<tr><td>972</td><td>Touring-2000 Blue, 54</td><td>755.1508</td><td>1214.8500</td><td>728.9100</td></tr>",
                            "<tr><td>973</td><td>Road-350-W Yellow, 40</td><td>1082.5100</td><td>1700.9900</td><td>1020.5940</td></tr>",
                            "<tr><td>974</td><td>Road-350-W Yellow, 42</td><td>1082.5100</td><td>1700.9900</td><td>1009.2540</td></tr>",
                            "<tr><td>975</td><td>Road-350-W Yellow, 44</td><td>1082.5100</td><td>1700.9900</td><td>1020.5940</td></tr>",
                            "<tr><td>976</td><td>Road-350-W Yellow, 48</td><td>1082.5100</td><td>1700.9900</td><td>986.5742</td></tr>",
                            "<tr><td>977</td><td>Road-750 Black, 58</td><td>343.6496</td><td>539.9900</td><td>323.9940</td></tr>",
                            "<tr><td>978</td><td>Touring-3000 Blue, 44</td><td>461.4448</td><td>742.3500</td><td>445.4100</td></tr>",
                            "<tr><td>979</td><td>Touring-3000 Blue, 50</td><td>461.4448</td><td>742.3500</td><td>445.4100</td></tr>",
                            "<tr><td>980</td><td>Mountain-400-W Silver, 38</td><td>419.7784</td><td>769.4900</td><td>461.6940</td></tr>",
                            "<tr><td>981</td><td>Mountain-400-W Silver, 40</td><td>419.7784</td><td>769.4900</td><td>461.6940</td></tr>",
                            "<tr><td>982</td><td>Mountain-400-W Silver, 42</td><td>419.7784</td><td>769.4900</td><td>461.6940</td></tr>",
                            "<tr><td>983</td><td>Mountain-400-W Silver, 46</td><td>419.7784</td><td>769.4900</td><td>461.6940</td></tr>",
                            "<tr><td>984</td><td>Mountain-500 Silver, 40</td><td>308.2179</td><td>564.9900</td><td>112.9980</td></tr>",
                            "<tr><td>985</td><td>Mountain-500 Silver, 42</td><td>308.2179</td><td>564.9900</td><td>112.9980</td></tr>",
                            "<tr><td>986</td><td>Mountain-500 Silver, 44</td><td>308.2179</td><td>564.9900</td><td>112.9980</td></tr>",
                            "<tr><td>987</td><td>Mountain-500 Silver, 48</td><td>308.2179</td><td>564.9900</td><td>112.9980</td></tr>",
                            "<tr><td>988</td><td>Mountain-500 Silver, 52</td><td>308.2179</td><td>564.9900</td><td>112.9980</td></tr>",
                            "<tr><td>989</td><td>Mountain-500 Black, 40</td><td>294.5797</td><td>539.9900</td><td>323.9940</td></tr>",
                            "<tr><td>990</td><td>Mountain-500 Black, 42</td><td>294.5797</td><td>539.9900</td><td>323.9940</td></tr>",
                            "<tr><td>991</td><td>Mountain-500 Black, 44</td><td>294.5797</td><td>539.9900</td><td>323.9940</td></tr>",
                            "<tr><td>992</td><td>Mountain-500 Black, 48</td><td>294.5797</td><td>539.9900</td><td>323.9940</td></tr>",
                            "<tr><td>993</td><td>Mountain-500 Black, 52</td><td>294.5797</td><td>539.9900</td><td>323.9940</td></tr>",
                            "<tr><td>994</td><td>LL Bottom Bracket</td><td>23.9716</td><td>53.9900</td><td>32.3940</td></tr>",
                            "<tr><td>995</td><td>ML Bottom Bracket</td><td>44.9506</td><td>101.2400</td><td>NULL</td></tr>",
                            "<tr><td>996</td><td>HL Bottom Bracket</td><td>53.9416</td><td>121.4900</td><td>72.8940</td></tr>",
                            "<tr><td>997</td><td>Road-750 Black, 44</td><td>343.6496</td><td>539.9900</td><td>323.9940</td></tr>",
                            "<tr><td>998</td><td>Road-750 Black, 48</td><td>343.6496</td><td>539.9900</td><td>323.9940</td></tr>",
                            "<tr><td>999</td><td>Road-750 Black, 52</td><td>343.6496</td><td>539.9900</td><td>323.9940</td></tr>",
                            "<tr><td>1000</td><td>Led Lights</td><td>2.5600</td><td>12.9900</td><td>NULL</td></tr>",
                            "<tr><td>1001</td><td>LED LightsX</td><td>2.5600</td><td>12.9900</td><td>NULL</td></tr>",
                            "<tr><td>1002</td><td>LED Lights2</td><td>2.5600</td><td>12.9900</td><td>NULL</td></tr>",
                            "<tr><td>1005</td><td>Bicycle Bell10</td><td>2.4700</td><td>4.9900</td><td>NULL</td></tr>",
                            "</table>"
                        ]
                    }
                }
            ],
            "execution_count": 4
        },
        {
            "cell_type": "markdown",
            "source": [
                ""
            ],
            "metadata": {
                "azdata_cell_guid": "baadbbd2-5eab-4332-9a4b-2507a45e0c35"
            }
        },
        {
            "cell_type": "markdown",
            "source": [
                "**4\\.** Retrieve products that have an average selling price that is lower than the cost Filter your previous query to include only products where the cost price is higher than the average selling price."
            ],
            "metadata": {
                "azdata_cell_guid": "8123fb61-7d63-4992-90fa-e7a6507a88cd"
            },
            "attachments": {}
        },
        {
            "cell_type": "code",
            "source": [
                "SELECT P.ProductID, P.Name, P.StandardCost, P.ListPrice, \r\n",
                "(SELECT AVG(SD.UnitPrice)\r\n",
                "FROM SalesOrderDetail AS SD\r\n",
                "WHERE SD.ProductID = P.ProductID) AS AverageUnitPrice\r\n",
                "FROM Product AS P\r\n",
                "WHERE P.StandardCost > \r\n",
                "(SELECT AVG(SD.UnitPrice)\r\n",
                "FROM SalesOrderDetail AS SD\r\n",
                "WHERE SD.ProductID = P.ProductID);"
            ],
            "metadata": {
                "azdata_cell_guid": "6226b74f-60dc-4bf2-a159-983c46d3617b"
            },
            "outputs": [
                {
                    "output_type": "display_data",
                    "data": {
                        "text/html": "(60 rows affected)"
                    },
                    "metadata": {}
                },
                {
                    "output_type": "display_data",
                    "data": {
                        "text/html": "Total execution time: 00:00:00.118"
                    },
                    "metadata": {}
                },
                {
                    "output_type": "execute_result",
                    "metadata": {},
                    "execution_count": 5,
                    "data": {
                        "application/vnd.dataresource+json": {
                            "schema": {
                                "fields": [
                                    {
                                        "name": "ProductID"
                                    },
                                    {
                                        "name": "Name"
                                    },
                                    {
                                        "name": "StandardCost"
                                    },
                                    {
                                        "name": "ListPrice"
                                    },
                                    {
                                        "name": "AverageUnitPrice"
                                    }
                                ]
                            },
                            "data": [
                                {
                                    "0": "712",
                                    "1": "AWC Logo Cap",
                                    "2": "6.9223",
                                    "3": "8.9900",
                                    "4": "5.3740"
                                },
                                {
                                    "0": "714",
                                    "1": "Long-Sleeve Logo Jersey, M",
                                    "2": "38.4923",
                                    "3": "49.9900",
                                    "4": "29.9940"
                                },
                                {
                                    "0": "715",
                                    "1": "Long-Sleeve Logo Jersey, L",
                                    "2": "38.4923",
                                    "3": "49.9900",
                                    "4": "29.7440"
                                },
                                {
                                    "0": "716",
                                    "1": "Long-Sleeve Logo Jersey, XL",
                                    "2": "38.4923",
                                    "3": "49.9900",
                                    "4": "29.9940"
                                },
                                {
                                    "0": "717",
                                    "1": "HL Road Frame - Red, 62",
                                    "2": "868.6342",
                                    "3": "1431.5000",
                                    "4": "858.9000"
                                },
                                {
                                    "0": "718",
                                    "1": "HL Road Frame - Red, 44",
                                    "2": "868.6342",
                                    "3": "1431.5000",
                                    "4": "858.9000"
                                },
                                {
                                    "0": "722",
                                    "1": "LL Road Frame - Black, 58",
                                    "2": "204.6251",
                                    "3": "337.2200",
                                    "4": "202.3320"
                                },
                                {
                                    "0": "738",
                                    "1": "LL Road Frame - Black, 52",
                                    "2": "204.6251",
                                    "3": "337.2200",
                                    "4": "202.3320"
                                },
                                {
                                    "0": "792",
                                    "1": "Road-250 Red, 58",
                                    "2": "1554.9479",
                                    "3": "2443.3500",
                                    "4": "1466.0100"
                                },
                                {
                                    "0": "793",
                                    "1": "Road-250 Black, 44",
                                    "2": "1554.9479",
                                    "3": "2443.3500",
                                    "4": "1466.0100"
                                },
                                {
                                    "0": "794",
                                    "1": "Road-250 Black, 48",
                                    "2": "1554.9479",
                                    "3": "2443.3500",
                                    "4": "1466.0100"
                                },
                                {
                                    "0": "795",
                                    "1": "Road-250 Black, 52",
                                    "2": "1554.9479",
                                    "3": "2443.3500",
                                    "4": "1466.0100"
                                },
                                {
                                    "0": "796",
                                    "1": "Road-250 Black, 58",
                                    "2": "1554.9479",
                                    "3": "2443.3500",
                                    "4": "1466.0100"
                                },
                                {
                                    "0": "797",
                                    "1": "Road-550-W Yellow, 38",
                                    "2": "713.0798",
                                    "3": "1120.4900",
                                    "4": "672.2940"
                                },
                                {
                                    "0": "798",
                                    "1": "Road-550-W Yellow, 40",
                                    "2": "713.0798",
                                    "3": "1120.4900",
                                    "4": "672.2940"
                                },
                                {
                                    "0": "799",
                                    "1": "Road-550-W Yellow, 42",
                                    "2": "713.0798",
                                    "3": "1120.4900",
                                    "4": "672.2940"
                                },
                                {
                                    "0": "800",
                                    "1": "Road-550-W Yellow, 44",
                                    "2": "713.0798",
                                    "3": "1120.4900",
                                    "4": "672.2940"
                                },
                                {
                                    "0": "801",
                                    "1": "Road-550-W Yellow, 48",
                                    "2": "713.0798",
                                    "3": "1120.4900",
                                    "4": "672.2940"
                                },
                                {
                                    "0": "822",
                                    "1": "ML Road Frame-W - Yellow, 38",
                                    "2": "360.9428",
                                    "3": "594.8300",
                                    "4": "356.8980"
                                },
                                {
                                    "0": "835",
                                    "1": "ML Road Frame-W - Yellow, 44",
                                    "2": "360.9428",
                                    "3": "594.8300",
                                    "4": "356.8980"
                                },
                                {
                                    "0": "836",
                                    "1": "ML Road Frame-W - Yellow, 48",
                                    "2": "360.9428",
                                    "3": "594.8300",
                                    "4": "356.8980"
                                },
                                {
                                    "0": "838",
                                    "1": "HL Road Frame - Black, 44",
                                    "2": "868.6342",
                                    "3": "1431.5000",
                                    "4": "858.9000"
                                },
                                {
                                    "0": "881",
                                    "1": "Short-Sleeve Classic Jersey, S",
                                    "2": "41.5723",
                                    "3": "53.9900",
                                    "4": "32.3940"
                                },
                                {
                                    "0": "883",
                                    "1": "Short-Sleeve Classic Jersey, L",
                                    "2": "41.5723",
                                    "3": "53.9900",
                                    "4": "31.9215"
                                },
                                {
                                    "0": "884",
                                    "1": "Short-Sleeve Classic Jersey, XL",
                                    "2": "41.5723",
                                    "3": "53.9900",
                                    "4": "32.0940"
                                },
                                {
                                    "0": "953",
                                    "1": "Touring-2000 Blue, 60",
                                    "2": "755.1508",
                                    "3": "1214.8500",
                                    "4": "728.9100"
                                },
                                {
                                    "0": "954",
                                    "1": "Touring-1000 Yellow, 46",
                                    "2": "1481.9379",
                                    "3": "2384.0700",
                                    "4": "1430.4420"
                                },
                                {
                                    "0": "955",
                                    "1": "Touring-1000 Yellow, 50",
                                    "2": "1481.9379",
                                    "3": "2384.0700",
                                    "4": "1430.4420"
                                },
                                {
                                    "0": "956",
                                    "1": "Touring-1000 Yellow, 54",
                                    "2": "1481.9379",
                                    "3": "2384.0700",
                                    "4": "1430.4420"
                                },
                                {
                                    "0": "957",
                                    "1": "Touring-1000 Yellow, 60",
                                    "2": "1481.9379",
                                    "3": "2384.0700",
                                    "4": "1418.5216"
                                },
                                {
                                    "0": "958",
                                    "1": "Touring-3000 Blue, 54",
                                    "2": "461.4448",
                                    "3": "742.3500",
                                    "4": "445.4100"
                                },
                                {
                                    "0": "959",
                                    "1": "Touring-3000 Blue, 58",
                                    "2": "461.4448",
                                    "3": "742.3500",
                                    "4": "445.4100"
                                },
                                {
                                    "0": "960",
                                    "1": "Touring-3000 Blue, 62",
                                    "2": "461.4448",
                                    "3": "742.3500",
                                    "4": "445.4100"
                                },
                                {
                                    "0": "961",
                                    "1": "Touring-3000 Yellow, 44",
                                    "2": "461.4448",
                                    "3": "742.3500",
                                    "4": "445.4100"
                                },
                                {
                                    "0": "962",
                                    "1": "Touring-3000 Yellow, 50",
                                    "2": "461.4448",
                                    "3": "742.3500",
                                    "4": "445.4100"
                                },
                                {
                                    "0": "963",
                                    "1": "Touring-3000 Yellow, 54",
                                    "2": "461.4448",
                                    "3": "742.3500",
                                    "4": "445.4100"
                                },
                                {
                                    "0": "964",
                                    "1": "Touring-3000 Yellow, 58",
                                    "2": "461.4448",
                                    "3": "742.3500",
                                    "4": "445.4100"
                                },
                                {
                                    "0": "965",
                                    "1": "Touring-3000 Yellow, 62",
                                    "2": "461.4448",
                                    "3": "742.3500",
                                    "4": "441.6982"
                                },
                                {
                                    "0": "966",
                                    "1": "Touring-1000 Blue, 46",
                                    "2": "1481.9379",
                                    "3": "2384.0700",
                                    "4": "1430.4420"
                                },
                                {
                                    "0": "967",
                                    "1": "Touring-1000 Blue, 50",
                                    "2": "1481.9379",
                                    "3": "2384.0700",
                                    "4": "1430.4420"
                                },
                                {
                                    "0": "968",
                                    "1": "Touring-1000 Blue, 54",
                                    "2": "1481.9379",
                                    "3": "2384.0700",
                                    "4": "1430.4420"
                                },
                                {
                                    "0": "969",
                                    "1": "Touring-1000 Blue, 60",
                                    "2": "1481.9379",
                                    "3": "2384.0700",
                                    "4": "1430.4420"
                                },
                                {
                                    "0": "970",
                                    "1": "Touring-2000 Blue, 46",
                                    "2": "755.1508",
                                    "3": "1214.8500",
                                    "4": "728.9100"
                                },
                                {
                                    "0": "971",
                                    "1": "Touring-2000 Blue, 50",
                                    "2": "755.1508",
                                    "3": "1214.8500",
                                    "4": "728.9100"
                                },
                                {
                                    "0": "972",
                                    "1": "Touring-2000 Blue, 54",
                                    "2": "755.1508",
                                    "3": "1214.8500",
                                    "4": "728.9100"
                                },
                                {
                                    "0": "973",
                                    "1": "Road-350-W Yellow, 40",
                                    "2": "1082.5100",
                                    "3": "1700.9900",
                                    "4": "1020.5940"
                                },
                                {
                                    "0": "974",
                                    "1": "Road-350-W Yellow, 42",
                                    "2": "1082.5100",
                                    "3": "1700.9900",
                                    "4": "1009.2540"
                                },
                                {
                                    "0": "975",
                                    "1": "Road-350-W Yellow, 44",
                                    "2": "1082.5100",
                                    "3": "1700.9900",
                                    "4": "1020.5940"
                                },
                                {
                                    "0": "976",
                                    "1": "Road-350-W Yellow, 48",
                                    "2": "1082.5100",
                                    "3": "1700.9900",
                                    "4": "986.5742"
                                },
                                {
                                    "0": "977",
                                    "1": "Road-750 Black, 58",
                                    "2": "343.6496",
                                    "3": "539.9900",
                                    "4": "323.9940"
                                },
                                {
                                    "0": "978",
                                    "1": "Touring-3000 Blue, 44",
                                    "2": "461.4448",
                                    "3": "742.3500",
                                    "4": "445.4100"
                                },
                                {
                                    "0": "979",
                                    "1": "Touring-3000 Blue, 50",
                                    "2": "461.4448",
                                    "3": "742.3500",
                                    "4": "445.4100"
                                },
                                {
                                    "0": "984",
                                    "1": "Mountain-500 Silver, 40",
                                    "2": "308.2179",
                                    "3": "564.9900",
                                    "4": "112.9980"
                                },
                                {
                                    "0": "985",
                                    "1": "Mountain-500 Silver, 42",
                                    "2": "308.2179",
                                    "3": "564.9900",
                                    "4": "112.9980"
                                },
                                {
                                    "0": "986",
                                    "1": "Mountain-500 Silver, 44",
                                    "2": "308.2179",
                                    "3": "564.9900",
                                    "4": "112.9980"
                                },
                                {
                                    "0": "987",
                                    "1": "Mountain-500 Silver, 48",
                                    "2": "308.2179",
                                    "3": "564.9900",
                                    "4": "112.9980"
                                },
                                {
                                    "0": "988",
                                    "1": "Mountain-500 Silver, 52",
                                    "2": "308.2179",
                                    "3": "564.9900",
                                    "4": "112.9980"
                                },
                                {
                                    "0": "997",
                                    "1": "Road-750 Black, 44",
                                    "2": "343.6496",
                                    "3": "539.9900",
                                    "4": "323.9940"
                                },
                                {
                                    "0": "998",
                                    "1": "Road-750 Black, 48",
                                    "2": "343.6496",
                                    "3": "539.9900",
                                    "4": "323.9940"
                                },
                                {
                                    "0": "999",
                                    "1": "Road-750 Black, 52",
                                    "2": "343.6496",
                                    "3": "539.9900",
                                    "4": "323.9940"
                                }
                            ]
                        },
                        "text/html": [
                            "<table>",
                            "<tr><th>ProductID</th><th>Name</th><th>StandardCost</th><th>ListPrice</th><th>AverageUnitPrice</th></tr>",
                            "<tr><td>712</td><td>AWC Logo Cap</td><td>6.9223</td><td>8.9900</td><td>5.3740</td></tr>",
                            "<tr><td>714</td><td>Long-Sleeve Logo Jersey, M</td><td>38.4923</td><td>49.9900</td><td>29.9940</td></tr>",
                            "<tr><td>715</td><td>Long-Sleeve Logo Jersey, L</td><td>38.4923</td><td>49.9900</td><td>29.7440</td></tr>",
                            "<tr><td>716</td><td>Long-Sleeve Logo Jersey, XL</td><td>38.4923</td><td>49.9900</td><td>29.9940</td></tr>",
                            "<tr><td>717</td><td>HL Road Frame - Red, 62</td><td>868.6342</td><td>1431.5000</td><td>858.9000</td></tr>",
                            "<tr><td>718</td><td>HL Road Frame - Red, 44</td><td>868.6342</td><td>1431.5000</td><td>858.9000</td></tr>",
                            "<tr><td>722</td><td>LL Road Frame - Black, 58</td><td>204.6251</td><td>337.2200</td><td>202.3320</td></tr>",
                            "<tr><td>738</td><td>LL Road Frame - Black, 52</td><td>204.6251</td><td>337.2200</td><td>202.3320</td></tr>",
                            "<tr><td>792</td><td>Road-250 Red, 58</td><td>1554.9479</td><td>2443.3500</td><td>1466.0100</td></tr>",
                            "<tr><td>793</td><td>Road-250 Black, 44</td><td>1554.9479</td><td>2443.3500</td><td>1466.0100</td></tr>",
                            "<tr><td>794</td><td>Road-250 Black, 48</td><td>1554.9479</td><td>2443.3500</td><td>1466.0100</td></tr>",
                            "<tr><td>795</td><td>Road-250 Black, 52</td><td>1554.9479</td><td>2443.3500</td><td>1466.0100</td></tr>",
                            "<tr><td>796</td><td>Road-250 Black, 58</td><td>1554.9479</td><td>2443.3500</td><td>1466.0100</td></tr>",
                            "<tr><td>797</td><td>Road-550-W Yellow, 38</td><td>713.0798</td><td>1120.4900</td><td>672.2940</td></tr>",
                            "<tr><td>798</td><td>Road-550-W Yellow, 40</td><td>713.0798</td><td>1120.4900</td><td>672.2940</td></tr>",
                            "<tr><td>799</td><td>Road-550-W Yellow, 42</td><td>713.0798</td><td>1120.4900</td><td>672.2940</td></tr>",
                            "<tr><td>800</td><td>Road-550-W Yellow, 44</td><td>713.0798</td><td>1120.4900</td><td>672.2940</td></tr>",
                            "<tr><td>801</td><td>Road-550-W Yellow, 48</td><td>713.0798</td><td>1120.4900</td><td>672.2940</td></tr>",
                            "<tr><td>822</td><td>ML Road Frame-W - Yellow, 38</td><td>360.9428</td><td>594.8300</td><td>356.8980</td></tr>",
                            "<tr><td>835</td><td>ML Road Frame-W - Yellow, 44</td><td>360.9428</td><td>594.8300</td><td>356.8980</td></tr>",
                            "<tr><td>836</td><td>ML Road Frame-W - Yellow, 48</td><td>360.9428</td><td>594.8300</td><td>356.8980</td></tr>",
                            "<tr><td>838</td><td>HL Road Frame - Black, 44</td><td>868.6342</td><td>1431.5000</td><td>858.9000</td></tr>",
                            "<tr><td>881</td><td>Short-Sleeve Classic Jersey, S</td><td>41.5723</td><td>53.9900</td><td>32.3940</td></tr>",
                            "<tr><td>883</td><td>Short-Sleeve Classic Jersey, L</td><td>41.5723</td><td>53.9900</td><td>31.9215</td></tr>",
                            "<tr><td>884</td><td>Short-Sleeve Classic Jersey, XL</td><td>41.5723</td><td>53.9900</td><td>32.0940</td></tr>",
                            "<tr><td>953</td><td>Touring-2000 Blue, 60</td><td>755.1508</td><td>1214.8500</td><td>728.9100</td></tr>",
                            "<tr><td>954</td><td>Touring-1000 Yellow, 46</td><td>1481.9379</td><td>2384.0700</td><td>1430.4420</td></tr>",
                            "<tr><td>955</td><td>Touring-1000 Yellow, 50</td><td>1481.9379</td><td>2384.0700</td><td>1430.4420</td></tr>",
                            "<tr><td>956</td><td>Touring-1000 Yellow, 54</td><td>1481.9379</td><td>2384.0700</td><td>1430.4420</td></tr>",
                            "<tr><td>957</td><td>Touring-1000 Yellow, 60</td><td>1481.9379</td><td>2384.0700</td><td>1418.5216</td></tr>",
                            "<tr><td>958</td><td>Touring-3000 Blue, 54</td><td>461.4448</td><td>742.3500</td><td>445.4100</td></tr>",
                            "<tr><td>959</td><td>Touring-3000 Blue, 58</td><td>461.4448</td><td>742.3500</td><td>445.4100</td></tr>",
                            "<tr><td>960</td><td>Touring-3000 Blue, 62</td><td>461.4448</td><td>742.3500</td><td>445.4100</td></tr>",
                            "<tr><td>961</td><td>Touring-3000 Yellow, 44</td><td>461.4448</td><td>742.3500</td><td>445.4100</td></tr>",
                            "<tr><td>962</td><td>Touring-3000 Yellow, 50</td><td>461.4448</td><td>742.3500</td><td>445.4100</td></tr>",
                            "<tr><td>963</td><td>Touring-3000 Yellow, 54</td><td>461.4448</td><td>742.3500</td><td>445.4100</td></tr>",
                            "<tr><td>964</td><td>Touring-3000 Yellow, 58</td><td>461.4448</td><td>742.3500</td><td>445.4100</td></tr>",
                            "<tr><td>965</td><td>Touring-3000 Yellow, 62</td><td>461.4448</td><td>742.3500</td><td>441.6982</td></tr>",
                            "<tr><td>966</td><td>Touring-1000 Blue, 46</td><td>1481.9379</td><td>2384.0700</td><td>1430.4420</td></tr>",
                            "<tr><td>967</td><td>Touring-1000 Blue, 50</td><td>1481.9379</td><td>2384.0700</td><td>1430.4420</td></tr>",
                            "<tr><td>968</td><td>Touring-1000 Blue, 54</td><td>1481.9379</td><td>2384.0700</td><td>1430.4420</td></tr>",
                            "<tr><td>969</td><td>Touring-1000 Blue, 60</td><td>1481.9379</td><td>2384.0700</td><td>1430.4420</td></tr>",
                            "<tr><td>970</td><td>Touring-2000 Blue, 46</td><td>755.1508</td><td>1214.8500</td><td>728.9100</td></tr>",
                            "<tr><td>971</td><td>Touring-2000 Blue, 50</td><td>755.1508</td><td>1214.8500</td><td>728.9100</td></tr>",
                            "<tr><td>972</td><td>Touring-2000 Blue, 54</td><td>755.1508</td><td>1214.8500</td><td>728.9100</td></tr>",
                            "<tr><td>973</td><td>Road-350-W Yellow, 40</td><td>1082.5100</td><td>1700.9900</td><td>1020.5940</td></tr>",
                            "<tr><td>974</td><td>Road-350-W Yellow, 42</td><td>1082.5100</td><td>1700.9900</td><td>1009.2540</td></tr>",
                            "<tr><td>975</td><td>Road-350-W Yellow, 44</td><td>1082.5100</td><td>1700.9900</td><td>1020.5940</td></tr>",
                            "<tr><td>976</td><td>Road-350-W Yellow, 48</td><td>1082.5100</td><td>1700.9900</td><td>986.5742</td></tr>",
                            "<tr><td>977</td><td>Road-750 Black, 58</td><td>343.6496</td><td>539.9900</td><td>323.9940</td></tr>",
                            "<tr><td>978</td><td>Touring-3000 Blue, 44</td><td>461.4448</td><td>742.3500</td><td>445.4100</td></tr>",
                            "<tr><td>979</td><td>Touring-3000 Blue, 50</td><td>461.4448</td><td>742.3500</td><td>445.4100</td></tr>",
                            "<tr><td>984</td><td>Mountain-500 Silver, 40</td><td>308.2179</td><td>564.9900</td><td>112.9980</td></tr>",
                            "<tr><td>985</td><td>Mountain-500 Silver, 42</td><td>308.2179</td><td>564.9900</td><td>112.9980</td></tr>",
                            "<tr><td>986</td><td>Mountain-500 Silver, 44</td><td>308.2179</td><td>564.9900</td><td>112.9980</td></tr>",
                            "<tr><td>987</td><td>Mountain-500 Silver, 48</td><td>308.2179</td><td>564.9900</td><td>112.9980</td></tr>",
                            "<tr><td>988</td><td>Mountain-500 Silver, 52</td><td>308.2179</td><td>564.9900</td><td>112.9980</td></tr>",
                            "<tr><td>997</td><td>Road-750 Black, 44</td><td>343.6496</td><td>539.9900</td><td>323.9940</td></tr>",
                            "<tr><td>998</td><td>Road-750 Black, 48</td><td>343.6496</td><td>539.9900</td><td>323.9940</td></tr>",
                            "<tr><td>999</td><td>Road-750 Black, 52</td><td>343.6496</td><td>539.9900</td><td>323.9940</td></tr>",
                            "</table>"
                        ]
                    }
                }
            ],
            "execution_count": 5
        },
        {
            "cell_type": "markdown",
            "source": [
                "**Challenge 2**\n",
                "\n",
                "  \n",
                "\n",
                "**1\\.** Retrieve customer information for all sales orders Retrieve the sales order ID, customer ID, first name, last name, and total due for all sales orders from the SalesLT.SalesOrderHeader table and the dbo.ufnGetCustomerInformation function."
            ],
            "metadata": {
                "azdata_cell_guid": "8688128b-c1c6-4e96-9b67-0ad92de5e9c3"
            },
            "attachments": {}
        },
        {
            "cell_type": "code",
            "source": [
                "SELECT SH.SalesOrderID, CI.CustomerID, CI.FirstName, CI.LastName, SH.TotalDue\r\n",
                "FROM SalesOrderHeader AS SH\r\n",
                "CROSS APPLY dbo.ufnGetCustomerInformation(SH.CustomerID) AS CI\r\n",
                "ORDER BY SH.SalesOrderID; /*NÃO ENTENDI COMO USA O CROSS APPLY E PQ NO ENUNCIADO PEDE PARA USAR A FUNÇÃO DBO */ "
            ],
            "metadata": {
                "azdata_cell_guid": "a8b940fa-e7eb-40af-ab04-fa8e805d1264",
                "tags": []
            },
            "outputs": [
                {
                    "output_type": "error",
                    "evalue": "Msg 229, Level 14, State 5, Line 1\r\nThe SELECT permission was denied on the object 'ufnGetCustomerInformation', database 'db7ed_ddm', schema 'dbo'.",
                    "ename": "",
                    "traceback": []
                },
                {
                    "output_type": "display_data",
                    "data": {
                        "text/html": "Total execution time: 00:00:00.098"
                    },
                    "metadata": {}
                }
            ],
            "execution_count": 9
        },
        {
            "cell_type": "markdown",
            "source": [
                "**2.** Retrieve customer address information Retrieve the customer ID, first name, last name, address line 1 and city for all customers from the SalesLT.Address and SalesLT.CustomerAddress tables, and the dbo.ufnGetCustomerInformation function."
            ],
            "metadata": {
                "azdata_cell_guid": "fa350758-014e-4144-850e-dccc3fca9551"
            },
            "attachments": {}
        },
        {
            "cell_type": "code",
            "source": [
                "SELECT CI.CustomerID, CI.FirstName, CI.LastName, A.AddressLine1, A.City\r\n",
                "FROM CustomerAddress AS CA\r\n",
                "JOIN Address AS A\r\n",
                "ON A.AddressID = CA.AddressID\r\n",
                "OUTER APPLY dbo.ufnGetCustomerInformation(CA.CustomerID) AS CI\r\n",
                "ORDER BY CI.CustomerID; /*NÃO ENTENDI COMO USA O CROSS APPLY E PQ NO ENUNCIADO PEDE PARA USAR A FUNÇÃO DBO */ "
            ],
            "metadata": {
                "azdata_cell_guid": "a1356ea6-66ae-4798-8c7b-665c1a461bfb"
            },
            "outputs": [
                {
                    "output_type": "error",
                    "evalue": "Msg 229, Level 14, State 5, Line 1\r\nThe SELECT permission was denied on the object 'ufnGetCustomerInformation', database 'db7ed_ddm', schema 'dbo'.",
                    "ename": "",
                    "traceback": []
                },
                {
                    "output_type": "display_data",
                    "data": {
                        "text/html": "Total execution time: 00:00:00.097"
                    },
                    "metadata": {}
                }
            ],
            "execution_count": 10
        }
    ]
}