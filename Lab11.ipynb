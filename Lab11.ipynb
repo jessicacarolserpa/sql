{
    "metadata": {
        "kernelspec": {
            "name": "SQL",
            "display_name": "SQL",
            "language": "sql"
        },
        "language_info": {
            "name": "sql",
            "version": ""
        },
        "extensions": {
            "azuredatastudio": {
                "version": 1,
                "views": []
            }
        }
    },
    "nbformat_minor": 2,
    "nbformat": 4,
    "cells": [
        {
            "cell_type": "markdown",
            "source": [
                "**<u>Lab11</u>**"
            ],
            "metadata": {
                "azdata_cell_guid": "c320e5b4-a658-4794-811a-9f6965df4278"
            },
            "attachments": {}
        },
        {
            "cell_type": "markdown",
            "source": [
                "**Challenge 1**\n",
                "\n",
                "  \n",
                "\n",
                "**1.** Throw an error for non-existent orders You are currently using the following code to delete order data: DECLARE @SalesOrderID int = DELETE FROM SalesLT.SalesOrderDetail WHERE SalesOrderID = @SalesOrderID; DELETE FROM SalesLT.SalesOrderHeader WHERE SalesOrderID = @SalesOrderID; This code always succeeds, even when the specified order does not exist. Modify the code to check for the existence of the specified order ID before attempting to delete it. If the order does not exist, your code should throw an error. Otherwise, it should go ahead and delete the order data."
            ],
            "metadata": {
                "azdata_cell_guid": "1bb03633-2e01-4b0b-80c7-59318269d61b"
            },
            "attachments": {}
        },
        {
            "cell_type": "code",
            "source": [
                "DECLARE @SalesOrderID int = 0\r\n",
                "IF NOT EXISTS (SELECT * FROM SalesOrderHeader WHERE SalesOrderID = @SalesOrderID)\r\n",
                "BEGIN\r\n",
                "\tTHROW 50001, 'The order does not exist.', 0\r\n",
                "END\r\n",
                "ELSE\r\n",
                "BEGIN\r\n",
                "\tDELETE FROM SalesOrderDetail WHERE SalesOrderID = @SalesOrderID;\r\n",
                "\tDELETE FROM SalesOrderHeader WHERE SalesOrderID = @SalesOrderID;\r\n",
                "END"
            ],
            "metadata": {
                "azdata_cell_guid": "d9f33782-cf5f-4f02-90ff-49c98ba5628f"
            },
            "outputs": [],
            "execution_count": null
        },
        {
            "cell_type": "markdown",
            "source": [
                "**2**. Handle errors Your code now throws an error if the specified order does not exist. You must now refine your code to catch this (or any other) error and print the error message to the user interface using the PRINT command."
            ],
            "metadata": {
                "azdata_cell_guid": "85a466ac-cf02-45b8-9bc6-91ad49a327f0"
            },
            "attachments": {}
        },
        {
            "cell_type": "code",
            "source": [
                "DECLARE @SalesOrderID int = 0\r\n",
                "BEGIN TRY\r\n",
                "\tIF NOT EXISTS (SELECT * FROM SalesOrderHeader WHERE SalesOrderID = @SalesOrderID)\r\n",
                "\tBEGIN\r\n",
                "\t\tTHROW 50001, 'The order does not exist.', 0\r\n",
                "\tEND\r\n",
                "\tELSE\r\n",
                "\tBEGIN\r\n",
                "\t\tDELETE FROM SalesOrderDetail WHERE SalesOrderID = @SalesOrderID;\r\n",
                "\t\tDELETE FROM SalesOrderHeader WHERE SalesOrderID = @SalesOrderID;\r\n",
                "\tEND\r\n",
                "END TRY\r\n",
                "BEGIN CATCH\r\n",
                "\tPRINT ERROR_MESSAGE();\r\n",
                "END CATCH;"
            ],
            "metadata": {
                "azdata_cell_guid": "2046fe16-20f3-48d5-bbc7-18c81d9a6935"
            },
            "outputs": [],
            "execution_count": null
        },
        {
            "cell_type": "markdown",
            "source": [
                "**Challenge 2**\n",
                "\n",
                "  \n",
                "\n",
                "**1.** Implement a transaction Enhance the code you created in the previous challenge so that the two DELETE statements are treated as a single transactional unit of work. In the error handler, modify the code so that if a transaction is in process, it is rolled back and the error is re-thrown to the client application. If not transaction is in process the error handler should continue to simply print the error message. To test your transaction, add a THROW statement between the two DELETE statements to simulate an unexpected error. When testing with a valid, existing order ID, the error should be re-thrown by the error handler and no rows should be deleted from either table."
            ],
            "metadata": {
                "azdata_cell_guid": "47233ed9-fdb2-4b05-8dd7-4025b22dc8ea"
            },
            "attachments": {}
        },
        {
            "cell_type": "code",
            "source": [
                "DECLARE @SalesOrderID int = 0;\n",
                "--SELECT @SalesOrderID = MAX(SalesOrderID) FROM SalesLT.SalesOrderHeader;\n",
                "BEGIN TRY\n",
                "\tIF EXISTS (SELECT * FROM SalesOrderHeader WHERE SalesOrderID = @SalesOrderID)\n",
                "\tBEGIN\n",
                "\t\tBEGIN TRANSACTION\n",
                "\t\t\tDELETE FROM SalesOrderDetail WHERE SalesOrderID = @SalesOrderID;\n",
                "\t\t\tTHROW 50002, 'Test error', 0  --Uncomment to test transaction\n",
                "\t\t\tDELETE FROM SalesOrderHeader WHERE SalesOrderID = @SalesOrderID;\n",
                "\t\tCOMMIT TRANSACTION\n",
                "\tEND\n",
                "\tELSE\n",
                "\tBEGIN\n",
                "\t\tTHROW 50001, 'The order does not exist.', 0;\n",
                "\tEND\n",
                "END TRY\n",
                "BEGIN CATCH\n",
                "\tIF @@TRANCOUNT > 0\n",
                "\tBEGIN\n",
                "\t\tROLLBACK TRANSACTION;\n",
                "\t\tTHROW;\n",
                "\tEND\n",
                "\tELSE\n",
                "\tBEGIN\n",
                "\tPRINT ERROR_MESSAGE();\n",
                "\tEND\n",
                "END CATCH;"
            ],
            "metadata": {
                "azdata_cell_guid": "aa45dc13-4359-4e69-8db2-43ac9bda4fe7"
            },
            "outputs": [],
            "execution_count": null
        }
    ]
}