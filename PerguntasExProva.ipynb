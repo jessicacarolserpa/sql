{
    "metadata": {
        "kernelspec": {
            "name": "SQL",
            "display_name": "SQL",
            "language": "sql"
        },
        "language_info": {
            "name": "sql",
            "version": ""
        },
        "extensions": {
            "azuredatastudio": {
                "version": 1,
                "views": []
            }
        }
    },
    "nbformat_minor": 2,
    "nbformat": 4,
    "cells": [
        {
            "cell_type": "markdown",
            "source": [
                ""
            ],
            "metadata": {
                "azdata_cell_guid": "46f0dc2e-6cd3-4d8b-8bdb-0d299be5772a"
            }
        },
        {
            "cell_type": "markdown",
            "source": [
                "**Perguntas Tipo do Exame de DDM**\n",
                "\n",
                "**1\\. The \\_\\_\\_\\_\\_\\_\\_ states that no primary key attribute may be null.**\n",
                "\n",
                "**A) Referential integrity constraint** \n",
                "\n",
                "B) Entity integrity rule\n",
                "\n",
                " C) Partial specialization rule\n",
                "\n",
                " D) Range domain rule \n",
                "\n",
                "**2\\. What does the following SQL statement do? UPDATE Product\\_T SET Unit\\_Price = 775 WHERE Product\\_ID = 7**\n",
                "\n",
                "A) Changes the price of a unit called Product\\_T to 7 \n",
                "\n",
                "B) Changes the unit price of Product 7 to 775\n",
                "\n",
                "C) Changes the length of the Unit\\_Price field to 775\n",
                "\n",
                " **D) Updates the Product\\_T table to have a unit price of 775**\n",
                "\n",
                "**3\\. Given a table named store with 5 fields: store\\_id, address, city, state, zipcode, why would the following insert command not work? INSERT INTO store values (1000,'234 Park Street')**\n",
                "\n",
                "A) It would work just fine \n",
                "\n",
                "**B) You must specify the fields to insert if you are only inserting some of the fields** \n",
                "\n",
                "C) There is no table keyword \n",
                "\n",
                "D) None of the above\n",
                "\n",
                "**4\\. Which of the following will produce the minimum of all standard prices?**\n",
                "\n",
                "A) Select standard\\_price from Product\\_V where Standard\\_Price = min; \n",
                "\n",
                "**B) Select min(standard\\_price) from Product\\_V;**\n",
                "\n",
                "C) Select Standard\\_Price from min(Product\\_V); \n",
                "\n",
                "D) Select min(Standard\\_Price) from Product\\_V where Standard\\_Price = min(Standard\\_Price);"
            ],
            "metadata": {
                "azdata_cell_guid": "f86884b4-59ca-4679-8574-90c01b785b45"
            },
            "attachments": {}
        }
    ]
}