{
    "metadata": {
        "kernelspec": {
            "name": "SQL",
            "display_name": "SQL",
            "language": "sql"
        },
        "language_info": {
            "name": "sql",
            "version": ""
        },
        "extensions": {
            "azuredatastudio": {
                "version": 1,
                "views": []
            }
        }
    },
    "nbformat_minor": 2,
    "nbformat": 4,
    "cells": [
        {
            "cell_type": "markdown",
            "source": [
                "**<u>Lab08</u>**"
            ],
            "metadata": {
                "azdata_cell_guid": "7e1ed29c-3f1d-4860-a051-95148c2c8ffe"
            },
            "attachments": {}
        },
        {
            "cell_type": "markdown",
            "source": [
                "**Challenge 1**\n",
                "\n",
                "**1.** Retrieve totals for country/region and state/province \n",
                "\n",
                "An existing report uses the following query to return total sales revenue grouped by country/region and state/province. \n",
                "\n",
                "You have been asked to modify this query so that the results include a grand total for all sales revenue and a subtotal for each country/region in addition to the state/province subtotals that are already returned."
            ],
            "metadata": {
                "azdata_cell_guid": "6db16146-70ab-454a-8023-0350a63a4710"
            },
            "attachments": {}
        },
        {
            "cell_type": "code",
            "source": [
                "SELECT a.CountryRegion, a.StateProvince, SUM(soh.TotalDue) AS Revenue\r\n",
                "FROM Address AS a\r\n",
                "JOIN CustomerAddress AS ca\r\n",
                "ON a.AddressID = ca.AddressID \r\n",
                "JOIN Customer AS c \r\n",
                "ON ca.CustomerID = c.CustomerID \r\n",
                "JOIN SalesOrderHeader as soh \r\n",
                "ON c.CustomerID = soh.CustomerID \r\n",
                "GROUP BY a.CountryRegion, a.StateProvince \r\n",
                "ORDER BY a.CountryRegion, a.StateProvince; "
            ],
            "metadata": {
                "azdata_cell_guid": "8e619107-fff9-4d67-be02-0869c73091bf"
            },
            "outputs": [
                {
                    "output_type": "display_data",
                    "data": {
                        "text/html": "(6 rows affected)"
                    },
                    "metadata": {}
                },
                {
                    "output_type": "display_data",
                    "data": {
                        "text/html": "Total execution time: 00:00:00.117"
                    },
                    "metadata": {}
                },
                {
                    "output_type": "execute_result",
                    "execution_count": 2,
                    "data": {
                        "application/vnd.dataresource+json": {
                            "schema": {
                                "fields": [
                                    {
                                        "name": "CountryRegion"
                                    },
                                    {
                                        "name": "StateProvince"
                                    },
                                    {
                                        "name": "Revenue"
                                    }
                                ]
                            },
                            "data": [
                                {
                                    "0": "United Kingdom",
                                    "1": "England",
                                    "2": "572496.5594"
                                },
                                {
                                    "0": "United States",
                                    "1": "California",
                                    "2": "346517.6072"
                                },
                                {
                                    "0": "United States",
                                    "1": "Colorado",
                                    "2": "14017.9083"
                                },
                                {
                                    "0": "United States",
                                    "1": "Nevada",
                                    "2": "7330.8972"
                                },
                                {
                                    "0": "United States",
                                    "1": "New Mexico",
                                    "2": "15275.1977"
                                },
                                {
                                    "0": "United States",
                                    "1": "Utah",
                                    "2": "665.4251"
                                }
                            ]
                        },
                        "text/html": "<table><tr><th>CountryRegion</th><th>StateProvince</th><th>Revenue</th></tr><tr><td>United Kingdom</td><td>England</td><td>572496.5594</td></tr><tr><td>United States</td><td>California</td><td>346517.6072</td></tr><tr><td>United States</td><td>Colorado</td><td>14017.9083</td></tr><tr><td>United States</td><td>Nevada</td><td>7330.8972</td></tr><tr><td>United States</td><td>New Mexico</td><td>15275.1977</td></tr><tr><td>United States</td><td>Utah</td><td>665.4251</td></tr></table>"
                    },
                    "metadata": {}
                }
            ],
            "execution_count": 2
        },
        {
            "cell_type": "code",
            "source": [
                "SELECT A.CountryRegion, A.StateProvince, SUM(soh.TotalDue) AS Revenue\r\n",
                "FROM Address AS A\r\n",
                "JOIN CustomerAddress AS CA \r\n",
                "ON A.AddressID = CA.AddressID\r\n",
                "JOIN Customer AS C\r\n",
                "ON CA.CustomerID = c.CustomerID\r\n",
                "JOIN SalesOrderHeader AS SOH \r\n",
                "ON C.CustomerID = SOH.CustomerID\r\n",
                "GROUP BY ROLLUP(A.CountryRegion, A.StateProvince)\r\n",
                "ORDER BY A.CountryRegion, A.StateProvince;  /*NÃO ENTENDI ROLLUP*/ "
            ],
            "metadata": {
                "azdata_cell_guid": "4fc7628c-aaba-465a-8064-06ab012f56f4"
            },
            "outputs": [
                {
                    "output_type": "display_data",
                    "data": {
                        "text/html": "(9 rows affected)"
                    },
                    "metadata": {}
                },
                {
                    "output_type": "display_data",
                    "data": {
                        "text/html": "Total execution time: 00:00:00.111"
                    },
                    "metadata": {}
                },
                {
                    "output_type": "execute_result",
                    "execution_count": 3,
                    "data": {
                        "application/vnd.dataresource+json": {
                            "schema": {
                                "fields": [
                                    {
                                        "name": "CountryRegion"
                                    },
                                    {
                                        "name": "StateProvince"
                                    },
                                    {
                                        "name": "Revenue"
                                    }
                                ]
                            },
                            "data": [
                                {
                                    "0": "NULL",
                                    "1": "NULL",
                                    "2": "956303.5949"
                                },
                                {
                                    "0": "United Kingdom",
                                    "1": "NULL",
                                    "2": "572496.5594"
                                },
                                {
                                    "0": "United Kingdom",
                                    "1": "England",
                                    "2": "572496.5594"
                                },
                                {
                                    "0": "United States",
                                    "1": "NULL",
                                    "2": "383807.0355"
                                },
                                {
                                    "0": "United States",
                                    "1": "California",
                                    "2": "346517.6072"
                                },
                                {
                                    "0": "United States",
                                    "1": "Colorado",
                                    "2": "14017.9083"
                                },
                                {
                                    "0": "United States",
                                    "1": "Nevada",
                                    "2": "7330.8972"
                                },
                                {
                                    "0": "United States",
                                    "1": "New Mexico",
                                    "2": "15275.1977"
                                },
                                {
                                    "0": "United States",
                                    "1": "Utah",
                                    "2": "665.4251"
                                }
                            ]
                        },
                        "text/html": "<table><tr><th>CountryRegion</th><th>StateProvince</th><th>Revenue</th></tr><tr><td>NULL</td><td>NULL</td><td>956303.5949</td></tr><tr><td>United Kingdom</td><td>NULL</td><td>572496.5594</td></tr><tr><td>United Kingdom</td><td>England</td><td>572496.5594</td></tr><tr><td>United States</td><td>NULL</td><td>383807.0355</td></tr><tr><td>United States</td><td>California</td><td>346517.6072</td></tr><tr><td>United States</td><td>Colorado</td><td>14017.9083</td></tr><tr><td>United States</td><td>Nevada</td><td>7330.8972</td></tr><tr><td>United States</td><td>New Mexico</td><td>15275.1977</td></tr><tr><td>United States</td><td>Utah</td><td>665.4251</td></tr></table>"
                    },
                    "metadata": {}
                }
            ],
            "execution_count": 3
        },
        {
            "cell_type": "markdown",
            "source": [
                "**2\\.** Indicate the grouping level in the results . Modify your query to include a column named Level that indicates at which level in the total, country/region, and state/province hierarchy the revenue figure in the row is aggregated. For example, the grand total row should contain the value ‘Total’, the row showing the subtotal for United States should contain the value ‘United States Subtotal’, and the row showing the subtotal for California should contain the value ‘California Subtotal’."
            ],
            "metadata": {
                "azdata_cell_guid": "d0a9c03c-1cf4-4ba1-ade5-9db2b77e7aa4"
            },
            "attachments": {}
        },
        {
            "cell_type": "code",
            "source": [
                "SELECT a.CountryRegion, a.StateProvince, SUM(soh.TotalDue) AS Revenue,  \r\n",
                "CASE \r\n",
                "\tWHEN GROUPING_ID(a.CountryRegion) = 1 AND GROUPING_ID(a.StateProvince) = 1 THEN 'Total'\r\n",
                "\tWHEN GROUPING_ID(a.CountryRegion) = 0 AND GROUPING_ID(a.StateProvince) = 1 THEN CONCAT(a.CountryRegion, ' Subtotal')\r\n",
                "\tWHEN GROUPING_ID(a.CountryRegion) = 0 AND GROUPING_ID(a.StateProvince) = 0 THEN CONCAT(a.StateProvince, ' Subtotal')\r\n",
                "END AS Level\r\n",
                "FROM Address AS a\r\n",
                "JOIN CustomerAddress AS ca \r\n",
                "ON a.AddressID = ca.AddressID\r\n",
                "JOIN Customer AS c\r\n",
                "ON ca.CustomerID = c.CustomerID\r\n",
                "JOIN SalesOrderHeader as soh \r\n",
                "ON c.CustomerID = soh.CustomerID\r\n",
                "GROUP BY ROLLUP(a.CountryRegion, a.StateProvince)\r\n",
                "ORDER BY a.CountryRegion, a.StateProvince;"
            ],
            "metadata": {
                "azdata_cell_guid": "14098394-6bcf-4214-8e05-00943e773b1a"
            },
            "outputs": [
                {
                    "output_type": "display_data",
                    "data": {
                        "text/html": "(9 rows affected)"
                    },
                    "metadata": {}
                },
                {
                    "output_type": "display_data",
                    "data": {
                        "text/html": "Total execution time: 00:00:00.116"
                    },
                    "metadata": {}
                },
                {
                    "output_type": "execute_result",
                    "execution_count": 4,
                    "data": {
                        "application/vnd.dataresource+json": {
                            "schema": {
                                "fields": [
                                    {
                                        "name": "CountryRegion"
                                    },
                                    {
                                        "name": "StateProvince"
                                    },
                                    {
                                        "name": "Revenue"
                                    },
                                    {
                                        "name": "Level"
                                    }
                                ]
                            },
                            "data": [
                                {
                                    "0": "NULL",
                                    "1": "NULL",
                                    "2": "956303.5949",
                                    "3": "Total"
                                },
                                {
                                    "0": "United Kingdom",
                                    "1": "NULL",
                                    "2": "572496.5594",
                                    "3": "United Kingdom Subtotal"
                                },
                                {
                                    "0": "United Kingdom",
                                    "1": "England",
                                    "2": "572496.5594",
                                    "3": "England Subtotal"
                                },
                                {
                                    "0": "United States",
                                    "1": "NULL",
                                    "2": "383807.0355",
                                    "3": "United States Subtotal"
                                },
                                {
                                    "0": "United States",
                                    "1": "California",
                                    "2": "346517.6072",
                                    "3": "California Subtotal"
                                },
                                {
                                    "0": "United States",
                                    "1": "Colorado",
                                    "2": "14017.9083",
                                    "3": "Colorado Subtotal"
                                },
                                {
                                    "0": "United States",
                                    "1": "Nevada",
                                    "2": "7330.8972",
                                    "3": "Nevada Subtotal"
                                },
                                {
                                    "0": "United States",
                                    "1": "New Mexico",
                                    "2": "15275.1977",
                                    "3": "New Mexico Subtotal"
                                },
                                {
                                    "0": "United States",
                                    "1": "Utah",
                                    "2": "665.4251",
                                    "3": "Utah Subtotal"
                                }
                            ]
                        },
                        "text/html": "<table><tr><th>CountryRegion</th><th>StateProvince</th><th>Revenue</th><th>Level</th></tr><tr><td>NULL</td><td>NULL</td><td>956303.5949</td><td>Total</td></tr><tr><td>United Kingdom</td><td>NULL</td><td>572496.5594</td><td>United Kingdom Subtotal</td></tr><tr><td>United Kingdom</td><td>England</td><td>572496.5594</td><td>England Subtotal</td></tr><tr><td>United States</td><td>NULL</td><td>383807.0355</td><td>United States Subtotal</td></tr><tr><td>United States</td><td>California</td><td>346517.6072</td><td>California Subtotal</td></tr><tr><td>United States</td><td>Colorado</td><td>14017.9083</td><td>Colorado Subtotal</td></tr><tr><td>United States</td><td>Nevada</td><td>7330.8972</td><td>Nevada Subtotal</td></tr><tr><td>United States</td><td>New Mexico</td><td>15275.1977</td><td>New Mexico Subtotal</td></tr><tr><td>United States</td><td>Utah</td><td>665.4251</td><td>Utah Subtotal</td></tr></table>"
                    },
                    "metadata": {}
                }
            ],
            "execution_count": 4
        },
        {
            "cell_type": "markdown",
            "source": [
                "**3.** Add a grouping level for cities Extend your query to include a grouping for individual cities."
            ],
            "metadata": {
                "azdata_cell_guid": "8bb8007d-81a3-4abc-a721-796b8d156ffc"
            },
            "attachments": {}
        },
        {
            "cell_type": "code",
            "source": [
                "SELECT a.CountryRegion, a.StateProvince, a.City, SUM(soh.TotalDue) AS Revenue,  \r\n",
                "CASE \r\n",
                "\tWHEN GROUPING_ID(a.CountryRegion) = 1 AND GROUPING_ID(a.StateProvince) = 1 AND GROUPING_ID(a.City) = 1 THEN 'Total'\r\n",
                "\tWHEN GROUPING_ID(a.CountryRegion) = 0 AND GROUPING_ID(a.StateProvince) = 1 AND GROUPING_ID(a.City) = 1 THEN CONCAT(a.CountryRegion, ' Subtotal')\r\n",
                "\tWHEN GROUPING_ID(a.CountryRegion) = 0 AND GROUPING_ID(a.StateProvince) = 0 AND GROUPING_ID(a.City) = 1 THEN CONCAT(a.StateProvince, ' Subtotal')\r\n",
                "\tWHEN GROUPING_ID(a.CountryRegion) = 0 AND GROUPING_ID(a.StateProvince) = 0 AND GROUPING_ID(a.City) = 0 THEN CONCAT(a.City, ' Subtotal')\r\n",
                "END AS Level\r\n",
                "FROM Address AS a\r\n",
                "JOIN CustomerAddress AS ca \r\n",
                "ON a.AddressID = ca.AddressID\r\n",
                "JOIN Customer AS c \r\n",
                "ON ca.CustomerID = c.CustomerID\r\n",
                "JOIN SalesOrderHeader as soh \r\n",
                "ON c.CustomerID = soh.CustomerID\r\n",
                "GROUP BY ROLLUP(a.CountryRegion, a.StateProvince, a.City)\r\n",
                "ORDER BY a.CountryRegion, a.StateProvince, a.City;"
            ],
            "metadata": {
                "azdata_cell_guid": "cacb1d0d-847d-4595-bcac-1e63e24fad1c"
            },
            "outputs": [
                {
                    "output_type": "display_data",
                    "data": {
                        "text/html": "(38 rows affected)"
                    },
                    "metadata": {}
                },
                {
                    "output_type": "display_data",
                    "data": {
                        "text/html": "Total execution time: 00:00:00.131"
                    },
                    "metadata": {}
                },
                {
                    "output_type": "execute_result",
                    "execution_count": 6,
                    "data": {
                        "application/vnd.dataresource+json": {
                            "schema": {
                                "fields": [
                                    {
                                        "name": "CountryRegion"
                                    },
                                    {
                                        "name": "StateProvince"
                                    },
                                    {
                                        "name": "City"
                                    },
                                    {
                                        "name": "Revenue"
                                    },
                                    {
                                        "name": "Level"
                                    }
                                ]
                            },
                            "data": [
                                {
                                    "0": "NULL",
                                    "1": "NULL",
                                    "2": "NULL",
                                    "3": "956303.5949",
                                    "4": "Total"
                                },
                                {
                                    "0": "United Kingdom",
                                    "1": "NULL",
                                    "2": "NULL",
                                    "3": "572496.5594",
                                    "4": "United Kingdom Subtotal"
                                },
                                {
                                    "0": "United Kingdom",
                                    "1": "England",
                                    "2": "NULL",
                                    "3": "572496.5594",
                                    "4": "England Subtotal"
                                },
                                {
                                    "0": "United Kingdom",
                                    "1": "England",
                                    "2": "Abingdon",
                                    "3": "45.1995",
                                    "4": "Abingdon Subtotal"
                                },
                                {
                                    "0": "United Kingdom",
                                    "1": "England",
                                    "2": "Cambridge",
                                    "3": "2711.4098",
                                    "4": "Cambridge Subtotal"
                                },
                                {
                                    "0": "United Kingdom",
                                    "1": "England",
                                    "2": "Gloucestershire",
                                    "3": "70698.9922",
                                    "4": "Gloucestershire Subtotal"
                                },
                                {
                                    "0": "United Kingdom",
                                    "1": "England",
                                    "2": "High Wycombe",
                                    "3": "608.1766",
                                    "4": "High Wycombe Subtotal"
                                },
                                {
                                    "0": "United Kingdom",
                                    "1": "England",
                                    "2": "Liverpool",
                                    "3": "86222.8072",
                                    "4": "Liverpool Subtotal"
                                },
                                {
                                    "0": "United Kingdom",
                                    "1": "England",
                                    "2": "London",
                                    "3": "206736.1667",
                                    "4": "London Subtotal"
                                },
                                {
                                    "0": "United Kingdom",
                                    "1": "England",
                                    "2": "Maidenhead",
                                    "3": "43.0437",
                                    "4": "Maidenhead Subtotal"
                                },
                                {
                                    "0": "United Kingdom",
                                    "1": "England",
                                    "2": "Milton Keynes",
                                    "3": "41759.6651",
                                    "4": "Milton Keynes Subtotal"
                                },
                                {
                                    "0": "United Kingdom",
                                    "1": "England",
                                    "2": "Oxon",
                                    "3": "1170.5376",
                                    "4": "Oxon Subtotal"
                                },
                                {
                                    "0": "United Kingdom",
                                    "1": "England",
                                    "2": "West Sussex",
                                    "3": "42452.6519",
                                    "4": "West Sussex Subtotal"
                                },
                                {
                                    "0": "United Kingdom",
                                    "1": "England",
                                    "2": "Wokingham",
                                    "3": "87.0851",
                                    "4": "Wokingham Subtotal"
                                },
                                {
                                    "0": "United Kingdom",
                                    "1": "England",
                                    "2": "Woolston",
                                    "3": "119960.8240",
                                    "4": "Woolston Subtotal"
                                },
                                {
                                    "0": "United States",
                                    "1": "NULL",
                                    "2": "NULL",
                                    "3": "383807.0355",
                                    "4": "United States Subtotal"
                                },
                                {
                                    "0": "United States",
                                    "1": "California",
                                    "2": "NULL",
                                    "3": "346517.6072",
                                    "4": "California Subtotal"
                                },
                                {
                                    "0": "United States",
                                    "1": "California",
                                    "2": "Alhambra",
                                    "3": "117.7276",
                                    "4": "Alhambra Subtotal"
                                },
                                {
                                    "0": "United States",
                                    "1": "California",
                                    "2": "Auburn",
                                    "3": "972.7850",
                                    "4": "Auburn Subtotal"
                                },
                                {
                                    "0": "United States",
                                    "1": "California",
                                    "2": "Camarillo",
                                    "3": "2361.6403",
                                    "4": "Camarillo Subtotal"
                                },
                                {
                                    "0": "United States",
                                    "1": "California",
                                    "2": "Cerritos",
                                    "3": "45992.3665",
                                    "4": "Cerritos Subtotal"
                                },
                                {
                                    "0": "United States",
                                    "1": "California",
                                    "2": "Culver City",
                                    "3": "272.6468",
                                    "4": "Culver City Subtotal"
                                },
                                {
                                    "0": "United States",
                                    "1": "California",
                                    "2": "Daly City",
                                    "3": "3293.7761",
                                    "4": "Daly City Subtotal"
                                },
                                {
                                    "0": "United States",
                                    "1": "California",
                                    "2": "El Segundo",
                                    "3": "2669.3183",
                                    "4": "El Segundo Subtotal"
                                },
                                {
                                    "0": "United States",
                                    "1": "California",
                                    "2": "Fullerton",
                                    "3": "81834.9826",
                                    "4": "Fullerton Subtotal"
                                },
                                {
                                    "0": "United States",
                                    "1": "California",
                                    "2": "Oxnard",
                                    "3": "5016.4173",
                                    "4": "Oxnard Subtotal"
                                },
                                {
                                    "0": "United States",
                                    "1": "California",
                                    "2": "Santa Ana",
                                    "3": "3673.3249",
                                    "4": "Santa Ana Subtotal"
                                },
                                {
                                    "0": "United States",
                                    "1": "California",
                                    "2": "Sherman Oaks",
                                    "3": "63686.2708",
                                    "4": "Sherman Oaks Subtotal"
                                },
                                {
                                    "0": "United States",
                                    "1": "California",
                                    "2": "Union City",
                                    "3": "92663.5609",
                                    "4": "Union City Subtotal"
                                },
                                {
                                    "0": "United States",
                                    "1": "California",
                                    "2": "Van Nuys",
                                    "3": "43962.7901",
                                    "4": "Van Nuys Subtotal"
                                },
                                {
                                    "0": "United States",
                                    "1": "Colorado",
                                    "2": "NULL",
                                    "3": "14017.9083",
                                    "4": "Colorado Subtotal"
                                },
                                {
                                    "0": "United States",
                                    "1": "Colorado",
                                    "2": "Englewood",
                                    "3": "14017.9083",
                                    "4": "Englewood Subtotal"
                                },
                                {
                                    "0": "United States",
                                    "1": "Nevada",
                                    "2": "NULL",
                                    "3": "7330.8972",
                                    "4": "Nevada Subtotal"
                                },
                                {
                                    "0": "United States",
                                    "1": "Nevada",
                                    "2": "Las Vegas",
                                    "3": "7330.8972",
                                    "4": "Las Vegas Subtotal"
                                },
                                {
                                    "0": "United States",
                                    "1": "New Mexico",
                                    "2": "NULL",
                                    "3": "15275.1977",
                                    "4": "New Mexico Subtotal"
                                },
                                {
                                    "0": "United States",
                                    "1": "New Mexico",
                                    "2": "Santa Fe",
                                    "3": "15275.1977",
                                    "4": "Santa Fe Subtotal"
                                },
                                {
                                    "0": "United States",
                                    "1": "Utah",
                                    "2": "NULL",
                                    "3": "665.4251",
                                    "4": "Utah Subtotal"
                                },
                                {
                                    "0": "United States",
                                    "1": "Utah",
                                    "2": "Sandy",
                                    "3": "665.4251",
                                    "4": "Sandy Subtotal"
                                }
                            ]
                        },
                        "text/html": "<table><tr><th>CountryRegion</th><th>StateProvince</th><th>City</th><th>Revenue</th><th>Level</th></tr><tr><td>NULL</td><td>NULL</td><td>NULL</td><td>956303.5949</td><td>Total</td></tr><tr><td>United Kingdom</td><td>NULL</td><td>NULL</td><td>572496.5594</td><td>United Kingdom Subtotal</td></tr><tr><td>United Kingdom</td><td>England</td><td>NULL</td><td>572496.5594</td><td>England Subtotal</td></tr><tr><td>United Kingdom</td><td>England</td><td>Abingdon</td><td>45.1995</td><td>Abingdon Subtotal</td></tr><tr><td>United Kingdom</td><td>England</td><td>Cambridge</td><td>2711.4098</td><td>Cambridge Subtotal</td></tr><tr><td>United Kingdom</td><td>England</td><td>Gloucestershire</td><td>70698.9922</td><td>Gloucestershire Subtotal</td></tr><tr><td>United Kingdom</td><td>England</td><td>High Wycombe</td><td>608.1766</td><td>High Wycombe Subtotal</td></tr><tr><td>United Kingdom</td><td>England</td><td>Liverpool</td><td>86222.8072</td><td>Liverpool Subtotal</td></tr><tr><td>United Kingdom</td><td>England</td><td>London</td><td>206736.1667</td><td>London Subtotal</td></tr><tr><td>United Kingdom</td><td>England</td><td>Maidenhead</td><td>43.0437</td><td>Maidenhead Subtotal</td></tr><tr><td>United Kingdom</td><td>England</td><td>Milton Keynes</td><td>41759.6651</td><td>Milton Keynes Subtotal</td></tr><tr><td>United Kingdom</td><td>England</td><td>Oxon</td><td>1170.5376</td><td>Oxon Subtotal</td></tr><tr><td>United Kingdom</td><td>England</td><td>West Sussex</td><td>42452.6519</td><td>West Sussex Subtotal</td></tr><tr><td>United Kingdom</td><td>England</td><td>Wokingham</td><td>87.0851</td><td>Wokingham Subtotal</td></tr><tr><td>United Kingdom</td><td>England</td><td>Woolston</td><td>119960.8240</td><td>Woolston Subtotal</td></tr><tr><td>United States</td><td>NULL</td><td>NULL</td><td>383807.0355</td><td>United States Subtotal</td></tr><tr><td>United States</td><td>California</td><td>NULL</td><td>346517.6072</td><td>California Subtotal</td></tr><tr><td>United States</td><td>California</td><td>Alhambra</td><td>117.7276</td><td>Alhambra Subtotal</td></tr><tr><td>United States</td><td>California</td><td>Auburn</td><td>972.7850</td><td>Auburn Subtotal</td></tr><tr><td>United States</td><td>California</td><td>Camarillo</td><td>2361.6403</td><td>Camarillo Subtotal</td></tr><tr><td>United States</td><td>California</td><td>Cerritos</td><td>45992.3665</td><td>Cerritos Subtotal</td></tr><tr><td>United States</td><td>California</td><td>Culver City</td><td>272.6468</td><td>Culver City Subtotal</td></tr><tr><td>United States</td><td>California</td><td>Daly City</td><td>3293.7761</td><td>Daly City Subtotal</td></tr><tr><td>United States</td><td>California</td><td>El Segundo</td><td>2669.3183</td><td>El Segundo Subtotal</td></tr><tr><td>United States</td><td>California</td><td>Fullerton</td><td>81834.9826</td><td>Fullerton Subtotal</td></tr><tr><td>United States</td><td>California</td><td>Oxnard</td><td>5016.4173</td><td>Oxnard Subtotal</td></tr><tr><td>United States</td><td>California</td><td>Santa Ana</td><td>3673.3249</td><td>Santa Ana Subtotal</td></tr><tr><td>United States</td><td>California</td><td>Sherman Oaks</td><td>63686.2708</td><td>Sherman Oaks Subtotal</td></tr><tr><td>United States</td><td>California</td><td>Union City</td><td>92663.5609</td><td>Union City Subtotal</td></tr><tr><td>United States</td><td>California</td><td>Van Nuys</td><td>43962.7901</td><td>Van Nuys Subtotal</td></tr><tr><td>United States</td><td>Colorado</td><td>NULL</td><td>14017.9083</td><td>Colorado Subtotal</td></tr><tr><td>United States</td><td>Colorado</td><td>Englewood</td><td>14017.9083</td><td>Englewood Subtotal</td></tr><tr><td>United States</td><td>Nevada</td><td>NULL</td><td>7330.8972</td><td>Nevada Subtotal</td></tr><tr><td>United States</td><td>Nevada</td><td>Las Vegas</td><td>7330.8972</td><td>Las Vegas Subtotal</td></tr><tr><td>United States</td><td>New Mexico</td><td>NULL</td><td>15275.1977</td><td>New Mexico Subtotal</td></tr><tr><td>United States</td><td>New Mexico</td><td>Santa Fe</td><td>15275.1977</td><td>Santa Fe Subtotal</td></tr><tr><td>United States</td><td>Utah</td><td>NULL</td><td>665.4251</td><td>Utah Subtotal</td></tr><tr><td>United States</td><td>Utah</td><td>Sandy</td><td>665.4251</td><td>Sandy Subtotal</td></tr></table>"
                    },
                    "metadata": {}
                }
            ],
            "execution_count": 6
        },
        {
            "cell_type": "markdown",
            "source": [
                "**Challenge 2**\n",
                "\n",
                "  \n",
                "\n",
                "**1**. Retrieve customer sales revenue for each parent category Tip: Review the documentation for the PIVOT operator in the FROM clause syntax in the Transact-SQL language reference. Retrieve a list of customer company names tog"
            ],
            "metadata": {
                "azdata_cell_guid": "4ca74b28-3560-4e97-81af-46a44b72b84a"
            },
            "attachments": {}
        },
        {
            "cell_type": "code",
            "source": [
                "SELECT * FROM (\n",
                "SELECT c.CompanyName, vgac.ParentProductCategoryName, sod.LineTotal\n",
                "FROM SalesOrderHeader AS soh\n",
                "JOIN Customer AS c\n",
                "ON soh.CustomerID = c.CustomerID\n",
                "JOIN SalesOrderDetail AS sod\n",
                "ON soh.SalesOrderID = sod.SalesOrderID\n",
                "JOIN Product AS p\n",
                "ON sod.ProductID = p.ProductID\n",
                "JOIN vGetAllCategories AS vgac\n",
                "ON p.ProductCategoryID = vgac.ProductCategoryID) AS PCN\n",
                "PIVOT \n",
                "(\n",
                "SUM(LineTotal) \n",
                "FOR [ParentProductCategoryName] IN ([Accessories], [Bikes], [Clothing], [Components])\n",
                ") AS PPCN\n",
                "ORDER BY CompanyName;"
            ],
            "metadata": {
                "azdata_cell_guid": "8cbe903d-9df9-4c75-b30c-9d0a8eee8090"
            },
            "outputs": [
                {
                    "output_type": "error",
                    "ename": "",
                    "evalue": "Msg 208, Level 16, State 1, Line 1\r\nInvalid object name 'vGetAllCategories'.",
                    "traceback": []
                },
                {
                    "output_type": "display_data",
                    "data": {
                        "text/html": "Total execution time: 00:00:00.093"
                    },
                    "metadata": {}
                }
            ],
            "execution_count": 7
        },
        {
            "cell_type": "markdown",
            "source": [
                ""
            ],
            "metadata": {
                "azdata_cell_guid": "69b1a816-c453-4666-b8b2-78263f8f1fd7"
            }
        }
    ]
}