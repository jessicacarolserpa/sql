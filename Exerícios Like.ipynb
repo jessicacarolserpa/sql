{
    "metadata": {
        "kernelspec": {
            "name": "SQL",
            "display_name": "SQL",
            "language": "sql"
        },
        "language_info": {
            "name": "sql",
            "version": ""
        },
        "extensions": {
            "azuredatastudio": {
                "version": 1,
                "views": []
            }
        }
    },
    "nbformat_minor": 2,
    "nbformat": 4,
    "cells": [
        {
            "cell_type": "markdown",
            "source": [
                "**SQL – Exercícios Like**\n",
                "\n",
                "Use o salesLT SchemaT para completar este exercício."
            ],
            "metadata": {
                "azdata_cell_guid": "bd00a7a7-15e9-431d-b3d3-5d0df16df87f"
            },
            "attachments": {}
        },
        {
            "cell_type": "markdown",
            "source": [
                "**1.** Write a query that displays the product ID and name for each product with the name starting with Long\n",
                "\n",
                "Escreva uma consulta que exiba o ID e o nome do produto para cada produto com o nome  começando com Long"
            ],
            "metadata": {
                "azdata_cell_guid": "5983bd16-aa3f-475c-9812-f78cac8605b7"
            },
            "attachments": {}
        },
        {
            "cell_type": "code",
            "source": [
                "SELECT ProductID, Name\r\n",
                "FROM Product\r\n",
                "WHERE Name LIKE 'Long%'"
            ],
            "metadata": {
                "azdata_cell_guid": "06e59bee-1518-4183-b04b-974f43d654e6"
            },
            "outputs": [
                {
                    "output_type": "display_data",
                    "data": {
                        "text/html": "(4 rows affected)"
                    },
                    "metadata": {}
                },
                {
                    "output_type": "display_data",
                    "data": {
                        "text/html": "Total execution time: 00:00:00.104"
                    },
                    "metadata": {}
                },
                {
                    "output_type": "execute_result",
                    "metadata": {},
                    "execution_count": 7,
                    "data": {
                        "application/vnd.dataresource+json": {
                            "schema": {
                                "fields": [
                                    {
                                        "name": "ProductID"
                                    },
                                    {
                                        "name": "Name"
                                    }
                                ]
                            },
                            "data": [
                                {
                                    "0": "715",
                                    "1": "Long-Sleeve Logo Jersey, L"
                                },
                                {
                                    "0": "714",
                                    "1": "Long-Sleeve Logo Jersey, M"
                                },
                                {
                                    "0": "713",
                                    "1": "Long-Sleeve Logo Jersey, S"
                                },
                                {
                                    "0": "716",
                                    "1": "Long-Sleeve Logo Jersey, XL"
                                }
                            ]
                        },
                        "text/html": [
                            "<table>",
                            "<tr><th>ProductID</th><th>Name</th></tr>",
                            "<tr><td>715</td><td>Long-Sleeve Logo Jersey, L</td></tr>",
                            "<tr><td>714</td><td>Long-Sleeve Logo Jersey, M</td></tr>",
                            "<tr><td>713</td><td>Long-Sleeve Logo Jersey, S</td></tr>",
                            "<tr><td>716</td><td>Long-Sleeve Logo Jersey, XL</td></tr>",
                            "</table>"
                        ]
                    }
                }
            ],
            "execution_count": 7
        },
        {
            "cell_type": "markdown",
            "source": [
                "**2.** Write a query like the one in question 1 that displays the products with logo in the name. \n",
                "\n",
                " Escreva uma pergunta como a da pergunta 1 que exibe os produtos com o logotipo no nome."
            ],
            "metadata": {
                "azdata_cell_guid": "b42884d9-5ae8-4d1c-9f57-b314225a058a"
            },
            "attachments": {}
        },
        {
            "cell_type": "code",
            "source": [
                "SELECT ProductID, Name\r\n",
                "FROM Product\r\n",
                "WHERE Name LIKE '%Logo%'"
            ],
            "metadata": {
                "azdata_cell_guid": "6840709b-20fd-4f38-895c-4d7ac1de3b43"
            },
            "outputs": [
                {
                    "output_type": "display_data",
                    "data": {
                        "text/html": "(5 rows affected)"
                    },
                    "metadata": {}
                },
                {
                    "output_type": "display_data",
                    "data": {
                        "text/html": "Total execution time: 00:00:00.102"
                    },
                    "metadata": {}
                },
                {
                    "output_type": "execute_result",
                    "metadata": {},
                    "execution_count": 16,
                    "data": {
                        "application/vnd.dataresource+json": {
                            "schema": {
                                "fields": [
                                    {
                                        "name": "ProductID"
                                    },
                                    {
                                        "name": "Name"
                                    }
                                ]
                            },
                            "data": [
                                {
                                    "0": "712",
                                    "1": "AWC Logo Cap"
                                },
                                {
                                    "0": "715",
                                    "1": "Long-Sleeve Logo Jersey, L"
                                },
                                {
                                    "0": "714",
                                    "1": "Long-Sleeve Logo Jersey, M"
                                },
                                {
                                    "0": "713",
                                    "1": "Long-Sleeve Logo Jersey, S"
                                },
                                {
                                    "0": "716",
                                    "1": "Long-Sleeve Logo Jersey, XL"
                                }
                            ]
                        },
                        "text/html": [
                            "<table>",
                            "<tr><th>ProductID</th><th>Name</th></tr>",
                            "<tr><td>712</td><td>AWC Logo Cap</td></tr>",
                            "<tr><td>715</td><td>Long-Sleeve Logo Jersey, L</td></tr>",
                            "<tr><td>714</td><td>Long-Sleeve Logo Jersey, M</td></tr>",
                            "<tr><td>713</td><td>Long-Sleeve Logo Jersey, S</td></tr>",
                            "<tr><td>716</td><td>Long-Sleeve Logo Jersey, XL</td></tr>",
                            "</table>"
                        ]
                    }
                }
            ],
            "execution_count": 16
        },
        {
            "cell_type": "markdown",
            "source": [
                "**3**. Change the last query so that the products without logo in the name are displayed.\n",
                "\n",
                "Alterar a última consulta para que os produtos sem o logotipo no nome sejam exibidos."
            ],
            "metadata": {
                "azdata_cell_guid": "ad5a2bff-febf-475d-a3a9-270e2b01a7b3"
            },
            "attachments": {}
        },
        {
            "cell_type": "code",
            "source": [
                "SELECT ProductID, Name\r\n",
                "FROM Product\r\n",
                "WHERE Name NOT LIKE '%Logo%'"
            ],
            "metadata": {
                "azdata_cell_guid": "5d00fc8f-b553-42c8-a592-d4144f482d1a"
            },
            "outputs": [
                {
                    "output_type": "display_data",
                    "data": {
                        "text/html": "(294 rows affected)"
                    },
                    "metadata": {}
                },
                {
                    "output_type": "display_data",
                    "data": {
                        "text/html": "Total execution time: 00:00:00.110"
                    },
                    "metadata": {}
                },
                {
                    "output_type": "execute_result",
                    "metadata": {},
                    "execution_count": 19,
                    "data": {
                        "application/vnd.dataresource+json": {
                            "schema": {
                                "fields": [
                                    {
                                        "name": "ProductID"
                                    },
                                    {
                                        "name": "Name"
                                    }
                                ]
                            },
                            "data": [
                                {
                                    "0": "879",
                                    "1": "All-Purpose Bike Stand"
                                },
                                {
                                    "0": "1005",
                                    "1": "Bicycle Bell10"
                                },
                                {
                                    "0": "877",
                                    "1": "Bike Wash - Dissolver"
                                },
                                {
                                    "0": "843",
                                    "1": "Cable Lock"
                                },
                                {
                                    "0": "952",
                                    "1": "Chain"
                                },
                                {
                                    "0": "866",
                                    "1": "Classic Vest, L"
                                },
                                {
                                    "0": "865",
                                    "1": "Classic Vest, M"
                                },
                                {
                                    "0": "864",
                                    "1": "Classic Vest, S"
                                },
                                {
                                    "0": "878",
                                    "1": "Fender Set - Mountain"
                                },
                                {
                                    "0": "948",
                                    "1": "Front Brakes"
                                },
                                {
                                    "0": "945",
                                    "1": "Front Derailleur"
                                },
                                {
                                    "0": "863",
                                    "1": "Full-Finger Gloves, L"
                                },
                                {
                                    "0": "862",
                                    "1": "Full-Finger Gloves, M"
                                },
                                {
                                    "0": "861",
                                    "1": "Full-Finger Gloves, S"
                                },
                                {
                                    "0": "860",
                                    "1": "Half-Finger Gloves, L"
                                },
                                {
                                    "0": "859",
                                    "1": "Half-Finger Gloves, M"
                                },
                                {
                                    "0": "858",
                                    "1": "Half-Finger Gloves, S"
                                },
                                {
                                    "0": "847",
                                    "1": "Headlights - Dual-Beam"
                                },
                                {
                                    "0": "848",
                                    "1": "Headlights - Weatherproof"
                                },
                                {
                                    "0": "876",
                                    "1": "Hitch Rack - 4-Bike"
                                },
                                {
                                    "0": "996",
                                    "1": "HL Bottom Bracket"
                                },
                                {
                                    "0": "951",
                                    "1": "HL Crankset"
                                },
                                {
                                    "0": "804",
                                    "1": "HL Fork"
                                },
                                {
                                    "0": "807",
                                    "1": "HL Headset"
                                },
                                {
                                    "0": "747",
                                    "1": "HL Mountain Frame - Black, 38"
                                },
                                {
                                    "0": "743",
                                    "1": "HL Mountain Frame - Black, 42"
                                },
                                {
                                    "0": "744",
                                    "1": "HL Mountain Frame - Black, 44"
                                },
                                {
                                    "0": "746",
                                    "1": "HL Mountain Frame - Black, 46"
                                },
                                {
                                    "0": "745",
                                    "1": "HL Mountain Frame - Black, 48"
                                },
                                {
                                    "0": "748",
                                    "1": "HL Mountain Frame - Silver, 38"
                                },
                                {
                                    "0": "739",
                                    "1": "HL Mountain Frame - Silver, 42"
                                },
                                {
                                    "0": "740",
                                    "1": "HL Mountain Frame - Silver, 44"
                                },
                                {
                                    "0": "742",
                                    "1": "HL Mountain Frame - Silver, 46"
                                },
                                {
                                    "0": "741",
                                    "1": "HL Mountain Frame - Silver, 48"
                                },
                                {
                                    "0": "817",
                                    "1": "HL Mountain Front Wheel"
                                },
                                {
                                    "0": "810",
                                    "1": "HL Mountain Handlebars"
                                },
                                {
                                    "0": "937",
                                    "1": "HL Mountain Pedal"
                                },
                                {
                                    "0": "825",
                                    "1": "HL Mountain Rear Wheel"
                                },
                                {
                                    "0": "910",
                                    "1": "HL Mountain Seat/Saddle"
                                },
                                {
                                    "0": "930",
                                    "1": "HL Mountain Tire"
                                },
                                {
                                    "0": "838",
                                    "1": "HL Road Frame - Black, 44"
                                },
                                {
                                    "0": "839",
                                    "1": "HL Road Frame - Black, 48"
                                },
                                {
                                    "0": "840",
                                    "1": "HL Road Frame - Black, 52"
                                },
                                {
                                    "0": "680",
                                    "1": "HL Road Frame - Black, 58"
                                },
                                {
                                    "0": "837",
                                    "1": "HL Road Frame - Black, 62"
                                },
                                {
                                    "0": "718",
                                    "1": "HL Road Frame - Red, 44"
                                },
                                {
                                    "0": "719",
                                    "1": "HL Road Frame - Red, 48"
                                },
                                {
                                    "0": "720",
                                    "1": "HL Road Frame - Red, 52"
                                },
                                {
                                    "0": "721",
                                    "1": "HL Road Frame - Red, 56"
                                },
                                {
                                    "0": "706",
                                    "1": "HL Road Frame - Red, 58"
                                },
                                {
                                    "0": "717",
                                    "1": "HL Road Frame - Red, 62"
                                },
                                {
                                    "0": "820",
                                    "1": "HL Road Front Wheel"
                                },
                                {
                                    "0": "813",
                                    "1": "HL Road Handlebars"
                                },
                                {
                                    "0": "940",
                                    "1": "HL Road Pedal"
                                },
                                {
                                    "0": "828",
                                    "1": "HL Road Rear Wheel"
                                },
                                {
                                    "0": "913",
                                    "1": "HL Road Seat/Saddle"
                                },
                                {
                                    "0": "933",
                                    "1": "HL Road Tire"
                                },
                                {
                                    "0": "890",
                                    "1": "HL Touring Frame - Blue, 46"
                                },
                                {
                                    "0": "891",
                                    "1": "HL Touring Frame - Blue, 50"
                                },
                                {
                                    "0": "892",
                                    "1": "HL Touring Frame - Blue, 54"
                                },
                                {
                                    "0": "893",
                                    "1": "HL Touring Frame - Blue, 60"
                                },
                                {
                                    "0": "887",
                                    "1": "HL Touring Frame - Yellow, 46"
                                },
                                {
                                    "0": "888",
                                    "1": "HL Touring Frame - Yellow, 50"
                                },
                                {
                                    "0": "889",
                                    "1": "HL Touring Frame - Yellow, 54"
                                },
                                {
                                    "0": "885",
                                    "1": "HL Touring Frame - Yellow, 60"
                                },
                                {
                                    "0": "947",
                                    "1": "HL Touring Handlebars"
                                },
                                {
                                    "0": "916",
                                    "1": "HL Touring Seat/Saddle"
                                },
                                {
                                    "0": "880",
                                    "1": "Hydration Pack - 70 oz."
                                },
                                {
                                    "0": "1000",
                                    "1": "Led Lights"
                                },
                                {
                                    "0": "1002",
                                    "1": "LED Lights2"
                                },
                                {
                                    "0": "1001",
                                    "1": "LED LightsX"
                                },
                                {
                                    "0": "994",
                                    "1": "LL Bottom Bracket"
                                },
                                {
                                    "0": "949",
                                    "1": "LL Crankset"
                                },
                                {
                                    "0": "802",
                                    "1": "LL Fork"
                                },
                                {
                                    "0": "805",
                                    "1": "LL Headset"
                                },
                                {
                                    "0": "943",
                                    "1": "LL Mountain Frame - Black, 40"
                                },
                                {
                                    "0": "924",
                                    "1": "LL Mountain Frame - Black, 42"
                                },
                                {
                                    "0": "925",
                                    "1": "LL Mountain Frame - Black, 44"
                                },
                                {
                                    "0": "926",
                                    "1": "LL Mountain Frame - Black, 48"
                                },
                                {
                                    "0": "927",
                                    "1": "LL Mountain Frame - Black, 52"
                                },
                                {
                                    "0": "944",
                                    "1": "LL Mountain Frame - Silver, 40"
                                },
                                {
                                    "0": "917",
                                    "1": "LL Mountain Frame - Silver, 42"
                                },
                                {
                                    "0": "918",
                                    "1": "LL Mountain Frame - Silver, 44"
                                },
                                {
                                    "0": "919",
                                    "1": "LL Mountain Frame - Silver, 48"
                                },
                                {
                                    "0": "920",
                                    "1": "LL Mountain Frame - Silver, 52"
                                },
                                {
                                    "0": "815",
                                    "1": "LL Mountain Front Wheel"
                                },
                                {
                                    "0": "808",
                                    "1": "LL Mountain Handlebars"
                                },
                                {
                                    "0": "935",
                                    "1": "LL Mountain Pedal"
                                },
                                {
                                    "0": "823",
                                    "1": "LL Mountain Rear Wheel"
                                },
                                {
                                    "0": "908",
                                    "1": "LL Mountain Seat/Saddle"
                                },
                                {
                                    "0": "928",
                                    "1": "LL Mountain Tire"
                                },
                                {
                                    "0": "736",
                                    "1": "LL Road Frame - Black, 44"
                                },
                                {
                                    "0": "737",
                                    "1": "LL Road Frame - Black, 48"
                                },
                                {
                                    "0": "738",
                                    "1": "LL Road Frame - Black, 52"
                                },
                                {
                                    "0": "722",
                                    "1": "LL Road Frame - Black, 58"
                                },
                                {
                                    "0": "723",
                                    "1": "LL Road Frame - Black, 60"
                                },
                                {
                                    "0": "724",
                                    "1": "LL Road Frame - Black, 62"
                                },
                                {
                                    "0": "725",
                                    "1": "LL Road Frame - Red, 44"
                                },
                                {
                                    "0": "726",
                                    "1": "LL Road Frame - Red, 48"
                                },
                                {
                                    "0": "727",
                                    "1": "LL Road Frame - Red, 52"
                                },
                                {
                                    "0": "728",
                                    "1": "LL Road Frame - Red, 58"
                                },
                                {
                                    "0": "729",
                                    "1": "LL Road Frame - Red, 60"
                                },
                                {
                                    "0": "730",
                                    "1": "LL Road Frame - Red, 62"
                                },
                                {
                                    "0": "818",
                                    "1": "LL Road Front Wheel"
                                },
                                {
                                    "0": "811",
                                    "1": "LL Road Handlebars"
                                },
                                {
                                    "0": "938",
                                    "1": "LL Road Pedal"
                                },
                                {
                                    "0": "826",
                                    "1": "LL Road Rear Wheel"
                                },
                                {
                                    "0": "911",
                                    "1": "LL Road Seat/Saddle"
                                },
                                {
                                    "0": "931",
                                    "1": "LL Road Tire"
                                },
                                {
                                    "0": "903",
                                    "1": "LL Touring Frame - Blue, 44"
                                },
                                {
                                    "0": "895",
                                    "1": "LL Touring Frame - Blue, 50"
                                },
                                {
                                    "0": "896",
                                    "1": "LL Touring Frame - Blue, 54"
                                },
                                {
                                    "0": "897",
                                    "1": "LL Touring Frame - Blue, 58"
                                },
                                {
                                    "0": "898",
                                    "1": "LL Touring Frame - Blue, 62"
                                },
                                {
                                    "0": "899",
                                    "1": "LL Touring Frame - Yellow, 44"
                                },
                                {
                                    "0": "900",
                                    "1": "LL Touring Frame - Yellow, 50"
                                },
                                {
                                    "0": "901",
                                    "1": "LL Touring Frame - Yellow, 54"
                                },
                                {
                                    "0": "902",
                                    "1": "LL Touring Frame - Yellow, 58"
                                },
                                {
                                    "0": "886",
                                    "1": "LL Touring Frame - Yellow, 62"
                                },
                                {
                                    "0": "946",
                                    "1": "LL Touring Handlebars"
                                },
                                {
                                    "0": "914",
                                    "1": "LL Touring Seat/Saddle"
                                },
                                {
                                    "0": "857",
                                    "1": "Men's Bib-Shorts, L"
                                },
                                {
                                    "0": "856",
                                    "1": "Men's Bib-Shorts, M"
                                },
                                {
                                    "0": "855",
                                    "1": "Men's Bib-Shorts, S"
                                },
                                {
                                    "0": "850",
                                    "1": "Men's Sports Shorts, L"
                                },
                                {
                                    "0": "849",
                                    "1": "Men's Sports Shorts, M"
                                },
                                {
                                    "0": "841",
                                    "1": "Men's Sports Shorts, S"
                                },
                                {
                                    "0": "851",
                                    "1": "Men's Sports Shorts, XL"
                                },
                                {
                                    "0": "844",
                                    "1": "Minipump"
                                },
                                {
                                    "0": "995",
                                    "1": "ML Bottom Bracket"
                                },
                                {
                                    "0": "950",
                                    "1": "ML Crankset"
                                },
                                {
                                    "0": "803",
                                    "1": "ML Fork"
                                },
                                {
                                    "0": "806",
                                    "1": "ML Headset"
                                },
                                {
                                    "0": "814",
                                    "1": "ML Mountain Frame - Black, 38"
                                },
                                {
                                    "0": "830",
                                    "1": "ML Mountain Frame - Black, 40"
                                },
                                {
                                    "0": "831",
                                    "1": "ML Mountain Frame - Black, 44"
                                },
                                {
                                    "0": "832",
                                    "1": "ML Mountain Frame - Black, 48"
                                },
                                {
                                    "0": "942",
                                    "1": "ML Mountain Frame-W - Silver, 38"
                                },
                                {
                                    "0": "904",
                                    "1": "ML Mountain Frame-W - Silver, 40"
                                },
                                {
                                    "0": "905",
                                    "1": "ML Mountain Frame-W - Silver, 42"
                                },
                                {
                                    "0": "906",
                                    "1": "ML Mountain Frame-W - Silver, 46"
                                },
                                {
                                    "0": "816",
                                    "1": "ML Mountain Front Wheel"
                                },
                                {
                                    "0": "809",
                                    "1": "ML Mountain Handlebars"
                                },
                                {
                                    "0": "936",
                                    "1": "ML Mountain Pedal"
                                },
                                {
                                    "0": "824",
                                    "1": "ML Mountain Rear Wheel"
                                },
                                {
                                    "0": "909",
                                    "1": "ML Mountain Seat/Saddle"
                                },
                                {
                                    "0": "929",
                                    "1": "ML Mountain Tire"
                                },
                                {
                                    "0": "731",
                                    "1": "ML Road Frame - Red, 44"
                                },
                                {
                                    "0": "732",
                                    "1": "ML Road Frame - Red, 48"
                                },
                                {
                                    "0": "733",
                                    "1": "ML Road Frame - Red, 52"
                                },
                                {
                                    "0": "734",
                                    "1": "ML Road Frame - Red, 58"
                                },
                                {
                                    "0": "735",
                                    "1": "ML Road Frame - Red, 60"
                                },
                                {
                                    "0": "822",
                                    "1": "ML Road Frame-W - Yellow, 38"
                                },
                                {
                                    "0": "833",
                                    "1": "ML Road Frame-W - Yellow, 40"
                                },
                                {
                                    "0": "834",
                                    "1": "ML Road Frame-W - Yellow, 42"
                                },
                                {
                                    "0": "835",
                                    "1": "ML Road Frame-W - Yellow, 44"
                                },
                                {
                                    "0": "836",
                                    "1": "ML Road Frame-W - Yellow, 48"
                                },
                                {
                                    "0": "819",
                                    "1": "ML Road Front Wheel"
                                },
                                {
                                    "0": "812",
                                    "1": "ML Road Handlebars"
                                },
                                {
                                    "0": "939",
                                    "1": "ML Road Pedal"
                                },
                                {
                                    "0": "827",
                                    "1": "ML Road Rear Wheel"
                                },
                                {
                                    "0": "912",
                                    "1": "ML Road Seat/Saddle"
                                },
                                {
                                    "0": "932",
                                    "1": "ML Road Tire"
                                },
                                {
                                    "0": "915",
                                    "1": "ML Touring Seat/Saddle"
                                },
                                {
                                    "0": "710",
                                    "1": "Mountain Bike Socks, L"
                                },
                                {
                                    "0": "709",
                                    "1": "Mountain Bike Socks, M"
                                },
                                {
                                    "0": "871",
                                    "1": "Mountain Bottle Cage"
                                },
                                {
                                    "0": "845",
                                    "1": "Mountain Pump"
                                },
                                {
                                    "0": "921",
                                    "1": "Mountain Tire Tube"
                                },
                                {
                                    "0": "775",
                                    "1": "Mountain-100 Black, 38"
                                },
                                {
                                    "0": "776",
                                    "1": "Mountain-100 Black, 42"
                                },
                                {
                                    "0": "777",
                                    "1": "Mountain-100 Black, 44"
                                },
                                {
                                    "0": "778",
                                    "1": "Mountain-100 Black, 48"
                                },
                                {
                                    "0": "771",
                                    "1": "Mountain-100 Silver, 38"
                                },
                                {
                                    "0": "772",
                                    "1": "Mountain-100 Silver, 42"
                                },
                                {
                                    "0": "773",
                                    "1": "Mountain-100 Silver, 44"
                                },
                                {
                                    "0": "774",
                                    "1": "Mountain-100 Silver, 48"
                                },
                                {
                                    "0": "782",
                                    "1": "Mountain-200 Black, 38"
                                },
                                {
                                    "0": "783",
                                    "1": "Mountain-200 Black, 42"
                                },
                                {
                                    "0": "784",
                                    "1": "Mountain-200 Black, 46"
                                },
                                {
                                    "0": "779",
                                    "1": "Mountain-200 Silver, 38"
                                },
                                {
                                    "0": "780",
                                    "1": "Mountain-200 Silver, 42"
                                },
                                {
                                    "0": "781",
                                    "1": "Mountain-200 Silver, 46"
                                },
                                {
                                    "0": "785",
                                    "1": "Mountain-300 Black, 38"
                                },
                                {
                                    "0": "786",
                                    "1": "Mountain-300 Black, 40"
                                },
                                {
                                    "0": "787",
                                    "1": "Mountain-300 Black, 44"
                                },
                                {
                                    "0": "788",
                                    "1": "Mountain-300 Black, 48"
                                },
                                {
                                    "0": "980",
                                    "1": "Mountain-400-W Silver, 38"
                                },
                                {
                                    "0": "981",
                                    "1": "Mountain-400-W Silver, 40"
                                },
                                {
                                    "0": "982",
                                    "1": "Mountain-400-W Silver, 42"
                                },
                                {
                                    "0": "983",
                                    "1": "Mountain-400-W Silver, 46"
                                },
                                {
                                    "0": "989",
                                    "1": "Mountain-500 Black, 40"
                                },
                                {
                                    "0": "990",
                                    "1": "Mountain-500 Black, 42"
                                },
                                {
                                    "0": "991",
                                    "1": "Mountain-500 Black, 44"
                                },
                                {
                                    "0": "992",
                                    "1": "Mountain-500 Black, 48"
                                },
                                {
                                    "0": "993",
                                    "1": "Mountain-500 Black, 52"
                                },
                                {
                                    "0": "984",
                                    "1": "Mountain-500 Silver, 40"
                                },
                                {
                                    "0": "985",
                                    "1": "Mountain-500 Silver, 42"
                                },
                                {
                                    "0": "986",
                                    "1": "Mountain-500 Silver, 44"
                                },
                                {
                                    "0": "987",
                                    "1": "Mountain-500 Silver, 48"
                                },
                                {
                                    "0": "988",
                                    "1": "Mountain-500 Silver, 52"
                                },
                                {
                                    "0": "873",
                                    "1": "Patch Kit/8 Patches"
                                },
                                {
                                    "0": "875",
                                    "1": "Racing Socks, L"
                                },
                                {
                                    "0": "874",
                                    "1": "Racing Socks, M"
                                },
                                {
                                    "0": "907",
                                    "1": "Rear Brakes"
                                },
                                {
                                    "0": "894",
                                    "1": "Rear Derailleur"
                                },
                                {
                                    "0": "872",
                                    "1": "Road Bottle Cage"
                                },
                                {
                                    "0": "922",
                                    "1": "Road Tire Tube"
                                },
                                {
                                    "0": "750",
                                    "1": "Road-150 Red, 44"
                                },
                                {
                                    "0": "751",
                                    "1": "Road-150 Red, 48"
                                },
                                {
                                    "0": "752",
                                    "1": "Road-150 Red, 52"
                                },
                                {
                                    "0": "753",
                                    "1": "Road-150 Red, 56"
                                },
                                {
                                    "0": "749",
                                    "1": "Road-150 Red, 62"
                                },
                                {
                                    "0": "793",
                                    "1": "Road-250 Black, 44"
                                },
                                {
                                    "0": "794",
                                    "1": "Road-250 Black, 48"
                                },
                                {
                                    "0": "795",
                                    "1": "Road-250 Black, 52"
                                },
                                {
                                    "0": "796",
                                    "1": "Road-250 Black, 58"
                                },
                                {
                                    "0": "789",
                                    "1": "Road-250 Red, 44"
                                },
                                {
                                    "0": "790",
                                    "1": "Road-250 Red, 48"
                                },
                                {
                                    "0": "791",
                                    "1": "Road-250 Red, 52"
                                },
                                {
                                    "0": "792",
                                    "1": "Road-250 Red, 58"
                                },
                                {
                                    "0": "973",
                                    "1": "Road-350-W Yellow, 40"
                                },
                                {
                                    "0": "974",
                                    "1": "Road-350-W Yellow, 42"
                                },
                                {
                                    "0": "975",
                                    "1": "Road-350-W Yellow, 44"
                                },
                                {
                                    "0": "976",
                                    "1": "Road-350-W Yellow, 48"
                                },
                                {
                                    "0": "756",
                                    "1": "Road-450 Red, 44"
                                },
                                {
                                    "0": "757",
                                    "1": "Road-450 Red, 48"
                                },
                                {
                                    "0": "758",
                                    "1": "Road-450 Red, 52"
                                },
                                {
                                    "0": "754",
                                    "1": "Road-450 Red, 58"
                                },
                                {
                                    "0": "755",
                                    "1": "Road-450 Red, 60"
                                },
                                {
                                    "0": "797",
                                    "1": "Road-550-W Yellow, 38"
                                },
                                {
                                    "0": "798",
                                    "1": "Road-550-W Yellow, 40"
                                },
                                {
                                    "0": "799",
                                    "1": "Road-550-W Yellow, 42"
                                },
                                {
                                    "0": "800",
                                    "1": "Road-550-W Yellow, 44"
                                },
                                {
                                    "0": "801",
                                    "1": "Road-550-W Yellow, 48"
                                },
                                {
                                    "0": "768",
                                    "1": "Road-650 Black, 44"
                                },
                                {
                                    "0": "769",
                                    "1": "Road-650 Black, 48"
                                },
                                {
                                    "0": "770",
                                    "1": "Road-650 Black, 52"
                                },
                                {
                                    "0": "765",
                                    "1": "Road-650 Black, 58"
                                },
                                {
                                    "0": "766",
                                    "1": "Road-650 Black, 60"
                                },
                                {
                                    "0": "767",
                                    "1": "Road-650 Black, 62"
                                },
                                {
                                    "0": "762",
                                    "1": "Road-650 Red, 44"
                                },
                                {
                                    "0": "763",
                                    "1": "Road-650 Red, 48"
                                },
                                {
                                    "0": "764",
                                    "1": "Road-650 Red, 52"
                                },
                                {
                                    "0": "759",
                                    "1": "Road-650 Red, 58"
                                },
                                {
                                    "0": "760",
                                    "1": "Road-650 Red, 60"
                                },
                                {
                                    "0": "761",
                                    "1": "Road-650 Red, 62"
                                },
                                {
                                    "0": "997",
                                    "1": "Road-750 Black, 44"
                                },
                                {
                                    "0": "998",
                                    "1": "Road-750 Black, 48"
                                },
                                {
                                    "0": "999",
                                    "1": "Road-750 Black, 52"
                                },
                                {
                                    "0": "977",
                                    "1": "Road-750 Black, 58"
                                },
                                {
                                    "0": "883",
                                    "1": "Short-Sleeve Classic Jersey, L"
                                },
                                {
                                    "0": "882",
                                    "1": "Short-Sleeve Classic Jersey, M"
                                },
                                {
                                    "0": "881",
                                    "1": "Short-Sleeve Classic Jersey, S"
                                },
                                {
                                    "0": "884",
                                    "1": "Short-Sleeve Classic Jersey, XL"
                                },
                                {
                                    "0": "708",
                                    "1": "Sport-100 Helmet, Black"
                                },
                                {
                                    "0": "711",
                                    "1": "Sport-100 Helmet, Blue"
                                },
                                {
                                    "0": "707",
                                    "1": "Sport-100 Helmet, Red"
                                },
                                {
                                    "0": "846",
                                    "1": "Taillights - Battery-Powered"
                                },
                                {
                                    "0": "821",
                                    "1": "Touring Front Wheel"
                                },
                                {
                                    "0": "941",
                                    "1": "Touring Pedal"
                                },
                                {
                                    "0": "829",
                                    "1": "Touring Rear Wheel"
                                },
                                {
                                    "0": "934",
                                    "1": "Touring Tire"
                                },
                                {
                                    "0": "923",
                                    "1": "Touring Tire Tube"
                                },
                                {
                                    "0": "966",
                                    "1": "Touring-1000 Blue, 46"
                                },
                                {
                                    "0": "967",
                                    "1": "Touring-1000 Blue, 50"
                                },
                                {
                                    "0": "968",
                                    "1": "Touring-1000 Blue, 54"
                                },
                                {
                                    "0": "969",
                                    "1": "Touring-1000 Blue, 60"
                                },
                                {
                                    "0": "954",
                                    "1": "Touring-1000 Yellow, 46"
                                },
                                {
                                    "0": "955",
                                    "1": "Touring-1000 Yellow, 50"
                                },
                                {
                                    "0": "956",
                                    "1": "Touring-1000 Yellow, 54"
                                },
                                {
                                    "0": "957",
                                    "1": "Touring-1000 Yellow, 60"
                                },
                                {
                                    "0": "970",
                                    "1": "Touring-2000 Blue, 46"
                                },
                                {
                                    "0": "971",
                                    "1": "Touring-2000 Blue, 50"
                                },
                                {
                                    "0": "972",
                                    "1": "Touring-2000 Blue, 54"
                                },
                                {
                                    "0": "953",
                                    "1": "Touring-2000 Blue, 60"
                                },
                                {
                                    "0": "978",
                                    "1": "Touring-3000 Blue, 44"
                                },
                                {
                                    "0": "979",
                                    "1": "Touring-3000 Blue, 50"
                                },
                                {
                                    "0": "958",
                                    "1": "Touring-3000 Blue, 54"
                                },
                                {
                                    "0": "959",
                                    "1": "Touring-3000 Blue, 58"
                                },
                                {
                                    "0": "960",
                                    "1": "Touring-3000 Blue, 62"
                                },
                                {
                                    "0": "961",
                                    "1": "Touring-3000 Yellow, 44"
                                },
                                {
                                    "0": "962",
                                    "1": "Touring-3000 Yellow, 50"
                                },
                                {
                                    "0": "963",
                                    "1": "Touring-3000 Yellow, 54"
                                },
                                {
                                    "0": "964",
                                    "1": "Touring-3000 Yellow, 58"
                                },
                                {
                                    "0": "965",
                                    "1": "Touring-3000 Yellow, 62"
                                },
                                {
                                    "0": "842",
                                    "1": "Touring-Panniers, Large"
                                },
                                {
                                    "0": "870",
                                    "1": "Water Bottle - 30 oz."
                                },
                                {
                                    "0": "869",
                                    "1": "Women's Mountain Shorts, L"
                                },
                                {
                                    "0": "868",
                                    "1": "Women's Mountain Shorts, M"
                                },
                                {
                                    "0": "867",
                                    "1": "Women's Mountain Shorts, S"
                                },
                                {
                                    "0": "854",
                                    "1": "Women's Tights, L"
                                },
                                {
                                    "0": "853",
                                    "1": "Women's Tights, M"
                                },
                                {
                                    "0": "852",
                                    "1": "Women's Tights, S"
                                }
                            ]
                        },
                        "text/html": [
                            "<table>",
                            "<tr><th>ProductID</th><th>Name</th></tr>",
                            "<tr><td>879</td><td>All-Purpose Bike Stand</td></tr>",
                            "<tr><td>1005</td><td>Bicycle Bell10</td></tr>",
                            "<tr><td>877</td><td>Bike Wash - Dissolver</td></tr>",
                            "<tr><td>843</td><td>Cable Lock</td></tr>",
                            "<tr><td>952</td><td>Chain</td></tr>",
                            "<tr><td>866</td><td>Classic Vest, L</td></tr>",
                            "<tr><td>865</td><td>Classic Vest, M</td></tr>",
                            "<tr><td>864</td><td>Classic Vest, S</td></tr>",
                            "<tr><td>878</td><td>Fender Set - Mountain</td></tr>",
                            "<tr><td>948</td><td>Front Brakes</td></tr>",
                            "<tr><td>945</td><td>Front Derailleur</td></tr>",
                            "<tr><td>863</td><td>Full-Finger Gloves, L</td></tr>",
                            "<tr><td>862</td><td>Full-Finger Gloves, M</td></tr>",
                            "<tr><td>861</td><td>Full-Finger Gloves, S</td></tr>",
                            "<tr><td>860</td><td>Half-Finger Gloves, L</td></tr>",
                            "<tr><td>859</td><td>Half-Finger Gloves, M</td></tr>",
                            "<tr><td>858</td><td>Half-Finger Gloves, S</td></tr>",
                            "<tr><td>847</td><td>Headlights - Dual-Beam</td></tr>",
                            "<tr><td>848</td><td>Headlights - Weatherproof</td></tr>",
                            "<tr><td>876</td><td>Hitch Rack - 4-Bike</td></tr>",
                            "<tr><td>996</td><td>HL Bottom Bracket</td></tr>",
                            "<tr><td>951</td><td>HL Crankset</td></tr>",
                            "<tr><td>804</td><td>HL Fork</td></tr>",
                            "<tr><td>807</td><td>HL Headset</td></tr>",
                            "<tr><td>747</td><td>HL Mountain Frame - Black, 38</td></tr>",
                            "<tr><td>743</td><td>HL Mountain Frame - Black, 42</td></tr>",
                            "<tr><td>744</td><td>HL Mountain Frame - Black, 44</td></tr>",
                            "<tr><td>746</td><td>HL Mountain Frame - Black, 46</td></tr>",
                            "<tr><td>745</td><td>HL Mountain Frame - Black, 48</td></tr>",
                            "<tr><td>748</td><td>HL Mountain Frame - Silver, 38</td></tr>",
                            "<tr><td>739</td><td>HL Mountain Frame - Silver, 42</td></tr>",
                            "<tr><td>740</td><td>HL Mountain Frame - Silver, 44</td></tr>",
                            "<tr><td>742</td><td>HL Mountain Frame - Silver, 46</td></tr>",
                            "<tr><td>741</td><td>HL Mountain Frame - Silver, 48</td></tr>",
                            "<tr><td>817</td><td>HL Mountain Front Wheel</td></tr>",
                            "<tr><td>810</td><td>HL Mountain Handlebars</td></tr>",
                            "<tr><td>937</td><td>HL Mountain Pedal</td></tr>",
                            "<tr><td>825</td><td>HL Mountain Rear Wheel</td></tr>",
                            "<tr><td>910</td><td>HL Mountain Seat/Saddle</td></tr>",
                            "<tr><td>930</td><td>HL Mountain Tire</td></tr>",
                            "<tr><td>838</td><td>HL Road Frame - Black, 44</td></tr>",
                            "<tr><td>839</td><td>HL Road Frame - Black, 48</td></tr>",
                            "<tr><td>840</td><td>HL Road Frame - Black, 52</td></tr>",
                            "<tr><td>680</td><td>HL Road Frame - Black, 58</td></tr>",
                            "<tr><td>837</td><td>HL Road Frame - Black, 62</td></tr>",
                            "<tr><td>718</td><td>HL Road Frame - Red, 44</td></tr>",
                            "<tr><td>719</td><td>HL Road Frame - Red, 48</td></tr>",
                            "<tr><td>720</td><td>HL Road Frame - Red, 52</td></tr>",
                            "<tr><td>721</td><td>HL Road Frame - Red, 56</td></tr>",
                            "<tr><td>706</td><td>HL Road Frame - Red, 58</td></tr>",
                            "<tr><td>717</td><td>HL Road Frame - Red, 62</td></tr>",
                            "<tr><td>820</td><td>HL Road Front Wheel</td></tr>",
                            "<tr><td>813</td><td>HL Road Handlebars</td></tr>",
                            "<tr><td>940</td><td>HL Road Pedal</td></tr>",
                            "<tr><td>828</td><td>HL Road Rear Wheel</td></tr>",
                            "<tr><td>913</td><td>HL Road Seat/Saddle</td></tr>",
                            "<tr><td>933</td><td>HL Road Tire</td></tr>",
                            "<tr><td>890</td><td>HL Touring Frame - Blue, 46</td></tr>",
                            "<tr><td>891</td><td>HL Touring Frame - Blue, 50</td></tr>",
                            "<tr><td>892</td><td>HL Touring Frame - Blue, 54</td></tr>",
                            "<tr><td>893</td><td>HL Touring Frame - Blue, 60</td></tr>",
                            "<tr><td>887</td><td>HL Touring Frame - Yellow, 46</td></tr>",
                            "<tr><td>888</td><td>HL Touring Frame - Yellow, 50</td></tr>",
                            "<tr><td>889</td><td>HL Touring Frame - Yellow, 54</td></tr>",
                            "<tr><td>885</td><td>HL Touring Frame - Yellow, 60</td></tr>",
                            "<tr><td>947</td><td>HL Touring Handlebars</td></tr>",
                            "<tr><td>916</td><td>HL Touring Seat/Saddle</td></tr>",
                            "<tr><td>880</td><td>Hydration Pack - 70 oz.</td></tr>",
                            "<tr><td>1000</td><td>Led Lights</td></tr>",
                            "<tr><td>1002</td><td>LED Lights2</td></tr>",
                            "<tr><td>1001</td><td>LED LightsX</td></tr>",
                            "<tr><td>994</td><td>LL Bottom Bracket</td></tr>",
                            "<tr><td>949</td><td>LL Crankset</td></tr>",
                            "<tr><td>802</td><td>LL Fork</td></tr>",
                            "<tr><td>805</td><td>LL Headset</td></tr>",
                            "<tr><td>943</td><td>LL Mountain Frame - Black, 40</td></tr>",
                            "<tr><td>924</td><td>LL Mountain Frame - Black, 42</td></tr>",
                            "<tr><td>925</td><td>LL Mountain Frame - Black, 44</td></tr>",
                            "<tr><td>926</td><td>LL Mountain Frame - Black, 48</td></tr>",
                            "<tr><td>927</td><td>LL Mountain Frame - Black, 52</td></tr>",
                            "<tr><td>944</td><td>LL Mountain Frame - Silver, 40</td></tr>",
                            "<tr><td>917</td><td>LL Mountain Frame - Silver, 42</td></tr>",
                            "<tr><td>918</td><td>LL Mountain Frame - Silver, 44</td></tr>",
                            "<tr><td>919</td><td>LL Mountain Frame - Silver, 48</td></tr>",
                            "<tr><td>920</td><td>LL Mountain Frame - Silver, 52</td></tr>",
                            "<tr><td>815</td><td>LL Mountain Front Wheel</td></tr>",
                            "<tr><td>808</td><td>LL Mountain Handlebars</td></tr>",
                            "<tr><td>935</td><td>LL Mountain Pedal</td></tr>",
                            "<tr><td>823</td><td>LL Mountain Rear Wheel</td></tr>",
                            "<tr><td>908</td><td>LL Mountain Seat/Saddle</td></tr>",
                            "<tr><td>928</td><td>LL Mountain Tire</td></tr>",
                            "<tr><td>736</td><td>LL Road Frame - Black, 44</td></tr>",
                            "<tr><td>737</td><td>LL Road Frame - Black, 48</td></tr>",
                            "<tr><td>738</td><td>LL Road Frame - Black, 52</td></tr>",
                            "<tr><td>722</td><td>LL Road Frame - Black, 58</td></tr>",
                            "<tr><td>723</td><td>LL Road Frame - Black, 60</td></tr>",
                            "<tr><td>724</td><td>LL Road Frame - Black, 62</td></tr>",
                            "<tr><td>725</td><td>LL Road Frame - Red, 44</td></tr>",
                            "<tr><td>726</td><td>LL Road Frame - Red, 48</td></tr>",
                            "<tr><td>727</td><td>LL Road Frame - Red, 52</td></tr>",
                            "<tr><td>728</td><td>LL Road Frame - Red, 58</td></tr>",
                            "<tr><td>729</td><td>LL Road Frame - Red, 60</td></tr>",
                            "<tr><td>730</td><td>LL Road Frame - Red, 62</td></tr>",
                            "<tr><td>818</td><td>LL Road Front Wheel</td></tr>",
                            "<tr><td>811</td><td>LL Road Handlebars</td></tr>",
                            "<tr><td>938</td><td>LL Road Pedal</td></tr>",
                            "<tr><td>826</td><td>LL Road Rear Wheel</td></tr>",
                            "<tr><td>911</td><td>LL Road Seat/Saddle</td></tr>",
                            "<tr><td>931</td><td>LL Road Tire</td></tr>",
                            "<tr><td>903</td><td>LL Touring Frame - Blue, 44</td></tr>",
                            "<tr><td>895</td><td>LL Touring Frame - Blue, 50</td></tr>",
                            "<tr><td>896</td><td>LL Touring Frame - Blue, 54</td></tr>",
                            "<tr><td>897</td><td>LL Touring Frame - Blue, 58</td></tr>",
                            "<tr><td>898</td><td>LL Touring Frame - Blue, 62</td></tr>",
                            "<tr><td>899</td><td>LL Touring Frame - Yellow, 44</td></tr>",
                            "<tr><td>900</td><td>LL Touring Frame - Yellow, 50</td></tr>",
                            "<tr><td>901</td><td>LL Touring Frame - Yellow, 54</td></tr>",
                            "<tr><td>902</td><td>LL Touring Frame - Yellow, 58</td></tr>",
                            "<tr><td>886</td><td>LL Touring Frame - Yellow, 62</td></tr>",
                            "<tr><td>946</td><td>LL Touring Handlebars</td></tr>",
                            "<tr><td>914</td><td>LL Touring Seat/Saddle</td></tr>",
                            "<tr><td>857</td><td>Men's Bib-Shorts, L</td></tr>",
                            "<tr><td>856</td><td>Men's Bib-Shorts, M</td></tr>",
                            "<tr><td>855</td><td>Men's Bib-Shorts, S</td></tr>",
                            "<tr><td>850</td><td>Men's Sports Shorts, L</td></tr>",
                            "<tr><td>849</td><td>Men's Sports Shorts, M</td></tr>",
                            "<tr><td>841</td><td>Men's Sports Shorts, S</td></tr>",
                            "<tr><td>851</td><td>Men's Sports Shorts, XL</td></tr>",
                            "<tr><td>844</td><td>Minipump</td></tr>",
                            "<tr><td>995</td><td>ML Bottom Bracket</td></tr>",
                            "<tr><td>950</td><td>ML Crankset</td></tr>",
                            "<tr><td>803</td><td>ML Fork</td></tr>",
                            "<tr><td>806</td><td>ML Headset</td></tr>",
                            "<tr><td>814</td><td>ML Mountain Frame - Black, 38</td></tr>",
                            "<tr><td>830</td><td>ML Mountain Frame - Black, 40</td></tr>",
                            "<tr><td>831</td><td>ML Mountain Frame - Black, 44</td></tr>",
                            "<tr><td>832</td><td>ML Mountain Frame - Black, 48</td></tr>",
                            "<tr><td>942</td><td>ML Mountain Frame-W - Silver, 38</td></tr>",
                            "<tr><td>904</td><td>ML Mountain Frame-W - Silver, 40</td></tr>",
                            "<tr><td>905</td><td>ML Mountain Frame-W - Silver, 42</td></tr>",
                            "<tr><td>906</td><td>ML Mountain Frame-W - Silver, 46</td></tr>",
                            "<tr><td>816</td><td>ML Mountain Front Wheel</td></tr>",
                            "<tr><td>809</td><td>ML Mountain Handlebars</td></tr>",
                            "<tr><td>936</td><td>ML Mountain Pedal</td></tr>",
                            "<tr><td>824</td><td>ML Mountain Rear Wheel</td></tr>",
                            "<tr><td>909</td><td>ML Mountain Seat/Saddle</td></tr>",
                            "<tr><td>929</td><td>ML Mountain Tire</td></tr>",
                            "<tr><td>731</td><td>ML Road Frame - Red, 44</td></tr>",
                            "<tr><td>732</td><td>ML Road Frame - Red, 48</td></tr>",
                            "<tr><td>733</td><td>ML Road Frame - Red, 52</td></tr>",
                            "<tr><td>734</td><td>ML Road Frame - Red, 58</td></tr>",
                            "<tr><td>735</td><td>ML Road Frame - Red, 60</td></tr>",
                            "<tr><td>822</td><td>ML Road Frame-W - Yellow, 38</td></tr>",
                            "<tr><td>833</td><td>ML Road Frame-W - Yellow, 40</td></tr>",
                            "<tr><td>834</td><td>ML Road Frame-W - Yellow, 42</td></tr>",
                            "<tr><td>835</td><td>ML Road Frame-W - Yellow, 44</td></tr>",
                            "<tr><td>836</td><td>ML Road Frame-W - Yellow, 48</td></tr>",
                            "<tr><td>819</td><td>ML Road Front Wheel</td></tr>",
                            "<tr><td>812</td><td>ML Road Handlebars</td></tr>",
                            "<tr><td>939</td><td>ML Road Pedal</td></tr>",
                            "<tr><td>827</td><td>ML Road Rear Wheel</td></tr>",
                            "<tr><td>912</td><td>ML Road Seat/Saddle</td></tr>",
                            "<tr><td>932</td><td>ML Road Tire</td></tr>",
                            "<tr><td>915</td><td>ML Touring Seat/Saddle</td></tr>",
                            "<tr><td>710</td><td>Mountain Bike Socks, L</td></tr>",
                            "<tr><td>709</td><td>Mountain Bike Socks, M</td></tr>",
                            "<tr><td>871</td><td>Mountain Bottle Cage</td></tr>",
                            "<tr><td>845</td><td>Mountain Pump</td></tr>",
                            "<tr><td>921</td><td>Mountain Tire Tube</td></tr>",
                            "<tr><td>775</td><td>Mountain-100 Black, 38</td></tr>",
                            "<tr><td>776</td><td>Mountain-100 Black, 42</td></tr>",
                            "<tr><td>777</td><td>Mountain-100 Black, 44</td></tr>",
                            "<tr><td>778</td><td>Mountain-100 Black, 48</td></tr>",
                            "<tr><td>771</td><td>Mountain-100 Silver, 38</td></tr>",
                            "<tr><td>772</td><td>Mountain-100 Silver, 42</td></tr>",
                            "<tr><td>773</td><td>Mountain-100 Silver, 44</td></tr>",
                            "<tr><td>774</td><td>Mountain-100 Silver, 48</td></tr>",
                            "<tr><td>782</td><td>Mountain-200 Black, 38</td></tr>",
                            "<tr><td>783</td><td>Mountain-200 Black, 42</td></tr>",
                            "<tr><td>784</td><td>Mountain-200 Black, 46</td></tr>",
                            "<tr><td>779</td><td>Mountain-200 Silver, 38</td></tr>",
                            "<tr><td>780</td><td>Mountain-200 Silver, 42</td></tr>",
                            "<tr><td>781</td><td>Mountain-200 Silver, 46</td></tr>",
                            "<tr><td>785</td><td>Mountain-300 Black, 38</td></tr>",
                            "<tr><td>786</td><td>Mountain-300 Black, 40</td></tr>",
                            "<tr><td>787</td><td>Mountain-300 Black, 44</td></tr>",
                            "<tr><td>788</td><td>Mountain-300 Black, 48</td></tr>",
                            "<tr><td>980</td><td>Mountain-400-W Silver, 38</td></tr>",
                            "<tr><td>981</td><td>Mountain-400-W Silver, 40</td></tr>",
                            "<tr><td>982</td><td>Mountain-400-W Silver, 42</td></tr>",
                            "<tr><td>983</td><td>Mountain-400-W Silver, 46</td></tr>",
                            "<tr><td>989</td><td>Mountain-500 Black, 40</td></tr>",
                            "<tr><td>990</td><td>Mountain-500 Black, 42</td></tr>",
                            "<tr><td>991</td><td>Mountain-500 Black, 44</td></tr>",
                            "<tr><td>992</td><td>Mountain-500 Black, 48</td></tr>",
                            "<tr><td>993</td><td>Mountain-500 Black, 52</td></tr>",
                            "<tr><td>984</td><td>Mountain-500 Silver, 40</td></tr>",
                            "<tr><td>985</td><td>Mountain-500 Silver, 42</td></tr>",
                            "<tr><td>986</td><td>Mountain-500 Silver, 44</td></tr>",
                            "<tr><td>987</td><td>Mountain-500 Silver, 48</td></tr>",
                            "<tr><td>988</td><td>Mountain-500 Silver, 52</td></tr>",
                            "<tr><td>873</td><td>Patch Kit/8 Patches</td></tr>",
                            "<tr><td>875</td><td>Racing Socks, L</td></tr>",
                            "<tr><td>874</td><td>Racing Socks, M</td></tr>",
                            "<tr><td>907</td><td>Rear Brakes</td></tr>",
                            "<tr><td>894</td><td>Rear Derailleur</td></tr>",
                            "<tr><td>872</td><td>Road Bottle Cage</td></tr>",
                            "<tr><td>922</td><td>Road Tire Tube</td></tr>",
                            "<tr><td>750</td><td>Road-150 Red, 44</td></tr>",
                            "<tr><td>751</td><td>Road-150 Red, 48</td></tr>",
                            "<tr><td>752</td><td>Road-150 Red, 52</td></tr>",
                            "<tr><td>753</td><td>Road-150 Red, 56</td></tr>",
                            "<tr><td>749</td><td>Road-150 Red, 62</td></tr>",
                            "<tr><td>793</td><td>Road-250 Black, 44</td></tr>",
                            "<tr><td>794</td><td>Road-250 Black, 48</td></tr>",
                            "<tr><td>795</td><td>Road-250 Black, 52</td></tr>",
                            "<tr><td>796</td><td>Road-250 Black, 58</td></tr>",
                            "<tr><td>789</td><td>Road-250 Red, 44</td></tr>",
                            "<tr><td>790</td><td>Road-250 Red, 48</td></tr>",
                            "<tr><td>791</td><td>Road-250 Red, 52</td></tr>",
                            "<tr><td>792</td><td>Road-250 Red, 58</td></tr>",
                            "<tr><td>973</td><td>Road-350-W Yellow, 40</td></tr>",
                            "<tr><td>974</td><td>Road-350-W Yellow, 42</td></tr>",
                            "<tr><td>975</td><td>Road-350-W Yellow, 44</td></tr>",
                            "<tr><td>976</td><td>Road-350-W Yellow, 48</td></tr>",
                            "<tr><td>756</td><td>Road-450 Red, 44</td></tr>",
                            "<tr><td>757</td><td>Road-450 Red, 48</td></tr>",
                            "<tr><td>758</td><td>Road-450 Red, 52</td></tr>",
                            "<tr><td>754</td><td>Road-450 Red, 58</td></tr>",
                            "<tr><td>755</td><td>Road-450 Red, 60</td></tr>",
                            "<tr><td>797</td><td>Road-550-W Yellow, 38</td></tr>",
                            "<tr><td>798</td><td>Road-550-W Yellow, 40</td></tr>",
                            "<tr><td>799</td><td>Road-550-W Yellow, 42</td></tr>",
                            "<tr><td>800</td><td>Road-550-W Yellow, 44</td></tr>",
                            "<tr><td>801</td><td>Road-550-W Yellow, 48</td></tr>",
                            "<tr><td>768</td><td>Road-650 Black, 44</td></tr>",
                            "<tr><td>769</td><td>Road-650 Black, 48</td></tr>",
                            "<tr><td>770</td><td>Road-650 Black, 52</td></tr>",
                            "<tr><td>765</td><td>Road-650 Black, 58</td></tr>",
                            "<tr><td>766</td><td>Road-650 Black, 60</td></tr>",
                            "<tr><td>767</td><td>Road-650 Black, 62</td></tr>",
                            "<tr><td>762</td><td>Road-650 Red, 44</td></tr>",
                            "<tr><td>763</td><td>Road-650 Red, 48</td></tr>",
                            "<tr><td>764</td><td>Road-650 Red, 52</td></tr>",
                            "<tr><td>759</td><td>Road-650 Red, 58</td></tr>",
                            "<tr><td>760</td><td>Road-650 Red, 60</td></tr>",
                            "<tr><td>761</td><td>Road-650 Red, 62</td></tr>",
                            "<tr><td>997</td><td>Road-750 Black, 44</td></tr>",
                            "<tr><td>998</td><td>Road-750 Black, 48</td></tr>",
                            "<tr><td>999</td><td>Road-750 Black, 52</td></tr>",
                            "<tr><td>977</td><td>Road-750 Black, 58</td></tr>",
                            "<tr><td>883</td><td>Short-Sleeve Classic Jersey, L</td></tr>",
                            "<tr><td>882</td><td>Short-Sleeve Classic Jersey, M</td></tr>",
                            "<tr><td>881</td><td>Short-Sleeve Classic Jersey, S</td></tr>",
                            "<tr><td>884</td><td>Short-Sleeve Classic Jersey, XL</td></tr>",
                            "<tr><td>708</td><td>Sport-100 Helmet, Black</td></tr>",
                            "<tr><td>711</td><td>Sport-100 Helmet, Blue</td></tr>",
                            "<tr><td>707</td><td>Sport-100 Helmet, Red</td></tr>",
                            "<tr><td>846</td><td>Taillights - Battery-Powered</td></tr>",
                            "<tr><td>821</td><td>Touring Front Wheel</td></tr>",
                            "<tr><td>941</td><td>Touring Pedal</td></tr>",
                            "<tr><td>829</td><td>Touring Rear Wheel</td></tr>",
                            "<tr><td>934</td><td>Touring Tire</td></tr>",
                            "<tr><td>923</td><td>Touring Tire Tube</td></tr>",
                            "<tr><td>966</td><td>Touring-1000 Blue, 46</td></tr>",
                            "<tr><td>967</td><td>Touring-1000 Blue, 50</td></tr>",
                            "<tr><td>968</td><td>Touring-1000 Blue, 54</td></tr>",
                            "<tr><td>969</td><td>Touring-1000 Blue, 60</td></tr>",
                            "<tr><td>954</td><td>Touring-1000 Yellow, 46</td></tr>",
                            "<tr><td>955</td><td>Touring-1000 Yellow, 50</td></tr>",
                            "<tr><td>956</td><td>Touring-1000 Yellow, 54</td></tr>",
                            "<tr><td>957</td><td>Touring-1000 Yellow, 60</td></tr>",
                            "<tr><td>970</td><td>Touring-2000 Blue, 46</td></tr>",
                            "<tr><td>971</td><td>Touring-2000 Blue, 50</td></tr>",
                            "<tr><td>972</td><td>Touring-2000 Blue, 54</td></tr>",
                            "<tr><td>953</td><td>Touring-2000 Blue, 60</td></tr>",
                            "<tr><td>978</td><td>Touring-3000 Blue, 44</td></tr>",
                            "<tr><td>979</td><td>Touring-3000 Blue, 50</td></tr>",
                            "<tr><td>958</td><td>Touring-3000 Blue, 54</td></tr>",
                            "<tr><td>959</td><td>Touring-3000 Blue, 58</td></tr>",
                            "<tr><td>960</td><td>Touring-3000 Blue, 62</td></tr>",
                            "<tr><td>961</td><td>Touring-3000 Yellow, 44</td></tr>",
                            "<tr><td>962</td><td>Touring-3000 Yellow, 50</td></tr>",
                            "<tr><td>963</td><td>Touring-3000 Yellow, 54</td></tr>",
                            "<tr><td>964</td><td>Touring-3000 Yellow, 58</td></tr>",
                            "<tr><td>965</td><td>Touring-3000 Yellow, 62</td></tr>",
                            "<tr><td>842</td><td>Touring-Panniers, Large</td></tr>",
                            "<tr><td>870</td><td>Water Bottle - 30 oz.</td></tr>",
                            "<tr><td>869</td><td>Women's Mountain Shorts, L</td></tr>",
                            "<tr><td>868</td><td>Women's Mountain Shorts, M</td></tr>",
                            "<tr><td>867</td><td>Women's Mountain Shorts, S</td></tr>",
                            "<tr><td>854</td><td>Women's Tights, L</td></tr>",
                            "<tr><td>853</td><td>Women's Tights, M</td></tr>",
                            "<tr><td>852</td><td>Women's Tights, S</td></tr>",
                            "</table>"
                        ]
                    }
                }
            ],
            "execution_count": 19
        },
        {
            "cell_type": "markdown",
            "source": [
                "**4.** Write a query that displays the customerID, first name, middle name, and last name for only those rows that have E or B stored in the middle name column. \n",
                "\n",
                "Escrever uma consulta que apresente o ID do cliente, nome, nome do meio, e apelido apenas para as linhas que têm E ou B armazenadas na coluna do nome do meio"
            ],
            "metadata": {
                "azdata_cell_guid": "fad5cf7c-3330-4ae9-b792-367fc74866e3"
            },
            "attachments": {}
        },
        {
            "cell_type": "code",
            "source": [
                "SELECT CustomerId, FirstName, MiddleName, LastName\r\n",
                "FROM Customer\r\n",
                "WHERE MiddleName LIKE '%[BE]%'"
            ],
            "metadata": {
                "azdata_cell_guid": "a6e8dc1a-e8a3-44f8-be1a-50b0f81038ab"
            },
            "outputs": [
                {
                    "output_type": "display_data",
                    "data": {
                        "text/html": "(63 rows affected)"
                    },
                    "metadata": {}
                },
                {
                    "output_type": "display_data",
                    "data": {
                        "text/html": "Total execution time: 00:00:00.121"
                    },
                    "metadata": {}
                },
                {
                    "output_type": "execute_result",
                    "metadata": {},
                    "execution_count": 1,
                    "data": {
                        "application/vnd.dataresource+json": {
                            "schema": {
                                "fields": [
                                    {
                                        "name": "CustomerId"
                                    },
                                    {
                                        "name": "FirstName"
                                    },
                                    {
                                        "name": "MiddleName"
                                    },
                                    {
                                        "name": "LastName"
                                    }
                                ]
                            },
                            "data": [
                                {
                                    "0": "22",
                                    "1": "Linda",
                                    "2": "E.",
                                    "3": "Burnett"
                                },
                                {
                                    "0": "28",
                                    "1": "Jackie",
                                    "2": "E.",
                                    "3": "Blackwell"
                                },
                                {
                                    "0": "96",
                                    "1": "Bonnie",
                                    "2": "B.",
                                    "3": "Lepro"
                                },
                                {
                                    "0": "180",
                                    "1": "Nicky",
                                    "2": "E.",
                                    "3": "Chesnut"
                                },
                                {
                                    "0": "202",
                                    "1": "A.",
                                    "2": "Francesca",
                                    "3": "Leonetti"
                                },
                                {
                                    "0": "209",
                                    "1": "Robert",
                                    "2": "E.",
                                    "3": "Jones"
                                },
                                {
                                    "0": "221",
                                    "1": "Sandra",
                                    "2": "B.",
                                    "3": "Maynard"
                                },
                                {
                                    "0": "228",
                                    "1": "Danielle",
                                    "2": "B.",
                                    "3": "Johnson"
                                },
                                {
                                    "0": "240",
                                    "1": "Jessie",
                                    "2": "E.",
                                    "3": "Valerio"
                                },
                                {
                                    "0": "263",
                                    "1": "Timothy",
                                    "2": "B.",
                                    "3": "Burnett"
                                },
                                {
                                    "0": "264",
                                    "1": "Phyllis",
                                    "2": "B.",
                                    "3": "Tuffield"
                                },
                                {
                                    "0": "292",
                                    "1": "Michael",
                                    "2": "Greg",
                                    "3": "Blythe"
                                },
                                {
                                    "0": "312",
                                    "1": "Thomas",
                                    "2": "B.",
                                    "3": "Armstrong"
                                },
                                {
                                    "0": "395",
                                    "1": "June",
                                    "2": "B.",
                                    "3": "Brunner"
                                },
                                {
                                    "0": "434",
                                    "1": "James",
                                    "2": "B.",
                                    "3": "Bailey"
                                },
                                {
                                    "0": "435",
                                    "1": "Carol",
                                    "2": "B.",
                                    "3": "Elliott"
                                },
                                {
                                    "0": "437",
                                    "1": "Megan",
                                    "2": "E.",
                                    "3": "Burke"
                                },
                                {
                                    "0": "442",
                                    "1": "Jauna",
                                    "2": "E.",
                                    "3": "Elson"
                                },
                                {
                                    "0": "457",
                                    "1": "Mark",
                                    "2": "B",
                                    "3": "Erickson"
                                },
                                {
                                    "0": "470",
                                    "1": "Delia",
                                    "2": "B.",
                                    "3": "Toone"
                                },
                                {
                                    "0": "473",
                                    "1": "Kay",
                                    "2": "E.",
                                    "3": "Krane"
                                },
                                {
                                    "0": "480",
                                    "1": "Susan",
                                    "2": "E.",
                                    "3": "French"
                                },
                                {
                                    "0": "491",
                                    "1": "Frances",
                                    "2": "B.",
                                    "3": "Adams"
                                },
                                {
                                    "0": "497",
                                    "1": "Amy",
                                    "2": "E.",
                                    "3": "Alberts"
                                },
                                {
                                    "0": "509",
                                    "1": "Robert",
                                    "2": "E.",
                                    "3": "Ahlering"
                                },
                                {
                                    "0": "520",
                                    "1": "Mari",
                                    "2": "B.",
                                    "3": "Caldwell"
                                },
                                {
                                    "0": "586",
                                    "1": "Shanay",
                                    "2": "B.",
                                    "3": "Steelman"
                                },
                                {
                                    "0": "599",
                                    "1": "Raul",
                                    "2": "E.",
                                    "3": "Casts"
                                },
                                {
                                    "0": "608",
                                    "1": "Steven",
                                    "2": "B.",
                                    "3": "Brown"
                                },
                                {
                                    "0": "622",
                                    "1": "Robert",
                                    "2": "B.",
                                    "3": "Stotka"
                                },
                                {
                                    "0": "626",
                                    "1": "Lawrence",
                                    "2": "E.",
                                    "3": "Hurkett"
                                },
                                {
                                    "0": "685",
                                    "1": "James",
                                    "2": "B.",
                                    "3": "Haugh"
                                },
                                {
                                    "0": "29489",
                                    "1": "Frances",
                                    "2": "B.",
                                    "3": "Adams"
                                },
                                {
                                    "0": "29496",
                                    "1": "Robert",
                                    "2": "E.",
                                    "3": "Ahlering"
                                },
                                {
                                    "0": "29499",
                                    "1": "Amy",
                                    "2": "E.",
                                    "3": "Alberts"
                                },
                                {
                                    "0": "29522",
                                    "1": "Thomas",
                                    "2": "B.",
                                    "3": "Armstrong"
                                },
                                {
                                    "0": "29532",
                                    "1": "James",
                                    "2": "B.",
                                    "3": "Bailey"
                                },
                                {
                                    "0": "29562",
                                    "1": "Steven",
                                    "2": "B.",
                                    "3": "Brown"
                                },
                                {
                                    "0": "29567",
                                    "1": "Jackie",
                                    "2": "E.",
                                    "3": "Blackwell"
                                },
                                {
                                    "0": "29569",
                                    "1": "Linda",
                                    "2": "E.",
                                    "3": "Burnett"
                                },
                                {
                                    "0": "29570",
                                    "1": "Michael",
                                    "2": "Greg",
                                    "3": "Blythe"
                                },
                                {
                                    "0": "29600",
                                    "1": "June",
                                    "2": "B.",
                                    "3": "Brunner"
                                },
                                {
                                    "0": "29605",
                                    "1": "Megan",
                                    "2": "E.",
                                    "3": "Burke"
                                },
                                {
                                    "0": "29608",
                                    "1": "Timothy",
                                    "2": "B.",
                                    "3": "Burnett"
                                },
                                {
                                    "0": "29615",
                                    "1": "Mari",
                                    "2": "B.",
                                    "3": "Caldwell"
                                },
                                {
                                    "0": "29641",
                                    "1": "Raul",
                                    "2": "E.",
                                    "3": "Casts"
                                },
                                {
                                    "0": "29655",
                                    "1": "Nicky",
                                    "2": "E.",
                                    "3": "Chesnut"
                                },
                                {
                                    "0": "29732",
                                    "1": "Carol",
                                    "2": "B.",
                                    "3": "Elliott"
                                },
                                {
                                    "0": "29734",
                                    "1": "Jauna",
                                    "2": "E.",
                                    "3": "Elson"
                                },
                                {
                                    "0": "29739",
                                    "1": "Mark",
                                    "2": "B",
                                    "3": "Erickson"
                                },
                                {
                                    "0": "29761",
                                    "1": "Susan",
                                    "2": "E.",
                                    "3": "French"
                                },
                                {
                                    "0": "29822",
                                    "1": "James",
                                    "2": "B.",
                                    "3": "Haugh"
                                },
                                {
                                    "0": "29862",
                                    "1": "Lawrence",
                                    "2": "E.",
                                    "3": "Hurkett"
                                },
                                {
                                    "0": "29881",
                                    "1": "Danielle",
                                    "2": "B.",
                                    "3": "Johnson"
                                },
                                {
                                    "0": "29897",
                                    "1": "Kay",
                                    "2": "E.",
                                    "3": "Krane"
                                },
                                {
                                    "0": "29943",
                                    "1": "A.",
                                    "2": "Francesca",
                                    "3": "Leonetti"
                                },
                                {
                                    "0": "29944",
                                    "1": "Bonnie",
                                    "2": "B.",
                                    "3": "Lepro"
                                },
                                {
                                    "0": "29992",
                                    "1": "Sandra",
                                    "2": "B.",
                                    "3": "Maynard"
                                },
                                {
                                    "0": "30029",
                                    "1": "Shanay",
                                    "2": "B.",
                                    "3": "Steelman"
                                },
                                {
                                    "0": "30039",
                                    "1": "Robert",
                                    "2": "B.",
                                    "3": "Stotka"
                                },
                                {
                                    "0": "30080",
                                    "1": "Delia",
                                    "2": "B.",
                                    "3": "Toone"
                                },
                                {
                                    "0": "30093",
                                    "1": "Phyllis",
                                    "2": "B.",
                                    "3": "Tuffield"
                                },
                                {
                                    "0": "30100",
                                    "1": "Jessie",
                                    "2": "E.",
                                    "3": "Valerio"
                                }
                            ]
                        },
                        "text/html": [
                            "<table>",
                            "<tr><th>CustomerId</th><th>FirstName</th><th>MiddleName</th><th>LastName</th></tr>",
                            "<tr><td>22</td><td>Linda</td><td>E.</td><td>Burnett</td></tr>",
                            "<tr><td>28</td><td>Jackie</td><td>E.</td><td>Blackwell</td></tr>",
                            "<tr><td>96</td><td>Bonnie</td><td>B.</td><td>Lepro</td></tr>",
                            "<tr><td>180</td><td>Nicky</td><td>E.</td><td>Chesnut</td></tr>",
                            "<tr><td>202</td><td>A.</td><td>Francesca</td><td>Leonetti</td></tr>",
                            "<tr><td>209</td><td>Robert</td><td>E.</td><td>Jones</td></tr>",
                            "<tr><td>221</td><td>Sandra</td><td>B.</td><td>Maynard</td></tr>",
                            "<tr><td>228</td><td>Danielle</td><td>B.</td><td>Johnson</td></tr>",
                            "<tr><td>240</td><td>Jessie</td><td>E.</td><td>Valerio</td></tr>",
                            "<tr><td>263</td><td>Timothy</td><td>B.</td><td>Burnett</td></tr>",
                            "<tr><td>264</td><td>Phyllis</td><td>B.</td><td>Tuffield</td></tr>",
                            "<tr><td>292</td><td>Michael</td><td>Greg</td><td>Blythe</td></tr>",
                            "<tr><td>312</td><td>Thomas</td><td>B.</td><td>Armstrong</td></tr>",
                            "<tr><td>395</td><td>June</td><td>B.</td><td>Brunner</td></tr>",
                            "<tr><td>434</td><td>James</td><td>B.</td><td>Bailey</td></tr>",
                            "<tr><td>435</td><td>Carol</td><td>B.</td><td>Elliott</td></tr>",
                            "<tr><td>437</td><td>Megan</td><td>E.</td><td>Burke</td></tr>",
                            "<tr><td>442</td><td>Jauna</td><td>E.</td><td>Elson</td></tr>",
                            "<tr><td>457</td><td>Mark</td><td>B</td><td>Erickson</td></tr>",
                            "<tr><td>470</td><td>Delia</td><td>B.</td><td>Toone</td></tr>",
                            "<tr><td>473</td><td>Kay</td><td>E.</td><td>Krane</td></tr>",
                            "<tr><td>480</td><td>Susan</td><td>E.</td><td>French</td></tr>",
                            "<tr><td>491</td><td>Frances</td><td>B.</td><td>Adams</td></tr>",
                            "<tr><td>497</td><td>Amy</td><td>E.</td><td>Alberts</td></tr>",
                            "<tr><td>509</td><td>Robert</td><td>E.</td><td>Ahlering</td></tr>",
                            "<tr><td>520</td><td>Mari</td><td>B.</td><td>Caldwell</td></tr>",
                            "<tr><td>586</td><td>Shanay</td><td>B.</td><td>Steelman</td></tr>",
                            "<tr><td>599</td><td>Raul</td><td>E.</td><td>Casts</td></tr>",
                            "<tr><td>608</td><td>Steven</td><td>B.</td><td>Brown</td></tr>",
                            "<tr><td>622</td><td>Robert</td><td>B.</td><td>Stotka</td></tr>",
                            "<tr><td>626</td><td>Lawrence</td><td>E.</td><td>Hurkett</td></tr>",
                            "<tr><td>685</td><td>James</td><td>B.</td><td>Haugh</td></tr>",
                            "<tr><td>29489</td><td>Frances</td><td>B.</td><td>Adams</td></tr>",
                            "<tr><td>29496</td><td>Robert</td><td>E.</td><td>Ahlering</td></tr>",
                            "<tr><td>29499</td><td>Amy</td><td>E.</td><td>Alberts</td></tr>",
                            "<tr><td>29522</td><td>Thomas</td><td>B.</td><td>Armstrong</td></tr>",
                            "<tr><td>29532</td><td>James</td><td>B.</td><td>Bailey</td></tr>",
                            "<tr><td>29562</td><td>Steven</td><td>B.</td><td>Brown</td></tr>",
                            "<tr><td>29567</td><td>Jackie</td><td>E.</td><td>Blackwell</td></tr>",
                            "<tr><td>29569</td><td>Linda</td><td>E.</td><td>Burnett</td></tr>",
                            "<tr><td>29570</td><td>Michael</td><td>Greg</td><td>Blythe</td></tr>",
                            "<tr><td>29600</td><td>June</td><td>B.</td><td>Brunner</td></tr>",
                            "<tr><td>29605</td><td>Megan</td><td>E.</td><td>Burke</td></tr>",
                            "<tr><td>29608</td><td>Timothy</td><td>B.</td><td>Burnett</td></tr>",
                            "<tr><td>29615</td><td>Mari</td><td>B.</td><td>Caldwell</td></tr>",
                            "<tr><td>29641</td><td>Raul</td><td>E.</td><td>Casts</td></tr>",
                            "<tr><td>29655</td><td>Nicky</td><td>E.</td><td>Chesnut</td></tr>",
                            "<tr><td>29732</td><td>Carol</td><td>B.</td><td>Elliott</td></tr>",
                            "<tr><td>29734</td><td>Jauna</td><td>E.</td><td>Elson</td></tr>",
                            "<tr><td>29739</td><td>Mark</td><td>B</td><td>Erickson</td></tr>",
                            "<tr><td>29761</td><td>Susan</td><td>E.</td><td>French</td></tr>",
                            "<tr><td>29822</td><td>James</td><td>B.</td><td>Haugh</td></tr>",
                            "<tr><td>29862</td><td>Lawrence</td><td>E.</td><td>Hurkett</td></tr>",
                            "<tr><td>29881</td><td>Danielle</td><td>B.</td><td>Johnson</td></tr>",
                            "<tr><td>29897</td><td>Kay</td><td>E.</td><td>Krane</td></tr>",
                            "<tr><td>29943</td><td>A.</td><td>Francesca</td><td>Leonetti</td></tr>",
                            "<tr><td>29944</td><td>Bonnie</td><td>B.</td><td>Lepro</td></tr>",
                            "<tr><td>29992</td><td>Sandra</td><td>B.</td><td>Maynard</td></tr>",
                            "<tr><td>30029</td><td>Shanay</td><td>B.</td><td>Steelman</td></tr>",
                            "<tr><td>30039</td><td>Robert</td><td>B.</td><td>Stotka</td></tr>",
                            "<tr><td>30080</td><td>Delia</td><td>B.</td><td>Toone</td></tr>",
                            "<tr><td>30093</td><td>Phyllis</td><td>B.</td><td>Tuffield</td></tr>",
                            "<tr><td>30100</td><td>Jessie</td><td>E.</td><td>Valerio</td></tr>",
                            "</table>"
                        ]
                    }
                }
            ],
            "execution_count": 1
        },
        {
            "cell_type": "markdown",
            "source": [
                "**5**. Explain the difference between the following two queries: SELECT FirstName FROM saleslt.Customer WHERE LastName LIKE 'Ja%es'; SELECT FirstName FROM saleslt.Customer WHERE LastName LIKE 'Ja\\_es';\n",
                "\n",
                "Explicar a diferença entre as duas perguntas seguintes: SELECT FirstName FROM saleslt.Customer WHERE LastName LIKE 'Ja%es'; SELECT FirstName FROM saleslt.Customer WHERE LastName LIKE 'Ja\\_es';  \n",
                "\n",
                "Resposta: O % usamos para indicar um coringa ou seja um texto qualuqer pode aparecer no campo, já o \\_ podemos usar filtros mais exatos sobre as colunas de textos, buscando por uma posição específica no texto"
            ],
            "metadata": {
                "azdata_cell_guid": "787e269a-e17b-4355-8455-7a9bfebb36a4"
            },
            "attachments": {}
        },
        {
            "cell_type": "markdown",
            "source": [
                "**6**. Write a query that displays the customerID, first name and last name for customers where the second character of the last name is the letter u \n",
                "\n",
                "Escreva uma consulta que mostre o ID do cliente, nome e apelido para os clientes em que o segundo caractere do apelido é a letra u"
            ],
            "metadata": {
                "azdata_cell_guid": "baf63244-cec8-41b6-8396-272fd38ef00f"
            },
            "attachments": {}
        },
        {
            "cell_type": "code",
            "source": [
                "SELECT CustomerId, FirstName, LastName\r\n",
                "FROM Customer\r\n",
                "WHERE LastName LIKE '_u%'"
            ],
            "metadata": {
                "azdata_cell_guid": "d5086031-4654-4582-a6b3-fa1a7594ee8b"
            },
            "outputs": [
                {
                    "output_type": "display_data",
                    "data": {
                        "text/html": "(67 rows affected)"
                    },
                    "metadata": {}
                },
                {
                    "output_type": "display_data",
                    "data": {
                        "text/html": "Total execution time: 00:00:00.154"
                    },
                    "metadata": {}
                },
                {
                    "output_type": "execute_result",
                    "metadata": {},
                    "execution_count": 2,
                    "data": {
                        "application/vnd.dataresource+json": {
                            "schema": {
                                "fields": [
                                    {
                                        "name": "CustomerId"
                                    },
                                    {
                                        "name": "FirstName"
                                    },
                                    {
                                        "name": "LastName"
                                    }
                                ]
                            },
                            "data": [
                                {
                                    "0": "22",
                                    "1": "Linda",
                                    "2": "Burnett"
                                },
                                {
                                    "0": "48",
                                    "1": "Anita",
                                    "2": "Lucerne"
                                },
                                {
                                    "0": "57",
                                    "1": "Judy",
                                    "2": "Lundahl"
                                },
                                {
                                    "0": "58",
                                    "1": "Peter",
                                    "2": "Kurniawan"
                                },
                                {
                                    "0": "60",
                                    "1": "Sean",
                                    "2": "Lunt"
                                },
                                {
                                    "0": "61",
                                    "1": "Jeffrey",
                                    "2": "Kurtz"
                                },
                                {
                                    "0": "64",
                                    "1": "Vamsi",
                                    "2": "Kuppa"
                                },
                                {
                                    "0": "70",
                                    "1": "Deepak",
                                    "2": "Kumar"
                                },
                                {
                                    "0": "200",
                                    "1": "Peggy",
                                    "2": "Justice"
                                },
                                {
                                    "0": "263",
                                    "1": "Timothy",
                                    "2": "Burnett"
                                },
                                {
                                    "0": "264",
                                    "1": "Phyllis",
                                    "2": "Tuffield"
                                },
                                {
                                    "0": "271",
                                    "1": "Jared",
                                    "2": "Bustamante"
                                },
                                {
                                    "0": "287",
                                    "1": "Grant",
                                    "2": "Culbertson"
                                },
                                {
                                    "0": "290",
                                    "1": "Scott",
                                    "2": "Culp"
                                },
                                {
                                    "0": "293",
                                    "1": "Conor",
                                    "2": "Cunningham"
                                },
                                {
                                    "0": "344",
                                    "1": "Karren",
                                    "2": "Burkhardt"
                                },
                                {
                                    "0": "347",
                                    "1": "Ingrid",
                                    "2": "Burkhardt"
                                },
                                {
                                    "0": "437",
                                    "1": "Megan",
                                    "2": "Burke"
                                },
                                {
                                    "0": "443",
                                    "1": "Janaina Barreiro Gambaro",
                                    "2": "Bueno"
                                },
                                {
                                    "0": "468",
                                    "1": "Paul",
                                    "2": "Fulton"
                                },
                                {
                                    "0": "484",
                                    "1": "Gary",
                                    "2": "Suess"
                                },
                                {
                                    "0": "487",
                                    "1": "Ruth",
                                    "2": "Suffin"
                                },
                                {
                                    "0": "490",
                                    "1": "Elizabeth",
                                    "2": "Sullivan"
                                },
                                {
                                    "0": "493",
                                    "1": "Michael",
                                    "2": "Sullivan"
                                },
                                {
                                    "0": "496",
                                    "1": "Marcia",
                                    "2": "Sultan"
                                },
                                {
                                    "0": "502",
                                    "1": "Krishna",
                                    "2": "Sunkammurali"
                                },
                                {
                                    "0": "505",
                                    "1": "Brad",
                                    "2": "Sutton"
                                },
                                {
                                    "0": "577",
                                    "1": "George",
                                    "2": "Huckaby"
                                },
                                {
                                    "0": "580",
                                    "1": "Joshua",
                                    "2": "Huff"
                                },
                                {
                                    "0": "617",
                                    "1": "Arlene",
                                    "2": "Huff"
                                },
                                {
                                    "0": "620",
                                    "1": "Matthew",
                                    "2": "Hunter"
                                },
                                {
                                    "0": "623",
                                    "1": "Phyllis",
                                    "2": "Huntsman"
                                },
                                {
                                    "0": "626",
                                    "1": "Lawrence",
                                    "2": "Hurkett"
                                },
                                {
                                    "0": "693",
                                    "1": "Bart",
                                    "2": "Duncan"
                                },
                                {
                                    "0": "696",
                                    "1": "Maciej",
                                    "2": "Dusza"
                                },
                                {
                                    "0": "29569",
                                    "1": "Linda",
                                    "2": "Burnett"
                                },
                                {
                                    "0": "29603",
                                    "1": "Janaina Barreiro Gambaro",
                                    "2": "Bueno"
                                },
                                {
                                    "0": "29605",
                                    "1": "Megan",
                                    "2": "Burke"
                                },
                                {
                                    "0": "29606",
                                    "1": "Karren",
                                    "2": "Burkhardt"
                                },
                                {
                                    "0": "29608",
                                    "1": "Timothy",
                                    "2": "Burnett"
                                },
                                {
                                    "0": "29611",
                                    "1": "Jared",
                                    "2": "Bustamante"
                                },
                                {
                                    "0": "29688",
                                    "1": "Grant",
                                    "2": "Culbertson"
                                },
                                {
                                    "0": "29689",
                                    "1": "Scott",
                                    "2": "Culp"
                                },
                                {
                                    "0": "29690",
                                    "1": "Conor",
                                    "2": "Cunningham"
                                },
                                {
                                    "0": "29727",
                                    "1": "Bart",
                                    "2": "Duncan"
                                },
                                {
                                    "0": "29728",
                                    "1": "Maciej",
                                    "2": "Dusza"
                                },
                                {
                                    "0": "29765",
                                    "1": "Paul",
                                    "2": "Fulton"
                                },
                                {
                                    "0": "29858",
                                    "1": "George",
                                    "2": "Huckaby"
                                },
                                {
                                    "0": "29859",
                                    "1": "Joshua",
                                    "2": "Huff"
                                },
                                {
                                    "0": "29860",
                                    "1": "Arlene",
                                    "2": "Huff"
                                },
                                {
                                    "0": "29861",
                                    "1": "Phyllis",
                                    "2": "Huntsman"
                                },
                                {
                                    "0": "29862",
                                    "1": "Lawrence",
                                    "2": "Hurkett"
                                },
                                {
                                    "0": "29890",
                                    "1": "Peggy",
                                    "2": "Justice"
                                },
                                {
                                    "0": "29926",
                                    "1": "Deepak",
                                    "2": "Kumar"
                                },
                                {
                                    "0": "29928",
                                    "1": "Vamsi",
                                    "2": "Kuppa"
                                },
                                {
                                    "0": "29929",
                                    "1": "Jeffrey",
                                    "2": "Kurtz"
                                },
                                {
                                    "0": "29930",
                                    "1": "Peter",
                                    "2": "Kurniawan"
                                },
                                {
                                    "0": "29964",
                                    "1": "Anita",
                                    "2": "Lucerne"
                                },
                                {
                                    "0": "29967",
                                    "1": "Judy",
                                    "2": "Lundahl"
                                },
                                {
                                    "0": "30044",
                                    "1": "Gary",
                                    "2": "Suess"
                                },
                                {
                                    "0": "30045",
                                    "1": "Ruth",
                                    "2": "Suffin"
                                },
                                {
                                    "0": "30046",
                                    "1": "Elizabeth",
                                    "2": "Sullivan"
                                },
                                {
                                    "0": "30047",
                                    "1": "Michael",
                                    "2": "Sullivan"
                                },
                                {
                                    "0": "30048",
                                    "1": "Marcia",
                                    "2": "Sultan"
                                },
                                {
                                    "0": "30050",
                                    "1": "Krishna",
                                    "2": "Sunkammurali"
                                },
                                {
                                    "0": "30051",
                                    "1": "Brad",
                                    "2": "Sutton"
                                },
                                {
                                    "0": "30093",
                                    "1": "Phyllis",
                                    "2": "Tuffield"
                                }
                            ]
                        },
                        "text/html": [
                            "<table>",
                            "<tr><th>CustomerId</th><th>FirstName</th><th>LastName</th></tr>",
                            "<tr><td>22</td><td>Linda</td><td>Burnett</td></tr>",
                            "<tr><td>48</td><td>Anita</td><td>Lucerne</td></tr>",
                            "<tr><td>57</td><td>Judy</td><td>Lundahl</td></tr>",
                            "<tr><td>58</td><td>Peter</td><td>Kurniawan</td></tr>",
                            "<tr><td>60</td><td>Sean</td><td>Lunt</td></tr>",
                            "<tr><td>61</td><td>Jeffrey</td><td>Kurtz</td></tr>",
                            "<tr><td>64</td><td>Vamsi</td><td>Kuppa</td></tr>",
                            "<tr><td>70</td><td>Deepak</td><td>Kumar</td></tr>",
                            "<tr><td>200</td><td>Peggy</td><td>Justice</td></tr>",
                            "<tr><td>263</td><td>Timothy</td><td>Burnett</td></tr>",
                            "<tr><td>264</td><td>Phyllis</td><td>Tuffield</td></tr>",
                            "<tr><td>271</td><td>Jared</td><td>Bustamante</td></tr>",
                            "<tr><td>287</td><td>Grant</td><td>Culbertson</td></tr>",
                            "<tr><td>290</td><td>Scott</td><td>Culp</td></tr>",
                            "<tr><td>293</td><td>Conor</td><td>Cunningham</td></tr>",
                            "<tr><td>344</td><td>Karren</td><td>Burkhardt</td></tr>",
                            "<tr><td>347</td><td>Ingrid</td><td>Burkhardt</td></tr>",
                            "<tr><td>437</td><td>Megan</td><td>Burke</td></tr>",
                            "<tr><td>443</td><td>Janaina Barreiro Gambaro</td><td>Bueno</td></tr>",
                            "<tr><td>468</td><td>Paul</td><td>Fulton</td></tr>",
                            "<tr><td>484</td><td>Gary</td><td>Suess</td></tr>",
                            "<tr><td>487</td><td>Ruth</td><td>Suffin</td></tr>",
                            "<tr><td>490</td><td>Elizabeth</td><td>Sullivan</td></tr>",
                            "<tr><td>493</td><td>Michael</td><td>Sullivan</td></tr>",
                            "<tr><td>496</td><td>Marcia</td><td>Sultan</td></tr>",
                            "<tr><td>502</td><td>Krishna</td><td>Sunkammurali</td></tr>",
                            "<tr><td>505</td><td>Brad</td><td>Sutton</td></tr>",
                            "<tr><td>577</td><td>George</td><td>Huckaby</td></tr>",
                            "<tr><td>580</td><td>Joshua</td><td>Huff</td></tr>",
                            "<tr><td>617</td><td>Arlene</td><td>Huff</td></tr>",
                            "<tr><td>620</td><td>Matthew</td><td>Hunter</td></tr>",
                            "<tr><td>623</td><td>Phyllis</td><td>Huntsman</td></tr>",
                            "<tr><td>626</td><td>Lawrence</td><td>Hurkett</td></tr>",
                            "<tr><td>693</td><td>Bart</td><td>Duncan</td></tr>",
                            "<tr><td>696</td><td>Maciej</td><td>Dusza</td></tr>",
                            "<tr><td>29569</td><td>Linda</td><td>Burnett</td></tr>",
                            "<tr><td>29603</td><td>Janaina Barreiro Gambaro</td><td>Bueno</td></tr>",
                            "<tr><td>29605</td><td>Megan</td><td>Burke</td></tr>",
                            "<tr><td>29606</td><td>Karren</td><td>Burkhardt</td></tr>",
                            "<tr><td>29608</td><td>Timothy</td><td>Burnett</td></tr>",
                            "<tr><td>29611</td><td>Jared</td><td>Bustamante</td></tr>",
                            "<tr><td>29688</td><td>Grant</td><td>Culbertson</td></tr>",
                            "<tr><td>29689</td><td>Scott</td><td>Culp</td></tr>",
                            "<tr><td>29690</td><td>Conor</td><td>Cunningham</td></tr>",
                            "<tr><td>29727</td><td>Bart</td><td>Duncan</td></tr>",
                            "<tr><td>29728</td><td>Maciej</td><td>Dusza</td></tr>",
                            "<tr><td>29765</td><td>Paul</td><td>Fulton</td></tr>",
                            "<tr><td>29858</td><td>George</td><td>Huckaby</td></tr>",
                            "<tr><td>29859</td><td>Joshua</td><td>Huff</td></tr>",
                            "<tr><td>29860</td><td>Arlene</td><td>Huff</td></tr>",
                            "<tr><td>29861</td><td>Phyllis</td><td>Huntsman</td></tr>",
                            "<tr><td>29862</td><td>Lawrence</td><td>Hurkett</td></tr>",
                            "<tr><td>29890</td><td>Peggy</td><td>Justice</td></tr>",
                            "<tr><td>29926</td><td>Deepak</td><td>Kumar</td></tr>",
                            "<tr><td>29928</td><td>Vamsi</td><td>Kuppa</td></tr>",
                            "<tr><td>29929</td><td>Jeffrey</td><td>Kurtz</td></tr>",
                            "<tr><td>29930</td><td>Peter</td><td>Kurniawan</td></tr>",
                            "<tr><td>29964</td><td>Anita</td><td>Lucerne</td></tr>",
                            "<tr><td>29967</td><td>Judy</td><td>Lundahl</td></tr>",
                            "<tr><td>30044</td><td>Gary</td><td>Suess</td></tr>",
                            "<tr><td>30045</td><td>Ruth</td><td>Suffin</td></tr>",
                            "<tr><td>30046</td><td>Elizabeth</td><td>Sullivan</td></tr>",
                            "<tr><td>30047</td><td>Michael</td><td>Sullivan</td></tr>",
                            "<tr><td>30048</td><td>Marcia</td><td>Sultan</td></tr>",
                            "<tr><td>30050</td><td>Krishna</td><td>Sunkammurali</td></tr>",
                            "<tr><td>30051</td><td>Brad</td><td>Sutton</td></tr>",
                            "<tr><td>30093</td><td>Phyllis</td><td>Tuffield</td></tr>",
                            "</table>"
                        ]
                    }
                }
            ],
            "execution_count": 2
        },
        {
            "cell_type": "markdown",
            "source": [
                "**7\\.** Write a query that displays the customerID, first name and last name for customers where the first character in the last name is Y or Z \n",
                "\n",
                "Escreva uma consulta que mostre o ID do cliente, nome e sobrenome para os clientes onde o primeiro caractere no sobrenome é Y ou Z"
            ],
            "metadata": {
                "azdata_cell_guid": "acc63f2d-c254-4e45-83d6-a8e48cc1cc95"
            },
            "attachments": {}
        },
        {
            "cell_type": "code",
            "source": [
                "SELECT CustomerID, FirstName, MiddleName \r\n",
                "FROM Customer\r\n",
                "WHERE MiddleName LIKE '[YZ]%'"
            ],
            "metadata": {
                "azdata_cell_guid": "676b96e1-4fe8-46eb-a1bb-2cf7d07bdda6",
                "tags": []
            },
            "outputs": [
                {
                    "output_type": "display_data",
                    "data": {
                        "text/html": "(4 rows affected)"
                    },
                    "metadata": {}
                },
                {
                    "output_type": "display_data",
                    "data": {
                        "text/html": "Total execution time: 00:00:00.107"
                    },
                    "metadata": {}
                },
                {
                    "output_type": "execute_result",
                    "metadata": {},
                    "execution_count": 23,
                    "data": {
                        "application/vnd.dataresource+json": {
                            "schema": {
                                "fields": [
                                    {
                                        "name": "CustomerID"
                                    },
                                    {
                                        "name": "FirstName"
                                    },
                                    {
                                        "name": "MiddleName"
                                    }
                                ]
                            },
                            "data": [
                                {
                                    "0": "115",
                                    "1": "George",
                                    "2": "Z."
                                },
                                {
                                    "0": "425",
                                    "1": "Stephen",
                                    "2": "Yuan"
                                },
                                {
                                    "0": "29879",
                                    "1": "Stephen",
                                    "2": "Yuan"
                                },
                                {
                                    "0": "29949",
                                    "1": "George",
                                    "2": "Z."
                                }
                            ]
                        },
                        "text/html": [
                            "<table>",
                            "<tr><th>CustomerID</th><th>FirstName</th><th>MiddleName</th></tr>",
                            "<tr><td>115</td><td>George</td><td>Z.</td></tr>",
                            "<tr><td>425</td><td>Stephen</td><td>Yuan</td></tr>",
                            "<tr><td>29879</td><td>Stephen</td><td>Yuan</td></tr>",
                            "<tr><td>29949</td><td>George</td><td>Z.</td></tr>",
                            "</table>"
                        ]
                    }
                }
            ],
            "execution_count": 23
        },
        {
            "cell_type": "markdown",
            "source": [
                "**8.** Write a query that displays the customerID, first name and last name for customers where the first character in the last name is the letter in the range A through C\n",
                "\n",
                "Escreva uma consulta que mostre o ID do cliente, nome e apelido para os clientes em que o primeiro caractere no apelido é a letra na gama de A a C"
            ],
            "metadata": {
                "azdata_cell_guid": "3ac9c992-8480-4aef-a073-3aed5cf66f4f"
            },
            "attachments": {}
        },
        {
            "cell_type": "code",
            "source": [
                "SELECT CustomerId, LastName, FirstName\r\n",
                "FROM Customer\r\n",
                "WHERE FirstName LIKE '[A-C]%'"
            ],
            "metadata": {
                "azdata_cell_guid": "87d91f14-735e-428c-8e5f-363cd978a0ee"
            },
            "outputs": [
                {
                    "output_type": "display_data",
                    "data": {
                        "text/html": "(145 rows affected)"
                    },
                    "metadata": {}
                },
                {
                    "output_type": "display_data",
                    "data": {
                        "text/html": "Total execution time: 00:00:00.113"
                    },
                    "metadata": {}
                },
                {
                    "output_type": "execute_result",
                    "metadata": {},
                    "execution_count": 3,
                    "data": {
                        "application/vnd.dataresource+json": {
                            "schema": {
                                "fields": [
                                    {
                                        "name": "CustomerId"
                                    },
                                    {
                                        "name": "LastName"
                                    },
                                    {
                                        "name": "FirstName"
                                    }
                                ]
                            },
                            "data": [
                                {
                                    "0": "16",
                                    "1": "Beck",
                                    "2": "Christopher"
                                },
                                {
                                    "0": "29",
                                    "1": "Hamilton",
                                    "2": "Bryan"
                                },
                                {
                                    "0": "34",
                                    "1": "German",
                                    "2": "Barbara"
                                },
                                {
                                    "0": "38",
                                    "1": "Haines",
                                    "2": "Betty"
                                },
                                {
                                    "0": "48",
                                    "1": "Lucerne",
                                    "2": "Anita"
                                },
                                {
                                    "0": "56",
                                    "1": "Groth",
                                    "2": "Brian"
                                },
                                {
                                    "0": "66",
                                    "1": "Deborde",
                                    "2": "Alexander"
                                },
                                {
                                    "0": "74",
                                    "1": "Bright",
                                    "2": "Christopher"
                                },
                                {
                                    "0": "75",
                                    "1": "Delaney",
                                    "2": "Aidan"
                                },
                                {
                                    "0": "96",
                                    "1": "Lepro",
                                    "2": "Bonnie"
                                },
                                {
                                    "0": "106",
                                    "1": "Thomsen",
                                    "2": "Andrea"
                                },
                                {
                                    "0": "129",
                                    "1": "Coffman",
                                    "2": "Connie"
                                },
                                {
                                    "0": "147",
                                    "1": "Clark",
                                    "2": "Alice"
                                },
                                {
                                    "0": "148",
                                    "1": "Brewer",
                                    "2": "Alan"
                                },
                                {
                                    "0": "149",
                                    "1": "Brandon",
                                    "2": "Cornelius"
                                },
                                {
                                    "0": "154",
                                    "1": "Carlisle",
                                    "2": "Carlton"
                                },
                                {
                                    "0": "160",
                                    "1": "Cavendish",
                                    "2": "Brigid"
                                },
                                {
                                    "0": "163",
                                    "1": "Cencini",
                                    "2": "Andrew"
                                },
                                {
                                    "0": "164",
                                    "1": "Dodd",
                                    "2": "Cindy"
                                },
                                {
                                    "0": "167",
                                    "1": "Dockter",
                                    "2": "Blaine"
                                },
                                {
                                    "0": "169",
                                    "1": "Diaz",
                                    "2": "Brenda"
                                },
                                {
                                    "0": "202",
                                    "1": "Leonetti",
                                    "2": "A."
                                },
                                {
                                    "0": "217",
                                    "1": "Maxwell",
                                    "2": "Chris"
                                },
                                {
                                    "0": "219",
                                    "1": "Johnson",
                                    "2": "Brian"
                                },
                                {
                                    "0": "222",
                                    "1": "Johnson",
                                    "2": "Barry"
                                },
                                {
                                    "0": "244",
                                    "1": "Jacobs",
                                    "2": "Bronson"
                                },
                                {
                                    "0": "262",
                                    "1": "Inghram",
                                    "2": "Beth"
                                },
                                {
                                    "0": "273",
                                    "1": "Trujillo",
                                    "2": "Christie"
                                },
                                {
                                    "0": "275",
                                    "1": "Cannon",
                                    "2": "Chris"
                                },
                                {
                                    "0": "282",
                                    "1": "Trent",
                                    "2": "Billy"
                                },
                                {
                                    "0": "293",
                                    "1": "Cunningham",
                                    "2": "Conor"
                                },
                                {
                                    "0": "294",
                                    "1": "Baltazar",
                                    "2": "Alberto"
                                },
                                {
                                    "0": "311",
                                    "1": "De Matos Miranda Filho",
                                    "2": "Alvaro"
                                },
                                {
                                    "0": "316",
                                    "1": "Miller",
                                    "2": "Ben"
                                },
                                {
                                    "0": "318",
                                    "1": "Beebe",
                                    "2": "Ann"
                                },
                                {
                                    "0": "327",
                                    "1": "Vicknair",
                                    "2": "Caroline"
                                },
                                {
                                    "0": "329",
                                    "1": "Berglund",
                                    "2": "Andreas"
                                },
                                {
                                    "0": "336",
                                    "1": "Goldstein",
                                    "2": "Brian"
                                },
                                {
                                    "0": "345",
                                    "1": "Gonzalez",
                                    "2": "Abigail"
                                },
                                {
                                    "0": "363",
                                    "1": "Ashton",
                                    "2": "Chris"
                                },
                                {
                                    "0": "371",
                                    "1": "Costa Da Silva",
                                    "2": "Bruno"
                                },
                                {
                                    "0": "384",
                                    "1": "Tatman",
                                    "2": "Clarence"
                                },
                                {
                                    "0": "394",
                                    "1": "Kearney",
                                    "2": "Bonnie"
                                },
                                {
                                    "0": "399",
                                    "1": "Tedford",
                                    "2": "Chad"
                                },
                                {
                                    "0": "408",
                                    "1": "Berger",
                                    "2": "Alexander"
                                },
                                {
                                    "0": "416",
                                    "1": "Barbariol",
                                    "2": "Angela"
                                },
                                {
                                    "0": "420",
                                    "1": "Chor",
                                    "2": "Anthony"
                                },
                                {
                                    "0": "435",
                                    "1": "Elliott",
                                    "2": "Carol"
                                },
                                {
                                    "0": "436",
                                    "1": "Calone",
                                    "2": "Barbara"
                                },
                                {
                                    "0": "438",
                                    "1": "Booth",
                                    "2": "Cory"
                                },
                                {
                                    "0": "462",
                                    "1": "Gage",
                                    "2": "Bob"
                                },
                                {
                                    "0": "472",
                                    "1": "Evans",
                                    "2": "Ann"
                                },
                                {
                                    "0": "497",
                                    "1": "Alberts",
                                    "2": "Amy"
                                },
                                {
                                    "0": "505",
                                    "1": "Sutton",
                                    "2": "Brad"
                                },
                                {
                                    "0": "511",
                                    "1": "Swearengin",
                                    "2": "Abraham"
                                },
                                {
                                    "0": "542",
                                    "1": "Kobylinski",
                                    "2": "Andrew"
                                },
                                {
                                    "0": "545",
                                    "1": "Kleinerman",
                                    "2": "Christian"
                                },
                                {
                                    "0": "546",
                                    "1": "Kirilov",
                                    "2": "Anton"
                                },
                                {
                                    "0": "568",
                                    "1": "Howard",
                                    "2": "Curtis"
                                },
                                {
                                    "0": "569",
                                    "1": "Allison",
                                    "2": "Cecil"
                                },
                                {
                                    "0": "578",
                                    "1": "Farino",
                                    "2": "Carolyn"
                                },
                                {
                                    "0": "582",
                                    "1": "Abel",
                                    "2": "Catherine"
                                },
                                {
                                    "0": "595",
                                    "1": "Steiner",
                                    "2": "Alan"
                                },
                                {
                                    "0": "597",
                                    "1": "Hodges",
                                    "2": "Bob"
                                },
                                {
                                    "0": "607",
                                    "1": "Steiner",
                                    "2": "Alice"
                                },
                                {
                                    "0": "617",
                                    "1": "Huff",
                                    "2": "Arlene"
                                },
                                {
                                    "0": "630",
                                    "1": "Hill",
                                    "2": "Andrew"
                                },
                                {
                                    "0": "648",
                                    "1": "Herring",
                                    "2": "Cheryl"
                                },
                                {
                                    "0": "659",
                                    "1": "Manchepalli",
                                    "2": "Ajay"
                                },
                                {
                                    "0": "677",
                                    "1": "Marshall",
                                    "2": "Cecelia"
                                },
                                {
                                    "0": "679",
                                    "1": "Heaney",
                                    "2": "Brenda"
                                },
                                {
                                    "0": "692",
                                    "1": "Desalvo",
                                    "2": "Bev"
                                },
                                {
                                    "0": "693",
                                    "1": "Duncan",
                                    "2": "Bart"
                                },
                                {
                                    "0": "694",
                                    "1": "Hass",
                                    "2": "Ann"
                                },
                                {
                                    "0": "698",
                                    "1": "Carothers",
                                    "2": "Andy"
                                },
                                {
                                    "0": "29485",
                                    "1": "Abel",
                                    "2": "Catherine"
                                },
                                {
                                    "0": "29499",
                                    "1": "Alberts",
                                    "2": "Amy"
                                },
                                {
                                    "0": "29510",
                                    "1": "Allison",
                                    "2": "Cecil"
                                },
                                {
                                    "0": "29524",
                                    "1": "Ashton",
                                    "2": "Chris"
                                },
                                {
                                    "0": "29531",
                                    "1": "Booth",
                                    "2": "Cory"
                                },
                                {
                                    "0": "29546",
                                    "1": "Beck",
                                    "2": "Christopher"
                                },
                                {
                                    "0": "29548",
                                    "1": "Beebe",
                                    "2": "Ann"
                                },
                                {
                                    "0": "29557",
                                    "1": "Berger",
                                    "2": "Alexander"
                                },
                                {
                                    "0": "29579",
                                    "1": "Brandon",
                                    "2": "Cornelius"
                                },
                                {
                                    "0": "29583",
                                    "1": "Brewer",
                                    "2": "Alan"
                                },
                                {
                                    "0": "29585",
                                    "1": "Bright",
                                    "2": "Christopher"
                                },
                                {
                                    "0": "29616",
                                    "1": "Calone",
                                    "2": "Barbara"
                                },
                                {
                                    "0": "29623",
                                    "1": "Cannon",
                                    "2": "Chris"
                                },
                                {
                                    "0": "29629",
                                    "1": "Carlisle",
                                    "2": "Carlton"
                                },
                                {
                                    "0": "29636",
                                    "1": "Carothers",
                                    "2": "Andy"
                                },
                                {
                                    "0": "29644",
                                    "1": "Cavendish",
                                    "2": "Brigid"
                                },
                                {
                                    "0": "29645",
                                    "1": "Cencini",
                                    "2": "Andrew"
                                },
                                {
                                    "0": "29660",
                                    "1": "Chor",
                                    "2": "Anthony"
                                },
                                {
                                    "0": "29663",
                                    "1": "Clark",
                                    "2": "Alice"
                                },
                                {
                                    "0": "29668",
                                    "1": "Coffman",
                                    "2": "Connie"
                                },
                                {
                                    "0": "29690",
                                    "1": "Cunningham",
                                    "2": "Conor"
                                },
                                {
                                    "0": "29696",
                                    "1": "De Matos Miranda Filho",
                                    "2": "Alvaro"
                                },
                                {
                                    "0": "29699",
                                    "1": "Deborde",
                                    "2": "Alexander"
                                },
                                {
                                    "0": "29702",
                                    "1": "Delaney",
                                    "2": "Aidan"
                                },
                                {
                                    "0": "29709",
                                    "1": "Desalvo",
                                    "2": "Bev"
                                },
                                {
                                    "0": "29710",
                                    "1": "Diaz",
                                    "2": "Brenda"
                                },
                                {
                                    "0": "29716",
                                    "1": "Dockter",
                                    "2": "Blaine"
                                },
                                {
                                    "0": "29717",
                                    "1": "Dodd",
                                    "2": "Cindy"
                                },
                                {
                                    "0": "29727",
                                    "1": "Duncan",
                                    "2": "Bart"
                                },
                                {
                                    "0": "29732",
                                    "1": "Elliott",
                                    "2": "Carol"
                                },
                                {
                                    "0": "29743",
                                    "1": "Evans",
                                    "2": "Ann"
                                },
                                {
                                    "0": "29747",
                                    "1": "Farino",
                                    "2": "Carolyn"
                                },
                                {
                                    "0": "29766",
                                    "1": "Gage",
                                    "2": "Bob"
                                },
                                {
                                    "0": "29776",
                                    "1": "German",
                                    "2": "Barbara"
                                },
                                {
                                    "0": "29789",
                                    "1": "Goldstein",
                                    "2": "Brian"
                                },
                                {
                                    "0": "29792",
                                    "1": "Gonzalez",
                                    "2": "Abigail"
                                },
                                {
                                    "0": "29800",
                                    "1": "Groth",
                                    "2": "Brian"
                                },
                                {
                                    "0": "29806",
                                    "1": "Haines",
                                    "2": "Betty"
                                },
                                {
                                    "0": "29807",
                                    "1": "Hamilton",
                                    "2": "Bryan"
                                },
                                {
                                    "0": "29819",
                                    "1": "Hass",
                                    "2": "Ann"
                                },
                                {
                                    "0": "29824",
                                    "1": "Heaney",
                                    "2": "Brenda"
                                },
                                {
                                    "0": "29834",
                                    "1": "Herring",
                                    "2": "Cheryl"
                                },
                                {
                                    "0": "29840",
                                    "1": "Hill",
                                    "2": "Andrew"
                                },
                                {
                                    "0": "29850",
                                    "1": "Hodges",
                                    "2": "Bob"
                                },
                                {
                                    "0": "29855",
                                    "1": "Howard",
                                    "2": "Curtis"
                                },
                                {
                                    "0": "29860",
                                    "1": "Huff",
                                    "2": "Arlene"
                                },
                                {
                                    "0": "29864",
                                    "1": "Inghram",
                                    "2": "Beth"
                                },
                                {
                                    "0": "29870",
                                    "1": "Jacobs",
                                    "2": "Bronson"
                                },
                                {
                                    "0": "29883",
                                    "1": "Johnson",
                                    "2": "Barry"
                                },
                                {
                                    "0": "29884",
                                    "1": "Johnson",
                                    "2": "Brian"
                                },
                                {
                                    "0": "29913",
                                    "1": "Kirilov",
                                    "2": "Anton"
                                },
                                {
                                    "0": "29914",
                                    "1": "Kleinerman",
                                    "2": "Christian"
                                },
                                {
                                    "0": "29915",
                                    "1": "Kobylinski",
                                    "2": "Andrew"
                                },
                                {
                                    "0": "29943",
                                    "1": "Leonetti",
                                    "2": "A."
                                },
                                {
                                    "0": "29944",
                                    "1": "Lepro",
                                    "2": "Bonnie"
                                },
                                {
                                    "0": "29964",
                                    "1": "Lucerne",
                                    "2": "Anita"
                                },
                                {
                                    "0": "29978",
                                    "1": "Manchepalli",
                                    "2": "Ajay"
                                },
                                {
                                    "0": "29983",
                                    "1": "Marshall",
                                    "2": "Cecelia"
                                },
                                {
                                    "0": "29991",
                                    "1": "Maxwell",
                                    "2": "Chris"
                                },
                                {
                                    "0": "30021",
                                    "1": "Miller",
                                    "2": "Ben"
                                },
                                {
                                    "0": "30031",
                                    "1": "Steiner",
                                    "2": "Alan"
                                },
                                {
                                    "0": "30035",
                                    "1": "Steiner",
                                    "2": "Alice"
                                },
                                {
                                    "0": "30051",
                                    "1": "Sutton",
                                    "2": "Brad"
                                },
                                {
                                    "0": "30052",
                                    "1": "Swearengin",
                                    "2": "Abraham"
                                },
                                {
                                    "0": "30056",
                                    "1": "Tatman",
                                    "2": "Clarence"
                                },
                                {
                                    "0": "30061",
                                    "1": "Tedford",
                                    "2": "Chad"
                                },
                                {
                                    "0": "30072",
                                    "1": "Thomsen",
                                    "2": "Andrea"
                                },
                                {
                                    "0": "30087",
                                    "1": "Trent",
                                    "2": "Billy"
                                },
                                {
                                    "0": "30090",
                                    "1": "Trujillo",
                                    "2": "Christie"
                                },
                                {
                                    "0": "30118",
                                    "1": "Vicknair",
                                    "2": "Caroline"
                                }
                            ]
                        },
                        "text/html": [
                            "<table>",
                            "<tr><th>CustomerId</th><th>LastName</th><th>FirstName</th></tr>",
                            "<tr><td>16</td><td>Beck</td><td>Christopher</td></tr>",
                            "<tr><td>29</td><td>Hamilton</td><td>Bryan</td></tr>",
                            "<tr><td>34</td><td>German</td><td>Barbara</td></tr>",
                            "<tr><td>38</td><td>Haines</td><td>Betty</td></tr>",
                            "<tr><td>48</td><td>Lucerne</td><td>Anita</td></tr>",
                            "<tr><td>56</td><td>Groth</td><td>Brian</td></tr>",
                            "<tr><td>66</td><td>Deborde</td><td>Alexander</td></tr>",
                            "<tr><td>74</td><td>Bright</td><td>Christopher</td></tr>",
                            "<tr><td>75</td><td>Delaney</td><td>Aidan</td></tr>",
                            "<tr><td>96</td><td>Lepro</td><td>Bonnie</td></tr>",
                            "<tr><td>106</td><td>Thomsen</td><td>Andrea</td></tr>",
                            "<tr><td>129</td><td>Coffman</td><td>Connie</td></tr>",
                            "<tr><td>147</td><td>Clark</td><td>Alice</td></tr>",
                            "<tr><td>148</td><td>Brewer</td><td>Alan</td></tr>",
                            "<tr><td>149</td><td>Brandon</td><td>Cornelius</td></tr>",
                            "<tr><td>154</td><td>Carlisle</td><td>Carlton</td></tr>",
                            "<tr><td>160</td><td>Cavendish</td><td>Brigid</td></tr>",
                            "<tr><td>163</td><td>Cencini</td><td>Andrew</td></tr>",
                            "<tr><td>164</td><td>Dodd</td><td>Cindy</td></tr>",
                            "<tr><td>167</td><td>Dockter</td><td>Blaine</td></tr>",
                            "<tr><td>169</td><td>Diaz</td><td>Brenda</td></tr>",
                            "<tr><td>202</td><td>Leonetti</td><td>A.</td></tr>",
                            "<tr><td>217</td><td>Maxwell</td><td>Chris</td></tr>",
                            "<tr><td>219</td><td>Johnson</td><td>Brian</td></tr>",
                            "<tr><td>222</td><td>Johnson</td><td>Barry</td></tr>",
                            "<tr><td>244</td><td>Jacobs</td><td>Bronson</td></tr>",
                            "<tr><td>262</td><td>Inghram</td><td>Beth</td></tr>",
                            "<tr><td>273</td><td>Trujillo</td><td>Christie</td></tr>",
                            "<tr><td>275</td><td>Cannon</td><td>Chris</td></tr>",
                            "<tr><td>282</td><td>Trent</td><td>Billy</td></tr>",
                            "<tr><td>293</td><td>Cunningham</td><td>Conor</td></tr>",
                            "<tr><td>294</td><td>Baltazar</td><td>Alberto</td></tr>",
                            "<tr><td>311</td><td>De Matos Miranda Filho</td><td>Alvaro</td></tr>",
                            "<tr><td>316</td><td>Miller</td><td>Ben</td></tr>",
                            "<tr><td>318</td><td>Beebe</td><td>Ann</td></tr>",
                            "<tr><td>327</td><td>Vicknair</td><td>Caroline</td></tr>",
                            "<tr><td>329</td><td>Berglund</td><td>Andreas</td></tr>",
                            "<tr><td>336</td><td>Goldstein</td><td>Brian</td></tr>",
                            "<tr><td>345</td><td>Gonzalez</td><td>Abigail</td></tr>",
                            "<tr><td>363</td><td>Ashton</td><td>Chris</td></tr>",
                            "<tr><td>371</td><td>Costa Da Silva</td><td>Bruno</td></tr>",
                            "<tr><td>384</td><td>Tatman</td><td>Clarence</td></tr>",
                            "<tr><td>394</td><td>Kearney</td><td>Bonnie</td></tr>",
                            "<tr><td>399</td><td>Tedford</td><td>Chad</td></tr>",
                            "<tr><td>408</td><td>Berger</td><td>Alexander</td></tr>",
                            "<tr><td>416</td><td>Barbariol</td><td>Angela</td></tr>",
                            "<tr><td>420</td><td>Chor</td><td>Anthony</td></tr>",
                            "<tr><td>435</td><td>Elliott</td><td>Carol</td></tr>",
                            "<tr><td>436</td><td>Calone</td><td>Barbara</td></tr>",
                            "<tr><td>438</td><td>Booth</td><td>Cory</td></tr>",
                            "<tr><td>462</td><td>Gage</td><td>Bob</td></tr>",
                            "<tr><td>472</td><td>Evans</td><td>Ann</td></tr>",
                            "<tr><td>497</td><td>Alberts</td><td>Amy</td></tr>",
                            "<tr><td>505</td><td>Sutton</td><td>Brad</td></tr>",
                            "<tr><td>511</td><td>Swearengin</td><td>Abraham</td></tr>",
                            "<tr><td>542</td><td>Kobylinski</td><td>Andrew</td></tr>",
                            "<tr><td>545</td><td>Kleinerman</td><td>Christian</td></tr>",
                            "<tr><td>546</td><td>Kirilov</td><td>Anton</td></tr>",
                            "<tr><td>568</td><td>Howard</td><td>Curtis</td></tr>",
                            "<tr><td>569</td><td>Allison</td><td>Cecil</td></tr>",
                            "<tr><td>578</td><td>Farino</td><td>Carolyn</td></tr>",
                            "<tr><td>582</td><td>Abel</td><td>Catherine</td></tr>",
                            "<tr><td>595</td><td>Steiner</td><td>Alan</td></tr>",
                            "<tr><td>597</td><td>Hodges</td><td>Bob</td></tr>",
                            "<tr><td>607</td><td>Steiner</td><td>Alice</td></tr>",
                            "<tr><td>617</td><td>Huff</td><td>Arlene</td></tr>",
                            "<tr><td>630</td><td>Hill</td><td>Andrew</td></tr>",
                            "<tr><td>648</td><td>Herring</td><td>Cheryl</td></tr>",
                            "<tr><td>659</td><td>Manchepalli</td><td>Ajay</td></tr>",
                            "<tr><td>677</td><td>Marshall</td><td>Cecelia</td></tr>",
                            "<tr><td>679</td><td>Heaney</td><td>Brenda</td></tr>",
                            "<tr><td>692</td><td>Desalvo</td><td>Bev</td></tr>",
                            "<tr><td>693</td><td>Duncan</td><td>Bart</td></tr>",
                            "<tr><td>694</td><td>Hass</td><td>Ann</td></tr>",
                            "<tr><td>698</td><td>Carothers</td><td>Andy</td></tr>",
                            "<tr><td>29485</td><td>Abel</td><td>Catherine</td></tr>",
                            "<tr><td>29499</td><td>Alberts</td><td>Amy</td></tr>",
                            "<tr><td>29510</td><td>Allison</td><td>Cecil</td></tr>",
                            "<tr><td>29524</td><td>Ashton</td><td>Chris</td></tr>",
                            "<tr><td>29531</td><td>Booth</td><td>Cory</td></tr>",
                            "<tr><td>29546</td><td>Beck</td><td>Christopher</td></tr>",
                            "<tr><td>29548</td><td>Beebe</td><td>Ann</td></tr>",
                            "<tr><td>29557</td><td>Berger</td><td>Alexander</td></tr>",
                            "<tr><td>29579</td><td>Brandon</td><td>Cornelius</td></tr>",
                            "<tr><td>29583</td><td>Brewer</td><td>Alan</td></tr>",
                            "<tr><td>29585</td><td>Bright</td><td>Christopher</td></tr>",
                            "<tr><td>29616</td><td>Calone</td><td>Barbara</td></tr>",
                            "<tr><td>29623</td><td>Cannon</td><td>Chris</td></tr>",
                            "<tr><td>29629</td><td>Carlisle</td><td>Carlton</td></tr>",
                            "<tr><td>29636</td><td>Carothers</td><td>Andy</td></tr>",
                            "<tr><td>29644</td><td>Cavendish</td><td>Brigid</td></tr>",
                            "<tr><td>29645</td><td>Cencini</td><td>Andrew</td></tr>",
                            "<tr><td>29660</td><td>Chor</td><td>Anthony</td></tr>",
                            "<tr><td>29663</td><td>Clark</td><td>Alice</td></tr>",
                            "<tr><td>29668</td><td>Coffman</td><td>Connie</td></tr>",
                            "<tr><td>29690</td><td>Cunningham</td><td>Conor</td></tr>",
                            "<tr><td>29696</td><td>De Matos Miranda Filho</td><td>Alvaro</td></tr>",
                            "<tr><td>29699</td><td>Deborde</td><td>Alexander</td></tr>",
                            "<tr><td>29702</td><td>Delaney</td><td>Aidan</td></tr>",
                            "<tr><td>29709</td><td>Desalvo</td><td>Bev</td></tr>",
                            "<tr><td>29710</td><td>Diaz</td><td>Brenda</td></tr>",
                            "<tr><td>29716</td><td>Dockter</td><td>Blaine</td></tr>",
                            "<tr><td>29717</td><td>Dodd</td><td>Cindy</td></tr>",
                            "<tr><td>29727</td><td>Duncan</td><td>Bart</td></tr>",
                            "<tr><td>29732</td><td>Elliott</td><td>Carol</td></tr>",
                            "<tr><td>29743</td><td>Evans</td><td>Ann</td></tr>",
                            "<tr><td>29747</td><td>Farino</td><td>Carolyn</td></tr>",
                            "<tr><td>29766</td><td>Gage</td><td>Bob</td></tr>",
                            "<tr><td>29776</td><td>German</td><td>Barbara</td></tr>",
                            "<tr><td>29789</td><td>Goldstein</td><td>Brian</td></tr>",
                            "<tr><td>29792</td><td>Gonzalez</td><td>Abigail</td></tr>",
                            "<tr><td>29800</td><td>Groth</td><td>Brian</td></tr>",
                            "<tr><td>29806</td><td>Haines</td><td>Betty</td></tr>",
                            "<tr><td>29807</td><td>Hamilton</td><td>Bryan</td></tr>",
                            "<tr><td>29819</td><td>Hass</td><td>Ann</td></tr>",
                            "<tr><td>29824</td><td>Heaney</td><td>Brenda</td></tr>",
                            "<tr><td>29834</td><td>Herring</td><td>Cheryl</td></tr>",
                            "<tr><td>29840</td><td>Hill</td><td>Andrew</td></tr>",
                            "<tr><td>29850</td><td>Hodges</td><td>Bob</td></tr>",
                            "<tr><td>29855</td><td>Howard</td><td>Curtis</td></tr>",
                            "<tr><td>29860</td><td>Huff</td><td>Arlene</td></tr>",
                            "<tr><td>29864</td><td>Inghram</td><td>Beth</td></tr>",
                            "<tr><td>29870</td><td>Jacobs</td><td>Bronson</td></tr>",
                            "<tr><td>29883</td><td>Johnson</td><td>Barry</td></tr>",
                            "<tr><td>29884</td><td>Johnson</td><td>Brian</td></tr>",
                            "<tr><td>29913</td><td>Kirilov</td><td>Anton</td></tr>",
                            "<tr><td>29914</td><td>Kleinerman</td><td>Christian</td></tr>",
                            "<tr><td>29915</td><td>Kobylinski</td><td>Andrew</td></tr>",
                            "<tr><td>29943</td><td>Leonetti</td><td>A.</td></tr>",
                            "<tr><td>29944</td><td>Lepro</td><td>Bonnie</td></tr>",
                            "<tr><td>29964</td><td>Lucerne</td><td>Anita</td></tr>",
                            "<tr><td>29978</td><td>Manchepalli</td><td>Ajay</td></tr>",
                            "<tr><td>29983</td><td>Marshall</td><td>Cecelia</td></tr>",
                            "<tr><td>29991</td><td>Maxwell</td><td>Chris</td></tr>",
                            "<tr><td>30021</td><td>Miller</td><td>Ben</td></tr>",
                            "<tr><td>30031</td><td>Steiner</td><td>Alan</td></tr>",
                            "<tr><td>30035</td><td>Steiner</td><td>Alice</td></tr>",
                            "<tr><td>30051</td><td>Sutton</td><td>Brad</td></tr>",
                            "<tr><td>30052</td><td>Swearengin</td><td>Abraham</td></tr>",
                            "<tr><td>30056</td><td>Tatman</td><td>Clarence</td></tr>",
                            "<tr><td>30061</td><td>Tedford</td><td>Chad</td></tr>",
                            "<tr><td>30072</td><td>Thomsen</td><td>Andrea</td></tr>",
                            "<tr><td>30087</td><td>Trent</td><td>Billy</td></tr>",
                            "<tr><td>30090</td><td>Trujillo</td><td>Christie</td></tr>",
                            "<tr><td>30118</td><td>Vicknair</td><td>Caroline</td></tr>",
                            "</table>"
                        ]
                    }
                }
            ],
            "execution_count": 3
        },
        {
            "cell_type": "markdown",
            "source": [
                "**9.** Write a query that displays the customerID, first name and last name for customers where the first character in the last name is not a letter in the range A through C\n",
                "\n",
                "Escreva uma consulta que mostre o ID do cliente, nome e sobrenome para os clientes onde o primeiro caractere no sobrenome não é uma letra na faixa de A a C"
            ],
            "metadata": {
                "azdata_cell_guid": "bb0e829f-54dc-46b0-ac14-81c9c6fcec16"
            },
            "attachments": {}
        },
        {
            "cell_type": "code",
            "source": [
                "SELECT CustomerID, FirstName, MiddleName \r\n",
                "FROM Customer\r\n",
                "WHERE MiddleName NOT LIKE '[AC]%'"
            ],
            "metadata": {
                "azdata_cell_guid": "ba5641ed-5e21-46d5-9402-e4618d74ba82"
            },
            "outputs": [
                {
                    "output_type": "display_data",
                    "data": {
                        "text/html": "(463 rows affected)"
                    },
                    "metadata": {}
                },
                {
                    "output_type": "display_data",
                    "data": {
                        "text/html": "Total execution time: 00:00:00.133"
                    },
                    "metadata": {}
                },
                {
                    "output_type": "execute_result",
                    "metadata": {},
                    "execution_count": 24,
                    "data": {
                        "application/vnd.dataresource+json": {
                            "schema": {
                                "fields": [
                                    {
                                        "name": "CustomerID"
                                    },
                                    {
                                        "name": "FirstName"
                                    },
                                    {
                                        "name": "MiddleName"
                                    }
                                ]
                            },
                            "data": [
                                {
                                    "0": "1",
                                    "1": "Orlando",
                                    "2": "N."
                                },
                                {
                                    "0": "3",
                                    "1": "Donna",
                                    "2": "F."
                                },
                                {
                                    "0": "4",
                                    "1": "Janet",
                                    "2": "M."
                                },
                                {
                                    "0": "6",
                                    "1": "Rosmarie",
                                    "2": "J."
                                },
                                {
                                    "0": "7",
                                    "1": "Dominic",
                                    "2": "P."
                                },
                                {
                                    "0": "10",
                                    "1": "Kathleen",
                                    "2": "M."
                                },
                                {
                                    "0": "16",
                                    "1": "Christopher",
                                    "2": "R."
                                },
                                {
                                    "0": "18",
                                    "1": "David",
                                    "2": "J."
                                },
                                {
                                    "0": "20",
                                    "1": "Jean",
                                    "2": "P."
                                },
                                {
                                    "0": "22",
                                    "1": "Linda",
                                    "2": "E."
                                },
                                {
                                    "0": "25",
                                    "1": "Donald",
                                    "2": "L."
                                },
                                {
                                    "0": "28",
                                    "1": "Jackie",
                                    "2": "E."
                                },
                                {
                                    "0": "30",
                                    "1": "Todd",
                                    "2": "R."
                                },
                                {
                                    "0": "34",
                                    "1": "Barbara",
                                    "2": "J."
                                },
                                {
                                    "0": "38",
                                    "1": "Betty",
                                    "2": "M."
                                },
                                {
                                    "0": "39",
                                    "1": "Sharon",
                                    "2": "J."
                                },
                                {
                                    "0": "41",
                                    "1": "Erin",
                                    "2": "M."
                                },
                                {
                                    "0": "46",
                                    "1": "David",
                                    "2": "O"
                                },
                                {
                                    "0": "47",
                                    "1": "Hattie",
                                    "2": "J."
                                },
                                {
                                    "0": "48",
                                    "1": "Anita",
                                    "2": "R."
                                },
                                {
                                    "0": "57",
                                    "1": "Judy",
                                    "2": "R."
                                },
                                {
                                    "0": "60",
                                    "1": "Sean",
                                    "2": "J."
                                },
                                {
                                    "0": "65",
                                    "1": "Jane",
                                    "2": "P."
                                },
                                {
                                    "0": "66",
                                    "1": "Alexander",
                                    "2": "J."
                                },
                                {
                                    "0": "73",
                                    "1": "Margaret",
                                    "2": "T."
                                },
                                {
                                    "0": "74",
                                    "1": "Christopher",
                                    "2": "M."
                                },
                                {
                                    "0": "76",
                                    "1": "James",
                                    "2": "J."
                                },
                                {
                                    "0": "82",
                                    "1": "James",
                                    "2": "D."
                                },
                                {
                                    "0": "83",
                                    "1": "Eric",
                                    "2": "J."
                                },
                                {
                                    "0": "84",
                                    "1": "Della",
                                    "2": "F."
                                },
                                {
                                    "0": "88",
                                    "1": "Pamala",
                                    "2": "M."
                                },
                                {
                                    "0": "91",
                                    "1": "Joy",
                                    "2": "R."
                                },
                                {
                                    "0": "95",
                                    "1": "Jane",
                                    "2": "N."
                                },
                                {
                                    "0": "96",
                                    "1": "Bonnie",
                                    "2": "B."
                                },
                                {
                                    "0": "100",
                                    "1": "Kirk",
                                    "2": "T"
                                },
                                {
                                    "0": "101",
                                    "1": "William",
                                    "2": "J."
                                },
                                {
                                    "0": "109",
                                    "1": "Daniel",
                                    "2": "P."
                                },
                                {
                                    "0": "110",
                                    "1": "Kendra",
                                    "2": "N."
                                },
                                {
                                    "0": "112",
                                    "1": "Elsie",
                                    "2": "L."
                                },
                                {
                                    "0": "113",
                                    "1": "Donald",
                                    "2": "M."
                                },
                                {
                                    "0": "114",
                                    "1": "John",
                                    "2": "L."
                                },
                                {
                                    "0": "115",
                                    "1": "George",
                                    "2": "Z."
                                },
                                {
                                    "0": "127",
                                    "1": "Joseph",
                                    "2": "M."
                                },
                                {
                                    "0": "128",
                                    "1": "Judy",
                                    "2": "J."
                                },
                                {
                                    "0": "129",
                                    "1": "Connie",
                                    "2": "L."
                                },
                                {
                                    "0": "130",
                                    "1": "Paulo",
                                    "2": "H."
                                },
                                {
                                    "0": "131",
                                    "1": "Vanessa",
                                    "2": "J."
                                },
                                {
                                    "0": "132",
                                    "1": "Teanna",
                                    "2": "M."
                                },
                                {
                                    "0": "137",
                                    "1": "Gytis",
                                    "2": "M"
                                },
                                {
                                    "0": "149",
                                    "1": "Cornelius",
                                    "2": "L."
                                },
                                {
                                    "0": "150",
                                    "1": "Jill",
                                    "2": "J."
                                },
                                {
                                    "0": "151",
                                    "1": "Walter",
                                    "2": "J."
                                },
                                {
                                    "0": "154",
                                    "1": "Carlton",
                                    "2": "M."
                                },
                                {
                                    "0": "155",
                                    "1": "Joseph",
                                    "2": "N."
                                },
                                {
                                    "0": "156",
                                    "1": "Lester",
                                    "2": "J."
                                },
                                {
                                    "0": "160",
                                    "1": "Brigid",
                                    "2": "F."
                                },
                                {
                                    "0": "164",
                                    "1": "Cindy",
                                    "2": "M."
                                },
                                {
                                    "0": "166",
                                    "1": "Stacey",
                                    "2": "M."
                                },
                                {
                                    "0": "173",
                                    "1": "Rudolph",
                                    "2": "J."
                                },
                                {
                                    "0": "174",
                                    "1": "Michael",
                                    "2": "L."
                                },
                                {
                                    "0": "180",
                                    "1": "Nicky",
                                    "2": "E."
                                },
                                {
                                    "0": "181",
                                    "1": "Michael",
                                    "2": "J."
                                },
                                {
                                    "0": "184",
                                    "1": "Marjorie",
                                    "2": "M."
                                },
                                {
                                    "0": "191",
                                    "1": "Sandra",
                                    "2": "T."
                                },
                                {
                                    "0": "197",
                                    "1": "Diane",
                                    "2": "F."
                                },
                                {
                                    "0": "198",
                                    "1": "Payton",
                                    "2": "P."
                                },
                                {
                                    "0": "200",
                                    "1": "Peggy",
                                    "2": "J."
                                },
                                {
                                    "0": "201",
                                    "1": "Edna",
                                    "2": "J."
                                },
                                {
                                    "0": "202",
                                    "1": "A.",
                                    "2": "Francesca"
                                },
                                {
                                    "0": "209",
                                    "1": "Robert",
                                    "2": "E."
                                },
                                {
                                    "0": "214",
                                    "1": "Jennifer",
                                    "2": "J."
                                },
                                {
                                    "0": "221",
                                    "1": "Sandra",
                                    "2": "B."
                                },
                                {
                                    "0": "226",
                                    "1": "Vance",
                                    "2": "P."
                                },
                                {
                                    "0": "227",
                                    "1": "Robin",
                                    "2": "M."
                                },
                                {
                                    "0": "228",
                                    "1": "Danielle",
                                    "2": "B."
                                },
                                {
                                    "0": "236",
                                    "1": "Lola",
                                    "2": "M."
                                },
                                {
                                    "0": "237",
                                    "1": "Mary",
                                    "2": "K."
                                },
                                {
                                    "0": "238",
                                    "1": "Jodan",
                                    "2": "M."
                                },
                                {
                                    "0": "240",
                                    "1": "Jessie",
                                    "2": "E."
                                },
                                {
                                    "0": "244",
                                    "1": "Bronson",
                                    "2": "R."
                                },
                                {
                                    "0": "245",
                                    "1": "James",
                                    "2": "L."
                                },
                                {
                                    "0": "246",
                                    "1": "Esther",
                                    "2": "K."
                                },
                                {
                                    "0": "250",
                                    "1": "Denean",
                                    "2": "J."
                                },
                                {
                                    "0": "254",
                                    "1": "Robert",
                                    "2": "M."
                                },
                                {
                                    "0": "256",
                                    "1": "Richard",
                                    "2": "L."
                                },
                                {
                                    "0": "263",
                                    "1": "Timothy",
                                    "2": "B."
                                },
                                {
                                    "0": "264",
                                    "1": "Phyllis",
                                    "2": "B."
                                },
                                {
                                    "0": "271",
                                    "1": "Jared",
                                    "2": "L."
                                },
                                {
                                    "0": "272",
                                    "1": "Henry",
                                    "2": "L."
                                },
                                {
                                    "0": "273",
                                    "1": "Christie",
                                    "2": "J."
                                },
                                {
                                    "0": "274",
                                    "1": "Janet",
                                    "2": "J."
                                },
                                {
                                    "0": "276",
                                    "1": "Michael John",
                                    "2": "R."
                                },
                                {
                                    "0": "280",
                                    "1": "Frances",
                                    "2": "J."
                                },
                                {
                                    "0": "282",
                                    "1": "Billy",
                                    "2": "J."
                                },
                                {
                                    "0": "288",
                                    "1": "Robert",
                                    "2": "L."
                                },
                                {
                                    "0": "289",
                                    "1": "Gabriel",
                                    "2": "L."
                                },
                                {
                                    "0": "291",
                                    "1": "Wayne",
                                    "2": "N."
                                },
                                {
                                    "0": "292",
                                    "1": "Michael",
                                    "2": "Greg"
                                },
                                {
                                    "0": "294",
                                    "1": "Alberto",
                                    "2": "F."
                                },
                                {
                                    "0": "295",
                                    "1": "Joseph",
                                    "2": "P."
                                },
                                {
                                    "0": "306",
                                    "1": "Stephen",
                                    "2": "M."
                                },
                                {
                                    "0": "307",
                                    "1": "Neva",
                                    "2": "M."
                                },
                                {
                                    "0": "308",
                                    "1": "Megan",
                                    "2": "N."
                                },
                                {
                                    "0": "312",
                                    "1": "Thomas",
                                    "2": "B."
                                },
                                {
                                    "0": "317",
                                    "1": "Jacob",
                                    "2": "N."
                                },
                                {
                                    "0": "322",
                                    "1": "Matthew",
                                    "2": "J."
                                },
                                {
                                    "0": "325",
                                    "1": "Virginia",
                                    "2": "L."
                                },
                                {
                                    "0": "328",
                                    "1": "Robert",
                                    "2": "R."
                                },
                                {
                                    "0": "331",
                                    "1": "Wanda",
                                    "2": "F."
                                },
                                {
                                    "0": "334",
                                    "1": "Dora",
                                    "2": "P."
                                },
                                {
                                    "0": "335",
                                    "1": "John",
                                    "2": "M."
                                },
                                {
                                    "0": "336",
                                    "1": "Brian",
                                    "2": "R"
                                },
                                {
                                    "0": "340",
                                    "1": "Raja",
                                    "2": "D."
                                },
                                {
                                    "0": "343",
                                    "1": "Patricia",
                                    "2": "M."
                                },
                                {
                                    "0": "344",
                                    "1": "Karren",
                                    "2": "K."
                                },
                                {
                                    "0": "345",
                                    "1": "Abigail",
                                    "2": "J."
                                },
                                {
                                    "0": "346",
                                    "1": "Ranjit",
                                    "2": "Rudra"
                                },
                                {
                                    "0": "347",
                                    "1": "Ingrid",
                                    "2": "K."
                                },
                                {
                                    "0": "348",
                                    "1": "Oscar",
                                    "2": "L."
                                },
                                {
                                    "0": "349",
                                    "1": "Gary",
                                    "2": "T"
                                },
                                {
                                    "0": "352",
                                    "1": "Shane",
                                    "2": "S."
                                },
                                {
                                    "0": "353",
                                    "1": "Joan",
                                    "2": "M."
                                },
                                {
                                    "0": "354",
                                    "1": "Maxwell",
                                    "2": "J."
                                },
                                {
                                    "0": "360",
                                    "1": "Ramona",
                                    "2": "J."
                                },
                                {
                                    "0": "367",
                                    "1": "Tammy",
                                    "2": "J."
                                },
                                {
                                    "0": "372",
                                    "1": "Katherine",
                                    "2": "K."
                                },
                                {
                                    "0": "376",
                                    "1": "Mary",
                                    "2": "R."
                                },
                                {
                                    "0": "377",
                                    "1": "Marlin",
                                    "2": "M."
                                },
                                {
                                    "0": "384",
                                    "1": "Clarence",
                                    "2": "R."
                                },
                                {
                                    "0": "389",
                                    "1": "Dorothy",
                                    "2": "J."
                                },
                                {
                                    "0": "390",
                                    "1": "Mike",
                                    "2": "M."
                                },
                                {
                                    "0": "395",
                                    "1": "June",
                                    "2": "B."
                                },
                                {
                                    "0": "398",
                                    "1": "Shirley",
                                    "2": "R."
                                },
                                {
                                    "0": "399",
                                    "1": "Chad",
                                    "2": "J."
                                },
                                {
                                    "0": "401",
                                    "1": "Tom",
                                    "2": "H"
                                },
                                {
                                    "0": "402",
                                    "1": "Marian",
                                    "2": "M."
                                },
                                {
                                    "0": "403",
                                    "1": "Juanita",
                                    "2": "J."
                                },
                                {
                                    "0": "406",
                                    "1": "Eddie",
                                    "2": "M."
                                },
                                {
                                    "0": "408",
                                    "1": "Alexander",
                                    "2": "J."
                                },
                                {
                                    "0": "412",
                                    "1": "Jean",
                                    "2": "J."
                                },
                                {
                                    "0": "418",
                                    "1": "Lee",
                                    "2": "J."
                                },
                                {
                                    "0": "419",
                                    "1": "Darrell",
                                    "2": "M."
                                },
                                {
                                    "0": "421",
                                    "1": "Forrest",
                                    "2": "J."
                                },
                                {
                                    "0": "425",
                                    "1": "Stephen",
                                    "2": "Yuan"
                                },
                                {
                                    "0": "426",
                                    "1": "Dirk",
                                    "2": "J."
                                },
                                {
                                    "0": "433",
                                    "1": "Lindsey",
                                    "2": "R."
                                },
                                {
                                    "0": "434",
                                    "1": "James",
                                    "2": "B."
                                },
                                {
                                    "0": "435",
                                    "1": "Carol",
                                    "2": "B."
                                },
                                {
                                    "0": "436",
                                    "1": "Barbara",
                                    "2": "J."
                                },
                                {
                                    "0": "437",
                                    "1": "Megan",
                                    "2": "E."
                                },
                                {
                                    "0": "438",
                                    "1": "Cory",
                                    "2": "K."
                                },
                                {
                                    "0": "439",
                                    "1": "Shannon",
                                    "2": "P."
                                },
                                {
                                    "0": "442",
                                    "1": "Jauna",
                                    "2": "E."
                                },
                                {
                                    "0": "452",
                                    "1": "Olga",
                                    "2": "J."
                                },
                                {
                                    "0": "455",
                                    "1": "James",
                                    "2": "R."
                                },
                                {
                                    "0": "457",
                                    "1": "Mark",
                                    "2": "B"
                                },
                                {
                                    "0": "460",
                                    "1": "Martha",
                                    "2": "R."
                                },
                                {
                                    "0": "461",
                                    "1": "Glenn",
                                    "2": "J."
                                },
                                {
                                    "0": "468",
                                    "1": "Paul",
                                    "2": "J."
                                },
                                {
                                    "0": "469",
                                    "1": "Twanna",
                                    "2": "R."
                                },
                                {
                                    "0": "470",
                                    "1": "Delia",
                                    "2": "B."
                                },
                                {
                                    "0": "472",
                                    "1": "Ann",
                                    "2": "R."
                                },
                                {
                                    "0": "473",
                                    "1": "Kay",
                                    "2": "E."
                                },
                                {
                                    "0": "478",
                                    "1": "Ruby Sue",
                                    "2": "R."
                                },
                                {
                                    "0": "480",
                                    "1": "Susan",
                                    "2": "E."
                                },
                                {
                                    "0": "484",
                                    "1": "Gary",
                                    "2": "J."
                                },
                                {
                                    "0": "487",
                                    "1": "Ruth",
                                    "2": "J."
                                },
                                {
                                    "0": "488",
                                    "1": "Margaret",
                                    "2": "J."
                                },
                                {
                                    "0": "489",
                                    "1": "Dorothy",
                                    "2": "J."
                                },
                                {
                                    "0": "490",
                                    "1": "Elizabeth",
                                    "2": "J."
                                },
                                {
                                    "0": "491",
                                    "1": "Frances",
                                    "2": "B."
                                },
                                {
                                    "0": "496",
                                    "1": "Marcia",
                                    "2": "J."
                                },
                                {
                                    "0": "497",
                                    "1": "Amy",
                                    "2": "E."
                                },
                                {
                                    "0": "504",
                                    "1": "Mae",
                                    "2": "M."
                                },
                                {
                                    "0": "508",
                                    "1": "Martin",
                                    "2": "J."
                                },
                                {
                                    "0": "509",
                                    "1": "Robert",
                                    "2": "E."
                                },
                                {
                                    "0": "511",
                                    "1": "Abraham",
                                    "2": "L."
                                },
                                {
                                    "0": "516",
                                    "1": "Thomas",
                                    "2": "R."
                                },
                                {
                                    "0": "520",
                                    "1": "Mari",
                                    "2": "B."
                                },
                                {
                                    "0": "523",
                                    "1": "Mary",
                                    "2": "M."
                                },
                                {
                                    "0": "526",
                                    "1": "David",
                                    "2": "L."
                                },
                                {
                                    "0": "528",
                                    "1": "Helen",
                                    "2": "M."
                                },
                                {
                                    "0": "529",
                                    "1": "Jeanie",
                                    "2": "R."
                                },
                                {
                                    "0": "532",
                                    "1": "Diane",
                                    "2": "R."
                                },
                                {
                                    "0": "538",
                                    "1": "John",
                                    "2": "R."
                                },
                                {
                                    "0": "541",
                                    "1": "Willie",
                                    "2": "P."
                                },
                                {
                                    "0": "542",
                                    "1": "Andrew",
                                    "2": "P."
                                },
                                {
                                    "0": "543",
                                    "1": "R. Morgan",
                                    "2": "L."
                                },
                                {
                                    "0": "547",
                                    "1": "Gladys",
                                    "2": "F."
                                },
                                {
                                    "0": "551",
                                    "1": "Samuel",
                                    "2": "N."
                                },
                                {
                                    "0": "560",
                                    "1": "Paul",
                                    "2": "L."
                                },
                                {
                                    "0": "561",
                                    "1": "Marvin",
                                    "2": "N."
                                },
                                {
                                    "0": "563",
                                    "1": "Sean",
                                    "2": "P."
                                },
                                {
                                    "0": "565",
                                    "1": "Richard",
                                    "2": "M."
                                },
                                {
                                    "0": "568",
                                    "1": "Curtis",
                                    "2": "P."
                                },
                                {
                                    "0": "569",
                                    "1": "Cecil",
                                    "2": "J."
                                },
                                {
                                    "0": "570",
                                    "1": "Gregory",
                                    "2": "F."
                                },
                                {
                                    "0": "574",
                                    "1": "Janice",
                                    "2": "K."
                                },
                                {
                                    "0": "577",
                                    "1": "George",
                                    "2": "M."
                                },
                                {
                                    "0": "580",
                                    "1": "Joshua",
                                    "2": "J."
                                },
                                {
                                    "0": "581",
                                    "1": "Geri",
                                    "2": "P."
                                },
                                {
                                    "0": "582",
                                    "1": "Catherine",
                                    "2": "R."
                                },
                                {
                                    "0": "586",
                                    "1": "Shanay",
                                    "2": "B."
                                },
                                {
                                    "0": "587",
                                    "1": "Rhoda",
                                    "2": "J."
                                },
                                {
                                    "0": "599",
                                    "1": "Raul",
                                    "2": "E."
                                },
                                {
                                    "0": "600",
                                    "1": "Holly",
                                    "2": "J."
                                },
                                {
                                    "0": "601",
                                    "1": "Vassar",
                                    "2": "J."
                                },
                                {
                                    "0": "604",
                                    "1": "Wathalee",
                                    "2": "R."
                                },
                                {
                                    "0": "605",
                                    "1": "Matthew",
                                    "2": "J."
                                },
                                {
                                    "0": "607",
                                    "1": "Alice",
                                    "2": "M."
                                },
                                {
                                    "0": "608",
                                    "1": "Steven",
                                    "2": "B."
                                },
                                {
                                    "0": "610",
                                    "1": "Liza Marie",
                                    "2": "N."
                                },
                                {
                                    "0": "620",
                                    "1": "Matthew",
                                    "2": "M."
                                },
                                {
                                    "0": "622",
                                    "1": "Robert",
                                    "2": "B."
                                },
                                {
                                    "0": "623",
                                    "1": "Phyllis",
                                    "2": "R."
                                },
                                {
                                    "0": "625",
                                    "1": "Kayla",
                                    "2": "M."
                                },
                                {
                                    "0": "626",
                                    "1": "Lawrence",
                                    "2": "E."
                                },
                                {
                                    "0": "630",
                                    "1": "Andrew",
                                    "2": "R."
                                },
                                {
                                    "0": "631",
                                    "1": "Robert",
                                    "2": "P."
                                },
                                {
                                    "0": "641",
                                    "1": "Rose",
                                    "2": "M."
                                },
                                {
                                    "0": "643",
                                    "1": "Denise",
                                    "2": "R."
                                },
                                {
                                    "0": "644",
                                    "1": "Gregory",
                                    "2": "T."
                                },
                                {
                                    "0": "645",
                                    "1": "Ronald",
                                    "2": "K."
                                },
                                {
                                    "0": "648",
                                    "1": "Cheryl",
                                    "2": "M."
                                },
                                {
                                    "0": "649",
                                    "1": "Walter",
                                    "2": "J."
                                },
                                {
                                    "0": "650",
                                    "1": "Margaret",
                                    "2": "J."
                                },
                                {
                                    "0": "653",
                                    "1": "Kara",
                                    "2": "N."
                                },
                                {
                                    "0": "655",
                                    "1": "Irene",
                                    "2": "J."
                                },
                                {
                                    "0": "660",
                                    "1": "Nieves",
                                    "2": "J."
                                },
                                {
                                    "0": "665",
                                    "1": "Tomas",
                                    "2": "M."
                                },
                                {
                                    "0": "668",
                                    "1": "Kathy",
                                    "2": "R."
                                },
                                {
                                    "0": "670",
                                    "1": "Valerie",
                                    "2": "M."
                                },
                                {
                                    "0": "671",
                                    "1": "Jill",
                                    "2": "K."
                                },
                                {
                                    "0": "672",
                                    "1": "Gerald",
                                    "2": "M."
                                },
                                {
                                    "0": "674",
                                    "1": "Melissa",
                                    "2": "R."
                                },
                                {
                                    "0": "677",
                                    "1": "Cecelia",
                                    "2": "L."
                                },
                                {
                                    "0": "679",
                                    "1": "Brenda",
                                    "2": "F."
                                },
                                {
                                    "0": "685",
                                    "1": "James",
                                    "2": "B."
                                },
                                {
                                    "0": "689",
                                    "1": "Sandra",
                                    "2": "I."
                                },
                                {
                                    "0": "692",
                                    "1": "Bev",
                                    "2": "L."
                                },
                                {
                                    "0": "694",
                                    "1": "Ann",
                                    "2": "T."
                                },
                                {
                                    "0": "701",
                                    "1": "Linda",
                                    "2": "R."
                                },
                                {
                                    "0": "29485",
                                    "1": "Catherine",
                                    "2": "R."
                                },
                                {
                                    "0": "29489",
                                    "1": "Frances",
                                    "2": "B."
                                },
                                {
                                    "0": "29490",
                                    "1": "Margaret",
                                    "2": "J."
                                },
                                {
                                    "0": "29494",
                                    "1": "Samuel",
                                    "2": "N."
                                },
                                {
                                    "0": "29496",
                                    "1": "Robert",
                                    "2": "E."
                                },
                                {
                                    "0": "29499",
                                    "1": "Amy",
                                    "2": "E."
                                },
                                {
                                    "0": "29502",
                                    "1": "Paul",
                                    "2": "L."
                                },
                                {
                                    "0": "29503",
                                    "1": "Gregory",
                                    "2": "F."
                                },
                                {
                                    "0": "29506",
                                    "1": "Sean",
                                    "2": "P."
                                },
                                {
                                    "0": "29508",
                                    "1": "Marvin",
                                    "2": "N."
                                },
                                {
                                    "0": "29510",
                                    "1": "Cecil",
                                    "2": "J."
                                },
                                {
                                    "0": "29511",
                                    "1": "Oscar",
                                    "2": "L."
                                },
                                {
                                    "0": "29515",
                                    "1": "Maxwell",
                                    "2": "J."
                                },
                                {
                                    "0": "29517",
                                    "1": "Ramona",
                                    "2": "J."
                                },
                                {
                                    "0": "29521",
                                    "1": "Tom",
                                    "2": "H"
                                },
                                {
                                    "0": "29522",
                                    "1": "Thomas",
                                    "2": "B."
                                },
                                {
                                    "0": "29528",
                                    "1": "Stephen",
                                    "2": "M."
                                },
                                {
                                    "0": "29531",
                                    "1": "Cory",
                                    "2": "K."
                                },
                                {
                                    "0": "29532",
                                    "1": "James",
                                    "2": "B."
                                },
                                {
                                    "0": "29535",
                                    "1": "Wayne",
                                    "2": "N."
                                },
                                {
                                    "0": "29536",
                                    "1": "Robert",
                                    "2": "L."
                                },
                                {
                                    "0": "29541",
                                    "1": "Gytis",
                                    "2": "M"
                                },
                                {
                                    "0": "29546",
                                    "1": "Christopher",
                                    "2": "R."
                                },
                                {
                                    "0": "29553",
                                    "1": "Edna",
                                    "2": "J."
                                },
                                {
                                    "0": "29554",
                                    "1": "Payton",
                                    "2": "P."
                                },
                                {
                                    "0": "29557",
                                    "1": "Alexander",
                                    "2": "J."
                                },
                                {
                                    "0": "29558",
                                    "1": "John",
                                    "2": "M."
                                },
                                {
                                    "0": "29559",
                                    "1": "Robert",
                                    "2": "M."
                                },
                                {
                                    "0": "29562",
                                    "1": "Steven",
                                    "2": "B."
                                },
                                {
                                    "0": "29566",
                                    "1": "Mae",
                                    "2": "M."
                                },
                                {
                                    "0": "29567",
                                    "1": "Jackie",
                                    "2": "E."
                                },
                                {
                                    "0": "29568",
                                    "1": "Donald",
                                    "2": "L."
                                },
                                {
                                    "0": "29569",
                                    "1": "Linda",
                                    "2": "E."
                                },
                                {
                                    "0": "29570",
                                    "1": "Michael",
                                    "2": "Greg"
                                },
                                {
                                    "0": "29571",
                                    "1": "Gabriel",
                                    "2": "L."
                                },
                                {
                                    "0": "29577",
                                    "1": "Lester",
                                    "2": "J."
                                },
                                {
                                    "0": "29579",
                                    "1": "Cornelius",
                                    "2": "L."
                                },
                                {
                                    "0": "29584",
                                    "1": "Walter",
                                    "2": "J."
                                },
                                {
                                    "0": "29585",
                                    "1": "Christopher",
                                    "2": "M."
                                },
                                {
                                    "0": "29587",
                                    "1": "John",
                                    "2": "R."
                                },
                                {
                                    "0": "29588",
                                    "1": "Willie",
                                    "2": "P."
                                },
                                {
                                    "0": "29593",
                                    "1": "Mary",
                                    "2": "K."
                                },
                                {
                                    "0": "29596",
                                    "1": "Eric",
                                    "2": "J."
                                },
                                {
                                    "0": "29599",
                                    "1": "Shirley",
                                    "2": "R."
                                },
                                {
                                    "0": "29600",
                                    "1": "June",
                                    "2": "B."
                                },
                                {
                                    "0": "29601",
                                    "1": "Dirk",
                                    "2": "J."
                                },
                                {
                                    "0": "29605",
                                    "1": "Megan",
                                    "2": "E."
                                },
                                {
                                    "0": "29606",
                                    "1": "Karren",
                                    "2": "K."
                                },
                                {
                                    "0": "29608",
                                    "1": "Timothy",
                                    "2": "B."
                                },
                                {
                                    "0": "29611",
                                    "1": "Jared",
                                    "2": "L."
                                },
                                {
                                    "0": "29615",
                                    "1": "Mari",
                                    "2": "B."
                                },
                                {
                                    "0": "29616",
                                    "1": "Barbara",
                                    "2": "J."
                                },
                                {
                                    "0": "29617",
                                    "1": "Lindsey",
                                    "2": "R."
                                },
                                {
                                    "0": "29620",
                                    "1": "Joan",
                                    "2": "M."
                                },
                                {
                                    "0": "29622",
                                    "1": "Henry",
                                    "2": "L."
                                },
                                {
                                    "0": "29629",
                                    "1": "Carlton",
                                    "2": "M."
                                },
                                {
                                    "0": "29631",
                                    "1": "Jane",
                                    "2": "N."
                                },
                                {
                                    "0": "29637",
                                    "1": "Donna",
                                    "2": "F."
                                },
                                {
                                    "0": "29638",
                                    "1": "Rosmarie",
                                    "2": "J."
                                },
                                {
                                    "0": "29639",
                                    "1": "Joseph",
                                    "2": "N."
                                },
                                {
                                    "0": "29641",
                                    "1": "Raul",
                                    "2": "E."
                                },
                                {
                                    "0": "29643",
                                    "1": "Matthew",
                                    "2": "J."
                                },
                                {
                                    "0": "29644",
                                    "1": "Brigid",
                                    "2": "F."
                                },
                                {
                                    "0": "29646",
                                    "1": "Stacey",
                                    "2": "M."
                                },
                                {
                                    "0": "29650",
                                    "1": "Forrest",
                                    "2": "J."
                                },
                                {
                                    "0": "29651",
                                    "1": "Lee",
                                    "2": "J."
                                },
                                {
                                    "0": "29655",
                                    "1": "Nicky",
                                    "2": "E."
                                },
                                {
                                    "0": "29662",
                                    "1": "Jill",
                                    "2": "J."
                                },
                                {
                                    "0": "29668",
                                    "1": "Connie",
                                    "2": "L."
                                },
                                {
                                    "0": "29673",
                                    "1": "John",
                                    "2": "L."
                                },
                                {
                                    "0": "29677",
                                    "1": "William",
                                    "2": "J."
                                },
                                {
                                    "0": "29680",
                                    "1": "Dorothy",
                                    "2": "J."
                                },
                                {
                                    "0": "29684",
                                    "1": "Marlin",
                                    "2": "M."
                                },
                                {
                                    "0": "29695",
                                    "1": "Megan",
                                    "2": "N."
                                },
                                {
                                    "0": "29698",
                                    "1": "Jacob",
                                    "2": "N."
                                },
                                {
                                    "0": "29699",
                                    "1": "Alexander",
                                    "2": "J."
                                },
                                {
                                    "0": "29705",
                                    "1": "Della",
                                    "2": "F."
                                },
                                {
                                    "0": "29709",
                                    "1": "Bev",
                                    "2": "L."
                                },
                                {
                                    "0": "29714",
                                    "1": "Rudolph",
                                    "2": "J."
                                },
                                {
                                    "0": "29717",
                                    "1": "Cindy",
                                    "2": "M."
                                },
                                {
                                    "0": "29720",
                                    "1": "Gerald",
                                    "2": "M."
                                },
                                {
                                    "0": "29730",
                                    "1": "Linda",
                                    "2": "R."
                                },
                                {
                                    "0": "29732",
                                    "1": "Carol",
                                    "2": "B."
                                },
                                {
                                    "0": "29733",
                                    "1": "Shannon",
                                    "2": "P."
                                },
                                {
                                    "0": "29734",
                                    "1": "Jauna",
                                    "2": "E."
                                },
                                {
                                    "0": "29739",
                                    "1": "Mark",
                                    "2": "B"
                                },
                                {
                                    "0": "29740",
                                    "1": "Martha",
                                    "2": "R."
                                },
                                {
                                    "0": "29742",
                                    "1": "Twanna",
                                    "2": "R."
                                },
                                {
                                    "0": "29743",
                                    "1": "Ann",
                                    "2": "R."
                                },
                                {
                                    "0": "29748",
                                    "1": "Geri",
                                    "2": "P."
                                },
                                {
                                    "0": "29750",
                                    "1": "Rhoda",
                                    "2": "J."
                                },
                                {
                                    "0": "29758",
                                    "1": "Dorothy",
                                    "2": "J."
                                },
                                {
                                    "0": "29761",
                                    "1": "Susan",
                                    "2": "E."
                                },
                                {
                                    "0": "29765",
                                    "1": "Paul",
                                    "2": "J."
                                },
                                {
                                    "0": "29770",
                                    "1": "Kathleen",
                                    "2": "M."
                                },
                                {
                                    "0": "29771",
                                    "1": "Dominic",
                                    "2": "P."
                                },
                                {
                                    "0": "29772",
                                    "1": "Janet",
                                    "2": "M."
                                },
                                {
                                    "0": "29773",
                                    "1": "Orlando",
                                    "2": "N."
                                },
                                {
                                    "0": "29776",
                                    "1": "Barbara",
                                    "2": "J."
                                },
                                {
                                    "0": "29780",
                                    "1": "Frances",
                                    "2": "J."
                                },
                                {
                                    "0": "29782",
                                    "1": "Janet",
                                    "2": "J."
                                },
                                {
                                    "0": "29783",
                                    "1": "Mary",
                                    "2": "M."
                                },
                                {
                                    "0": "29784",
                                    "1": "Jeanie",
                                    "2": "R."
                                },
                                {
                                    "0": "29785",
                                    "1": "Diane",
                                    "2": "R."
                                },
                                {
                                    "0": "29789",
                                    "1": "Brian",
                                    "2": "R"
                                },
                                {
                                    "0": "29792",
                                    "1": "Abigail",
                                    "2": "J."
                                },
                                {
                                    "0": "29797",
                                    "1": "Jane",
                                    "2": "P."
                                },
                                {
                                    "0": "29803",
                                    "1": "Hattie",
                                    "2": "J."
                                },
                                {
                                    "0": "29805",
                                    "1": "Erin",
                                    "2": "M."
                                },
                                {
                                    "0": "29806",
                                    "1": "Betty",
                                    "2": "M."
                                },
                                {
                                    "0": "29810",
                                    "1": "Jean",
                                    "2": "P."
                                },
                                {
                                    "0": "29819",
                                    "1": "Ann",
                                    "2": "T."
                                },
                                {
                                    "0": "29822",
                                    "1": "James",
                                    "2": "B."
                                },
                                {
                                    "0": "29824",
                                    "1": "Brenda",
                                    "2": "F."
                                },
                                {
                                    "0": "29827",
                                    "1": "Valerie",
                                    "2": "M."
                                },
                                {
                                    "0": "29831",
                                    "1": "Irene",
                                    "2": "J."
                                },
                                {
                                    "0": "29834",
                                    "1": "Cheryl",
                                    "2": "M."
                                },
                                {
                                    "0": "29835",
                                    "1": "Ronald",
                                    "2": "K."
                                },
                                {
                                    "0": "29840",
                                    "1": "Andrew",
                                    "2": "R."
                                },
                                {
                                    "0": "29851",
                                    "1": "Jean",
                                    "2": "J."
                                },
                                {
                                    "0": "29852",
                                    "1": "Eddie",
                                    "2": "M."
                                },
                                {
                                    "0": "29853",
                                    "1": "Juanita",
                                    "2": "J."
                                },
                                {
                                    "0": "29855",
                                    "1": "Curtis",
                                    "2": "P."
                                },
                                {
                                    "0": "29857",
                                    "1": "Janice",
                                    "2": "K."
                                },
                                {
                                    "0": "29858",
                                    "1": "George",
                                    "2": "M."
                                },
                                {
                                    "0": "29859",
                                    "1": "Joshua",
                                    "2": "J."
                                },
                                {
                                    "0": "29861",
                                    "1": "Phyllis",
                                    "2": "R."
                                },
                                {
                                    "0": "29862",
                                    "1": "Lawrence",
                                    "2": "E."
                                },
                                {
                                    "0": "29866",
                                    "1": "Richard",
                                    "2": "L."
                                },
                                {
                                    "0": "29868",
                                    "1": "Denean",
                                    "2": "J."
                                },
                                {
                                    "0": "29870",
                                    "1": "Bronson",
                                    "2": "R."
                                },
                                {
                                    "0": "29872",
                                    "1": "Jodan",
                                    "2": "M."
                                },
                                {
                                    "0": "29876",
                                    "1": "Vance",
                                    "2": "P."
                                },
                                {
                                    "0": "29879",
                                    "1": "Stephen",
                                    "2": "Yuan"
                                },
                                {
                                    "0": "29881",
                                    "1": "Danielle",
                                    "2": "B."
                                },
                                {
                                    "0": "29890",
                                    "1": "Peggy",
                                    "2": "J."
                                },
                                {
                                    "0": "29891",
                                    "1": "Diane",
                                    "2": "F."
                                },
                                {
                                    "0": "29892",
                                    "1": "Sandra",
                                    "2": "T."
                                },
                                {
                                    "0": "29897",
                                    "1": "Kay",
                                    "2": "E."
                                },
                                {
                                    "0": "29904",
                                    "1": "Mary",
                                    "2": "R."
                                },
                                {
                                    "0": "29910",
                                    "1": "Shane",
                                    "2": "S."
                                },
                                {
                                    "0": "29915",
                                    "1": "Andrew",
                                    "2": "P."
                                },
                                {
                                    "0": "29918",
                                    "1": "Kirk",
                                    "2": "T"
                                },
                                {
                                    "0": "29921",
                                    "1": "Joy",
                                    "2": "R."
                                },
                                {
                                    "0": "29922",
                                    "1": "Pamala",
                                    "2": "M."
                                },
                                {
                                    "0": "29925",
                                    "1": "Margaret",
                                    "2": "T."
                                },
                                {
                                    "0": "29934",
                                    "1": "David",
                                    "2": "O"
                                },
                                {
                                    "0": "29936",
                                    "1": "Michael",
                                    "2": "J."
                                },
                                {
                                    "0": "29937",
                                    "1": "Marjorie",
                                    "2": "M."
                                },
                                {
                                    "0": "29943",
                                    "1": "A.",
                                    "2": "Francesca"
                                },
                                {
                                    "0": "29944",
                                    "1": "Bonnie",
                                    "2": "B."
                                },
                                {
                                    "0": "29948",
                                    "1": "Elsie",
                                    "2": "L."
                                },
                                {
                                    "0": "29949",
                                    "1": "George",
                                    "2": "Z."
                                },
                                {
                                    "0": "29953",
                                    "1": "Joseph",
                                    "2": "M."
                                },
                                {
                                    "0": "29954",
                                    "1": "Paulo",
                                    "2": "H."
                                },
                                {
                                    "0": "29955",
                                    "1": "David",
                                    "2": "J."
                                },
                                {
                                    "0": "29959",
                                    "1": "Todd",
                                    "2": "R."
                                },
                                {
                                    "0": "29962",
                                    "1": "Sharon",
                                    "2": "J."
                                },
                                {
                                    "0": "29964",
                                    "1": "Anita",
                                    "2": "R."
                                },
                                {
                                    "0": "29967",
                                    "1": "Judy",
                                    "2": "R."
                                },
                                {
                                    "0": "29969",
                                    "1": "Robert",
                                    "2": "P."
                                },
                                {
                                    "0": "29973",
                                    "1": "Denise",
                                    "2": "R."
                                },
                                {
                                    "0": "29975",
                                    "1": "Walter",
                                    "2": "J."
                                },
                                {
                                    "0": "29980",
                                    "1": "Tomas",
                                    "2": "M."
                                },
                                {
                                    "0": "29981",
                                    "1": "Kathy",
                                    "2": "R."
                                },
                                {
                                    "0": "29982",
                                    "1": "Melissa",
                                    "2": "R."
                                },
                                {
                                    "0": "29983",
                                    "1": "Cecelia",
                                    "2": "L."
                                },
                                {
                                    "0": "29990",
                                    "1": "Jennifer",
                                    "2": "J."
                                },
                                {
                                    "0": "29992",
                                    "1": "Sandra",
                                    "2": "B."
                                },
                                {
                                    "0": "29994",
                                    "1": "Robin",
                                    "2": "M."
                                },
                                {
                                    "0": "29997",
                                    "1": "Lola",
                                    "2": "M."
                                },
                                {
                                    "0": "30000",
                                    "1": "James",
                                    "2": "L."
                                },
                                {
                                    "0": "30008",
                                    "1": "R. Morgan",
                                    "2": "L."
                                },
                                {
                                    "0": "30012",
                                    "1": "Helen",
                                    "2": "M."
                                },
                                {
                                    "0": "30016",
                                    "1": "Thomas",
                                    "2": "R."
                                },
                                {
                                    "0": "30018",
                                    "1": "Virginia",
                                    "2": "L."
                                },
                                {
                                    "0": "30019",
                                    "1": "Matthew",
                                    "2": "J."
                                },
                                {
                                    "0": "30024",
                                    "1": "Neva",
                                    "2": "M."
                                },
                                {
                                    "0": "30027",
                                    "1": "Joseph",
                                    "2": "P."
                                },
                                {
                                    "0": "30029",
                                    "1": "Shanay",
                                    "2": "B."
                                },
                                {
                                    "0": "30033",
                                    "1": "Vassar",
                                    "2": "J."
                                },
                                {
                                    "0": "30034",
                                    "1": "Wathalee",
                                    "2": "R."
                                },
                                {
                                    "0": "30035",
                                    "1": "Alice",
                                    "2": "M."
                                },
                                {
                                    "0": "30036",
                                    "1": "Liza Marie",
                                    "2": "N."
                                },
                                {
                                    "0": "30039",
                                    "1": "Robert",
                                    "2": "B."
                                },
                                {
                                    "0": "30040",
                                    "1": "Kayla",
                                    "2": "M."
                                },
                                {
                                    "0": "30042",
                                    "1": "Ruby Sue",
                                    "2": "R."
                                },
                                {
                                    "0": "30044",
                                    "1": "Gary",
                                    "2": "J."
                                },
                                {
                                    "0": "30045",
                                    "1": "Ruth",
                                    "2": "J."
                                },
                                {
                                    "0": "30046",
                                    "1": "Elizabeth",
                                    "2": "J."
                                },
                                {
                                    "0": "30048",
                                    "1": "Marcia",
                                    "2": "J."
                                },
                                {
                                    "0": "30052",
                                    "1": "Abraham",
                                    "2": "L."
                                },
                                {
                                    "0": "30053",
                                    "1": "Katherine",
                                    "2": "K."
                                },
                                {
                                    "0": "30056",
                                    "1": "Clarence",
                                    "2": "R."
                                },
                                {
                                    "0": "30058",
                                    "1": "Mike",
                                    "2": "M."
                                },
                                {
                                    "0": "30061",
                                    "1": "Chad",
                                    "2": "J."
                                },
                                {
                                    "0": "30063",
                                    "1": "Vanessa",
                                    "2": "J."
                                },
                                {
                                    "0": "30064",
                                    "1": "Judy",
                                    "2": "J."
                                },
                                {
                                    "0": "30069",
                                    "1": "Donald",
                                    "2": "M."
                                },
                                {
                                    "0": "30070",
                                    "1": "Kendra",
                                    "2": "N."
                                },
                                {
                                    "0": "30071",
                                    "1": "Daniel",
                                    "2": "P."
                                },
                                {
                                    "0": "30080",
                                    "1": "Delia",
                                    "2": "B."
                                },
                                {
                                    "0": "30083",
                                    "1": "Glenn",
                                    "2": "J."
                                },
                                {
                                    "0": "30087",
                                    "1": "Billy",
                                    "2": "J."
                                },
                                {
                                    "0": "30089",
                                    "1": "Michael John",
                                    "2": "R."
                                },
                                {
                                    "0": "30090",
                                    "1": "Christie",
                                    "2": "J."
                                },
                                {
                                    "0": "30093",
                                    "1": "Phyllis",
                                    "2": "B."
                                },
                                {
                                    "0": "30098",
                                    "1": "Esther",
                                    "2": "K."
                                },
                                {
                                    "0": "30100",
                                    "1": "Jessie",
                                    "2": "E."
                                },
                                {
                                    "0": "30104",
                                    "1": "Rose",
                                    "2": "M."
                                },
                                {
                                    "0": "30105",
                                    "1": "Gregory",
                                    "2": "T."
                                },
                                {
                                    "0": "30107",
                                    "1": "Margaret",
                                    "2": "J."
                                },
                                {
                                    "0": "30108",
                                    "1": "Kara",
                                    "2": "N."
                                },
                                {
                                    "0": "30109",
                                    "1": "Nieves",
                                    "2": "J."
                                },
                                {
                                    "0": "30110",
                                    "1": "Gary",
                                    "2": "T"
                                },
                                {
                                    "0": "30111",
                                    "1": "Ranjit",
                                    "2": "Rudra"
                                },
                                {
                                    "0": "30112",
                                    "1": "Patricia",
                                    "2": "M."
                                },
                                {
                                    "0": "30113",
                                    "1": "Raja",
                                    "2": "D."
                                },
                                {
                                    "0": "30115",
                                    "1": "Dora",
                                    "2": "P."
                                },
                                {
                                    "0": "30116",
                                    "1": "Wanda",
                                    "2": "F."
                                },
                                {
                                    "0": "30117",
                                    "1": "Robert",
                                    "2": "R."
                                }
                            ]
                        },
                        "text/html": [
                            "<table>",
                            "<tr><th>CustomerID</th><th>FirstName</th><th>MiddleName</th></tr>",
                            "<tr><td>1</td><td>Orlando</td><td>N.</td></tr>",
                            "<tr><td>3</td><td>Donna</td><td>F.</td></tr>",
                            "<tr><td>4</td><td>Janet</td><td>M.</td></tr>",
                            "<tr><td>6</td><td>Rosmarie</td><td>J.</td></tr>",
                            "<tr><td>7</td><td>Dominic</td><td>P.</td></tr>",
                            "<tr><td>10</td><td>Kathleen</td><td>M.</td></tr>",
                            "<tr><td>16</td><td>Christopher</td><td>R.</td></tr>",
                            "<tr><td>18</td><td>David</td><td>J.</td></tr>",
                            "<tr><td>20</td><td>Jean</td><td>P.</td></tr>",
                            "<tr><td>22</td><td>Linda</td><td>E.</td></tr>",
                            "<tr><td>25</td><td>Donald</td><td>L.</td></tr>",
                            "<tr><td>28</td><td>Jackie</td><td>E.</td></tr>",
                            "<tr><td>30</td><td>Todd</td><td>R.</td></tr>",
                            "<tr><td>34</td><td>Barbara</td><td>J.</td></tr>",
                            "<tr><td>38</td><td>Betty</td><td>M.</td></tr>",
                            "<tr><td>39</td><td>Sharon</td><td>J.</td></tr>",
                            "<tr><td>41</td><td>Erin</td><td>M.</td></tr>",
                            "<tr><td>46</td><td>David</td><td>O</td></tr>",
                            "<tr><td>47</td><td>Hattie</td><td>J.</td></tr>",
                            "<tr><td>48</td><td>Anita</td><td>R.</td></tr>",
                            "<tr><td>57</td><td>Judy</td><td>R.</td></tr>",
                            "<tr><td>60</td><td>Sean</td><td>J.</td></tr>",
                            "<tr><td>65</td><td>Jane</td><td>P.</td></tr>",
                            "<tr><td>66</td><td>Alexander</td><td>J.</td></tr>",
                            "<tr><td>73</td><td>Margaret</td><td>T.</td></tr>",
                            "<tr><td>74</td><td>Christopher</td><td>M.</td></tr>",
                            "<tr><td>76</td><td>James</td><td>J.</td></tr>",
                            "<tr><td>82</td><td>James</td><td>D.</td></tr>",
                            "<tr><td>83</td><td>Eric</td><td>J.</td></tr>",
                            "<tr><td>84</td><td>Della</td><td>F.</td></tr>",
                            "<tr><td>88</td><td>Pamala</td><td>M.</td></tr>",
                            "<tr><td>91</td><td>Joy</td><td>R.</td></tr>",
                            "<tr><td>95</td><td>Jane</td><td>N.</td></tr>",
                            "<tr><td>96</td><td>Bonnie</td><td>B.</td></tr>",
                            "<tr><td>100</td><td>Kirk</td><td>T</td></tr>",
                            "<tr><td>101</td><td>William</td><td>J.</td></tr>",
                            "<tr><td>109</td><td>Daniel</td><td>P.</td></tr>",
                            "<tr><td>110</td><td>Kendra</td><td>N.</td></tr>",
                            "<tr><td>112</td><td>Elsie</td><td>L.</td></tr>",
                            "<tr><td>113</td><td>Donald</td><td>M.</td></tr>",
                            "<tr><td>114</td><td>John</td><td>L.</td></tr>",
                            "<tr><td>115</td><td>George</td><td>Z.</td></tr>",
                            "<tr><td>127</td><td>Joseph</td><td>M.</td></tr>",
                            "<tr><td>128</td><td>Judy</td><td>J.</td></tr>",
                            "<tr><td>129</td><td>Connie</td><td>L.</td></tr>",
                            "<tr><td>130</td><td>Paulo</td><td>H.</td></tr>",
                            "<tr><td>131</td><td>Vanessa</td><td>J.</td></tr>",
                            "<tr><td>132</td><td>Teanna</td><td>M.</td></tr>",
                            "<tr><td>137</td><td>Gytis</td><td>M</td></tr>",
                            "<tr><td>149</td><td>Cornelius</td><td>L.</td></tr>",
                            "<tr><td>150</td><td>Jill</td><td>J.</td></tr>",
                            "<tr><td>151</td><td>Walter</td><td>J.</td></tr>",
                            "<tr><td>154</td><td>Carlton</td><td>M.</td></tr>",
                            "<tr><td>155</td><td>Joseph</td><td>N.</td></tr>",
                            "<tr><td>156</td><td>Lester</td><td>J.</td></tr>",
                            "<tr><td>160</td><td>Brigid</td><td>F.</td></tr>",
                            "<tr><td>164</td><td>Cindy</td><td>M.</td></tr>",
                            "<tr><td>166</td><td>Stacey</td><td>M.</td></tr>",
                            "<tr><td>173</td><td>Rudolph</td><td>J.</td></tr>",
                            "<tr><td>174</td><td>Michael</td><td>L.</td></tr>",
                            "<tr><td>180</td><td>Nicky</td><td>E.</td></tr>",
                            "<tr><td>181</td><td>Michael</td><td>J.</td></tr>",
                            "<tr><td>184</td><td>Marjorie</td><td>M.</td></tr>",
                            "<tr><td>191</td><td>Sandra</td><td>T.</td></tr>",
                            "<tr><td>197</td><td>Diane</td><td>F.</td></tr>",
                            "<tr><td>198</td><td>Payton</td><td>P.</td></tr>",
                            "<tr><td>200</td><td>Peggy</td><td>J.</td></tr>",
                            "<tr><td>201</td><td>Edna</td><td>J.</td></tr>",
                            "<tr><td>202</td><td>A.</td><td>Francesca</td></tr>",
                            "<tr><td>209</td><td>Robert</td><td>E.</td></tr>",
                            "<tr><td>214</td><td>Jennifer</td><td>J.</td></tr>",
                            "<tr><td>221</td><td>Sandra</td><td>B.</td></tr>",
                            "<tr><td>226</td><td>Vance</td><td>P.</td></tr>",
                            "<tr><td>227</td><td>Robin</td><td>M.</td></tr>",
                            "<tr><td>228</td><td>Danielle</td><td>B.</td></tr>",
                            "<tr><td>236</td><td>Lola</td><td>M.</td></tr>",
                            "<tr><td>237</td><td>Mary</td><td>K.</td></tr>",
                            "<tr><td>238</td><td>Jodan</td><td>M.</td></tr>",
                            "<tr><td>240</td><td>Jessie</td><td>E.</td></tr>",
                            "<tr><td>244</td><td>Bronson</td><td>R.</td></tr>",
                            "<tr><td>245</td><td>James</td><td>L.</td></tr>",
                            "<tr><td>246</td><td>Esther</td><td>K.</td></tr>",
                            "<tr><td>250</td><td>Denean</td><td>J.</td></tr>",
                            "<tr><td>254</td><td>Robert</td><td>M.</td></tr>",
                            "<tr><td>256</td><td>Richard</td><td>L.</td></tr>",
                            "<tr><td>263</td><td>Timothy</td><td>B.</td></tr>",
                            "<tr><td>264</td><td>Phyllis</td><td>B.</td></tr>",
                            "<tr><td>271</td><td>Jared</td><td>L.</td></tr>",
                            "<tr><td>272</td><td>Henry</td><td>L.</td></tr>",
                            "<tr><td>273</td><td>Christie</td><td>J.</td></tr>",
                            "<tr><td>274</td><td>Janet</td><td>J.</td></tr>",
                            "<tr><td>276</td><td>Michael John</td><td>R.</td></tr>",
                            "<tr><td>280</td><td>Frances</td><td>J.</td></tr>",
                            "<tr><td>282</td><td>Billy</td><td>J.</td></tr>",
                            "<tr><td>288</td><td>Robert</td><td>L.</td></tr>",
                            "<tr><td>289</td><td>Gabriel</td><td>L.</td></tr>",
                            "<tr><td>291</td><td>Wayne</td><td>N.</td></tr>",
                            "<tr><td>292</td><td>Michael</td><td>Greg</td></tr>",
                            "<tr><td>294</td><td>Alberto</td><td>F.</td></tr>",
                            "<tr><td>295</td><td>Joseph</td><td>P.</td></tr>",
                            "<tr><td>306</td><td>Stephen</td><td>M.</td></tr>",
                            "<tr><td>307</td><td>Neva</td><td>M.</td></tr>",
                            "<tr><td>308</td><td>Megan</td><td>N.</td></tr>",
                            "<tr><td>312</td><td>Thomas</td><td>B.</td></tr>",
                            "<tr><td>317</td><td>Jacob</td><td>N.</td></tr>",
                            "<tr><td>322</td><td>Matthew</td><td>J.</td></tr>",
                            "<tr><td>325</td><td>Virginia</td><td>L.</td></tr>",
                            "<tr><td>328</td><td>Robert</td><td>R.</td></tr>",
                            "<tr><td>331</td><td>Wanda</td><td>F.</td></tr>",
                            "<tr><td>334</td><td>Dora</td><td>P.</td></tr>",
                            "<tr><td>335</td><td>John</td><td>M.</td></tr>",
                            "<tr><td>336</td><td>Brian</td><td>R</td></tr>",
                            "<tr><td>340</td><td>Raja</td><td>D.</td></tr>",
                            "<tr><td>343</td><td>Patricia</td><td>M.</td></tr>",
                            "<tr><td>344</td><td>Karren</td><td>K.</td></tr>",
                            "<tr><td>345</td><td>Abigail</td><td>J.</td></tr>",
                            "<tr><td>346</td><td>Ranjit</td><td>Rudra</td></tr>",
                            "<tr><td>347</td><td>Ingrid</td><td>K.</td></tr>",
                            "<tr><td>348</td><td>Oscar</td><td>L.</td></tr>",
                            "<tr><td>349</td><td>Gary</td><td>T</td></tr>",
                            "<tr><td>352</td><td>Shane</td><td>S.</td></tr>",
                            "<tr><td>353</td><td>Joan</td><td>M.</td></tr>",
                            "<tr><td>354</td><td>Maxwell</td><td>J.</td></tr>",
                            "<tr><td>360</td><td>Ramona</td><td>J.</td></tr>",
                            "<tr><td>367</td><td>Tammy</td><td>J.</td></tr>",
                            "<tr><td>372</td><td>Katherine</td><td>K.</td></tr>",
                            "<tr><td>376</td><td>Mary</td><td>R.</td></tr>",
                            "<tr><td>377</td><td>Marlin</td><td>M.</td></tr>",
                            "<tr><td>384</td><td>Clarence</td><td>R.</td></tr>",
                            "<tr><td>389</td><td>Dorothy</td><td>J.</td></tr>",
                            "<tr><td>390</td><td>Mike</td><td>M.</td></tr>",
                            "<tr><td>395</td><td>June</td><td>B.</td></tr>",
                            "<tr><td>398</td><td>Shirley</td><td>R.</td></tr>",
                            "<tr><td>399</td><td>Chad</td><td>J.</td></tr>",
                            "<tr><td>401</td><td>Tom</td><td>H</td></tr>",
                            "<tr><td>402</td><td>Marian</td><td>M.</td></tr>",
                            "<tr><td>403</td><td>Juanita</td><td>J.</td></tr>",
                            "<tr><td>406</td><td>Eddie</td><td>M.</td></tr>",
                            "<tr><td>408</td><td>Alexander</td><td>J.</td></tr>",
                            "<tr><td>412</td><td>Jean</td><td>J.</td></tr>",
                            "<tr><td>418</td><td>Lee</td><td>J.</td></tr>",
                            "<tr><td>419</td><td>Darrell</td><td>M.</td></tr>",
                            "<tr><td>421</td><td>Forrest</td><td>J.</td></tr>",
                            "<tr><td>425</td><td>Stephen</td><td>Yuan</td></tr>",
                            "<tr><td>426</td><td>Dirk</td><td>J.</td></tr>",
                            "<tr><td>433</td><td>Lindsey</td><td>R.</td></tr>",
                            "<tr><td>434</td><td>James</td><td>B.</td></tr>",
                            "<tr><td>435</td><td>Carol</td><td>B.</td></tr>",
                            "<tr><td>436</td><td>Barbara</td><td>J.</td></tr>",
                            "<tr><td>437</td><td>Megan</td><td>E.</td></tr>",
                            "<tr><td>438</td><td>Cory</td><td>K.</td></tr>",
                            "<tr><td>439</td><td>Shannon</td><td>P.</td></tr>",
                            "<tr><td>442</td><td>Jauna</td><td>E.</td></tr>",
                            "<tr><td>452</td><td>Olga</td><td>J.</td></tr>",
                            "<tr><td>455</td><td>James</td><td>R.</td></tr>",
                            "<tr><td>457</td><td>Mark</td><td>B</td></tr>",
                            "<tr><td>460</td><td>Martha</td><td>R.</td></tr>",
                            "<tr><td>461</td><td>Glenn</td><td>J.</td></tr>",
                            "<tr><td>468</td><td>Paul</td><td>J.</td></tr>",
                            "<tr><td>469</td><td>Twanna</td><td>R.</td></tr>",
                            "<tr><td>470</td><td>Delia</td><td>B.</td></tr>",
                            "<tr><td>472</td><td>Ann</td><td>R.</td></tr>",
                            "<tr><td>473</td><td>Kay</td><td>E.</td></tr>",
                            "<tr><td>478</td><td>Ruby Sue</td><td>R.</td></tr>",
                            "<tr><td>480</td><td>Susan</td><td>E.</td></tr>",
                            "<tr><td>484</td><td>Gary</td><td>J.</td></tr>",
                            "<tr><td>487</td><td>Ruth</td><td>J.</td></tr>",
                            "<tr><td>488</td><td>Margaret</td><td>J.</td></tr>",
                            "<tr><td>489</td><td>Dorothy</td><td>J.</td></tr>",
                            "<tr><td>490</td><td>Elizabeth</td><td>J.</td></tr>",
                            "<tr><td>491</td><td>Frances</td><td>B.</td></tr>",
                            "<tr><td>496</td><td>Marcia</td><td>J.</td></tr>",
                            "<tr><td>497</td><td>Amy</td><td>E.</td></tr>",
                            "<tr><td>504</td><td>Mae</td><td>M.</td></tr>",
                            "<tr><td>508</td><td>Martin</td><td>J.</td></tr>",
                            "<tr><td>509</td><td>Robert</td><td>E.</td></tr>",
                            "<tr><td>511</td><td>Abraham</td><td>L.</td></tr>",
                            "<tr><td>516</td><td>Thomas</td><td>R.</td></tr>",
                            "<tr><td>520</td><td>Mari</td><td>B.</td></tr>",
                            "<tr><td>523</td><td>Mary</td><td>M.</td></tr>",
                            "<tr><td>526</td><td>David</td><td>L.</td></tr>",
                            "<tr><td>528</td><td>Helen</td><td>M.</td></tr>",
                            "<tr><td>529</td><td>Jeanie</td><td>R.</td></tr>",
                            "<tr><td>532</td><td>Diane</td><td>R.</td></tr>",
                            "<tr><td>538</td><td>John</td><td>R.</td></tr>",
                            "<tr><td>541</td><td>Willie</td><td>P.</td></tr>",
                            "<tr><td>542</td><td>Andrew</td><td>P.</td></tr>",
                            "<tr><td>543</td><td>R. Morgan</td><td>L.</td></tr>",
                            "<tr><td>547</td><td>Gladys</td><td>F.</td></tr>",
                            "<tr><td>551</td><td>Samuel</td><td>N.</td></tr>",
                            "<tr><td>560</td><td>Paul</td><td>L.</td></tr>",
                            "<tr><td>561</td><td>Marvin</td><td>N.</td></tr>",
                            "<tr><td>563</td><td>Sean</td><td>P.</td></tr>",
                            "<tr><td>565</td><td>Richard</td><td>M.</td></tr>",
                            "<tr><td>568</td><td>Curtis</td><td>P.</td></tr>",
                            "<tr><td>569</td><td>Cecil</td><td>J.</td></tr>",
                            "<tr><td>570</td><td>Gregory</td><td>F.</td></tr>",
                            "<tr><td>574</td><td>Janice</td><td>K.</td></tr>",
                            "<tr><td>577</td><td>George</td><td>M.</td></tr>",
                            "<tr><td>580</td><td>Joshua</td><td>J.</td></tr>",
                            "<tr><td>581</td><td>Geri</td><td>P.</td></tr>",
                            "<tr><td>582</td><td>Catherine</td><td>R.</td></tr>",
                            "<tr><td>586</td><td>Shanay</td><td>B.</td></tr>",
                            "<tr><td>587</td><td>Rhoda</td><td>J.</td></tr>",
                            "<tr><td>599</td><td>Raul</td><td>E.</td></tr>",
                            "<tr><td>600</td><td>Holly</td><td>J.</td></tr>",
                            "<tr><td>601</td><td>Vassar</td><td>J.</td></tr>",
                            "<tr><td>604</td><td>Wathalee</td><td>R.</td></tr>",
                            "<tr><td>605</td><td>Matthew</td><td>J.</td></tr>",
                            "<tr><td>607</td><td>Alice</td><td>M.</td></tr>",
                            "<tr><td>608</td><td>Steven</td><td>B.</td></tr>",
                            "<tr><td>610</td><td>Liza Marie</td><td>N.</td></tr>",
                            "<tr><td>620</td><td>Matthew</td><td>M.</td></tr>",
                            "<tr><td>622</td><td>Robert</td><td>B.</td></tr>",
                            "<tr><td>623</td><td>Phyllis</td><td>R.</td></tr>",
                            "<tr><td>625</td><td>Kayla</td><td>M.</td></tr>",
                            "<tr><td>626</td><td>Lawrence</td><td>E.</td></tr>",
                            "<tr><td>630</td><td>Andrew</td><td>R.</td></tr>",
                            "<tr><td>631</td><td>Robert</td><td>P.</td></tr>",
                            "<tr><td>641</td><td>Rose</td><td>M.</td></tr>",
                            "<tr><td>643</td><td>Denise</td><td>R.</td></tr>",
                            "<tr><td>644</td><td>Gregory</td><td>T.</td></tr>",
                            "<tr><td>645</td><td>Ronald</td><td>K.</td></tr>",
                            "<tr><td>648</td><td>Cheryl</td><td>M.</td></tr>",
                            "<tr><td>649</td><td>Walter</td><td>J.</td></tr>",
                            "<tr><td>650</td><td>Margaret</td><td>J.</td></tr>",
                            "<tr><td>653</td><td>Kara</td><td>N.</td></tr>",
                            "<tr><td>655</td><td>Irene</td><td>J.</td></tr>",
                            "<tr><td>660</td><td>Nieves</td><td>J.</td></tr>",
                            "<tr><td>665</td><td>Tomas</td><td>M.</td></tr>",
                            "<tr><td>668</td><td>Kathy</td><td>R.</td></tr>",
                            "<tr><td>670</td><td>Valerie</td><td>M.</td></tr>",
                            "<tr><td>671</td><td>Jill</td><td>K.</td></tr>",
                            "<tr><td>672</td><td>Gerald</td><td>M.</td></tr>",
                            "<tr><td>674</td><td>Melissa</td><td>R.</td></tr>",
                            "<tr><td>677</td><td>Cecelia</td><td>L.</td></tr>",
                            "<tr><td>679</td><td>Brenda</td><td>F.</td></tr>",
                            "<tr><td>685</td><td>James</td><td>B.</td></tr>",
                            "<tr><td>689</td><td>Sandra</td><td>I.</td></tr>",
                            "<tr><td>692</td><td>Bev</td><td>L.</td></tr>",
                            "<tr><td>694</td><td>Ann</td><td>T.</td></tr>",
                            "<tr><td>701</td><td>Linda</td><td>R.</td></tr>",
                            "<tr><td>29485</td><td>Catherine</td><td>R.</td></tr>",
                            "<tr><td>29489</td><td>Frances</td><td>B.</td></tr>",
                            "<tr><td>29490</td><td>Margaret</td><td>J.</td></tr>",
                            "<tr><td>29494</td><td>Samuel</td><td>N.</td></tr>",
                            "<tr><td>29496</td><td>Robert</td><td>E.</td></tr>",
                            "<tr><td>29499</td><td>Amy</td><td>E.</td></tr>",
                            "<tr><td>29502</td><td>Paul</td><td>L.</td></tr>",
                            "<tr><td>29503</td><td>Gregory</td><td>F.</td></tr>",
                            "<tr><td>29506</td><td>Sean</td><td>P.</td></tr>",
                            "<tr><td>29508</td><td>Marvin</td><td>N.</td></tr>",
                            "<tr><td>29510</td><td>Cecil</td><td>J.</td></tr>",
                            "<tr><td>29511</td><td>Oscar</td><td>L.</td></tr>",
                            "<tr><td>29515</td><td>Maxwell</td><td>J.</td></tr>",
                            "<tr><td>29517</td><td>Ramona</td><td>J.</td></tr>",
                            "<tr><td>29521</td><td>Tom</td><td>H</td></tr>",
                            "<tr><td>29522</td><td>Thomas</td><td>B.</td></tr>",
                            "<tr><td>29528</td><td>Stephen</td><td>M.</td></tr>",
                            "<tr><td>29531</td><td>Cory</td><td>K.</td></tr>",
                            "<tr><td>29532</td><td>James</td><td>B.</td></tr>",
                            "<tr><td>29535</td><td>Wayne</td><td>N.</td></tr>",
                            "<tr><td>29536</td><td>Robert</td><td>L.</td></tr>",
                            "<tr><td>29541</td><td>Gytis</td><td>M</td></tr>",
                            "<tr><td>29546</td><td>Christopher</td><td>R.</td></tr>",
                            "<tr><td>29553</td><td>Edna</td><td>J.</td></tr>",
                            "<tr><td>29554</td><td>Payton</td><td>P.</td></tr>",
                            "<tr><td>29557</td><td>Alexander</td><td>J.</td></tr>",
                            "<tr><td>29558</td><td>John</td><td>M.</td></tr>",
                            "<tr><td>29559</td><td>Robert</td><td>M.</td></tr>",
                            "<tr><td>29562</td><td>Steven</td><td>B.</td></tr>",
                            "<tr><td>29566</td><td>Mae</td><td>M.</td></tr>",
                            "<tr><td>29567</td><td>Jackie</td><td>E.</td></tr>",
                            "<tr><td>29568</td><td>Donald</td><td>L.</td></tr>",
                            "<tr><td>29569</td><td>Linda</td><td>E.</td></tr>",
                            "<tr><td>29570</td><td>Michael</td><td>Greg</td></tr>",
                            "<tr><td>29571</td><td>Gabriel</td><td>L.</td></tr>",
                            "<tr><td>29577</td><td>Lester</td><td>J.</td></tr>",
                            "<tr><td>29579</td><td>Cornelius</td><td>L.</td></tr>",
                            "<tr><td>29584</td><td>Walter</td><td>J.</td></tr>",
                            "<tr><td>29585</td><td>Christopher</td><td>M.</td></tr>",
                            "<tr><td>29587</td><td>John</td><td>R.</td></tr>",
                            "<tr><td>29588</td><td>Willie</td><td>P.</td></tr>",
                            "<tr><td>29593</td><td>Mary</td><td>K.</td></tr>",
                            "<tr><td>29596</td><td>Eric</td><td>J.</td></tr>",
                            "<tr><td>29599</td><td>Shirley</td><td>R.</td></tr>",
                            "<tr><td>29600</td><td>June</td><td>B.</td></tr>",
                            "<tr><td>29601</td><td>Dirk</td><td>J.</td></tr>",
                            "<tr><td>29605</td><td>Megan</td><td>E.</td></tr>",
                            "<tr><td>29606</td><td>Karren</td><td>K.</td></tr>",
                            "<tr><td>29608</td><td>Timothy</td><td>B.</td></tr>",
                            "<tr><td>29611</td><td>Jared</td><td>L.</td></tr>",
                            "<tr><td>29615</td><td>Mari</td><td>B.</td></tr>",
                            "<tr><td>29616</td><td>Barbara</td><td>J.</td></tr>",
                            "<tr><td>29617</td><td>Lindsey</td><td>R.</td></tr>",
                            "<tr><td>29620</td><td>Joan</td><td>M.</td></tr>",
                            "<tr><td>29622</td><td>Henry</td><td>L.</td></tr>",
                            "<tr><td>29629</td><td>Carlton</td><td>M.</td></tr>",
                            "<tr><td>29631</td><td>Jane</td><td>N.</td></tr>",
                            "<tr><td>29637</td><td>Donna</td><td>F.</td></tr>",
                            "<tr><td>29638</td><td>Rosmarie</td><td>J.</td></tr>",
                            "<tr><td>29639</td><td>Joseph</td><td>N.</td></tr>",
                            "<tr><td>29641</td><td>Raul</td><td>E.</td></tr>",
                            "<tr><td>29643</td><td>Matthew</td><td>J.</td></tr>",
                            "<tr><td>29644</td><td>Brigid</td><td>F.</td></tr>",
                            "<tr><td>29646</td><td>Stacey</td><td>M.</td></tr>",
                            "<tr><td>29650</td><td>Forrest</td><td>J.</td></tr>",
                            "<tr><td>29651</td><td>Lee</td><td>J.</td></tr>",
                            "<tr><td>29655</td><td>Nicky</td><td>E.</td></tr>",
                            "<tr><td>29662</td><td>Jill</td><td>J.</td></tr>",
                            "<tr><td>29668</td><td>Connie</td><td>L.</td></tr>",
                            "<tr><td>29673</td><td>John</td><td>L.</td></tr>",
                            "<tr><td>29677</td><td>William</td><td>J.</td></tr>",
                            "<tr><td>29680</td><td>Dorothy</td><td>J.</td></tr>",
                            "<tr><td>29684</td><td>Marlin</td><td>M.</td></tr>",
                            "<tr><td>29695</td><td>Megan</td><td>N.</td></tr>",
                            "<tr><td>29698</td><td>Jacob</td><td>N.</td></tr>",
                            "<tr><td>29699</td><td>Alexander</td><td>J.</td></tr>",
                            "<tr><td>29705</td><td>Della</td><td>F.</td></tr>",
                            "<tr><td>29709</td><td>Bev</td><td>L.</td></tr>",
                            "<tr><td>29714</td><td>Rudolph</td><td>J.</td></tr>",
                            "<tr><td>29717</td><td>Cindy</td><td>M.</td></tr>",
                            "<tr><td>29720</td><td>Gerald</td><td>M.</td></tr>",
                            "<tr><td>29730</td><td>Linda</td><td>R.</td></tr>",
                            "<tr><td>29732</td><td>Carol</td><td>B.</td></tr>",
                            "<tr><td>29733</td><td>Shannon</td><td>P.</td></tr>",
                            "<tr><td>29734</td><td>Jauna</td><td>E.</td></tr>",
                            "<tr><td>29739</td><td>Mark</td><td>B</td></tr>",
                            "<tr><td>29740</td><td>Martha</td><td>R.</td></tr>",
                            "<tr><td>29742</td><td>Twanna</td><td>R.</td></tr>",
                            "<tr><td>29743</td><td>Ann</td><td>R.</td></tr>",
                            "<tr><td>29748</td><td>Geri</td><td>P.</td></tr>",
                            "<tr><td>29750</td><td>Rhoda</td><td>J.</td></tr>",
                            "<tr><td>29758</td><td>Dorothy</td><td>J.</td></tr>",
                            "<tr><td>29761</td><td>Susan</td><td>E.</td></tr>",
                            "<tr><td>29765</td><td>Paul</td><td>J.</td></tr>",
                            "<tr><td>29770</td><td>Kathleen</td><td>M.</td></tr>",
                            "<tr><td>29771</td><td>Dominic</td><td>P.</td></tr>",
                            "<tr><td>29772</td><td>Janet</td><td>M.</td></tr>",
                            "<tr><td>29773</td><td>Orlando</td><td>N.</td></tr>",
                            "<tr><td>29776</td><td>Barbara</td><td>J.</td></tr>",
                            "<tr><td>29780</td><td>Frances</td><td>J.</td></tr>",
                            "<tr><td>29782</td><td>Janet</td><td>J.</td></tr>",
                            "<tr><td>29783</td><td>Mary</td><td>M.</td></tr>",
                            "<tr><td>29784</td><td>Jeanie</td><td>R.</td></tr>",
                            "<tr><td>29785</td><td>Diane</td><td>R.</td></tr>",
                            "<tr><td>29789</td><td>Brian</td><td>R</td></tr>",
                            "<tr><td>29792</td><td>Abigail</td><td>J.</td></tr>",
                            "<tr><td>29797</td><td>Jane</td><td>P.</td></tr>",
                            "<tr><td>29803</td><td>Hattie</td><td>J.</td></tr>",
                            "<tr><td>29805</td><td>Erin</td><td>M.</td></tr>",
                            "<tr><td>29806</td><td>Betty</td><td>M.</td></tr>",
                            "<tr><td>29810</td><td>Jean</td><td>P.</td></tr>",
                            "<tr><td>29819</td><td>Ann</td><td>T.</td></tr>",
                            "<tr><td>29822</td><td>James</td><td>B.</td></tr>",
                            "<tr><td>29824</td><td>Brenda</td><td>F.</td></tr>",
                            "<tr><td>29827</td><td>Valerie</td><td>M.</td></tr>",
                            "<tr><td>29831</td><td>Irene</td><td>J.</td></tr>",
                            "<tr><td>29834</td><td>Cheryl</td><td>M.</td></tr>",
                            "<tr><td>29835</td><td>Ronald</td><td>K.</td></tr>",
                            "<tr><td>29840</td><td>Andrew</td><td>R.</td></tr>",
                            "<tr><td>29851</td><td>Jean</td><td>J.</td></tr>",
                            "<tr><td>29852</td><td>Eddie</td><td>M.</td></tr>",
                            "<tr><td>29853</td><td>Juanita</td><td>J.</td></tr>",
                            "<tr><td>29855</td><td>Curtis</td><td>P.</td></tr>",
                            "<tr><td>29857</td><td>Janice</td><td>K.</td></tr>",
                            "<tr><td>29858</td><td>George</td><td>M.</td></tr>",
                            "<tr><td>29859</td><td>Joshua</td><td>J.</td></tr>",
                            "<tr><td>29861</td><td>Phyllis</td><td>R.</td></tr>",
                            "<tr><td>29862</td><td>Lawrence</td><td>E.</td></tr>",
                            "<tr><td>29866</td><td>Richard</td><td>L.</td></tr>",
                            "<tr><td>29868</td><td>Denean</td><td>J.</td></tr>",
                            "<tr><td>29870</td><td>Bronson</td><td>R.</td></tr>",
                            "<tr><td>29872</td><td>Jodan</td><td>M.</td></tr>",
                            "<tr><td>29876</td><td>Vance</td><td>P.</td></tr>",
                            "<tr><td>29879</td><td>Stephen</td><td>Yuan</td></tr>",
                            "<tr><td>29881</td><td>Danielle</td><td>B.</td></tr>",
                            "<tr><td>29890</td><td>Peggy</td><td>J.</td></tr>",
                            "<tr><td>29891</td><td>Diane</td><td>F.</td></tr>",
                            "<tr><td>29892</td><td>Sandra</td><td>T.</td></tr>",
                            "<tr><td>29897</td><td>Kay</td><td>E.</td></tr>",
                            "<tr><td>29904</td><td>Mary</td><td>R.</td></tr>",
                            "<tr><td>29910</td><td>Shane</td><td>S.</td></tr>",
                            "<tr><td>29915</td><td>Andrew</td><td>P.</td></tr>",
                            "<tr><td>29918</td><td>Kirk</td><td>T</td></tr>",
                            "<tr><td>29921</td><td>Joy</td><td>R.</td></tr>",
                            "<tr><td>29922</td><td>Pamala</td><td>M.</td></tr>",
                            "<tr><td>29925</td><td>Margaret</td><td>T.</td></tr>",
                            "<tr><td>29934</td><td>David</td><td>O</td></tr>",
                            "<tr><td>29936</td><td>Michael</td><td>J.</td></tr>",
                            "<tr><td>29937</td><td>Marjorie</td><td>M.</td></tr>",
                            "<tr><td>29943</td><td>A.</td><td>Francesca</td></tr>",
                            "<tr><td>29944</td><td>Bonnie</td><td>B.</td></tr>",
                            "<tr><td>29948</td><td>Elsie</td><td>L.</td></tr>",
                            "<tr><td>29949</td><td>George</td><td>Z.</td></tr>",
                            "<tr><td>29953</td><td>Joseph</td><td>M.</td></tr>",
                            "<tr><td>29954</td><td>Paulo</td><td>H.</td></tr>",
                            "<tr><td>29955</td><td>David</td><td>J.</td></tr>",
                            "<tr><td>29959</td><td>Todd</td><td>R.</td></tr>",
                            "<tr><td>29962</td><td>Sharon</td><td>J.</td></tr>",
                            "<tr><td>29964</td><td>Anita</td><td>R.</td></tr>",
                            "<tr><td>29967</td><td>Judy</td><td>R.</td></tr>",
                            "<tr><td>29969</td><td>Robert</td><td>P.</td></tr>",
                            "<tr><td>29973</td><td>Denise</td><td>R.</td></tr>",
                            "<tr><td>29975</td><td>Walter</td><td>J.</td></tr>",
                            "<tr><td>29980</td><td>Tomas</td><td>M.</td></tr>",
                            "<tr><td>29981</td><td>Kathy</td><td>R.</td></tr>",
                            "<tr><td>29982</td><td>Melissa</td><td>R.</td></tr>",
                            "<tr><td>29983</td><td>Cecelia</td><td>L.</td></tr>",
                            "<tr><td>29990</td><td>Jennifer</td><td>J.</td></tr>",
                            "<tr><td>29992</td><td>Sandra</td><td>B.</td></tr>",
                            "<tr><td>29994</td><td>Robin</td><td>M.</td></tr>",
                            "<tr><td>29997</td><td>Lola</td><td>M.</td></tr>",
                            "<tr><td>30000</td><td>James</td><td>L.</td></tr>",
                            "<tr><td>30008</td><td>R. Morgan</td><td>L.</td></tr>",
                            "<tr><td>30012</td><td>Helen</td><td>M.</td></tr>",
                            "<tr><td>30016</td><td>Thomas</td><td>R.</td></tr>",
                            "<tr><td>30018</td><td>Virginia</td><td>L.</td></tr>",
                            "<tr><td>30019</td><td>Matthew</td><td>J.</td></tr>",
                            "<tr><td>30024</td><td>Neva</td><td>M.</td></tr>",
                            "<tr><td>30027</td><td>Joseph</td><td>P.</td></tr>",
                            "<tr><td>30029</td><td>Shanay</td><td>B.</td></tr>",
                            "<tr><td>30033</td><td>Vassar</td><td>J.</td></tr>",
                            "<tr><td>30034</td><td>Wathalee</td><td>R.</td></tr>",
                            "<tr><td>30035</td><td>Alice</td><td>M.</td></tr>",
                            "<tr><td>30036</td><td>Liza Marie</td><td>N.</td></tr>",
                            "<tr><td>30039</td><td>Robert</td><td>B.</td></tr>",
                            "<tr><td>30040</td><td>Kayla</td><td>M.</td></tr>",
                            "<tr><td>30042</td><td>Ruby Sue</td><td>R.</td></tr>",
                            "<tr><td>30044</td><td>Gary</td><td>J.</td></tr>",
                            "<tr><td>30045</td><td>Ruth</td><td>J.</td></tr>",
                            "<tr><td>30046</td><td>Elizabeth</td><td>J.</td></tr>",
                            "<tr><td>30048</td><td>Marcia</td><td>J.</td></tr>",
                            "<tr><td>30052</td><td>Abraham</td><td>L.</td></tr>",
                            "<tr><td>30053</td><td>Katherine</td><td>K.</td></tr>",
                            "<tr><td>30056</td><td>Clarence</td><td>R.</td></tr>",
                            "<tr><td>30058</td><td>Mike</td><td>M.</td></tr>",
                            "<tr><td>30061</td><td>Chad</td><td>J.</td></tr>",
                            "<tr><td>30063</td><td>Vanessa</td><td>J.</td></tr>",
                            "<tr><td>30064</td><td>Judy</td><td>J.</td></tr>",
                            "<tr><td>30069</td><td>Donald</td><td>M.</td></tr>",
                            "<tr><td>30070</td><td>Kendra</td><td>N.</td></tr>",
                            "<tr><td>30071</td><td>Daniel</td><td>P.</td></tr>",
                            "<tr><td>30080</td><td>Delia</td><td>B.</td></tr>",
                            "<tr><td>30083</td><td>Glenn</td><td>J.</td></tr>",
                            "<tr><td>30087</td><td>Billy</td><td>J.</td></tr>",
                            "<tr><td>30089</td><td>Michael John</td><td>R.</td></tr>",
                            "<tr><td>30090</td><td>Christie</td><td>J.</td></tr>",
                            "<tr><td>30093</td><td>Phyllis</td><td>B.</td></tr>",
                            "<tr><td>30098</td><td>Esther</td><td>K.</td></tr>",
                            "<tr><td>30100</td><td>Jessie</td><td>E.</td></tr>",
                            "<tr><td>30104</td><td>Rose</td><td>M.</td></tr>",
                            "<tr><td>30105</td><td>Gregory</td><td>T.</td></tr>",
                            "<tr><td>30107</td><td>Margaret</td><td>J.</td></tr>",
                            "<tr><td>30108</td><td>Kara</td><td>N.</td></tr>",
                            "<tr><td>30109</td><td>Nieves</td><td>J.</td></tr>",
                            "<tr><td>30110</td><td>Gary</td><td>T</td></tr>",
                            "<tr><td>30111</td><td>Ranjit</td><td>Rudra</td></tr>",
                            "<tr><td>30112</td><td>Patricia</td><td>M.</td></tr>",
                            "<tr><td>30113</td><td>Raja</td><td>D.</td></tr>",
                            "<tr><td>30115</td><td>Dora</td><td>P.</td></tr>",
                            "<tr><td>30116</td><td>Wanda</td><td>F.</td></tr>",
                            "<tr><td>30117</td><td>Robert</td><td>R.</td></tr>",
                            "</table>"
                        ]
                    }
                }
            ],
            "execution_count": 24
        }
    ]
}