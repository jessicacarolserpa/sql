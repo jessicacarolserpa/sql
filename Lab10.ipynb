{
    "metadata": {
        "kernelspec": {
            "name": "SQL",
            "display_name": "SQL",
            "language": "sql"
        },
        "language_info": {
            "name": "sql",
            "version": ""
        },
        "extensions": {
            "azuredatastudio": {
                "version": 1,
                "views": []
            }
        }
    },
    "nbformat_minor": 2,
    "nbformat": 4,
    "cells": [
        {
            "cell_type": "markdown",
            "source": [
                "**<u>Lab10</u>**"
            ],
            "metadata": {
                "azdata_cell_guid": "2900bad7-ed9f-4045-98f6-5327f71e5006"
            },
            "attachments": {}
        },
        {
            "cell_type": "markdown",
            "source": [
                "**1**. Write code to insert an order header Your script to insert an order header must enable users to specify values for the order date, due date, and customer ID. The SalesOrderID should be generated from the next value for the SalesLT.SalesOrderNumber sequence and assigned to a variable. The script should then insert a record into the SalesLT.SalesOrderHeader table using these values and a hard-coded value of ‘CARGO TRANSPORT 5’ for the shipping method with default or NULL values for all other columns\n",
                "\n",
                "After the script has inserted the record, it should display the inserted SalesOrderID using the PRINT command. Test your code with the following values:"
            ],
            "metadata": {
                "azdata_cell_guid": "0605d792-eec7-4a7b-9cb7-3a72e4ba3ffb"
            },
            "attachments": {}
        },
        {
            "cell_type": "code",
            "source": [
                "DECLARE @OrderDate date = GETDATE();\r\n",
                "DECLARE @DueDate date = DATEADD(dd, 7, GETDATE());\r\n",
                "DECLARE @CustomerID INT = 1;\r\n",
                "\r\n",
                "/* SalesOrderID is auto generated */\r\n",
                "INSERT INTO SalesOrderHeader(OrderDate, DueDate, CustomerID, ShipMethod)\r\n",
                "VALUES (@OrderDate, @DueDate, @CustomerID, 'CARGO TRANSPORT 5');\r\n",
                "PRINT IDENT_CURRENT('SalesOrderHeader');"
            ],
            "metadata": {
                "azdata_cell_guid": "edf83c9c-7063-41b3-94db-e20d11f13cc0"
            },
            "outputs": [],
            "execution_count": null
        },
        {
            "cell_type": "markdown",
            "source": [
                "**2.** Write code to insert an order detail The script to insert an order detail must enable users to specify a sales order ID, a product ID, a quantity, and a unit price. It must then check to see if the specified sales order ID exists in the SalesLT.SalesOrderHeader table. If it does, the code should insert the order details into the SalesLT.SalesOrderDetail table (using default values or NULL for unspecified columns). If the sales order ID does not exist in the SalesLT.SalesOrderHeader table, the code should print the message ‘The order does not exist’. You can test for the existence of a record by using the EXISTS predicate. Test your code with the following values: Sales Order ID Product ID Quantity Unit Price The sales order ID returned by your previous code to insert a sales order header. 760 1 782.99 Then test it again with the following values: Sales Order ID Product ID Quantity Unit Price 0 760 1 782.99"
            ],
            "metadata": {
                "azdata_cell_guid": "f8bbdb10-379a-426f-811d-94f671518173"
            },
            "attachments": {}
        },
        {
            "cell_type": "code",
            "source": [
                "DECLARE @OrderID INT = 71949 --or 0\r\n",
                "DECLARE @ProductID INT = 760\r\n",
                "DECLARE @Quantity INT = 1\r\n",
                "DECLARE @UnitPrice MONEY = 782.99\r\n",
                "\r\n",
                "IF EXISTS (SELECT * FROM SalesOrderHeader WHERE SalesOrderID = @OrderID)\r\n",
                "BEGIN\r\n",
                "\tINSERT INTO SalesOrderDetail(SalesOrderID, ProductID, OrderQty, UnitPrice)\r\n",
                "\tVALUES (@OrderID, @ProductID, @Quantity, @UnitPrice)\r\n",
                "END\r\n",
                "ELSE\r\n",
                "BEGIN\r\n",
                "\tPRINT('The order does not exis')\r\n",
                "END"
            ],
            "metadata": {
                "azdata_cell_guid": "1d27e967-fb2b-4224-97c0-b3b4386bae4a"
            },
            "outputs": [],
            "execution_count": null
        },
        {
            "cell_type": "markdown",
            "source": [
                "**Challenge 2**\n",
                "\n",
                "  \n",
                "\n",
                "1\\. Write a WHILE loop to update bike prices The loop should:  Execute only if the average list price of a product in the ‘Bikes’ parent category is less than the market average. Note that the product categories in the Bikes parent category can be determined from the SalesLT.vGetAllCategories view.  Update all products that are in the ‘Bikes’ parent category, increasing the list price by 10%.  Determine the new average and maximum selling price for products that are in the ‘Bikes’ parent category.  If the new maximum price is greater than or equal to the maximum acceptable price, exit the loop; otherwise continue."
            ],
            "metadata": {
                "azdata_cell_guid": "855141ae-9d49-419f-9567-ae25c6f38510"
            },
            "attachments": {}
        },
        {
            "cell_type": "code",
            "source": [
                "DECLARE @MarketAvg INT = 2000;\n",
                "DECLARE @MarketMax INT = 5000;\n",
                "DECLARE @Avg INT\n",
                "DECLARE @Max INT\n",
                "SELECT @Avg = AVG(ListPrice), @Max = Max(ListPrice) \n",
                "FROM SalesLT.Product\n",
                ",",
                "FROM Product\n",
                " SalesLT.vGetAllCategories WHERE ParentProductCategoryName = 'Bikes');\n",
                "PRINT @Avg;\n",
                "PRINT @Max;\n",
                "WHILE(@Avg < @MarketAvg)\n",
                "BEGIN\n",
                "\tUPDATE SalesLT.Product\n",
                "\tSET ListPrice = ListPrice*1.1\n",
                "\tWHERE ProductCategoryID IN (SELECT ProductCategoryID FROM SalesLT.vGetAllCategories WHERE ParentProductCategoryName = 'Bikes');\n",
                "\tSELECT VG(ListPrice), @Max = Max(ListPrice) \n",
                "\tFROM SalesLT.Product\n",
                "\tWHERE ProductCategoryID IN\n",
                "\t(SELECT ProductCategoryID FROM SalesLT.vGetAllCategories WHERE ParentProductCategoryName = 'Bikes');\n",
                "\tPRINT @Avg;\n",
                "\tPRINT,",
                "\tIF(@Max >= @MarketMax)\n",
                "\t\tBREAK;\n",
                "\tELSE\n",
                "      CONTINUE;\n",
                "END"
            ],
            "metadata": {
                "azdata_cell_guid": "c64ef096-70f7-4f13-9bef-6d4b36cf316a"
            },
            "outputs": [],
            "execution_count": null
        }
    ]
}