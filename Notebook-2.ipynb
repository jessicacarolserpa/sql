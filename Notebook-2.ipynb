{
    "metadata": {
        "kernelspec": {
            "name": "SQL",
            "display_name": "SQL",
            "language": "sql"
        },
        "language_info": {
            "name": "sql",
            "version": ""
        },
        "extensions": {
            "azuredatastudio": {
                "version": 1,
                "views": []
            }
        }
    },
    "nbformat_minor": 2,
    "nbformat": 4,
    "cells": [
        {
            "cell_type": "code",
            "source": [
                "SELECT * \r\n",
                "FROM empregado e\r\n",
                "INNER JOIN departamento d\r\n",
                "ON e.cod_dept = d.cod_dept"
            ],
            "metadata": {
                "azdata_cell_guid": "d0f93a9c-f7ae-4313-86d8-4f3112624887",
                "tags": []
            },
            "outputs": [
                {
                    "output_type": "display_data",
                    "data": {
                        "text/html": "(4 rows affected)"
                    },
                    "metadata": {}
                },
                {
                    "output_type": "display_data",
                    "data": {
                        "text/html": "Total execution time: 00:00:00.109"
                    },
                    "metadata": {}
                },
                {
                    "output_type": "execute_result",
                    "execution_count": 1,
                    "data": {
                        "application/vnd.dataresource+json": {
                            "schema": {
                                "fields": [
                                    {
                                        "name": "cod_emp"
                                    },
                                    {
                                        "name": "nome_emp"
                                    },
                                    {
                                        "name": "data_admissao"
                                    },
                                    {
                                        "name": "cod_cat"
                                    },
                                    {
                                        "name": "cod_dept"
                                    },
                                    {
                                        "name": "cod_emp_chefe"
                                    },
                                    {
                                        "name": "cod_dept"
                                    },
                                    {
                                        "name": "nome_dept"
                                    },
                                    {
                                        "name": "localizacao"
                                    }
                                ]
                            },
                            "data": [
                                {
                                    "0": "1",
                                    "1": "Antonio Abreu",
                                    "2": "13_jan_75",
                                    "3": "1",
                                    "4": "1",
                                    "5": "NULL",
                                    "6": "1",
                                    "7": "contabilidade",
                                    "8": "Lisboa"
                                },
                                {
                                    "0": "2",
                                    "1": "Bernardo Bento",
                                    "2": "1_dec_81",
                                    "3": "1",
                                    "4": "2",
                                    "5": "1",
                                    "6": "2",
                                    "7": "vendas",
                                    "8": "Porto"
                                },
                                {
                                    "0": "3",
                                    "1": "Carlos Castro",
                                    "2": "4_jun_84",
                                    "3": "2",
                                    "4": "2",
                                    "5": "2",
                                    "6": "2",
                                    "7": "vendas",
                                    "8": "Porto"
                                },
                                {
                                    "0": "20",
                                    "1": "Manuel Matos",
                                    "2": "7_feb_90",
                                    "3": "3",
                                    "4": "2",
                                    "5": "3",
                                    "6": "2",
                                    "7": "vendas",
                                    "8": "Porto"
                                }
                            ]
                        },
                        "text/html": "<table><tr><th>cod_emp</th><th>nome_emp</th><th>data_admissao</th><th>cod_cat</th><th>cod_dept</th><th>cod_emp_chefe</th><th>cod_dept</th><th>nome_dept</th><th>localizacao</th></tr><tr><td>1</td><td>Antonio Abreu</td><td>13_jan_75</td><td>1</td><td>1</td><td>NULL</td><td>1</td><td>contabilidade</td><td>Lisboa</td></tr><tr><td>2</td><td>Bernardo Bento</td><td>1_dec_81</td><td>1</td><td>2</td><td>1</td><td>2</td><td>vendas</td><td>Porto</td></tr><tr><td>3</td><td>Carlos Castro</td><td>4_jun_84</td><td>2</td><td>2</td><td>2</td><td>2</td><td>vendas</td><td>Porto</td></tr><tr><td>20</td><td>Manuel Matos</td><td>7_feb_90</td><td>3</td><td>2</td><td>3</td><td>2</td><td>vendas</td><td>Porto</td></tr></table>"
                    },
                    "metadata": {}
                }
            ],
            "execution_count": 1
        },
        {
            "cell_type": "code",
            "source": [
                "SELECT * \r\n",
                "FROM empregado e\r\n",
                "RIGHT JOIN departamento d\r\n",
                "ON e.cod_dept = d.cod_dept"
            ],
            "metadata": {
                "azdata_cell_guid": "260f6d3e-cb97-4524-b640-eb590bf77d4e"
            },
            "outputs": [
                {
                    "output_type": "display_data",
                    "data": {
                        "text/html": "(6 rows affected)"
                    },
                    "metadata": {}
                },
                {
                    "output_type": "display_data",
                    "data": {
                        "text/html": "Total execution time: 00:00:00.102"
                    },
                    "metadata": {}
                },
                {
                    "output_type": "execute_result",
                    "execution_count": 2,
                    "data": {
                        "application/vnd.dataresource+json": {
                            "schema": {
                                "fields": [
                                    {
                                        "name": "cod_emp"
                                    },
                                    {
                                        "name": "nome_emp"
                                    },
                                    {
                                        "name": "data_admissao"
                                    },
                                    {
                                        "name": "cod_cat"
                                    },
                                    {
                                        "name": "cod_dept"
                                    },
                                    {
                                        "name": "cod_emp_chefe"
                                    },
                                    {
                                        "name": "cod_dept"
                                    },
                                    {
                                        "name": "nome_dept"
                                    },
                                    {
                                        "name": "localizacao"
                                    }
                                ]
                            },
                            "data": [
                                {
                                    "0": "1",
                                    "1": "Antonio Abreu",
                                    "2": "13_jan_75",
                                    "3": "1",
                                    "4": "1",
                                    "5": "NULL",
                                    "6": "1",
                                    "7": "contabilidade",
                                    "8": "Lisboa"
                                },
                                {
                                    "0": "2",
                                    "1": "Bernardo Bento",
                                    "2": "1_dec_81",
                                    "3": "1",
                                    "4": "2",
                                    "5": "1",
                                    "6": "2",
                                    "7": "vendas",
                                    "8": "Porto"
                                },
                                {
                                    "0": "3",
                                    "1": "Carlos Castro",
                                    "2": "4_jun_84",
                                    "3": "2",
                                    "4": "2",
                                    "5": "2",
                                    "6": "2",
                                    "7": "vendas",
                                    "8": "Porto"
                                },
                                {
                                    "0": "20",
                                    "1": "Manuel Matos",
                                    "2": "7_feb_90",
                                    "3": "3",
                                    "4": "2",
                                    "5": "3",
                                    "6": "2",
                                    "7": "vendas",
                                    "8": "Porto"
                                },
                                {
                                    "0": "NULL",
                                    "1": "NULL",
                                    "2": "NULL",
                                    "3": "NULL",
                                    "4": "NULL",
                                    "5": "NULL",
                                    "6": "3",
                                    "7": "investigacao",
                                    "8": "Coimbra"
                                },
                                {
                                    "0": "NULL",
                                    "1": "NULL",
                                    "2": "NULL",
                                    "3": "NULL",
                                    "4": "NULL",
                                    "5": "NULL",
                                    "6": "6",
                                    "7": "Marketing",
                                    "8": "Lisboa"
                                }
                            ]
                        },
                        "text/html": "<table><tr><th>cod_emp</th><th>nome_emp</th><th>data_admissao</th><th>cod_cat</th><th>cod_dept</th><th>cod_emp_chefe</th><th>cod_dept</th><th>nome_dept</th><th>localizacao</th></tr><tr><td>1</td><td>Antonio Abreu</td><td>13_jan_75</td><td>1</td><td>1</td><td>NULL</td><td>1</td><td>contabilidade</td><td>Lisboa</td></tr><tr><td>2</td><td>Bernardo Bento</td><td>1_dec_81</td><td>1</td><td>2</td><td>1</td><td>2</td><td>vendas</td><td>Porto</td></tr><tr><td>3</td><td>Carlos Castro</td><td>4_jun_84</td><td>2</td><td>2</td><td>2</td><td>2</td><td>vendas</td><td>Porto</td></tr><tr><td>20</td><td>Manuel Matos</td><td>7_feb_90</td><td>3</td><td>2</td><td>3</td><td>2</td><td>vendas</td><td>Porto</td></tr><tr><td>NULL</td><td>NULL</td><td>NULL</td><td>NULL</td><td>NULL</td><td>NULL</td><td>3</td><td>investigacao</td><td>Coimbra</td></tr><tr><td>NULL</td><td>NULL</td><td>NULL</td><td>NULL</td><td>NULL</td><td>NULL</td><td>6</td><td>Marketing</td><td>Lisboa</td></tr></table>"
                    },
                    "metadata": {}
                }
            ],
            "execution_count": 2
        },
        {
            "cell_type": "code",
            "source": [
                "SELECT * \r\n",
                "FROM empregado e\r\n",
                "RIGHT JOIN departamento d\r\n",
                "ON e.cod_dept = d.cod_dept\r\n",
                "WHERE cod_emp IS NULL"
            ],
            "metadata": {
                "azdata_cell_guid": "89798b75-7549-4300-8238-6c67006e41fc"
            },
            "outputs": [
                {
                    "output_type": "display_data",
                    "data": {
                        "text/html": "(2 rows affected)"
                    },
                    "metadata": {}
                },
                {
                    "output_type": "display_data",
                    "data": {
                        "text/html": "Total execution time: 00:00:00.103"
                    },
                    "metadata": {}
                },
                {
                    "output_type": "execute_result",
                    "execution_count": 3,
                    "data": {
                        "application/vnd.dataresource+json": {
                            "schema": {
                                "fields": [
                                    {
                                        "name": "cod_emp"
                                    },
                                    {
                                        "name": "nome_emp"
                                    },
                                    {
                                        "name": "data_admissao"
                                    },
                                    {
                                        "name": "cod_cat"
                                    },
                                    {
                                        "name": "cod_dept"
                                    },
                                    {
                                        "name": "cod_emp_chefe"
                                    },
                                    {
                                        "name": "cod_dept"
                                    },
                                    {
                                        "name": "nome_dept"
                                    },
                                    {
                                        "name": "localizacao"
                                    }
                                ]
                            },
                            "data": [
                                {
                                    "0": "NULL",
                                    "1": "NULL",
                                    "2": "NULL",
                                    "3": "NULL",
                                    "4": "NULL",
                                    "5": "NULL",
                                    "6": "3",
                                    "7": "investigacao",
                                    "8": "Coimbra"
                                },
                                {
                                    "0": "NULL",
                                    "1": "NULL",
                                    "2": "NULL",
                                    "3": "NULL",
                                    "4": "NULL",
                                    "5": "NULL",
                                    "6": "6",
                                    "7": "Marketing",
                                    "8": "Lisboa"
                                }
                            ]
                        },
                        "text/html": "<table><tr><th>cod_emp</th><th>nome_emp</th><th>data_admissao</th><th>cod_cat</th><th>cod_dept</th><th>cod_emp_chefe</th><th>cod_dept</th><th>nome_dept</th><th>localizacao</th></tr><tr><td>NULL</td><td>NULL</td><td>NULL</td><td>NULL</td><td>NULL</td><td>NULL</td><td>3</td><td>investigacao</td><td>Coimbra</td></tr><tr><td>NULL</td><td>NULL</td><td>NULL</td><td>NULL</td><td>NULL</td><td>NULL</td><td>6</td><td>Marketing</td><td>Lisboa</td></tr></table>"
                    },
                    "metadata": {}
                }
            ],
            "execution_count": 3
        },
        {
            "cell_type": "code",
            "source": [
                "SELECT d.cod_dept, nome_dept\r\n",
                "FROM empregado e\r\n",
                "RIGHT JOIN departamento d\r\n",
                "ON e.cod_dept = d.cod_dept\r\n",
                "WHERE cod_emp IS NULL"
            ],
            "metadata": {
                "azdata_cell_guid": "7c35c919-f845-4240-a9a1-ec5ba4e925c7"
            },
            "outputs": [
                {
                    "output_type": "display_data",
                    "data": {
                        "text/html": "(2 rows affected)"
                    },
                    "metadata": {}
                },
                {
                    "output_type": "display_data",
                    "data": {
                        "text/html": "Total execution time: 00:00:00.107"
                    },
                    "metadata": {}
                },
                {
                    "output_type": "execute_result",
                    "execution_count": 5,
                    "data": {
                        "application/vnd.dataresource+json": {
                            "schema": {
                                "fields": [
                                    {
                                        "name": "cod_dept"
                                    },
                                    {
                                        "name": "nome_dept"
                                    }
                                ]
                            },
                            "data": [
                                {
                                    "0": "3",
                                    "1": "investigacao"
                                },
                                {
                                    "0": "6",
                                    "1": "Marketing"
                                }
                            ]
                        },
                        "text/html": "<table><tr><th>cod_dept</th><th>nome_dept</th></tr><tr><td>3</td><td>investigacao</td></tr><tr><td>6</td><td>Marketing</td></tr></table>"
                    },
                    "metadata": {}
                }
            ],
            "execution_count": 5
        },
        {
            "cell_type": "code",
            "source": [
                "SELECT * FROM fornecedor\r\n",
                "UNION\r\n",
                "SELECT * FROM cliente\r\n",
                ""
            ],
            "metadata": {
                "azdata_cell_guid": "b393e6c9-8ff9-41fd-8f77-376381e55034"
            },
            "outputs": [
                {
                    "output_type": "display_data",
                    "data": {
                        "text/html": "(6 rows affected)"
                    },
                    "metadata": {}
                },
                {
                    "output_type": "display_data",
                    "data": {
                        "text/html": "Total execution time: 00:00:00.098"
                    },
                    "metadata": {}
                },
                {
                    "output_type": "execute_result",
                    "execution_count": 6,
                    "data": {
                        "application/vnd.dataresource+json": {
                            "schema": {
                                "fields": [
                                    {
                                        "name": "nome"
                                    }
                                ]
                            },
                            "data": [
                                {
                                    "0": "Francisco"
                                },
                                {
                                    "0": "Frederico"
                                },
                                {
                                    "0": "Henrique"
                                },
                                {
                                    "0": "Maria"
                                },
                                {
                                    "0": "Nelson"
                                },
                                {
                                    "0": "Tiago"
                                }
                            ]
                        },
                        "text/html": "<table><tr><th>nome</th></tr><tr><td>Francisco</td></tr><tr><td>Frederico</td></tr><tr><td>Henrique</td></tr><tr><td>Maria</td></tr><tr><td>Nelson</td></tr><tr><td>Tiago</td></tr></table>"
                    },
                    "metadata": {}
                }
            ],
            "execution_count": 6
        },
        {
            "cell_type": "code",
            "source": [
                "SELECT * FROM fornecedor\r\n",
                "UNION ALL\r\n",
                "SELECT * FROM cliente"
            ],
            "metadata": {
                "azdata_cell_guid": "16b2c537-f57f-4d58-a93d-256ec2c037ff"
            },
            "outputs": [
                {
                    "output_type": "display_data",
                    "data": {
                        "text/html": "(8 rows affected)"
                    },
                    "metadata": {}
                },
                {
                    "output_type": "display_data",
                    "data": {
                        "text/html": "Total execution time: 00:00:00.104"
                    },
                    "metadata": {}
                },
                {
                    "output_type": "execute_result",
                    "execution_count": 11,
                    "data": {
                        "application/vnd.dataresource+json": {
                            "schema": {
                                "fields": [
                                    {
                                        "name": "nome"
                                    }
                                ]
                            },
                            "data": [
                                {
                                    "0": "Henrique"
                                },
                                {
                                    "0": "Frederico"
                                },
                                {
                                    "0": "Francisco"
                                },
                                {
                                    "0": "Nelson"
                                },
                                {
                                    "0": "Tiago"
                                },
                                {
                                    "0": "Francisco"
                                },
                                {
                                    "0": "Frederico"
                                },
                                {
                                    "0": "Maria"
                                }
                            ]
                        },
                        "text/html": "<table><tr><th>nome</th></tr><tr><td>Henrique</td></tr><tr><td>Frederico</td></tr><tr><td>Francisco</td></tr><tr><td>Nelson</td></tr><tr><td>Tiago</td></tr><tr><td>Francisco</td></tr><tr><td>Frederico</td></tr><tr><td>Maria</td></tr></table>"
                    },
                    "metadata": {}
                }
            ],
            "execution_count": 11
        },
        {
            "cell_type": "code",
            "source": [
                "SELECT * FROM fornecedor\r\n",
                "EXCEPT\r\n",
                "SELECT * FROM cliente"
            ],
            "metadata": {
                "azdata_cell_guid": "4f13a5be-3f45-4d48-84f3-f7f8a43ee560"
            },
            "outputs": [
                {
                    "output_type": "display_data",
                    "data": {
                        "text/html": "(2 rows affected)"
                    },
                    "metadata": {}
                },
                {
                    "output_type": "display_data",
                    "data": {
                        "text/html": "Total execution time: 00:00:00.101"
                    },
                    "metadata": {}
                },
                {
                    "output_type": "execute_result",
                    "execution_count": 10,
                    "data": {
                        "application/vnd.dataresource+json": {
                            "schema": {
                                "fields": [
                                    {
                                        "name": "nome"
                                    }
                                ]
                            },
                            "data": [
                                {
                                    "0": "Henrique"
                                },
                                {
                                    "0": "Nelson"
                                }
                            ]
                        },
                        "text/html": "<table><tr><th>nome</th></tr><tr><td>Henrique</td></tr><tr><td>Nelson</td></tr></table>"
                    },
                    "metadata": {}
                }
            ],
            "execution_count": 10
        },
        {
            "cell_type": "markdown",
            "source": [
                "Lab 4 cha 2"
            ],
            "metadata": {
                "azdata_cell_guid": "32cfb9d6-0b1a-42ef-8913-248a48cfacec"
            },
            "attachments": {}
        },
        {
            "cell_type": "code",
            "source": [
                "SELECT companyname, addresstype\r\n",
                "FROM customer c \r\n",
                "JOIN CustomerAddress ca\r\n",
                "ON c.CustomerID = ca.CustomerID\r\n",
                "WHERE AddressType = 'Main Office'\r\n",
                "\r\n",
                ""
            ],
            "metadata": {
                "azdata_cell_guid": "499c8b0e-a98c-4f26-a638-a7854f7e7ea9"
            },
            "outputs": [
                {
                    "output_type": "display_data",
                    "data": {
                        "text/html": "(407 rows affected)"
                    },
                    "metadata": {}
                },
                {
                    "output_type": "display_data",
                    "data": {
                        "text/html": "Total execution time: 00:00:00.113"
                    },
                    "metadata": {}
                },
                {
                    "output_type": "execute_result",
                    "execution_count": 15,
                    "data": {
                        "application/vnd.dataresource+json": {
                            "schema": {
                                "fields": [
                                    {
                                        "name": "companyname"
                                    },
                                    {
                                        "name": "addresstype"
                                    }
                                ]
                            },
                            "data": [
                                {
                                    "0": "Professional Sales and Service",
                                    "1": "Main Office"
                                },
                                {
                                    "0": "Riders Company",
                                    "1": "Main Office"
                                },
                                {
                                    "0": "Area Bike Accessories",
                                    "1": "Main Office"
                                },
                                {
                                    "0": "Bicycle Accessories and Kits",
                                    "1": "Main Office"
                                },
                                {
                                    "0": "Valley Bicycle Specialists",
                                    "1": "Main Office"
                                },
                                {
                                    "0": "Vinyl and Plastic Goods Corporation",
                                    "1": "Main Office"
                                },
                                {
                                    "0": "Fun Toys and Bikes",
                                    "1": "Main Office"
                                },
                                {
                                    "0": "Great Bikes ",
                                    "1": "Main Office"
                                },
                                {
                                    "0": "Valley Toy Store",
                                    "1": "Main Office"
                                },
                                {
                                    "0": "Major Sport Suppliers",
                                    "1": "Main Office"
                                },
                                {
                                    "0": "Family's Favorite Bike Shop",
                                    "1": "Main Office"
                                },
                                {
                                    "0": "Imported and Domestic Cycles",
                                    "1": "Main Office"
                                },
                                {
                                    "0": "Systematic Sales",
                                    "1": "Main Office"
                                },
                                {
                                    "0": "Mountain Toy Store",
                                    "1": "Main Office"
                                },
                                {
                                    "0": "Designated Distributors",
                                    "1": "Main Office"
                                },
                                {
                                    "0": "Bold Bike Accessories",
                                    "1": "Main Office"
                                },
                                {
                                    "0": "Serious Cycles",
                                    "1": "Main Office"
                                },
                                {
                                    "0": "Novelty Bikes",
                                    "1": "Main Office"
                                },
                                {
                                    "0": "Brightwork Company",
                                    "1": "Main Office"
                                },
                                {
                                    "0": "Resale Services",
                                    "1": "Main Office"
                                },
                                {
                                    "0": "The Gear Store",
                                    "1": "Main Office"
                                },
                                {
                                    "0": "Immense Manufacturing Company",
                                    "1": "Main Office"
                                },
                                {
                                    "0": "Extended Bike Sales",
                                    "1": "Main Office"
                                },
                                {
                                    "0": "Workout Emporium",
                                    "1": "Main Office"
                                },
                                {
                                    "0": "Work and Play Association",
                                    "1": "Main Office"
                                },
                                {
                                    "0": "Nice Bikes",
                                    "1": "Main Office"
                                },
                                {
                                    "0": "Remarkable Bike Store",
                                    "1": "Main Office"
                                },
                                {
                                    "0": "Road-Way Mart",
                                    "1": "Main Office"
                                },
                                {
                                    "0": "Small Cycle Store",
                                    "1": "Main Office"
                                },
                                {
                                    "0": "Grand Bicycle Stores",
                                    "1": "Main Office"
                                },
                                {
                                    "0": "Kickstand Sellers",
                                    "1": "Main Office"
                                },
                                {
                                    "0": "Gasless Cycle Shop",
                                    "1": "Main Office"
                                },
                                {
                                    "0": "Transportation Options",
                                    "1": "Main Office"
                                },
                                {
                                    "0": "Finer Cycle Shop",
                                    "1": "Main Office"
                                },
                                {
                                    "0": "Center Cycle Shop",
                                    "1": "Main Office"
                                },
                                {
                                    "0": "Bulk Discount Store",
                                    "1": "Main Office"
                                },
                                {
                                    "0": "First-Rate Outlet",
                                    "1": "Main Office"
                                },
                                {
                                    "0": "Another Bicycle Company",
                                    "1": "Main Office"
                                },
                                {
                                    "0": "Unsurpassed Bikes",
                                    "1": "Main Office"
                                },
                                {
                                    "0": "Field Trip Inc",
                                    "1": "Main Office"
                                },
                                {
                                    "0": "Odometers and Accessories Company",
                                    "1": "Main Office"
                                },
                                {
                                    "0": "Scratch-Resistant Finishes Company",
                                    "1": "Main Office"
                                },
                                {
                                    "0": "Safe Cycles Shop",
                                    "1": "Main Office"
                                },
                                {
                                    "0": "Number 1 Supply",
                                    "1": "Main Office"
                                },
                                {
                                    "0": "Golf and Cycle Store",
                                    "1": "Main Office"
                                },
                                {
                                    "0": "World Bike Discount Store",
                                    "1": "Main Office"
                                },
                                {
                                    "0": "Historic Bicycle Sales",
                                    "1": "Main Office"
                                },
                                {
                                    "0": "Commuter Bicycle Store",
                                    "1": "Main Office"
                                },
                                {
                                    "0": "Coalition Bike Company",
                                    "1": "Main Office"
                                },
                                {
                                    "0": "Travel Systems",
                                    "1": "Main Office"
                                },
                                {
                                    "0": "Grease and Oil Products Company",
                                    "1": "Main Office"
                                },
                                {
                                    "0": "Moderately-Priced Bikes Store",
                                    "1": "Main Office"
                                },
                                {
                                    "0": "Economy Bikes Company",
                                    "1": "Main Office"
                                },
                                {
                                    "0": "Third Bike Store",
                                    "1": "Main Office"
                                },
                                {
                                    "0": "Bikes for Two",
                                    "1": "Main Office"
                                },
                                {
                                    "0": "Metal Processing Company",
                                    "1": "Main Office"
                                },
                                {
                                    "0": "Initial Bike Company",
                                    "1": "Main Office"
                                },
                                {
                                    "0": "Latest Sports Equipment",
                                    "1": "Main Office"
                                },
                                {
                                    "0": "Raw Materials Inc",
                                    "1": "Main Office"
                                },
                                {
                                    "0": "Lots of Bikes Storehouse",
                                    "1": "Main Office"
                                },
                                {
                                    "0": "Futuristic Bikes",
                                    "1": "Main Office"
                                },
                                {
                                    "0": "Parcel Express Delivery Service",
                                    "1": "Main Office"
                                },
                                {
                                    "0": "Prosperous Tours",
                                    "1": "Main Office"
                                },
                                {
                                    "0": "Nonskid Tire Company",
                                    "1": "Main Office"
                                },
                                {
                                    "0": "Metro Bike Works",
                                    "1": "Main Office"
                                },
                                {
                                    "0": "Best o' Bikes",
                                    "1": "Main Office"
                                },
                                {
                                    "0": "Client Discount Store",
                                    "1": "Main Office"
                                },
                                {
                                    "0": "Requisite Part Supply",
                                    "1": "Main Office"
                                },
                                {
                                    "0": "Mechanical Products Ltd.",
                                    "1": "Main Office"
                                },
                                {
                                    "0": "Commendable Bikes",
                                    "1": "Main Office"
                                },
                                {
                                    "0": "Online Bike Sellers",
                                    "1": "Main Office"
                                },
                                {
                                    "0": "Custom Accessories Company",
                                    "1": "Main Office"
                                },
                                {
                                    "0": "Courteous Bicycle Specialists",
                                    "1": "Main Office"
                                },
                                {
                                    "0": "Professional Cycle Store",
                                    "1": "Main Office"
                                },
                                {
                                    "0": "Fifth Bike Store",
                                    "1": "Main Office"
                                },
                                {
                                    "0": "Farthest Bike Store",
                                    "1": "Main Office"
                                },
                                {
                                    "0": "Alternative Vehicles",
                                    "1": "Main Office"
                                },
                                {
                                    "0": "Channel Outlet",
                                    "1": "Main Office"
                                },
                                {
                                    "0": "Retail Mall",
                                    "1": "Main Office"
                                },
                                {
                                    "0": "Metro Metals Co.",
                                    "1": "Main Office"
                                },
                                {
                                    "0": "Sheet Metal Manufacturing",
                                    "1": "Main Office"
                                },
                                {
                                    "0": "Thorough Parts and Repair Services",
                                    "1": "Main Office"
                                },
                                {
                                    "0": "Uttermost Bike Shop",
                                    "1": "Main Office"
                                },
                                {
                                    "0": "Two-Wheeled Transit Company",
                                    "1": "Main Office"
                                },
                                {
                                    "0": "Metro Cycle Shop",
                                    "1": "Main Office"
                                },
                                {
                                    "0": "Outdoor Sporting Goods",
                                    "1": "Main Office"
                                },
                                {
                                    "0": "Petroleum Products Distributors",
                                    "1": "Main Office"
                                },
                                {
                                    "0": "Bikes and Motorbikes",
                                    "1": "Main Office"
                                },
                                {
                                    "0": "Camping and Sports Store",
                                    "1": "Main Office"
                                },
                                {
                                    "0": "Rural Department Store",
                                    "1": "Main Office"
                                },
                                {
                                    "0": "Sports Commodities",
                                    "1": "Main Office"
                                },
                                {
                                    "0": "Responsible Bike Dealers",
                                    "1": "Main Office"
                                },
                                {
                                    "0": "Western Bike Supplies",
                                    "1": "Main Office"
                                },
                                {
                                    "0": "Advanced Bike Components",
                                    "1": "Main Office"
                                },
                                {
                                    "0": "Aerobic Exercise Company",
                                    "1": "Main Office"
                                },
                                {
                                    "0": "Corner Bicycle Supply",
                                    "1": "Main Office"
                                },
                                {
                                    "0": "Westside Plaza",
                                    "1": "Main Office"
                                },
                                {
                                    "0": "Outstanding Cycles",
                                    "1": "Main Office"
                                },
                                {
                                    "0": "Vigorous Sports Store",
                                    "1": "Main Office"
                                },
                                {
                                    "0": "Sports Merchandise",
                                    "1": "Main Office"
                                },
                                {
                                    "0": "Fitness Toy Store",
                                    "1": "Main Office"
                                },
                                {
                                    "0": "General Cycle Storehouse",
                                    "1": "Main Office"
                                },
                                {
                                    "0": "Fitness Cycling",
                                    "1": "Main Office"
                                },
                                {
                                    "0": "Good Bike Shop",
                                    "1": "Main Office"
                                },
                                {
                                    "0": "Thrilling Bike Tours",
                                    "1": "Main Office"
                                },
                                {
                                    "0": "This Area Sporting Goods",
                                    "1": "Main Office"
                                },
                                {
                                    "0": "Full-Service Bike Store",
                                    "1": "Main Office"
                                },
                                {
                                    "0": "Genuine Bike Shop",
                                    "1": "Main Office"
                                },
                                {
                                    "0": "Extreme Riding Supplies",
                                    "1": "Main Office"
                                },
                                {
                                    "0": "Fleet Bikes",
                                    "1": "Main Office"
                                },
                                {
                                    "0": "Local Hardware Factory",
                                    "1": "Main Office"
                                },
                                {
                                    "0": "South Bike Company",
                                    "1": "Main Office"
                                },
                                {
                                    "0": "Discount Bicycle Specialists",
                                    "1": "Main Office"
                                },
                                {
                                    "0": "Machines & Cycles Store",
                                    "1": "Main Office"
                                },
                                {
                                    "0": "Two Wheels Cycle Store",
                                    "1": "Main Office"
                                },
                                {
                                    "0": "Westside Cycle Store",
                                    "1": "Main Office"
                                },
                                {
                                    "0": "Urban Sports Emporium",
                                    "1": "Main Office"
                                },
                                {
                                    "0": "Sixth Bike Store",
                                    "1": "Main Office"
                                },
                                {
                                    "0": "Vehicle Shop",
                                    "1": "Main Office"
                                },
                                {
                                    "0": "First Department Stores",
                                    "1": "Main Office"
                                },
                                {
                                    "0": "Grand Sport Boutique",
                                    "1": "Main Office"
                                },
                                {
                                    "0": "Distinctive Store",
                                    "1": "Main Office"
                                },
                                {
                                    "0": "Handy Bike Services",
                                    "1": "Main Office"
                                },
                                {
                                    "0": "Friendly Bike Shop",
                                    "1": "Main Office"
                                },
                                {
                                    "0": "Fashionable Bikes and Accessories",
                                    "1": "Main Office"
                                },
                                {
                                    "0": "Citywide Service and Repair",
                                    "1": "Main Office"
                                },
                                {
                                    "0": "Rugged Bikes",
                                    "1": "Main Office"
                                },
                                {
                                    "0": "Principal Bike Company",
                                    "1": "Main Office"
                                },
                                {
                                    "0": "Finer Riding Supplies",
                                    "1": "Main Office"
                                },
                                {
                                    "0": "Neighborhood Store",
                                    "1": "Main Office"
                                },
                                {
                                    "0": "Paint Supply",
                                    "1": "Main Office"
                                },
                                {
                                    "0": "Preferred Bikes",
                                    "1": "Main Office"
                                },
                                {
                                    "0": "Rewarding Activities Company",
                                    "1": "Main Office"
                                },
                                {
                                    "0": "Stationary Bikes and Stands",
                                    "1": "Main Office"
                                },
                                {
                                    "0": "Successful Sales Company",
                                    "1": "Main Office"
                                },
                                {
                                    "0": "Downtown Hotel",
                                    "1": "Main Office"
                                },
                                {
                                    "0": "Certified Sports Supply",
                                    "1": "Main Office"
                                },
                                {
                                    "0": "Rampart Amusement Company",
                                    "1": "Main Office"
                                },
                                {
                                    "0": "Sundry Sporting Goods",
                                    "1": "Main Office"
                                },
                                {
                                    "0": "Farthermost Bike Shop",
                                    "1": "Main Office"
                                },
                                {
                                    "0": "Suburban Cycle Shop",
                                    "1": "Main Office"
                                },
                                {
                                    "0": "Racing Bike Outlet",
                                    "1": "Main Office"
                                },
                                {
                                    "0": "Utilitarian Sporting Goods",
                                    "1": "Main Office"
                                },
                                {
                                    "0": "Vigorous Exercise Company",
                                    "1": "Main Office"
                                },
                                {
                                    "0": "Stock Parts and Supplies",
                                    "1": "Main Office"
                                },
                                {
                                    "0": "Roadway Supplies",
                                    "1": "Main Office"
                                },
                                {
                                    "0": "Future Bikes",
                                    "1": "Main Office"
                                },
                                {
                                    "0": "Satin Finish Company",
                                    "1": "Main Office"
                                },
                                {
                                    "0": "Regional Manufacturing",
                                    "1": "Main Office"
                                },
                                {
                                    "0": "Original Bicycle Supply Company",
                                    "1": "Main Office"
                                },
                                {
                                    "0": "Action Bicycle Specialists",
                                    "1": "Main Office"
                                },
                                {
                                    "0": "Roadway Bike Emporium",
                                    "1": "Main Office"
                                },
                                {
                                    "0": "Sleek Bikes ",
                                    "1": "Main Office"
                                },
                                {
                                    "0": "Retail Sporting Equipment",
                                    "1": "Main Office"
                                },
                                {
                                    "0": "Price-Cutter Discount Bikes",
                                    "1": "Main Office"
                                },
                                {
                                    "0": "Central Bicycle Specialists",
                                    "1": "Main Office"
                                },
                                {
                                    "0": "Vast Bike Sales and Rental",
                                    "1": "Main Office"
                                },
                                {
                                    "0": "Summer Sports Place",
                                    "1": "Main Office"
                                },
                                {
                                    "0": "Real Sporting Goods",
                                    "1": "Main Office"
                                },
                                {
                                    "0": "The Bike Shop",
                                    "1": "Main Office"
                                },
                                {
                                    "0": "Safe Toys",
                                    "1": "Main Office"
                                },
                                {
                                    "0": "Our Sporting Goods Store",
                                    "1": "Main Office"
                                },
                                {
                                    "0": "Coho Sports",
                                    "1": "Main Office"
                                },
                                {
                                    "0": "Quick Delivery Service",
                                    "1": "Main Office"
                                },
                                {
                                    "0": "Basic Sports Equipment",
                                    "1": "Main Office"
                                },
                                {
                                    "0": "Cash & Carry Bikes",
                                    "1": "Main Office"
                                },
                                {
                                    "0": "General Bike Corporation",
                                    "1": "Main Office"
                                },
                                {
                                    "0": "Retail Cycle Shop",
                                    "1": "Main Office"
                                },
                                {
                                    "0": "Social Activities Club",
                                    "1": "Main Office"
                                },
                                {
                                    "0": "Blue Bicycle Company",
                                    "1": "Main Office"
                                },
                                {
                                    "0": "General Riding Supplies",
                                    "1": "Main Office"
                                },
                                {
                                    "0": "Riding Excursions",
                                    "1": "Main Office"
                                },
                                {
                                    "0": "Unique Bikes",
                                    "1": "Main Office"
                                },
                                {
                                    "0": "Rural Cycle Emporium",
                                    "1": "Main Office"
                                },
                                {
                                    "0": "Associated Bikes",
                                    "1": "Main Office"
                                },
                                {
                                    "0": "Modular Cycle Systems",
                                    "1": "Main Office"
                                },
                                {
                                    "0": "A Bike Store",
                                    "1": "Main Office"
                                },
                                {
                                    "0": "Journey Sporting Goods",
                                    "1": "Main Office"
                                },
                                {
                                    "0": "Two Bike Shops",
                                    "1": "Main Office"
                                },
                                {
                                    "0": "Cycles Wholesaler & Mfg.",
                                    "1": "Main Office"
                                },
                                {
                                    "0": "Number One Bike Co.",
                                    "1": "Main Office"
                                },
                                {
                                    "0": "Standard Bikes",
                                    "1": "Main Office"
                                },
                                {
                                    "0": "The Bicycle Accessories Company",
                                    "1": "Main Office"
                                },
                                {
                                    "0": "Active Systems",
                                    "1": "Main Office"
                                },
                                {
                                    "0": "Futuristic Sport Distributors",
                                    "1": "Main Office"
                                },
                                {
                                    "0": "Big-Time Bike Store",
                                    "1": "Main Office"
                                },
                                {
                                    "0": "The Showroom",
                                    "1": "Main Office"
                                },
                                {
                                    "0": "Year-Round Sports",
                                    "1": "Main Office"
                                },
                                {
                                    "0": "The New Bike Store",
                                    "1": "Main Office"
                                },
                                {
                                    "0": "Primary Bike Distributors",
                                    "1": "Main Office"
                                },
                                {
                                    "0": "Genial Bike Associates",
                                    "1": "Main Office"
                                },
                                {
                                    "0": "Commercial Sporting Goods",
                                    "1": "Main Office"
                                },
                                {
                                    "0": "Wholesale Parts",
                                    "1": "Main Office"
                                },
                                {
                                    "0": "Riding Cycles",
                                    "1": "Main Office"
                                },
                                {
                                    "0": "Metro Manufacturing",
                                    "1": "Main Office"
                                },
                                {
                                    "0": "Locks Company",
                                    "1": "Main Office"
                                },
                                {
                                    "0": "Latest Accessories Sales",
                                    "1": "Main Office"
                                },
                                {
                                    "0": "Greater Bike Store",
                                    "1": "Main Office"
                                },
                                {
                                    "0": "Distant Inn",
                                    "1": "Main Office"
                                },
                                {
                                    "0": "Finer Mart",
                                    "1": "Main Office"
                                },
                                {
                                    "0": "Cross-Country Riding Supplies",
                                    "1": "Main Office"
                                },
                                {
                                    "0": "Bike World",
                                    "1": "Main Office"
                                },
                                {
                                    "0": "Central Discount Store",
                                    "1": "Main Office"
                                },
                                {
                                    "0": "Sharp Bikes",
                                    "1": "Main Office"
                                },
                                {
                                    "0": "Metropolitan Sports Supply",
                                    "1": "Main Office"
                                },
                                {
                                    "0": "Progressive Sports",
                                    "1": "Main Office"
                                },
                                {
                                    "0": "Brakes and Gears",
                                    "1": "Main Office"
                                },
                                {
                                    "0": "The Accessories Store",
                                    "1": "Main Office"
                                },
                                {
                                    "0": "Family Cycle Store",
                                    "1": "Main Office"
                                },
                                {
                                    "0": "Superb Sales and Repair",
                                    "1": "Main Office"
                                },
                                {
                                    "0": "Countryside Company",
                                    "1": "Main Office"
                                },
                                {
                                    "0": "First Bike Store",
                                    "1": "Main Office"
                                },
                                {
                                    "0": "General Department Stores",
                                    "1": "Main Office"
                                },
                                {
                                    "0": "Operational Manufacturing",
                                    "1": "Main Office"
                                },
                                {
                                    "0": "Online Bike Warehouse",
                                    "1": "Main Office"
                                },
                                {
                                    "0": "Small Bike Shop",
                                    "1": "Main Office"
                                },
                                {
                                    "0": "Superior Hardware Distributors",
                                    "1": "Main Office"
                                },
                                {
                                    "0": "Eastside Parts Shop",
                                    "1": "Main Office"
                                },
                                {
                                    "0": "First Cycle Store",
                                    "1": "Main Office"
                                },
                                {
                                    "0": "Running and Cycling Gear",
                                    "1": "Main Office"
                                },
                                {
                                    "0": "Good Toys",
                                    "1": "Main Office"
                                },
                                {
                                    "0": "Little Bicycle Supply Shop",
                                    "1": "Main Office"
                                },
                                {
                                    "0": "All Seasons Sports Supply",
                                    "1": "Main Office"
                                },
                                {
                                    "0": "Leisure Clearing House",
                                    "1": "Main Office"
                                },
                                {
                                    "0": "The Commissary",
                                    "1": "Main Office"
                                },
                                {
                                    "0": "Affordable Sports Equipment",
                                    "1": "Main Office"
                                },
                                {
                                    "0": "Local Sales and Rental",
                                    "1": "Main Office"
                                },
                                {
                                    "0": "Economy Center",
                                    "1": "Main Office"
                                },
                                {
                                    "0": "Area Sheet Metal Supply",
                                    "1": "Main Office"
                                },
                                {
                                    "0": "Synthetic Materials Manufacturing",
                                    "1": "Main Office"
                                },
                                {
                                    "0": "Rural Sales and Service",
                                    "1": "Main Office"
                                },
                                {
                                    "0": "Tubeless Tire Company",
                                    "1": "Main Office"
                                },
                                {
                                    "0": "Hardware Components",
                                    "1": "Main Office"
                                },
                                {
                                    "0": "Retail Sporting Goods",
                                    "1": "Main Office"
                                },
                                {
                                    "0": "Efficient Cycling",
                                    "1": "Main Office"
                                },
                                {
                                    "0": "General Industries",
                                    "1": "Main Office"
                                },
                                {
                                    "0": "Highway Bike Shop",
                                    "1": "Main Office"
                                },
                                {
                                    "0": "Rental Bikes",
                                    "1": "Main Office"
                                },
                                {
                                    "0": "Roving Sports",
                                    "1": "Main Office"
                                },
                                {
                                    "0": "Express Bike Services",
                                    "1": "Main Office"
                                },
                                {
                                    "0": "Retail Discount Store",
                                    "1": "Main Office"
                                },
                                {
                                    "0": "Vale Riding Supplies",
                                    "1": "Main Office"
                                },
                                {
                                    "0": "A Great Bicycle Company",
                                    "1": "Main Office"
                                },
                                {
                                    "0": "Certified Bicycle Supply",
                                    "1": "Main Office"
                                },
                                {
                                    "0": "Exceptional Cycle Services",
                                    "1": "Main Office"
                                },
                                {
                                    "0": "Leisure Activities",
                                    "1": "Main Office"
                                },
                                {
                                    "0": "Paints and Solvents Company",
                                    "1": "Main Office"
                                },
                                {
                                    "0": "Bikes for Kids and Adults",
                                    "1": "Main Office"
                                },
                                {
                                    "0": "Home Town Bike Store",
                                    "1": "Main Office"
                                },
                                {
                                    "0": "Sample Bike Store",
                                    "1": "Main Office"
                                },
                                {
                                    "0": "Extras Sporting Goods",
                                    "1": "Main Office"
                                },
                                {
                                    "0": "Sure & Reliable Sporting Goods",
                                    "1": "Main Office"
                                },
                                {
                                    "0": "Separate Parts Corporation",
                                    "1": "Main Office"
                                },
                                {
                                    "0": "Basic Bike Company",
                                    "1": "Main Office"
                                },
                                {
                                    "0": "Fabrikam Inc., West",
                                    "1": "Main Office"
                                },
                                {
                                    "0": "Non-Slip Pedal Company",
                                    "1": "Main Office"
                                },
                                {
                                    "0": "Weekend Bike Tours",
                                    "1": "Main Office"
                                },
                                {
                                    "0": "General Supplies",
                                    "1": "Main Office"
                                },
                                {
                                    "0": "Racing Toys",
                                    "1": "Main Office"
                                },
                                {
                                    "0": "Capable Sales and Service",
                                    "1": "Main Office"
                                },
                                {
                                    "0": "Road Way Sales and Rental",
                                    "1": "Main Office"
                                },
                                {
                                    "0": "Sturdy Toys",
                                    "1": "Main Office"
                                },
                                {
                                    "0": "Beneficial Exercises and Activities",
                                    "1": "Main Office"
                                },
                                {
                                    "0": "Fad Outlet",
                                    "1": "Main Office"
                                },
                                {
                                    "0": "Commerce Bicycle Specialists",
                                    "1": "Main Office"
                                },
                                {
                                    "0": "Acceptable Sales & Service",
                                    "1": "Main Office"
                                },
                                {
                                    "0": "District Mall",
                                    "1": "Main Office"
                                },
                                {
                                    "0": "Fitness Supplies",
                                    "1": "Main Office"
                                },
                                {
                                    "0": "Mail Market",
                                    "1": "Main Office"
                                },
                                {
                                    "0": "Twelfth Bike Store",
                                    "1": "Main Office"
                                },
                                {
                                    "0": "Consolidated Messenger",
                                    "1": "Main Office"
                                },
                                {
                                    "0": "Field Trip Store",
                                    "1": "Main Office"
                                },
                                {
                                    "0": "Finish and Sealant Products",
                                    "1": "Main Office"
                                },
                                {
                                    "0": "Finer Parts Shop",
                                    "1": "Main Office"
                                },
                                {
                                    "0": "Up-To-Date Sports",
                                    "1": "Main Office"
                                },
                                {
                                    "0": "Mountain Bike Center",
                                    "1": "Main Office"
                                },
                                {
                                    "0": "Specialty Sports Store",
                                    "1": "Main Office"
                                },
                                {
                                    "0": "Scooters and Bikes Store",
                                    "1": "Main Office"
                                },
                                {
                                    "0": "Closest Bicycle Store",
                                    "1": "Main Office"
                                },
                                {
                                    "0": "Reasonable Bicycle Sales",
                                    "1": "Main Office"
                                },
                                {
                                    "0": "Outdoor Sports Supply",
                                    "1": "Main Office"
                                },
                                {
                                    "0": "Outdoor Aerobic Systems Company",
                                    "1": "Main Office"
                                },
                                {
                                    "0": "Metal Clearing House",
                                    "1": "Main Office"
                                },
                                {
                                    "0": "Many Bikes Store",
                                    "1": "Main Office"
                                },
                                {
                                    "0": "Largest Bike Store",
                                    "1": "Main Office"
                                },
                                {
                                    "0": "Kickstands and Accessories Company",
                                    "1": "Main Office"
                                },
                                {
                                    "0": "Instruments and Parts Company",
                                    "1": "Main Office"
                                },
                                {
                                    "0": "Gear-Shift Bikes Limited",
                                    "1": "Main Office"
                                },
                                {
                                    "0": "Frugal Bike Shop",
                                    "1": "Main Office"
                                },
                                {
                                    "0": "Family Entertainment Center",
                                    "1": "Main Office"
                                },
                                {
                                    "0": "Go-cart and Bike Specialists",
                                    "1": "Main Office"
                                },
                                {
                                    "0": "Trailblazing Sports",
                                    "1": "Main Office"
                                },
                                {
                                    "0": "Racing Partners",
                                    "1": "Main Office"
                                },
                                {
                                    "0": "Exhibition Showroom",
                                    "1": "Main Office"
                                },
                                {
                                    "0": "Authorized Bike Sales and Rental",
                                    "1": "Main Office"
                                },
                                {
                                    "0": "Two-Seater Bikes",
                                    "1": "Main Office"
                                },
                                {
                                    "0": "More Bikes!",
                                    "1": "Main Office"
                                },
                                {
                                    "0": "National Manufacturing",
                                    "1": "Main Office"
                                },
                                {
                                    "0": "Town Industries",
                                    "1": "Main Office"
                                },
                                {
                                    "0": "Security Racks and Locks Wholesalers",
                                    "1": "Main Office"
                                },
                                {
                                    "0": "Rapid Bikes",
                                    "1": "Main Office"
                                },
                                {
                                    "0": "Nearby Sporting Goods",
                                    "1": "Main Office"
                                },
                                {
                                    "0": "Front Sporting Goods",
                                    "1": "Main Office"
                                },
                                {
                                    "0": "Elite Bikes",
                                    "1": "Main Office"
                                },
                                {
                                    "0": "Catalog Store",
                                    "1": "Main Office"
                                },
                                {
                                    "0": "Chic Department Stores",
                                    "1": "Main Office"
                                },
                                {
                                    "0": "Eastside Department Store",
                                    "1": "Main Office"
                                },
                                {
                                    "0": "Cycle Merchants",
                                    "1": "Main Office"
                                },
                                {
                                    "0": "Fitness Hotel",
                                    "1": "Main Office"
                                },
                                {
                                    "0": "Grand Industries",
                                    "1": "Main Office"
                                },
                                {
                                    "0": "Leading Sales & Repair",
                                    "1": "Main Office"
                                },
                                {
                                    "0": "Tandem Sales and Service",
                                    "1": "Main Office"
                                },
                                {
                                    "0": "Reliable Retail Center",
                                    "1": "Main Office"
                                },
                                {
                                    "0": "Friendly Bike Shop",
                                    "1": "Main Office"
                                },
                                {
                                    "0": "Yellow Bicycle Company",
                                    "1": "Main Office"
                                },
                                {
                                    "0": "Sports Products Store",
                                    "1": "Main Office"
                                },
                                {
                                    "0": "Shipping Specialists",
                                    "1": "Main Office"
                                },
                                {
                                    "0": "Authentic Sales and Service",
                                    "1": "Main Office"
                                },
                                {
                                    "0": "Official Parts Shop",
                                    "1": "Main Office"
                                },
                                {
                                    "0": "Discount Tours",
                                    "1": "Main Office"
                                },
                                {
                                    "0": "Tire Exchange",
                                    "1": "Main Office"
                                },
                                {
                                    "0": "Oils and Fluids Warehouse",
                                    "1": "Main Office"
                                },
                                {
                                    "0": "Rally Master Company Inc",
                                    "1": "Main Office"
                                },
                                {
                                    "0": "Professional Cyclists",
                                    "1": "Main Office"
                                },
                                {
                                    "0": "Exclusive Bicycle Mart",
                                    "1": "Main Office"
                                },
                                {
                                    "0": "City Manufacturing",
                                    "1": "Main Office"
                                },
                                {
                                    "0": "Bike Dealers Association",
                                    "1": "Main Office"
                                },
                                {
                                    "0": "Health Spa, Limited",
                                    "1": "Main Office"
                                },
                                {
                                    "0": "Closeout Boutique",
                                    "1": "Main Office"
                                },
                                {
                                    "0": "Bicycle Merchandise Warehouse",
                                    "1": "Main Office"
                                },
                                {
                                    "0": "Leather Seat Factory",
                                    "1": "Main Office"
                                },
                                {
                                    "0": "Practical Bike Supply Company",
                                    "1": "Main Office"
                                },
                                {
                                    "0": "Some Discount Store",
                                    "1": "Main Office"
                                },
                                {
                                    "0": "Variety Cycling",
                                    "1": "Main Office"
                                },
                                {
                                    "0": "Remote Bicycle Specialists",
                                    "1": "Main Office"
                                },
                                {
                                    "0": "Friendly Neighborhood Bikes",
                                    "1": "Main Office"
                                },
                                {
                                    "0": "Recommended Bicycles",
                                    "1": "Main Office"
                                },
                                {
                                    "0": "Alpine Ski House",
                                    "1": "Main Office"
                                },
                                {
                                    "0": "Seats and Saddles Company",
                                    "1": "Main Office"
                                },
                                {
                                    "0": "All Cycle Shop",
                                    "1": "Main Office"
                                },
                                {
                                    "0": "Tachometers and Accessories",
                                    "1": "Main Office"
                                },
                                {
                                    "0": "Low Price Cycles",
                                    "1": "Main Office"
                                },
                                {
                                    "0": "Metropolitan Manufacturing",
                                    "1": "Main Office"
                                },
                                {
                                    "0": "Orange Bicycle Company",
                                    "1": "Main Office"
                                },
                                {
                                    "0": "Riding Associates",
                                    "1": "Main Office"
                                },
                                {
                                    "0": "Essential Bike Works",
                                    "1": "Main Office"
                                },
                                {
                                    "0": "Engineered Bike Systems",
                                    "1": "Main Office"
                                },
                                {
                                    "0": "Professional Containers and Packaging Co.",
                                    "1": "Main Office"
                                },
                                {
                                    "0": "One Bike Company",
                                    "1": "Main Office"
                                },
                                {
                                    "0": "Cycling Goods",
                                    "1": "Main Office"
                                },
                                {
                                    "0": "Cycle Clearance",
                                    "1": "Main Office"
                                },
                                {
                                    "0": "Black Bicycle Company",
                                    "1": "Main Office"
                                },
                                {
                                    "0": "Transport Bikes",
                                    "1": "Main Office"
                                },
                                {
                                    "0": "Sellers of Cycles",
                                    "1": "Main Office"
                                },
                                {
                                    "0": "Maintenance and Repair for Bicycles",
                                    "1": "Main Office"
                                },
                                {
                                    "0": "Fitness Department Stores",
                                    "1": "Main Office"
                                },
                                {
                                    "0": "Famous Bike Shop",
                                    "1": "Main Office"
                                },
                                {
                                    "0": "Gift and Toy Store",
                                    "1": "Main Office"
                                },
                                {
                                    "0": "Major Sporting Goods",
                                    "1": "Main Office"
                                },
                                {
                                    "0": "Major Cycling",
                                    "1": "Main Office"
                                },
                                {
                                    "0": "Downhill Bicycle Specialists",
                                    "1": "Main Office"
                                },
                                {
                                    "0": "Bike Experts",
                                    "1": "Main Office"
                                },
                                {
                                    "0": "Extraordinary Bike Works",
                                    "1": "Main Office"
                                },
                                {
                                    "0": "Valley Bicycle Distributors",
                                    "1": "Main Office"
                                },
                                {
                                    "0": "Top Sports Supply",
                                    "1": "Main Office"
                                },
                                {
                                    "0": "Metropolitan Bicycle Supply",
                                    "1": "Main Office"
                                },
                                {
                                    "0": "Honest Repair Service",
                                    "1": "Main Office"
                                },
                                {
                                    "0": "Wheel Gallery",
                                    "1": "Main Office"
                                },
                                {
                                    "0": "Top Bike Market",
                                    "1": "Main Office"
                                },
                                {
                                    "0": "Bicycle Lines Distributors",
                                    "1": "Main Office"
                                },
                                {
                                    "0": "Sparkling Paint and Finishes",
                                    "1": "Main Office"
                                },
                                {
                                    "0": "Plastic Parts Company",
                                    "1": "Main Office"
                                },
                                {
                                    "0": "Big Cycle Mall",
                                    "1": "Main Office"
                                },
                                {
                                    "0": "Eighth Bike Store",
                                    "1": "Main Office"
                                },
                                {
                                    "0": "Demand Distributors",
                                    "1": "Main Office"
                                },
                                {
                                    "0": "Red Bicycle Company",
                                    "1": "Main Office"
                                },
                                {
                                    "0": "Trendy Department Stores",
                                    "1": "Main Office"
                                },
                                {
                                    "0": "Vintage Sport Boutique",
                                    "1": "Main Office"
                                },
                                {
                                    "0": "Travel Sports",
                                    "1": "Main Office"
                                },
                                {
                                    "0": "West Side Mart",
                                    "1": "Main Office"
                                },
                                {
                                    "0": "Tenth Bike Store",
                                    "1": "Main Office"
                                },
                                {
                                    "0": "Fun Times Club",
                                    "1": "Main Office"
                                },
                                {
                                    "0": "Wingtip Toys",
                                    "1": "Main Office"
                                },
                                {
                                    "0": "Active Life Toys",
                                    "1": "Main Office"
                                },
                                {
                                    "0": "Quick Parts and Service",
                                    "1": "Main Office"
                                },
                                {
                                    "0": "Thrifty Parts and Sales",
                                    "1": "Main Office"
                                },
                                {
                                    "0": "A Typical Bike Shop",
                                    "1": "Main Office"
                                },
                                {
                                    "0": "Fasteners & Bolts Outlet",
                                    "1": "Main Office"
                                },
                                {
                                    "0": "Quantity Discounts",
                                    "1": "Main Office"
                                },
                                {
                                    "0": "Swift Cycles",
                                    "1": "Main Office"
                                },
                                {
                                    "0": "Large Bike Shop",
                                    "1": "Main Office"
                                },
                                {
                                    "0": "Wire Baskets and Parts",
                                    "1": "Main Office"
                                },
                                {
                                    "0": "Sports Store",
                                    "1": "Main Office"
                                },
                                {
                                    "0": "Extended Tours",
                                    "1": "Main Office"
                                },
                                {
                                    "0": "Convenient Sales and Service",
                                    "1": "Main Office"
                                },
                                {
                                    "0": "Solid Bike Parts",
                                    "1": "Main Office"
                                },
                                {
                                    "0": "Permanent Finish Products",
                                    "1": "Main Office"
                                },
                                {
                                    "0": "Mercantile Outlet",
                                    "1": "Main Office"
                                },
                                {
                                    "0": "Exhilarating Cycles",
                                    "1": "Main Office"
                                },
                                {
                                    "0": "Exercise Center",
                                    "1": "Main Office"
                                },
                                {
                                    "0": "Great Bicycle Supply",
                                    "1": "Main Office"
                                },
                                {
                                    "0": "Mail-Order Outlet",
                                    "1": "Main Office"
                                },
                                {
                                    "0": "Nearby Cycle Shop",
                                    "1": "Main Office"
                                },
                                {
                                    "0": "Retreat Inn",
                                    "1": "Main Office"
                                },
                                {
                                    "0": "Technical Parts Manufacturing",
                                    "1": "Main Office"
                                },
                                {
                                    "0": "Totes & Baskets Company",
                                    "1": "Main Office"
                                },
                                {
                                    "0": "World of Bikes",
                                    "1": "Main Office"
                                }
                            ]
                        },
                        "text/html": "<table><tr><th>companyname</th><th>addresstype</th></tr><tr><td>Professional Sales and Service</td><td>Main Office</td></tr><tr><td>Riders Company</td><td>Main Office</td></tr><tr><td>Area Bike Accessories</td><td>Main Office</td></tr><tr><td>Bicycle Accessories and Kits</td><td>Main Office</td></tr><tr><td>Valley Bicycle Specialists</td><td>Main Office</td></tr><tr><td>Vinyl and Plastic Goods Corporation</td><td>Main Office</td></tr><tr><td>Fun Toys and Bikes</td><td>Main Office</td></tr><tr><td>Great Bikes </td><td>Main Office</td></tr><tr><td>Valley Toy Store</td><td>Main Office</td></tr><tr><td>Major Sport Suppliers</td><td>Main Office</td></tr><tr><td>Family's Favorite Bike Shop</td><td>Main Office</td></tr><tr><td>Imported and Domestic Cycles</td><td>Main Office</td></tr><tr><td>Systematic Sales</td><td>Main Office</td></tr><tr><td>Mountain Toy Store</td><td>Main Office</td></tr><tr><td>Designated Distributors</td><td>Main Office</td></tr><tr><td>Bold Bike Accessories</td><td>Main Office</td></tr><tr><td>Serious Cycles</td><td>Main Office</td></tr><tr><td>Novelty Bikes</td><td>Main Office</td></tr><tr><td>Brightwork Company</td><td>Main Office</td></tr><tr><td>Resale Services</td><td>Main Office</td></tr><tr><td>The Gear Store</td><td>Main Office</td></tr><tr><td>Immense Manufacturing Company</td><td>Main Office</td></tr><tr><td>Extended Bike Sales</td><td>Main Office</td></tr><tr><td>Workout Emporium</td><td>Main Office</td></tr><tr><td>Work and Play Association</td><td>Main Office</td></tr><tr><td>Nice Bikes</td><td>Main Office</td></tr><tr><td>Remarkable Bike Store</td><td>Main Office</td></tr><tr><td>Road-Way Mart</td><td>Main Office</td></tr><tr><td>Small Cycle Store</td><td>Main Office</td></tr><tr><td>Grand Bicycle Stores</td><td>Main Office</td></tr><tr><td>Kickstand Sellers</td><td>Main Office</td></tr><tr><td>Gasless Cycle Shop</td><td>Main Office</td></tr><tr><td>Transportation Options</td><td>Main Office</td></tr><tr><td>Finer Cycle Shop</td><td>Main Office</td></tr><tr><td>Center Cycle Shop</td><td>Main Office</td></tr><tr><td>Bulk Discount Store</td><td>Main Office</td></tr><tr><td>First-Rate Outlet</td><td>Main Office</td></tr><tr><td>Another Bicycle Company</td><td>Main Office</td></tr><tr><td>Unsurpassed Bikes</td><td>Main Office</td></tr><tr><td>Field Trip Inc</td><td>Main Office</td></tr><tr><td>Odometers and Accessories Company</td><td>Main Office</td></tr><tr><td>Scratch-Resistant Finishes Company</td><td>Main Office</td></tr><tr><td>Safe Cycles Shop</td><td>Main Office</td></tr><tr><td>Number 1 Supply</td><td>Main Office</td></tr><tr><td>Golf and Cycle Store</td><td>Main Office</td></tr><tr><td>World Bike Discount Store</td><td>Main Office</td></tr><tr><td>Historic Bicycle Sales</td><td>Main Office</td></tr><tr><td>Commuter Bicycle Store</td><td>Main Office</td></tr><tr><td>Coalition Bike Company</td><td>Main Office</td></tr><tr><td>Travel Systems</td><td>Main Office</td></tr><tr><td>Grease and Oil Products Company</td><td>Main Office</td></tr><tr><td>Moderately-Priced Bikes Store</td><td>Main Office</td></tr><tr><td>Economy Bikes Company</td><td>Main Office</td></tr><tr><td>Third Bike Store</td><td>Main Office</td></tr><tr><td>Bikes for Two</td><td>Main Office</td></tr><tr><td>Metal Processing Company</td><td>Main Office</td></tr><tr><td>Initial Bike Company</td><td>Main Office</td></tr><tr><td>Latest Sports Equipment</td><td>Main Office</td></tr><tr><td>Raw Materials Inc</td><td>Main Office</td></tr><tr><td>Lots of Bikes Storehouse</td><td>Main Office</td></tr><tr><td>Futuristic Bikes</td><td>Main Office</td></tr><tr><td>Parcel Express Delivery Service</td><td>Main Office</td></tr><tr><td>Prosperous Tours</td><td>Main Office</td></tr><tr><td>Nonskid Tire Company</td><td>Main Office</td></tr><tr><td>Metro Bike Works</td><td>Main Office</td></tr><tr><td>Best o' Bikes</td><td>Main Office</td></tr><tr><td>Client Discount Store</td><td>Main Office</td></tr><tr><td>Requisite Part Supply</td><td>Main Office</td></tr><tr><td>Mechanical Products Ltd.</td><td>Main Office</td></tr><tr><td>Commendable Bikes</td><td>Main Office</td></tr><tr><td>Online Bike Sellers</td><td>Main Office</td></tr><tr><td>Custom Accessories Company</td><td>Main Office</td></tr><tr><td>Courteous Bicycle Specialists</td><td>Main Office</td></tr><tr><td>Professional Cycle Store</td><td>Main Office</td></tr><tr><td>Fifth Bike Store</td><td>Main Office</td></tr><tr><td>Farthest Bike Store</td><td>Main Office</td></tr><tr><td>Alternative Vehicles</td><td>Main Office</td></tr><tr><td>Channel Outlet</td><td>Main Office</td></tr><tr><td>Retail Mall</td><td>Main Office</td></tr><tr><td>Metro Metals Co.</td><td>Main Office</td></tr><tr><td>Sheet Metal Manufacturing</td><td>Main Office</td></tr><tr><td>Thorough Parts and Repair Services</td><td>Main Office</td></tr><tr><td>Uttermost Bike Shop</td><td>Main Office</td></tr><tr><td>Two-Wheeled Transit Company</td><td>Main Office</td></tr><tr><td>Metro Cycle Shop</td><td>Main Office</td></tr><tr><td>Outdoor Sporting Goods</td><td>Main Office</td></tr><tr><td>Petroleum Products Distributors</td><td>Main Office</td></tr><tr><td>Bikes and Motorbikes</td><td>Main Office</td></tr><tr><td>Camping and Sports Store</td><td>Main Office</td></tr><tr><td>Rural Department Store</td><td>Main Office</td></tr><tr><td>Sports Commodities</td><td>Main Office</td></tr><tr><td>Responsible Bike Dealers</td><td>Main Office</td></tr><tr><td>Western Bike Supplies</td><td>Main Office</td></tr><tr><td>Advanced Bike Components</td><td>Main Office</td></tr><tr><td>Aerobic Exercise Company</td><td>Main Office</td></tr><tr><td>Corner Bicycle Supply</td><td>Main Office</td></tr><tr><td>Westside Plaza</td><td>Main Office</td></tr><tr><td>Outstanding Cycles</td><td>Main Office</td></tr><tr><td>Vigorous Sports Store</td><td>Main Office</td></tr><tr><td>Sports Merchandise</td><td>Main Office</td></tr><tr><td>Fitness Toy Store</td><td>Main Office</td></tr><tr><td>General Cycle Storehouse</td><td>Main Office</td></tr><tr><td>Fitness Cycling</td><td>Main Office</td></tr><tr><td>Good Bike Shop</td><td>Main Office</td></tr><tr><td>Thrilling Bike Tours</td><td>Main Office</td></tr><tr><td>This Area Sporting Goods</td><td>Main Office</td></tr><tr><td>Full-Service Bike Store</td><td>Main Office</td></tr><tr><td>Genuine Bike Shop</td><td>Main Office</td></tr><tr><td>Extreme Riding Supplies</td><td>Main Office</td></tr><tr><td>Fleet Bikes</td><td>Main Office</td></tr><tr><td>Local Hardware Factory</td><td>Main Office</td></tr><tr><td>South Bike Company</td><td>Main Office</td></tr><tr><td>Discount Bicycle Specialists</td><td>Main Office</td></tr><tr><td>Machines &amp; Cycles Store</td><td>Main Office</td></tr><tr><td>Two Wheels Cycle Store</td><td>Main Office</td></tr><tr><td>Westside Cycle Store</td><td>Main Office</td></tr><tr><td>Urban Sports Emporium</td><td>Main Office</td></tr><tr><td>Sixth Bike Store</td><td>Main Office</td></tr><tr><td>Vehicle Shop</td><td>Main Office</td></tr><tr><td>First Department Stores</td><td>Main Office</td></tr><tr><td>Grand Sport Boutique</td><td>Main Office</td></tr><tr><td>Distinctive Store</td><td>Main Office</td></tr><tr><td>Handy Bike Services</td><td>Main Office</td></tr><tr><td>Friendly Bike Shop</td><td>Main Office</td></tr><tr><td>Fashionable Bikes and Accessories</td><td>Main Office</td></tr><tr><td>Citywide Service and Repair</td><td>Main Office</td></tr><tr><td>Rugged Bikes</td><td>Main Office</td></tr><tr><td>Principal Bike Company</td><td>Main Office</td></tr><tr><td>Finer Riding Supplies</td><td>Main Office</td></tr><tr><td>Neighborhood Store</td><td>Main Office</td></tr><tr><td>Paint Supply</td><td>Main Office</td></tr><tr><td>Preferred Bikes</td><td>Main Office</td></tr><tr><td>Rewarding Activities Company</td><td>Main Office</td></tr><tr><td>Stationary Bikes and Stands</td><td>Main Office</td></tr><tr><td>Successful Sales Company</td><td>Main Office</td></tr><tr><td>Downtown Hotel</td><td>Main Office</td></tr><tr><td>Certified Sports Supply</td><td>Main Office</td></tr><tr><td>Rampart Amusement Company</td><td>Main Office</td></tr><tr><td>Sundry Sporting Goods</td><td>Main Office</td></tr><tr><td>Farthermost Bike Shop</td><td>Main Office</td></tr><tr><td>Suburban Cycle Shop</td><td>Main Office</td></tr><tr><td>Racing Bike Outlet</td><td>Main Office</td></tr><tr><td>Utilitarian Sporting Goods</td><td>Main Office</td></tr><tr><td>Vigorous Exercise Company</td><td>Main Office</td></tr><tr><td>Stock Parts and Supplies</td><td>Main Office</td></tr><tr><td>Roadway Supplies</td><td>Main Office</td></tr><tr><td>Future Bikes</td><td>Main Office</td></tr><tr><td>Satin Finish Company</td><td>Main Office</td></tr><tr><td>Regional Manufacturing</td><td>Main Office</td></tr><tr><td>Original Bicycle Supply Company</td><td>Main Office</td></tr><tr><td>Action Bicycle Specialists</td><td>Main Office</td></tr><tr><td>Roadway Bike Emporium</td><td>Main Office</td></tr><tr><td>Sleek Bikes </td><td>Main Office</td></tr><tr><td>Retail Sporting Equipment</td><td>Main Office</td></tr><tr><td>Price-Cutter Discount Bikes</td><td>Main Office</td></tr><tr><td>Central Bicycle Specialists</td><td>Main Office</td></tr><tr><td>Vast Bike Sales and Rental</td><td>Main Office</td></tr><tr><td>Summer Sports Place</td><td>Main Office</td></tr><tr><td>Real Sporting Goods</td><td>Main Office</td></tr><tr><td>The Bike Shop</td><td>Main Office</td></tr><tr><td>Safe Toys</td><td>Main Office</td></tr><tr><td>Our Sporting Goods Store</td><td>Main Office</td></tr><tr><td>Coho Sports</td><td>Main Office</td></tr><tr><td>Quick Delivery Service</td><td>Main Office</td></tr><tr><td>Basic Sports Equipment</td><td>Main Office</td></tr><tr><td>Cash &amp; Carry Bikes</td><td>Main Office</td></tr><tr><td>General Bike Corporation</td><td>Main Office</td></tr><tr><td>Retail Cycle Shop</td><td>Main Office</td></tr><tr><td>Social Activities Club</td><td>Main Office</td></tr><tr><td>Blue Bicycle Company</td><td>Main Office</td></tr><tr><td>General Riding Supplies</td><td>Main Office</td></tr><tr><td>Riding Excursions</td><td>Main Office</td></tr><tr><td>Unique Bikes</td><td>Main Office</td></tr><tr><td>Rural Cycle Emporium</td><td>Main Office</td></tr><tr><td>Associated Bikes</td><td>Main Office</td></tr><tr><td>Modular Cycle Systems</td><td>Main Office</td></tr><tr><td>A Bike Store</td><td>Main Office</td></tr><tr><td>Journey Sporting Goods</td><td>Main Office</td></tr><tr><td>Two Bike Shops</td><td>Main Office</td></tr><tr><td>Cycles Wholesaler &amp; Mfg.</td><td>Main Office</td></tr><tr><td>Number One Bike Co.</td><td>Main Office</td></tr><tr><td>Standard Bikes</td><td>Main Office</td></tr><tr><td>The Bicycle Accessories Company</td><td>Main Office</td></tr><tr><td>Active Systems</td><td>Main Office</td></tr><tr><td>Futuristic Sport Distributors</td><td>Main Office</td></tr><tr><td>Big-Time Bike Store</td><td>Main Office</td></tr><tr><td>The Showroom</td><td>Main Office</td></tr><tr><td>Year-Round Sports</td><td>Main Office</td></tr><tr><td>The New Bike Store</td><td>Main Office</td></tr><tr><td>Primary Bike Distributors</td><td>Main Office</td></tr><tr><td>Genial Bike Associates</td><td>Main Office</td></tr><tr><td>Commercial Sporting Goods</td><td>Main Office</td></tr><tr><td>Wholesale Parts</td><td>Main Office</td></tr><tr><td>Riding Cycles</td><td>Main Office</td></tr><tr><td>Metro Manufacturing</td><td>Main Office</td></tr><tr><td>Locks Company</td><td>Main Office</td></tr><tr><td>Latest Accessories Sales</td><td>Main Office</td></tr><tr><td>Greater Bike Store</td><td>Main Office</td></tr><tr><td>Distant Inn</td><td>Main Office</td></tr><tr><td>Finer Mart</td><td>Main Office</td></tr><tr><td>Cross-Country Riding Supplies</td><td>Main Office</td></tr><tr><td>Bike World</td><td>Main Office</td></tr><tr><td>Central Discount Store</td><td>Main Office</td></tr><tr><td>Sharp Bikes</td><td>Main Office</td></tr><tr><td>Metropolitan Sports Supply</td><td>Main Office</td></tr><tr><td>Progressive Sports</td><td>Main Office</td></tr><tr><td>Brakes and Gears</td><td>Main Office</td></tr><tr><td>The Accessories Store</td><td>Main Office</td></tr><tr><td>Family Cycle Store</td><td>Main Office</td></tr><tr><td>Superb Sales and Repair</td><td>Main Office</td></tr><tr><td>Countryside Company</td><td>Main Office</td></tr><tr><td>First Bike Store</td><td>Main Office</td></tr><tr><td>General Department Stores</td><td>Main Office</td></tr><tr><td>Operational Manufacturing</td><td>Main Office</td></tr><tr><td>Online Bike Warehouse</td><td>Main Office</td></tr><tr><td>Small Bike Shop</td><td>Main Office</td></tr><tr><td>Superior Hardware Distributors</td><td>Main Office</td></tr><tr><td>Eastside Parts Shop</td><td>Main Office</td></tr><tr><td>First Cycle Store</td><td>Main Office</td></tr><tr><td>Running and Cycling Gear</td><td>Main Office</td></tr><tr><td>Good Toys</td><td>Main Office</td></tr><tr><td>Little Bicycle Supply Shop</td><td>Main Office</td></tr><tr><td>All Seasons Sports Supply</td><td>Main Office</td></tr><tr><td>Leisure Clearing House</td><td>Main Office</td></tr><tr><td>The Commissary</td><td>Main Office</td></tr><tr><td>Affordable Sports Equipment</td><td>Main Office</td></tr><tr><td>Local Sales and Rental</td><td>Main Office</td></tr><tr><td>Economy Center</td><td>Main Office</td></tr><tr><td>Area Sheet Metal Supply</td><td>Main Office</td></tr><tr><td>Synthetic Materials Manufacturing</td><td>Main Office</td></tr><tr><td>Rural Sales and Service</td><td>Main Office</td></tr><tr><td>Tubeless Tire Company</td><td>Main Office</td></tr><tr><td>Hardware Components</td><td>Main Office</td></tr><tr><td>Retail Sporting Goods</td><td>Main Office</td></tr><tr><td>Efficient Cycling</td><td>Main Office</td></tr><tr><td>General Industries</td><td>Main Office</td></tr><tr><td>Highway Bike Shop</td><td>Main Office</td></tr><tr><td>Rental Bikes</td><td>Main Office</td></tr><tr><td>Roving Sports</td><td>Main Office</td></tr><tr><td>Express Bike Services</td><td>Main Office</td></tr><tr><td>Retail Discount Store</td><td>Main Office</td></tr><tr><td>Vale Riding Supplies</td><td>Main Office</td></tr><tr><td>A Great Bicycle Company</td><td>Main Office</td></tr><tr><td>Certified Bicycle Supply</td><td>Main Office</td></tr><tr><td>Exceptional Cycle Services</td><td>Main Office</td></tr><tr><td>Leisure Activities</td><td>Main Office</td></tr><tr><td>Paints and Solvents Company</td><td>Main Office</td></tr><tr><td>Bikes for Kids and Adults</td><td>Main Office</td></tr><tr><td>Home Town Bike Store</td><td>Main Office</td></tr><tr><td>Sample Bike Store</td><td>Main Office</td></tr><tr><td>Extras Sporting Goods</td><td>Main Office</td></tr><tr><td>Sure &amp; Reliable Sporting Goods</td><td>Main Office</td></tr><tr><td>Separate Parts Corporation</td><td>Main Office</td></tr><tr><td>Basic Bike Company</td><td>Main Office</td></tr><tr><td>Fabrikam Inc., West</td><td>Main Office</td></tr><tr><td>Non-Slip Pedal Company</td><td>Main Office</td></tr><tr><td>Weekend Bike Tours</td><td>Main Office</td></tr><tr><td>General Supplies</td><td>Main Office</td></tr><tr><td>Racing Toys</td><td>Main Office</td></tr><tr><td>Capable Sales and Service</td><td>Main Office</td></tr><tr><td>Road Way Sales and Rental</td><td>Main Office</td></tr><tr><td>Sturdy Toys</td><td>Main Office</td></tr><tr><td>Beneficial Exercises and Activities</td><td>Main Office</td></tr><tr><td>Fad Outlet</td><td>Main Office</td></tr><tr><td>Commerce Bicycle Specialists</td><td>Main Office</td></tr><tr><td>Acceptable Sales &amp; Service</td><td>Main Office</td></tr><tr><td>District Mall</td><td>Main Office</td></tr><tr><td>Fitness Supplies</td><td>Main Office</td></tr><tr><td>Mail Market</td><td>Main Office</td></tr><tr><td>Twelfth Bike Store</td><td>Main Office</td></tr><tr><td>Consolidated Messenger</td><td>Main Office</td></tr><tr><td>Field Trip Store</td><td>Main Office</td></tr><tr><td>Finish and Sealant Products</td><td>Main Office</td></tr><tr><td>Finer Parts Shop</td><td>Main Office</td></tr><tr><td>Up-To-Date Sports</td><td>Main Office</td></tr><tr><td>Mountain Bike Center</td><td>Main Office</td></tr><tr><td>Specialty Sports Store</td><td>Main Office</td></tr><tr><td>Scooters and Bikes Store</td><td>Main Office</td></tr><tr><td>Closest Bicycle Store</td><td>Main Office</td></tr><tr><td>Reasonable Bicycle Sales</td><td>Main Office</td></tr><tr><td>Outdoor Sports Supply</td><td>Main Office</td></tr><tr><td>Outdoor Aerobic Systems Company</td><td>Main Office</td></tr><tr><td>Metal Clearing House</td><td>Main Office</td></tr><tr><td>Many Bikes Store</td><td>Main Office</td></tr><tr><td>Largest Bike Store</td><td>Main Office</td></tr><tr><td>Kickstands and Accessories Company</td><td>Main Office</td></tr><tr><td>Instruments and Parts Company</td><td>Main Office</td></tr><tr><td>Gear-Shift Bikes Limited</td><td>Main Office</td></tr><tr><td>Frugal Bike Shop</td><td>Main Office</td></tr><tr><td>Family Entertainment Center</td><td>Main Office</td></tr><tr><td>Go-cart and Bike Specialists</td><td>Main Office</td></tr><tr><td>Trailblazing Sports</td><td>Main Office</td></tr><tr><td>Racing Partners</td><td>Main Office</td></tr><tr><td>Exhibition Showroom</td><td>Main Office</td></tr><tr><td>Authorized Bike Sales and Rental</td><td>Main Office</td></tr><tr><td>Two-Seater Bikes</td><td>Main Office</td></tr><tr><td>More Bikes!</td><td>Main Office</td></tr><tr><td>National Manufacturing</td><td>Main Office</td></tr><tr><td>Town Industries</td><td>Main Office</td></tr><tr><td>Security Racks and Locks Wholesalers</td><td>Main Office</td></tr><tr><td>Rapid Bikes</td><td>Main Office</td></tr><tr><td>Nearby Sporting Goods</td><td>Main Office</td></tr><tr><td>Front Sporting Goods</td><td>Main Office</td></tr><tr><td>Elite Bikes</td><td>Main Office</td></tr><tr><td>Catalog Store</td><td>Main Office</td></tr><tr><td>Chic Department Stores</td><td>Main Office</td></tr><tr><td>Eastside Department Store</td><td>Main Office</td></tr><tr><td>Cycle Merchants</td><td>Main Office</td></tr><tr><td>Fitness Hotel</td><td>Main Office</td></tr><tr><td>Grand Industries</td><td>Main Office</td></tr><tr><td>Leading Sales &amp; Repair</td><td>Main Office</td></tr><tr><td>Tandem Sales and Service</td><td>Main Office</td></tr><tr><td>Reliable Retail Center</td><td>Main Office</td></tr><tr><td>Friendly Bike Shop</td><td>Main Office</td></tr><tr><td>Yellow Bicycle Company</td><td>Main Office</td></tr><tr><td>Sports Products Store</td><td>Main Office</td></tr><tr><td>Shipping Specialists</td><td>Main Office</td></tr><tr><td>Authentic Sales and Service</td><td>Main Office</td></tr><tr><td>Official Parts Shop</td><td>Main Office</td></tr><tr><td>Discount Tours</td><td>Main Office</td></tr><tr><td>Tire Exchange</td><td>Main Office</td></tr><tr><td>Oils and Fluids Warehouse</td><td>Main Office</td></tr><tr><td>Rally Master Company Inc</td><td>Main Office</td></tr><tr><td>Professional Cyclists</td><td>Main Office</td></tr><tr><td>Exclusive Bicycle Mart</td><td>Main Office</td></tr><tr><td>City Manufacturing</td><td>Main Office</td></tr><tr><td>Bike Dealers Association</td><td>Main Office</td></tr><tr><td>Health Spa, Limited</td><td>Main Office</td></tr><tr><td>Closeout Boutique</td><td>Main Office</td></tr><tr><td>Bicycle Merchandise Warehouse</td><td>Main Office</td></tr><tr><td>Leather Seat Factory</td><td>Main Office</td></tr><tr><td>Practical Bike Supply Company</td><td>Main Office</td></tr><tr><td>Some Discount Store</td><td>Main Office</td></tr><tr><td>Variety Cycling</td><td>Main Office</td></tr><tr><td>Remote Bicycle Specialists</td><td>Main Office</td></tr><tr><td>Friendly Neighborhood Bikes</td><td>Main Office</td></tr><tr><td>Recommended Bicycles</td><td>Main Office</td></tr><tr><td>Alpine Ski House</td><td>Main Office</td></tr><tr><td>Seats and Saddles Company</td><td>Main Office</td></tr><tr><td>All Cycle Shop</td><td>Main Office</td></tr><tr><td>Tachometers and Accessories</td><td>Main Office</td></tr><tr><td>Low Price Cycles</td><td>Main Office</td></tr><tr><td>Metropolitan Manufacturing</td><td>Main Office</td></tr><tr><td>Orange Bicycle Company</td><td>Main Office</td></tr><tr><td>Riding Associates</td><td>Main Office</td></tr><tr><td>Essential Bike Works</td><td>Main Office</td></tr><tr><td>Engineered Bike Systems</td><td>Main Office</td></tr><tr><td>Professional Containers and Packaging Co.</td><td>Main Office</td></tr><tr><td>One Bike Company</td><td>Main Office</td></tr><tr><td>Cycling Goods</td><td>Main Office</td></tr><tr><td>Cycle Clearance</td><td>Main Office</td></tr><tr><td>Black Bicycle Company</td><td>Main Office</td></tr><tr><td>Transport Bikes</td><td>Main Office</td></tr><tr><td>Sellers of Cycles</td><td>Main Office</td></tr><tr><td>Maintenance and Repair for Bicycles</td><td>Main Office</td></tr><tr><td>Fitness Department Stores</td><td>Main Office</td></tr><tr><td>Famous Bike Shop</td><td>Main Office</td></tr><tr><td>Gift and Toy Store</td><td>Main Office</td></tr><tr><td>Major Sporting Goods</td><td>Main Office</td></tr><tr><td>Major Cycling</td><td>Main Office</td></tr><tr><td>Downhill Bicycle Specialists</td><td>Main Office</td></tr><tr><td>Bike Experts</td><td>Main Office</td></tr><tr><td>Extraordinary Bike Works</td><td>Main Office</td></tr><tr><td>Valley Bicycle Distributors</td><td>Main Office</td></tr><tr><td>Top Sports Supply</td><td>Main Office</td></tr><tr><td>Metropolitan Bicycle Supply</td><td>Main Office</td></tr><tr><td>Honest Repair Service</td><td>Main Office</td></tr><tr><td>Wheel Gallery</td><td>Main Office</td></tr><tr><td>Top Bike Market</td><td>Main Office</td></tr><tr><td>Bicycle Lines Distributors</td><td>Main Office</td></tr><tr><td>Sparkling Paint and Finishes</td><td>Main Office</td></tr><tr><td>Plastic Parts Company</td><td>Main Office</td></tr><tr><td>Big Cycle Mall</td><td>Main Office</td></tr><tr><td>Eighth Bike Store</td><td>Main Office</td></tr><tr><td>Demand Distributors</td><td>Main Office</td></tr><tr><td>Red Bicycle Company</td><td>Main Office</td></tr><tr><td>Trendy Department Stores</td><td>Main Office</td></tr><tr><td>Vintage Sport Boutique</td><td>Main Office</td></tr><tr><td>Travel Sports</td><td>Main Office</td></tr><tr><td>West Side Mart</td><td>Main Office</td></tr><tr><td>Tenth Bike Store</td><td>Main Office</td></tr><tr><td>Fun Times Club</td><td>Main Office</td></tr><tr><td>Wingtip Toys</td><td>Main Office</td></tr><tr><td>Active Life Toys</td><td>Main Office</td></tr><tr><td>Quick Parts and Service</td><td>Main Office</td></tr><tr><td>Thrifty Parts and Sales</td><td>Main Office</td></tr><tr><td>A Typical Bike Shop</td><td>Main Office</td></tr><tr><td>Fasteners &amp; Bolts Outlet</td><td>Main Office</td></tr><tr><td>Quantity Discounts</td><td>Main Office</td></tr><tr><td>Swift Cycles</td><td>Main Office</td></tr><tr><td>Large Bike Shop</td><td>Main Office</td></tr><tr><td>Wire Baskets and Parts</td><td>Main Office</td></tr><tr><td>Sports Store</td><td>Main Office</td></tr><tr><td>Extended Tours</td><td>Main Office</td></tr><tr><td>Convenient Sales and Service</td><td>Main Office</td></tr><tr><td>Solid Bike Parts</td><td>Main Office</td></tr><tr><td>Permanent Finish Products</td><td>Main Office</td></tr><tr><td>Mercantile Outlet</td><td>Main Office</td></tr><tr><td>Exhilarating Cycles</td><td>Main Office</td></tr><tr><td>Exercise Center</td><td>Main Office</td></tr><tr><td>Great Bicycle Supply</td><td>Main Office</td></tr><tr><td>Mail-Order Outlet</td><td>Main Office</td></tr><tr><td>Nearby Cycle Shop</td><td>Main Office</td></tr><tr><td>Retreat Inn</td><td>Main Office</td></tr><tr><td>Technical Parts Manufacturing</td><td>Main Office</td></tr><tr><td>Totes &amp; Baskets Company</td><td>Main Office</td></tr><tr><td>World of Bikes</td><td>Main Office</td></tr></table>"
                    },
                    "metadata": {}
                }
            ],
            "execution_count": 15
        },
        {
            "cell_type": "code",
            "source": [
                "SELECT companyname, addresstype\r\n",
                "FROM customer c \r\n",
                "JOIN CustomerAddress ca\r\n",
                "ON c.CustomerID = ca.CustomerID\r\n",
                "WHERE AddressType = 'Shipping'"
            ],
            "metadata": {
                "azdata_cell_guid": "8d7a86c3-afd8-4d4f-a205-9671d3d0d295"
            },
            "outputs": [
                {
                    "output_type": "display_data",
                    "data": {
                        "text/html": "(10 rows affected)"
                    },
                    "metadata": {}
                },
                {
                    "output_type": "display_data",
                    "data": {
                        "text/html": "Total execution time: 00:00:00.103"
                    },
                    "metadata": {}
                },
                {
                    "output_type": "execute_result",
                    "execution_count": 16,
                    "data": {
                        "application/vnd.dataresource+json": {
                            "schema": {
                                "fields": [
                                    {
                                        "name": "companyname"
                                    },
                                    {
                                        "name": "addresstype"
                                    }
                                ]
                            },
                            "data": [
                                {
                                    "0": "Family's Favorite Bike Shop",
                                    "1": "Shipping"
                                },
                                {
                                    "0": "Center Cycle Shop",
                                    "1": "Shipping"
                                },
                                {
                                    "0": "Safe Cycles Shop",
                                    "1": "Shipping"
                                },
                                {
                                    "0": "Modular Cycle Systems",
                                    "1": "Shipping"
                                },
                                {
                                    "0": "Progressive Sports",
                                    "1": "Shipping"
                                },
                                {
                                    "0": "Hardware Components",
                                    "1": "Shipping"
                                },
                                {
                                    "0": "Sample Bike Store",
                                    "1": "Shipping"
                                },
                                {
                                    "0": "Racing Toys",
                                    "1": "Shipping"
                                },
                                {
                                    "0": "Elite Bikes",
                                    "1": "Shipping"
                                },
                                {
                                    "0": "All Cycle Shop",
                                    "1": "Shipping"
                                }
                            ]
                        },
                        "text/html": "<table><tr><th>companyname</th><th>addresstype</th></tr><tr><td>Family's Favorite Bike Shop</td><td>Shipping</td></tr><tr><td>Center Cycle Shop</td><td>Shipping</td></tr><tr><td>Safe Cycles Shop</td><td>Shipping</td></tr><tr><td>Modular Cycle Systems</td><td>Shipping</td></tr><tr><td>Progressive Sports</td><td>Shipping</td></tr><tr><td>Hardware Components</td><td>Shipping</td></tr><tr><td>Sample Bike Store</td><td>Shipping</td></tr><tr><td>Racing Toys</td><td>Shipping</td></tr><tr><td>Elite Bikes</td><td>Shipping</td></tr><tr><td>All Cycle Shop</td><td>Shipping</td></tr></table>"
                    },
                    "metadata": {}
                }
            ],
            "execution_count": 16
        },
        {
            "cell_type": "code",
            "source": [
                "SELECT distinct companyname\r\n",
                "FROM customer c \r\n",
                "JOIN CustomerAddress ca\r\n",
                "ON c.CustomerID = ca.CustomerID\r\n",
                "WHERE AddressType = 'Main Office'\r\n",
                "UNION\r\n",
                "SELECT distinct companyname\r\n",
                "FROM customer c \r\n",
                "JOIN CustomerAddress ca\r\n",
                "ON c.CustomerID = ca.CustomerID\r\n",
                "WHERE AddressType = 'Main Office'\r\n",
                "\r\n",
                "\r\n",
                ""
            ],
            "metadata": {
                "azdata_cell_guid": "effcd22f-6176-43bb-a37c-988fc6a5ff2b",
                "tags": []
            },
            "outputs": [
                {
                    "output_type": "display_data",
                    "data": {
                        "text/html": "(406 rows affected)"
                    },
                    "metadata": {}
                },
                {
                    "output_type": "display_data",
                    "data": {
                        "text/html": "Total execution time: 00:00:00.113"
                    },
                    "metadata": {}
                },
                {
                    "output_type": "execute_result",
                    "execution_count": 23,
                    "data": {
                        "application/vnd.dataresource+json": {
                            "schema": {
                                "fields": [
                                    {
                                        "name": "companyname"
                                    }
                                ]
                            },
                            "data": [
                                {
                                    "0": "A Bike Store"
                                },
                                {
                                    "0": "A Great Bicycle Company"
                                },
                                {
                                    "0": "A Typical Bike Shop"
                                },
                                {
                                    "0": "Acceptable Sales & Service"
                                },
                                {
                                    "0": "Action Bicycle Specialists"
                                },
                                {
                                    "0": "Active Life Toys"
                                },
                                {
                                    "0": "Active Systems"
                                },
                                {
                                    "0": "Advanced Bike Components"
                                },
                                {
                                    "0": "Aerobic Exercise Company"
                                },
                                {
                                    "0": "Affordable Sports Equipment"
                                },
                                {
                                    "0": "All Cycle Shop"
                                },
                                {
                                    "0": "All Seasons Sports Supply"
                                },
                                {
                                    "0": "Alpine Ski House"
                                },
                                {
                                    "0": "Alternative Vehicles"
                                },
                                {
                                    "0": "Another Bicycle Company"
                                },
                                {
                                    "0": "Area Bike Accessories"
                                },
                                {
                                    "0": "Area Sheet Metal Supply"
                                },
                                {
                                    "0": "Associated Bikes"
                                },
                                {
                                    "0": "Authentic Sales and Service"
                                },
                                {
                                    "0": "Authorized Bike Sales and Rental"
                                },
                                {
                                    "0": "Basic Bike Company"
                                },
                                {
                                    "0": "Basic Sports Equipment"
                                },
                                {
                                    "0": "Beneficial Exercises and Activities"
                                },
                                {
                                    "0": "Best o' Bikes"
                                },
                                {
                                    "0": "Bicycle Accessories and Kits"
                                },
                                {
                                    "0": "Bicycle Lines Distributors"
                                },
                                {
                                    "0": "Bicycle Merchandise Warehouse"
                                },
                                {
                                    "0": "Big Cycle Mall"
                                },
                                {
                                    "0": "Big-Time Bike Store"
                                },
                                {
                                    "0": "Bike Dealers Association"
                                },
                                {
                                    "0": "Bike Experts"
                                },
                                {
                                    "0": "Bike World"
                                },
                                {
                                    "0": "Bikes and Motorbikes"
                                },
                                {
                                    "0": "Bikes for Kids and Adults"
                                },
                                {
                                    "0": "Bikes for Two"
                                },
                                {
                                    "0": "Black Bicycle Company"
                                },
                                {
                                    "0": "Blue Bicycle Company"
                                },
                                {
                                    "0": "Bold Bike Accessories"
                                },
                                {
                                    "0": "Brakes and Gears"
                                },
                                {
                                    "0": "Brightwork Company"
                                },
                                {
                                    "0": "Bulk Discount Store"
                                },
                                {
                                    "0": "Camping and Sports Store"
                                },
                                {
                                    "0": "Capable Sales and Service"
                                },
                                {
                                    "0": "Cash & Carry Bikes"
                                },
                                {
                                    "0": "Catalog Store"
                                },
                                {
                                    "0": "Center Cycle Shop"
                                },
                                {
                                    "0": "Central Bicycle Specialists"
                                },
                                {
                                    "0": "Central Discount Store"
                                },
                                {
                                    "0": "Certified Bicycle Supply"
                                },
                                {
                                    "0": "Certified Sports Supply"
                                },
                                {
                                    "0": "Channel Outlet"
                                },
                                {
                                    "0": "Chic Department Stores"
                                },
                                {
                                    "0": "City Manufacturing"
                                },
                                {
                                    "0": "Citywide Service and Repair"
                                },
                                {
                                    "0": "Client Discount Store"
                                },
                                {
                                    "0": "Closeout Boutique"
                                },
                                {
                                    "0": "Closest Bicycle Store"
                                },
                                {
                                    "0": "Coalition Bike Company"
                                },
                                {
                                    "0": "Coho Sports"
                                },
                                {
                                    "0": "Commendable Bikes"
                                },
                                {
                                    "0": "Commerce Bicycle Specialists"
                                },
                                {
                                    "0": "Commercial Sporting Goods"
                                },
                                {
                                    "0": "Commuter Bicycle Store"
                                },
                                {
                                    "0": "Consolidated Messenger"
                                },
                                {
                                    "0": "Convenient Sales and Service"
                                },
                                {
                                    "0": "Corner Bicycle Supply"
                                },
                                {
                                    "0": "Countryside Company"
                                },
                                {
                                    "0": "Courteous Bicycle Specialists"
                                },
                                {
                                    "0": "Cross-Country Riding Supplies"
                                },
                                {
                                    "0": "Custom Accessories Company"
                                },
                                {
                                    "0": "Cycle Clearance"
                                },
                                {
                                    "0": "Cycle Merchants"
                                },
                                {
                                    "0": "Cycles Wholesaler & Mfg."
                                },
                                {
                                    "0": "Cycling Goods"
                                },
                                {
                                    "0": "Demand Distributors"
                                },
                                {
                                    "0": "Designated Distributors"
                                },
                                {
                                    "0": "Discount Bicycle Specialists"
                                },
                                {
                                    "0": "Discount Tours"
                                },
                                {
                                    "0": "Distant Inn"
                                },
                                {
                                    "0": "Distinctive Store"
                                },
                                {
                                    "0": "District Mall"
                                },
                                {
                                    "0": "Downhill Bicycle Specialists"
                                },
                                {
                                    "0": "Downtown Hotel"
                                },
                                {
                                    "0": "Eastside Department Store"
                                },
                                {
                                    "0": "Eastside Parts Shop"
                                },
                                {
                                    "0": "Economy Bikes Company"
                                },
                                {
                                    "0": "Economy Center"
                                },
                                {
                                    "0": "Efficient Cycling"
                                },
                                {
                                    "0": "Eighth Bike Store"
                                },
                                {
                                    "0": "Elite Bikes"
                                },
                                {
                                    "0": "Engineered Bike Systems"
                                },
                                {
                                    "0": "Essential Bike Works"
                                },
                                {
                                    "0": "Exceptional Cycle Services"
                                },
                                {
                                    "0": "Exclusive Bicycle Mart"
                                },
                                {
                                    "0": "Exercise Center"
                                },
                                {
                                    "0": "Exhibition Showroom"
                                },
                                {
                                    "0": "Exhilarating Cycles"
                                },
                                {
                                    "0": "Express Bike Services"
                                },
                                {
                                    "0": "Extended Bike Sales"
                                },
                                {
                                    "0": "Extended Tours"
                                },
                                {
                                    "0": "Extraordinary Bike Works"
                                },
                                {
                                    "0": "Extras Sporting Goods"
                                },
                                {
                                    "0": "Extreme Riding Supplies"
                                },
                                {
                                    "0": "Fabrikam Inc., West"
                                },
                                {
                                    "0": "Fad Outlet"
                                },
                                {
                                    "0": "Family Cycle Store"
                                },
                                {
                                    "0": "Family Entertainment Center"
                                },
                                {
                                    "0": "Family's Favorite Bike Shop"
                                },
                                {
                                    "0": "Famous Bike Shop"
                                },
                                {
                                    "0": "Farthermost Bike Shop"
                                },
                                {
                                    "0": "Farthest Bike Store"
                                },
                                {
                                    "0": "Fashionable Bikes and Accessories"
                                },
                                {
                                    "0": "Fasteners & Bolts Outlet"
                                },
                                {
                                    "0": "Field Trip Inc"
                                },
                                {
                                    "0": "Field Trip Store"
                                },
                                {
                                    "0": "Fifth Bike Store"
                                },
                                {
                                    "0": "Finer Cycle Shop"
                                },
                                {
                                    "0": "Finer Mart"
                                },
                                {
                                    "0": "Finer Parts Shop"
                                },
                                {
                                    "0": "Finer Riding Supplies"
                                },
                                {
                                    "0": "Finish and Sealant Products"
                                },
                                {
                                    "0": "First Bike Store"
                                },
                                {
                                    "0": "First Cycle Store"
                                },
                                {
                                    "0": "First Department Stores"
                                },
                                {
                                    "0": "First-Rate Outlet"
                                },
                                {
                                    "0": "Fitness Cycling"
                                },
                                {
                                    "0": "Fitness Department Stores"
                                },
                                {
                                    "0": "Fitness Hotel"
                                },
                                {
                                    "0": "Fitness Supplies"
                                },
                                {
                                    "0": "Fitness Toy Store"
                                },
                                {
                                    "0": "Fleet Bikes"
                                },
                                {
                                    "0": "Friendly Bike Shop"
                                },
                                {
                                    "0": "Friendly Neighborhood Bikes"
                                },
                                {
                                    "0": "Front Sporting Goods"
                                },
                                {
                                    "0": "Frugal Bike Shop"
                                },
                                {
                                    "0": "Full-Service Bike Store"
                                },
                                {
                                    "0": "Fun Times Club"
                                },
                                {
                                    "0": "Fun Toys and Bikes"
                                },
                                {
                                    "0": "Future Bikes"
                                },
                                {
                                    "0": "Futuristic Bikes"
                                },
                                {
                                    "0": "Futuristic Sport Distributors"
                                },
                                {
                                    "0": "Gasless Cycle Shop"
                                },
                                {
                                    "0": "Gear-Shift Bikes Limited"
                                },
                                {
                                    "0": "General Bike Corporation"
                                },
                                {
                                    "0": "General Cycle Storehouse"
                                },
                                {
                                    "0": "General Department Stores"
                                },
                                {
                                    "0": "General Industries"
                                },
                                {
                                    "0": "General Riding Supplies"
                                },
                                {
                                    "0": "General Supplies"
                                },
                                {
                                    "0": "Genial Bike Associates"
                                },
                                {
                                    "0": "Genuine Bike Shop"
                                },
                                {
                                    "0": "Gift and Toy Store"
                                },
                                {
                                    "0": "Go-cart and Bike Specialists"
                                },
                                {
                                    "0": "Golf and Cycle Store"
                                },
                                {
                                    "0": "Good Bike Shop"
                                },
                                {
                                    "0": "Good Toys"
                                },
                                {
                                    "0": "Grand Bicycle Stores"
                                },
                                {
                                    "0": "Grand Industries"
                                },
                                {
                                    "0": "Grand Sport Boutique"
                                },
                                {
                                    "0": "Grease and Oil Products Company"
                                },
                                {
                                    "0": "Great Bicycle Supply"
                                },
                                {
                                    "0": "Great Bikes "
                                },
                                {
                                    "0": "Greater Bike Store"
                                },
                                {
                                    "0": "Handy Bike Services"
                                },
                                {
                                    "0": "Hardware Components"
                                },
                                {
                                    "0": "Health Spa, Limited"
                                },
                                {
                                    "0": "Highway Bike Shop"
                                },
                                {
                                    "0": "Historic Bicycle Sales"
                                },
                                {
                                    "0": "Home Town Bike Store"
                                },
                                {
                                    "0": "Honest Repair Service"
                                },
                                {
                                    "0": "Immense Manufacturing Company"
                                },
                                {
                                    "0": "Imported and Domestic Cycles"
                                },
                                {
                                    "0": "Initial Bike Company"
                                },
                                {
                                    "0": "Instruments and Parts Company"
                                },
                                {
                                    "0": "Journey Sporting Goods"
                                },
                                {
                                    "0": "Kickstand Sellers"
                                },
                                {
                                    "0": "Kickstands and Accessories Company"
                                },
                                {
                                    "0": "Large Bike Shop"
                                },
                                {
                                    "0": "Largest Bike Store"
                                },
                                {
                                    "0": "Latest Accessories Sales"
                                },
                                {
                                    "0": "Latest Sports Equipment"
                                },
                                {
                                    "0": "Leading Sales & Repair"
                                },
                                {
                                    "0": "Leather Seat Factory"
                                },
                                {
                                    "0": "Leisure Activities"
                                },
                                {
                                    "0": "Leisure Clearing House"
                                },
                                {
                                    "0": "Little Bicycle Supply Shop"
                                },
                                {
                                    "0": "Local Hardware Factory"
                                },
                                {
                                    "0": "Local Sales and Rental"
                                },
                                {
                                    "0": "Locks Company"
                                },
                                {
                                    "0": "Lots of Bikes Storehouse"
                                },
                                {
                                    "0": "Low Price Cycles"
                                },
                                {
                                    "0": "Machines & Cycles Store"
                                },
                                {
                                    "0": "Mail Market"
                                },
                                {
                                    "0": "Mail-Order Outlet"
                                },
                                {
                                    "0": "Maintenance and Repair for Bicycles"
                                },
                                {
                                    "0": "Major Cycling"
                                },
                                {
                                    "0": "Major Sport Suppliers"
                                },
                                {
                                    "0": "Major Sporting Goods"
                                },
                                {
                                    "0": "Many Bikes Store"
                                },
                                {
                                    "0": "Mechanical Products Ltd."
                                },
                                {
                                    "0": "Mercantile Outlet"
                                },
                                {
                                    "0": "Metal Clearing House"
                                },
                                {
                                    "0": "Metal Processing Company"
                                },
                                {
                                    "0": "Metro Bike Works"
                                },
                                {
                                    "0": "Metro Cycle Shop"
                                },
                                {
                                    "0": "Metro Manufacturing"
                                },
                                {
                                    "0": "Metro Metals Co."
                                },
                                {
                                    "0": "Metropolitan Bicycle Supply"
                                },
                                {
                                    "0": "Metropolitan Manufacturing"
                                },
                                {
                                    "0": "Metropolitan Sports Supply"
                                },
                                {
                                    "0": "Moderately-Priced Bikes Store"
                                },
                                {
                                    "0": "Modular Cycle Systems"
                                },
                                {
                                    "0": "More Bikes!"
                                },
                                {
                                    "0": "Mountain Bike Center"
                                },
                                {
                                    "0": "Mountain Toy Store"
                                },
                                {
                                    "0": "National Manufacturing"
                                },
                                {
                                    "0": "Nearby Cycle Shop"
                                },
                                {
                                    "0": "Nearby Sporting Goods"
                                },
                                {
                                    "0": "Neighborhood Store"
                                },
                                {
                                    "0": "Nice Bikes"
                                },
                                {
                                    "0": "Nonskid Tire Company"
                                },
                                {
                                    "0": "Non-Slip Pedal Company"
                                },
                                {
                                    "0": "Novelty Bikes"
                                },
                                {
                                    "0": "Number 1 Supply"
                                },
                                {
                                    "0": "Number One Bike Co."
                                },
                                {
                                    "0": "Odometers and Accessories Company"
                                },
                                {
                                    "0": "Official Parts Shop"
                                },
                                {
                                    "0": "Oils and Fluids Warehouse"
                                },
                                {
                                    "0": "One Bike Company"
                                },
                                {
                                    "0": "Online Bike Sellers"
                                },
                                {
                                    "0": "Online Bike Warehouse"
                                },
                                {
                                    "0": "Operational Manufacturing"
                                },
                                {
                                    "0": "Orange Bicycle Company"
                                },
                                {
                                    "0": "Original Bicycle Supply Company"
                                },
                                {
                                    "0": "Our Sporting Goods Store"
                                },
                                {
                                    "0": "Outdoor Aerobic Systems Company"
                                },
                                {
                                    "0": "Outdoor Sporting Goods"
                                },
                                {
                                    "0": "Outdoor Sports Supply"
                                },
                                {
                                    "0": "Outstanding Cycles"
                                },
                                {
                                    "0": "Paint Supply"
                                },
                                {
                                    "0": "Paints and Solvents Company"
                                },
                                {
                                    "0": "Parcel Express Delivery Service"
                                },
                                {
                                    "0": "Permanent Finish Products"
                                },
                                {
                                    "0": "Petroleum Products Distributors"
                                },
                                {
                                    "0": "Plastic Parts Company"
                                },
                                {
                                    "0": "Practical Bike Supply Company"
                                },
                                {
                                    "0": "Preferred Bikes"
                                },
                                {
                                    "0": "Price-Cutter Discount Bikes"
                                },
                                {
                                    "0": "Primary Bike Distributors"
                                },
                                {
                                    "0": "Principal Bike Company"
                                },
                                {
                                    "0": "Professional Containers and Packaging Co."
                                },
                                {
                                    "0": "Professional Cycle Store"
                                },
                                {
                                    "0": "Professional Cyclists"
                                },
                                {
                                    "0": "Professional Sales and Service"
                                },
                                {
                                    "0": "Progressive Sports"
                                },
                                {
                                    "0": "Prosperous Tours"
                                },
                                {
                                    "0": "Quantity Discounts"
                                },
                                {
                                    "0": "Quick Delivery Service"
                                },
                                {
                                    "0": "Quick Parts and Service"
                                },
                                {
                                    "0": "Racing Bike Outlet"
                                },
                                {
                                    "0": "Racing Partners"
                                },
                                {
                                    "0": "Racing Toys"
                                },
                                {
                                    "0": "Rally Master Company Inc"
                                },
                                {
                                    "0": "Rampart Amusement Company"
                                },
                                {
                                    "0": "Rapid Bikes"
                                },
                                {
                                    "0": "Raw Materials Inc"
                                },
                                {
                                    "0": "Real Sporting Goods"
                                },
                                {
                                    "0": "Reasonable Bicycle Sales"
                                },
                                {
                                    "0": "Recommended Bicycles"
                                },
                                {
                                    "0": "Red Bicycle Company"
                                },
                                {
                                    "0": "Regional Manufacturing"
                                },
                                {
                                    "0": "Reliable Retail Center"
                                },
                                {
                                    "0": "Remarkable Bike Store"
                                },
                                {
                                    "0": "Remote Bicycle Specialists"
                                },
                                {
                                    "0": "Rental Bikes"
                                },
                                {
                                    "0": "Requisite Part Supply"
                                },
                                {
                                    "0": "Resale Services"
                                },
                                {
                                    "0": "Responsible Bike Dealers"
                                },
                                {
                                    "0": "Retail Cycle Shop"
                                },
                                {
                                    "0": "Retail Discount Store"
                                },
                                {
                                    "0": "Retail Mall"
                                },
                                {
                                    "0": "Retail Sporting Equipment"
                                },
                                {
                                    "0": "Retail Sporting Goods"
                                },
                                {
                                    "0": "Retreat Inn"
                                },
                                {
                                    "0": "Rewarding Activities Company"
                                },
                                {
                                    "0": "Riders Company"
                                },
                                {
                                    "0": "Riding Associates"
                                },
                                {
                                    "0": "Riding Cycles"
                                },
                                {
                                    "0": "Riding Excursions"
                                },
                                {
                                    "0": "Road Way Sales and Rental"
                                },
                                {
                                    "0": "Roadway Bike Emporium"
                                },
                                {
                                    "0": "Road-Way Mart"
                                },
                                {
                                    "0": "Roadway Supplies"
                                },
                                {
                                    "0": "Roving Sports"
                                },
                                {
                                    "0": "Rugged Bikes"
                                },
                                {
                                    "0": "Running and Cycling Gear"
                                },
                                {
                                    "0": "Rural Cycle Emporium"
                                },
                                {
                                    "0": "Rural Department Store"
                                },
                                {
                                    "0": "Rural Sales and Service"
                                },
                                {
                                    "0": "Safe Cycles Shop"
                                },
                                {
                                    "0": "Safe Toys"
                                },
                                {
                                    "0": "Sample Bike Store"
                                },
                                {
                                    "0": "Satin Finish Company"
                                },
                                {
                                    "0": "Scooters and Bikes Store"
                                },
                                {
                                    "0": "Scratch-Resistant Finishes Company"
                                },
                                {
                                    "0": "Seats and Saddles Company"
                                },
                                {
                                    "0": "Security Racks and Locks Wholesalers"
                                },
                                {
                                    "0": "Sellers of Cycles"
                                },
                                {
                                    "0": "Separate Parts Corporation"
                                },
                                {
                                    "0": "Serious Cycles"
                                },
                                {
                                    "0": "Sharp Bikes"
                                },
                                {
                                    "0": "Sheet Metal Manufacturing"
                                },
                                {
                                    "0": "Shipping Specialists"
                                },
                                {
                                    "0": "Sixth Bike Store"
                                },
                                {
                                    "0": "Sleek Bikes "
                                },
                                {
                                    "0": "Small Bike Shop"
                                },
                                {
                                    "0": "Small Cycle Store"
                                },
                                {
                                    "0": "Social Activities Club"
                                },
                                {
                                    "0": "Solid Bike Parts"
                                },
                                {
                                    "0": "Some Discount Store"
                                },
                                {
                                    "0": "South Bike Company"
                                },
                                {
                                    "0": "Sparkling Paint and Finishes"
                                },
                                {
                                    "0": "Specialty Sports Store"
                                },
                                {
                                    "0": "Sports Commodities"
                                },
                                {
                                    "0": "Sports Merchandise"
                                },
                                {
                                    "0": "Sports Products Store"
                                },
                                {
                                    "0": "Sports Store"
                                },
                                {
                                    "0": "Standard Bikes"
                                },
                                {
                                    "0": "Stationary Bikes and Stands"
                                },
                                {
                                    "0": "Stock Parts and Supplies"
                                },
                                {
                                    "0": "Sturdy Toys"
                                },
                                {
                                    "0": "Suburban Cycle Shop"
                                },
                                {
                                    "0": "Successful Sales Company"
                                },
                                {
                                    "0": "Summer Sports Place"
                                },
                                {
                                    "0": "Sundry Sporting Goods"
                                },
                                {
                                    "0": "Superb Sales and Repair"
                                },
                                {
                                    "0": "Superior Hardware Distributors"
                                },
                                {
                                    "0": "Sure & Reliable Sporting Goods"
                                },
                                {
                                    "0": "Swift Cycles"
                                },
                                {
                                    "0": "Synthetic Materials Manufacturing"
                                },
                                {
                                    "0": "Systematic Sales"
                                },
                                {
                                    "0": "Tachometers and Accessories"
                                },
                                {
                                    "0": "Tandem Sales and Service"
                                },
                                {
                                    "0": "Technical Parts Manufacturing"
                                },
                                {
                                    "0": "Tenth Bike Store"
                                },
                                {
                                    "0": "The Accessories Store"
                                },
                                {
                                    "0": "The Bicycle Accessories Company"
                                },
                                {
                                    "0": "The Bike Shop"
                                },
                                {
                                    "0": "The Commissary"
                                },
                                {
                                    "0": "The Gear Store"
                                },
                                {
                                    "0": "The New Bike Store"
                                },
                                {
                                    "0": "The Showroom"
                                },
                                {
                                    "0": "Third Bike Store"
                                },
                                {
                                    "0": "This Area Sporting Goods"
                                },
                                {
                                    "0": "Thorough Parts and Repair Services"
                                },
                                {
                                    "0": "Thrifty Parts and Sales"
                                },
                                {
                                    "0": "Thrilling Bike Tours"
                                },
                                {
                                    "0": "Tire Exchange"
                                },
                                {
                                    "0": "Top Bike Market"
                                },
                                {
                                    "0": "Top Sports Supply"
                                },
                                {
                                    "0": "Totes & Baskets Company"
                                },
                                {
                                    "0": "Town Industries"
                                },
                                {
                                    "0": "Trailblazing Sports"
                                },
                                {
                                    "0": "Transport Bikes"
                                },
                                {
                                    "0": "Transportation Options"
                                },
                                {
                                    "0": "Travel Sports"
                                },
                                {
                                    "0": "Travel Systems"
                                },
                                {
                                    "0": "Trendy Department Stores"
                                },
                                {
                                    "0": "Tubeless Tire Company"
                                },
                                {
                                    "0": "Twelfth Bike Store"
                                },
                                {
                                    "0": "Two Bike Shops"
                                },
                                {
                                    "0": "Two Wheels Cycle Store"
                                },
                                {
                                    "0": "Two-Seater Bikes"
                                },
                                {
                                    "0": "Two-Wheeled Transit Company"
                                },
                                {
                                    "0": "Unique Bikes"
                                },
                                {
                                    "0": "Unsurpassed Bikes"
                                },
                                {
                                    "0": "Up-To-Date Sports"
                                },
                                {
                                    "0": "Urban Sports Emporium"
                                },
                                {
                                    "0": "Utilitarian Sporting Goods"
                                },
                                {
                                    "0": "Uttermost Bike Shop"
                                },
                                {
                                    "0": "Vale Riding Supplies"
                                },
                                {
                                    "0": "Valley Bicycle Distributors"
                                },
                                {
                                    "0": "Valley Bicycle Specialists"
                                },
                                {
                                    "0": "Valley Toy Store"
                                },
                                {
                                    "0": "Variety Cycling"
                                },
                                {
                                    "0": "Vast Bike Sales and Rental"
                                },
                                {
                                    "0": "Vehicle Shop"
                                },
                                {
                                    "0": "Vigorous Exercise Company"
                                },
                                {
                                    "0": "Vigorous Sports Store"
                                },
                                {
                                    "0": "Vintage Sport Boutique"
                                },
                                {
                                    "0": "Vinyl and Plastic Goods Corporation"
                                },
                                {
                                    "0": "Weekend Bike Tours"
                                },
                                {
                                    "0": "West Side Mart"
                                },
                                {
                                    "0": "Western Bike Supplies"
                                },
                                {
                                    "0": "Westside Cycle Store"
                                },
                                {
                                    "0": "Westside Plaza"
                                },
                                {
                                    "0": "Wheel Gallery"
                                },
                                {
                                    "0": "Wholesale Parts"
                                },
                                {
                                    "0": "Wingtip Toys"
                                },
                                {
                                    "0": "Wire Baskets and Parts"
                                },
                                {
                                    "0": "Work and Play Association"
                                },
                                {
                                    "0": "Workout Emporium"
                                },
                                {
                                    "0": "World Bike Discount Store"
                                },
                                {
                                    "0": "World of Bikes"
                                },
                                {
                                    "0": "Year-Round Sports"
                                },
                                {
                                    "0": "Yellow Bicycle Company"
                                }
                            ]
                        },
                        "text/html": "<table><tr><th>companyname</th></tr><tr><td>A Bike Store</td></tr><tr><td>A Great Bicycle Company</td></tr><tr><td>A Typical Bike Shop</td></tr><tr><td>Acceptable Sales &amp; Service</td></tr><tr><td>Action Bicycle Specialists</td></tr><tr><td>Active Life Toys</td></tr><tr><td>Active Systems</td></tr><tr><td>Advanced Bike Components</td></tr><tr><td>Aerobic Exercise Company</td></tr><tr><td>Affordable Sports Equipment</td></tr><tr><td>All Cycle Shop</td></tr><tr><td>All Seasons Sports Supply</td></tr><tr><td>Alpine Ski House</td></tr><tr><td>Alternative Vehicles</td></tr><tr><td>Another Bicycle Company</td></tr><tr><td>Area Bike Accessories</td></tr><tr><td>Area Sheet Metal Supply</td></tr><tr><td>Associated Bikes</td></tr><tr><td>Authentic Sales and Service</td></tr><tr><td>Authorized Bike Sales and Rental</td></tr><tr><td>Basic Bike Company</td></tr><tr><td>Basic Sports Equipment</td></tr><tr><td>Beneficial Exercises and Activities</td></tr><tr><td>Best o' Bikes</td></tr><tr><td>Bicycle Accessories and Kits</td></tr><tr><td>Bicycle Lines Distributors</td></tr><tr><td>Bicycle Merchandise Warehouse</td></tr><tr><td>Big Cycle Mall</td></tr><tr><td>Big-Time Bike Store</td></tr><tr><td>Bike Dealers Association</td></tr><tr><td>Bike Experts</td></tr><tr><td>Bike World</td></tr><tr><td>Bikes and Motorbikes</td></tr><tr><td>Bikes for Kids and Adults</td></tr><tr><td>Bikes for Two</td></tr><tr><td>Black Bicycle Company</td></tr><tr><td>Blue Bicycle Company</td></tr><tr><td>Bold Bike Accessories</td></tr><tr><td>Brakes and Gears</td></tr><tr><td>Brightwork Company</td></tr><tr><td>Bulk Discount Store</td></tr><tr><td>Camping and Sports Store</td></tr><tr><td>Capable Sales and Service</td></tr><tr><td>Cash &amp; Carry Bikes</td></tr><tr><td>Catalog Store</td></tr><tr><td>Center Cycle Shop</td></tr><tr><td>Central Bicycle Specialists</td></tr><tr><td>Central Discount Store</td></tr><tr><td>Certified Bicycle Supply</td></tr><tr><td>Certified Sports Supply</td></tr><tr><td>Channel Outlet</td></tr><tr><td>Chic Department Stores</td></tr><tr><td>City Manufacturing</td></tr><tr><td>Citywide Service and Repair</td></tr><tr><td>Client Discount Store</td></tr><tr><td>Closeout Boutique</td></tr><tr><td>Closest Bicycle Store</td></tr><tr><td>Coalition Bike Company</td></tr><tr><td>Coho Sports</td></tr><tr><td>Commendable Bikes</td></tr><tr><td>Commerce Bicycle Specialists</td></tr><tr><td>Commercial Sporting Goods</td></tr><tr><td>Commuter Bicycle Store</td></tr><tr><td>Consolidated Messenger</td></tr><tr><td>Convenient Sales and Service</td></tr><tr><td>Corner Bicycle Supply</td></tr><tr><td>Countryside Company</td></tr><tr><td>Courteous Bicycle Specialists</td></tr><tr><td>Cross-Country Riding Supplies</td></tr><tr><td>Custom Accessories Company</td></tr><tr><td>Cycle Clearance</td></tr><tr><td>Cycle Merchants</td></tr><tr><td>Cycles Wholesaler &amp; Mfg.</td></tr><tr><td>Cycling Goods</td></tr><tr><td>Demand Distributors</td></tr><tr><td>Designated Distributors</td></tr><tr><td>Discount Bicycle Specialists</td></tr><tr><td>Discount Tours</td></tr><tr><td>Distant Inn</td></tr><tr><td>Distinctive Store</td></tr><tr><td>District Mall</td></tr><tr><td>Downhill Bicycle Specialists</td></tr><tr><td>Downtown Hotel</td></tr><tr><td>Eastside Department Store</td></tr><tr><td>Eastside Parts Shop</td></tr><tr><td>Economy Bikes Company</td></tr><tr><td>Economy Center</td></tr><tr><td>Efficient Cycling</td></tr><tr><td>Eighth Bike Store</td></tr><tr><td>Elite Bikes</td></tr><tr><td>Engineered Bike Systems</td></tr><tr><td>Essential Bike Works</td></tr><tr><td>Exceptional Cycle Services</td></tr><tr><td>Exclusive Bicycle Mart</td></tr><tr><td>Exercise Center</td></tr><tr><td>Exhibition Showroom</td></tr><tr><td>Exhilarating Cycles</td></tr><tr><td>Express Bike Services</td></tr><tr><td>Extended Bike Sales</td></tr><tr><td>Extended Tours</td></tr><tr><td>Extraordinary Bike Works</td></tr><tr><td>Extras Sporting Goods</td></tr><tr><td>Extreme Riding Supplies</td></tr><tr><td>Fabrikam Inc., West</td></tr><tr><td>Fad Outlet</td></tr><tr><td>Family Cycle Store</td></tr><tr><td>Family Entertainment Center</td></tr><tr><td>Family's Favorite Bike Shop</td></tr><tr><td>Famous Bike Shop</td></tr><tr><td>Farthermost Bike Shop</td></tr><tr><td>Farthest Bike Store</td></tr><tr><td>Fashionable Bikes and Accessories</td></tr><tr><td>Fasteners &amp; Bolts Outlet</td></tr><tr><td>Field Trip Inc</td></tr><tr><td>Field Trip Store</td></tr><tr><td>Fifth Bike Store</td></tr><tr><td>Finer Cycle Shop</td></tr><tr><td>Finer Mart</td></tr><tr><td>Finer Parts Shop</td></tr><tr><td>Finer Riding Supplies</td></tr><tr><td>Finish and Sealant Products</td></tr><tr><td>First Bike Store</td></tr><tr><td>First Cycle Store</td></tr><tr><td>First Department Stores</td></tr><tr><td>First-Rate Outlet</td></tr><tr><td>Fitness Cycling</td></tr><tr><td>Fitness Department Stores</td></tr><tr><td>Fitness Hotel</td></tr><tr><td>Fitness Supplies</td></tr><tr><td>Fitness Toy Store</td></tr><tr><td>Fleet Bikes</td></tr><tr><td>Friendly Bike Shop</td></tr><tr><td>Friendly Neighborhood Bikes</td></tr><tr><td>Front Sporting Goods</td></tr><tr><td>Frugal Bike Shop</td></tr><tr><td>Full-Service Bike Store</td></tr><tr><td>Fun Times Club</td></tr><tr><td>Fun Toys and Bikes</td></tr><tr><td>Future Bikes</td></tr><tr><td>Futuristic Bikes</td></tr><tr><td>Futuristic Sport Distributors</td></tr><tr><td>Gasless Cycle Shop</td></tr><tr><td>Gear-Shift Bikes Limited</td></tr><tr><td>General Bike Corporation</td></tr><tr><td>General Cycle Storehouse</td></tr><tr><td>General Department Stores</td></tr><tr><td>General Industries</td></tr><tr><td>General Riding Supplies</td></tr><tr><td>General Supplies</td></tr><tr><td>Genial Bike Associates</td></tr><tr><td>Genuine Bike Shop</td></tr><tr><td>Gift and Toy Store</td></tr><tr><td>Go-cart and Bike Specialists</td></tr><tr><td>Golf and Cycle Store</td></tr><tr><td>Good Bike Shop</td></tr><tr><td>Good Toys</td></tr><tr><td>Grand Bicycle Stores</td></tr><tr><td>Grand Industries</td></tr><tr><td>Grand Sport Boutique</td></tr><tr><td>Grease and Oil Products Company</td></tr><tr><td>Great Bicycle Supply</td></tr><tr><td>Great Bikes </td></tr><tr><td>Greater Bike Store</td></tr><tr><td>Handy Bike Services</td></tr><tr><td>Hardware Components</td></tr><tr><td>Health Spa, Limited</td></tr><tr><td>Highway Bike Shop</td></tr><tr><td>Historic Bicycle Sales</td></tr><tr><td>Home Town Bike Store</td></tr><tr><td>Honest Repair Service</td></tr><tr><td>Immense Manufacturing Company</td></tr><tr><td>Imported and Domestic Cycles</td></tr><tr><td>Initial Bike Company</td></tr><tr><td>Instruments and Parts Company</td></tr><tr><td>Journey Sporting Goods</td></tr><tr><td>Kickstand Sellers</td></tr><tr><td>Kickstands and Accessories Company</td></tr><tr><td>Large Bike Shop</td></tr><tr><td>Largest Bike Store</td></tr><tr><td>Latest Accessories Sales</td></tr><tr><td>Latest Sports Equipment</td></tr><tr><td>Leading Sales &amp; Repair</td></tr><tr><td>Leather Seat Factory</td></tr><tr><td>Leisure Activities</td></tr><tr><td>Leisure Clearing House</td></tr><tr><td>Little Bicycle Supply Shop</td></tr><tr><td>Local Hardware Factory</td></tr><tr><td>Local Sales and Rental</td></tr><tr><td>Locks Company</td></tr><tr><td>Lots of Bikes Storehouse</td></tr><tr><td>Low Price Cycles</td></tr><tr><td>Machines &amp; Cycles Store</td></tr><tr><td>Mail Market</td></tr><tr><td>Mail-Order Outlet</td></tr><tr><td>Maintenance and Repair for Bicycles</td></tr><tr><td>Major Cycling</td></tr><tr><td>Major Sport Suppliers</td></tr><tr><td>Major Sporting Goods</td></tr><tr><td>Many Bikes Store</td></tr><tr><td>Mechanical Products Ltd.</td></tr><tr><td>Mercantile Outlet</td></tr><tr><td>Metal Clearing House</td></tr><tr><td>Metal Processing Company</td></tr><tr><td>Metro Bike Works</td></tr><tr><td>Metro Cycle Shop</td></tr><tr><td>Metro Manufacturing</td></tr><tr><td>Metro Metals Co.</td></tr><tr><td>Metropolitan Bicycle Supply</td></tr><tr><td>Metropolitan Manufacturing</td></tr><tr><td>Metropolitan Sports Supply</td></tr><tr><td>Moderately-Priced Bikes Store</td></tr><tr><td>Modular Cycle Systems</td></tr><tr><td>More Bikes!</td></tr><tr><td>Mountain Bike Center</td></tr><tr><td>Mountain Toy Store</td></tr><tr><td>National Manufacturing</td></tr><tr><td>Nearby Cycle Shop</td></tr><tr><td>Nearby Sporting Goods</td></tr><tr><td>Neighborhood Store</td></tr><tr><td>Nice Bikes</td></tr><tr><td>Nonskid Tire Company</td></tr><tr><td>Non-Slip Pedal Company</td></tr><tr><td>Novelty Bikes</td></tr><tr><td>Number 1 Supply</td></tr><tr><td>Number One Bike Co.</td></tr><tr><td>Odometers and Accessories Company</td></tr><tr><td>Official Parts Shop</td></tr><tr><td>Oils and Fluids Warehouse</td></tr><tr><td>One Bike Company</td></tr><tr><td>Online Bike Sellers</td></tr><tr><td>Online Bike Warehouse</td></tr><tr><td>Operational Manufacturing</td></tr><tr><td>Orange Bicycle Company</td></tr><tr><td>Original Bicycle Supply Company</td></tr><tr><td>Our Sporting Goods Store</td></tr><tr><td>Outdoor Aerobic Systems Company</td></tr><tr><td>Outdoor Sporting Goods</td></tr><tr><td>Outdoor Sports Supply</td></tr><tr><td>Outstanding Cycles</td></tr><tr><td>Paint Supply</td></tr><tr><td>Paints and Solvents Company</td></tr><tr><td>Parcel Express Delivery Service</td></tr><tr><td>Permanent Finish Products</td></tr><tr><td>Petroleum Products Distributors</td></tr><tr><td>Plastic Parts Company</td></tr><tr><td>Practical Bike Supply Company</td></tr><tr><td>Preferred Bikes</td></tr><tr><td>Price-Cutter Discount Bikes</td></tr><tr><td>Primary Bike Distributors</td></tr><tr><td>Principal Bike Company</td></tr><tr><td>Professional Containers and Packaging Co.</td></tr><tr><td>Professional Cycle Store</td></tr><tr><td>Professional Cyclists</td></tr><tr><td>Professional Sales and Service</td></tr><tr><td>Progressive Sports</td></tr><tr><td>Prosperous Tours</td></tr><tr><td>Quantity Discounts</td></tr><tr><td>Quick Delivery Service</td></tr><tr><td>Quick Parts and Service</td></tr><tr><td>Racing Bike Outlet</td></tr><tr><td>Racing Partners</td></tr><tr><td>Racing Toys</td></tr><tr><td>Rally Master Company Inc</td></tr><tr><td>Rampart Amusement Company</td></tr><tr><td>Rapid Bikes</td></tr><tr><td>Raw Materials Inc</td></tr><tr><td>Real Sporting Goods</td></tr><tr><td>Reasonable Bicycle Sales</td></tr><tr><td>Recommended Bicycles</td></tr><tr><td>Red Bicycle Company</td></tr><tr><td>Regional Manufacturing</td></tr><tr><td>Reliable Retail Center</td></tr><tr><td>Remarkable Bike Store</td></tr><tr><td>Remote Bicycle Specialists</td></tr><tr><td>Rental Bikes</td></tr><tr><td>Requisite Part Supply</td></tr><tr><td>Resale Services</td></tr><tr><td>Responsible Bike Dealers</td></tr><tr><td>Retail Cycle Shop</td></tr><tr><td>Retail Discount Store</td></tr><tr><td>Retail Mall</td></tr><tr><td>Retail Sporting Equipment</td></tr><tr><td>Retail Sporting Goods</td></tr><tr><td>Retreat Inn</td></tr><tr><td>Rewarding Activities Company</td></tr><tr><td>Riders Company</td></tr><tr><td>Riding Associates</td></tr><tr><td>Riding Cycles</td></tr><tr><td>Riding Excursions</td></tr><tr><td>Road Way Sales and Rental</td></tr><tr><td>Roadway Bike Emporium</td></tr><tr><td>Road-Way Mart</td></tr><tr><td>Roadway Supplies</td></tr><tr><td>Roving Sports</td></tr><tr><td>Rugged Bikes</td></tr><tr><td>Running and Cycling Gear</td></tr><tr><td>Rural Cycle Emporium</td></tr><tr><td>Rural Department Store</td></tr><tr><td>Rural Sales and Service</td></tr><tr><td>Safe Cycles Shop</td></tr><tr><td>Safe Toys</td></tr><tr><td>Sample Bike Store</td></tr><tr><td>Satin Finish Company</td></tr><tr><td>Scooters and Bikes Store</td></tr><tr><td>Scratch-Resistant Finishes Company</td></tr><tr><td>Seats and Saddles Company</td></tr><tr><td>Security Racks and Locks Wholesalers</td></tr><tr><td>Sellers of Cycles</td></tr><tr><td>Separate Parts Corporation</td></tr><tr><td>Serious Cycles</td></tr><tr><td>Sharp Bikes</td></tr><tr><td>Sheet Metal Manufacturing</td></tr><tr><td>Shipping Specialists</td></tr><tr><td>Sixth Bike Store</td></tr><tr><td>Sleek Bikes </td></tr><tr><td>Small Bike Shop</td></tr><tr><td>Small Cycle Store</td></tr><tr><td>Social Activities Club</td></tr><tr><td>Solid Bike Parts</td></tr><tr><td>Some Discount Store</td></tr><tr><td>South Bike Company</td></tr><tr><td>Sparkling Paint and Finishes</td></tr><tr><td>Specialty Sports Store</td></tr><tr><td>Sports Commodities</td></tr><tr><td>Sports Merchandise</td></tr><tr><td>Sports Products Store</td></tr><tr><td>Sports Store</td></tr><tr><td>Standard Bikes</td></tr><tr><td>Stationary Bikes and Stands</td></tr><tr><td>Stock Parts and Supplies</td></tr><tr><td>Sturdy Toys</td></tr><tr><td>Suburban Cycle Shop</td></tr><tr><td>Successful Sales Company</td></tr><tr><td>Summer Sports Place</td></tr><tr><td>Sundry Sporting Goods</td></tr><tr><td>Superb Sales and Repair</td></tr><tr><td>Superior Hardware Distributors</td></tr><tr><td>Sure &amp; Reliable Sporting Goods</td></tr><tr><td>Swift Cycles</td></tr><tr><td>Synthetic Materials Manufacturing</td></tr><tr><td>Systematic Sales</td></tr><tr><td>Tachometers and Accessories</td></tr><tr><td>Tandem Sales and Service</td></tr><tr><td>Technical Parts Manufacturing</td></tr><tr><td>Tenth Bike Store</td></tr><tr><td>The Accessories Store</td></tr><tr><td>The Bicycle Accessories Company</td></tr><tr><td>The Bike Shop</td></tr><tr><td>The Commissary</td></tr><tr><td>The Gear Store</td></tr><tr><td>The New Bike Store</td></tr><tr><td>The Showroom</td></tr><tr><td>Third Bike Store</td></tr><tr><td>This Area Sporting Goods</td></tr><tr><td>Thorough Parts and Repair Services</td></tr><tr><td>Thrifty Parts and Sales</td></tr><tr><td>Thrilling Bike Tours</td></tr><tr><td>Tire Exchange</td></tr><tr><td>Top Bike Market</td></tr><tr><td>Top Sports Supply</td></tr><tr><td>Totes &amp; Baskets Company</td></tr><tr><td>Town Industries</td></tr><tr><td>Trailblazing Sports</td></tr><tr><td>Transport Bikes</td></tr><tr><td>Transportation Options</td></tr><tr><td>Travel Sports</td></tr><tr><td>Travel Systems</td></tr><tr><td>Trendy Department Stores</td></tr><tr><td>Tubeless Tire Company</td></tr><tr><td>Twelfth Bike Store</td></tr><tr><td>Two Bike Shops</td></tr><tr><td>Two Wheels Cycle Store</td></tr><tr><td>Two-Seater Bikes</td></tr><tr><td>Two-Wheeled Transit Company</td></tr><tr><td>Unique Bikes</td></tr><tr><td>Unsurpassed Bikes</td></tr><tr><td>Up-To-Date Sports</td></tr><tr><td>Urban Sports Emporium</td></tr><tr><td>Utilitarian Sporting Goods</td></tr><tr><td>Uttermost Bike Shop</td></tr><tr><td>Vale Riding Supplies</td></tr><tr><td>Valley Bicycle Distributors</td></tr><tr><td>Valley Bicycle Specialists</td></tr><tr><td>Valley Toy Store</td></tr><tr><td>Variety Cycling</td></tr><tr><td>Vast Bike Sales and Rental</td></tr><tr><td>Vehicle Shop</td></tr><tr><td>Vigorous Exercise Company</td></tr><tr><td>Vigorous Sports Store</td></tr><tr><td>Vintage Sport Boutique</td></tr><tr><td>Vinyl and Plastic Goods Corporation</td></tr><tr><td>Weekend Bike Tours</td></tr><tr><td>West Side Mart</td></tr><tr><td>Western Bike Supplies</td></tr><tr><td>Westside Cycle Store</td></tr><tr><td>Westside Plaza</td></tr><tr><td>Wheel Gallery</td></tr><tr><td>Wholesale Parts</td></tr><tr><td>Wingtip Toys</td></tr><tr><td>Wire Baskets and Parts</td></tr><tr><td>Work and Play Association</td></tr><tr><td>Workout Emporium</td></tr><tr><td>World Bike Discount Store</td></tr><tr><td>World of Bikes</td></tr><tr><td>Year-Round Sports</td></tr><tr><td>Yellow Bicycle Company</td></tr></table>"
                    },
                    "metadata": {}
                }
            ],
            "execution_count": 23
        },
        {
            "cell_type": "code",
            "source": [
                "CREATE VIEW Exemplo as\r\n",
                "select cod_emp, nome_emp, e.cod_dept, designacao\r\n",
                "from empregado e join categoria c\r\n",
                "on e.cod_dept = c.cod_cat\r\n",
                "\r\n",
                "drop view teste"
            ],
            "metadata": {
                "azdata_cell_guid": "90650b98-e4b6-4eba-abe5-53af2581b46d",
                "tags": []
            },
            "outputs": [
                {
                    "output_type": "error",
                    "ename": "",
                    "evalue": "Msg 2714, Level 16, State 3, Procedure Exemplo, Line 1\r\nThere is already an object named 'Exemplo' in the database.",
                    "traceback": []
                },
                {
                    "output_type": "display_data",
                    "data": {
                        "text/html": "Total execution time: 00:00:00.108"
                    },
                    "metadata": {}
                }
            ],
            "execution_count": 29
        },
        {
            "cell_type": "code",
            "source": [
                "/* Primary Key */\r\n",
                "create table PG\r\n",
                "(idpg integer primary key,\r\n",
                "designacao char (20))\r\n",
                "\r\n",
                "insert into pg values (1, 'DPG')\r\n",
                "insert into pg values (2, 'DTM')\r\n",
                "\r\n",
                "select * from PG"
            ],
            "metadata": {
                "azdata_cell_guid": "7b907058-f5f1-408a-932b-619691794a59"
            },
            "outputs": [
                {
                    "output_type": "error",
                    "ename": "",
                    "evalue": "Msg 2714, Level 16, State 6, Line 2\r\nThere is already an object named 'PG' in the database.",
                    "traceback": []
                },
                {
                    "output_type": "display_data",
                    "data": {
                        "text/html": "Total execution time: 00:00:00.098"
                    },
                    "metadata": {}
                }
            ],
            "execution_count": 36
        },
        {
            "cell_type": "code",
            "source": [
                "SELECT * from pg"
            ],
            "metadata": {
                "azdata_cell_guid": "9cb42872-0b72-4886-85a1-a792eceac42b"
            },
            "outputs": [
                {
                    "output_type": "display_data",
                    "data": {
                        "text/html": "(1 row affected)"
                    },
                    "metadata": {}
                },
                {
                    "output_type": "display_data",
                    "data": {
                        "text/html": "Total execution time: 00:00:00.098"
                    },
                    "metadata": {}
                },
                {
                    "output_type": "execute_result",
                    "execution_count": 37,
                    "data": {
                        "application/vnd.dataresource+json": {
                            "schema": {
                                "fields": [
                                    {
                                        "name": "idpg"
                                    },
                                    {
                                        "name": "designacao"
                                    }
                                ]
                            },
                            "data": [
                                {
                                    "0": "1",
                                    "1": "DSBA                "
                                }
                            ]
                        },
                        "text/html": "<table><tr><th>idpg</th><th>designacao</th></tr><tr><td>1</td><td>DSBA                </td></tr></table>"
                    },
                    "metadata": {}
                }
            ],
            "execution_count": 37
        },
        {
            "cell_type": "code",
            "source": [
                "create table PG\r\n",
                "(idpg integer identity (1,1) primary key,\r\n",
                "designacao char (20))\r\n",
                "\r\n",
                "insert into pg values ('DS&BA')\r\n",
                "select * from pg\r\n",
                ""
            ],
            "metadata": {
                "azdata_cell_guid": "8f3a4989-c388-43d0-864a-6464ce624f8c"
            },
            "outputs": [
                {
                    "output_type": "display_data",
                    "data": {
                        "text/html": "(1 row affected)"
                    },
                    "metadata": {}
                },
                {
                    "output_type": "display_data",
                    "data": {
                        "text/html": "(1 row affected)"
                    },
                    "metadata": {}
                },
                {
                    "output_type": "display_data",
                    "data": {
                        "text/html": "Total execution time: 00:00:00.114"
                    },
                    "metadata": {}
                },
                {
                    "output_type": "execute_result",
                    "execution_count": 38,
                    "data": {
                        "application/vnd.dataresource+json": {
                            "schema": {
                                "fields": [
                                    {
                                        "name": "idpg"
                                    },
                                    {
                                        "name": "designacao"
                                    }
                                ]
                            },
                            "data": [
                                {
                                    "0": "1",
                                    "1": "DS&BA               "
                                }
                            ]
                        },
                        "text/html": "<table><tr><th>idpg</th><th>designacao</th></tr><tr><td>1</td><td>DS&amp;BA               </td></tr></table>"
                    },
                    "metadata": {}
                }
            ],
            "execution_count": 38
        },
        {
            "cell_type": "code",
            "source": [
                "create table aluno5\r\n",
                "(naluno integer primary key,\r\n",
                "nomealuno char (50),\r\n",
                "idpg integer references pg)"
            ],
            "metadata": {
                "azdata_cell_guid": "bff5b902-8276-437f-b99c-cb0a4832d582"
            },
            "outputs": [
                {
                    "output_type": "display_data",
                    "data": {
                        "text/html": "Commands completed successfully."
                    },
                    "metadata": {}
                },
                {
                    "output_type": "display_data",
                    "data": {
                        "text/html": "Total execution time: 00:00:00.095"
                    },
                    "metadata": {}
                }
            ],
            "execution_count": 41
        },
        {
            "cell_type": "code",
            "source": [
                "insert into aluno5 values (501, 'Maria',3)"
            ],
            "metadata": {
                "azdata_cell_guid": "e51b5c18-4622-421f-a552-6c2359781c01"
            },
            "outputs": [
                {
                    "output_type": "error",
                    "ename": "",
                    "evalue": "Msg 547, Level 16, State 0, Line 1\r\nThe INSERT statement conflicted with the FOREIGN KEY constraint \"FK__aluno5__idpg__1313ABA2\". The conflict occurred in database \"db7ed_ddm\", table \"g01.PG\", column 'idpg'.",
                    "traceback": []
                },
                {
                    "output_type": "display_data",
                    "data": {
                        "text/html": "The statement has been terminated."
                    },
                    "metadata": {}
                },
                {
                    "output_type": "display_data",
                    "data": {
                        "text/html": "Total execution time: 00:00:00.100"
                    },
                    "metadata": {}
                }
            ],
            "execution_count": 44
        },
        {
            "cell_type": "code",
            "source": [
                "create type d_contribuinte from integer not null \r\n",
                "\r\n",
                "create table d_contribuinte\r\n",
                "(nif d_contribuinte primary key)"
            ],
            "metadata": {
                "azdata_cell_guid": "6f4a4009-3259-48bf-9977-687e31361de7",
                "tags": []
            },
            "outputs": [
                {
                    "output_type": "error",
                    "ename": "",
                    "evalue": "Msg 219, Level 16, State 1, Line 1\r\nThe type 'd_contribuinte' already exists, or you do not have permission to create it.",
                    "traceback": []
                },
                {
                    "output_type": "display_data",
                    "data": {
                        "text/html": "Total execution time: 00:00:00.093"
                    },
                    "metadata": {}
                }
            ],
            "execution_count": 46
        }
    ]
}