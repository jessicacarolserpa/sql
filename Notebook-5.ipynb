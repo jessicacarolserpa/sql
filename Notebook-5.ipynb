{
    "metadata": {
        "kernelspec": {
            "name": "SQL",
            "display_name": "SQL",
            "language": "sql"
        },
        "language_info": {
            "name": "sql",
            "version": ""
        },
        "extensions": {
            "azuredatastudio": {
                "version": 1,
                "views": []
            }
        }
    },
    "nbformat_minor": 2,
    "nbformat": 4,
    "cells": [
        {
            "cell_type": "markdown",
            "source": [
                "**Lab <span style=\"color: #09885a;\">6</span> Challenge <span style=\"color: #09885a;\">1</span>**"
            ],
            "metadata": {
                "azdata_cell_guid": "30decc53-a53a-4e79-ba31-61d5c6e29de2"
            },
            "attachments": {}
        },
        {
            "cell_type": "markdown",
            "source": [
                "1\\. Recuperar produtos cujo preço de tabela é superior ao preço unitário médio\n",
                "\n",
                "  \n",
                "\n",
                "Recuperar o ID do produto, nome e preço de lista para cada produto em que o preço de lista é mais elevado do que o \n",
                "\n",
                "preço unitário médio para todos os produtos que foram vendidos."
            ],
            "metadata": {
                "azdata_cell_guid": "d8b2ed71-fa2e-4f0b-b6d6-496884ecb2d8"
            },
            "attachments": {}
        },
        {
            "cell_type": "code",
            "source": [
                "/* Verificar pq da erro quando colo o campo: ProductID, Name, UnitPrice, ListPrice*/\r\n",
                "select Name, UnitPrice, ListPrice\r\n",
                "from Product p  \r\n",
                "join SalesOrderDetail sod\r\n",
                "on p.ProductID = sod.ProductID\r\n",
                "WHERE ListPrice > UnitPrice\r\n",
                "\r\n",
                ""
            ],
            "metadata": {
                "azdata_cell_guid": "671e1edd-4456-44c9-9330-340d69113336"
            },
            "outputs": [
                {
                    "output_type": "display_data",
                    "data": {
                        "text/html": "(542 rows affected)"
                    },
                    "metadata": {}
                },
                {
                    "output_type": "display_data",
                    "data": {
                        "text/html": "Total execution time: 00:00:00.105"
                    },
                    "metadata": {}
                },
                {
                    "output_type": "execute_result",
                    "execution_count": 16,
                    "data": {
                        "application/vnd.dataresource+json": {
                            "schema": {
                                "fields": [
                                    {
                                        "name": "Name"
                                    },
                                    {
                                        "name": "UnitPrice"
                                    },
                                    {
                                        "name": "ListPrice"
                                    }
                                ]
                            },
                            "data": [
                                {
                                    "0": "Sport-100 Helmet, Red",
                                    "1": "20.9940",
                                    "2": "34.9900"
                                },
                                {
                                    "0": "Sport-100 Helmet, Red",
                                    "1": "20.9940",
                                    "2": "34.9900"
                                },
                                {
                                    "0": "Sport-100 Helmet, Red",
                                    "1": "20.9940",
                                    "2": "34.9900"
                                },
                                {
                                    "0": "Sport-100 Helmet, Red",
                                    "1": "20.9940",
                                    "2": "34.9900"
                                },
                                {
                                    "0": "Sport-100 Helmet, Red",
                                    "1": "20.9940",
                                    "2": "34.9900"
                                },
                                {
                                    "0": "Sport-100 Helmet, Red",
                                    "1": "20.9940",
                                    "2": "34.9900"
                                },
                                {
                                    "0": "Sport-100 Helmet, Red",
                                    "1": "20.9940",
                                    "2": "34.9900"
                                },
                                {
                                    "0": "Sport-100 Helmet, Black",
                                    "1": "20.9940",
                                    "2": "34.9900"
                                },
                                {
                                    "0": "Sport-100 Helmet, Black",
                                    "1": "20.9940",
                                    "2": "34.9900"
                                },
                                {
                                    "0": "Sport-100 Helmet, Black",
                                    "1": "20.2942",
                                    "2": "34.9900"
                                },
                                {
                                    "0": "Sport-100 Helmet, Black",
                                    "1": "20.2942",
                                    "2": "34.9900"
                                },
                                {
                                    "0": "Sport-100 Helmet, Black",
                                    "1": "20.2942",
                                    "2": "34.9900"
                                },
                                {
                                    "0": "Sport-100 Helmet, Black",
                                    "1": "20.9940",
                                    "2": "34.9900"
                                },
                                {
                                    "0": "Sport-100 Helmet, Blue",
                                    "1": "20.9940",
                                    "2": "34.9900"
                                },
                                {
                                    "0": "Sport-100 Helmet, Blue",
                                    "1": "19.2445",
                                    "2": "34.9900"
                                },
                                {
                                    "0": "Sport-100 Helmet, Blue",
                                    "1": "20.9940",
                                    "2": "34.9900"
                                },
                                {
                                    "0": "Sport-100 Helmet, Blue",
                                    "1": "20.9940",
                                    "2": "34.9900"
                                },
                                {
                                    "0": "Sport-100 Helmet, Blue",
                                    "1": "20.9940",
                                    "2": "34.9900"
                                },
                                {
                                    "0": "Sport-100 Helmet, Blue",
                                    "1": "20.9940",
                                    "2": "34.9900"
                                },
                                {
                                    "0": "Sport-100 Helmet, Blue",
                                    "1": "20.9940",
                                    "2": "34.9900"
                                },
                                {
                                    "0": "AWC Logo Cap",
                                    "1": "5.3940",
                                    "2": "8.9900"
                                },
                                {
                                    "0": "AWC Logo Cap",
                                    "1": "5.3940",
                                    "2": "8.9900"
                                },
                                {
                                    "0": "AWC Logo Cap",
                                    "1": "5.3940",
                                    "2": "8.9900"
                                },
                                {
                                    "0": "AWC Logo Cap",
                                    "1": "5.3940",
                                    "2": "8.9900"
                                },
                                {
                                    "0": "AWC Logo Cap",
                                    "1": "5.3940",
                                    "2": "8.9900"
                                },
                                {
                                    "0": "AWC Logo Cap",
                                    "1": "5.3940",
                                    "2": "8.9900"
                                },
                                {
                                    "0": "AWC Logo Cap",
                                    "1": "5.3940",
                                    "2": "8.9900"
                                },
                                {
                                    "0": "AWC Logo Cap",
                                    "1": "5.2142",
                                    "2": "8.9900"
                                },
                                {
                                    "0": "AWC Logo Cap",
                                    "1": "5.3940",
                                    "2": "8.9900"
                                },
                                {
                                    "0": "Long-Sleeve Logo Jersey, M",
                                    "1": "29.9940",
                                    "2": "49.9900"
                                },
                                {
                                    "0": "Long-Sleeve Logo Jersey, M",
                                    "1": "29.9940",
                                    "2": "49.9900"
                                },
                                {
                                    "0": "Long-Sleeve Logo Jersey, M",
                                    "1": "29.9940",
                                    "2": "49.9900"
                                },
                                {
                                    "0": "Long-Sleeve Logo Jersey, M",
                                    "1": "29.9940",
                                    "2": "49.9900"
                                },
                                {
                                    "0": "Long-Sleeve Logo Jersey, M",
                                    "1": "29.9940",
                                    "2": "49.9900"
                                },
                                {
                                    "0": "Long-Sleeve Logo Jersey, M",
                                    "1": "29.9940",
                                    "2": "49.9900"
                                },
                                {
                                    "0": "Long-Sleeve Logo Jersey, M",
                                    "1": "29.9940",
                                    "2": "49.9900"
                                },
                                {
                                    "0": "Long-Sleeve Logo Jersey, L",
                                    "1": "29.9940",
                                    "2": "49.9900"
                                },
                                {
                                    "0": "Long-Sleeve Logo Jersey, L",
                                    "1": "29.9940",
                                    "2": "49.9900"
                                },
                                {
                                    "0": "Long-Sleeve Logo Jersey, L",
                                    "1": "29.9940",
                                    "2": "49.9900"
                                },
                                {
                                    "0": "Long-Sleeve Logo Jersey, L",
                                    "1": "29.9940",
                                    "2": "49.9900"
                                },
                                {
                                    "0": "Long-Sleeve Logo Jersey, L",
                                    "1": "29.9940",
                                    "2": "49.9900"
                                },
                                {
                                    "0": "Long-Sleeve Logo Jersey, L",
                                    "1": "29.9940",
                                    "2": "49.9900"
                                },
                                {
                                    "0": "Long-Sleeve Logo Jersey, L",
                                    "1": "29.9940",
                                    "2": "49.9900"
                                },
                                {
                                    "0": "Long-Sleeve Logo Jersey, L",
                                    "1": "29.9940",
                                    "2": "49.9900"
                                },
                                {
                                    "0": "Long-Sleeve Logo Jersey, L",
                                    "1": "27.4945",
                                    "2": "49.9900"
                                },
                                {
                                    "0": "Long-Sleeve Logo Jersey, L",
                                    "1": "29.9940",
                                    "2": "49.9900"
                                },
                                {
                                    "0": "Long-Sleeve Logo Jersey, XL",
                                    "1": "29.9940",
                                    "2": "49.9900"
                                },
                                {
                                    "0": "Long-Sleeve Logo Jersey, XL",
                                    "1": "29.9940",
                                    "2": "49.9900"
                                },
                                {
                                    "0": "Long-Sleeve Logo Jersey, XL",
                                    "1": "29.9940",
                                    "2": "49.9900"
                                },
                                {
                                    "0": "HL Road Frame - Red, 62",
                                    "1": "858.9000",
                                    "2": "1431.5000"
                                },
                                {
                                    "0": "HL Road Frame - Red, 62",
                                    "1": "858.9000",
                                    "2": "1431.5000"
                                },
                                {
                                    "0": "HL Road Frame - Red, 44",
                                    "1": "858.9000",
                                    "2": "1431.5000"
                                },
                                {
                                    "0": "HL Road Frame - Red, 44",
                                    "1": "858.9000",
                                    "2": "1431.5000"
                                },
                                {
                                    "0": "LL Road Frame - Black, 58",
                                    "1": "202.3320",
                                    "2": "337.2200"
                                },
                                {
                                    "0": "LL Road Frame - Black, 58",
                                    "1": "202.3320",
                                    "2": "337.2200"
                                },
                                {
                                    "0": "LL Road Frame - Black, 52",
                                    "1": "202.3320",
                                    "2": "337.2200"
                                },
                                {
                                    "0": "LL Road Frame - Black, 52",
                                    "1": "202.3320",
                                    "2": "337.2200"
                                },
                                {
                                    "0": "LL Road Frame - Black, 52",
                                    "1": "202.3320",
                                    "2": "337.2200"
                                },
                                {
                                    "0": "LL Road Frame - Black, 52",
                                    "1": "202.3320",
                                    "2": "337.2200"
                                },
                                {
                                    "0": "LL Road Frame - Black, 52",
                                    "1": "202.3320",
                                    "2": "337.2200"
                                },
                                {
                                    "0": "HL Mountain Frame - Silver, 42",
                                    "1": "818.7000",
                                    "2": "1364.5000"
                                },
                                {
                                    "0": "HL Mountain Frame - Silver, 42",
                                    "1": "818.7000",
                                    "2": "1364.5000"
                                },
                                {
                                    "0": "HL Mountain Frame - Silver, 46",
                                    "1": "818.7000",
                                    "2": "1364.5000"
                                },
                                {
                                    "0": "HL Mountain Frame - Silver, 46",
                                    "1": "818.7000",
                                    "2": "1364.5000"
                                },
                                {
                                    "0": "HL Mountain Frame - Black, 42",
                                    "1": "809.7600",
                                    "2": "1349.6000"
                                },
                                {
                                    "0": "HL Mountain Frame - Black, 42",
                                    "1": "809.7600",
                                    "2": "1349.6000"
                                },
                                {
                                    "0": "HL Mountain Frame - Black, 42",
                                    "1": "809.7600",
                                    "2": "1349.6000"
                                },
                                {
                                    "0": "HL Mountain Frame - Black, 42",
                                    "1": "809.7600",
                                    "2": "1349.6000"
                                },
                                {
                                    "0": "HL Mountain Frame - Black, 42",
                                    "1": "809.7600",
                                    "2": "1349.6000"
                                },
                                {
                                    "0": "HL Mountain Frame - Black, 38",
                                    "1": "809.7600",
                                    "2": "1349.6000"
                                },
                                {
                                    "0": "HL Mountain Frame - Black, 38",
                                    "1": "809.7600",
                                    "2": "1349.6000"
                                },
                                {
                                    "0": "HL Mountain Frame - Silver, 38",
                                    "1": "818.7000",
                                    "2": "1364.5000"
                                },
                                {
                                    "0": "HL Mountain Frame - Silver, 38",
                                    "1": "818.7000",
                                    "2": "1364.5000"
                                },
                                {
                                    "0": "HL Mountain Frame - Silver, 38",
                                    "1": "818.7000",
                                    "2": "1364.5000"
                                },
                                {
                                    "0": "HL Mountain Frame - Silver, 38",
                                    "1": "818.7000",
                                    "2": "1364.5000"
                                },
                                {
                                    "0": "HL Mountain Frame - Silver, 38",
                                    "1": "818.7000",
                                    "2": "1364.5000"
                                },
                                {
                                    "0": "Mountain-200 Silver, 38",
                                    "1": "1391.9940",
                                    "2": "2319.9900"
                                },
                                {
                                    "0": "Mountain-200 Silver, 38",
                                    "1": "1391.9940",
                                    "2": "2319.9900"
                                },
                                {
                                    "0": "Mountain-200 Silver, 38",
                                    "1": "1391.9940",
                                    "2": "2319.9900"
                                },
                                {
                                    "0": "Mountain-200 Silver, 38",
                                    "1": "1391.9940",
                                    "2": "2319.9900"
                                },
                                {
                                    "0": "Mountain-200 Silver, 42",
                                    "1": "1391.9940",
                                    "2": "2319.9900"
                                },
                                {
                                    "0": "Mountain-200 Silver, 42",
                                    "1": "1391.9940",
                                    "2": "2319.9900"
                                },
                                {
                                    "0": "Mountain-200 Silver, 42",
                                    "1": "1391.9940",
                                    "2": "2319.9900"
                                },
                                {
                                    "0": "Mountain-200 Silver, 42",
                                    "1": "1391.9940",
                                    "2": "2319.9900"
                                },
                                {
                                    "0": "Mountain-200 Silver, 42",
                                    "1": "1391.9940",
                                    "2": "2319.9900"
                                },
                                {
                                    "0": "Mountain-200 Silver, 46",
                                    "1": "1391.9940",
                                    "2": "2319.9900"
                                },
                                {
                                    "0": "Mountain-200 Silver, 46",
                                    "1": "1391.9940",
                                    "2": "2319.9900"
                                },
                                {
                                    "0": "Mountain-200 Silver, 46",
                                    "1": "1391.9940",
                                    "2": "2319.9900"
                                },
                                {
                                    "0": "Mountain-200 Silver, 46",
                                    "1": "1391.9940",
                                    "2": "2319.9900"
                                },
                                {
                                    "0": "Mountain-200 Black, 38",
                                    "1": "1376.9940",
                                    "2": "2294.9900"
                                },
                                {
                                    "0": "Mountain-200 Black, 38",
                                    "1": "1376.9940",
                                    "2": "2294.9900"
                                },
                                {
                                    "0": "Mountain-200 Black, 38",
                                    "1": "1376.9940",
                                    "2": "2294.9900"
                                },
                                {
                                    "0": "Mountain-200 Black, 38",
                                    "1": "1376.9940",
                                    "2": "2294.9900"
                                },
                                {
                                    "0": "Mountain-200 Black, 38",
                                    "1": "1376.9940",
                                    "2": "2294.9900"
                                },
                                {
                                    "0": "Mountain-200 Black, 38",
                                    "1": "1376.9940",
                                    "2": "2294.9900"
                                },
                                {
                                    "0": "Mountain-200 Black, 42",
                                    "1": "1376.9940",
                                    "2": "2294.9900"
                                },
                                {
                                    "0": "Mountain-200 Black, 42",
                                    "1": "1376.9940",
                                    "2": "2294.9900"
                                },
                                {
                                    "0": "Mountain-200 Black, 42",
                                    "1": "1376.9940",
                                    "2": "2294.9900"
                                },
                                {
                                    "0": "Mountain-200 Black, 42",
                                    "1": "1376.9940",
                                    "2": "2294.9900"
                                },
                                {
                                    "0": "Mountain-200 Black, 46",
                                    "1": "1376.9940",
                                    "2": "2294.9900"
                                },
                                {
                                    "0": "Mountain-200 Black, 46",
                                    "1": "1376.9940",
                                    "2": "2294.9900"
                                },
                                {
                                    "0": "Mountain-200 Black, 46",
                                    "1": "1376.9940",
                                    "2": "2294.9900"
                                },
                                {
                                    "0": "Mountain-200 Black, 46",
                                    "1": "1376.9940",
                                    "2": "2294.9900"
                                },
                                {
                                    "0": "Road-250 Red, 58",
                                    "1": "1466.0100",
                                    "2": "2443.3500"
                                },
                                {
                                    "0": "Road-250 Black, 44",
                                    "1": "1466.0100",
                                    "2": "2443.3500"
                                },
                                {
                                    "0": "Road-250 Black, 44",
                                    "1": "1466.0100",
                                    "2": "2443.3500"
                                },
                                {
                                    "0": "Road-250 Black, 44",
                                    "1": "1466.0100",
                                    "2": "2443.3500"
                                },
                                {
                                    "0": "Road-250 Black, 48",
                                    "1": "1466.0100",
                                    "2": "2443.3500"
                                },
                                {
                                    "0": "Road-250 Black, 48",
                                    "1": "1466.0100",
                                    "2": "2443.3500"
                                },
                                {
                                    "0": "Road-250 Black, 52",
                                    "1": "1466.0100",
                                    "2": "2443.3500"
                                },
                                {
                                    "0": "Road-250 Black, 52",
                                    "1": "1466.0100",
                                    "2": "2443.3500"
                                },
                                {
                                    "0": "Road-250 Black, 58",
                                    "1": "1466.0100",
                                    "2": "2443.3500"
                                },
                                {
                                    "0": "Road-550-W Yellow, 38",
                                    "1": "672.2940",
                                    "2": "1120.4900"
                                },
                                {
                                    "0": "Road-550-W Yellow, 38",
                                    "1": "672.2940",
                                    "2": "1120.4900"
                                },
                                {
                                    "0": "Road-550-W Yellow, 38",
                                    "1": "672.2940",
                                    "2": "1120.4900"
                                },
                                {
                                    "0": "Road-550-W Yellow, 40",
                                    "1": "672.2940",
                                    "2": "1120.4900"
                                },
                                {
                                    "0": "Road-550-W Yellow, 40",
                                    "1": "672.2940",
                                    "2": "1120.4900"
                                },
                                {
                                    "0": "Road-550-W Yellow, 40",
                                    "1": "672.2940",
                                    "2": "1120.4900"
                                },
                                {
                                    "0": "Road-550-W Yellow, 42",
                                    "1": "672.2940",
                                    "2": "1120.4900"
                                },
                                {
                                    "0": "Road-550-W Yellow, 42",
                                    "1": "672.2940",
                                    "2": "1120.4900"
                                },
                                {
                                    "0": "Road-550-W Yellow, 44",
                                    "1": "672.2940",
                                    "2": "1120.4900"
                                },
                                {
                                    "0": "Road-550-W Yellow, 48",
                                    "1": "672.2940",
                                    "2": "1120.4900"
                                },
                                {
                                    "0": "Road-550-W Yellow, 48",
                                    "1": "672.2940",
                                    "2": "1120.4900"
                                },
                                {
                                    "0": "Road-550-W Yellow, 48",
                                    "1": "672.2940",
                                    "2": "1120.4900"
                                },
                                {
                                    "0": "LL Mountain Handlebars",
                                    "1": "26.7240",
                                    "2": "44.5400"
                                },
                                {
                                    "0": "LL Mountain Handlebars",
                                    "1": "26.7240",
                                    "2": "44.5400"
                                },
                                {
                                    "0": "LL Mountain Handlebars",
                                    "1": "26.7240",
                                    "2": "44.5400"
                                },
                                {
                                    "0": "LL Mountain Handlebars",
                                    "1": "26.7240",
                                    "2": "44.5400"
                                },
                                {
                                    "0": "ML Mountain Handlebars",
                                    "1": "37.1520",
                                    "2": "61.9200"
                                },
                                {
                                    "0": "ML Mountain Handlebars",
                                    "1": "37.1520",
                                    "2": "61.9200"
                                },
                                {
                                    "0": "ML Mountain Handlebars",
                                    "1": "37.1520",
                                    "2": "61.9200"
                                },
                                {
                                    "0": "ML Mountain Handlebars",
                                    "1": "37.1520",
                                    "2": "61.9200"
                                },
                                {
                                    "0": "ML Mountain Handlebars",
                                    "1": "37.1520",
                                    "2": "61.9200"
                                },
                                {
                                    "0": "HL Mountain Handlebars",
                                    "1": "72.1620",
                                    "2": "120.2700"
                                },
                                {
                                    "0": "HL Mountain Handlebars",
                                    "1": "72.1620",
                                    "2": "120.2700"
                                },
                                {
                                    "0": "HL Mountain Handlebars",
                                    "1": "72.1620",
                                    "2": "120.2700"
                                },
                                {
                                    "0": "HL Road Handlebars",
                                    "1": "72.1620",
                                    "2": "120.2700"
                                },
                                {
                                    "0": "HL Road Handlebars",
                                    "1": "72.1620",
                                    "2": "120.2700"
                                },
                                {
                                    "0": "HL Road Handlebars",
                                    "1": "72.1620",
                                    "2": "120.2700"
                                },
                                {
                                    "0": "ML Road Frame-W - Yellow, 38",
                                    "1": "356.8980",
                                    "2": "594.8300"
                                },
                                {
                                    "0": "ML Road Frame-W - Yellow, 38",
                                    "1": "356.8980",
                                    "2": "594.8300"
                                },
                                {
                                    "0": "ML Road Frame-W - Yellow, 38",
                                    "1": "356.8980",
                                    "2": "594.8300"
                                },
                                {
                                    "0": "ML Road Frame-W - Yellow, 44",
                                    "1": "356.8980",
                                    "2": "594.8300"
                                },
                                {
                                    "0": "ML Road Frame-W - Yellow, 44",
                                    "1": "356.8980",
                                    "2": "594.8300"
                                },
                                {
                                    "0": "ML Road Frame-W - Yellow, 44",
                                    "1": "356.8980",
                                    "2": "594.8300"
                                },
                                {
                                    "0": "ML Road Frame-W - Yellow, 44",
                                    "1": "356.8980",
                                    "2": "594.8300"
                                },
                                {
                                    "0": "ML Road Frame-W - Yellow, 48",
                                    "1": "356.8980",
                                    "2": "594.8300"
                                },
                                {
                                    "0": "ML Road Frame-W - Yellow, 48",
                                    "1": "356.8980",
                                    "2": "594.8300"
                                },
                                {
                                    "0": "ML Road Frame-W - Yellow, 48",
                                    "1": "356.8980",
                                    "2": "594.8300"
                                },
                                {
                                    "0": "ML Road Frame-W - Yellow, 48",
                                    "1": "356.8980",
                                    "2": "594.8300"
                                },
                                {
                                    "0": "HL Road Frame - Black, 44",
                                    "1": "858.9000",
                                    "2": "1431.5000"
                                },
                                {
                                    "0": "HL Road Frame - Black, 44",
                                    "1": "858.9000",
                                    "2": "1431.5000"
                                },
                                {
                                    "0": "Half-Finger Gloves, S",
                                    "1": "14.6940",
                                    "2": "24.4900"
                                },
                                {
                                    "0": "Half-Finger Gloves, S",
                                    "1": "14.6940",
                                    "2": "24.4900"
                                },
                                {
                                    "0": "Half-Finger Gloves, S",
                                    "1": "14.6940",
                                    "2": "24.4900"
                                },
                                {
                                    "0": "Half-Finger Gloves, M",
                                    "1": "14.6940",
                                    "2": "24.4900"
                                },
                                {
                                    "0": "Half-Finger Gloves, M",
                                    "1": "14.6940",
                                    "2": "24.4900"
                                },
                                {
                                    "0": "Half-Finger Gloves, M",
                                    "1": "14.6940",
                                    "2": "24.4900"
                                },
                                {
                                    "0": "Half-Finger Gloves, M",
                                    "1": "14.6940",
                                    "2": "24.4900"
                                },
                                {
                                    "0": "Half-Finger Gloves, M",
                                    "1": "14.6940",
                                    "2": "24.4900"
                                },
                                {
                                    "0": "Half-Finger Gloves, M",
                                    "1": "14.6940",
                                    "2": "24.4900"
                                },
                                {
                                    "0": "Half-Finger Gloves, L",
                                    "1": "14.6940",
                                    "2": "24.4900"
                                },
                                {
                                    "0": "Half-Finger Gloves, L",
                                    "1": "14.6940",
                                    "2": "24.4900"
                                },
                                {
                                    "0": "Half-Finger Gloves, L",
                                    "1": "14.6940",
                                    "2": "24.4900"
                                },
                                {
                                    "0": "Classic Vest, S",
                                    "1": "34.9250",
                                    "2": "63.5000"
                                },
                                {
                                    "0": "Classic Vest, S",
                                    "1": "34.9250",
                                    "2": "63.5000"
                                },
                                {
                                    "0": "Classic Vest, S",
                                    "1": "34.9250",
                                    "2": "63.5000"
                                },
                                {
                                    "0": "Classic Vest, S",
                                    "1": "38.1000",
                                    "2": "63.5000"
                                },
                                {
                                    "0": "Classic Vest, S",
                                    "1": "38.1000",
                                    "2": "63.5000"
                                },
                                {
                                    "0": "Classic Vest, S",
                                    "1": "38.1000",
                                    "2": "63.5000"
                                },
                                {
                                    "0": "Classic Vest, S",
                                    "1": "38.1000",
                                    "2": "63.5000"
                                },
                                {
                                    "0": "Classic Vest, S",
                                    "1": "38.1000",
                                    "2": "63.5000"
                                },
                                {
                                    "0": "Classic Vest, S",
                                    "1": "38.1000",
                                    "2": "63.5000"
                                },
                                {
                                    "0": "Classic Vest, S",
                                    "1": "38.1000",
                                    "2": "63.5000"
                                },
                                {
                                    "0": "Classic Vest, M",
                                    "1": "38.1000",
                                    "2": "63.5000"
                                },
                                {
                                    "0": "Classic Vest, M",
                                    "1": "38.1000",
                                    "2": "63.5000"
                                },
                                {
                                    "0": "Classic Vest, M",
                                    "1": "38.1000",
                                    "2": "63.5000"
                                },
                                {
                                    "0": "Classic Vest, M",
                                    "1": "38.1000",
                                    "2": "63.5000"
                                },
                                {
                                    "0": "Classic Vest, M",
                                    "1": "38.1000",
                                    "2": "63.5000"
                                },
                                {
                                    "0": "Classic Vest, M",
                                    "1": "38.1000",
                                    "2": "63.5000"
                                },
                                {
                                    "0": "Women's Mountain Shorts, S",
                                    "1": "40.5942",
                                    "2": "69.9900"
                                },
                                {
                                    "0": "Women's Mountain Shorts, S",
                                    "1": "41.9940",
                                    "2": "69.9900"
                                },
                                {
                                    "0": "Women's Mountain Shorts, S",
                                    "1": "41.9940",
                                    "2": "69.9900"
                                },
                                {
                                    "0": "Women's Mountain Shorts, S",
                                    "1": "40.5942",
                                    "2": "69.9900"
                                },
                                {
                                    "0": "Women's Mountain Shorts, S",
                                    "1": "41.9940",
                                    "2": "69.9900"
                                },
                                {
                                    "0": "Women's Mountain Shorts, S",
                                    "1": "41.9940",
                                    "2": "69.9900"
                                },
                                {
                                    "0": "Women's Mountain Shorts, M",
                                    "1": "41.9940",
                                    "2": "69.9900"
                                },
                                {
                                    "0": "Women's Mountain Shorts, M",
                                    "1": "41.9940",
                                    "2": "69.9900"
                                },
                                {
                                    "0": "Women's Mountain Shorts, L",
                                    "1": "41.9940",
                                    "2": "69.9900"
                                },
                                {
                                    "0": "Women's Mountain Shorts, L",
                                    "1": "41.9940",
                                    "2": "69.9900"
                                },
                                {
                                    "0": "Women's Mountain Shorts, L",
                                    "1": "41.9940",
                                    "2": "69.9900"
                                },
                                {
                                    "0": "Women's Mountain Shorts, L",
                                    "1": "41.9940",
                                    "2": "69.9900"
                                },
                                {
                                    "0": "Women's Mountain Shorts, L",
                                    "1": "41.9940",
                                    "2": "69.9900"
                                },
                                {
                                    "0": "Water Bottle - 30 oz.",
                                    "1": "2.9940",
                                    "2": "4.9900"
                                },
                                {
                                    "0": "Water Bottle - 30 oz.",
                                    "1": "2.9940",
                                    "2": "4.9900"
                                },
                                {
                                    "0": "Water Bottle - 30 oz.",
                                    "1": "2.9940",
                                    "2": "4.9900"
                                },
                                {
                                    "0": "Water Bottle - 30 oz.",
                                    "1": "2.9940",
                                    "2": "4.9900"
                                },
                                {
                                    "0": "Water Bottle - 30 oz.",
                                    "1": "2.8942",
                                    "2": "4.9900"
                                },
                                {
                                    "0": "Water Bottle - 30 oz.",
                                    "1": "2.9940",
                                    "2": "4.9900"
                                },
                                {
                                    "0": "Water Bottle - 30 oz.",
                                    "1": "2.8942",
                                    "2": "4.9900"
                                },
                                {
                                    "0": "Patch Kit/8 Patches",
                                    "1": "1.3740",
                                    "2": "2.2900"
                                },
                                {
                                    "0": "Patch Kit/8 Patches",
                                    "1": "1.3740",
                                    "2": "2.2900"
                                },
                                {
                                    "0": "Patch Kit/8 Patches",
                                    "1": "1.3740",
                                    "2": "2.2900"
                                },
                                {
                                    "0": "Racing Socks, M",
                                    "1": "5.3940",
                                    "2": "8.9900"
                                },
                                {
                                    "0": "Racing Socks, M",
                                    "1": "5.3940",
                                    "2": "8.9900"
                                },
                                {
                                    "0": "Racing Socks, M",
                                    "1": "5.3940",
                                    "2": "8.9900"
                                },
                                {
                                    "0": "Racing Socks, M",
                                    "1": "5.3940",
                                    "2": "8.9900"
                                },
                                {
                                    "0": "Racing Socks, M",
                                    "1": "5.3940",
                                    "2": "8.9900"
                                },
                                {
                                    "0": "Racing Socks, L",
                                    "1": "5.2142",
                                    "2": "8.9900"
                                },
                                {
                                    "0": "Racing Socks, L",
                                    "1": "5.2142",
                                    "2": "8.9900"
                                },
                                {
                                    "0": "Racing Socks, L",
                                    "1": "5.2142",
                                    "2": "8.9900"
                                },
                                {
                                    "0": "Racing Socks, L",
                                    "1": "5.3940",
                                    "2": "8.9900"
                                },
                                {
                                    "0": "Racing Socks, L",
                                    "1": "5.3940",
                                    "2": "8.9900"
                                },
                                {
                                    "0": "Racing Socks, L",
                                    "1": "5.3940",
                                    "2": "8.9900"
                                },
                                {
                                    "0": "Racing Socks, L",
                                    "1": "5.3940",
                                    "2": "8.9900"
                                },
                                {
                                    "0": "Hitch Rack - 4-Bike",
                                    "1": "72.0000",
                                    "2": "120.0000"
                                },
                                {
                                    "0": "Hitch Rack - 4-Bike",
                                    "1": "72.0000",
                                    "2": "120.0000"
                                },
                                {
                                    "0": "Hitch Rack - 4-Bike",
                                    "1": "72.0000",
                                    "2": "120.0000"
                                },
                                {
                                    "0": "Hitch Rack - 4-Bike",
                                    "1": "72.0000",
                                    "2": "120.0000"
                                },
                                {
                                    "0": "Hitch Rack - 4-Bike",
                                    "1": "72.0000",
                                    "2": "120.0000"
                                },
                                {
                                    "0": "Hitch Rack - 4-Bike",
                                    "1": "72.0000",
                                    "2": "120.0000"
                                },
                                {
                                    "0": "Hitch Rack - 4-Bike",
                                    "1": "72.0000",
                                    "2": "120.0000"
                                },
                                {
                                    "0": "Hitch Rack - 4-Bike",
                                    "1": "72.0000",
                                    "2": "120.0000"
                                },
                                {
                                    "0": "Bike Wash - Dissolver",
                                    "1": "4.7700",
                                    "2": "7.9500"
                                },
                                {
                                    "0": "Bike Wash - Dissolver",
                                    "1": "4.7700",
                                    "2": "7.9500"
                                },
                                {
                                    "0": "Bike Wash - Dissolver",
                                    "1": "4.7700",
                                    "2": "7.9500"
                                },
                                {
                                    "0": "Bike Wash - Dissolver",
                                    "1": "4.3725",
                                    "2": "7.9500"
                                },
                                {
                                    "0": "Bike Wash - Dissolver",
                                    "1": "4.7700",
                                    "2": "7.9500"
                                },
                                {
                                    "0": "Bike Wash - Dissolver",
                                    "1": "4.7700",
                                    "2": "7.9500"
                                },
                                {
                                    "0": "Bike Wash - Dissolver",
                                    "1": "4.7700",
                                    "2": "7.9500"
                                },
                                {
                                    "0": "Hydration Pack - 70 oz.",
                                    "1": "32.9940",
                                    "2": "54.9900"
                                },
                                {
                                    "0": "Hydration Pack - 70 oz.",
                                    "1": "32.9940",
                                    "2": "54.9900"
                                },
                                {
                                    "0": "Hydration Pack - 70 oz.",
                                    "1": "32.9940",
                                    "2": "54.9900"
                                },
                                {
                                    "0": "Hydration Pack - 70 oz.",
                                    "1": "32.9940",
                                    "2": "54.9900"
                                },
                                {
                                    "0": "Hydration Pack - 70 oz.",
                                    "1": "32.9940",
                                    "2": "54.9900"
                                },
                                {
                                    "0": "Hydration Pack - 70 oz.",
                                    "1": "32.9940",
                                    "2": "54.9900"
                                },
                                {
                                    "0": "Hydration Pack - 70 oz.",
                                    "1": "32.9940",
                                    "2": "54.9900"
                                },
                                {
                                    "0": "Short-Sleeve Classic Jersey, S",
                                    "1": "32.3940",
                                    "2": "53.9900"
                                },
                                {
                                    "0": "Short-Sleeve Classic Jersey, S",
                                    "1": "32.3940",
                                    "2": "53.9900"
                                },
                                {
                                    "0": "Short-Sleeve Classic Jersey, S",
                                    "1": "32.3940",
                                    "2": "53.9900"
                                },
                                {
                                    "0": "Short-Sleeve Classic Jersey, S",
                                    "1": "32.3940",
                                    "2": "53.9900"
                                },
                                {
                                    "0": "Short-Sleeve Classic Jersey, S",
                                    "1": "32.3940",
                                    "2": "53.9900"
                                },
                                {
                                    "0": "Short-Sleeve Classic Jersey, S",
                                    "1": "32.3940",
                                    "2": "53.9900"
                                },
                                {
                                    "0": "Short-Sleeve Classic Jersey, S",
                                    "1": "32.3940",
                                    "2": "53.9900"
                                },
                                {
                                    "0": "Short-Sleeve Classic Jersey, L",
                                    "1": "31.3142",
                                    "2": "53.9900"
                                },
                                {
                                    "0": "Short-Sleeve Classic Jersey, L",
                                    "1": "32.3940",
                                    "2": "53.9900"
                                },
                                {
                                    "0": "Short-Sleeve Classic Jersey, L",
                                    "1": "29.6945",
                                    "2": "53.9900"
                                },
                                {
                                    "0": "Short-Sleeve Classic Jersey, L",
                                    "1": "32.3940",
                                    "2": "53.9900"
                                },
                                {
                                    "0": "Short-Sleeve Classic Jersey, L",
                                    "1": "32.3940",
                                    "2": "53.9900"
                                },
                                {
                                    "0": "Short-Sleeve Classic Jersey, L",
                                    "1": "32.3940",
                                    "2": "53.9900"
                                },
                                {
                                    "0": "Short-Sleeve Classic Jersey, L",
                                    "1": "32.3940",
                                    "2": "53.9900"
                                },
                                {
                                    "0": "Short-Sleeve Classic Jersey, L",
                                    "1": "32.3940",
                                    "2": "53.9900"
                                },
                                {
                                    "0": "Short-Sleeve Classic Jersey, XL",
                                    "1": "32.3940",
                                    "2": "53.9900"
                                },
                                {
                                    "0": "Short-Sleeve Classic Jersey, XL",
                                    "1": "32.3940",
                                    "2": "53.9900"
                                },
                                {
                                    "0": "Short-Sleeve Classic Jersey, XL",
                                    "1": "32.3940",
                                    "2": "53.9900"
                                },
                                {
                                    "0": "Short-Sleeve Classic Jersey, XL",
                                    "1": "32.3940",
                                    "2": "53.9900"
                                },
                                {
                                    "0": "Short-Sleeve Classic Jersey, XL",
                                    "1": "32.3940",
                                    "2": "53.9900"
                                },
                                {
                                    "0": "Short-Sleeve Classic Jersey, XL",
                                    "1": "32.3940",
                                    "2": "53.9900"
                                },
                                {
                                    "0": "Short-Sleeve Classic Jersey, XL",
                                    "1": "29.6945",
                                    "2": "53.9900"
                                },
                                {
                                    "0": "Short-Sleeve Classic Jersey, XL",
                                    "1": "32.3940",
                                    "2": "53.9900"
                                },
                                {
                                    "0": "Short-Sleeve Classic Jersey, XL",
                                    "1": "32.3940",
                                    "2": "53.9900"
                                },
                                {
                                    "0": "HL Touring Frame - Yellow, 60",
                                    "1": "602.3460",
                                    "2": "1003.9100"
                                },
                                {
                                    "0": "HL Touring Frame - Yellow, 60",
                                    "1": "602.3460",
                                    "2": "1003.9100"
                                },
                                {
                                    "0": "HL Touring Frame - Yellow, 60",
                                    "1": "602.3460",
                                    "2": "1003.9100"
                                },
                                {
                                    "0": "LL Touring Frame - Yellow, 62",
                                    "1": "200.0520",
                                    "2": "333.4200"
                                },
                                {
                                    "0": "HL Touring Frame - Yellow, 54",
                                    "1": "602.3460",
                                    "2": "1003.9100"
                                },
                                {
                                    "0": "HL Touring Frame - Yellow, 54",
                                    "1": "602.3460",
                                    "2": "1003.9100"
                                },
                                {
                                    "0": "HL Touring Frame - Blue, 50",
                                    "1": "602.3460",
                                    "2": "1003.9100"
                                },
                                {
                                    "0": "HL Touring Frame - Blue, 54",
                                    "1": "602.3460",
                                    "2": "1003.9100"
                                },
                                {
                                    "0": "HL Touring Frame - Blue, 54",
                                    "1": "602.3460",
                                    "2": "1003.9100"
                                },
                                {
                                    "0": "HL Touring Frame - Blue, 60",
                                    "1": "602.3460",
                                    "2": "1003.9100"
                                },
                                {
                                    "0": "HL Touring Frame - Blue, 60",
                                    "1": "602.3460",
                                    "2": "1003.9100"
                                },
                                {
                                    "0": "HL Touring Frame - Blue, 60",
                                    "1": "602.3460",
                                    "2": "1003.9100"
                                },
                                {
                                    "0": "Rear Derailleur",
                                    "1": "72.8760",
                                    "2": "121.4600"
                                },
                                {
                                    "0": "Rear Derailleur",
                                    "1": "72.8760",
                                    "2": "121.4600"
                                },
                                {
                                    "0": "LL Touring Frame - Blue, 50",
                                    "1": "200.0520",
                                    "2": "333.4200"
                                },
                                {
                                    "0": "LL Touring Frame - Blue, 54",
                                    "1": "200.0520",
                                    "2": "333.4200"
                                },
                                {
                                    "0": "LL Touring Frame - Yellow, 44",
                                    "1": "200.0520",
                                    "2": "333.4200"
                                },
                                {
                                    "0": "LL Touring Frame - Yellow, 44",
                                    "1": "200.0520",
                                    "2": "333.4200"
                                },
                                {
                                    "0": "LL Touring Frame - Yellow, 50",
                                    "1": "200.0520",
                                    "2": "333.4200"
                                },
                                {
                                    "0": "LL Touring Frame - Yellow, 50",
                                    "1": "200.0520",
                                    "2": "333.4200"
                                },
                                {
                                    "0": "ML Mountain Frame-W - Silver, 40",
                                    "1": "218.4540",
                                    "2": "364.0900"
                                },
                                {
                                    "0": "ML Mountain Frame-W - Silver, 40",
                                    "1": "218.4540",
                                    "2": "364.0900"
                                },
                                {
                                    "0": "ML Mountain Frame-W - Silver, 40",
                                    "1": "218.4540",
                                    "2": "364.0900"
                                },
                                {
                                    "0": "ML Mountain Frame-W - Silver, 40",
                                    "1": "218.4540",
                                    "2": "364.0900"
                                },
                                {
                                    "0": "ML Mountain Frame-W - Silver, 42",
                                    "1": "218.4540",
                                    "2": "364.0900"
                                },
                                {
                                    "0": "ML Mountain Frame-W - Silver, 42",
                                    "1": "218.4540",
                                    "2": "364.0900"
                                },
                                {
                                    "0": "ML Mountain Frame-W - Silver, 42",
                                    "1": "218.4540",
                                    "2": "364.0900"
                                },
                                {
                                    "0": "ML Mountain Frame-W - Silver, 42",
                                    "1": "218.4540",
                                    "2": "364.0900"
                                },
                                {
                                    "0": "Rear Brakes",
                                    "1": "63.9000",
                                    "2": "106.5000"
                                },
                                {
                                    "0": "LL Mountain Seat/Saddle",
                                    "1": "16.2720",
                                    "2": "27.1200"
                                },
                                {
                                    "0": "LL Mountain Seat/Saddle",
                                    "1": "16.2720",
                                    "2": "27.1200"
                                },
                                {
                                    "0": "LL Mountain Seat/Saddle",
                                    "1": "16.2720",
                                    "2": "27.1200"
                                },
                                {
                                    "0": "ML Mountain Seat/Saddle",
                                    "1": "23.4840",
                                    "2": "39.1400"
                                },
                                {
                                    "0": "ML Mountain Seat/Saddle",
                                    "1": "23.4840",
                                    "2": "39.1400"
                                },
                                {
                                    "0": "ML Mountain Seat/Saddle",
                                    "1": "23.4840",
                                    "2": "39.1400"
                                },
                                {
                                    "0": "HL Mountain Seat/Saddle",
                                    "1": "31.5840",
                                    "2": "52.6400"
                                },
                                {
                                    "0": "HL Mountain Seat/Saddle",
                                    "1": "31.5840",
                                    "2": "52.6400"
                                },
                                {
                                    "0": "HL Mountain Seat/Saddle",
                                    "1": "31.5840",
                                    "2": "52.6400"
                                },
                                {
                                    "0": "HL Mountain Seat/Saddle",
                                    "1": "31.5840",
                                    "2": "52.6400"
                                },
                                {
                                    "0": "HL Road Seat/Saddle",
                                    "1": "31.5840",
                                    "2": "52.6400"
                                },
                                {
                                    "0": "HL Touring Seat/Saddle",
                                    "1": "31.5840",
                                    "2": "52.6400"
                                },
                                {
                                    "0": "HL Touring Seat/Saddle",
                                    "1": "31.5840",
                                    "2": "52.6400"
                                },
                                {
                                    "0": "HL Touring Seat/Saddle",
                                    "1": "31.5840",
                                    "2": "52.6400"
                                },
                                {
                                    "0": "HL Touring Seat/Saddle",
                                    "1": "31.5840",
                                    "2": "52.6400"
                                },
                                {
                                    "0": "HL Touring Seat/Saddle",
                                    "1": "31.5840",
                                    "2": "52.6400"
                                },
                                {
                                    "0": "LL Mountain Frame - Silver, 42",
                                    "1": "158.4300",
                                    "2": "264.0500"
                                },
                                {
                                    "0": "LL Mountain Frame - Silver, 42",
                                    "1": "158.4300",
                                    "2": "264.0500"
                                },
                                {
                                    "0": "LL Mountain Frame - Silver, 44",
                                    "1": "158.4300",
                                    "2": "264.0500"
                                },
                                {
                                    "0": "LL Mountain Frame - Silver, 44",
                                    "1": "158.4300",
                                    "2": "264.0500"
                                },
                                {
                                    "0": "LL Mountain Frame - Silver, 44",
                                    "1": "158.4300",
                                    "2": "264.0500"
                                },
                                {
                                    "0": "LL Mountain Frame - Silver, 44",
                                    "1": "158.4300",
                                    "2": "264.0500"
                                },
                                {
                                    "0": "LL Mountain Frame - Silver, 52",
                                    "1": "158.4300",
                                    "2": "264.0500"
                                },
                                {
                                    "0": "LL Mountain Frame - Silver, 52",
                                    "1": "158.4300",
                                    "2": "264.0500"
                                },
                                {
                                    "0": "LL Mountain Frame - Black, 42",
                                    "1": "149.8740",
                                    "2": "249.7900"
                                },
                                {
                                    "0": "LL Mountain Frame - Black, 42",
                                    "1": "149.8740",
                                    "2": "249.7900"
                                },
                                {
                                    "0": "LL Mountain Frame - Black, 44",
                                    "1": "149.8740",
                                    "2": "249.7900"
                                },
                                {
                                    "0": "LL Mountain Frame - Black, 44",
                                    "1": "149.8740",
                                    "2": "249.7900"
                                },
                                {
                                    "0": "LL Mountain Frame - Black, 44",
                                    "1": "149.8740",
                                    "2": "249.7900"
                                },
                                {
                                    "0": "LL Mountain Frame - Black, 44",
                                    "1": "149.8740",
                                    "2": "249.7900"
                                },
                                {
                                    "0": "LL Mountain Frame - Black, 44",
                                    "1": "149.8740",
                                    "2": "249.7900"
                                },
                                {
                                    "0": "LL Mountain Frame - Black, 48",
                                    "1": "149.8740",
                                    "2": "249.7900"
                                },
                                {
                                    "0": "LL Mountain Frame - Black, 48",
                                    "1": "149.8740",
                                    "2": "249.7900"
                                },
                                {
                                    "0": "LL Mountain Frame - Black, 48",
                                    "1": "149.8740",
                                    "2": "249.7900"
                                },
                                {
                                    "0": "LL Mountain Frame - Black, 48",
                                    "1": "149.8740",
                                    "2": "249.7900"
                                },
                                {
                                    "0": "LL Mountain Pedal",
                                    "1": "24.2940",
                                    "2": "40.4900"
                                },
                                {
                                    "0": "LL Mountain Pedal",
                                    "1": "24.2940",
                                    "2": "40.4900"
                                },
                                {
                                    "0": "LL Mountain Pedal",
                                    "1": "24.2940",
                                    "2": "40.4900"
                                },
                                {
                                    "0": "LL Mountain Pedal",
                                    "1": "24.2940",
                                    "2": "40.4900"
                                },
                                {
                                    "0": "ML Mountain Pedal",
                                    "1": "37.2540",
                                    "2": "62.0900"
                                },
                                {
                                    "0": "ML Mountain Pedal",
                                    "1": "37.2540",
                                    "2": "62.0900"
                                },
                                {
                                    "0": "ML Mountain Pedal",
                                    "1": "37.2540",
                                    "2": "62.0900"
                                },
                                {
                                    "0": "ML Mountain Pedal",
                                    "1": "37.2540",
                                    "2": "62.0900"
                                },
                                {
                                    "0": "HL Mountain Pedal",
                                    "1": "48.5940",
                                    "2": "80.9900"
                                },
                                {
                                    "0": "HL Mountain Pedal",
                                    "1": "48.5940",
                                    "2": "80.9900"
                                },
                                {
                                    "0": "HL Mountain Pedal",
                                    "1": "48.5940",
                                    "2": "80.9900"
                                },
                                {
                                    "0": "HL Mountain Pedal",
                                    "1": "48.5940",
                                    "2": "80.9900"
                                },
                                {
                                    "0": "HL Mountain Pedal",
                                    "1": "48.5940",
                                    "2": "80.9900"
                                },
                                {
                                    "0": "HL Mountain Pedal",
                                    "1": "48.5940",
                                    "2": "80.9900"
                                },
                                {
                                    "0": "LL Road Pedal",
                                    "1": "24.2940",
                                    "2": "40.4900"
                                },
                                {
                                    "0": "LL Road Pedal",
                                    "1": "24.2940",
                                    "2": "40.4900"
                                },
                                {
                                    "0": "LL Road Pedal",
                                    "1": "24.2940",
                                    "2": "40.4900"
                                },
                                {
                                    "0": "LL Road Pedal",
                                    "1": "24.2940",
                                    "2": "40.4900"
                                },
                                {
                                    "0": "LL Road Pedal",
                                    "1": "24.2940",
                                    "2": "40.4900"
                                },
                                {
                                    "0": "LL Road Pedal",
                                    "1": "24.2940",
                                    "2": "40.4900"
                                },
                                {
                                    "0": "LL Road Pedal",
                                    "1": "24.2940",
                                    "2": "40.4900"
                                },
                                {
                                    "0": "ML Road Pedal",
                                    "1": "37.2540",
                                    "2": "62.0900"
                                },
                                {
                                    "0": "ML Road Pedal",
                                    "1": "37.2540",
                                    "2": "62.0900"
                                },
                                {
                                    "0": "ML Road Pedal",
                                    "1": "37.2540",
                                    "2": "62.0900"
                                },
                                {
                                    "0": "ML Road Pedal",
                                    "1": "37.2540",
                                    "2": "62.0900"
                                },
                                {
                                    "0": "HL Road Pedal",
                                    "1": "48.5940",
                                    "2": "80.9900"
                                },
                                {
                                    "0": "HL Road Pedal",
                                    "1": "48.5940",
                                    "2": "80.9900"
                                },
                                {
                                    "0": "HL Road Pedal",
                                    "1": "48.5940",
                                    "2": "80.9900"
                                },
                                {
                                    "0": "HL Road Pedal",
                                    "1": "48.5940",
                                    "2": "80.9900"
                                },
                                {
                                    "0": "LL Mountain Frame - Silver, 40",
                                    "1": "158.4300",
                                    "2": "264.0500"
                                },
                                {
                                    "0": "LL Mountain Frame - Silver, 40",
                                    "1": "158.4300",
                                    "2": "264.0500"
                                },
                                {
                                    "0": "LL Mountain Frame - Silver, 40",
                                    "1": "158.4300",
                                    "2": "264.0500"
                                },
                                {
                                    "0": "LL Mountain Frame - Silver, 40",
                                    "1": "158.4300",
                                    "2": "264.0500"
                                },
                                {
                                    "0": "Front Derailleur",
                                    "1": "54.8940",
                                    "2": "91.4900"
                                },
                                {
                                    "0": "Front Derailleur",
                                    "1": "54.8940",
                                    "2": "91.4900"
                                },
                                {
                                    "0": "Front Derailleur",
                                    "1": "54.8940",
                                    "2": "91.4900"
                                },
                                {
                                    "0": "Front Derailleur",
                                    "1": "54.8940",
                                    "2": "91.4900"
                                },
                                {
                                    "0": "Front Derailleur",
                                    "1": "54.8940",
                                    "2": "91.4900"
                                },
                                {
                                    "0": "Front Derailleur",
                                    "1": "54.8940",
                                    "2": "91.4900"
                                },
                                {
                                    "0": "HL Touring Handlebars",
                                    "1": "54.9420",
                                    "2": "91.5700"
                                },
                                {
                                    "0": "Front Brakes",
                                    "1": "63.9000",
                                    "2": "106.5000"
                                },
                                {
                                    "0": "Front Brakes",
                                    "1": "63.9000",
                                    "2": "106.5000"
                                },
                                {
                                    "0": "Front Brakes",
                                    "1": "63.9000",
                                    "2": "106.5000"
                                },
                                {
                                    "0": "Front Brakes",
                                    "1": "63.9000",
                                    "2": "106.5000"
                                },
                                {
                                    "0": "Front Brakes",
                                    "1": "63.9000",
                                    "2": "106.5000"
                                },
                                {
                                    "0": "Front Brakes",
                                    "1": "63.9000",
                                    "2": "106.5000"
                                },
                                {
                                    "0": "Front Brakes",
                                    "1": "63.9000",
                                    "2": "106.5000"
                                },
                                {
                                    "0": "LL Crankset",
                                    "1": "105.2940",
                                    "2": "175.4900"
                                },
                                {
                                    "0": "LL Crankset",
                                    "1": "105.2940",
                                    "2": "175.4900"
                                },
                                {
                                    "0": "LL Crankset",
                                    "1": "105.2940",
                                    "2": "175.4900"
                                },
                                {
                                    "0": "HL Crankset",
                                    "1": "242.9940",
                                    "2": "404.9900"
                                },
                                {
                                    "0": "HL Crankset",
                                    "1": "242.9940",
                                    "2": "404.9900"
                                },
                                {
                                    "0": "HL Crankset",
                                    "1": "242.9940",
                                    "2": "404.9900"
                                },
                                {
                                    "0": "HL Crankset",
                                    "1": "242.9940",
                                    "2": "404.9900"
                                },
                                {
                                    "0": "Chain",
                                    "1": "12.1440",
                                    "2": "20.2400"
                                },
                                {
                                    "0": "Chain",
                                    "1": "12.1440",
                                    "2": "20.2400"
                                },
                                {
                                    "0": "Chain",
                                    "1": "12.1440",
                                    "2": "20.2400"
                                },
                                {
                                    "0": "Chain",
                                    "1": "12.1440",
                                    "2": "20.2400"
                                },
                                {
                                    "0": "Touring-2000 Blue, 60",
                                    "1": "728.9100",
                                    "2": "1214.8500"
                                },
                                {
                                    "0": "Touring-2000 Blue, 60",
                                    "1": "728.9100",
                                    "2": "1214.8500"
                                },
                                {
                                    "0": "Touring-2000 Blue, 60",
                                    "1": "728.9100",
                                    "2": "1214.8500"
                                },
                                {
                                    "0": "Touring-2000 Blue, 60",
                                    "1": "728.9100",
                                    "2": "1214.8500"
                                },
                                {
                                    "0": "Touring-2000 Blue, 60",
                                    "1": "728.9100",
                                    "2": "1214.8500"
                                },
                                {
                                    "0": "Touring-2000 Blue, 60",
                                    "1": "728.9100",
                                    "2": "1214.8500"
                                },
                                {
                                    "0": "Touring-1000 Yellow, 46",
                                    "1": "1430.4420",
                                    "2": "2384.0700"
                                },
                                {
                                    "0": "Touring-1000 Yellow, 46",
                                    "1": "1430.4420",
                                    "2": "2384.0700"
                                },
                                {
                                    "0": "Touring-1000 Yellow, 46",
                                    "1": "1430.4420",
                                    "2": "2384.0700"
                                },
                                {
                                    "0": "Touring-1000 Yellow, 46",
                                    "1": "1430.4420",
                                    "2": "2384.0700"
                                },
                                {
                                    "0": "Touring-1000 Yellow, 46",
                                    "1": "1430.4420",
                                    "2": "2384.0700"
                                },
                                {
                                    "0": "Touring-1000 Yellow, 46",
                                    "1": "1430.4420",
                                    "2": "2384.0700"
                                },
                                {
                                    "0": "Touring-1000 Yellow, 50",
                                    "1": "1430.4420",
                                    "2": "2384.0700"
                                },
                                {
                                    "0": "Touring-1000 Yellow, 50",
                                    "1": "1430.4420",
                                    "2": "2384.0700"
                                },
                                {
                                    "0": "Touring-1000 Yellow, 50",
                                    "1": "1430.4420",
                                    "2": "2384.0700"
                                },
                                {
                                    "0": "Touring-1000 Yellow, 50",
                                    "1": "1430.4420",
                                    "2": "2384.0700"
                                },
                                {
                                    "0": "Touring-1000 Yellow, 54",
                                    "1": "1430.4420",
                                    "2": "2384.0700"
                                },
                                {
                                    "0": "Touring-1000 Yellow, 54",
                                    "1": "1430.4420",
                                    "2": "2384.0700"
                                },
                                {
                                    "0": "Touring-1000 Yellow, 60",
                                    "1": "1430.4420",
                                    "2": "2384.0700"
                                },
                                {
                                    "0": "Touring-1000 Yellow, 60",
                                    "1": "1430.4420",
                                    "2": "2384.0700"
                                },
                                {
                                    "0": "Touring-1000 Yellow, 60",
                                    "1": "1382.7606",
                                    "2": "2384.0700"
                                },
                                {
                                    "0": "Touring-1000 Yellow, 60",
                                    "1": "1430.4420",
                                    "2": "2384.0700"
                                },
                                {
                                    "0": "Touring-3000 Blue, 54",
                                    "1": "445.4100",
                                    "2": "742.3500"
                                },
                                {
                                    "0": "Touring-3000 Blue, 54",
                                    "1": "445.4100",
                                    "2": "742.3500"
                                },
                                {
                                    "0": "Touring-3000 Blue, 54",
                                    "1": "445.4100",
                                    "2": "742.3500"
                                },
                                {
                                    "0": "Touring-3000 Blue, 54",
                                    "1": "445.4100",
                                    "2": "742.3500"
                                },
                                {
                                    "0": "Touring-3000 Blue, 54",
                                    "1": "445.4100",
                                    "2": "742.3500"
                                },
                                {
                                    "0": "Touring-3000 Blue, 58",
                                    "1": "445.4100",
                                    "2": "742.3500"
                                },
                                {
                                    "0": "Touring-3000 Blue, 58",
                                    "1": "445.4100",
                                    "2": "742.3500"
                                },
                                {
                                    "0": "Touring-3000 Blue, 58",
                                    "1": "445.4100",
                                    "2": "742.3500"
                                },
                                {
                                    "0": "Touring-3000 Blue, 62",
                                    "1": "445.4100",
                                    "2": "742.3500"
                                },
                                {
                                    "0": "Touring-3000 Yellow, 44",
                                    "1": "445.4100",
                                    "2": "742.3500"
                                },
                                {
                                    "0": "Touring-3000 Yellow, 44",
                                    "1": "445.4100",
                                    "2": "742.3500"
                                },
                                {
                                    "0": "Touring-3000 Yellow, 44",
                                    "1": "445.4100",
                                    "2": "742.3500"
                                },
                                {
                                    "0": "Touring-3000 Yellow, 44",
                                    "1": "445.4100",
                                    "2": "742.3500"
                                },
                                {
                                    "0": "Touring-3000 Yellow, 44",
                                    "1": "445.4100",
                                    "2": "742.3500"
                                },
                                {
                                    "0": "Touring-3000 Yellow, 44",
                                    "1": "445.4100",
                                    "2": "742.3500"
                                },
                                {
                                    "0": "Touring-3000 Yellow, 50",
                                    "1": "445.4100",
                                    "2": "742.3500"
                                },
                                {
                                    "0": "Touring-3000 Yellow, 50",
                                    "1": "445.4100",
                                    "2": "742.3500"
                                },
                                {
                                    "0": "Touring-3000 Yellow, 50",
                                    "1": "445.4100",
                                    "2": "742.3500"
                                },
                                {
                                    "0": "Touring-3000 Yellow, 54",
                                    "1": "445.4100",
                                    "2": "742.3500"
                                },
                                {
                                    "0": "Touring-3000 Yellow, 54",
                                    "1": "445.4100",
                                    "2": "742.3500"
                                },
                                {
                                    "0": "Touring-3000 Yellow, 58",
                                    "1": "445.4100",
                                    "2": "742.3500"
                                },
                                {
                                    "0": "Touring-3000 Yellow, 62",
                                    "1": "445.4100",
                                    "2": "742.3500"
                                },
                                {
                                    "0": "Touring-3000 Yellow, 62",
                                    "1": "445.4100",
                                    "2": "742.3500"
                                },
                                {
                                    "0": "Touring-3000 Yellow, 62",
                                    "1": "430.5630",
                                    "2": "742.3500"
                                },
                                {
                                    "0": "Touring-3000 Yellow, 62",
                                    "1": "445.4100",
                                    "2": "742.3500"
                                },
                                {
                                    "0": "Touring-1000 Blue, 46",
                                    "1": "1430.4420",
                                    "2": "2384.0700"
                                },
                                {
                                    "0": "Touring-1000 Blue, 46",
                                    "1": "1430.4420",
                                    "2": "2384.0700"
                                },
                                {
                                    "0": "Touring-1000 Blue, 46",
                                    "1": "1430.4420",
                                    "2": "2384.0700"
                                },
                                {
                                    "0": "Touring-1000 Blue, 46",
                                    "1": "1430.4420",
                                    "2": "2384.0700"
                                },
                                {
                                    "0": "Touring-1000 Blue, 46",
                                    "1": "1430.4420",
                                    "2": "2384.0700"
                                },
                                {
                                    "0": "Touring-1000 Blue, 50",
                                    "1": "1430.4420",
                                    "2": "2384.0700"
                                },
                                {
                                    "0": "Touring-1000 Blue, 50",
                                    "1": "1430.4420",
                                    "2": "2384.0700"
                                },
                                {
                                    "0": "Touring-1000 Blue, 50",
                                    "1": "1430.4420",
                                    "2": "2384.0700"
                                },
                                {
                                    "0": "Touring-1000 Blue, 50",
                                    "1": "1430.4420",
                                    "2": "2384.0700"
                                },
                                {
                                    "0": "Touring-1000 Blue, 54",
                                    "1": "1430.4420",
                                    "2": "2384.0700"
                                },
                                {
                                    "0": "Touring-1000 Blue, 54",
                                    "1": "1430.4420",
                                    "2": "2384.0700"
                                },
                                {
                                    "0": "Touring-1000 Blue, 60",
                                    "1": "1430.4420",
                                    "2": "2384.0700"
                                },
                                {
                                    "0": "Touring-1000 Blue, 60",
                                    "1": "1430.4420",
                                    "2": "2384.0700"
                                },
                                {
                                    "0": "Touring-1000 Blue, 60",
                                    "1": "1430.4420",
                                    "2": "2384.0700"
                                },
                                {
                                    "0": "Touring-1000 Blue, 60",
                                    "1": "1430.4420",
                                    "2": "2384.0700"
                                },
                                {
                                    "0": "Touring-1000 Blue, 60",
                                    "1": "1430.4420",
                                    "2": "2384.0700"
                                },
                                {
                                    "0": "Touring-2000 Blue, 46",
                                    "1": "728.9100",
                                    "2": "1214.8500"
                                },
                                {
                                    "0": "Touring-2000 Blue, 46",
                                    "1": "728.9100",
                                    "2": "1214.8500"
                                },
                                {
                                    "0": "Touring-2000 Blue, 46",
                                    "1": "728.9100",
                                    "2": "1214.8500"
                                },
                                {
                                    "0": "Touring-2000 Blue, 46",
                                    "1": "728.9100",
                                    "2": "1214.8500"
                                },
                                {
                                    "0": "Touring-2000 Blue, 50",
                                    "1": "728.9100",
                                    "2": "1214.8500"
                                },
                                {
                                    "0": "Touring-2000 Blue, 50",
                                    "1": "728.9100",
                                    "2": "1214.8500"
                                },
                                {
                                    "0": "Touring-2000 Blue, 54",
                                    "1": "728.9100",
                                    "2": "1214.8500"
                                },
                                {
                                    "0": "Touring-2000 Blue, 54",
                                    "1": "728.9100",
                                    "2": "1214.8500"
                                },
                                {
                                    "0": "Touring-2000 Blue, 54",
                                    "1": "728.9100",
                                    "2": "1214.8500"
                                },
                                {
                                    "0": "Touring-2000 Blue, 54",
                                    "1": "728.9100",
                                    "2": "1214.8500"
                                },
                                {
                                    "0": "Road-350-W Yellow, 40",
                                    "1": "1020.5940",
                                    "2": "1700.9900"
                                },
                                {
                                    "0": "Road-350-W Yellow, 40",
                                    "1": "1020.5940",
                                    "2": "1700.9900"
                                },
                                {
                                    "0": "Road-350-W Yellow, 40",
                                    "1": "1020.5940",
                                    "2": "1700.9900"
                                },
                                {
                                    "0": "Road-350-W Yellow, 40",
                                    "1": "1020.5940",
                                    "2": "1700.9900"
                                },
                                {
                                    "0": "Road-350-W Yellow, 40",
                                    "1": "1020.5940",
                                    "2": "1700.9900"
                                },
                                {
                                    "0": "Road-350-W Yellow, 40",
                                    "1": "1020.5940",
                                    "2": "1700.9900"
                                },
                                {
                                    "0": "Road-350-W Yellow, 42",
                                    "1": "986.5742",
                                    "2": "1700.9900"
                                },
                                {
                                    "0": "Road-350-W Yellow, 42",
                                    "1": "1020.5940",
                                    "2": "1700.9900"
                                },
                                {
                                    "0": "Road-350-W Yellow, 42",
                                    "1": "1020.5940",
                                    "2": "1700.9900"
                                },
                                {
                                    "0": "Road-350-W Yellow, 44",
                                    "1": "1020.5940",
                                    "2": "1700.9900"
                                },
                                {
                                    "0": "Road-350-W Yellow, 48",
                                    "1": "1020.5940",
                                    "2": "1700.9900"
                                },
                                {
                                    "0": "Road-350-W Yellow, 48",
                                    "1": "1020.5940",
                                    "2": "1700.9900"
                                },
                                {
                                    "0": "Road-350-W Yellow, 48",
                                    "1": "1020.5940",
                                    "2": "1700.9900"
                                },
                                {
                                    "0": "Road-350-W Yellow, 48",
                                    "1": "1020.5940",
                                    "2": "1700.9900"
                                },
                                {
                                    "0": "Road-350-W Yellow, 48",
                                    "1": "850.4950",
                                    "2": "1700.9900"
                                },
                                {
                                    "0": "Road-750 Black, 58",
                                    "1": "323.9940",
                                    "2": "539.9900"
                                },
                                {
                                    "0": "Road-750 Black, 58",
                                    "1": "323.9940",
                                    "2": "539.9900"
                                },
                                {
                                    "0": "Road-750 Black, 58",
                                    "1": "323.9940",
                                    "2": "539.9900"
                                },
                                {
                                    "0": "Touring-3000 Blue, 44",
                                    "1": "445.4100",
                                    "2": "742.3500"
                                },
                                {
                                    "0": "Touring-3000 Blue, 44",
                                    "1": "445.4100",
                                    "2": "742.3500"
                                },
                                {
                                    "0": "Touring-3000 Blue, 50",
                                    "1": "445.4100",
                                    "2": "742.3500"
                                },
                                {
                                    "0": "Touring-3000 Blue, 50",
                                    "1": "445.4100",
                                    "2": "742.3500"
                                },
                                {
                                    "0": "Touring-3000 Blue, 50",
                                    "1": "445.4100",
                                    "2": "742.3500"
                                },
                                {
                                    "0": "Touring-3000 Blue, 50",
                                    "1": "445.4100",
                                    "2": "742.3500"
                                },
                                {
                                    "0": "Touring-3000 Blue, 50",
                                    "1": "445.4100",
                                    "2": "742.3500"
                                },
                                {
                                    "0": "Touring-3000 Blue, 50",
                                    "1": "445.4100",
                                    "2": "742.3500"
                                },
                                {
                                    "0": "Mountain-400-W Silver, 38",
                                    "1": "461.6940",
                                    "2": "769.4900"
                                },
                                {
                                    "0": "Mountain-400-W Silver, 38",
                                    "1": "461.6940",
                                    "2": "769.4900"
                                },
                                {
                                    "0": "Mountain-400-W Silver, 40",
                                    "1": "461.6940",
                                    "2": "769.4900"
                                },
                                {
                                    "0": "Mountain-400-W Silver, 40",
                                    "1": "461.6940",
                                    "2": "769.4900"
                                },
                                {
                                    "0": "Mountain-400-W Silver, 40",
                                    "1": "461.6940",
                                    "2": "769.4900"
                                },
                                {
                                    "0": "Mountain-400-W Silver, 40",
                                    "1": "461.6940",
                                    "2": "769.4900"
                                },
                                {
                                    "0": "Mountain-400-W Silver, 40",
                                    "1": "461.6940",
                                    "2": "769.4900"
                                },
                                {
                                    "0": "Mountain-400-W Silver, 42",
                                    "1": "461.6940",
                                    "2": "769.4900"
                                },
                                {
                                    "0": "Mountain-400-W Silver, 42",
                                    "1": "461.6940",
                                    "2": "769.4900"
                                },
                                {
                                    "0": "Mountain-400-W Silver, 46",
                                    "1": "461.6940",
                                    "2": "769.4900"
                                },
                                {
                                    "0": "Mountain-400-W Silver, 46",
                                    "1": "461.6940",
                                    "2": "769.4900"
                                },
                                {
                                    "0": "Mountain-400-W Silver, 46",
                                    "1": "461.6940",
                                    "2": "769.4900"
                                },
                                {
                                    "0": "Mountain-500 Silver, 40",
                                    "1": "112.9980",
                                    "2": "564.9900"
                                },
                                {
                                    "0": "Mountain-500 Silver, 40",
                                    "1": "112.9980",
                                    "2": "564.9900"
                                },
                                {
                                    "0": "Mountain-500 Silver, 40",
                                    "1": "112.9980",
                                    "2": "564.9900"
                                },
                                {
                                    "0": "Mountain-500 Silver, 40",
                                    "1": "112.9980",
                                    "2": "564.9900"
                                },
                                {
                                    "0": "Mountain-500 Silver, 40",
                                    "1": "112.9980",
                                    "2": "564.9900"
                                },
                                {
                                    "0": "Mountain-500 Silver, 42",
                                    "1": "112.9980",
                                    "2": "564.9900"
                                },
                                {
                                    "0": "Mountain-500 Silver, 42",
                                    "1": "112.9980",
                                    "2": "564.9900"
                                },
                                {
                                    "0": "Mountain-500 Silver, 42",
                                    "1": "112.9980",
                                    "2": "564.9900"
                                },
                                {
                                    "0": "Mountain-500 Silver, 42",
                                    "1": "112.9980",
                                    "2": "564.9900"
                                },
                                {
                                    "0": "Mountain-500 Silver, 44",
                                    "1": "112.9980",
                                    "2": "564.9900"
                                },
                                {
                                    "0": "Mountain-500 Silver, 44",
                                    "1": "112.9980",
                                    "2": "564.9900"
                                },
                                {
                                    "0": "Mountain-500 Silver, 48",
                                    "1": "112.9980",
                                    "2": "564.9900"
                                },
                                {
                                    "0": "Mountain-500 Silver, 48",
                                    "1": "112.9980",
                                    "2": "564.9900"
                                },
                                {
                                    "0": "Mountain-500 Silver, 48",
                                    "1": "112.9980",
                                    "2": "564.9900"
                                },
                                {
                                    "0": "Mountain-500 Silver, 52",
                                    "1": "112.9980",
                                    "2": "564.9900"
                                },
                                {
                                    "0": "Mountain-500 Silver, 52",
                                    "1": "112.9980",
                                    "2": "564.9900"
                                },
                                {
                                    "0": "Mountain-500 Silver, 52",
                                    "1": "112.9980",
                                    "2": "564.9900"
                                },
                                {
                                    "0": "Mountain-500 Silver, 52",
                                    "1": "112.9980",
                                    "2": "564.9900"
                                },
                                {
                                    "0": "Mountain-500 Silver, 52",
                                    "1": "112.9980",
                                    "2": "564.9900"
                                },
                                {
                                    "0": "Mountain-500 Black, 40",
                                    "1": "323.9940",
                                    "2": "539.9900"
                                },
                                {
                                    "0": "Mountain-500 Black, 40",
                                    "1": "323.9940",
                                    "2": "539.9900"
                                },
                                {
                                    "0": "Mountain-500 Black, 42",
                                    "1": "323.9940",
                                    "2": "539.9900"
                                },
                                {
                                    "0": "Mountain-500 Black, 42",
                                    "1": "323.9940",
                                    "2": "539.9900"
                                },
                                {
                                    "0": "Mountain-500 Black, 44",
                                    "1": "323.9940",
                                    "2": "539.9900"
                                },
                                {
                                    "0": "Mountain-500 Black, 44",
                                    "1": "323.9940",
                                    "2": "539.9900"
                                },
                                {
                                    "0": "Mountain-500 Black, 48",
                                    "1": "323.9940",
                                    "2": "539.9900"
                                },
                                {
                                    "0": "Mountain-500 Black, 48",
                                    "1": "323.9940",
                                    "2": "539.9900"
                                },
                                {
                                    "0": "Mountain-500 Black, 48",
                                    "1": "323.9940",
                                    "2": "539.9900"
                                },
                                {
                                    "0": "Mountain-500 Black, 48",
                                    "1": "323.9940",
                                    "2": "539.9900"
                                },
                                {
                                    "0": "Mountain-500 Black, 52",
                                    "1": "323.9940",
                                    "2": "539.9900"
                                },
                                {
                                    "0": "Mountain-500 Black, 52",
                                    "1": "323.9940",
                                    "2": "539.9900"
                                },
                                {
                                    "0": "LL Bottom Bracket",
                                    "1": "32.3940",
                                    "2": "53.9900"
                                },
                                {
                                    "0": "LL Bottom Bracket",
                                    "1": "32.3940",
                                    "2": "53.9900"
                                },
                                {
                                    "0": "LL Bottom Bracket",
                                    "1": "32.3940",
                                    "2": "53.9900"
                                },
                                {
                                    "0": "HL Bottom Bracket",
                                    "1": "72.8940",
                                    "2": "121.4900"
                                },
                                {
                                    "0": "HL Bottom Bracket",
                                    "1": "72.8940",
                                    "2": "121.4900"
                                },
                                {
                                    "0": "HL Bottom Bracket",
                                    "1": "72.8940",
                                    "2": "121.4900"
                                },
                                {
                                    "0": "HL Bottom Bracket",
                                    "1": "72.8940",
                                    "2": "121.4900"
                                },
                                {
                                    "0": "Road-750 Black, 44",
                                    "1": "323.9940",
                                    "2": "539.9900"
                                },
                                {
                                    "0": "Road-750 Black, 48",
                                    "1": "323.9940",
                                    "2": "539.9900"
                                },
                                {
                                    "0": "Road-750 Black, 48",
                                    "1": "323.9940",
                                    "2": "539.9900"
                                },
                                {
                                    "0": "Road-750 Black, 48",
                                    "1": "323.9940",
                                    "2": "539.9900"
                                },
                                {
                                    "0": "Road-750 Black, 48",
                                    "1": "323.9940",
                                    "2": "539.9900"
                                },
                                {
                                    "0": "Road-750 Black, 48",
                                    "1": "323.9940",
                                    "2": "539.9900"
                                },
                                {
                                    "0": "Road-750 Black, 52",
                                    "1": "323.9940",
                                    "2": "539.9900"
                                },
                                {
                                    "0": "Road-750 Black, 52",
                                    "1": "323.9940",
                                    "2": "539.9900"
                                },
                                {
                                    "0": "Road-750 Black, 52",
                                    "1": "323.9940",
                                    "2": "539.9900"
                                },
                                {
                                    "0": "Road-750 Black, 52",
                                    "1": "323.9940",
                                    "2": "539.9900"
                                }
                            ]
                        },
                        "text/html": "<table><tr><th>Name</th><th>UnitPrice</th><th>ListPrice</th></tr><tr><td>Sport-100 Helmet, Red</td><td>20.9940</td><td>34.9900</td></tr><tr><td>Sport-100 Helmet, Red</td><td>20.9940</td><td>34.9900</td></tr><tr><td>Sport-100 Helmet, Red</td><td>20.9940</td><td>34.9900</td></tr><tr><td>Sport-100 Helmet, Red</td><td>20.9940</td><td>34.9900</td></tr><tr><td>Sport-100 Helmet, Red</td><td>20.9940</td><td>34.9900</td></tr><tr><td>Sport-100 Helmet, Red</td><td>20.9940</td><td>34.9900</td></tr><tr><td>Sport-100 Helmet, Red</td><td>20.9940</td><td>34.9900</td></tr><tr><td>Sport-100 Helmet, Black</td><td>20.9940</td><td>34.9900</td></tr><tr><td>Sport-100 Helmet, Black</td><td>20.9940</td><td>34.9900</td></tr><tr><td>Sport-100 Helmet, Black</td><td>20.2942</td><td>34.9900</td></tr><tr><td>Sport-100 Helmet, Black</td><td>20.2942</td><td>34.9900</td></tr><tr><td>Sport-100 Helmet, Black</td><td>20.2942</td><td>34.9900</td></tr><tr><td>Sport-100 Helmet, Black</td><td>20.9940</td><td>34.9900</td></tr><tr><td>Sport-100 Helmet, Blue</td><td>20.9940</td><td>34.9900</td></tr><tr><td>Sport-100 Helmet, Blue</td><td>19.2445</td><td>34.9900</td></tr><tr><td>Sport-100 Helmet, Blue</td><td>20.9940</td><td>34.9900</td></tr><tr><td>Sport-100 Helmet, Blue</td><td>20.9940</td><td>34.9900</td></tr><tr><td>Sport-100 Helmet, Blue</td><td>20.9940</td><td>34.9900</td></tr><tr><td>Sport-100 Helmet, Blue</td><td>20.9940</td><td>34.9900</td></tr><tr><td>Sport-100 Helmet, Blue</td><td>20.9940</td><td>34.9900</td></tr><tr><td>AWC Logo Cap</td><td>5.3940</td><td>8.9900</td></tr><tr><td>AWC Logo Cap</td><td>5.3940</td><td>8.9900</td></tr><tr><td>AWC Logo Cap</td><td>5.3940</td><td>8.9900</td></tr><tr><td>AWC Logo Cap</td><td>5.3940</td><td>8.9900</td></tr><tr><td>AWC Logo Cap</td><td>5.3940</td><td>8.9900</td></tr><tr><td>AWC Logo Cap</td><td>5.3940</td><td>8.9900</td></tr><tr><td>AWC Logo Cap</td><td>5.3940</td><td>8.9900</td></tr><tr><td>AWC Logo Cap</td><td>5.2142</td><td>8.9900</td></tr><tr><td>AWC Logo Cap</td><td>5.3940</td><td>8.9900</td></tr><tr><td>Long-Sleeve Logo Jersey, M</td><td>29.9940</td><td>49.9900</td></tr><tr><td>Long-Sleeve Logo Jersey, M</td><td>29.9940</td><td>49.9900</td></tr><tr><td>Long-Sleeve Logo Jersey, M</td><td>29.9940</td><td>49.9900</td></tr><tr><td>Long-Sleeve Logo Jersey, M</td><td>29.9940</td><td>49.9900</td></tr><tr><td>Long-Sleeve Logo Jersey, M</td><td>29.9940</td><td>49.9900</td></tr><tr><td>Long-Sleeve Logo Jersey, M</td><td>29.9940</td><td>49.9900</td></tr><tr><td>Long-Sleeve Logo Jersey, M</td><td>29.9940</td><td>49.9900</td></tr><tr><td>Long-Sleeve Logo Jersey, L</td><td>29.9940</td><td>49.9900</td></tr><tr><td>Long-Sleeve Logo Jersey, L</td><td>29.9940</td><td>49.9900</td></tr><tr><td>Long-Sleeve Logo Jersey, L</td><td>29.9940</td><td>49.9900</td></tr><tr><td>Long-Sleeve Logo Jersey, L</td><td>29.9940</td><td>49.9900</td></tr><tr><td>Long-Sleeve Logo Jersey, L</td><td>29.9940</td><td>49.9900</td></tr><tr><td>Long-Sleeve Logo Jersey, L</td><td>29.9940</td><td>49.9900</td></tr><tr><td>Long-Sleeve Logo Jersey, L</td><td>29.9940</td><td>49.9900</td></tr><tr><td>Long-Sleeve Logo Jersey, L</td><td>29.9940</td><td>49.9900</td></tr><tr><td>Long-Sleeve Logo Jersey, L</td><td>27.4945</td><td>49.9900</td></tr><tr><td>Long-Sleeve Logo Jersey, L</td><td>29.9940</td><td>49.9900</td></tr><tr><td>Long-Sleeve Logo Jersey, XL</td><td>29.9940</td><td>49.9900</td></tr><tr><td>Long-Sleeve Logo Jersey, XL</td><td>29.9940</td><td>49.9900</td></tr><tr><td>Long-Sleeve Logo Jersey, XL</td><td>29.9940</td><td>49.9900</td></tr><tr><td>HL Road Frame - Red, 62</td><td>858.9000</td><td>1431.5000</td></tr><tr><td>HL Road Frame - Red, 62</td><td>858.9000</td><td>1431.5000</td></tr><tr><td>HL Road Frame - Red, 44</td><td>858.9000</td><td>1431.5000</td></tr><tr><td>HL Road Frame - Red, 44</td><td>858.9000</td><td>1431.5000</td></tr><tr><td>LL Road Frame - Black, 58</td><td>202.3320</td><td>337.2200</td></tr><tr><td>LL Road Frame - Black, 58</td><td>202.3320</td><td>337.2200</td></tr><tr><td>LL Road Frame - Black, 52</td><td>202.3320</td><td>337.2200</td></tr><tr><td>LL Road Frame - Black, 52</td><td>202.3320</td><td>337.2200</td></tr><tr><td>LL Road Frame - Black, 52</td><td>202.3320</td><td>337.2200</td></tr><tr><td>LL Road Frame - Black, 52</td><td>202.3320</td><td>337.2200</td></tr><tr><td>LL Road Frame - Black, 52</td><td>202.3320</td><td>337.2200</td></tr><tr><td>HL Mountain Frame - Silver, 42</td><td>818.7000</td><td>1364.5000</td></tr><tr><td>HL Mountain Frame - Silver, 42</td><td>818.7000</td><td>1364.5000</td></tr><tr><td>HL Mountain Frame - Silver, 46</td><td>818.7000</td><td>1364.5000</td></tr><tr><td>HL Mountain Frame - Silver, 46</td><td>818.7000</td><td>1364.5000</td></tr><tr><td>HL Mountain Frame - Black, 42</td><td>809.7600</td><td>1349.6000</td></tr><tr><td>HL Mountain Frame - Black, 42</td><td>809.7600</td><td>1349.6000</td></tr><tr><td>HL Mountain Frame - Black, 42</td><td>809.7600</td><td>1349.6000</td></tr><tr><td>HL Mountain Frame - Black, 42</td><td>809.7600</td><td>1349.6000</td></tr><tr><td>HL Mountain Frame - Black, 42</td><td>809.7600</td><td>1349.6000</td></tr><tr><td>HL Mountain Frame - Black, 38</td><td>809.7600</td><td>1349.6000</td></tr><tr><td>HL Mountain Frame - Black, 38</td><td>809.7600</td><td>1349.6000</td></tr><tr><td>HL Mountain Frame - Silver, 38</td><td>818.7000</td><td>1364.5000</td></tr><tr><td>HL Mountain Frame - Silver, 38</td><td>818.7000</td><td>1364.5000</td></tr><tr><td>HL Mountain Frame - Silver, 38</td><td>818.7000</td><td>1364.5000</td></tr><tr><td>HL Mountain Frame - Silver, 38</td><td>818.7000</td><td>1364.5000</td></tr><tr><td>HL Mountain Frame - Silver, 38</td><td>818.7000</td><td>1364.5000</td></tr><tr><td>Mountain-200 Silver, 38</td><td>1391.9940</td><td>2319.9900</td></tr><tr><td>Mountain-200 Silver, 38</td><td>1391.9940</td><td>2319.9900</td></tr><tr><td>Mountain-200 Silver, 38</td><td>1391.9940</td><td>2319.9900</td></tr><tr><td>Mountain-200 Silver, 38</td><td>1391.9940</td><td>2319.9900</td></tr><tr><td>Mountain-200 Silver, 42</td><td>1391.9940</td><td>2319.9900</td></tr><tr><td>Mountain-200 Silver, 42</td><td>1391.9940</td><td>2319.9900</td></tr><tr><td>Mountain-200 Silver, 42</td><td>1391.9940</td><td>2319.9900</td></tr><tr><td>Mountain-200 Silver, 42</td><td>1391.9940</td><td>2319.9900</td></tr><tr><td>Mountain-200 Silver, 42</td><td>1391.9940</td><td>2319.9900</td></tr><tr><td>Mountain-200 Silver, 46</td><td>1391.9940</td><td>2319.9900</td></tr><tr><td>Mountain-200 Silver, 46</td><td>1391.9940</td><td>2319.9900</td></tr><tr><td>Mountain-200 Silver, 46</td><td>1391.9940</td><td>2319.9900</td></tr><tr><td>Mountain-200 Silver, 46</td><td>1391.9940</td><td>2319.9900</td></tr><tr><td>Mountain-200 Black, 38</td><td>1376.9940</td><td>2294.9900</td></tr><tr><td>Mountain-200 Black, 38</td><td>1376.9940</td><td>2294.9900</td></tr><tr><td>Mountain-200 Black, 38</td><td>1376.9940</td><td>2294.9900</td></tr><tr><td>Mountain-200 Black, 38</td><td>1376.9940</td><td>2294.9900</td></tr><tr><td>Mountain-200 Black, 38</td><td>1376.9940</td><td>2294.9900</td></tr><tr><td>Mountain-200 Black, 38</td><td>1376.9940</td><td>2294.9900</td></tr><tr><td>Mountain-200 Black, 42</td><td>1376.9940</td><td>2294.9900</td></tr><tr><td>Mountain-200 Black, 42</td><td>1376.9940</td><td>2294.9900</td></tr><tr><td>Mountain-200 Black, 42</td><td>1376.9940</td><td>2294.9900</td></tr><tr><td>Mountain-200 Black, 42</td><td>1376.9940</td><td>2294.9900</td></tr><tr><td>Mountain-200 Black, 46</td><td>1376.9940</td><td>2294.9900</td></tr><tr><td>Mountain-200 Black, 46</td><td>1376.9940</td><td>2294.9900</td></tr><tr><td>Mountain-200 Black, 46</td><td>1376.9940</td><td>2294.9900</td></tr><tr><td>Mountain-200 Black, 46</td><td>1376.9940</td><td>2294.9900</td></tr><tr><td>Road-250 Red, 58</td><td>1466.0100</td><td>2443.3500</td></tr><tr><td>Road-250 Black, 44</td><td>1466.0100</td><td>2443.3500</td></tr><tr><td>Road-250 Black, 44</td><td>1466.0100</td><td>2443.3500</td></tr><tr><td>Road-250 Black, 44</td><td>1466.0100</td><td>2443.3500</td></tr><tr><td>Road-250 Black, 48</td><td>1466.0100</td><td>2443.3500</td></tr><tr><td>Road-250 Black, 48</td><td>1466.0100</td><td>2443.3500</td></tr><tr><td>Road-250 Black, 52</td><td>1466.0100</td><td>2443.3500</td></tr><tr><td>Road-250 Black, 52</td><td>1466.0100</td><td>2443.3500</td></tr><tr><td>Road-250 Black, 58</td><td>1466.0100</td><td>2443.3500</td></tr><tr><td>Road-550-W Yellow, 38</td><td>672.2940</td><td>1120.4900</td></tr><tr><td>Road-550-W Yellow, 38</td><td>672.2940</td><td>1120.4900</td></tr><tr><td>Road-550-W Yellow, 38</td><td>672.2940</td><td>1120.4900</td></tr><tr><td>Road-550-W Yellow, 40</td><td>672.2940</td><td>1120.4900</td></tr><tr><td>Road-550-W Yellow, 40</td><td>672.2940</td><td>1120.4900</td></tr><tr><td>Road-550-W Yellow, 40</td><td>672.2940</td><td>1120.4900</td></tr><tr><td>Road-550-W Yellow, 42</td><td>672.2940</td><td>1120.4900</td></tr><tr><td>Road-550-W Yellow, 42</td><td>672.2940</td><td>1120.4900</td></tr><tr><td>Road-550-W Yellow, 44</td><td>672.2940</td><td>1120.4900</td></tr><tr><td>Road-550-W Yellow, 48</td><td>672.2940</td><td>1120.4900</td></tr><tr><td>Road-550-W Yellow, 48</td><td>672.2940</td><td>1120.4900</td></tr><tr><td>Road-550-W Yellow, 48</td><td>672.2940</td><td>1120.4900</td></tr><tr><td>LL Mountain Handlebars</td><td>26.7240</td><td>44.5400</td></tr><tr><td>LL Mountain Handlebars</td><td>26.7240</td><td>44.5400</td></tr><tr><td>LL Mountain Handlebars</td><td>26.7240</td><td>44.5400</td></tr><tr><td>LL Mountain Handlebars</td><td>26.7240</td><td>44.5400</td></tr><tr><td>ML Mountain Handlebars</td><td>37.1520</td><td>61.9200</td></tr><tr><td>ML Mountain Handlebars</td><td>37.1520</td><td>61.9200</td></tr><tr><td>ML Mountain Handlebars</td><td>37.1520</td><td>61.9200</td></tr><tr><td>ML Mountain Handlebars</td><td>37.1520</td><td>61.9200</td></tr><tr><td>ML Mountain Handlebars</td><td>37.1520</td><td>61.9200</td></tr><tr><td>HL Mountain Handlebars</td><td>72.1620</td><td>120.2700</td></tr><tr><td>HL Mountain Handlebars</td><td>72.1620</td><td>120.2700</td></tr><tr><td>HL Mountain Handlebars</td><td>72.1620</td><td>120.2700</td></tr><tr><td>HL Road Handlebars</td><td>72.1620</td><td>120.2700</td></tr><tr><td>HL Road Handlebars</td><td>72.1620</td><td>120.2700</td></tr><tr><td>HL Road Handlebars</td><td>72.1620</td><td>120.2700</td></tr><tr><td>ML Road Frame-W - Yellow, 38</td><td>356.8980</td><td>594.8300</td></tr><tr><td>ML Road Frame-W - Yellow, 38</td><td>356.8980</td><td>594.8300</td></tr><tr><td>ML Road Frame-W - Yellow, 38</td><td>356.8980</td><td>594.8300</td></tr><tr><td>ML Road Frame-W - Yellow, 44</td><td>356.8980</td><td>594.8300</td></tr><tr><td>ML Road Frame-W - Yellow, 44</td><td>356.8980</td><td>594.8300</td></tr><tr><td>ML Road Frame-W - Yellow, 44</td><td>356.8980</td><td>594.8300</td></tr><tr><td>ML Road Frame-W - Yellow, 44</td><td>356.8980</td><td>594.8300</td></tr><tr><td>ML Road Frame-W - Yellow, 48</td><td>356.8980</td><td>594.8300</td></tr><tr><td>ML Road Frame-W - Yellow, 48</td><td>356.8980</td><td>594.8300</td></tr><tr><td>ML Road Frame-W - Yellow, 48</td><td>356.8980</td><td>594.8300</td></tr><tr><td>ML Road Frame-W - Yellow, 48</td><td>356.8980</td><td>594.8300</td></tr><tr><td>HL Road Frame - Black, 44</td><td>858.9000</td><td>1431.5000</td></tr><tr><td>HL Road Frame - Black, 44</td><td>858.9000</td><td>1431.5000</td></tr><tr><td>Half-Finger Gloves, S</td><td>14.6940</td><td>24.4900</td></tr><tr><td>Half-Finger Gloves, S</td><td>14.6940</td><td>24.4900</td></tr><tr><td>Half-Finger Gloves, S</td><td>14.6940</td><td>24.4900</td></tr><tr><td>Half-Finger Gloves, M</td><td>14.6940</td><td>24.4900</td></tr><tr><td>Half-Finger Gloves, M</td><td>14.6940</td><td>24.4900</td></tr><tr><td>Half-Finger Gloves, M</td><td>14.6940</td><td>24.4900</td></tr><tr><td>Half-Finger Gloves, M</td><td>14.6940</td><td>24.4900</td></tr><tr><td>Half-Finger Gloves, M</td><td>14.6940</td><td>24.4900</td></tr><tr><td>Half-Finger Gloves, M</td><td>14.6940</td><td>24.4900</td></tr><tr><td>Half-Finger Gloves, L</td><td>14.6940</td><td>24.4900</td></tr><tr><td>Half-Finger Gloves, L</td><td>14.6940</td><td>24.4900</td></tr><tr><td>Half-Finger Gloves, L</td><td>14.6940</td><td>24.4900</td></tr><tr><td>Classic Vest, S</td><td>34.9250</td><td>63.5000</td></tr><tr><td>Classic Vest, S</td><td>34.9250</td><td>63.5000</td></tr><tr><td>Classic Vest, S</td><td>34.9250</td><td>63.5000</td></tr><tr><td>Classic Vest, S</td><td>38.1000</td><td>63.5000</td></tr><tr><td>Classic Vest, S</td><td>38.1000</td><td>63.5000</td></tr><tr><td>Classic Vest, S</td><td>38.1000</td><td>63.5000</td></tr><tr><td>Classic Vest, S</td><td>38.1000</td><td>63.5000</td></tr><tr><td>Classic Vest, S</td><td>38.1000</td><td>63.5000</td></tr><tr><td>Classic Vest, S</td><td>38.1000</td><td>63.5000</td></tr><tr><td>Classic Vest, S</td><td>38.1000</td><td>63.5000</td></tr><tr><td>Classic Vest, M</td><td>38.1000</td><td>63.5000</td></tr><tr><td>Classic Vest, M</td><td>38.1000</td><td>63.5000</td></tr><tr><td>Classic Vest, M</td><td>38.1000</td><td>63.5000</td></tr><tr><td>Classic Vest, M</td><td>38.1000</td><td>63.5000</td></tr><tr><td>Classic Vest, M</td><td>38.1000</td><td>63.5000</td></tr><tr><td>Classic Vest, M</td><td>38.1000</td><td>63.5000</td></tr><tr><td>Women's Mountain Shorts, S</td><td>40.5942</td><td>69.9900</td></tr><tr><td>Women's Mountain Shorts, S</td><td>41.9940</td><td>69.9900</td></tr><tr><td>Women's Mountain Shorts, S</td><td>41.9940</td><td>69.9900</td></tr><tr><td>Women's Mountain Shorts, S</td><td>40.5942</td><td>69.9900</td></tr><tr><td>Women's Mountain Shorts, S</td><td>41.9940</td><td>69.9900</td></tr><tr><td>Women's Mountain Shorts, S</td><td>41.9940</td><td>69.9900</td></tr><tr><td>Women's Mountain Shorts, M</td><td>41.9940</td><td>69.9900</td></tr><tr><td>Women's Mountain Shorts, M</td><td>41.9940</td><td>69.9900</td></tr><tr><td>Women's Mountain Shorts, L</td><td>41.9940</td><td>69.9900</td></tr><tr><td>Women's Mountain Shorts, L</td><td>41.9940</td><td>69.9900</td></tr><tr><td>Women's Mountain Shorts, L</td><td>41.9940</td><td>69.9900</td></tr><tr><td>Women's Mountain Shorts, L</td><td>41.9940</td><td>69.9900</td></tr><tr><td>Women's Mountain Shorts, L</td><td>41.9940</td><td>69.9900</td></tr><tr><td>Water Bottle - 30 oz.</td><td>2.9940</td><td>4.9900</td></tr><tr><td>Water Bottle - 30 oz.</td><td>2.9940</td><td>4.9900</td></tr><tr><td>Water Bottle - 30 oz.</td><td>2.9940</td><td>4.9900</td></tr><tr><td>Water Bottle - 30 oz.</td><td>2.9940</td><td>4.9900</td></tr><tr><td>Water Bottle - 30 oz.</td><td>2.8942</td><td>4.9900</td></tr><tr><td>Water Bottle - 30 oz.</td><td>2.9940</td><td>4.9900</td></tr><tr><td>Water Bottle - 30 oz.</td><td>2.8942</td><td>4.9900</td></tr><tr><td>Patch Kit/8 Patches</td><td>1.3740</td><td>2.2900</td></tr><tr><td>Patch Kit/8 Patches</td><td>1.3740</td><td>2.2900</td></tr><tr><td>Patch Kit/8 Patches</td><td>1.3740</td><td>2.2900</td></tr><tr><td>Racing Socks, M</td><td>5.3940</td><td>8.9900</td></tr><tr><td>Racing Socks, M</td><td>5.3940</td><td>8.9900</td></tr><tr><td>Racing Socks, M</td><td>5.3940</td><td>8.9900</td></tr><tr><td>Racing Socks, M</td><td>5.3940</td><td>8.9900</td></tr><tr><td>Racing Socks, M</td><td>5.3940</td><td>8.9900</td></tr><tr><td>Racing Socks, L</td><td>5.2142</td><td>8.9900</td></tr><tr><td>Racing Socks, L</td><td>5.2142</td><td>8.9900</td></tr><tr><td>Racing Socks, L</td><td>5.2142</td><td>8.9900</td></tr><tr><td>Racing Socks, L</td><td>5.3940</td><td>8.9900</td></tr><tr><td>Racing Socks, L</td><td>5.3940</td><td>8.9900</td></tr><tr><td>Racing Socks, L</td><td>5.3940</td><td>8.9900</td></tr><tr><td>Racing Socks, L</td><td>5.3940</td><td>8.9900</td></tr><tr><td>Hitch Rack - 4-Bike</td><td>72.0000</td><td>120.0000</td></tr><tr><td>Hitch Rack - 4-Bike</td><td>72.0000</td><td>120.0000</td></tr><tr><td>Hitch Rack - 4-Bike</td><td>72.0000</td><td>120.0000</td></tr><tr><td>Hitch Rack - 4-Bike</td><td>72.0000</td><td>120.0000</td></tr><tr><td>Hitch Rack - 4-Bike</td><td>72.0000</td><td>120.0000</td></tr><tr><td>Hitch Rack - 4-Bike</td><td>72.0000</td><td>120.0000</td></tr><tr><td>Hitch Rack - 4-Bike</td><td>72.0000</td><td>120.0000</td></tr><tr><td>Hitch Rack - 4-Bike</td><td>72.0000</td><td>120.0000</td></tr><tr><td>Bike Wash - Dissolver</td><td>4.7700</td><td>7.9500</td></tr><tr><td>Bike Wash - Dissolver</td><td>4.7700</td><td>7.9500</td></tr><tr><td>Bike Wash - Dissolver</td><td>4.7700</td><td>7.9500</td></tr><tr><td>Bike Wash - Dissolver</td><td>4.3725</td><td>7.9500</td></tr><tr><td>Bike Wash - Dissolver</td><td>4.7700</td><td>7.9500</td></tr><tr><td>Bike Wash - Dissolver</td><td>4.7700</td><td>7.9500</td></tr><tr><td>Bike Wash - Dissolver</td><td>4.7700</td><td>7.9500</td></tr><tr><td>Hydration Pack - 70 oz.</td><td>32.9940</td><td>54.9900</td></tr><tr><td>Hydration Pack - 70 oz.</td><td>32.9940</td><td>54.9900</td></tr><tr><td>Hydration Pack - 70 oz.</td><td>32.9940</td><td>54.9900</td></tr><tr><td>Hydration Pack - 70 oz.</td><td>32.9940</td><td>54.9900</td></tr><tr><td>Hydration Pack - 70 oz.</td><td>32.9940</td><td>54.9900</td></tr><tr><td>Hydration Pack - 70 oz.</td><td>32.9940</td><td>54.9900</td></tr><tr><td>Hydration Pack - 70 oz.</td><td>32.9940</td><td>54.9900</td></tr><tr><td>Short-Sleeve Classic Jersey, S</td><td>32.3940</td><td>53.9900</td></tr><tr><td>Short-Sleeve Classic Jersey, S</td><td>32.3940</td><td>53.9900</td></tr><tr><td>Short-Sleeve Classic Jersey, S</td><td>32.3940</td><td>53.9900</td></tr><tr><td>Short-Sleeve Classic Jersey, S</td><td>32.3940</td><td>53.9900</td></tr><tr><td>Short-Sleeve Classic Jersey, S</td><td>32.3940</td><td>53.9900</td></tr><tr><td>Short-Sleeve Classic Jersey, S</td><td>32.3940</td><td>53.9900</td></tr><tr><td>Short-Sleeve Classic Jersey, S</td><td>32.3940</td><td>53.9900</td></tr><tr><td>Short-Sleeve Classic Jersey, L</td><td>31.3142</td><td>53.9900</td></tr><tr><td>Short-Sleeve Classic Jersey, L</td><td>32.3940</td><td>53.9900</td></tr><tr><td>Short-Sleeve Classic Jersey, L</td><td>29.6945</td><td>53.9900</td></tr><tr><td>Short-Sleeve Classic Jersey, L</td><td>32.3940</td><td>53.9900</td></tr><tr><td>Short-Sleeve Classic Jersey, L</td><td>32.3940</td><td>53.9900</td></tr><tr><td>Short-Sleeve Classic Jersey, L</td><td>32.3940</td><td>53.9900</td></tr><tr><td>Short-Sleeve Classic Jersey, L</td><td>32.3940</td><td>53.9900</td></tr><tr><td>Short-Sleeve Classic Jersey, L</td><td>32.3940</td><td>53.9900</td></tr><tr><td>Short-Sleeve Classic Jersey, XL</td><td>32.3940</td><td>53.9900</td></tr><tr><td>Short-Sleeve Classic Jersey, XL</td><td>32.3940</td><td>53.9900</td></tr><tr><td>Short-Sleeve Classic Jersey, XL</td><td>32.3940</td><td>53.9900</td></tr><tr><td>Short-Sleeve Classic Jersey, XL</td><td>32.3940</td><td>53.9900</td></tr><tr><td>Short-Sleeve Classic Jersey, XL</td><td>32.3940</td><td>53.9900</td></tr><tr><td>Short-Sleeve Classic Jersey, XL</td><td>32.3940</td><td>53.9900</td></tr><tr><td>Short-Sleeve Classic Jersey, XL</td><td>29.6945</td><td>53.9900</td></tr><tr><td>Short-Sleeve Classic Jersey, XL</td><td>32.3940</td><td>53.9900</td></tr><tr><td>Short-Sleeve Classic Jersey, XL</td><td>32.3940</td><td>53.9900</td></tr><tr><td>HL Touring Frame - Yellow, 60</td><td>602.3460</td><td>1003.9100</td></tr><tr><td>HL Touring Frame - Yellow, 60</td><td>602.3460</td><td>1003.9100</td></tr><tr><td>HL Touring Frame - Yellow, 60</td><td>602.3460</td><td>1003.9100</td></tr><tr><td>LL Touring Frame - Yellow, 62</td><td>200.0520</td><td>333.4200</td></tr><tr><td>HL Touring Frame - Yellow, 54</td><td>602.3460</td><td>1003.9100</td></tr><tr><td>HL Touring Frame - Yellow, 54</td><td>602.3460</td><td>1003.9100</td></tr><tr><td>HL Touring Frame - Blue, 50</td><td>602.3460</td><td>1003.9100</td></tr><tr><td>HL Touring Frame - Blue, 54</td><td>602.3460</td><td>1003.9100</td></tr><tr><td>HL Touring Frame - Blue, 54</td><td>602.3460</td><td>1003.9100</td></tr><tr><td>HL Touring Frame - Blue, 60</td><td>602.3460</td><td>1003.9100</td></tr><tr><td>HL Touring Frame - Blue, 60</td><td>602.3460</td><td>1003.9100</td></tr><tr><td>HL Touring Frame - Blue, 60</td><td>602.3460</td><td>1003.9100</td></tr><tr><td>Rear Derailleur</td><td>72.8760</td><td>121.4600</td></tr><tr><td>Rear Derailleur</td><td>72.8760</td><td>121.4600</td></tr><tr><td>LL Touring Frame - Blue, 50</td><td>200.0520</td><td>333.4200</td></tr><tr><td>LL Touring Frame - Blue, 54</td><td>200.0520</td><td>333.4200</td></tr><tr><td>LL Touring Frame - Yellow, 44</td><td>200.0520</td><td>333.4200</td></tr><tr><td>LL Touring Frame - Yellow, 44</td><td>200.0520</td><td>333.4200</td></tr><tr><td>LL Touring Frame - Yellow, 50</td><td>200.0520</td><td>333.4200</td></tr><tr><td>LL Touring Frame - Yellow, 50</td><td>200.0520</td><td>333.4200</td></tr><tr><td>ML Mountain Frame-W - Silver, 40</td><td>218.4540</td><td>364.0900</td></tr><tr><td>ML Mountain Frame-W - Silver, 40</td><td>218.4540</td><td>364.0900</td></tr><tr><td>ML Mountain Frame-W - Silver, 40</td><td>218.4540</td><td>364.0900</td></tr><tr><td>ML Mountain Frame-W - Silver, 40</td><td>218.4540</td><td>364.0900</td></tr><tr><td>ML Mountain Frame-W - Silver, 42</td><td>218.4540</td><td>364.0900</td></tr><tr><td>ML Mountain Frame-W - Silver, 42</td><td>218.4540</td><td>364.0900</td></tr><tr><td>ML Mountain Frame-W - Silver, 42</td><td>218.4540</td><td>364.0900</td></tr><tr><td>ML Mountain Frame-W - Silver, 42</td><td>218.4540</td><td>364.0900</td></tr><tr><td>Rear Brakes</td><td>63.9000</td><td>106.5000</td></tr><tr><td>LL Mountain Seat/Saddle</td><td>16.2720</td><td>27.1200</td></tr><tr><td>LL Mountain Seat/Saddle</td><td>16.2720</td><td>27.1200</td></tr><tr><td>LL Mountain Seat/Saddle</td><td>16.2720</td><td>27.1200</td></tr><tr><td>ML Mountain Seat/Saddle</td><td>23.4840</td><td>39.1400</td></tr><tr><td>ML Mountain Seat/Saddle</td><td>23.4840</td><td>39.1400</td></tr><tr><td>ML Mountain Seat/Saddle</td><td>23.4840</td><td>39.1400</td></tr><tr><td>HL Mountain Seat/Saddle</td><td>31.5840</td><td>52.6400</td></tr><tr><td>HL Mountain Seat/Saddle</td><td>31.5840</td><td>52.6400</td></tr><tr><td>HL Mountain Seat/Saddle</td><td>31.5840</td><td>52.6400</td></tr><tr><td>HL Mountain Seat/Saddle</td><td>31.5840</td><td>52.6400</td></tr><tr><td>HL Road Seat/Saddle</td><td>31.5840</td><td>52.6400</td></tr><tr><td>HL Touring Seat/Saddle</td><td>31.5840</td><td>52.6400</td></tr><tr><td>HL Touring Seat/Saddle</td><td>31.5840</td><td>52.6400</td></tr><tr><td>HL Touring Seat/Saddle</td><td>31.5840</td><td>52.6400</td></tr><tr><td>HL Touring Seat/Saddle</td><td>31.5840</td><td>52.6400</td></tr><tr><td>HL Touring Seat/Saddle</td><td>31.5840</td><td>52.6400</td></tr><tr><td>LL Mountain Frame - Silver, 42</td><td>158.4300</td><td>264.0500</td></tr><tr><td>LL Mountain Frame - Silver, 42</td><td>158.4300</td><td>264.0500</td></tr><tr><td>LL Mountain Frame - Silver, 44</td><td>158.4300</td><td>264.0500</td></tr><tr><td>LL Mountain Frame - Silver, 44</td><td>158.4300</td><td>264.0500</td></tr><tr><td>LL Mountain Frame - Silver, 44</td><td>158.4300</td><td>264.0500</td></tr><tr><td>LL Mountain Frame - Silver, 44</td><td>158.4300</td><td>264.0500</td></tr><tr><td>LL Mountain Frame - Silver, 52</td><td>158.4300</td><td>264.0500</td></tr><tr><td>LL Mountain Frame - Silver, 52</td><td>158.4300</td><td>264.0500</td></tr><tr><td>LL Mountain Frame - Black, 42</td><td>149.8740</td><td>249.7900</td></tr><tr><td>LL Mountain Frame - Black, 42</td><td>149.8740</td><td>249.7900</td></tr><tr><td>LL Mountain Frame - Black, 44</td><td>149.8740</td><td>249.7900</td></tr><tr><td>LL Mountain Frame - Black, 44</td><td>149.8740</td><td>249.7900</td></tr><tr><td>LL Mountain Frame - Black, 44</td><td>149.8740</td><td>249.7900</td></tr><tr><td>LL Mountain Frame - Black, 44</td><td>149.8740</td><td>249.7900</td></tr><tr><td>LL Mountain Frame - Black, 44</td><td>149.8740</td><td>249.7900</td></tr><tr><td>LL Mountain Frame - Black, 48</td><td>149.8740</td><td>249.7900</td></tr><tr><td>LL Mountain Frame - Black, 48</td><td>149.8740</td><td>249.7900</td></tr><tr><td>LL Mountain Frame - Black, 48</td><td>149.8740</td><td>249.7900</td></tr><tr><td>LL Mountain Frame - Black, 48</td><td>149.8740</td><td>249.7900</td></tr><tr><td>LL Mountain Pedal</td><td>24.2940</td><td>40.4900</td></tr><tr><td>LL Mountain Pedal</td><td>24.2940</td><td>40.4900</td></tr><tr><td>LL Mountain Pedal</td><td>24.2940</td><td>40.4900</td></tr><tr><td>LL Mountain Pedal</td><td>24.2940</td><td>40.4900</td></tr><tr><td>ML Mountain Pedal</td><td>37.2540</td><td>62.0900</td></tr><tr><td>ML Mountain Pedal</td><td>37.2540</td><td>62.0900</td></tr><tr><td>ML Mountain Pedal</td><td>37.2540</td><td>62.0900</td></tr><tr><td>ML Mountain Pedal</td><td>37.2540</td><td>62.0900</td></tr><tr><td>HL Mountain Pedal</td><td>48.5940</td><td>80.9900</td></tr><tr><td>HL Mountain Pedal</td><td>48.5940</td><td>80.9900</td></tr><tr><td>HL Mountain Pedal</td><td>48.5940</td><td>80.9900</td></tr><tr><td>HL Mountain Pedal</td><td>48.5940</td><td>80.9900</td></tr><tr><td>HL Mountain Pedal</td><td>48.5940</td><td>80.9900</td></tr><tr><td>HL Mountain Pedal</td><td>48.5940</td><td>80.9900</td></tr><tr><td>LL Road Pedal</td><td>24.2940</td><td>40.4900</td></tr><tr><td>LL Road Pedal</td><td>24.2940</td><td>40.4900</td></tr><tr><td>LL Road Pedal</td><td>24.2940</td><td>40.4900</td></tr><tr><td>LL Road Pedal</td><td>24.2940</td><td>40.4900</td></tr><tr><td>LL Road Pedal</td><td>24.2940</td><td>40.4900</td></tr><tr><td>LL Road Pedal</td><td>24.2940</td><td>40.4900</td></tr><tr><td>LL Road Pedal</td><td>24.2940</td><td>40.4900</td></tr><tr><td>ML Road Pedal</td><td>37.2540</td><td>62.0900</td></tr><tr><td>ML Road Pedal</td><td>37.2540</td><td>62.0900</td></tr><tr><td>ML Road Pedal</td><td>37.2540</td><td>62.0900</td></tr><tr><td>ML Road Pedal</td><td>37.2540</td><td>62.0900</td></tr><tr><td>HL Road Pedal</td><td>48.5940</td><td>80.9900</td></tr><tr><td>HL Road Pedal</td><td>48.5940</td><td>80.9900</td></tr><tr><td>HL Road Pedal</td><td>48.5940</td><td>80.9900</td></tr><tr><td>HL Road Pedal</td><td>48.5940</td><td>80.9900</td></tr><tr><td>LL Mountain Frame - Silver, 40</td><td>158.4300</td><td>264.0500</td></tr><tr><td>LL Mountain Frame - Silver, 40</td><td>158.4300</td><td>264.0500</td></tr><tr><td>LL Mountain Frame - Silver, 40</td><td>158.4300</td><td>264.0500</td></tr><tr><td>LL Mountain Frame - Silver, 40</td><td>158.4300</td><td>264.0500</td></tr><tr><td>Front Derailleur</td><td>54.8940</td><td>91.4900</td></tr><tr><td>Front Derailleur</td><td>54.8940</td><td>91.4900</td></tr><tr><td>Front Derailleur</td><td>54.8940</td><td>91.4900</td></tr><tr><td>Front Derailleur</td><td>54.8940</td><td>91.4900</td></tr><tr><td>Front Derailleur</td><td>54.8940</td><td>91.4900</td></tr><tr><td>Front Derailleur</td><td>54.8940</td><td>91.4900</td></tr><tr><td>HL Touring Handlebars</td><td>54.9420</td><td>91.5700</td></tr><tr><td>Front Brakes</td><td>63.9000</td><td>106.5000</td></tr><tr><td>Front Brakes</td><td>63.9000</td><td>106.5000</td></tr><tr><td>Front Brakes</td><td>63.9000</td><td>106.5000</td></tr><tr><td>Front Brakes</td><td>63.9000</td><td>106.5000</td></tr><tr><td>Front Brakes</td><td>63.9000</td><td>106.5000</td></tr><tr><td>Front Brakes</td><td>63.9000</td><td>106.5000</td></tr><tr><td>Front Brakes</td><td>63.9000</td><td>106.5000</td></tr><tr><td>LL Crankset</td><td>105.2940</td><td>175.4900</td></tr><tr><td>LL Crankset</td><td>105.2940</td><td>175.4900</td></tr><tr><td>LL Crankset</td><td>105.2940</td><td>175.4900</td></tr><tr><td>HL Crankset</td><td>242.9940</td><td>404.9900</td></tr><tr><td>HL Crankset</td><td>242.9940</td><td>404.9900</td></tr><tr><td>HL Crankset</td><td>242.9940</td><td>404.9900</td></tr><tr><td>HL Crankset</td><td>242.9940</td><td>404.9900</td></tr><tr><td>Chain</td><td>12.1440</td><td>20.2400</td></tr><tr><td>Chain</td><td>12.1440</td><td>20.2400</td></tr><tr><td>Chain</td><td>12.1440</td><td>20.2400</td></tr><tr><td>Chain</td><td>12.1440</td><td>20.2400</td></tr><tr><td>Touring-2000 Blue, 60</td><td>728.9100</td><td>1214.8500</td></tr><tr><td>Touring-2000 Blue, 60</td><td>728.9100</td><td>1214.8500</td></tr><tr><td>Touring-2000 Blue, 60</td><td>728.9100</td><td>1214.8500</td></tr><tr><td>Touring-2000 Blue, 60</td><td>728.9100</td><td>1214.8500</td></tr><tr><td>Touring-2000 Blue, 60</td><td>728.9100</td><td>1214.8500</td></tr><tr><td>Touring-2000 Blue, 60</td><td>728.9100</td><td>1214.8500</td></tr><tr><td>Touring-1000 Yellow, 46</td><td>1430.4420</td><td>2384.0700</td></tr><tr><td>Touring-1000 Yellow, 46</td><td>1430.4420</td><td>2384.0700</td></tr><tr><td>Touring-1000 Yellow, 46</td><td>1430.4420</td><td>2384.0700</td></tr><tr><td>Touring-1000 Yellow, 46</td><td>1430.4420</td><td>2384.0700</td></tr><tr><td>Touring-1000 Yellow, 46</td><td>1430.4420</td><td>2384.0700</td></tr><tr><td>Touring-1000 Yellow, 46</td><td>1430.4420</td><td>2384.0700</td></tr><tr><td>Touring-1000 Yellow, 50</td><td>1430.4420</td><td>2384.0700</td></tr><tr><td>Touring-1000 Yellow, 50</td><td>1430.4420</td><td>2384.0700</td></tr><tr><td>Touring-1000 Yellow, 50</td><td>1430.4420</td><td>2384.0700</td></tr><tr><td>Touring-1000 Yellow, 50</td><td>1430.4420</td><td>2384.0700</td></tr><tr><td>Touring-1000 Yellow, 54</td><td>1430.4420</td><td>2384.0700</td></tr><tr><td>Touring-1000 Yellow, 54</td><td>1430.4420</td><td>2384.0700</td></tr><tr><td>Touring-1000 Yellow, 60</td><td>1430.4420</td><td>2384.0700</td></tr><tr><td>Touring-1000 Yellow, 60</td><td>1430.4420</td><td>2384.0700</td></tr><tr><td>Touring-1000 Yellow, 60</td><td>1382.7606</td><td>2384.0700</td></tr><tr><td>Touring-1000 Yellow, 60</td><td>1430.4420</td><td>2384.0700</td></tr><tr><td>Touring-3000 Blue, 54</td><td>445.4100</td><td>742.3500</td></tr><tr><td>Touring-3000 Blue, 54</td><td>445.4100</td><td>742.3500</td></tr><tr><td>Touring-3000 Blue, 54</td><td>445.4100</td><td>742.3500</td></tr><tr><td>Touring-3000 Blue, 54</td><td>445.4100</td><td>742.3500</td></tr><tr><td>Touring-3000 Blue, 54</td><td>445.4100</td><td>742.3500</td></tr><tr><td>Touring-3000 Blue, 58</td><td>445.4100</td><td>742.3500</td></tr><tr><td>Touring-3000 Blue, 58</td><td>445.4100</td><td>742.3500</td></tr><tr><td>Touring-3000 Blue, 58</td><td>445.4100</td><td>742.3500</td></tr><tr><td>Touring-3000 Blue, 62</td><td>445.4100</td><td>742.3500</td></tr><tr><td>Touring-3000 Yellow, 44</td><td>445.4100</td><td>742.3500</td></tr><tr><td>Touring-3000 Yellow, 44</td><td>445.4100</td><td>742.3500</td></tr><tr><td>Touring-3000 Yellow, 44</td><td>445.4100</td><td>742.3500</td></tr><tr><td>Touring-3000 Yellow, 44</td><td>445.4100</td><td>742.3500</td></tr><tr><td>Touring-3000 Yellow, 44</td><td>445.4100</td><td>742.3500</td></tr><tr><td>Touring-3000 Yellow, 44</td><td>445.4100</td><td>742.3500</td></tr><tr><td>Touring-3000 Yellow, 50</td><td>445.4100</td><td>742.3500</td></tr><tr><td>Touring-3000 Yellow, 50</td><td>445.4100</td><td>742.3500</td></tr><tr><td>Touring-3000 Yellow, 50</td><td>445.4100</td><td>742.3500</td></tr><tr><td>Touring-3000 Yellow, 54</td><td>445.4100</td><td>742.3500</td></tr><tr><td>Touring-3000 Yellow, 54</td><td>445.4100</td><td>742.3500</td></tr><tr><td>Touring-3000 Yellow, 58</td><td>445.4100</td><td>742.3500</td></tr><tr><td>Touring-3000 Yellow, 62</td><td>445.4100</td><td>742.3500</td></tr><tr><td>Touring-3000 Yellow, 62</td><td>445.4100</td><td>742.3500</td></tr><tr><td>Touring-3000 Yellow, 62</td><td>430.5630</td><td>742.3500</td></tr><tr><td>Touring-3000 Yellow, 62</td><td>445.4100</td><td>742.3500</td></tr><tr><td>Touring-1000 Blue, 46</td><td>1430.4420</td><td>2384.0700</td></tr><tr><td>Touring-1000 Blue, 46</td><td>1430.4420</td><td>2384.0700</td></tr><tr><td>Touring-1000 Blue, 46</td><td>1430.4420</td><td>2384.0700</td></tr><tr><td>Touring-1000 Blue, 46</td><td>1430.4420</td><td>2384.0700</td></tr><tr><td>Touring-1000 Blue, 46</td><td>1430.4420</td><td>2384.0700</td></tr><tr><td>Touring-1000 Blue, 50</td><td>1430.4420</td><td>2384.0700</td></tr><tr><td>Touring-1000 Blue, 50</td><td>1430.4420</td><td>2384.0700</td></tr><tr><td>Touring-1000 Blue, 50</td><td>1430.4420</td><td>2384.0700</td></tr><tr><td>Touring-1000 Blue, 50</td><td>1430.4420</td><td>2384.0700</td></tr><tr><td>Touring-1000 Blue, 54</td><td>1430.4420</td><td>2384.0700</td></tr><tr><td>Touring-1000 Blue, 54</td><td>1430.4420</td><td>2384.0700</td></tr><tr><td>Touring-1000 Blue, 60</td><td>1430.4420</td><td>2384.0700</td></tr><tr><td>Touring-1000 Blue, 60</td><td>1430.4420</td><td>2384.0700</td></tr><tr><td>Touring-1000 Blue, 60</td><td>1430.4420</td><td>2384.0700</td></tr><tr><td>Touring-1000 Blue, 60</td><td>1430.4420</td><td>2384.0700</td></tr><tr><td>Touring-1000 Blue, 60</td><td>1430.4420</td><td>2384.0700</td></tr><tr><td>Touring-2000 Blue, 46</td><td>728.9100</td><td>1214.8500</td></tr><tr><td>Touring-2000 Blue, 46</td><td>728.9100</td><td>1214.8500</td></tr><tr><td>Touring-2000 Blue, 46</td><td>728.9100</td><td>1214.8500</td></tr><tr><td>Touring-2000 Blue, 46</td><td>728.9100</td><td>1214.8500</td></tr><tr><td>Touring-2000 Blue, 50</td><td>728.9100</td><td>1214.8500</td></tr><tr><td>Touring-2000 Blue, 50</td><td>728.9100</td><td>1214.8500</td></tr><tr><td>Touring-2000 Blue, 54</td><td>728.9100</td><td>1214.8500</td></tr><tr><td>Touring-2000 Blue, 54</td><td>728.9100</td><td>1214.8500</td></tr><tr><td>Touring-2000 Blue, 54</td><td>728.9100</td><td>1214.8500</td></tr><tr><td>Touring-2000 Blue, 54</td><td>728.9100</td><td>1214.8500</td></tr><tr><td>Road-350-W Yellow, 40</td><td>1020.5940</td><td>1700.9900</td></tr><tr><td>Road-350-W Yellow, 40</td><td>1020.5940</td><td>1700.9900</td></tr><tr><td>Road-350-W Yellow, 40</td><td>1020.5940</td><td>1700.9900</td></tr><tr><td>Road-350-W Yellow, 40</td><td>1020.5940</td><td>1700.9900</td></tr><tr><td>Road-350-W Yellow, 40</td><td>1020.5940</td><td>1700.9900</td></tr><tr><td>Road-350-W Yellow, 40</td><td>1020.5940</td><td>1700.9900</td></tr><tr><td>Road-350-W Yellow, 42</td><td>986.5742</td><td>1700.9900</td></tr><tr><td>Road-350-W Yellow, 42</td><td>1020.5940</td><td>1700.9900</td></tr><tr><td>Road-350-W Yellow, 42</td><td>1020.5940</td><td>1700.9900</td></tr><tr><td>Road-350-W Yellow, 44</td><td>1020.5940</td><td>1700.9900</td></tr><tr><td>Road-350-W Yellow, 48</td><td>1020.5940</td><td>1700.9900</td></tr><tr><td>Road-350-W Yellow, 48</td><td>1020.5940</td><td>1700.9900</td></tr><tr><td>Road-350-W Yellow, 48</td><td>1020.5940</td><td>1700.9900</td></tr><tr><td>Road-350-W Yellow, 48</td><td>1020.5940</td><td>1700.9900</td></tr><tr><td>Road-350-W Yellow, 48</td><td>850.4950</td><td>1700.9900</td></tr><tr><td>Road-750 Black, 58</td><td>323.9940</td><td>539.9900</td></tr><tr><td>Road-750 Black, 58</td><td>323.9940</td><td>539.9900</td></tr><tr><td>Road-750 Black, 58</td><td>323.9940</td><td>539.9900</td></tr><tr><td>Touring-3000 Blue, 44</td><td>445.4100</td><td>742.3500</td></tr><tr><td>Touring-3000 Blue, 44</td><td>445.4100</td><td>742.3500</td></tr><tr><td>Touring-3000 Blue, 50</td><td>445.4100</td><td>742.3500</td></tr><tr><td>Touring-3000 Blue, 50</td><td>445.4100</td><td>742.3500</td></tr><tr><td>Touring-3000 Blue, 50</td><td>445.4100</td><td>742.3500</td></tr><tr><td>Touring-3000 Blue, 50</td><td>445.4100</td><td>742.3500</td></tr><tr><td>Touring-3000 Blue, 50</td><td>445.4100</td><td>742.3500</td></tr><tr><td>Touring-3000 Blue, 50</td><td>445.4100</td><td>742.3500</td></tr><tr><td>Mountain-400-W Silver, 38</td><td>461.6940</td><td>769.4900</td></tr><tr><td>Mountain-400-W Silver, 38</td><td>461.6940</td><td>769.4900</td></tr><tr><td>Mountain-400-W Silver, 40</td><td>461.6940</td><td>769.4900</td></tr><tr><td>Mountain-400-W Silver, 40</td><td>461.6940</td><td>769.4900</td></tr><tr><td>Mountain-400-W Silver, 40</td><td>461.6940</td><td>769.4900</td></tr><tr><td>Mountain-400-W Silver, 40</td><td>461.6940</td><td>769.4900</td></tr><tr><td>Mountain-400-W Silver, 40</td><td>461.6940</td><td>769.4900</td></tr><tr><td>Mountain-400-W Silver, 42</td><td>461.6940</td><td>769.4900</td></tr><tr><td>Mountain-400-W Silver, 42</td><td>461.6940</td><td>769.4900</td></tr><tr><td>Mountain-400-W Silver, 46</td><td>461.6940</td><td>769.4900</td></tr><tr><td>Mountain-400-W Silver, 46</td><td>461.6940</td><td>769.4900</td></tr><tr><td>Mountain-400-W Silver, 46</td><td>461.6940</td><td>769.4900</td></tr><tr><td>Mountain-500 Silver, 40</td><td>112.9980</td><td>564.9900</td></tr><tr><td>Mountain-500 Silver, 40</td><td>112.9980</td><td>564.9900</td></tr><tr><td>Mountain-500 Silver, 40</td><td>112.9980</td><td>564.9900</td></tr><tr><td>Mountain-500 Silver, 40</td><td>112.9980</td><td>564.9900</td></tr><tr><td>Mountain-500 Silver, 40</td><td>112.9980</td><td>564.9900</td></tr><tr><td>Mountain-500 Silver, 42</td><td>112.9980</td><td>564.9900</td></tr><tr><td>Mountain-500 Silver, 42</td><td>112.9980</td><td>564.9900</td></tr><tr><td>Mountain-500 Silver, 42</td><td>112.9980</td><td>564.9900</td></tr><tr><td>Mountain-500 Silver, 42</td><td>112.9980</td><td>564.9900</td></tr><tr><td>Mountain-500 Silver, 44</td><td>112.9980</td><td>564.9900</td></tr><tr><td>Mountain-500 Silver, 44</td><td>112.9980</td><td>564.9900</td></tr><tr><td>Mountain-500 Silver, 48</td><td>112.9980</td><td>564.9900</td></tr><tr><td>Mountain-500 Silver, 48</td><td>112.9980</td><td>564.9900</td></tr><tr><td>Mountain-500 Silver, 48</td><td>112.9980</td><td>564.9900</td></tr><tr><td>Mountain-500 Silver, 52</td><td>112.9980</td><td>564.9900</td></tr><tr><td>Mountain-500 Silver, 52</td><td>112.9980</td><td>564.9900</td></tr><tr><td>Mountain-500 Silver, 52</td><td>112.9980</td><td>564.9900</td></tr><tr><td>Mountain-500 Silver, 52</td><td>112.9980</td><td>564.9900</td></tr><tr><td>Mountain-500 Silver, 52</td><td>112.9980</td><td>564.9900</td></tr><tr><td>Mountain-500 Black, 40</td><td>323.9940</td><td>539.9900</td></tr><tr><td>Mountain-500 Black, 40</td><td>323.9940</td><td>539.9900</td></tr><tr><td>Mountain-500 Black, 42</td><td>323.9940</td><td>539.9900</td></tr><tr><td>Mountain-500 Black, 42</td><td>323.9940</td><td>539.9900</td></tr><tr><td>Mountain-500 Black, 44</td><td>323.9940</td><td>539.9900</td></tr><tr><td>Mountain-500 Black, 44</td><td>323.9940</td><td>539.9900</td></tr><tr><td>Mountain-500 Black, 48</td><td>323.9940</td><td>539.9900</td></tr><tr><td>Mountain-500 Black, 48</td><td>323.9940</td><td>539.9900</td></tr><tr><td>Mountain-500 Black, 48</td><td>323.9940</td><td>539.9900</td></tr><tr><td>Mountain-500 Black, 48</td><td>323.9940</td><td>539.9900</td></tr><tr><td>Mountain-500 Black, 52</td><td>323.9940</td><td>539.9900</td></tr><tr><td>Mountain-500 Black, 52</td><td>323.9940</td><td>539.9900</td></tr><tr><td>LL Bottom Bracket</td><td>32.3940</td><td>53.9900</td></tr><tr><td>LL Bottom Bracket</td><td>32.3940</td><td>53.9900</td></tr><tr><td>LL Bottom Bracket</td><td>32.3940</td><td>53.9900</td></tr><tr><td>HL Bottom Bracket</td><td>72.8940</td><td>121.4900</td></tr><tr><td>HL Bottom Bracket</td><td>72.8940</td><td>121.4900</td></tr><tr><td>HL Bottom Bracket</td><td>72.8940</td><td>121.4900</td></tr><tr><td>HL Bottom Bracket</td><td>72.8940</td><td>121.4900</td></tr><tr><td>Road-750 Black, 44</td><td>323.9940</td><td>539.9900</td></tr><tr><td>Road-750 Black, 48</td><td>323.9940</td><td>539.9900</td></tr><tr><td>Road-750 Black, 48</td><td>323.9940</td><td>539.9900</td></tr><tr><td>Road-750 Black, 48</td><td>323.9940</td><td>539.9900</td></tr><tr><td>Road-750 Black, 48</td><td>323.9940</td><td>539.9900</td></tr><tr><td>Road-750 Black, 48</td><td>323.9940</td><td>539.9900</td></tr><tr><td>Road-750 Black, 52</td><td>323.9940</td><td>539.9900</td></tr><tr><td>Road-750 Black, 52</td><td>323.9940</td><td>539.9900</td></tr><tr><td>Road-750 Black, 52</td><td>323.9940</td><td>539.9900</td></tr><tr><td>Road-750 Black, 52</td><td>323.9940</td><td>539.9900</td></tr></table>"
                    },
                    "metadata": {}
                }
            ],
            "execution_count": 16
        },
        {
            "cell_type": "markdown",
            "source": [
                "2\\. Recuperar Produtos com um preço de lista de 100 dólares ou mais que tenham sido vendidos por menos de $100\n",
                "\n",
                "Recuperar o ID do produto, nome e preço de lista para cada produto em que o preço de lista é igual ou superior a $100, e o produto foi vendido por menos de $100."
            ],
            "metadata": {
                "azdata_cell_guid": "bc945568-391e-4fcc-b361-5e5be6af7e2a"
            },
            "attachments": {}
        },
        {
            "cell_type": "code",
            "source": [
                "select Name, UnitPrice, ListPrice\r\n",
                "from Product p  \r\n",
                "join SalesOrderDetail sod\r\n",
                "on p.ProductID = sod.ProductID\r\n",
                "WHERE ListPrice >= 100 and UnitPrice < 100"
            ],
            "metadata": {
                "azdata_cell_guid": "8224e6d6-2247-4661-afe5-f052c8677e11",
                "tags": []
            },
            "outputs": [
                {
                    "output_type": "display_data",
                    "data": {
                        "text/html": "(28 rows affected)"
                    },
                    "metadata": {}
                },
                {
                    "output_type": "display_data",
                    "data": {
                        "text/html": "Total execution time: 00:00:00.105"
                    },
                    "metadata": {}
                },
                {
                    "output_type": "execute_result",
                    "execution_count": 22,
                    "data": {
                        "application/vnd.dataresource+json": {
                            "schema": {
                                "fields": [
                                    {
                                        "name": "Name"
                                    },
                                    {
                                        "name": "UnitPrice"
                                    },
                                    {
                                        "name": "ListPrice"
                                    }
                                ]
                            },
                            "data": [
                                {
                                    "0": "HL Mountain Handlebars",
                                    "1": "72.1620",
                                    "2": "120.2700"
                                },
                                {
                                    "0": "HL Mountain Handlebars",
                                    "1": "72.1620",
                                    "2": "120.2700"
                                },
                                {
                                    "0": "HL Mountain Handlebars",
                                    "1": "72.1620",
                                    "2": "120.2700"
                                },
                                {
                                    "0": "HL Road Handlebars",
                                    "1": "72.1620",
                                    "2": "120.2700"
                                },
                                {
                                    "0": "HL Road Handlebars",
                                    "1": "72.1620",
                                    "2": "120.2700"
                                },
                                {
                                    "0": "HL Road Handlebars",
                                    "1": "72.1620",
                                    "2": "120.2700"
                                },
                                {
                                    "0": "Hitch Rack - 4-Bike",
                                    "1": "72.0000",
                                    "2": "120.0000"
                                },
                                {
                                    "0": "Hitch Rack - 4-Bike",
                                    "1": "72.0000",
                                    "2": "120.0000"
                                },
                                {
                                    "0": "Hitch Rack - 4-Bike",
                                    "1": "72.0000",
                                    "2": "120.0000"
                                },
                                {
                                    "0": "Hitch Rack - 4-Bike",
                                    "1": "72.0000",
                                    "2": "120.0000"
                                },
                                {
                                    "0": "Hitch Rack - 4-Bike",
                                    "1": "72.0000",
                                    "2": "120.0000"
                                },
                                {
                                    "0": "Hitch Rack - 4-Bike",
                                    "1": "72.0000",
                                    "2": "120.0000"
                                },
                                {
                                    "0": "Hitch Rack - 4-Bike",
                                    "1": "72.0000",
                                    "2": "120.0000"
                                },
                                {
                                    "0": "Hitch Rack - 4-Bike",
                                    "1": "72.0000",
                                    "2": "120.0000"
                                },
                                {
                                    "0": "Rear Derailleur",
                                    "1": "72.8760",
                                    "2": "121.4600"
                                },
                                {
                                    "0": "Rear Derailleur",
                                    "1": "72.8760",
                                    "2": "121.4600"
                                },
                                {
                                    "0": "Rear Brakes",
                                    "1": "63.9000",
                                    "2": "106.5000"
                                },
                                {
                                    "0": "Front Brakes",
                                    "1": "63.9000",
                                    "2": "106.5000"
                                },
                                {
                                    "0": "Front Brakes",
                                    "1": "63.9000",
                                    "2": "106.5000"
                                },
                                {
                                    "0": "Front Brakes",
                                    "1": "63.9000",
                                    "2": "106.5000"
                                },
                                {
                                    "0": "Front Brakes",
                                    "1": "63.9000",
                                    "2": "106.5000"
                                },
                                {
                                    "0": "Front Brakes",
                                    "1": "63.9000",
                                    "2": "106.5000"
                                },
                                {
                                    "0": "Front Brakes",
                                    "1": "63.9000",
                                    "2": "106.5000"
                                },
                                {
                                    "0": "Front Brakes",
                                    "1": "63.9000",
                                    "2": "106.5000"
                                },
                                {
                                    "0": "HL Bottom Bracket",
                                    "1": "72.8940",
                                    "2": "121.4900"
                                },
                                {
                                    "0": "HL Bottom Bracket",
                                    "1": "72.8940",
                                    "2": "121.4900"
                                },
                                {
                                    "0": "HL Bottom Bracket",
                                    "1": "72.8940",
                                    "2": "121.4900"
                                },
                                {
                                    "0": "HL Bottom Bracket",
                                    "1": "72.8940",
                                    "2": "121.4900"
                                }
                            ]
                        },
                        "text/html": "<table><tr><th>Name</th><th>UnitPrice</th><th>ListPrice</th></tr><tr><td>HL Mountain Handlebars</td><td>72.1620</td><td>120.2700</td></tr><tr><td>HL Mountain Handlebars</td><td>72.1620</td><td>120.2700</td></tr><tr><td>HL Mountain Handlebars</td><td>72.1620</td><td>120.2700</td></tr><tr><td>HL Road Handlebars</td><td>72.1620</td><td>120.2700</td></tr><tr><td>HL Road Handlebars</td><td>72.1620</td><td>120.2700</td></tr><tr><td>HL Road Handlebars</td><td>72.1620</td><td>120.2700</td></tr><tr><td>Hitch Rack - 4-Bike</td><td>72.0000</td><td>120.0000</td></tr><tr><td>Hitch Rack - 4-Bike</td><td>72.0000</td><td>120.0000</td></tr><tr><td>Hitch Rack - 4-Bike</td><td>72.0000</td><td>120.0000</td></tr><tr><td>Hitch Rack - 4-Bike</td><td>72.0000</td><td>120.0000</td></tr><tr><td>Hitch Rack - 4-Bike</td><td>72.0000</td><td>120.0000</td></tr><tr><td>Hitch Rack - 4-Bike</td><td>72.0000</td><td>120.0000</td></tr><tr><td>Hitch Rack - 4-Bike</td><td>72.0000</td><td>120.0000</td></tr><tr><td>Hitch Rack - 4-Bike</td><td>72.0000</td><td>120.0000</td></tr><tr><td>Rear Derailleur</td><td>72.8760</td><td>121.4600</td></tr><tr><td>Rear Derailleur</td><td>72.8760</td><td>121.4600</td></tr><tr><td>Rear Brakes</td><td>63.9000</td><td>106.5000</td></tr><tr><td>Front Brakes</td><td>63.9000</td><td>106.5000</td></tr><tr><td>Front Brakes</td><td>63.9000</td><td>106.5000</td></tr><tr><td>Front Brakes</td><td>63.9000</td><td>106.5000</td></tr><tr><td>Front Brakes</td><td>63.9000</td><td>106.5000</td></tr><tr><td>Front Brakes</td><td>63.9000</td><td>106.5000</td></tr><tr><td>Front Brakes</td><td>63.9000</td><td>106.5000</td></tr><tr><td>Front Brakes</td><td>63.9000</td><td>106.5000</td></tr><tr><td>HL Bottom Bracket</td><td>72.8940</td><td>121.4900</td></tr><tr><td>HL Bottom Bracket</td><td>72.8940</td><td>121.4900</td></tr><tr><td>HL Bottom Bracket</td><td>72.8940</td><td>121.4900</td></tr><tr><td>HL Bottom Bracket</td><td>72.8940</td><td>121.4900</td></tr></table>"
                    },
                    "metadata": {}
                }
            ],
            "execution_count": 22
        },
        {
            "cell_type": "markdown",
            "source": [
                "3\\. Recuperar o custo, o preço de lista e o preço médio de venda de cada produto\n",
                "\n",
                "Recuperar o ID do produto, nome, custo e preço de lista para cada produto juntamente com o preço unitário médio para que esse produto tenha sido vendido."
            ],
            "metadata": {
                "azdata_cell_guid": "57913736-d211-4ee0-afad-df9cbf5834ac"
            },
            "attachments": {}
        },
        {
            "cell_type": "code",
            "source": [
                "/*se coloco o ListPrice da erro*/\r\n",
                "\r\n",
                "select p.Name, AVG(UnitPrice) as media\r\n",
                "from SalesOrderDetail sod\r\n",
                "join Product p \r\n",
                "on sod.ProductID = p.ProductID \r\n",
                "GROUP BY p.Name\r\n",
                "\r\n",
                ""
            ],
            "metadata": {
                "azdata_cell_guid": "478b4614-9d31-4495-ba9a-90071b565abe",
                "tags": []
            },
            "outputs": [
                {
                    "output_type": "display_data",
                    "data": {
                        "text/html": "(142 rows affected)"
                    },
                    "metadata": {}
                },
                {
                    "output_type": "display_data",
                    "data": {
                        "text/html": "Total execution time: 00:00:00.112"
                    },
                    "metadata": {}
                },
                {
                    "output_type": "execute_result",
                    "execution_count": 33,
                    "data": {
                        "application/vnd.dataresource+json": {
                            "schema": {
                                "fields": [
                                    {
                                        "name": "Name"
                                    },
                                    {
                                        "name": "media"
                                    }
                                ]
                            },
                            "data": [
                                {
                                    "0": "AWC Logo Cap",
                                    "1": "5.3740"
                                },
                                {
                                    "0": "Bike Wash - Dissolver",
                                    "1": "4.7132"
                                },
                                {
                                    "0": "Chain",
                                    "1": "12.1440"
                                },
                                {
                                    "0": "Classic Vest, M",
                                    "1": "38.1000"
                                },
                                {
                                    "0": "Classic Vest, S",
                                    "1": "37.1475"
                                },
                                {
                                    "0": "Front Brakes",
                                    "1": "63.9000"
                                },
                                {
                                    "0": "Front Derailleur",
                                    "1": "54.8940"
                                },
                                {
                                    "0": "Half-Finger Gloves, L",
                                    "1": "14.6940"
                                },
                                {
                                    "0": "Half-Finger Gloves, M",
                                    "1": "14.6940"
                                },
                                {
                                    "0": "Half-Finger Gloves, S",
                                    "1": "14.6940"
                                },
                                {
                                    "0": "Hitch Rack - 4-Bike",
                                    "1": "72.0000"
                                },
                                {
                                    "0": "HL Bottom Bracket",
                                    "1": "72.8940"
                                },
                                {
                                    "0": "HL Crankset",
                                    "1": "242.9940"
                                },
                                {
                                    "0": "HL Mountain Frame - Black, 38",
                                    "1": "809.7600"
                                },
                                {
                                    "0": "HL Mountain Frame - Black, 42",
                                    "1": "809.7600"
                                },
                                {
                                    "0": "HL Mountain Frame - Silver, 38",
                                    "1": "818.7000"
                                },
                                {
                                    "0": "HL Mountain Frame - Silver, 42",
                                    "1": "818.7000"
                                },
                                {
                                    "0": "HL Mountain Frame - Silver, 46",
                                    "1": "818.7000"
                                },
                                {
                                    "0": "HL Mountain Handlebars",
                                    "1": "72.1620"
                                },
                                {
                                    "0": "HL Mountain Pedal",
                                    "1": "48.5940"
                                },
                                {
                                    "0": "HL Mountain Seat/Saddle",
                                    "1": "31.5840"
                                },
                                {
                                    "0": "HL Road Frame - Black, 44",
                                    "1": "858.9000"
                                },
                                {
                                    "0": "HL Road Frame - Red, 44",
                                    "1": "858.9000"
                                },
                                {
                                    "0": "HL Road Frame - Red, 62",
                                    "1": "858.9000"
                                },
                                {
                                    "0": "HL Road Handlebars",
                                    "1": "72.1620"
                                },
                                {
                                    "0": "HL Road Pedal",
                                    "1": "48.5940"
                                },
                                {
                                    "0": "HL Road Seat/Saddle",
                                    "1": "31.5840"
                                },
                                {
                                    "0": "HL Touring Frame - Blue, 50",
                                    "1": "602.3460"
                                },
                                {
                                    "0": "HL Touring Frame - Blue, 54",
                                    "1": "602.3460"
                                },
                                {
                                    "0": "HL Touring Frame - Blue, 60",
                                    "1": "602.3460"
                                },
                                {
                                    "0": "HL Touring Frame - Yellow, 54",
                                    "1": "602.3460"
                                },
                                {
                                    "0": "HL Touring Frame - Yellow, 60",
                                    "1": "602.3460"
                                },
                                {
                                    "0": "HL Touring Handlebars",
                                    "1": "54.9420"
                                },
                                {
                                    "0": "HL Touring Seat/Saddle",
                                    "1": "31.5840"
                                },
                                {
                                    "0": "Hydration Pack - 70 oz.",
                                    "1": "32.9940"
                                },
                                {
                                    "0": "LL Bottom Bracket",
                                    "1": "32.3940"
                                },
                                {
                                    "0": "LL Crankset",
                                    "1": "105.2940"
                                },
                                {
                                    "0": "LL Mountain Frame - Black, 42",
                                    "1": "149.8740"
                                },
                                {
                                    "0": "LL Mountain Frame - Black, 44",
                                    "1": "149.8740"
                                },
                                {
                                    "0": "LL Mountain Frame - Black, 48",
                                    "1": "149.8740"
                                },
                                {
                                    "0": "LL Mountain Frame - Silver, 40",
                                    "1": "158.4300"
                                },
                                {
                                    "0": "LL Mountain Frame - Silver, 42",
                                    "1": "158.4300"
                                },
                                {
                                    "0": "LL Mountain Frame - Silver, 44",
                                    "1": "158.4300"
                                },
                                {
                                    "0": "LL Mountain Frame - Silver, 52",
                                    "1": "158.4300"
                                },
                                {
                                    "0": "LL Mountain Handlebars",
                                    "1": "26.7240"
                                },
                                {
                                    "0": "LL Mountain Pedal",
                                    "1": "24.2940"
                                },
                                {
                                    "0": "LL Mountain Seat/Saddle",
                                    "1": "16.2720"
                                },
                                {
                                    "0": "LL Road Frame - Black, 52",
                                    "1": "202.3320"
                                },
                                {
                                    "0": "LL Road Frame - Black, 58",
                                    "1": "202.3320"
                                },
                                {
                                    "0": "LL Road Pedal",
                                    "1": "24.2940"
                                },
                                {
                                    "0": "LL Touring Frame - Blue, 50",
                                    "1": "200.0520"
                                },
                                {
                                    "0": "LL Touring Frame - Blue, 54",
                                    "1": "200.0520"
                                },
                                {
                                    "0": "LL Touring Frame - Yellow, 44",
                                    "1": "200.0520"
                                },
                                {
                                    "0": "LL Touring Frame - Yellow, 50",
                                    "1": "200.0520"
                                },
                                {
                                    "0": "LL Touring Frame - Yellow, 62",
                                    "1": "200.0520"
                                },
                                {
                                    "0": "Long-Sleeve Logo Jersey, L",
                                    "1": "29.7440"
                                },
                                {
                                    "0": "Long-Sleeve Logo Jersey, M",
                                    "1": "29.9940"
                                },
                                {
                                    "0": "Long-Sleeve Logo Jersey, XL",
                                    "1": "29.9940"
                                },
                                {
                                    "0": "ML Mountain Frame-W - Silver, 40",
                                    "1": "218.4540"
                                },
                                {
                                    "0": "ML Mountain Frame-W - Silver, 42",
                                    "1": "218.4540"
                                },
                                {
                                    "0": "ML Mountain Handlebars",
                                    "1": "37.1520"
                                },
                                {
                                    "0": "ML Mountain Pedal",
                                    "1": "37.2540"
                                },
                                {
                                    "0": "ML Mountain Seat/Saddle",
                                    "1": "23.4840"
                                },
                                {
                                    "0": "ML Road Frame-W - Yellow, 38",
                                    "1": "356.8980"
                                },
                                {
                                    "0": "ML Road Frame-W - Yellow, 44",
                                    "1": "356.8980"
                                },
                                {
                                    "0": "ML Road Frame-W - Yellow, 48",
                                    "1": "356.8980"
                                },
                                {
                                    "0": "ML Road Pedal",
                                    "1": "37.2540"
                                },
                                {
                                    "0": "Mountain-200 Black, 38",
                                    "1": "1376.9940"
                                },
                                {
                                    "0": "Mountain-200 Black, 42",
                                    "1": "1376.9940"
                                },
                                {
                                    "0": "Mountain-200 Black, 46",
                                    "1": "1376.9940"
                                },
                                {
                                    "0": "Mountain-200 Silver, 38",
                                    "1": "1391.9940"
                                },
                                {
                                    "0": "Mountain-200 Silver, 42",
                                    "1": "1391.9940"
                                },
                                {
                                    "0": "Mountain-200 Silver, 46",
                                    "1": "1391.9940"
                                },
                                {
                                    "0": "Mountain-400-W Silver, 38",
                                    "1": "461.6940"
                                },
                                {
                                    "0": "Mountain-400-W Silver, 40",
                                    "1": "461.6940"
                                },
                                {
                                    "0": "Mountain-400-W Silver, 42",
                                    "1": "461.6940"
                                },
                                {
                                    "0": "Mountain-400-W Silver, 46",
                                    "1": "461.6940"
                                },
                                {
                                    "0": "Mountain-500 Black, 40",
                                    "1": "323.9940"
                                },
                                {
                                    "0": "Mountain-500 Black, 42",
                                    "1": "323.9940"
                                },
                                {
                                    "0": "Mountain-500 Black, 44",
                                    "1": "323.9940"
                                },
                                {
                                    "0": "Mountain-500 Black, 48",
                                    "1": "323.9940"
                                },
                                {
                                    "0": "Mountain-500 Black, 52",
                                    "1": "323.9940"
                                },
                                {
                                    "0": "Mountain-500 Silver, 40",
                                    "1": "112.9980"
                                },
                                {
                                    "0": "Mountain-500 Silver, 42",
                                    "1": "112.9980"
                                },
                                {
                                    "0": "Mountain-500 Silver, 44",
                                    "1": "112.9980"
                                },
                                {
                                    "0": "Mountain-500 Silver, 48",
                                    "1": "112.9980"
                                },
                                {
                                    "0": "Mountain-500 Silver, 52",
                                    "1": "112.9980"
                                },
                                {
                                    "0": "Patch Kit/8 Patches",
                                    "1": "1.3740"
                                },
                                {
                                    "0": "Racing Socks, L",
                                    "1": "5.3169"
                                },
                                {
                                    "0": "Racing Socks, M",
                                    "1": "5.3940"
                                },
                                {
                                    "0": "Rear Brakes",
                                    "1": "63.9000"
                                },
                                {
                                    "0": "Rear Derailleur",
                                    "1": "72.8760"
                                },
                                {
                                    "0": "Road-250 Black, 44",
                                    "1": "1466.0100"
                                },
                                {
                                    "0": "Road-250 Black, 48",
                                    "1": "1466.0100"
                                },
                                {
                                    "0": "Road-250 Black, 52",
                                    "1": "1466.0100"
                                },
                                {
                                    "0": "Road-250 Black, 58",
                                    "1": "1466.0100"
                                },
                                {
                                    "0": "Road-250 Red, 58",
                                    "1": "1466.0100"
                                },
                                {
                                    "0": "Road-350-W Yellow, 40",
                                    "1": "1020.5940"
                                },
                                {
                                    "0": "Road-350-W Yellow, 42",
                                    "1": "1009.2540"
                                },
                                {
                                    "0": "Road-350-W Yellow, 44",
                                    "1": "1020.5940"
                                },
                                {
                                    "0": "Road-350-W Yellow, 48",
                                    "1": "986.5742"
                                },
                                {
                                    "0": "Road-550-W Yellow, 38",
                                    "1": "672.2940"
                                },
                                {
                                    "0": "Road-550-W Yellow, 40",
                                    "1": "672.2940"
                                },
                                {
                                    "0": "Road-550-W Yellow, 42",
                                    "1": "672.2940"
                                },
                                {
                                    "0": "Road-550-W Yellow, 44",
                                    "1": "672.2940"
                                },
                                {
                                    "0": "Road-550-W Yellow, 48",
                                    "1": "672.2940"
                                },
                                {
                                    "0": "Road-750 Black, 44",
                                    "1": "323.9940"
                                },
                                {
                                    "0": "Road-750 Black, 48",
                                    "1": "323.9940"
                                },
                                {
                                    "0": "Road-750 Black, 52",
                                    "1": "323.9940"
                                },
                                {
                                    "0": "Road-750 Black, 58",
                                    "1": "323.9940"
                                },
                                {
                                    "0": "Short-Sleeve Classic Jersey, L",
                                    "1": "31.9215"
                                },
                                {
                                    "0": "Short-Sleeve Classic Jersey, S",
                                    "1": "32.3940"
                                },
                                {
                                    "0": "Short-Sleeve Classic Jersey, XL",
                                    "1": "32.0940"
                                },
                                {
                                    "0": "Sport-100 Helmet, Black",
                                    "1": "20.6441"
                                },
                                {
                                    "0": "Sport-100 Helmet, Blue",
                                    "1": "20.7440"
                                },
                                {
                                    "0": "Sport-100 Helmet, Red",
                                    "1": "20.9940"
                                },
                                {
                                    "0": "Touring-1000 Blue, 46",
                                    "1": "1430.4420"
                                },
                                {
                                    "0": "Touring-1000 Blue, 50",
                                    "1": "1430.4420"
                                },
                                {
                                    "0": "Touring-1000 Blue, 54",
                                    "1": "1430.4420"
                                },
                                {
                                    "0": "Touring-1000 Blue, 60",
                                    "1": "1430.4420"
                                },
                                {
                                    "0": "Touring-1000 Yellow, 46",
                                    "1": "1430.4420"
                                },
                                {
                                    "0": "Touring-1000 Yellow, 50",
                                    "1": "1430.4420"
                                },
                                {
                                    "0": "Touring-1000 Yellow, 54",
                                    "1": "1430.4420"
                                },
                                {
                                    "0": "Touring-1000 Yellow, 60",
                                    "1": "1418.5216"
                                },
                                {
                                    "0": "Touring-2000 Blue, 46",
                                    "1": "728.9100"
                                },
                                {
                                    "0": "Touring-2000 Blue, 50",
                                    "1": "728.9100"
                                },
                                {
                                    "0": "Touring-2000 Blue, 54",
                                    "1": "728.9100"
                                },
                                {
                                    "0": "Touring-2000 Blue, 60",
                                    "1": "728.9100"
                                },
                                {
                                    "0": "Touring-3000 Blue, 44",
                                    "1": "445.4100"
                                },
                                {
                                    "0": "Touring-3000 Blue, 50",
                                    "1": "445.4100"
                                },
                                {
                                    "0": "Touring-3000 Blue, 54",
                                    "1": "445.4100"
                                },
                                {
                                    "0": "Touring-3000 Blue, 58",
                                    "1": "445.4100"
                                },
                                {
                                    "0": "Touring-3000 Blue, 62",
                                    "1": "445.4100"
                                },
                                {
                                    "0": "Touring-3000 Yellow, 44",
                                    "1": "445.4100"
                                },
                                {
                                    "0": "Touring-3000 Yellow, 50",
                                    "1": "445.4100"
                                },
                                {
                                    "0": "Touring-3000 Yellow, 54",
                                    "1": "445.4100"
                                },
                                {
                                    "0": "Touring-3000 Yellow, 58",
                                    "1": "445.4100"
                                },
                                {
                                    "0": "Touring-3000 Yellow, 62",
                                    "1": "441.6982"
                                },
                                {
                                    "0": "Water Bottle - 30 oz.",
                                    "1": "2.9654"
                                },
                                {
                                    "0": "Women's Mountain Shorts, L",
                                    "1": "41.9940"
                                },
                                {
                                    "0": "Women's Mountain Shorts, M",
                                    "1": "41.9940"
                                },
                                {
                                    "0": "Women's Mountain Shorts, S",
                                    "1": "41.5274"
                                }
                            ]
                        },
                        "text/html": "<table><tr><th>Name</th><th>media</th></tr><tr><td>AWC Logo Cap</td><td>5.3740</td></tr><tr><td>Bike Wash - Dissolver</td><td>4.7132</td></tr><tr><td>Chain</td><td>12.1440</td></tr><tr><td>Classic Vest, M</td><td>38.1000</td></tr><tr><td>Classic Vest, S</td><td>37.1475</td></tr><tr><td>Front Brakes</td><td>63.9000</td></tr><tr><td>Front Derailleur</td><td>54.8940</td></tr><tr><td>Half-Finger Gloves, L</td><td>14.6940</td></tr><tr><td>Half-Finger Gloves, M</td><td>14.6940</td></tr><tr><td>Half-Finger Gloves, S</td><td>14.6940</td></tr><tr><td>Hitch Rack - 4-Bike</td><td>72.0000</td></tr><tr><td>HL Bottom Bracket</td><td>72.8940</td></tr><tr><td>HL Crankset</td><td>242.9940</td></tr><tr><td>HL Mountain Frame - Black, 38</td><td>809.7600</td></tr><tr><td>HL Mountain Frame - Black, 42</td><td>809.7600</td></tr><tr><td>HL Mountain Frame - Silver, 38</td><td>818.7000</td></tr><tr><td>HL Mountain Frame - Silver, 42</td><td>818.7000</td></tr><tr><td>HL Mountain Frame - Silver, 46</td><td>818.7000</td></tr><tr><td>HL Mountain Handlebars</td><td>72.1620</td></tr><tr><td>HL Mountain Pedal</td><td>48.5940</td></tr><tr><td>HL Mountain Seat/Saddle</td><td>31.5840</td></tr><tr><td>HL Road Frame - Black, 44</td><td>858.9000</td></tr><tr><td>HL Road Frame - Red, 44</td><td>858.9000</td></tr><tr><td>HL Road Frame - Red, 62</td><td>858.9000</td></tr><tr><td>HL Road Handlebars</td><td>72.1620</td></tr><tr><td>HL Road Pedal</td><td>48.5940</td></tr><tr><td>HL Road Seat/Saddle</td><td>31.5840</td></tr><tr><td>HL Touring Frame - Blue, 50</td><td>602.3460</td></tr><tr><td>HL Touring Frame - Blue, 54</td><td>602.3460</td></tr><tr><td>HL Touring Frame - Blue, 60</td><td>602.3460</td></tr><tr><td>HL Touring Frame - Yellow, 54</td><td>602.3460</td></tr><tr><td>HL Touring Frame - Yellow, 60</td><td>602.3460</td></tr><tr><td>HL Touring Handlebars</td><td>54.9420</td></tr><tr><td>HL Touring Seat/Saddle</td><td>31.5840</td></tr><tr><td>Hydration Pack - 70 oz.</td><td>32.9940</td></tr><tr><td>LL Bottom Bracket</td><td>32.3940</td></tr><tr><td>LL Crankset</td><td>105.2940</td></tr><tr><td>LL Mountain Frame - Black, 42</td><td>149.8740</td></tr><tr><td>LL Mountain Frame - Black, 44</td><td>149.8740</td></tr><tr><td>LL Mountain Frame - Black, 48</td><td>149.8740</td></tr><tr><td>LL Mountain Frame - Silver, 40</td><td>158.4300</td></tr><tr><td>LL Mountain Frame - Silver, 42</td><td>158.4300</td></tr><tr><td>LL Mountain Frame - Silver, 44</td><td>158.4300</td></tr><tr><td>LL Mountain Frame - Silver, 52</td><td>158.4300</td></tr><tr><td>LL Mountain Handlebars</td><td>26.7240</td></tr><tr><td>LL Mountain Pedal</td><td>24.2940</td></tr><tr><td>LL Mountain Seat/Saddle</td><td>16.2720</td></tr><tr><td>LL Road Frame - Black, 52</td><td>202.3320</td></tr><tr><td>LL Road Frame - Black, 58</td><td>202.3320</td></tr><tr><td>LL Road Pedal</td><td>24.2940</td></tr><tr><td>LL Touring Frame - Blue, 50</td><td>200.0520</td></tr><tr><td>LL Touring Frame - Blue, 54</td><td>200.0520</td></tr><tr><td>LL Touring Frame - Yellow, 44</td><td>200.0520</td></tr><tr><td>LL Touring Frame - Yellow, 50</td><td>200.0520</td></tr><tr><td>LL Touring Frame - Yellow, 62</td><td>200.0520</td></tr><tr><td>Long-Sleeve Logo Jersey, L</td><td>29.7440</td></tr><tr><td>Long-Sleeve Logo Jersey, M</td><td>29.9940</td></tr><tr><td>Long-Sleeve Logo Jersey, XL</td><td>29.9940</td></tr><tr><td>ML Mountain Frame-W - Silver, 40</td><td>218.4540</td></tr><tr><td>ML Mountain Frame-W - Silver, 42</td><td>218.4540</td></tr><tr><td>ML Mountain Handlebars</td><td>37.1520</td></tr><tr><td>ML Mountain Pedal</td><td>37.2540</td></tr><tr><td>ML Mountain Seat/Saddle</td><td>23.4840</td></tr><tr><td>ML Road Frame-W - Yellow, 38</td><td>356.8980</td></tr><tr><td>ML Road Frame-W - Yellow, 44</td><td>356.8980</td></tr><tr><td>ML Road Frame-W - Yellow, 48</td><td>356.8980</td></tr><tr><td>ML Road Pedal</td><td>37.2540</td></tr><tr><td>Mountain-200 Black, 38</td><td>1376.9940</td></tr><tr><td>Mountain-200 Black, 42</td><td>1376.9940</td></tr><tr><td>Mountain-200 Black, 46</td><td>1376.9940</td></tr><tr><td>Mountain-200 Silver, 38</td><td>1391.9940</td></tr><tr><td>Mountain-200 Silver, 42</td><td>1391.9940</td></tr><tr><td>Mountain-200 Silver, 46</td><td>1391.9940</td></tr><tr><td>Mountain-400-W Silver, 38</td><td>461.6940</td></tr><tr><td>Mountain-400-W Silver, 40</td><td>461.6940</td></tr><tr><td>Mountain-400-W Silver, 42</td><td>461.6940</td></tr><tr><td>Mountain-400-W Silver, 46</td><td>461.6940</td></tr><tr><td>Mountain-500 Black, 40</td><td>323.9940</td></tr><tr><td>Mountain-500 Black, 42</td><td>323.9940</td></tr><tr><td>Mountain-500 Black, 44</td><td>323.9940</td></tr><tr><td>Mountain-500 Black, 48</td><td>323.9940</td></tr><tr><td>Mountain-500 Black, 52</td><td>323.9940</td></tr><tr><td>Mountain-500 Silver, 40</td><td>112.9980</td></tr><tr><td>Mountain-500 Silver, 42</td><td>112.9980</td></tr><tr><td>Mountain-500 Silver, 44</td><td>112.9980</td></tr><tr><td>Mountain-500 Silver, 48</td><td>112.9980</td></tr><tr><td>Mountain-500 Silver, 52</td><td>112.9980</td></tr><tr><td>Patch Kit/8 Patches</td><td>1.3740</td></tr><tr><td>Racing Socks, L</td><td>5.3169</td></tr><tr><td>Racing Socks, M</td><td>5.3940</td></tr><tr><td>Rear Brakes</td><td>63.9000</td></tr><tr><td>Rear Derailleur</td><td>72.8760</td></tr><tr><td>Road-250 Black, 44</td><td>1466.0100</td></tr><tr><td>Road-250 Black, 48</td><td>1466.0100</td></tr><tr><td>Road-250 Black, 52</td><td>1466.0100</td></tr><tr><td>Road-250 Black, 58</td><td>1466.0100</td></tr><tr><td>Road-250 Red, 58</td><td>1466.0100</td></tr><tr><td>Road-350-W Yellow, 40</td><td>1020.5940</td></tr><tr><td>Road-350-W Yellow, 42</td><td>1009.2540</td></tr><tr><td>Road-350-W Yellow, 44</td><td>1020.5940</td></tr><tr><td>Road-350-W Yellow, 48</td><td>986.5742</td></tr><tr><td>Road-550-W Yellow, 38</td><td>672.2940</td></tr><tr><td>Road-550-W Yellow, 40</td><td>672.2940</td></tr><tr><td>Road-550-W Yellow, 42</td><td>672.2940</td></tr><tr><td>Road-550-W Yellow, 44</td><td>672.2940</td></tr><tr><td>Road-550-W Yellow, 48</td><td>672.2940</td></tr><tr><td>Road-750 Black, 44</td><td>323.9940</td></tr><tr><td>Road-750 Black, 48</td><td>323.9940</td></tr><tr><td>Road-750 Black, 52</td><td>323.9940</td></tr><tr><td>Road-750 Black, 58</td><td>323.9940</td></tr><tr><td>Short-Sleeve Classic Jersey, L</td><td>31.9215</td></tr><tr><td>Short-Sleeve Classic Jersey, S</td><td>32.3940</td></tr><tr><td>Short-Sleeve Classic Jersey, XL</td><td>32.0940</td></tr><tr><td>Sport-100 Helmet, Black</td><td>20.6441</td></tr><tr><td>Sport-100 Helmet, Blue</td><td>20.7440</td></tr><tr><td>Sport-100 Helmet, Red</td><td>20.9940</td></tr><tr><td>Touring-1000 Blue, 46</td><td>1430.4420</td></tr><tr><td>Touring-1000 Blue, 50</td><td>1430.4420</td></tr><tr><td>Touring-1000 Blue, 54</td><td>1430.4420</td></tr><tr><td>Touring-1000 Blue, 60</td><td>1430.4420</td></tr><tr><td>Touring-1000 Yellow, 46</td><td>1430.4420</td></tr><tr><td>Touring-1000 Yellow, 50</td><td>1430.4420</td></tr><tr><td>Touring-1000 Yellow, 54</td><td>1430.4420</td></tr><tr><td>Touring-1000 Yellow, 60</td><td>1418.5216</td></tr><tr><td>Touring-2000 Blue, 46</td><td>728.9100</td></tr><tr><td>Touring-2000 Blue, 50</td><td>728.9100</td></tr><tr><td>Touring-2000 Blue, 54</td><td>728.9100</td></tr><tr><td>Touring-2000 Blue, 60</td><td>728.9100</td></tr><tr><td>Touring-3000 Blue, 44</td><td>445.4100</td></tr><tr><td>Touring-3000 Blue, 50</td><td>445.4100</td></tr><tr><td>Touring-3000 Blue, 54</td><td>445.4100</td></tr><tr><td>Touring-3000 Blue, 58</td><td>445.4100</td></tr><tr><td>Touring-3000 Blue, 62</td><td>445.4100</td></tr><tr><td>Touring-3000 Yellow, 44</td><td>445.4100</td></tr><tr><td>Touring-3000 Yellow, 50</td><td>445.4100</td></tr><tr><td>Touring-3000 Yellow, 54</td><td>445.4100</td></tr><tr><td>Touring-3000 Yellow, 58</td><td>445.4100</td></tr><tr><td>Touring-3000 Yellow, 62</td><td>441.6982</td></tr><tr><td>Water Bottle - 30 oz.</td><td>2.9654</td></tr><tr><td>Women's Mountain Shorts, L</td><td>41.9940</td></tr><tr><td>Women's Mountain Shorts, M</td><td>41.9940</td></tr><tr><td>Women's Mountain Shorts, S</td><td>41.5274</td></tr></table>"
                    },
                    "metadata": {}
                }
            ],
            "execution_count": 33
        },
        {
            "cell_type": "markdown",
            "source": [
                "4\\. Recuperar produtos que tenham um preço médio de venda inferior ao custo\n",
                "\n",
                "Filtre a sua consulta anterior para incluir apenas produtos em que o preço de custo é mais elevado do que a média preço de venda"
            ],
            "metadata": {
                "azdata_cell_guid": "dac90d3c-37ec-43cb-88e0-083622a5a9ff"
            },
            "attachments": {}
        },
        {
            "cell_type": "code",
            "source": [
                "select p.Name, AVG(UnitPrice) as media\r\n",
                "from SalesOrderDetail sod\r\n",
                "join Product p \r\n",
                "on sod.ProductID = p.ProductID \r\n",
                "where UnitPrice > ListPrice \r\n",
                "GROUP BY p.Name\r\n",
                "\r\n",
                ""
            ],
            "metadata": {
                "azdata_cell_guid": "7530220e-1854-4444-b60f-f7e62540ff9e"
            },
            "outputs": [
                {
                    "output_type": "display_data",
                    "data": {
                        "text/html": "(0 rows affected)"
                    },
                    "metadata": {}
                },
                {
                    "output_type": "display_data",
                    "data": {
                        "text/html": "Total execution time: 00:00:00.092"
                    },
                    "metadata": {}
                },
                {
                    "output_type": "execute_result",
                    "execution_count": 37,
                    "data": {
                        "application/vnd.dataresource+json": {
                            "schema": {
                                "fields": [
                                    {
                                        "name": "Name"
                                    },
                                    {
                                        "name": "media"
                                    }
                                ]
                            },
                            "data": []
                        },
                        "text/html": "<table><tr><th>Name</th><th>media</th></tr></table>"
                    },
                    "metadata": {}
                }
            ],
            "execution_count": 37
        }
    ]
}