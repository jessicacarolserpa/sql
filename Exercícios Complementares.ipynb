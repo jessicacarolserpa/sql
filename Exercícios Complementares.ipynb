{
    "metadata": {
        "kernelspec": {
            "name": "SQL",
            "display_name": "SQL",
            "language": "sql"
        },
        "language_info": {
            "name": "sql",
            "version": ""
        },
        "extensions": {
            "azuredatastudio": {
                "version": 1,
                "views": []
            }
        }
    },
    "nbformat_minor": 2,
    "nbformat": 4,
    "cells": [
        {
            "cell_type": "markdown",
            "source": [
                "**SQL – Exercícios Complementares**"
            ],
            "metadata": {
                "azdata_cell_guid": "f4574b1a-0c9c-4dc7-8e0f-18959eea6aec"
            },
            "attachments": {}
        },
        {
            "cell_type": "markdown",
            "source": [
                "**Exercício 1** Para cada Cliente listar os diferentes Endereços identificando o Tipo de Endereço"
            ],
            "metadata": {
                "azdata_cell_guid": "dd1451b0-2049-4117-a13e-9a0feaa30a1f"
            },
            "attachments": {}
        },
        {
            "cell_type": "code",
            "source": [
                "SELECT C.FirstName, C.LastName, A.AddressLine1, A.AddressLine2, CA.AddressType\r\n",
                "FROM Customer AS C\r\n",
                "JOIN CustomerAddress AS CA\r\n",
                "ON C.CustomerID = CA.CustomerID\r\n",
                "JOIN Address AS A\r\n",
                "ON CA.AddressID = A.AddressID"
            ],
            "metadata": {
                "azdata_cell_guid": "b94c843b-2033-4c30-be71-307549292578"
            },
            "outputs": [
                {
                    "output_type": "display_data",
                    "data": {
                        "text/html": "(417 rows affected)"
                    },
                    "metadata": {}
                },
                {
                    "output_type": "display_data",
                    "data": {
                        "text/html": "Total execution time: 00:00:00.210"
                    },
                    "metadata": {}
                },
                {
                    "output_type": "execute_result",
                    "execution_count": 1,
                    "data": {
                        "application/vnd.dataresource+json": {
                            "schema": {
                                "fields": [
                                    {
                                        "name": "FirstName"
                                    },
                                    {
                                        "name": "LastName"
                                    },
                                    {
                                        "name": "AddressLine1"
                                    },
                                    {
                                        "name": "AddressLine2"
                                    },
                                    {
                                        "name": "AddressType"
                                    }
                                ]
                            },
                            "data": [
                                {
                                    "0": "Jacob",
                                    "1": "Dean",
                                    "2": "#9900 2700 Production Way",
                                    "3": "NULL",
                                    "4": "Main Office"
                                },
                                {
                                    "0": "Lola",
                                    "1": "McCarthy",
                                    "2": "1050 Oak Street",
                                    "3": "NULL",
                                    "4": "Main Office"
                                },
                                {
                                    "0": "Peter",
                                    "1": "Houston",
                                    "2": "1200 First Ave.",
                                    "3": "NULL",
                                    "4": "Main Office"
                                },
                                {
                                    "0": "Joseph",
                                    "1": "Mitzner",
                                    "2": "123 Camelia Avenue",
                                    "3": "NULL",
                                    "4": "Main Office"
                                },
                                {
                                    "0": "Frank",
                                    "1": "Miller",
                                    "2": "123 W. Lake Ave.",
                                    "3": "NULL",
                                    "4": "Main Office"
                                },
                                {
                                    "0": "Donna",
                                    "1": "Carreras",
                                    "2": "12345 Sterling Avenue",
                                    "3": "NULL",
                                    "4": "Main Office"
                                },
                                {
                                    "0": "John",
                                    "1": "Beaver",
                                    "2": "1318 Lasalle Street",
                                    "3": "NULL",
                                    "4": "Shipping"
                                },
                                {
                                    "0": "Peggy",
                                    "1": "Justice",
                                    "2": "15 East Main",
                                    "3": "NULL",
                                    "4": "Main Office"
                                },
                                {
                                    "0": "Janet",
                                    "1": "Gates",
                                    "2": "165 North Main",
                                    "3": "NULL",
                                    "4": "Shipping"
                                },
                                {
                                    "0": "Barry",
                                    "1": "Johnson",
                                    "2": "2000 300th Street",
                                    "3": "NULL",
                                    "4": "Shipping"
                                },
                                {
                                    "0": "Suzana De Abreu",
                                    "1": "Canuto",
                                    "2": "20225 Lansing Ave",
                                    "3": "NULL",
                                    "4": "Main Office"
                                },
                                {
                                    "0": "Stacey",
                                    "1": "Cereghino",
                                    "2": "220 Mercy Drive",
                                    "3": "NULL",
                                    "4": "Main Office"
                                },
                                {
                                    "0": "Patricia",
                                    "1": "Doyle",
                                    "2": "225 South 314th Street",
                                    "3": "NULL",
                                    "4": "Main Office"
                                },
                                {
                                    "0": "Orlando",
                                    "1": "Gee",
                                    "2": "2251 Elliot Avenue",
                                    "3": "NULL",
                                    "4": "Main Office"
                                },
                                {
                                    "0": "Alan",
                                    "1": "Steiner",
                                    "2": "2255 254th Avenue Se",
                                    "3": "NULL",
                                    "4": "Main Office"
                                },
                                {
                                    "0": "Michael",
                                    "1": "Brundage",
                                    "2": "22555 Paseo De Las Americas",
                                    "3": "NULL",
                                    "4": "Main Office"
                                },
                                {
                                    "0": "Kendra",
                                    "1": "Thompson",
                                    "2": "22571 South 2500 East",
                                    "3": "NULL",
                                    "4": "Main Office"
                                },
                                {
                                    "0": "Johnny",
                                    "1": "Caprio",
                                    "2": "22580 Free Street",
                                    "3": "NULL",
                                    "4": "Main Office"
                                },
                                {
                                    "0": "Michelle",
                                    "1": "Alexander",
                                    "2": "22589 West Craig Road",
                                    "3": "NULL",
                                    "4": "Main Office"
                                },
                                {
                                    "0": "John",
                                    "1": "Ford",
                                    "2": "23025 S.W. Military Rd.",
                                    "3": "NULL",
                                    "4": "Main Office"
                                },
                                {
                                    "0": "John",
                                    "1": "Arthur",
                                    "2": "2345 North Freeway",
                                    "3": "NULL",
                                    "4": "Main Office"
                                },
                                {
                                    "0": "Mary",
                                    "1": "Alexander",
                                    "2": "2345 West Spencer Road",
                                    "3": "NULL",
                                    "4": "Main Office"
                                },
                                {
                                    "0": "Tim",
                                    "1": "Kim",
                                    "2": "25 Danger Street West",
                                    "3": "Floor 7",
                                    "4": "Main Office"
                                },
                                {
                                    "0": "Josh",
                                    "1": "Barnhill",
                                    "2": "25 First Canadian Place",
                                    "3": "NULL",
                                    "4": "Main Office"
                                },
                                {
                                    "0": "Ajay",
                                    "1": "Manchepalli",
                                    "2": "25 Hartfield Road, Wimbledon",
                                    "3": "NULL",
                                    "4": "Main Office"
                                },
                                {
                                    "0": "Yao-Qiang",
                                    "1": "Cheng",
                                    "2": "25 N State St",
                                    "3": "NULL",
                                    "4": "Main Office"
                                },
                                {
                                    "0": "Stephen",
                                    "1": "Mew",
                                    "2": "250 Kingsbridge Garden Circle",
                                    "3": "NULL",
                                    "4": "Main Office"
                                },
                                {
                                    "0": "Vanessa",
                                    "1": "Tench",
                                    "2": "2500 N Serene Blvd",
                                    "3": "19th Floor",
                                    "4": "Main Office"
                                },
                                {
                                    "0": "Randall",
                                    "1": "Boseman",
                                    "2": "2500 North Stemmons Freeway",
                                    "3": "NULL",
                                    "4": "Main Office"
                                },
                                {
                                    "0": "Robin",
                                    "1": "McGuigan",
                                    "2": "2500 University Avenue",
                                    "3": "NULL",
                                    "4": "Main Office"
                                },
                                {
                                    "0": "Jo",
                                    "1": "Brown",
                                    "2": "250000 Eight Mile Road",
                                    "3": "NULL",
                                    "4": "Main Office"
                                },
                                {
                                    "0": "Erin",
                                    "1": "Hagens",
                                    "2": "25001 Montague Expressway",
                                    "3": "NULL",
                                    "4": "Main Office"
                                },
                                {
                                    "0": "Shaun",
                                    "1": "Beasley",
                                    "2": "2500-622 5th Ave Sw",
                                    "3": "NULL",
                                    "4": "Main Office"
                                },
                                {
                                    "0": "Karren",
                                    "1": "Burkhardt",
                                    "2": "2502 Evergreen Ste E",
                                    "3": "NULL",
                                    "4": "Main Office"
                                },
                                {
                                    "0": "Ryan",
                                    "1": "Ihrig",
                                    "2": "250333 Southport Road, S.W.",
                                    "3": "NULL",
                                    "4": "Main Office"
                                },
                                {
                                    "0": "Linda",
                                    "1": "Burnett",
                                    "2": "2505 Gateway Drive",
                                    "3": "NULL",
                                    "4": "Main Office"
                                },
                                {
                                    "0": "Gabriele",
                                    "1": "Dickmann",
                                    "2": "250551 Shellbridge Way",
                                    "3": "NULL",
                                    "4": "Main Office"
                                },
                                {
                                    "0": "Henry",
                                    "1": "Campen",
                                    "2": "2507 Pacific Ave S",
                                    "3": "NULL",
                                    "4": "Main Office"
                                },
                                {
                                    "0": "Ronald",
                                    "1": "Heymsfield",
                                    "2": "250775 SW Hillsdale Hwy",
                                    "3": "NULL",
                                    "4": "Main Office"
                                },
                                {
                                    "0": "Robert",
                                    "1": "Brown",
                                    "2": "250880 Baur Blvd",
                                    "3": "NULL",
                                    "4": "Main Office"
                                },
                                {
                                    "0": "Marjorie",
                                    "1": "Lee",
                                    "2": "2509 W. Frankford",
                                    "3": "NULL",
                                    "4": "Main Office"
                                },
                                {
                                    "0": "Imtiaz",
                                    "1": "Khan",
                                    "2": "25095 W. Florissant",
                                    "3": "NULL",
                                    "4": "Main Office"
                                },
                                {
                                    "0": "Dirk",
                                    "1": "Bruno",
                                    "2": "251 Indell Lane",
                                    "3": "NULL",
                                    "4": "Main Office"
                                },
                                {
                                    "0": "Andrea",
                                    "1": "Thomsen",
                                    "2": "251 The Metro Center",
                                    "3": "NULL",
                                    "4": "Main Office"
                                },
                                {
                                    "0": "Bronson",
                                    "1": "Jacobs",
                                    "2": "2510 Crew Court",
                                    "3": "NULL",
                                    "4": "Main Office"
                                },
                                {
                                    "0": "Judy",
                                    "1": "Thames",
                                    "2": "25102 Springwater",
                                    "3": "NULL",
                                    "4": "Main Office"
                                },
                                {
                                    "0": "Joseph",
                                    "1": "Castellucio",
                                    "2": "2511 Baker Road",
                                    "3": "NULL",
                                    "4": "Main Office"
                                },
                                {
                                    "0": "Virginia",
                                    "1": "Miller",
                                    "2": "25111 228th St Sw",
                                    "3": "NULL",
                                    "4": "Main Office"
                                },
                                {
                                    "0": "Mark",
                                    "1": "Lee",
                                    "2": "2512-410th Avenue S.W.",
                                    "3": "NULL",
                                    "4": "Main Office"
                                },
                                {
                                    "0": "David",
                                    "1": "Lawrence",
                                    "2": "2512-4th Ave Sw",
                                    "3": "NULL",
                                    "4": "Main Office"
                                },
                                {
                                    "0": "Vassar",
                                    "1": "Stern",
                                    "2": "25130 South State Street",
                                    "3": "NULL",
                                    "4": "Main Office"
                                },
                                {
                                    "0": "Frank",
                                    "1": "Campbell",
                                    "2": "251340 E. South St.",
                                    "3": "NULL",
                                    "4": "Main Office"
                                },
                                {
                                    "0": "Walter",
                                    "1": "Brian",
                                    "2": "25136 Jefferson Blvd.",
                                    "3": "NULL",
                                    "4": "Main Office"
                                },
                                {
                                    "0": "Marcia",
                                    "1": "Sultan",
                                    "2": "251420a 170th Street",
                                    "3": "NULL",
                                    "4": "Main Office"
                                },
                                {
                                    "0": "Judy",
                                    "1": "Lundahl",
                                    "2": "25149 Howard Dr",
                                    "3": "NULL",
                                    "4": "Main Office"
                                },
                                {
                                    "0": "Christian",
                                    "1": "Kleinerman",
                                    "2": "25150 El Camino Real",
                                    "3": "NULL",
                                    "4": "Main Office"
                                },
                                {
                                    "0": "Kara",
                                    "1": "Vanderlinden",
                                    "2": "2520 Flanders Road",
                                    "3": "NULL",
                                    "4": "Main Office"
                                },
                                {
                                    "0": "Kirk",
                                    "1": "King",
                                    "2": "2521 McPherson Street",
                                    "3": "NULL",
                                    "4": "Main Office"
                                },
                                {
                                    "0": "Carol",
                                    "1": "Elliott",
                                    "2": "25220 Airline Road",
                                    "3": "NULL",
                                    "4": "Main Office"
                                },
                                {
                                    "0": "Mari",
                                    "1": "Caldwell",
                                    "2": "2524 Barlby Road",
                                    "3": "NULL",
                                    "4": "Main Office"
                                },
                                {
                                    "0": "Pat",
                                    "1": "Coleman",
                                    "2": "25245 Rue Sherbrooke Ouest",
                                    "3": "NULL",
                                    "4": "Main Office"
                                },
                                {
                                    "0": "Mike",
                                    "1": "Hines",
                                    "2": "25250 N 90th St",
                                    "3": "NULL",
                                    "4": "Main Office"
                                },
                                {
                                    "0": "Connie",
                                    "1": "Coffman",
                                    "2": "25269 Wood Dale Rd.",
                                    "3": "NULL",
                                    "4": "Main Office"
                                },
                                {
                                    "0": "Andrew",
                                    "1": "Kobylinski",
                                    "2": "2526a Tri-Lake Blvd Ne",
                                    "3": "NULL",
                                    "4": "Main Office"
                                },
                                {
                                    "0": "Neva",
                                    "1": "Mitchell",
                                    "2": "2528 Meridian E",
                                    "3": "NULL",
                                    "4": "Main Office"
                                },
                                {
                                    "0": "Amy",
                                    "1": "Alberts",
                                    "2": "252851 Rowan Place",
                                    "3": "NULL",
                                    "4": "Main Office"
                                },
                                {
                                    "0": "Barry",
                                    "1": "Johnson",
                                    "2": "2530 South Colorado Blvd.",
                                    "3": "NULL",
                                    "4": "Main Office"
                                },
                                {
                                    "0": "Eric",
                                    "1": "Lang",
                                    "2": "25300 Biddle Road",
                                    "3": "NULL",
                                    "4": "Main Office"
                                },
                                {
                                    "0": "Barbara",
                                    "1": "Calone",
                                    "2": "25306 Harvey Rd.",
                                    "3": "NULL",
                                    "4": "Main Office"
                                },
                                {
                                    "0": "Kari",
                                    "1": "Hensien",
                                    "2": "253131 Lake Frasier Drive, Office No. 2",
                                    "3": "NULL",
                                    "4": "Main Office"
                                },
                                {
                                    "0": "Stephen",
                                    "1": "Ayers",
                                    "2": "2533 Eureka Rd.",
                                    "3": "NULL",
                                    "4": "Main Office"
                                },
                                {
                                    "0": "Alexander",
                                    "1": "Berger",
                                    "2": "253711 Mayfield Place, Unit 150",
                                    "3": "NULL",
                                    "4": "Main Office"
                                },
                                {
                                    "0": "Laura",
                                    "1": "Steele",
                                    "2": "253731 West Bell Road",
                                    "3": "NULL",
                                    "4": "Main Office"
                                },
                                {
                                    "0": "Jovita",
                                    "1": "Carmody",
                                    "2": "253950 N.E. 178th Place",
                                    "3": "NULL",
                                    "4": "Main Office"
                                },
                                {
                                    "0": "Cecil",
                                    "1": "Allison",
                                    "2": "254 Colonnade Road",
                                    "3": "NULL",
                                    "4": "Main Office"
                                },
                                {
                                    "0": "Eva",
                                    "1": "Corets",
                                    "2": "2540 Dell Range Blvd",
                                    "3": "NULL",
                                    "4": "Main Office"
                                },
                                {
                                    "0": "Ryan",
                                    "1": "Calafato",
                                    "2": "254480 River Rd",
                                    "3": "NULL",
                                    "4": "Main Office"
                                },
                                {
                                    "0": "Steve",
                                    "1": "Masters",
                                    "2": "2545 King Street West",
                                    "3": "NULL",
                                    "4": "Main Office"
                                },
                                {
                                    "0": "Donald",
                                    "1": "Thompson",
                                    "2": "25472 Marlay Ave",
                                    "3": "NULL",
                                    "4": "Main Office"
                                },
                                {
                                    "0": "Deepak",
                                    "1": "Kumar",
                                    "2": "255 Irving Street",
                                    "3": "NULL",
                                    "4": "Main Office"
                                },
                                {
                                    "0": "Kevin",
                                    "1": "Kennedy",
                                    "2": "2550 Ne Sandy Blvd",
                                    "3": "NULL",
                                    "4": "Main Office"
                                },
                                {
                                    "0": "Jane",
                                    "1": "Greer",
                                    "2": "2550 Signet Drive",
                                    "3": "NULL",
                                    "4": "Main Office"
                                },
                                {
                                    "0": "Sunil",
                                    "1": "Uppal",
                                    "2": "25500 Old Spanish Trail",
                                    "3": "NULL",
                                    "4": "Main Office"
                                },
                                {
                                    "0": "Sean",
                                    "1": "Jacobson",
                                    "2": "2551 East Warner Road",
                                    "3": "NULL",
                                    "4": "Main Office"
                                },
                                {
                                    "0": "Ann",
                                    "1": "Beebe",
                                    "2": "25537 Hillside Avenue",
                                    "3": "NULL",
                                    "4": "Main Office"
                                },
                                {
                                    "0": "Scott",
                                    "1": "Colvin",
                                    "2": "25550 Executive Dr",
                                    "3": "NULL",
                                    "4": "Main Office"
                                },
                                {
                                    "0": "Della",
                                    "1": "Demott Jr",
                                    "2": "25575 The Queensway",
                                    "3": "NULL",
                                    "4": "Main Office"
                                },
                                {
                                    "0": "William",
                                    "1": "Conner",
                                    "2": "2560 Bay Street",
                                    "3": "NULL",
                                    "4": "Main Office"
                                },
                                {
                                    "0": "Brenda",
                                    "1": "Diaz",
                                    "2": "2560 E. Newlands Dr",
                                    "3": "NULL",
                                    "4": "Main Office"
                                },
                                {
                                    "0": "Bonnie",
                                    "1": "Lepro",
                                    "2": "25600 E St Andrews Pl",
                                    "3": "NULL",
                                    "4": "Main Office"
                                },
                                {
                                    "0": "Maciej",
                                    "1": "Dusza",
                                    "2": "2564 S. Redwood Rd.",
                                    "3": "NULL",
                                    "4": "Main Office"
                                },
                                {
                                    "0": "Michael",
                                    "1": "Lee",
                                    "2": "25718 Se Sunnyside Rd",
                                    "3": "NULL",
                                    "4": "Main Office"
                                },
                                {
                                    "0": "Jauna",
                                    "1": "Elson",
                                    "2": "2573 Dufferin Street",
                                    "3": "NULL",
                                    "4": "Main Office"
                                },
                                {
                                    "0": "Irene",
                                    "1": "Hernandez",
                                    "2": "25730, boul. St-Régis",
                                    "3": "NULL",
                                    "4": "Main Office"
                                },
                                {
                                    "0": "Arlene",
                                    "1": "Huff",
                                    "2": "2574 Milton Park",
                                    "3": "NULL",
                                    "4": "Main Office"
                                },
                                {
                                    "0": "Jackie",
                                    "1": "Blackwell",
                                    "2": "2575 Bloor Street East",
                                    "3": "NULL",
                                    "4": "Main Office"
                                },
                                {
                                    "0": "Anton",
                                    "1": "Kirilov",
                                    "2": "2575 Rocky Mountain Ave.",
                                    "3": "NULL",
                                    "4": "Main Office"
                                },
                                {
                                    "0": "Elsa",
                                    "1": "Leavitt",
                                    "2": "2575 West 2700 South",
                                    "3": "NULL",
                                    "4": "Main Office"
                                },
                                {
                                    "0": "Joseph",
                                    "1": "Lique",
                                    "2": "257700 Ne 76th Street",
                                    "3": "NULL",
                                    "4": "Main Office"
                                },
                                {
                                    "0": "Sandra",
                                    "1": "Kitt",
                                    "2": "258 King Street East",
                                    "3": "NULL",
                                    "4": "Main Office"
                                },
                                {
                                    "0": "Joy",
                                    "1": "Koski",
                                    "2": "258101 Nw Evergreen Parkway",
                                    "3": "NULL",
                                    "4": "Main Office"
                                },
                                {
                                    "0": "Scott",
                                    "1": "Gode",
                                    "2": "2583 Se 272nd St",
                                    "3": "NULL",
                                    "4": "Main Office"
                                },
                                {
                                    "0": "Gytis",
                                    "1": "Barzdukas",
                                    "2": "25900-700-9th Ave S.W.",
                                    "3": "NULL",
                                    "4": "Main Office"
                                },
                                {
                                    "0": "Robert",
                                    "1": "Bernacchi",
                                    "2": "25915 140th Ave Ne",
                                    "3": "NULL",
                                    "4": "Main Office"
                                },
                                {
                                    "0": "Gregory",
                                    "1": "Alderson",
                                    "2": "25981 College Street",
                                    "3": "NULL",
                                    "4": "Main Office"
                                },
                                {
                                    "0": "Jean",
                                    "1": "Handley",
                                    "2": "259826 Russell Rd. South",
                                    "3": "NULL",
                                    "4": "Main Office"
                                },
                                {
                                    "0": "Robert",
                                    "1": "Bernacchi",
                                    "2": "2681 Eagle Peak",
                                    "3": "NULL",
                                    "4": "Shipping"
                                },
                                {
                                    "0": "Gregory",
                                    "1": "Alderson",
                                    "2": "26910 Indela Road",
                                    "3": "NULL",
                                    "4": "Shipping"
                                },
                                {
                                    "0": "Victor",
                                    "1": "Kelley",
                                    "2": "2900 - 25055 Dunning Street",
                                    "3": "NULL",
                                    "4": "Main Office"
                                },
                                {
                                    "0": "Pat",
                                    "1": "Chambers",
                                    "2": "30025 Wayburne Drive, Suite 275",
                                    "3": "NULL",
                                    "4": "Main Office"
                                },
                                {
                                    "0": "Chris",
                                    "1": "Maxwell",
                                    "2": "3025 E Waterway Blvd",
                                    "3": "NULL",
                                    "4": "Main Office"
                                },
                                {
                                    "0": "Jimmy",
                                    "1": "Bischoff",
                                    "2": "3065 Santa Margarita Parkway",
                                    "3": "NULL",
                                    "4": "Main Office"
                                },
                                {
                                    "0": "Joe",
                                    "1": "Kim",
                                    "2": "308-3250 Casting Road",
                                    "3": "NULL",
                                    "4": "Main Office"
                                },
                                {
                                    "0": "Keith",
                                    "1": "Harris",
                                    "2": "3207 S Grady Way",
                                    "3": "NULL",
                                    "4": "Main Office"
                                },
                                {
                                    "0": "Garth",
                                    "1": "Fort",
                                    "2": "3250 Baldwin Park Blvd",
                                    "3": "NULL",
                                    "4": "Main Office"
                                },
                                {
                                    "0": "Carolyn",
                                    "1": "Farino",
                                    "2": "3250 South Meridian",
                                    "3": "NULL",
                                    "4": "Main Office"
                                },
                                {
                                    "0": "Vamsi",
                                    "1": "Kuppa",
                                    "2": "3255 Front Street West",
                                    "3": "NULL",
                                    "4": "Main Office"
                                },
                                {
                                    "0": "Jésus",
                                    "1": "Hernandez",
                                    "2": "32605 West 252 Mile Road, Suite 250",
                                    "3": "NULL",
                                    "4": "Main Office"
                                },
                                {
                                    "0": "Jared",
                                    "1": "Bustamante",
                                    "2": "3307 Evergreen Blvd",
                                    "3": "Ste 1071",
                                    "4": "Main Office"
                                },
                                {
                                    "0": "George",
                                    "1": "Huckaby",
                                    "2": "3390 South 23rd St.",
                                    "3": "NULL",
                                    "4": "Main Office"
                                },
                                {
                                    "0": "Jim",
                                    "1": "Geist",
                                    "2": "35525-9th Street Sw",
                                    "3": "NULL",
                                    "4": "Main Office"
                                },
                                {
                                    "0": "Jon",
                                    "1": "Ganio",
                                    "2": "3900 S. 997th St.",
                                    "3": "NULL",
                                    "4": "Main Office"
                                },
                                {
                                    "0": "Janice",
                                    "1": "Hows",
                                    "2": "399 Clearing Green",
                                    "3": "NULL",
                                    "4": "Main Office"
                                },
                                {
                                    "0": "Rosmarie",
                                    "1": "Carroll",
                                    "2": "39933 Mission Oaks Blvd",
                                    "3": "NULL",
                                    "4": "Main Office"
                                },
                                {
                                    "0": "Grant",
                                    "1": "Culbertson",
                                    "2": "399700 John R. Rd.",
                                    "3": "NULL",
                                    "4": "Main Office"
                                },
                                {
                                    "0": "Carlton",
                                    "1": "Carlisle",
                                    "2": "400-25155 West Pender St",
                                    "3": "NULL",
                                    "4": "Main Office"
                                },
                                {
                                    "0": "Patricia",
                                    "1": "Vasquez",
                                    "2": "409 S. Main Ste. 25",
                                    "3": "NULL",
                                    "4": "Main Office"
                                },
                                {
                                    "0": "Jane",
                                    "1": "McCarty",
                                    "2": "409 Santa Monica Blvd.",
                                    "3": "NULL",
                                    "4": "Main Office"
                                },
                                {
                                    "0": "Alice",
                                    "1": "Clark",
                                    "2": "42500 W 76th St",
                                    "3": "NULL",
                                    "4": "Main Office"
                                },
                                {
                                    "0": "Richard",
                                    "1": "Bready",
                                    "2": "4251 First Avenue",
                                    "3": "NULL",
                                    "4": "Main Office"
                                },
                                {
                                    "0": "Alan",
                                    "1": "Brewer",
                                    "2": "4255 East Lies Road",
                                    "3": "NULL",
                                    "4": "Main Office"
                                },
                                {
                                    "0": "Bob",
                                    "1": "Gage",
                                    "2": "43251 Viking Way, Unit 130",
                                    "3": "NULL",
                                    "4": "Main Office"
                                },
                                {
                                    "0": "Jean",
                                    "1": "Jordan",
                                    "2": "440 West Huntington Dr.",
                                    "3": "NULL",
                                    "4": "Main Office"
                                },
                                {
                                    "0": "Diane",
                                    "1": "Glimp",
                                    "2": "4400 March Road",
                                    "3": "NULL",
                                    "4": "Main Office"
                                },
                                {
                                    "0": "Gail",
                                    "1": "Erickson",
                                    "2": "44025 W. Empire",
                                    "3": "NULL",
                                    "4": "Main Office"
                                },
                                {
                                    "0": "Timothy",
                                    "1": "Burnett",
                                    "2": "45259 Canada Way",
                                    "3": "NULL",
                                    "4": "Main Office"
                                },
                                {
                                    "0": "Ranjit",
                                    "1": "Varkey Chudukatil",
                                    "2": "455 256th St.",
                                    "3": "NULL",
                                    "4": "Main Office"
                                },
                                {
                                    "0": "Gerald",
                                    "1": "Drury",
                                    "2": "4635 S. Harrison Blvd.",
                                    "3": "NULL",
                                    "4": "Main Office"
                                },
                                {
                                    "0": "Nancy",
                                    "1": "McPhearson",
                                    "2": "46-44 Albemarle Street",
                                    "3": "NULL",
                                    "4": "Main Office"
                                },
                                {
                                    "0": "Diane",
                                    "1": "Krane",
                                    "2": "46460 West Oaks Drive",
                                    "3": "NULL",
                                    "4": "Main Office"
                                },
                                {
                                    "0": "Pei",
                                    "1": "Chow",
                                    "2": "4660 Rodeo Road",
                                    "3": "NULL",
                                    "4": "Main Office"
                                },
                                {
                                    "0": "Ruby Sue",
                                    "1": "Styles",
                                    "2": "46990 Viking Way",
                                    "3": "NULL",
                                    "4": "Main Office"
                                },
                                {
                                    "0": "Shirley",
                                    "1": "Bruner",
                                    "2": "4781 Highway 95",
                                    "3": "NULL",
                                    "4": "Main Office"
                                },
                                {
                                    "0": "Lucy",
                                    "1": "Harrington",
                                    "2": "482505 Warm Springs Blvd.",
                                    "3": "NULL",
                                    "4": "Main Office"
                                },
                                {
                                    "0": "Wayne",
                                    "1": "Banack",
                                    "2": "48255 I-10 E. @ Eastpoint Blvd.",
                                    "3": "NULL",
                                    "4": "Main Office"
                                },
                                {
                                    "0": "Megan",
                                    "1": "Davis",
                                    "2": "48995 Evergreen Wy.",
                                    "3": "NULL",
                                    "4": "Main Office"
                                },
                                {
                                    "0": "Roger",
                                    "1": "Lengel",
                                    "2": "490 Ne 4th St",
                                    "3": "NULL",
                                    "4": "Main Office"
                                },
                                {
                                    "0": "Erik",
                                    "1": "Ismert",
                                    "2": "4927 S Meridian Ave Ste D",
                                    "3": "NULL",
                                    "4": "Main Office"
                                },
                                {
                                    "0": "Geri",
                                    "1": "Farrell",
                                    "2": "49925 Crestview Drive N.E.",
                                    "3": "NULL",
                                    "4": "Main Office"
                                },
                                {
                                    "0": "Shanay",
                                    "1": "Steelman",
                                    "2": "5 place Ville-Marie",
                                    "3": "NULL",
                                    "4": "Main Office"
                                },
                                {
                                    "0": "Darren",
                                    "1": "Gehring",
                                    "2": "509 Nafta Boulevard",
                                    "3": "NULL",
                                    "4": "Main Office"
                                },
                                {
                                    "0": "Scott",
                                    "1": "Konersmann",
                                    "2": "52500 Liberty Way",
                                    "3": "NULL",
                                    "4": "Main Office"
                                },
                                {
                                    "0": "Katherine",
                                    "1": "Harding",
                                    "2": "52560 Free Street",
                                    "3": "NULL",
                                    "4": "Main Office"
                                },
                                {
                                    "0": "Dominic",
                                    "1": "Gash",
                                    "2": "5420 West 22500 South",
                                    "3": "NULL",
                                    "4": "Main Office"
                                },
                                {
                                    "0": "Jill",
                                    "1": "Christie",
                                    "2": "54254 Pacific Ave.",
                                    "3": "NULL",
                                    "4": "Main Office"
                                },
                                {
                                    "0": "Hattie",
                                    "1": "Haemon",
                                    "2": "55 Lakeshore Blvd East",
                                    "3": "NULL",
                                    "4": "Main Office"
                                },
                                {
                                    "0": "Glenn",
                                    "1": "Track",
                                    "2": "55 Standish Court",
                                    "3": "NULL",
                                    "4": "Main Office"
                                },
                                {
                                    "0": "Steven",
                                    "1": "Brown",
                                    "2": "5500 Grossmont Center Drive",
                                    "3": "NULL",
                                    "4": "Main Office"
                                },
                                {
                                    "0": "Mary",
                                    "1": "Gimmi",
                                    "2": "5525 South Hover Road",
                                    "3": "NULL",
                                    "4": "Main Office"
                                },
                                {
                                    "0": "Andrew",
                                    "1": "Cencini",
                                    "2": "558 S 6th St",
                                    "3": "NULL",
                                    "4": "Main Office"
                                },
                                {
                                    "0": "Andy",
                                    "1": "Carothers",
                                    "2": "566 S. Main",
                                    "3": "NULL",
                                    "4": "Main Office"
                                },
                                {
                                    "0": "Stanley",
                                    "1": "Alan",
                                    "2": "567 Sw Mcloughlin Blvd",
                                    "3": "NULL",
                                    "4": "Main Office"
                                },
                                {
                                    "0": "John",
                                    "1": "Berger",
                                    "2": "5700 Explorer Drive",
                                    "3": "NULL",
                                    "4": "Main Office"
                                },
                                {
                                    "0": "A.",
                                    "1": "Leonetti",
                                    "2": "5700 Legacy Dr",
                                    "3": "NULL",
                                    "4": "Main Office"
                                },
                                {
                                    "0": "Catherine",
                                    "1": "Abel",
                                    "2": "57251 Serene Blvd",
                                    "3": "NULL",
                                    "4": "Main Office"
                                },
                                {
                                    "0": "Todd",
                                    "1": "Logan",
                                    "2": "575 Rue St Amable",
                                    "3": "NULL",
                                    "4": "Main Office"
                                },
                                {
                                    "0": "Denean",
                                    "1": "Ison",
                                    "2": "586 Fulham Road,",
                                    "3": "NULL",
                                    "4": "Main Office"
                                },
                                {
                                    "0": "Michael",
                                    "1": "Sullivan",
                                    "2": "5867 Sunrise Boulevard",
                                    "3": "NULL",
                                    "4": "Main Office"
                                },
                                {
                                    "0": "Rudolph",
                                    "1": "Dillon",
                                    "2": "595 Burning Street",
                                    "3": "NULL",
                                    "4": "Main Office"
                                },
                                {
                                    "0": "Jane",
                                    "1": "Carmichael",
                                    "2": "5967 W Las Positas Blvd",
                                    "3": "NULL",
                                    "4": "Main Office"
                                },
                                {
                                    "0": "Kelly",
                                    "1": "Focht",
                                    "2": "5990 Avebury Road",
                                    "3": "NULL",
                                    "4": "Main Office"
                                },
                                {
                                    "0": "Thomas",
                                    "1": "Michaels",
                                    "2": "5th Floor, 79 Place D'armes",
                                    "3": "NULL",
                                    "4": "Main Office"
                                },
                                {
                                    "0": "Janeth",
                                    "1": "Esteves",
                                    "2": "6 The Farm, Liberty Road",
                                    "3": "NULL",
                                    "4": "Main Office"
                                },
                                {
                                    "0": "Esther",
                                    "1": "Valle",
                                    "2": "600 Boul. Rene-levesque Ouest",
                                    "3": "NULL",
                                    "4": "Main Office"
                                },
                                {
                                    "0": "Eric",
                                    "1": "Brumfield",
                                    "2": "600 Slater Street",
                                    "3": "NULL",
                                    "4": "Main Office"
                                },
                                {
                                    "0": "Kerim",
                                    "1": "Hanif",
                                    "2": "60025 Bollinger Canyon Road",
                                    "3": "NULL",
                                    "4": "Main Office"
                                },
                                {
                                    "0": "Melissa",
                                    "1": "Marple",
                                    "2": "603 Gellert Blvd",
                                    "3": "NULL",
                                    "4": "Main Office"
                                },
                                {
                                    "0": "Rhoda",
                                    "1": "Finley",
                                    "2": "6030 Conroy Road",
                                    "3": "NULL",
                                    "4": "Main Office"
                                },
                                {
                                    "0": "Jodan",
                                    "1": "Jacobson",
                                    "2": "6030 Robinson Road",
                                    "3": "NULL",
                                    "4": "Main Office"
                                },
                                {
                                    "0": "Robert",
                                    "1": "Lyon",
                                    "2": "609 Evans Avenue",
                                    "3": "NULL",
                                    "4": "Main Office"
                                },
                                {
                                    "0": "Brian",
                                    "1": "Johnson",
                                    "2": "625 W Jackson Blvd. Unit 2502",
                                    "3": "NULL",
                                    "4": "Main Office"
                                },
                                {
                                    "0": "Margaret",
                                    "1": "Vanderkamp",
                                    "2": "62500 Neil Road",
                                    "3": "NULL",
                                    "4": "Main Office"
                                },
                                {
                                    "0": "Robert",
                                    "1": "Lyeba",
                                    "2": "63 Free St.",
                                    "3": "NULL",
                                    "4": "Main Office"
                                },
                                {
                                    "0": "Peter",
                                    "1": "Kurniawan",
                                    "2": "63 W Monroe",
                                    "3": "NULL",
                                    "4": "Main Office"
                                },
                                {
                                    "0": "Eli",
                                    "1": "Bowen",
                                    "2": "63 West Beaver Creek",
                                    "3": "NULL",
                                    "4": "Main Office"
                                },
                                {
                                    "0": "Sandeep",
                                    "1": "Kaliyath",
                                    "2": "630 N. Capitol Ave.",
                                    "3": "NULL",
                                    "4": "Main Office"
                                },
                                {
                                    "0": "Linda",
                                    "1": "Leste",
                                    "2": "630 University Avenue",
                                    "3": "NULL",
                                    "4": "Main Office"
                                },
                                {
                                    "0": "Anita",
                                    "1": "Lucerne",
                                    "2": "6333 Cote Vertu",
                                    "3": "NULL",
                                    "4": "Main Office"
                                },
                                {
                                    "0": "Kathleen",
                                    "1": "Garza",
                                    "2": "6388 Lake City Way",
                                    "3": "NULL",
                                    "4": "Main Office"
                                },
                                {
                                    "0": "Betty",
                                    "1": "Haines",
                                    "2": "640 South 994th St. W.",
                                    "3": "NULL",
                                    "4": "Main Office"
                                },
                                {
                                    "0": "Elizabeth",
                                    "1": "Keyser",
                                    "2": "6400, 888 - 3rd Avenue",
                                    "3": "NULL",
                                    "4": "Main Office"
                                },
                                {
                                    "0": "Robert",
                                    "1": "Kelly",
                                    "2": "6425 Nw Loop 410",
                                    "3": "NULL",
                                    "4": "Main Office"
                                },
                                {
                                    "0": "Vance",
                                    "1": "Johns",
                                    "2": "65 Gamelin Street",
                                    "3": "NULL",
                                    "4": "Main Office"
                                },
                                {
                                    "0": "Robert",
                                    "1": "Ahlering",
                                    "2": "6500 East Grant Road",
                                    "3": "NULL",
                                    "4": "Main Office"
                                },
                                {
                                    "0": "Derek",
                                    "1": "Graham",
                                    "2": "655-4th Ave S.W.",
                                    "3": "NULL",
                                    "4": "Main Office"
                                },
                                {
                                    "0": "Caroline",
                                    "1": "Vicknair",
                                    "2": "660 Lindbergh",
                                    "3": "NULL",
                                    "4": "Main Office"
                                },
                                {
                                    "0": "James",
                                    "1": "Haugh",
                                    "2": "660 Saint-Jacques, Bureau 400",
                                    "3": "NULL",
                                    "4": "Main Office"
                                },
                                {
                                    "0": "Gabriel",
                                    "1": "Bockenkamp",
                                    "2": "67 Rainer Ave S",
                                    "3": "NULL",
                                    "4": "Main Office"
                                },
                                {
                                    "0": "Martha",
                                    "1": "Espinoza",
                                    "2": "6700 Boul Taschereau",
                                    "3": "NULL",
                                    "4": "Main Office"
                                },
                                {
                                    "0": "Linda",
                                    "1": "Ecoffey",
                                    "2": "67255 - 8th Street N.E., Suite 350",
                                    "3": "NULL",
                                    "4": "Main Office"
                                },
                                {
                                    "0": "Lawrence",
                                    "1": "Hurkett",
                                    "2": "6753 Howard Hughes Parkway",
                                    "3": "NULL",
                                    "4": "Main Office"
                                },
                                {
                                    "0": "Eugene",
                                    "1": "Kogan",
                                    "2": "6756 Mowry",
                                    "3": "NULL",
                                    "4": "Main Office"
                                },
                                {
                                    "0": "Alexander",
                                    "1": "Deborde",
                                    "2": "6777 Kingsway",
                                    "3": "NULL",
                                    "4": "Main Office"
                                },
                                {
                                    "0": "June",
                                    "1": "Brunner",
                                    "2": "678 Eastman Ave.",
                                    "3": "NULL",
                                    "4": "Main Office"
                                },
                                {
                                    "0": "Robert",
                                    "1": "Barker",
                                    "2": "6789 Warren Road",
                                    "3": "NULL",
                                    "4": "Main Office"
                                },
                                {
                                    "0": "Frances",
                                    "1": "Adams",
                                    "2": "6900 Sisk Road",
                                    "3": "NULL",
                                    "4": "Main Office"
                                },
                                {
                                    "0": "Susan",
                                    "1": "French",
                                    "2": "69251 Creditview Road",
                                    "3": "NULL",
                                    "4": "Main Office"
                                },
                                {
                                    "0": "Julie",
                                    "1": "Taft-Rider",
                                    "2": "6996 South Lindbergh",
                                    "3": "NULL",
                                    "4": "Main Office"
                                },
                                {
                                    "0": "Curtis",
                                    "1": "Howard",
                                    "2": "6th Floor, 25st Canadian Place",
                                    "3": "NULL",
                                    "4": "Main Office"
                                },
                                {
                                    "0": "Rose",
                                    "1": "Vandenouer",
                                    "2": "7 Garden House Cloisters, 8 Batters",
                                    "3": "NULL",
                                    "4": "Main Office"
                                },
                                {
                                    "0": "Chris",
                                    "1": "Ashton",
                                    "2": "70 N.W. Plaza",
                                    "3": "NULL",
                                    "4": "Main Office"
                                },
                                {
                                    "0": "Robert",
                                    "1": "Avalos",
                                    "2": "700 Bureau Road",
                                    "3": "NULL",
                                    "4": "Main Office"
                                },
                                {
                                    "0": "Wathalee",
                                    "1": "Steuber",
                                    "2": "700 Se Sunnyside Road",
                                    "3": "NULL",
                                    "4": "Main Office"
                                },
                                {
                                    "0": "Andrew",
                                    "1": "Hill",
                                    "2": "7000 Victoria Park Avenue",
                                    "3": "NULL",
                                    "4": "Main Office"
                                },
                                {
                                    "0": "Bev",
                                    "1": "Desalvo",
                                    "2": "7009 Sw Hall Blvd.",
                                    "3": "NULL",
                                    "4": "Main Office"
                                },
                                {
                                    "0": "Douglas",
                                    "1": "Groncki",
                                    "2": "70259 West Sunnyview Ave",
                                    "3": "NULL",
                                    "4": "Main Office"
                                },
                                {
                                    "0": "Kathie",
                                    "1": "Flood",
                                    "2": "705 SE Mall Parkway",
                                    "3": "NULL",
                                    "4": "Main Office"
                                },
                                {
                                    "0": "Luis",
                                    "1": "Bonifaz",
                                    "2": "72502 Eastern Ave.",
                                    "3": "NULL",
                                    "4": "Main Office"
                                },
                                {
                                    "0": "Robert",
                                    "1": "Vessa",
                                    "2": "72540 Blanco Rd.",
                                    "3": "NULL",
                                    "4": "Main Office"
                                },
                                {
                                    "0": "Gary",
                                    "1": "Suess",
                                    "2": "725a The Arches",
                                    "3": "NULL",
                                    "4": "Main Office"
                                },
                                {
                                    "0": "Sharon",
                                    "1": "Looney",
                                    "2": "74400 France Avenue South",
                                    "3": "NULL",
                                    "4": "Main Office"
                                },
                                {
                                    "0": "Scott",
                                    "1": "Culp",
                                    "2": "750 Lakeway Dr",
                                    "3": "NULL",
                                    "4": "Main Office"
                                },
                                {
                                    "0": "Mike",
                                    "1": "Taylor",
                                    "2": "750 Philip Street",
                                    "3": "NULL",
                                    "4": "Main Office"
                                },
                                {
                                    "0": "Helen",
                                    "1": "Meyer",
                                    "2": "7505 Laguna Boulevard",
                                    "3": "NULL",
                                    "4": "Main Office"
                                },
                                {
                                    "0": "Delia",
                                    "1": "Toone",
                                    "2": "755 Columbia Ctr Blvd",
                                    "3": "NULL",
                                    "4": "Main Office"
                                },
                                {
                                    "0": "Daniel",
                                    "1": "Thompson",
                                    "2": "755 Nw Grandstand",
                                    "3": "NULL",
                                    "4": "Main Office"
                                },
                                {
                                    "0": "Karan",
                                    "1": "Khanna",
                                    "2": "755 W Washington Ave Ste D",
                                    "3": "NULL",
                                    "4": "Main Office"
                                },
                                {
                                    "0": "Sandeep",
                                    "1": "Katyal",
                                    "2": "765 Delridge Way Sw",
                                    "3": "NULL",
                                    "4": "Main Office"
                                },
                                {
                                    "0": "John",
                                    "1": "Colon",
                                    "2": "77 Beale Street",
                                    "3": "Room 99767c",
                                    "4": "Main Office"
                                },
                                {
                                    "0": "Lester",
                                    "1": "Bowman",
                                    "2": "770 Notre Datme Quest Bureau 800",
                                    "3": "NULL",
                                    "4": "Main Office"
                                },
                                {
                                    "0": "John",
                                    "1": "Evans",
                                    "2": "7709 West Virginia Avenue",
                                    "3": "NULL",
                                    "4": "Main Office"
                                },
                                {
                                    "0": "Liza Marie",
                                    "1": "Stevens",
                                    "2": "7750 E Marching Rd",
                                    "3": "NULL",
                                    "4": "Main Office"
                                },
                                {
                                    "0": "Ruth",
                                    "1": "Choin",
                                    "2": "7760 N. Pan Am Expwy",
                                    "3": "NULL",
                                    "4": "Main Office"
                                },
                                {
                                    "0": "Cornelius",
                                    "1": "Brandon",
                                    "2": "789 West Alameda",
                                    "3": "NULL",
                                    "4": "Main Office"
                                },
                                {
                                    "0": "Keith",
                                    "1": "Harris",
                                    "2": "7943 Walnut Ave",
                                    "3": "NULL",
                                    "4": "Shipping"
                                },
                                {
                                    "0": "David",
                                    "1": "Johnson",
                                    "2": "7990 Ocean Beach Hwy.",
                                    "3": "NULL",
                                    "4": "Main Office"
                                },
                                {
                                    "0": "Janet",
                                    "1": "Gates",
                                    "2": "800 Interchange Blvd.",
                                    "3": "Suite 2501",
                                    "4": "Main Office"
                                },
                                {
                                    "0": "John",
                                    "1": "Hanson",
                                    "2": "825 W 500 S",
                                    "3": "NULL",
                                    "4": "Main Office"
                                },
                                {
                                    "0": "Diane",
                                    "1": "Tibbott",
                                    "2": "8525 South Parker Road",
                                    "3": "NULL",
                                    "4": "Main Office"
                                },
                                {
                                    "0": "David",
                                    "1": "Liu",
                                    "2": "855 East Main Avenue",
                                    "3": "NULL",
                                    "4": "Main Office"
                                },
                                {
                                    "0": "Frank",
                                    "1": "Mart¡nez",
                                    "2": "870 N. 54th Ave.",
                                    "3": "NULL",
                                    "4": "Main Office"
                                },
                                {
                                    "0": "Virginia",
                                    "1": "Miller",
                                    "2": "8713 Yosemite Ct.",
                                    "3": "NULL",
                                    "4": "Shipping"
                                },
                                {
                                    "0": "Jinghao",
                                    "1": "Liu",
                                    "2": "90025 Sterling St",
                                    "3": "NULL",
                                    "4": "Main Office"
                                },
                                {
                                    "0": "George",
                                    "1": "Li",
                                    "2": "910 Main Street.",
                                    "3": "NULL",
                                    "4": "Main Office"
                                },
                                {
                                    "0": "Paulo",
                                    "1": "Lisboa",
                                    "2": "9178 Jumping St.",
                                    "3": "NULL",
                                    "4": "Shipping"
                                },
                                {
                                    "0": "Kay",
                                    "1": "Krane",
                                    "2": "9228 Via Del Sol",
                                    "3": "NULL",
                                    "4": "Shipping"
                                },
                                {
                                    "0": "Beth",
                                    "1": "Inghram",
                                    "2": "9259 - 1110th Avenue Sw",
                                    "3": "NULL",
                                    "4": "Main Office"
                                },
                                {
                                    "0": "Christopher",
                                    "1": "Beck",
                                    "2": "93-2501, Blackfriars Road,",
                                    "3": "NULL",
                                    "4": "Main Office"
                                },
                                {
                                    "0": "Gregory",
                                    "1": "Vanderbout",
                                    "2": "950 Gateway Street",
                                    "3": "NULL",
                                    "4": "Main Office"
                                },
                                {
                                    "0": "Chad",
                                    "1": "Tedford",
                                    "2": "9500b E. Central Texas Expressway",
                                    "3": "NULL",
                                    "4": "Main Office"
                                },
                                {
                                    "0": "Joyce",
                                    "1": "Jarvis",
                                    "2": "955 E. County Line Rd.",
                                    "3": "NULL",
                                    "4": "Main Office"
                                },
                                {
                                    "0": "Danielle",
                                    "1": "Johnson",
                                    "2": "955 Green Valley Crescent",
                                    "3": "NULL",
                                    "4": "Main Office"
                                },
                                {
                                    "0": "Brian",
                                    "1": "Goldstein",
                                    "2": "965 De La Gauchetiere West",
                                    "3": "NULL",
                                    "4": "Main Office"
                                },
                                {
                                    "0": "Lori",
                                    "1": "Kane",
                                    "2": "9693 Louis H Lafontaine",
                                    "3": "NULL",
                                    "4": "Main Office"
                                },
                                {
                                    "0": "Michael",
                                    "1": "Graff",
                                    "2": "9700 Sisk Road",
                                    "3": "NULL",
                                    "4": "Main Office"
                                },
                                {
                                    "0": "Katherine",
                                    "1": "Swan",
                                    "2": "975 Princess Street",
                                    "3": "NULL",
                                    "4": "Main Office"
                                },
                                {
                                    "0": "Tomas",
                                    "1": "Manzanares",
                                    "2": "99 Dean Street, Soho",
                                    "3": "NULL",
                                    "4": "Main Office"
                                },
                                {
                                    "0": "Phyllis",
                                    "1": "Huntsman",
                                    "2": "99 Front Street",
                                    "3": "NULL",
                                    "4": "Shipping"
                                },
                                {
                                    "0": "Phyllis",
                                    "1": "Thomas",
                                    "2": "99, Rue Saint-pierre",
                                    "3": "NULL",
                                    "4": "Main Office"
                                },
                                {
                                    "0": "Stephen",
                                    "1": "Jiang",
                                    "2": "9900 Ronson Drive",
                                    "3": "NULL",
                                    "4": "Main Office"
                                },
                                {
                                    "0": "Blaine",
                                    "1": "Dockter",
                                    "2": "99000 S. Avalon Blvd. Suite 750",
                                    "3": "NULL",
                                    "4": "Main Office"
                                },
                                {
                                    "0": "James",
                                    "1": "McCoy",
                                    "2": "9900-6400 Boul, Taschereau",
                                    "3": "NULL",
                                    "4": "Main Office"
                                },
                                {
                                    "0": "Michael",
                                    "1": "Blythe",
                                    "2": "9903 Highway 6 South",
                                    "3": "NULL",
                                    "4": "Main Office"
                                },
                                {
                                    "0": "Raul",
                                    "1": "Casts",
                                    "2": "99040 California Avenue",
                                    "3": "NULL",
                                    "4": "Main Office"
                                },
                                {
                                    "0": "Kathy",
                                    "1": "Marcovecchio",
                                    "2": "9905 Three Rivers Drive",
                                    "3": "NULL",
                                    "4": "Main Office"
                                },
                                {
                                    "0": "Jeanie",
                                    "1": "Glenn",
                                    "2": "9909 W. Ventura Boulevard",
                                    "3": "NULL",
                                    "4": "Main Office"
                                },
                                {
                                    "0": "Brenda",
                                    "1": "Heaney",
                                    "2": "990th Floor 700 De La GauchetiSre Ou",
                                    "3": "NULL",
                                    "4": "Main Office"
                                },
                                {
                                    "0": "Yale",
                                    "1": "Li",
                                    "2": "992 St Clair Ave East",
                                    "3": "NULL",
                                    "4": "Main Office"
                                },
                                {
                                    "0": "Abraham",
                                    "1": "Swearengin",
                                    "2": "9920 Bridgepointe Parkway",
                                    "3": "NULL",
                                    "4": "Main Office"
                                },
                                {
                                    "0": "Nicky",
                                    "1": "Chesnut",
                                    "2": "9920 North Telegraph Rd.",
                                    "3": "NULL",
                                    "4": "Main Office"
                                },
                                {
                                    "0": "Roger",
                                    "1": "Harui",
                                    "2": "9927 N. Main St.",
                                    "3": "NULL",
                                    "4": "Main Office"
                                },
                                {
                                    "0": "Bart",
                                    "1": "Duncan",
                                    "2": "99295 S.e. Tualatin Valley_hwy.",
                                    "3": "NULL",
                                    "4": "Main Office"
                                },
                                {
                                    "0": "John",
                                    "1": "Brooks",
                                    "2": "99-3 Forest Works",
                                    "3": "NULL",
                                    "4": "Main Office"
                                },
                                {
                                    "0": "John",
                                    "1": "Beaver",
                                    "2": "99300 223rd Southeast",
                                    "3": "NULL",
                                    "4": "Main Office"
                                },
                                {
                                    "0": "Cindy",
                                    "1": "Dodd",
                                    "2": "994 Sw Cherry Park Rd",
                                    "3": "NULL",
                                    "4": "Main Office"
                                },
                                {
                                    "0": "Lee",
                                    "1": "Chapla",
                                    "2": "99433 S. Greenbay Rd.",
                                    "3": "NULL",
                                    "4": "Main Office"
                                },
                                {
                                    "0": "Abigail",
                                    "1": "Gonzalez",
                                    "2": "99450 Highway 59 North",
                                    "3": "NULL",
                                    "4": "Main Office"
                                },
                                {
                                    "0": "Janaina Barreiro Gambaro",
                                    "1": "Bueno",
                                    "2": "995 Crescent",
                                    "3": "NULL",
                                    "4": "Main Office"
                                },
                                {
                                    "0": "Reuben",
                                    "1": "D'sa",
                                    "2": "9950 Ferrand Drive, 9th Floor",
                                    "3": "NULL",
                                    "4": "Main Office"
                                },
                                {
                                    "0": "Sandra",
                                    "1": "Maynard",
                                    "2": "9952 E. Lohman Ave.",
                                    "3": "NULL",
                                    "4": "Main Office"
                                },
                                {
                                    "0": "Phyllis",
                                    "1": "Tuffield",
                                    "2": "9960 King Street E.",
                                    "3": "NULL",
                                    "4": "Main Office"
                                },
                                {
                                    "0": "David",
                                    "1": "Hodgson",
                                    "2": "99700 Bell Road",
                                    "3": "NULL",
                                    "4": "Main Office"
                                },
                                {
                                    "0": "Payton",
                                    "1": "Benson",
                                    "2": "997000 Telegraph Rd.",
                                    "3": "NULL",
                                    "4": "Main Office"
                                },
                                {
                                    "0": "Frances",
                                    "1": "Giglio",
                                    "2": "9979 Bayview Drive",
                                    "3": "NULL",
                                    "4": "Main Office"
                                },
                                {
                                    "0": "Stefano",
                                    "1": "Stefani",
                                    "2": "997b Tradescant Road",
                                    "3": "NULL",
                                    "4": "Main Office"
                                },
                                {
                                    "0": "Ramona",
                                    "1": "Antrim",
                                    "2": "998 Forest Road",
                                    "3": "NULL",
                                    "4": "Main Office"
                                },
                                {
                                    "0": "Kayla",
                                    "1": "Stotler",
                                    "2": "9980 S Alma School Road",
                                    "3": "NULL",
                                    "4": "Main Office"
                                },
                                {
                                    "0": "Marlin",
                                    "1": "Coriell",
                                    "2": "99800 Tittabawasee Rd.",
                                    "3": "NULL",
                                    "4": "Main Office"
                                },
                                {
                                    "0": "Richard",
                                    "1": "Irwin",
                                    "2": "99828 Routh Street, Suite 825",
                                    "3": "NULL",
                                    "4": "Main Office"
                                },
                                {
                                    "0": "Cecelia",
                                    "1": "Marshall",
                                    "2": "9984 Wellington Street",
                                    "3": "NULL",
                                    "4": "Main Office"
                                },
                                {
                                    "0": "Jim",
                                    "1": "Stewart",
                                    "2": "999 West Georgia St.",
                                    "3": "NULL",
                                    "4": "Main Office"
                                },
                                {
                                    "0": "Kevin",
                                    "1": "Liu",
                                    "2": "9992 Whipple Rd",
                                    "3": "NULL",
                                    "4": "Main Office"
                                },
                                {
                                    "0": "Janet",
                                    "1": "Gilliat",
                                    "2": "9995 West Central Entrance",
                                    "3": "NULL",
                                    "4": "Main Office"
                                },
                                {
                                    "0": "Billy",
                                    "1": "Trent",
                                    "2": "99954 Boul. Laurier, Local 060, Place",
                                    "3": "NULL",
                                    "4": "Main Office"
                                },
                                {
                                    "0": "Megan",
                                    "1": "Burke",
                                    "2": "Arcadia Crossing",
                                    "3": "NULL",
                                    "4": "Main Office"
                                },
                                {
                                    "0": "Brigid",
                                    "1": "Cavendish",
                                    "2": "Banbury",
                                    "3": "NULL",
                                    "4": "Main Office"
                                },
                                {
                                    "0": "Mihail",
                                    "1": "Frintu",
                                    "2": "Bayshore Mall",
                                    "3": "NULL",
                                    "4": "Main Office"
                                },
                                {
                                    "0": "Tom",
                                    "1": "Johnston",
                                    "2": "Belz Factory Outlet",
                                    "3": "NULL",
                                    "4": "Main Office"
                                },
                                {
                                    "0": "Ted",
                                    "1": "Bremer",
                                    "2": "Bldg. 9n/99298",
                                    "3": "NULL",
                                    "4": "Main Office"
                                },
                                {
                                    "0": "Jay",
                                    "1": "Adams",
                                    "2": "Blue Ridge Mall",
                                    "3": "NULL",
                                    "4": "Main Office"
                                },
                                {
                                    "0": "Thierry",
                                    "1": "D'Hers",
                                    "2": "Box 99354 300 Union Street",
                                    "3": "NULL",
                                    "4": "Main Office"
                                },
                                {
                                    "0": "Yuhong",
                                    "1": "Li",
                                    "2": "Bradford",
                                    "3": "NULL",
                                    "4": "Main Office"
                                },
                                {
                                    "0": "Dick",
                                    "1": "Dievendorff",
                                    "2": "Bradford",
                                    "3": "Raven House, Kingsgate",
                                    "4": "Main Office"
                                },
                                {
                                    "0": "Eddie",
                                    "1": "Holmes",
                                    "2": "Bureau 9900 825, Avenue Querbes",
                                    "3": "NULL",
                                    "4": "Main Office"
                                },
                                {
                                    "0": "Raja",
                                    "1": "Venugopal",
                                    "2": "Burgess Hill",
                                    "3": "Edward Way",
                                    "4": "Main Office"
                                },
                                {
                                    "0": "Jennifer",
                                    "1": "Maxham",
                                    "2": "Butterfield Hse, 7-251 Chapel St",
                                    "3": "NULL",
                                    "4": "Main Office"
                                },
                                {
                                    "0": "Mitch",
                                    "1": "Kennedy",
                                    "2": "C/O Starpak, Inc.",
                                    "3": "NULL",
                                    "4": "Main Office"
                                },
                                {
                                    "0": "Helge",
                                    "1": "Hoeing",
                                    "2": "Cedar Creek Stores",
                                    "3": "NULL",
                                    "4": "Main Office"
                                },
                                {
                                    "0": "Phyllis",
                                    "1": "Huntsman",
                                    "2": "City Center",
                                    "3": "NULL",
                                    "4": "Main Office"
                                },
                                {
                                    "0": "Cheryl",
                                    "1": "Herring",
                                    "2": "Corp Ofc Accts Payable",
                                    "3": "NULL",
                                    "4": "Main Office"
                                },
                                {
                                    "0": "Donald",
                                    "1": "Blanton",
                                    "2": "Corporate Office",
                                    "3": "NULL",
                                    "4": "Main Office"
                                },
                                {
                                    "0": "Aidan",
                                    "1": "Delaney",
                                    "2": "Corporate Office",
                                    "3": "NULL",
                                    "4": "Main Office"
                                },
                                {
                                    "0": "Yuping",
                                    "1": "Tian",
                                    "2": "Depot 80",
                                    "3": "NULL",
                                    "4": "Main Office"
                                },
                                {
                                    "0": "Cory",
                                    "1": "Booth",
                                    "2": "Eastern Beltway Center",
                                    "3": "NULL",
                                    "4": "Main Office"
                                },
                                {
                                    "0": "François",
                                    "1": "Ferrier",
                                    "2": "Eastridge Mall",
                                    "3": "NULL",
                                    "4": "Main Office"
                                },
                                {
                                    "0": "Gustavo",
                                    "1": "Camargo",
                                    "2": "Ellesfield Ave",
                                    "3": "NULL",
                                    "4": "Main Office"
                                },
                                {
                                    "0": "Leo",
                                    "1": "Giakoumakis",
                                    "2": "Elmhurst Road, Goring",
                                    "3": "NULL",
                                    "4": "Main Office"
                                },
                                {
                                    "0": "Matthias",
                                    "1": "Berndt",
                                    "2": "Escondido",
                                    "3": "NULL",
                                    "4": "Main Office"
                                },
                                {
                                    "0": "Jack",
                                    "1": "Creasey",
                                    "2": "Factory Merchants",
                                    "3": "NULL",
                                    "4": "Main Office"
                                },
                                {
                                    "0": "Derik",
                                    "1": "Stenerson",
                                    "2": "Factory Merchants",
                                    "3": "NULL",
                                    "4": "Main Office"
                                },
                                {
                                    "0": "Mark",
                                    "1": "Erickson",
                                    "2": "Factory Stores Of America",
                                    "3": "NULL",
                                    "4": "Main Office"
                                },
                                {
                                    "0": "Shannon",
                                    "1": "Elliott",
                                    "2": "Factory Stores/tucson",
                                    "3": "NULL",
                                    "4": "Main Office"
                                },
                                {
                                    "0": "Marvin",
                                    "1": "Allen",
                                    "2": "First Colony Mall",
                                    "3": "NULL",
                                    "4": "Main Office"
                                },
                                {
                                    "0": "Thomas",
                                    "1": "Armstrong",
                                    "2": "Fox Hills",
                                    "3": "NULL",
                                    "4": "Main Office"
                                },
                                {
                                    "0": "Nkenge",
                                    "1": "McLin",
                                    "2": "Frontier Mall",
                                    "3": "NULL",
                                    "4": "Main Office"
                                },
                                {
                                    "0": "Jon",
                                    "1": "Grande",
                                    "2": "Galashiels",
                                    "3": "NULL",
                                    "4": "Main Office"
                                },
                                {
                                    "0": "Jolie",
                                    "1": "Lenehan",
                                    "2": "Garamonde Drive, Wymbush",
                                    "3": "P.O. Box 803",
                                    "4": "Main Office"
                                },
                                {
                                    "0": "Pamala",
                                    "1": "Kotc",
                                    "2": "Garamonde Drive, Wymbush",
                                    "3": "PO Box 4023",
                                    "4": "Main Office"
                                },
                                {
                                    "0": "Brian",
                                    "1": "Groth",
                                    "2": "Gateway",
                                    "3": "NULL",
                                    "4": "Main Office"
                                },
                                {
                                    "0": "Margaret",
                                    "1": "Krupka",
                                    "2": "Great Northwestern",
                                    "3": "NULL",
                                    "4": "Main Office"
                                },
                                {
                                    "0": "Mete",
                                    "1": "Goktepe",
                                    "2": "Hanford Mall",
                                    "3": "NULL",
                                    "4": "Main Office"
                                },
                                {
                                    "0": "Willie",
                                    "1": "Brooks",
                                    "2": "Holiday Village Mall",
                                    "3": "NULL",
                                    "4": "Main Office"
                                },
                                {
                                    "0": "Yvonne",
                                    "1": "McKay",
                                    "2": "Horizon Outlet",
                                    "3": "NULL",
                                    "4": "Main Office"
                                },
                                {
                                    "0": "Douglas",
                                    "1": "Baldwin",
                                    "2": "Horizon Outlet Center",
                                    "3": "NULL",
                                    "4": "Main Office"
                                },
                                {
                                    "0": "Paul",
                                    "1": "Fulton",
                                    "2": "Horizon Outlet Center",
                                    "3": "NULL",
                                    "4": "Main Office"
                                },
                                {
                                    "0": "Stefan",
                                    "1": "Delmarco",
                                    "2": "Incom Sports Center",
                                    "3": "NULL",
                                    "4": "Main Office"
                                },
                                {
                                    "0": "Roger",
                                    "1": "Van Houten",
                                    "2": "Internet House, 3399 Science Park",
                                    "3": "NULL",
                                    "4": "Main Office"
                                },
                                {
                                    "0": "R. Morgan",
                                    "1": "Mendoza",
                                    "2": "Johnson Creek",
                                    "3": "NULL",
                                    "4": "Main Office"
                                },
                                {
                                    "0": "Valerie",
                                    "1": "Hendricks",
                                    "2": "Kansas City Factory Outlet",
                                    "3": "NULL",
                                    "4": "Main Office"
                                },
                                {
                                    "0": "Nieves",
                                    "1": "Vargas",
                                    "2": "Kensington Valley Shops",
                                    "3": "NULL",
                                    "4": "Main Office"
                                },
                                {
                                    "0": "Richard",
                                    "1": "Byham",
                                    "2": "Knaves Beech Ind.",
                                    "3": "NULL",
                                    "4": "Main Office"
                                },
                                {
                                    "0": "Juanita",
                                    "1": "Holman",
                                    "2": "Lake Elisnor Place",
                                    "3": "NULL",
                                    "4": "Main Office"
                                },
                                {
                                    "0": "Dorothy",
                                    "1": "Fox",
                                    "2": "Lakeline Mall",
                                    "3": "NULL",
                                    "4": "Main Office"
                                },
                                {
                                    "0": "Chris",
                                    "1": "Cannon",
                                    "2": "Lakewood Mall",
                                    "3": "NULL",
                                    "4": "Main Office"
                                },
                                {
                                    "0": "Ruth",
                                    "1": "Suffin",
                                    "2": "Lancaster Mall",
                                    "3": "NULL",
                                    "4": "Main Office"
                                },
                                {
                                    "0": "Twanna",
                                    "1": "Evans",
                                    "2": "Lewis County Mall",
                                    "3": "NULL",
                                    "4": "Main Office"
                                },
                                {
                                    "0": "Margaret",
                                    "1": "Smith",
                                    "2": "Lewiston Mall",
                                    "3": "NULL",
                                    "4": "Main Office"
                                },
                                {
                                    "0": "Michael",
                                    "1": "Vanderhyde",
                                    "2": "Lincoln Square",
                                    "3": "NULL",
                                    "4": "Main Office"
                                },
                                {
                                    "0": "Alice",
                                    "1": "Steiner",
                                    "2": "Lone Star Factory",
                                    "3": "NULL",
                                    "4": "Main Office"
                                },
                                {
                                    "0": "Jessie",
                                    "1": "Valerio",
                                    "2": "Mall Of Orange",
                                    "3": "NULL",
                                    "4": "Main Office"
                                },
                                {
                                    "0": "Joshua",
                                    "1": "Huff",
                                    "2": "Management Mall",
                                    "3": "NULL",
                                    "4": "Main Office"
                                },
                                {
                                    "0": "John",
                                    "1": "Emory",
                                    "2": "Medford",
                                    "3": "NULL",
                                    "4": "Main Office"
                                },
                                {
                                    "0": "Ann",
                                    "1": "Hass",
                                    "2": "Medford Outlet Center",
                                    "3": "NULL",
                                    "4": "Main Office"
                                },
                                {
                                    "0": "Alvaro",
                                    "1": "De Matos Miranda Filho",
                                    "2": "Mountain Square",
                                    "3": "NULL",
                                    "4": "Main Office"
                                },
                                {
                                    "0": "Sairaj",
                                    "1": "Uddin",
                                    "2": "Natomas Marketplace",
                                    "3": "NULL",
                                    "4": "Main Office"
                                },
                                {
                                    "0": "Linda",
                                    "1": "Mitchell",
                                    "2": "New Millhouse, 2583 Milton Park",
                                    "3": "NULL",
                                    "4": "Main Office"
                                },
                                {
                                    "0": "Raquel",
                                    "1": "Mello",
                                    "2": "No. 2000-25080 Beaver Hall Hill",
                                    "3": "NULL",
                                    "4": "Main Office"
                                },
                                {
                                    "0": "Shane",
                                    "1": "Kim",
                                    "2": "No. 25400 10665 Jasper Avenue",
                                    "3": "NULL",
                                    "4": "Main Office"
                                },
                                {
                                    "0": "Samuel",
                                    "1": "Agcaoili",
                                    "2": "No. 25800-130 King Street West",
                                    "3": "NULL",
                                    "4": "Main Office"
                                },
                                {
                                    "0": "Matthew",
                                    "1": "Hink",
                                    "2": "No. 60 Bellis Fair Parkway",
                                    "3": "NULL",
                                    "4": "Main Office"
                                },
                                {
                                    "0": "Mary",
                                    "1": "Browning",
                                    "2": "Noah Lane",
                                    "3": "NULL",
                                    "4": "Main Office"
                                },
                                {
                                    "0": "Matthew",
                                    "1": "Cavallari",
                                    "2": "North 93270 Newport Highway",
                                    "3": "NULL",
                                    "4": "Main Office"
                                },
                                {
                                    "0": "Bob",
                                    "1": "Hodges",
                                    "2": "Ohms Road",
                                    "3": "NULL",
                                    "4": "Main Office"
                                },
                                {
                                    "0": "Christie",
                                    "1": "Trujillo",
                                    "2": "One Dancing, Rr No. 25",
                                    "3": "Box 8033",
                                    "4": "Main Office"
                                },
                                {
                                    "0": "Wanda",
                                    "1": "Vernon",
                                    "2": "Ontario Mills",
                                    "3": "NULL",
                                    "4": "Main Office"
                                },
                                {
                                    "0": "Michael John",
                                    "1": "Troyer",
                                    "2": "Oxnard Outlet",
                                    "3": "NULL",
                                    "4": "Main Office"
                                },
                                {
                                    "0": "Joan",
                                    "1": "Campbell",
                                    "2": "P.O. Box 44000",
                                    "3": "NULL",
                                    "4": "Main Office"
                                },
                                {
                                    "0": "Elsie",
                                    "1": "Lewin",
                                    "2": "P.O. Box 6256916",
                                    "3": "NULL",
                                    "4": "Main Office"
                                },
                                {
                                    "0": "John",
                                    "1": "Kelly",
                                    "2": "Pacific West Outlet",
                                    "3": "NULL",
                                    "4": "Main Office"
                                },
                                {
                                    "0": "Krishna",
                                    "1": "Sunkammurali",
                                    "2": "Paramount House",
                                    "3": "NULL",
                                    "4": "Main Office"
                                },
                                {
                                    "0": "Linda",
                                    "1": "Martin",
                                    "2": "Park House-4th Floor, 2516 Park St.",
                                    "3": "NULL",
                                    "4": "Main Office"
                                },
                                {
                                    "0": "Dylan",
                                    "1": "Miller",
                                    "2": "Parkway Plaza",
                                    "3": "NULL",
                                    "4": "Main Office"
                                },
                                {
                                    "0": "Scott",
                                    "1": "Cooper",
                                    "2": "Pavillion @ Redlands",
                                    "3": "NULL",
                                    "4": "Main Office"
                                },
                                {
                                    "0": "Rebecca",
                                    "1": "Laszlo",
                                    "2": "Phoenix Way, Cirencester",
                                    "3": "NULL",
                                    "4": "Main Office"
                                },
                                {
                                    "0": "Walter",
                                    "1": "Mays",
                                    "2": "Po Box 252525",
                                    "3": "NULL",
                                    "4": "Main Office"
                                },
                                {
                                    "0": "Edna",
                                    "1": "Benson",
                                    "2": "Po Box 8035996",
                                    "3": "NULL",
                                    "4": "Main Office"
                                },
                                {
                                    "0": "Paulo",
                                    "1": "Lisboa",
                                    "2": "Po Box 8259024",
                                    "3": "NULL",
                                    "4": "Main Office"
                                },
                                {
                                    "0": "Jane",
                                    "1": "Clayton",
                                    "2": "Po Box 83270",
                                    "3": "NULL",
                                    "4": "Main Office"
                                },
                                {
                                    "0": "Denise",
                                    "1": "Maccietto",
                                    "2": "Port Huron",
                                    "3": "NULL",
                                    "4": "Main Office"
                                },
                                {
                                    "0": "Kay",
                                    "1": "Krane",
                                    "2": "Prime Outlets",
                                    "3": "NULL",
                                    "4": "Main Office"
                                },
                                {
                                    "0": "Jeffrey",
                                    "1": "Kurtz",
                                    "2": "Receiving",
                                    "3": "NULL",
                                    "4": "Main Office"
                                },
                                {
                                    "0": "Mae",
                                    "1": "Black",
                                    "2": "Redford Plaza",
                                    "3": "NULL",
                                    "4": "Main Office"
                                },
                                {
                                    "0": "Ann",
                                    "1": "Evans",
                                    "2": "Ring Plaza",
                                    "3": "NULL",
                                    "4": "Main Office"
                                },
                                {
                                    "0": "Anthony",
                                    "1": "Chor",
                                    "2": "Riverside",
                                    "3": "NULL",
                                    "4": "Main Office"
                                },
                                {
                                    "0": "Oscar",
                                    "1": "Alpuerto",
                                    "2": "Rocky Mountain Pines Outlet",
                                    "3": "NULL",
                                    "4": "Main Office"
                                },
                                {
                                    "0": "Lindsey",
                                    "1": "Camacho",
                                    "2": "S Sound Ctr Suite 25300",
                                    "3": "NULL",
                                    "4": "Main Office"
                                },
                                {
                                    "0": "Clarence",
                                    "1": "Tatman",
                                    "2": "San Diego Factory",
                                    "3": "NULL",
                                    "4": "Main Office"
                                },
                                {
                                    "0": "Prashanth",
                                    "1": "Desai",
                                    "2": "Sapp Road West",
                                    "3": "NULL",
                                    "4": "Main Office"
                                },
                                {
                                    "0": "Barbara",
                                    "1": "German",
                                    "2": "Science Park South, Birchwood",
                                    "3": "Stanford House",
                                    "4": "Main Office"
                                },
                                {
                                    "0": "Lucio",
                                    "1": "Iallo",
                                    "2": "Simi @ The Plaza",
                                    "3": "NULL",
                                    "4": "Main Office"
                                },
                                {
                                    "0": "James",
                                    "1": "Bailey",
                                    "2": "Southgate Mall",
                                    "3": "NULL",
                                    "4": "Main Office"
                                },
                                {
                                    "0": "Conor",
                                    "1": "Cunningham",
                                    "2": "Sports Store At Park City",
                                    "3": "NULL",
                                    "4": "Main Office"
                                },
                                {
                                    "0": "Robert",
                                    "1": "Stotka",
                                    "2": "Sports Stores @ Tuscola",
                                    "3": "NULL",
                                    "4": "Main Office"
                                },
                                {
                                    "0": "Scott",
                                    "1": "MacDonald",
                                    "2": "St. Louis Marketplace",
                                    "3": "NULL",
                                    "4": "Main Office"
                                },
                                {
                                    "0": "Bryan",
                                    "1": "Hamilton",
                                    "2": "Station E",
                                    "3": "NULL",
                                    "4": "Main Office"
                                },
                                {
                                    "0": "Gary",
                                    "1": "Vargas",
                                    "2": "Stevens Creek Shopping Center",
                                    "3": "NULL",
                                    "4": "Main Office"
                                },
                                {
                                    "0": "Dora",
                                    "1": "Verdad",
                                    "2": "Suite 2502 410 Albert Street",
                                    "3": "NULL",
                                    "4": "Main Office"
                                },
                                {
                                    "0": "Dorothy",
                                    "1": "Contreras",
                                    "2": "Suite 25800 3401 - 10810th Avenue",
                                    "3": "NULL",
                                    "4": "Main Office"
                                },
                                {
                                    "0": "Ben",
                                    "1": "Miller",
                                    "2": "Suite 500 995 W. 11th Avenue",
                                    "3": "NULL",
                                    "4": "Main Office"
                                },
                                {
                                    "0": "Daniel",
                                    "1": "Blanco",
                                    "2": "Suite 800 2530 Slater Street",
                                    "3": "NULL",
                                    "4": "Main Office"
                                },
                                {
                                    "0": "Maxwell",
                                    "1": "Amland",
                                    "2": "Suite 99320 255 - 510th Avenue S.W.",
                                    "3": "NULL",
                                    "4": "Main Office"
                                },
                                {
                                    "0": "Kim",
                                    "1": "Abercrombie",
                                    "2": "Tanger Factory",
                                    "3": "NULL",
                                    "4": "Main Office"
                                },
                                {
                                    "0": "Teresa",
                                    "1": "Atkinson",
                                    "2": "The Citadel Commerce Plaza",
                                    "3": "NULL",
                                    "4": "Main Office"
                                },
                                {
                                    "0": "Forrest",
                                    "1": "Chandler",
                                    "2": "The Quad @ WestView",
                                    "3": "NULL",
                                    "4": "Main Office"
                                },
                                {
                                    "0": "Brad",
                                    "1": "Sutton",
                                    "2": "Three Rivers Mall",
                                    "3": "NULL",
                                    "4": "Main Office"
                                },
                                {
                                    "0": "Eric",
                                    "1": "Jacobsen",
                                    "2": "Topanga Plaza",
                                    "3": "NULL",
                                    "4": "Main Office"
                                },
                                {
                                    "0": "Elizabeth",
                                    "1": "Sullivan",
                                    "2": "Town East Center",
                                    "3": "NULL",
                                    "4": "Main Office"
                                },
                                {
                                    "0": "Jean",
                                    "1": "Holloway",
                                    "2": "Unit 99a Battery Retail Pk",
                                    "3": "NULL",
                                    "4": "Main Office"
                                },
                                {
                                    "0": "Guy",
                                    "1": "Gilbert",
                                    "2": "Vista Marketplace",
                                    "3": "NULL",
                                    "4": "Main Office"
                                },
                                {
                                    "0": "David",
                                    "1": "Jaffe",
                                    "2": "Wade Road",
                                    "3": "NULL",
                                    "4": "Main Office"
                                },
                                {
                                    "0": "Rob",
                                    "1": "Caron",
                                    "2": "Ward Parkway Center",
                                    "3": "NULL",
                                    "4": "Main Office"
                                },
                                {
                                    "0": "Terry",
                                    "1": "Eminhizer",
                                    "2": "Warrington Ldc Unit 25/2",
                                    "3": "NULL",
                                    "4": "Main Office"
                                },
                                {
                                    "0": "Christopher",
                                    "1": "Bright",
                                    "2": "Washington Square",
                                    "3": "NULL",
                                    "4": "Main Office"
                                },
                                {
                                    "0": "Michael",
                                    "1": "Galos",
                                    "2": "West Park Plaza",
                                    "3": "NULL",
                                    "4": "Main Office"
                                },
                                {
                                    "0": "Mary",
                                    "1": "Kesslep",
                                    "2": "Wharfdale Road",
                                    "3": "NULL",
                                    "4": "Main Office"
                                },
                                {
                                    "0": "Paul",
                                    "1": "Alcorn",
                                    "2": "White Mountain Mall",
                                    "3": "NULL",
                                    "4": "Main Office"
                                },
                                {
                                    "0": "Matthew",
                                    "1": "Miller",
                                    "2": "Wymbush",
                                    "3": "NULL",
                                    "4": "Main Office"
                                }
                            ]
                        },
                        "text/html": "<table><tr><th>FirstName</th><th>LastName</th><th>AddressLine1</th><th>AddressLine2</th><th>AddressType</th></tr><tr><td>Jacob</td><td>Dean</td><td>#9900 2700 Production Way</td><td>NULL</td><td>Main Office</td></tr><tr><td>Lola</td><td>McCarthy</td><td>1050 Oak Street</td><td>NULL</td><td>Main Office</td></tr><tr><td>Peter</td><td>Houston</td><td>1200 First Ave.</td><td>NULL</td><td>Main Office</td></tr><tr><td>Joseph</td><td>Mitzner</td><td>123 Camelia Avenue</td><td>NULL</td><td>Main Office</td></tr><tr><td>Frank</td><td>Miller</td><td>123 W. Lake Ave.</td><td>NULL</td><td>Main Office</td></tr><tr><td>Donna</td><td>Carreras</td><td>12345 Sterling Avenue</td><td>NULL</td><td>Main Office</td></tr><tr><td>John</td><td>Beaver</td><td>1318 Lasalle Street</td><td>NULL</td><td>Shipping</td></tr><tr><td>Peggy</td><td>Justice</td><td>15 East Main</td><td>NULL</td><td>Main Office</td></tr><tr><td>Janet</td><td>Gates</td><td>165 North Main</td><td>NULL</td><td>Shipping</td></tr><tr><td>Barry</td><td>Johnson</td><td>2000 300th Street</td><td>NULL</td><td>Shipping</td></tr><tr><td>Suzana De Abreu</td><td>Canuto</td><td>20225 Lansing Ave</td><td>NULL</td><td>Main Office</td></tr><tr><td>Stacey</td><td>Cereghino</td><td>220 Mercy Drive</td><td>NULL</td><td>Main Office</td></tr><tr><td>Patricia</td><td>Doyle</td><td>225 South 314th Street</td><td>NULL</td><td>Main Office</td></tr><tr><td>Orlando</td><td>Gee</td><td>2251 Elliot Avenue</td><td>NULL</td><td>Main Office</td></tr><tr><td>Alan</td><td>Steiner</td><td>2255 254th Avenue Se</td><td>NULL</td><td>Main Office</td></tr><tr><td>Michael</td><td>Brundage</td><td>22555 Paseo De Las Americas</td><td>NULL</td><td>Main Office</td></tr><tr><td>Kendra</td><td>Thompson</td><td>22571 South 2500 East</td><td>NULL</td><td>Main Office</td></tr><tr><td>Johnny</td><td>Caprio</td><td>22580 Free Street</td><td>NULL</td><td>Main Office</td></tr><tr><td>Michelle</td><td>Alexander</td><td>22589 West Craig Road</td><td>NULL</td><td>Main Office</td></tr><tr><td>John</td><td>Ford</td><td>23025 S.W. Military Rd.</td><td>NULL</td><td>Main Office</td></tr><tr><td>John</td><td>Arthur</td><td>2345 North Freeway</td><td>NULL</td><td>Main Office</td></tr><tr><td>Mary</td><td>Alexander</td><td>2345 West Spencer Road</td><td>NULL</td><td>Main Office</td></tr><tr><td>Tim</td><td>Kim</td><td>25 Danger Street West</td><td>Floor 7</td><td>Main Office</td></tr><tr><td>Josh</td><td>Barnhill</td><td>25 First Canadian Place</td><td>NULL</td><td>Main Office</td></tr><tr><td>Ajay</td><td>Manchepalli</td><td>25 Hartfield Road, Wimbledon</td><td>NULL</td><td>Main Office</td></tr><tr><td>Yao-Qiang</td><td>Cheng</td><td>25 N State St</td><td>NULL</td><td>Main Office</td></tr><tr><td>Stephen</td><td>Mew</td><td>250 Kingsbridge Garden Circle</td><td>NULL</td><td>Main Office</td></tr><tr><td>Vanessa</td><td>Tench</td><td>2500 N Serene Blvd</td><td>19th Floor</td><td>Main Office</td></tr><tr><td>Randall</td><td>Boseman</td><td>2500 North Stemmons Freeway</td><td>NULL</td><td>Main Office</td></tr><tr><td>Robin</td><td>McGuigan</td><td>2500 University Avenue</td><td>NULL</td><td>Main Office</td></tr><tr><td>Jo</td><td>Brown</td><td>250000 Eight Mile Road</td><td>NULL</td><td>Main Office</td></tr><tr><td>Erin</td><td>Hagens</td><td>25001 Montague Expressway</td><td>NULL</td><td>Main Office</td></tr><tr><td>Shaun</td><td>Beasley</td><td>2500-622 5th Ave Sw</td><td>NULL</td><td>Main Office</td></tr><tr><td>Karren</td><td>Burkhardt</td><td>2502 Evergreen Ste E</td><td>NULL</td><td>Main Office</td></tr><tr><td>Ryan</td><td>Ihrig</td><td>250333 Southport Road, S.W.</td><td>NULL</td><td>Main Office</td></tr><tr><td>Linda</td><td>Burnett</td><td>2505 Gateway Drive</td><td>NULL</td><td>Main Office</td></tr><tr><td>Gabriele</td><td>Dickmann</td><td>250551 Shellbridge Way</td><td>NULL</td><td>Main Office</td></tr><tr><td>Henry</td><td>Campen</td><td>2507 Pacific Ave S</td><td>NULL</td><td>Main Office</td></tr><tr><td>Ronald</td><td>Heymsfield</td><td>250775 SW Hillsdale Hwy</td><td>NULL</td><td>Main Office</td></tr><tr><td>Robert</td><td>Brown</td><td>250880 Baur Blvd</td><td>NULL</td><td>Main Office</td></tr><tr><td>Marjorie</td><td>Lee</td><td>2509 W. Frankford</td><td>NULL</td><td>Main Office</td></tr><tr><td>Imtiaz</td><td>Khan</td><td>25095 W. Florissant</td><td>NULL</td><td>Main Office</td></tr><tr><td>Dirk</td><td>Bruno</td><td>251 Indell Lane</td><td>NULL</td><td>Main Office</td></tr><tr><td>Andrea</td><td>Thomsen</td><td>251 The Metro Center</td><td>NULL</td><td>Main Office</td></tr><tr><td>Bronson</td><td>Jacobs</td><td>2510 Crew Court</td><td>NULL</td><td>Main Office</td></tr><tr><td>Judy</td><td>Thames</td><td>25102 Springwater</td><td>NULL</td><td>Main Office</td></tr><tr><td>Joseph</td><td>Castellucio</td><td>2511 Baker Road</td><td>NULL</td><td>Main Office</td></tr><tr><td>Virginia</td><td>Miller</td><td>25111 228th St Sw</td><td>NULL</td><td>Main Office</td></tr><tr><td>Mark</td><td>Lee</td><td>2512-410th Avenue S.W.</td><td>NULL</td><td>Main Office</td></tr><tr><td>David</td><td>Lawrence</td><td>2512-4th Ave Sw</td><td>NULL</td><td>Main Office</td></tr><tr><td>Vassar</td><td>Stern</td><td>25130 South State Street</td><td>NULL</td><td>Main Office</td></tr><tr><td>Frank</td><td>Campbell</td><td>251340 E. South St.</td><td>NULL</td><td>Main Office</td></tr><tr><td>Walter</td><td>Brian</td><td>25136 Jefferson Blvd.</td><td>NULL</td><td>Main Office</td></tr><tr><td>Marcia</td><td>Sultan</td><td>251420a 170th Street</td><td>NULL</td><td>Main Office</td></tr><tr><td>Judy</td><td>Lundahl</td><td>25149 Howard Dr</td><td>NULL</td><td>Main Office</td></tr><tr><td>Christian</td><td>Kleinerman</td><td>25150 El Camino Real</td><td>NULL</td><td>Main Office</td></tr><tr><td>Kara</td><td>Vanderlinden</td><td>2520 Flanders Road</td><td>NULL</td><td>Main Office</td></tr><tr><td>Kirk</td><td>King</td><td>2521 McPherson Street</td><td>NULL</td><td>Main Office</td></tr><tr><td>Carol</td><td>Elliott</td><td>25220 Airline Road</td><td>NULL</td><td>Main Office</td></tr><tr><td>Mari</td><td>Caldwell</td><td>2524 Barlby Road</td><td>NULL</td><td>Main Office</td></tr><tr><td>Pat</td><td>Coleman</td><td>25245 Rue Sherbrooke Ouest</td><td>NULL</td><td>Main Office</td></tr><tr><td>Mike</td><td>Hines</td><td>25250 N 90th St</td><td>NULL</td><td>Main Office</td></tr><tr><td>Connie</td><td>Coffman</td><td>25269 Wood Dale Rd.</td><td>NULL</td><td>Main Office</td></tr><tr><td>Andrew</td><td>Kobylinski</td><td>2526a Tri-Lake Blvd Ne</td><td>NULL</td><td>Main Office</td></tr><tr><td>Neva</td><td>Mitchell</td><td>2528 Meridian E</td><td>NULL</td><td>Main Office</td></tr><tr><td>Amy</td><td>Alberts</td><td>252851 Rowan Place</td><td>NULL</td><td>Main Office</td></tr><tr><td>Barry</td><td>Johnson</td><td>2530 South Colorado Blvd.</td><td>NULL</td><td>Main Office</td></tr><tr><td>Eric</td><td>Lang</td><td>25300 Biddle Road</td><td>NULL</td><td>Main Office</td></tr><tr><td>Barbara</td><td>Calone</td><td>25306 Harvey Rd.</td><td>NULL</td><td>Main Office</td></tr><tr><td>Kari</td><td>Hensien</td><td>253131 Lake Frasier Drive, Office No. 2</td><td>NULL</td><td>Main Office</td></tr><tr><td>Stephen</td><td>Ayers</td><td>2533 Eureka Rd.</td><td>NULL</td><td>Main Office</td></tr><tr><td>Alexander</td><td>Berger</td><td>253711 Mayfield Place, Unit 150</td><td>NULL</td><td>Main Office</td></tr><tr><td>Laura</td><td>Steele</td><td>253731 West Bell Road</td><td>NULL</td><td>Main Office</td></tr><tr><td>Jovita</td><td>Carmody</td><td>253950 N.E. 178th Place</td><td>NULL</td><td>Main Office</td></tr><tr><td>Cecil</td><td>Allison</td><td>254 Colonnade Road</td><td>NULL</td><td>Main Office</td></tr><tr><td>Eva</td><td>Corets</td><td>2540 Dell Range Blvd</td><td>NULL</td><td>Main Office</td></tr><tr><td>Ryan</td><td>Calafato</td><td>254480 River Rd</td><td>NULL</td><td>Main Office</td></tr><tr><td>Steve</td><td>Masters</td><td>2545 King Street West</td><td>NULL</td><td>Main Office</td></tr><tr><td>Donald</td><td>Thompson</td><td>25472 Marlay Ave</td><td>NULL</td><td>Main Office</td></tr><tr><td>Deepak</td><td>Kumar</td><td>255 Irving Street</td><td>NULL</td><td>Main Office</td></tr><tr><td>Kevin</td><td>Kennedy</td><td>2550 Ne Sandy Blvd</td><td>NULL</td><td>Main Office</td></tr><tr><td>Jane</td><td>Greer</td><td>2550 Signet Drive</td><td>NULL</td><td>Main Office</td></tr><tr><td>Sunil</td><td>Uppal</td><td>25500 Old Spanish Trail</td><td>NULL</td><td>Main Office</td></tr><tr><td>Sean</td><td>Jacobson</td><td>2551 East Warner Road</td><td>NULL</td><td>Main Office</td></tr><tr><td>Ann</td><td>Beebe</td><td>25537 Hillside Avenue</td><td>NULL</td><td>Main Office</td></tr><tr><td>Scott</td><td>Colvin</td><td>25550 Executive Dr</td><td>NULL</td><td>Main Office</td></tr><tr><td>Della</td><td>Demott Jr</td><td>25575 The Queensway</td><td>NULL</td><td>Main Office</td></tr><tr><td>William</td><td>Conner</td><td>2560 Bay Street</td><td>NULL</td><td>Main Office</td></tr><tr><td>Brenda</td><td>Diaz</td><td>2560 E. Newlands Dr</td><td>NULL</td><td>Main Office</td></tr><tr><td>Bonnie</td><td>Lepro</td><td>25600 E St Andrews Pl</td><td>NULL</td><td>Main Office</td></tr><tr><td>Maciej</td><td>Dusza</td><td>2564 S. Redwood Rd.</td><td>NULL</td><td>Main Office</td></tr><tr><td>Michael</td><td>Lee</td><td>25718 Se Sunnyside Rd</td><td>NULL</td><td>Main Office</td></tr><tr><td>Jauna</td><td>Elson</td><td>2573 Dufferin Street</td><td>NULL</td><td>Main Office</td></tr><tr><td>Irene</td><td>Hernandez</td><td>25730, boul. St-Régis</td><td>NULL</td><td>Main Office</td></tr><tr><td>Arlene</td><td>Huff</td><td>2574 Milton Park</td><td>NULL</td><td>Main Office</td></tr><tr><td>Jackie</td><td>Blackwell</td><td>2575 Bloor Street East</td><td>NULL</td><td>Main Office</td></tr><tr><td>Anton</td><td>Kirilov</td><td>2575 Rocky Mountain Ave.</td><td>NULL</td><td>Main Office</td></tr><tr><td>Elsa</td><td>Leavitt</td><td>2575 West 2700 South</td><td>NULL</td><td>Main Office</td></tr><tr><td>Joseph</td><td>Lique</td><td>257700 Ne 76th Street</td><td>NULL</td><td>Main Office</td></tr><tr><td>Sandra</td><td>Kitt</td><td>258 King Street East</td><td>NULL</td><td>Main Office</td></tr><tr><td>Joy</td><td>Koski</td><td>258101 Nw Evergreen Parkway</td><td>NULL</td><td>Main Office</td></tr><tr><td>Scott</td><td>Gode</td><td>2583 Se 272nd St</td><td>NULL</td><td>Main Office</td></tr><tr><td>Gytis</td><td>Barzdukas</td><td>25900-700-9th Ave S.W.</td><td>NULL</td><td>Main Office</td></tr><tr><td>Robert</td><td>Bernacchi</td><td>25915 140th Ave Ne</td><td>NULL</td><td>Main Office</td></tr><tr><td>Gregory</td><td>Alderson</td><td>25981 College Street</td><td>NULL</td><td>Main Office</td></tr><tr><td>Jean</td><td>Handley</td><td>259826 Russell Rd. South</td><td>NULL</td><td>Main Office</td></tr><tr><td>Robert</td><td>Bernacchi</td><td>2681 Eagle Peak</td><td>NULL</td><td>Shipping</td></tr><tr><td>Gregory</td><td>Alderson</td><td>26910 Indela Road</td><td>NULL</td><td>Shipping</td></tr><tr><td>Victor</td><td>Kelley</td><td>2900 - 25055 Dunning Street</td><td>NULL</td><td>Main Office</td></tr><tr><td>Pat</td><td>Chambers</td><td>30025 Wayburne Drive, Suite 275</td><td>NULL</td><td>Main Office</td></tr><tr><td>Chris</td><td>Maxwell</td><td>3025 E Waterway Blvd</td><td>NULL</td><td>Main Office</td></tr><tr><td>Jimmy</td><td>Bischoff</td><td>3065 Santa Margarita Parkway</td><td>NULL</td><td>Main Office</td></tr><tr><td>Joe</td><td>Kim</td><td>308-3250 Casting Road</td><td>NULL</td><td>Main Office</td></tr><tr><td>Keith</td><td>Harris</td><td>3207 S Grady Way</td><td>NULL</td><td>Main Office</td></tr><tr><td>Garth</td><td>Fort</td><td>3250 Baldwin Park Blvd</td><td>NULL</td><td>Main Office</td></tr><tr><td>Carolyn</td><td>Farino</td><td>3250 South Meridian</td><td>NULL</td><td>Main Office</td></tr><tr><td>Vamsi</td><td>Kuppa</td><td>3255 Front Street West</td><td>NULL</td><td>Main Office</td></tr><tr><td>Jésus</td><td>Hernandez</td><td>32605 West 252 Mile Road, Suite 250</td><td>NULL</td><td>Main Office</td></tr><tr><td>Jared</td><td>Bustamante</td><td>3307 Evergreen Blvd</td><td>Ste 1071</td><td>Main Office</td></tr><tr><td>George</td><td>Huckaby</td><td>3390 South 23rd St.</td><td>NULL</td><td>Main Office</td></tr><tr><td>Jim</td><td>Geist</td><td>35525-9th Street Sw</td><td>NULL</td><td>Main Office</td></tr><tr><td>Jon</td><td>Ganio</td><td>3900 S. 997th St.</td><td>NULL</td><td>Main Office</td></tr><tr><td>Janice</td><td>Hows</td><td>399 Clearing Green</td><td>NULL</td><td>Main Office</td></tr><tr><td>Rosmarie</td><td>Carroll</td><td>39933 Mission Oaks Blvd</td><td>NULL</td><td>Main Office</td></tr><tr><td>Grant</td><td>Culbertson</td><td>399700 John R. Rd.</td><td>NULL</td><td>Main Office</td></tr><tr><td>Carlton</td><td>Carlisle</td><td>400-25155 West Pender St</td><td>NULL</td><td>Main Office</td></tr><tr><td>Patricia</td><td>Vasquez</td><td>409 S. Main Ste. 25</td><td>NULL</td><td>Main Office</td></tr><tr><td>Jane</td><td>McCarty</td><td>409 Santa Monica Blvd.</td><td>NULL</td><td>Main Office</td></tr><tr><td>Alice</td><td>Clark</td><td>42500 W 76th St</td><td>NULL</td><td>Main Office</td></tr><tr><td>Richard</td><td>Bready</td><td>4251 First Avenue</td><td>NULL</td><td>Main Office</td></tr><tr><td>Alan</td><td>Brewer</td><td>4255 East Lies Road</td><td>NULL</td><td>Main Office</td></tr><tr><td>Bob</td><td>Gage</td><td>43251 Viking Way, Unit 130</td><td>NULL</td><td>Main Office</td></tr><tr><td>Jean</td><td>Jordan</td><td>440 West Huntington Dr.</td><td>NULL</td><td>Main Office</td></tr><tr><td>Diane</td><td>Glimp</td><td>4400 March Road</td><td>NULL</td><td>Main Office</td></tr><tr><td>Gail</td><td>Erickson</td><td>44025 W. Empire</td><td>NULL</td><td>Main Office</td></tr><tr><td>Timothy</td><td>Burnett</td><td>45259 Canada Way</td><td>NULL</td><td>Main Office</td></tr><tr><td>Ranjit</td><td>Varkey Chudukatil</td><td>455 256th St.</td><td>NULL</td><td>Main Office</td></tr><tr><td>Gerald</td><td>Drury</td><td>4635 S. Harrison Blvd.</td><td>NULL</td><td>Main Office</td></tr><tr><td>Nancy</td><td>McPhearson</td><td>46-44 Albemarle Street</td><td>NULL</td><td>Main Office</td></tr><tr><td>Diane</td><td>Krane</td><td>46460 West Oaks Drive</td><td>NULL</td><td>Main Office</td></tr><tr><td>Pei</td><td>Chow</td><td>4660 Rodeo Road</td><td>NULL</td><td>Main Office</td></tr><tr><td>Ruby Sue</td><td>Styles</td><td>46990 Viking Way</td><td>NULL</td><td>Main Office</td></tr><tr><td>Shirley</td><td>Bruner</td><td>4781 Highway 95</td><td>NULL</td><td>Main Office</td></tr><tr><td>Lucy</td><td>Harrington</td><td>482505 Warm Springs Blvd.</td><td>NULL</td><td>Main Office</td></tr><tr><td>Wayne</td><td>Banack</td><td>48255 I-10 E. @ Eastpoint Blvd.</td><td>NULL</td><td>Main Office</td></tr><tr><td>Megan</td><td>Davis</td><td>48995 Evergreen Wy.</td><td>NULL</td><td>Main Office</td></tr><tr><td>Roger</td><td>Lengel</td><td>490 Ne 4th St</td><td>NULL</td><td>Main Office</td></tr><tr><td>Erik</td><td>Ismert</td><td>4927 S Meridian Ave Ste D</td><td>NULL</td><td>Main Office</td></tr><tr><td>Geri</td><td>Farrell</td><td>49925 Crestview Drive N.E.</td><td>NULL</td><td>Main Office</td></tr><tr><td>Shanay</td><td>Steelman</td><td>5 place Ville-Marie</td><td>NULL</td><td>Main Office</td></tr><tr><td>Darren</td><td>Gehring</td><td>509 Nafta Boulevard</td><td>NULL</td><td>Main Office</td></tr><tr><td>Scott</td><td>Konersmann</td><td>52500 Liberty Way</td><td>NULL</td><td>Main Office</td></tr><tr><td>Katherine</td><td>Harding</td><td>52560 Free Street</td><td>NULL</td><td>Main Office</td></tr><tr><td>Dominic</td><td>Gash</td><td>5420 West 22500 South</td><td>NULL</td><td>Main Office</td></tr><tr><td>Jill</td><td>Christie</td><td>54254 Pacific Ave.</td><td>NULL</td><td>Main Office</td></tr><tr><td>Hattie</td><td>Haemon</td><td>55 Lakeshore Blvd East</td><td>NULL</td><td>Main Office</td></tr><tr><td>Glenn</td><td>Track</td><td>55 Standish Court</td><td>NULL</td><td>Main Office</td></tr><tr><td>Steven</td><td>Brown</td><td>5500 Grossmont Center Drive</td><td>NULL</td><td>Main Office</td></tr><tr><td>Mary</td><td>Gimmi</td><td>5525 South Hover Road</td><td>NULL</td><td>Main Office</td></tr><tr><td>Andrew</td><td>Cencini</td><td>558 S 6th St</td><td>NULL</td><td>Main Office</td></tr><tr><td>Andy</td><td>Carothers</td><td>566 S. Main</td><td>NULL</td><td>Main Office</td></tr><tr><td>Stanley</td><td>Alan</td><td>567 Sw Mcloughlin Blvd</td><td>NULL</td><td>Main Office</td></tr><tr><td>John</td><td>Berger</td><td>5700 Explorer Drive</td><td>NULL</td><td>Main Office</td></tr><tr><td>A.</td><td>Leonetti</td><td>5700 Legacy Dr</td><td>NULL</td><td>Main Office</td></tr><tr><td>Catherine</td><td>Abel</td><td>57251 Serene Blvd</td><td>NULL</td><td>Main Office</td></tr><tr><td>Todd</td><td>Logan</td><td>575 Rue St Amable</td><td>NULL</td><td>Main Office</td></tr><tr><td>Denean</td><td>Ison</td><td>586 Fulham Road,</td><td>NULL</td><td>Main Office</td></tr><tr><td>Michael</td><td>Sullivan</td><td>5867 Sunrise Boulevard</td><td>NULL</td><td>Main Office</td></tr><tr><td>Rudolph</td><td>Dillon</td><td>595 Burning Street</td><td>NULL</td><td>Main Office</td></tr><tr><td>Jane</td><td>Carmichael</td><td>5967 W Las Positas Blvd</td><td>NULL</td><td>Main Office</td></tr><tr><td>Kelly</td><td>Focht</td><td>5990 Avebury Road</td><td>NULL</td><td>Main Office</td></tr><tr><td>Thomas</td><td>Michaels</td><td>5th Floor, 79 Place D'armes</td><td>NULL</td><td>Main Office</td></tr><tr><td>Janeth</td><td>Esteves</td><td>6 The Farm, Liberty Road</td><td>NULL</td><td>Main Office</td></tr><tr><td>Esther</td><td>Valle</td><td>600 Boul. Rene-levesque Ouest</td><td>NULL</td><td>Main Office</td></tr><tr><td>Eric</td><td>Brumfield</td><td>600 Slater Street</td><td>NULL</td><td>Main Office</td></tr><tr><td>Kerim</td><td>Hanif</td><td>60025 Bollinger Canyon Road</td><td>NULL</td><td>Main Office</td></tr><tr><td>Melissa</td><td>Marple</td><td>603 Gellert Blvd</td><td>NULL</td><td>Main Office</td></tr><tr><td>Rhoda</td><td>Finley</td><td>6030 Conroy Road</td><td>NULL</td><td>Main Office</td></tr><tr><td>Jodan</td><td>Jacobson</td><td>6030 Robinson Road</td><td>NULL</td><td>Main Office</td></tr><tr><td>Robert</td><td>Lyon</td><td>609 Evans Avenue</td><td>NULL</td><td>Main Office</td></tr><tr><td>Brian</td><td>Johnson</td><td>625 W Jackson Blvd. Unit 2502</td><td>NULL</td><td>Main Office</td></tr><tr><td>Margaret</td><td>Vanderkamp</td><td>62500 Neil Road</td><td>NULL</td><td>Main Office</td></tr><tr><td>Robert</td><td>Lyeba</td><td>63 Free St.</td><td>NULL</td><td>Main Office</td></tr><tr><td>Peter</td><td>Kurniawan</td><td>63 W Monroe</td><td>NULL</td><td>Main Office</td></tr><tr><td>Eli</td><td>Bowen</td><td>63 West Beaver Creek</td><td>NULL</td><td>Main Office</td></tr><tr><td>Sandeep</td><td>Kaliyath</td><td>630 N. Capitol Ave.</td><td>NULL</td><td>Main Office</td></tr><tr><td>Linda</td><td>Leste</td><td>630 University Avenue</td><td>NULL</td><td>Main Office</td></tr><tr><td>Anita</td><td>Lucerne</td><td>6333 Cote Vertu</td><td>NULL</td><td>Main Office</td></tr><tr><td>Kathleen</td><td>Garza</td><td>6388 Lake City Way</td><td>NULL</td><td>Main Office</td></tr><tr><td>Betty</td><td>Haines</td><td>640 South 994th St. W.</td><td>NULL</td><td>Main Office</td></tr><tr><td>Elizabeth</td><td>Keyser</td><td>6400, 888 - 3rd Avenue</td><td>NULL</td><td>Main Office</td></tr><tr><td>Robert</td><td>Kelly</td><td>6425 Nw Loop 410</td><td>NULL</td><td>Main Office</td></tr><tr><td>Vance</td><td>Johns</td><td>65 Gamelin Street</td><td>NULL</td><td>Main Office</td></tr><tr><td>Robert</td><td>Ahlering</td><td>6500 East Grant Road</td><td>NULL</td><td>Main Office</td></tr><tr><td>Derek</td><td>Graham</td><td>655-4th Ave S.W.</td><td>NULL</td><td>Main Office</td></tr><tr><td>Caroline</td><td>Vicknair</td><td>660 Lindbergh</td><td>NULL</td><td>Main Office</td></tr><tr><td>James</td><td>Haugh</td><td>660 Saint-Jacques, Bureau 400</td><td>NULL</td><td>Main Office</td></tr><tr><td>Gabriel</td><td>Bockenkamp</td><td>67 Rainer Ave S</td><td>NULL</td><td>Main Office</td></tr><tr><td>Martha</td><td>Espinoza</td><td>6700 Boul Taschereau</td><td>NULL</td><td>Main Office</td></tr><tr><td>Linda</td><td>Ecoffey</td><td>67255 - 8th Street N.E., Suite 350</td><td>NULL</td><td>Main Office</td></tr><tr><td>Lawrence</td><td>Hurkett</td><td>6753 Howard Hughes Parkway</td><td>NULL</td><td>Main Office</td></tr><tr><td>Eugene</td><td>Kogan</td><td>6756 Mowry</td><td>NULL</td><td>Main Office</td></tr><tr><td>Alexander</td><td>Deborde</td><td>6777 Kingsway</td><td>NULL</td><td>Main Office</td></tr><tr><td>June</td><td>Brunner</td><td>678 Eastman Ave.</td><td>NULL</td><td>Main Office</td></tr><tr><td>Robert</td><td>Barker</td><td>6789 Warren Road</td><td>NULL</td><td>Main Office</td></tr><tr><td>Frances</td><td>Adams</td><td>6900 Sisk Road</td><td>NULL</td><td>Main Office</td></tr><tr><td>Susan</td><td>French</td><td>69251 Creditview Road</td><td>NULL</td><td>Main Office</td></tr><tr><td>Julie</td><td>Taft-Rider</td><td>6996 South Lindbergh</td><td>NULL</td><td>Main Office</td></tr><tr><td>Curtis</td><td>Howard</td><td>6th Floor, 25st Canadian Place</td><td>NULL</td><td>Main Office</td></tr><tr><td>Rose</td><td>Vandenouer</td><td>7 Garden House Cloisters, 8 Batters</td><td>NULL</td><td>Main Office</td></tr><tr><td>Chris</td><td>Ashton</td><td>70 N.W. Plaza</td><td>NULL</td><td>Main Office</td></tr><tr><td>Robert</td><td>Avalos</td><td>700 Bureau Road</td><td>NULL</td><td>Main Office</td></tr><tr><td>Wathalee</td><td>Steuber</td><td>700 Se Sunnyside Road</td><td>NULL</td><td>Main Office</td></tr><tr><td>Andrew</td><td>Hill</td><td>7000 Victoria Park Avenue</td><td>NULL</td><td>Main Office</td></tr><tr><td>Bev</td><td>Desalvo</td><td>7009 Sw Hall Blvd.</td><td>NULL</td><td>Main Office</td></tr><tr><td>Douglas</td><td>Groncki</td><td>70259 West Sunnyview Ave</td><td>NULL</td><td>Main Office</td></tr><tr><td>Kathie</td><td>Flood</td><td>705 SE Mall Parkway</td><td>NULL</td><td>Main Office</td></tr><tr><td>Luis</td><td>Bonifaz</td><td>72502 Eastern Ave.</td><td>NULL</td><td>Main Office</td></tr><tr><td>Robert</td><td>Vessa</td><td>72540 Blanco Rd.</td><td>NULL</td><td>Main Office</td></tr><tr><td>Gary</td><td>Suess</td><td>725a The Arches</td><td>NULL</td><td>Main Office</td></tr><tr><td>Sharon</td><td>Looney</td><td>74400 France Avenue South</td><td>NULL</td><td>Main Office</td></tr><tr><td>Scott</td><td>Culp</td><td>750 Lakeway Dr</td><td>NULL</td><td>Main Office</td></tr><tr><td>Mike</td><td>Taylor</td><td>750 Philip Street</td><td>NULL</td><td>Main Office</td></tr><tr><td>Helen</td><td>Meyer</td><td>7505 Laguna Boulevard</td><td>NULL</td><td>Main Office</td></tr><tr><td>Delia</td><td>Toone</td><td>755 Columbia Ctr Blvd</td><td>NULL</td><td>Main Office</td></tr><tr><td>Daniel</td><td>Thompson</td><td>755 Nw Grandstand</td><td>NULL</td><td>Main Office</td></tr><tr><td>Karan</td><td>Khanna</td><td>755 W Washington Ave Ste D</td><td>NULL</td><td>Main Office</td></tr><tr><td>Sandeep</td><td>Katyal</td><td>765 Delridge Way Sw</td><td>NULL</td><td>Main Office</td></tr><tr><td>John</td><td>Colon</td><td>77 Beale Street</td><td>Room 99767c</td><td>Main Office</td></tr><tr><td>Lester</td><td>Bowman</td><td>770 Notre Datme Quest Bureau 800</td><td>NULL</td><td>Main Office</td></tr><tr><td>John</td><td>Evans</td><td>7709 West Virginia Avenue</td><td>NULL</td><td>Main Office</td></tr><tr><td>Liza Marie</td><td>Stevens</td><td>7750 E Marching Rd</td><td>NULL</td><td>Main Office</td></tr><tr><td>Ruth</td><td>Choin</td><td>7760 N. Pan Am Expwy</td><td>NULL</td><td>Main Office</td></tr><tr><td>Cornelius</td><td>Brandon</td><td>789 West Alameda</td><td>NULL</td><td>Main Office</td></tr><tr><td>Keith</td><td>Harris</td><td>7943 Walnut Ave</td><td>NULL</td><td>Shipping</td></tr><tr><td>David</td><td>Johnson</td><td>7990 Ocean Beach Hwy.</td><td>NULL</td><td>Main Office</td></tr><tr><td>Janet</td><td>Gates</td><td>800 Interchange Blvd.</td><td>Suite 2501</td><td>Main Office</td></tr><tr><td>John</td><td>Hanson</td><td>825 W 500 S</td><td>NULL</td><td>Main Office</td></tr><tr><td>Diane</td><td>Tibbott</td><td>8525 South Parker Road</td><td>NULL</td><td>Main Office</td></tr><tr><td>David</td><td>Liu</td><td>855 East Main Avenue</td><td>NULL</td><td>Main Office</td></tr><tr><td>Frank</td><td>Mart¡nez</td><td>870 N. 54th Ave.</td><td>NULL</td><td>Main Office</td></tr><tr><td>Virginia</td><td>Miller</td><td>8713 Yosemite Ct.</td><td>NULL</td><td>Shipping</td></tr><tr><td>Jinghao</td><td>Liu</td><td>90025 Sterling St</td><td>NULL</td><td>Main Office</td></tr><tr><td>George</td><td>Li</td><td>910 Main Street.</td><td>NULL</td><td>Main Office</td></tr><tr><td>Paulo</td><td>Lisboa</td><td>9178 Jumping St.</td><td>NULL</td><td>Shipping</td></tr><tr><td>Kay</td><td>Krane</td><td>9228 Via Del Sol</td><td>NULL</td><td>Shipping</td></tr><tr><td>Beth</td><td>Inghram</td><td>9259 - 1110th Avenue Sw</td><td>NULL</td><td>Main Office</td></tr><tr><td>Christopher</td><td>Beck</td><td>93-2501, Blackfriars Road,</td><td>NULL</td><td>Main Office</td></tr><tr><td>Gregory</td><td>Vanderbout</td><td>950 Gateway Street</td><td>NULL</td><td>Main Office</td></tr><tr><td>Chad</td><td>Tedford</td><td>9500b E. Central Texas Expressway</td><td>NULL</td><td>Main Office</td></tr><tr><td>Joyce</td><td>Jarvis</td><td>955 E. County Line Rd.</td><td>NULL</td><td>Main Office</td></tr><tr><td>Danielle</td><td>Johnson</td><td>955 Green Valley Crescent</td><td>NULL</td><td>Main Office</td></tr><tr><td>Brian</td><td>Goldstein</td><td>965 De La Gauchetiere West</td><td>NULL</td><td>Main Office</td></tr><tr><td>Lori</td><td>Kane</td><td>9693 Louis H Lafontaine</td><td>NULL</td><td>Main Office</td></tr><tr><td>Michael</td><td>Graff</td><td>9700 Sisk Road</td><td>NULL</td><td>Main Office</td></tr><tr><td>Katherine</td><td>Swan</td><td>975 Princess Street</td><td>NULL</td><td>Main Office</td></tr><tr><td>Tomas</td><td>Manzanares</td><td>99 Dean Street, Soho</td><td>NULL</td><td>Main Office</td></tr><tr><td>Phyllis</td><td>Huntsman</td><td>99 Front Street</td><td>NULL</td><td>Shipping</td></tr><tr><td>Phyllis</td><td>Thomas</td><td>99, Rue Saint-pierre</td><td>NULL</td><td>Main Office</td></tr><tr><td>Stephen</td><td>Jiang</td><td>9900 Ronson Drive</td><td>NULL</td><td>Main Office</td></tr><tr><td>Blaine</td><td>Dockter</td><td>99000 S. Avalon Blvd. Suite 750</td><td>NULL</td><td>Main Office</td></tr><tr><td>James</td><td>McCoy</td><td>9900-6400 Boul, Taschereau</td><td>NULL</td><td>Main Office</td></tr><tr><td>Michael</td><td>Blythe</td><td>9903 Highway 6 South</td><td>NULL</td><td>Main Office</td></tr><tr><td>Raul</td><td>Casts</td><td>99040 California Avenue</td><td>NULL</td><td>Main Office</td></tr><tr><td>Kathy</td><td>Marcovecchio</td><td>9905 Three Rivers Drive</td><td>NULL</td><td>Main Office</td></tr><tr><td>Jeanie</td><td>Glenn</td><td>9909 W. Ventura Boulevard</td><td>NULL</td><td>Main Office</td></tr><tr><td>Brenda</td><td>Heaney</td><td>990th Floor 700 De La GauchetiSre Ou</td><td>NULL</td><td>Main Office</td></tr><tr><td>Yale</td><td>Li</td><td>992 St Clair Ave East</td><td>NULL</td><td>Main Office</td></tr><tr><td>Abraham</td><td>Swearengin</td><td>9920 Bridgepointe Parkway</td><td>NULL</td><td>Main Office</td></tr><tr><td>Nicky</td><td>Chesnut</td><td>9920 North Telegraph Rd.</td><td>NULL</td><td>Main Office</td></tr><tr><td>Roger</td><td>Harui</td><td>9927 N. Main St.</td><td>NULL</td><td>Main Office</td></tr><tr><td>Bart</td><td>Duncan</td><td>99295 S.e. Tualatin Valley_hwy.</td><td>NULL</td><td>Main Office</td></tr><tr><td>John</td><td>Brooks</td><td>99-3 Forest Works</td><td>NULL</td><td>Main Office</td></tr><tr><td>John</td><td>Beaver</td><td>99300 223rd Southeast</td><td>NULL</td><td>Main Office</td></tr><tr><td>Cindy</td><td>Dodd</td><td>994 Sw Cherry Park Rd</td><td>NULL</td><td>Main Office</td></tr><tr><td>Lee</td><td>Chapla</td><td>99433 S. Greenbay Rd.</td><td>NULL</td><td>Main Office</td></tr><tr><td>Abigail</td><td>Gonzalez</td><td>99450 Highway 59 North</td><td>NULL</td><td>Main Office</td></tr><tr><td>Janaina Barreiro Gambaro</td><td>Bueno</td><td>995 Crescent</td><td>NULL</td><td>Main Office</td></tr><tr><td>Reuben</td><td>D'sa</td><td>9950 Ferrand Drive, 9th Floor</td><td>NULL</td><td>Main Office</td></tr><tr><td>Sandra</td><td>Maynard</td><td>9952 E. Lohman Ave.</td><td>NULL</td><td>Main Office</td></tr><tr><td>Phyllis</td><td>Tuffield</td><td>9960 King Street E.</td><td>NULL</td><td>Main Office</td></tr><tr><td>David</td><td>Hodgson</td><td>99700 Bell Road</td><td>NULL</td><td>Main Office</td></tr><tr><td>Payton</td><td>Benson</td><td>997000 Telegraph Rd.</td><td>NULL</td><td>Main Office</td></tr><tr><td>Frances</td><td>Giglio</td><td>9979 Bayview Drive</td><td>NULL</td><td>Main Office</td></tr><tr><td>Stefano</td><td>Stefani</td><td>997b Tradescant Road</td><td>NULL</td><td>Main Office</td></tr><tr><td>Ramona</td><td>Antrim</td><td>998 Forest Road</td><td>NULL</td><td>Main Office</td></tr><tr><td>Kayla</td><td>Stotler</td><td>9980 S Alma School Road</td><td>NULL</td><td>Main Office</td></tr><tr><td>Marlin</td><td>Coriell</td><td>99800 Tittabawasee Rd.</td><td>NULL</td><td>Main Office</td></tr><tr><td>Richard</td><td>Irwin</td><td>99828 Routh Street, Suite 825</td><td>NULL</td><td>Main Office</td></tr><tr><td>Cecelia</td><td>Marshall</td><td>9984 Wellington Street</td><td>NULL</td><td>Main Office</td></tr><tr><td>Jim</td><td>Stewart</td><td>999 West Georgia St.</td><td>NULL</td><td>Main Office</td></tr><tr><td>Kevin</td><td>Liu</td><td>9992 Whipple Rd</td><td>NULL</td><td>Main Office</td></tr><tr><td>Janet</td><td>Gilliat</td><td>9995 West Central Entrance</td><td>NULL</td><td>Main Office</td></tr><tr><td>Billy</td><td>Trent</td><td>99954 Boul. Laurier, Local 060, Place</td><td>NULL</td><td>Main Office</td></tr><tr><td>Megan</td><td>Burke</td><td>Arcadia Crossing</td><td>NULL</td><td>Main Office</td></tr><tr><td>Brigid</td><td>Cavendish</td><td>Banbury</td><td>NULL</td><td>Main Office</td></tr><tr><td>Mihail</td><td>Frintu</td><td>Bayshore Mall</td><td>NULL</td><td>Main Office</td></tr><tr><td>Tom</td><td>Johnston</td><td>Belz Factory Outlet</td><td>NULL</td><td>Main Office</td></tr><tr><td>Ted</td><td>Bremer</td><td>Bldg. 9n/99298</td><td>NULL</td><td>Main Office</td></tr><tr><td>Jay</td><td>Adams</td><td>Blue Ridge Mall</td><td>NULL</td><td>Main Office</td></tr><tr><td>Thierry</td><td>D'Hers</td><td>Box 99354 300 Union Street</td><td>NULL</td><td>Main Office</td></tr><tr><td>Yuhong</td><td>Li</td><td>Bradford</td><td>NULL</td><td>Main Office</td></tr><tr><td>Dick</td><td>Dievendorff</td><td>Bradford</td><td>Raven House, Kingsgate</td><td>Main Office</td></tr><tr><td>Eddie</td><td>Holmes</td><td>Bureau 9900 825, Avenue Querbes</td><td>NULL</td><td>Main Office</td></tr><tr><td>Raja</td><td>Venugopal</td><td>Burgess Hill</td><td>Edward Way</td><td>Main Office</td></tr><tr><td>Jennifer</td><td>Maxham</td><td>Butterfield Hse, 7-251 Chapel St</td><td>NULL</td><td>Main Office</td></tr><tr><td>Mitch</td><td>Kennedy</td><td>C/O Starpak, Inc.</td><td>NULL</td><td>Main Office</td></tr><tr><td>Helge</td><td>Hoeing</td><td>Cedar Creek Stores</td><td>NULL</td><td>Main Office</td></tr><tr><td>Phyllis</td><td>Huntsman</td><td>City Center</td><td>NULL</td><td>Main Office</td></tr><tr><td>Cheryl</td><td>Herring</td><td>Corp Ofc Accts Payable</td><td>NULL</td><td>Main Office</td></tr><tr><td>Donald</td><td>Blanton</td><td>Corporate Office</td><td>NULL</td><td>Main Office</td></tr><tr><td>Aidan</td><td>Delaney</td><td>Corporate Office</td><td>NULL</td><td>Main Office</td></tr><tr><td>Yuping</td><td>Tian</td><td>Depot 80</td><td>NULL</td><td>Main Office</td></tr><tr><td>Cory</td><td>Booth</td><td>Eastern Beltway Center</td><td>NULL</td><td>Main Office</td></tr><tr><td>François</td><td>Ferrier</td><td>Eastridge Mall</td><td>NULL</td><td>Main Office</td></tr><tr><td>Gustavo</td><td>Camargo</td><td>Ellesfield Ave</td><td>NULL</td><td>Main Office</td></tr><tr><td>Leo</td><td>Giakoumakis</td><td>Elmhurst Road, Goring</td><td>NULL</td><td>Main Office</td></tr><tr><td>Matthias</td><td>Berndt</td><td>Escondido</td><td>NULL</td><td>Main Office</td></tr><tr><td>Jack</td><td>Creasey</td><td>Factory Merchants</td><td>NULL</td><td>Main Office</td></tr><tr><td>Derik</td><td>Stenerson</td><td>Factory Merchants</td><td>NULL</td><td>Main Office</td></tr><tr><td>Mark</td><td>Erickson</td><td>Factory Stores Of America</td><td>NULL</td><td>Main Office</td></tr><tr><td>Shannon</td><td>Elliott</td><td>Factory Stores/tucson</td><td>NULL</td><td>Main Office</td></tr><tr><td>Marvin</td><td>Allen</td><td>First Colony Mall</td><td>NULL</td><td>Main Office</td></tr><tr><td>Thomas</td><td>Armstrong</td><td>Fox Hills</td><td>NULL</td><td>Main Office</td></tr><tr><td>Nkenge</td><td>McLin</td><td>Frontier Mall</td><td>NULL</td><td>Main Office</td></tr><tr><td>Jon</td><td>Grande</td><td>Galashiels</td><td>NULL</td><td>Main Office</td></tr><tr><td>Jolie</td><td>Lenehan</td><td>Garamonde Drive, Wymbush</td><td>P.O. Box 803</td><td>Main Office</td></tr><tr><td>Pamala</td><td>Kotc</td><td>Garamonde Drive, Wymbush</td><td>PO Box 4023</td><td>Main Office</td></tr><tr><td>Brian</td><td>Groth</td><td>Gateway</td><td>NULL</td><td>Main Office</td></tr><tr><td>Margaret</td><td>Krupka</td><td>Great Northwestern</td><td>NULL</td><td>Main Office</td></tr><tr><td>Mete</td><td>Goktepe</td><td>Hanford Mall</td><td>NULL</td><td>Main Office</td></tr><tr><td>Willie</td><td>Brooks</td><td>Holiday Village Mall</td><td>NULL</td><td>Main Office</td></tr><tr><td>Yvonne</td><td>McKay</td><td>Horizon Outlet</td><td>NULL</td><td>Main Office</td></tr><tr><td>Douglas</td><td>Baldwin</td><td>Horizon Outlet Center</td><td>NULL</td><td>Main Office</td></tr><tr><td>Paul</td><td>Fulton</td><td>Horizon Outlet Center</td><td>NULL</td><td>Main Office</td></tr><tr><td>Stefan</td><td>Delmarco</td><td>Incom Sports Center</td><td>NULL</td><td>Main Office</td></tr><tr><td>Roger</td><td>Van Houten</td><td>Internet House, 3399 Science Park</td><td>NULL</td><td>Main Office</td></tr><tr><td>R. Morgan</td><td>Mendoza</td><td>Johnson Creek</td><td>NULL</td><td>Main Office</td></tr><tr><td>Valerie</td><td>Hendricks</td><td>Kansas City Factory Outlet</td><td>NULL</td><td>Main Office</td></tr><tr><td>Nieves</td><td>Vargas</td><td>Kensington Valley Shops</td><td>NULL</td><td>Main Office</td></tr><tr><td>Richard</td><td>Byham</td><td>Knaves Beech Ind.</td><td>NULL</td><td>Main Office</td></tr><tr><td>Juanita</td><td>Holman</td><td>Lake Elisnor Place</td><td>NULL</td><td>Main Office</td></tr><tr><td>Dorothy</td><td>Fox</td><td>Lakeline Mall</td><td>NULL</td><td>Main Office</td></tr><tr><td>Chris</td><td>Cannon</td><td>Lakewood Mall</td><td>NULL</td><td>Main Office</td></tr><tr><td>Ruth</td><td>Suffin</td><td>Lancaster Mall</td><td>NULL</td><td>Main Office</td></tr><tr><td>Twanna</td><td>Evans</td><td>Lewis County Mall</td><td>NULL</td><td>Main Office</td></tr><tr><td>Margaret</td><td>Smith</td><td>Lewiston Mall</td><td>NULL</td><td>Main Office</td></tr><tr><td>Michael</td><td>Vanderhyde</td><td>Lincoln Square</td><td>NULL</td><td>Main Office</td></tr><tr><td>Alice</td><td>Steiner</td><td>Lone Star Factory</td><td>NULL</td><td>Main Office</td></tr><tr><td>Jessie</td><td>Valerio</td><td>Mall Of Orange</td><td>NULL</td><td>Main Office</td></tr><tr><td>Joshua</td><td>Huff</td><td>Management Mall</td><td>NULL</td><td>Main Office</td></tr><tr><td>John</td><td>Emory</td><td>Medford</td><td>NULL</td><td>Main Office</td></tr><tr><td>Ann</td><td>Hass</td><td>Medford Outlet Center</td><td>NULL</td><td>Main Office</td></tr><tr><td>Alvaro</td><td>De Matos Miranda Filho</td><td>Mountain Square</td><td>NULL</td><td>Main Office</td></tr><tr><td>Sairaj</td><td>Uddin</td><td>Natomas Marketplace</td><td>NULL</td><td>Main Office</td></tr><tr><td>Linda</td><td>Mitchell</td><td>New Millhouse, 2583 Milton Park</td><td>NULL</td><td>Main Office</td></tr><tr><td>Raquel</td><td>Mello</td><td>No. 2000-25080 Beaver Hall Hill</td><td>NULL</td><td>Main Office</td></tr><tr><td>Shane</td><td>Kim</td><td>No. 25400 10665 Jasper Avenue</td><td>NULL</td><td>Main Office</td></tr><tr><td>Samuel</td><td>Agcaoili</td><td>No. 25800-130 King Street West</td><td>NULL</td><td>Main Office</td></tr><tr><td>Matthew</td><td>Hink</td><td>No. 60 Bellis Fair Parkway</td><td>NULL</td><td>Main Office</td></tr><tr><td>Mary</td><td>Browning</td><td>Noah Lane</td><td>NULL</td><td>Main Office</td></tr><tr><td>Matthew</td><td>Cavallari</td><td>North 93270 Newport Highway</td><td>NULL</td><td>Main Office</td></tr><tr><td>Bob</td><td>Hodges</td><td>Ohms Road</td><td>NULL</td><td>Main Office</td></tr><tr><td>Christie</td><td>Trujillo</td><td>One Dancing, Rr No. 25</td><td>Box 8033</td><td>Main Office</td></tr><tr><td>Wanda</td><td>Vernon</td><td>Ontario Mills</td><td>NULL</td><td>Main Office</td></tr><tr><td>Michael John</td><td>Troyer</td><td>Oxnard Outlet</td><td>NULL</td><td>Main Office</td></tr><tr><td>Joan</td><td>Campbell</td><td>P.O. Box 44000</td><td>NULL</td><td>Main Office</td></tr><tr><td>Elsie</td><td>Lewin</td><td>P.O. Box 6256916</td><td>NULL</td><td>Main Office</td></tr><tr><td>John</td><td>Kelly</td><td>Pacific West Outlet</td><td>NULL</td><td>Main Office</td></tr><tr><td>Krishna</td><td>Sunkammurali</td><td>Paramount House</td><td>NULL</td><td>Main Office</td></tr><tr><td>Linda</td><td>Martin</td><td>Park House-4th Floor, 2516 Park St.</td><td>NULL</td><td>Main Office</td></tr><tr><td>Dylan</td><td>Miller</td><td>Parkway Plaza</td><td>NULL</td><td>Main Office</td></tr><tr><td>Scott</td><td>Cooper</td><td>Pavillion @ Redlands</td><td>NULL</td><td>Main Office</td></tr><tr><td>Rebecca</td><td>Laszlo</td><td>Phoenix Way, Cirencester</td><td>NULL</td><td>Main Office</td></tr><tr><td>Walter</td><td>Mays</td><td>Po Box 252525</td><td>NULL</td><td>Main Office</td></tr><tr><td>Edna</td><td>Benson</td><td>Po Box 8035996</td><td>NULL</td><td>Main Office</td></tr><tr><td>Paulo</td><td>Lisboa</td><td>Po Box 8259024</td><td>NULL</td><td>Main Office</td></tr><tr><td>Jane</td><td>Clayton</td><td>Po Box 83270</td><td>NULL</td><td>Main Office</td></tr><tr><td>Denise</td><td>Maccietto</td><td>Port Huron</td><td>NULL</td><td>Main Office</td></tr><tr><td>Kay</td><td>Krane</td><td>Prime Outlets</td><td>NULL</td><td>Main Office</td></tr><tr><td>Jeffrey</td><td>Kurtz</td><td>Receiving</td><td>NULL</td><td>Main Office</td></tr><tr><td>Mae</td><td>Black</td><td>Redford Plaza</td><td>NULL</td><td>Main Office</td></tr><tr><td>Ann</td><td>Evans</td><td>Ring Plaza</td><td>NULL</td><td>Main Office</td></tr><tr><td>Anthony</td><td>Chor</td><td>Riverside</td><td>NULL</td><td>Main Office</td></tr><tr><td>Oscar</td><td>Alpuerto</td><td>Rocky Mountain Pines Outlet</td><td>NULL</td><td>Main Office</td></tr><tr><td>Lindsey</td><td>Camacho</td><td>S Sound Ctr Suite 25300</td><td>NULL</td><td>Main Office</td></tr><tr><td>Clarence</td><td>Tatman</td><td>San Diego Factory</td><td>NULL</td><td>Main Office</td></tr><tr><td>Prashanth</td><td>Desai</td><td>Sapp Road West</td><td>NULL</td><td>Main Office</td></tr><tr><td>Barbara</td><td>German</td><td>Science Park South, Birchwood</td><td>Stanford House</td><td>Main Office</td></tr><tr><td>Lucio</td><td>Iallo</td><td>Simi @ The Plaza</td><td>NULL</td><td>Main Office</td></tr><tr><td>James</td><td>Bailey</td><td>Southgate Mall</td><td>NULL</td><td>Main Office</td></tr><tr><td>Conor</td><td>Cunningham</td><td>Sports Store At Park City</td><td>NULL</td><td>Main Office</td></tr><tr><td>Robert</td><td>Stotka</td><td>Sports Stores @ Tuscola</td><td>NULL</td><td>Main Office</td></tr><tr><td>Scott</td><td>MacDonald</td><td>St. Louis Marketplace</td><td>NULL</td><td>Main Office</td></tr><tr><td>Bryan</td><td>Hamilton</td><td>Station E</td><td>NULL</td><td>Main Office</td></tr><tr><td>Gary</td><td>Vargas</td><td>Stevens Creek Shopping Center</td><td>NULL</td><td>Main Office</td></tr><tr><td>Dora</td><td>Verdad</td><td>Suite 2502 410 Albert Street</td><td>NULL</td><td>Main Office</td></tr><tr><td>Dorothy</td><td>Contreras</td><td>Suite 25800 3401 - 10810th Avenue</td><td>NULL</td><td>Main Office</td></tr><tr><td>Ben</td><td>Miller</td><td>Suite 500 995 W. 11th Avenue</td><td>NULL</td><td>Main Office</td></tr><tr><td>Daniel</td><td>Blanco</td><td>Suite 800 2530 Slater Street</td><td>NULL</td><td>Main Office</td></tr><tr><td>Maxwell</td><td>Amland</td><td>Suite 99320 255 - 510th Avenue S.W.</td><td>NULL</td><td>Main Office</td></tr><tr><td>Kim</td><td>Abercrombie</td><td>Tanger Factory</td><td>NULL</td><td>Main Office</td></tr><tr><td>Teresa</td><td>Atkinson</td><td>The Citadel Commerce Plaza</td><td>NULL</td><td>Main Office</td></tr><tr><td>Forrest</td><td>Chandler</td><td>The Quad @ WestView</td><td>NULL</td><td>Main Office</td></tr><tr><td>Brad</td><td>Sutton</td><td>Three Rivers Mall</td><td>NULL</td><td>Main Office</td></tr><tr><td>Eric</td><td>Jacobsen</td><td>Topanga Plaza</td><td>NULL</td><td>Main Office</td></tr><tr><td>Elizabeth</td><td>Sullivan</td><td>Town East Center</td><td>NULL</td><td>Main Office</td></tr><tr><td>Jean</td><td>Holloway</td><td>Unit 99a Battery Retail Pk</td><td>NULL</td><td>Main Office</td></tr><tr><td>Guy</td><td>Gilbert</td><td>Vista Marketplace</td><td>NULL</td><td>Main Office</td></tr><tr><td>David</td><td>Jaffe</td><td>Wade Road</td><td>NULL</td><td>Main Office</td></tr><tr><td>Rob</td><td>Caron</td><td>Ward Parkway Center</td><td>NULL</td><td>Main Office</td></tr><tr><td>Terry</td><td>Eminhizer</td><td>Warrington Ldc Unit 25/2</td><td>NULL</td><td>Main Office</td></tr><tr><td>Christopher</td><td>Bright</td><td>Washington Square</td><td>NULL</td><td>Main Office</td></tr><tr><td>Michael</td><td>Galos</td><td>West Park Plaza</td><td>NULL</td><td>Main Office</td></tr><tr><td>Mary</td><td>Kesslep</td><td>Wharfdale Road</td><td>NULL</td><td>Main Office</td></tr><tr><td>Paul</td><td>Alcorn</td><td>White Mountain Mall</td><td>NULL</td><td>Main Office</td></tr><tr><td>Matthew</td><td>Miller</td><td>Wymbush</td><td>NULL</td><td>Main Office</td></tr></table>"
                    },
                    "metadata": {}
                }
            ],
            "execution_count": 1
        },
        {
            "cell_type": "markdown",
            "source": [
                "**Exercício 2** Para cada Produto listar o seu nº e a sua designação, bem como o nome e a descrição do respetivo modelo"
            ],
            "metadata": {
                "azdata_cell_guid": "c228798d-62d2-477c-8a69-e387c5f6cddd"
            },
            "attachments": {}
        },
        {
            "cell_type": "code",
            "source": [
                "SELECT P.ProductNumber, P.Name, PD.Description, PM.ProductModelID\r\n",
                "FROM Product AS P\r\n",
                "JOIN ProductDescription AS PD\r\n",
                "ON P.ProductID = PD.ProductDescriptionID\r\n",
                "JOIN ProductModel AS PM \r\n",
                "ON P.ProductID = PM.ProductModelID"
            ],
            "metadata": {
                "azdata_cell_guid": "ccf08a53-d740-42b6-8d5e-aef28c6b18df",
                "tags": []
            },
            "outputs": [
                {
                    "output_type": "display_data",
                    "data": {
                        "text/html": "(0 rows affected)"
                    },
                    "metadata": {}
                },
                {
                    "output_type": "display_data",
                    "data": {
                        "text/html": "Total execution time: 00:00:00.116"
                    },
                    "metadata": {}
                },
                {
                    "output_type": "execute_result",
                    "execution_count": 10,
                    "data": {
                        "application/vnd.dataresource+json": {
                            "schema": {
                                "fields": [
                                    {
                                        "name": "ProductNumber"
                                    },
                                    {
                                        "name": "Name"
                                    },
                                    {
                                        "name": "Description"
                                    },
                                    {
                                        "name": "ProductModelID"
                                    }
                                ]
                            },
                            "data": []
                        },
                        "text/html": "<table><tr><th>ProductNumber</th><th>Name</th><th>Description</th><th>ProductModelID</th></tr></table>"
                    },
                    "metadata": {}
                }
            ],
            "execution_count": 10
        },
        {
            "cell_type": "markdown",
            "source": [
                "**Exercício 3** Listar todas as identificações e designações de Categorias de Produto, juntamente com as identificações e designações das Categorias de Nível Superior, ordenadas por identificação de Categoria de Nível SuperioR"
            ],
            "metadata": {
                "azdata_cell_guid": "21d14826-bc38-42c4-83fd-60490a964567"
            },
            "attachments": {}
        },
        {
            "cell_type": "markdown",
            "source": [
                "**Exercício 4** Crie uma tabela CustomerWOrders com os atributos CustomerID, CompanyName dos clientes sem nenhuma encomenda associada"
            ],
            "metadata": {
                "azdata_cell_guid": "1ea30a02-6556-4dfa-b350-c4ae8f1bd376"
            },
            "attachments": {}
        },
        {
            "cell_type": "markdown",
            "source": [
                "**Exercício 5** Listar os números das encomendas sem linhas associadas"
            ],
            "metadata": {
                "azdata_cell_guid": "e24a2329-dddc-4db4-9961-31ca5367bae8"
            },
            "attachments": {}
        },
        {
            "cell_type": "markdown",
            "source": [
                "**Exercício 6** Liste o código das categorias, o código dos produtos e o somatório de vendas código de categoria, código de produto"
            ],
            "metadata": {
                "azdata_cell_guid": "7d23daf0-8390-4d46-8dcb-8d025340673f"
            },
            "attachments": {}
        },
        {
            "cell_type": "markdown",
            "source": [
                "**Exercício 7** Liste o código das categorias, o código dos produtos e o somatório de vendas por: código de categoria, código de produto, (código de categoria, código de produto) e total geral, ordenados por código de categoria, código de produto"
            ],
            "metadata": {
                "azdata_cell_guid": "9fc78ec7-dcc1-4bc7-bbd0-8fdfd87dd20e"
            },
            "attachments": {}
        },
        {
            "cell_type": "markdown",
            "source": [
                "**Exercício 8** Para cada modelo de produto liste o respetivo nome, o nome de cada produto e o ranking das vendas de cada produto dentro de cada modelo, ordenado por vendas descrescente."
            ],
            "metadata": {
                "azdata_cell_guid": "5c07c270-0246-45d8-996a-19a03ef91988"
            },
            "attachments": {}
        },
        {
            "cell_type": "markdown",
            "source": [
                "**Exercício 9** Insira numa nova tabela Contacts os atributos CustomerID, FirstName, LastName, CompanyName e Phone da tabela Customer."
            ],
            "metadata": {
                "azdata_cell_guid": "b3825c23-9115-466a-a1e0-cdfda43037ea"
            },
            "attachments": {}
        },
        {
            "cell_type": "markdown",
            "source": [
                "**Exercício 10** Crie as seguintes tabelas - PG (idPG, nome) - EdicaoPG (idPG, edicao, dataInicio, dataFim) Pretende-se que: - Caso a PG seja anulada, também o sejam as suas edições - Caso se altere idPG também se alterem as suas edições Crie um índice unico sobre o atributo nome da PG Insira alguns dados nas tabelas e teste: - Alterar idpg em PG - Apagar PG Altere a tabela EdicaoPG adicionando um atributo MediaDaPG e uma constraint data Fim\\>dataInicio"
            ],
            "metadata": {
                "azdata_cell_guid": "51ecceb6-127e-4936-97ec-b1cd0be2d948"
            },
            "attachments": {}
        },
        {
            "cell_type": "code",
            "source": [
                "drop table pg\r\n",
                " \r\n",
                "delete from pg\r\n",
                "where idpg = 1\r\n",
                " \r\n",
                "select *\r\n",
                "from pg\r\n",
                " \r\n",
                "select *\r\n",
                "from EdicaoPG\r\n",
                " \r\n",
                "select *\r\n",
                "from aluno\r\n",
                " \r\n",
                "create table pg\r\n",
                "(\r\n",
                "    idpg INTEGER PRIMARY KEY,\r\n",
                "    name varchar(15)\r\n",
                ")\r\n",
                "   \r\n",
                " \r\n",
                "create table EdicaoPG\r\n",
                "(\r\n",
                "    idpg INTEGER REFERENCES PG(idpg)\r\n",
                "    ON UPDATE CASCADE \r\n",
                "    ON DELETE CASCADE,\r\n",
                "    Edicao INTEGER,\r\n",
                "    dataInicio DATE,\r\n",
                "    dataFim DATE,\r\n",
                "    PRIMARY KEY (idpg, Edicao)\r\n",
                ") \r\n",
                " \r\n",
                "CREATE INDEX PGIndex\r\n",
                "ON pg(name)\r\n",
                " \r\n",
                "insert into PG\r\n",
                "VALUEs (1, 'DS&BA')\r\n",
                " \r\n",
                "insert into PG\r\n",
                "VALUEs (2, 'IG')\r\n",
                " \r\n",
                "insert into EdicaoPG\r\n",
                "VALUEs (1, 1, '2019-09-21','2020-06-10',014.1)\r\n",
                " \r\n",
                "insert into EdicaoPG\r\n",
                "VALUEs (1, 2, '2020/09/21','2021/06/10',012.1)\r\n",
                " \r\n",
                "insert into EdicaoPG\r\n",
                "VALUEs (1, 3, '2021/09/21','2022/06/10',014.1)\r\n",
                " \r\n",
                "insert into EdicaoPG\r\n",
                "VALUEs (2, 1, '2019/09/21','2020/06/10',014.1)\r\n",
                " \r\n",
                "insert into EdicaoPG\r\n",
                "VALUEs (2, 2, '2020/09/21','2021/06/10',014.1)\r\n",
                " \r\n",
                "insert into EdicaoPG\r\n",
                "VALUEs (2, 3, '2021/09/21','2022/06/10',014.1)\r\n",
                " \r\n",
                "update PG\r\n",
                "set idpg = 3\r\n",
                "where idpg = 1\r\n",
                " \r\n",
                "delete from pg\r\n",
                "where idpg = 2\r\n",
                " \r\n",
                "alter table edicaoPG\r\n",
                "add CONSTRAINT certificar check (dataInicio < dataFim)\r\n",
                " \r\n",
                "alter table edicaoPG\r\n",
                "add MediaDaPG Decimal(3,1)"
            ],
            "metadata": {
                "azdata_cell_guid": "d30ea229-921b-4ed1-9a94-da1bc3d161ba"
            },
            "outputs": [
                {
                    "output_type": "error",
                    "evalue": "Msg 8101, Level 16, State 1, Line 36\r\nAn explicit value for the identity column in table 'PG' can only be specified when a column list is used and IDENTITY_INSERT is ON.",
                    "ename": "",
                    "traceback": []
                },
                {
                    "output_type": "display_data",
                    "data": {
                        "text/html": "Total execution time: 00:00:00.097"
                    },
                    "metadata": {}
                }
            ],
            "execution_count": 1
        },
        {
            "cell_type": "markdown",
            "source": [
                "**Exercício 11** Crie uma Indexed View que contemple CustomerID, CompanyName, AddressType, AddressLine1, AddressLine2 e City"
            ],
            "metadata": {
                "azdata_cell_guid": "5cd1cc25-1d84-47e1-8bc8-99e7b4c0729f"
            },
            "attachments": {}
        },
        {
            "cell_type": "markdown",
            "source": [
                "**Exercício 12** Crie uma View Sales que contenha para cada productid o somatório das vendas"
            ],
            "metadata": {
                "azdata_cell_guid": "9a2e388e-02a8-4d2c-9ffc-d73f0ab6b5d7"
            },
            "attachments": {}
        },
        {
            "cell_type": "code",
            "source": [
                "CREATE VIEW Sales5 AS\r\n",
                "SELECT ProductID, SUM (LineTotal) Total\r\n",
                "FROM SalesOrderDetail\r\n",
                "GROUP BY ProductID"
            ],
            "metadata": {
                "azdata_cell_guid": "50f55fdb-3bf3-4159-ae0f-09b172cd9842",
                "tags": []
            },
            "outputs": [
                {
                    "output_type": "error",
                    "evalue": "Msg 2714, Level 16, State 3, Procedure Sales5, Line 1\r\nThere is already an object named 'Sales5' in the database.",
                    "ename": "",
                    "traceback": []
                },
                {
                    "output_type": "display_data",
                    "data": {
                        "text/html": "Total execution time: 00:00:00.157"
                    },
                    "metadata": {}
                }
            ],
            "execution_count": 7
        },
        {
            "cell_type": "code",
            "source": [
                "SELECT *\r\n",
                "FROM Sales"
            ],
            "metadata": {
                "azdata_cell_guid": "70815456-fde1-4b08-94b4-25ee934288a3"
            },
            "outputs": [
                {
                    "output_type": "display_data",
                    "data": {
                        "text/html": "(142 rows affected)"
                    },
                    "metadata": {}
                },
                {
                    "output_type": "display_data",
                    "data": {
                        "text/html": "Total execution time: 00:00:00.117"
                    },
                    "metadata": {}
                },
                {
                    "output_type": "execute_result",
                    "metadata": {},
                    "execution_count": 8,
                    "data": {
                        "application/vnd.dataresource+json": {
                            "schema": {
                                "fields": [
                                    {
                                        "name": "productid"
                                    },
                                    {
                                        "name": "Total"
                                    }
                                ]
                            },
                            "data": [
                                {
                                    "0": "707",
                                    "1": "734.790000"
                                },
                                {
                                    "0": "708",
                                    "1": "1031.995060"
                                },
                                {
                                    "0": "711",
                                    "1": "757.096125"
                                },
                                {
                                    "0": "712",
                                    "1": "277.363076"
                                },
                                {
                                    "0": "714",
                                    "1": "779.844000"
                                },
                                {
                                    "0": "715",
                                    "1": "1463.832175"
                                },
                                {
                                    "0": "716",
                                    "1": "419.916000"
                                },
                                {
                                    "0": "717",
                                    "1": "2576.700000"
                                },
                                {
                                    "0": "718",
                                    "1": "2576.700000"
                                },
                                {
                                    "0": "722",
                                    "1": "1820.988000"
                                },
                                {
                                    "0": "738",
                                    "1": "2225.652000"
                                },
                                {
                                    "0": "739",
                                    "1": "4912.200000"
                                },
                                {
                                    "0": "742",
                                    "1": "8187.000000"
                                },
                                {
                                    "0": "743",
                                    "1": "9717.120000"
                                },
                                {
                                    "0": "747",
                                    "1": "5668.320000"
                                },
                                {
                                    "0": "748",
                                    "1": "13099.200000"
                                },
                                {
                                    "0": "779",
                                    "1": "15311.934000"
                                },
                                {
                                    "0": "780",
                                    "1": "20879.910000"
                                },
                                {
                                    "0": "781",
                                    "1": "18095.922000"
                                },
                                {
                                    "0": "782",
                                    "1": "35801.844000"
                                },
                                {
                                    "0": "783",
                                    "1": "37178.838000"
                                },
                                {
                                    "0": "784",
                                    "1": "19277.916000"
                                },
                                {
                                    "0": "792",
                                    "1": "4398.030000"
                                },
                                {
                                    "0": "793",
                                    "1": "17592.120000"
                                },
                                {
                                    "0": "794",
                                    "1": "17592.120000"
                                },
                                {
                                    "0": "795",
                                    "1": "11728.080000"
                                },
                                {
                                    "0": "796",
                                    "1": "4398.030000"
                                },
                                {
                                    "0": "797",
                                    "1": "12773.586000"
                                },
                                {
                                    "0": "798",
                                    "1": "5378.352000"
                                },
                                {
                                    "0": "799",
                                    "1": "3361.470000"
                                },
                                {
                                    "0": "800",
                                    "1": "2016.882000"
                                },
                                {
                                    "0": "801",
                                    "1": "5378.352000"
                                },
                                {
                                    "0": "808",
                                    "1": "187.068000"
                                },
                                {
                                    "0": "809",
                                    "1": "445.824000"
                                },
                                {
                                    "0": "810",
                                    "1": "216.486000"
                                },
                                {
                                    "0": "813",
                                    "1": "288.648000"
                                },
                                {
                                    "0": "822",
                                    "1": "1427.592000"
                                },
                                {
                                    "0": "835",
                                    "1": "4282.776000"
                                },
                                {
                                    "0": "836",
                                    "1": "4282.776000"
                                },
                                {
                                    "0": "838",
                                    "1": "5153.400000"
                                },
                                {
                                    "0": "858",
                                    "1": "176.328000"
                                },
                                {
                                    "0": "859",
                                    "1": "382.044000"
                                },
                                {
                                    "0": "860",
                                    "1": "279.186000"
                                },
                                {
                                    "0": "864",
                                    "1": "3014.503750"
                                },
                                {
                                    "0": "865",
                                    "1": "1295.400000"
                                },
                                {
                                    "0": "867",
                                    "1": "1955.996532"
                                },
                                {
                                    "0": "868",
                                    "1": "209.970000"
                                },
                                {
                                    "0": "869",
                                    "1": "1133.838000"
                                },
                                {
                                    "0": "870",
                                    "1": "158.206952"
                                },
                                {
                                    "0": "873",
                                    "1": "27.480000"
                                },
                                {
                                    "0": "874",
                                    "1": "80.910000"
                                },
                                {
                                    "0": "875",
                                    "1": "264.298808"
                                },
                                {
                                    "0": "876",
                                    "1": "2304.000000"
                                },
                                {
                                    "0": "877",
                                    "1": "251.875875"
                                },
                                {
                                    "0": "880",
                                    "1": "1649.700000"
                                },
                                {
                                    "0": "881",
                                    "1": "1004.214000"
                                },
                                {
                                    "0": "883",
                                    "1": "1566.379476"
                                },
                                {
                                    "0": "884",
                                    "1": "1783.694625"
                                },
                                {
                                    "0": "885",
                                    "1": "7228.152000"
                                },
                                {
                                    "0": "886",
                                    "1": "200.052000"
                                },
                                {
                                    "0": "889",
                                    "1": "3011.730000"
                                },
                                {
                                    "0": "891",
                                    "1": "602.346000"
                                },
                                {
                                    "0": "892",
                                    "1": "4216.422000"
                                },
                                {
                                    "0": "893",
                                    "1": "1807.038000"
                                },
                                {
                                    "0": "894",
                                    "1": "583.008000"
                                },
                                {
                                    "0": "895",
                                    "1": "400.104000"
                                },
                                {
                                    "0": "896",
                                    "1": "600.156000"
                                },
                                {
                                    "0": "899",
                                    "1": "600.156000"
                                },
                                {
                                    "0": "900",
                                    "1": "400.104000"
                                },
                                {
                                    "0": "904",
                                    "1": "2621.448000"
                                },
                                {
                                    "0": "905",
                                    "1": "2402.994000"
                                },
                                {
                                    "0": "907",
                                    "1": "63.900000"
                                },
                                {
                                    "0": "908",
                                    "1": "97.632000"
                                },
                                {
                                    "0": "909",
                                    "1": "375.744000"
                                },
                                {
                                    "0": "910",
                                    "1": "221.088000"
                                },
                                {
                                    "0": "913",
                                    "1": "63.168000"
                                },
                                {
                                    "0": "916",
                                    "1": "252.672000"
                                },
                                {
                                    "0": "917",
                                    "1": "1267.440000"
                                },
                                {
                                    "0": "918",
                                    "1": "1425.870000"
                                },
                                {
                                    "0": "920",
                                    "1": "475.290000"
                                },
                                {
                                    "0": "924",
                                    "1": "1348.866000"
                                },
                                {
                                    "0": "925",
                                    "1": "1798.488000"
                                },
                                {
                                    "0": "926",
                                    "1": "599.496000"
                                },
                                {
                                    "0": "935",
                                    "1": "291.528000"
                                },
                                {
                                    "0": "936",
                                    "1": "223.524000"
                                },
                                {
                                    "0": "937",
                                    "1": "583.128000"
                                },
                                {
                                    "0": "938",
                                    "1": "510.174000"
                                },
                                {
                                    "0": "939",
                                    "1": "707.826000"
                                },
                                {
                                    "0": "940",
                                    "1": "680.316000"
                                },
                                {
                                    "0": "944",
                                    "1": "1425.870000"
                                },
                                {
                                    "0": "945",
                                    "1": "713.622000"
                                },
                                {
                                    "0": "947",
                                    "1": "54.942000"
                                },
                                {
                                    "0": "948",
                                    "1": "766.800000"
                                },
                                {
                                    "0": "949",
                                    "1": "1052.940000"
                                },
                                {
                                    "0": "951",
                                    "1": "2915.928000"
                                },
                                {
                                    "0": "952",
                                    "1": "97.152000"
                                },
                                {
                                    "0": "953",
                                    "1": "7289.100000"
                                },
                                {
                                    "0": "954",
                                    "1": "17165.304000"
                                },
                                {
                                    "0": "955",
                                    "1": "7152.210000"
                                },
                                {
                                    "0": "956",
                                    "1": "5721.768000"
                                },
                                {
                                    "0": "957",
                                    "1": "23413.474656"
                                },
                                {
                                    "0": "958",
                                    "1": "6681.150000"
                                },
                                {
                                    "0": "959",
                                    "1": "2672.460000"
                                },
                                {
                                    "0": "960",
                                    "1": "1336.230000"
                                },
                                {
                                    "0": "961",
                                    "1": "8017.380000"
                                },
                                {
                                    "0": "962",
                                    "1": "4008.690000"
                                },
                                {
                                    "0": "963",
                                    "1": "2672.460000"
                                },
                                {
                                    "0": "964",
                                    "1": "1336.230000"
                                },
                                {
                                    "0": "965",
                                    "1": "8650.159140"
                                },
                                {
                                    "0": "966",
                                    "1": "17165.304000"
                                },
                                {
                                    "0": "967",
                                    "1": "22887.072000"
                                },
                                {
                                    "0": "968",
                                    "1": "8582.652000"
                                },
                                {
                                    "0": "969",
                                    "1": "37191.492000"
                                },
                                {
                                    "0": "970",
                                    "1": "6560.190000"
                                },
                                {
                                    "0": "971",
                                    "1": "6560.190000"
                                },
                                {
                                    "0": "972",
                                    "1": "13120.380000"
                                },
                                {
                                    "0": "973",
                                    "1": "20411.880000"
                                },
                                {
                                    "0": "974",
                                    "1": "18692.519308"
                                },
                                {
                                    "0": "975",
                                    "1": "5102.970000"
                                },
                                {
                                    "0": "976",
                                    "1": "36486.235500"
                                },
                                {
                                    "0": "977",
                                    "1": "4859.910000"
                                },
                                {
                                    "0": "978",
                                    "1": "2227.050000"
                                },
                                {
                                    "0": "979",
                                    "1": "10244.430000"
                                },
                                {
                                    "0": "980",
                                    "1": "1846.776000"
                                },
                                {
                                    "0": "981",
                                    "1": "4155.246000"
                                },
                                {
                                    "0": "982",
                                    "1": "2308.470000"
                                },
                                {
                                    "0": "983",
                                    "1": "4155.246000"
                                },
                                {
                                    "0": "984",
                                    "1": "745.786800"
                                },
                                {
                                    "0": "985",
                                    "1": "813.585600"
                                },
                                {
                                    "0": "986",
                                    "1": "271.195200"
                                },
                                {
                                    "0": "987",
                                    "1": "406.792800"
                                },
                                {
                                    "0": "988",
                                    "1": "1152.579600"
                                },
                                {
                                    "0": "989",
                                    "1": "971.982000"
                                },
                                {
                                    "0": "990",
                                    "1": "971.982000"
                                },
                                {
                                    "0": "991",
                                    "1": "1619.970000"
                                },
                                {
                                    "0": "992",
                                    "1": "3887.928000"
                                },
                                {
                                    "0": "993",
                                    "1": "971.982000"
                                },
                                {
                                    "0": "994",
                                    "1": "226.758000"
                                },
                                {
                                    "0": "996",
                                    "1": "1093.410000"
                                },
                                {
                                    "0": "997",
                                    "1": "971.982000"
                                },
                                {
                                    "0": "998",
                                    "1": "6803.874000"
                                },
                                {
                                    "0": "999",
                                    "1": "5183.904000"
                                }
                            ]
                        },
                        "text/html": [
                            "<table>",
                            "<tr><th>productid</th><th>Total</th></tr>",
                            "<tr><td>707</td><td>734.790000</td></tr>",
                            "<tr><td>708</td><td>1031.995060</td></tr>",
                            "<tr><td>711</td><td>757.096125</td></tr>",
                            "<tr><td>712</td><td>277.363076</td></tr>",
                            "<tr><td>714</td><td>779.844000</td></tr>",
                            "<tr><td>715</td><td>1463.832175</td></tr>",
                            "<tr><td>716</td><td>419.916000</td></tr>",
                            "<tr><td>717</td><td>2576.700000</td></tr>",
                            "<tr><td>718</td><td>2576.700000</td></tr>",
                            "<tr><td>722</td><td>1820.988000</td></tr>",
                            "<tr><td>738</td><td>2225.652000</td></tr>",
                            "<tr><td>739</td><td>4912.200000</td></tr>",
                            "<tr><td>742</td><td>8187.000000</td></tr>",
                            "<tr><td>743</td><td>9717.120000</td></tr>",
                            "<tr><td>747</td><td>5668.320000</td></tr>",
                            "<tr><td>748</td><td>13099.200000</td></tr>",
                            "<tr><td>779</td><td>15311.934000</td></tr>",
                            "<tr><td>780</td><td>20879.910000</td></tr>",
                            "<tr><td>781</td><td>18095.922000</td></tr>",
                            "<tr><td>782</td><td>35801.844000</td></tr>",
                            "<tr><td>783</td><td>37178.838000</td></tr>",
                            "<tr><td>784</td><td>19277.916000</td></tr>",
                            "<tr><td>792</td><td>4398.030000</td></tr>",
                            "<tr><td>793</td><td>17592.120000</td></tr>",
                            "<tr><td>794</td><td>17592.120000</td></tr>",
                            "<tr><td>795</td><td>11728.080000</td></tr>",
                            "<tr><td>796</td><td>4398.030000</td></tr>",
                            "<tr><td>797</td><td>12773.586000</td></tr>",
                            "<tr><td>798</td><td>5378.352000</td></tr>",
                            "<tr><td>799</td><td>3361.470000</td></tr>",
                            "<tr><td>800</td><td>2016.882000</td></tr>",
                            "<tr><td>801</td><td>5378.352000</td></tr>",
                            "<tr><td>808</td><td>187.068000</td></tr>",
                            "<tr><td>809</td><td>445.824000</td></tr>",
                            "<tr><td>810</td><td>216.486000</td></tr>",
                            "<tr><td>813</td><td>288.648000</td></tr>",
                            "<tr><td>822</td><td>1427.592000</td></tr>",
                            "<tr><td>835</td><td>4282.776000</td></tr>",
                            "<tr><td>836</td><td>4282.776000</td></tr>",
                            "<tr><td>838</td><td>5153.400000</td></tr>",
                            "<tr><td>858</td><td>176.328000</td></tr>",
                            "<tr><td>859</td><td>382.044000</td></tr>",
                            "<tr><td>860</td><td>279.186000</td></tr>",
                            "<tr><td>864</td><td>3014.503750</td></tr>",
                            "<tr><td>865</td><td>1295.400000</td></tr>",
                            "<tr><td>867</td><td>1955.996532</td></tr>",
                            "<tr><td>868</td><td>209.970000</td></tr>",
                            "<tr><td>869</td><td>1133.838000</td></tr>",
                            "<tr><td>870</td><td>158.206952</td></tr>",
                            "<tr><td>873</td><td>27.480000</td></tr>",
                            "<tr><td>874</td><td>80.910000</td></tr>",
                            "<tr><td>875</td><td>264.298808</td></tr>",
                            "<tr><td>876</td><td>2304.000000</td></tr>",
                            "<tr><td>877</td><td>251.875875</td></tr>",
                            "<tr><td>880</td><td>1649.700000</td></tr>",
                            "<tr><td>881</td><td>1004.214000</td></tr>",
                            "<tr><td>883</td><td>1566.379476</td></tr>",
                            "<tr><td>884</td><td>1783.694625</td></tr>",
                            "<tr><td>885</td><td>7228.152000</td></tr>",
                            "<tr><td>886</td><td>200.052000</td></tr>",
                            "<tr><td>889</td><td>3011.730000</td></tr>",
                            "<tr><td>891</td><td>602.346000</td></tr>",
                            "<tr><td>892</td><td>4216.422000</td></tr>",
                            "<tr><td>893</td><td>1807.038000</td></tr>",
                            "<tr><td>894</td><td>583.008000</td></tr>",
                            "<tr><td>895</td><td>400.104000</td></tr>",
                            "<tr><td>896</td><td>600.156000</td></tr>",
                            "<tr><td>899</td><td>600.156000</td></tr>",
                            "<tr><td>900</td><td>400.104000</td></tr>",
                            "<tr><td>904</td><td>2621.448000</td></tr>",
                            "<tr><td>905</td><td>2402.994000</td></tr>",
                            "<tr><td>907</td><td>63.900000</td></tr>",
                            "<tr><td>908</td><td>97.632000</td></tr>",
                            "<tr><td>909</td><td>375.744000</td></tr>",
                            "<tr><td>910</td><td>221.088000</td></tr>",
                            "<tr><td>913</td><td>63.168000</td></tr>",
                            "<tr><td>916</td><td>252.672000</td></tr>",
                            "<tr><td>917</td><td>1267.440000</td></tr>",
                            "<tr><td>918</td><td>1425.870000</td></tr>",
                            "<tr><td>920</td><td>475.290000</td></tr>",
                            "<tr><td>924</td><td>1348.866000</td></tr>",
                            "<tr><td>925</td><td>1798.488000</td></tr>",
                            "<tr><td>926</td><td>599.496000</td></tr>",
                            "<tr><td>935</td><td>291.528000</td></tr>",
                            "<tr><td>936</td><td>223.524000</td></tr>",
                            "<tr><td>937</td><td>583.128000</td></tr>",
                            "<tr><td>938</td><td>510.174000</td></tr>",
                            "<tr><td>939</td><td>707.826000</td></tr>",
                            "<tr><td>940</td><td>680.316000</td></tr>",
                            "<tr><td>944</td><td>1425.870000</td></tr>",
                            "<tr><td>945</td><td>713.622000</td></tr>",
                            "<tr><td>947</td><td>54.942000</td></tr>",
                            "<tr><td>948</td><td>766.800000</td></tr>",
                            "<tr><td>949</td><td>1052.940000</td></tr>",
                            "<tr><td>951</td><td>2915.928000</td></tr>",
                            "<tr><td>952</td><td>97.152000</td></tr>",
                            "<tr><td>953</td><td>7289.100000</td></tr>",
                            "<tr><td>954</td><td>17165.304000</td></tr>",
                            "<tr><td>955</td><td>7152.210000</td></tr>",
                            "<tr><td>956</td><td>5721.768000</td></tr>",
                            "<tr><td>957</td><td>23413.474656</td></tr>",
                            "<tr><td>958</td><td>6681.150000</td></tr>",
                            "<tr><td>959</td><td>2672.460000</td></tr>",
                            "<tr><td>960</td><td>1336.230000</td></tr>",
                            "<tr><td>961</td><td>8017.380000</td></tr>",
                            "<tr><td>962</td><td>4008.690000</td></tr>",
                            "<tr><td>963</td><td>2672.460000</td></tr>",
                            "<tr><td>964</td><td>1336.230000</td></tr>",
                            "<tr><td>965</td><td>8650.159140</td></tr>",
                            "<tr><td>966</td><td>17165.304000</td></tr>",
                            "<tr><td>967</td><td>22887.072000</td></tr>",
                            "<tr><td>968</td><td>8582.652000</td></tr>",
                            "<tr><td>969</td><td>37191.492000</td></tr>",
                            "<tr><td>970</td><td>6560.190000</td></tr>",
                            "<tr><td>971</td><td>6560.190000</td></tr>",
                            "<tr><td>972</td><td>13120.380000</td></tr>",
                            "<tr><td>973</td><td>20411.880000</td></tr>",
                            "<tr><td>974</td><td>18692.519308</td></tr>",
                            "<tr><td>975</td><td>5102.970000</td></tr>",
                            "<tr><td>976</td><td>36486.235500</td></tr>",
                            "<tr><td>977</td><td>4859.910000</td></tr>",
                            "<tr><td>978</td><td>2227.050000</td></tr>",
                            "<tr><td>979</td><td>10244.430000</td></tr>",
                            "<tr><td>980</td><td>1846.776000</td></tr>",
                            "<tr><td>981</td><td>4155.246000</td></tr>",
                            "<tr><td>982</td><td>2308.470000</td></tr>",
                            "<tr><td>983</td><td>4155.246000</td></tr>",
                            "<tr><td>984</td><td>745.786800</td></tr>",
                            "<tr><td>985</td><td>813.585600</td></tr>",
                            "<tr><td>986</td><td>271.195200</td></tr>",
                            "<tr><td>987</td><td>406.792800</td></tr>",
                            "<tr><td>988</td><td>1152.579600</td></tr>",
                            "<tr><td>989</td><td>971.982000</td></tr>",
                            "<tr><td>990</td><td>971.982000</td></tr>",
                            "<tr><td>991</td><td>1619.970000</td></tr>",
                            "<tr><td>992</td><td>3887.928000</td></tr>",
                            "<tr><td>993</td><td>971.982000</td></tr>",
                            "<tr><td>994</td><td>226.758000</td></tr>",
                            "<tr><td>996</td><td>1093.410000</td></tr>",
                            "<tr><td>997</td><td>971.982000</td></tr>",
                            "<tr><td>998</td><td>6803.874000</td></tr>",
                            "<tr><td>999</td><td>5183.904000</td></tr>",
                            "</table>"
                        ]
                    }
                }
            ],
            "execution_count": 8
        },
        {
            "cell_type": "markdown",
            "source": [
                "**Exercício 13** Liste ProductID, name, standardcost e listprice dos produtos que não foram vendidos, ordenando por productID e utilizando o operador EXISTS"
            ],
            "metadata": {
                "azdata_cell_guid": "cd8ca318-8000-4e01-829c-c474e917f702"
            },
            "attachments": {}
        },
        {
            "cell_type": "markdown",
            "source": [
                "**Exercício 14** Liste a diferença das médias de TotalDue das SalesOrderHeader anteriores a 2015 e a partir de 2015 (inclusivé)"
            ],
            "metadata": {
                "azdata_cell_guid": "1e7ca87f-2442-41c7-b83b-d170a288eb68"
            },
            "attachments": {}
        },
        {
            "cell_type": "markdown",
            "source": [
                "**Exercício 15** Rank Customers por Revenue. Liste companyname e a soma de totaldue das respetivas salesorderheader e o ranking por vendas decrescente"
            ],
            "metadata": {
                "azdata_cell_guid": "79252361-f2bc-40cf-aa6b-6c4e0d88e9e0"
            },
            "attachments": {}
        },
        {
            "cell_type": "markdown",
            "source": [
                "**Exercício 16** Liste o código das categorias pai, o código das categorias, o código dos produtos e o somatório de vendas por: código da categorias pai, código de categoria, código de produto, (código de categoria pai, código de categoria, código de produto) e total geral"
            ],
            "metadata": {
                "azdata_cell_guid": "ba431c5e-9f8c-4625-ab72-24092a4224e9"
            },
            "attachments": {}
        },
        {
            "cell_type": "markdown",
            "source": [
                "**Exercício 17** Analise o seguinte Select e substitua ‘Group by rollup’ por ‘Group by Grouping sets’ Select parentproductcategoryid, p.productcategoryid, p.productid, sum(linetotal) from saleslt.Product p join SalesLT.SalesOrderDetail sod on p.productid=sod.ProductID join saleslt.ProductCategory pc on p.productcategoryid=p c.productcategoryid group by rollup (parentproductcategoryid,p.productcategoryid, p.productid)"
            ],
            "metadata": {
                "azdata_cell_guid": "bbde59a6-40d6-49e0-9cde-542ad42038f8"
            },
            "attachments": {}
        },
        {
            "cell_type": "markdown",
            "source": [
                "**Exercício 18** Por CountryRegion liste o número de Clientes que fizeram encomendas cuja soma é superior a $50000, bem como esse somatório por CountryRegion."
            ],
            "metadata": {
                "azdata_cell_guid": "caa4fbad-a972-4139-a99d-30d8e7de0175"
            },
            "attachments": {}
        },
        {
            "cell_type": "markdown",
            "source": [
                "**Exercício 19** Use a BD Filmes. Insira uma classificação de 4 estrelas ao filme ‘Avatar’ atribuída pela crítica ‘Sara Martins’ no dia 2021-05-25. Depois faça um Select à Classificação para verificar a correção da inserção"
            ],
            "metadata": {
                "azdata_cell_guid": "4b7dcec3-7504-45d3-b466-a9db26eaaf8b"
            },
            "attachments": {}
        },
        {
            "cell_type": "markdown",
            "source": [
                "**Exercício 20** Use a BD Filmes. Liste o nº de Críticos, bem como a Média das Médias das Classificações que cada Crítico atribuiu a cada filme. Note que um crítico pode avaliar o mesmo filme várias vezes em diferentes datas."
            ],
            "metadata": {
                "azdata_cell_guid": "811cebab-3d9f-493c-82cf-7345c065730f"
            },
            "attachments": {}
        },
        {
            "cell_type": "code",
            "source": [
                "SELECT CR.nome, AVG(estrelas) AS Media, FL.titulo\r\n",
                "FROM Classificacao CL\r\n",
                "JOIN Critico CR\r\n",
                "ON CL.cID = CR.cID \r\n",
                "JOIN Filme FL\r\n",
                "ON CL.fID = FL.fID \r\n",
                "GROUP BY CR.nome, FL.titulo"
            ],
            "metadata": {
                "azdata_cell_guid": "75d7c7e5-f611-4094-9a64-075b7e1bd62c"
            },
            "outputs": [
                {
                    "output_type": "display_data",
                    "data": {
                        "text/html": "(12 rows affected)"
                    },
                    "metadata": {}
                },
                {
                    "output_type": "display_data",
                    "data": {
                        "text/html": "Total execution time: 00:00:00.213"
                    },
                    "metadata": {}
                },
                {
                    "output_type": "execute_result",
                    "execution_count": 1,
                    "data": {
                        "application/vnd.dataresource+json": {
                            "schema": {
                                "fields": [
                                    {
                                        "name": "nome"
                                    },
                                    {
                                        "name": "Media"
                                    },
                                    {
                                        "name": "titulo"
                                    }
                                ]
                            },
                            "data": [
                                {
                                    "0": "Ana Santos",
                                    "1": "5",
                                    "2": "Avatar"
                                },
                                {
                                    "0": "Isabel Silva",
                                    "1": "3",
                                    "2": "Avatar"
                                },
                                {
                                    "0": "Carolina Branco",
                                    "1": "3",
                                    "2": "E.T."
                                },
                                {
                                    "0": "Maria Cravo",
                                    "1": "2",
                                    "2": "E.T."
                                },
                                {
                                    "0": "Sara Martins",
                                    "1": "3",
                                    "2": "Gone with the Wind"
                                },
                                {
                                    "0": "Tiago Gamboa",
                                    "1": "3",
                                    "2": "Gone with the Wind"
                                },
                                {
                                    "0": "Beatriz Costa",
                                    "1": "3",
                                    "2": "Raiders of the Lost Ark"
                                },
                                {
                                    "0": "Maria Cravo",
                                    "1": "4",
                                    "2": "Raiders of the Lost Ark"
                                },
                                {
                                    "0": "Daniel Morgado",
                                    "1": "4",
                                    "2": "Snow White"
                                },
                                {
                                    "0": "Isabel Silva",
                                    "1": "5",
                                    "2": "Snow White"
                                },
                                {
                                    "0": "Beatriz Costa",
                                    "1": "2",
                                    "2": "The Sound of Music"
                                },
                                {
                                    "0": "Maria Cravo",
                                    "1": "3",
                                    "2": "The Sound of Music"
                                }
                            ]
                        },
                        "text/html": "<table><tr><th>nome</th><th>Media</th><th>titulo</th></tr><tr><td>Ana Santos</td><td>5</td><td>Avatar</td></tr><tr><td>Isabel Silva</td><td>3</td><td>Avatar</td></tr><tr><td>Carolina Branco</td><td>3</td><td>E.T.</td></tr><tr><td>Maria Cravo</td><td>2</td><td>E.T.</td></tr><tr><td>Sara Martins</td><td>3</td><td>Gone with the Wind</td></tr><tr><td>Tiago Gamboa</td><td>3</td><td>Gone with the Wind</td></tr><tr><td>Beatriz Costa</td><td>3</td><td>Raiders of the Lost Ark</td></tr><tr><td>Maria Cravo</td><td>4</td><td>Raiders of the Lost Ark</td></tr><tr><td>Daniel Morgado</td><td>4</td><td>Snow White</td></tr><tr><td>Isabel Silva</td><td>5</td><td>Snow White</td></tr><tr><td>Beatriz Costa</td><td>2</td><td>The Sound of Music</td></tr><tr><td>Maria Cravo</td><td>3</td><td>The Sound of Music</td></tr></table>"
                    },
                    "metadata": {}
                }
            ],
            "execution_count": 1
        },
        {
            "cell_type": "markdown",
            "source": [
                "**Exercício 21** Por cada nível de unitpricediscount especificado abaixo, liste o descritivo do nível de desconto, bem como o número de linhas de encomenda que o contemplam, ordenado por nível de desconto descendente. • Se 0.4 'Very High' • Se 0.1 'High' • Se 0.05 'Medium' • Se 0.02 'Low' • Caso não se aplique nenhuma condição anterior 'No discount’"
            ],
            "metadata": {
                "azdata_cell_guid": "8d063f94-5eae-4a34-80a5-05e85c5e95c9"
            },
            "attachments": {}
        },
        {
            "cell_type": "markdown",
            "source": [
                "**Exercício 22** Liste o nome do salesperson, o total de vendas respetivo no ano de 2008 e uma indicação do respetivo nível, conforme especificação seguinte: • Se \\<= 100000 ‘Very Low’ • Se \\>100000 e \\<=150000 'Low' • Se \\>150000 e \\<=200000 'Medium' • Se \\>200000 e \\<=300000 'High' • Se \\>300000 'Very High'"
            ],
            "metadata": {
                "azdata_cell_guid": "77b53547-0ec5-472a-856e-04aa99e079ed"
            },
            "attachments": {}
        },
        {
            "cell_type": "markdown",
            "source": [
                "**Exercício 23** Crie as seguintes tabelas, no schema do seu grupo, p. ex. g05.Cliente (para não conflituar com os restantes grupos) - Cliente (idCli, nomeCli) Primary Key (PK): idCli - CabFatura (nFatura, data, total, IdCli) PK: nFatura; Foreign Key (FK): idCli; total Numeric (8,2) - LinhaFatura (nFatura, codProduto, Quantidade) PK: nFatura, codProduto; FK:nFatura; FK: codProduto - Produto (codProduto, nomePro, precoUnitario) PK:codProduto; precoUnitario Numeric (6,2) A que corresponde o seguinte esquema: Pretende-se que: - Caso o Cliente seja apagado, também o sejam os respetivos Cabeçalhos de Fatura (CabFatura); - Caso se altere idCli em Cliente também se altere idCli nos CabFatura; - A LinhaFatura tem FKs para CabFatura e para Produto, sem mais nenhuma especificação. Crie um índice sobre o atributo nome do cliente (nomeCli). Insira alguns dados nas tabelas e teste: - Apagar um Cliente Altere a tabela LinhaFatura especificando na FK que, se se apagar uma linha de CabFatura, também devem ser apagadas as respetivas linhas. Volte a tentar apagar um Cliente e veja o que sucede. Nota: As Constraints não se podem alterar. Tem de apagar a FK que criou e criar uma nova. Cliente LinhaFatura CabFatura Produto Página 5 de 5 Para saber como se chama a FK, faça a seguinte pesquisa na view INFORMATION\\_SCHEMA.CONSTRAINT\\_COLUMN\\_USAGE do Catálogo1 : select column\\_name, constraint\\_name from INFORMATION\\_SCHEMA.CONSTRAINT\\_COLUMN\\_USAGE Where Table\\_name='LinhaFatura' Outra hipótese é dar um nome à constraint que define a FK de linhaFatura para CabFatura, como p. ex. em LinhaFatura: nFatura smallint constraint FK\\_LinhaCabeçalho references CabFatura"
            ],
            "metadata": {
                "azdata_cell_guid": "9e30384f-8061-48e1-98b7-12db755ce754"
            },
            "attachments": {}
        },
        {
            "cell_type": "markdown",
            "source": [
                "**Exercício 24** Crie uma view sobre os atributos cod\\_emp, nome\\_emp, cod\\_cat, designação das tabelas Empregado e Categoria. Tente inserir um novo cod\\_emp e nome\\_emp (atualização sobre uma única tabela de base) e verifique que a operação é bem sucedida. Tente agora inserir um novo cod\\_emp, nome\\_emp, cod\\_cat e designação (atualização sobre duas tabelas de base) e verifique que a atualização dá um erro."
            ],
            "metadata": {
                "azdata_cell_guid": "6efea610-c2fe-4234-89d9-01ed54d4a7d5"
            },
            "attachments": {}
        },
        {
            "cell_type": "code",
            "source": [
                "CREATE VIEW Ex5 AS\r\n",
                "SELECT E.cod_emp, E.nome_emp, E.cod_cat, C.designacao\r\n",
                "FROM empregado E\r\n",
                "JOIN categoria C\r\n",
                "ON E.cod_cat = C.cod_cat"
            ],
            "metadata": {
                "azdata_cell_guid": "86a2ad47-607a-40b0-85c5-d494625af739"
            },
            "outputs": [
                {
                    "output_type": "display_data",
                    "data": {
                        "text/html": "Commands completed successfully."
                    },
                    "metadata": {}
                },
                {
                    "output_type": "display_data",
                    "data": {
                        "text/html": "Total execution time: 00:00:00.129"
                    },
                    "metadata": {}
                }
            ],
            "execution_count": 11
        },
        {
            "cell_type": "code",
            "source": [
                "SELECT * FROM Ex5"
            ],
            "metadata": {
                "azdata_cell_guid": "4c8f1ddf-f17c-44e4-99b2-26a7e93c0a89"
            },
            "outputs": [
                {
                    "output_type": "display_data",
                    "data": {
                        "text/html": "(4 rows affected)"
                    },
                    "metadata": {}
                },
                {
                    "output_type": "display_data",
                    "data": {
                        "text/html": "Total execution time: 00:00:00.109"
                    },
                    "metadata": {}
                },
                {
                    "output_type": "execute_result",
                    "metadata": {},
                    "execution_count": 12,
                    "data": {
                        "application/vnd.dataresource+json": {
                            "schema": {
                                "fields": [
                                    {
                                        "name": "cod_emp"
                                    },
                                    {
                                        "name": "nome_emp"
                                    },
                                    {
                                        "name": "cod_cat"
                                    },
                                    {
                                        "name": "designacao"
                                    }
                                ]
                            },
                            "data": [
                                {
                                    "0": "1",
                                    "1": "Antonio Abreu",
                                    "2": "1",
                                    "3": "CategoriaA"
                                },
                                {
                                    "0": "2",
                                    "1": "Bernardo Bento",
                                    "2": "1",
                                    "3": "CategoriaA"
                                },
                                {
                                    "0": "3",
                                    "1": "Carlos Castro",
                                    "2": "2",
                                    "3": "CategoriaB"
                                },
                                {
                                    "0": "20",
                                    "1": "Manuel Matos",
                                    "2": "3",
                                    "3": "CategoriaC"
                                }
                            ]
                        },
                        "text/html": [
                            "<table>",
                            "<tr><th>cod_emp</th><th>nome_emp</th><th>cod_cat</th><th>designacao</th></tr>",
                            "<tr><td>1</td><td>Antonio Abreu</td><td>1</td><td>CategoriaA</td></tr>",
                            "<tr><td>2</td><td>Bernardo Bento</td><td>1</td><td>CategoriaA</td></tr>",
                            "<tr><td>3</td><td>Carlos Castro</td><td>2</td><td>CategoriaB</td></tr>",
                            "<tr><td>20</td><td>Manuel Matos</td><td>3</td><td>CategoriaC</td></tr>",
                            "</table>"
                        ]
                    }
                }
            ],
            "execution_count": 12
        },
        {
            "cell_type": "code",
            "source": [
                "INSERT INTO Ex5 (cod_emp, nome_emp)\r\n",
                "VALUES          (46 , 'JESSICA')"
            ],
            "metadata": {
                "azdata_cell_guid": "c89497b0-b2a3-44e1-b48e-4806680d609b"
            },
            "outputs": [
                {
                    "output_type": "error",
                    "evalue": "Msg 2627, Level 14, State 1, Line 1\r\nViolation of PRIMARY KEY constraint 'PK__empregad__FE22B4FAA95992F0'. Cannot insert duplicate key in object 'g01.empregado'. The duplicate key value is (46).",
                    "ename": "",
                    "traceback": []
                },
                {
                    "output_type": "display_data",
                    "data": {
                        "text/html": "The statement has been terminated."
                    },
                    "metadata": {}
                },
                {
                    "output_type": "display_data",
                    "data": {
                        "text/html": "Total execution time: 00:00:00.099"
                    },
                    "metadata": {}
                }
            ],
            "execution_count": 14
        },
        {
            "cell_type": "markdown",
            "source": [
                "**Exercício 25** Crie uma Indexed View ISales que contenha para cada productid o somatório das vendas"
            ],
            "metadata": {
                "azdata_cell_guid": "b15a43c3-f299-4d5f-8342-0afefc98a97d"
            },
            "attachments": {}
        },
        {
            "cell_type": "code",
            "source": [
                "CREATE VIEW TotalVendas\r\n",
                "WITH SCHEMABINDING AS\r\n",
                "SELECT ProductID, SUM(LineTotal) TotalVendas, COUNT_BIG(*) COUNT\r\n",
                "FROM SalesOrderDetail\r\n",
                "GROUP BY ProductID\r\n",
                "CREATE UNIQUE CLUSTERED INDEX idxTotalVendas ON TotalVendas (ProductID)"
            ],
            "metadata": {
                "azdata_cell_guid": "6bf5e383-2c21-4676-b838-71731a1dc28e"
            },
            "outputs": [
                {
                    "output_type": "error",
                    "evalue": "Msg 156, Level 15, State 1, Procedure TotalVendas, Line 6\r\nIncorrect syntax near the keyword 'CREATE'.",
                    "ename": "",
                    "traceback": []
                },
                {
                    "output_type": "display_data",
                    "data": {
                        "text/html": "Total execution time: 00:00:00.090"
                    },
                    "metadata": {}
                }
            ],
            "execution_count": 15
        },
        {
            "cell_type": "markdown",
            "source": [
                "**Exercício 26** Faça o exercício 15 com ROW\\_NUMBER"
            ],
            "metadata": {
                "azdata_cell_guid": "7d526f00-963c-41c0-b474-53022246ba31"
            },
            "attachments": {}
        },
        {
            "cell_type": "markdown",
            "source": [
                "**Exercício 27** Faça o exercício 8 com ROW\\_NUMBER"
            ],
            "metadata": {
                "azdata_cell_guid": "7f4379a2-ddad-455c-981c-794b7798824c"
            },
            "attachments": {}
        }
    ]
}