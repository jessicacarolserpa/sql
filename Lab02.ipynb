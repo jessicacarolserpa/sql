{
    "metadata": {
        "kernelspec": {
            "name": "SQL",
            "display_name": "SQL",
            "language": "sql"
        },
        "language_info": {
            "name": "sql",
            "version": ""
        },
        "extensions": {
            "azuredatastudio": {
                "version": 1,
                "views": []
            }
        }
    },
    "nbformat_minor": 2,
    "nbformat": 4,
    "cells": [
        {
            "cell_type": "markdown",
            "source": [
                "**<u>Lab02</u>**"
            ],
            "metadata": {
                "azdata_cell_guid": "bb46eaa4-f175-4a48-9029-9ae54c1806a3"
            },
            "attachments": {}
        },
        {
            "cell_type": "markdown",
            "source": [
                "**Challenge 1**\n",
                "\n",
                "  \n",
                "\n",
                "**1\\.** Retrieve a list of cities Initially, you need to produce a list of all of you customers' locations. Write a Transact-SQL query that queries the Address table and retrieves all values for City and StateProvince, removing duplicates."
            ],
            "metadata": {
                "azdata_cell_guid": "b5a070ee-fae3-4cbf-8259-aca29c0fab08"
            },
            "attachments": {}
        },
        {
            "cell_type": "code",
            "source": [
                "SELECT DISTINCT City, StateProvince\r\n",
                "FROM Address;"
            ],
            "metadata": {
                "azdata_cell_guid": "95461ede-7499-4875-a2ca-d865c915f27c"
            },
            "outputs": [
                {
                    "output_type": "display_data",
                    "data": {
                        "text/html": "(272 rows affected)"
                    },
                    "metadata": {}
                },
                {
                    "output_type": "display_data",
                    "data": {
                        "text/html": "Total execution time: 00:00:00.134"
                    },
                    "metadata": {}
                },
                {
                    "output_type": "execute_result",
                    "execution_count": 1,
                    "data": {
                        "application/vnd.dataresource+json": {
                            "schema": {
                                "fields": [
                                    {
                                        "name": "City"
                                    },
                                    {
                                        "name": "StateProvince"
                                    }
                                ]
                            },
                            "data": [
                                {
                                    "0": "Abingdon",
                                    "1": "England"
                                },
                                {
                                    "0": "Albany",
                                    "1": "Oregon"
                                },
                                {
                                    "0": "Alhambra",
                                    "1": "California"
                                },
                                {
                                    "0": "Alpine",
                                    "1": "California"
                                },
                                {
                                    "0": "Arlington",
                                    "1": "Texas"
                                },
                                {
                                    "0": "Auburn",
                                    "1": "California"
                                },
                                {
                                    "0": "Aurora",
                                    "1": "Ontario"
                                },
                                {
                                    "0": "Austin",
                                    "1": "Texas"
                                },
                                {
                                    "0": "Baldwin Park",
                                    "1": "California"
                                },
                                {
                                    "0": "Barrie",
                                    "1": "Ontario"
                                },
                                {
                                    "0": "Barstow",
                                    "1": "California"
                                },
                                {
                                    "0": "Basingstoke Hants",
                                    "1": "England"
                                },
                                {
                                    "0": "Baytown",
                                    "1": "Texas"
                                },
                                {
                                    "0": "Beaverton",
                                    "1": "Oregon"
                                },
                                {
                                    "0": "Bell Gardens",
                                    "1": "California"
                                },
                                {
                                    "0": "Bellevue",
                                    "1": "Washington"
                                },
                                {
                                    "0": "Bellingham",
                                    "1": "Washington"
                                },
                                {
                                    "0": "Berks",
                                    "1": "England"
                                },
                                {
                                    "0": "Berkshire",
                                    "1": "England"
                                },
                                {
                                    "0": "Billings",
                                    "1": "Montana"
                                },
                                {
                                    "0": "Birmingham",
                                    "1": "England"
                                },
                                {
                                    "0": "Bothell",
                                    "1": "Washington"
                                },
                                {
                                    "0": "Bountiful",
                                    "1": "Utah"
                                },
                                {
                                    "0": "Bracknell",
                                    "1": "England"
                                },
                                {
                                    "0": "Brampton",
                                    "1": "Ontario"
                                },
                                {
                                    "0": "Branch",
                                    "1": "Minnesota"
                                },
                                {
                                    "0": "Branson",
                                    "1": "Missouri"
                                },
                                {
                                    "0": "Brossard",
                                    "1": "Quebec"
                                },
                                {
                                    "0": "Burnaby",
                                    "1": "British Columbia"
                                },
                                {
                                    "0": "Calgary",
                                    "1": "Alberta"
                                },
                                {
                                    "0": "Camarillo",
                                    "1": "California"
                                },
                                {
                                    "0": "Cambridge",
                                    "1": "England"
                                },
                                {
                                    "0": "Canoga Park",
                                    "1": "California"
                                },
                                {
                                    "0": "Carol Stream",
                                    "1": "Illinois"
                                },
                                {
                                    "0": "Carrollton",
                                    "1": "Texas"
                                },
                                {
                                    "0": "Carson",
                                    "1": "California"
                                },
                                {
                                    "0": "Casper",
                                    "1": "Wyoming"
                                },
                                {
                                    "0": "Cedar City",
                                    "1": "Utah"
                                },
                                {
                                    "0": "Cedar Park",
                                    "1": "Texas"
                                },
                                {
                                    "0": "Cerritos",
                                    "1": "California"
                                },
                                {
                                    "0": "Chalk Riber",
                                    "1": "Ontario"
                                },
                                {
                                    "0": "Chandler",
                                    "1": "Arizona"
                                },
                                {
                                    "0": "Chehalis",
                                    "1": "Washington"
                                },
                                {
                                    "0": "Cheyenne",
                                    "1": "Wyoming"
                                },
                                {
                                    "0": "Chicago",
                                    "1": "Illinois"
                                },
                                {
                                    "0": "Citrus Heights",
                                    "1": "California"
                                },
                                {
                                    "0": "City Of Commerce",
                                    "1": "California"
                                },
                                {
                                    "0": "Clackamas",
                                    "1": "Oregon"
                                },
                                {
                                    "0": "College Station",
                                    "1": "Texas"
                                },
                                {
                                    "0": "Corpus Christi",
                                    "1": "Texas"
                                },
                                {
                                    "0": "Culver City",
                                    "1": "California"
                                },
                                {
                                    "0": "Dallas",
                                    "1": "Texas"
                                },
                                {
                                    "0": "Daly City",
                                    "1": "California"
                                },
                                {
                                    "0": "Denby",
                                    "1": "South Dakota"
                                },
                                {
                                    "0": "Denver",
                                    "1": "Colorado"
                                },
                                {
                                    "0": "Detroit",
                                    "1": "Michigan"
                                },
                                {
                                    "0": "Dorval",
                                    "1": "Quebec"
                                },
                                {
                                    "0": "Downey",
                                    "1": "California"
                                },
                                {
                                    "0": "Duluth",
                                    "1": "Minnesota"
                                },
                                {
                                    "0": "Edina",
                                    "1": "Minnesota"
                                },
                                {
                                    "0": "Edmonton",
                                    "1": "Alberta"
                                },
                                {
                                    "0": "El Cajon",
                                    "1": "California"
                                },
                                {
                                    "0": "El Segundo",
                                    "1": "California"
                                },
                                {
                                    "0": "Elgin",
                                    "1": "Illinois"
                                },
                                {
                                    "0": "Elk Grove",
                                    "1": "California"
                                },
                                {
                                    "0": "Ellensburg",
                                    "1": "Washington"
                                },
                                {
                                    "0": "Englewood",
                                    "1": "Colorado"
                                },
                                {
                                    "0": "Escondido",
                                    "1": "California"
                                },
                                {
                                    "0": "Etobicoke",
                                    "1": "Ontario"
                                },
                                {
                                    "0": "Eureka",
                                    "1": "California"
                                },
                                {
                                    "0": "Everett",
                                    "1": "Washington"
                                },
                                {
                                    "0": "Federal Way",
                                    "1": "Washington"
                                },
                                {
                                    "0": "Ferguson",
                                    "1": "Missouri"
                                },
                                {
                                    "0": "Fernley",
                                    "1": "Nevada"
                                },
                                {
                                    "0": "Fontana",
                                    "1": "California"
                                },
                                {
                                    "0": "Fort Worth",
                                    "1": "Texas"
                                },
                                {
                                    "0": "Fremont",
                                    "1": "California"
                                },
                                {
                                    "0": "Fullerton",
                                    "1": "California"
                                },
                                {
                                    "0": "Garland",
                                    "1": "Texas"
                                },
                                {
                                    "0": "Gilbert",
                                    "1": "Arizona"
                                },
                                {
                                    "0": "Gilroy",
                                    "1": "California"
                                },
                                {
                                    "0": "Gloucestershire",
                                    "1": "England"
                                },
                                {
                                    "0": "Great Falls",
                                    "1": "Montana"
                                },
                                {
                                    "0": "Greeley",
                                    "1": "Colorado"
                                },
                                {
                                    "0": "Hanford",
                                    "1": "California"
                                },
                                {
                                    "0": "Hayward",
                                    "1": "California"
                                },
                                {
                                    "0": "High Wycombe",
                                    "1": "England"
                                },
                                {
                                    "0": "Hillsboro",
                                    "1": "Oregon"
                                },
                                {
                                    "0": "Hillsboro",
                                    "1": "Texas"
                                },
                                {
                                    "0": "Holland",
                                    "1": "Michigan"
                                },
                                {
                                    "0": "Houston",
                                    "1": "Texas"
                                },
                                {
                                    "0": "Howell",
                                    "1": "Michigan"
                                },
                                {
                                    "0": "Hull",
                                    "1": "Quebec"
                                },
                                {
                                    "0": "Humble",
                                    "1": "Texas"
                                },
                                {
                                    "0": "Idaho Falls",
                                    "1": "Idaho"
                                },
                                {
                                    "0": "Irvine",
                                    "1": "California"
                                },
                                {
                                    "0": "Irving",
                                    "1": "Texas"
                                },
                                {
                                    "0": "Issaquah",
                                    "1": "Washington"
                                },
                                {
                                    "0": "Jefferson City",
                                    "1": "Missouri"
                                },
                                {
                                    "0": "Johnson Creek",
                                    "1": "Wisconsin"
                                },
                                {
                                    "0": "Joliet",
                                    "1": "Illinois"
                                },
                                {
                                    "0": "Kanata",
                                    "1": "Ontario"
                                },
                                {
                                    "0": "Kansas City",
                                    "1": "Missouri"
                                },
                                {
                                    "0": "Kelso",
                                    "1": "Washington"
                                },
                                {
                                    "0": "Kennewick",
                                    "1": "Washington"
                                },
                                {
                                    "0": "Kent",
                                    "1": "Washington"
                                },
                                {
                                    "0": "Killeen",
                                    "1": "Texas"
                                },
                                {
                                    "0": "Kingston",
                                    "1": "Ontario"
                                },
                                {
                                    "0": "Kirkland",
                                    "1": "Washington"
                                },
                                {
                                    "0": "Klamath Falls",
                                    "1": "Oregon"
                                },
                                {
                                    "0": "La Marque",
                                    "1": "Texas"
                                },
                                {
                                    "0": "La Mesa",
                                    "1": "California"
                                },
                                {
                                    "0": "Lacey",
                                    "1": "Washington"
                                },
                                {
                                    "0": "Lake Elsinore",
                                    "1": "California"
                                },
                                {
                                    "0": "Lakewood",
                                    "1": "California"
                                },
                                {
                                    "0": "Lancaster",
                                    "1": "England"
                                },
                                {
                                    "0": "Laredo",
                                    "1": "Texas"
                                },
                                {
                                    "0": "Las Cruces",
                                    "1": "New Mexico"
                                },
                                {
                                    "0": "Las Vegas",
                                    "1": "Nevada"
                                },
                                {
                                    "0": "Lewiston",
                                    "1": "Idaho"
                                },
                                {
                                    "0": "Liverpool",
                                    "1": "England"
                                },
                                {
                                    "0": "London",
                                    "1": "England"
                                },
                                {
                                    "0": "Longmont",
                                    "1": "Colorado"
                                },
                                {
                                    "0": "Longview",
                                    "1": "Washington"
                                },
                                {
                                    "0": "Loveland",
                                    "1": "Colorado"
                                },
                                {
                                    "0": "Lynnwood",
                                    "1": "Washington"
                                },
                                {
                                    "0": "Madison Heights",
                                    "1": "Michigan"
                                },
                                {
                                    "0": "Maidenhead",
                                    "1": "England"
                                },
                                {
                                    "0": "Markham",
                                    "1": "Ontario"
                                },
                                {
                                    "0": "Medford",
                                    "1": "Minnesota"
                                },
                                {
                                    "0": "Medford",
                                    "1": "Oregon"
                                },
                                {
                                    "0": "Mesa",
                                    "1": "Arizona"
                                },
                                {
                                    "0": "Mesquite",
                                    "1": "Texas"
                                },
                                {
                                    "0": "Midland",
                                    "1": "Michigan"
                                },
                                {
                                    "0": "Milpitas",
                                    "1": "California"
                                },
                                {
                                    "0": "Milton Keynes",
                                    "1": "England"
                                },
                                {
                                    "0": "Milwaukee",
                                    "1": "Wisconsin"
                                },
                                {
                                    "0": "Milwaukie",
                                    "1": "Oregon"
                                },
                                {
                                    "0": "Minneapolis",
                                    "1": "Minnesota"
                                },
                                {
                                    "0": "Mississauga",
                                    "1": "Ontario"
                                },
                                {
                                    "0": "Missoula",
                                    "1": "Montana"
                                },
                                {
                                    "0": "Modesto",
                                    "1": "California"
                                },
                                {
                                    "0": "Moline",
                                    "1": "Illinois"
                                },
                                {
                                    "0": "Monroe",
                                    "1": "Michigan"
                                },
                                {
                                    "0": "Monrovia",
                                    "1": "California"
                                },
                                {
                                    "0": "Montreal",
                                    "1": "Quebec"
                                },
                                {
                                    "0": "Mosinee",
                                    "1": "Wisconsin"
                                },
                                {
                                    "0": "Nepean",
                                    "1": "Ontario"
                                },
                                {
                                    "0": "Newark",
                                    "1": "California"
                                },
                                {
                                    "0": "Newport Beach",
                                    "1": "California"
                                },
                                {
                                    "0": "Norridge",
                                    "1": "Illinois"
                                },
                                {
                                    "0": "North Bend",
                                    "1": "Washington"
                                },
                                {
                                    "0": "North Las Vegas",
                                    "1": "Nevada"
                                },
                                {
                                    "0": "North Sioux City",
                                    "1": "South Dakota"
                                },
                                {
                                    "0": "North York",
                                    "1": "Ontario"
                                },
                                {
                                    "0": "Norwalk",
                                    "1": "California"
                                },
                                {
                                    "0": "Novi",
                                    "1": "Michigan"
                                },
                                {
                                    "0": "Odessa",
                                    "1": "Missouri"
                                },
                                {
                                    "0": "Ogden",
                                    "1": "Utah"
                                },
                                {
                                    "0": "Ontario",
                                    "1": "California"
                                },
                                {
                                    "0": "Orange",
                                    "1": "California"
                                },
                                {
                                    "0": "Ottawa",
                                    "1": "Ontario"
                                },
                                {
                                    "0": "Outremont",
                                    "1": "Quebec"
                                },
                                {
                                    "0": "Oxford",
                                    "1": "England"
                                },
                                {
                                    "0": "Oxnard",
                                    "1": "California"
                                },
                                {
                                    "0": "Oxon",
                                    "1": "England"
                                },
                                {
                                    "0": "Park City",
                                    "1": "Utah"
                                },
                                {
                                    "0": "Parker",
                                    "1": "Colorado"
                                },
                                {
                                    "0": "Peoria",
                                    "1": "Illinois"
                                },
                                {
                                    "0": "Phoenix",
                                    "1": "Arizona"
                                },
                                {
                                    "0": "Plano",
                                    "1": "Texas"
                                },
                                {
                                    "0": "Pleasanton",
                                    "1": "California"
                                },
                                {
                                    "0": "Pnot-Rouge",
                                    "1": "Quebec"
                                },
                                {
                                    "0": "Pontiac",
                                    "1": "Michigan"
                                },
                                {
                                    "0": "Port Huron",
                                    "1": "Michigan"
                                },
                                {
                                    "0": "Port Orchard",
                                    "1": "Washington"
                                },
                                {
                                    "0": "Portland",
                                    "1": "Oregon"
                                },
                                {
                                    "0": "Puyallup",
                                    "1": "Washington"
                                },
                                {
                                    "0": "Quebec",
                                    "1": "Quebec"
                                },
                                {
                                    "0": "Racine",
                                    "1": "Wisconsin"
                                },
                                {
                                    "0": "Reading",
                                    "1": "England"
                                },
                                {
                                    "0": "Redford",
                                    "1": "Michigan"
                                },
                                {
                                    "0": "Redlands",
                                    "1": "California"
                                },
                                {
                                    "0": "Redmond",
                                    "1": "Washington"
                                },
                                {
                                    "0": "Reno",
                                    "1": "Nevada"
                                },
                                {
                                    "0": "Renton",
                                    "1": "Washington"
                                },
                                {
                                    "0": "Richmond",
                                    "1": "British Columbia"
                                },
                                {
                                    "0": "Richmond Hill",
                                    "1": "Ontario"
                                },
                                {
                                    "0": "Rio Rancho",
                                    "1": "New Mexico"
                                },
                                {
                                    "0": "Riverton",
                                    "1": "Utah"
                                },
                                {
                                    "0": "Rock Springs",
                                    "1": "Wyoming"
                                },
                                {
                                    "0": "Round Rock",
                                    "1": "Texas"
                                },
                                {
                                    "0": "Sacramento",
                                    "1": "California"
                                },
                                {
                                    "0": "Saginaw",
                                    "1": "Michigan"
                                },
                                {
                                    "0": "Saint Ann",
                                    "1": "Missouri"
                                },
                                {
                                    "0": "Saint John",
                                    "1": "Brunswick"
                                },
                                {
                                    "0": "Saint Louis",
                                    "1": "Missouri"
                                },
                                {
                                    "0": "Sainte-Foy",
                                    "1": "Quebec"
                                },
                                {
                                    "0": "Salem",
                                    "1": "Oregon"
                                },
                                {
                                    "0": "Salt Lake City",
                                    "1": "Utah"
                                },
                                {
                                    "0": "San Antonio",
                                    "1": "Texas"
                                },
                                {
                                    "0": "San Bruno",
                                    "1": "California"
                                },
                                {
                                    "0": "San Diego",
                                    "1": "California"
                                },
                                {
                                    "0": "San Francisco",
                                    "1": "California"
                                },
                                {
                                    "0": "San Jose",
                                    "1": "California"
                                },
                                {
                                    "0": "San Mateo",
                                    "1": "California"
                                },
                                {
                                    "0": "San Ramon",
                                    "1": "California"
                                },
                                {
                                    "0": "San Ysidro",
                                    "1": "California"
                                },
                                {
                                    "0": "Sand City",
                                    "1": "California"
                                },
                                {
                                    "0": "Sandpoint",
                                    "1": "Idaho"
                                },
                                {
                                    "0": "Sandy",
                                    "1": "Utah"
                                },
                                {
                                    "0": "Santa Ana",
                                    "1": "California"
                                },
                                {
                                    "0": "Santa Fe",
                                    "1": "New Mexico"
                                },
                                {
                                    "0": "Santa Monica",
                                    "1": "California"
                                },
                                {
                                    "0": "Scarborough",
                                    "1": "Ontario"
                                },
                                {
                                    "0": "Scottsdale",
                                    "1": "Arizona"
                                },
                                {
                                    "0": "Seattle",
                                    "1": "Washington"
                                },
                                {
                                    "0": "Sequim",
                                    "1": "Washington"
                                },
                                {
                                    "0": "Shelton",
                                    "1": "Washington"
                                },
                                {
                                    "0": "Sherman Oaks",
                                    "1": "California"
                                },
                                {
                                    "0": "Sillery",
                                    "1": "Quebec"
                                },
                                {
                                    "0": "Simi Valley",
                                    "1": "California"
                                },
                                {
                                    "0": "Southfield",
                                    "1": "Michigan"
                                },
                                {
                                    "0": "Southgate",
                                    "1": "Michigan"
                                },
                                {
                                    "0": "Sparks",
                                    "1": "Nevada"
                                },
                                {
                                    "0": "Spokane",
                                    "1": "Washington"
                                },
                                {
                                    "0": "Springfield",
                                    "1": "Oregon"
                                },
                                {
                                    "0": "Stafford",
                                    "1": "Texas"
                                },
                                {
                                    "0": "Stockton",
                                    "1": "California"
                                },
                                {
                                    "0": "Sugar Land",
                                    "1": "Texas"
                                },
                                {
                                    "0": "Surprise",
                                    "1": "Arizona"
                                },
                                {
                                    "0": "Surrey",
                                    "1": "British Columbia"
                                },
                                {
                                    "0": "Tacoma",
                                    "1": "Washington"
                                },
                                {
                                    "0": "Tigard",
                                    "1": "Oregon"
                                },
                                {
                                    "0": "Tooele",
                                    "1": "Utah"
                                },
                                {
                                    "0": "Toronto",
                                    "1": "Ontario"
                                },
                                {
                                    "0": "Torrance",
                                    "1": "California"
                                },
                                {
                                    "0": "Trabuco Canyon",
                                    "1": "California"
                                },
                                {
                                    "0": "Troutdale",
                                    "1": "Oregon"
                                },
                                {
                                    "0": "Tucson",
                                    "1": "Arizona"
                                },
                                {
                                    "0": "Tuscola",
                                    "1": "Illinois"
                                },
                                {
                                    "0": "Union City",
                                    "1": "California"
                                },
                                {
                                    "0": "Union Gap",
                                    "1": "Washington"
                                },
                                {
                                    "0": "Upland",
                                    "1": "California"
                                },
                                {
                                    "0": "Vacaville",
                                    "1": "California"
                                },
                                {
                                    "0": "Van Nuys",
                                    "1": "California"
                                },
                                {
                                    "0": "Vancouver",
                                    "1": "British Columbia"
                                },
                                {
                                    "0": "Vancouver",
                                    "1": "Ontario"
                                },
                                {
                                    "0": "Victoria",
                                    "1": "British Columbia"
                                },
                                {
                                    "0": "Ville De'anjou",
                                    "1": "Quebec"
                                },
                                {
                                    "0": "Visalia",
                                    "1": "California"
                                },
                                {
                                    "0": "Vista",
                                    "1": "California"
                                },
                                {
                                    "0": "W. York",
                                    "1": "England"
                                },
                                {
                                    "0": "Walnut Creek",
                                    "1": "California"
                                },
                                {
                                    "0": "Warrington",
                                    "1": "England"
                                },
                                {
                                    "0": "Washougal",
                                    "1": "Washington"
                                },
                                {
                                    "0": "Waterloo",
                                    "1": "Ontario"
                                },
                                {
                                    "0": "Wenatchee",
                                    "1": "Washington"
                                },
                                {
                                    "0": "West Chicago",
                                    "1": "Illinois"
                                },
                                {
                                    "0": "West Sussex",
                                    "1": "England"
                                },
                                {
                                    "0": "Westland",
                                    "1": "Michigan"
                                },
                                {
                                    "0": "Westminster",
                                    "1": "Colorado"
                                },
                                {
                                    "0": "Weston",
                                    "1": "Ontario"
                                },
                                {
                                    "0": "Whittier",
                                    "1": "California"
                                },
                                {
                                    "0": "Winnipeg",
                                    "1": "Manitoba"
                                },
                                {
                                    "0": "Wokingham",
                                    "1": "England"
                                },
                                {
                                    "0": "Wood Dale",
                                    "1": "Illinois"
                                },
                                {
                                    "0": "Woodbury",
                                    "1": "Minnesota"
                                },
                                {
                                    "0": "Woodinville",
                                    "1": "Washington"
                                },
                                {
                                    "0": "Woolston",
                                    "1": "England"
                                },
                                {
                                    "0": "York",
                                    "1": "England"
                                },
                                {
                                    "0": "Zeeland",
                                    "1": "Michigan"
                                }
                            ]
                        },
                        "text/html": "<table><tr><th>City</th><th>StateProvince</th></tr><tr><td>Abingdon</td><td>England</td></tr><tr><td>Albany</td><td>Oregon</td></tr><tr><td>Alhambra</td><td>California</td></tr><tr><td>Alpine</td><td>California</td></tr><tr><td>Arlington</td><td>Texas</td></tr><tr><td>Auburn</td><td>California</td></tr><tr><td>Aurora</td><td>Ontario</td></tr><tr><td>Austin</td><td>Texas</td></tr><tr><td>Baldwin Park</td><td>California</td></tr><tr><td>Barrie</td><td>Ontario</td></tr><tr><td>Barstow</td><td>California</td></tr><tr><td>Basingstoke Hants</td><td>England</td></tr><tr><td>Baytown</td><td>Texas</td></tr><tr><td>Beaverton</td><td>Oregon</td></tr><tr><td>Bell Gardens</td><td>California</td></tr><tr><td>Bellevue</td><td>Washington</td></tr><tr><td>Bellingham</td><td>Washington</td></tr><tr><td>Berks</td><td>England</td></tr><tr><td>Berkshire</td><td>England</td></tr><tr><td>Billings</td><td>Montana</td></tr><tr><td>Birmingham</td><td>England</td></tr><tr><td>Bothell</td><td>Washington</td></tr><tr><td>Bountiful</td><td>Utah</td></tr><tr><td>Bracknell</td><td>England</td></tr><tr><td>Brampton</td><td>Ontario</td></tr><tr><td>Branch</td><td>Minnesota</td></tr><tr><td>Branson</td><td>Missouri</td></tr><tr><td>Brossard</td><td>Quebec</td></tr><tr><td>Burnaby</td><td>British Columbia</td></tr><tr><td>Calgary</td><td>Alberta</td></tr><tr><td>Camarillo</td><td>California</td></tr><tr><td>Cambridge</td><td>England</td></tr><tr><td>Canoga Park</td><td>California</td></tr><tr><td>Carol Stream</td><td>Illinois</td></tr><tr><td>Carrollton</td><td>Texas</td></tr><tr><td>Carson</td><td>California</td></tr><tr><td>Casper</td><td>Wyoming</td></tr><tr><td>Cedar City</td><td>Utah</td></tr><tr><td>Cedar Park</td><td>Texas</td></tr><tr><td>Cerritos</td><td>California</td></tr><tr><td>Chalk Riber</td><td>Ontario</td></tr><tr><td>Chandler</td><td>Arizona</td></tr><tr><td>Chehalis</td><td>Washington</td></tr><tr><td>Cheyenne</td><td>Wyoming</td></tr><tr><td>Chicago</td><td>Illinois</td></tr><tr><td>Citrus Heights</td><td>California</td></tr><tr><td>City Of Commerce</td><td>California</td></tr><tr><td>Clackamas</td><td>Oregon</td></tr><tr><td>College Station</td><td>Texas</td></tr><tr><td>Corpus Christi</td><td>Texas</td></tr><tr><td>Culver City</td><td>California</td></tr><tr><td>Dallas</td><td>Texas</td></tr><tr><td>Daly City</td><td>California</td></tr><tr><td>Denby</td><td>South Dakota</td></tr><tr><td>Denver</td><td>Colorado</td></tr><tr><td>Detroit</td><td>Michigan</td></tr><tr><td>Dorval</td><td>Quebec</td></tr><tr><td>Downey</td><td>California</td></tr><tr><td>Duluth</td><td>Minnesota</td></tr><tr><td>Edina</td><td>Minnesota</td></tr><tr><td>Edmonton</td><td>Alberta</td></tr><tr><td>El Cajon</td><td>California</td></tr><tr><td>El Segundo</td><td>California</td></tr><tr><td>Elgin</td><td>Illinois</td></tr><tr><td>Elk Grove</td><td>California</td></tr><tr><td>Ellensburg</td><td>Washington</td></tr><tr><td>Englewood</td><td>Colorado</td></tr><tr><td>Escondido</td><td>California</td></tr><tr><td>Etobicoke</td><td>Ontario</td></tr><tr><td>Eureka</td><td>California</td></tr><tr><td>Everett</td><td>Washington</td></tr><tr><td>Federal Way</td><td>Washington</td></tr><tr><td>Ferguson</td><td>Missouri</td></tr><tr><td>Fernley</td><td>Nevada</td></tr><tr><td>Fontana</td><td>California</td></tr><tr><td>Fort Worth</td><td>Texas</td></tr><tr><td>Fremont</td><td>California</td></tr><tr><td>Fullerton</td><td>California</td></tr><tr><td>Garland</td><td>Texas</td></tr><tr><td>Gilbert</td><td>Arizona</td></tr><tr><td>Gilroy</td><td>California</td></tr><tr><td>Gloucestershire</td><td>England</td></tr><tr><td>Great Falls</td><td>Montana</td></tr><tr><td>Greeley</td><td>Colorado</td></tr><tr><td>Hanford</td><td>California</td></tr><tr><td>Hayward</td><td>California</td></tr><tr><td>High Wycombe</td><td>England</td></tr><tr><td>Hillsboro</td><td>Oregon</td></tr><tr><td>Hillsboro</td><td>Texas</td></tr><tr><td>Holland</td><td>Michigan</td></tr><tr><td>Houston</td><td>Texas</td></tr><tr><td>Howell</td><td>Michigan</td></tr><tr><td>Hull</td><td>Quebec</td></tr><tr><td>Humble</td><td>Texas</td></tr><tr><td>Idaho Falls</td><td>Idaho</td></tr><tr><td>Irvine</td><td>California</td></tr><tr><td>Irving</td><td>Texas</td></tr><tr><td>Issaquah</td><td>Washington</td></tr><tr><td>Jefferson City</td><td>Missouri</td></tr><tr><td>Johnson Creek</td><td>Wisconsin</td></tr><tr><td>Joliet</td><td>Illinois</td></tr><tr><td>Kanata</td><td>Ontario</td></tr><tr><td>Kansas City</td><td>Missouri</td></tr><tr><td>Kelso</td><td>Washington</td></tr><tr><td>Kennewick</td><td>Washington</td></tr><tr><td>Kent</td><td>Washington</td></tr><tr><td>Killeen</td><td>Texas</td></tr><tr><td>Kingston</td><td>Ontario</td></tr><tr><td>Kirkland</td><td>Washington</td></tr><tr><td>Klamath Falls</td><td>Oregon</td></tr><tr><td>La Marque</td><td>Texas</td></tr><tr><td>La Mesa</td><td>California</td></tr><tr><td>Lacey</td><td>Washington</td></tr><tr><td>Lake Elsinore</td><td>California</td></tr><tr><td>Lakewood</td><td>California</td></tr><tr><td>Lancaster</td><td>England</td></tr><tr><td>Laredo</td><td>Texas</td></tr><tr><td>Las Cruces</td><td>New Mexico</td></tr><tr><td>Las Vegas</td><td>Nevada</td></tr><tr><td>Lewiston</td><td>Idaho</td></tr><tr><td>Liverpool</td><td>England</td></tr><tr><td>London</td><td>England</td></tr><tr><td>Longmont</td><td>Colorado</td></tr><tr><td>Longview</td><td>Washington</td></tr><tr><td>Loveland</td><td>Colorado</td></tr><tr><td>Lynnwood</td><td>Washington</td></tr><tr><td>Madison Heights</td><td>Michigan</td></tr><tr><td>Maidenhead</td><td>England</td></tr><tr><td>Markham</td><td>Ontario</td></tr><tr><td>Medford</td><td>Minnesota</td></tr><tr><td>Medford</td><td>Oregon</td></tr><tr><td>Mesa</td><td>Arizona</td></tr><tr><td>Mesquite</td><td>Texas</td></tr><tr><td>Midland</td><td>Michigan</td></tr><tr><td>Milpitas</td><td>California</td></tr><tr><td>Milton Keynes</td><td>England</td></tr><tr><td>Milwaukee</td><td>Wisconsin</td></tr><tr><td>Milwaukie</td><td>Oregon</td></tr><tr><td>Minneapolis</td><td>Minnesota</td></tr><tr><td>Mississauga</td><td>Ontario</td></tr><tr><td>Missoula</td><td>Montana</td></tr><tr><td>Modesto</td><td>California</td></tr><tr><td>Moline</td><td>Illinois</td></tr><tr><td>Monroe</td><td>Michigan</td></tr><tr><td>Monrovia</td><td>California</td></tr><tr><td>Montreal</td><td>Quebec</td></tr><tr><td>Mosinee</td><td>Wisconsin</td></tr><tr><td>Nepean</td><td>Ontario</td></tr><tr><td>Newark</td><td>California</td></tr><tr><td>Newport Beach</td><td>California</td></tr><tr><td>Norridge</td><td>Illinois</td></tr><tr><td>North Bend</td><td>Washington</td></tr><tr><td>North Las Vegas</td><td>Nevada</td></tr><tr><td>North Sioux City</td><td>South Dakota</td></tr><tr><td>North York</td><td>Ontario</td></tr><tr><td>Norwalk</td><td>California</td></tr><tr><td>Novi</td><td>Michigan</td></tr><tr><td>Odessa</td><td>Missouri</td></tr><tr><td>Ogden</td><td>Utah</td></tr><tr><td>Ontario</td><td>California</td></tr><tr><td>Orange</td><td>California</td></tr><tr><td>Ottawa</td><td>Ontario</td></tr><tr><td>Outremont</td><td>Quebec</td></tr><tr><td>Oxford</td><td>England</td></tr><tr><td>Oxnard</td><td>California</td></tr><tr><td>Oxon</td><td>England</td></tr><tr><td>Park City</td><td>Utah</td></tr><tr><td>Parker</td><td>Colorado</td></tr><tr><td>Peoria</td><td>Illinois</td></tr><tr><td>Phoenix</td><td>Arizona</td></tr><tr><td>Plano</td><td>Texas</td></tr><tr><td>Pleasanton</td><td>California</td></tr><tr><td>Pnot-Rouge</td><td>Quebec</td></tr><tr><td>Pontiac</td><td>Michigan</td></tr><tr><td>Port Huron</td><td>Michigan</td></tr><tr><td>Port Orchard</td><td>Washington</td></tr><tr><td>Portland</td><td>Oregon</td></tr><tr><td>Puyallup</td><td>Washington</td></tr><tr><td>Quebec</td><td>Quebec</td></tr><tr><td>Racine</td><td>Wisconsin</td></tr><tr><td>Reading</td><td>England</td></tr><tr><td>Redford</td><td>Michigan</td></tr><tr><td>Redlands</td><td>California</td></tr><tr><td>Redmond</td><td>Washington</td></tr><tr><td>Reno</td><td>Nevada</td></tr><tr><td>Renton</td><td>Washington</td></tr><tr><td>Richmond</td><td>British Columbia</td></tr><tr><td>Richmond Hill</td><td>Ontario</td></tr><tr><td>Rio Rancho</td><td>New Mexico</td></tr><tr><td>Riverton</td><td>Utah</td></tr><tr><td>Rock Springs</td><td>Wyoming</td></tr><tr><td>Round Rock</td><td>Texas</td></tr><tr><td>Sacramento</td><td>California</td></tr><tr><td>Saginaw</td><td>Michigan</td></tr><tr><td>Saint Ann</td><td>Missouri</td></tr><tr><td>Saint John</td><td>Brunswick</td></tr><tr><td>Saint Louis</td><td>Missouri</td></tr><tr><td>Sainte-Foy</td><td>Quebec</td></tr><tr><td>Salem</td><td>Oregon</td></tr><tr><td>Salt Lake City</td><td>Utah</td></tr><tr><td>San Antonio</td><td>Texas</td></tr><tr><td>San Bruno</td><td>California</td></tr><tr><td>San Diego</td><td>California</td></tr><tr><td>San Francisco</td><td>California</td></tr><tr><td>San Jose</td><td>California</td></tr><tr><td>San Mateo</td><td>California</td></tr><tr><td>San Ramon</td><td>California</td></tr><tr><td>San Ysidro</td><td>California</td></tr><tr><td>Sand City</td><td>California</td></tr><tr><td>Sandpoint</td><td>Idaho</td></tr><tr><td>Sandy</td><td>Utah</td></tr><tr><td>Santa Ana</td><td>California</td></tr><tr><td>Santa Fe</td><td>New Mexico</td></tr><tr><td>Santa Monica</td><td>California</td></tr><tr><td>Scarborough</td><td>Ontario</td></tr><tr><td>Scottsdale</td><td>Arizona</td></tr><tr><td>Seattle</td><td>Washington</td></tr><tr><td>Sequim</td><td>Washington</td></tr><tr><td>Shelton</td><td>Washington</td></tr><tr><td>Sherman Oaks</td><td>California</td></tr><tr><td>Sillery</td><td>Quebec</td></tr><tr><td>Simi Valley</td><td>California</td></tr><tr><td>Southfield</td><td>Michigan</td></tr><tr><td>Southgate</td><td>Michigan</td></tr><tr><td>Sparks</td><td>Nevada</td></tr><tr><td>Spokane</td><td>Washington</td></tr><tr><td>Springfield</td><td>Oregon</td></tr><tr><td>Stafford</td><td>Texas</td></tr><tr><td>Stockton</td><td>California</td></tr><tr><td>Sugar Land</td><td>Texas</td></tr><tr><td>Surprise</td><td>Arizona</td></tr><tr><td>Surrey</td><td>British Columbia</td></tr><tr><td>Tacoma</td><td>Washington</td></tr><tr><td>Tigard</td><td>Oregon</td></tr><tr><td>Tooele</td><td>Utah</td></tr><tr><td>Toronto</td><td>Ontario</td></tr><tr><td>Torrance</td><td>California</td></tr><tr><td>Trabuco Canyon</td><td>California</td></tr><tr><td>Troutdale</td><td>Oregon</td></tr><tr><td>Tucson</td><td>Arizona</td></tr><tr><td>Tuscola</td><td>Illinois</td></tr><tr><td>Union City</td><td>California</td></tr><tr><td>Union Gap</td><td>Washington</td></tr><tr><td>Upland</td><td>California</td></tr><tr><td>Vacaville</td><td>California</td></tr><tr><td>Van Nuys</td><td>California</td></tr><tr><td>Vancouver</td><td>British Columbia</td></tr><tr><td>Vancouver</td><td>Ontario</td></tr><tr><td>Victoria</td><td>British Columbia</td></tr><tr><td>Ville De'anjou</td><td>Quebec</td></tr><tr><td>Visalia</td><td>California</td></tr><tr><td>Vista</td><td>California</td></tr><tr><td>W. York</td><td>England</td></tr><tr><td>Walnut Creek</td><td>California</td></tr><tr><td>Warrington</td><td>England</td></tr><tr><td>Washougal</td><td>Washington</td></tr><tr><td>Waterloo</td><td>Ontario</td></tr><tr><td>Wenatchee</td><td>Washington</td></tr><tr><td>West Chicago</td><td>Illinois</td></tr><tr><td>West Sussex</td><td>England</td></tr><tr><td>Westland</td><td>Michigan</td></tr><tr><td>Westminster</td><td>Colorado</td></tr><tr><td>Weston</td><td>Ontario</td></tr><tr><td>Whittier</td><td>California</td></tr><tr><td>Winnipeg</td><td>Manitoba</td></tr><tr><td>Wokingham</td><td>England</td></tr><tr><td>Wood Dale</td><td>Illinois</td></tr><tr><td>Woodbury</td><td>Minnesota</td></tr><tr><td>Woodinville</td><td>Washington</td></tr><tr><td>Woolston</td><td>England</td></tr><tr><td>York</td><td>England</td></tr><tr><td>Zeeland</td><td>Michigan</td></tr></table>"
                    },
                    "metadata": {}
                }
            ],
            "execution_count": 1
        },
        {
            "cell_type": "markdown",
            "source": [
                "**2.** Retrieve the heaviest products Transportation costs are increasing and you need to identify the heaviest products. Retrieve the names of the top ten percent of products by weight."
            ],
            "metadata": {
                "azdata_cell_guid": "bff17fb4-e1f1-46d4-8e51-35c18869a41b"
            },
            "attachments": {}
        },
        {
            "cell_type": "code",
            "source": [
                "SELECT TOP 10 PERCENT Name \r\n",
                "FROM Product\r\n",
                "ORDER BY Weight DESC; /* USAMOS O ORDER BY PARA TRAZER OS 10% DOS PESOS QUE É A COLUNA WEIGHT */"
            ],
            "metadata": {
                "azdata_cell_guid": "c4a13460-1e32-4ce3-bee5-4794608d536a",
                "tags": []
            },
            "outputs": [
                {
                    "output_type": "display_data",
                    "data": {
                        "text/html": "(30 rows affected)"
                    },
                    "metadata": {}
                },
                {
                    "output_type": "display_data",
                    "data": {
                        "text/html": "Total execution time: 00:00:00.097"
                    },
                    "metadata": {}
                },
                {
                    "output_type": "execute_result",
                    "execution_count": 5,
                    "data": {
                        "application/vnd.dataresource+json": {
                            "schema": {
                                "fields": [
                                    {
                                        "name": "Name"
                                    }
                                ]
                            },
                            "data": [
                                {
                                    "0": "Touring-3000 Blue, 62"
                                },
                                {
                                    "0": "Touring-3000 Yellow, 62"
                                },
                                {
                                    "0": "Touring-3000 Blue, 58"
                                },
                                {
                                    "0": "Touring-3000 Yellow, 58"
                                },
                                {
                                    "0": "Touring-3000 Blue, 54"
                                },
                                {
                                    "0": "Touring-3000 Yellow, 54"
                                },
                                {
                                    "0": "Touring-3000 Yellow, 50"
                                },
                                {
                                    "0": "Touring-3000 Blue, 50"
                                },
                                {
                                    "0": "Touring-3000 Blue, 44"
                                },
                                {
                                    "0": "Touring-3000 Yellow, 44"
                                },
                                {
                                    "0": "Mountain-500 Silver, 52"
                                },
                                {
                                    "0": "Mountain-500 Black, 52"
                                },
                                {
                                    "0": "Mountain-500 Black, 48"
                                },
                                {
                                    "0": "Mountain-500 Silver, 48"
                                },
                                {
                                    "0": "Mountain-500 Silver, 44"
                                },
                                {
                                    "0": "Mountain-500 Black, 44"
                                },
                                {
                                    "0": "Touring-2000 Blue, 60"
                                },
                                {
                                    "0": "Mountain-500 Black, 42"
                                },
                                {
                                    "0": "Mountain-500 Silver, 42"
                                },
                                {
                                    "0": "Touring-2000 Blue, 54"
                                },
                                {
                                    "0": "Touring-2000 Blue, 50"
                                },
                                {
                                    "0": "Mountain-400-W Silver, 46"
                                },
                                {
                                    "0": "Mountain-500 Silver, 40"
                                },
                                {
                                    "0": "Mountain-500 Black, 40"
                                },
                                {
                                    "0": "Mountain-400-W Silver, 42"
                                },
                                {
                                    "0": "Touring-2000 Blue, 46"
                                },
                                {
                                    "0": "Mountain-400-W Silver, 40"
                                },
                                {
                                    "0": "Mountain-300 Black, 48"
                                },
                                {
                                    "0": "Mountain-400-W Silver, 38"
                                },
                                {
                                    "0": "Mountain-300 Black, 44"
                                }
                            ]
                        },
                        "text/html": "<table><tr><th>Name</th></tr><tr><td>Touring-3000 Blue, 62</td></tr><tr><td>Touring-3000 Yellow, 62</td></tr><tr><td>Touring-3000 Blue, 58</td></tr><tr><td>Touring-3000 Yellow, 58</td></tr><tr><td>Touring-3000 Blue, 54</td></tr><tr><td>Touring-3000 Yellow, 54</td></tr><tr><td>Touring-3000 Yellow, 50</td></tr><tr><td>Touring-3000 Blue, 50</td></tr><tr><td>Touring-3000 Blue, 44</td></tr><tr><td>Touring-3000 Yellow, 44</td></tr><tr><td>Mountain-500 Silver, 52</td></tr><tr><td>Mountain-500 Black, 52</td></tr><tr><td>Mountain-500 Black, 48</td></tr><tr><td>Mountain-500 Silver, 48</td></tr><tr><td>Mountain-500 Silver, 44</td></tr><tr><td>Mountain-500 Black, 44</td></tr><tr><td>Touring-2000 Blue, 60</td></tr><tr><td>Mountain-500 Black, 42</td></tr><tr><td>Mountain-500 Silver, 42</td></tr><tr><td>Touring-2000 Blue, 54</td></tr><tr><td>Touring-2000 Blue, 50</td></tr><tr><td>Mountain-400-W Silver, 46</td></tr><tr><td>Mountain-500 Silver, 40</td></tr><tr><td>Mountain-500 Black, 40</td></tr><tr><td>Mountain-400-W Silver, 42</td></tr><tr><td>Touring-2000 Blue, 46</td></tr><tr><td>Mountain-400-W Silver, 40</td></tr><tr><td>Mountain-300 Black, 48</td></tr><tr><td>Mountain-400-W Silver, 38</td></tr><tr><td>Mountain-300 Black, 44</td></tr></table>"
                    },
                    "metadata": {}
                }
            ],
            "execution_count": 5
        },
        {
            "cell_type": "markdown",
            "source": [
                "**3\\.** Retrieve the heaviest 100 products not including the heaviest ten The heaviest ten products are transported by a specialist carrier, therefore you need to modify the previous query to list the heaviest 100 products not including the heaviest ten."
            ],
            "metadata": {
                "azdata_cell_guid": "e09a085b-04fc-4ead-9564-32fd8d32a999"
            },
            "attachments": {}
        },
        {
            "cell_type": "code",
            "source": [
                "SELECT Name\r\n",
                "FROM Product\r\n",
                "ORDER BY Weight DESC\r\n",
                "OFFSET 10 ROWS                /* NÃO TRAZ AS 10 PRIMEIRAS LINHAS */\r\n",
                "FETCH NEXT 100 ROWS ONLY;     /* TRAZ AS 100 PRIMEIRAS LINHAS */"
            ],
            "metadata": {
                "azdata_cell_guid": "70ca4447-48f5-488b-8ce0-9081ae456b52",
                "tags": []
            },
            "outputs": [
                {
                    "output_type": "display_data",
                    "data": {
                        "text/html": "(100 rows affected)"
                    },
                    "metadata": {}
                },
                {
                    "output_type": "display_data",
                    "data": {
                        "text/html": "Total execution time: 00:00:00.109"
                    },
                    "metadata": {}
                },
                {
                    "output_type": "execute_result",
                    "execution_count": 6,
                    "data": {
                        "application/vnd.dataresource+json": {
                            "schema": {
                                "fields": [
                                    {
                                        "name": "Name"
                                    }
                                ]
                            },
                            "data": [
                                {
                                    "0": "Mountain-500 Silver, 52"
                                },
                                {
                                    "0": "Mountain-500 Black, 52"
                                },
                                {
                                    "0": "Mountain-500 Black, 48"
                                },
                                {
                                    "0": "Mountain-500 Silver, 48"
                                },
                                {
                                    "0": "Mountain-500 Silver, 44"
                                },
                                {
                                    "0": "Mountain-500 Black, 44"
                                },
                                {
                                    "0": "Touring-2000 Blue, 60"
                                },
                                {
                                    "0": "Mountain-500 Black, 42"
                                },
                                {
                                    "0": "Mountain-500 Silver, 42"
                                },
                                {
                                    "0": "Touring-2000 Blue, 54"
                                },
                                {
                                    "0": "Touring-2000 Blue, 50"
                                },
                                {
                                    "0": "Mountain-400-W Silver, 46"
                                },
                                {
                                    "0": "Mountain-500 Silver, 40"
                                },
                                {
                                    "0": "Mountain-500 Black, 40"
                                },
                                {
                                    "0": "Mountain-400-W Silver, 42"
                                },
                                {
                                    "0": "Touring-2000 Blue, 46"
                                },
                                {
                                    "0": "Mountain-400-W Silver, 40"
                                },
                                {
                                    "0": "Mountain-300 Black, 48"
                                },
                                {
                                    "0": "Mountain-400-W Silver, 38"
                                },
                                {
                                    "0": "Mountain-300 Black, 44"
                                },
                                {
                                    "0": "Touring-1000 Blue, 60"
                                },
                                {
                                    "0": "Touring-1000 Yellow, 60"
                                },
                                {
                                    "0": "Mountain-300 Black, 40"
                                },
                                {
                                    "0": "Touring-1000 Yellow, 54"
                                },
                                {
                                    "0": "Touring-1000 Blue, 54"
                                },
                                {
                                    "0": "Touring-1000 Blue, 50"
                                },
                                {
                                    "0": "Touring-1000 Yellow, 50"
                                },
                                {
                                    "0": "Mountain-300 Black, 38"
                                },
                                {
                                    "0": "Touring-1000 Yellow, 46"
                                },
                                {
                                    "0": "Touring-1000 Blue, 46"
                                },
                                {
                                    "0": "Mountain-200 Black, 46"
                                },
                                {
                                    "0": "Mountain-200 Silver, 46"
                                },
                                {
                                    "0": "Mountain-200 Silver, 42"
                                },
                                {
                                    "0": "Mountain-200 Black, 42"
                                },
                                {
                                    "0": "Mountain-200 Black, 38"
                                },
                                {
                                    "0": "Mountain-200 Silver, 38"
                                },
                                {
                                    "0": "Mountain-100 Black, 48"
                                },
                                {
                                    "0": "Mountain-100 Silver, 48"
                                },
                                {
                                    "0": "Mountain-100 Black, 44"
                                },
                                {
                                    "0": "Mountain-100 Silver, 44"
                                },
                                {
                                    "0": "Road-750 Black, 58"
                                },
                                {
                                    "0": "Mountain-100 Silver, 42"
                                },
                                {
                                    "0": "Mountain-100 Black, 42"
                                },
                                {
                                    "0": "Road-750 Black, 52"
                                },
                                {
                                    "0": "Mountain-100 Black, 38"
                                },
                                {
                                    "0": "Mountain-100 Silver, 38"
                                },
                                {
                                    "0": "Road-750 Black, 48"
                                },
                                {
                                    "0": "Road-650 Black, 62"
                                },
                                {
                                    "0": "Road-650 Red, 62"
                                },
                                {
                                    "0": "Road-650 Red, 60"
                                },
                                {
                                    "0": "Road-650 Black, 60"
                                },
                                {
                                    "0": "Road-650 Black, 58"
                                },
                                {
                                    "0": "Road-650 Red, 58"
                                },
                                {
                                    "0": "Road-750 Black, 44"
                                },
                                {
                                    "0": "Road-650 Red, 52"
                                },
                                {
                                    "0": "Road-650 Black, 52"
                                },
                                {
                                    "0": "Road-650 Black, 48"
                                },
                                {
                                    "0": "Road-650 Red, 48"
                                },
                                {
                                    "0": "Road-650 Red, 44"
                                },
                                {
                                    "0": "Road-650 Black, 44"
                                },
                                {
                                    "0": "Road-550-W Yellow, 48"
                                },
                                {
                                    "0": "Road-550-W Yellow, 44"
                                },
                                {
                                    "0": "Road-550-W Yellow, 42"
                                },
                                {
                                    "0": "Road-450 Red, 60"
                                },
                                {
                                    "0": "Road-450 Red, 58"
                                },
                                {
                                    "0": "Road-550-W Yellow, 40"
                                },
                                {
                                    "0": "Road-450 Red, 52"
                                },
                                {
                                    "0": "Road-550-W Yellow, 38"
                                },
                                {
                                    "0": "Road-450 Red, 48"
                                },
                                {
                                    "0": "Road-450 Red, 44"
                                },
                                {
                                    "0": "Road-350-W Yellow, 48"
                                },
                                {
                                    "0": "Road-350-W Yellow, 44"
                                },
                                {
                                    "0": "Road-250 Red, 58"
                                },
                                {
                                    "0": "Road-350-W Yellow, 42"
                                },
                                {
                                    "0": "Road-250 Black, 58"
                                },
                                {
                                    "0": "Road-250 Black, 52"
                                },
                                {
                                    "0": "Road-250 Red, 52"
                                },
                                {
                                    "0": "Road-350-W Yellow, 40"
                                },
                                {
                                    "0": "Road-250 Red, 48"
                                },
                                {
                                    "0": "Road-250 Black, 48"
                                },
                                {
                                    "0": "Road-150 Red, 62"
                                },
                                {
                                    "0": "Road-250 Black, 44"
                                },
                                {
                                    "0": "Road-250 Red, 44"
                                },
                                {
                                    "0": "Road-150 Red, 56"
                                },
                                {
                                    "0": "Road-150 Red, 52"
                                },
                                {
                                    "0": "Road-150 Red, 48"
                                },
                                {
                                    "0": "Road-150 Red, 44"
                                },
                                {
                                    "0": "LL Touring Frame - Yellow, 62"
                                },
                                {
                                    "0": "LL Touring Frame - Blue, 62"
                                },
                                {
                                    "0": "LL Touring Frame - Blue, 58"
                                },
                                {
                                    "0": "LL Touring Frame - Yellow, 58"
                                },
                                {
                                    "0": "LL Touring Frame - Yellow, 54"
                                },
                                {
                                    "0": "LL Touring Frame - Blue, 54"
                                },
                                {
                                    "0": "LL Touring Frame - Blue, 50"
                                },
                                {
                                    "0": "LL Touring Frame - Yellow, 50"
                                },
                                {
                                    "0": "HL Touring Frame - Blue, 60"
                                },
                                {
                                    "0": "HL Touring Frame - Yellow, 60"
                                },
                                {
                                    "0": "HL Touring Frame - Yellow, 54"
                                },
                                {
                                    "0": "HL Touring Frame - Blue, 54"
                                },
                                {
                                    "0": "LL Mountain Frame - Silver, 52"
                                }
                            ]
                        },
                        "text/html": "<table><tr><th>Name</th></tr><tr><td>Mountain-500 Silver, 52</td></tr><tr><td>Mountain-500 Black, 52</td></tr><tr><td>Mountain-500 Black, 48</td></tr><tr><td>Mountain-500 Silver, 48</td></tr><tr><td>Mountain-500 Silver, 44</td></tr><tr><td>Mountain-500 Black, 44</td></tr><tr><td>Touring-2000 Blue, 60</td></tr><tr><td>Mountain-500 Black, 42</td></tr><tr><td>Mountain-500 Silver, 42</td></tr><tr><td>Touring-2000 Blue, 54</td></tr><tr><td>Touring-2000 Blue, 50</td></tr><tr><td>Mountain-400-W Silver, 46</td></tr><tr><td>Mountain-500 Silver, 40</td></tr><tr><td>Mountain-500 Black, 40</td></tr><tr><td>Mountain-400-W Silver, 42</td></tr><tr><td>Touring-2000 Blue, 46</td></tr><tr><td>Mountain-400-W Silver, 40</td></tr><tr><td>Mountain-300 Black, 48</td></tr><tr><td>Mountain-400-W Silver, 38</td></tr><tr><td>Mountain-300 Black, 44</td></tr><tr><td>Touring-1000 Blue, 60</td></tr><tr><td>Touring-1000 Yellow, 60</td></tr><tr><td>Mountain-300 Black, 40</td></tr><tr><td>Touring-1000 Yellow, 54</td></tr><tr><td>Touring-1000 Blue, 54</td></tr><tr><td>Touring-1000 Blue, 50</td></tr><tr><td>Touring-1000 Yellow, 50</td></tr><tr><td>Mountain-300 Black, 38</td></tr><tr><td>Touring-1000 Yellow, 46</td></tr><tr><td>Touring-1000 Blue, 46</td></tr><tr><td>Mountain-200 Black, 46</td></tr><tr><td>Mountain-200 Silver, 46</td></tr><tr><td>Mountain-200 Silver, 42</td></tr><tr><td>Mountain-200 Black, 42</td></tr><tr><td>Mountain-200 Black, 38</td></tr><tr><td>Mountain-200 Silver, 38</td></tr><tr><td>Mountain-100 Black, 48</td></tr><tr><td>Mountain-100 Silver, 48</td></tr><tr><td>Mountain-100 Black, 44</td></tr><tr><td>Mountain-100 Silver, 44</td></tr><tr><td>Road-750 Black, 58</td></tr><tr><td>Mountain-100 Silver, 42</td></tr><tr><td>Mountain-100 Black, 42</td></tr><tr><td>Road-750 Black, 52</td></tr><tr><td>Mountain-100 Black, 38</td></tr><tr><td>Mountain-100 Silver, 38</td></tr><tr><td>Road-750 Black, 48</td></tr><tr><td>Road-650 Black, 62</td></tr><tr><td>Road-650 Red, 62</td></tr><tr><td>Road-650 Red, 60</td></tr><tr><td>Road-650 Black, 60</td></tr><tr><td>Road-650 Black, 58</td></tr><tr><td>Road-650 Red, 58</td></tr><tr><td>Road-750 Black, 44</td></tr><tr><td>Road-650 Red, 52</td></tr><tr><td>Road-650 Black, 52</td></tr><tr><td>Road-650 Black, 48</td></tr><tr><td>Road-650 Red, 48</td></tr><tr><td>Road-650 Red, 44</td></tr><tr><td>Road-650 Black, 44</td></tr><tr><td>Road-550-W Yellow, 48</td></tr><tr><td>Road-550-W Yellow, 44</td></tr><tr><td>Road-550-W Yellow, 42</td></tr><tr><td>Road-450 Red, 60</td></tr><tr><td>Road-450 Red, 58</td></tr><tr><td>Road-550-W Yellow, 40</td></tr><tr><td>Road-450 Red, 52</td></tr><tr><td>Road-550-W Yellow, 38</td></tr><tr><td>Road-450 Red, 48</td></tr><tr><td>Road-450 Red, 44</td></tr><tr><td>Road-350-W Yellow, 48</td></tr><tr><td>Road-350-W Yellow, 44</td></tr><tr><td>Road-250 Red, 58</td></tr><tr><td>Road-350-W Yellow, 42</td></tr><tr><td>Road-250 Black, 58</td></tr><tr><td>Road-250 Black, 52</td></tr><tr><td>Road-250 Red, 52</td></tr><tr><td>Road-350-W Yellow, 40</td></tr><tr><td>Road-250 Red, 48</td></tr><tr><td>Road-250 Black, 48</td></tr><tr><td>Road-150 Red, 62</td></tr><tr><td>Road-250 Black, 44</td></tr><tr><td>Road-250 Red, 44</td></tr><tr><td>Road-150 Red, 56</td></tr><tr><td>Road-150 Red, 52</td></tr><tr><td>Road-150 Red, 48</td></tr><tr><td>Road-150 Red, 44</td></tr><tr><td>LL Touring Frame - Yellow, 62</td></tr><tr><td>LL Touring Frame - Blue, 62</td></tr><tr><td>LL Touring Frame - Blue, 58</td></tr><tr><td>LL Touring Frame - Yellow, 58</td></tr><tr><td>LL Touring Frame - Yellow, 54</td></tr><tr><td>LL Touring Frame - Blue, 54</td></tr><tr><td>LL Touring Frame - Blue, 50</td></tr><tr><td>LL Touring Frame - Yellow, 50</td></tr><tr><td>HL Touring Frame - Blue, 60</td></tr><tr><td>HL Touring Frame - Yellow, 60</td></tr><tr><td>HL Touring Frame - Yellow, 54</td></tr><tr><td>HL Touring Frame - Blue, 54</td></tr><tr><td>LL Mountain Frame - Silver, 52</td></tr></table>"
                    },
                    "metadata": {}
                }
            ],
            "execution_count": 6
        },
        {
            "cell_type": "markdown",
            "source": [
                "**Challenge 2**\n",
                "\n",
                "  \n",
                "\n",
                "**1\\.** Retrieve product details for product model 1 Initially, you need to find the names, colors, and sizes of the products with a product model ID 1."
            ],
            "metadata": {
                "azdata_cell_guid": "d82610e8-9752-4363-aef3-4e332f847cfb"
            },
            "attachments": {}
        },
        {
            "cell_type": "code",
            "source": [
                "SELECT Name, Color, Size\r\n",
                "FROM Product\r\n",
                "WHERE ProductModelID = 1;"
            ],
            "metadata": {
                "azdata_cell_guid": "fd715bad-3c0b-4f61-996f-d7fc0503e929"
            },
            "outputs": [
                {
                    "output_type": "display_data",
                    "data": {
                        "text/html": "(3 rows affected)"
                    },
                    "metadata": {}
                },
                {
                    "output_type": "display_data",
                    "data": {
                        "text/html": "Total execution time: 00:00:00.102"
                    },
                    "metadata": {}
                },
                {
                    "output_type": "execute_result",
                    "execution_count": 7,
                    "data": {
                        "application/vnd.dataresource+json": {
                            "schema": {
                                "fields": [
                                    {
                                        "name": "Name"
                                    },
                                    {
                                        "name": "Color"
                                    },
                                    {
                                        "name": "Size"
                                    }
                                ]
                            },
                            "data": [
                                {
                                    "0": "Classic Vest, S",
                                    "1": "Blue",
                                    "2": "S"
                                },
                                {
                                    "0": "Classic Vest, M",
                                    "1": "Blue",
                                    "2": "M"
                                },
                                {
                                    "0": "Classic Vest, L",
                                    "1": "Blue",
                                    "2": "L"
                                }
                            ]
                        },
                        "text/html": "<table><tr><th>Name</th><th>Color</th><th>Size</th></tr><tr><td>Classic Vest, S</td><td>Blue</td><td>S</td></tr><tr><td>Classic Vest, M</td><td>Blue</td><td>M</td></tr><tr><td>Classic Vest, L</td><td>Blue</td><td>L</td></tr></table>"
                    },
                    "metadata": {}
                }
            ],
            "execution_count": 7
        },
        {
            "cell_type": "markdown",
            "source": [
                "**2\\.** Filter products by color and size Retrieve the product number and name of the products that have a color of 'black', 'red', or 'white' and a size of 'S' or 'M'"
            ],
            "metadata": {
                "azdata_cell_guid": "87c503d9-6f03-4ca5-8690-9566e732aedb"
            },
            "attachments": {}
        },
        {
            "cell_type": "code",
            "source": [
                "SELECT ProductNumber, Name\r\n",
                "FROM Product\r\n",
                "WHERE Color IN ('Black', 'Red', 'White') AND Size IN ('S', 'M');"
            ],
            "metadata": {
                "azdata_cell_guid": "e6c4d4da-8804-4fb5-b9ed-6bb21ffc427c"
            },
            "outputs": [
                {
                    "output_type": "display_data",
                    "data": {
                        "text/html": "(12 rows affected)"
                    },
                    "metadata": {}
                },
                {
                    "output_type": "display_data",
                    "data": {
                        "text/html": "Total execution time: 00:00:00.102"
                    },
                    "metadata": {}
                },
                {
                    "output_type": "execute_result",
                    "execution_count": 8,
                    "data": {
                        "application/vnd.dataresource+json": {
                            "schema": {
                                "fields": [
                                    {
                                        "name": "ProductNumber"
                                    },
                                    {
                                        "name": "Name"
                                    }
                                ]
                            },
                            "data": [
                                {
                                    "0": "SO-B909-M",
                                    "1": "Mountain Bike Socks, M"
                                },
                                {
                                    "0": "SH-M897-S",
                                    "1": "Men's Sports Shorts, S"
                                },
                                {
                                    "0": "SH-M897-M",
                                    "1": "Men's Sports Shorts, M"
                                },
                                {
                                    "0": "TG-W091-S",
                                    "1": "Women's Tights, S"
                                },
                                {
                                    "0": "TG-W091-M",
                                    "1": "Women's Tights, M"
                                },
                                {
                                    "0": "GL-H102-S",
                                    "1": "Half-Finger Gloves, S"
                                },
                                {
                                    "0": "GL-H102-M",
                                    "1": "Half-Finger Gloves, M"
                                },
                                {
                                    "0": "GL-F110-S",
                                    "1": "Full-Finger Gloves, S"
                                },
                                {
                                    "0": "GL-F110-M",
                                    "1": "Full-Finger Gloves, M"
                                },
                                {
                                    "0": "SH-W890-S",
                                    "1": "Women's Mountain Shorts, S"
                                },
                                {
                                    "0": "SH-W890-M",
                                    "1": "Women's Mountain Shorts, M"
                                },
                                {
                                    "0": "SO-R809-M",
                                    "1": "Racing Socks, M"
                                }
                            ]
                        },
                        "text/html": "<table><tr><th>ProductNumber</th><th>Name</th></tr><tr><td>SO-B909-M</td><td>Mountain Bike Socks, M</td></tr><tr><td>SH-M897-S</td><td>Men's Sports Shorts, S</td></tr><tr><td>SH-M897-M</td><td>Men's Sports Shorts, M</td></tr><tr><td>TG-W091-S</td><td>Women's Tights, S</td></tr><tr><td>TG-W091-M</td><td>Women's Tights, M</td></tr><tr><td>GL-H102-S</td><td>Half-Finger Gloves, S</td></tr><tr><td>GL-H102-M</td><td>Half-Finger Gloves, M</td></tr><tr><td>GL-F110-S</td><td>Full-Finger Gloves, S</td></tr><tr><td>GL-F110-M</td><td>Full-Finger Gloves, M</td></tr><tr><td>SH-W890-S</td><td>Women's Mountain Shorts, S</td></tr><tr><td>SH-W890-M</td><td>Women's Mountain Shorts, M</td></tr><tr><td>SO-R809-M</td><td>Racing Socks, M</td></tr></table>"
                    },
                    "metadata": {}
                }
            ],
            "execution_count": 8
        },
        {
            "cell_type": "markdown",
            "source": [
                "**3.** Filter products by product number Retrieve the product number, name, and list price of products whose product number begins 'BK-'."
            ],
            "metadata": {
                "azdata_cell_guid": "fc460e52-b91a-4817-839c-92fc16de3049"
            },
            "attachments": {}
        },
        {
            "cell_type": "code",
            "source": [
                "SELECT ProductNumber, Name, ListPrice \r\n",
                "FROM Product\r\n",
                "WHERE ProductNumber LIKE 'BK%'; /* USAMOS O LIKE % PARA TRAZER APENAS OS PRODUTOS QUE COMEÇEM COM BK */"
            ],
            "metadata": {
                "azdata_cell_guid": "18689520-6a71-460b-a010-1f3b3ab0a379"
            },
            "outputs": [
                {
                    "output_type": "display_data",
                    "data": {
                        "text/html": "(97 rows affected)"
                    },
                    "metadata": {}
                },
                {
                    "output_type": "display_data",
                    "data": {
                        "text/html": "Total execution time: 00:00:00.099"
                    },
                    "metadata": {}
                },
                {
                    "output_type": "execute_result",
                    "execution_count": 10,
                    "data": {
                        "application/vnd.dataresource+json": {
                            "schema": {
                                "fields": [
                                    {
                                        "name": "ProductNumber"
                                    },
                                    {
                                        "name": "Name"
                                    },
                                    {
                                        "name": "ListPrice"
                                    }
                                ]
                            },
                            "data": [
                                {
                                    "0": "BK-R93R-62",
                                    "1": "Road-150 Red, 62",
                                    "2": "3578.2700"
                                },
                                {
                                    "0": "BK-R93R-44",
                                    "1": "Road-150 Red, 44",
                                    "2": "3578.2700"
                                },
                                {
                                    "0": "BK-R93R-48",
                                    "1": "Road-150 Red, 48",
                                    "2": "3578.2700"
                                },
                                {
                                    "0": "BK-R93R-52",
                                    "1": "Road-150 Red, 52",
                                    "2": "3578.2700"
                                },
                                {
                                    "0": "BK-R93R-56",
                                    "1": "Road-150 Red, 56",
                                    "2": "3578.2700"
                                },
                                {
                                    "0": "BK-R68R-58",
                                    "1": "Road-450 Red, 58",
                                    "2": "1457.9900"
                                },
                                {
                                    "0": "BK-R68R-60",
                                    "1": "Road-450 Red, 60",
                                    "2": "1457.9900"
                                },
                                {
                                    "0": "BK-R68R-44",
                                    "1": "Road-450 Red, 44",
                                    "2": "1457.9900"
                                },
                                {
                                    "0": "BK-R68R-48",
                                    "1": "Road-450 Red, 48",
                                    "2": "1457.9900"
                                },
                                {
                                    "0": "BK-R68R-52",
                                    "1": "Road-450 Red, 52",
                                    "2": "1457.9900"
                                },
                                {
                                    "0": "BK-R50R-58",
                                    "1": "Road-650 Red, 58",
                                    "2": "782.9900"
                                },
                                {
                                    "0": "BK-R50R-60",
                                    "1": "Road-650 Red, 60",
                                    "2": "782.9900"
                                },
                                {
                                    "0": "BK-R50R-62",
                                    "1": "Road-650 Red, 62",
                                    "2": "782.9900"
                                },
                                {
                                    "0": "BK-R50R-44",
                                    "1": "Road-650 Red, 44",
                                    "2": "782.9900"
                                },
                                {
                                    "0": "BK-R50R-48",
                                    "1": "Road-650 Red, 48",
                                    "2": "782.9900"
                                },
                                {
                                    "0": "BK-R50R-52",
                                    "1": "Road-650 Red, 52",
                                    "2": "782.9900"
                                },
                                {
                                    "0": "BK-R50B-58",
                                    "1": "Road-650 Black, 58",
                                    "2": "782.9900"
                                },
                                {
                                    "0": "BK-R50B-60",
                                    "1": "Road-650 Black, 60",
                                    "2": "782.9900"
                                },
                                {
                                    "0": "BK-R50B-62",
                                    "1": "Road-650 Black, 62",
                                    "2": "782.9900"
                                },
                                {
                                    "0": "BK-R50B-44",
                                    "1": "Road-650 Black, 44",
                                    "2": "782.9900"
                                },
                                {
                                    "0": "BK-R50B-48",
                                    "1": "Road-650 Black, 48",
                                    "2": "782.9900"
                                },
                                {
                                    "0": "BK-R50B-52",
                                    "1": "Road-650 Black, 52",
                                    "2": "782.9900"
                                },
                                {
                                    "0": "BK-M82S-38",
                                    "1": "Mountain-100 Silver, 38",
                                    "2": "3399.9900"
                                },
                                {
                                    "0": "BK-M82S-42",
                                    "1": "Mountain-100 Silver, 42",
                                    "2": "3399.9900"
                                },
                                {
                                    "0": "BK-M82S-44",
                                    "1": "Mountain-100 Silver, 44",
                                    "2": "3399.9900"
                                },
                                {
                                    "0": "BK-M82S-48",
                                    "1": "Mountain-100 Silver, 48",
                                    "2": "3399.9900"
                                },
                                {
                                    "0": "BK-M82B-38",
                                    "1": "Mountain-100 Black, 38",
                                    "2": "3374.9900"
                                },
                                {
                                    "0": "BK-M82B-42",
                                    "1": "Mountain-100 Black, 42",
                                    "2": "3374.9900"
                                },
                                {
                                    "0": "BK-M82B-44",
                                    "1": "Mountain-100 Black, 44",
                                    "2": "3374.9900"
                                },
                                {
                                    "0": "BK-M82B-48",
                                    "1": "Mountain-100 Black, 48",
                                    "2": "3374.9900"
                                },
                                {
                                    "0": "BK-M68S-38",
                                    "1": "Mountain-200 Silver, 38",
                                    "2": "2319.9900"
                                },
                                {
                                    "0": "BK-M68S-42",
                                    "1": "Mountain-200 Silver, 42",
                                    "2": "2319.9900"
                                },
                                {
                                    "0": "BK-M68S-46",
                                    "1": "Mountain-200 Silver, 46",
                                    "2": "2319.9900"
                                },
                                {
                                    "0": "BK-M68B-38",
                                    "1": "Mountain-200 Black, 38",
                                    "2": "2294.9900"
                                },
                                {
                                    "0": "BK-M68B-42",
                                    "1": "Mountain-200 Black, 42",
                                    "2": "2294.9900"
                                },
                                {
                                    "0": "BK-M68B-46",
                                    "1": "Mountain-200 Black, 46",
                                    "2": "2294.9900"
                                },
                                {
                                    "0": "BK-M47B-38",
                                    "1": "Mountain-300 Black, 38",
                                    "2": "1079.9900"
                                },
                                {
                                    "0": "BK-M47B-40",
                                    "1": "Mountain-300 Black, 40",
                                    "2": "1079.9900"
                                },
                                {
                                    "0": "BK-M47B-44",
                                    "1": "Mountain-300 Black, 44",
                                    "2": "1079.9900"
                                },
                                {
                                    "0": "BK-M47B-48",
                                    "1": "Mountain-300 Black, 48",
                                    "2": "1079.9900"
                                },
                                {
                                    "0": "BK-R89R-44",
                                    "1": "Road-250 Red, 44",
                                    "2": "2443.3500"
                                },
                                {
                                    "0": "BK-R89R-48",
                                    "1": "Road-250 Red, 48",
                                    "2": "2443.3500"
                                },
                                {
                                    "0": "BK-R89R-52",
                                    "1": "Road-250 Red, 52",
                                    "2": "2443.3500"
                                },
                                {
                                    "0": "BK-R89R-58",
                                    "1": "Road-250 Red, 58",
                                    "2": "2443.3500"
                                },
                                {
                                    "0": "BK-R89B-44",
                                    "1": "Road-250 Black, 44",
                                    "2": "2443.3500"
                                },
                                {
                                    "0": "BK-R89B-48",
                                    "1": "Road-250 Black, 48",
                                    "2": "2443.3500"
                                },
                                {
                                    "0": "BK-R89B-52",
                                    "1": "Road-250 Black, 52",
                                    "2": "2443.3500"
                                },
                                {
                                    "0": "BK-R89B-58",
                                    "1": "Road-250 Black, 58",
                                    "2": "2443.3500"
                                },
                                {
                                    "0": "BK-R64Y-38",
                                    "1": "Road-550-W Yellow, 38",
                                    "2": "1120.4900"
                                },
                                {
                                    "0": "BK-R64Y-40",
                                    "1": "Road-550-W Yellow, 40",
                                    "2": "1120.4900"
                                },
                                {
                                    "0": "BK-R64Y-42",
                                    "1": "Road-550-W Yellow, 42",
                                    "2": "1120.4900"
                                },
                                {
                                    "0": "BK-R64Y-44",
                                    "1": "Road-550-W Yellow, 44",
                                    "2": "1120.4900"
                                },
                                {
                                    "0": "BK-R64Y-48",
                                    "1": "Road-550-W Yellow, 48",
                                    "2": "1120.4900"
                                },
                                {
                                    "0": "BK-T44U-60",
                                    "1": "Touring-2000 Blue, 60",
                                    "2": "1214.8500"
                                },
                                {
                                    "0": "BK-T79Y-46",
                                    "1": "Touring-1000 Yellow, 46",
                                    "2": "2384.0700"
                                },
                                {
                                    "0": "BK-T79Y-50",
                                    "1": "Touring-1000 Yellow, 50",
                                    "2": "2384.0700"
                                },
                                {
                                    "0": "BK-T79Y-54",
                                    "1": "Touring-1000 Yellow, 54",
                                    "2": "2384.0700"
                                },
                                {
                                    "0": "BK-T79Y-60",
                                    "1": "Touring-1000 Yellow, 60",
                                    "2": "2384.0700"
                                },
                                {
                                    "0": "BK-T18U-54",
                                    "1": "Touring-3000 Blue, 54",
                                    "2": "742.3500"
                                },
                                {
                                    "0": "BK-T18U-58",
                                    "1": "Touring-3000 Blue, 58",
                                    "2": "742.3500"
                                },
                                {
                                    "0": "BK-T18U-62",
                                    "1": "Touring-3000 Blue, 62",
                                    "2": "742.3500"
                                },
                                {
                                    "0": "BK-T18Y-44",
                                    "1": "Touring-3000 Yellow, 44",
                                    "2": "742.3500"
                                },
                                {
                                    "0": "BK-T18Y-50",
                                    "1": "Touring-3000 Yellow, 50",
                                    "2": "742.3500"
                                },
                                {
                                    "0": "BK-T18Y-54",
                                    "1": "Touring-3000 Yellow, 54",
                                    "2": "742.3500"
                                },
                                {
                                    "0": "BK-T18Y-58",
                                    "1": "Touring-3000 Yellow, 58",
                                    "2": "742.3500"
                                },
                                {
                                    "0": "BK-T18Y-62",
                                    "1": "Touring-3000 Yellow, 62",
                                    "2": "742.3500"
                                },
                                {
                                    "0": "BK-T79U-46",
                                    "1": "Touring-1000 Blue, 46",
                                    "2": "2384.0700"
                                },
                                {
                                    "0": "BK-T79U-50",
                                    "1": "Touring-1000 Blue, 50",
                                    "2": "2384.0700"
                                },
                                {
                                    "0": "BK-T79U-54",
                                    "1": "Touring-1000 Blue, 54",
                                    "2": "2384.0700"
                                },
                                {
                                    "0": "BK-T79U-60",
                                    "1": "Touring-1000 Blue, 60",
                                    "2": "2384.0700"
                                },
                                {
                                    "0": "BK-T44U-46",
                                    "1": "Touring-2000 Blue, 46",
                                    "2": "1214.8500"
                                },
                                {
                                    "0": "BK-T44U-50",
                                    "1": "Touring-2000 Blue, 50",
                                    "2": "1214.8500"
                                },
                                {
                                    "0": "BK-T44U-54",
                                    "1": "Touring-2000 Blue, 54",
                                    "2": "1214.8500"
                                },
                                {
                                    "0": "BK-R79Y-40",
                                    "1": "Road-350-W Yellow, 40",
                                    "2": "1700.9900"
                                },
                                {
                                    "0": "BK-R79Y-42",
                                    "1": "Road-350-W Yellow, 42",
                                    "2": "1700.9900"
                                },
                                {
                                    "0": "BK-R79Y-44",
                                    "1": "Road-350-W Yellow, 44",
                                    "2": "1700.9900"
                                },
                                {
                                    "0": "BK-R79Y-48",
                                    "1": "Road-350-W Yellow, 48",
                                    "2": "1700.9900"
                                },
                                {
                                    "0": "BK-R19B-58",
                                    "1": "Road-750 Black, 58",
                                    "2": "539.9900"
                                },
                                {
                                    "0": "BK-T18U-44",
                                    "1": "Touring-3000 Blue, 44",
                                    "2": "742.3500"
                                },
                                {
                                    "0": "BK-T18U-50",
                                    "1": "Touring-3000 Blue, 50",
                                    "2": "742.3500"
                                },
                                {
                                    "0": "BK-M38S-38",
                                    "1": "Mountain-400-W Silver, 38",
                                    "2": "769.4900"
                                },
                                {
                                    "0": "BK-M38S-40",
                                    "1": "Mountain-400-W Silver, 40",
                                    "2": "769.4900"
                                },
                                {
                                    "0": "BK-M38S-42",
                                    "1": "Mountain-400-W Silver, 42",
                                    "2": "769.4900"
                                },
                                {
                                    "0": "BK-M38S-46",
                                    "1": "Mountain-400-W Silver, 46",
                                    "2": "769.4900"
                                },
                                {
                                    "0": "BK-M18S-40",
                                    "1": "Mountain-500 Silver, 40",
                                    "2": "564.9900"
                                },
                                {
                                    "0": "BK-M18S-42",
                                    "1": "Mountain-500 Silver, 42",
                                    "2": "564.9900"
                                },
                                {
                                    "0": "BK-M18S-44",
                                    "1": "Mountain-500 Silver, 44",
                                    "2": "564.9900"
                                },
                                {
                                    "0": "BK-M18S-48",
                                    "1": "Mountain-500 Silver, 48",
                                    "2": "564.9900"
                                },
                                {
                                    "0": "BK-M18S-52",
                                    "1": "Mountain-500 Silver, 52",
                                    "2": "564.9900"
                                },
                                {
                                    "0": "BK-M18B-40",
                                    "1": "Mountain-500 Black, 40",
                                    "2": "539.9900"
                                },
                                {
                                    "0": "BK-M18B-42",
                                    "1": "Mountain-500 Black, 42",
                                    "2": "539.9900"
                                },
                                {
                                    "0": "BK-M18B-44",
                                    "1": "Mountain-500 Black, 44",
                                    "2": "539.9900"
                                },
                                {
                                    "0": "BK-M18B-48",
                                    "1": "Mountain-500 Black, 48",
                                    "2": "539.9900"
                                },
                                {
                                    "0": "BK-M18B-52",
                                    "1": "Mountain-500 Black, 52",
                                    "2": "539.9900"
                                },
                                {
                                    "0": "BK-R19B-44",
                                    "1": "Road-750 Black, 44",
                                    "2": "539.9900"
                                },
                                {
                                    "0": "BK-R19B-48",
                                    "1": "Road-750 Black, 48",
                                    "2": "539.9900"
                                },
                                {
                                    "0": "BK-R19B-52",
                                    "1": "Road-750 Black, 52",
                                    "2": "539.9900"
                                }
                            ]
                        },
                        "text/html": "<table><tr><th>ProductNumber</th><th>Name</th><th>ListPrice</th></tr><tr><td>BK-R93R-62</td><td>Road-150 Red, 62</td><td>3578.2700</td></tr><tr><td>BK-R93R-44</td><td>Road-150 Red, 44</td><td>3578.2700</td></tr><tr><td>BK-R93R-48</td><td>Road-150 Red, 48</td><td>3578.2700</td></tr><tr><td>BK-R93R-52</td><td>Road-150 Red, 52</td><td>3578.2700</td></tr><tr><td>BK-R93R-56</td><td>Road-150 Red, 56</td><td>3578.2700</td></tr><tr><td>BK-R68R-58</td><td>Road-450 Red, 58</td><td>1457.9900</td></tr><tr><td>BK-R68R-60</td><td>Road-450 Red, 60</td><td>1457.9900</td></tr><tr><td>BK-R68R-44</td><td>Road-450 Red, 44</td><td>1457.9900</td></tr><tr><td>BK-R68R-48</td><td>Road-450 Red, 48</td><td>1457.9900</td></tr><tr><td>BK-R68R-52</td><td>Road-450 Red, 52</td><td>1457.9900</td></tr><tr><td>BK-R50R-58</td><td>Road-650 Red, 58</td><td>782.9900</td></tr><tr><td>BK-R50R-60</td><td>Road-650 Red, 60</td><td>782.9900</td></tr><tr><td>BK-R50R-62</td><td>Road-650 Red, 62</td><td>782.9900</td></tr><tr><td>BK-R50R-44</td><td>Road-650 Red, 44</td><td>782.9900</td></tr><tr><td>BK-R50R-48</td><td>Road-650 Red, 48</td><td>782.9900</td></tr><tr><td>BK-R50R-52</td><td>Road-650 Red, 52</td><td>782.9900</td></tr><tr><td>BK-R50B-58</td><td>Road-650 Black, 58</td><td>782.9900</td></tr><tr><td>BK-R50B-60</td><td>Road-650 Black, 60</td><td>782.9900</td></tr><tr><td>BK-R50B-62</td><td>Road-650 Black, 62</td><td>782.9900</td></tr><tr><td>BK-R50B-44</td><td>Road-650 Black, 44</td><td>782.9900</td></tr><tr><td>BK-R50B-48</td><td>Road-650 Black, 48</td><td>782.9900</td></tr><tr><td>BK-R50B-52</td><td>Road-650 Black, 52</td><td>782.9900</td></tr><tr><td>BK-M82S-38</td><td>Mountain-100 Silver, 38</td><td>3399.9900</td></tr><tr><td>BK-M82S-42</td><td>Mountain-100 Silver, 42</td><td>3399.9900</td></tr><tr><td>BK-M82S-44</td><td>Mountain-100 Silver, 44</td><td>3399.9900</td></tr><tr><td>BK-M82S-48</td><td>Mountain-100 Silver, 48</td><td>3399.9900</td></tr><tr><td>BK-M82B-38</td><td>Mountain-100 Black, 38</td><td>3374.9900</td></tr><tr><td>BK-M82B-42</td><td>Mountain-100 Black, 42</td><td>3374.9900</td></tr><tr><td>BK-M82B-44</td><td>Mountain-100 Black, 44</td><td>3374.9900</td></tr><tr><td>BK-M82B-48</td><td>Mountain-100 Black, 48</td><td>3374.9900</td></tr><tr><td>BK-M68S-38</td><td>Mountain-200 Silver, 38</td><td>2319.9900</td></tr><tr><td>BK-M68S-42</td><td>Mountain-200 Silver, 42</td><td>2319.9900</td></tr><tr><td>BK-M68S-46</td><td>Mountain-200 Silver, 46</td><td>2319.9900</td></tr><tr><td>BK-M68B-38</td><td>Mountain-200 Black, 38</td><td>2294.9900</td></tr><tr><td>BK-M68B-42</td><td>Mountain-200 Black, 42</td><td>2294.9900</td></tr><tr><td>BK-M68B-46</td><td>Mountain-200 Black, 46</td><td>2294.9900</td></tr><tr><td>BK-M47B-38</td><td>Mountain-300 Black, 38</td><td>1079.9900</td></tr><tr><td>BK-M47B-40</td><td>Mountain-300 Black, 40</td><td>1079.9900</td></tr><tr><td>BK-M47B-44</td><td>Mountain-300 Black, 44</td><td>1079.9900</td></tr><tr><td>BK-M47B-48</td><td>Mountain-300 Black, 48</td><td>1079.9900</td></tr><tr><td>BK-R89R-44</td><td>Road-250 Red, 44</td><td>2443.3500</td></tr><tr><td>BK-R89R-48</td><td>Road-250 Red, 48</td><td>2443.3500</td></tr><tr><td>BK-R89R-52</td><td>Road-250 Red, 52</td><td>2443.3500</td></tr><tr><td>BK-R89R-58</td><td>Road-250 Red, 58</td><td>2443.3500</td></tr><tr><td>BK-R89B-44</td><td>Road-250 Black, 44</td><td>2443.3500</td></tr><tr><td>BK-R89B-48</td><td>Road-250 Black, 48</td><td>2443.3500</td></tr><tr><td>BK-R89B-52</td><td>Road-250 Black, 52</td><td>2443.3500</td></tr><tr><td>BK-R89B-58</td><td>Road-250 Black, 58</td><td>2443.3500</td></tr><tr><td>BK-R64Y-38</td><td>Road-550-W Yellow, 38</td><td>1120.4900</td></tr><tr><td>BK-R64Y-40</td><td>Road-550-W Yellow, 40</td><td>1120.4900</td></tr><tr><td>BK-R64Y-42</td><td>Road-550-W Yellow, 42</td><td>1120.4900</td></tr><tr><td>BK-R64Y-44</td><td>Road-550-W Yellow, 44</td><td>1120.4900</td></tr><tr><td>BK-R64Y-48</td><td>Road-550-W Yellow, 48</td><td>1120.4900</td></tr><tr><td>BK-T44U-60</td><td>Touring-2000 Blue, 60</td><td>1214.8500</td></tr><tr><td>BK-T79Y-46</td><td>Touring-1000 Yellow, 46</td><td>2384.0700</td></tr><tr><td>BK-T79Y-50</td><td>Touring-1000 Yellow, 50</td><td>2384.0700</td></tr><tr><td>BK-T79Y-54</td><td>Touring-1000 Yellow, 54</td><td>2384.0700</td></tr><tr><td>BK-T79Y-60</td><td>Touring-1000 Yellow, 60</td><td>2384.0700</td></tr><tr><td>BK-T18U-54</td><td>Touring-3000 Blue, 54</td><td>742.3500</td></tr><tr><td>BK-T18U-58</td><td>Touring-3000 Blue, 58</td><td>742.3500</td></tr><tr><td>BK-T18U-62</td><td>Touring-3000 Blue, 62</td><td>742.3500</td></tr><tr><td>BK-T18Y-44</td><td>Touring-3000 Yellow, 44</td><td>742.3500</td></tr><tr><td>BK-T18Y-50</td><td>Touring-3000 Yellow, 50</td><td>742.3500</td></tr><tr><td>BK-T18Y-54</td><td>Touring-3000 Yellow, 54</td><td>742.3500</td></tr><tr><td>BK-T18Y-58</td><td>Touring-3000 Yellow, 58</td><td>742.3500</td></tr><tr><td>BK-T18Y-62</td><td>Touring-3000 Yellow, 62</td><td>742.3500</td></tr><tr><td>BK-T79U-46</td><td>Touring-1000 Blue, 46</td><td>2384.0700</td></tr><tr><td>BK-T79U-50</td><td>Touring-1000 Blue, 50</td><td>2384.0700</td></tr><tr><td>BK-T79U-54</td><td>Touring-1000 Blue, 54</td><td>2384.0700</td></tr><tr><td>BK-T79U-60</td><td>Touring-1000 Blue, 60</td><td>2384.0700</td></tr><tr><td>BK-T44U-46</td><td>Touring-2000 Blue, 46</td><td>1214.8500</td></tr><tr><td>BK-T44U-50</td><td>Touring-2000 Blue, 50</td><td>1214.8500</td></tr><tr><td>BK-T44U-54</td><td>Touring-2000 Blue, 54</td><td>1214.8500</td></tr><tr><td>BK-R79Y-40</td><td>Road-350-W Yellow, 40</td><td>1700.9900</td></tr><tr><td>BK-R79Y-42</td><td>Road-350-W Yellow, 42</td><td>1700.9900</td></tr><tr><td>BK-R79Y-44</td><td>Road-350-W Yellow, 44</td><td>1700.9900</td></tr><tr><td>BK-R79Y-48</td><td>Road-350-W Yellow, 48</td><td>1700.9900</td></tr><tr><td>BK-R19B-58</td><td>Road-750 Black, 58</td><td>539.9900</td></tr><tr><td>BK-T18U-44</td><td>Touring-3000 Blue, 44</td><td>742.3500</td></tr><tr><td>BK-T18U-50</td><td>Touring-3000 Blue, 50</td><td>742.3500</td></tr><tr><td>BK-M38S-38</td><td>Mountain-400-W Silver, 38</td><td>769.4900</td></tr><tr><td>BK-M38S-40</td><td>Mountain-400-W Silver, 40</td><td>769.4900</td></tr><tr><td>BK-M38S-42</td><td>Mountain-400-W Silver, 42</td><td>769.4900</td></tr><tr><td>BK-M38S-46</td><td>Mountain-400-W Silver, 46</td><td>769.4900</td></tr><tr><td>BK-M18S-40</td><td>Mountain-500 Silver, 40</td><td>564.9900</td></tr><tr><td>BK-M18S-42</td><td>Mountain-500 Silver, 42</td><td>564.9900</td></tr><tr><td>BK-M18S-44</td><td>Mountain-500 Silver, 44</td><td>564.9900</td></tr><tr><td>BK-M18S-48</td><td>Mountain-500 Silver, 48</td><td>564.9900</td></tr><tr><td>BK-M18S-52</td><td>Mountain-500 Silver, 52</td><td>564.9900</td></tr><tr><td>BK-M18B-40</td><td>Mountain-500 Black, 40</td><td>539.9900</td></tr><tr><td>BK-M18B-42</td><td>Mountain-500 Black, 42</td><td>539.9900</td></tr><tr><td>BK-M18B-44</td><td>Mountain-500 Black, 44</td><td>539.9900</td></tr><tr><td>BK-M18B-48</td><td>Mountain-500 Black, 48</td><td>539.9900</td></tr><tr><td>BK-M18B-52</td><td>Mountain-500 Black, 52</td><td>539.9900</td></tr><tr><td>BK-R19B-44</td><td>Road-750 Black, 44</td><td>539.9900</td></tr><tr><td>BK-R19B-48</td><td>Road-750 Black, 48</td><td>539.9900</td></tr><tr><td>BK-R19B-52</td><td>Road-750 Black, 52</td><td>539.9900</td></tr></table>"
                    },
                    "metadata": {}
                }
            ],
            "execution_count": 10
        },
        {
            "cell_type": "markdown",
            "source": [
                "**4\\.** Retrieve specific products by product number Modify your previous query to retrieve the product number, name, and list price of products whose product number begins 'BK-' followed by any character other than 'R’, and ends with a '-' followed by any two numerals."
            ],
            "metadata": {
                "azdata_cell_guid": "94c84609-413d-4b51-8f34-eee9157c4a0e"
            },
            "attachments": {}
        },
        {
            "cell_type": "code",
            "source": [
                "SELECT ProductNumber, Name, ListPrice \r\n",
                "FROM Product\r\n",
                "WHERE ProductNumber LIKE 'BK-[^R]%-[0-9][0-9]';"
            ],
            "metadata": {
                "azdata_cell_guid": "df16351b-1e05-4073-bdd9-8365374167b7"
            },
            "outputs": [
                {
                    "output_type": "display_data",
                    "data": {
                        "text/html": "(54 rows affected)"
                    },
                    "metadata": {}
                },
                {
                    "output_type": "display_data",
                    "data": {
                        "text/html": "Total execution time: 00:00:00.092"
                    },
                    "metadata": {}
                },
                {
                    "output_type": "execute_result",
                    "execution_count": 14,
                    "data": {
                        "application/vnd.dataresource+json": {
                            "schema": {
                                "fields": [
                                    {
                                        "name": "ProductNumber"
                                    },
                                    {
                                        "name": "Name"
                                    },
                                    {
                                        "name": "ListPrice"
                                    }
                                ]
                            },
                            "data": [
                                {
                                    "0": "BK-M82S-38",
                                    "1": "Mountain-100 Silver, 38",
                                    "2": "3399.9900"
                                },
                                {
                                    "0": "BK-M82S-42",
                                    "1": "Mountain-100 Silver, 42",
                                    "2": "3399.9900"
                                },
                                {
                                    "0": "BK-M82S-44",
                                    "1": "Mountain-100 Silver, 44",
                                    "2": "3399.9900"
                                },
                                {
                                    "0": "BK-M82S-48",
                                    "1": "Mountain-100 Silver, 48",
                                    "2": "3399.9900"
                                },
                                {
                                    "0": "BK-M82B-38",
                                    "1": "Mountain-100 Black, 38",
                                    "2": "3374.9900"
                                },
                                {
                                    "0": "BK-M82B-42",
                                    "1": "Mountain-100 Black, 42",
                                    "2": "3374.9900"
                                },
                                {
                                    "0": "BK-M82B-44",
                                    "1": "Mountain-100 Black, 44",
                                    "2": "3374.9900"
                                },
                                {
                                    "0": "BK-M82B-48",
                                    "1": "Mountain-100 Black, 48",
                                    "2": "3374.9900"
                                },
                                {
                                    "0": "BK-M68S-38",
                                    "1": "Mountain-200 Silver, 38",
                                    "2": "2319.9900"
                                },
                                {
                                    "0": "BK-M68S-42",
                                    "1": "Mountain-200 Silver, 42",
                                    "2": "2319.9900"
                                },
                                {
                                    "0": "BK-M68S-46",
                                    "1": "Mountain-200 Silver, 46",
                                    "2": "2319.9900"
                                },
                                {
                                    "0": "BK-M68B-38",
                                    "1": "Mountain-200 Black, 38",
                                    "2": "2294.9900"
                                },
                                {
                                    "0": "BK-M68B-42",
                                    "1": "Mountain-200 Black, 42",
                                    "2": "2294.9900"
                                },
                                {
                                    "0": "BK-M68B-46",
                                    "1": "Mountain-200 Black, 46",
                                    "2": "2294.9900"
                                },
                                {
                                    "0": "BK-M47B-38",
                                    "1": "Mountain-300 Black, 38",
                                    "2": "1079.9900"
                                },
                                {
                                    "0": "BK-M47B-40",
                                    "1": "Mountain-300 Black, 40",
                                    "2": "1079.9900"
                                },
                                {
                                    "0": "BK-M47B-44",
                                    "1": "Mountain-300 Black, 44",
                                    "2": "1079.9900"
                                },
                                {
                                    "0": "BK-M47B-48",
                                    "1": "Mountain-300 Black, 48",
                                    "2": "1079.9900"
                                },
                                {
                                    "0": "BK-T44U-60",
                                    "1": "Touring-2000 Blue, 60",
                                    "2": "1214.8500"
                                },
                                {
                                    "0": "BK-T79Y-46",
                                    "1": "Touring-1000 Yellow, 46",
                                    "2": "2384.0700"
                                },
                                {
                                    "0": "BK-T79Y-50",
                                    "1": "Touring-1000 Yellow, 50",
                                    "2": "2384.0700"
                                },
                                {
                                    "0": "BK-T79Y-54",
                                    "1": "Touring-1000 Yellow, 54",
                                    "2": "2384.0700"
                                },
                                {
                                    "0": "BK-T79Y-60",
                                    "1": "Touring-1000 Yellow, 60",
                                    "2": "2384.0700"
                                },
                                {
                                    "0": "BK-T18U-54",
                                    "1": "Touring-3000 Blue, 54",
                                    "2": "742.3500"
                                },
                                {
                                    "0": "BK-T18U-58",
                                    "1": "Touring-3000 Blue, 58",
                                    "2": "742.3500"
                                },
                                {
                                    "0": "BK-T18U-62",
                                    "1": "Touring-3000 Blue, 62",
                                    "2": "742.3500"
                                },
                                {
                                    "0": "BK-T18Y-44",
                                    "1": "Touring-3000 Yellow, 44",
                                    "2": "742.3500"
                                },
                                {
                                    "0": "BK-T18Y-50",
                                    "1": "Touring-3000 Yellow, 50",
                                    "2": "742.3500"
                                },
                                {
                                    "0": "BK-T18Y-54",
                                    "1": "Touring-3000 Yellow, 54",
                                    "2": "742.3500"
                                },
                                {
                                    "0": "BK-T18Y-58",
                                    "1": "Touring-3000 Yellow, 58",
                                    "2": "742.3500"
                                },
                                {
                                    "0": "BK-T18Y-62",
                                    "1": "Touring-3000 Yellow, 62",
                                    "2": "742.3500"
                                },
                                {
                                    "0": "BK-T79U-46",
                                    "1": "Touring-1000 Blue, 46",
                                    "2": "2384.0700"
                                },
                                {
                                    "0": "BK-T79U-50",
                                    "1": "Touring-1000 Blue, 50",
                                    "2": "2384.0700"
                                },
                                {
                                    "0": "BK-T79U-54",
                                    "1": "Touring-1000 Blue, 54",
                                    "2": "2384.0700"
                                },
                                {
                                    "0": "BK-T79U-60",
                                    "1": "Touring-1000 Blue, 60",
                                    "2": "2384.0700"
                                },
                                {
                                    "0": "BK-T44U-46",
                                    "1": "Touring-2000 Blue, 46",
                                    "2": "1214.8500"
                                },
                                {
                                    "0": "BK-T44U-50",
                                    "1": "Touring-2000 Blue, 50",
                                    "2": "1214.8500"
                                },
                                {
                                    "0": "BK-T44U-54",
                                    "1": "Touring-2000 Blue, 54",
                                    "2": "1214.8500"
                                },
                                {
                                    "0": "BK-T18U-44",
                                    "1": "Touring-3000 Blue, 44",
                                    "2": "742.3500"
                                },
                                {
                                    "0": "BK-T18U-50",
                                    "1": "Touring-3000 Blue, 50",
                                    "2": "742.3500"
                                },
                                {
                                    "0": "BK-M38S-38",
                                    "1": "Mountain-400-W Silver, 38",
                                    "2": "769.4900"
                                },
                                {
                                    "0": "BK-M38S-40",
                                    "1": "Mountain-400-W Silver, 40",
                                    "2": "769.4900"
                                },
                                {
                                    "0": "BK-M38S-42",
                                    "1": "Mountain-400-W Silver, 42",
                                    "2": "769.4900"
                                },
                                {
                                    "0": "BK-M38S-46",
                                    "1": "Mountain-400-W Silver, 46",
                                    "2": "769.4900"
                                },
                                {
                                    "0": "BK-M18S-40",
                                    "1": "Mountain-500 Silver, 40",
                                    "2": "564.9900"
                                },
                                {
                                    "0": "BK-M18S-42",
                                    "1": "Mountain-500 Silver, 42",
                                    "2": "564.9900"
                                },
                                {
                                    "0": "BK-M18S-44",
                                    "1": "Mountain-500 Silver, 44",
                                    "2": "564.9900"
                                },
                                {
                                    "0": "BK-M18S-48",
                                    "1": "Mountain-500 Silver, 48",
                                    "2": "564.9900"
                                },
                                {
                                    "0": "BK-M18S-52",
                                    "1": "Mountain-500 Silver, 52",
                                    "2": "564.9900"
                                },
                                {
                                    "0": "BK-M18B-40",
                                    "1": "Mountain-500 Black, 40",
                                    "2": "539.9900"
                                },
                                {
                                    "0": "BK-M18B-42",
                                    "1": "Mountain-500 Black, 42",
                                    "2": "539.9900"
                                },
                                {
                                    "0": "BK-M18B-44",
                                    "1": "Mountain-500 Black, 44",
                                    "2": "539.9900"
                                },
                                {
                                    "0": "BK-M18B-48",
                                    "1": "Mountain-500 Black, 48",
                                    "2": "539.9900"
                                },
                                {
                                    "0": "BK-M18B-52",
                                    "1": "Mountain-500 Black, 52",
                                    "2": "539.9900"
                                }
                            ]
                        },
                        "text/html": "<table><tr><th>ProductNumber</th><th>Name</th><th>ListPrice</th></tr><tr><td>BK-M82S-38</td><td>Mountain-100 Silver, 38</td><td>3399.9900</td></tr><tr><td>BK-M82S-42</td><td>Mountain-100 Silver, 42</td><td>3399.9900</td></tr><tr><td>BK-M82S-44</td><td>Mountain-100 Silver, 44</td><td>3399.9900</td></tr><tr><td>BK-M82S-48</td><td>Mountain-100 Silver, 48</td><td>3399.9900</td></tr><tr><td>BK-M82B-38</td><td>Mountain-100 Black, 38</td><td>3374.9900</td></tr><tr><td>BK-M82B-42</td><td>Mountain-100 Black, 42</td><td>3374.9900</td></tr><tr><td>BK-M82B-44</td><td>Mountain-100 Black, 44</td><td>3374.9900</td></tr><tr><td>BK-M82B-48</td><td>Mountain-100 Black, 48</td><td>3374.9900</td></tr><tr><td>BK-M68S-38</td><td>Mountain-200 Silver, 38</td><td>2319.9900</td></tr><tr><td>BK-M68S-42</td><td>Mountain-200 Silver, 42</td><td>2319.9900</td></tr><tr><td>BK-M68S-46</td><td>Mountain-200 Silver, 46</td><td>2319.9900</td></tr><tr><td>BK-M68B-38</td><td>Mountain-200 Black, 38</td><td>2294.9900</td></tr><tr><td>BK-M68B-42</td><td>Mountain-200 Black, 42</td><td>2294.9900</td></tr><tr><td>BK-M68B-46</td><td>Mountain-200 Black, 46</td><td>2294.9900</td></tr><tr><td>BK-M47B-38</td><td>Mountain-300 Black, 38</td><td>1079.9900</td></tr><tr><td>BK-M47B-40</td><td>Mountain-300 Black, 40</td><td>1079.9900</td></tr><tr><td>BK-M47B-44</td><td>Mountain-300 Black, 44</td><td>1079.9900</td></tr><tr><td>BK-M47B-48</td><td>Mountain-300 Black, 48</td><td>1079.9900</td></tr><tr><td>BK-T44U-60</td><td>Touring-2000 Blue, 60</td><td>1214.8500</td></tr><tr><td>BK-T79Y-46</td><td>Touring-1000 Yellow, 46</td><td>2384.0700</td></tr><tr><td>BK-T79Y-50</td><td>Touring-1000 Yellow, 50</td><td>2384.0700</td></tr><tr><td>BK-T79Y-54</td><td>Touring-1000 Yellow, 54</td><td>2384.0700</td></tr><tr><td>BK-T79Y-60</td><td>Touring-1000 Yellow, 60</td><td>2384.0700</td></tr><tr><td>BK-T18U-54</td><td>Touring-3000 Blue, 54</td><td>742.3500</td></tr><tr><td>BK-T18U-58</td><td>Touring-3000 Blue, 58</td><td>742.3500</td></tr><tr><td>BK-T18U-62</td><td>Touring-3000 Blue, 62</td><td>742.3500</td></tr><tr><td>BK-T18Y-44</td><td>Touring-3000 Yellow, 44</td><td>742.3500</td></tr><tr><td>BK-T18Y-50</td><td>Touring-3000 Yellow, 50</td><td>742.3500</td></tr><tr><td>BK-T18Y-54</td><td>Touring-3000 Yellow, 54</td><td>742.3500</td></tr><tr><td>BK-T18Y-58</td><td>Touring-3000 Yellow, 58</td><td>742.3500</td></tr><tr><td>BK-T18Y-62</td><td>Touring-3000 Yellow, 62</td><td>742.3500</td></tr><tr><td>BK-T79U-46</td><td>Touring-1000 Blue, 46</td><td>2384.0700</td></tr><tr><td>BK-T79U-50</td><td>Touring-1000 Blue, 50</td><td>2384.0700</td></tr><tr><td>BK-T79U-54</td><td>Touring-1000 Blue, 54</td><td>2384.0700</td></tr><tr><td>BK-T79U-60</td><td>Touring-1000 Blue, 60</td><td>2384.0700</td></tr><tr><td>BK-T44U-46</td><td>Touring-2000 Blue, 46</td><td>1214.8500</td></tr><tr><td>BK-T44U-50</td><td>Touring-2000 Blue, 50</td><td>1214.8500</td></tr><tr><td>BK-T44U-54</td><td>Touring-2000 Blue, 54</td><td>1214.8500</td></tr><tr><td>BK-T18U-44</td><td>Touring-3000 Blue, 44</td><td>742.3500</td></tr><tr><td>BK-T18U-50</td><td>Touring-3000 Blue, 50</td><td>742.3500</td></tr><tr><td>BK-M38S-38</td><td>Mountain-400-W Silver, 38</td><td>769.4900</td></tr><tr><td>BK-M38S-40</td><td>Mountain-400-W Silver, 40</td><td>769.4900</td></tr><tr><td>BK-M38S-42</td><td>Mountain-400-W Silver, 42</td><td>769.4900</td></tr><tr><td>BK-M38S-46</td><td>Mountain-400-W Silver, 46</td><td>769.4900</td></tr><tr><td>BK-M18S-40</td><td>Mountain-500 Silver, 40</td><td>564.9900</td></tr><tr><td>BK-M18S-42</td><td>Mountain-500 Silver, 42</td><td>564.9900</td></tr><tr><td>BK-M18S-44</td><td>Mountain-500 Silver, 44</td><td>564.9900</td></tr><tr><td>BK-M18S-48</td><td>Mountain-500 Silver, 48</td><td>564.9900</td></tr><tr><td>BK-M18S-52</td><td>Mountain-500 Silver, 52</td><td>564.9900</td></tr><tr><td>BK-M18B-40</td><td>Mountain-500 Black, 40</td><td>539.9900</td></tr><tr><td>BK-M18B-42</td><td>Mountain-500 Black, 42</td><td>539.9900</td></tr><tr><td>BK-M18B-44</td><td>Mountain-500 Black, 44</td><td>539.9900</td></tr><tr><td>BK-M18B-48</td><td>Mountain-500 Black, 48</td><td>539.9900</td></tr><tr><td>BK-M18B-52</td><td>Mountain-500 Black, 52</td><td>539.9900</td></tr></table>"
                    },
                    "metadata": {}
                }
            ],
            "execution_count": 14
        }
    ]
}